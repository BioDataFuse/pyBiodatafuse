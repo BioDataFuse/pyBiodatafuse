{
 "cells": [
  {
   "cell_type": "code",
   "execution_count": 1,
   "metadata": {},
   "outputs": [
    {
     "name": "stderr",
     "output_type": "stream",
     "text": [
      "/Users/yojana/.pyenv/versions/3.9.17/lib/python3.9/site-packages/pydantic/_internal/_config.py:322: UserWarning: Valid config keys have changed in V2:\n",
      "* 'underscore_attrs_are_private' has been removed\n",
      "  warnings.warn(message, UserWarning)\n"
     ]
    }
   ],
   "source": [
    "import pandas as pd\n",
    "from bioregistry import get_iri, normalize_curie\n",
    "from rdflib import Graph, URIRef, Literal, Namespace, BNode\n",
    "from rdflib.namespace import RDF, RDFS, XSD, SKOS, FOAF"
   ]
  },
  {
   "cell_type": "code",
   "execution_count": 2,
   "metadata": {},
   "outputs": [],
   "source": [
    "import io\n",
    "import pydotplus\n",
    "from IPython.display import display, Image\n",
    "from rdflib.tools.rdf2dot import rdf2dot\n",
    "\n",
    "\n",
    "def visualize(g):\n",
    "    stream = io.StringIO()\n",
    "    rdf2dot(g, stream, opts={display})\n",
    "    dg = pydotplus.graph_from_dot_data(stream.getvalue())\n",
    "    png = dg.create_png()\n",
    "    display(Image(png))"
   ]
  },
  {
   "cell_type": "code",
   "execution_count": 3,
   "metadata": {},
   "outputs": [
    {
     "data": {
      "text/html": [
       "<div>\n",
       "<style scoped>\n",
       "    .dataframe tbody tr th:only-of-type {\n",
       "        vertical-align: middle;\n",
       "    }\n",
       "\n",
       "    .dataframe tbody tr th {\n",
       "        vertical-align: top;\n",
       "    }\n",
       "\n",
       "    .dataframe thead th {\n",
       "        text-align: right;\n",
       "    }\n",
       "</style>\n",
       "<table border=\"1\" class=\"dataframe\">\n",
       "  <thead>\n",
       "    <tr style=\"text-align: right;\">\n",
       "      <th></th>\n",
       "      <th>identifier</th>\n",
       "      <th>identifier.source</th>\n",
       "      <th>target</th>\n",
       "      <th>target.source</th>\n",
       "      <th>Bgee</th>\n",
       "      <th>DisGeNET</th>\n",
       "    </tr>\n",
       "  </thead>\n",
       "  <tbody>\n",
       "    <tr>\n",
       "      <th>0</th>\n",
       "      <td>AHR</td>\n",
       "      <td>HGNC</td>\n",
       "      <td>ENSG00000106546</td>\n",
       "      <td>Ensembl</td>\n",
       "      <td>[{'anatomical_entity_id': 'UBERON_0000178', 'a...</td>\n",
       "      <td>[{'disease_id': 'umls:C2350344', 'disease_name...</td>\n",
       "    </tr>\n",
       "    <tr>\n",
       "      <th>1</th>\n",
       "      <td>ALG14</td>\n",
       "      <td>HGNC</td>\n",
       "      <td>ENSG00000172339</td>\n",
       "      <td>Ensembl</td>\n",
       "      <td>[{'anatomical_entity_id': 'UBERON_0000178', 'a...</td>\n",
       "      <td>[{'disease_id': 'umls:C0751882', 'disease_name...</td>\n",
       "    </tr>\n",
       "  </tbody>\n",
       "</table>\n",
       "</div>"
      ],
      "text/plain": [
       "  identifier identifier.source           target target.source  \\\n",
       "0        AHR              HGNC  ENSG00000106546       Ensembl   \n",
       "1      ALG14              HGNC  ENSG00000172339       Ensembl   \n",
       "\n",
       "                                                Bgee  \\\n",
       "0  [{'anatomical_entity_id': 'UBERON_0000178', 'a...   \n",
       "1  [{'anatomical_entity_id': 'UBERON_0000178', 'a...   \n",
       "\n",
       "                                            DisGeNET  \n",
       "0  [{'disease_id': 'umls:C2350344', 'disease_name...  \n",
       "1  [{'disease_id': 'umls:C0751882', 'disease_name...  "
      ]
     },
     "execution_count": 3,
     "metadata": {},
     "output_type": "execute_result"
    }
   ],
   "source": [
    "df = pd.read_pickle(\"../examples/combined_df.pkl\")\n",
    "df = df[[\"identifier\", \"identifier.source\", \"target\", \"target.source\", \"Bgee\", \"DisGeNET\"]]\n",
    "df.dropna(inplace=True)\n",
    "df.head(2)"
   ]
  },
  {
   "cell_type": "code",
   "execution_count": 4,
   "metadata": {},
   "outputs": [],
   "source": [
    "play_df = pd.DataFrame(df.iloc[36]).T"
   ]
  },
  {
   "cell_type": "code",
   "execution_count": 5,
   "metadata": {},
   "outputs": [
    {
     "data": {
      "text/html": [
       "<div>\n",
       "<style scoped>\n",
       "    .dataframe tbody tr th:only-of-type {\n",
       "        vertical-align: middle;\n",
       "    }\n",
       "\n",
       "    .dataframe tbody tr th {\n",
       "        vertical-align: top;\n",
       "    }\n",
       "\n",
       "    .dataframe thead th {\n",
       "        text-align: right;\n",
       "    }\n",
       "</style>\n",
       "<table border=\"1\" class=\"dataframe\">\n",
       "  <thead>\n",
       "    <tr style=\"text-align: right;\">\n",
       "      <th></th>\n",
       "      <th>identifier</th>\n",
       "      <th>identifier.source</th>\n",
       "      <th>target</th>\n",
       "      <th>target.source</th>\n",
       "      <th>Bgee</th>\n",
       "      <th>DisGeNET</th>\n",
       "    </tr>\n",
       "  </thead>\n",
       "  <tbody>\n",
       "    <tr>\n",
       "      <th>36</th>\n",
       "      <td>VAMP1</td>\n",
       "      <td>HGNC</td>\n",
       "      <td>ENSG00000139190</td>\n",
       "      <td>Ensembl</td>\n",
       "      <td>[{'anatomical_entity_id': 'UBERON_0000178', 'a...</td>\n",
       "      <td>[{'disease_id': 'umls:C0751882', 'disease_name...</td>\n",
       "    </tr>\n",
       "  </tbody>\n",
       "</table>\n",
       "</div>"
      ],
      "text/plain": [
       "   identifier identifier.source           target target.source  \\\n",
       "36      VAMP1              HGNC  ENSG00000139190       Ensembl   \n",
       "\n",
       "                                                 Bgee  \\\n",
       "36  [{'anatomical_entity_id': 'UBERON_0000178', 'a...   \n",
       "\n",
       "                                             DisGeNET  \n",
       "36  [{'disease_id': 'umls:C0751882', 'disease_name...  "
      ]
     },
     "execution_count": 5,
     "metadata": {},
     "output_type": "execute_result"
    }
   ],
   "source": [
    "play_df"
   ]
  },
  {
   "cell_type": "code",
   "execution_count": 11,
   "metadata": {},
   "outputs": [],
   "source": [
    "# Namespaces\n",
    "SIO = Namespace(\"http://semanticscience.org/resource/\")\n",
    "HGNC = Namespace(\"http://bio2rdf.org/hgnc:\")\n",
    "OBO = Namespace(\"http://purl.obolibrary.org/obo/\")\n",
    "UMLS = Namespace(\"http://linkedlifedata.com/resource/umls/id/\")\n",
    "ENSEMBL = Namespace(\"https://identifiers.org/ensembl:\")\n",
    "\n",
    "# Create an RDF graph\n",
    "g = Graph()\n",
    "g.bind(\"foaf\", FOAF)\n",
    "g.bind(\"skos\", SKOS)\n",
    "g.bind(\"sio\", SIO)\n",
    "\n",
    "for data_row in play_df.values:\n",
    "    (\n",
    "        source_idx,\n",
    "        source_namespace,\n",
    "        target_idx,\n",
    "        target_namespace,\n",
    "        bgee_expression_data,\n",
    "        digenet_disease_data,\n",
    "    ) = data_row\n",
    "\n",
    "    # Add base nodes\n",
    "    disease_base_node = URIRef(\"http://purl.obolibrary.org/obo/NCIT_C7057\")  # DiseaseOrDisoroder\n",
    "    gene_disease_association = URIRef(\n",
    "        \"http://semanticscience.org/resource/SIO_000983\"\n",
    "    )  # GeneDiseaseAssociation\n",
    "    gene_base_node = URIRef(\"http://purl.obolibrary.org/obo/NCIT_C16612\")  # Gene\n",
    "    gene_symbol_base_node = URIRef(\"http://purl.obolibrary.org/obo/NCIT_C43568\")  # GeneSymbol\n",
    "    source_base_node = URIRef(\"http://www.w3.org/ns/dcat#Dataset\")  # Source\n",
    "    data_source_base_node = URIRef(\"http://purl.obolibrary.org/obo/SLSO_0001122\")  # DataSource\n",
    "    score_base_node = URIRef(\"http://purl.obolibrary.org/obo/NCIT_C25338\")  # Score\n",
    "\n",
    "    # Add metadata\n",
    "    # gene_node = URIRef(get_iri(f\"{source_namespace}:{source_idx}\"))\n",
    "    # g.add((gene_base_node, RDFS.label, gene_node))\n",
    "    # g.add((gene_node, RDFS.label, Literal(source_idx, datatype=XSD.string)))\n",
    "\n",
    "    # Define URIs for nodes\n",
    "    gene_ensembl_uri = ENSEMBL[target_idx]  # URI\n",
    "    g.add((gene_base_node, SKOS.exactMatch, gene_ensembl_uri))\n",
    "\n",
    "    gene_symbol_uri = HGNC[source_idx]  # URI\n",
    "    g.add((gene_symbol_base_node, SKOS.exactMatch, gene_symbol_uri))\n",
    "    g.add((gene_base_node, SIO.is_represented_by, gene_symbol_base_node))\n",
    "\n",
    "    for data in digenet_disease_data:\n",
    "        g.add((gene_disease_association, SIO.refers_to, gene_base_node))\n",
    "        g.add((gene_disease_association, SIO.refers_to, disease_base_node))\n",
    "\n",
    "        disease_node = URIRef(get_iri(data[\"disease_id\"]))\n",
    "        g.add((disease_base_node, RDFS.label, Literal(data[\"disease_name\"], datatype=XSD.string)))\n",
    "        g.add((disease_base_node, SKOS.exactMatch, disease_node))\n",
    "\n",
    "        score_val = Literal(data[\"score\"], datatype=XSD.double)\n",
    "        g.add((gene_disease_association, SIO.has_measured_value, score_base_node))\n",
    "        g.add((score_base_node, SIO.has_value, score_val))\n",
    "\n",
    "        source_name = Literal(data[\"evidence_source\"], datatype=XSD.string)\n",
    "        g.add((gene_disease_association, SIO.has_source, source_base_node))\n",
    "        g.add((source_base_node, SIO.has_value, source_name))\n",
    "\n",
    "        data_source_name = Literal(\"DisGeNET\", datatype=XSD.string)\n",
    "        g.add((gene_disease_association, SIO.has_source, data_source_base_node))\n",
    "        g.add((data_source_base_node, SIO.has_value, data_source_name))\n",
    "\n",
    "    break"
   ]
  },
  {
   "cell_type": "code",
   "execution_count": 12,
   "metadata": {},
   "outputs": [
    {
     "data": {
      "text/plain": [
       "<Graph identifier=N32090b00238a462dbba97e4e7722a8f9 (<class 'rdflib.graph.Graph'>)>"
      ]
     },
     "execution_count": 12,
     "metadata": {},
     "output_type": "execute_result"
    }
   ],
   "source": [
    "g.serialize(\"example.ttl\", format=\"turtle\")"
   ]
  },
  {
   "cell_type": "code",
   "execution_count": null,
   "metadata": {},
   "outputs": [],
   "source": []
  }
 ],
 "metadata": {
  "kernelspec": {
   "display_name": "pybiodatafuse",
   "language": "python",
   "name": "pybiodatafuse"
  },
  "language_info": {
   "codemirror_mode": {
    "name": "ipython",
    "version": 3
   },
   "file_extension": ".py",
   "mimetype": "text/x-python",
   "name": "python",
   "nbconvert_exporter": "python",
   "pygments_lexer": "ipython3",
   "version": "3.9.17"
  }
 },
 "nbformat": 4,
 "nbformat_minor": 2
}
