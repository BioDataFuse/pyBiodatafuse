{
 "cells": [
  {
   "cell_type": "markdown",
   "metadata": {},
   "source": [
    "# Example 2: Metabolite workflow\n",
    "\n",
    "This notebook provides insights on how to use the tool if you have list of metabolites."
   ]
  },
  {
   "cell_type": "markdown",
   "metadata": {},
   "source": [
    "# Import modules"
   ]
  },
  {
   "cell_type": "code",
   "execution_count": null,
   "metadata": {},
   "outputs": [],
   "source": [
    "import pandas as pd\n",
    "\n",
    "from pyBiodatafuse import id_mapper\n",
    "from pyBiodatafuse.analyzer.summarize import BioGraph\n",
    "from pyBiodatafuse.annotators import molmedb, kegg, aopwiki",
    "from pyBiodatafuse.graph import saver\n",
    "from pyBiodatafuse.utils import combine_sources, create_or_append_to_metadata"
   ]
  },
  {
   "cell_type": "markdown",
   "metadata": {},
   "source": [
    "# Load list of metabolites/chemicals/compounds"
   ]
  },
  {
   "cell_type": "code",
   "execution_count": null,
   "metadata": {},
   "outputs": [
    {
     "data": {
      "text/plain": [
       "14"
      ]
     },
     "execution_count": 2,
     "metadata": {},
     "output_type": "execute_result"
    }
   ],
   "source": [
    "metabolites_of_interest = \"\"\"100208\n",
    "10040286\n",
    "10041551\n",
    "10025195\n",
    "5291\n",
    "6030\n",
    "1172\n",
    "1060\n",
    "8571\n",
    "697993\n",
    "21831736\n",
    "159603\n",
    "445643\n",
    "\"\"\"\n",
    "\n",
    "metabolite_list = metabolites_of_interest.split(\"\\n\")\n",
    "len(metabolite_list)"
   ]
  },
  {
   "cell_type": "code",
   "execution_count": null,
   "metadata": {},
   "outputs": [],
   "source": [
    "data_input = pd.DataFrame(metabolite_list, columns=[\"identifier\"])\n",
    "data_input.head()"
   ]
  },
  {
   "cell_type": "markdown",
   "metadata": {},
   "source": [
    "### Entity resolution using BridgeDB"
   ]
  },
  {
   "cell_type": "code",
   "execution_count": null,
   "metadata": {},
   "outputs": [],
   "source": [
    "bridgedb_df, bridgdb_metadata = id_mapper.bridgedb_xref(\n",
    "    identifiers=data_input,\n",
    "    input_species=\"Human\",\n",
    "    input_datasource=\"PubChem Compound\",\n",
    "    output_datasource=\"All\",\n",
    ")\n",
    "bridgedb_df.head()"
   ]
  },
  {
   "cell_type": "markdown",
   "metadata": {},
   "source": [
    "### Transporter inhibited from MolMeDB"
   ]
  },
  {
   "cell_type": "code",
   "execution_count": null,
   "metadata": {},
   "outputs": [
    {
     "name": "stderr",
     "output_type": "stream",
     "text": [
      "E:\\BioDataFuse\\pyBiodatafuse\\src\\pyBiodatafuse\\annotators\\molmedb.py:313: UserWarning: Not all values in column 'MolMeDB_uniprot_trembl_id' have the correct type '<class 'str'>'.\n",
      "  check_columns_against_constants(\n"
     ]
    },
    {
     "data": {
      "text/html": [
       "<div>\n",
       "<style scoped>\n",
       "    .dataframe tbody tr th:only-of-type {\n",
       "        vertical-align: middle;\n",
       "    }\n",
       "\n",
       "    .dataframe tbody tr th {\n",
       "        vertical-align: top;\n",
       "    }\n",
       "\n",
       "    .dataframe thead th {\n",
       "        text-align: right;\n",
       "    }\n",
       "</style>\n",
       "<table border=\"1\" class=\"dataframe\">\n",
       "  <thead>\n",
       "    <tr style=\"text-align: right;\">\n",
       "      <th></th>\n",
       "      <th>identifier</th>\n",
       "      <th>identifier.source</th>\n",
       "      <th>target</th>\n",
       "      <th>target.source</th>\n",
       "      <th>MolMeDB_transporter_inhibited</th>\n",
       "    </tr>\n",
       "  </thead>\n",
       "  <tbody>\n",
       "    <tr>\n",
       "      <th>0</th>\n",
       "      <td>100208</td>\n",
       "      <td>PubChem-compound</td>\n",
       "      <td>OFDNQWIFNXBECV-UHFFFAOYSA-N</td>\n",
       "      <td>InChIKey</td>\n",
       "      <td>[{'MolMeDB_uniprot_trembl_id': 'Uniprot-TrEMBL...</td>\n",
       "    </tr>\n",
       "    <tr>\n",
       "      <th>1</th>\n",
       "      <td>10025195</td>\n",
       "      <td>PubChem-compound</td>\n",
       "      <td>LEJRLSZVESQKJK-UHFFFAOYSA-N</td>\n",
       "      <td>InChIKey</td>\n",
       "      <td>[{'MolMeDB_uniprot_trembl_id': nan, 'MolMeDB_h...</td>\n",
       "    </tr>\n",
       "    <tr>\n",
       "      <th>2</th>\n",
       "      <td>10040286</td>\n",
       "      <td>PubChem-compound</td>\n",
       "      <td>FYGREZKTJIXWIH-UHFFFAOYSA-N</td>\n",
       "      <td>InChIKey</td>\n",
       "      <td>[{'MolMeDB_uniprot_trembl_id': nan, 'MolMeDB_h...</td>\n",
       "    </tr>\n",
       "    <tr>\n",
       "      <th>3</th>\n",
       "      <td>10041551</td>\n",
       "      <td>PubChem-compound</td>\n",
       "      <td>OVVBIIBBRZVPAL-UHFFFAOYSA-N</td>\n",
       "      <td>InChIKey</td>\n",
       "      <td>[{'MolMeDB_uniprot_trembl_id': 'Uniprot-TrEMBL...</td>\n",
       "    </tr>\n",
       "    <tr>\n",
       "      <th>4</th>\n",
       "      <td>1060</td>\n",
       "      <td>PubChem-compound</td>\n",
       "      <td>LCTONWCANYUPML-UHFFFAOYSA-N</td>\n",
       "      <td>InChIKey</td>\n",
       "      <td>[{'MolMeDB_uniprot_trembl_id': nan, 'MolMeDB_h...</td>\n",
       "    </tr>\n",
       "  </tbody>\n",
       "</table>\n",
       "</div>"
      ],
      "text/plain": [
       "  identifier identifier.source                       target target.source  \\\n",
       "0     100208  PubChem-compound  OFDNQWIFNXBECV-UHFFFAOYSA-N      InChIKey   \n",
       "1   10025195  PubChem-compound  LEJRLSZVESQKJK-UHFFFAOYSA-N      InChIKey   \n",
       "2   10040286  PubChem-compound  FYGREZKTJIXWIH-UHFFFAOYSA-N      InChIKey   \n",
       "3   10041551  PubChem-compound  OVVBIIBBRZVPAL-UHFFFAOYSA-N      InChIKey   \n",
       "4       1060  PubChem-compound  LCTONWCANYUPML-UHFFFAOYSA-N      InChIKey   \n",
       "\n",
       "                       MolMeDB_transporter_inhibited  \n",
       "0  [{'MolMeDB_uniprot_trembl_id': 'Uniprot-TrEMBL...  \n",
       "1  [{'MolMeDB_uniprot_trembl_id': nan, 'MolMeDB_h...  \n",
       "2  [{'MolMeDB_uniprot_trembl_id': nan, 'MolMeDB_h...  \n",
       "3  [{'MolMeDB_uniprot_trembl_id': 'Uniprot-TrEMBL...  \n",
       "4  [{'MolMeDB_uniprot_trembl_id': nan, 'MolMeDB_h...  "
      ]
     },
     "execution_count": 5,
     "metadata": {},
     "output_type": "execute_result"
    }
   ],
   "source": [
    "(\n",
    "    molmedb_transporter_inhibited_df,\n",
    "    molmedb_transporter_inhibited_metadata,\n",
    ") = molmedb.get_compound_gene_inhibitor(bridgedb_df=bridgedb_df)\n",
    "molmedb_transporter_inhibited_df.head()"
   ]
  },
  {
   "cell_type": "markdown",
   "metadata": {},
   "source": [
    "### AOPs from AOP-Wiki"
   ]
  },
  {
   "cell_type": "code",
   "execution_count": null,
   "metadata": {},
   "outputs": [
    {
     "name": "stderr",
     "output_type": "stream",
     "text": [
      "Querying AOP_Wiki_RDF for compounds: 100%|██████████| 1/1 [00:01<00:00,  1.48s/it]\n",
      "E:\\BioDataFuse\\pyBiodatafuse\\src\\pyBiodatafuse\\annotators\\aopwiki.py:349: UserWarning: The intermediate_df in AOP_Wiki_RDF_compounds annotator should be checked, please create an issue on https://github.com/BioDataFuse/pyBiodatafuse/issues/.\n",
      "  give_annotator_warning(Cons.AOPWIKI_COMPOUND_COL)\n"
     ]
    },
    {
     "data": {
      "text/html": [
       "<div>\n",
       "<style scoped>\n",
       "    .dataframe tbody tr th:only-of-type {\n",
       "        vertical-align: middle;\n",
       "    }\n",
       "\n",
       "    .dataframe tbody tr th {\n",
       "        vertical-align: top;\n",
       "    }\n",
       "\n",
       "    .dataframe thead th {\n",
       "        text-align: right;\n",
       "    }\n",
       "</style>\n",
       "<table border=\"1\" class=\"dataframe\">\n",
       "  <thead>\n",
       "    <tr style=\"text-align: right;\">\n",
       "      <th></th>\n",
       "      <th>identifier</th>\n",
       "      <th>identifier.source</th>\n",
       "      <th>target</th>\n",
       "      <th>target.source</th>\n",
       "      <th>AOP_Wiki_RDF_compounds</th>\n",
       "    </tr>\n",
       "  </thead>\n",
       "  <tbody>\n",
       "    <tr>\n",
       "      <th>0</th>\n",
       "      <td>100208</td>\n",
       "      <td>PubChem-compound</td>\n",
       "      <td>100208</td>\n",
       "      <td>PubChem Compound</td>\n",
       "      <td>[{'aop': nan, 'aop_title': nan, 'MIE_title': n...</td>\n",
       "    </tr>\n",
       "    <tr>\n",
       "      <th>1</th>\n",
       "      <td>10025195</td>\n",
       "      <td>PubChem-compound</td>\n",
       "      <td>10025195</td>\n",
       "      <td>PubChem Compound</td>\n",
       "      <td>[{'aop': nan, 'aop_title': nan, 'MIE_title': n...</td>\n",
       "    </tr>\n",
       "    <tr>\n",
       "      <th>2</th>\n",
       "      <td>10040286</td>\n",
       "      <td>PubChem-compound</td>\n",
       "      <td>10040286</td>\n",
       "      <td>PubChem Compound</td>\n",
       "      <td>[{'aop': nan, 'aop_title': nan, 'MIE_title': n...</td>\n",
       "    </tr>\n",
       "    <tr>\n",
       "      <th>3</th>\n",
       "      <td>10041551</td>\n",
       "      <td>PubChem-compound</td>\n",
       "      <td>10041551</td>\n",
       "      <td>PubChem Compound</td>\n",
       "      <td>[{'aop': nan, 'aop_title': nan, 'MIE_title': n...</td>\n",
       "    </tr>\n",
       "    <tr>\n",
       "      <th>4</th>\n",
       "      <td>1060</td>\n",
       "      <td>PubChem-compound</td>\n",
       "      <td>1060</td>\n",
       "      <td>PubChem Compound</td>\n",
       "      <td>[{'aop': nan, 'aop_title': nan, 'MIE_title': n...</td>\n",
       "    </tr>\n",
       "  </tbody>\n",
       "</table>\n",
       "</div>"
      ],
      "text/plain": [
       "  identifier identifier.source    target     target.source  \\\n",
       "0     100208  PubChem-compound    100208  PubChem Compound   \n",
       "1   10025195  PubChem-compound  10025195  PubChem Compound   \n",
       "2   10040286  PubChem-compound  10040286  PubChem Compound   \n",
       "3   10041551  PubChem-compound  10041551  PubChem Compound   \n",
       "4       1060  PubChem-compound      1060  PubChem Compound   \n",
       "\n",
       "                              AOP_Wiki_RDF_compounds  \n",
       "0  [{'aop': nan, 'aop_title': nan, 'MIE_title': n...  \n",
       "1  [{'aop': nan, 'aop_title': nan, 'MIE_title': n...  \n",
       "2  [{'aop': nan, 'aop_title': nan, 'MIE_title': n...  \n",
       "3  [{'aop': nan, 'aop_title': nan, 'MIE_title': n...  \n",
       "4  [{'aop': nan, 'aop_title': nan, 'MIE_title': n...  "
      ]
     },
     "execution_count": 6,
     "metadata": {},
     "output_type": "execute_result"
    }
   ],
   "source": [
    "(\n",
    "    aopwiki_df,\n",
    "    aopwiki_metadata,\n",
    ") = aopwiki.get_aops(bridgedb_df=bridgedb_df)\n",
    "aopwiki_df.head()"
   ]
  },
  {
   "cell_type": "markdown",
   "metadata": {},
   "source": [
    "### Pathways from KEGG"
   ]
  },
  {
   "cell_type": "code",
   "execution_count": 7,
   "metadata": {},
   "outputs": [
    {
     "data": {
      "text/html": [
       "<div>\n",
       "<style scoped>\n",
       "    .dataframe tbody tr th:only-of-type {\n",
       "        vertical-align: middle;\n",
       "    }\n",
       "\n",
       "    .dataframe tbody tr th {\n",
       "        vertical-align: top;\n",
       "    }\n",
       "\n",
       "    .dataframe thead th {\n",
       "        text-align: right;\n",
       "    }\n",
       "</style>\n",
       "<table border=\"1\" class=\"dataframe\">\n",
       "  <thead>\n",
       "    <tr style=\"text-align: right;\">\n",
       "      <th></th>\n",
       "      <th>identifier</th>\n",
       "      <th>identifier.source</th>\n",
       "      <th>target</th>\n",
       "      <th>target.source</th>\n",
       "      <th>KEGG_pathways</th>\n",
       "    </tr>\n",
       "  </thead>\n",
       "  <tbody>\n",
       "    <tr>\n",
       "      <th>0</th>\n",
       "      <td>100208</td>\n",
       "      <td>PubChem-compound</td>\n",
       "      <td>C11280</td>\n",
       "      <td>KEGG Compound</td>\n",
       "      <td>[{'pathway_id': nan, 'pathway_label': nan, 'pa...</td>\n",
       "    </tr>\n",
       "    <tr>\n",
       "      <th>1</th>\n",
       "      <td>6030</td>\n",
       "      <td>PubChem-compound</td>\n",
       "      <td>C00105</td>\n",
       "      <td>KEGG Compound</td>\n",
       "      <td>[{'pathway_id': 'path:hsa00240', 'pathway_labe...</td>\n",
       "    </tr>\n",
       "    <tr>\n",
       "      <th>2</th>\n",
       "      <td>1172</td>\n",
       "      <td>PubChem-compound</td>\n",
       "      <td>C00105</td>\n",
       "      <td>KEGG Compound</td>\n",
       "      <td>[{'pathway_id': 'path:hsa00240', 'pathway_labe...</td>\n",
       "    </tr>\n",
       "    <tr>\n",
       "      <th>3</th>\n",
       "      <td>1060</td>\n",
       "      <td>PubChem-compound</td>\n",
       "      <td>C00022</td>\n",
       "      <td>KEGG Compound</td>\n",
       "      <td>[{'pathway_id': 'path:hsa00010', 'pathway_labe...</td>\n",
       "    </tr>\n",
       "    <tr>\n",
       "      <th>4</th>\n",
       "      <td>697993</td>\n",
       "      <td>PubChem-compound</td>\n",
       "      <td>C14437</td>\n",
       "      <td>KEGG Compound</td>\n",
       "      <td>[{'pathway_id': nan, 'pathway_label': nan, 'pa...</td>\n",
       "    </tr>\n",
       "  </tbody>\n",
       "</table>\n",
       "</div>"
      ],
      "text/plain": [
       "  identifier identifier.source  target  target.source  \\\n",
       "0     100208  PubChem-compound  C11280  KEGG Compound   \n",
       "1       6030  PubChem-compound  C00105  KEGG Compound   \n",
       "2       1172  PubChem-compound  C00105  KEGG Compound   \n",
       "3       1060  PubChem-compound  C00022  KEGG Compound   \n",
       "4     697993  PubChem-compound  C14437  KEGG Compound   \n",
       "\n",
       "                                       KEGG_pathways  \n",
       "0  [{'pathway_id': nan, 'pathway_label': nan, 'pa...  \n",
       "1  [{'pathway_id': 'path:hsa00240', 'pathway_labe...  \n",
       "2  [{'pathway_id': 'path:hsa00240', 'pathway_labe...  \n",
       "3  [{'pathway_id': 'path:hsa00010', 'pathway_labe...  \n",
       "4  [{'pathway_id': nan, 'pathway_label': nan, 'pa...  "
      ]
     },
     "execution_count": 7,
     "metadata": {},
     "output_type": "execute_result"
    }
   ],
   "source": [
    "(\n",
    "    kegg_df,\n",
    "    kegg_metadata,\n",
    ") = kegg.get_pathways(bridgedb_df=bridgedb_df)\n",
    "kegg_df.head()"
   ]
  },
  {
   "cell_type": "markdown",
   "metadata": {},
   "source": [
    "### AOPs from AOP-Wiki"
   ]
  },
  {
   "cell_type": "code",
   "execution_count": null,
   "metadata": {},
   "outputs": [],
   "source": [
    "(\n",
    "    aopwiki_df,\n",
    "    aopwiki_metadata,\n",
    ") = aopwiki.get_aops(bridgedb_df=bridgdb_df)\n",
    "aopwiki_df.head()"
   ]
  },
  {
   "cell_type": "markdown",
   "metadata": {},
   "source": [
    "# Create the BDF graph"
   ]
  },
  {
   "cell_type": "code",
   "execution_count": 12,
   "metadata": {},
   "outputs": [
    {
     "data": {
      "text/html": [
       "<div>\n",
       "<style scoped>\n",
       "    .dataframe tbody tr th:only-of-type {\n",
       "        vertical-align: middle;\n",
       "    }\n",
       "\n",
       "    .dataframe tbody tr th {\n",
       "        vertical-align: top;\n",
       "    }\n",
       "\n",
       "    .dataframe thead th {\n",
       "        text-align: right;\n",
       "    }\n",
       "</style>\n",
       "<table border=\"1\" class=\"dataframe\">\n",
       "  <thead>\n",
       "    <tr style=\"text-align: right;\">\n",
       "      <th></th>\n",
       "      <th>identifier</th>\n",
       "      <th>identifier.source</th>\n",
       "      <th>target</th>\n",
       "      <th>target.source</th>\n",
       "      <th>KEGG_pathways</th>\n",
       "      <th>MolMeDB_transporter_inhibited</th>\n",
       "      <th>AOP_Wiki_RDF_compounds</th>\n",
       "    </tr>\n",
       "  </thead>\n",
       "  <tbody>\n",
       "    <tr>\n",
       "      <th>0</th>\n",
       "      <td>100208</td>\n",
       "      <td>PubChem-compound</td>\n",
       "      <td>100208</td>\n",
       "      <td>PubChem Compound</td>\n",
       "      <td>[{'pathway_id': nan, 'pathway_label': nan, 'pa...</td>\n",
       "      <td>[{'MolMeDB_uniprot_trembl_id': 'Uniprot-TrEMBL...</td>\n",
       "      <td>[{'aop': nan, 'aop_title': nan, 'MIE_title': n...</td>\n",
       "    </tr>\n",
       "    <tr>\n",
       "      <th>1</th>\n",
       "      <td>10040286</td>\n",
       "      <td>PubChem-compound</td>\n",
       "      <td>10040286</td>\n",
       "      <td>PubChem Compound</td>\n",
       "      <td>NaN</td>\n",
       "      <td>[{'MolMeDB_uniprot_trembl_id': nan, 'MolMeDB_h...</td>\n",
       "      <td>[{'aop': nan, 'aop_title': nan, 'MIE_title': n...</td>\n",
       "    </tr>\n",
       "    <tr>\n",
       "      <th>2</th>\n",
       "      <td>10041551</td>\n",
       "      <td>PubChem-compound</td>\n",
       "      <td>10041551</td>\n",
       "      <td>PubChem Compound</td>\n",
       "      <td>NaN</td>\n",
       "      <td>[{'MolMeDB_uniprot_trembl_id': 'Uniprot-TrEMBL...</td>\n",
       "      <td>[{'aop': nan, 'aop_title': nan, 'MIE_title': n...</td>\n",
       "    </tr>\n",
       "    <tr>\n",
       "      <th>3</th>\n",
       "      <td>10025195</td>\n",
       "      <td>PubChem-compound</td>\n",
       "      <td>10025195</td>\n",
       "      <td>PubChem Compound</td>\n",
       "      <td>NaN</td>\n",
       "      <td>[{'MolMeDB_uniprot_trembl_id': nan, 'MolMeDB_h...</td>\n",
       "      <td>[{'aop': nan, 'aop_title': nan, 'MIE_title': n...</td>\n",
       "    </tr>\n",
       "    <tr>\n",
       "      <th>4</th>\n",
       "      <td>5291</td>\n",
       "      <td>PubChem-compound</td>\n",
       "      <td>5291</td>\n",
       "      <td>PubChem Compound</td>\n",
       "      <td>NaN</td>\n",
       "      <td>[{'MolMeDB_uniprot_trembl_id': 'Uniprot-TrEMBL...</td>\n",
       "      <td>[{'aop': nan, 'aop_title': nan, 'MIE_title': n...</td>\n",
       "    </tr>\n",
       "  </tbody>\n",
       "</table>\n",
       "</div>"
      ],
      "text/plain": [
       "  identifier identifier.source    target     target.source  \\\n",
       "0     100208  PubChem-compound    100208  PubChem Compound   \n",
       "1   10040286  PubChem-compound  10040286  PubChem Compound   \n",
       "2   10041551  PubChem-compound  10041551  PubChem Compound   \n",
       "3   10025195  PubChem-compound  10025195  PubChem Compound   \n",
       "4       5291  PubChem-compound      5291  PubChem Compound   \n",
       "\n",
       "                                       KEGG_pathways  \\\n",
       "0  [{'pathway_id': nan, 'pathway_label': nan, 'pa...   \n",
       "1                                                NaN   \n",
       "2                                                NaN   \n",
       "3                                                NaN   \n",
       "4                                                NaN   \n",
       "\n",
       "                       MolMeDB_transporter_inhibited  \\\n",
       "0  [{'MolMeDB_uniprot_trembl_id': 'Uniprot-TrEMBL...   \n",
       "1  [{'MolMeDB_uniprot_trembl_id': nan, 'MolMeDB_h...   \n",
       "2  [{'MolMeDB_uniprot_trembl_id': 'Uniprot-TrEMBL...   \n",
       "3  [{'MolMeDB_uniprot_trembl_id': nan, 'MolMeDB_h...   \n",
       "4  [{'MolMeDB_uniprot_trembl_id': 'Uniprot-TrEMBL...   \n",
       "\n",
       "                              AOP_Wiki_RDF_compounds  \n",
       "0  [{'aop': nan, 'aop_title': nan, 'MIE_title': n...  \n",
       "1  [{'aop': nan, 'aop_title': nan, 'MIE_title': n...  \n",
       "2  [{'aop': nan, 'aop_title': nan, 'MIE_title': n...  \n",
       "3  [{'aop': nan, 'aop_title': nan, 'MIE_title': n...  \n",
       "4  [{'aop': nan, 'aop_title': nan, 'MIE_title': n...  "
      ]
     },
     "execution_count": 12,
     "metadata": {},
     "output_type": "execute_result"
    }
   ],
   "source": [
    "combined_df = combine_sources(\n",
    "    bridgedb_df, df_list=[kegg_df, molmedb_transporter_inhibited_df, aopwiki_df]\n",
    ")\n",
    "combined_df.head()"
   ]
  },
  {
   "cell_type": "code",
   "execution_count": 9,
   "metadata": {},
   "outputs": [],
   "source": [
    "combined_metadata = create_or_append_to_metadata(\n",
    "    bridgdb_metadata, [kegg_metadata, molmedb_transporter_inhibited_metadata, aopwiki_metadata]\n",
    ")"
   ]
  },
  {
   "cell_type": "markdown",
   "metadata": {},
   "source": [
    "# Saving the graph"
   ]
  },
  {
   "cell_type": "code",
   "execution_count": 10,
   "metadata": {},
   "outputs": [],
   "source": [
    "import os\n",
    "\n",
    "DATA_DIR = \"./data/metabolite_workflow\"\n",
    "os.makedirs(DATA_DIR, exist_ok=True)"
   ]
  },
  {
   "cell_type": "code",
   "execution_count": 11,
   "metadata": {},
   "outputs": [
    {
     "name": "stderr",
     "output_type": "stream",
     "text": [
      "Combined DataFrame saved in ./data/metabolite_workflow/metabolite_workflow_df.pkl\n",
      "Metadata saved in ./data/metabolite_workflow/metabolite_workflow_metadata.pkl\n",
      "Building graph: 0it [00:00, ?it/s]\n",
      "Graph is built successfully\n",
      "Graph saved in: \n",
      " ./data/metabolite_workflow/metabolite_workflow_graph.pkl \n",
      " ./data/metabolite_workflow/metabolite_workflow_graph.gml\n",
      "Graph saved in ./data/metabolite_workflow/metabolite_workflow_graph.edgelist\n"
     ]
    }
   ],
   "source": [
    "pygraph = saver.save_graph(\n",
    "    combined_df=combined_df,\n",
    "    combined_metadata=combined_metadata,\n",
    "    graph_name=\"metabolite_workflow\",\n",
    "    graph_dir=DATA_DIR,\n",
    ")"
   ]
  },
  {
   "cell_type": "code",
   "execution_count": null,
   "metadata": {},
   "outputs": [],
   "source": [
    "print(pygraph)"
   ]
  },
  {
   "cell_type": "markdown",
   "metadata": {},
   "source": [
    "# Graph statistics"
   ]
  },
  {
   "cell_type": "code",
   "execution_count": null,
   "metadata": {},
   "outputs": [],
   "source": [
    "graph_obj = BioGraph(graph=pygraph)\n",
    "graph_obj.graph_summary"
   ]
  },
  {
   "cell_type": "code",
   "execution_count": null,
   "metadata": {},
   "outputs": [],
   "source": [
    "graph_obj.count_nodes_by_data_source(plot=True)"
   ]
  },
  {
   "cell_type": "code",
   "execution_count": null,
   "metadata": {},
   "outputs": [],
   "source": [
    "graph_obj.count_edge_by_data_source(plot=True)"
   ]
  }
 ],
 "metadata": {
  "kernelspec": {
   "display_name": ".venv",
   "language": "python",
   "name": "python3"
  },
  "language_info": {
   "codemirror_mode": {
    "name": "ipython",
    "version": 3
   },
   "file_extension": ".py",
   "mimetype": "text/x-python",
   "name": "python",
   "nbconvert_exporter": "python",
   "pygments_lexer": "ipython3",
   "version": "3.9.13"
  }
 },
 "nbformat": 4,
 "nbformat_minor": 4
}
