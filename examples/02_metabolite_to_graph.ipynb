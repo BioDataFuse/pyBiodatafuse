{
 "cells": [
  {
   "cell_type": "markdown",
   "metadata": {},
   "source": [
    "# Example 2: Metabolite workflow\n",
    "\n",
    "This notebook provides insights on how to use the tool if you have list of metabolites."
   ]
  },
  {
   "cell_type": "markdown",
   "metadata": {},
   "source": [
    "# Import modules"
   ]
  },
  {
   "cell_type": "code",
   "execution_count": null,
   "metadata": {},
   "outputs": [],
   "source": [
    "import pandas as pd\n",
    "\n",
    "from pyBiodatafuse import id_mapper\n",
    "from pyBiodatafuse.analyzer.summarize import BioGraph\n",
    "from pyBiodatafuse.annotators import molmedb, opentargets, aopwiki\n",
    "from pyBiodatafuse.graph import saver\n",
    "from pyBiodatafuse.utils import combine_sources, create_or_append_to_metadata"
   ]
  },
  {
   "cell_type": "markdown",
   "metadata": {},
   "source": [
    "# Load list of metabolites/chemicals/compounds"
   ]
  },
  {
   "cell_type": "code",
   "execution_count": null,
   "metadata": {},
   "outputs": [],
   "source": [
    "metabolites_of_interest = \"\"\"100208\n",
    "10040286\n",
    "10041551\n",
    "10025195\n",
    "5291\n",
    "8571\n",
    "697993\n",
    "21831736\n",
    "159603\n",
    "445643\n",
    "\"\"\"\n",
    "\n",
    "metabolite_list = metabolites_of_interest.split(\"\\n\")\n",
    "len(metabolite_list)"
   ]
  },
  {
   "cell_type": "code",
   "execution_count": null,
   "metadata": {},
   "outputs": [],
   "source": [
    "data_input = pd.DataFrame(metabolite_list, columns=[\"identifier\"])\n",
    "data_input.head()"
   ]
  },
  {
   "cell_type": "markdown",
   "metadata": {},
   "source": [
    "### Entity resolution using BridgeDB"
   ]
  },
  {
   "cell_type": "code",
   "execution_count": null,
   "metadata": {},
   "outputs": [],
   "source": [
    "bridgdb_df, bridgdb_metadata = id_mapper.bridgedb_xref(\n",
    "    identifiers=data_input,\n",
    "    input_species=\"Human\",\n",
    "    input_datasource=\"PubChem Compound\",\n",
    "    output_datasource=\"All\",\n",
    ")\n",
    "bridgdb_df.head()"
   ]
  },
  {
   "cell_type": "markdown",
   "metadata": {},
   "source": [
    "### Transporter inhibited from MolMeDB"
   ]
  },
  {
   "cell_type": "code",
   "execution_count": null,
   "metadata": {},
   "outputs": [],
   "source": [
    "(\n",
    "    molmedb_transporter_inhibited_df,\n",
    "    molmedb_transporter_inhibited_metadata,\n",
    ") = molmedb.get_compound_gene_inhibitor(bridgedb_df=bridgdb_df)\n",
    "molmedb_transporter_inhibited_df.head()"
   ]
  },
  {
   "cell_type": "markdown",
   "metadata": {},
   "source": [
    "### Disease from OpenTargets"
   ]
  },
  {
   "cell_type": "code",
   "execution_count": null,
   "metadata": {},
   "outputs": [],
   "source": [
    "(\n",
    "    opentargets_df,\n",
    "    opentargets_metadata,\n",
    ") = opentargets.get_disease_compound_interactions(bridgedb_df=bridgdb_df)\n",
    "opentargets_df.head()"
   ]
  },
  {
   "cell_type": "markdown",
   "metadata": {},
   "source": [
    "### AOPs from AOP-Wiki"
   ]
  },
  {
   "cell_type": "code",
   "execution_count": null,
   "metadata": {},
   "outputs": [],
   "source": [
    "(\n",
    "    aopwiki_df,\n",
    "    aopwiki_metadata,\n",
    ") = aopwiki.get_aops(bridgedb_df=bridgdb_df)\n",
    "aopwiki_df.head()"
   ]
  },
  {
   "cell_type": "markdown",
   "metadata": {},
   "source": [
    "# Create the BDF graph"
   ]
  },
  {
   "cell_type": "code",
   "execution_count": null,
   "metadata": {},
   "outputs": [],
   "source": [
    "combined_df = combine_sources(\n",
    "    bridgdb_df, df_list=[opentargets_df, molmedb_transporter_inhibited_df]\n",
    ")\n",
    "combined_df.head()"
   ]
  },
  {
   "cell_type": "code",
   "execution_count": null,
   "metadata": {},
   "outputs": [],
   "source": [
    "combined_metadata = create_or_append_to_metadata(\n",
    "    bridgdb_metadata, [opentargets_metadata, molmedb_transporter_inhibited_metadata]\n",
    ")"
   ]
  },
  {
   "cell_type": "markdown",
   "metadata": {},
   "source": [
    "# Saving the graph"
   ]
  },
  {
   "cell_type": "code",
   "execution_count": null,
   "metadata": {},
   "outputs": [],
   "source": [
    "import os\n",
    "\n",
    "DATA_DIR = \"./data/metabolite_workflow\"\n",
    "os.makedirs(DATA_DIR, exist_ok=True)"
   ]
  },
  {
   "cell_type": "code",
   "execution_count": null,
   "metadata": {},
   "outputs": [],
   "source": [
    "pygraph = saver.save_graph(\n",
    "    combined_df=combined_df,\n",
    "    combined_metadata=combined_metadata,\n",
    "    graph_name=\"metabolite_workflow\",\n",
    "    graph_dir=DATA_DIR,\n",
    ")"
   ]
  },
  {
   "cell_type": "markdown",
   "metadata": {},
   "source": [
    "# Graph statistics"
   ]
  },
  {
   "cell_type": "code",
   "execution_count": null,
   "metadata": {},
   "outputs": [],
   "source": [
    "graph_obj = BioGraph(graph=pygraph)\n",
    "graph_obj.graph_summary"
   ]
  },
  {
   "cell_type": "code",
   "execution_count": null,
   "metadata": {},
   "outputs": [],
   "source": [
    "graph_obj.count_nodes_by_data_source(plot=True)"
   ]
  },
  {
   "cell_type": "code",
   "execution_count": null,
   "metadata": {},
   "outputs": [],
   "source": [
    "graph_obj.count_edge_by_data_source(plot=True)"
   ]
  }
 ],
 "metadata": {
  "kernelspec": {
   "display_name": "pyBiodatafuse",
   "language": "python",
   "name": "python3"
  },
  "language_info": {
   "codemirror_mode": {
    "name": "ipython",
    "version": 3
   },
   "file_extension": ".py",
   "mimetype": "text/x-python",
   "name": "python",
   "nbconvert_exporter": "python",
   "pygments_lexer": "ipython3",
   "version": "3.11.12"
  }
 },
 "nbformat": 4,
 "nbformat_minor": 4
}
