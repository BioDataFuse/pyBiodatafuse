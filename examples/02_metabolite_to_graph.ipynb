{
 "cells": [
  {
   "cell_type": "markdown",
   "metadata": {},
   "source": [
    "# Example 2: Metabolite workflow\n",
    "\n",
    "This notebook provides insights on how to use the tool if you have list of metabolites."
   ]
  },
  {
   "cell_type": "markdown",
   "metadata": {},
   "source": [
    "# Import modules"
   ]
  },
  {
   "cell_type": "code",
   "execution_count": 1,
   "metadata": {},
   "outputs": [],
   "source": [
    "import pandas as pd\n",
    "\n",
    "from pyBiodatafuse import id_mapper\n",
    "from pyBiodatafuse.analyzer.summarize import BioGraph\n",
    "from pyBiodatafuse.annotators import molmedb, opentargets\n",
    "from pyBiodatafuse.graph import saver\n",
    "from pyBiodatafuse.utils import combine_sources, create_or_append_to_metadata"
   ]
  },
  {
   "cell_type": "markdown",
   "metadata": {},
   "source": [
    "# Load list of metabolites/chemicals/compounds"
   ]
  },
  {
   "cell_type": "code",
   "execution_count": 2,
   "metadata": {},
   "outputs": [
    {
     "data": {
      "text/plain": [
       "5"
      ]
     },
     "execution_count": 2,
     "metadata": {},
     "output_type": "execute_result"
    }
   ],
   "source": [
    "metabolites_of_interest = \"\"\"100208\n",
    "10040286\n",
    "10041551\n",
    "10025195\n",
    "5291\"\"\"\n",
    "\n",
    "metabolite_list = metabolites_of_interest.split(\"\\n\")\n",
    "len(metabolite_list)"
   ]
  },
  {
   "cell_type": "code",
   "execution_count": 3,
   "metadata": {},
   "outputs": [
    {
     "data": {
      "text/html": [
       "<div>\n",
       "<style scoped>\n",
       "    .dataframe tbody tr th:only-of-type {\n",
       "        vertical-align: middle;\n",
       "    }\n",
       "\n",
       "    .dataframe tbody tr th {\n",
       "        vertical-align: top;\n",
       "    }\n",
       "\n",
       "    .dataframe thead th {\n",
       "        text-align: right;\n",
       "    }\n",
       "</style>\n",
       "<table border=\"1\" class=\"dataframe\">\n",
       "  <thead>\n",
       "    <tr style=\"text-align: right;\">\n",
       "      <th></th>\n",
       "      <th>identifier</th>\n",
       "    </tr>\n",
       "  </thead>\n",
       "  <tbody>\n",
       "    <tr>\n",
       "      <th>0</th>\n",
       "      <td>100208</td>\n",
       "    </tr>\n",
       "    <tr>\n",
       "      <th>1</th>\n",
       "      <td>10040286</td>\n",
       "    </tr>\n",
       "    <tr>\n",
       "      <th>2</th>\n",
       "      <td>10041551</td>\n",
       "    </tr>\n",
       "    <tr>\n",
       "      <th>3</th>\n",
       "      <td>10025195</td>\n",
       "    </tr>\n",
       "    <tr>\n",
       "      <th>4</th>\n",
       "      <td>5291</td>\n",
       "    </tr>\n",
       "  </tbody>\n",
       "</table>\n",
       "</div>"
      ],
      "text/plain": [
       "  identifier\n",
       "0     100208\n",
       "1   10040286\n",
       "2   10041551\n",
       "3   10025195\n",
       "4       5291"
      ]
     },
     "execution_count": 3,
     "metadata": {},
     "output_type": "execute_result"
    }
   ],
   "source": [
    "data_input = pd.DataFrame(metabolite_list, columns=[\"identifier\"])\n",
    "data_input.head()"
   ]
  },
  {
   "cell_type": "markdown",
   "metadata": {},
   "source": [
    "### Entity resolution using BridgeDB"
   ]
  },
  {
   "cell_type": "code",
   "execution_count": 4,
   "metadata": {},
   "outputs": [
    {
     "data": {
      "text/html": [
       "<div>\n",
       "<style scoped>\n",
       "    .dataframe tbody tr th:only-of-type {\n",
       "        vertical-align: middle;\n",
       "    }\n",
       "\n",
       "    .dataframe tbody tr th {\n",
       "        vertical-align: top;\n",
       "    }\n",
       "\n",
       "    .dataframe thead th {\n",
       "        text-align: right;\n",
       "    }\n",
       "</style>\n",
       "<table border=\"1\" class=\"dataframe\">\n",
       "  <thead>\n",
       "    <tr style=\"text-align: right;\">\n",
       "      <th></th>\n",
       "      <th>identifier</th>\n",
       "      <th>identifier.source</th>\n",
       "      <th>target</th>\n",
       "      <th>target.source</th>\n",
       "    </tr>\n",
       "  </thead>\n",
       "  <tbody>\n",
       "    <tr>\n",
       "      <th>0</th>\n",
       "      <td>100208</td>\n",
       "      <td>PubChem-compound</td>\n",
       "      <td>90560</td>\n",
       "      <td>ChemSpider</td>\n",
       "    </tr>\n",
       "    <tr>\n",
       "      <th>1</th>\n",
       "      <td>100208</td>\n",
       "      <td>PubChem-compound</td>\n",
       "      <td>100208</td>\n",
       "      <td>PubChem Compound</td>\n",
       "    </tr>\n",
       "    <tr>\n",
       "      <th>2</th>\n",
       "      <td>100208</td>\n",
       "      <td>PubChem-compound</td>\n",
       "      <td>HMDB0244377</td>\n",
       "      <td>HMDB</td>\n",
       "    </tr>\n",
       "    <tr>\n",
       "      <th>3</th>\n",
       "      <td>100208</td>\n",
       "      <td>PubChem-compound</td>\n",
       "      <td>OFDNQWIFNXBECV-UHFFFAOYSA-N</td>\n",
       "      <td>InChIKey</td>\n",
       "    </tr>\n",
       "    <tr>\n",
       "      <th>4</th>\n",
       "      <td>100208</td>\n",
       "      <td>PubChem-compound</td>\n",
       "      <td>C11280</td>\n",
       "      <td>KEGG Compound</td>\n",
       "    </tr>\n",
       "  </tbody>\n",
       "</table>\n",
       "</div>"
      ],
      "text/plain": [
       "  identifier identifier.source                       target     target.source\n",
       "0     100208  PubChem-compound                        90560        ChemSpider\n",
       "1     100208  PubChem-compound                       100208  PubChem Compound\n",
       "2     100208  PubChem-compound                  HMDB0244377              HMDB\n",
       "3     100208  PubChem-compound  OFDNQWIFNXBECV-UHFFFAOYSA-N          InChIKey\n",
       "4     100208  PubChem-compound                       C11280     KEGG Compound"
      ]
     },
     "execution_count": 4,
     "metadata": {},
     "output_type": "execute_result"
    }
   ],
   "source": [
    "bridgdb_df, bridgdb_metadata = id_mapper.bridgedb_xref(\n",
    "    identifiers=data_input,\n",
    "    input_species=\"Human\",\n",
    "    input_datasource=\"PubChem Compound\",\n",
    "    output_datasource=\"All\",\n",
    ")\n",
    "bridgdb_df.head()"
   ]
  },
  {
   "cell_type": "markdown",
   "metadata": {},
   "source": [
    "### Transporter inhibited from MolMeDB"
   ]
  },
  {
   "cell_type": "code",
   "execution_count": 5,
   "metadata": {},
   "outputs": [
    {
     "data": {
      "text/html": [
       "<div>\n",
       "<style scoped>\n",
       "    .dataframe tbody tr th:only-of-type {\n",
       "        vertical-align: middle;\n",
       "    }\n",
       "\n",
       "    .dataframe tbody tr th {\n",
       "        vertical-align: top;\n",
       "    }\n",
       "\n",
       "    .dataframe thead th {\n",
       "        text-align: right;\n",
       "    }\n",
       "</style>\n",
       "<table border=\"1\" class=\"dataframe\">\n",
       "  <thead>\n",
       "    <tr style=\"text-align: right;\">\n",
       "      <th></th>\n",
       "      <th>identifier</th>\n",
       "      <th>identifier.source</th>\n",
       "      <th>target</th>\n",
       "      <th>target.source</th>\n",
       "      <th>MolMeDB_transporter_inhibited</th>\n",
       "    </tr>\n",
       "  </thead>\n",
       "  <tbody>\n",
       "    <tr>\n",
       "      <th>0</th>\n",
       "      <td>100208</td>\n",
       "      <td>PubChem-compound</td>\n",
       "      <td>OFDNQWIFNXBECV-UHFFFAOYSA-N</td>\n",
       "      <td>InChIKey</td>\n",
       "      <td>[{'uniprot_trembl_id': 'P08183', 'hgnc_symbol'...</td>\n",
       "    </tr>\n",
       "    <tr>\n",
       "      <th>1</th>\n",
       "      <td>10025195</td>\n",
       "      <td>PubChem-compound</td>\n",
       "      <td>LEJRLSZVESQKJK-UHFFFAOYSA-N</td>\n",
       "      <td>InChIKey</td>\n",
       "      <td>[{'uniprot_trembl_id': nan, 'hgnc_symbol': nan...</td>\n",
       "    </tr>\n",
       "    <tr>\n",
       "      <th>2</th>\n",
       "      <td>10040286</td>\n",
       "      <td>PubChem-compound</td>\n",
       "      <td>FYGREZKTJIXWIH-UHFFFAOYSA-N</td>\n",
       "      <td>InChIKey</td>\n",
       "      <td>[{'uniprot_trembl_id': nan, 'hgnc_symbol': nan...</td>\n",
       "    </tr>\n",
       "    <tr>\n",
       "      <th>3</th>\n",
       "      <td>10041551</td>\n",
       "      <td>PubChem-compound</td>\n",
       "      <td>OVVBIIBBRZVPAL-UHFFFAOYSA-N</td>\n",
       "      <td>InChIKey</td>\n",
       "      <td>[{'uniprot_trembl_id': 'P23975', 'hgnc_symbol'...</td>\n",
       "    </tr>\n",
       "    <tr>\n",
       "      <th>4</th>\n",
       "      <td>5291</td>\n",
       "      <td>PubChem-compound</td>\n",
       "      <td>KTUFNOKKBVMGRW-UHFFFAOYSA-N</td>\n",
       "      <td>InChIKey</td>\n",
       "      <td>[{'uniprot_trembl_id': 'O15244', 'hgnc_symbol'...</td>\n",
       "    </tr>\n",
       "  </tbody>\n",
       "</table>\n",
       "</div>"
      ],
      "text/plain": [
       "  identifier identifier.source                       target target.source  \\\n",
       "0     100208  PubChem-compound  OFDNQWIFNXBECV-UHFFFAOYSA-N      InChIKey   \n",
       "1   10025195  PubChem-compound  LEJRLSZVESQKJK-UHFFFAOYSA-N      InChIKey   \n",
       "2   10040286  PubChem-compound  FYGREZKTJIXWIH-UHFFFAOYSA-N      InChIKey   \n",
       "3   10041551  PubChem-compound  OVVBIIBBRZVPAL-UHFFFAOYSA-N      InChIKey   \n",
       "4       5291  PubChem-compound  KTUFNOKKBVMGRW-UHFFFAOYSA-N      InChIKey   \n",
       "\n",
       "                       MolMeDB_transporter_inhibited  \n",
       "0  [{'uniprot_trembl_id': 'P08183', 'hgnc_symbol'...  \n",
       "1  [{'uniprot_trembl_id': nan, 'hgnc_symbol': nan...  \n",
       "2  [{'uniprot_trembl_id': nan, 'hgnc_symbol': nan...  \n",
       "3  [{'uniprot_trembl_id': 'P23975', 'hgnc_symbol'...  \n",
       "4  [{'uniprot_trembl_id': 'O15244', 'hgnc_symbol'...  "
      ]
     },
     "execution_count": 5,
     "metadata": {},
     "output_type": "execute_result"
    }
   ],
   "source": [
    "(\n",
    "    molmedb_transporter_inhibited_df,\n",
    "    molmedb_transporter_inhibited_metadata,\n",
    ") = molmedb.get_compound_gene_inhibitor(bridgedb_df=bridgdb_df)\n",
    "molmedb_transporter_inhibited_df.head()"
   ]
  },
  {
   "cell_type": "markdown",
   "metadata": {},
   "source": [
    "### Disease from OpenTargets"
   ]
  },
  {
   "cell_type": "code",
   "execution_count": 6,
   "metadata": {},
   "outputs": [
    {
     "name": "stderr",
     "output_type": "stream",
     "text": [
      "/var/folders/x2/1tdvwk7x2_n98kzwy7rnt3t00000gn/T/ipykernel_25626/3172929253.py:4: UserWarning: The intermediate_df in OpenTargets_diseases annotatur should be checked, please create an issue on https://github.com/BioDataFuse/pyBiodatafuse/issues/.\n",
      "  ) = opentargets.get_compound_disease_interactions(bridgedb_df=bridgdb_df)\n"
     ]
    },
    {
     "data": {
      "text/html": [
       "<div>\n",
       "<style scoped>\n",
       "    .dataframe tbody tr th:only-of-type {\n",
       "        vertical-align: middle;\n",
       "    }\n",
       "\n",
       "    .dataframe tbody tr th {\n",
       "        vertical-align: top;\n",
       "    }\n",
       "\n",
       "    .dataframe thead th {\n",
       "        text-align: right;\n",
       "    }\n",
       "</style>\n",
       "<table border=\"1\" class=\"dataframe\">\n",
       "  <thead>\n",
       "    <tr style=\"text-align: right;\">\n",
       "      <th></th>\n",
       "      <th>identifier</th>\n",
       "      <th>identifier.source</th>\n",
       "      <th>target</th>\n",
       "      <th>target.source</th>\n",
       "      <th>OpenTargets_diseases</th>\n",
       "    </tr>\n",
       "  </thead>\n",
       "  <tbody>\n",
       "    <tr>\n",
       "      <th>0</th>\n",
       "      <td>100208</td>\n",
       "      <td>PubChem-compound</td>\n",
       "      <td>100208</td>\n",
       "      <td>PubChem Compound</td>\n",
       "      <td>[{'disease_name': nan, 'therapeutic_areas': na...</td>\n",
       "    </tr>\n",
       "    <tr>\n",
       "      <th>1</th>\n",
       "      <td>10025195</td>\n",
       "      <td>PubChem-compound</td>\n",
       "      <td>10025195</td>\n",
       "      <td>PubChem Compound</td>\n",
       "      <td>[{'disease_name': nan, 'therapeutic_areas': na...</td>\n",
       "    </tr>\n",
       "    <tr>\n",
       "      <th>2</th>\n",
       "      <td>10040286</td>\n",
       "      <td>PubChem-compound</td>\n",
       "      <td>10040286</td>\n",
       "      <td>PubChem Compound</td>\n",
       "      <td>[{'disease_name': nan, 'therapeutic_areas': na...</td>\n",
       "    </tr>\n",
       "    <tr>\n",
       "      <th>3</th>\n",
       "      <td>10041551</td>\n",
       "      <td>PubChem-compound</td>\n",
       "      <td>10041551</td>\n",
       "      <td>PubChem Compound</td>\n",
       "      <td>[{'disease_name': nan, 'therapeutic_areas': na...</td>\n",
       "    </tr>\n",
       "    <tr>\n",
       "      <th>4</th>\n",
       "      <td>5291</td>\n",
       "      <td>PubChem-compound</td>\n",
       "      <td>5291</td>\n",
       "      <td>PubChem Compound</td>\n",
       "      <td>[{'disease_name': 'colonic neoplasm', 'therape...</td>\n",
       "    </tr>\n",
       "  </tbody>\n",
       "</table>\n",
       "</div>"
      ],
      "text/plain": [
       "  identifier identifier.source    target     target.source  \\\n",
       "0     100208  PubChem-compound    100208  PubChem Compound   \n",
       "1   10025195  PubChem-compound  10025195  PubChem Compound   \n",
       "2   10040286  PubChem-compound  10040286  PubChem Compound   \n",
       "3   10041551  PubChem-compound  10041551  PubChem Compound   \n",
       "4       5291  PubChem-compound      5291  PubChem Compound   \n",
       "\n",
       "                                OpenTargets_diseases  \n",
       "0  [{'disease_name': nan, 'therapeutic_areas': na...  \n",
       "1  [{'disease_name': nan, 'therapeutic_areas': na...  \n",
       "2  [{'disease_name': nan, 'therapeutic_areas': na...  \n",
       "3  [{'disease_name': nan, 'therapeutic_areas': na...  \n",
       "4  [{'disease_name': 'colonic neoplasm', 'therape...  "
      ]
     },
     "execution_count": 6,
     "metadata": {},
     "output_type": "execute_result"
    }
   ],
   "source": [
    "(\n",
    "    opentargets_df,\n",
    "    opentargets_metadata,\n",
    ") = opentargets.get_compound_disease_interactions(bridgedb_df=bridgdb_df)\n",
    "opentargets_df.head()"
   ]
  },
  {
   "cell_type": "markdown",
   "metadata": {},
   "source": [
    "# Create the BDF graph"
   ]
  },
  {
   "cell_type": "code",
   "execution_count": 7,
   "metadata": {},
   "outputs": [
    {
     "data": {
      "text/html": [
       "<div>\n",
       "<style scoped>\n",
       "    .dataframe tbody tr th:only-of-type {\n",
       "        vertical-align: middle;\n",
       "    }\n",
       "\n",
       "    .dataframe tbody tr th {\n",
       "        vertical-align: top;\n",
       "    }\n",
       "\n",
       "    .dataframe thead th {\n",
       "        text-align: right;\n",
       "    }\n",
       "</style>\n",
       "<table border=\"1\" class=\"dataframe\">\n",
       "  <thead>\n",
       "    <tr style=\"text-align: right;\">\n",
       "      <th></th>\n",
       "      <th>identifier</th>\n",
       "      <th>identifier.source</th>\n",
       "      <th>target</th>\n",
       "      <th>target.source</th>\n",
       "      <th>OpenTargets_diseases</th>\n",
       "      <th>MolMeDB_transporter_inhibited</th>\n",
       "    </tr>\n",
       "  </thead>\n",
       "  <tbody>\n",
       "    <tr>\n",
       "      <th>0</th>\n",
       "      <td>100208</td>\n",
       "      <td>PubChem-compound</td>\n",
       "      <td>100208</td>\n",
       "      <td>PubChem Compound</td>\n",
       "      <td>[{'disease_name': nan, 'therapeutic_areas': na...</td>\n",
       "      <td>[{'uniprot_trembl_id': 'P08183', 'hgnc_symbol'...</td>\n",
       "    </tr>\n",
       "    <tr>\n",
       "      <th>1</th>\n",
       "      <td>10040286</td>\n",
       "      <td>PubChem-compound</td>\n",
       "      <td>10040286</td>\n",
       "      <td>PubChem Compound</td>\n",
       "      <td>[{'disease_name': nan, 'therapeutic_areas': na...</td>\n",
       "      <td>[{'uniprot_trembl_id': nan, 'hgnc_symbol': nan...</td>\n",
       "    </tr>\n",
       "    <tr>\n",
       "      <th>2</th>\n",
       "      <td>10041551</td>\n",
       "      <td>PubChem-compound</td>\n",
       "      <td>10041551</td>\n",
       "      <td>PubChem Compound</td>\n",
       "      <td>[{'disease_name': nan, 'therapeutic_areas': na...</td>\n",
       "      <td>[{'uniprot_trembl_id': 'P23975', 'hgnc_symbol'...</td>\n",
       "    </tr>\n",
       "    <tr>\n",
       "      <th>3</th>\n",
       "      <td>10025195</td>\n",
       "      <td>PubChem-compound</td>\n",
       "      <td>10025195</td>\n",
       "      <td>PubChem Compound</td>\n",
       "      <td>[{'disease_name': nan, 'therapeutic_areas': na...</td>\n",
       "      <td>[{'uniprot_trembl_id': nan, 'hgnc_symbol': nan...</td>\n",
       "    </tr>\n",
       "    <tr>\n",
       "      <th>4</th>\n",
       "      <td>5291</td>\n",
       "      <td>PubChem-compound</td>\n",
       "      <td>5291</td>\n",
       "      <td>PubChem Compound</td>\n",
       "      <td>[{'disease_name': 'colonic neoplasm', 'therape...</td>\n",
       "      <td>[{'uniprot_trembl_id': 'O15244', 'hgnc_symbol'...</td>\n",
       "    </tr>\n",
       "  </tbody>\n",
       "</table>\n",
       "</div>"
      ],
      "text/plain": [
       "  identifier identifier.source    target     target.source  \\\n",
       "0     100208  PubChem-compound    100208  PubChem Compound   \n",
       "1   10040286  PubChem-compound  10040286  PubChem Compound   \n",
       "2   10041551  PubChem-compound  10041551  PubChem Compound   \n",
       "3   10025195  PubChem-compound  10025195  PubChem Compound   \n",
       "4       5291  PubChem-compound      5291  PubChem Compound   \n",
       "\n",
       "                                OpenTargets_diseases  \\\n",
       "0  [{'disease_name': nan, 'therapeutic_areas': na...   \n",
       "1  [{'disease_name': nan, 'therapeutic_areas': na...   \n",
       "2  [{'disease_name': nan, 'therapeutic_areas': na...   \n",
       "3  [{'disease_name': nan, 'therapeutic_areas': na...   \n",
       "4  [{'disease_name': 'colonic neoplasm', 'therape...   \n",
       "\n",
       "                       MolMeDB_transporter_inhibited  \n",
       "0  [{'uniprot_trembl_id': 'P08183', 'hgnc_symbol'...  \n",
       "1  [{'uniprot_trembl_id': nan, 'hgnc_symbol': nan...  \n",
       "2  [{'uniprot_trembl_id': 'P23975', 'hgnc_symbol'...  \n",
       "3  [{'uniprot_trembl_id': nan, 'hgnc_symbol': nan...  \n",
       "4  [{'uniprot_trembl_id': 'O15244', 'hgnc_symbol'...  "
      ]
     },
     "execution_count": 7,
     "metadata": {},
     "output_type": "execute_result"
    }
   ],
   "source": [
    "combined_df = combine_sources(\n",
    "    bridgdb_df, df_list=[opentargets_df, molmedb_transporter_inhibited_df]\n",
    ")\n",
    "combined_df.head()"
   ]
  },
  {
   "cell_type": "code",
   "execution_count": 8,
   "metadata": {},
   "outputs": [],
   "source": [
    "combined_metadata = create_or_append_to_metadata(\n",
    "    bridgdb_metadata, [opentargets_metadata, molmedb_transporter_inhibited_metadata]\n",
    ")"
   ]
  },
  {
   "cell_type": "markdown",
   "metadata": {},
   "source": [
    "# Saving the graph"
   ]
  },
  {
   "cell_type": "code",
   "execution_count": 9,
   "metadata": {},
   "outputs": [],
   "source": [
    "import os\n",
    "\n",
    "DATA_DIR = \"./data/metabolite_workflow\"\n",
    "os.makedirs(DATA_DIR, exist_ok=True)"
   ]
  },
  {
   "cell_type": "code",
   "execution_count": 10,
   "metadata": {},
   "outputs": [
    {
     "name": "stderr",
     "output_type": "stream",
     "text": [
      "Combined DataFrame saved in ./data/metabolite_workflow/metabolite_workflow_df.pkl\n",
      "Metadata saved in ./data/metabolite_workflow/metabolite_workflow_metadata.pkl\n",
      "Building graph: 0it [00:00, ?it/s]\n",
      "Graph is built successfully\n",
      "Graph saved in ./data/metabolite_workflow/metabolite_workflow_graph.pkl and ./data/metabolite_workflow/metabolite_workflow_graph.gml\n",
      "Graph saved in ./data/metabolite_workflow/metabolite_workflow_graph.edgelist\n"
     ]
    }
   ],
   "source": [
    "pygraph = saver.save_graph(\n",
    "    combined_df=combined_df,\n",
    "    combined_metadata=combined_metadata,\n",
    "    graph_name=\"metabolite_workflow\",\n",
    "    graph_dir=DATA_DIR,\n",
    ")"
   ]
  },
  {
   "cell_type": "markdown",
   "metadata": {},
   "source": [
    "# Graph statistics"
   ]
  },
  {
   "cell_type": "code",
   "execution_count": null,
   "metadata": {},
   "outputs": [],
   "source": [
    "graph_obj = BioGraph(graph=pygraph)\n",
    "graph_obj.graph_summary"
   ]
  },
  {
   "cell_type": "code",
   "execution_count": null,
   "metadata": {},
   "outputs": [],
   "source": [
    "graph_obj.count_nodes_by_data_source(plot=True)"
   ]
  },
  {
   "cell_type": "code",
   "execution_count": null,
   "metadata": {},
   "outputs": [],
   "source": [
    "graph_obj.count_edge_by_data_source(plot=True)"
   ]
  }
 ],
 "metadata": {
  "kernelspec": {
   "display_name": "pybiodatafuse",
   "language": "python",
   "name": "python3"
  },
  "language_info": {
   "codemirror_mode": {
    "name": "ipython",
    "version": 3
   },
   "file_extension": ".py",
   "mimetype": "text/x-python",
   "name": "python",
   "nbconvert_exporter": "python",
   "pygments_lexer": "ipython3",
   "version": "3.10.16"
  }
 },
 "nbformat": 4,
 "nbformat_minor": 4
}
