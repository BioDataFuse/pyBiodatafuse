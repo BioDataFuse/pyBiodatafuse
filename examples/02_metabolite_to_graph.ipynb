{
 "cells": [
  {
   "cell_type": "markdown",
   "metadata": {},
   "source": [
    "# Example: Metabolite workflow\n",
    "\n",
    "This notebook provides insights on how to use the tool if you have list of metabolites.\n",
    "Our current data sources include:\n",
    "* MolMeDB\n",
    "* AOP-WIKI RDF"
   ]
  },
  {
   "cell_type": "code",
   "execution_count": 1,
   "metadata": {},
   "outputs": [],
   "source": [
    "# Import modules\n",
    "import pandas as pd\n",
    "\n",
    "from pyBiodatafuse import id_mapper\n",
    "from pyBiodatafuse.annotators import aopwiki, molmedb, opentargets\n",
    "from pyBiodatafuse.constants import MOLMEDB_COMPOUND_PROTEIN_COL, OPENTARGETS_DISEASE_COL\n",
    "from pyBiodatafuse.utils import combine_sources"
   ]
  },
  {
   "cell_type": "markdown",
   "metadata": {},
   "source": [
    "# Load list of metabolites/chemicals/compounds"
   ]
  },
  {
   "cell_type": "code",
   "execution_count": 2,
   "metadata": {},
   "outputs": [
    {
     "data": {
      "text/plain": [
       "1"
      ]
     },
     "execution_count": 2,
     "metadata": {},
     "output_type": "execute_result"
    }
   ],
   "source": [
    "metabolites_of_interest = \"\"\"31304\"\"\"\n",
    "# metabolites_of_interest = \"\"\"CHEMBL1201583\n",
    "# CHEMBL941\n",
    "# \"\"\"\n",
    "# metabolites_of_interest = \"5291\"\n",
    "# metabolites_of_interest = \"10025195\"\n",
    "\n",
    "metabolite_list = metabolites_of_interest.split(\"\\n\")\n",
    "len(metabolite_list)"
   ]
  },
  {
   "cell_type": "code",
   "execution_count": 3,
   "metadata": {},
   "outputs": [
    {
     "data": {
      "application/vnd.microsoft.datawrangler.viewer.v0+json": {
       "columns": [
        {
         "name": "index",
         "rawType": "int64",
         "type": "integer"
        },
        {
         "name": "identifier",
         "rawType": "object",
         "type": "string"
        }
       ],
       "conversionMethod": "pd.DataFrame",
       "ref": "f26f48e3-e898-427d-8c5b-5d9498888e3c",
       "rows": [
        [
         "0",
         "31304"
        ]
       ],
       "shape": {
        "columns": 1,
        "rows": 1
       }
      },
      "text/html": [
       "<div>\n",
       "<style scoped>\n",
       "    .dataframe tbody tr th:only-of-type {\n",
       "        vertical-align: middle;\n",
       "    }\n",
       "\n",
       "    .dataframe tbody tr th {\n",
       "        vertical-align: top;\n",
       "    }\n",
       "\n",
       "    .dataframe thead th {\n",
       "        text-align: right;\n",
       "    }\n",
       "</style>\n",
       "<table border=\"1\" class=\"dataframe\">\n",
       "  <thead>\n",
       "    <tr style=\"text-align: right;\">\n",
       "      <th></th>\n",
       "      <th>identifier</th>\n",
       "    </tr>\n",
       "  </thead>\n",
       "  <tbody>\n",
       "    <tr>\n",
       "      <th>0</th>\n",
       "      <td>31304</td>\n",
       "    </tr>\n",
       "  </tbody>\n",
       "</table>\n",
       "</div>"
      ],
      "text/plain": [
       "  identifier\n",
       "0      31304"
      ]
     },
     "execution_count": 3,
     "metadata": {},
     "output_type": "execute_result"
    }
   ],
   "source": [
    "data_input = pd.DataFrame(metabolite_list, columns=[\"identifier\"])\n",
    "data_input.head()"
   ]
  },
  {
   "cell_type": "markdown",
   "metadata": {},
   "source": [
    "### Entity resolution using BridgeDB"
   ]
  },
  {
   "cell_type": "code",
   "execution_count": 4,
   "metadata": {},
   "outputs": [
    {
     "data": {
      "application/vnd.microsoft.datawrangler.viewer.v0+json": {
       "columns": [
        {
         "name": "index",
         "rawType": "int64",
         "type": "integer"
        },
        {
         "name": "identifier",
         "rawType": "object",
         "type": "string"
        },
        {
         "name": "identifier.source",
         "rawType": "object",
         "type": "string"
        },
        {
         "name": "target",
         "rawType": "object",
         "type": "string"
        },
        {
         "name": "target.source",
         "rawType": "object",
         "type": "string"
        }
       ],
       "conversionMethod": "pd.DataFrame",
       "ref": "c61b27ba-c41f-4748-af89-c99513557c1b",
       "rows": [
        [
         "0",
         "31304",
         "PubChem-compound",
         "29044",
         "ChemSpider"
        ],
        [
         "1",
         "31304",
         "PubChem-compound",
         "124-87-8",
         "CAS"
        ],
        [
         "2",
         "31304",
         "PubChem-compound",
         "31304",
         "PubChem Compound"
        ],
        [
         "3",
         "31304",
         "PubChem-compound",
         "CHEMBL506977",
         "ChEMBL compound"
        ],
        [
         "4",
         "31304",
         "PubChem-compound",
         "134126",
         "ChEBI"
        ]
       ],
       "shape": {
        "columns": 4,
        "rows": 5
       }
      },
      "text/html": [
       "<div>\n",
       "<style scoped>\n",
       "    .dataframe tbody tr th:only-of-type {\n",
       "        vertical-align: middle;\n",
       "    }\n",
       "\n",
       "    .dataframe tbody tr th {\n",
       "        vertical-align: top;\n",
       "    }\n",
       "\n",
       "    .dataframe thead th {\n",
       "        text-align: right;\n",
       "    }\n",
       "</style>\n",
       "<table border=\"1\" class=\"dataframe\">\n",
       "  <thead>\n",
       "    <tr style=\"text-align: right;\">\n",
       "      <th></th>\n",
       "      <th>identifier</th>\n",
       "      <th>identifier.source</th>\n",
       "      <th>target</th>\n",
       "      <th>target.source</th>\n",
       "    </tr>\n",
       "  </thead>\n",
       "  <tbody>\n",
       "    <tr>\n",
       "      <th>0</th>\n",
       "      <td>31304</td>\n",
       "      <td>PubChem-compound</td>\n",
       "      <td>29044</td>\n",
       "      <td>ChemSpider</td>\n",
       "    </tr>\n",
       "    <tr>\n",
       "      <th>1</th>\n",
       "      <td>31304</td>\n",
       "      <td>PubChem-compound</td>\n",
       "      <td>124-87-8</td>\n",
       "      <td>CAS</td>\n",
       "    </tr>\n",
       "    <tr>\n",
       "      <th>2</th>\n",
       "      <td>31304</td>\n",
       "      <td>PubChem-compound</td>\n",
       "      <td>31304</td>\n",
       "      <td>PubChem Compound</td>\n",
       "    </tr>\n",
       "    <tr>\n",
       "      <th>3</th>\n",
       "      <td>31304</td>\n",
       "      <td>PubChem-compound</td>\n",
       "      <td>CHEMBL506977</td>\n",
       "      <td>ChEMBL compound</td>\n",
       "    </tr>\n",
       "    <tr>\n",
       "      <th>4</th>\n",
       "      <td>31304</td>\n",
       "      <td>PubChem-compound</td>\n",
       "      <td>134126</td>\n",
       "      <td>ChEBI</td>\n",
       "    </tr>\n",
       "  </tbody>\n",
       "</table>\n",
       "</div>"
      ],
      "text/plain": [
       "  identifier identifier.source        target     target.source\n",
       "0      31304  PubChem-compound         29044        ChemSpider\n",
       "1      31304  PubChem-compound      124-87-8               CAS\n",
       "2      31304  PubChem-compound         31304  PubChem Compound\n",
       "3      31304  PubChem-compound  CHEMBL506977   ChEMBL compound\n",
       "4      31304  PubChem-compound        134126             ChEBI"
      ]
     },
     "execution_count": 4,
     "metadata": {},
     "output_type": "execute_result"
    }
   ],
   "source": [
    "bridgdb_df, bridgdb_metadata = id_mapper.bridgedb_xref(\n",
    "    identifiers=data_input,\n",
    "    input_species=\"Human\",\n",
    "    input_datasource=\"PubChem Compound\",  # ChEMBL compound\n",
    "    output_datasource=\"All\",\n",
    ")\n",
    "bridgdb_df.head()"
   ]
  },
  {
   "cell_type": "markdown",
   "metadata": {},
   "source": [
    "### AOPs from AOP-Wiki RDF"
   ]
  },
  {
   "cell_type": "code",
   "execution_count": 5,
   "metadata": {},
   "outputs": [],
   "source": [
    "# test = molmedb.get_compound_gene_inhibitor(bridgedb_df=bridgdb_df)\n",
    "# test.head()"
   ]
  },
  {
   "cell_type": "code",
   "execution_count": 6,
   "metadata": {},
   "outputs": [
    {
     "name": "stderr",
     "output_type": "stream",
     "text": [
      "Querying aopwiki for compound: 100%|██████████| 1/1 [00:00<00:00,  1.07it/s]\n"
     ]
    },
    {
     "data": {
      "application/vnd.microsoft.datawrangler.viewer.v0+json": {
       "columns": [
        {
         "name": "index",
         "rawType": "int64",
         "type": "integer"
        },
        {
         "name": "identifier",
         "rawType": "object",
         "type": "string"
        },
        {
         "name": "identifier.source",
         "rawType": "object",
         "type": "string"
        },
        {
         "name": "target",
         "rawType": "object",
         "type": "string"
        },
        {
         "name": "target.source",
         "rawType": "object",
         "type": "string"
        },
        {
         "name": "aopwiki",
         "rawType": "object",
         "type": "unknown"
        }
       ],
       "conversionMethod": "pd.DataFrame",
       "ref": "ca5e5c42-03d9-4b92-bde7-e641d2ca728e",
       "rows": [
        [
         "0",
         "31304",
         "PubChem-compound",
         "31304",
         "PubChem Compound",
         "[{'aop': 'https://identifiers.org/aop/10', 'aop_title': 'Binding to the picrotoxin site of ionotropic GABA receptors leading to epileptic seizures in adult brain', 'MIEtitle': 'Binding at picrotoxin site, iGABAR chloride channel', 'MIE': 'https://identifiers.org/aop.events/667', 'KE_downstream': 'https://identifiers.org/aop.events/64', 'KE_downstream_title': 'Reduction, Ionotropic GABA receptor chloride channel conductance', 'KER': 'https://identifiers.org/aop.relationships/666', 'ao': 'https://identifiers.org/aop.events/613', 'ao_title': 'Occurrence, Epileptic seizure', 'KE_upstream': 'https://identifiers.org/aop.events/667', 'KE_upstream_title': 'Binding at picrotoxin site, iGABAR chloride channel', 'KE_upstream_organ': 'http://purl.obolibrary.org/obo/UBERON_0000955', 'KE_downstream_organ': 'http://purl.obolibrary.org/obo/UBERON_0000955'}, {'aop': 'https://identifiers.org/aop/10', 'aop_title': 'Binding to the picrotoxin site of ionotropic GABA receptors leading to epileptic seizures in adult brain', 'MIEtitle': 'Binding at picrotoxin site, iGABAR chloride channel', 'MIE': 'https://identifiers.org/aop.events/667', 'KE_downstream': 'https://identifiers.org/aop.events/616', 'KE_downstream_title': 'Occurrence, A paroxysmal depolarizing shift', 'KER': 'https://identifiers.org/aop.relationships/684', 'ao': 'https://identifiers.org/aop.events/613', 'ao_title': 'Occurrence, Epileptic seizure', 'KE_upstream': 'https://identifiers.org/aop.events/682', 'KE_upstream_title': 'Generation, Amplified excitatory postsynaptic potential (EPSP)', 'KE_upstream_organ': 'http://purl.obolibrary.org/obo/UBERON_0000955', 'KE_downstream_organ': 'http://purl.obolibrary.org/obo/UBERON_0000955'}, {'aop': 'https://identifiers.org/aop/10', 'aop_title': 'Binding to the picrotoxin site of ionotropic GABA receptors leading to epileptic seizures in adult brain', 'MIEtitle': 'Binding at picrotoxin site, iGABAR chloride channel', 'MIE': 'https://identifiers.org/aop.events/667', 'KE_downstream': 'https://identifiers.org/aop.events/613', 'KE_downstream_title': 'Occurrence, Epileptic seizure', 'KER': 'https://identifiers.org/aop.relationships/630', 'ao': 'https://identifiers.org/aop.events/613', 'ao_title': 'Occurrence, Epileptic seizure', 'KE_upstream': 'https://identifiers.org/aop.events/616', 'KE_upstream_title': 'Occurrence, A paroxysmal depolarizing shift', 'KE_upstream_organ': nan, 'KE_downstream_organ': nan}, {'aop': 'https://identifiers.org/aop/10', 'aop_title': 'Binding to the picrotoxin site of ionotropic GABA receptors leading to epileptic seizures in adult brain', 'MIEtitle': 'Binding at picrotoxin site, iGABAR chloride channel', 'MIE': 'https://identifiers.org/aop.events/667', 'KE_downstream': 'https://identifiers.org/aop.events/682', 'KE_downstream_title': 'Generation, Amplified excitatory postsynaptic potential (EPSP)', 'KER': 'https://identifiers.org/aop.relationships/683', 'ao': 'https://identifiers.org/aop.events/613', 'ao_title': 'Occurrence, Epileptic seizure', 'KE_upstream': 'https://identifiers.org/aop.events/669', 'KE_upstream_title': 'Reduction, Neuronal synaptic inhibition', 'KE_upstream_organ': nan, 'KE_downstream_organ': nan}, {'aop': 'https://identifiers.org/aop/10', 'aop_title': 'Binding to the picrotoxin site of ionotropic GABA receptors leading to epileptic seizures in adult brain', 'MIEtitle': 'Binding at picrotoxin site, iGABAR chloride channel', 'MIE': 'https://identifiers.org/aop.events/667', 'KE_downstream': 'https://identifiers.org/aop.events/669', 'KE_downstream_title': 'Reduction, Neuronal synaptic inhibition', 'KER': 'https://identifiers.org/aop.relationships/667', 'ao': 'https://identifiers.org/aop.events/613', 'ao_title': 'Occurrence, Epileptic seizure', 'KE_upstream': 'https://identifiers.org/aop.events/64', 'KE_upstream_title': 'Reduction, Ionotropic GABA receptor chloride channel conductance', 'KE_upstream_organ': nan, 'KE_downstream_organ': nan}]"
        ]
       ],
       "shape": {
        "columns": 5,
        "rows": 1
       }
      },
      "text/html": [
       "<div>\n",
       "<style scoped>\n",
       "    .dataframe tbody tr th:only-of-type {\n",
       "        vertical-align: middle;\n",
       "    }\n",
       "\n",
       "    .dataframe tbody tr th {\n",
       "        vertical-align: top;\n",
       "    }\n",
       "\n",
       "    .dataframe thead th {\n",
       "        text-align: right;\n",
       "    }\n",
       "</style>\n",
       "<table border=\"1\" class=\"dataframe\">\n",
       "  <thead>\n",
       "    <tr style=\"text-align: right;\">\n",
       "      <th></th>\n",
       "      <th>identifier</th>\n",
       "      <th>identifier.source</th>\n",
       "      <th>target</th>\n",
       "      <th>target.source</th>\n",
       "      <th>aopwiki</th>\n",
       "    </tr>\n",
       "  </thead>\n",
       "  <tbody>\n",
       "    <tr>\n",
       "      <th>0</th>\n",
       "      <td>31304</td>\n",
       "      <td>PubChem-compound</td>\n",
       "      <td>LEJRLSZVESQKJK-UHFFFAOYSA-N</td>\n",
       "      <td>InChIKey</td>\n",
       "      <td>[{'uniprot_trembl_id': nan, 'hgnc_symbol': nan...</td>\n",
       "    </tr>\n",
       "    <tr>\n",
       "      <th>2</th>\n",
       "      <td>10040286</td>\n",
       "      <td>PubChem-compound</td>\n",
       "      <td>FYGREZKTJIXWIH-UHFFFAOYSA-N</td>\n",
       "      <td>InChIKey</td>\n",
       "      <td>[{'uniprot_trembl_id': nan, 'hgnc_symbol': nan...</td>\n",
       "    </tr>\n",
       "    <tr>\n",
       "      <th>3</th>\n",
       "      <td>10041551</td>\n",
       "      <td>PubChem-compound</td>\n",
       "      <td>OVVBIIBBRZVPAL-UHFFFAOYSA-N</td>\n",
       "      <td>InChIKey</td>\n",
       "      <td>[{'uniprot_trembl_id': 'P23975', 'hgnc_symbol'...</td>\n",
       "    </tr>\n",
       "    <tr>\n",
       "      <th>4</th>\n",
       "      <td>5291</td>\n",
       "      <td>PubChem-compound</td>\n",
       "      <td>KTUFNOKKBVMGRW-UHFFFAOYSA-N</td>\n",
       "      <td>InChIKey</td>\n",
       "      <td>[{'uniprot_trembl_id': 'O15244', 'hgnc_symbol'...</td>\n",
       "    </tr>\n",
       "  </tbody>\n",
       "</table>\n",
       "</div>"
      ],
      "text/plain": [
       "  identifier identifier.source target     target.source  \\\n",
       "0      31304  PubChem-compound  31304  PubChem Compound   \n",
       "\n",
       "                       MolMeDB_transporter_inhibited  \n",
       "0  [{'uniprot_trembl_id': 'P08183', 'hgnc_symbol'...  \n",
       "1  [{'uniprot_trembl_id': nan, 'hgnc_symbol': nan...  \n",
       "2  [{'uniprot_trembl_id': nan, 'hgnc_symbol': nan...  \n",
       "3  [{'uniprot_trembl_id': 'P23975', 'hgnc_symbol'...  \n",
       "4  [{'uniprot_trembl_id': 'O15244', 'hgnc_symbol'...  "
      ]
     },
     "execution_count": 6,
     "metadata": {},
     "output_type": "execute_result"
    }
   ],
   "source": [
    "aopwiki_df, aopwiki_metadata = aopwiki.get_aops(\n",
    "    bridgedb_df=bridgdb_df,\n",
    "    db=\"aopwiki\",\n",
    "    input_type=\"compound\",\n",
    "    input_identifier=\"PubChem Compound\",\n",
    ")\n",
    "aopwiki_df"
   ]
  },
  {
   "cell_type": "markdown",
   "metadata": {},
   "source": [
    "### Transporter inhibited from MolMeDB"
   ]
  },
  {
   "cell_type": "code",
   "execution_count": null,
   "metadata": {},
   "outputs": [],
   "source": [
    "(\n",
    "    molmedb_transporter_inhibited_df,\n",
    "    molmedb_transporter_inhibited_metadata,\n",
    ") = molmedb.get_compound_gene_inhibitor(bridgedb_df=bridgdb_df)\n",
    "molmedb_transporter_inhibited_df.head()"
   ]
  },
  {
   "cell_type": "code",
   "execution_count": 7,
   "metadata": {},
   "outputs": [
    {
     "data": {
      "text/plain": [
       "[{'uniprot_trembl_id': 'O15244',\n",
       "  'hgnc_symbol': 'SLC22A2',\n",
       "  'source_pmid': '23241029'},\n",
       " {'uniprot_trembl_id': 'Q9UNQ0',\n",
       "  'hgnc_symbol': 'ABCG2',\n",
       "  'source_pmid': '15155841, 18678495, 19932960'}]"
      ]
     },
     "execution_count": 7,
     "metadata": {},
     "output_type": "execute_result"
    }
   ],
   "source": [
    "molmedb_transporter_inhibited_df[MOLMEDB_COMPOUND_PROTEIN_COL][4]"
   ]
  }
 ],
 "metadata": {
  "kernelspec": {
   "display_name": "bdf",
   "language": "python",
   "name": "python3"
  },
  "language_info": {
   "codemirror_mode": {
    "name": "ipython",
    "version": 3
   },
   "file_extension": ".py",
   "mimetype": "text/x-python",
   "name": "python",
   "nbconvert_exporter": "python",
   "pygments_lexer": "ipython3",
   "version": "3.11.11"
  }
 },
 "nbformat": 4,
 "nbformat_minor": 4
}
