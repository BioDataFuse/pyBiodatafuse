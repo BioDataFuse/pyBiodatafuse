{
 "cells": [
  {
   "cell_type": "markdown",
   "metadata": {},
   "source": [
    "# Example: Compound"
   ]
  },
  {
   "cell_type": "code",
   "execution_count": 1,
   "metadata": {},
   "outputs": [
    {
     "name": "stdout",
     "output_type": "stream",
     "text": [
      "PYTHONPATH: c:\\Users\\are10\\Documents\\BAFSTU\\code\\pyBioDatafusemain\\pyBiodatafuse\\src\n"
     ]
    }
   ],
   "source": [
    "import os\n",
    "import sys\n",
    "\n",
    "project_root = os.path.abspath(os.path.join(os.getcwd(), \"..\"))\n",
    "src_path = os.path.join(project_root, \"src\")\n",
    "\n",
    "if src_path not in sys.path:\n",
    "    sys.path.insert(0, src_path)\n",
    "\n",
    "print(\"PYTHONPATH:\", sys.path[0])"
   ]
  },
  {
   "cell_type": "code",
   "execution_count": 2,
   "metadata": {},
   "outputs": [],
   "source": [
    "# Import modules\n",
    "import pandas as pd\n",
    "\n",
    "from pyBiodatafuse import id_mapper\n",
    "from pyBiodatafuse.annotators import intact\n",
    "from pyBiodatafuse.graph import generator\n",
    "from pyBiodatafuse.utils import combine_sources"
   ]
  },
  {
   "cell_type": "markdown",
   "metadata": {},
   "source": [
    "# Load list of metabolites/chemicals/compounds"
   ]
  },
  {
   "cell_type": "code",
   "execution_count": 3,
   "metadata": {},
   "outputs": [
    {
     "data": {
      "text/plain": [
       "2"
      ]
     },
     "execution_count": 3,
     "metadata": {},
     "output_type": "execute_result"
    }
   ],
   "source": [
    "metabolites_of_interest = \"\"\"15361\n",
    "16393\"\"\"\n",
    "\n",
    "metabolite_list = metabolites_of_interest.split(\"\\n\")\n",
    "len(metabolite_list)"
   ]
  },
  {
   "cell_type": "code",
   "execution_count": 4,
   "metadata": {},
   "outputs": [
    {
     "data": {
      "text/html": [
       "<div>\n",
       "<style scoped>\n",
       "    .dataframe tbody tr th:only-of-type {\n",
       "        vertical-align: middle;\n",
       "    }\n",
       "\n",
       "    .dataframe tbody tr th {\n",
       "        vertical-align: top;\n",
       "    }\n",
       "\n",
       "    .dataframe thead th {\n",
       "        text-align: right;\n",
       "    }\n",
       "</style>\n",
       "<table border=\"1\" class=\"dataframe\">\n",
       "  <thead>\n",
       "    <tr style=\"text-align: right;\">\n",
       "      <th></th>\n",
       "      <th>identifier</th>\n",
       "    </tr>\n",
       "  </thead>\n",
       "  <tbody>\n",
       "    <tr>\n",
       "      <th>0</th>\n",
       "      <td>15361</td>\n",
       "    </tr>\n",
       "    <tr>\n",
       "      <th>1</th>\n",
       "      <td>16393</td>\n",
       "    </tr>\n",
       "  </tbody>\n",
       "</table>\n",
       "</div>"
      ],
      "text/plain": [
       "  identifier\n",
       "0      15361\n",
       "1      16393"
      ]
     },
     "execution_count": 4,
     "metadata": {},
     "output_type": "execute_result"
    }
   ],
   "source": [
    "data_input = pd.DataFrame(metabolite_list, columns=[\"identifier\"])\n",
    "data_input.head()"
   ]
  },
  {
   "cell_type": "markdown",
   "metadata": {},
   "source": [
    "### Entity resolution using BridgeDB"
   ]
  },
  {
   "cell_type": "code",
   "execution_count": 5,
   "metadata": {},
   "outputs": [
    {
     "data": {
      "text/html": [
       "<div>\n",
       "<style scoped>\n",
       "    .dataframe tbody tr th:only-of-type {\n",
       "        vertical-align: middle;\n",
       "    }\n",
       "\n",
       "    .dataframe tbody tr th {\n",
       "        vertical-align: top;\n",
       "    }\n",
       "\n",
       "    .dataframe thead th {\n",
       "        text-align: right;\n",
       "    }\n",
       "</style>\n",
       "<table border=\"1\" class=\"dataframe\">\n",
       "  <thead>\n",
       "    <tr style=\"text-align: right;\">\n",
       "      <th></th>\n",
       "      <th>identifier</th>\n",
       "      <th>identifier.source</th>\n",
       "      <th>target</th>\n",
       "      <th>target.source</th>\n",
       "    </tr>\n",
       "  </thead>\n",
       "  <tbody>\n",
       "    <tr>\n",
       "      <th>0</th>\n",
       "      <td>15361</td>\n",
       "      <td>ChEBI</td>\n",
       "      <td>Q27089397</td>\n",
       "      <td>Wikidata</td>\n",
       "    </tr>\n",
       "    <tr>\n",
       "      <th>1</th>\n",
       "      <td>15361</td>\n",
       "      <td>ChEBI</td>\n",
       "      <td>96901</td>\n",
       "      <td>ChemSpider</td>\n",
       "    </tr>\n",
       "    <tr>\n",
       "      <th>2</th>\n",
       "      <td>15361</td>\n",
       "      <td>ChEBI</td>\n",
       "      <td>CHEBI:15361</td>\n",
       "      <td>ChEBI</td>\n",
       "    </tr>\n",
       "    <tr>\n",
       "      <th>3</th>\n",
       "      <td>15361</td>\n",
       "      <td>ChEBI</td>\n",
       "      <td>107735</td>\n",
       "      <td>PubChem Compound</td>\n",
       "    </tr>\n",
       "    <tr>\n",
       "      <th>4</th>\n",
       "      <td>15361</td>\n",
       "      <td>ChEBI</td>\n",
       "      <td>LCTONWCANYUPML-UHFFFAOYSA-M</td>\n",
       "      <td>InChIKey</td>\n",
       "    </tr>\n",
       "    <tr>\n",
       "      <th>5</th>\n",
       "      <td>15361</td>\n",
       "      <td>ChEBI</td>\n",
       "      <td>15361</td>\n",
       "      <td>ChEBI</td>\n",
       "    </tr>\n",
       "    <tr>\n",
       "      <th>6</th>\n",
       "      <td>15361</td>\n",
       "      <td>ChEBI</td>\n",
       "      <td>57-60-3</td>\n",
       "      <td>CAS</td>\n",
       "    </tr>\n",
       "    <tr>\n",
       "      <th>7</th>\n",
       "      <td>16393</td>\n",
       "      <td>ChEBI</td>\n",
       "      <td>123-78-4</td>\n",
       "      <td>CAS</td>\n",
       "    </tr>\n",
       "    <tr>\n",
       "      <th>8</th>\n",
       "      <td>16393</td>\n",
       "      <td>ChEBI</td>\n",
       "      <td>5280335</td>\n",
       "      <td>PubChem Compound</td>\n",
       "    </tr>\n",
       "    <tr>\n",
       "      <th>9</th>\n",
       "      <td>16393</td>\n",
       "      <td>ChEBI</td>\n",
       "      <td>Q46298</td>\n",
       "      <td>Wikidata</td>\n",
       "    </tr>\n",
       "  </tbody>\n",
       "</table>\n",
       "</div>"
      ],
      "text/plain": [
       "  identifier identifier.source                       target     target.source\n",
       "0      15361             ChEBI                    Q27089397          Wikidata\n",
       "1      15361             ChEBI                        96901        ChemSpider\n",
       "2      15361             ChEBI                  CHEBI:15361             ChEBI\n",
       "3      15361             ChEBI                       107735  PubChem Compound\n",
       "4      15361             ChEBI  LCTONWCANYUPML-UHFFFAOYSA-M          InChIKey\n",
       "5      15361             ChEBI                        15361             ChEBI\n",
       "6      15361             ChEBI                      57-60-3               CAS\n",
       "7      16393             ChEBI                     123-78-4               CAS\n",
       "8      16393             ChEBI                      5280335  PubChem Compound\n",
       "9      16393             ChEBI                       Q46298          Wikidata"
      ]
     },
     "execution_count": 5,
     "metadata": {},
     "output_type": "execute_result"
    }
   ],
   "source": [
    "bridgedb_compound_df, bridgdb_metadata = id_mapper.bridgedb_xref(\n",
    "    identifiers=data_input,\n",
    "    input_species=\"Human\",\n",
    "    input_datasource=\"ChEBI\",\n",
    "    output_datasource=\"All\",\n",
    ")\n",
    "bridgedb_compound_df.head(10)"
   ]
  },
  {
   "cell_type": "markdown",
   "metadata": {},
   "source": [
    "### Gene Interactions from IntAct"
   ]
  },
  {
   "cell_type": "code",
   "execution_count": 6,
   "metadata": {},
   "outputs": [
    {
     "data": {
      "text/html": [
       "<div>\n",
       "<style scoped>\n",
       "    .dataframe tbody tr th:only-of-type {\n",
       "        vertical-align: middle;\n",
       "    }\n",
       "\n",
       "    .dataframe tbody tr th {\n",
       "        vertical-align: top;\n",
       "    }\n",
       "\n",
       "    .dataframe thead th {\n",
       "        text-align: right;\n",
       "    }\n",
       "</style>\n",
       "<table border=\"1\" class=\"dataframe\">\n",
       "  <thead>\n",
       "    <tr style=\"text-align: right;\">\n",
       "      <th></th>\n",
       "      <th>identifier</th>\n",
       "      <th>identifier.source</th>\n",
       "      <th>target</th>\n",
       "      <th>target.source</th>\n",
       "      <th>IntAct_compound_interactions</th>\n",
       "    </tr>\n",
       "  </thead>\n",
       "  <tbody>\n",
       "    <tr>\n",
       "      <th>0</th>\n",
       "      <td>15361</td>\n",
       "      <td>ChEBI</td>\n",
       "      <td>CHEBI:15361</td>\n",
       "      <td>ChEBI</td>\n",
       "      <td>[{'interaction_id': 'EBI-9301798', 'interactor...</td>\n",
       "    </tr>\n",
       "    <tr>\n",
       "      <th>1</th>\n",
       "      <td>16393</td>\n",
       "      <td>ChEBI</td>\n",
       "      <td>CHEBI:16393</td>\n",
       "      <td>ChEBI</td>\n",
       "      <td>[{'interaction_id': 'EBI-26355511', 'interacto...</td>\n",
       "    </tr>\n",
       "  </tbody>\n",
       "</table>\n",
       "</div>"
      ],
      "text/plain": [
       "  identifier identifier.source       target target.source  \\\n",
       "0      15361             ChEBI  CHEBI:15361         ChEBI   \n",
       "1      16393             ChEBI  CHEBI:16393         ChEBI   \n",
       "\n",
       "                        IntAct_compound_interactions  \n",
       "0  [{'interaction_id': 'EBI-9301798', 'interactor...  \n",
       "1  [{'interaction_id': 'EBI-26355511', 'interacto...  "
      ]
     },
     "execution_count": 6,
     "metadata": {},
     "output_type": "execute_result"
    }
   ],
   "source": [
    "intact_compound_df, intact_compound_metadata = intact.get_compound_interactions(\n",
    "    bridgedb_compound_df, interaction_type=\"both\"\n",
    ")\n",
    "intact_compound_df.head(10)"
   ]
  },
  {
   "cell_type": "code",
   "execution_count": 7,
   "metadata": {},
   "outputs": [
    {
     "data": {
      "text/plain": [
       "[{'interaction_id': 'EBI-9301798',\n",
       "  'interactor_id_A': 'EBI-9096',\n",
       "  'interactor_id_B': 'EBI-6621808',\n",
       "  'binary_interaction_id': 13894862,\n",
       "  'confidence_values': ['intact-miscore:0.44'],\n",
       "  'score': 0.44,\n",
       "  'biological_role_A': 'enzyme',\n",
       "  'biological_role_B': 'enzyme target',\n",
       "  'type': 'enzymatic reaction',\n",
       "  'stoichiometry_A': '0-0',\n",
       "  'stoichiometry_B': '0-0',\n",
       "  'detection_method': 'enzymatic study',\n",
       "  'detection_method_id': 'MI:0415',\n",
       "  'host_organism': 'In vitro',\n",
       "  'interactor_A_name': 'ilvb_yeast',\n",
       "  'interactor_B_name': 'pyruvate',\n",
       "  'interactor_A_species': 'Saccharomyces cerevisiae',\n",
       "  'interactor_B_species': 'Chemical synthesis (Chemical synthesis)',\n",
       "  'molecule_A': 'ILV2',\n",
       "  'molecule_B': 'pyruvate',\n",
       "  'id_A': 'P07342',\n",
       "  'id_B': 'CHEBI:15361',\n",
       "  'pubmed_publication_id': '16390333',\n",
       "  'altIdsA': ['P07342 (uniprotkb)', 'D6VZT1 (uniprotkb)', 'EBI-9096 (intact)'],\n",
       "  'altIdsB': ['CHEBI:15361 (chebi)', 'EBI-6621808 (intact)'],\n",
       "  'intact_link_to': None},\n",
       " {'interaction_id': 'EBI-6621805',\n",
       "  'interactor_id_A': 'EBI-372327',\n",
       "  'interactor_id_B': 'EBI-6621808',\n",
       "  'binary_interaction_id': 11900151,\n",
       "  'confidence_values': ['intact-miscore:0.44'],\n",
       "  'score': 0.44,\n",
       "  'biological_role_A': 'enzyme',\n",
       "  'biological_role_B': 'enzyme target',\n",
       "  'type': 'enzymatic reaction',\n",
       "  'stoichiometry_A': '0-0',\n",
       "  'stoichiometry_B': '0-0',\n",
       "  'detection_method': 'oxidoreduct assay',\n",
       "  'detection_method_id': 'MI:0979',\n",
       "  'host_organism': 'In vitro',\n",
       "  'interactor_A_name': 'ldha_human',\n",
       "  'interactor_B_name': 'pyruvate',\n",
       "  'interactor_A_species': 'Homo sapiens',\n",
       "  'interactor_B_species': 'Chemical synthesis (Chemical synthesis)',\n",
       "  'molecule_A': 'LDHA',\n",
       "  'molecule_B': 'pyruvate',\n",
       "  'id_A': 'P00338',\n",
       "  'id_B': 'CHEBI:15361',\n",
       "  'pubmed_publication_id': '23523103',\n",
       "  'altIdsA': ['ENSP00000395337.3 (ensembl)',\n",
       "   'Q53G53 (uniprotkb)',\n",
       "   'EBI-372327 (intact)',\n",
       "   'D3DQY3 (uniprotkb)',\n",
       "   'F8W819 (uniprotkb)',\n",
       "   'B7Z5E3 (uniprotkb)',\n",
       "   'ENSP00000445331.1 (ensembl)',\n",
       "   'ENSP00000500953.1 (ensembl)',\n",
       "   'Q9UDE9 (uniprotkb)',\n",
       "   'Q9UDE8 (uniprotkb)',\n",
       "   'Q6IBM7 (uniprotkb)',\n",
       "   'ENSP00000499898.1 (ensembl)',\n",
       "   'Q6ZNV1 (uniprotkb)',\n",
       "   'P00338 (uniprotkb)',\n",
       "   'B4DKQ2 (uniprotkb)',\n",
       "   'ENSP00000499977.1 (ensembl)'],\n",
       "  'altIdsB': ['CHEBI:15361 (chebi)', 'EBI-6621808 (intact)'],\n",
       "  'intact_link_to': None}]"
      ]
     },
     "execution_count": 7,
     "metadata": {},
     "output_type": "execute_result"
    }
   ],
   "source": [
    "intact_compound_df[\"IntAct_compound_interactions\"][0]"
   ]
  },
  {
   "cell_type": "code",
   "execution_count": 8,
   "metadata": {},
   "outputs": [],
   "source": [
    "combined_df = combine_sources(\n",
    "    bridgedb_compound_df,\n",
    "    [intact_compound_df],\n",
    ")"
   ]
  },
  {
   "cell_type": "code",
   "execution_count": 9,
   "metadata": {},
   "outputs": [
    {
     "name": "stderr",
     "output_type": "stream",
     "text": [
      "Building graph: 100%|██████████| 2/2 [00:00<00:00, 969.56it/s]\n"
     ]
    }
   ],
   "source": [
    "pygraph = generator.build_networkx_graph(combined_df)"
   ]
  },
  {
   "cell_type": "code",
   "execution_count": 10,
   "metadata": {},
   "outputs": [
    {
     "data": {
      "text/plain": [
       "(2, 5)"
      ]
     },
     "execution_count": 10,
     "metadata": {},
     "output_type": "execute_result"
    }
   ],
   "source": [
    "combined_df.shape"
   ]
  },
  {
   "cell_type": "code",
   "execution_count": 11,
   "metadata": {},
   "outputs": [
    {
     "name": "stdout",
     "output_type": "stream",
     "text": [
      "Applying default style...\n",
      "Applying preferred layout\n"
     ]
    }
   ],
   "source": [
    "from pyBiodatafuse.graph import cytoscape\n",
    "\n",
    "cytoscape.load_graph(pygraph, network_name=\"Test network\")"
   ]
  }
 ],
 "metadata": {
  "kernelspec": {
   "display_name": ".venv",
   "language": "python",
   "name": "python3"
  },
  "language_info": {
   "codemirror_mode": {
    "name": "ipython",
    "version": 3
   },
   "file_extension": ".py",
   "mimetype": "text/x-python",
   "name": "python",
   "nbconvert_exporter": "python",
   "pygments_lexer": "ipython3",
   "version": "3.9.13"
  }
 },
 "nbformat": 4,
 "nbformat_minor": 2
}
