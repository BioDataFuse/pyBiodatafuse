{
 "cells": [
  {
   "cell_type": "markdown",
   "metadata": {},
   "source": [
    "# Example: Graph generation from a gene\n",
    "\n",
    "This notebook will show you how to use the tool to generate a KG on the underlying data."
   ]
  },
  {
   "cell_type": "code",
   "execution_count": 1,
   "metadata": {},
   "outputs": [
    {
     "name": "stdout",
     "output_type": "stream",
     "text": [
      "Current directory: /home/javi/code/pyBiodatafuse-2\n"
     ]
    }
   ],
   "source": [
    "import os\n",
    "\n",
    "current_dir = os.getcwd()\n",
    "\n",
    "os.chdir(f\"{current_dir}/..\")\n",
    "\n",
    "# Set the current working directory\n",
    "current_dir = os.getcwd()\n",
    "print(\"Current directory:\", current_dir)"
   ]
  },
  {
   "cell_type": "code",
   "execution_count": 2,
   "metadata": {},
   "outputs": [],
   "source": [
    "# Import modules\n",
    "import pickle\n",
    "\n",
    "import pandas as pd\n",
    "\n",
    "from pyBiodatafuse import id_mapper\n",
    "from pyBiodatafuse.annotators import (\n",
    "    bgee,\n",
    "    disgenet,\n",
    "    minerva,\n",
    "    molmedb,\n",
    "    opentargets,\n",
    "    pubchem,\n",
    "    stringdb,\n",
    "    wikipathways,\n",
    ")\n",
    "from pyBiodatafuse.constants import BGEE_GENE_EXPRESSION_LEVELS_COL, DISGENET_DISEASE_COL\n",
    "from pyBiodatafuse.graph import generator\n",
    "from pyBiodatafuse.graph.rdf import generate_rdf\n",
    "from pyBiodatafuse.utils import (\n",
    "    combine_sources,\n",
    "    create_harmonized_input_file,\n",
    "    create_or_append_to_metadata,\n",
    ")"
   ]
  },
  {
   "cell_type": "markdown",
   "metadata": {},
   "source": [
    "### Load the input list and convert it to a dataframe"
   ]
  },
  {
   "cell_type": "code",
   "execution_count": 3,
   "metadata": {},
   "outputs": [
    {
     "data": {
      "text/plain": [
       "2"
      ]
     },
     "execution_count": 3,
     "metadata": {},
     "output_type": "execute_result"
    }
   ],
   "source": [
    "genes_of_interest = \"\"\"AAGRN\n",
    "ALG14\"\"\"\n",
    "\n",
    "gene_list = genes_of_interest.split(\"\\n\")\n",
    "len(gene_list)"
   ]
  },
  {
   "cell_type": "code",
   "execution_count": 4,
   "metadata": {},
   "outputs": [
    {
     "data": {
      "text/html": [
       "<div>\n",
       "<style scoped>\n",
       "    .dataframe tbody tr th:only-of-type {\n",
       "        vertical-align: middle;\n",
       "    }\n",
       "\n",
       "    .dataframe tbody tr th {\n",
       "        vertical-align: top;\n",
       "    }\n",
       "\n",
       "    .dataframe thead th {\n",
       "        text-align: right;\n",
       "    }\n",
       "</style>\n",
       "<table border=\"1\" class=\"dataframe\">\n",
       "  <thead>\n",
       "    <tr style=\"text-align: right;\">\n",
       "      <th></th>\n",
       "      <th>identifier</th>\n",
       "    </tr>\n",
       "  </thead>\n",
       "  <tbody>\n",
       "    <tr>\n",
       "      <th>0</th>\n",
       "      <td>AAGRN</td>\n",
       "    </tr>\n",
       "    <tr>\n",
       "      <th>1</th>\n",
       "      <td>ALG14</td>\n",
       "    </tr>\n",
       "  </tbody>\n",
       "</table>\n",
       "</div>"
      ],
      "text/plain": [
       "  identifier\n",
       "0      AAGRN\n",
       "1      ALG14"
      ]
     },
     "execution_count": 4,
     "metadata": {},
     "output_type": "execute_result"
    }
   ],
   "source": [
    "data_input = pd.DataFrame(gene_list, columns=[\"identifier\"])\n",
    "data_input.head()"
   ]
  },
  {
   "cell_type": "markdown",
   "metadata": {},
   "source": [
    "### Entity resolution using BridgeDB"
   ]
  },
  {
   "cell_type": "code",
   "execution_count": 5,
   "metadata": {},
   "outputs": [],
   "source": [
    "os.makedirs(\"examples/data\", exist_ok=True)"
   ]
  },
  {
   "cell_type": "code",
   "execution_count": 6,
   "metadata": {},
   "outputs": [],
   "source": [
    "pickle_path = os.path.join(os.getcwd(), \"examples/data/example_gene_list.pkl\")\n",
    "metadata_path = os.path.join(os.getcwd(), \"examples/data/example_gene_list_metadata.pkl\")\n",
    "\n",
    "if not os.path.exists(pickle_path):\n",
    "    bridgedb_df, bridgedb_metadata = id_mapper.bridgedb_xref(\n",
    "        identifiers=data_input,\n",
    "        input_species=\"Human\",\n",
    "        input_datasource=\"HGNC\",\n",
    "        output_datasource=\"All\",\n",
    "    )\n",
    "    bridgedb_df.to_pickle(pickle_path)\n",
    "    with open(metadata_path, \"wb\") as file:\n",
    "        pickle.dump(bridgedb_metadata, file)\n",
    "else:\n",
    "    bridgedb_df = pd.read_pickle(pickle_path)\n",
    "    with open(metadata_path, \"rb\") as file:\n",
    "        bridgedb_metadata = pickle.load(file)"
   ]
  },
  {
   "cell_type": "code",
   "execution_count": 7,
   "metadata": {},
   "outputs": [
    {
     "name": "stdout",
     "output_type": "stream",
     "text": [
      "Number of genes with mapping in BridgeDb: 1\n"
     ]
    },
    {
     "data": {
      "text/html": [
       "<div>\n",
       "<style scoped>\n",
       "    .dataframe tbody tr th:only-of-type {\n",
       "        vertical-align: middle;\n",
       "    }\n",
       "\n",
       "    .dataframe tbody tr th {\n",
       "        vertical-align: top;\n",
       "    }\n",
       "\n",
       "    .dataframe thead th {\n",
       "        text-align: right;\n",
       "    }\n",
       "</style>\n",
       "<table border=\"1\" class=\"dataframe\">\n",
       "  <thead>\n",
       "    <tr style=\"text-align: right;\">\n",
       "      <th></th>\n",
       "      <th>identifier</th>\n",
       "      <th>identifier.source</th>\n",
       "      <th>target</th>\n",
       "      <th>target.source</th>\n",
       "    </tr>\n",
       "  </thead>\n",
       "  <tbody>\n",
       "    <tr>\n",
       "      <th>0</th>\n",
       "      <td>ALG14</td>\n",
       "      <td>HGNC</td>\n",
       "      <td>Q96F25</td>\n",
       "      <td>Uniprot-TrEMBL</td>\n",
       "    </tr>\n",
       "    <tr>\n",
       "      <th>1</th>\n",
       "      <td>ALG14</td>\n",
       "      <td>HGNC</td>\n",
       "      <td>ALG14</td>\n",
       "      <td>HGNC</td>\n",
       "    </tr>\n",
       "    <tr>\n",
       "      <th>2</th>\n",
       "      <td>ALG14</td>\n",
       "      <td>HGNC</td>\n",
       "      <td>ENSG00000172339</td>\n",
       "      <td>Ensembl</td>\n",
       "    </tr>\n",
       "    <tr>\n",
       "      <th>3</th>\n",
       "      <td>ALG14</td>\n",
       "      <td>HGNC</td>\n",
       "      <td>199857</td>\n",
       "      <td>NCBI Gene</td>\n",
       "    </tr>\n",
       "    <tr>\n",
       "      <th>4</th>\n",
       "      <td>ALG14</td>\n",
       "      <td>HGNC</td>\n",
       "      <td>HGNC:28287</td>\n",
       "      <td>HGNC Accession Number</td>\n",
       "    </tr>\n",
       "  </tbody>\n",
       "</table>\n",
       "</div>"
      ],
      "text/plain": [
       "  identifier identifier.source           target          target.source\n",
       "0      ALG14              HGNC           Q96F25         Uniprot-TrEMBL\n",
       "1      ALG14              HGNC            ALG14                   HGNC\n",
       "2      ALG14              HGNC  ENSG00000172339                Ensembl\n",
       "3      ALG14              HGNC           199857              NCBI Gene\n",
       "4      ALG14              HGNC       HGNC:28287  HGNC Accession Number"
      ]
     },
     "execution_count": 7,
     "metadata": {},
     "output_type": "execute_result"
    }
   ],
   "source": [
    "print(\"Number of genes with mapping in BridgeDb:\", len(bridgedb_df[\"identifier\"].unique()))\n",
    "bridgedb_df.head()"
   ]
  },
  {
   "cell_type": "markdown",
   "metadata": {},
   "source": [
    "### Gene expression from Bgee"
   ]
  },
  {
   "cell_type": "code",
   "execution_count": 8,
   "metadata": {},
   "outputs": [],
   "source": [
    "bgee_path = os.path.join(os.getcwd(), \"examples/data/example_bgee.pkl\")\n",
    "bgee_metadata_path = os.path.join(os.getcwd(), \"examples/data/example_bgee_metadata.pkl\")\n",
    "\n",
    "if not os.path.exists(bgee_path):\n",
    "    bgee_df, bgee_metadata = bgee.get_gene_expression(bridgedb_df=bridgedb_df)\n",
    "    bgee_df.to_pickle(bgee_path)\n",
    "    with open(bgee_metadata_path, \"wb\") as file:\n",
    "        pickle.dump(bgee_metadata, file)\n",
    "else:\n",
    "    bgee_df = pd.read_pickle(bgee_path)\n",
    "    with open(bgee_metadata_path, \"rb\") as file:\n",
    "        bgee_metadata = pickle.load(file)"
   ]
  },
  {
   "cell_type": "markdown",
   "metadata": {},
   "source": [
    "### Disease annotatation from DisGeNet\n"
   ]
  },
  {
   "cell_type": "code",
   "execution_count": 9,
   "metadata": {},
   "outputs": [],
   "source": [
    "import dotenv\n",
    "disgenet_api_key = dotenv.dotenv_values(\".env\")[\"DISGENET_API_KEY\"]"
   ]
  },
  {
   "cell_type": "code",
   "execution_count": 10,
   "metadata": {},
   "outputs": [],
   "source": [
    "disgenet_path = os.path.join(os.getcwd(), \"examples/data/example_disgenet.pkl\")\n",
    "disgenet_metadata_path = os.path.join(os.getcwd(), \"examples/data/example_disgenet_metadata.pkl\")\n",
    "\n",
    "if not os.path.exists(disgenet_path):\n",
    "    disgenet_df, disgenet_metadata = disgenet.get_gene_disease(\n",
    "        api_key=disgenet_api_key, bridgedb_df=bridgedb_df\n",
    "    )\n",
    "\n",
    "    disgenet_df.to_pickle(disgenet_path)\n",
    "    with open(disgenet_metadata_path, \"wb\") as file:\n",
    "        pickle.dump(disgenet_metadata, file)\n",
    "else:\n",
    "    disgenet_df = pd.read_pickle(disgenet_path)\n",
    "    with open(disgenet_metadata_path, \"rb\") as file:\n",
    "        disgenet_metadata = pickle.load(file)"
   ]
  },
  {
   "cell_type": "markdown",
   "metadata": {},
   "source": [
    "### Disease to compound annotation from OpenTargets"
   ]
  },
  {
   "cell_type": "code",
   "execution_count": 11,
   "metadata": {},
   "outputs": [
    {
     "data": {
      "text/html": [
       "<div>\n",
       "<style scoped>\n",
       "    .dataframe tbody tr th:only-of-type {\n",
       "        vertical-align: middle;\n",
       "    }\n",
       "\n",
       "    .dataframe tbody tr th {\n",
       "        vertical-align: top;\n",
       "    }\n",
       "\n",
       "    .dataframe thead th {\n",
       "        text-align: right;\n",
       "    }\n",
       "</style>\n",
       "<table border=\"1\" class=\"dataframe\">\n",
       "  <thead>\n",
       "    <tr style=\"text-align: right;\">\n",
       "      <th></th>\n",
       "      <th>identifier</th>\n",
       "      <th>identifier.source</th>\n",
       "      <th>target</th>\n",
       "      <th>target.source</th>\n",
       "    </tr>\n",
       "  </thead>\n",
       "  <tbody>\n",
       "    <tr>\n",
       "      <th>0</th>\n",
       "      <td>UMLS_C5680989</td>\n",
       "      <td>UMLS</td>\n",
       "      <td>EFO_0700079</td>\n",
       "      <td>EFO</td>\n",
       "    </tr>\n",
       "  </tbody>\n",
       "</table>\n",
       "</div>"
      ],
      "text/plain": [
       "      identifier identifier.source       target target.source\n",
       "0  UMLS_C5680989              UMLS  EFO_0700079           EFO"
      ]
     },
     "execution_count": 11,
     "metadata": {},
     "output_type": "execute_result"
    }
   ],
   "source": [
    "# Prepare the input to use DISGENET output as seed for OpenTargets\n",
    "disease_mapping_df = create_harmonized_input_file(disgenet_df, DISGENET_DISEASE_COL, \"EFO\", \"UMLS\")\n",
    "disease_mapping_df.head()"
   ]
  },
  {
   "cell_type": "code",
   "execution_count": 12,
   "metadata": {},
   "outputs": [],
   "source": [
    "opentarget_path = os.path.join(os.getcwd(), \"examples/data/example_opentarget_cmpd.pkl\")\n",
    "opentarget_metadata_path = os.path.join(\n",
    "    os.getcwd(), \"examples/data/example_opentarget_cmpd_metadata.pkl\"\n",
    ")\n",
    "\n",
    "if not os.path.exists(opentarget_path):\n",
    "    opentargets_df, opentargets_metadata = opentargets.get_disease_compound_interactions(\n",
    "        disease_mapping_df\n",
    "    )\n",
    "    opentargets_df.to_pickle(opentarget_path)\n",
    "    with open(opentarget_metadata_path, \"wb\") as file:\n",
    "        pickle.dump(opentargets_metadata, file)\n",
    "else:\n",
    "    opentargets_df = pd.read_pickle(opentarget_path)\n",
    "    with open(opentarget_metadata_path, \"rb\") as file:\n",
    "        opentargets_metadata = pickle.load(file)"
   ]
  },
  {
   "cell_type": "markdown",
   "metadata": {},
   "source": [
    "### Pathways from MINERVA"
   ]
  },
  {
   "cell_type": "code",
   "execution_count": 13,
   "metadata": {},
   "outputs": [],
   "source": [
    "minerva_path = os.path.join(os.getcwd(), \"examples/data/example_minerva.pkl\")\n",
    "minerva_metadata_path = os.path.join(os.getcwd(), \"examples/data/example_minerva_metadata.pkl\")\n",
    "\n",
    "if not os.path.exists(minerva_path):\n",
    "    minerva_df, minerva_metadata = minerva.get_gene_minerva_pathways(\n",
    "        bridgedb_df, map_name=\"COVID19 Disease Map\"\n",
    "    )\n",
    "    minerva_df.to_pickle(minerva_path)\n",
    "    with open(minerva_metadata_path, \"wb\") as file:\n",
    "        pickle.dump(minerva_metadata, file)\n",
    "\n",
    "else:\n",
    "    minerva_df = pd.read_pickle(minerva_path)\n",
    "    with open(minerva_metadata_path, \"rb\") as file:\n",
    "        minerva_metadata = pickle.load(file)"
   ]
  },
  {
   "cell_type": "code",
   "execution_count": 14,
   "metadata": {},
   "outputs": [
    {
     "data": {
      "text/plain": [
       "{'datasource': 'MINERVA',\n",
       " 'metadata': {'source_version': '18.0.2'},\n",
       " 'query': {'size': 1,\n",
       "  'input_type': 'Ensembl',\n",
       "  'MINERVA project': 'COVID19 Disease Map',\n",
       "  'time': '0:02:41.304990',\n",
       "  'date': '2024-11-12 17:27:23',\n",
       "  'url': 'https://covid19map.elixir-luxembourg.org/minerva/'}}"
      ]
     },
     "execution_count": 14,
     "metadata": {},
     "output_type": "execute_result"
    }
   ],
   "source": [
    "minerva_metadata"
   ]
  },
  {
   "cell_type": "markdown",
   "metadata": {},
   "source": [
    "### Pathways from WikiPathways"
   ]
  },
  {
   "cell_type": "code",
   "execution_count": 15,
   "metadata": {},
   "outputs": [],
   "source": [
    "wikipathways_path = os.path.join(os.getcwd(), \"examples/data/example_wikipathway.pkl\")\n",
    "wikipathways_metadata_path = os.path.join(\n",
    "    os.getcwd(), \"examples/data/example_wikipathway_metadata.pkl\"\n",
    ")\n",
    "\n",
    "if not os.path.exists(wikipathways_path):\n",
    "    wikipathways_df, wikipathways_metadata = wikipathways.get_gene_wikipathways(\n",
    "        bridgedb_df=bridgedb_df\n",
    "    )\n",
    "    wikipathways_df.to_pickle(wikipathways_path)\n",
    "    with open(wikipathways_metadata_path, \"wb\") as file:\n",
    "        pickle.dump(wikipathways_metadata, file)\n",
    "\n",
    "else:\n",
    "    wikipathways_df = pd.read_pickle(wikipathways_path)\n",
    "    with open(wikipathways_metadata_path, \"rb\") as file:\n",
    "        wikipathways_metadata = pickle.load(file)"
   ]
  },
  {
   "cell_type": "markdown",
   "metadata": {},
   "source": [
    "### Reactome pathways from OpenTargets"
   ]
  },
  {
   "cell_type": "code",
   "execution_count": 16,
   "metadata": {},
   "outputs": [],
   "source": [
    "opentargets_reactome_path = os.path.join(os.getcwd(), \"examples/data/example_ot_reactome.pkl\")\n",
    "opentargets_reactome_metadata_path = os.path.join(\n",
    "    os.getcwd(), \"examples/data/example_ot_reactome_metadata.pkl\"\n",
    ")\n",
    "\n",
    "if not os.path.exists(opentargets_reactome_path):\n",
    "    opentargets_reactome_df, opentargets_reactome_metadata = opentargets.get_gene_reactome_pathways(\n",
    "        bridgedb_df=bridgedb_df\n",
    "    )\n",
    "    opentargets_reactome_df.to_pickle(opentargets_reactome_path)\n",
    "    with open(opentargets_reactome_metadata_path, \"wb\") as file:\n",
    "        pickle.dump(opentargets_reactome_metadata, file)\n",
    "else:\n",
    "    opentargets_reactome_df = pd.read_pickle(opentargets_reactome_path)\n",
    "    with open(opentargets_reactome_metadata_path, \"rb\") as file:\n",
    "        opentargets_reactome_metadata = pickle.load(file)"
   ]
  },
  {
   "cell_type": "markdown",
   "metadata": {},
   "source": [
    "### Gene Ontology from OpenTargets"
   ]
  },
  {
   "cell_type": "code",
   "execution_count": 17,
   "metadata": {},
   "outputs": [],
   "source": [
    "opentargets_go_path = os.path.join(os.getcwd(), \"examples/data/example_ot_go.pkl\")\n",
    "opentargets_go_metadata_path = os.path.join(os.getcwd(), \"examples/data/example_ot_go_metadata.pkl\")\n",
    "\n",
    "if not os.path.exists(opentargets_go_path):\n",
    "    opentargets_go_df, opentargets_go_metadata = opentargets.get_gene_go_process(\n",
    "        bridgedb_df=bridgedb_df\n",
    "    )\n",
    "    opentargets_go_df.to_pickle(opentargets_go_path)\n",
    "    with open(opentargets_go_metadata_path, \"wb\") as file:\n",
    "        pickle.dump(opentargets_go_metadata, file)\n",
    "else:\n",
    "    opentargets_go_df = pd.read_pickle(opentargets_go_path)\n",
    "    with open(opentargets_go_metadata_path, \"rb\") as file:\n",
    "        opentargets_go_metadata = pickle.load(file)"
   ]
  },
  {
   "cell_type": "markdown",
   "metadata": {},
   "source": [
    "### Compounds from OpenTarget"
   ]
  },
  {
   "cell_type": "code",
   "execution_count": 18,
   "metadata": {},
   "outputs": [],
   "source": [
    "opentargets_gene_path = os.path.join(os.getcwd(), \"examples/data/example_ot_gene_cmpd.pkl\")\n",
    "opentargets_gene_metadata_path = os.path.join(\n",
    "    os.getcwd(), \"examples/data/example_ot_gene_cmpd_metadata.pkl\"\n",
    ")\n",
    "\n",
    "if not os.path.exists(opentargets_gene_path):\n",
    "    opentargets_compound_df, opentargets_compound_metadata = (\n",
    "        opentargets.get_gene_compound_interactions(bridgedb_df=bridgedb_df)\n",
    "    )\n",
    "    opentargets_compound_df.to_pickle(opentargets_gene_path)\n",
    "    with open(opentargets_gene_metadata_path, \"wb\") as file:\n",
    "        pickle.dump(opentargets_compound_metadata, file)\n",
    "\n",
    "else:\n",
    "    opentargets_compound_df = pd.read_pickle(opentargets_gene_path)\n",
    "    with open(opentargets_gene_metadata_path, \"rb\") as file:\n",
    "        opentargets_compound_metadata = pickle.load(file)"
   ]
  },
  {
   "cell_type": "markdown",
   "metadata": {},
   "source": [
    "### Transporter inhibitors from MolMeDB"
   ]
  },
  {
   "cell_type": "code",
   "execution_count": 19,
   "metadata": {},
   "outputs": [
    {
     "data": {
      "text/html": [
       "<div>\n",
       "<style scoped>\n",
       "    .dataframe tbody tr th:only-of-type {\n",
       "        vertical-align: middle;\n",
       "    }\n",
       "\n",
       "    .dataframe tbody tr th {\n",
       "        vertical-align: top;\n",
       "    }\n",
       "\n",
       "    .dataframe thead th {\n",
       "        text-align: right;\n",
       "    }\n",
       "</style>\n",
       "<table border=\"1\" class=\"dataframe\">\n",
       "  <thead>\n",
       "    <tr style=\"text-align: right;\">\n",
       "      <th></th>\n",
       "    </tr>\n",
       "  </thead>\n",
       "  <tbody>\n",
       "  </tbody>\n",
       "</table>\n",
       "</div>"
      ],
      "text/plain": [
       "Empty DataFrame\n",
       "Columns: []\n",
       "Index: []"
      ]
     },
     "execution_count": 19,
     "metadata": {},
     "output_type": "execute_result"
    }
   ],
   "source": [
    "molmedb_path = os.path.join(os.getcwd(), \"examples/data/example_molmedb_gene_cmpd.pkl\")\n",
    "molmedb_metadata_path = os.path.join(\n",
    "    os.getcwd(), \"examples/data/example_molmedb_gene_cmpd_metadata.pkl\"\n",
    ")\n",
    "\n",
    "if not os.path.exists(molmedb_path):\n",
    "    inhibitor_df, inhibitor_metadata = molmedb.get_gene_compound_inhibitor(bridgedb_df=bridgedb_df)\n",
    "    inhibitor_df.to_pickle(molmedb_path)\n",
    "    with open(molmedb_metadata_path, \"wb\") as file:\n",
    "        pickle.dump(inhibitor_metadata, file)\n",
    "else:\n",
    "    inhibitor_df = pd.read_pickle(molmedb_path)\n",
    "    with open(molmedb_metadata_path, \"rb\") as file:\n",
    "        inhibitor_metadata = pickle.load(file)\n",
    "inhibitor_df.head(1)"
   ]
  },
  {
   "cell_type": "markdown",
   "metadata": {},
   "source": [
    "### Screening results of compounds on proteins encoded by genes annotation by PubChem"
   ]
  },
  {
   "cell_type": "code",
   "execution_count": 20,
   "metadata": {},
   "outputs": [],
   "source": [
    "pubchem_path = os.path.join(os.getcwd(), \"examples/data/example_pubchem.pkl\")\n",
    "pubchem_metadata_path = os.path.join(os.getcwd(), \"examples/data/example_pubchem_metadata.pkl\")\n",
    "\n",
    "if not os.path.exists(pubchem_path):\n",
    "    pubchem_assay_df, pubchem_assay_metadata = pubchem.get_protein_compound_screened(\n",
    "        bridgedb_df=bridgedb_df\n",
    "    )\n",
    "    pubchem_assay_df.to_pickle(pubchem_path)\n",
    "    with open(pubchem_metadata_path, \"wb\") as file:\n",
    "        pickle.dump(pubchem_assay_metadata, file)\n",
    "\n",
    "else:\n",
    "    pubchem_assay_df = pd.read_pickle(pubchem_path)\n",
    "    with open(pubchem_metadata_path, \"rb\") as file:\n",
    "        pubchem_assay_metadata = pickle.load(file)"
   ]
  },
  {
   "cell_type": "markdown",
   "metadata": {},
   "source": [
    "### Protein-Protein interactions from STRING"
   ]
  },
  {
   "cell_type": "code",
   "execution_count": 21,
   "metadata": {},
   "outputs": [],
   "source": [
    "string_path = os.path.join(os.getcwd(), \"examples/data/example_string.pkl\")\n",
    "string_metadata_path = os.path.join(os.getcwd(), \"examples/data/example_string_metadata.pkl\")\n",
    "\n",
    "if not os.path.exists(string_path):\n",
    "    ppi_df, ppi_metadata = stringdb.get_ppi(bridgedb_df=bridgedb_df)\n",
    "    ppi_df.to_pickle(string_path)\n",
    "    with open(string_metadata_path, \"wb\") as file:\n",
    "        pickle.dump(ppi_metadata, file)\n",
    "else:\n",
    "    ppi_df = pd.read_pickle(string_path)\n",
    "    with open(string_metadata_path, \"rb\") as file:\n",
    "        ppi_metadata = pickle.load(file)"
   ]
  },
  {
   "cell_type": "markdown",
   "metadata": {},
   "source": [
    "### Combing all the results into single dataframe"
   ]
  },
  {
   "cell_type": "code",
   "execution_count": 22,
   "metadata": {},
   "outputs": [
    {
     "data": {
      "text/html": [
       "<div>\n",
       "<style scoped>\n",
       "    .dataframe tbody tr th:only-of-type {\n",
       "        vertical-align: middle;\n",
       "    }\n",
       "\n",
       "    .dataframe tbody tr th {\n",
       "        vertical-align: top;\n",
       "    }\n",
       "\n",
       "    .dataframe thead th {\n",
       "        text-align: right;\n",
       "    }\n",
       "</style>\n",
       "<table border=\"1\" class=\"dataframe\">\n",
       "  <thead>\n",
       "    <tr style=\"text-align: right;\">\n",
       "      <th></th>\n",
       "      <th>identifier</th>\n",
       "      <th>identifier.source</th>\n",
       "      <th>target</th>\n",
       "      <th>target.source</th>\n",
       "      <th>Bgee_gene_expression_levels</th>\n",
       "      <th>DISGENET_diseases</th>\n",
       "      <th>WikiPathways</th>\n",
       "      <th>OpenTargets_reactome</th>\n",
       "      <th>OpenTargets_go</th>\n",
       "    </tr>\n",
       "  </thead>\n",
       "  <tbody>\n",
       "    <tr>\n",
       "      <th>0</th>\n",
       "      <td>ALG14</td>\n",
       "      <td>HGNC</td>\n",
       "      <td>ENSG00000172339</td>\n",
       "      <td>Ensembl</td>\n",
       "      <td>[{'anatomical_entity_id': 'UBERON_0000178', 'a...</td>\n",
       "      <td>[{'disease_name': 'Carbohydrate Deficient Glyc...</td>\n",
       "      <td>[{'pathway_id': 'WP:WP5153', 'pathway_label': ...</td>\n",
       "      <td>[{'pathway_label': 'Biosynthesis of the N-glyc...</td>\n",
       "      <td>[{'go_id': 'GO:0043541', 'go_name': 'UDP-N-ace...</td>\n",
       "    </tr>\n",
       "  </tbody>\n",
       "</table>\n",
       "</div>"
      ],
      "text/plain": [
       "  identifier identifier.source           target target.source  \\\n",
       "0      ALG14              HGNC  ENSG00000172339       Ensembl   \n",
       "\n",
       "                         Bgee_gene_expression_levels  \\\n",
       "0  [{'anatomical_entity_id': 'UBERON_0000178', 'a...   \n",
       "\n",
       "                                   DISGENET_diseases  \\\n",
       "0  [{'disease_name': 'Carbohydrate Deficient Glyc...   \n",
       "\n",
       "                                        WikiPathways  \\\n",
       "0  [{'pathway_id': 'WP:WP5153', 'pathway_label': ...   \n",
       "\n",
       "                                OpenTargets_reactome  \\\n",
       "0  [{'pathway_label': 'Biosynthesis of the N-glyc...   \n",
       "\n",
       "                                      OpenTargets_go  \n",
       "0  [{'go_id': 'GO:0043541', 'go_name': 'UDP-N-ace...  "
      ]
     },
     "execution_count": 22,
     "metadata": {},
     "output_type": "execute_result"
    }
   ],
   "source": [
    "combined_df = combine_sources(\n",
    "    bridgedb_df,\n",
    "    [\n",
    "        bgee_df,\n",
    "        disgenet_df,\n",
    "        minerva_df,\n",
    "        wikipathways_df,\n",
    "        opentargets_reactome_df,\n",
    "        opentargets_go_df,\n",
    "        opentargets_compound_df,\n",
    "        inhibitor_df,\n",
    "        pubchem_assay_df,\n",
    "        ppi_df,\n",
    "    ],\n",
    ")\n",
    "combined_df.head()"
   ]
  },
  {
   "cell_type": "code",
   "execution_count": 23,
   "metadata": {},
   "outputs": [
    {
     "data": {
      "text/html": [
       "<div>\n",
       "<style scoped>\n",
       "    .dataframe tbody tr th:only-of-type {\n",
       "        vertical-align: middle;\n",
       "    }\n",
       "\n",
       "    .dataframe tbody tr th {\n",
       "        vertical-align: top;\n",
       "    }\n",
       "\n",
       "    .dataframe thead th {\n",
       "        text-align: right;\n",
       "    }\n",
       "</style>\n",
       "<table border=\"1\" class=\"dataframe\">\n",
       "  <thead>\n",
       "    <tr style=\"text-align: right;\">\n",
       "      <th></th>\n",
       "    </tr>\n",
       "  </thead>\n",
       "  <tbody>\n",
       "  </tbody>\n",
       "</table>\n",
       "</div>"
      ],
      "text/plain": [
       "Empty DataFrame\n",
       "Columns: []\n",
       "Index: []"
      ]
     },
     "execution_count": 23,
     "metadata": {},
     "output_type": "execute_result"
    }
   ],
   "source": [
    "inhibitor_df.head(1)"
   ]
  },
  {
   "cell_type": "code",
   "execution_count": 24,
   "metadata": {},
   "outputs": [
    {
     "data": {
      "text/plain": [
       "(1, 9)"
      ]
     },
     "execution_count": 24,
     "metadata": {},
     "output_type": "execute_result"
    }
   ],
   "source": [
    "combined_df.shape"
   ]
  },
  {
   "cell_type": "code",
   "execution_count": 25,
   "metadata": {},
   "outputs": [],
   "source": [
    "combined_df.to_pickle(\"examples/data/combined_df.pkl\")"
   ]
  },
  {
   "cell_type": "code",
   "execution_count": 26,
   "metadata": {},
   "outputs": [],
   "source": [
    "# Shuffling the rows\n",
    "import numpy as np\n",
    "\n",
    "combined_df[\"DISGENET_diseases\"] = combined_df[\"DISGENET_diseases\"].apply(np.random.permutation)"
   ]
  },
  {
   "cell_type": "code",
   "execution_count": 27,
   "metadata": {},
   "outputs": [],
   "source": [
    "combined_metadata = create_or_append_to_metadata(\n",
    "    bridgedb_metadata,\n",
    "    [\n",
    "        bgee_metadata,\n",
    "        disgenet_metadata,\n",
    "        opentargets_metadata,\n",
    "        opentargets_compound_metadata,\n",
    "        inhibitor_metadata,\n",
    "        pubchem_assay_metadata,\n",
    "        ppi_metadata,\n",
    "        wikipathways_metadata,\n",
    "        minerva_metadata,\n",
    "        opentargets_reactome_metadata,\n",
    "        opentargets_go_metadata,\n",
    "    ],\n",
    ")"
   ]
  },
  {
   "cell_type": "markdown",
   "metadata": {},
   "source": [
    "### Exporting the database in pickle format"
   ]
  },
  {
   "cell_type": "code",
   "execution_count": 28,
   "metadata": {},
   "outputs": [],
   "source": [
    "combined_df.to_pickle(\"examples/data/example_df_shuffled.pkl\")\n",
    "\n",
    "with open(\"example_metadata.pkl\", \"wb\") as out:\n",
    "    pickle.dump(combined_metadata, out)\n",
    "\n",
    "with open(\"opentargets_disease_compound_df.pkl\", \"wb\") as out:\n",
    "    pickle.dump(opentargets_metadata, out)"
   ]
  },
  {
   "cell_type": "markdown",
   "metadata": {},
   "source": [
    "## Creating a graph from the annotated dataframe"
   ]
  },
  {
   "cell_type": "code",
   "execution_count": 29,
   "metadata": {},
   "outputs": [
    {
     "name": "stderr",
     "output_type": "stream",
     "text": [
      "Combined DataFrame saved in ./data/examples/examples_df.pkl\n",
      "Metadata saved in ./data/examples/examples_metadata.pkl\n",
      "Building graph: 100%|██████████| 1/1 [00:00<00:00, 441.60it/s]\n",
      "Graph is built successfully\n",
      "Graph saved in ./data/examples/examples_graph.pkl and ./data/examples/examples_graph.gml\n"
     ]
    }
   ],
   "source": [
    "pygraph = generator.save_graph(\n",
    "    combined_df=combined_df,\n",
    "    combined_metadata=combined_metadata,\n",
    "    disease_compound=opentargets_df,\n",
    "    graph_name=\"examples\",\n",
    "    graph_dir=\"./data\",\n",
    ")"
   ]
  },
  {
   "cell_type": "markdown",
   "metadata": {},
   "source": [
    "#### Cytosacpe\n",
    "Make sure that the Cytoscape is open"
   ]
  },
  {
   "cell_type": "code",
   "execution_count": 30,
   "metadata": {},
   "outputs": [],
   "source": [
    "# from pyBiodatafuse.graph import cytoscape\n",
    "\n",
    "# cytoscape.load_graph(pygraph, network_name=\"Test network\")"
   ]
  },
  {
   "cell_type": "markdown",
   "metadata": {},
   "source": [
    "#### Neo4j"
   ]
  },
  {
   "cell_type": "code",
   "execution_count": 31,
   "metadata": {},
   "outputs": [],
   "source": [
    "from pyBiodatafuse.graph import neo4j\n",
    "\n",
    "neo4j.save_graph_to_graphml(pygraph, \"networkx_graph_test.graphml\")"
   ]
  },
  {
   "cell_type": "markdown",
   "metadata": {},
   "source": [
    "##### Steps to load the graph in Neo4j"
   ]
  },
  {
   "cell_type": "markdown",
   "metadata": {},
   "source": [
    "- Add `.graphml` file in **import** subfolder of the DBMS folder\n",
    "- Install apoc plugin\n",
    "- Create `apoc.conf` file:\n",
    "    ```\n",
    "    apoc.trigger.enabled=true\n",
    "    apoc.import.file.enabled=true\n",
    "    apoc.export.file.enabled=true\n",
    "    apoc.import.file.use_neo4j_config=true\n",
    "    ```\n",
    "- Add `apoc.conf` file to **conf** subfolder of the DBMS folder\n",
    "- Open Neo4j Browser\n",
    "- (Optionl, only run if you have imported a graph  before) Remove all the nodes before importing `.graphml` file\n",
    "\n",
    "    ```MATCH (n) DETACH DELETE n```\n",
    "\n",
    "- Import `.graphml` file\n",
    "\n",
    "    ```call apoc.import.graphml('file:///networkx_graph_test.graphml',{readLabels:TRUE})```\n",
    "\n",
    "- Add indexes after importing the graph for improving the performance of queries\n",
    "\n",
    "    ```\n",
    "    create index Gene for (n:Gene) on (n.node_type)\n",
    "    create index Pathway for (n:Pathway) on (n.node_type)\n",
    "    create index `Biological Process` for (n:`Biological Process`) on (n.node_type)\n",
    "    create index `Molecular Function` for (n:`Molecular Function`) on (n.node_type)\n",
    "    create index `Cellular Component` for (n:`Cellular Component`) on (n.node_type)\n",
    "    create index Disease for (n:Disease) on (n.node_type)\n",
    "    create index Compound for (n:Compound) on (n.node_type)\n",
    "    create index `Side Effect` for (n:`Side Effect`) on (n.node_type)\n",
    "    ```\n",
    "    \n",
    "\n",
    "- Count the number of each node type\n",
    "    - total (```MATCH (n) RETURN count(n)```) \n",
    "        - Gene (```MATCH (n:Gene) RETURN count(n)```)\n",
    "        - Pathway (```MATCH (n:Pathway) RETURN count(n)```)\n",
    "            - WikiPathways (```MATCH (n:Pathway {source: \"WikiPathways\"}) RETURN count(n)```) \n",
    "            - OpenTargets, Reactome (```MATCH (n:Pathway {source: \"OpenTargets\"}) RETURN count(n)```) \n",
    "            - MINERVA (```MATCH (n:Pathway {source: \"MINERVA\"}) RETURN count(n)```) \n",
    "        - Biological Process (```MATCH (n:`Biological Process`) RETURN count(n)```) \n",
    "        - Molecular Function (```MATCH (n:`Molecular Function`) RETURN count(n)```) \n",
    "        - Cellular Component (```MATCH (n:`Cellular Component`) RETURN count(n)```) \n",
    "        - Disease (```MATCH (n:Disease) RETURN count(n)```) \n",
    "        - Compound (```MATCH (n:Compound) RETURN count(n)```)\n",
    "        - Side Effect (```MATCH (n:`Side Effect`) RETURN count(n)```) \n",
    "- Count the number of each edge type\n",
    "    - total (```MATCH ()-[r]->() RETURN count(r)```) \n",
    "        - interacts_with (```MATCH ()-[r:interacts_with]->() RETURN count(r)```) \n",
    "        - part_of (```MATCH ()-[r:part_of]->() RETURN count(r)```) \n",
    "            - WikiPathways (```MATCH ()-[r:part_of {source: \"WikiPathways\"}]->() RETURN count(r)```) \n",
    "            - OpenTargets, Reactome (```MATCH ()-[r:part_of {source: \"OpenTargets\"}]->() RETURN count(r)```) \n",
    "            - MINERVA (```MATCH ()-[r:part_of {source: \"MINERVA\"}]->() RETURN count(r)```) \n",
    "        - activates (```MATCH ()-[r:activates]->() RETURN count(r)```) \n",
    "        - treats (```MATCH ()-[r:treats]->() RETURN count(r)```) \n",
    "        - has_side_effect (```MATCH ()-[r:has_side_effect]->() RETURN count(r)```) \n",
    "        - inhibits (```MATCH ()-[r:inhibits]->() RETURN count(r)```) = 71\n",
    "        - associated_with (```MATCH ()-[r:associated_with]->() RETURN count(r)```) \n",
    "\n",
    "- Export the graph as a `.csv` file\n",
    "\n",
    "    ```call apoc.export.csv.all(\"networkx_graph_test.csv\",{})```"
   ]
  },
  {
   "cell_type": "markdown",
   "metadata": {},
   "source": [
    "### RDF"
   ]
  },
  {
   "cell_type": "code",
   "execution_count": 32,
   "metadata": {},
   "outputs": [],
   "source": [
    "g = generate_rdf(\n",
    "    df=combined_df,\n",
    "    base_uri=\"https://biodatafuse.org/example/\",\n",
    "    version_iri=\"https://biodatafuse.org/example/test.owl\",\n",
    "    orcid=\"https://orcid.org/0000-0002-4166-7093\",\n",
    "    author=\"Javier Millan Acosta\",\n",
    "    metadata=None,\n",
    "    open_only=True,\n",
    "    load_ontology=False,\n",
    ")"
   ]
  },
  {
   "cell_type": "code",
   "execution_count": 33,
   "metadata": {},
   "outputs": [
    {
     "data": {
      "text/plain": [
       "<Graph identifier=Nb722d0a9f41e4afca140144a0aef515f (<class 'rdflib.graph.Graph'>)>"
      ]
     },
     "execution_count": 33,
     "metadata": {},
     "output_type": "execute_result"
    }
   ],
   "source": [
    "g.serialize(\"BDF_example_graph.ttl\", format=\"ttl\")"
   ]
  },
  {
   "cell_type": "markdown",
   "metadata": {},
   "source": [
    "### Use [`shexer`](https://github.com/DaniFdezAlvarez/shexer/) to retrieve the RDF shapes\n",
    "\n",
    "The `shexer` package is wrapped in `get_shapes()` and allows us to retrieve the shapes of the graph in ShEx (https://shex.io/shex-semantics/) and SHACL (https://www.w3.org/TR/shacl/)."
   ]
  },
  {
   "cell_type": "code",
   "execution_count": 34,
   "metadata": {},
   "outputs": [],
   "source": [
    "from pyBiodatafuse.graph.rdf.utils import get_shapes\n",
    "\n",
    "shex_shapes = get_shapes(g=g, \n",
    "                  base_uri=\"https://biodatafuse.org/example/\", \n",
    "                  uml_figure_path=\"shex.png\",\n",
    "                  graph_type=\"shex\",  # Default value\n",
    "                  path=\"BDF_example_shex.ttl\",\n",
    "                  print_string_output=False\n",
    "                  )\n",
    "shacl_shapes = get_shapes(\n",
    "    g=g,\n",
    "    base_uri=\"https://biodatafuse.org/example/\",\n",
    "    uml_figure_path=\"shacl.png\",\n",
    "    graph_type=\"shacl\",  # Default value\n",
    "    path=\"BDF_example_shacl.ttl\",\n",
    "    print_string_output=False,\n",
    ")"
   ]
  },
  {
   "cell_type": "code",
   "execution_count": 43,
   "metadata": {},
   "outputs": [
    {
     "data": {
      "text/markdown": [
       "#### SHEX"
      ],
      "text/plain": [
       "<IPython.core.display.Markdown object>"
      ]
     },
     "metadata": {},
     "output_type": "display_data"
    },
    {
     "data": {
      "image/png": "[encoded data removed]",
      "text/plain": [
       "<IPython.core.display.Image object>"
      ]
     },
     "metadata": {},
     "output_type": "display_data"
    },
    {
     "name": "stdout",
     "output_type": "stream",
     "text": [
      "PREFIX rdf: <http://www.w3.org/1999/02/22-rdf-syntax-ns#>\n",
      "PREFIX ex: <http://example.org/>\n",
      "PREFIX : <http://weso.es/shapes/>\n",
      "PREFIX xsd: <http://www.w3.org/2001/XMLSchema#>\n",
      "PREFIX owl: <http://www.w3.org/2002/07/owl#>\n",
      "PREFIX graph: <https://biodatafuse.org/example/>\n",
      "PREFIX obo: <http://purl.obolibrary.org/obo/>\n",
      "PREFIX so: <http://purl.obolibrary.org/obo/so#>\n",
      "PREFIX brick: <https://brickschema.org/schema/Brick#>\n",
      "PREFIX csvw: <http://www.w3.org/ns/csvw#>\n",
      "PREFIX dc: <http://purl.org/dc/elements/1.1/>\n",
      "PREFIX dcat: <http://www.w3.org/ns/dcat#>\n",
      "PREFIX dcmitype: <http://purl.org/dc/dcmitype/>\n",
      "PREFIX dcterms: <http://purl.org/dc/terms/>\n",
      "PREFIX dcam: <http://purl.org/dc/dcam/>\n",
      "PREFIX doap: <http://usefulinc.com/ns/doap#>\n",
      "PREFIX foaf: <http://xmlns.com/foaf/0.1/>\n",
      "PREFIX geo: <http://www.opengis.net/ont/geosparql#>\n",
      "PREFIX odrl: <http://www.w3.org/ns/odrl/2/>\n",
      "PREFIX org: <http://www.w3.org/ns/org#>\n",
      "PREFIX prof: <http://www.w3.org/ns/dx/prof/>\n",
      "PREFIX prov: <http://www.w3.org/ns/prov#>\n",
      "PREFIX qb: <http://purl.org/linked-data/cube#>\n",
      "PREFIX schema: <https://schema.org/>\n",
      "PREFIX sh: <http://www.w3.org/ns/shacl#>\n",
      "PREFIX skos: <http://www.w3.org/2004/02/skos/core#>\n",
      "PREFIX sosa: <http://www.w3.org/ns/sosa/>\n",
      "PREFIX ssn: <http://www.w3.org/ns/ssn/>\n",
      "PREFIX time: <http://www.w3.org/2006/time#>\n",
      "PREFIX vann: <http://purl.org/vocab/vann/>\n",
      "PREFIX void: <http://rdfs.org/ns/void#>\n",
      "PREFIX wgs: <https://www.w3.org/2003/01/geo/wgs84_pos#>\n",
      "PREFIX rdfs: <http://www.w3.org/2000/01/rdf-schema#>\n",
      "PREFIX xml: <http://www.w3.org/XML/1998/namespace/>\n",
      "PREFIX gene_disease_association: <https://biodatafuse.org/example/gene_disease_association>\n",
      "PREFIX gene_base_node: <https://biodatafuse.org/example/gene>\n",
      "PREFIX gene_symbol_base_node: <https://biodatafuse.org/example/gene_symbol>\n",
      "PREFIX source_base_node: <https://biodatafuse.org/example/source>\n",
      "PREFIX data_source_base_node: <https://biodatafuse.org/example/datasource>\n",
      "PREFIX score_base_node: <https://biodatafuse.org/example/score>\n",
      "PREFIX experimental_process_node: <https://biodatafuse.org/example/experimental_process>\n",
      "PREFIX anatomical_entity_base_node: <https://biodatafuse.org/example/anatomical_entity>\n",
      "PREFIX life_cycle_base_node: <https://biodatafuse.org/example/life_cycle>\n",
      "PREFIX gene_expression_value_base_node: <https://biodatafuse.org/example/gene_expression_value>\n",
      "PREFIX sio: <http://semanticscience.org/resource/>\n",
      "PREFIX hgnc: <http://bio2rdf.org/hgnc:>\n",
      "PREFIX umls: <https://uts-ws.nlm.nih.gov/rest/semantic-network/2015AB/CUI/>\n",
      "PREFIX ensembl: <https://identifiers.org/ensembl:>\n",
      "PREFIX biodatafuse: <https://biodatafuse.org/>\n",
      "\n",
      ":SIO_001262\n",
      "{\n",
      "   rdf:type  [sio:SIO_001262]  ;                               # 100.0 %\n",
      "   rdfs:label  xsd:string                                      # 100.0 %\n",
      "}\n",
      "\n",
      "\n",
      ":SIO_000750\n",
      "{\n",
      "   rdf:type  [sio:SIO_000750]  ;                               # 100.0 %\n",
      "   rdfs:label  xsd:string                                      # 100.0 %\n",
      "}\n",
      "\n",
      "\n",
      ":SIO_001077\n",
      "{\n",
      "   rdf:type  [sio:SIO_001077]  ;                               # 100.0 %\n",
      "   sio:SIO_000230  @:NCIT_C16612  ;                            # 100.0 %\n",
      "   sio:SIO_001403  @:SIO_001262  ;                             # 100.0 %\n",
      "            # 100.0 % obj: @:NCIT_C43531. Cardinality: {1}\n",
      "   sio:SIO_000300  xsd:double                                  # 100.0 %\n",
      "}\n",
      "\n",
      "\n",
      ":PW_0000001\n",
      "{\n",
      "   sio:SIO_000253  @:SIO_000750  +;                            # 100.0 %\n",
      "            # 66.66666666666666 % obj: @:SIO_000750. Cardinality: {2}\n",
      "            # 33.33333333333333 % obj: @:SIO_000750. Cardinality: {1}\n",
      "   rdf:type  [obo:PW_0000001]  ;                               # 100.0 %\n",
      "   rdfs:label  xsd:string  ;                                   # 100.0 %\n",
      "   sio:SIO_000028  @:NCIT_C16612                               # 100.0 %\n",
      "}\n",
      "\n",
      "\n",
      ":NCIT_C43531\n",
      "{\n",
      "   rdf:type  [obo:NCIT_C43531]  ;                              # 100.0 %\n",
      "   rdfs:label  xsd:string                                      # 100.0 %\n",
      "}\n",
      "\n",
      "\n",
      ":NCIT_C17021\n",
      "{\n",
      "   rdfs:label  xsd:string  ;                                   # 100.0 %\n",
      "   sio:SIO_000068  @:PW_0000001  {3};                          # 100.0 %\n",
      "   rdf:type  [obo:NCIT_C17021]  ;                              # 100.0 %\n",
      "   so:translation_of  @:NCIT_C16612                            # 100.0 %\n",
      "}\n",
      "\n",
      "\n",
      ":NCIT_C16612\n",
      "{\n",
      "   sio:SIO_000068  @:PW_0000001  {3};                          # 100.0 %\n",
      "   sio:SIO_000216  @:SIO_001077  {17};                         # 100.0 %\n",
      "   rdfs:label  xsd:string  ;                                   # 100.0 %\n",
      "   so:translates_to  @:NCIT_C17021  ;                          # 100.0 %\n",
      "   rdf:type  [obo:NCIT_C16612]                                 # 100.0 %\n",
      "}\n",
      "\n",
      "\n",
      "\n"
     ]
    }
   ],
   "source": [
    "from IPython.display import Image, Markdown, display\n",
    "display(Markdown('#### SHEX'))\n",
    "display(Image(\"shex.png\"))\n",
    "print(shex_shapes)"
   ]
  },
  {
   "cell_type": "code",
   "execution_count": 44,
   "metadata": {},
   "outputs": [
    {
     "data": {
      "text/markdown": [
       "#### SHACL"
      ],
      "text/plain": [
       "<IPython.core.display.Markdown object>"
      ]
     },
     "metadata": {},
     "output_type": "display_data"
    },
    {
     "data": {
      "image/png": "[encoded data removed]",
      "text/plain": [
       "<IPython.core.display.Image object>"
      ]
     },
     "metadata": {},
     "output_type": "display_data"
    },
    {
     "name": "stdout",
     "output_type": "stream",
     "text": [
      "@prefix : <http://weso.es/shapes/> .\n",
      "@prefix obo: <http://purl.obolibrary.org/obo/> .\n",
      "@prefix rdf: <http://www.w3.org/1999/02/22-rdf-syntax-ns#> .\n",
      "@prefix rdfs: <http://www.w3.org/2000/01/rdf-schema#> .\n",
      "@prefix sh: <http://www.w3.org/ns/shacl#> .\n",
      "@prefix sio: <http://semanticscience.org/resource/> .\n",
      "@prefix so: <http://purl.obolibrary.org/obo/so#> .\n",
      "@prefix xsd: <http://www.w3.org/2001/XMLSchema#> .\n",
      "\n",
      ":NCIT_C43531 a sh:NodeShape ;\n",
      "    sh:property [ a sh:PropertyShape ;\n",
      "            sh:in ( obo:NCIT_C43531 ) ;\n",
      "            sh:maxCount 1 ;\n",
      "            sh:minCount 1 ;\n",
      "            sh:path rdf:type ],\n",
      "        [ a sh:PropertyShape ;\n",
      "            sh:dataType xsd:string ;\n",
      "            sh:maxCount 1 ;\n",
      "            sh:minCount 1 ;\n",
      "            sh:path rdfs:label ] ;\n",
      "    sh:targetClass obo:NCIT_C43531 .\n",
      "\n",
      ":NCIT_C17021 a sh:NodeShape ;\n",
      "    sh:property [ a sh:PropertyShape ;\n",
      "            sh:in ( obo:NCIT_C17021 ) ;\n",
      "            sh:maxCount 1 ;\n",
      "            sh:minCount 1 ;\n",
      "            sh:path rdf:type ],\n",
      "        [ a sh:PropertyShape ;\n",
      "            sh:maxCount 1 ;\n",
      "            sh:minCount 1 ;\n",
      "            sh:node :NCIT_C16612 ;\n",
      "            sh:path so:translation_of ],\n",
      "        [ a sh:PropertyShape ;\n",
      "            sh:dataType xsd:string ;\n",
      "            sh:maxCount 1 ;\n",
      "            sh:minCount 1 ;\n",
      "            sh:path rdfs:label ],\n",
      "        [ a sh:PropertyShape ;\n",
      "            sh:maxCount 3 ;\n",
      "            sh:minCount 3 ;\n",
      "            sh:node :PW_0000001 ;\n",
      "            sh:path sio:SIO_000068 ] ;\n",
      "    sh:targetClass obo:NCIT_C17021 .\n",
      "\n",
      ":SIO_000750 a sh:NodeShape ;\n",
      "    sh:property [ a sh:PropertyShape ;\n",
      "            sh:dataType xsd:string ;\n",
      "            sh:maxCount 1 ;\n",
      "            sh:minCount 1 ;\n",
      "            sh:path rdfs:label ],\n",
      "        [ a sh:PropertyShape ;\n",
      "            sh:in ( sio:SIO_000750 ) ;\n",
      "            sh:maxCount 1 ;\n",
      "            sh:minCount 1 ;\n",
      "            sh:path rdf:type ] ;\n",
      "    sh:targetClass sio:SIO_000750 .\n",
      "\n",
      ":SIO_001077 a sh:NodeShape ;\n",
      "    sh:property [ a sh:PropertyShape ;\n",
      "            sh:maxCount 1 ;\n",
      "            sh:minCount 1 ;\n",
      "            sh:node :SIO_001262 ;\n",
      "            sh:path sio:SIO_001403 ],\n",
      "        [ a sh:PropertyShape ;\n",
      "            sh:maxCount 1 ;\n",
      "            sh:minCount 1 ;\n",
      "            sh:node :NCIT_C16612 ;\n",
      "            sh:path sio:SIO_000230 ],\n",
      "        [ a sh:PropertyShape ;\n",
      "            sh:dataType xsd:double ;\n",
      "            sh:maxCount 1 ;\n",
      "            sh:minCount 1 ;\n",
      "            sh:path sio:SIO_000300 ],\n",
      "        [ a sh:PropertyShape ;\n",
      "            sh:in ( sio:SIO_001077 ) ;\n",
      "            sh:maxCount 1 ;\n",
      "            sh:minCount 1 ;\n",
      "            sh:path rdf:type ] ;\n",
      "    sh:targetClass sio:SIO_001077 .\n",
      "\n",
      ":SIO_001262 a sh:NodeShape ;\n",
      "    sh:property [ a sh:PropertyShape ;\n",
      "            sh:in ( sio:SIO_001262 ) ;\n",
      "            sh:maxCount 1 ;\n",
      "            sh:minCount 1 ;\n",
      "            sh:path rdf:type ],\n",
      "        [ a sh:PropertyShape ;\n",
      "            sh:dataType xsd:string ;\n",
      "            sh:maxCount 1 ;\n",
      "            sh:minCount 1 ;\n",
      "            sh:path rdfs:label ] ;\n",
      "    sh:targetClass sio:SIO_001262 .\n",
      "\n",
      ":PW_0000001 a sh:NodeShape ;\n",
      "    sh:property [ a sh:PropertyShape ;\n",
      "            sh:in ( obo:PW_0000001 ) ;\n",
      "            sh:maxCount 1 ;\n",
      "            sh:minCount 1 ;\n",
      "            sh:path rdf:type ],\n",
      "        [ a sh:PropertyShape ;\n",
      "            sh:maxCount 1 ;\n",
      "            sh:minCount 1 ;\n",
      "            sh:node :NCIT_C16612 ;\n",
      "            sh:path sio:SIO_000028 ],\n",
      "        [ a sh:PropertyShape ;\n",
      "            sh:minCount 1 ;\n",
      "            sh:node :SIO_000750 ;\n",
      "            sh:path sio:SIO_000253 ],\n",
      "        [ a sh:PropertyShape ;\n",
      "            sh:dataType xsd:string ;\n",
      "            sh:maxCount 1 ;\n",
      "            sh:minCount 1 ;\n",
      "            sh:path rdfs:label ] ;\n",
      "    sh:targetClass obo:PW_0000001 .\n",
      "\n",
      ":NCIT_C16612 a sh:NodeShape ;\n",
      "    sh:property [ a sh:PropertyShape ;\n",
      "            sh:maxCount 1 ;\n",
      "            sh:minCount 1 ;\n",
      "            sh:node :NCIT_C17021 ;\n",
      "            sh:path so:translates_to ],\n",
      "        [ a sh:PropertyShape ;\n",
      "            sh:maxCount 3 ;\n",
      "            sh:minCount 3 ;\n",
      "            sh:node :PW_0000001 ;\n",
      "            sh:path sio:SIO_000068 ],\n",
      "        [ a sh:PropertyShape ;\n",
      "            sh:in ( obo:NCIT_C16612 ) ;\n",
      "            sh:maxCount 1 ;\n",
      "            sh:minCount 1 ;\n",
      "            sh:path rdf:type ],\n",
      "        [ a sh:PropertyShape ;\n",
      "            sh:maxCount 17 ;\n",
      "            sh:minCount 17 ;\n",
      "            sh:node :SIO_001077 ;\n",
      "            sh:path sio:SIO_000216 ],\n",
      "        [ a sh:PropertyShape ;\n",
      "            sh:dataType xsd:string ;\n",
      "            sh:maxCount 1 ;\n",
      "            sh:minCount 1 ;\n",
      "            sh:path rdfs:label ] ;\n",
      "    sh:targetClass obo:NCIT_C16612 .\n",
      "\n",
      "\n"
     ]
    }
   ],
   "source": [
    "display(Markdown(\"#### SHACL\"))\n",
    "display(Image(\"shacl.png\"))\n",
    "print(shacl_shapes)"
   ]
  },
  {
   "cell_type": "markdown",
   "metadata": {},
   "source": [
    "### SPARQL queries\n",
    "\n",
    "This section displays some of the sample queries included in [SPARQL/queries.ttl](SPARQL/queries.ttl), loaded in a Virtuoso instance at http://localhost:8899/sparql."
   ]
  },
  {
   "cell_type": "code",
   "execution_count": 37,
   "metadata": {},
   "outputs": [],
   "source": [
    "import requests\n",
    "\n",
    "\n",
    "def send_sparql_query(query, endpoint=\"http://localhost:8899/sparql\", format=\"text/csv\"):\n",
    "    headers = {\"Accept\": format}\n",
    "    params = {\"query\": query}\n",
    "    response = requests.get(endpoint, headers=headers, params=params)\n",
    "\n",
    "    # Check if request was successful\n",
    "    if response.status_code == 200:\n",
    "        if format == \"text/csv\":\n",
    "            # Convert CSV response to pandas DataFrame\n",
    "            from io import StringIO\n",
    "\n",
    "            csv_data = StringIO(response.text)\n",
    "            return pd.read_csv(csv_data)\n",
    "        else:\n",
    "            return response.text  # For other formats if needed\n",
    "    else:\n",
    "        raise Exception(f\"Query failed with status code {response.status_code}: {response.text}\")"
   ]
  },
  {
   "cell_type": "code",
   "execution_count": 38,
   "metadata": {},
   "outputs": [],
   "source": [
    "from rdflib import RDF, RDFS, SH, Graph\n",
    "\n",
    "# Load the graph\n",
    "os.chdir(\"examples\")\n",
    "query_g = Graph()\n",
    "with open(\"SPARQL/queries.ttl\", \"r\") as f:\n",
    "    query_g.parse(f, format=\"turtle\")\n",
    "\n",
    "# Extract queries and comments into a list of dictionaries\n",
    "queries_list = []\n",
    "for s in query_g.subjects(RDF.type, SH.SPARQLSelectExecutable):\n",
    "    query_text = query_g.value(s, SH.select)\n",
    "    comment = query_g.value(s, RDFS.comment)\n",
    "\n",
    "    if query_text and comment:\n",
    "        # Append a dictionary for each query and its comment\n",
    "        queries_list.append({\"comment\": comment.value, \"query\": query_text.value})"
   ]
  },
  {
   "cell_type": "code",
   "execution_count": 39,
   "metadata": {},
   "outputs": [
    {
     "name": "stdout",
     "output_type": "stream",
     "text": [
      "Retrieve details about each gene in the dataset, including the pathways it participates in, and the expression levels tied to it together with its associated anatomical entity and developmental stage. Return the text labels for all entities.\n",
      "\n",
      "PREFIX rdfs: <http://www.w3.org/2000/01/rdf-schema#>\n",
      "PREFIX sio: <http://semanticscience.org/resource/>\n",
      "PREFIX obo: <http://purl.obolibrary.org/obo/>\n",
      "\n",
      "SELECT ?gene ?geneLabel ?pathway ?pathwayLabel ?expressionMetric ?expressionValue ?anatomicalEntity ?anatomicalEntityLabel ?developmentalStage ?developmentalStageLabel\n",
      "WHERE {\n",
      "    ?gene a obo:NCIT_C16612 ;\n",
      "          sio:SIO_000068 ?pathway ;\n",
      "          sio:SIO_000216 ?expressionMetric ;\n",
      "          rdfs:label ?geneLabel .\n",
      "    ?anatomicalEntity rdfs:label ?anatomicalEntityLabel ;\n",
      "          a sio:SIO_001262 .\n",
      "    ?developmentalStage rdfs:label ?developmentalStageLabel ;\n",
      "          a obo:NCIT_C43531 .\n",
      "    ?expressionMetric sio:SIO_000300 ?expressionValue ;\n",
      "          sio:SIO_001403 ?anatomicalEntity ;\n",
      "          sio:SIO_001403 ?developmentalStage ;\n",
      "          a sio:SIO_001077 .\n",
      "\n",
      "    \n",
      "    ?pathway a obo:PW_0000001 ;\n",
      "          rdfs:label ?pathwayLabel .\n",
      "}\n"
     ]
    },
    {
     "data": {
      "text/html": [
       "<div>\n",
       "<style scoped>\n",
       "    .dataframe tbody tr th:only-of-type {\n",
       "        vertical-align: middle;\n",
       "    }\n",
       "\n",
       "    .dataframe tbody tr th {\n",
       "        vertical-align: top;\n",
       "    }\n",
       "\n",
       "    .dataframe thead th {\n",
       "        text-align: right;\n",
       "    }\n",
       "</style>\n",
       "<table border=\"1\" class=\"dataframe\">\n",
       "  <thead>\n",
       "    <tr style=\"text-align: right;\">\n",
       "      <th></th>\n",
       "      <th>gene</th>\n",
       "      <th>geneLabel</th>\n",
       "      <th>pathway</th>\n",
       "      <th>pathwayLabel</th>\n",
       "      <th>expressionMetric</th>\n",
       "      <th>expressionValue</th>\n",
       "      <th>anatomicalEntity</th>\n",
       "      <th>anatomicalEntityLabel</th>\n",
       "      <th>developmentalStage</th>\n",
       "      <th>developmentalStageLabel</th>\n",
       "    </tr>\n",
       "  </thead>\n",
       "  <tbody>\n",
       "  </tbody>\n",
       "</table>\n",
       "</div>"
      ],
      "text/plain": [
       "Empty DataFrame\n",
       "Columns: [gene, geneLabel, pathway, pathwayLabel, expressionMetric, expressionValue, anatomicalEntity, anatomicalEntityLabel, developmentalStage, developmentalStageLabel]\n",
       "Index: []"
      ]
     },
     "execution_count": 39,
     "metadata": {},
     "output_type": "execute_result"
    }
   ],
   "source": [
    "query_0 = send_sparql_query(queries_list[0][\"query\"])\n",
    "print(queries_list[0][\"comment\"])\n",
    "print(queries_list[0][\"query\"])\n",
    "query_0"
   ]
  },
  {
   "cell_type": "code",
   "execution_count": 40,
   "metadata": {},
   "outputs": [
    {
     "name": "stdout",
     "output_type": "stream",
     "text": [
      "Identify pathways described to involve more than seven genes, and show which sources provide data on these gene-pathway associations. Return the genes as well.\n",
      "\n",
      "PREFIX rdfs: <http://www.w3.org/2000/01/rdf-schema#>\n",
      "PREFIX sio: <http://semanticscience.org/resource/>\n",
      "PREFIX obo: <http://purl.obolibrary.org/obo/>\n",
      "\n",
      "SELECT ?pathway ?pathwayLabel (COUNT(?gene) AS ?geneCount) (GROUP_CONCAT(DISTINCT ?sourceLabel; separator=\", \") AS ?sources)  (GROUP_CONCAT(DISTINCT ?geneLabel; separator=\", \") AS ?genes)\n",
      "WHERE {\n",
      "    ?pathway a obo:PW_0000001 ;\n",
      "             sio:SIO_000028 ?gene ;\n",
      "             sio:SIO_000253 ?source ;\n",
      "             rdfs:label ?pathwayLabel .\n",
      "    ?gene a obo:NCIT_C16612 ;\n",
      "            rdfs:label ?geneLabel .\n",
      "    ?source rdfs:label ?sourceLabel .\n",
      "} \n",
      "GROUP BY ?pathway ?pathwayLabel\n",
      "HAVING (COUNT(?gene) > 7)\n",
      "\n"
     ]
    },
    {
     "data": {
      "text/html": [
       "<div>\n",
       "<style scoped>\n",
       "    .dataframe tbody tr th:only-of-type {\n",
       "        vertical-align: middle;\n",
       "    }\n",
       "\n",
       "    .dataframe tbody tr th {\n",
       "        vertical-align: top;\n",
       "    }\n",
       "\n",
       "    .dataframe thead th {\n",
       "        text-align: right;\n",
       "    }\n",
       "</style>\n",
       "<table border=\"1\" class=\"dataframe\">\n",
       "  <thead>\n",
       "    <tr style=\"text-align: right;\">\n",
       "      <th></th>\n",
       "      <th>pathway</th>\n",
       "      <th>pathwayLabel</th>\n",
       "      <th>geneCount</th>\n",
       "      <th>sources</th>\n",
       "      <th>genes</th>\n",
       "    </tr>\n",
       "  </thead>\n",
       "  <tbody>\n",
       "  </tbody>\n",
       "</table>\n",
       "</div>"
      ],
      "text/plain": [
       "Empty DataFrame\n",
       "Columns: [pathway, pathwayLabel, geneCount, sources, genes]\n",
       "Index: []"
      ]
     },
     "execution_count": 40,
     "metadata": {},
     "output_type": "execute_result"
    }
   ],
   "source": [
    "query_1 = send_sparql_query(queries_list[1][\"query\"])\n",
    "print(queries_list[1][\"comment\"])\n",
    "print(queries_list[1][\"query\"])\n",
    "query_1"
   ]
  },
  {
   "cell_type": "code",
   "execution_count": 41,
   "metadata": {},
   "outputs": [
    {
     "name": "stdout",
     "output_type": "stream",
     "text": [
      "Show the protein products of all genes as well as any pathways they are part of. Return the molecular functions these genes hace been described to perform. Don't return labels, except for pathways and molecular functions.\n",
      "\n",
      "PREFIX rdfs: <http://www.w3.org/2000/01/rdf-schema#>\n",
      "PREFIX sio: <http://semanticscience.org/resource/>\n",
      "PREFIX obo: <http://purl.obolibrary.org/obo/>\n",
      "PREFIX pr: <http://purl.obolibrary.org/obo/pr#>\n",
      "\n",
      "SELECT DISTINCT ?protein ?gene ?pathway ?pathwayLabel ?molecularFunction ?molecularFunctionLabel\n",
      "WHERE {\n",
      "    ?gene a obo:NCIT_C16612 ;\n",
      "                 rdfs:label ?geneLabel ;\n",
      "                 sio:SIO_000068 ?pathway ;\n",
      "                 sio:SIO_000068 ?molecularFunction .\n",
      "    ?molecularFunction rdfs:subClassOf obo:GO_0003674 ;\n",
      "                 rdfs:label ?molecularFunctionLabel .\n",
      "    ?protein a obo:NCIT_C17021 ;\n",
      "             pr:has_gene_template ?gene ;\n",
      "             rdfs:label ?proteinLabel .\n",
      "    ?pathway a obo:PW_0000001 ;\n",
      "             rdfs:label ?pathwayLabel .\n",
      "}\n"
     ]
    },
    {
     "data": {
      "text/html": [
       "<div>\n",
       "<style scoped>\n",
       "    .dataframe tbody tr th:only-of-type {\n",
       "        vertical-align: middle;\n",
       "    }\n",
       "\n",
       "    .dataframe tbody tr th {\n",
       "        vertical-align: top;\n",
       "    }\n",
       "\n",
       "    .dataframe thead th {\n",
       "        text-align: right;\n",
       "    }\n",
       "</style>\n",
       "<table border=\"1\" class=\"dataframe\">\n",
       "  <thead>\n",
       "    <tr style=\"text-align: right;\">\n",
       "      <th></th>\n",
       "      <th>protein</th>\n",
       "      <th>gene</th>\n",
       "      <th>pathway</th>\n",
       "      <th>pathwayLabel</th>\n",
       "      <th>molecularFunction</th>\n",
       "      <th>molecularFunctionLabel</th>\n",
       "    </tr>\n",
       "  </thead>\n",
       "  <tbody>\n",
       "  </tbody>\n",
       "</table>\n",
       "</div>"
      ],
      "text/plain": [
       "Empty DataFrame\n",
       "Columns: [protein, gene, pathway, pathwayLabel, molecularFunction, molecularFunctionLabel]\n",
       "Index: []"
      ]
     },
     "execution_count": 41,
     "metadata": {},
     "output_type": "execute_result"
    }
   ],
   "source": [
    "query_2 = send_sparql_query(queries_list[2][\"query\"])\n",
    "print(queries_list[2][\"comment\"])\n",
    "print(queries_list[2][\"query\"])\n",
    "query_2"
   ]
  },
  {
   "cell_type": "code",
   "execution_count": 42,
   "metadata": {},
   "outputs": [
    {
     "name": "stdout",
     "output_type": "stream",
     "text": [
      "\n",
      "PREFIX rdfs: <http://www.w3.org/2000/01/rdf-schema#>\n",
      "PREFIX sio: <http://semanticscience.org/resource/>\n",
      "PREFIX obo: <http://purl.obolibrary.org/obo/>\n",
      "\n",
      "SELECT ?gene ?geneLabel ?expressionValue ?anatomicalEntity ?entityLabel\n",
      "WHERE {\n",
      "    ?gene a obo:NCIT_C16612 ;\n",
      "          sio:SIO_000216 ?expressionMetric ;\n",
      "          rdfs:label ?geneLabel .\n",
      "\n",
      "          \n",
      "    ?expressionMetric a sio:SIO_001077 ;\n",
      "                      sio:SIO_001403 ?anatomicalEntity ;\n",
      "                      sio:SIO_000300 ?expressionValue ;\n",
      "                      sio:SIO_001403 obo:UBERON_0000104 .\n",
      "    ?anatomicalEntity a sio:SIO_001262 ;\n",
      "                      rdfs:label ?anatomicalEntityLabel .\n",
      "}\n",
      "ORDER BY DESC(?expressionValue)\n",
      "List genes linked to that have been found to be expressed in blood, along with their expression level values. Sort them in descending order according to their expression level values. Return all relevant labels.\n"
     ]
    },
    {
     "data": {
      "text/html": [
       "<div>\n",
       "<style scoped>\n",
       "    .dataframe tbody tr th:only-of-type {\n",
       "        vertical-align: middle;\n",
       "    }\n",
       "\n",
       "    .dataframe tbody tr th {\n",
       "        vertical-align: top;\n",
       "    }\n",
       "\n",
       "    .dataframe thead th {\n",
       "        text-align: right;\n",
       "    }\n",
       "</style>\n",
       "<table border=\"1\" class=\"dataframe\">\n",
       "  <thead>\n",
       "    <tr style=\"text-align: right;\">\n",
       "      <th></th>\n",
       "      <th>gene</th>\n",
       "      <th>geneLabel</th>\n",
       "      <th>expressionValue</th>\n",
       "      <th>anatomicalEntity</th>\n",
       "      <th>entityLabel</th>\n",
       "    </tr>\n",
       "  </thead>\n",
       "  <tbody>\n",
       "  </tbody>\n",
       "</table>\n",
       "</div>"
      ],
      "text/plain": [
       "Empty DataFrame\n",
       "Columns: [gene, geneLabel, expressionValue, anatomicalEntity, entityLabel]\n",
       "Index: []"
      ]
     },
     "execution_count": 42,
     "metadata": {},
     "output_type": "execute_result"
    }
   ],
   "source": [
    "query_3 = send_sparql_query(queries_list[3][\"query\"])\n",
    "print(queries_list[3][\"query\"])\n",
    "print(queries_list[3][\"comment\"])\n",
    "query_3"
   ]
  }
 ],
 "metadata": {
  "kernelspec": {
   "display_name": "Python 3",
   "language": "python",
   "name": "python3"
  },
  "language_info": {
   "codemirror_mode": {
    "name": "ipython",
    "version": 3
   },
   "file_extension": ".py",
   "mimetype": "text/x-python",
   "name": "python",
   "nbconvert_exporter": "python",
   "pygments_lexer": "ipython3",
   "version": "3.10.12"
  }
 },
 "nbformat": 4,
 "nbformat_minor": 4
}
