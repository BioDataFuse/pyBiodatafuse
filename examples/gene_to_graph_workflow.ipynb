{
 "cells": [
  {
   "cell_type": "markdown",
   "metadata": {},
   "source": [
    "# Example: Graph generation from a gene\n",
    "\n",
    "This notebook will show you how to use the tool to generate a KG on the underlying data."
   ]
  },
  {
   "cell_type": "code",
   "execution_count": null,
   "metadata": {},
   "outputs": [
    {
     "name": "stdout",
     "output_type": "stream",
     "text": [
      "Current directory: /Users/yojana/Documents/GitHub/pyBiodatafuse\n"
     ]
    }
   ],
   "source": [
    "import os\n",
    "\n",
    "current_dir = os.getcwd()\n",
    "\n",
    "os.chdir(f\"{current_dir}/..\")\n",
    "\n",
    "# Set the current working directory\n",
    "current_dir = os.getcwd()\n",
    "print(\"Current directory:\", current_dir)"
   ]
  },
  {
   "cell_type": "code",
   "execution_count": 2,
   "metadata": {},
   "outputs": [],
   "source": [
    "# Import modules\n",
    "import pickle\n",
    "\n",
    "import pandas as pd\n",
    "\n",
    "from pyBiodatafuse import id_mapper\n",
    "from pyBiodatafuse.annotators import (\n",
    "    bgee,\n",
    "    disgenet,\n",
    "    minerva,\n",
    "    molmedb,\n",
    "    opentargets,\n",
    "    pubchem,\n",
    "    stringdb,\n",
    "    wikipathways,\n",
    ")\n",
    "from pyBiodatafuse.constants import BGEE_GENE_EXPRESSION_LEVELS_COL, DISGENET_DISEASE_COL\n",
    "from pyBiodatafuse.graph import generator\n",
    "from pyBiodatafuse.utils import (\n",
    "    combine_sources,\n",
    "    create_harmonized_input_file,\n",
    "    create_or_append_to_metadata,\n",
    ")"
   ]
  },
  {
   "cell_type": "markdown",
   "metadata": {},
   "source": [
    "### Load the input list and convert it to a dataframe"
   ]
  },
  {
   "cell_type": "code",
   "execution_count": null,
   "metadata": {},
   "outputs": [
    {
     "data": {
      "text/plain": [
       "36"
      ]
     },
     "execution_count": 3,
     "metadata": {},
     "output_type": "execute_result"
    }
   ],
   "source": [
    "genes_of_interest = \"\"\"AAGRN\n",
    "ALG14\n",
    "ALG2\n",
    "CHAT\n",
    "CHD8\n",
    "CHRNA1\n",
    "CHRNB1\n",
    "CHRND\n",
    "CHRNE\n",
    "CHRNG\n",
    "COL13A1\n",
    "COLQ\n",
    "DOK7\n",
    "DPAGT1\n",
    "GFPT1\n",
    "GMPPB\n",
    "LAMA5\n",
    "LAMB2\n",
    "LRP4\n",
    "MUSK\n",
    "MYO9A\n",
    "PLEC\n",
    "PREPL\n",
    "PURA\n",
    "RAPSN\n",
    "RPH3A\n",
    "SCN4A\n",
    "SLC18A3\n",
    "SLC25A1\n",
    "SLC5A7\n",
    "SNAP25\n",
    "SYT2\n",
    "TOR1AIP1\n",
    "UNC13A\n",
    "VAMP1\n",
    "DMD\"\"\"\n",
    "\n",
    "gene_list = genes_of_interest.split(\"\\n\")\n",
    "len(gene_list)"
   ]
  },
  {
   "cell_type": "code",
   "execution_count": null,
   "metadata": {},
   "outputs": [
    {
     "data": {
      "text/html": [
       "<div>\n",
       "<style scoped>\n",
       "    .dataframe tbody tr th:only-of-type {\n",
       "        vertical-align: middle;\n",
       "    }\n",
       "\n",
       "    .dataframe tbody tr th {\n",
       "        vertical-align: top;\n",
       "    }\n",
       "\n",
       "    .dataframe thead th {\n",
       "        text-align: right;\n",
       "    }\n",
       "</style>\n",
       "<table border=\"1\" class=\"dataframe\">\n",
       "  <thead>\n",
       "    <tr style=\"text-align: right;\">\n",
       "      <th></th>\n",
       "      <th>identifier</th>\n",
       "    </tr>\n",
       "  </thead>\n",
       "  <tbody>\n",
       "    <tr>\n",
       "      <th>0</th>\n",
       "      <td>AAGRN</td>\n",
       "    </tr>\n",
       "    <tr>\n",
       "      <th>1</th>\n",
       "      <td>ALG14</td>\n",
       "    </tr>\n",
       "    <tr>\n",
       "      <th>2</th>\n",
       "      <td>ALG2</td>\n",
       "    </tr>\n",
       "    <tr>\n",
       "      <th>3</th>\n",
       "      <td>CHAT</td>\n",
       "    </tr>\n",
       "    <tr>\n",
       "      <th>4</th>\n",
       "      <td>CHD8</td>\n",
       "    </tr>\n",
       "  </tbody>\n",
       "</table>\n",
       "</div>"
      ],
      "text/plain": [
       "  identifier\n",
       "0      AAGRN\n",
       "1      ALG14\n",
       "2       ALG2\n",
       "3       CHAT\n",
       "4       CHD8"
      ]
     },
     "execution_count": 4,
     "metadata": {},
     "output_type": "execute_result"
    }
   ],
   "source": [
    "data_input = pd.DataFrame(gene_list, columns=[\"identifier\"])\n",
    "data_input.head()"
   ]
  },
  {
   "cell_type": "markdown",
   "metadata": {},
   "source": [
    "### Entity resolution using BridgeDB"
   ]
  },
  {
   "cell_type": "code",
   "execution_count": null,
   "metadata": {},
   "outputs": [],
   "source": [
    "os.makedirs(\"examples/data\", exist_ok=True)"
   ]
  },
  {
   "cell_type": "code",
   "execution_count": 6,
   "metadata": {},
   "outputs": [],
   "source": [
    "pickle_path = os.path.join(os.getcwd(), \"examples/data/example_gene_list.pkl\")\n",
    "metadata_path = os.path.join(os.getcwd(), \"examples/data/example_gene_list_metadata.pkl\")\n",
    "\n",
    "if not os.path.exists(pickle_path):\n",
    "    bridgedb_df, bridgedb_metadata = id_mapper.bridgedb_xref(\n",
    "        identifiers=data_input,\n",
    "        input_species=\"Human\",\n",
    "        input_datasource=\"HGNC\",\n",
    "        output_datasource=\"All\",\n",
    "    )\n",
    "    bridgedb_df.to_pickle(pickle_path)\n",
    "    with open(metadata_path, \"wb\") as file:\n",
    "        pickle.dump(bridgedb_metadata, file)\n",
    "else:\n",
    "    bridgedb_df = pd.read_pickle(pickle_path)\n",
    "    with open(metadata_path, \"rb\") as file:\n",
    "        bridgedb_metadata = pickle.load(file)"
   ]
  },
  {
   "cell_type": "code",
   "execution_count": 7,
   "metadata": {},
   "outputs": [
    {
     "name": "stdout",
     "output_type": "stream",
     "text": [
      "Number of genes with mapping in BridgeDb: 35\n"
     ]
    },
    {
     "data": {
      "text/html": [
       "<div>\n",
       "<style scoped>\n",
       "    .dataframe tbody tr th:only-of-type {\n",
       "        vertical-align: middle;\n",
       "    }\n",
       "\n",
       "    .dataframe tbody tr th {\n",
       "        vertical-align: top;\n",
       "    }\n",
       "\n",
       "    .dataframe thead th {\n",
       "        text-align: right;\n",
       "    }\n",
       "</style>\n",
       "<table border=\"1\" class=\"dataframe\">\n",
       "  <thead>\n",
       "    <tr style=\"text-align: right;\">\n",
       "      <th></th>\n",
       "      <th>identifier</th>\n",
       "      <th>identifier.source</th>\n",
       "      <th>target</th>\n",
       "      <th>target.source</th>\n",
       "    </tr>\n",
       "  </thead>\n",
       "  <tbody>\n",
       "    <tr>\n",
       "      <th>0</th>\n",
       "      <td>ALG14</td>\n",
       "      <td>HGNC</td>\n",
       "      <td>Q96F25</td>\n",
       "      <td>Uniprot-TrEMBL</td>\n",
       "    </tr>\n",
       "    <tr>\n",
       "      <th>1</th>\n",
       "      <td>ALG14</td>\n",
       "      <td>HGNC</td>\n",
       "      <td>ALG14</td>\n",
       "      <td>HGNC</td>\n",
       "    </tr>\n",
       "    <tr>\n",
       "      <th>2</th>\n",
       "      <td>ALG14</td>\n",
       "      <td>HGNC</td>\n",
       "      <td>ENSG00000172339</td>\n",
       "      <td>Ensembl</td>\n",
       "    </tr>\n",
       "    <tr>\n",
       "      <th>3</th>\n",
       "      <td>ALG14</td>\n",
       "      <td>HGNC</td>\n",
       "      <td>199857</td>\n",
       "      <td>NCBI Gene</td>\n",
       "    </tr>\n",
       "    <tr>\n",
       "      <th>4</th>\n",
       "      <td>ALG14</td>\n",
       "      <td>HGNC</td>\n",
       "      <td>HGNC:28287</td>\n",
       "      <td>HGNC Accession Number</td>\n",
       "    </tr>\n",
       "  </tbody>\n",
       "</table>\n",
       "</div>"
      ],
      "text/plain": [
       "  identifier identifier.source           target          target.source\n",
       "0      ALG14              HGNC           Q96F25         Uniprot-TrEMBL\n",
       "1      ALG14              HGNC            ALG14                   HGNC\n",
       "2      ALG14              HGNC  ENSG00000172339                Ensembl\n",
       "3      ALG14              HGNC           199857              NCBI Gene\n",
       "4      ALG14              HGNC       HGNC:28287  HGNC Accession Number"
      ]
     },
     "execution_count": 7,
     "metadata": {},
     "output_type": "execute_result"
    }
   ],
   "source": [
    "print(\"Number of genes with mapping in BridgeDb:\", len(bridgedb_df[\"identifier\"].unique()))\n",
    "bridgedb_df.head()"
   ]
  },
  {
   "cell_type": "markdown",
   "metadata": {},
   "source": [
    "### Gene expression from Bgee"
   ]
  },
  {
   "cell_type": "code",
   "execution_count": 10,
   "metadata": {},
   "outputs": [],
   "source": [
    "bgee_path = os.path.join(os.getcwd(), \"examples/data/example_bgee.pkl\")\n",
    "bgee_metadata_path = os.path.join(os.getcwd(), \"examples/data/example_bgee_metadata.pkl\")\n",
    "\n",
    "if not os.path.exists(bgee_path):\n",
    "    bgee_df, bgee_metadata = bgee.get_gene_expression(bridgedb_df=bridgedb_df)\n",
    "    bgee_df.to_pickle(bgee_path)\n",
    "    with open(bgee_metadata_path, \"wb\") as file:\n",
    "        pickle.dump(bgee_metadata, file)\n",
    "else:\n",
    "    bgee_df = pd.read_pickle(bgee_path)\n",
    "    with open(bgee_metadata_path, \"rb\") as file:\n",
    "        bgee_metadata = pickle.load(file)"
   ]
  },
  {
   "cell_type": "code",
   "execution_count": 11,
   "metadata": {},
   "outputs": [
    {
     "data": {
      "text/plain": [
       "[{'anatomical_entity_id': 'UBERON_0000178',\n",
       "  'anatomical_entity_name': 'blood',\n",
       "  'expression_level': 60.16422,\n",
       "  'confidence_level_id': 'CIO_0000029',\n",
       "  'confidence_level_name': 'high confidence level',\n",
       "  'developmental_stage_id': 'UBERON_0000104',\n",
       "  'developmental_stage_name': 'life cycle'},\n",
       " {'anatomical_entity_id': 'UBERON_0002371',\n",
       "  'anatomical_entity_name': 'bone marrow',\n",
       "  'expression_level': 68.7005,\n",
       "  'confidence_level_id': 'CIO_0000029',\n",
       "  'confidence_level_name': 'high confidence level',\n",
       "  'developmental_stage_id': 'UBERON_0000104',\n",
       "  'developmental_stage_name': 'life cycle'},\n",
       " {'anatomical_entity_id': 'UBERON_0000955',\n",
       "  'anatomical_entity_name': 'brain',\n",
       "  'expression_level': 73.14512,\n",
       "  'confidence_level_id': 'CIO_0000029',\n",
       "  'confidence_level_name': 'high confidence level',\n",
       "  'developmental_stage_id': 'UBERON_0000104',\n",
       "  'developmental_stage_name': 'life cycle'},\n",
       " {'anatomical_entity_id': 'UBERON_0000310',\n",
       "  'anatomical_entity_name': 'breast',\n",
       "  'expression_level': 73.87516999999998,\n",
       "  'confidence_level_id': 'CIO_0000029',\n",
       "  'confidence_level_name': 'high confidence level',\n",
       "  'developmental_stage_id': 'UBERON_0000104',\n",
       "  'developmental_stage_name': 'life cycle'},\n",
       " {'anatomical_entity_id': 'UBERON_0004535',\n",
       "  'anatomical_entity_name': 'cardiovascular system',\n",
       "  'expression_level': 73.25395,\n",
       "  'confidence_level_id': 'CIO_0000029',\n",
       "  'confidence_level_name': 'high confidence level',\n",
       "  'developmental_stage_id': 'UBERON_0000104',\n",
       "  'developmental_stage_name': 'life cycle'},\n",
       " {'anatomical_entity_id': 'UBERON_0001007',\n",
       "  'anatomical_entity_name': 'digestive system',\n",
       "  'expression_level': 74.32841,\n",
       "  'confidence_level_id': 'CIO_0000029',\n",
       "  'confidence_level_name': 'high confidence level',\n",
       "  'developmental_stage_id': 'UBERON_0000104',\n",
       "  'developmental_stage_name': 'life cycle'},\n",
       " {'anatomical_entity_id': 'UBERON_0000948',\n",
       "  'anatomical_entity_name': 'heart',\n",
       "  'expression_level': 72.146,\n",
       "  'confidence_level_id': 'CIO_0000029',\n",
       "  'confidence_level_name': 'high confidence level',\n",
       "  'developmental_stage_id': 'UBERON_0000104',\n",
       "  'developmental_stage_name': 'life cycle'},\n",
       " {'anatomical_entity_id': 'UBERON_0005057',\n",
       "  'anatomical_entity_name': 'immune organ',\n",
       "  'expression_level': 70.36014,\n",
       "  'confidence_level_id': 'CIO_0000029',\n",
       "  'confidence_level_name': 'high confidence level',\n",
       "  'developmental_stage_id': 'UBERON_0000104',\n",
       "  'developmental_stage_name': 'life cycle'},\n",
       " {'anatomical_entity_id': 'UBERON_0002113',\n",
       "  'anatomical_entity_name': 'kidney',\n",
       "  'expression_level': 73.49196999999998,\n",
       "  'confidence_level_id': 'CIO_0000029',\n",
       "  'confidence_level_name': 'high confidence level',\n",
       "  'developmental_stage_id': 'UBERON_0000104',\n",
       "  'developmental_stage_name': 'life cycle'},\n",
       " {'anatomical_entity_id': 'UBERON_0002107',\n",
       "  'anatomical_entity_name': 'liver',\n",
       "  'expression_level': 79.67478,\n",
       "  'confidence_level_id': 'CIO_0000029',\n",
       "  'confidence_level_name': 'high confidence level',\n",
       "  'developmental_stage_id': 'UBERON_0000104',\n",
       "  'developmental_stage_name': 'life cycle'},\n",
       " {'anatomical_entity_id': 'UBERON_0002048',\n",
       "  'anatomical_entity_name': 'lung',\n",
       "  'expression_level': 69.79652,\n",
       "  'confidence_level_id': 'CIO_0000029',\n",
       "  'confidence_level_name': 'high confidence level',\n",
       "  'developmental_stage_id': 'UBERON_0000104',\n",
       "  'developmental_stage_name': 'life cycle'},\n",
       " {'anatomical_entity_id': 'UBERON_0001016',\n",
       "  'anatomical_entity_name': 'nervous system',\n",
       "  'expression_level': 74.0342,\n",
       "  'confidence_level_id': 'CIO_0000029',\n",
       "  'confidence_level_name': 'high confidence level',\n",
       "  'developmental_stage_id': 'UBERON_0000104',\n",
       "  'developmental_stage_name': 'life cycle'},\n",
       " {'anatomical_entity_id': 'UBERON_0001264',\n",
       "  'anatomical_entity_name': 'pancreas',\n",
       "  'expression_level': 77.93468,\n",
       "  'confidence_level_id': 'CIO_0000029',\n",
       "  'confidence_level_name': 'high confidence level',\n",
       "  'developmental_stage_id': 'UBERON_0000104',\n",
       "  'developmental_stage_name': 'life cycle'},\n",
       " {'anatomical_entity_id': 'UBERON_0001987',\n",
       "  'anatomical_entity_name': 'placenta',\n",
       "  'expression_level': 75.67637,\n",
       "  'confidence_level_id': 'CIO_0000029',\n",
       "  'confidence_level_name': 'high confidence level',\n",
       "  'developmental_stage_id': 'UBERON_0000104',\n",
       "  'developmental_stage_name': 'life cycle'},\n",
       " {'anatomical_entity_id': 'UBERON_0000990',\n",
       "  'anatomical_entity_name': 'reproductive system',\n",
       "  'expression_level': 76.08918,\n",
       "  'confidence_level_id': 'CIO_0000029',\n",
       "  'confidence_level_name': 'high confidence level',\n",
       "  'developmental_stage_id': 'UBERON_0000104',\n",
       "  'developmental_stage_name': 'life cycle'},\n",
       " {'anatomical_entity_id': 'UBERON_0001004',\n",
       "  'anatomical_entity_name': 'respiratory system',\n",
       "  'expression_level': 72.57522,\n",
       "  'confidence_level_id': 'CIO_0000029',\n",
       "  'confidence_level_name': 'high confidence level',\n",
       "  'developmental_stage_id': 'UBERON_0000104',\n",
       "  'developmental_stage_name': 'life cycle'},\n",
       " {'anatomical_entity_id': 'UBERON_0001434',\n",
       "  'anatomical_entity_name': 'skeletal system',\n",
       "  'expression_level': 71.49658,\n",
       "  'confidence_level_id': 'CIO_0000029',\n",
       "  'confidence_level_name': 'high confidence level',\n",
       "  'developmental_stage_id': 'UBERON_0000104',\n",
       "  'developmental_stage_name': 'life cycle'}]"
      ]
     },
     "execution_count": 11,
     "metadata": {},
     "output_type": "execute_result"
    }
   ],
   "source": [
    "bgee_df[BGEE_GENE_EXPRESSION_LEVELS_COL][0]"
   ]
  },
  {
   "cell_type": "markdown",
   "metadata": {},
   "source": [
    "### Disease annotatation from DisGeNet\n"
   ]
  },
  {
   "cell_type": "code",
   "execution_count": 12,
   "metadata": {},
   "outputs": [],
   "source": [
    "disgenet_api_key = \"89ba9e26-dc4d-45de-a92d-79fe45d9ae1c\""
   ]
  },
  {
   "cell_type": "code",
   "execution_count": 13,
   "metadata": {},
   "outputs": [
    {
     "name": "stderr",
     "output_type": "stream",
     "text": [
      "Querying DisGeNET: 100%|██████████| 35/35 [00:16<00:00,  2.15it/s]\n",
      "/Users/yojana/Documents/GitHub/pyBiodatafuse/src/pyBiodatafuse/annotators/disgenet.py:293: UserWarning: Not all values in column 'el' have the correct type '<class 'float'>'.\n",
      "  check_columns_against_constants(\n"
     ]
    }
   ],
   "source": [
    "disgenet_path = os.path.join(os.getcwd(), \"examples/data/example_disgenet.pkl\")\n",
    "disgenet_metadata_path = os.path.join(os.getcwd(), \"examples/data/example_disgenet_metadata.pkl\")\n",
    "\n",
    "if not os.path.exists(disgenet_path):\n",
    "    disgenet_df, disgenet_metadata = disgenet.get_gene_disease(\n",
    "        api_key=disgenet_api_key, bridgedb_df=bridgedb_df\n",
    "    )\n",
    "\n",
    "    disgenet_df.to_pickle(disgenet_path)\n",
    "    with open(disgenet_metadata_path, \"wb\") as file:\n",
    "        pickle.dump(disgenet_metadata, file)\n",
    "else:\n",
    "    disgenet_df = pd.read_pickle(disgenet_path)\n",
    "    with open(disgenet_metadata_path, \"rb\") as file:\n",
    "        disgenet_metadata = pickle.load(file)"
   ]
  },
  {
   "cell_type": "markdown",
   "metadata": {},
   "source": [
    "### Disease to compound annotation from OpenTargets"
   ]
  },
  {
   "cell_type": "code",
   "execution_count": 14,
   "metadata": {},
   "outputs": [
    {
     "data": {
      "text/html": [
       "<div>\n",
       "<style scoped>\n",
       "    .dataframe tbody tr th:only-of-type {\n",
       "        vertical-align: middle;\n",
       "    }\n",
       "\n",
       "    .dataframe tbody tr th {\n",
       "        vertical-align: top;\n",
       "    }\n",
       "\n",
       "    .dataframe thead th {\n",
       "        text-align: right;\n",
       "    }\n",
       "</style>\n",
       "<table border=\"1\" class=\"dataframe\">\n",
       "  <thead>\n",
       "    <tr style=\"text-align: right;\">\n",
       "      <th></th>\n",
       "      <th>identifier</th>\n",
       "      <th>identifier.source</th>\n",
       "      <th>target</th>\n",
       "      <th>target.source</th>\n",
       "    </tr>\n",
       "  </thead>\n",
       "  <tbody>\n",
       "    <tr>\n",
       "      <th>0</th>\n",
       "      <td>UMLS_C5680989</td>\n",
       "      <td>UMLS</td>\n",
       "      <td>EFO_0700079</td>\n",
       "      <td>EFO</td>\n",
       "    </tr>\n",
       "    <tr>\n",
       "      <th>2</th>\n",
       "      <td>UMLS_C0017605</td>\n",
       "      <td>UMLS</td>\n",
       "      <td>EFO_1001506</td>\n",
       "      <td>EFO</td>\n",
       "    </tr>\n",
       "    <tr>\n",
       "      <th>3</th>\n",
       "      <td>UMLS_C0751884</td>\n",
       "      <td>UMLS</td>\n",
       "      <td>EFO_0700127</td>\n",
       "      <td>EFO</td>\n",
       "    </tr>\n",
       "    <tr>\n",
       "      <th>4</th>\n",
       "      <td>UMLS_C0011581</td>\n",
       "      <td>UMLS</td>\n",
       "      <td>EFO_0004257</td>\n",
       "      <td>EFO</td>\n",
       "    </tr>\n",
       "    <tr>\n",
       "      <th>5</th>\n",
       "      <td>UMLS_C0011581</td>\n",
       "      <td>UMLS</td>\n",
       "      <td>EFO_0008623</td>\n",
       "      <td>EFO</td>\n",
       "    </tr>\n",
       "  </tbody>\n",
       "</table>\n",
       "</div>"
      ],
      "text/plain": [
       "      identifier identifier.source       target target.source\n",
       "0  UMLS_C5680989              UMLS  EFO_0700079           EFO\n",
       "2  UMLS_C0017605              UMLS  EFO_1001506           EFO\n",
       "3  UMLS_C0751884              UMLS  EFO_0700127           EFO\n",
       "4  UMLS_C0011581              UMLS  EFO_0004257           EFO\n",
       "5  UMLS_C0011581              UMLS  EFO_0008623           EFO"
      ]
     },
     "execution_count": 14,
     "metadata": {},
     "output_type": "execute_result"
    }
   ],
   "source": [
    "# Prepare the input to use DISGENET output as seed for OpenTargets\n",
    "disease_mapping_df = create_harmonized_input_file(disgenet_df, DISGENET_DISEASE_COL, \"EFO\", \"UMLS\")\n",
    "disease_mapping_df.head()"
   ]
  },
  {
   "cell_type": "code",
   "execution_count": 16,
   "metadata": {},
   "outputs": [
    {
     "name": "stderr",
     "output_type": "stream",
     "text": [
      "Processing diseases-drug interactions: 100%|██████████| 101/101 [00:00<00:00, 241.21it/s]\n",
      "Mapping PubChem: 100%|██████████| 752/752 [03:28<00:00,  3.60it/s]\n",
      "/Users/yojana/Documents/GitHub/pyBiodatafuse/src/pyBiodatafuse/annotators/opentargets.py:1119: UserWarning: Not all values in column 'adverse_effect' have the correct type '<class 'dict'>'.\n",
      "  check_columns_against_constants(\n"
     ]
    }
   ],
   "source": [
    "opentarget_path = os.path.join(os.getcwd(), \"examples/data/example_opentarget_cmpd.pkl\")\n",
    "opentarget_metadata_path = os.path.join(\n",
    "    os.getcwd(), \"examples/data/example_opentarget_cmpd_metadata.pkl\"\n",
    ")\n",
    "\n",
    "if not os.path.exists(opentarget_path):\n",
    "    opentargets_df, opentargets_metadata = opentargets.get_disease_compound_interactions(\n",
    "        disease_mapping_df\n",
    "    )\n",
    "    opentargets_df.to_pickle(opentarget_path)\n",
    "    with open(opentarget_metadata_path, \"wb\") as file:\n",
    "        pickle.dump(opentargets_metadata, file)\n",
    "else:\n",
    "    opentargets_df = pd.read_pickle(opentarget_path)\n",
    "    with open(opentarget_metadata_path, \"rb\") as file:\n",
    "        opentargets_metadata = pickle.load(file)"
   ]
  },
  {
   "cell_type": "markdown",
   "metadata": {},
   "source": [
    "### Pathways from MINERVA"
   ]
  },
  {
   "cell_type": "code",
   "execution_count": 17,
   "metadata": {},
   "outputs": [
    {
     "name": "stderr",
     "output_type": "stream",
     "text": [
      "/var/folders/x2/1tdvwk7x2_n98kzwy7rnt3t00000gn/T/ipykernel_51688/2116567606.py:5: UserWarning: There is no annotation for your input list in MINERVA, project COVID19 Disease Map.\n",
      "  minerva_df, minerva_metadata = minerva.get_gene_minerva_pathways(\n"
     ]
    }
   ],
   "source": [
    "minerva_path = os.path.join(os.getcwd(), \"examples/data/example_minerva.pkl\")\n",
    "minerva_metadata_path = os.path.join(os.getcwd(), \"examples/data/example_minerva_metadata.pkl\")\n",
    "\n",
    "if not os.path.exists(minerva_path):\n",
    "    minerva_df, minerva_metadata = minerva.get_gene_minerva_pathways(\n",
    "        bridgedb_df, map_name=\"COVID19 Disease Map\"\n",
    "    )\n",
    "    minerva_df.to_pickle(minerva_path)\n",
    "    with open(minerva_metadata_path, \"wb\") as file:\n",
    "        pickle.dump(minerva_metadata, file)\n",
    "\n",
    "else:\n",
    "    minerva_df = pd.read_pickle(minerva_path)\n",
    "    with open(minerva_metadata_path, \"rb\") as file:\n",
    "        minerva_metadata = pickle.load(file)"
   ]
  },
  {
   "cell_type": "code",
   "execution_count": 18,
   "metadata": {},
   "outputs": [
    {
     "data": {
      "text/plain": [
       "{'datasource': 'MINERVA',\n",
       " 'metadata': {'source_version': '18.0.1'},\n",
       " 'query': {'size': 35,\n",
       "  'input_type': 'Ensembl',\n",
       "  'MINERVA project': 'COVID19 Disease Map',\n",
       "  'time': '0:01:03.577905',\n",
       "  'date': '2024-11-06 18:03:00',\n",
       "  'url': 'https://covid19map.elixir-luxembourg.org/minerva/'}}"
      ]
     },
     "execution_count": 18,
     "metadata": {},
     "output_type": "execute_result"
    }
   ],
   "source": [
    "minerva_metadata"
   ]
  },
  {
   "cell_type": "markdown",
   "metadata": {},
   "source": [
    "### Pathways from WikiPathways"
   ]
  },
  {
   "cell_type": "code",
   "execution_count": 19,
   "metadata": {},
   "outputs": [
    {
     "name": "stderr",
     "output_type": "stream",
     "text": [
      "Querying WikiPathways: 100%|██████████| 2/2 [00:01<00:00,  1.30it/s]\n"
     ]
    }
   ],
   "source": [
    "wikipathways_path = os.path.join(os.getcwd(), \"examples/data/example_wikipathway.pkl\")\n",
    "wikipathways_metadata_path = os.path.join(\n",
    "    os.getcwd(), \"examples/data/example_wikipathway_metadata.pkl\"\n",
    ")\n",
    "\n",
    "if not os.path.exists(wikipathways_path):\n",
    "    wikipathways_df, wikipathways_metadata = wikipathways.get_gene_wikipathways(\n",
    "        bridgedb_df=bridgedb_df\n",
    "    )\n",
    "    wikipathways_df.to_pickle(wikipathways_path)\n",
    "    with open(wikipathways_metadata_path, \"wb\") as file:\n",
    "        pickle.dump(wikipathways_metadata, file)\n",
    "\n",
    "else:\n",
    "    wikipathways_df = pd.read_pickle(wikipathways_path)\n",
    "    with open(wikipathways_metadata_path, \"rb\") as file:\n",
    "        wikipathways_metadata = pickle.load(file)"
   ]
  },
  {
   "cell_type": "markdown",
   "metadata": {},
   "source": [
    "### Reactome pathways from OpenTargets"
   ]
  },
  {
   "cell_type": "code",
   "execution_count": 20,
   "metadata": {},
   "outputs": [
    {
     "name": "stderr",
     "output_type": "stream",
     "text": [
      "Processing gene-pathway interactions: 100%|██████████| 35/35 [00:00<00:00, 1061.77it/s]\n"
     ]
    }
   ],
   "source": [
    "opentargets_reactome_path = os.path.join(os.getcwd(), \"examples/data/example_ot_reactome.pkl\")\n",
    "opentargets_reactome_metadata_path = os.path.join(\n",
    "    os.getcwd(), \"examples/data/example_ot_reactome_metadata.pkl\"\n",
    ")\n",
    "\n",
    "if not os.path.exists(opentargets_reactome_path):\n",
    "    opentargets_reactome_df, opentargets_reactome_metadata = opentargets.get_gene_reactome_pathways(\n",
    "        bridgedb_df=bridgedb_df\n",
    "    )\n",
    "    opentargets_reactome_df.to_pickle(opentargets_reactome_path)\n",
    "    with open(opentargets_reactome_metadata_path, \"wb\") as file:\n",
    "        pickle.dump(opentargets_reactome_metadata, file)\n",
    "else:\n",
    "    opentargets_reactome_df = pd.read_pickle(opentargets_reactome_path)\n",
    "    with open(opentargets_reactome_metadata_path, \"rb\") as file:\n",
    "        opentargets_reactome_metadata = pickle.load(file)"
   ]
  },
  {
   "cell_type": "markdown",
   "metadata": {},
   "source": [
    "### Gene Ontology from OpenTargets"
   ]
  },
  {
   "cell_type": "code",
   "execution_count": 22,
   "metadata": {},
   "outputs": [
    {
     "name": "stderr",
     "output_type": "stream",
     "text": [
      "Processing gene annotation: 100%|██████████| 35/35 [00:00<00:00, 409.52it/s]\n"
     ]
    }
   ],
   "source": [
    "opentargets_go_path = os.path.join(os.getcwd(), \"examples/data/example_ot_go.pkl\")\n",
    "opentargets_go_metadata_path = os.path.join(os.getcwd(), \"examples/data/example_ot_go_metadata.pkl\")\n",
    "\n",
    "if not os.path.exists(opentargets_go_path):\n",
    "    opentargets_go_df, opentargets_go_metadata = opentargets.get_gene_go_process(\n",
    "        bridgedb_df=bridgedb_df\n",
    "    )\n",
    "    opentargets_go_df.to_pickle(opentargets_go_path)\n",
    "    with open(opentargets_go_metadata_path, \"wb\") as file:\n",
    "        pickle.dump(opentargets_go_metadata, file)\n",
    "else:\n",
    "    opentargets_go_df = pd.read_pickle(opentargets_go_path)\n",
    "    with open(opentargets_go_metadata_path, \"rb\") as file:\n",
    "        opentargets_go_metadata = pickle.load(file)"
   ]
  },
  {
   "cell_type": "markdown",
   "metadata": {},
   "source": [
    "### Compounds from OpenTarget"
   ]
  },
  {
   "cell_type": "code",
   "execution_count": null,
   "metadata": {},
   "outputs": [
    {
     "name": "stderr",
     "output_type": "stream",
     "text": [
      "Processing gene-drug interactions: 100%|██████████| 35/35 [00:00<00:00, 456.58it/s]\n",
      "Mapping PubChem: 100%|██████████| 56/56 [00:01<00:00, 44.55it/s]\n",
      "/Users/yojana/Documents/GitHub/pyBiodatafuse/src/pyBiodatafuse/annotators/opentargets.py:599: UserWarning: Not all values in column 'adverse_effect_count' have the correct type '<class 'int'>'.\n",
      "  check_columns_against_constants(\n",
      "/Users/yojana/Documents/GitHub/pyBiodatafuse/src/pyBiodatafuse/annotators/opentargets.py:599: UserWarning: Not all values in column 'adverse_effect' have the correct type '<class 'dict'>'.\n",
      "  check_columns_against_constants(\n"
     ]
    }
   ],
   "source": [
    "opentargets_gene_path = os.path.join(os.getcwd(), \"examples/data/example_ot_gene_cmpd.pkl\")\n",
    "opentargets_gene_metadata_path = os.path.join(\n",
    "    os.getcwd(), \"examples/data/example_ot_gene_cmpd_metadata.pkl\"\n",
    ")\n",
    "\n",
    "if not os.path.exists(opentargets_gene_path):\n",
    "    opentargets_compound_df, opentargets_compound_metadata = (\n",
    "        opentargets.get_gene_compound_interactions(bridgedb_df=bridgedb_df)\n",
    "    )\n",
    "    opentargets_compound_df.to_pickle(opentargets_gene_path)\n",
    "    with open(opentargets_gene_metadata_path, \"wb\") as file:\n",
    "        pickle.dump(opentargets_compound_metadata, file)\n",
    "\n",
    "else:\n",
    "    opentargets_compound_df = pd.read_pickle(opentargets_gene_path)\n",
    "    with open(opentargets_gene_metadata_path, \"rb\") as file:\n",
    "        opentargets_compound_metadata = pickle.load(file)"
   ]
  },
  {
   "cell_type": "markdown",
   "metadata": {},
   "source": [
    "### Transporter inhibitors from MolMeDB"
   ]
  },
  {
   "cell_type": "code",
   "execution_count": 24,
   "metadata": {},
   "outputs": [],
   "source": [
    "molmedb_path = os.path.join(os.getcwd(), \"examples/data/example_ot_gene_cmpd.pkl\")\n",
    "molmedb_metadata_path = os.path.join(os.getcwd(), \"examples/data/example_ot_gene_cmpd_metadata.pkl\")\n",
    "\n",
    "if not os.path.exists(molmedb_path):\n",
    "    inhibitor_df, inhibitor_metadata = molmedb.get_gene_compound_inhibitor(bridgedb_df=bridgedb_df)\n",
    "    inhibitor_df.to_pickle(molmedb_path)\n",
    "    with open(molmedb_metadata_path, \"wb\") as file:\n",
    "        pickle.dump(inhibitor_metadata, file)\n",
    "else:\n",
    "    inhibitor_df = pd.read_pickle(molmedb_path)\n",
    "    with open(molmedb_metadata_path, \"rb\") as file:\n",
    "        inhibitor_metadata = pickle.load(file)"
   ]
  },
  {
   "cell_type": "markdown",
   "metadata": {},
   "source": [
    "### Screening results of compounds on proteins encoded by genes annotation by PubChem"
   ]
  },
  {
   "cell_type": "code",
   "execution_count": 25,
   "metadata": {},
   "outputs": [
    {
     "name": "stderr",
     "output_type": "stream",
     "text": [
      "/var/folders/x2/1tdvwk7x2_n98kzwy7rnt3t00000gn/T/ipykernel_51688/1168625326.py:5: UserWarning: There is no annotation for your input list in PubChem.\n",
      "  pubchem_assay_df, pubchem_assay_metadata = pubchem.get_protein_compound_screened(\n"
     ]
    }
   ],
   "source": [
    "pubchem_path = os.path.join(os.getcwd(), \"examples/data/example_pubchem.pkl\")\n",
    "pubchem_metadata_path = os.path.join(os.getcwd(), \"examples/data/example_pubchem_metadata.pkl\")\n",
    "\n",
    "if not os.path.exists(pubchem_path):\n",
    "    pubchem_assay_df, pubchem_assay_metadata = pubchem.get_protein_compound_screened(\n",
    "        bridgedb_df=bridgedb_df\n",
    "    )\n",
    "    pubchem_assay_df.to_pickle(pubchem_path)\n",
    "    with open(pubchem_metadata_path, \"wb\") as file:\n",
    "        pickle.dump(pubchem_assay_metadata, file)\n",
    "\n",
    "else:\n",
    "    pubchem_assay_df = pd.read_pickle(pubchem_path)\n",
    "    with open(pubchem_metadata_path, \"rb\") as file:\n",
    "        pubchem_assay_metadata = pickle.load(file)"
   ]
  },
  {
   "cell_type": "markdown",
   "metadata": {},
   "source": [
    "### Protein-Protein interactions from STRING"
   ]
  },
  {
   "cell_type": "code",
   "execution_count": null,
   "metadata": {},
   "outputs": [
    {
     "name": "stderr",
     "output_type": "stream",
     "text": [
      "/Users/yojana/Documents/GitHub/pyBiodatafuse/src/pyBiodatafuse/annotators/stringdb.py:203: UserWarning: Not all values in column 'score' have the correct type '<class 'int'>'.\n",
      "  check_columns_against_constants(\n"
     ]
    }
   ],
   "source": [
    "string_path = os.path.join(os.getcwd(), \"examples/data/example_string.pkl\")\n",
    "string_metadata_path = os.path.join(os.getcwd(), \"examples/data/example_string_metadata.pkl\")\n",
    "\n",
    "if not os.path.exists(string_path):\n",
    "    ppi_df, ppi_metadata = stringdb.get_ppi(bridgedb_df=bridgedb_df)\n",
    "    ppi_df.to_pickle(string_path)\n",
    "    with open(string_metadata_path, \"wb\") as file:\n",
    "        pickle.dump(ppi_metadata, file)\n",
    "else:\n",
    "    ppi_df = pd.read_pickle(string_path)\n",
    "    with open(string_metadata_path, \"rb\") as file:\n",
    "        ppi_metadata = pickle.load(file)"
   ]
  },
  {
   "cell_type": "markdown",
   "metadata": {},
   "source": [
    "### Combing all the results into single dataframe"
   ]
  },
  {
   "cell_type": "code",
   "execution_count": null,
   "metadata": {},
   "outputs": [
    {
     "data": {
      "text/html": [
       "<div>\n",
       "<style scoped>\n",
       "    .dataframe tbody tr th:only-of-type {\n",
       "        vertical-align: middle;\n",
       "    }\n",
       "\n",
       "    .dataframe tbody tr th {\n",
       "        vertical-align: top;\n",
       "    }\n",
       "\n",
       "    .dataframe thead th {\n",
       "        text-align: right;\n",
       "    }\n",
       "</style>\n",
       "<table border=\"1\" class=\"dataframe\">\n",
       "  <thead>\n",
       "    <tr style=\"text-align: right;\">\n",
       "      <th></th>\n",
       "      <th>identifier</th>\n",
       "      <th>identifier.source</th>\n",
       "      <th>target</th>\n",
       "      <th>target.source</th>\n",
       "      <th>Bgee_gene_expression_levels</th>\n",
       "      <th>DISGENET_diseases</th>\n",
       "      <th>WikiPathways</th>\n",
       "      <th>OpenTargets_reactome</th>\n",
       "      <th>OpenTargets_go</th>\n",
       "      <th>OpenTargets_gene_compounds_x</th>\n",
       "      <th>OpenTargets_gene_compounds_y</th>\n",
       "      <th>StringDB_ppi</th>\n",
       "    </tr>\n",
       "  </thead>\n",
       "  <tbody>\n",
       "    <tr>\n",
       "      <th>0</th>\n",
       "      <td>ALG14</td>\n",
       "      <td>HGNC</td>\n",
       "      <td>ENSG00000172339</td>\n",
       "      <td>Ensembl</td>\n",
       "      <td>[{'anatomical_entity_id': 'UBERON_0000178', 'a...</td>\n",
       "      <td>[{'disease_name': 'Carbohydrate Deficient Glyc...</td>\n",
       "      <td>[{'pathway_id': 'WP:WP5153', 'pathway_label': ...</td>\n",
       "      <td>[{'pathway_label': 'Biosynthesis of the N-glyc...</td>\n",
       "      <td>[{'go_id': 'GO:0043541', 'go_name': 'UDP-N-ace...</td>\n",
       "      <td>[{'chembl_id': nan, 'drugbank_id': nan, 'compo...</td>\n",
       "      <td>[{'chembl_id': nan, 'drugbank_id': nan, 'compo...</td>\n",
       "      <td>[{'stringdb_link_to': 'CHRND', 'Ensembl': 'Ens...</td>\n",
       "    </tr>\n",
       "    <tr>\n",
       "      <th>1</th>\n",
       "      <td>ALG2</td>\n",
       "      <td>HGNC</td>\n",
       "      <td>ENSG00000119523</td>\n",
       "      <td>Ensembl</td>\n",
       "      <td>[{'anatomical_entity_id': 'UBERON_0000178', 'a...</td>\n",
       "      <td>[{'disease_name': 'CONGENITAL DISORDER OF GLYC...</td>\n",
       "      <td>[{'pathway_id': 'WP:WP5153', 'pathway_label': ...</td>\n",
       "      <td>[{'pathway_label': 'Biosynthesis of the N-glyc...</td>\n",
       "      <td>[{'go_id': 'GO:0000033', 'go_name': 'alpha-1,3...</td>\n",
       "      <td>[{'chembl_id': nan, 'drugbank_id': nan, 'compo...</td>\n",
       "      <td>[{'chembl_id': nan, 'drugbank_id': nan, 'compo...</td>\n",
       "      <td>[{'stringdb_link_to': 'GMPPB', 'Ensembl': 'Ens...</td>\n",
       "    </tr>\n",
       "    <tr>\n",
       "      <th>2</th>\n",
       "      <td>CHAT</td>\n",
       "      <td>HGNC</td>\n",
       "      <td>ENSG00000070748</td>\n",
       "      <td>Ensembl</td>\n",
       "      <td>[{'anatomical_entity_id': 'UBERON_0000955', 'a...</td>\n",
       "      <td>[{'disease_name': 'FIMG2, FORMERLY', 'HPO': No...</td>\n",
       "      <td>[{'pathway_id': 'WP:WP5352', 'pathway_label': ...</td>\n",
       "      <td>[{'pathway_label': 'Synthesis of PC', 'pathway...</td>\n",
       "      <td>[{'go_id': 'GO:0004102', 'go_name': 'choline O...</td>\n",
       "      <td>[{'chembl_id': nan, 'drugbank_id': nan, 'compo...</td>\n",
       "      <td>[{'chembl_id': nan, 'drugbank_id': nan, 'compo...</td>\n",
       "      <td>[{'stringdb_link_to': 'SLC5A7', 'Ensembl': 'En...</td>\n",
       "    </tr>\n",
       "    <tr>\n",
       "      <th>3</th>\n",
       "      <td>CHD8</td>\n",
       "      <td>HGNC</td>\n",
       "      <td>ENSG00000100888</td>\n",
       "      <td>Ensembl</td>\n",
       "      <td>[{'anatomical_entity_id': 'UBERON_0000178', 'a...</td>\n",
       "      <td>[{'disease_name': 'AUTISM SPECTRUM DISORDER', ...</td>\n",
       "      <td>[{'pathway_id': 'WP:WP428', 'pathway_label': '...</td>\n",
       "      <td>[{'pathway_label': 'Deactivation of the beta-c...</td>\n",
       "      <td>[{'go_id': 'GO:0005654', 'go_name': 'nucleopla...</td>\n",
       "      <td>[{'chembl_id': nan, 'drugbank_id': nan, 'compo...</td>\n",
       "      <td>[{'chembl_id': nan, 'drugbank_id': nan, 'compo...</td>\n",
       "      <td>[{'stringdb_link_to': nan, 'Ensembl': nan, 'sc...</td>\n",
       "    </tr>\n",
       "    <tr>\n",
       "      <th>4</th>\n",
       "      <td>CHRNA1</td>\n",
       "      <td>HGNC</td>\n",
       "      <td>ENSG00000138435</td>\n",
       "      <td>Ensembl</td>\n",
       "      <td>[{'anatomical_entity_id': 'UBERON_0000178', 'a...</td>\n",
       "      <td>[{'disease_name': 'MULTIPLE PTERYGIUM SYNDROME...</td>\n",
       "      <td>[{'pathway_id': nan, 'pathway_label': nan, 'pa...</td>\n",
       "      <td>[{'pathway_label': 'Highly calcium permeable n...</td>\n",
       "      <td>[{'go_id': 'GO:0050905', 'go_name': 'neuromusc...</td>\n",
       "      <td>[{'chembl_id': 'CHEMBL:CHEMBL1201248', 'drugba...</td>\n",
       "      <td>[{'chembl_id': 'CHEMBL:CHEMBL1201248', 'drugba...</td>\n",
       "      <td>[{'stringdb_link_to': 'CHRND', 'Ensembl': 'Ens...</td>\n",
       "    </tr>\n",
       "  </tbody>\n",
       "</table>\n",
       "</div>"
      ],
      "text/plain": [
       "  identifier identifier.source           target target.source  \\\n",
       "0      ALG14              HGNC  ENSG00000172339       Ensembl   \n",
       "1       ALG2              HGNC  ENSG00000119523       Ensembl   \n",
       "2       CHAT              HGNC  ENSG00000070748       Ensembl   \n",
       "3       CHD8              HGNC  ENSG00000100888       Ensembl   \n",
       "4     CHRNA1              HGNC  ENSG00000138435       Ensembl   \n",
       "\n",
       "                         Bgee_gene_expression_levels  \\\n",
       "0  [{'anatomical_entity_id': 'UBERON_0000178', 'a...   \n",
       "1  [{'anatomical_entity_id': 'UBERON_0000178', 'a...   \n",
       "2  [{'anatomical_entity_id': 'UBERON_0000955', 'a...   \n",
       "3  [{'anatomical_entity_id': 'UBERON_0000178', 'a...   \n",
       "4  [{'anatomical_entity_id': 'UBERON_0000178', 'a...   \n",
       "\n",
       "                                   DISGENET_diseases  \\\n",
       "0  [{'disease_name': 'Carbohydrate Deficient Glyc...   \n",
       "1  [{'disease_name': 'CONGENITAL DISORDER OF GLYC...   \n",
       "2  [{'disease_name': 'FIMG2, FORMERLY', 'HPO': No...   \n",
       "3  [{'disease_name': 'AUTISM SPECTRUM DISORDER', ...   \n",
       "4  [{'disease_name': 'MULTIPLE PTERYGIUM SYNDROME...   \n",
       "\n",
       "                                        WikiPathways  \\\n",
       "0  [{'pathway_id': 'WP:WP5153', 'pathway_label': ...   \n",
       "1  [{'pathway_id': 'WP:WP5153', 'pathway_label': ...   \n",
       "2  [{'pathway_id': 'WP:WP5352', 'pathway_label': ...   \n",
       "3  [{'pathway_id': 'WP:WP428', 'pathway_label': '...   \n",
       "4  [{'pathway_id': nan, 'pathway_label': nan, 'pa...   \n",
       "\n",
       "                                OpenTargets_reactome  \\\n",
       "0  [{'pathway_label': 'Biosynthesis of the N-glyc...   \n",
       "1  [{'pathway_label': 'Biosynthesis of the N-glyc...   \n",
       "2  [{'pathway_label': 'Synthesis of PC', 'pathway...   \n",
       "3  [{'pathway_label': 'Deactivation of the beta-c...   \n",
       "4  [{'pathway_label': 'Highly calcium permeable n...   \n",
       "\n",
       "                                      OpenTargets_go  \\\n",
       "0  [{'go_id': 'GO:0043541', 'go_name': 'UDP-N-ace...   \n",
       "1  [{'go_id': 'GO:0000033', 'go_name': 'alpha-1,3...   \n",
       "2  [{'go_id': 'GO:0004102', 'go_name': 'choline O...   \n",
       "3  [{'go_id': 'GO:0005654', 'go_name': 'nucleopla...   \n",
       "4  [{'go_id': 'GO:0050905', 'go_name': 'neuromusc...   \n",
       "\n",
       "                        OpenTargets_gene_compounds_x  \\\n",
       "0  [{'chembl_id': nan, 'drugbank_id': nan, 'compo...   \n",
       "1  [{'chembl_id': nan, 'drugbank_id': nan, 'compo...   \n",
       "2  [{'chembl_id': nan, 'drugbank_id': nan, 'compo...   \n",
       "3  [{'chembl_id': nan, 'drugbank_id': nan, 'compo...   \n",
       "4  [{'chembl_id': 'CHEMBL:CHEMBL1201248', 'drugba...   \n",
       "\n",
       "                        OpenTargets_gene_compounds_y  \\\n",
       "0  [{'chembl_id': nan, 'drugbank_id': nan, 'compo...   \n",
       "1  [{'chembl_id': nan, 'drugbank_id': nan, 'compo...   \n",
       "2  [{'chembl_id': nan, 'drugbank_id': nan, 'compo...   \n",
       "3  [{'chembl_id': nan, 'drugbank_id': nan, 'compo...   \n",
       "4  [{'chembl_id': 'CHEMBL:CHEMBL1201248', 'drugba...   \n",
       "\n",
       "                                        StringDB_ppi  \n",
       "0  [{'stringdb_link_to': 'CHRND', 'Ensembl': 'Ens...  \n",
       "1  [{'stringdb_link_to': 'GMPPB', 'Ensembl': 'Ens...  \n",
       "2  [{'stringdb_link_to': 'SLC5A7', 'Ensembl': 'En...  \n",
       "3  [{'stringdb_link_to': nan, 'Ensembl': nan, 'sc...  \n",
       "4  [{'stringdb_link_to': 'CHRND', 'Ensembl': 'Ens...  "
      ]
     },
     "execution_count": 27,
     "metadata": {},
     "output_type": "execute_result"
    }
   ],
   "source": [
    "combined_df = combine_sources(\n",
    "    bridgedb_df,\n",
    "    [\n",
    "        bgee_df,\n",
    "        disgenet_df,\n",
    "        minerva_df,\n",
    "        wikipathways_df,\n",
    "        opentargets_reactome_df,\n",
    "        opentargets_go_df,\n",
    "        opentargets_compound_df,\n",
    "        inhibitor_df,\n",
    "        pubchem_assay_df,\n",
    "        ppi_df,\n",
    "    ],\n",
    ")\n",
    "combined_df.head()"
   ]
  },
  {
   "cell_type": "code",
   "execution_count": 28,
   "metadata": {},
   "outputs": [
    {
     "data": {
      "text/plain": [
       "(35, 12)"
      ]
     },
     "execution_count": 28,
     "metadata": {},
     "output_type": "execute_result"
    }
   ],
   "source": [
    "combined_df.shape"
   ]
  },
  {
   "cell_type": "code",
   "execution_count": 29,
   "metadata": {},
   "outputs": [],
   "source": [
    "combined_df.to_pickle(\"examples/data/combined_df.pkl\")"
   ]
  },
  {
   "cell_type": "code",
   "execution_count": null,
   "metadata": {},
   "outputs": [],
   "source": [
    "# Shuffling the rows\n",
    "import numpy as np\n",
    "\n",
    "combined_df[\"DISGENET_diseases\"] = combined_df[\"DISGENET_diseases\"].apply(np.random.permutation)"
   ]
  },
  {
   "cell_type": "code",
   "execution_count": 30,
   "metadata": {},
   "outputs": [],
   "source": [
    "combined_metadata = create_or_append_to_metadata(\n",
    "    bridgedb_metadata,\n",
    "    [\n",
    "        bgee_metadata,\n",
    "        disgenet_metadata,\n",
    "        opentargets_metadata,\n",
    "        opentargets_compound_metadata,\n",
    "        inhibitor_metadata,\n",
    "        pubchem_assay_metadata,\n",
    "        ppi_metadata,\n",
    "        wikipathways_metadata,\n",
    "        minerva_metadata,\n",
    "        opentargets_reactome_metadata,\n",
    "        opentargets_go_metadata,\n",
    "    ],\n",
    ")"
   ]
  },
  {
   "cell_type": "markdown",
   "metadata": {},
   "source": [
    "### Exporting the database in pickle format"
   ]
  },
  {
   "cell_type": "code",
   "execution_count": 31,
   "metadata": {},
   "outputs": [],
   "source": [
    "combined_df.to_pickle(\"examples/data/example_df_shuffled.pkl\")\n",
    "\n",
    "with open(\"example_metadata.pkl\", \"wb\") as out:\n",
    "    pickle.dump(combined_metadata, out)\n",
    "\n",
    "with open(\"opentargets_disease_compound_df.pkl\", \"wb\") as out:\n",
    "    pickle.dump(opentargets_metadata, out)"
   ]
  },
  {
   "cell_type": "markdown",
   "metadata": {},
   "source": [
    "## Creating a graph from the annotated dataframe"
   ]
  },
  {
   "cell_type": "code",
   "execution_count": 32,
   "metadata": {},
   "outputs": [
    {
     "name": "stderr",
     "output_type": "stream",
     "text": [
      "Combined DataFrame saved in ./data/examples/examples_df.pkl\n",
      "Metadata saved in ./data/examples/examples_metadata.pkl\n",
      "Building graph: 100%|██████████| 35/35 [00:00<00:00, 1523.46it/s]\n",
      "Graph is built successfully\n",
      "Graph saved in ./data/examples/examples_graph.pkl and ./data/examples/examples_graph.gml\n"
     ]
    }
   ],
   "source": [
    "pygraph = generator.save_graph(\n",
    "    combined_df=combined_df,\n",
    "    combined_metadata=combined_metadata,\n",
    "    disease_compound=opentargets_df,\n",
    "    graph_name=\"examples\",\n",
    "    graph_dir=\"./data\",\n",
    ")"
   ]
  },
  {
   "cell_type": "markdown",
   "metadata": {},
   "source": [
    "#### Cytosacpe\n",
    "Make sure that the Cytoscape is open"
   ]
  },
  {
   "cell_type": "code",
   "execution_count": null,
   "metadata": {},
   "outputs": [],
   "source": [
    "from pyBiodatafuse.graph import cytoscape\n",
    "\n",
    "cytoscape.load_graph(pygraph, network_name=\"Test network\")"
   ]
  },
  {
   "cell_type": "markdown",
   "metadata": {},
   "source": [
    "#### Neo4j"
   ]
  },
  {
   "cell_type": "code",
   "execution_count": 37,
   "metadata": {},
   "outputs": [],
   "source": [
    "from pyBiodatafuse.graph import neo4j\n",
    "\n",
    "neo4j.save_graph_to_graphml(pygraph, \"networkx_graph_test.graphml\")"
   ]
  },
  {
   "cell_type": "markdown",
   "metadata": {},
   "source": [
    "##### Steps to load the graph in Neo4j"
   ]
  },
  {
   "cell_type": "markdown",
   "metadata": {},
   "source": [
    "- Add `.graphml` file in **import** subfolder of the DBMS folder\n",
    "- Install apoc plugin\n",
    "- Create `apoc.conf` file:\n",
    "    ```\n",
    "    apoc.trigger.enabled=true\n",
    "    apoc.import.file.enabled=true\n",
    "    apoc.export.file.enabled=true\n",
    "    apoc.import.file.use_neo4j_config=true\n",
    "    ```\n",
    "- Add `apoc.conf` file to **conf** subfolder of the DBMS folder\n",
    "- Open Neo4j Browser\n",
    "- (Optionl, only run if you have imported a graph  before) Remove all the nodes before importing `.graphml` file\n",
    "\n",
    "    ```MATCH (n) DETACH DELETE n```\n",
    "\n",
    "- Import `.graphml` file\n",
    "\n",
    "    ```call apoc.import.graphml('file:///networkx_graph_test.graphml',{readLabels:TRUE})```\n",
    "\n",
    "- Add indexes after importing the graph for improving the performance of queries\n",
    "\n",
    "    ```\n",
    "    create index Gene for (n:Gene) on (n.node_type)\n",
    "    create index Pathway for (n:Pathway) on (n.node_type)\n",
    "    create index `Biological Process` for (n:`Biological Process`) on (n.node_type)\n",
    "    create index `Molecular Function` for (n:`Molecular Function`) on (n.node_type)\n",
    "    create index `Cellular Component` for (n:`Cellular Component`) on (n.node_type)\n",
    "    create index Disease for (n:Disease) on (n.node_type)\n",
    "    create index Compound for (n:Compound) on (n.node_type)\n",
    "    create index `Side Effect` for (n:`Side Effect`) on (n.node_type)\n",
    "    ```\n",
    "    \n",
    "\n",
    "- Count the number of each node type\n",
    "    - total (```MATCH (n) RETURN count(n)```) \n",
    "        - Gene (```MATCH (n:Gene) RETURN count(n)```)\n",
    "        - Pathway (```MATCH (n:Pathway) RETURN count(n)```)\n",
    "            - WikiPathways (```MATCH (n:Pathway {source: \"WikiPathways\"}) RETURN count(n)```) \n",
    "            - OpenTargets, Reactome (```MATCH (n:Pathway {source: \"OpenTargets\"}) RETURN count(n)```) \n",
    "            - MINERVA (```MATCH (n:Pathway {source: \"MINERVA\"}) RETURN count(n)```) \n",
    "        - Biological Process (```MATCH (n:`Biological Process`) RETURN count(n)```) \n",
    "        - Molecular Function (```MATCH (n:`Molecular Function`) RETURN count(n)```) \n",
    "        - Cellular Component (```MATCH (n:`Cellular Component`) RETURN count(n)```) \n",
    "        - Disease (```MATCH (n:Disease) RETURN count(n)```) \n",
    "        - Compound (```MATCH (n:Compound) RETURN count(n)```)\n",
    "        - Side Effect (```MATCH (n:`Side Effect`) RETURN count(n)```) \n",
    "- Count the number of each edge type\n",
    "    - total (```MATCH ()-[r]->() RETURN count(r)```) \n",
    "        - interacts_with (```MATCH ()-[r:interacts_with]->() RETURN count(r)```) \n",
    "        - part_of (```MATCH ()-[r:part_of]->() RETURN count(r)```) \n",
    "            - WikiPathways (```MATCH ()-[r:part_of {source: \"WikiPathways\"}]->() RETURN count(r)```) \n",
    "            - OpenTargets, Reactome (```MATCH ()-[r:part_of {source: \"OpenTargets\"}]->() RETURN count(r)```) \n",
    "            - MINERVA (```MATCH ()-[r:part_of {source: \"MINERVA\"}]->() RETURN count(r)```) \n",
    "        - activates (```MATCH ()-[r:activates]->() RETURN count(r)```) \n",
    "        - treats (```MATCH ()-[r:treats]->() RETURN count(r)```) \n",
    "        - has_side_effect (```MATCH ()-[r:has_side_effect]->() RETURN count(r)```) \n",
    "        - inhibits (```MATCH ()-[r:inhibits]->() RETURN count(r)```) = 71\n",
    "        - associated_with (```MATCH ()-[r:associated_with]->() RETURN count(r)```) \n",
    "\n",
    "- Export the graph as a `.csv` file\n",
    "\n",
    "    ```call apoc.export.csv.all(\"networkx_graph_test.csv\",{})```"
   ]
  },
  {
   "cell_type": "markdown",
   "metadata": {},
   "source": [
    "### RDF"
   ]
  },
  {
   "cell_type": "code",
   "execution_count": 4,
   "metadata": {},
   "outputs": [],
   "source": [
    "g = rdf.generate_rdf(df=combined_df,\n",
    "    base_uri=\"https://biodatafuse.org/example/\",\n",
    "    version_iri=\"https://biodatafuse.org/example/test.owl\",\n",
    "    orcid=\"https://orcid.org/0000-0002-4166-7093\",\n",
    "    author=\"Javier Millan Acosta\",\n",
    "    metadata=None,\n",
    "    open_only=True,\n",
    "    load_ontology=False\n",
    "    )"
   ]
  },
  {
   "cell_type": "code",
   "execution_count": 5,
   "metadata": {},
   "outputs": [
    {
     "data": {
      "text/plain": [
       "<Graph identifier=N87098f6acc4842ca9f77ef7d4b404f93 (<class 'rdflib.graph.Graph'>)>"
      ]
     },
     "execution_count": 5,
     "metadata": {},
     "output_type": "execute_result"
    }
   ],
   "source": [
    "g.serialize('BDF_example_graph.ttl', format='ttl')"
   ]
  },
  {
   "cell_type": "code",
   "execution_count": 6,
   "metadata": {},
   "outputs": [
    {
     "name": "stdout",
     "output_type": "stream",
     "text": [
      "PREFIX rdf: <http://www.w3.org/1999/02/22-rdf-syntax-ns#>\n",
      "PREFIX ex: <http://example.org/>\n",
      "PREFIX weso-s: <http://weso.es/shapes/>\n",
      "PREFIX xsd: <http://www.w3.org/2001/XMLSchema#>\n",
      "PREFIX owl: <http://www.w3.org/2002/07/owl#>\n",
      "PREFIX graph: <https://biodatafuse.org/example/>\n",
      "PREFIX brick: <https://brickschema.org/schema/Brick#>\n",
      "PREFIX csvw: <http://www.w3.org/ns/csvw#>\n",
      "PREFIX dc: <http://purl.org/dc/elements/1.1/>\n",
      "PREFIX dcat: <http://www.w3.org/ns/dcat#>\n",
      "PREFIX dcmitype: <http://purl.org/dc/dcmitype/>\n",
      "PREFIX dcterms: <http://purl.org/dc/terms/>\n",
      "PREFIX dcam: <http://purl.org/dc/dcam/>\n",
      "PREFIX doap: <http://usefulinc.com/ns/doap#>\n",
      "PREFIX foaf: <http://xmlns.com/foaf/0.1/>\n",
      "PREFIX geo: <http://www.opengis.net/ont/geosparql#>\n",
      "PREFIX odrl: <http://www.w3.org/ns/odrl/2/>\n",
      "PREFIX org: <http://www.w3.org/ns/org#>\n",
      "PREFIX prof: <http://www.w3.org/ns/dx/prof/>\n",
      "PREFIX prov: <http://www.w3.org/ns/prov#>\n",
      "PREFIX qb: <http://purl.org/linked-data/cube#>\n",
      "PREFIX schema: <https://schema.org/>\n",
      "PREFIX sh: <http://www.w3.org/ns/shacl#>\n",
      "PREFIX skos: <http://www.w3.org/2004/02/skos/core#>\n",
      "PREFIX sosa: <http://www.w3.org/ns/sosa/>\n",
      "PREFIX ssn: <http://www.w3.org/ns/ssn/>\n",
      "PREFIX time: <http://www.w3.org/2006/time#>\n",
      "PREFIX vann: <http://purl.org/vocab/vann/>\n",
      "PREFIX void: <http://rdfs.org/ns/void#>\n",
      "PREFIX wgs: <https://www.w3.org/2003/01/geo/wgs84_pos#>\n",
      "PREFIX rdfs: <http://www.w3.org/2000/01/rdf-schema#>\n",
      "PREFIX xml: <http://www.w3.org/XML/1998/namespace/>\n",
      "PREFIX ns1: <http://purl.obolibrary.org/obo/pr#>\n",
      "PREFIX ns2: <http://purl.obolibrary.org/obo/chebi/>\n",
      "PREFIX obo: <http://purl.obolibrary.org/obo/>\n",
      "PREFIX sio: <http://semanticscience.org/resource/>\n",
      "\n",
      "weso-s:SIO_001077\n",
      "{\n",
      "   rdf:type  [sio:SIO_001077]  ;                               # 100.0 %\n",
      "   sio:SIO_001403  @weso-s:SIO_001262  ;                       # 100.0 %\n",
      "   sio:SIO_000300  xsd:double  ;                               # 100.0 %\n",
      "   sio:SIO_000230  @weso-s:NCIT_C16612                         # 100.0 %\n",
      "}\n",
      "\n",
      "\n",
      "weso-s:OAE_0000001\n",
      "{\n",
      "   rdf:type  [obo:OAE_0000001]  ;                              # 100.0 %\n",
      "   rdfs:label  xsd:string  ;                                   # 100.0 %\n",
      "   sio:SIO_000248  IRI  +                                      # 100.0 %\n",
      "            # 57.798165137614674 % obj: IRI. Cardinality: {1}\n",
      "            # 19.877675840978593 % obj: IRI. Cardinality: {2}\n",
      "            # 98.77675840978594 % obj: @weso-s:NCIT_C172573. Cardinality: +\n",
      "}\n",
      "\n",
      "\n",
      "weso-s:SIO_001262\n",
      "{\n",
      "   rdf:type  [sio:SIO_001262]  ;                               # 100.0 %\n",
      "   rdfs:label  xsd:string                                      # 100.0 %\n",
      "}\n",
      "\n",
      "\n",
      "weso-s:PW_0000001\n",
      "{\n",
      "   sio:SIO_000253  @weso-s:SIO_000750  +;                      # 100.0 %\n",
      "            # 65.71428571428571 % obj: @weso-s:SIO_000750. Cardinality: {1}\n",
      "            # 34.285714285714285 % obj: @weso-s:SIO_000750. Cardinality: {2}\n",
      "   rdf:type  [obo:PW_0000001]  ;                               # 100.0 %\n",
      "   sio:SIO_000028  @weso-s:NCIT_C16612  ;                      # 100.0 %\n",
      "   rdfs:label  xsd:string                                      # 100.0 %\n",
      "}\n",
      "\n",
      "\n",
      "weso-s:SIO_010038\n",
      "{\n",
      "   rdf:type  [sio:SIO_010038]  ;                               # 100.0 %\n",
      "   rdfs:label  xsd:string  ;                                   # 100.0 %\n",
      "   owl:sameAs  IRI  *\n",
      "            # 96.72131147540983 % obj: IRI. Cardinality: +\n",
      "            # 93.44262295081968 % obj: IRI. Cardinality: {1}\n",
      "            # 86.88524590163934 % obj: @weso-s:NCIT_C172573. Cardinality: {1}\n",
      "}\n",
      "\n",
      "\n",
      "weso-s:NCIT_C17021\n",
      "{\n",
      "   rdf:type  [obo:NCIT_C17021]  ;                              # 100.0 %\n",
      "   sio:SIO_000068  IRI  *;\n",
      "            # 76.92307692307693 % obj: IRI. Cardinality: +\n",
      "            # 30.76923076923077 % obj: IRI. Cardinality: {2}\n",
      "            # 30.76923076923077 % obj: IRI. Cardinality: {1}\n",
      "            # 46.15384615384615 % obj: @weso-s:PW_0000001. Cardinality: +\n",
      "            # 23.076923076923077 % obj: @weso-s:NCIT_C18469. Cardinality: +\n",
      "   rdfs:label  xsd:string  ?;\n",
      "            # 46.15384615384615 % obj: xsd:string. Cardinality: {1}\n",
      "   ns1:has_gene_template  @weso-s:NCIT_C16612  ?;\n",
      "            # 46.15384615384615 % obj: @weso-s:NCIT_C16612. Cardinality: {1}\n",
      "   rdfs:label  @weso-s:NCIT_C18469  *;\n",
      "            # 23.076923076923077 % obj: @weso-s:NCIT_C18469. Cardinality: +\n",
      "            # 15.384615384615385 % obj: @weso-s:NCIT_C18469. Cardinality: {1}\n",
      "   sio:SIO_000671  @weso-s:NCIT_C17021  ?\n",
      "            # 23.076923076923077 % obj: @weso-s:NCIT_C17021. Cardinality: {1}\n",
      "}\n",
      "\n",
      "\n",
      "weso-s:NCIT_C172573\n",
      "{\n",
      "   rdf:type  [obo:NCIT_C172573]  ;                             # 100.0 %\n",
      "   sio:SIO_000300  IRI  ;                                      # 100.0 %\n",
      "   sio:SIO_000253  @weso-s:SIO_000750  ;                       # 100.0 %\n",
      "   rdfs:label  xsd:string  ;                                   # 100.0 %\n",
      "   owl:sameAs  @weso-s:SIO_010038  *;\n",
      "            # 88.57142857142857 % obj: @weso-s:SIO_010038. Cardinality: +\n",
      "            # 62.857142857142854 % obj: @weso-s:SIO_010038. Cardinality: {2}\n",
      "            # 25.71428571428571 % obj: @weso-s:SIO_010038. Cardinality: {1}\n",
      "   sio:SIO_000248  @weso-s:OAE_0000001  *;\n",
      "            # 85.71428571428571 % obj: @weso-s:OAE_0000001. Cardinality: +\n",
      "            # 62.857142857142854 % obj: @weso-s:OAE_0000001. Cardinality: {25}\n",
      "   obo:RO_0018027  @weso-s:NCIT_C17021  ?;\n",
      "            # 60.0 % obj: @weso-s:NCIT_C17021. Cardinality: {1}\n",
      "   obo:RO_0018029  @weso-s:NCIT_C17021  ?\n",
      "            # 40.0 % obj: @weso-s:NCIT_C17021. Cardinality: {1}\n",
      "}\n",
      "\n",
      "\n",
      "weso-s:NCIT_C18469\n",
      "{\n",
      "   rdf:type  [obo:NCIT_C18469]  ;                              # 100.0 %\n",
      "   sio:SIO_000216  @weso-s:NCIT_C25338  ;                      # 100.0 %\n",
      "   sio:SIO_000028  @weso-s:NCIT_C17021  {2}                    # 100.0 %\n",
      "}\n",
      "\n",
      "\n",
      "weso-s:SIO_000750\n",
      "{\n",
      "   rdf:type  [sio:SIO_000750]  ;                               # 100.0 %\n",
      "   rdfs:label  xsd:string                                      # 100.0 %\n",
      "}\n",
      "\n",
      "\n",
      "weso-s:EFO_0002694\n",
      "{\n",
      "   sio:SIO_000028  @weso-s:SIO_001262  {11};                   # 100.0 %\n",
      "            # 100.0 % obj: @weso-s:NCIT_C16612. Cardinality: {1}\n",
      "   rdf:type  [<http://www.ebi.ac.uk/efo/EFO_0002694>]  ;          # 100.0 %\n",
      "   rdfs:label  xsd:string  ;                                   # 100.0 %\n",
      "   sio:SIO_000253  @weso-s:SIO_000750  ;                       # 100.0 %\n",
      "   sio:SIO_000229  xsd:string  ;                               # 100.0 %\n",
      "   sio:SIO_000230  @weso-s:SIO_010038  ;                       # 100.0 %\n",
      "   dc:identifier  xsd:string                                   # 100.0 %\n",
      "}\n",
      "\n",
      "\n",
      "weso-s:NCIT_C16612\n",
      "{\n",
      "   sio:SIO_000068  @weso-s:PW_0000001  +;                      # 100.0 %\n",
      "            # 50.0 % obj: @weso-s:PW_0000001. Cardinality: {2}\n",
      "            # 16.666666666666664 % obj: @weso-s:PW_0000001. Cardinality: {1}\n",
      "            # 16.666666666666664 % obj: @weso-s:PW_0000001. Cardinality: {19}\n",
      "            # 16.666666666666664 % obj: @weso-s:PW_0000001. Cardinality: {9}\n",
      "            # 16.666666666666664 % obj: @weso-s:EFO_0002694. Cardinality: {1}\n",
      "   sio:SIO_000229  @weso-s:SIO_001077  +;                      # 100.0 %\n",
      "            # 16.666666666666664 % obj: @weso-s:SIO_001077. Cardinality: {24}\n",
      "            # 16.666666666666664 % obj: @weso-s:SIO_001077. Cardinality: {153}\n",
      "            # 16.666666666666664 % obj: @weso-s:SIO_001077. Cardinality: {14}\n",
      "            # 16.666666666666664 % obj: @weso-s:SIO_001077. Cardinality: {68}\n",
      "            # 16.666666666666664 % obj: @weso-s:SIO_001077. Cardinality: {27200}\n",
      "            # 16.666666666666664 % obj: @weso-s:SIO_001077. Cardinality: {44}\n",
      "   sio:SIO_000216  @weso-s:SIO_001077  +;                      # 100.0 %\n",
      "            # 16.666666666666664 % obj: @weso-s:SIO_001077. Cardinality: {24}\n",
      "            # 16.666666666666664 % obj: @weso-s:SIO_001077. Cardinality: {153}\n",
      "            # 16.666666666666664 % obj: @weso-s:SIO_001077. Cardinality: {14}\n",
      "            # 16.666666666666664 % obj: @weso-s:SIO_001077. Cardinality: {68}\n",
      "            # 16.666666666666664 % obj: @weso-s:SIO_001077. Cardinality: {27200}\n",
      "            # 16.666666666666664 % obj: @weso-s:SIO_001077. Cardinality: {44}\n",
      "   rdf:type  [obo:NCIT_C16612]  ;                              # 100.0 %\n",
      "   rdfs:label  xsd:string                                      # 100.0 %\n",
      "}\n",
      "\n",
      "\n",
      "weso-s:NCIT_C25338\n",
      "{\n",
      "   rdf:type  [obo:NCIT_C25338]  ;                              # 100.0 %\n",
      "   sio:SIO_000300  xsd:double                                  # 100.0 %\n",
      "}\n",
      "\n",
      "\n",
      "weso-s:CHEMINF_000407\n",
      "{\n",
      "   rdf:type  [<https://purl.obolibrary.org/CHEMINF_000407>]            # 100.0 %\n",
      "}\n",
      "\n",
      "\n",
      "weso-s:GO_0032410\n",
      "{\n",
      "   rdf:type  [<https://purl.obolibrary.org/GO_0032410>]            # 100.0 %\n",
      "}\n",
      "\n",
      "\n",
      "weso-s:CHEMINF_000406\n",
      "{\n",
      "   rdf:type  [<https://purl.obolibrary.org/CHEMINF_000406>]            # 100.0 %\n",
      "}\n",
      "\n",
      "\n",
      "\n"
     ]
    },
    {
     "data": {
      "image/png": "[encoded data removed]",
      "text/plain": [
       "<IPython.core.display.Image object>"
      ]
     },
     "execution_count": 6,
     "metadata": {},
     "output_type": "execute_result"
    }
   ],
   "source": [
    "from shexer.shaper import Shaper\n",
    "from shexer.consts import TURTLE\n",
    "# Namespace-prefix pair to prettify the results\n",
    "namespaces_dict = {\n",
    "    \"http://www.w3.org/1999/02/22-rdf-syntax-ns#\": \"rdf\",\n",
    "    \"http://example.org/\": \"ex\",\n",
    "    \"http://weso.es/shapes/\": \"\",\n",
    "    \"http://www.w3.org/2001/XMLSchema#\": \"xsd\",\n",
    "    \"http://www.w3.org/2002/07/owl#\": \"owl\",\n",
    "    \"https://biodatafuse.org/example/\" : \"graph\"\n",
    "}\n",
    "graph_path = os.path.join(os.getcwd(), \"BDF_example_graph.ttl\")\n",
    "\n",
    "shaper = Shaper(\n",
    "    all_classes_mode=True,\n",
    "    graph_file_input=graph_path,\n",
    "    input_format=TURTLE,\n",
    "    namespaces_dict=namespaces_dict,\n",
    ")  # Default rdf:type\n",
    "rdf_png_path = os.path.join(os.getcwd(), \"bdf_shexer.png\")\n",
    "\n",
    "result = shaper.shex_graph(string_output=True, acceptance_threshold=0.1, to_uml_path=rdf_png_path)\n",
    "print(result)\n",
    "from IPython.display import Image\n",
    "\n",
    "Image(filename=\"bdf_shexer.png\")"
   ]
  }
 ],
 "metadata": {
  "kernelspec": {
   "display_name": "pybiodatafuse",
   "language": "python",
   "name": "python3"
  },
  "language_info": {
   "codemirror_mode": {
    "name": "ipython",
    "version": 3
   },
   "file_extension": ".py",
   "mimetype": "text/x-python",
   "name": "python",
   "nbconvert_exporter": "python",
   "pygments_lexer": "ipython3",
   "version": "3.10.15"
  }
 },
 "nbformat": 4,
 "nbformat_minor": 4
}
