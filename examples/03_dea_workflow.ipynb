{
 "cells": [
  {
   "cell_type": "markdown",
   "metadata": {},
   "source": [
    "# Example 3: Differentially Expressed Gene Analysis Workflow\n",
    "\n",
    "This notebook provides insights on how to use the tool if you have DEG file."
   ]
  },
  {
   "cell_type": "markdown",
   "metadata": {},
   "source": [
    "# Import modules"
   ]
  },
  {
   "cell_type": "code",
   "execution_count": 1,
   "metadata": {},
   "outputs": [],
   "source": [
    "import os\n",
    "import pickle\n",
    "\n",
    "import pandas as pd\n",
    "from tqdm import tqdm\n",
    "\n",
    "from pyBiodatafuse import data_loader, id_mapper\n",
    "from pyBiodatafuse.analyzer.summarize import BioGraph\n",
    "from pyBiodatafuse.annotators import kegg, molmedb\n",
    "from pyBiodatafuse.graph import saver\n",
    "from pyBiodatafuse.utils import combine_sources, create_or_append_to_metadata\n",
    "\n",
    "tqdm.pandas()"
   ]
  },
  {
   "cell_type": "code",
   "execution_count": 2,
   "metadata": {},
   "outputs": [],
   "source": [
    "DATA_DIR = \"./data/dea_workflow\"\n",
    "os.makedirs(DATA_DIR, exist_ok=True)"
   ]
  },
  {
   "cell_type": "markdown",
   "metadata": {},
   "source": [
    "## Load the DEA results"
   ]
  },
  {
   "cell_type": "code",
   "execution_count": 3,
   "metadata": {},
   "outputs": [
    {
     "data": {
      "text/html": [
       "<div>\n",
       "<style scoped>\n",
       "    .dataframe tbody tr th:only-of-type {\n",
       "        vertical-align: middle;\n",
       "    }\n",
       "\n",
       "    .dataframe tbody tr th {\n",
       "        vertical-align: top;\n",
       "    }\n",
       "\n",
       "    .dataframe thead th {\n",
       "        text-align: right;\n",
       "    }\n",
       "</style>\n",
       "<table border=\"1\" class=\"dataframe\">\n",
       "  <thead>\n",
       "    <tr style=\"text-align: right;\">\n",
       "      <th></th>\n",
       "      <th>identifier</th>\n",
       "      <th>F value</th>\n",
       "      <th>Pr(&gt;F)</th>\n",
       "      <th>FDR(&gt;F)</th>\n",
       "      <th>Log2FC</th>\n",
       "      <th>t.ratio</th>\n",
       "      <th>p.value</th>\n",
       "    </tr>\n",
       "  </thead>\n",
       "  <tbody>\n",
       "    <tr>\n",
       "      <th>0</th>\n",
       "      <td>ENSG00000000003</td>\n",
       "      <td>198663.0000</td>\n",
       "      <td>0.07389</td>\n",
       "      <td>0.11995</td>\n",
       "      <td>0.21672</td>\n",
       "      <td>267662.00000</td>\n",
       "      <td>0.10432</td>\n",
       "    </tr>\n",
       "    <tr>\n",
       "      <th>1</th>\n",
       "      <td>ENSG00000000005</td>\n",
       "      <td>532116.0000</td>\n",
       "      <td>0.00008</td>\n",
       "      <td>0.00041</td>\n",
       "      <td>-0.34276</td>\n",
       "      <td>-158217.00000</td>\n",
       "      <td>0.69388</td>\n",
       "    </tr>\n",
       "    <tr>\n",
       "      <th>2</th>\n",
       "      <td>ENSG00000000419</td>\n",
       "      <td>123704.0000</td>\n",
       "      <td>0.29357</td>\n",
       "      <td>0.36707</td>\n",
       "      <td>-0.03554</td>\n",
       "      <td>-0.68119</td>\n",
       "      <td>0.99364</td>\n",
       "    </tr>\n",
       "    <tr>\n",
       "      <th>3</th>\n",
       "      <td>ENSG00000000457</td>\n",
       "      <td>122821.0000</td>\n",
       "      <td>0.29781</td>\n",
       "      <td>0.37146</td>\n",
       "      <td>-0.10078</td>\n",
       "      <td>-168058.00000</td>\n",
       "      <td>0.62915</td>\n",
       "    </tr>\n",
       "    <tr>\n",
       "      <th>4</th>\n",
       "      <td>ENSG00000000460</td>\n",
       "      <td>0.7331</td>\n",
       "      <td>0.62400</td>\n",
       "      <td>0.67303</td>\n",
       "      <td>0.25185</td>\n",
       "      <td>134237.00000</td>\n",
       "      <td>0.83158</td>\n",
       "    </tr>\n",
       "  </tbody>\n",
       "</table>\n",
       "</div>"
      ],
      "text/plain": [
       "        identifier      F value   Pr(>F)  FDR(>F)   Log2FC       t.ratio  \\\n",
       "0  ENSG00000000003  198663.0000  0.07389  0.11995  0.21672  267662.00000   \n",
       "1  ENSG00000000005  532116.0000  0.00008  0.00041 -0.34276 -158217.00000   \n",
       "2  ENSG00000000419  123704.0000  0.29357  0.36707 -0.03554      -0.68119   \n",
       "3  ENSG00000000457  122821.0000  0.29781  0.37146 -0.10078 -168058.00000   \n",
       "4  ENSG00000000460       0.7331  0.62400  0.67303  0.25185  134237.00000   \n",
       "\n",
       "   p.value  \n",
       "0  0.10432  \n",
       "1  0.69388  \n",
       "2  0.99364  \n",
       "3  0.62915  \n",
       "4  0.83158  "
      ]
     },
     "execution_count": 3,
     "metadata": {},
     "output_type": "execute_result"
    }
   ],
   "source": [
    "data_input = data_loader.create_df_from_dea(\"data/dea_example.xls\")\n",
    "data_input.head()"
   ]
  },
  {
   "cell_type": "markdown",
   "metadata": {},
   "source": [
    "### Filtering the DEA table"
   ]
  },
  {
   "cell_type": "code",
   "execution_count": 4,
   "metadata": {},
   "outputs": [],
   "source": [
    "data_filtered = data_loader.filter_dea(data_input, column_name=\"FDR(>F)\", min_value=0.05)\n",
    "data_filtered = data_loader.filter_dea(data_filtered, column_name=\"Log2FC\", abs_value=0.5)"
   ]
  },
  {
   "cell_type": "markdown",
   "metadata": {},
   "source": [
    "## Entity resolution using BridgeDB"
   ]
  },
  {
   "cell_type": "code",
   "execution_count": 5,
   "metadata": {},
   "outputs": [],
   "source": [
    "pickle_path = f\"{DATA_DIR}/DEA_gene_list.pkl\"\n",
    "metadata_path = f\"{DATA_DIR}/DEA_gene_list_metadata.pkl\""
   ]
  },
  {
   "cell_type": "code",
   "execution_count": 6,
   "metadata": {},
   "outputs": [
    {
     "data": {
      "text/html": [
       "<div>\n",
       "<style scoped>\n",
       "    .dataframe tbody tr th:only-of-type {\n",
       "        vertical-align: middle;\n",
       "    }\n",
       "\n",
       "    .dataframe tbody tr th {\n",
       "        vertical-align: top;\n",
       "    }\n",
       "\n",
       "    .dataframe thead th {\n",
       "        text-align: right;\n",
       "    }\n",
       "</style>\n",
       "<table border=\"1\" class=\"dataframe\">\n",
       "  <thead>\n",
       "    <tr style=\"text-align: right;\">\n",
       "      <th></th>\n",
       "      <th>identifier</th>\n",
       "      <th>identifier.source</th>\n",
       "      <th>target</th>\n",
       "      <th>target.source</th>\n",
       "      <th>F value_dea</th>\n",
       "      <th>Pr(&gt;F)_dea</th>\n",
       "      <th>FDR(&gt;F)_dea</th>\n",
       "      <th>Log2FC_dea</th>\n",
       "      <th>t.ratio_dea</th>\n",
       "      <th>p.value_dea</th>\n",
       "    </tr>\n",
       "  </thead>\n",
       "  <tbody>\n",
       "    <tr>\n",
       "      <th>0</th>\n",
       "      <td>ENSG00000005108</td>\n",
       "      <td>Ensembl</td>\n",
       "      <td>214920_PM_at</td>\n",
       "      <td>Affy</td>\n",
       "      <td>169738.0</td>\n",
       "      <td>0.12886</td>\n",
       "      <td>0.18847</td>\n",
       "      <td>0.59097</td>\n",
       "      <td>239599.0</td>\n",
       "      <td>0.20273</td>\n",
       "    </tr>\n",
       "    <tr>\n",
       "      <th>1</th>\n",
       "      <td>ENSG00000005108</td>\n",
       "      <td>Ensembl</td>\n",
       "      <td>Hs.29900.0.S1_3p_at</td>\n",
       "      <td>Affy</td>\n",
       "      <td>169738.0</td>\n",
       "      <td>0.12886</td>\n",
       "      <td>0.18847</td>\n",
       "      <td>0.59097</td>\n",
       "      <td>239599.0</td>\n",
       "      <td>0.20273</td>\n",
       "    </tr>\n",
       "    <tr>\n",
       "      <th>2</th>\n",
       "      <td>ENSG00000005108</td>\n",
       "      <td>Ensembl</td>\n",
       "      <td>GO:0016021</td>\n",
       "      <td>Gene Ontology</td>\n",
       "      <td>169738.0</td>\n",
       "      <td>0.12886</td>\n",
       "      <td>0.18847</td>\n",
       "      <td>0.59097</td>\n",
       "      <td>239599.0</td>\n",
       "      <td>0.20273</td>\n",
       "    </tr>\n",
       "    <tr>\n",
       "      <th>3</th>\n",
       "      <td>ENSG00000005108</td>\n",
       "      <td>Ensembl</td>\n",
       "      <td>uc064bom.1</td>\n",
       "      <td>UCSC Genome Browser</td>\n",
       "      <td>169738.0</td>\n",
       "      <td>0.12886</td>\n",
       "      <td>0.18847</td>\n",
       "      <td>0.59097</td>\n",
       "      <td>239599.0</td>\n",
       "      <td>0.20273</td>\n",
       "    </tr>\n",
       "    <tr>\n",
       "      <th>4</th>\n",
       "      <td>ENSG00000005108</td>\n",
       "      <td>Ensembl</td>\n",
       "      <td>GO:0016020</td>\n",
       "      <td>Gene Ontology</td>\n",
       "      <td>169738.0</td>\n",
       "      <td>0.12886</td>\n",
       "      <td>0.18847</td>\n",
       "      <td>0.59097</td>\n",
       "      <td>239599.0</td>\n",
       "      <td>0.20273</td>\n",
       "    </tr>\n",
       "  </tbody>\n",
       "</table>\n",
       "</div>"
      ],
      "text/plain": [
       "        identifier identifier.source               target  \\\n",
       "0  ENSG00000005108           Ensembl         214920_PM_at   \n",
       "1  ENSG00000005108           Ensembl  Hs.29900.0.S1_3p_at   \n",
       "2  ENSG00000005108           Ensembl           GO:0016021   \n",
       "3  ENSG00000005108           Ensembl           uc064bom.1   \n",
       "4  ENSG00000005108           Ensembl           GO:0016020   \n",
       "\n",
       "         target.source  F value_dea  Pr(>F)_dea  FDR(>F)_dea  Log2FC_dea  \\\n",
       "0                 Affy     169738.0     0.12886      0.18847     0.59097   \n",
       "1                 Affy     169738.0     0.12886      0.18847     0.59097   \n",
       "2        Gene Ontology     169738.0     0.12886      0.18847     0.59097   \n",
       "3  UCSC Genome Browser     169738.0     0.12886      0.18847     0.59097   \n",
       "4        Gene Ontology     169738.0     0.12886      0.18847     0.59097   \n",
       "\n",
       "   t.ratio_dea  p.value_dea  \n",
       "0     239599.0      0.20273  \n",
       "1     239599.0      0.20273  \n",
       "2     239599.0      0.20273  \n",
       "3     239599.0      0.20273  \n",
       "4     239599.0      0.20273  "
      ]
     },
     "execution_count": 6,
     "metadata": {},
     "output_type": "execute_result"
    }
   ],
   "source": [
    "if not os.path.exists(pickle_path):\n",
    "    bridgedb_df, bridgedb_metadata = id_mapper.bridgedb_xref(\n",
    "        identifiers=data_filtered,\n",
    "        input_species=\"Human\",\n",
    "        input_datasource=\"Ensembl\",\n",
    "        output_datasource=\"All\",\n",
    "    )\n",
    "    bridgedb_df.to_pickle(pickle_path)\n",
    "    with open(metadata_path, \"wb\") as f:\n",
    "        pickle.dump(bridgedb_metadata, f)\n",
    "else:\n",
    "    bridgedb_df = pd.read_pickle(pickle_path)\n",
    "    with open(metadata_path, \"rb\") as f:\n",
    "        bridgedb_metadata = pickle.load(f)\n",
    "bridgedb_df.head()"
   ]
  },
  {
   "cell_type": "markdown",
   "metadata": {},
   "source": [
    "## Pathway annotations using KEGG"
   ]
  },
  {
   "cell_type": "code",
   "execution_count": 7,
   "metadata": {},
   "outputs": [],
   "source": [
    "kegg_df_path = f\"{DATA_DIR}/kegg_df.pkl\"\n",
    "kegg_metadata_path = f\"{DATA_DIR}/kegg_metadata.pkl\""
   ]
  },
  {
   "cell_type": "code",
   "execution_count": 8,
   "metadata": {},
   "outputs": [
    {
     "data": {
      "text/html": [
       "<div>\n",
       "<style scoped>\n",
       "    .dataframe tbody tr th:only-of-type {\n",
       "        vertical-align: middle;\n",
       "    }\n",
       "\n",
       "    .dataframe tbody tr th {\n",
       "        vertical-align: top;\n",
       "    }\n",
       "\n",
       "    .dataframe thead th {\n",
       "        text-align: right;\n",
       "    }\n",
       "</style>\n",
       "<table border=\"1\" class=\"dataframe\">\n",
       "  <thead>\n",
       "    <tr style=\"text-align: right;\">\n",
       "      <th></th>\n",
       "      <th>identifier</th>\n",
       "      <th>identifier.source</th>\n",
       "      <th>target</th>\n",
       "      <th>target.source</th>\n",
       "      <th>F value_dea</th>\n",
       "      <th>Pr(&gt;F)_dea</th>\n",
       "      <th>FDR(&gt;F)_dea</th>\n",
       "      <th>Log2FC_dea</th>\n",
       "      <th>t.ratio_dea</th>\n",
       "      <th>p.value_dea</th>\n",
       "      <th>KEGG_pathways</th>\n",
       "    </tr>\n",
       "  </thead>\n",
       "  <tbody>\n",
       "    <tr>\n",
       "      <th>0</th>\n",
       "      <td>ENSG00000005108</td>\n",
       "      <td>Ensembl</td>\n",
       "      <td>221981</td>\n",
       "      <td>NCBI Gene</td>\n",
       "      <td>169738.0</td>\n",
       "      <td>0.12886</td>\n",
       "      <td>0.18847</td>\n",
       "      <td>0.59097</td>\n",
       "      <td>239599.0</td>\n",
       "      <td>0.20273</td>\n",
       "      <td>[{'pathway_id': nan, 'pathway_label': nan, 'ge...</td>\n",
       "    </tr>\n",
       "    <tr>\n",
       "      <th>1</th>\n",
       "      <td>ENSG00000005189</td>\n",
       "      <td>Ensembl</td>\n",
       "      <td>81691</td>\n",
       "      <td>NCBI Gene</td>\n",
       "      <td>250342.0</td>\n",
       "      <td>0.02632</td>\n",
       "      <td>0.05167</td>\n",
       "      <td>0.70124</td>\n",
       "      <td>335289.0</td>\n",
       "      <td>0.01499</td>\n",
       "      <td>[{'pathway_id': 'path:hsa03008', 'pathway_labe...</td>\n",
       "    </tr>\n",
       "    <tr>\n",
       "      <th>2</th>\n",
       "      <td>ENSG00000008226</td>\n",
       "      <td>Ensembl</td>\n",
       "      <td>9940</td>\n",
       "      <td>NCBI Gene</td>\n",
       "      <td>1751.0</td>\n",
       "      <td>0.11493</td>\n",
       "      <td>0.17170</td>\n",
       "      <td>0.96160</td>\n",
       "      <td>254376.0</td>\n",
       "      <td>0.14795</td>\n",
       "      <td>[{'pathway_id': nan, 'pathway_label': nan, 'ge...</td>\n",
       "    </tr>\n",
       "    <tr>\n",
       "      <th>3</th>\n",
       "      <td>ENSG00000008517</td>\n",
       "      <td>Ensembl</td>\n",
       "      <td>9235</td>\n",
       "      <td>NCBI Gene</td>\n",
       "      <td>240722.0</td>\n",
       "      <td>0.03233</td>\n",
       "      <td>0.06086</td>\n",
       "      <td>-0.77406</td>\n",
       "      <td>-308262.0</td>\n",
       "      <td>0.03358</td>\n",
       "      <td>[{'pathway_id': 'path:hsa04060', 'pathway_labe...</td>\n",
       "    </tr>\n",
       "    <tr>\n",
       "      <th>4</th>\n",
       "      <td>ENSG00000021826</td>\n",
       "      <td>Ensembl</td>\n",
       "      <td>1373</td>\n",
       "      <td>NCBI Gene</td>\n",
       "      <td>189207.0</td>\n",
       "      <td>0.08899</td>\n",
       "      <td>0.13960</td>\n",
       "      <td>0.50922</td>\n",
       "      <td>304276.0</td>\n",
       "      <td>0.04013</td>\n",
       "      <td>[{'pathway_id': 'path:hsa00220', 'pathway_labe...</td>\n",
       "    </tr>\n",
       "  </tbody>\n",
       "</table>\n",
       "</div>"
      ],
      "text/plain": [
       "        identifier identifier.source  target target.source  F value_dea  \\\n",
       "0  ENSG00000005108           Ensembl  221981     NCBI Gene     169738.0   \n",
       "1  ENSG00000005189           Ensembl   81691     NCBI Gene     250342.0   \n",
       "2  ENSG00000008226           Ensembl    9940     NCBI Gene       1751.0   \n",
       "3  ENSG00000008517           Ensembl    9235     NCBI Gene     240722.0   \n",
       "4  ENSG00000021826           Ensembl    1373     NCBI Gene     189207.0   \n",
       "\n",
       "   Pr(>F)_dea  FDR(>F)_dea  Log2FC_dea  t.ratio_dea  p.value_dea  \\\n",
       "0     0.12886      0.18847     0.59097     239599.0      0.20273   \n",
       "1     0.02632      0.05167     0.70124     335289.0      0.01499   \n",
       "2     0.11493      0.17170     0.96160     254376.0      0.14795   \n",
       "3     0.03233      0.06086    -0.77406    -308262.0      0.03358   \n",
       "4     0.08899      0.13960     0.50922     304276.0      0.04013   \n",
       "\n",
       "                                       KEGG_pathways  \n",
       "0  [{'pathway_id': nan, 'pathway_label': nan, 'ge...  \n",
       "1  [{'pathway_id': 'path:hsa03008', 'pathway_labe...  \n",
       "2  [{'pathway_id': nan, 'pathway_label': nan, 'ge...  \n",
       "3  [{'pathway_id': 'path:hsa04060', 'pathway_labe...  \n",
       "4  [{'pathway_id': 'path:hsa00220', 'pathway_labe...  "
      ]
     },
     "execution_count": 8,
     "metadata": {},
     "output_type": "execute_result"
    }
   ],
   "source": [
    "if not os.path.exists(kegg_df_path):\n",
    "    kegg_df, kegg_metadata = kegg.get_pathways(bridgedb_df=bridgedb_df)\n",
    "    kegg_df.to_pickle(kegg_df_path)\n",
    "    with open(kegg_metadata_path, \"wb\") as f:\n",
    "        pickle.dump(kegg_metadata, f)\n",
    "else:\n",
    "    kegg_df = pd.read_pickle(kegg_df_path)\n",
    "    with open(kegg_metadata_path, \"rb\") as f:\n",
    "        kegg_metadata = pickle.load(f)\n",
    "kegg_df.head()"
   ]
  },
  {
   "cell_type": "markdown",
   "metadata": {},
   "source": [
    "## Inhibitors of trasporters encoded by genes annotation by MolMeDB"
   ]
  },
  {
   "cell_type": "code",
   "execution_count": 9,
   "metadata": {},
   "outputs": [],
   "source": [
    "inhibitor_df_path = f\"{DATA_DIR}/inhibitor_df.pkl\"\n",
    "inhibitor_metadata_path = f\"{DATA_DIR}/inhibitor_metadata.pkl\""
   ]
  },
  {
   "cell_type": "code",
   "execution_count": 10,
   "metadata": {
    "scrolled": true
   },
   "outputs": [
    {
     "data": {
      "text/html": [
       "<div>\n",
       "<style scoped>\n",
       "    .dataframe tbody tr th:only-of-type {\n",
       "        vertical-align: middle;\n",
       "    }\n",
       "\n",
       "    .dataframe tbody tr th {\n",
       "        vertical-align: top;\n",
       "    }\n",
       "\n",
       "    .dataframe thead th {\n",
       "        text-align: right;\n",
       "    }\n",
       "</style>\n",
       "<table border=\"1\" class=\"dataframe\">\n",
       "  <thead>\n",
       "    <tr style=\"text-align: right;\">\n",
       "      <th></th>\n",
       "      <th>identifier</th>\n",
       "      <th>identifier.source</th>\n",
       "      <th>target</th>\n",
       "      <th>target.source</th>\n",
       "      <th>F value_dea</th>\n",
       "      <th>Pr(&gt;F)_dea</th>\n",
       "      <th>FDR(&gt;F)_dea</th>\n",
       "      <th>Log2FC_dea</th>\n",
       "      <th>t.ratio_dea</th>\n",
       "      <th>p.value_dea</th>\n",
       "      <th>MolMeDB_transporter_inhibitor</th>\n",
       "    </tr>\n",
       "  </thead>\n",
       "  <tbody>\n",
       "    <tr>\n",
       "      <th>0</th>\n",
       "      <td>ENSG00000005108</td>\n",
       "      <td>Ensembl</td>\n",
       "      <td>Q9UPZ6</td>\n",
       "      <td>Uniprot-TrEMBL</td>\n",
       "      <td>169738.0</td>\n",
       "      <td>0.12886</td>\n",
       "      <td>0.18847</td>\n",
       "      <td>0.59097</td>\n",
       "      <td>239599.0</td>\n",
       "      <td>0.20273</td>\n",
       "      <td>[{'compound_name': nan, 'inchikey': nan, 'smil...</td>\n",
       "    </tr>\n",
       "    <tr>\n",
       "      <th>1</th>\n",
       "      <td>ENSG00000005189</td>\n",
       "      <td>Ensembl</td>\n",
       "      <td>A0A024R390</td>\n",
       "      <td>Uniprot-TrEMBL</td>\n",
       "      <td>250342.0</td>\n",
       "      <td>0.02632</td>\n",
       "      <td>0.05167</td>\n",
       "      <td>0.70124</td>\n",
       "      <td>335289.0</td>\n",
       "      <td>0.01499</td>\n",
       "      <td>[{'compound_name': nan, 'inchikey': nan, 'smil...</td>\n",
       "    </tr>\n",
       "    <tr>\n",
       "      <th>2</th>\n",
       "      <td>ENSG00000005189</td>\n",
       "      <td>Ensembl</td>\n",
       "      <td>H3BM72</td>\n",
       "      <td>Uniprot-TrEMBL</td>\n",
       "      <td>250342.0</td>\n",
       "      <td>0.02632</td>\n",
       "      <td>0.05167</td>\n",
       "      <td>0.70124</td>\n",
       "      <td>335289.0</td>\n",
       "      <td>0.01499</td>\n",
       "      <td>[{'compound_name': nan, 'inchikey': nan, 'smil...</td>\n",
       "    </tr>\n",
       "    <tr>\n",
       "      <th>3</th>\n",
       "      <td>ENSG00000005189</td>\n",
       "      <td>Ensembl</td>\n",
       "      <td>H3BPB2</td>\n",
       "      <td>Uniprot-TrEMBL</td>\n",
       "      <td>250342.0</td>\n",
       "      <td>0.02632</td>\n",
       "      <td>0.05167</td>\n",
       "      <td>0.70124</td>\n",
       "      <td>335289.0</td>\n",
       "      <td>0.01499</td>\n",
       "      <td>[{'compound_name': nan, 'inchikey': nan, 'smil...</td>\n",
       "    </tr>\n",
       "    <tr>\n",
       "      <th>4</th>\n",
       "      <td>ENSG00000005189</td>\n",
       "      <td>Ensembl</td>\n",
       "      <td>H3BQ98</td>\n",
       "      <td>Uniprot-TrEMBL</td>\n",
       "      <td>250342.0</td>\n",
       "      <td>0.02632</td>\n",
       "      <td>0.05167</td>\n",
       "      <td>0.70124</td>\n",
       "      <td>335289.0</td>\n",
       "      <td>0.01499</td>\n",
       "      <td>[{'compound_name': nan, 'inchikey': nan, 'smil...</td>\n",
       "    </tr>\n",
       "  </tbody>\n",
       "</table>\n",
       "</div>"
      ],
      "text/plain": [
       "        identifier identifier.source      target   target.source  F value_dea  \\\n",
       "0  ENSG00000005108           Ensembl      Q9UPZ6  Uniprot-TrEMBL     169738.0   \n",
       "1  ENSG00000005189           Ensembl  A0A024R390  Uniprot-TrEMBL     250342.0   \n",
       "2  ENSG00000005189           Ensembl      H3BM72  Uniprot-TrEMBL     250342.0   \n",
       "3  ENSG00000005189           Ensembl      H3BPB2  Uniprot-TrEMBL     250342.0   \n",
       "4  ENSG00000005189           Ensembl      H3BQ98  Uniprot-TrEMBL     250342.0   \n",
       "\n",
       "   Pr(>F)_dea  FDR(>F)_dea  Log2FC_dea  t.ratio_dea  p.value_dea  \\\n",
       "0     0.12886      0.18847     0.59097     239599.0      0.20273   \n",
       "1     0.02632      0.05167     0.70124     335289.0      0.01499   \n",
       "2     0.02632      0.05167     0.70124     335289.0      0.01499   \n",
       "3     0.02632      0.05167     0.70124     335289.0      0.01499   \n",
       "4     0.02632      0.05167     0.70124     335289.0      0.01499   \n",
       "\n",
       "                       MolMeDB_transporter_inhibitor  \n",
       "0  [{'compound_name': nan, 'inchikey': nan, 'smil...  \n",
       "1  [{'compound_name': nan, 'inchikey': nan, 'smil...  \n",
       "2  [{'compound_name': nan, 'inchikey': nan, 'smil...  \n",
       "3  [{'compound_name': nan, 'inchikey': nan, 'smil...  \n",
       "4  [{'compound_name': nan, 'inchikey': nan, 'smil...  "
      ]
     },
     "execution_count": 10,
     "metadata": {},
     "output_type": "execute_result"
    }
   ],
   "source": [
    "if not os.path.exists(inhibitor_df_path):\n",
    "    inhibitor_df, inhibitor_metadata = molmedb.get_gene_compound_inhibitor(bridgedb_df=bridgedb_df)\n",
    "    inhibitor_df.to_pickle(inhibitor_df_path)\n",
    "    with open(inhibitor_metadata_path, \"wb\") as f:\n",
    "        pickle.dump(inhibitor_metadata, f)\n",
    "else:\n",
    "    inhibitor_df = pd.read_pickle(inhibitor_df_path)\n",
    "    with open(inhibitor_metadata_path, \"rb\") as f:\n",
    "        inhibitor_metadata = pickle.load(f)\n",
    "inhibitor_df.head()"
   ]
  },
  {
   "cell_type": "markdown",
   "metadata": {},
   "source": [
    "## Combing all the results into single dataframe"
   ]
  },
  {
   "cell_type": "code",
   "execution_count": 11,
   "metadata": {},
   "outputs": [
    {
     "data": {
      "text/html": [
       "<div>\n",
       "<style scoped>\n",
       "    .dataframe tbody tr th:only-of-type {\n",
       "        vertical-align: middle;\n",
       "    }\n",
       "\n",
       "    .dataframe tbody tr th {\n",
       "        vertical-align: top;\n",
       "    }\n",
       "\n",
       "    .dataframe thead th {\n",
       "        text-align: right;\n",
       "    }\n",
       "</style>\n",
       "<table border=\"1\" class=\"dataframe\">\n",
       "  <thead>\n",
       "    <tr style=\"text-align: right;\">\n",
       "      <th></th>\n",
       "      <th>identifier</th>\n",
       "      <th>identifier.source</th>\n",
       "      <th>target</th>\n",
       "      <th>target.source</th>\n",
       "      <th>F value_dea_x</th>\n",
       "      <th>Pr(&gt;F)_dea_x</th>\n",
       "      <th>FDR(&gt;F)_dea_x</th>\n",
       "      <th>Log2FC_dea_x</th>\n",
       "      <th>t.ratio_dea_x</th>\n",
       "      <th>p.value_dea_x</th>\n",
       "      <th>...</th>\n",
       "      <th>t.ratio_dea_y</th>\n",
       "      <th>p.value_dea_y</th>\n",
       "      <th>KEGG_pathways</th>\n",
       "      <th>F value_dea</th>\n",
       "      <th>Pr(&gt;F)_dea</th>\n",
       "      <th>FDR(&gt;F)_dea</th>\n",
       "      <th>Log2FC_dea</th>\n",
       "      <th>t.ratio_dea</th>\n",
       "      <th>p.value_dea</th>\n",
       "      <th>MolMeDB_transporter_inhibitor</th>\n",
       "    </tr>\n",
       "  </thead>\n",
       "  <tbody>\n",
       "    <tr>\n",
       "      <th>0</th>\n",
       "      <td>ENSG00000005108</td>\n",
       "      <td>Ensembl</td>\n",
       "      <td>ENSG00000005108</td>\n",
       "      <td>Ensembl</td>\n",
       "      <td>169738.0</td>\n",
       "      <td>0.12886</td>\n",
       "      <td>0.18847</td>\n",
       "      <td>0.59097</td>\n",
       "      <td>239599.0</td>\n",
       "      <td>0.20273</td>\n",
       "      <td>...</td>\n",
       "      <td>239599.0</td>\n",
       "      <td>0.20273</td>\n",
       "      <td>[{'pathway_id': nan, 'pathway_label': nan, 'ge...</td>\n",
       "      <td>169738.0</td>\n",
       "      <td>0.12886</td>\n",
       "      <td>0.18847</td>\n",
       "      <td>0.59097</td>\n",
       "      <td>239599.0</td>\n",
       "      <td>0.20273</td>\n",
       "      <td>[{'compound_name': nan, 'inchikey': nan, 'smil...</td>\n",
       "    </tr>\n",
       "    <tr>\n",
       "      <th>1</th>\n",
       "      <td>ENSG00000005189</td>\n",
       "      <td>Ensembl</td>\n",
       "      <td>ENSG00000005189</td>\n",
       "      <td>Ensembl</td>\n",
       "      <td>250342.0</td>\n",
       "      <td>0.02632</td>\n",
       "      <td>0.05167</td>\n",
       "      <td>0.70124</td>\n",
       "      <td>335289.0</td>\n",
       "      <td>0.01499</td>\n",
       "      <td>...</td>\n",
       "      <td>335289.0</td>\n",
       "      <td>0.01499</td>\n",
       "      <td>[{'pathway_id': 'path:hsa03008', 'pathway_labe...</td>\n",
       "      <td>250342.0</td>\n",
       "      <td>0.02632</td>\n",
       "      <td>0.05167</td>\n",
       "      <td>0.70124</td>\n",
       "      <td>335289.0</td>\n",
       "      <td>0.01499</td>\n",
       "      <td>[{'compound_name': nan, 'inchikey': nan, 'smil...</td>\n",
       "    </tr>\n",
       "    <tr>\n",
       "      <th>2</th>\n",
       "      <td>ENSG00000005189</td>\n",
       "      <td>Ensembl</td>\n",
       "      <td>ENSG00000005189</td>\n",
       "      <td>Ensembl</td>\n",
       "      <td>250342.0</td>\n",
       "      <td>0.02632</td>\n",
       "      <td>0.05167</td>\n",
       "      <td>0.70124</td>\n",
       "      <td>335289.0</td>\n",
       "      <td>0.01499</td>\n",
       "      <td>...</td>\n",
       "      <td>335289.0</td>\n",
       "      <td>0.01499</td>\n",
       "      <td>[{'pathway_id': 'path:hsa03008', 'pathway_labe...</td>\n",
       "      <td>250342.0</td>\n",
       "      <td>0.02632</td>\n",
       "      <td>0.05167</td>\n",
       "      <td>0.70124</td>\n",
       "      <td>335289.0</td>\n",
       "      <td>0.01499</td>\n",
       "      <td>[{'compound_name': nan, 'inchikey': nan, 'smil...</td>\n",
       "    </tr>\n",
       "    <tr>\n",
       "      <th>3</th>\n",
       "      <td>ENSG00000005189</td>\n",
       "      <td>Ensembl</td>\n",
       "      <td>ENSG00000005189</td>\n",
       "      <td>Ensembl</td>\n",
       "      <td>250342.0</td>\n",
       "      <td>0.02632</td>\n",
       "      <td>0.05167</td>\n",
       "      <td>0.70124</td>\n",
       "      <td>335289.0</td>\n",
       "      <td>0.01499</td>\n",
       "      <td>...</td>\n",
       "      <td>335289.0</td>\n",
       "      <td>0.01499</td>\n",
       "      <td>[{'pathway_id': 'path:hsa03008', 'pathway_labe...</td>\n",
       "      <td>250342.0</td>\n",
       "      <td>0.02632</td>\n",
       "      <td>0.05167</td>\n",
       "      <td>0.70124</td>\n",
       "      <td>335289.0</td>\n",
       "      <td>0.01499</td>\n",
       "      <td>[{'compound_name': nan, 'inchikey': nan, 'smil...</td>\n",
       "    </tr>\n",
       "  </tbody>\n",
       "</table>\n",
       "<p>4 rows × 24 columns</p>\n",
       "</div>"
      ],
      "text/plain": [
       "        identifier identifier.source           target target.source  \\\n",
       "0  ENSG00000005108           Ensembl  ENSG00000005108       Ensembl   \n",
       "1  ENSG00000005189           Ensembl  ENSG00000005189       Ensembl   \n",
       "2  ENSG00000005189           Ensembl  ENSG00000005189       Ensembl   \n",
       "3  ENSG00000005189           Ensembl  ENSG00000005189       Ensembl   \n",
       "\n",
       "   F value_dea_x  Pr(>F)_dea_x  FDR(>F)_dea_x  Log2FC_dea_x  t.ratio_dea_x  \\\n",
       "0       169738.0       0.12886        0.18847       0.59097       239599.0   \n",
       "1       250342.0       0.02632        0.05167       0.70124       335289.0   \n",
       "2       250342.0       0.02632        0.05167       0.70124       335289.0   \n",
       "3       250342.0       0.02632        0.05167       0.70124       335289.0   \n",
       "\n",
       "   p.value_dea_x  ...  t.ratio_dea_y  p.value_dea_y  \\\n",
       "0        0.20273  ...       239599.0        0.20273   \n",
       "1        0.01499  ...       335289.0        0.01499   \n",
       "2        0.01499  ...       335289.0        0.01499   \n",
       "3        0.01499  ...       335289.0        0.01499   \n",
       "\n",
       "                                       KEGG_pathways  F value_dea  Pr(>F)_dea  \\\n",
       "0  [{'pathway_id': nan, 'pathway_label': nan, 'ge...     169738.0     0.12886   \n",
       "1  [{'pathway_id': 'path:hsa03008', 'pathway_labe...     250342.0     0.02632   \n",
       "2  [{'pathway_id': 'path:hsa03008', 'pathway_labe...     250342.0     0.02632   \n",
       "3  [{'pathway_id': 'path:hsa03008', 'pathway_labe...     250342.0     0.02632   \n",
       "\n",
       "   FDR(>F)_dea Log2FC_dea  t.ratio_dea  p.value_dea  \\\n",
       "0      0.18847    0.59097     239599.0      0.20273   \n",
       "1      0.05167    0.70124     335289.0      0.01499   \n",
       "2      0.05167    0.70124     335289.0      0.01499   \n",
       "3      0.05167    0.70124     335289.0      0.01499   \n",
       "\n",
       "                       MolMeDB_transporter_inhibitor  \n",
       "0  [{'compound_name': nan, 'inchikey': nan, 'smil...  \n",
       "1  [{'compound_name': nan, 'inchikey': nan, 'smil...  \n",
       "2  [{'compound_name': nan, 'inchikey': nan, 'smil...  \n",
       "3  [{'compound_name': nan, 'inchikey': nan, 'smil...  \n",
       "\n",
       "[4 rows x 24 columns]"
      ]
     },
     "execution_count": 11,
     "metadata": {},
     "output_type": "execute_result"
    }
   ],
   "source": [
    "combined_df = combine_sources(bridgedb_df, df_list=[kegg_df, inhibitor_df])\n",
    "combined_df.head(4)"
   ]
  },
  {
   "cell_type": "code",
   "execution_count": 12,
   "metadata": {},
   "outputs": [],
   "source": [
    "combined_metadata = create_or_append_to_metadata(\n",
    "    bridgedb_metadata, [kegg_metadata, inhibitor_metadata]\n",
    ")"
   ]
  },
  {
   "cell_type": "markdown",
   "metadata": {},
   "source": [
    "# Saving the graph"
   ]
  },
  {
   "cell_type": "code",
   "execution_count": 13,
   "metadata": {},
   "outputs": [
    {
     "name": "stderr",
     "output_type": "stream",
     "text": [
      "Combined DataFrame saved in ./data/dea_workflow/dea_df.pkl\n",
      "Metadata saved in ./data/dea_workflow/dea_metadata.pkl\n",
      "Building graph: 100%|██████████| 667/667 [00:00<00:00, 19375.98it/s]\n",
      "Graph is built successfully\n",
      "Graph saved in ./data/dea_workflow/dea_graph.pkl and ./data/dea_workflow/dea_graph.gml\n",
      "Graph saved in ./data/dea_workflow/dea_graph.edgelist\n"
     ]
    }
   ],
   "source": [
    "pygraph = saver.save_graph(\n",
    "    combined_df=combined_df,\n",
    "    combined_metadata=combined_metadata,\n",
    "    graph_name=\"dea\",\n",
    "    graph_dir=DATA_DIR,\n",
    ")"
   ]
  },
  {
   "cell_type": "markdown",
   "metadata": {},
   "source": [
    "# Graph statistics"
   ]
  },
  {
   "cell_type": "code",
   "execution_count": 14,
   "metadata": {},
   "outputs": [
    {
     "data": {
      "text/html": [
       "<table>\n",
       "<tbody>\n",
       "<tr><td>Nodes          </td><td style=\"text-align: right;\">422      </td></tr>\n",
       "<tr><td>Edges          </td><td style=\"text-align: right;\">295      </td></tr>\n",
       "<tr><td>Components     </td><td style=\"text-align: right;\">199      </td></tr>\n",
       "<tr><td>Network Density</td><td style=\"text-align: right;\">  0.00166</td></tr>\n",
       "</tbody>\n",
       "</table>"
      ],
      "text/plain": [
       "'<table>\\n<tbody>\\n<tr><td>Nodes          </td><td style=\"text-align: right;\">422      </td></tr>\\n<tr><td>Edges          </td><td style=\"text-align: right;\">295      </td></tr>\\n<tr><td>Components     </td><td style=\"text-align: right;\">199      </td></tr>\\n<tr><td>Network Density</td><td style=\"text-align: right;\">  0.00166</td></tr>\\n</tbody>\\n</table>'"
      ]
     },
     "execution_count": 14,
     "metadata": {},
     "output_type": "execute_result"
    }
   ],
   "source": [
    "graph_obj = BioGraph(graph=pygraph)\n",
    "graph_obj.graph_summary"
   ]
  },
  {
   "cell_type": "code",
   "execution_count": 15,
   "metadata": {},
   "outputs": [
    {
     "data": {
      "application/vnd.plotly.v1+json": {
       "config": {
        "plotlyServerURL": "https://plot.ly"
       },
       "data": [
        {
         "alignmentgroup": "True",
         "hovertemplate": "node_source=MolMeDB<br>node_type=%{x}<br>count=%{y}<extra></extra>",
         "legendgroup": "MolMeDB",
         "marker": {
          "color": "#636efa",
          "pattern": {
           "shape": ""
          }
         },
         "name": "MolMeDB",
         "offsetgroup": "MolMeDB",
         "orientation": "v",
         "showlegend": true,
         "textposition": "auto",
         "type": "bar",
         "x": [
          "Compound"
         ],
         "xaxis": "x",
         "y": [
          19
         ],
         "yaxis": "y"
        },
        {
         "alignmentgroup": "True",
         "hovertemplate": "node_source=BridgeDB<br>node_type=%{x}<br>count=%{y}<extra></extra>",
         "legendgroup": "BridgeDB",
         "marker": {
          "color": "#EF553B",
          "pattern": {
           "shape": ""
          }
         },
         "name": "BridgeDB",
         "offsetgroup": "BridgeDB",
         "orientation": "v",
         "showlegend": true,
         "textposition": "auto",
         "type": "bar",
         "x": [
          "Gene"
         ],
         "xaxis": "x",
         "y": [
          249
         ],
         "yaxis": "y"
        },
        {
         "alignmentgroup": "True",
         "hovertemplate": "node_source=KEGG<br>node_type=%{x}<br>count=%{y}<extra></extra>",
         "legendgroup": "KEGG",
         "marker": {
          "color": "#00cc96",
          "pattern": {
           "shape": ""
          }
         },
         "name": "KEGG",
         "offsetgroup": "KEGG",
         "orientation": "v",
         "showlegend": true,
         "textposition": "auto",
         "type": "bar",
         "x": [
          "Pathway"
         ],
         "xaxis": "x",
         "y": [
          154
         ],
         "yaxis": "y"
        }
       ],
       "layout": {
        "barmode": "relative",
        "legend": {
         "title": {
          "text": "node_source"
         },
         "tracegroupgap": 0
        },
        "margin": {
         "t": 60
        },
        "template": {
         "data": {
          "bar": [
           {
            "error_x": {
             "color": "#2a3f5f"
            },
            "error_y": {
             "color": "#2a3f5f"
            },
            "marker": {
             "line": {
              "color": "#E5ECF6",
              "width": 0.5
             },
             "pattern": {
              "fillmode": "overlay",
              "size": 10,
              "solidity": 0.2
             }
            },
            "type": "bar"
           }
          ],
          "barpolar": [
           {
            "marker": {
             "line": {
              "color": "#E5ECF6",
              "width": 0.5
             },
             "pattern": {
              "fillmode": "overlay",
              "size": 10,
              "solidity": 0.2
             }
            },
            "type": "barpolar"
           }
          ],
          "carpet": [
           {
            "aaxis": {
             "endlinecolor": "#2a3f5f",
             "gridcolor": "white",
             "linecolor": "white",
             "minorgridcolor": "white",
             "startlinecolor": "#2a3f5f"
            },
            "baxis": {
             "endlinecolor": "#2a3f5f",
             "gridcolor": "white",
             "linecolor": "white",
             "minorgridcolor": "white",
             "startlinecolor": "#2a3f5f"
            },
            "type": "carpet"
           }
          ],
          "choropleth": [
           {
            "colorbar": {
             "outlinewidth": 0,
             "ticks": ""
            },
            "type": "choropleth"
           }
          ],
          "contour": [
           {
            "colorbar": {
             "outlinewidth": 0,
             "ticks": ""
            },
            "colorscale": [
             [
              0,
              "#0d0887"
             ],
             [
              0.1111111111111111,
              "#46039f"
             ],
             [
              0.2222222222222222,
              "#7201a8"
             ],
             [
              0.3333333333333333,
              "#9c179e"
             ],
             [
              0.4444444444444444,
              "#bd3786"
             ],
             [
              0.5555555555555556,
              "#d8576b"
             ],
             [
              0.6666666666666666,
              "#ed7953"
             ],
             [
              0.7777777777777778,
              "#fb9f3a"
             ],
             [
              0.8888888888888888,
              "#fdca26"
             ],
             [
              1,
              "#f0f921"
             ]
            ],
            "type": "contour"
           }
          ],
          "contourcarpet": [
           {
            "colorbar": {
             "outlinewidth": 0,
             "ticks": ""
            },
            "type": "contourcarpet"
           }
          ],
          "heatmap": [
           {
            "colorbar": {
             "outlinewidth": 0,
             "ticks": ""
            },
            "colorscale": [
             [
              0,
              "#0d0887"
             ],
             [
              0.1111111111111111,
              "#46039f"
             ],
             [
              0.2222222222222222,
              "#7201a8"
             ],
             [
              0.3333333333333333,
              "#9c179e"
             ],
             [
              0.4444444444444444,
              "#bd3786"
             ],
             [
              0.5555555555555556,
              "#d8576b"
             ],
             [
              0.6666666666666666,
              "#ed7953"
             ],
             [
              0.7777777777777778,
              "#fb9f3a"
             ],
             [
              0.8888888888888888,
              "#fdca26"
             ],
             [
              1,
              "#f0f921"
             ]
            ],
            "type": "heatmap"
           }
          ],
          "heatmapgl": [
           {
            "colorbar": {
             "outlinewidth": 0,
             "ticks": ""
            },
            "colorscale": [
             [
              0,
              "#0d0887"
             ],
             [
              0.1111111111111111,
              "#46039f"
             ],
             [
              0.2222222222222222,
              "#7201a8"
             ],
             [
              0.3333333333333333,
              "#9c179e"
             ],
             [
              0.4444444444444444,
              "#bd3786"
             ],
             [
              0.5555555555555556,
              "#d8576b"
             ],
             [
              0.6666666666666666,
              "#ed7953"
             ],
             [
              0.7777777777777778,
              "#fb9f3a"
             ],
             [
              0.8888888888888888,
              "#fdca26"
             ],
             [
              1,
              "#f0f921"
             ]
            ],
            "type": "heatmapgl"
           }
          ],
          "histogram": [
           {
            "marker": {
             "pattern": {
              "fillmode": "overlay",
              "size": 10,
              "solidity": 0.2
             }
            },
            "type": "histogram"
           }
          ],
          "histogram2d": [
           {
            "colorbar": {
             "outlinewidth": 0,
             "ticks": ""
            },
            "colorscale": [
             [
              0,
              "#0d0887"
             ],
             [
              0.1111111111111111,
              "#46039f"
             ],
             [
              0.2222222222222222,
              "#7201a8"
             ],
             [
              0.3333333333333333,
              "#9c179e"
             ],
             [
              0.4444444444444444,
              "#bd3786"
             ],
             [
              0.5555555555555556,
              "#d8576b"
             ],
             [
              0.6666666666666666,
              "#ed7953"
             ],
             [
              0.7777777777777778,
              "#fb9f3a"
             ],
             [
              0.8888888888888888,
              "#fdca26"
             ],
             [
              1,
              "#f0f921"
             ]
            ],
            "type": "histogram2d"
           }
          ],
          "histogram2dcontour": [
           {
            "colorbar": {
             "outlinewidth": 0,
             "ticks": ""
            },
            "colorscale": [
             [
              0,
              "#0d0887"
             ],
             [
              0.1111111111111111,
              "#46039f"
             ],
             [
              0.2222222222222222,
              "#7201a8"
             ],
             [
              0.3333333333333333,
              "#9c179e"
             ],
             [
              0.4444444444444444,
              "#bd3786"
             ],
             [
              0.5555555555555556,
              "#d8576b"
             ],
             [
              0.6666666666666666,
              "#ed7953"
             ],
             [
              0.7777777777777778,
              "#fb9f3a"
             ],
             [
              0.8888888888888888,
              "#fdca26"
             ],
             [
              1,
              "#f0f921"
             ]
            ],
            "type": "histogram2dcontour"
           }
          ],
          "mesh3d": [
           {
            "colorbar": {
             "outlinewidth": 0,
             "ticks": ""
            },
            "type": "mesh3d"
           }
          ],
          "parcoords": [
           {
            "line": {
             "colorbar": {
              "outlinewidth": 0,
              "ticks": ""
             }
            },
            "type": "parcoords"
           }
          ],
          "pie": [
           {
            "automargin": true,
            "type": "pie"
           }
          ],
          "scatter": [
           {
            "fillpattern": {
             "fillmode": "overlay",
             "size": 10,
             "solidity": 0.2
            },
            "type": "scatter"
           }
          ],
          "scatter3d": [
           {
            "line": {
             "colorbar": {
              "outlinewidth": 0,
              "ticks": ""
             }
            },
            "marker": {
             "colorbar": {
              "outlinewidth": 0,
              "ticks": ""
             }
            },
            "type": "scatter3d"
           }
          ],
          "scattercarpet": [
           {
            "marker": {
             "colorbar": {
              "outlinewidth": 0,
              "ticks": ""
             }
            },
            "type": "scattercarpet"
           }
          ],
          "scattergeo": [
           {
            "marker": {
             "colorbar": {
              "outlinewidth": 0,
              "ticks": ""
             }
            },
            "type": "scattergeo"
           }
          ],
          "scattergl": [
           {
            "marker": {
             "colorbar": {
              "outlinewidth": 0,
              "ticks": ""
             }
            },
            "type": "scattergl"
           }
          ],
          "scattermapbox": [
           {
            "marker": {
             "colorbar": {
              "outlinewidth": 0,
              "ticks": ""
             }
            },
            "type": "scattermapbox"
           }
          ],
          "scatterpolar": [
           {
            "marker": {
             "colorbar": {
              "outlinewidth": 0,
              "ticks": ""
             }
            },
            "type": "scatterpolar"
           }
          ],
          "scatterpolargl": [
           {
            "marker": {
             "colorbar": {
              "outlinewidth": 0,
              "ticks": ""
             }
            },
            "type": "scatterpolargl"
           }
          ],
          "scatterternary": [
           {
            "marker": {
             "colorbar": {
              "outlinewidth": 0,
              "ticks": ""
             }
            },
            "type": "scatterternary"
           }
          ],
          "surface": [
           {
            "colorbar": {
             "outlinewidth": 0,
             "ticks": ""
            },
            "colorscale": [
             [
              0,
              "#0d0887"
             ],
             [
              0.1111111111111111,
              "#46039f"
             ],
             [
              0.2222222222222222,
              "#7201a8"
             ],
             [
              0.3333333333333333,
              "#9c179e"
             ],
             [
              0.4444444444444444,
              "#bd3786"
             ],
             [
              0.5555555555555556,
              "#d8576b"
             ],
             [
              0.6666666666666666,
              "#ed7953"
             ],
             [
              0.7777777777777778,
              "#fb9f3a"
             ],
             [
              0.8888888888888888,
              "#fdca26"
             ],
             [
              1,
              "#f0f921"
             ]
            ],
            "type": "surface"
           }
          ],
          "table": [
           {
            "cells": {
             "fill": {
              "color": "#EBF0F8"
             },
             "line": {
              "color": "white"
             }
            },
            "header": {
             "fill": {
              "color": "#C8D4E3"
             },
             "line": {
              "color": "white"
             }
            },
            "type": "table"
           }
          ]
         },
         "layout": {
          "annotationdefaults": {
           "arrowcolor": "#2a3f5f",
           "arrowhead": 0,
           "arrowwidth": 1
          },
          "autotypenumbers": "strict",
          "coloraxis": {
           "colorbar": {
            "outlinewidth": 0,
            "ticks": ""
           }
          },
          "colorscale": {
           "diverging": [
            [
             0,
             "#8e0152"
            ],
            [
             0.1,
             "#c51b7d"
            ],
            [
             0.2,
             "#de77ae"
            ],
            [
             0.3,
             "#f1b6da"
            ],
            [
             0.4,
             "#fde0ef"
            ],
            [
             0.5,
             "#f7f7f7"
            ],
            [
             0.6,
             "#e6f5d0"
            ],
            [
             0.7,
             "#b8e186"
            ],
            [
             0.8,
             "#7fbc41"
            ],
            [
             0.9,
             "#4d9221"
            ],
            [
             1,
             "#276419"
            ]
           ],
           "sequential": [
            [
             0,
             "#0d0887"
            ],
            [
             0.1111111111111111,
             "#46039f"
            ],
            [
             0.2222222222222222,
             "#7201a8"
            ],
            [
             0.3333333333333333,
             "#9c179e"
            ],
            [
             0.4444444444444444,
             "#bd3786"
            ],
            [
             0.5555555555555556,
             "#d8576b"
            ],
            [
             0.6666666666666666,
             "#ed7953"
            ],
            [
             0.7777777777777778,
             "#fb9f3a"
            ],
            [
             0.8888888888888888,
             "#fdca26"
            ],
            [
             1,
             "#f0f921"
            ]
           ],
           "sequentialminus": [
            [
             0,
             "#0d0887"
            ],
            [
             0.1111111111111111,
             "#46039f"
            ],
            [
             0.2222222222222222,
             "#7201a8"
            ],
            [
             0.3333333333333333,
             "#9c179e"
            ],
            [
             0.4444444444444444,
             "#bd3786"
            ],
            [
             0.5555555555555556,
             "#d8576b"
            ],
            [
             0.6666666666666666,
             "#ed7953"
            ],
            [
             0.7777777777777778,
             "#fb9f3a"
            ],
            [
             0.8888888888888888,
             "#fdca26"
            ],
            [
             1,
             "#f0f921"
            ]
           ]
          },
          "colorway": [
           "#636efa",
           "#EF553B",
           "#00cc96",
           "#ab63fa",
           "#FFA15A",
           "#19d3f3",
           "#FF6692",
           "#B6E880",
           "#FF97FF",
           "#FECB52"
          ],
          "font": {
           "color": "#2a3f5f"
          },
          "geo": {
           "bgcolor": "white",
           "lakecolor": "white",
           "landcolor": "#E5ECF6",
           "showlakes": true,
           "showland": true,
           "subunitcolor": "white"
          },
          "hoverlabel": {
           "align": "left"
          },
          "hovermode": "closest",
          "mapbox": {
           "style": "light"
          },
          "paper_bgcolor": "white",
          "plot_bgcolor": "#E5ECF6",
          "polar": {
           "angularaxis": {
            "gridcolor": "white",
            "linecolor": "white",
            "ticks": ""
           },
           "bgcolor": "#E5ECF6",
           "radialaxis": {
            "gridcolor": "white",
            "linecolor": "white",
            "ticks": ""
           }
          },
          "scene": {
           "xaxis": {
            "backgroundcolor": "#E5ECF6",
            "gridcolor": "white",
            "gridwidth": 2,
            "linecolor": "white",
            "showbackground": true,
            "ticks": "",
            "zerolinecolor": "white"
           },
           "yaxis": {
            "backgroundcolor": "#E5ECF6",
            "gridcolor": "white",
            "gridwidth": 2,
            "linecolor": "white",
            "showbackground": true,
            "ticks": "",
            "zerolinecolor": "white"
           },
           "zaxis": {
            "backgroundcolor": "#E5ECF6",
            "gridcolor": "white",
            "gridwidth": 2,
            "linecolor": "white",
            "showbackground": true,
            "ticks": "",
            "zerolinecolor": "white"
           }
          },
          "shapedefaults": {
           "line": {
            "color": "#2a3f5f"
           }
          },
          "ternary": {
           "aaxis": {
            "gridcolor": "white",
            "linecolor": "white",
            "ticks": ""
           },
           "baxis": {
            "gridcolor": "white",
            "linecolor": "white",
            "ticks": ""
           },
           "bgcolor": "#E5ECF6",
           "caxis": {
            "gridcolor": "white",
            "linecolor": "white",
            "ticks": ""
           }
          },
          "title": {
           "x": 0.05
          },
          "xaxis": {
           "automargin": true,
           "gridcolor": "white",
           "linecolor": "white",
           "ticks": "",
           "title": {
            "standoff": 15
           },
           "zerolinecolor": "white",
           "zerolinewidth": 2
          },
          "yaxis": {
           "automargin": true,
           "gridcolor": "white",
           "linecolor": "white",
           "ticks": "",
           "title": {
            "standoff": 15
           },
           "zerolinecolor": "white",
           "zerolinewidth": 2
          }
         }
        },
        "title": {
         "text": "Node count by source"
        },
        "xaxis": {
         "anchor": "y",
         "domain": [
          0,
          1
         ],
         "title": {
          "text": "Node Type"
         }
        },
        "yaxis": {
         "anchor": "x",
         "domain": [
          0,
          1
         ],
         "title": {
          "text": "Count"
         }
        }
       }
      }
     },
     "metadata": {},
     "output_type": "display_data"
    }
   ],
   "source": [
    "graph_obj.count_nodes_by_data_source(plot=True)"
   ]
  },
  {
   "cell_type": "code",
   "execution_count": 16,
   "metadata": {},
   "outputs": [
    {
     "data": {
      "application/vnd.plotly.v1+json": {
       "config": {
        "plotlyServerURL": "https://plot.ly"
       },
       "data": [
        {
         "alignmentgroup": "True",
         "hovertemplate": "edge_source=KEGG<br>edge_type=%{x}<br>count=%{y}<extra></extra>",
         "legendgroup": "KEGG",
         "marker": {
          "color": "#636efa",
          "pattern": {
           "shape": ""
          }
         },
         "name": "KEGG",
         "offsetgroup": "KEGG",
         "orientation": "v",
         "showlegend": true,
         "textposition": "auto",
         "type": "bar",
         "x": [
          "part_of"
         ],
         "xaxis": "x",
         "y": [
          260
         ],
         "yaxis": "y"
        },
        {
         "alignmentgroup": "True",
         "hovertemplate": "edge_source=MolMeDB<br>edge_type=%{x}<br>count=%{y}<extra></extra>",
         "legendgroup": "MolMeDB",
         "marker": {
          "color": "#EF553B",
          "pattern": {
           "shape": ""
          }
         },
         "name": "MolMeDB",
         "offsetgroup": "MolMeDB",
         "orientation": "v",
         "showlegend": true,
         "textposition": "auto",
         "type": "bar",
         "x": [
          "inhibits"
         ],
         "xaxis": "x",
         "y": [
          35
         ],
         "yaxis": "y"
        }
       ],
       "layout": {
        "barmode": "relative",
        "legend": {
         "title": {
          "text": "edge_source"
         },
         "tracegroupgap": 0
        },
        "margin": {
         "t": 60
        },
        "template": {
         "data": {
          "bar": [
           {
            "error_x": {
             "color": "#2a3f5f"
            },
            "error_y": {
             "color": "#2a3f5f"
            },
            "marker": {
             "line": {
              "color": "#E5ECF6",
              "width": 0.5
             },
             "pattern": {
              "fillmode": "overlay",
              "size": 10,
              "solidity": 0.2
             }
            },
            "type": "bar"
           }
          ],
          "barpolar": [
           {
            "marker": {
             "line": {
              "color": "#E5ECF6",
              "width": 0.5
             },
             "pattern": {
              "fillmode": "overlay",
              "size": 10,
              "solidity": 0.2
             }
            },
            "type": "barpolar"
           }
          ],
          "carpet": [
           {
            "aaxis": {
             "endlinecolor": "#2a3f5f",
             "gridcolor": "white",
             "linecolor": "white",
             "minorgridcolor": "white",
             "startlinecolor": "#2a3f5f"
            },
            "baxis": {
             "endlinecolor": "#2a3f5f",
             "gridcolor": "white",
             "linecolor": "white",
             "minorgridcolor": "white",
             "startlinecolor": "#2a3f5f"
            },
            "type": "carpet"
           }
          ],
          "choropleth": [
           {
            "colorbar": {
             "outlinewidth": 0,
             "ticks": ""
            },
            "type": "choropleth"
           }
          ],
          "contour": [
           {
            "colorbar": {
             "outlinewidth": 0,
             "ticks": ""
            },
            "colorscale": [
             [
              0,
              "#0d0887"
             ],
             [
              0.1111111111111111,
              "#46039f"
             ],
             [
              0.2222222222222222,
              "#7201a8"
             ],
             [
              0.3333333333333333,
              "#9c179e"
             ],
             [
              0.4444444444444444,
              "#bd3786"
             ],
             [
              0.5555555555555556,
              "#d8576b"
             ],
             [
              0.6666666666666666,
              "#ed7953"
             ],
             [
              0.7777777777777778,
              "#fb9f3a"
             ],
             [
              0.8888888888888888,
              "#fdca26"
             ],
             [
              1,
              "#f0f921"
             ]
            ],
            "type": "contour"
           }
          ],
          "contourcarpet": [
           {
            "colorbar": {
             "outlinewidth": 0,
             "ticks": ""
            },
            "type": "contourcarpet"
           }
          ],
          "heatmap": [
           {
            "colorbar": {
             "outlinewidth": 0,
             "ticks": ""
            },
            "colorscale": [
             [
              0,
              "#0d0887"
             ],
             [
              0.1111111111111111,
              "#46039f"
             ],
             [
              0.2222222222222222,
              "#7201a8"
             ],
             [
              0.3333333333333333,
              "#9c179e"
             ],
             [
              0.4444444444444444,
              "#bd3786"
             ],
             [
              0.5555555555555556,
              "#d8576b"
             ],
             [
              0.6666666666666666,
              "#ed7953"
             ],
             [
              0.7777777777777778,
              "#fb9f3a"
             ],
             [
              0.8888888888888888,
              "#fdca26"
             ],
             [
              1,
              "#f0f921"
             ]
            ],
            "type": "heatmap"
           }
          ],
          "heatmapgl": [
           {
            "colorbar": {
             "outlinewidth": 0,
             "ticks": ""
            },
            "colorscale": [
             [
              0,
              "#0d0887"
             ],
             [
              0.1111111111111111,
              "#46039f"
             ],
             [
              0.2222222222222222,
              "#7201a8"
             ],
             [
              0.3333333333333333,
              "#9c179e"
             ],
             [
              0.4444444444444444,
              "#bd3786"
             ],
             [
              0.5555555555555556,
              "#d8576b"
             ],
             [
              0.6666666666666666,
              "#ed7953"
             ],
             [
              0.7777777777777778,
              "#fb9f3a"
             ],
             [
              0.8888888888888888,
              "#fdca26"
             ],
             [
              1,
              "#f0f921"
             ]
            ],
            "type": "heatmapgl"
           }
          ],
          "histogram": [
           {
            "marker": {
             "pattern": {
              "fillmode": "overlay",
              "size": 10,
              "solidity": 0.2
             }
            },
            "type": "histogram"
           }
          ],
          "histogram2d": [
           {
            "colorbar": {
             "outlinewidth": 0,
             "ticks": ""
            },
            "colorscale": [
             [
              0,
              "#0d0887"
             ],
             [
              0.1111111111111111,
              "#46039f"
             ],
             [
              0.2222222222222222,
              "#7201a8"
             ],
             [
              0.3333333333333333,
              "#9c179e"
             ],
             [
              0.4444444444444444,
              "#bd3786"
             ],
             [
              0.5555555555555556,
              "#d8576b"
             ],
             [
              0.6666666666666666,
              "#ed7953"
             ],
             [
              0.7777777777777778,
              "#fb9f3a"
             ],
             [
              0.8888888888888888,
              "#fdca26"
             ],
             [
              1,
              "#f0f921"
             ]
            ],
            "type": "histogram2d"
           }
          ],
          "histogram2dcontour": [
           {
            "colorbar": {
             "outlinewidth": 0,
             "ticks": ""
            },
            "colorscale": [
             [
              0,
              "#0d0887"
             ],
             [
              0.1111111111111111,
              "#46039f"
             ],
             [
              0.2222222222222222,
              "#7201a8"
             ],
             [
              0.3333333333333333,
              "#9c179e"
             ],
             [
              0.4444444444444444,
              "#bd3786"
             ],
             [
              0.5555555555555556,
              "#d8576b"
             ],
             [
              0.6666666666666666,
              "#ed7953"
             ],
             [
              0.7777777777777778,
              "#fb9f3a"
             ],
             [
              0.8888888888888888,
              "#fdca26"
             ],
             [
              1,
              "#f0f921"
             ]
            ],
            "type": "histogram2dcontour"
           }
          ],
          "mesh3d": [
           {
            "colorbar": {
             "outlinewidth": 0,
             "ticks": ""
            },
            "type": "mesh3d"
           }
          ],
          "parcoords": [
           {
            "line": {
             "colorbar": {
              "outlinewidth": 0,
              "ticks": ""
             }
            },
            "type": "parcoords"
           }
          ],
          "pie": [
           {
            "automargin": true,
            "type": "pie"
           }
          ],
          "scatter": [
           {
            "fillpattern": {
             "fillmode": "overlay",
             "size": 10,
             "solidity": 0.2
            },
            "type": "scatter"
           }
          ],
          "scatter3d": [
           {
            "line": {
             "colorbar": {
              "outlinewidth": 0,
              "ticks": ""
             }
            },
            "marker": {
             "colorbar": {
              "outlinewidth": 0,
              "ticks": ""
             }
            },
            "type": "scatter3d"
           }
          ],
          "scattercarpet": [
           {
            "marker": {
             "colorbar": {
              "outlinewidth": 0,
              "ticks": ""
             }
            },
            "type": "scattercarpet"
           }
          ],
          "scattergeo": [
           {
            "marker": {
             "colorbar": {
              "outlinewidth": 0,
              "ticks": ""
             }
            },
            "type": "scattergeo"
           }
          ],
          "scattergl": [
           {
            "marker": {
             "colorbar": {
              "outlinewidth": 0,
              "ticks": ""
             }
            },
            "type": "scattergl"
           }
          ],
          "scattermapbox": [
           {
            "marker": {
             "colorbar": {
              "outlinewidth": 0,
              "ticks": ""
             }
            },
            "type": "scattermapbox"
           }
          ],
          "scatterpolar": [
           {
            "marker": {
             "colorbar": {
              "outlinewidth": 0,
              "ticks": ""
             }
            },
            "type": "scatterpolar"
           }
          ],
          "scatterpolargl": [
           {
            "marker": {
             "colorbar": {
              "outlinewidth": 0,
              "ticks": ""
             }
            },
            "type": "scatterpolargl"
           }
          ],
          "scatterternary": [
           {
            "marker": {
             "colorbar": {
              "outlinewidth": 0,
              "ticks": ""
             }
            },
            "type": "scatterternary"
           }
          ],
          "surface": [
           {
            "colorbar": {
             "outlinewidth": 0,
             "ticks": ""
            },
            "colorscale": [
             [
              0,
              "#0d0887"
             ],
             [
              0.1111111111111111,
              "#46039f"
             ],
             [
              0.2222222222222222,
              "#7201a8"
             ],
             [
              0.3333333333333333,
              "#9c179e"
             ],
             [
              0.4444444444444444,
              "#bd3786"
             ],
             [
              0.5555555555555556,
              "#d8576b"
             ],
             [
              0.6666666666666666,
              "#ed7953"
             ],
             [
              0.7777777777777778,
              "#fb9f3a"
             ],
             [
              0.8888888888888888,
              "#fdca26"
             ],
             [
              1,
              "#f0f921"
             ]
            ],
            "type": "surface"
           }
          ],
          "table": [
           {
            "cells": {
             "fill": {
              "color": "#EBF0F8"
             },
             "line": {
              "color": "white"
             }
            },
            "header": {
             "fill": {
              "color": "#C8D4E3"
             },
             "line": {
              "color": "white"
             }
            },
            "type": "table"
           }
          ]
         },
         "layout": {
          "annotationdefaults": {
           "arrowcolor": "#2a3f5f",
           "arrowhead": 0,
           "arrowwidth": 1
          },
          "autotypenumbers": "strict",
          "coloraxis": {
           "colorbar": {
            "outlinewidth": 0,
            "ticks": ""
           }
          },
          "colorscale": {
           "diverging": [
            [
             0,
             "#8e0152"
            ],
            [
             0.1,
             "#c51b7d"
            ],
            [
             0.2,
             "#de77ae"
            ],
            [
             0.3,
             "#f1b6da"
            ],
            [
             0.4,
             "#fde0ef"
            ],
            [
             0.5,
             "#f7f7f7"
            ],
            [
             0.6,
             "#e6f5d0"
            ],
            [
             0.7,
             "#b8e186"
            ],
            [
             0.8,
             "#7fbc41"
            ],
            [
             0.9,
             "#4d9221"
            ],
            [
             1,
             "#276419"
            ]
           ],
           "sequential": [
            [
             0,
             "#0d0887"
            ],
            [
             0.1111111111111111,
             "#46039f"
            ],
            [
             0.2222222222222222,
             "#7201a8"
            ],
            [
             0.3333333333333333,
             "#9c179e"
            ],
            [
             0.4444444444444444,
             "#bd3786"
            ],
            [
             0.5555555555555556,
             "#d8576b"
            ],
            [
             0.6666666666666666,
             "#ed7953"
            ],
            [
             0.7777777777777778,
             "#fb9f3a"
            ],
            [
             0.8888888888888888,
             "#fdca26"
            ],
            [
             1,
             "#f0f921"
            ]
           ],
           "sequentialminus": [
            [
             0,
             "#0d0887"
            ],
            [
             0.1111111111111111,
             "#46039f"
            ],
            [
             0.2222222222222222,
             "#7201a8"
            ],
            [
             0.3333333333333333,
             "#9c179e"
            ],
            [
             0.4444444444444444,
             "#bd3786"
            ],
            [
             0.5555555555555556,
             "#d8576b"
            ],
            [
             0.6666666666666666,
             "#ed7953"
            ],
            [
             0.7777777777777778,
             "#fb9f3a"
            ],
            [
             0.8888888888888888,
             "#fdca26"
            ],
            [
             1,
             "#f0f921"
            ]
           ]
          },
          "colorway": [
           "#636efa",
           "#EF553B",
           "#00cc96",
           "#ab63fa",
           "#FFA15A",
           "#19d3f3",
           "#FF6692",
           "#B6E880",
           "#FF97FF",
           "#FECB52"
          ],
          "font": {
           "color": "#2a3f5f"
          },
          "geo": {
           "bgcolor": "white",
           "lakecolor": "white",
           "landcolor": "#E5ECF6",
           "showlakes": true,
           "showland": true,
           "subunitcolor": "white"
          },
          "hoverlabel": {
           "align": "left"
          },
          "hovermode": "closest",
          "mapbox": {
           "style": "light"
          },
          "paper_bgcolor": "white",
          "plot_bgcolor": "#E5ECF6",
          "polar": {
           "angularaxis": {
            "gridcolor": "white",
            "linecolor": "white",
            "ticks": ""
           },
           "bgcolor": "#E5ECF6",
           "radialaxis": {
            "gridcolor": "white",
            "linecolor": "white",
            "ticks": ""
           }
          },
          "scene": {
           "xaxis": {
            "backgroundcolor": "#E5ECF6",
            "gridcolor": "white",
            "gridwidth": 2,
            "linecolor": "white",
            "showbackground": true,
            "ticks": "",
            "zerolinecolor": "white"
           },
           "yaxis": {
            "backgroundcolor": "#E5ECF6",
            "gridcolor": "white",
            "gridwidth": 2,
            "linecolor": "white",
            "showbackground": true,
            "ticks": "",
            "zerolinecolor": "white"
           },
           "zaxis": {
            "backgroundcolor": "#E5ECF6",
            "gridcolor": "white",
            "gridwidth": 2,
            "linecolor": "white",
            "showbackground": true,
            "ticks": "",
            "zerolinecolor": "white"
           }
          },
          "shapedefaults": {
           "line": {
            "color": "#2a3f5f"
           }
          },
          "ternary": {
           "aaxis": {
            "gridcolor": "white",
            "linecolor": "white",
            "ticks": ""
           },
           "baxis": {
            "gridcolor": "white",
            "linecolor": "white",
            "ticks": ""
           },
           "bgcolor": "#E5ECF6",
           "caxis": {
            "gridcolor": "white",
            "linecolor": "white",
            "ticks": ""
           }
          },
          "title": {
           "x": 0.05
          },
          "xaxis": {
           "automargin": true,
           "gridcolor": "white",
           "linecolor": "white",
           "ticks": "",
           "title": {
            "standoff": 15
           },
           "zerolinecolor": "white",
           "zerolinewidth": 2
          },
          "yaxis": {
           "automargin": true,
           "gridcolor": "white",
           "linecolor": "white",
           "ticks": "",
           "title": {
            "standoff": 15
           },
           "zerolinecolor": "white",
           "zerolinewidth": 2
          }
         }
        },
        "title": {
         "text": "Edge count by source"
        },
        "xaxis": {
         "anchor": "y",
         "domain": [
          0,
          1
         ],
         "title": {
          "text": "Edge Type"
         }
        },
        "yaxis": {
         "anchor": "x",
         "domain": [
          0,
          1
         ],
         "title": {
          "text": "Count"
         }
        }
       }
      }
     },
     "metadata": {},
     "output_type": "display_data"
    }
   ],
   "source": [
    "graph_obj.count_edge_by_data_source(plot=True)"
   ]
  },
  {
   "cell_type": "code",
   "execution_count": null,
   "metadata": {},
   "outputs": [],
   "source": []
  }
 ],
 "metadata": {
  "kernelspec": {
   "display_name": "pybiodatafuse",
   "language": "python",
   "name": "python3"
  },
  "language_info": {
   "codemirror_mode": {
    "name": "ipython",
    "version": 3
   },
   "file_extension": ".py",
   "mimetype": "text/x-python",
   "name": "python",
   "nbconvert_exporter": "python",
   "pygments_lexer": "ipython3",
   "version": "3.10.16"
  }
 },
 "nbformat": 4,
 "nbformat_minor": 2
}
