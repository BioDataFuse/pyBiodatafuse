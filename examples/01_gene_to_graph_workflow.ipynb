{
 "cells": [
  {
   "cell_type": "markdown",
   "metadata": {},
   "source": [
    "# Gene-to-graph workflow\n",
    "\n",
    "This notebook showcases the steps to generate the BioDataFuse data and graph serializations from a list of genes.\n",
    "\n",
    "Datasource or annotators used:\n",
    "- Bgee\n",
    "- DisGeNET\n",
    "- OpenTargets\n",
    "- MINERVA\n",
    "- WikiPathways\n",
    "- AOP-Wiki\n",
    "- MolMedDB\n",
    "- STRINGDB\n",
    "- PubChem\n"
   ]
  },
  {
   "cell_type": "code",
   "execution_count": 1,
   "metadata": {},
   "outputs": [
    {
     "name": "stderr",
     "output_type": "stream",
     "text": [
      "/opt/anaconda3/envs/pybiodatafuse/lib/python3.10/site-packages/tqdm/auto.py:21: TqdmWarning: IProgress not found. Please update jupyter and ipywidgets. See https://ipywidgets.readthedocs.io/en/stable/user_install.html\n",
      "  from .autonotebook import tqdm as notebook_tqdm\n"
     ]
    }
   ],
   "source": [
    "# Import modules\n",
    "import os\n",
    "import pickle\n",
    "\n",
    "import pandas as pd\n",
    "from IPython.display import Image, display\n",
    "\n",
    "import pyBiodatafuse.annotators as ann\n",
    "import pyBiodatafuse.constants as Cons\n",
    "from pyBiodatafuse import id_mapper\n",
    "from pyBiodatafuse.graph.rdf import BDFGraph\n",
    "from pyBiodatafuse.graph.rdf.graphdb import GraphDBManager\n",
    "from pyBiodatafuse.graph.saver import save_graph\n",
    "from pyBiodatafuse.utils import (\n",
    "    combine_sources,\n",
    "    create_harmonized_input_file,\n",
    "    create_or_append_to_metadata,\n",
    ")"
   ]
  },
  {
   "cell_type": "markdown",
   "metadata": {},
   "source": [
    "## 1. Entity resolution with BridgeDB\n",
    "\n",
    "The first step is to input the list of genes to query and retrieve their protein target and synonym identifiers using BridgeDB."
   ]
  },
  {
   "cell_type": "markdown",
   "metadata": {},
   "source": [
    "### 1.1. Load the input list and convert it to a dataframe"
   ]
  },
  {
   "cell_type": "code",
   "execution_count": 2,
   "metadata": {},
   "outputs": [
    {
     "data": {
      "text/html": [
       "<div>\n",
       "<style scoped>\n",
       "    .dataframe tbody tr th:only-of-type {\n",
       "        vertical-align: middle;\n",
       "    }\n",
       "\n",
       "    .dataframe tbody tr th {\n",
       "        vertical-align: top;\n",
       "    }\n",
       "\n",
       "    .dataframe thead th {\n",
       "        text-align: right;\n",
       "    }\n",
       "</style>\n",
       "<table border=\"1\" class=\"dataframe\">\n",
       "  <thead>\n",
       "    <tr style=\"text-align: right;\">\n",
       "      <th></th>\n",
       "      <th>identifier</th>\n",
       "    </tr>\n",
       "  </thead>\n",
       "  <tbody>\n",
       "    <tr>\n",
       "      <th>0</th>\n",
       "      <td>7350</td>\n",
       "    </tr>\n",
       "    <tr>\n",
       "      <th>1</th>\n",
       "      <td>6198</td>\n",
       "    </tr>\n",
       "    <tr>\n",
       "      <th>2</th>\n",
       "      <td>1499</td>\n",
       "    </tr>\n",
       "    <tr>\n",
       "      <th>3</th>\n",
       "      <td>6528</td>\n",
       "    </tr>\n",
       "    <tr>\n",
       "      <th>4</th>\n",
       "      <td>6714</td>\n",
       "    </tr>\n",
       "  </tbody>\n",
       "</table>\n",
       "</div>"
      ],
      "text/plain": [
       "  identifier\n",
       "0       7350\n",
       "1       6198\n",
       "2       1499\n",
       "3       6528\n",
       "4       6714"
      ]
     },
     "execution_count": 2,
     "metadata": {},
     "output_type": "execute_result"
    }
   ],
   "source": [
    "genes_of_interest = \"\"\"7350\n",
    "6198\n",
    "1499\n",
    "6528\n",
    "6714\n",
    "10000\n",
    "10891\n",
    "6194\n",
    "7068\n",
    "4193\n",
    "3709\n",
    "\"\"\"\n",
    "\n",
    "gene_list = genes_of_interest.split(\"\\n\")\n",
    "data_input = pd.DataFrame(gene_list, columns=[\"identifier\"])\n",
    "data_input.head()"
   ]
  },
  {
   "cell_type": "markdown",
   "metadata": {},
   "source": [
    "### 1.2. Query BridgeDB\n",
    "The results will be stored in the following directories:"
   ]
  },
  {
   "cell_type": "code",
   "execution_count": 3,
   "metadata": {},
   "outputs": [],
   "source": [
    "# Create directories\n",
    "base_dir = os.path.abspath(os.getcwd())\n",
    "DATA_DIR = os.path.join(base_dir, \"data\")\n",
    "EXAMPLE_DIR = os.path.join(DATA_DIR, \"gene_to_graph_workflow\")\n",
    "\n",
    "os.makedirs(DATA_DIR, exist_ok=True)\n",
    "os.makedirs(EXAMPLE_DIR, exist_ok=True)"
   ]
  },
  {
   "cell_type": "code",
   "execution_count": 4,
   "metadata": {},
   "outputs": [],
   "source": [
    "pickle_path = f\"{EXAMPLE_DIR}/gene_list.pkl\"\n",
    "metadata_path = f\"{EXAMPLE_DIR}/gene_list_metadata.pkl\"\n",
    "\n",
    "if not os.path.exists(pickle_path):\n",
    "    bridgedb_df, bridgedb_metadata = id_mapper.bridgedb_xref(\n",
    "        identifiers=data_input,\n",
    "        input_species=\"Human\",\n",
    "        input_datasource=\"NCBI Gene\",\n",
    "        output_datasource=\"All\",\n",
    "    )\n",
    "    bridgedb_df.to_pickle(pickle_path)\n",
    "    with open(metadata_path, \"wb\") as file:\n",
    "        pickle.dump(bridgedb_metadata, file)\n",
    "else:\n",
    "    bridgedb_df = pd.read_pickle(pickle_path)\n",
    "    with open(metadata_path, \"rb\") as file:\n",
    "        bridgedb_metadata = pickle.load(file)"
   ]
  },
  {
   "cell_type": "code",
   "execution_count": 5,
   "metadata": {},
   "outputs": [
    {
     "name": "stdout",
     "output_type": "stream",
     "text": [
      "Number of genes with mapping in BridgeDb: 11\n"
     ]
    },
    {
     "data": {
      "text/html": [
       "<div>\n",
       "<style scoped>\n",
       "    .dataframe tbody tr th:only-of-type {\n",
       "        vertical-align: middle;\n",
       "    }\n",
       "\n",
       "    .dataframe tbody tr th {\n",
       "        vertical-align: top;\n",
       "    }\n",
       "\n",
       "    .dataframe thead th {\n",
       "        text-align: right;\n",
       "    }\n",
       "</style>\n",
       "<table border=\"1\" class=\"dataframe\">\n",
       "  <thead>\n",
       "    <tr style=\"text-align: right;\">\n",
       "      <th></th>\n",
       "      <th>identifier</th>\n",
       "      <th>identifier.source</th>\n",
       "      <th>target</th>\n",
       "      <th>target.source</th>\n",
       "    </tr>\n",
       "  </thead>\n",
       "  <tbody>\n",
       "    <tr>\n",
       "      <th>0</th>\n",
       "      <td>7350</td>\n",
       "      <td>Entrez Gene</td>\n",
       "      <td>7350</td>\n",
       "      <td>NCBI Gene</td>\n",
       "    </tr>\n",
       "    <tr>\n",
       "      <th>1</th>\n",
       "      <td>7350</td>\n",
       "      <td>Entrez Gene</td>\n",
       "      <td>P25874</td>\n",
       "      <td>Uniprot-TrEMBL</td>\n",
       "    </tr>\n",
       "    <tr>\n",
       "      <th>2</th>\n",
       "      <td>7350</td>\n",
       "      <td>Entrez Gene</td>\n",
       "      <td>HGNC:12517</td>\n",
       "      <td>HGNC Accession Number</td>\n",
       "    </tr>\n",
       "    <tr>\n",
       "      <th>3</th>\n",
       "      <td>7350</td>\n",
       "      <td>Entrez Gene</td>\n",
       "      <td>ENSG00000109424</td>\n",
       "      <td>Ensembl</td>\n",
       "    </tr>\n",
       "    <tr>\n",
       "      <th>4</th>\n",
       "      <td>7350</td>\n",
       "      <td>Entrez Gene</td>\n",
       "      <td>UCP1</td>\n",
       "      <td>HGNC</td>\n",
       "    </tr>\n",
       "  </tbody>\n",
       "</table>\n",
       "</div>"
      ],
      "text/plain": [
       "  identifier identifier.source           target          target.source\n",
       "0       7350       Entrez Gene             7350              NCBI Gene\n",
       "1       7350       Entrez Gene           P25874         Uniprot-TrEMBL\n",
       "2       7350       Entrez Gene       HGNC:12517  HGNC Accession Number\n",
       "3       7350       Entrez Gene  ENSG00000109424                Ensembl\n",
       "4       7350       Entrez Gene             UCP1                   HGNC"
      ]
     },
     "execution_count": 5,
     "metadata": {},
     "output_type": "execute_result"
    }
   ],
   "source": [
    "print(\"Number of genes with mapping in BridgeDb:\", len(bridgedb_df[\"identifier\"].unique()))\n",
    "bridgedb_df.head()"
   ]
  },
  {
   "cell_type": "markdown",
   "metadata": {},
   "source": [
    "## 2. Gene expression\n",
    "### 2.1. Gene expression from Bgee"
   ]
  },
  {
   "cell_type": "code",
   "execution_count": 6,
   "metadata": {},
   "outputs": [],
   "source": [
    "bgee_path = f\"{EXAMPLE_DIR}/bgee.pkl\"\n",
    "bgee_metadata_path = f\"{EXAMPLE_DIR}/bgee_metadata.pkl\"\n",
    "\n",
    "if not os.path.exists(bgee_path):\n",
    "    bgee_df, bgee_metadata = ann.bgee.get_gene_expression(bridgedb_df=bridgedb_df)\n",
    "    bgee_df.to_pickle(bgee_path)\n",
    "    with open(bgee_metadata_path, \"wb\") as file:\n",
    "        pickle.dump(bgee_metadata, file)\n",
    "else:\n",
    "    bgee_df = pd.read_pickle(bgee_path)\n",
    "    with open(bgee_metadata_path, \"rb\") as file:\n",
    "        bgee_metadata = pickle.load(file)"
   ]
  },
  {
   "cell_type": "code",
   "execution_count": 7,
   "metadata": {},
   "outputs": [
    {
     "data": {
      "text/html": [
       "<div>\n",
       "<style scoped>\n",
       "    .dataframe tbody tr th:only-of-type {\n",
       "        vertical-align: middle;\n",
       "    }\n",
       "\n",
       "    .dataframe tbody tr th {\n",
       "        vertical-align: top;\n",
       "    }\n",
       "\n",
       "    .dataframe thead th {\n",
       "        text-align: right;\n",
       "    }\n",
       "</style>\n",
       "<table border=\"1\" class=\"dataframe\">\n",
       "  <thead>\n",
       "    <tr style=\"text-align: right;\">\n",
       "      <th></th>\n",
       "      <th>identifier</th>\n",
       "      <th>identifier.source</th>\n",
       "      <th>target</th>\n",
       "      <th>target.source</th>\n",
       "      <th>Bgee_gene_expression_levels</th>\n",
       "    </tr>\n",
       "  </thead>\n",
       "  <tbody>\n",
       "    <tr>\n",
       "      <th>0</th>\n",
       "      <td>10000</td>\n",
       "      <td>Entrez Gene</td>\n",
       "      <td>ENSG00000117020</td>\n",
       "      <td>Ensembl</td>\n",
       "      <td>[{'anatomical_entity_id': 'UBERON:0000178', 'a...</td>\n",
       "    </tr>\n",
       "    <tr>\n",
       "      <th>1</th>\n",
       "      <td>10891</td>\n",
       "      <td>Entrez Gene</td>\n",
       "      <td>ENSG00000109819</td>\n",
       "      <td>Ensembl</td>\n",
       "      <td>[{'anatomical_entity_id': 'UBERON:0000178', 'a...</td>\n",
       "    </tr>\n",
       "  </tbody>\n",
       "</table>\n",
       "</div>"
      ],
      "text/plain": [
       "  identifier identifier.source           target target.source  \\\n",
       "0      10000       Entrez Gene  ENSG00000117020       Ensembl   \n",
       "1      10891       Entrez Gene  ENSG00000109819       Ensembl   \n",
       "\n",
       "                         Bgee_gene_expression_levels  \n",
       "0  [{'anatomical_entity_id': 'UBERON:0000178', 'a...  \n",
       "1  [{'anatomical_entity_id': 'UBERON:0000178', 'a...  "
      ]
     },
     "execution_count": 7,
     "metadata": {},
     "output_type": "execute_result"
    }
   ],
   "source": [
    "bgee_df.head(2)"
   ]
  },
  {
   "cell_type": "markdown",
   "metadata": {},
   "source": [
    "## 3. Disease annotation\n",
    "### 3.1. Gene to disease annotation with DisGeNET"
   ]
  },
  {
   "cell_type": "code",
   "execution_count": 8,
   "metadata": {},
   "outputs": [],
   "source": [
    "disgenet_path = f\"{EXAMPLE_DIR}/disgenet.pkl\"\n",
    "disgenet_metadata_path = f\"{EXAMPLE_DIR}/disgenet_metadata.pkl\"\n",
    "\n",
    "disgenet_api_key = \"191dc560-6d91-43c0-ae9f-01655efdf6d5\"\n",
    "\n",
    "if not os.path.exists(disgenet_path):\n",
    "    disgenet_df, disgenet_metadata = ann.disgenet.get_gene_disease(\n",
    "        api_key=disgenet_api_key, bridgedb_df=bridgedb_df\n",
    "    )\n",
    "\n",
    "    disgenet_df.to_pickle(disgenet_path)\n",
    "    with open(disgenet_metadata_path, \"wb\") as file:\n",
    "        pickle.dump(disgenet_metadata, file)\n",
    "else:\n",
    "    disgenet_df = pd.read_pickle(disgenet_path)\n",
    "    with open(disgenet_metadata_path, \"rb\") as file:\n",
    "        disgenet_metadata = pickle.load(file)"
   ]
  },
  {
   "cell_type": "code",
   "execution_count": 9,
   "metadata": {},
   "outputs": [
    {
     "data": {
      "text/html": [
       "<div>\n",
       "<style scoped>\n",
       "    .dataframe tbody tr th:only-of-type {\n",
       "        vertical-align: middle;\n",
       "    }\n",
       "\n",
       "    .dataframe tbody tr th {\n",
       "        vertical-align: top;\n",
       "    }\n",
       "\n",
       "    .dataframe thead th {\n",
       "        text-align: right;\n",
       "    }\n",
       "</style>\n",
       "<table border=\"1\" class=\"dataframe\">\n",
       "  <thead>\n",
       "    <tr style=\"text-align: right;\">\n",
       "      <th></th>\n",
       "      <th>identifier</th>\n",
       "      <th>identifier.source</th>\n",
       "      <th>target</th>\n",
       "      <th>target.source</th>\n",
       "      <th>DISGENET_diseases</th>\n",
       "    </tr>\n",
       "  </thead>\n",
       "  <tbody>\n",
       "    <tr>\n",
       "      <th>0</th>\n",
       "      <td>10000</td>\n",
       "      <td>Entrez Gene</td>\n",
       "      <td>10000</td>\n",
       "      <td>NCBI Gene</td>\n",
       "      <td>[{'disease_name': 'melanoma', 'HPO': 'HPO:HP:0...</td>\n",
       "    </tr>\n",
       "    <tr>\n",
       "      <th>1</th>\n",
       "      <td>10891</td>\n",
       "      <td>Entrez Gene</td>\n",
       "      <td>10891</td>\n",
       "      <td>NCBI Gene</td>\n",
       "      <td>[{'disease_name': 'Diabetes Mellitus, Non-Insu...</td>\n",
       "    </tr>\n",
       "  </tbody>\n",
       "</table>\n",
       "</div>"
      ],
      "text/plain": [
       "  identifier identifier.source target target.source  \\\n",
       "0      10000       Entrez Gene  10000     NCBI Gene   \n",
       "1      10891       Entrez Gene  10891     NCBI Gene   \n",
       "\n",
       "                                   DISGENET_diseases  \n",
       "0  [{'disease_name': 'melanoma', 'HPO': 'HPO:HP:0...  \n",
       "1  [{'disease_name': 'Diabetes Mellitus, Non-Insu...  "
      ]
     },
     "execution_count": 9,
     "metadata": {},
     "output_type": "execute_result"
    }
   ],
   "source": [
    "disgenet_df.head(2)"
   ]
  },
  {
   "cell_type": "markdown",
   "metadata": {},
   "source": [
    "### 3.2. Disease to compound annotation from OpenTargets"
   ]
  },
  {
   "cell_type": "code",
   "execution_count": 10,
   "metadata": {},
   "outputs": [
    {
     "data": {
      "text/html": [
       "<div>\n",
       "<style scoped>\n",
       "    .dataframe tbody tr th:only-of-type {\n",
       "        vertical-align: middle;\n",
       "    }\n",
       "\n",
       "    .dataframe tbody tr th {\n",
       "        vertical-align: top;\n",
       "    }\n",
       "\n",
       "    .dataframe thead th {\n",
       "        text-align: right;\n",
       "    }\n",
       "</style>\n",
       "<table border=\"1\" class=\"dataframe\">\n",
       "  <thead>\n",
       "    <tr style=\"text-align: right;\">\n",
       "      <th></th>\n",
       "      <th>identifier</th>\n",
       "      <th>identifier.source</th>\n",
       "      <th>target</th>\n",
       "      <th>target.source</th>\n",
       "    </tr>\n",
       "  </thead>\n",
       "  <tbody>\n",
       "    <tr>\n",
       "      <th>0</th>\n",
       "      <td>10000</td>\n",
       "      <td>Entrez Gene</td>\n",
       "      <td>EFO_0000756</td>\n",
       "      <td>EFO</td>\n",
       "    </tr>\n",
       "    <tr>\n",
       "      <th>1</th>\n",
       "      <td>10000</td>\n",
       "      <td>Entrez Gene</td>\n",
       "      <td>EFO_0000673</td>\n",
       "      <td>EFO</td>\n",
       "    </tr>\n",
       "    <tr>\n",
       "      <th>2</th>\n",
       "      <td>10000</td>\n",
       "      <td>Entrez Gene</td>\n",
       "      <td>EFO_0001663</td>\n",
       "      <td>EFO</td>\n",
       "    </tr>\n",
       "    <tr>\n",
       "      <th>3</th>\n",
       "      <td>10000</td>\n",
       "      <td>Entrez Gene</td>\n",
       "      <td>EFO_0000519</td>\n",
       "      <td>EFO</td>\n",
       "    </tr>\n",
       "    <tr>\n",
       "      <th>5</th>\n",
       "      <td>10000</td>\n",
       "      <td>Entrez Gene</td>\n",
       "      <td>EFO_0000349</td>\n",
       "      <td>EFO</td>\n",
       "    </tr>\n",
       "  </tbody>\n",
       "</table>\n",
       "</div>"
      ],
      "text/plain": [
       "  identifier identifier.source       target target.source\n",
       "0      10000       Entrez Gene  EFO_0000756           EFO\n",
       "1      10000       Entrez Gene  EFO_0000673           EFO\n",
       "2      10000       Entrez Gene  EFO_0001663           EFO\n",
       "3      10000       Entrez Gene  EFO_0000519           EFO\n",
       "5      10000       Entrez Gene  EFO_0000349           EFO"
      ]
     },
     "execution_count": 10,
     "metadata": {},
     "output_type": "execute_result"
    }
   ],
   "source": [
    "# Prepare the input to use DISGENET output as seed for OpenTargets\n",
    "disease_mapping_df = create_harmonized_input_file(\n",
    "    annotated_df=disgenet_df, target_col=Cons.DISGENET_DISEASE_COL, target_source=Cons.EFO\n",
    ")\n",
    "disease_mapping_df.head()"
   ]
  },
  {
   "cell_type": "code",
   "execution_count": 11,
   "metadata": {},
   "outputs": [],
   "source": [
    "opentarget_path = f\"{EXAMPLE_DIR}/opentarget_cmpd.pkl\"\n",
    "opentarget_metadata_path = f\"{EXAMPLE_DIR}/opentarget_cmpd_metadata.pkl\"\n",
    "\n",
    "if not os.path.exists(opentarget_path):\n",
    "    opentargets_df, opentargets_metadata = ann.opentargets.get_disease_compound_interactions(\n",
    "        disease_mapping_df\n",
    "    )\n",
    "    opentargets_df.to_pickle(opentarget_path)\n",
    "    with open(opentarget_metadata_path, \"wb\") as file:\n",
    "        pickle.dump(opentargets_metadata, file)\n",
    "else:\n",
    "    opentargets_df = pd.read_pickle(opentarget_path)\n",
    "    with open(opentarget_metadata_path, \"rb\") as file:\n",
    "        opentargets_metadata = pickle.load(file)"
   ]
  },
  {
   "cell_type": "markdown",
   "metadata": {},
   "source": [
    "## 4. Pathways and Gene Ontology terms\n",
    "### 4.1. Pathways from MINERVA"
   ]
  },
  {
   "cell_type": "code",
   "execution_count": 12,
   "metadata": {},
   "outputs": [],
   "source": [
    "minerva_path = f\"{EXAMPLE_DIR}/minerva.pkl\"\n",
    "minerva_metadata_path = f\"{EXAMPLE_DIR}/minerva_metadata.pkl\"\n",
    "\n",
    "if not os.path.exists(minerva_path):\n",
    "    minerva_df, minerva_metadata = ann.minerva.get_gene_pathways(\n",
    "        bridgedb_df, map_name=\"COVID19 Disease Map\"\n",
    "    )\n",
    "    minerva_df.to_pickle(minerva_path)\n",
    "    with open(minerva_metadata_path, \"wb\") as file:\n",
    "        pickle.dump(minerva_metadata, file)\n",
    "\n",
    "else:\n",
    "    minerva_df = pd.read_pickle(minerva_path)\n",
    "    with open(minerva_metadata_path, \"rb\") as file:\n",
    "        minerva_metadata = pickle.load(file)"
   ]
  },
  {
   "cell_type": "code",
   "execution_count": 13,
   "metadata": {},
   "outputs": [
    {
     "data": {
      "text/html": [
       "<div>\n",
       "<style scoped>\n",
       "    .dataframe tbody tr th:only-of-type {\n",
       "        vertical-align: middle;\n",
       "    }\n",
       "\n",
       "    .dataframe tbody tr th {\n",
       "        vertical-align: top;\n",
       "    }\n",
       "\n",
       "    .dataframe thead th {\n",
       "        text-align: right;\n",
       "    }\n",
       "</style>\n",
       "<table border=\"1\" class=\"dataframe\">\n",
       "  <thead>\n",
       "    <tr style=\"text-align: right;\">\n",
       "      <th></th>\n",
       "      <th>identifier</th>\n",
       "      <th>identifier.source</th>\n",
       "      <th>target</th>\n",
       "      <th>target.source</th>\n",
       "      <th>MINERVA_pathways</th>\n",
       "    </tr>\n",
       "  </thead>\n",
       "  <tbody>\n",
       "    <tr>\n",
       "      <th>0</th>\n",
       "      <td>10000</td>\n",
       "      <td>Entrez Gene</td>\n",
       "      <td>ENSG00000117020</td>\n",
       "      <td>Ensembl</td>\n",
       "      <td>[{'pathway_id': nan, 'pathway_label': nan, 'pa...</td>\n",
       "    </tr>\n",
       "    <tr>\n",
       "      <th>1</th>\n",
       "      <td>10891</td>\n",
       "      <td>Entrez Gene</td>\n",
       "      <td>ENSG00000109819</td>\n",
       "      <td>Ensembl</td>\n",
       "      <td>[{'pathway_id': nan, 'pathway_label': nan, 'pa...</td>\n",
       "    </tr>\n",
       "  </tbody>\n",
       "</table>\n",
       "</div>"
      ],
      "text/plain": [
       "  identifier identifier.source           target target.source  \\\n",
       "0      10000       Entrez Gene  ENSG00000117020       Ensembl   \n",
       "1      10891       Entrez Gene  ENSG00000109819       Ensembl   \n",
       "\n",
       "                                    MINERVA_pathways  \n",
       "0  [{'pathway_id': nan, 'pathway_label': nan, 'pa...  \n",
       "1  [{'pathway_id': nan, 'pathway_label': nan, 'pa...  "
      ]
     },
     "execution_count": 13,
     "metadata": {},
     "output_type": "execute_result"
    }
   ],
   "source": [
    "minerva_df.head(2)"
   ]
  },
  {
   "cell_type": "markdown",
   "metadata": {},
   "source": [
    "### 4.2. Pathways from WikiPathways"
   ]
  },
  {
   "cell_type": "code",
   "execution_count": 14,
   "metadata": {},
   "outputs": [],
   "source": [
    "wikipathways_path = f\"{EXAMPLE_DIR}/wikipathways.pkl\"\n",
    "wikipathways_metadata_path = f\"{EXAMPLE_DIR}/wikipathways_metadata.pkl\"\n",
    "\n",
    "if not os.path.exists(wikipathways_path):\n",
    "    wikipathways_df, wikipathways_metadata = ann.wikipathways.get_gene_wikipathways(\n",
    "        bridgedb_df=bridgedb_df\n",
    "    )\n",
    "    wikipathways_df.to_pickle(wikipathways_path)\n",
    "    with open(wikipathways_metadata_path, \"wb\") as file:\n",
    "        pickle.dump(wikipathways_metadata, file)\n",
    "\n",
    "else:\n",
    "    wikipathways_df = pd.read_pickle(wikipathways_path)\n",
    "    with open(wikipathways_metadata_path, \"rb\") as file:\n",
    "        wikipathways_metadata = pickle.load(file)"
   ]
  },
  {
   "cell_type": "code",
   "execution_count": 15,
   "metadata": {},
   "outputs": [],
   "source": [
    "# Compound-gene interactions\n",
    "wikipathways_molecular_path = f\"{EXAMPLE_DIR}/wikipathways_molecular.pkl\"\n",
    "wikipathways_molecular_metadata_path = f\"{EXAMPLE_DIR}/wikipathways_molecular_metadata.pkl\"\n",
    "\n",
    "if not os.path.exists(wikipathways_molecular_path):\n",
    "    wikipathways_molecular_df, wikipathways_molecular_metadata = (\n",
    "        ann.wikipathways.get_gene_wikipathways(bridgedb_df=bridgedb_df, query_interactions=True)\n",
    "    )\n",
    "    wikipathways_molecular_df.to_pickle(wikipathways_molecular_path)\n",
    "    with open(wikipathways_molecular_metadata_path, \"wb\") as file:\n",
    "        pickle.dump(wikipathways_molecular_metadata, file)\n",
    "else:\n",
    "    wikipathways_molecular_df = pd.read_pickle(wikipathways_molecular_path)\n",
    "    with open(wikipathways_molecular_metadata_path, \"rb\") as file:\n",
    "        wikipathways_molecular_metadata = pickle.load(file)"
   ]
  },
  {
   "cell_type": "code",
   "execution_count": 16,
   "metadata": {},
   "outputs": [
    {
     "data": {
      "text/html": [
       "<div>\n",
       "<style scoped>\n",
       "    .dataframe tbody tr th:only-of-type {\n",
       "        vertical-align: middle;\n",
       "    }\n",
       "\n",
       "    .dataframe tbody tr th {\n",
       "        vertical-align: top;\n",
       "    }\n",
       "\n",
       "    .dataframe thead th {\n",
       "        text-align: right;\n",
       "    }\n",
       "</style>\n",
       "<table border=\"1\" class=\"dataframe\">\n",
       "  <thead>\n",
       "    <tr style=\"text-align: right;\">\n",
       "      <th></th>\n",
       "      <th>identifier</th>\n",
       "      <th>identifier.source</th>\n",
       "      <th>target</th>\n",
       "      <th>target.source</th>\n",
       "      <th>WikiPathways_molecular</th>\n",
       "    </tr>\n",
       "  </thead>\n",
       "  <tbody>\n",
       "    <tr>\n",
       "      <th>0</th>\n",
       "      <td>10000</td>\n",
       "      <td>Entrez Gene</td>\n",
       "      <td>10000</td>\n",
       "      <td>NCBI Gene</td>\n",
       "      <td>[{'pathway_id': 'WP:3981', 'pathway_label': 'm...</td>\n",
       "    </tr>\n",
       "    <tr>\n",
       "      <th>1</th>\n",
       "      <td>10891</td>\n",
       "      <td>Entrez Gene</td>\n",
       "      <td>10891</td>\n",
       "      <td>NCBI Gene</td>\n",
       "      <td>[{'pathway_id': 'WP:5470', 'pathway_label': 'E...</td>\n",
       "    </tr>\n",
       "  </tbody>\n",
       "</table>\n",
       "</div>"
      ],
      "text/plain": [
       "  identifier identifier.source target target.source  \\\n",
       "0      10000       Entrez Gene  10000     NCBI Gene   \n",
       "1      10891       Entrez Gene  10891     NCBI Gene   \n",
       "\n",
       "                              WikiPathways_molecular  \n",
       "0  [{'pathway_id': 'WP:3981', 'pathway_label': 'm...  \n",
       "1  [{'pathway_id': 'WP:5470', 'pathway_label': 'E...  "
      ]
     },
     "execution_count": 16,
     "metadata": {},
     "output_type": "execute_result"
    }
   ],
   "source": [
    "wikipathways_molecular_df.head(2)"
   ]
  },
  {
   "cell_type": "markdown",
   "metadata": {},
   "source": [
    "### 4.3. Reactome pathways from OpenTargets"
   ]
  },
  {
   "cell_type": "code",
   "execution_count": 17,
   "metadata": {},
   "outputs": [],
   "source": [
    "opentargets_reactome_path = f\"{EXAMPLE_DIR}/opentargets_reactome.pkl\"\n",
    "opentargets_reactome_metadata_path = f\"{EXAMPLE_DIR}/opentargets_reactome_metadata.pkl\"\n",
    "\n",
    "\n",
    "if not os.path.exists(opentargets_reactome_path):\n",
    "    opentargets_reactome_df, opentargets_reactome_metadata = (\n",
    "        ann.opentargets.get_gene_reactome_pathways(bridgedb_df=bridgedb_df)\n",
    "    )\n",
    "    opentargets_reactome_df.to_pickle(opentargets_reactome_path)\n",
    "    with open(opentargets_reactome_metadata_path, \"wb\") as file:\n",
    "        pickle.dump(opentargets_reactome_metadata, file)\n",
    "else:\n",
    "    opentargets_reactome_df = pd.read_pickle(opentargets_reactome_path)\n",
    "    with open(opentargets_reactome_metadata_path, \"rb\") as file:\n",
    "        opentargets_reactome_metadata = pickle.load(file)"
   ]
  },
  {
   "cell_type": "code",
   "execution_count": 18,
   "metadata": {},
   "outputs": [
    {
     "data": {
      "text/html": [
       "<div>\n",
       "<style scoped>\n",
       "    .dataframe tbody tr th:only-of-type {\n",
       "        vertical-align: middle;\n",
       "    }\n",
       "\n",
       "    .dataframe tbody tr th {\n",
       "        vertical-align: top;\n",
       "    }\n",
       "\n",
       "    .dataframe thead th {\n",
       "        text-align: right;\n",
       "    }\n",
       "</style>\n",
       "<table border=\"1\" class=\"dataframe\">\n",
       "  <thead>\n",
       "    <tr style=\"text-align: right;\">\n",
       "      <th></th>\n",
       "      <th>identifier</th>\n",
       "      <th>identifier.source</th>\n",
       "      <th>target</th>\n",
       "      <th>target.source</th>\n",
       "      <th>OpenTargets_reactome</th>\n",
       "    </tr>\n",
       "  </thead>\n",
       "  <tbody>\n",
       "    <tr>\n",
       "      <th>0</th>\n",
       "      <td>10000</td>\n",
       "      <td>Entrez Gene</td>\n",
       "      <td>ENSG00000117020</td>\n",
       "      <td>Ensembl</td>\n",
       "      <td>[{'pathway_label': 'FLT3 Signaling', 'pathway_...</td>\n",
       "    </tr>\n",
       "    <tr>\n",
       "      <th>1</th>\n",
       "      <td>10891</td>\n",
       "      <td>Entrez Gene</td>\n",
       "      <td>ENSG00000109819</td>\n",
       "      <td>Ensembl</td>\n",
       "      <td>[{'pathway_label': 'Transcriptional regulation...</td>\n",
       "    </tr>\n",
       "  </tbody>\n",
       "</table>\n",
       "</div>"
      ],
      "text/plain": [
       "  identifier identifier.source           target target.source  \\\n",
       "0      10000       Entrez Gene  ENSG00000117020       Ensembl   \n",
       "1      10891       Entrez Gene  ENSG00000109819       Ensembl   \n",
       "\n",
       "                                OpenTargets_reactome  \n",
       "0  [{'pathway_label': 'FLT3 Signaling', 'pathway_...  \n",
       "1  [{'pathway_label': 'Transcriptional regulation...  "
      ]
     },
     "execution_count": 18,
     "metadata": {},
     "output_type": "execute_result"
    }
   ],
   "source": [
    "opentargets_reactome_df.head(2)"
   ]
  },
  {
   "cell_type": "markdown",
   "metadata": {},
   "source": [
    "### 4.4. Gene Ontology from OpenTargets"
   ]
  },
  {
   "cell_type": "code",
   "execution_count": 19,
   "metadata": {},
   "outputs": [],
   "source": [
    "opentargets_go_path = f\"{EXAMPLE_DIR}/opentargets_go.pkl\"\n",
    "opentargets_go_metadata_path = f\"{EXAMPLE_DIR}/opentargets_go_metadata.pkl\"\n",
    "\n",
    "if not os.path.exists(opentargets_go_path):\n",
    "    opentargets_go_df, opentargets_go_metadata = ann.opentargets.get_gene_go_process(\n",
    "        bridgedb_df=bridgedb_df\n",
    "    )\n",
    "    opentargets_go_df.to_pickle(opentargets_go_path)\n",
    "    with open(opentargets_go_metadata_path, \"wb\") as file:\n",
    "        pickle.dump(opentargets_go_metadata, file)\n",
    "else:\n",
    "    opentargets_go_df = pd.read_pickle(opentargets_go_path)\n",
    "    with open(opentargets_go_metadata_path, \"rb\") as file:\n",
    "        opentargets_go_metadata = pickle.load(file)"
   ]
  },
  {
   "cell_type": "markdown",
   "metadata": {},
   "source": [
    "### 4.5. Adverse Outcome Pathways from AOP-Wiki RDF"
   ]
  },
  {
   "cell_type": "code",
   "execution_count": 20,
   "metadata": {},
   "outputs": [],
   "source": [
    "aopwiki_path = f\"{EXAMPLE_DIR}/aopwiki.pkl\"\n",
    "aopwiki_metadata_path = f\"{EXAMPLE_DIR}/aopwiki_metadata.pkl\"\n",
    "\n",
    "if not os.path.exists(aopwiki_path):\n",
    "    aopwiki_df, aopwiki_metadata = ann.aopwiki.get_aops(bridgedb_df=bridgedb_df)\n",
    "    aopwiki_df.to_pickle(aopwiki_path)\n",
    "    with open(aopwiki_metadata_path, \"wb\") as file:\n",
    "        pickle.dump(aopwiki_metadata, file)\n",
    "else:\n",
    "    aopwiki_df = pd.read_pickle(aopwiki_path)\n",
    "    with open(aopwiki_metadata_path, \"rb\") as file:\n",
    "        aopwiki_metadata = pickle.load(file)"
   ]
  },
  {
   "cell_type": "code",
   "execution_count": 21,
   "metadata": {},
   "outputs": [
    {
     "data": {
      "text/html": [
       "<div>\n",
       "<style scoped>\n",
       "    .dataframe tbody tr th:only-of-type {\n",
       "        vertical-align: middle;\n",
       "    }\n",
       "\n",
       "    .dataframe tbody tr th {\n",
       "        vertical-align: top;\n",
       "    }\n",
       "\n",
       "    .dataframe thead th {\n",
       "        text-align: right;\n",
       "    }\n",
       "</style>\n",
       "<table border=\"1\" class=\"dataframe\">\n",
       "  <thead>\n",
       "    <tr style=\"text-align: right;\">\n",
       "      <th></th>\n",
       "      <th>identifier</th>\n",
       "      <th>identifier.source</th>\n",
       "      <th>target</th>\n",
       "      <th>target.source</th>\n",
       "      <th>AOP_Wiki_RDF_genes</th>\n",
       "    </tr>\n",
       "  </thead>\n",
       "  <tbody>\n",
       "    <tr>\n",
       "      <th>0</th>\n",
       "      <td>10000</td>\n",
       "      <td>Entrez Gene</td>\n",
       "      <td>ENSG00000117020</td>\n",
       "      <td>Ensembl</td>\n",
       "      <td>[{'aop': '17', 'aop_title': 'Binding of electr...</td>\n",
       "    </tr>\n",
       "    <tr>\n",
       "      <th>1</th>\n",
       "      <td>10891</td>\n",
       "      <td>Entrez Gene</td>\n",
       "      <td>ENSG00000109819</td>\n",
       "      <td>Ensembl</td>\n",
       "      <td>[{'aop': '17', 'aop_title': 'Binding of electr...</td>\n",
       "    </tr>\n",
       "  </tbody>\n",
       "</table>\n",
       "</div>"
      ],
      "text/plain": [
       "  identifier identifier.source           target target.source  \\\n",
       "0      10000       Entrez Gene  ENSG00000117020       Ensembl   \n",
       "1      10891       Entrez Gene  ENSG00000109819       Ensembl   \n",
       "\n",
       "                                  AOP_Wiki_RDF_genes  \n",
       "0  [{'aop': '17', 'aop_title': 'Binding of electr...  \n",
       "1  [{'aop': '17', 'aop_title': 'Binding of electr...  "
      ]
     },
     "execution_count": 21,
     "metadata": {},
     "output_type": "execute_result"
    }
   ],
   "source": [
    "aopwiki_df.head(2)"
   ]
  },
  {
   "cell_type": "markdown",
   "metadata": {},
   "source": [
    "## 5. Compound annotation\n",
    "### 5.1. Compound annotation from OpenTargets"
   ]
  },
  {
   "cell_type": "code",
   "execution_count": 22,
   "metadata": {},
   "outputs": [],
   "source": [
    "opentargets_gene_path = f\"{EXAMPLE_DIR}/opentargets_gene_cmpd.pkl\"\n",
    "opentargets_gene_metadata_path = f\"{EXAMPLE_DIR}/opentargets_gene_cmpd_metadata.pkl\"\n",
    "\n",
    "if not os.path.exists(opentargets_gene_path):\n",
    "    opentargets_compound_df, opentargets_compound_metadata = (\n",
    "        ann.opentargets.get_gene_compound_interactions(bridgedb_df=bridgedb_df)\n",
    "    )\n",
    "    opentargets_compound_df.to_pickle(opentargets_gene_path)\n",
    "    with open(opentargets_gene_metadata_path, \"wb\") as file:\n",
    "        pickle.dump(opentargets_compound_metadata, file)\n",
    "\n",
    "else:\n",
    "    opentargets_compound_df = pd.read_pickle(opentargets_gene_path)\n",
    "    with open(opentargets_gene_metadata_path, \"rb\") as file:\n",
    "        opentargets_compound_metadata = pickle.load(file)"
   ]
  },
  {
   "cell_type": "markdown",
   "metadata": {},
   "source": [
    "### 5.2. Screening results of compounds on proteins encoded by genes annotation by PubChem"
   ]
  },
  {
   "cell_type": "code",
   "execution_count": 23,
   "metadata": {},
   "outputs": [],
   "source": [
    "pubchem_path = f\"{EXAMPLE_DIR}/pubchem.pkl\"\n",
    "pubchem_metadata_path = f\"{EXAMPLE_DIR}/pubchem_metadata.pkl\"\n",
    "\n",
    "if not os.path.exists(pubchem_path):\n",
    "    pubchem_assay_df, pubchem_assay_metadata = ann.pubchem.get_protein_compound_screened(\n",
    "        bridgedb_df=bridgedb_df\n",
    "    )\n",
    "    pubchem_assay_df.to_pickle(pubchem_path)\n",
    "    with open(pubchem_metadata_path, \"wb\") as file:\n",
    "        pickle.dump(pubchem_assay_metadata, file)\n",
    "\n",
    "else:\n",
    "    pubchem_assay_df = pd.read_pickle(pubchem_path)\n",
    "    with open(pubchem_metadata_path, \"rb\") as file:\n",
    "        pubchem_assay_metadata = pickle.load(file)"
   ]
  },
  {
   "cell_type": "code",
   "execution_count": 24,
   "metadata": {},
   "outputs": [
    {
     "data": {
      "text/html": [
       "<div>\n",
       "<style scoped>\n",
       "    .dataframe tbody tr th:only-of-type {\n",
       "        vertical-align: middle;\n",
       "    }\n",
       "\n",
       "    .dataframe tbody tr th {\n",
       "        vertical-align: top;\n",
       "    }\n",
       "\n",
       "    .dataframe thead th {\n",
       "        text-align: right;\n",
       "    }\n",
       "</style>\n",
       "<table border=\"1\" class=\"dataframe\">\n",
       "  <thead>\n",
       "    <tr style=\"text-align: right;\">\n",
       "      <th></th>\n",
       "      <th>identifier</th>\n",
       "      <th>identifier.source</th>\n",
       "      <th>target</th>\n",
       "      <th>target.source</th>\n",
       "      <th>PubChem_assays</th>\n",
       "    </tr>\n",
       "  </thead>\n",
       "  <tbody>\n",
       "    <tr>\n",
       "      <th>0</th>\n",
       "      <td>10000</td>\n",
       "      <td>Entrez Gene</td>\n",
       "      <td>A0A5F9ZGY0</td>\n",
       "      <td>Uniprot-TrEMBL</td>\n",
       "      <td>[{'pubchem_assay_id': nan, 'assay_type': nan, ...</td>\n",
       "    </tr>\n",
       "    <tr>\n",
       "      <th>1</th>\n",
       "      <td>10000</td>\n",
       "      <td>Entrez Gene</td>\n",
       "      <td>A0A5F9ZGZ4</td>\n",
       "      <td>Uniprot-TrEMBL</td>\n",
       "      <td>[{'pubchem_assay_id': nan, 'assay_type': nan, ...</td>\n",
       "    </tr>\n",
       "  </tbody>\n",
       "</table>\n",
       "</div>"
      ],
      "text/plain": [
       "  identifier identifier.source      target   target.source  \\\n",
       "0      10000       Entrez Gene  A0A5F9ZGY0  Uniprot-TrEMBL   \n",
       "1      10000       Entrez Gene  A0A5F9ZGZ4  Uniprot-TrEMBL   \n",
       "\n",
       "                                      PubChem_assays  \n",
       "0  [{'pubchem_assay_id': nan, 'assay_type': nan, ...  \n",
       "1  [{'pubchem_assay_id': nan, 'assay_type': nan, ...  "
      ]
     },
     "execution_count": 24,
     "metadata": {},
     "output_type": "execute_result"
    }
   ],
   "source": [
    "pubchem_assay_df.head(2)"
   ]
  },
  {
   "cell_type": "markdown",
   "metadata": {},
   "source": [
    "### 5.3 Transporter inhibitor annotation from MolMeDB"
   ]
  },
  {
   "cell_type": "code",
   "execution_count": 25,
   "metadata": {},
   "outputs": [],
   "source": [
    "molmedb_path = f\"{EXAMPLE_DIR}/molmedb.pkl\"\n",
    "molmedb_metadata_path = f\"{EXAMPLE_DIR}/molmedb_metadata.pkl\"\n",
    "\n",
    "if not os.path.exists(molmedb_path):\n",
    "    inhibitor_df, inhibitor_metadata = ann.molmedb.get_gene_compound_inhibitor(\n",
    "        bridgedb_df=bridgedb_df\n",
    "    )\n",
    "    inhibitor_df.to_pickle(molmedb_path)\n",
    "    with open(molmedb_metadata_path, \"wb\") as file:\n",
    "        pickle.dump(inhibitor_metadata, file)\n",
    "else:\n",
    "    inhibitor_df = pd.read_pickle(molmedb_path)\n",
    "    with open(molmedb_metadata_path, \"rb\") as file:\n",
    "        inhibitor_metadata = pickle.load(file)"
   ]
  },
  {
   "cell_type": "markdown",
   "metadata": {},
   "source": [
    "> **NOTE**: No output for this database."
   ]
  },
  {
   "cell_type": "markdown",
   "metadata": {},
   "source": [
    "## 6. Protein-Protein Interactions\n",
    "\n",
    "### 6.1. Protein-Protein Interactions from STRING"
   ]
  },
  {
   "cell_type": "code",
   "execution_count": 26,
   "metadata": {},
   "outputs": [],
   "source": [
    "string_path = f\"{EXAMPLE_DIR}/string.pkl\"\n",
    "string_metadata_path = f\"{EXAMPLE_DIR}/string_metadata.pkl\"\n",
    "\n",
    "if not os.path.exists(string_path):\n",
    "    ppi_df, ppi_metadata = ann.stringdb.get_ppi(bridgedb_df=bridgedb_df)\n",
    "    ppi_df.to_pickle(string_path)\n",
    "    with open(string_metadata_path, \"wb\") as file:\n",
    "        pickle.dump(ppi_metadata, file)\n",
    "else:\n",
    "    ppi_df = pd.read_pickle(string_path)\n",
    "    with open(string_metadata_path, \"rb\") as file:\n",
    "        ppi_metadata = pickle.load(file)"
   ]
  },
  {
   "cell_type": "markdown",
   "metadata": {},
   "source": [
    "> **NOTE:** - No interactions between the genes found"
   ]
  },
  {
   "cell_type": "markdown",
   "metadata": {},
   "source": [
    "## 7. Graph generation \n",
    "\n",
    "### 7.1. Combine all data and metadata"
   ]
  },
  {
   "cell_type": "code",
   "execution_count": 27,
   "metadata": {},
   "outputs": [],
   "source": [
    "combined_df_path = f\"{EXAMPLE_DIR}/combined_df.pkl\"\n",
    "disease_compound_df_path = f\"{EXAMPLE_DIR}/disease_compound_df.pkl\"\n",
    "\n",
    "if not os.path.exists(combined_df_path):\n",
    "    combined_df = combine_sources(\n",
    "        bridgedb_df,\n",
    "        [\n",
    "            bgee_df,\n",
    "            disgenet_df,\n",
    "            minerva_df,\n",
    "            wikipathways_df,\n",
    "            wikipathways_molecular_df,\n",
    "            opentargets_reactome_df,\n",
    "            opentargets_go_df,\n",
    "            aopwiki_df,\n",
    "            opentargets_compound_df,\n",
    "            pubchem_assay_df,\n",
    "            inhibitor_df,\n",
    "            ppi_df,\n",
    "        ],\n",
    "    )\n",
    "    combined_df.to_pickle(combined_df_path)\n",
    "    opentargets_df.to_pickle(disease_compound_df_path)\n",
    "\n",
    "else:\n",
    "    combined_df = pd.read_pickle(combined_df_path)\n",
    "    opentargets_df = pd.read_pickle(disease_compound_df_path)"
   ]
  },
  {
   "cell_type": "code",
   "execution_count": 28,
   "metadata": {},
   "outputs": [],
   "source": [
    "combined_metadata = create_or_append_to_metadata(\n",
    "    bridgedb_metadata,\n",
    "    [\n",
    "        bgee_metadata,\n",
    "        disgenet_metadata,\n",
    "        opentargets_metadata,\n",
    "        opentargets_compound_metadata,\n",
    "        inhibitor_metadata,\n",
    "        pubchem_assay_metadata,\n",
    "        ppi_metadata,\n",
    "        wikipathways_metadata,\n",
    "        minerva_metadata,\n",
    "        opentargets_reactome_metadata,\n",
    "        opentargets_go_metadata,\n",
    "        aopwiki_metadata,\n",
    "        wikipathways_molecular_metadata,\n",
    "    ],\n",
    ")"
   ]
  },
  {
   "cell_type": "code",
   "execution_count": 29,
   "metadata": {},
   "outputs": [
    {
     "data": {
      "text/html": [
       "<div>\n",
       "<style scoped>\n",
       "    .dataframe tbody tr th:only-of-type {\n",
       "        vertical-align: middle;\n",
       "    }\n",
       "\n",
       "    .dataframe tbody tr th {\n",
       "        vertical-align: top;\n",
       "    }\n",
       "\n",
       "    .dataframe thead th {\n",
       "        text-align: right;\n",
       "    }\n",
       "</style>\n",
       "<table border=\"1\" class=\"dataframe\">\n",
       "  <thead>\n",
       "    <tr style=\"text-align: right;\">\n",
       "      <th></th>\n",
       "      <th>identifier</th>\n",
       "      <th>identifier.source</th>\n",
       "      <th>target</th>\n",
       "      <th>target.source</th>\n",
       "      <th>Bgee_gene_expression_levels</th>\n",
       "      <th>DISGENET_diseases</th>\n",
       "      <th>MINERVA_pathways</th>\n",
       "      <th>WikiPathways_pathway</th>\n",
       "      <th>WikiPathways_molecular</th>\n",
       "      <th>OpenTargets_reactome</th>\n",
       "      <th>OpenTargets_go</th>\n",
       "      <th>AOP_Wiki_RDF_genes</th>\n",
       "      <th>OpenTargets_gene_compounds</th>\n",
       "      <th>PubChem_assays</th>\n",
       "    </tr>\n",
       "  </thead>\n",
       "  <tbody>\n",
       "    <tr>\n",
       "      <th>0</th>\n",
       "      <td>7350</td>\n",
       "      <td>Entrez Gene</td>\n",
       "      <td>ENSG00000109424</td>\n",
       "      <td>Ensembl</td>\n",
       "      <td>[{'anatomical_entity_id': 'UBERON:0000955', 'a...</td>\n",
       "      <td>[{'disease_name': 'Obesity', 'HPO': 'HPO:HP:00...</td>\n",
       "      <td>[{'pathway_id': nan, 'pathway_label': nan, 'pa...</td>\n",
       "      <td>[{'pathway_id': 'WP:WP3407', 'pathway_label': ...</td>\n",
       "      <td>[{'pathway_id': 'WP:4746', 'pathway_label': 'T...</td>\n",
       "      <td>[{'pathway_label': 'Mitochondrial Uncoupling',...</td>\n",
       "      <td>[{'go_id': 'GO:1990542', 'go_name': 'mitochond...</td>\n",
       "      <td>[{'aop': '17', 'aop_title': 'Binding of electr...</td>\n",
       "      <td>[{'chembl_id': nan, 'drugbank_id': nan, 'compo...</td>\n",
       "      <td>[{'pubchem_assay_id': nan, 'assay_type': nan, ...</td>\n",
       "    </tr>\n",
       "    <tr>\n",
       "      <th>1</th>\n",
       "      <td>6198</td>\n",
       "      <td>Entrez Gene</td>\n",
       "      <td>ENSG00000108443</td>\n",
       "      <td>Ensembl</td>\n",
       "      <td>[{'anatomical_entity_id': 'UBERON:0000178', 'a...</td>\n",
       "      <td>[{'disease_name': 'Colorectal Carcinoma', 'HPO...</td>\n",
       "      <td>[{'pathway_id': 'MINERVA:939', 'pathway_label'...</td>\n",
       "      <td>[{'pathway_id': 'WP:WP5434', 'pathway_label': ...</td>\n",
       "      <td>[{'pathway_id': 'WP:4746', 'pathway_label': 'T...</td>\n",
       "      <td>[{'pathway_label': 'mTORC1-mediated signalling...</td>\n",
       "      <td>[{'go_id': 'GO:0005739', 'go_name': 'mitochond...</td>\n",
       "      <td>[{'aop': '17', 'aop_title': 'Binding of electr...</td>\n",
       "      <td>[{'chembl_id': 'CHEMBL:CHEMBL4650277', 'drugba...</td>\n",
       "      <td>[{'pubchem_assay_id': nan, 'assay_type': nan, ...</td>\n",
       "    </tr>\n",
       "    <tr>\n",
       "      <th>2</th>\n",
       "      <td>6198</td>\n",
       "      <td>Entrez Gene</td>\n",
       "      <td>ENSG00000108443</td>\n",
       "      <td>Ensembl</td>\n",
       "      <td>[{'anatomical_entity_id': 'UBERON:0000178', 'a...</td>\n",
       "      <td>[{'disease_name': 'Colorectal Carcinoma', 'HPO...</td>\n",
       "      <td>[{'pathway_id': 'MINERVA:939', 'pathway_label'...</td>\n",
       "      <td>[{'pathway_id': 'WP:WP5434', 'pathway_label': ...</td>\n",
       "      <td>[{'pathway_id': 'WP:4746', 'pathway_label': 'T...</td>\n",
       "      <td>[{'pathway_label': 'mTORC1-mediated signalling...</td>\n",
       "      <td>[{'go_id': 'GO:0005739', 'go_name': 'mitochond...</td>\n",
       "      <td>[{'aop': '17', 'aop_title': 'Binding of electr...</td>\n",
       "      <td>[{'chembl_id': 'CHEMBL:CHEMBL4650277', 'drugba...</td>\n",
       "      <td>[{'pubchem_assay_id': nan, 'assay_type': nan, ...</td>\n",
       "    </tr>\n",
       "    <tr>\n",
       "      <th>3</th>\n",
       "      <td>6198</td>\n",
       "      <td>Entrez Gene</td>\n",
       "      <td>ENSG00000108443</td>\n",
       "      <td>Ensembl</td>\n",
       "      <td>[{'anatomical_entity_id': 'UBERON:0000178', 'a...</td>\n",
       "      <td>[{'disease_name': 'Colorectal Carcinoma', 'HPO...</td>\n",
       "      <td>[{'pathway_id': 'MINERVA:939', 'pathway_label'...</td>\n",
       "      <td>[{'pathway_id': 'WP:WP5434', 'pathway_label': ...</td>\n",
       "      <td>[{'pathway_id': 'WP:4746', 'pathway_label': 'T...</td>\n",
       "      <td>[{'pathway_label': 'mTORC1-mediated signalling...</td>\n",
       "      <td>[{'go_id': 'GO:0005739', 'go_name': 'mitochond...</td>\n",
       "      <td>[{'aop': '17', 'aop_title': 'Binding of electr...</td>\n",
       "      <td>[{'chembl_id': 'CHEMBL:CHEMBL4650277', 'drugba...</td>\n",
       "      <td>[{'pubchem_assay_id': nan, 'assay_type': nan, ...</td>\n",
       "    </tr>\n",
       "    <tr>\n",
       "      <th>4</th>\n",
       "      <td>6198</td>\n",
       "      <td>Entrez Gene</td>\n",
       "      <td>ENSG00000108443</td>\n",
       "      <td>Ensembl</td>\n",
       "      <td>[{'anatomical_entity_id': 'UBERON:0000178', 'a...</td>\n",
       "      <td>[{'disease_name': 'Colorectal Carcinoma', 'HPO...</td>\n",
       "      <td>[{'pathway_id': 'MINERVA:939', 'pathway_label'...</td>\n",
       "      <td>[{'pathway_id': 'WP:WP5434', 'pathway_label': ...</td>\n",
       "      <td>[{'pathway_id': 'WP:4746', 'pathway_label': 'T...</td>\n",
       "      <td>[{'pathway_label': 'mTORC1-mediated signalling...</td>\n",
       "      <td>[{'go_id': 'GO:0005739', 'go_name': 'mitochond...</td>\n",
       "      <td>[{'aop': '17', 'aop_title': 'Binding of electr...</td>\n",
       "      <td>[{'chembl_id': 'CHEMBL:CHEMBL4650277', 'drugba...</td>\n",
       "      <td>[{'pubchem_assay_id': 'AID:1340854', 'assay_ty...</td>\n",
       "    </tr>\n",
       "  </tbody>\n",
       "</table>\n",
       "</div>"
      ],
      "text/plain": [
       "  identifier identifier.source           target target.source  \\\n",
       "0       7350       Entrez Gene  ENSG00000109424       Ensembl   \n",
       "1       6198       Entrez Gene  ENSG00000108443       Ensembl   \n",
       "2       6198       Entrez Gene  ENSG00000108443       Ensembl   \n",
       "3       6198       Entrez Gene  ENSG00000108443       Ensembl   \n",
       "4       6198       Entrez Gene  ENSG00000108443       Ensembl   \n",
       "\n",
       "                         Bgee_gene_expression_levels  \\\n",
       "0  [{'anatomical_entity_id': 'UBERON:0000955', 'a...   \n",
       "1  [{'anatomical_entity_id': 'UBERON:0000178', 'a...   \n",
       "2  [{'anatomical_entity_id': 'UBERON:0000178', 'a...   \n",
       "3  [{'anatomical_entity_id': 'UBERON:0000178', 'a...   \n",
       "4  [{'anatomical_entity_id': 'UBERON:0000178', 'a...   \n",
       "\n",
       "                                   DISGENET_diseases  \\\n",
       "0  [{'disease_name': 'Obesity', 'HPO': 'HPO:HP:00...   \n",
       "1  [{'disease_name': 'Colorectal Carcinoma', 'HPO...   \n",
       "2  [{'disease_name': 'Colorectal Carcinoma', 'HPO...   \n",
       "3  [{'disease_name': 'Colorectal Carcinoma', 'HPO...   \n",
       "4  [{'disease_name': 'Colorectal Carcinoma', 'HPO...   \n",
       "\n",
       "                                    MINERVA_pathways  \\\n",
       "0  [{'pathway_id': nan, 'pathway_label': nan, 'pa...   \n",
       "1  [{'pathway_id': 'MINERVA:939', 'pathway_label'...   \n",
       "2  [{'pathway_id': 'MINERVA:939', 'pathway_label'...   \n",
       "3  [{'pathway_id': 'MINERVA:939', 'pathway_label'...   \n",
       "4  [{'pathway_id': 'MINERVA:939', 'pathway_label'...   \n",
       "\n",
       "                                WikiPathways_pathway  \\\n",
       "0  [{'pathway_id': 'WP:WP3407', 'pathway_label': ...   \n",
       "1  [{'pathway_id': 'WP:WP5434', 'pathway_label': ...   \n",
       "2  [{'pathway_id': 'WP:WP5434', 'pathway_label': ...   \n",
       "3  [{'pathway_id': 'WP:WP5434', 'pathway_label': ...   \n",
       "4  [{'pathway_id': 'WP:WP5434', 'pathway_label': ...   \n",
       "\n",
       "                              WikiPathways_molecular  \\\n",
       "0  [{'pathway_id': 'WP:4746', 'pathway_label': 'T...   \n",
       "1  [{'pathway_id': 'WP:4746', 'pathway_label': 'T...   \n",
       "2  [{'pathway_id': 'WP:4746', 'pathway_label': 'T...   \n",
       "3  [{'pathway_id': 'WP:4746', 'pathway_label': 'T...   \n",
       "4  [{'pathway_id': 'WP:4746', 'pathway_label': 'T...   \n",
       "\n",
       "                                OpenTargets_reactome  \\\n",
       "0  [{'pathway_label': 'Mitochondrial Uncoupling',...   \n",
       "1  [{'pathway_label': 'mTORC1-mediated signalling...   \n",
       "2  [{'pathway_label': 'mTORC1-mediated signalling...   \n",
       "3  [{'pathway_label': 'mTORC1-mediated signalling...   \n",
       "4  [{'pathway_label': 'mTORC1-mediated signalling...   \n",
       "\n",
       "                                      OpenTargets_go  \\\n",
       "0  [{'go_id': 'GO:1990542', 'go_name': 'mitochond...   \n",
       "1  [{'go_id': 'GO:0005739', 'go_name': 'mitochond...   \n",
       "2  [{'go_id': 'GO:0005739', 'go_name': 'mitochond...   \n",
       "3  [{'go_id': 'GO:0005739', 'go_name': 'mitochond...   \n",
       "4  [{'go_id': 'GO:0005739', 'go_name': 'mitochond...   \n",
       "\n",
       "                                  AOP_Wiki_RDF_genes  \\\n",
       "0  [{'aop': '17', 'aop_title': 'Binding of electr...   \n",
       "1  [{'aop': '17', 'aop_title': 'Binding of electr...   \n",
       "2  [{'aop': '17', 'aop_title': 'Binding of electr...   \n",
       "3  [{'aop': '17', 'aop_title': 'Binding of electr...   \n",
       "4  [{'aop': '17', 'aop_title': 'Binding of electr...   \n",
       "\n",
       "                          OpenTargets_gene_compounds  \\\n",
       "0  [{'chembl_id': nan, 'drugbank_id': nan, 'compo...   \n",
       "1  [{'chembl_id': 'CHEMBL:CHEMBL4650277', 'drugba...   \n",
       "2  [{'chembl_id': 'CHEMBL:CHEMBL4650277', 'drugba...   \n",
       "3  [{'chembl_id': 'CHEMBL:CHEMBL4650277', 'drugba...   \n",
       "4  [{'chembl_id': 'CHEMBL:CHEMBL4650277', 'drugba...   \n",
       "\n",
       "                                      PubChem_assays  \n",
       "0  [{'pubchem_assay_id': nan, 'assay_type': nan, ...  \n",
       "1  [{'pubchem_assay_id': nan, 'assay_type': nan, ...  \n",
       "2  [{'pubchem_assay_id': nan, 'assay_type': nan, ...  \n",
       "3  [{'pubchem_assay_id': nan, 'assay_type': nan, ...  \n",
       "4  [{'pubchem_assay_id': 'AID:1340854', 'assay_ty...  "
      ]
     },
     "execution_count": 29,
     "metadata": {},
     "output_type": "execute_result"
    }
   ],
   "source": [
    "combined_df.head()"
   ]
  },
  {
   "cell_type": "markdown",
   "metadata": {},
   "source": [
    "### 7.2. Create a graph from the annotated dataframe"
   ]
  },
  {
   "cell_type": "code",
   "execution_count": 30,
   "metadata": {},
   "outputs": [
    {
     "name": "stderr",
     "output_type": "stream",
     "text": [
      "Combined DataFrame saved in /Users/yojana/Documents/GitHub/pyBiodatafuse/examples/data/gene_to_graph_workflow/gene_to_graph_df.pkl\n",
      "Metadata saved in /Users/yojana/Documents/GitHub/pyBiodatafuse/examples/data/gene_to_graph_workflow/gene_to_graph_metadata.pkl\n",
      "Building graph: 100%|██████████| 78/78 [00:01<00:00, 56.26it/s]\n",
      "Graph is built successfully\n",
      "Graph saved in: \n",
      " /Users/yojana/Documents/GitHub/pyBiodatafuse/examples/data/gene_to_graph_workflow/gene_to_graph_graph.pkl \n",
      " /Users/yojana/Documents/GitHub/pyBiodatafuse/examples/data/gene_to_graph_workflow/gene_to_graph_graph.gml\n",
      "Graph saved in /Users/yojana/Documents/GitHub/pyBiodatafuse/examples/data/gene_to_graph_workflow/gene_to_graph_graph.edgelist\n"
     ]
    }
   ],
   "source": [
    "pygraph = save_graph(\n",
    "    combined_df=combined_df,\n",
    "    combined_metadata=combined_metadata,\n",
    "    disease_compound=opentargets_df,\n",
    "    graph_name=\"gene_to_graph\",\n",
    "    graph_dir=EXAMPLE_DIR,\n",
    ")"
   ]
  },
  {
   "cell_type": "code",
   "execution_count": 31,
   "metadata": {},
   "outputs": [
    {
     "name": "stdout",
     "output_type": "stream",
     "text": [
      "{'Molecular Function', 'Disease', 'Side Effect', 'Adverse Outcome', 'Pathway', 'Key Event', 'Molecular Initiating Event', 'Anatomical Entity', 'Compound', 'Biological Process', 'Cellular Component', 'Adverse Outcome Pathway', 'Gene'}\n"
     ]
    }
   ],
   "source": [
    "# Check the node types in the graph\n",
    "\n",
    "node_types = set()\n",
    "for node, node_data in pygraph.nodes(data=True):\n",
    "    node_types.add(node_data[Cons.LABEL])\n",
    "\n",
    "print(node_types)"
   ]
  },
  {
   "cell_type": "markdown",
   "metadata": {},
   "source": [
    "### 7.3. Neo4j\n",
    "\n",
    "Make sure you have the desktop version open and have a user login and password. \n",
    "\n",
    "If you receive the error: `AuthError: {code: Neo.ClientError.Security.Unauthorized} {message: The client is unauthorized due to authentication failure.}`, please make sure you change disable authentication in the config file (dbms.security.auth_enabled=false). See [here](https://stackoverflow.com/questions/53687901/neo4j-cant-log-in-neo-clienterror-security-unauthorized-the-client-is-unauth)"
   ]
  },
  {
   "cell_type": "code",
   "execution_count": null,
   "metadata": {},
   "outputs": [],
   "source": [
    "from pyBiodatafuse.graph import neo4j\n",
    "\n",
    "neo4j.load_graph(\n",
    "    pygraph, uri=\"bolt://localhost:7687\", username=\"test\", password=\"password\"\n",
    ")  # change username and password"
   ]
  },
  {
   "cell_type": "markdown",
   "metadata": {},
   "source": [
    "### 7.4. Cytoscape\n",
    "Make sure that the Cytoscape is open."
   ]
  },
  {
   "cell_type": "code",
   "execution_count": null,
   "metadata": {},
   "outputs": [],
   "source": [
    "import logging\n",
    "\n",
    "import py4cytoscape as p4c\n",
    "\n",
    "from pyBiodatafuse.graph import cytoscape\n",
    "\n",
    "# Disable all logging for py4cytoscape\n",
    "logging.disable(logging.CRITICAL)  # Disable all logging\n",
    "cytoscape.load_graph(pygraph, network_name=\"Gene-Graph example\")  # Load the graph into Cytoscape"
   ]
  },
  {
   "cell_type": "code",
   "execution_count": null,
   "metadata": {},
   "outputs": [],
   "source": [
    "p4c.notebook_export_show_image()"
   ]
  },
  {
   "cell_type": "markdown",
   "metadata": {},
   "source": [
    "### 7.5. RDF"
   ]
  },
  {
   "cell_type": "code",
   "execution_count": null,
   "metadata": {},
   "outputs": [],
   "source": [
    "# Instantiate a BDFGraph\n",
    "bdf = BDFGraph(\n",
    "    base_uri=\"https://biodatafuse.org/example/\",\n",
    "    version_iri=\"https://biodatafuse.org/example/test.owl\",\n",
    "    orcid=\"https://orcid.org/0000-0002-4166-7093\",\n",
    "    author=\"Javier Millan Acosta\",\n",
    ")\n",
    "\n",
    "bdf.generate_rdf(combined_df, combined_metadata)  # Generate the RDF from the (meta)data"
   ]
  },
  {
   "cell_type": "code",
   "execution_count": null,
   "metadata": {},
   "outputs": [],
   "source": [
    "bdf.serialize(\n",
    "    os.path.join(\n",
    "        base_dir,\n",
    "        \"data\",\n",
    "        \"gene_to_graph_workflow\",\n",
    "        \"BDF_example_graph.ttl\",\n",
    "    ),\n",
    "    format=\"ttl\",\n",
    ")"
   ]
  },
  {
   "cell_type": "markdown",
   "metadata": {},
   "source": [
    "##### 7.5.1. Generate prefixes SHACL\n",
    "\n",
    "SHACL graphs defining namespaces and prefixes can be loaded into SPARQL endpoints to avoid having to declare prefixes in the query."
   ]
  },
  {
   "cell_type": "code",
   "execution_count": null,
   "metadata": {},
   "outputs": [],
   "source": [
    "# Use without parameters (defaults, does not save file)\n",
    "bdf.shacl_prefixes()\n",
    "# or Use with parameters\n",
    "bdf.shacl_prefixes(\n",
    "    path=os.path.join(\n",
    "        base_dir,\n",
    "        \"examples\",\n",
    "        \"data\",\n",
    "        \"gene_to_graph_workflow\",\n",
    "        \"gene_to_graph_workflow\",\n",
    "        \"BDF_prefixes.ttl\",\n",
    "    ),\n",
    "    namespaces=None,  # Optional, add more namespaces with a dictionary of {prefix:namespace,}\n",
    ")"
   ]
  },
  {
   "cell_type": "markdown",
   "metadata": {},
   "source": [
    "##### 7.5.2. Use [`shexer`](https://github.com/DaniFdezAlvarez/shexer/) to retrieve the RDF shapes\n",
    "\n",
    "The `shexer` library is used to retrieve the shapes of the graph in SHACL (https://www.w3.org/TR/shacl/) and ShEx (https://shex.io/shex-semantics/).\n",
    "\n",
    "- **SHACL**"
   ]
  },
  {
   "cell_type": "code",
   "execution_count": null,
   "metadata": {},
   "outputs": [],
   "source": [
    "# Use without parameters (defaults)\n",
    "# bdf.shacl()\n",
    "\n",
    "# Or use with parameters\n",
    "bdf.shacl(\n",
    "    path=os.path.join(\n",
    "        base_dir,\n",
    "        \"data\",\n",
    "        \"gene_to_graph_workflow\",\n",
    "        \"BDF_example_shacl.ttl\",\n",
    "    ),  # Set a path for TTL serialization\n",
    "    threshold=0.001,\n",
    "    uml_figure_path=os.path.join(\n",
    "        base_dir,\n",
    "        \"data\",\n",
    "        \"gene_to_graph_workflow\",\n",
    "        \"BDF_example_shacl.png\",\n",
    "    ),  # Set a path for diagram\n",
    ")\n",
    "\n",
    "# Display the UML figure\n",
    "display(\n",
    "    Image(\n",
    "        os.path.join(\n",
    "            base_dir,\n",
    "            \"data\",\n",
    "            \"gene_to_graph_workflow\",\n",
    "            \"BDF_example_shacl.png\",\n",
    "        )\n",
    "    )\n",
    ")"
   ]
  },
  {
   "cell_type": "markdown",
   "metadata": {},
   "source": [
    "- **ShEx**"
   ]
  },
  {
   "cell_type": "code",
   "execution_count": null,
   "metadata": {},
   "outputs": [],
   "source": [
    "# Use without parameters (defaults)\n",
    "# bdf.shex()\n",
    "\n",
    "# Or use with parameters\n",
    "bdf.shex(\n",
    "    path=os.path.join(\n",
    "        base_dir,\n",
    "        \"data\",\n",
    "        \"gene_to_graph_workflow\",\n",
    "        \"BDF_example_shex.ttl\",\n",
    "    ),  # Set a path for TTL serialization\n",
    "    threshold=0.001,\n",
    "    uml_figure_path=os.path.join(\n",
    "        base_dir,\n",
    "        \"data\",\n",
    "        \"gene_to_graph_workflow\",\n",
    "        \"BDF_example_shex.png\",\n",
    "    ),  # Set a path for diagram\n",
    ")\n",
    "\n",
    "# Display the UML figure\n",
    "display(\n",
    "    Image(\n",
    "        os.path.join(\n",
    "            base_dir,\n",
    "            \"data\",\n",
    "            \"gene_to_graph_workflow\",\n",
    "            \"BDF_example_shex.png\",\n",
    "        )\n",
    "    )\n",
    ")"
   ]
  },
  {
   "cell_type": "markdown",
   "metadata": {},
   "source": [
    "##### 7.5.3 Set up a GraphDB instance\n",
    "- Download the latest version of GraphDB from https://graphdb.ontotext.com//\n",
    "- Run from a direct access or terminal\n",
    "- Open the GraphDB Workbench in your web browser by navigating to `http://localhost:7200`\n",
    "\n",
    "The `GraphDBManager` allows you to perform simple operations on the your GraphDB location, such as creating a new repository, deleting a repository, importing RDF data into a repository, querying the loaded graphs and retrieving visualizations. For more advanced operations, you can use the GraphDB Workbench or the GraphDB API."
   ]
  },
  {
   "cell_type": "markdown",
   "metadata": {},
   "source": [
    "- Create a new repository"
   ]
  },
  {
   "cell_type": "code",
   "execution_count": null,
   "metadata": {},
   "outputs": [],
   "source": [
    "# GraphDB configuration\n",
    "base_url = \"http://localhost:7200\"\n",
    "repository_name = \"gene_to_graph_workflow\"\n",
    "username = \"admin\"\n",
    "password = \"root\"\n",
    "\n",
    "print(\"Creating repository...\")\n",
    "GraphDBManager.create_repository(base_url, repository_name, username, password)\n",
    "\n",
    "print(\"Listing repositories...\")\n",
    "repositories = GraphDBManager.list_repositories(base_url, username, password)\n",
    "print(\"Repositories:\", repositories)"
   ]
  },
  {
   "cell_type": "markdown",
   "metadata": {},
   "source": [
    "- Load the RDF data into the repository"
   ]
  },
  {
   "cell_type": "code",
   "execution_count": null,
   "metadata": {},
   "outputs": [],
   "source": [
    "print(\"Uploading RDF graph to GraphDB...\")\n",
    "GraphDBManager.upload_to_graphdb(\n",
    "    base_url, repository_name, username, password, bdf, file_format=\"turtle\"\n",
    ")\n",
    "print(\"Counting triples in the repository...\")\n",
    "triple_count = GraphDBManager.count_triples(base_url, repository_name, username, password)\n",
    "print(f\"Triple count: {str(triple_count)}\")"
   ]
  },
  {
   "cell_type": "markdown",
   "metadata": {},
   "source": [
    "- Load the prefixes SHACL graph into the repository"
   ]
  },
  {
   "cell_type": "code",
   "execution_count": null,
   "metadata": {},
   "outputs": [],
   "source": [
    "print(\"Uploading Prefixes SHACL graph to GraphDB...\")\n",
    "GraphDBManager.upload_to_graphdb(\n",
    "    base_url,\n",
    "    repository_name,\n",
    "    username,\n",
    "    password,\n",
    "    bdf.shacl_prefixes(),\n",
    ")\n",
    "print(\"Counting triples in the repository...\")\n",
    "triple_count = GraphDBManager.count_triples(base_url, repository_name, username, password)\n",
    "print(f\"Triple count: {str(triple_count)}\")"
   ]
  },
  {
   "cell_type": "markdown",
   "metadata": {},
   "source": [
    "- Delete the repository"
   ]
  },
  {
   "cell_type": "code",
   "execution_count": null,
   "metadata": {},
   "outputs": [],
   "source": [
    "print(\"Deleting repository...\")\n",
    "repositories = GraphDBManager.list_repositories(base_url, username, password)\n",
    "print(\"Repositories:\", repositories)\n",
    "GraphDBManager.delete_repository(base_url, repository_name, username, password)\n",
    "print(\"Listing repositories...\")\n",
    "repositories = GraphDBManager.list_repositories(base_url, username, password)\n",
    "print(\"Repositories:\", repositories)"
   ]
  },
  {
   "cell_type": "code",
   "execution_count": null,
   "metadata": {},
   "outputs": [],
   "source": []
  }
 ],
 "metadata": {
  "kernelspec": {
   "display_name": "pybiodatafuse",
   "language": "python",
   "name": "python3"
  },
  "language_info": {
   "codemirror_mode": {
    "name": "ipython",
    "version": 3
   },
   "file_extension": ".py",
   "mimetype": "text/x-python",
   "name": "python",
   "nbconvert_exporter": "python",
   "pygments_lexer": "ipython3",
   "version": "3.10.16"
  }
 },
 "nbformat": 4,
 "nbformat_minor": 4
}
