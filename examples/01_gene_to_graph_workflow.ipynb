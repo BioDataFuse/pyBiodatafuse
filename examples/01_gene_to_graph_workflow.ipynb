{
 "cells": [
  {
   "cell_type": "markdown",
   "metadata": {},
   "source": [
    "# Gene-to-graph workflow\n",
    "\n",
    "This notebook showcases the steps to generate the BioDataFuse data and graph serializations from a list of genes.\n",
    "\n",
    "Datasource or annotators used:\n",
    "- Bgee\n",
    "- DisGeNET\n",
    "- OpenTargets\n",
    "- MINERVA\n",
    "- WikiPathways\n",
    "- AOP-Wiki\n",
    "- MolMedDB\n",
    "- STRINGDB\n",
    "- PubChem\n"
   ]
  },
  {
   "cell_type": "code",
   "execution_count": 1,
   "metadata": {},
   "outputs": [],
   "source": [
    "# Import modules\n",
    "import os\n",
    "import pickle\n",
    "\n",
    "import pandas as pd\n",
    "from IPython.display import Image, display\n",
    "\n",
    "import pyBiodatafuse.annotators as ann\n",
    "import pyBiodatafuse.constants as Cons\n",
    "from pyBiodatafuse import id_mapper\n",
    "from pyBiodatafuse.graph.rdf import BDFGraph\n",
    "from pyBiodatafuse.graph.rdf.graphdb import GraphDBManager\n",
    "from pyBiodatafuse.graph.saver import save_graph\n",
    "from pyBiodatafuse.utils import (\n",
    "    combine_sources,\n",
    "    create_harmonized_input_file,\n",
    "    create_or_append_to_metadata,\n",
    ")"
   ]
  },
  {
   "cell_type": "markdown",
   "metadata": {},
   "source": [
    "## 1. Entity resolution with BridgeDB\n",
    "\n",
    "The first step is to input the list of genes to query and retrieve their protein target and synonym identifiers using BridgeDB."
   ]
  },
  {
   "cell_type": "markdown",
   "metadata": {},
   "source": [
    "### 1.1. Load the input list and convert it to a dataframe"
   ]
  },
  {
   "cell_type": "code",
   "execution_count": null,
   "metadata": {},
   "outputs": [
    {
     "data": {
      "application/vnd.microsoft.datawrangler.viewer.v0+json": {
       "columns": [
        {
         "name": "index",
         "rawType": "int64",
         "type": "integer"
        },
        {
         "name": "identifier",
         "rawType": "object",
         "type": "string"
        }
       ],
       "ref": "39b6e52b-e6d2-4866-ade3-b53d0f380649",
       "rows": [
        [
         "0",
         "7350"
        ],
        [
         "1",
         "6198"
        ],
        [
         "2",
         "1499"
        ],
        [
         "3",
         "6528"
        ],
        [
         "4",
         "6714"
        ]
       ],
       "shape": {
        "columns": 1,
        "rows": 5
       }
      },
      "text/html": [
       "<div>\n",
       "<style scoped>\n",
       "    .dataframe tbody tr th:only-of-type {\n",
       "        vertical-align: middle;\n",
       "    }\n",
       "\n",
       "    .dataframe tbody tr th {\n",
       "        vertical-align: top;\n",
       "    }\n",
       "\n",
       "    .dataframe thead th {\n",
       "        text-align: right;\n",
       "    }\n",
       "</style>\n",
       "<table border=\"1\" class=\"dataframe\">\n",
       "  <thead>\n",
       "    <tr style=\"text-align: right;\">\n",
       "      <th></th>\n",
       "      <th>identifier</th>\n",
       "    </tr>\n",
       "  </thead>\n",
       "  <tbody>\n",
       "    <tr>\n",
       "      <th>0</th>\n",
       "      <td>7350</td>\n",
       "    </tr>\n",
       "    <tr>\n",
       "      <th>1</th>\n",
       "      <td>6198</td>\n",
       "    </tr>\n",
       "    <tr>\n",
       "      <th>2</th>\n",
       "      <td>1499</td>\n",
       "    </tr>\n",
       "    <tr>\n",
       "      <th>3</th>\n",
       "      <td>6528</td>\n",
       "    </tr>\n",
       "    <tr>\n",
       "      <th>4</th>\n",
       "      <td>6714</td>\n",
       "    </tr>\n",
       "  </tbody>\n",
       "</table>\n",
       "</div>"
      ],
      "text/plain": [
       "  identifier\n",
       "0       7350\n",
       "1       6198\n",
       "2       1499\n",
       "3       6528\n",
       "4       6714"
      ]
     },
     "execution_count": 2,
     "metadata": {},
     "output_type": "execute_result"
    }
   ],
   "source": [
    "genes_of_interest = \"\"\"7350\n",
    "6198\n",
    "1499\n",
    "6528\n",
    "6714\n",
    "10000\n",
    "10891\n",
    "6194\n",
    "7068\n",
    "4193\n",
    "3709\n",
    "292\n",
    "\"\"\"\n",
    "\n",
    "gene_list = genes_of_interest.split(\"\\n\")\n",
    "data_input = pd.DataFrame(gene_list, columns=[\"identifier\"])\n",
    "data_input.head()"
   ]
  },
  {
   "cell_type": "markdown",
   "metadata": {},
   "source": [
    "### 1.2. Query BridgeDB\n",
    "The results will be stored in the following directories:"
   ]
  },
  {
   "cell_type": "code",
   "execution_count": 3,
   "metadata": {},
   "outputs": [],
   "source": [
    "# Create directories\n",
    "base_dir = os.path.abspath(os.getcwd())\n",
    "DATA_DIR = os.path.join(base_dir, \"data\")\n",
    "EXAMPLE_DIR = os.path.join(DATA_DIR, \"gene_to_graph_workflow\")\n",
    "\n",
    "os.makedirs(DATA_DIR, exist_ok=True)\n",
    "os.makedirs(EXAMPLE_DIR, exist_ok=True)"
   ]
  },
  {
   "cell_type": "code",
   "execution_count": 4,
   "metadata": {},
   "outputs": [],
   "source": [
    "pickle_path = f\"{EXAMPLE_DIR}/gene_list.pkl\"\n",
    "metadata_path = f\"{EXAMPLE_DIR}/gene_list_metadata.pkl\"\n",
    "\n",
    "if not os.path.exists(pickle_path):\n",
    "    bridgedb_df, bridgedb_metadata = id_mapper.bridgedb_xref(\n",
    "        identifiers=data_input,\n",
    "        input_species=\"Human\",\n",
    "        input_datasource=\"NCBI Gene\",\n",
    "        output_datasource=\"All\",\n",
    "    )\n",
    "    bridgedb_df.to_pickle(pickle_path)\n",
    "    with open(metadata_path, \"wb\") as file:\n",
    "        pickle.dump(bridgedb_metadata, file)\n",
    "else:\n",
    "    bridgedb_df = pd.read_pickle(pickle_path)\n",
    "    with open(metadata_path, \"rb\") as file:\n",
    "        bridgedb_metadata = pickle.load(file)"
   ]
  },
  {
   "cell_type": "code",
   "execution_count": 5,
   "metadata": {},
   "outputs": [
    {
     "name": "stdout",
     "output_type": "stream",
     "text": [
      "Number of genes with mapping in BridgeDb: 12\n"
     ]
    },
    {
     "data": {
      "application/vnd.microsoft.datawrangler.viewer.v0+json": {
       "columns": [
        {
         "name": "index",
         "rawType": "int64",
         "type": "integer"
        },
        {
         "name": "identifier",
         "rawType": "object",
         "type": "string"
        },
        {
         "name": "identifier.source",
         "rawType": "object",
         "type": "string"
        },
        {
         "name": "target",
         "rawType": "object",
         "type": "string"
        },
        {
         "name": "target.source",
         "rawType": "object",
         "type": "string"
        }
       ],
       "ref": "ad7db002-cb7d-4ff7-a522-0b3c36917da4",
       "rows": [
        [
         "0",
         "7350",
         "Entrez Gene",
         "2787089",
         "Affy"
        ],
        [
         "1",
         "7350",
         "Entrez Gene",
         "8102904",
         "Affy"
        ],
        [
         "2",
         "7350",
         "Entrez Gene",
         "2787088",
         "Affy"
        ],
        [
         "3",
         "7350",
         "Entrez Gene",
         "GO:0071398",
         "Gene Ontology"
        ],
        [
         "4",
         "7350",
         "Entrez Gene",
         "2787087",
         "Affy"
        ]
       ],
       "shape": {
        "columns": 4,
        "rows": 5
       }
      },
      "text/html": [
       "<div>\n",
       "<style scoped>\n",
       "    .dataframe tbody tr th:only-of-type {\n",
       "        vertical-align: middle;\n",
       "    }\n",
       "\n",
       "    .dataframe tbody tr th {\n",
       "        vertical-align: top;\n",
       "    }\n",
       "\n",
       "    .dataframe thead th {\n",
       "        text-align: right;\n",
       "    }\n",
       "</style>\n",
       "<table border=\"1\" class=\"dataframe\">\n",
       "  <thead>\n",
       "    <tr style=\"text-align: right;\">\n",
       "      <th></th>\n",
       "      <th>identifier</th>\n",
       "      <th>identifier.source</th>\n",
       "      <th>target</th>\n",
       "      <th>target.source</th>\n",
       "    </tr>\n",
       "  </thead>\n",
       "  <tbody>\n",
       "    <tr>\n",
       "      <th>0</th>\n",
       "      <td>7350</td>\n",
       "      <td>Entrez Gene</td>\n",
       "      <td>2787089</td>\n",
       "      <td>Affy</td>\n",
       "    </tr>\n",
       "    <tr>\n",
       "      <th>1</th>\n",
       "      <td>7350</td>\n",
       "      <td>Entrez Gene</td>\n",
       "      <td>8102904</td>\n",
       "      <td>Affy</td>\n",
       "    </tr>\n",
       "    <tr>\n",
       "      <th>2</th>\n",
       "      <td>7350</td>\n",
       "      <td>Entrez Gene</td>\n",
       "      <td>2787088</td>\n",
       "      <td>Affy</td>\n",
       "    </tr>\n",
       "    <tr>\n",
       "      <th>3</th>\n",
       "      <td>7350</td>\n",
       "      <td>Entrez Gene</td>\n",
       "      <td>GO:0071398</td>\n",
       "      <td>Gene Ontology</td>\n",
       "    </tr>\n",
       "    <tr>\n",
       "      <th>4</th>\n",
       "      <td>7350</td>\n",
       "      <td>Entrez Gene</td>\n",
       "      <td>2787087</td>\n",
       "      <td>Affy</td>\n",
       "    </tr>\n",
       "  </tbody>\n",
       "</table>\n",
       "</div>"
      ],
      "text/plain": [
       "  identifier identifier.source      target  target.source\n",
       "0       7350       Entrez Gene     2787089           Affy\n",
       "1       7350       Entrez Gene     8102904           Affy\n",
       "2       7350       Entrez Gene     2787088           Affy\n",
       "3       7350       Entrez Gene  GO:0071398  Gene Ontology\n",
       "4       7350       Entrez Gene     2787087           Affy"
      ]
     },
     "execution_count": 5,
     "metadata": {},
     "output_type": "execute_result"
    }
   ],
   "source": [
    "print(\"Number of genes with mapping in BridgeDb:\", len(bridgedb_df[\"identifier\"].unique()))\n",
    "bridgedb_df.head()"
   ]
  },
  {
   "cell_type": "markdown",
   "metadata": {},
   "source": [
    "## 2. Gene expression\n",
    "### 2.1. Gene expression from Bgee"
   ]
  },
  {
   "cell_type": "code",
   "execution_count": 6,
   "metadata": {},
   "outputs": [],
   "source": [
    "bgee_path = f\"{EXAMPLE_DIR}/bgee.pkl\"\n",
    "bgee_metadata_path = f\"{EXAMPLE_DIR}/bgee_metadata.pkl\"\n",
    "\n",
    "if not os.path.exists(bgee_path):\n",
    "    bgee_df, bgee_metadata = ann.bgee.get_gene_expression(bridgedb_df=bridgedb_df)\n",
    "    bgee_df.to_pickle(bgee_path)\n",
    "    with open(bgee_metadata_path, \"wb\") as file:\n",
    "        pickle.dump(bgee_metadata, file)\n",
    "else:\n",
    "    bgee_df = pd.read_pickle(bgee_path)\n",
    "    with open(bgee_metadata_path, \"rb\") as file:\n",
    "        bgee_metadata = pickle.load(file)"
   ]
  },
  {
   "cell_type": "code",
   "execution_count": 7,
   "metadata": {},
   "outputs": [
    {
     "data": {
      "application/vnd.microsoft.datawrangler.viewer.v0+json": {
       "columns": [
        {
         "name": "index",
         "rawType": "int64",
         "type": "integer"
        },
        {
         "name": "identifier",
         "rawType": "object",
         "type": "string"
        },
        {
         "name": "identifier.source",
         "rawType": "object",
         "type": "string"
        },
        {
         "name": "target",
         "rawType": "object",
         "type": "string"
        },
        {
         "name": "target.source",
         "rawType": "object",
         "type": "string"
        },
        {
         "name": "Bgee_gene_expression_levels",
         "rawType": "object",
         "type": "unknown"
        }
       ],
       "ref": "c32b07ff-58d6-4f98-ae6c-5eb142cb852b",
       "rows": [
        [
         "0",
         "10000",
         "Entrez Gene",
         "ENSG00000117020",
         "Ensembl",
         "[{'anatomical_entity_id': 'UBERON:0000178', 'anatomical_entity_name': 'blood', 'expression_level': 70.97769, 'confidence_level_id': 'CIO:0000029', 'confidence_level_name': 'high confidence level', 'developmental_stage_id': 'UBERON:0000104', 'developmental_stage_name': 'life cycle'}, {'anatomical_entity_id': 'UBERON:0002371', 'anatomical_entity_name': 'bone marrow', 'expression_level': 68.88231, 'confidence_level_id': 'CIO:0000029', 'confidence_level_name': 'high confidence level', 'developmental_stage_id': 'UBERON:0000104', 'developmental_stage_name': 'life cycle'}, {'anatomical_entity_id': 'UBERON:0000955', 'anatomical_entity_name': 'brain', 'expression_level': 84.81082999999998, 'confidence_level_id': 'CIO:0000029', 'confidence_level_name': 'high confidence level', 'developmental_stage_id': 'UBERON:0000104', 'developmental_stage_name': 'life cycle'}, {'anatomical_entity_id': 'UBERON:0000310', 'anatomical_entity_name': 'breast', 'expression_level': 61.80603, 'confidence_level_id': 'CIO:0000029', 'confidence_level_name': 'high confidence level', 'developmental_stage_id': 'UBERON:0000104', 'developmental_stage_name': 'life cycle'}, {'anatomical_entity_id': 'UBERON:0004535', 'anatomical_entity_name': 'cardiovascular system', 'expression_level': 86.73388, 'confidence_level_id': 'CIO:0000029', 'confidence_level_name': 'high confidence level', 'developmental_stage_id': 'UBERON:0000104', 'developmental_stage_name': 'life cycle'}, {'anatomical_entity_id': 'UBERON:0001007', 'anatomical_entity_name': 'digestive system', 'expression_level': 78.30945, 'confidence_level_id': 'CIO:0000029', 'confidence_level_name': 'high confidence level', 'developmental_stage_id': 'UBERON:0000104', 'developmental_stage_name': 'life cycle'}, {'anatomical_entity_id': 'UBERON:0000948', 'anatomical_entity_name': 'heart', 'expression_level': 79.91865, 'confidence_level_id': 'CIO:0000029', 'confidence_level_name': 'high confidence level', 'developmental_stage_id': 'UBERON:0000104', 'developmental_stage_name': 'life cycle'}, {'anatomical_entity_id': 'UBERON:0005057', 'anatomical_entity_name': 'immune organ', 'expression_level': 79.10022999999998, 'confidence_level_id': 'CIO:0000029', 'confidence_level_name': 'high confidence level', 'developmental_stage_id': 'UBERON:0000104', 'developmental_stage_name': 'life cycle'}, {'anatomical_entity_id': 'UBERON:0002113', 'anatomical_entity_name': 'kidney', 'expression_level': 74.56789, 'confidence_level_id': 'CIO:0000029', 'confidence_level_name': 'high confidence level', 'developmental_stage_id': 'UBERON:0000104', 'developmental_stage_name': 'life cycle'}, {'anatomical_entity_id': 'UBERON:0002107', 'anatomical_entity_name': 'liver', 'expression_level': 67.74543, 'confidence_level_id': 'CIO:0000029', 'confidence_level_name': 'high confidence level', 'developmental_stage_id': 'UBERON:0000104', 'developmental_stage_name': 'life cycle'}, {'anatomical_entity_id': 'UBERON:0002048', 'anatomical_entity_name': 'lung', 'expression_level': 81.69151999999998, 'confidence_level_id': 'CIO:0000029', 'confidence_level_name': 'high confidence level', 'developmental_stage_id': 'UBERON:0000104', 'developmental_stage_name': 'life cycle'}, {'anatomical_entity_id': 'UBERON:0001016', 'anatomical_entity_name': 'nervous system', 'expression_level': 85.11691999999998, 'confidence_level_id': 'CIO:0000029', 'confidence_level_name': 'high confidence level', 'developmental_stage_id': 'UBERON:0000104', 'developmental_stage_name': 'life cycle'}, {'anatomical_entity_id': 'UBERON:0001264', 'anatomical_entity_name': 'pancreas', 'expression_level': 82.2278, 'confidence_level_id': 'CIO:0000029', 'confidence_level_name': 'high confidence level', 'developmental_stage_id': 'UBERON:0000104', 'developmental_stage_name': 'life cycle'}, {'anatomical_entity_id': 'UBERON:0001987', 'anatomical_entity_name': 'placenta', 'expression_level': 67.69641, 'confidence_level_id': 'CIO:0000029', 'confidence_level_name': 'high confidence level', 'developmental_stage_id': 'UBERON:0000104', 'developmental_stage_name': 'life cycle'}, {'anatomical_entity_id': 'UBERON:0000990', 'anatomical_entity_name': 'reproductive system', 'expression_level': 80.98484999999998, 'confidence_level_id': 'CIO:0000029', 'confidence_level_name': 'high confidence level', 'developmental_stage_id': 'UBERON:0000104', 'developmental_stage_name': 'life cycle'}, {'anatomical_entity_id': 'UBERON:0001004', 'anatomical_entity_name': 'respiratory system', 'expression_level': 68.98947, 'confidence_level_id': 'CIO:0000029', 'confidence_level_name': 'high confidence level', 'developmental_stage_id': 'UBERON:0000104', 'developmental_stage_name': 'life cycle'}, {'anatomical_entity_id': 'UBERON:0001434', 'anatomical_entity_name': 'skeletal system', 'expression_level': 71.64825, 'confidence_level_id': 'CIO:0000029', 'confidence_level_name': 'high confidence level', 'developmental_stage_id': 'UBERON:0000104', 'developmental_stage_name': 'life cycle'}]"
        ],
        [
         "1",
         "10891",
         "Entrez Gene",
         "ENSG00000109819",
         "Ensembl",
         "[{'anatomical_entity_id': 'UBERON:0000178', 'anatomical_entity_name': 'blood', 'expression_level': 46.75615, 'confidence_level_id': 'CIO:0000029', 'confidence_level_name': 'high confidence level', 'developmental_stage_id': 'UBERON:0000104', 'developmental_stage_name': 'life cycle'}, {'anatomical_entity_id': 'UBERON:0000955', 'anatomical_entity_name': 'brain', 'expression_level': 75.65796, 'confidence_level_id': 'CIO:0000029', 'confidence_level_name': 'high confidence level', 'developmental_stage_id': 'UBERON:0000104', 'developmental_stage_name': 'life cycle'}, {'anatomical_entity_id': 'UBERON:0000310', 'anatomical_entity_name': 'breast', 'expression_level': 64.06573, 'confidence_level_id': 'CIO:0000029', 'confidence_level_name': 'high confidence level', 'developmental_stage_id': 'UBERON:0000104', 'developmental_stage_name': 'life cycle'}, {'anatomical_entity_id': 'UBERON:0004535', 'anatomical_entity_name': 'cardiovascular system', 'expression_level': 74.14825999999998, 'confidence_level_id': 'CIO:0000029', 'confidence_level_name': 'high confidence level', 'developmental_stage_id': 'UBERON:0000104', 'developmental_stage_name': 'life cycle'}, {'anatomical_entity_id': 'UBERON:0001007', 'anatomical_entity_name': 'digestive system', 'expression_level': 72.34709999999998, 'confidence_level_id': 'CIO:0000029', 'confidence_level_name': 'high confidence level', 'developmental_stage_id': 'UBERON:0000104', 'developmental_stage_name': 'life cycle'}, {'anatomical_entity_id': 'UBERON:0000948', 'anatomical_entity_name': 'heart', 'expression_level': 87.57975, 'confidence_level_id': 'CIO:0000029', 'confidence_level_name': 'high confidence level', 'developmental_stage_id': 'UBERON:0000104', 'developmental_stage_name': 'life cycle'}, {'anatomical_entity_id': 'UBERON:0005057', 'anatomical_entity_name': 'immune organ', 'expression_level': 52.08341, 'confidence_level_id': 'CIO:0000029', 'confidence_level_name': 'high confidence level', 'developmental_stage_id': 'UBERON:0000104', 'developmental_stage_name': 'life cycle'}, {'anatomical_entity_id': 'UBERON:0002113', 'anatomical_entity_name': 'kidney', 'expression_level': 88.72338999999998, 'confidence_level_id': 'CIO:0000029', 'confidence_level_name': 'high confidence level', 'developmental_stage_id': 'UBERON:0000104', 'developmental_stage_name': 'life cycle'}, {'anatomical_entity_id': 'UBERON:0002107', 'anatomical_entity_name': 'liver', 'expression_level': 88.89101999999998, 'confidence_level_id': 'CIO:0000029', 'confidence_level_name': 'high confidence level', 'developmental_stage_id': 'UBERON:0000104', 'developmental_stage_name': 'life cycle'}, {'anatomical_entity_id': 'UBERON:0002048', 'anatomical_entity_name': 'lung', 'expression_level': 71.8484, 'confidence_level_id': 'CIO:0000029', 'confidence_level_name': 'high confidence level', 'developmental_stage_id': 'UBERON:0000104', 'developmental_stage_name': 'life cycle'}, {'anatomical_entity_id': 'UBERON:0001016', 'anatomical_entity_name': 'nervous system', 'expression_level': 73.9135, 'confidence_level_id': 'CIO:0000029', 'confidence_level_name': 'high confidence level', 'developmental_stage_id': 'UBERON:0000104', 'developmental_stage_name': 'life cycle'}, {'anatomical_entity_id': 'UBERON:0001264', 'anatomical_entity_name': 'pancreas', 'expression_level': 73.19217, 'confidence_level_id': 'CIO:0000029', 'confidence_level_name': 'high confidence level', 'developmental_stage_id': 'UBERON:0000104', 'developmental_stage_name': 'life cycle'}, {'anatomical_entity_id': 'UBERON:0001987', 'anatomical_entity_name': 'placenta', 'expression_level': 49.0623, 'confidence_level_id': 'CIO:0000029', 'confidence_level_name': 'high confidence level', 'developmental_stage_id': 'UBERON:0000104', 'developmental_stage_name': 'life cycle'}, {'anatomical_entity_id': 'UBERON:0000990', 'anatomical_entity_name': 'reproductive system', 'expression_level': 65.5828, 'confidence_level_id': 'CIO:0000029', 'confidence_level_name': 'high confidence level', 'developmental_stage_id': 'UBERON:0000104', 'developmental_stage_name': 'life cycle'}, {'anatomical_entity_id': 'UBERON:0001004', 'anatomical_entity_name': 'respiratory system', 'expression_level': 69.35529, 'confidence_level_id': 'CIO:0000029', 'confidence_level_name': 'high confidence level', 'developmental_stage_id': 'UBERON:0000104', 'developmental_stage_name': 'life cycle'}, {'anatomical_entity_id': 'UBERON:0001434', 'anatomical_entity_name': 'skeletal system', 'expression_level': 56.28079, 'confidence_level_id': 'CIO:0000029', 'confidence_level_name': 'high confidence level', 'developmental_stage_id': 'UBERON:0000104', 'developmental_stage_name': 'life cycle'}]"
        ]
       ],
       "shape": {
        "columns": 5,
        "rows": 2
       }
      },
      "text/html": [
       "<div>\n",
       "<style scoped>\n",
       "    .dataframe tbody tr th:only-of-type {\n",
       "        vertical-align: middle;\n",
       "    }\n",
       "\n",
       "    .dataframe tbody tr th {\n",
       "        vertical-align: top;\n",
       "    }\n",
       "\n",
       "    .dataframe thead th {\n",
       "        text-align: right;\n",
       "    }\n",
       "</style>\n",
       "<table border=\"1\" class=\"dataframe\">\n",
       "  <thead>\n",
       "    <tr style=\"text-align: right;\">\n",
       "      <th></th>\n",
       "      <th>identifier</th>\n",
       "      <th>identifier.source</th>\n",
       "      <th>target</th>\n",
       "      <th>target.source</th>\n",
       "      <th>Bgee_gene_expression_levels</th>\n",
       "    </tr>\n",
       "  </thead>\n",
       "  <tbody>\n",
       "    <tr>\n",
       "      <th>0</th>\n",
       "      <td>10000</td>\n",
       "      <td>Entrez Gene</td>\n",
       "      <td>ENSG00000117020</td>\n",
       "      <td>Ensembl</td>\n",
       "      <td>[{'anatomical_entity_id': 'UBERON:0000178', 'a...</td>\n",
       "    </tr>\n",
       "    <tr>\n",
       "      <th>1</th>\n",
       "      <td>10891</td>\n",
       "      <td>Entrez Gene</td>\n",
       "      <td>ENSG00000109819</td>\n",
       "      <td>Ensembl</td>\n",
       "      <td>[{'anatomical_entity_id': 'UBERON:0000178', 'a...</td>\n",
       "    </tr>\n",
       "  </tbody>\n",
       "</table>\n",
       "</div>"
      ],
      "text/plain": [
       "  identifier identifier.source           target target.source  \\\n",
       "0      10000       Entrez Gene  ENSG00000117020       Ensembl   \n",
       "1      10891       Entrez Gene  ENSG00000109819       Ensembl   \n",
       "\n",
       "                         Bgee_gene_expression_levels  \n",
       "0  [{'anatomical_entity_id': 'UBERON:0000178', 'a...  \n",
       "1  [{'anatomical_entity_id': 'UBERON:0000178', 'a...  "
      ]
     },
     "execution_count": 7,
     "metadata": {},
     "output_type": "execute_result"
    }
   ],
   "source": [
    "bgee_df.head(2)"
   ]
  },
  {
   "cell_type": "markdown",
   "metadata": {},
   "source": [
    "## 3. Disease annotation\n",
    "### 3.1. Gene to disease annotation with DisGeNET"
   ]
  },
  {
   "cell_type": "code",
   "execution_count": 8,
   "metadata": {},
   "outputs": [],
   "source": [
    "disgenet_path = f\"{EXAMPLE_DIR}/disgenet.pkl\"\n",
    "disgenet_metadata_path = f\"{EXAMPLE_DIR}/disgenet_metadata.pkl\"\n",
    "\n",
    "disgenet_api_key = \"191dc560-6d91-43c0-ae9f-01655efdf6d5\"\n",
    "\n",
    "if not os.path.exists(disgenet_path):\n",
    "    disgenet_df, disgenet_metadata = ann.disgenet.get_gene_disease(\n",
    "        api_key=disgenet_api_key, bridgedb_df=bridgedb_df\n",
    "    )\n",
    "\n",
    "    disgenet_df.to_pickle(disgenet_path)\n",
    "    with open(disgenet_metadata_path, \"wb\") as file:\n",
    "        pickle.dump(disgenet_metadata, file)\n",
    "else:\n",
    "    disgenet_df = pd.read_pickle(disgenet_path)\n",
    "    with open(disgenet_metadata_path, \"rb\") as file:\n",
    "        disgenet_metadata = pickle.load(file)"
   ]
  },
  {
   "cell_type": "code",
   "execution_count": 9,
   "metadata": {},
   "outputs": [
    {
     "data": {
      "application/vnd.microsoft.datawrangler.viewer.v0+json": {
       "columns": [
        {
         "name": "index",
         "rawType": "int64",
         "type": "integer"
        },
        {
         "name": "identifier",
         "rawType": "object",
         "type": "string"
        },
        {
         "name": "identifier.source",
         "rawType": "object",
         "type": "string"
        },
        {
         "name": "target",
         "rawType": "object",
         "type": "string"
        },
        {
         "name": "target.source",
         "rawType": "object",
         "type": "string"
        },
        {
         "name": "DISGENET_diseases",
         "rawType": "object",
         "type": "unknown"
        }
       ],
       "ref": "e816542c-b453-45c1-b5ab-5c4e4bc569a2",
       "rows": [
        [
         "0",
         "10000",
         "Entrez Gene",
         "10000",
         "NCBI Gene",
         "[{'disease_name': 'melanoma', 'HPO': 'HPO:HP:0002861', 'NCI': 'NCI:C3224', 'OMIM': None, 'MONDO': 'MONDO:0005105', 'ORDO': None, 'EFO': 'EFO:0000756', 'DO': 'DOID:1909, DOID:8923', 'MESH': 'MESH:D008545', 'UMLS': 'UMLS:C0025202', 'disease_type': 'disease', 'score': 0.85, 'ei': 1.0, 'el': None}, {'disease_name': 'Hemimegalencephaly', 'HPO': 'HPO:HP:0007206', 'NCI': 'NCI:C177779', 'OMIM': None, 'MONDO': 'MONDO:0020492', 'ORDO': 'ORDO:99802', 'EFO': None, 'DO': None, 'MESH': 'MESH:D065705', 'UMLS': 'UMLS:C0431391', 'disease_type': 'disease', 'score': 0.8, 'ei': 1.0, 'el': None}, {'disease_name': 'Microcephaly (physical finding)', 'HPO': 'HPO:HP:0000252', 'NCI': None, 'OMIM': None, 'MONDO': 'MONDO:0001149', 'ORDO': None, 'EFO': None, 'DO': None, 'MESH': None, 'UMLS': 'UMLS:C4551563', 'disease_type': 'phenotype', 'score': 0.75, 'ei': 0.875, 'el': 'Limited'}, {'disease_name': 'Malignant neoplasm of prostate', 'HPO': 'HPO:HP:0012125', 'NCI': 'NCI:C7378', 'OMIM': 'MIM:176807, MIM:600020, MIM:600185', 'MONDO': 'MONDO:0008315, MONDO:0700275', 'ORDO': None, 'EFO': 'EFO:0000673, EFO:0001663', 'DO': 'DOID:10283', 'MESH': 'MESH:D011471', 'UMLS': 'UMLS:C0376358', 'disease_type': 'disease', 'score': 0.75, 'ei': 1.0, 'el': None}, {'disease_name': 'Glioblastoma Multiforme', 'HPO': 'HPO:HP:0012174', 'NCI': 'NCI:C3058', 'OMIM': 'MIM:137800', 'MONDO': 'MONDO:0018177', 'ORDO': 'ORDO:360', 'EFO': 'EFO:0000519', 'DO': 'DOID:3068, DOID:3074', 'MESH': 'MESH:D005909', 'UMLS': 'UMLS:C1621958', 'disease_type': 'disease', 'score': 0.75, 'ei': 0.9, 'el': None}, {'disease_name': 'Prostatic Neoplasms', 'HPO': 'HPO:HP:0100787', 'NCI': 'NCI:C3343', 'OMIM': None, 'MONDO': 'MONDO:0008315, MONDO:0021259', 'ORDO': None, 'EFO': None, 'DO': 'DOID:10283', 'MESH': 'MESH:D011471', 'UMLS': 'UMLS:C0033578', 'disease_type': 'disease', 'score': 0.75, 'ei': 1.0, 'el': None}, {'disease_name': 'Glioblastoma', 'HPO': None, 'NCI': 'NCI:C129295', 'OMIM': None, 'MONDO': 'MONDO:0018177', 'ORDO': 'ORDO:360', 'EFO': 'EFO:0000519', 'DO': 'DOID:3068, DOID:3074', 'MESH': 'MESH:D005909', 'UMLS': 'UMLS:C0017636', 'disease_type': 'disease', 'score': 0.65, 'ei': 1.0, 'el': None}, {'disease_name': 'Global developmental delay', 'HPO': 'HPO:HP:0001263', 'NCI': None, 'OMIM': None, 'MONDO': None, 'ORDO': None, 'EFO': None, 'DO': None, 'MESH': None, 'UMLS': 'UMLS:C0557874', 'disease_type': 'disease', 'score': 0.65, 'ei': 1.0, 'el': None}, {'disease_name': 'Polymicrogyria', 'HPO': 'HPO:HP:0002126', 'NCI': 'NCI:C116936', 'OMIM': None, 'MONDO': 'MONDO:0000087', 'ORDO': 'ORDO:35981', 'EFO': None, 'DO': 'DOID:0080918', 'MESH': 'MESH:D065706', 'UMLS': 'UMLS:C0266464', 'disease_type': 'disease', 'score': 0.65, 'ei': 1.0, 'el': None}, {'disease_name': 'Large head (disorder)', 'HPO': 'HPO:HP:0000256', 'NCI': None, 'OMIM': None, 'MONDO': None, 'ORDO': None, 'EFO': None, 'DO': None, 'MESH': None, 'UMLS': 'UMLS:C2243051', 'disease_type': 'phenotype', 'score': 0.65, 'ei': 1.0, 'el': None}, {'disease_name': 'Renal Cell Carcinoma', 'HPO': 'HPO:HP:0005584', 'NCI': 'NCI:C9385', 'OMIM': 'MIM:144700', 'MONDO': 'MONDO:0005086, MONDO:0005549', 'ORDO': 'ORDO:217071', 'EFO': 'EFO:0000349, EFO:0000681, EFO:0005708', 'DO': 'DOID:4450, DOID:4451, DOID:4464, DOID:4465, DOID:4467, DOID:4471, DOID:4473', 'MESH': 'MESH:D002292', 'UMLS': 'UMLS:C0007134', 'disease_type': 'disease', 'score': 0.65, 'ei': 1.0, 'el': None}, {'disease_name': 'MEGALENCEPHALY-POLYMICROGYRIA-POLYDACTYLY-HYDROCEPHALUS SYNDROME 2', 'HPO': None, 'NCI': None, 'OMIM': 'MIM:615937, MIM:611223', 'MONDO': 'MONDO:0014407', 'ORDO': None, 'EFO': None, 'DO': None, 'MESH': None, 'UMLS': 'UMLS:C4014738', 'disease_type': 'disease', 'score': 0.6, 'ei': 1.0, 'el': None}, {'disease_name': 'Megalencephaly cutis marmorata telangiectatica congenita', 'HPO': None, 'NCI': None, 'OMIM': 'MIM:602501', 'MONDO': 'MONDO:0011240', 'ORDO': 'ORDO:60040', 'EFO': None, 'DO': None, 'MESH': 'MESH:C536142', 'UMLS': 'UMLS:C1865285', 'disease_type': 'disease', 'score': 0.6, 'ei': 1.0, 'el': None}, {'disease_name': 'Megalencephaly, polymicrogyria, postaxial polydactyly, hydrocephalus syndrome (disorder)', 'HPO': None, 'NCI': None, 'OMIM': None, 'MONDO': 'MONDO:0019375', 'ORDO': 'ORDO:83473', 'EFO': None, 'DO': None, 'MESH': None, 'UMLS': 'UMLS:C4302893', 'disease_type': 'disease', 'score': 0.6, 'ei': 1.0, 'el': None}, {'disease_name': 'Malignant tumor of colon', 'HPO': 'HPO:HP:0003003', 'NCI': 'NCI:C9242', 'OMIM': 'MIM:114500, MIM:191170', 'MONDO': 'MONDO:0005401, MONDO:0021063', 'ORDO': None, 'EFO': 'EFO:0004288', 'DO': 'DOID:219, DOID:234, DOID:235, DOID:9256, DOID:5672', 'MESH': 'MESH:D003110', 'UMLS': 'UMLS:C0007102', 'disease_type': 'disease', 'score': 0.5, 'ei': 1.0, 'el': None}, {'disease_name': 'Megacolon', 'HPO': 'HPO:HP:6000852', 'NCI': 'NCI:C34810', 'OMIM': None, 'MONDO': 'MONDO:0001273', 'ORDO': None, 'EFO': None, 'DO': 'DOID:11372', 'MESH': 'MESH:D008531', 'UMLS': 'UMLS:C0025160', 'disease_type': 'phenotype', 'score': 0.4, 'ei': 1.0, 'el': None}, {'disease_name': 'Adenocarcinoma of prostate', 'HPO': None, 'NCI': 'NCI:C2919', 'OMIM': None, 'MONDO': 'MONDO:0005082', 'ORDO': None, 'EFO': 'EFO:0000673', 'DO': 'DOID:2526', 'MESH': None, 'UMLS': 'UMLS:C0007112', 'disease_type': 'disease', 'score': 0.4, 'ei': nan, 'el': None}, {'disease_name': 'Adult Glioblastoma', 'HPO': None, 'NCI': 'NCI:C9094', 'OMIM': None, 'MONDO': 'MONDO:0020690, MONDO:0018177', 'ORDO': None, 'EFO': 'EFO:0000519', 'DO': 'DOID:3068', 'MESH': None, 'UMLS': 'UMLS:C0278878', 'disease_type': 'disease', 'score': 0.4, 'ei': nan, 'el': None}, {'disease_name': 'Bardet-Biedl Syndrome', 'HPO': None, 'NCI': 'NCI:C118632', 'OMIM': None, 'MONDO': 'MONDO:0015229', 'ORDO': 'ORDO:110', 'EFO': None, 'DO': 'DOID:1935', 'MESH': 'MESH:D020788', 'UMLS': 'UMLS:C0752166', 'disease_type': 'disease', 'score': 0.4, 'ei': nan, 'el': None}, {'disease_name': 'Strawberry nevus of skin', 'HPO': 'HPO:HP:0005306', 'NCI': 'NCI:C7457', 'OMIM': None, 'MONDO': 'MONDO:0002407', 'ORDO': None, 'EFO': None, 'DO': 'DOID:2725', 'MESH': 'MESH:D018324', 'UMLS': 'UMLS:C0206733', 'disease_type': 'disease', 'score': 0.4, 'ei': nan, 'el': None}, {'disease_name': 'SENIOR-LOKEN SYNDROME 7', 'HPO': None, 'NCI': None, 'OMIM': 'MIM:613615, MIM:613524', 'MONDO': 'MONDO:0013326', 'ORDO': None, 'EFO': None, 'DO': 'DOID:0050576', 'MESH': None, 'UMLS': 'UMLS:C3150877', 'disease_type': 'disease', 'score': 0.4, 'ei': nan, 'el': None}, {'disease_name': 'Primary Glioblastoma', 'HPO': None, 'NCI': 'NCI:C39750', 'OMIM': None, 'MONDO': 'MONDO:0018177, MONDO:0850335', 'ORDO': None, 'EFO': 'EFO:0000519', 'DO': 'DOID:0080878, DOID:3068', 'MESH': None, 'UMLS': 'UMLS:C1514422', 'disease_type': 'disease', 'score': 0.4, 'ei': nan, 'el': None}, {'disease_name': 'BARDET-BIEDL SYNDROME 16', 'HPO': None, 'NCI': None, 'OMIM': 'MIM:615993, MIM:613524', 'MONDO': 'MONDO:0014444', 'ORDO': None, 'EFO': None, 'DO': 'DOID:0110138', 'MESH': None, 'UMLS': 'UMLS:C3889474', 'disease_type': 'disease', 'score': 0.4, 'ei': nan, 'el': None}, {'disease_name': 'Renal dysplasia and retinal aplasia (disorder)', 'HPO': None, 'NCI': 'NCI:C168588', 'OMIM': 'MIM:266900', 'MONDO': 'MONDO:0017842', 'ORDO': 'ORDO:3156', 'EFO': None, 'DO': 'DOID:0050576', 'MESH': 'MESH:C537580', 'UMLS': 'UMLS:C0403553', 'disease_type': 'disease', 'score': 0.4, 'ei': nan, 'el': None}]"
        ],
        [
         "1",
         "10891",
         "Entrez Gene",
         "10891",
         "NCBI Gene",
         "[{'disease_name': 'Diabetes Mellitus, Non-Insulin-Dependent', 'HPO': 'HPO:HP:0005978', 'NCI': 'NCI:C26747', 'OMIM': 'MIM:125853, MIM:600509, MIM:147545, MIM:138079, MIM:147670, MIM:167413, MIM:600281, MIM:189907, MIM:138430, MIM:164731, MIM:601724', 'MONDO': 'MONDO:0005148', 'ORDO': None, 'EFO': None, 'DO': 'DOID:9352', 'MESH': 'MESH:D003924', 'UMLS': 'UMLS:C0011860', 'disease_type': 'disease', 'score': 1.0, 'ei': 0.9152542372881356, 'el': None}, {'disease_name': 'Parkinson Disease', 'HPO': None, 'NCI': 'NCI:C26845', 'OMIM': 'MIM:516000', 'MONDO': 'MONDO:0005180, MONDO:0011562, MONDO:0014796, MONDO:0014231', 'ORDO': 'ORDO:319705', 'EFO': None, 'DO': 'DOID:14330, DOID:0060891, DOID:0060895, DOID:0060896', 'MESH': 'MESH:D010300', 'UMLS': 'UMLS:C0030567', 'disease_type': 'disease', 'score': 0.95, 'ei': 0.8888888888888888, 'el': None}, {'disease_name': 'Huntington Disease', 'HPO': None, 'NCI': 'NCI:C82342', 'OMIM': 'MIM:143100, MIM:613004', 'MONDO': 'MONDO:0011671, MONDO:0007739, MONDO:0011299', 'ORDO': 'ORDO:399', 'EFO': None, 'DO': 'DOID:12858, DOID:0090103, DOID:0090104', 'MESH': 'MESH:D006816', 'UMLS': 'UMLS:C0020179', 'disease_type': 'disease', 'score': 0.9, 'ei': 0.90625, 'el': None}, {'disease_name': 'Non-alcoholic Fatty Liver Disease', 'HPO': None, 'NCI': 'NCI:C84444', 'OMIM': None, 'MONDO': 'MONDO:0013209', 'ORDO': None, 'EFO': 'EFO:0003095, EFO:1001248', 'DO': 'DOID:0080208', 'MESH': 'MESH:D065626', 'UMLS': 'UMLS:C0400966', 'disease_type': 'disease', 'score': 0.9, 'ei': 0.7857142857142857, 'el': None}, {'disease_name': 'Heart failure', 'HPO': 'HPO:HP:0001635', 'NCI': 'NCI:C50577', 'OMIM': None, 'MONDO': 'MONDO:0005252, MONDO:0005009', 'ORDO': None, 'EFO': 'EFO:0000373, EFO:0003144', 'DO': 'DOID:6000', 'MESH': 'MESH:D006333', 'UMLS': 'UMLS:C0018801', 'disease_type': 'disease', 'score': 0.9, 'ei': 0.8571428571428571, 'el': None}, {'disease_name': 'Amyotrophic Lateral Sclerosis', 'HPO': 'HPO:HP:0007354', 'NCI': 'NCI:C34373', 'OMIM': None, 'MONDO': 'MONDO:0004976', 'ORDO': 'ORDO:803', 'EFO': None, 'DO': 'DOID:0111246, DOID:332', 'MESH': 'MESH:D000690', 'UMLS': 'UMLS:C0002736', 'disease_type': 'disease', 'score': 0.85, 'ei': 1.0, 'el': None}, {'disease_name': 'Congestive heart failure', 'HPO': 'HPO:HP:0001635', 'NCI': 'NCI:C3080', 'OMIM': None, 'MONDO': 'MONDO:0005252, MONDO:0005009', 'ORDO': None, 'EFO': 'EFO:0000373, EFO:0003144', 'DO': 'DOID:6000', 'MESH': 'MESH:D006333', 'UMLS': 'UMLS:C0018802', 'disease_type': 'disease', 'score': 0.8, 'ei': 0.8571428571428571, 'el': None}, {'disease_name': 'Cardiovascular Diseases', 'HPO': 'HPO:HP:0001626', 'NCI': 'NCI:C2931', 'OMIM': None, 'MONDO': 'MONDO:0004995', 'ORDO': None, 'EFO': 'EFO:0000319', 'DO': 'DOID:1287, DOID:114', 'MESH': 'MESH:D002318', 'UMLS': 'UMLS:C0007222', 'disease_type': 'disease', 'score': 0.8, 'ei': 0.75, 'el': None}, {'disease_name': 'Nonalcoholic steatohepatitis', 'HPO': None, 'NCI': 'NCI:C84445', 'OMIM': None, 'MONDO': 'MONDO:0007027, MONDO:0013209', 'ORDO': None, 'EFO': 'EFO:0003095, EFO:1001249', 'DO': 'DOID:0080208', 'MESH': 'MESH:D065626', 'UMLS': 'UMLS:C3241937', 'disease_type': 'disease', 'score': 0.7, 'ei': 1.0, 'el': None}, {'disease_name': 'Myocardial Infarction', 'HPO': 'HPO:HP:0001658', 'NCI': 'NCI:C27996', 'OMIM': None, 'MONDO': 'MONDO:0005068', 'ORDO': None, 'EFO': 'EFO:0000612, EFO:1000883', 'DO': 'DOID:11847, DOID:5844, DOID:5854, DOID:9408', 'MESH': 'MESH:D009203', 'UMLS': 'UMLS:C0027051', 'disease_type': 'disease', 'score': 0.7, 'ei': 0.75, 'el': None}, {'disease_name': 'Schizophrenia', 'HPO': 'HPO:HP:0100753', 'NCI': 'NCI:C3362', 'OMIM': 'MIM:181500', 'MONDO': 'MONDO:0005090', 'ORDO': None, 'EFO': None, 'DO': 'DOID:5419', 'MESH': 'MESH:D012559', 'UMLS': 'UMLS:C0036341', 'disease_type': 'disease', 'score': 0.7, 'ei': 1.0, 'el': None}, {'disease_name': 'Macular degeneration', 'HPO': 'HPO:HP:0000608', 'NCI': 'NCI:C123330', 'OMIM': 'MIM:607643, MIM:607921', 'MONDO': 'MONDO:0003004', 'ORDO': None, 'EFO': 'EFO:0001365, EFO:0009606', 'DO': 'DOID:10871, DOID:4448', 'MESH': 'MESH:D008268', 'UMLS': 'UMLS:C0024437', 'disease_type': 'disease', 'score': 0.45, 'ei': 1.0, 'el': None}, {'disease_name': 'Neuronal Ceroid-Lipofuscinoses', 'HPO': None, 'NCI': 'NCI:C61257', 'OMIM': None, 'MONDO': 'MONDO:0008083, MONDO:0008767, MONDO:0008768, MONDO:0008769, MONDO:0016295, MONDO:0014147, MONDO:0009744, MONDO:0009745, MONDO:0012391, MONDO:0012414, MONDO:0011144, MONDO:0012588, MONDO:0010830, MONDO:0013866, MONDO:0012188', 'ORDO': 'ORDO:216', 'EFO': None, 'DO': 'DOID:14503, DOID:0110720, DOID:0110721, DOID:0110722, DOID:0110723, DOID:0110724, DOID:0110725, DOID:0110726, DOID:0110727, DOID:0110728, DOID:0110729, DOID:0110730, DOID:0110731, DOID:0110732, DOID:0110733', 'MESH': 'MESH:D009472', 'UMLS': 'UMLS:C0027877', 'disease_type': 'disease', 'score': 0.4, 'ei': 1.0, 'el': None}, {'disease_name': 'Lewy Body Disease', 'HPO': 'HPO:HP:0100315', 'NCI': 'NCI:C84826', 'OMIM': 'MIM:127750, MIM:163890, MIM:602569', 'MONDO': 'MONDO:0007488', 'ORDO': None, 'EFO': 'EFO:0006792', 'DO': 'DOID:12217', 'MESH': 'MESH:D020961', 'UMLS': 'UMLS:C0752347', 'disease_type': 'disease', 'score': 0.4, 'ei': 1.0, 'el': None}, {'disease_name': 'CEROID LIPOFUSCINOSIS, NEURONAL, 1', 'HPO': None, 'NCI': None, 'OMIM': 'MIM:256730, MIM:600722', 'MONDO': 'MONDO:0016295, MONDO:0009744', 'ORDO': None, 'EFO': None, 'DO': 'DOID:0110721', 'MESH': 'MESH:C564953', 'UMLS': 'UMLS:C1850451', 'disease_type': 'disease', 'score': 0.4, 'ei': 1.0, 'el': None}, {'disease_name': \"Bowen's Disease\", 'HPO': None, 'NCI': 'NCI:C62571', 'OMIM': None, 'MONDO': 'MONDO:0020761', 'ORDO': None, 'EFO': None, 'DO': 'DOID:2513, DOID:8719', 'MESH': 'MESH:D001913', 'UMLS': 'UMLS:C0006079', 'disease_type': 'disease', 'score': 0.4, 'ei': 1.0, 'el': None}, {'disease_name': 'Late-Infantile Neuronal Ceroid Lipofuscinosis', 'HPO': None, 'NCI': 'NCI:C85864', 'OMIM': None, 'MONDO': 'MONDO:0008083, MONDO:0008767, MONDO:0008768, MONDO:0008769, MONDO:0016295, MONDO:0014147, MONDO:0009744, MONDO:0009745, MONDO:0012391, MONDO:0012414, MONDO:0011144, MONDO:0015674, MONDO:0012588, MONDO:0010830, MONDO:0013866, MONDO:0012188', 'ORDO': 'ORDO:216', 'EFO': None, 'DO': 'DOID:14503, DOID:0110720, DOID:0110721, DOID:0110722, DOID:0110723, DOID:0110724, DOID:0110725, DOID:0110726, DOID:0110727, DOID:0110728, DOID:0110729, DOID:0110730, DOID:0110731, DOID:0110732, DOID:0110733', 'MESH': 'MESH:D009472', 'UMLS': 'UMLS:C0022340', 'disease_type': 'disease', 'score': 0.4, 'ei': 1.0, 'el': None}, {'disease_name': 'Juvenile Neuronal Ceroid Lipofuscinosis', 'HPO': None, 'NCI': 'NCI:C61258', 'OMIM': 'MIM:204200, MIM:607042', 'MONDO': 'MONDO:0008083, MONDO:0008767, MONDO:0008768, MONDO:0008769, MONDO:0016295, MONDO:0014147, MONDO:0009744, MONDO:0009745, MONDO:0012391, MONDO:0012414, MONDO:0011144, MONDO:0012588, MONDO:0010830, MONDO:0013866, MONDO:0012188, MONDO:0019262', 'ORDO': 'ORDO:216', 'EFO': None, 'DO': 'DOID:14503, DOID:0110720, DOID:0110721, DOID:0110722, DOID:0110723, DOID:0110724, DOID:0110725, DOID:0110726, DOID:0110727, DOID:0110728, DOID:0110729, DOID:0110730, DOID:0110731, DOID:0110732, DOID:0110733', 'MESH': 'MESH:D009472', 'UMLS': 'UMLS:C0751383', 'disease_type': 'disease', 'score': 0.4, 'ei': 1.0, 'el': None}, {'disease_name': 'Adult Neuronal Ceroid Lipofuscinosis', 'HPO': None, 'NCI': None, 'OMIM': None, 'MONDO': 'MONDO:0008083, MONDO:0008767, MONDO:0008768, MONDO:0008769, MONDO:0016295, MONDO:0014147, MONDO:0009744, MONDO:0009745, MONDO:0012391, MONDO:0012414, MONDO:0011144, MONDO:0012588, MONDO:0010830, MONDO:0013866, MONDO:0012188, MONDO:0019260', 'ORDO': 'ORDO:216', 'EFO': None, 'DO': 'DOID:14503, DOID:0110720, DOID:0110721, DOID:0110722, DOID:0110723, DOID:0110724, DOID:0110725, DOID:0110726, DOID:0110727, DOID:0110728, DOID:0110729, DOID:0110730, DOID:0110731, DOID:0110732, DOID:0110733', 'MESH': 'MESH:D009472', 'UMLS': 'UMLS:C0022797', 'disease_type': 'disease', 'score': 0.4, 'ei': 1.0, 'el': None}, {'disease_name': 'Malignant Fibrous Histiocytoma', 'HPO': None, 'NCI': 'NCI:C4247', 'OMIM': None, 'MONDO': 'MONDO:0002142', 'ORDO': 'ORDO:2023', 'EFO': 'EFO:1001972', 'DO': 'DOID:1907', 'MESH': 'MESH:D051677', 'UMLS': 'UMLS:C0334463', 'disease_type': 'disease', 'score': 0.4, 'ei': nan, 'el': None}]"
        ]
       ],
       "shape": {
        "columns": 5,
        "rows": 2
       }
      },
      "text/html": [
       "<div>\n",
       "<style scoped>\n",
       "    .dataframe tbody tr th:only-of-type {\n",
       "        vertical-align: middle;\n",
       "    }\n",
       "\n",
       "    .dataframe tbody tr th {\n",
       "        vertical-align: top;\n",
       "    }\n",
       "\n",
       "    .dataframe thead th {\n",
       "        text-align: right;\n",
       "    }\n",
       "</style>\n",
       "<table border=\"1\" class=\"dataframe\">\n",
       "  <thead>\n",
       "    <tr style=\"text-align: right;\">\n",
       "      <th></th>\n",
       "      <th>identifier</th>\n",
       "      <th>identifier.source</th>\n",
       "      <th>target</th>\n",
       "      <th>target.source</th>\n",
       "      <th>DISGENET_diseases</th>\n",
       "    </tr>\n",
       "  </thead>\n",
       "  <tbody>\n",
       "    <tr>\n",
       "      <th>0</th>\n",
       "      <td>10000</td>\n",
       "      <td>Entrez Gene</td>\n",
       "      <td>10000</td>\n",
       "      <td>NCBI Gene</td>\n",
       "      <td>[{'disease_name': 'melanoma', 'HPO': 'HPO:HP:0...</td>\n",
       "    </tr>\n",
       "    <tr>\n",
       "      <th>1</th>\n",
       "      <td>10891</td>\n",
       "      <td>Entrez Gene</td>\n",
       "      <td>10891</td>\n",
       "      <td>NCBI Gene</td>\n",
       "      <td>[{'disease_name': 'Diabetes Mellitus, Non-Insu...</td>\n",
       "    </tr>\n",
       "  </tbody>\n",
       "</table>\n",
       "</div>"
      ],
      "text/plain": [
       "  identifier identifier.source target target.source  \\\n",
       "0      10000       Entrez Gene  10000     NCBI Gene   \n",
       "1      10891       Entrez Gene  10891     NCBI Gene   \n",
       "\n",
       "                                   DISGENET_diseases  \n",
       "0  [{'disease_name': 'melanoma', 'HPO': 'HPO:HP:0...  \n",
       "1  [{'disease_name': 'Diabetes Mellitus, Non-Insu...  "
      ]
     },
     "execution_count": 9,
     "metadata": {},
     "output_type": "execute_result"
    }
   ],
   "source": [
    "disgenet_df.head(2)"
   ]
  },
  {
   "cell_type": "markdown",
   "metadata": {},
   "source": [
    "### 3.2. Disease to compound annotation from OpenTargets"
   ]
  },
  {
   "cell_type": "code",
   "execution_count": 10,
   "metadata": {},
   "outputs": [
    {
     "data": {
      "application/vnd.microsoft.datawrangler.viewer.v0+json": {
       "columns": [
        {
         "name": "index",
         "rawType": "int64",
         "type": "integer"
        },
        {
         "name": "identifier",
         "rawType": "object",
         "type": "string"
        },
        {
         "name": "identifier.source",
         "rawType": "object",
         "type": "string"
        },
        {
         "name": "target",
         "rawType": "object",
         "type": "string"
        },
        {
         "name": "target.source",
         "rawType": "object",
         "type": "string"
        }
       ],
       "ref": "e2a2e34c-6b9d-4004-b148-99ff33ea3e0b",
       "rows": [
        [
         "0",
         "10000",
         "Entrez Gene",
         "EFO_0000756",
         "EFO"
        ],
        [
         "1",
         "10000",
         "Entrez Gene",
         "EFO_0000673",
         "EFO"
        ],
        [
         "2",
         "10000",
         "Entrez Gene",
         "EFO_0001663",
         "EFO"
        ],
        [
         "3",
         "10000",
         "Entrez Gene",
         "EFO_0000519",
         "EFO"
        ],
        [
         "5",
         "10000",
         "Entrez Gene",
         "EFO_0000349",
         "EFO"
        ]
       ],
       "shape": {
        "columns": 4,
        "rows": 5
       }
      },
      "text/html": [
       "<div>\n",
       "<style scoped>\n",
       "    .dataframe tbody tr th:only-of-type {\n",
       "        vertical-align: middle;\n",
       "    }\n",
       "\n",
       "    .dataframe tbody tr th {\n",
       "        vertical-align: top;\n",
       "    }\n",
       "\n",
       "    .dataframe thead th {\n",
       "        text-align: right;\n",
       "    }\n",
       "</style>\n",
       "<table border=\"1\" class=\"dataframe\">\n",
       "  <thead>\n",
       "    <tr style=\"text-align: right;\">\n",
       "      <th></th>\n",
       "      <th>identifier</th>\n",
       "      <th>identifier.source</th>\n",
       "      <th>target</th>\n",
       "      <th>target.source</th>\n",
       "    </tr>\n",
       "  </thead>\n",
       "  <tbody>\n",
       "    <tr>\n",
       "      <th>0</th>\n",
       "      <td>10000</td>\n",
       "      <td>Entrez Gene</td>\n",
       "      <td>EFO_0000756</td>\n",
       "      <td>EFO</td>\n",
       "    </tr>\n",
       "    <tr>\n",
       "      <th>1</th>\n",
       "      <td>10000</td>\n",
       "      <td>Entrez Gene</td>\n",
       "      <td>EFO_0000673</td>\n",
       "      <td>EFO</td>\n",
       "    </tr>\n",
       "    <tr>\n",
       "      <th>2</th>\n",
       "      <td>10000</td>\n",
       "      <td>Entrez Gene</td>\n",
       "      <td>EFO_0001663</td>\n",
       "      <td>EFO</td>\n",
       "    </tr>\n",
       "    <tr>\n",
       "      <th>3</th>\n",
       "      <td>10000</td>\n",
       "      <td>Entrez Gene</td>\n",
       "      <td>EFO_0000519</td>\n",
       "      <td>EFO</td>\n",
       "    </tr>\n",
       "    <tr>\n",
       "      <th>5</th>\n",
       "      <td>10000</td>\n",
       "      <td>Entrez Gene</td>\n",
       "      <td>EFO_0000349</td>\n",
       "      <td>EFO</td>\n",
       "    </tr>\n",
       "  </tbody>\n",
       "</table>\n",
       "</div>"
      ],
      "text/plain": [
       "  identifier identifier.source       target target.source\n",
       "0      10000       Entrez Gene  EFO_0000756           EFO\n",
       "1      10000       Entrez Gene  EFO_0000673           EFO\n",
       "2      10000       Entrez Gene  EFO_0001663           EFO\n",
       "3      10000       Entrez Gene  EFO_0000519           EFO\n",
       "5      10000       Entrez Gene  EFO_0000349           EFO"
      ]
     },
     "execution_count": 10,
     "metadata": {},
     "output_type": "execute_result"
    }
   ],
   "source": [
    "# Prepare the input to use DISGENET output as seed for OpenTargets\n",
    "disease_mapping_df = create_harmonized_input_file(\n",
    "    annotated_df=disgenet_df, target_col=Cons.DISGENET_DISEASE_COL, target_source=Cons.EFO\n",
    ")\n",
    "disease_mapping_df.head()"
   ]
  },
  {
   "cell_type": "code",
   "execution_count": 11,
   "metadata": {},
   "outputs": [
    {
     "name": "stderr",
     "output_type": "stream",
     "text": [
      "Processing diseases-drug interactions: 100%|██████████| 8/8 [00:05<00:00,  1.52it/s]\n",
      "Mapping PubChem:   1%|          | 1/181 [00:00<01:16,  2.35it/s]INFO:pyBiodatafuse.id_mapper:Issue with CHEMBL2108738\n",
      "Mapping PubChem:   1%|          | 2/181 [00:00<01:19,  2.26it/s]INFO:pyBiodatafuse.id_mapper:Issue with CHEMBL4297990\n",
      "Mapping PubChem:   3%|▎         | 6/181 [00:02<01:28,  1.97it/s]INFO:pyBiodatafuse.id_mapper:Issue with CHEMBL1201561\n",
      "Mapping PubChem:   5%|▍         | 9/181 [00:03<01:10,  2.43it/s]INFO:pyBiodatafuse.id_mapper:Issue with CHEMBL1201558\n",
      "Mapping PubChem:   6%|▌         | 10/181 [00:05<02:00,  1.42it/s]INFO:pyBiodatafuse.id_mapper:Issue with CHEMBL1789844\n",
      "Mapping PubChem:   6%|▌         | 11/181 [00:05<02:01,  1.39it/s]INFO:pyBiodatafuse.id_mapper:Issue with CHEMBL3137343\n",
      "Mapping PubChem:   7%|▋         | 12/181 [00:06<01:41,  1.67it/s]INFO:pyBiodatafuse.id_mapper:Issue with CHEMBL1201438\n",
      "Mapping PubChem:  14%|█▍        | 26/181 [00:13<00:54,  2.83it/s]INFO:pyBiodatafuse.id_mapper:Issue with CHEMBL1201583\n",
      "Mapping PubChem:  17%|█▋        | 30/181 [00:14<00:43,  3.49it/s]INFO:pyBiodatafuse.id_mapper:Issue with CHEMBL2107863\n",
      "Mapping PubChem:  17%|█▋        | 31/181 [00:14<00:44,  3.37it/s]INFO:pyBiodatafuse.id_mapper:Issue with CHEMBL2108359\n",
      "Mapping PubChem:  18%|█▊        | 33/181 [00:15<00:47,  3.12it/s]INFO:pyBiodatafuse.id_mapper:Issue with CHEMBL2108583\n",
      "Mapping PubChem:  20%|█▉        | 36/181 [00:16<00:38,  3.79it/s]INFO:pyBiodatafuse.id_mapper:Issue with CHEMBL3707277\n",
      "Mapping PubChem:  24%|██▍       | 43/181 [00:21<01:43,  1.33it/s]INFO:pyBiodatafuse.id_mapper:Issue with CHEMBL1743027\n",
      "Mapping PubChem:  37%|███▋      | 67/181 [00:28<00:33,  3.44it/s]INFO:pyBiodatafuse.id_mapper:Issue with CHEMBL2108955\n",
      "Mapping PubChem:  39%|███▉      | 71/181 [00:30<00:38,  2.87it/s]INFO:pyBiodatafuse.id_mapper:Issue with CHEMBL4298124\n",
      "Mapping PubChem:  40%|███▉      | 72/181 [00:30<00:37,  2.91it/s]INFO:pyBiodatafuse.id_mapper:Issue with CHEMBL1201649\n",
      "Mapping PubChem:  45%|████▌     | 82/181 [00:34<00:38,  2.60it/s]INFO:pyBiodatafuse.id_mapper:Issue with CHEMBL136478\n",
      "Mapping PubChem:  60%|██████    | 109/181 [00:42<00:24,  2.99it/s]INFO:pyBiodatafuse.id_mapper:Issue with CHEMBL191\n",
      "Mapping PubChem:  61%|██████▏   | 111/181 [00:42<00:24,  2.89it/s]INFO:pyBiodatafuse.id_mapper:Issue with CHEMBL2108724\n",
      "Mapping PubChem:  66%|██████▌   | 119/181 [00:46<00:29,  2.10it/s]INFO:pyBiodatafuse.id_mapper:Issue with CHEMBL2108791\n",
      "Mapping PubChem:  75%|███████▍  | 135/181 [01:01<01:01,  1.33s/it]INFO:pyBiodatafuse.id_mapper:Issue with CHEMBL1742982\n",
      "Mapping PubChem:  75%|███████▌  | 136/181 [01:02<01:02,  1.38s/it]INFO:pyBiodatafuse.id_mapper:Issue with CHEMBL1201825\n",
      "Mapping PubChem:  76%|███████▌  | 137/181 [01:03<00:55,  1.27s/it]INFO:pyBiodatafuse.id_mapper:Issue with CHEMBL3707357\n",
      "Mapping PubChem:  76%|███████▌  | 138/181 [01:03<00:43,  1.01s/it]INFO:pyBiodatafuse.id_mapper:Issue with CHEMBL1201421\n",
      "Mapping PubChem:  77%|███████▋  | 139/181 [01:04<00:34,  1.22it/s]INFO:pyBiodatafuse.id_mapper:Issue with CHEMBL4297750\n",
      "Mapping PubChem:  83%|████████▎ | 151/181 [01:08<00:16,  1.81it/s]INFO:pyBiodatafuse.id_mapper:Issue with CHEMBL4297829\n",
      "Mapping PubChem:  85%|████████▌ | 154/181 [01:09<00:10,  2.47it/s]INFO:pyBiodatafuse.id_mapper:Issue with CHEMBL4297843\n",
      "Mapping PubChem:  87%|████████▋ | 157/181 [01:12<00:20,  1.19it/s]INFO:pyBiodatafuse.id_mapper:Issue with CHEMBL2108658\n",
      "Mapping PubChem:  91%|█████████ | 165/181 [01:14<00:07,  2.28it/s]INFO:pyBiodatafuse.id_mapper:Issue with CHEMBL4297877\n",
      "Mapping PubChem: 100%|██████████| 181/181 [01:20<00:00,  2.26it/s]\n"
     ]
    }
   ],
   "source": [
    "opentarget_path = f\"{EXAMPLE_DIR}/opentarget_cmpd.pkl\"\n",
    "opentarget_metadata_path = f\"{EXAMPLE_DIR}/opentarget_cmpd_metadata.pkl\"\n",
    "\n",
    "if not os.path.exists(opentarget_path):\n",
    "    opentargets_df, opentargets_metadata = ann.opentargets.get_disease_compound_interactions(\n",
    "        disease_mapping_df\n",
    "    )\n",
    "    opentargets_df.to_pickle(opentarget_path)\n",
    "    with open(opentarget_metadata_path, \"wb\") as file:\n",
    "        pickle.dump(opentargets_metadata, file)\n",
    "else:\n",
    "    opentargets_df = pd.read_pickle(opentarget_path)\n",
    "    with open(opentarget_metadata_path, \"rb\") as file:\n",
    "        opentargets_metadata = pickle.load(file)"
   ]
  },
  {
   "cell_type": "markdown",
   "metadata": {},
   "source": [
    "## 4. Pathways and Gene Ontology terms\n",
    "### 4.1. Pathways from MINERVA"
   ]
  },
  {
   "cell_type": "code",
   "execution_count": null,
   "metadata": {},
   "outputs": [
    {
     "name": "stderr",
     "output_type": "stream",
     "text": [
      "INFO:pyBiodatafuse.annotators.minerva:Getting minerva components\n"
     ]
    }
   ],
   "source": [
    "minerva_path = f\"{EXAMPLE_DIR}/minerva.pkl\"\n",
    "minerva_metadata_path = f\"{EXAMPLE_DIR}/minerva_metadata.pkl\"\n",
    "\n",
    "if not os.path.exists(minerva_path):\n",
    "    minerva_df, minerva_metadata = ann.minerva.get_gene_pathways(\n",
    "        bridgedb_df, map_name=\"COVID19 Disease Map\"\n",
    "    )\n",
    "    minerva_df.to_pickle(minerva_path)\n",
    "    with open(minerva_metadata_path, \"wb\") as file:\n",
    "        pickle.dump(minerva_metadata, file)\n",
    "\n",
    "else:\n",
    "    minerva_df = pd.read_pickle(minerva_path)\n",
    "    with open(minerva_metadata_path, \"rb\") as file:\n",
    "        minerva_metadata = pickle.load(file)"
   ]
  },
  {
   "cell_type": "code",
   "execution_count": null,
   "metadata": {},
   "outputs": [],
   "source": [
    "minerva_df.head(2)"
   ]
  },
  {
   "cell_type": "markdown",
   "metadata": {},
   "source": [
    "### 4.2. Pathways from WikiPathways"
   ]
  },
  {
   "cell_type": "code",
   "execution_count": null,
   "metadata": {},
   "outputs": [],
   "source": [
    "wikipathways_path = f\"{EXAMPLE_DIR}/wikipathways.pkl\"\n",
    "wikipathways_metadata_path = f\"{EXAMPLE_DIR}/wikipathways_metadata.pkl\"\n",
    "\n",
    "if not os.path.exists(wikipathways_path):\n",
    "    wikipathways_df, wikipathways_metadata = ann.wikipathways.get_gene_wikipathways(\n",
    "        bridgedb_df=bridgedb_df\n",
    "    )\n",
    "    wikipathways_df.to_pickle(wikipathways_path)\n",
    "    with open(wikipathways_metadata_path, \"wb\") as file:\n",
    "        pickle.dump(wikipathways_metadata, file)\n",
    "\n",
    "else:\n",
    "    wikipathways_df = pd.read_pickle(wikipathways_path)\n",
    "    with open(wikipathways_metadata_path, \"rb\") as file:\n",
    "        wikipathways_metadata = pickle.load(file)"
   ]
  },
  {
   "cell_type": "code",
   "execution_count": null,
   "metadata": {},
   "outputs": [],
   "source": [
    "# Compound-gene interactions\n",
    "wikipathways_molecular_path = f\"{EXAMPLE_DIR}/wikipathways_molecular.pkl\"\n",
    "wikipathways_molecular_metadata_path = f\"{EXAMPLE_DIR}/wikipathways_molecular_metadata.pkl\"\n",
    "\n",
    "if not os.path.exists(wikipathways_molecular_path):\n",
    "    wikipathways_molecular_df, wikipathways_molecular_metadata = (\n",
    "        ann.wikipathways.get_gene_wikipathways(bridgedb_df=bridgedb_df, query_interactions=True)\n",
    "    )\n",
    "    wikipathways_molecular_df.to_pickle(wikipathways_molecular_path)\n",
    "    with open(wikipathways_molecular_metadata_path, \"wb\") as file:\n",
    "        pickle.dump(wikipathways_molecular_metadata, file)\n",
    "else:\n",
    "    wikipathways_molecular_df = pd.read_pickle(wikipathways_molecular_path)\n",
    "    with open(wikipathways_molecular_metadata_path, \"rb\") as file:\n",
    "        wikipathways_molecular_metadata = pickle.load(file)"
   ]
  },
  {
   "cell_type": "code",
   "execution_count": null,
   "metadata": {},
   "outputs": [],
   "source": [
    "wikipathways_molecular_df.head(2)"
   ]
  },
  {
   "cell_type": "markdown",
   "metadata": {},
   "source": [
    "### 4.3. Reactome pathways from OpenTargets"
   ]
  },
  {
   "cell_type": "code",
   "execution_count": null,
   "metadata": {},
   "outputs": [],
   "source": [
    "opentargets_reactome_path = f\"{EXAMPLE_DIR}/opentargets_reactome.pkl\"\n",
    "opentargets_reactome_metadata_path = f\"{EXAMPLE_DIR}/opentargets_reactome_metadata.pkl\"\n",
    "\n",
    "\n",
    "if not os.path.exists(opentargets_reactome_path):\n",
    "    opentargets_reactome_df, opentargets_reactome_metadata = (\n",
    "        ann.opentargets.get_gene_reactome_pathways(bridgedb_df=bridgedb_df)\n",
    "    )\n",
    "    opentargets_reactome_df.to_pickle(opentargets_reactome_path)\n",
    "    with open(opentargets_reactome_metadata_path, \"wb\") as file:\n",
    "        pickle.dump(opentargets_reactome_metadata, file)\n",
    "else:\n",
    "    opentargets_reactome_df = pd.read_pickle(opentargets_reactome_path)\n",
    "    with open(opentargets_reactome_metadata_path, \"rb\") as file:\n",
    "        opentargets_reactome_metadata = pickle.load(file)"
   ]
  },
  {
   "cell_type": "code",
   "execution_count": null,
   "metadata": {},
   "outputs": [],
   "source": [
    "opentargets_reactome_df.head(2)"
   ]
  },
  {
   "cell_type": "markdown",
   "metadata": {},
   "source": [
    "### 4.4. Gene Ontology from OpenTargets"
   ]
  },
  {
   "cell_type": "code",
   "execution_count": null,
   "metadata": {},
   "outputs": [],
   "source": [
    "opentargets_go_path = f\"{EXAMPLE_DIR}/opentargets_go.pkl\"\n",
    "opentargets_go_metadata_path = f\"{EXAMPLE_DIR}/opentargets_go_metadata.pkl\"\n",
    "\n",
    "if not os.path.exists(opentargets_go_path):\n",
    "    opentargets_go_df, opentargets_go_metadata = ann.opentargets.get_gene_go_process(\n",
    "        bridgedb_df=bridgedb_df\n",
    "    )\n",
    "    opentargets_go_df.to_pickle(opentargets_go_path)\n",
    "    with open(opentargets_go_metadata_path, \"wb\") as file:\n",
    "        pickle.dump(opentargets_go_metadata, file)\n",
    "else:\n",
    "    opentargets_go_df = pd.read_pickle(opentargets_go_path)\n",
    "    with open(opentargets_go_metadata_path, \"rb\") as file:\n",
    "        opentargets_go_metadata = pickle.load(file)"
   ]
  },
  {
   "cell_type": "markdown",
   "metadata": {},
   "source": [
    "### 4.5. Adverse Outcome Pathways from AOP-Wiki RDF"
   ]
  },
  {
   "cell_type": "code",
   "execution_count": null,
   "metadata": {},
   "outputs": [],
   "source": [
    "aopwiki_path = f\"{EXAMPLE_DIR}/aopwiki.pkl\"\n",
    "aopwiki_metadata_path = f\"{EXAMPLE_DIR}/aopwiki_metadata.pkl\"\n",
    "\n",
    "if not os.path.exists(aopwiki_path):\n",
    "    aopwiki_df, aopwiki_metadata = ann.aopwiki.get_aops(\n",
    "        bridgedb_df=bridgedb_df,\n",
    "    )\n",
    "    aopwiki_df.to_pickle(aopwiki_path)\n",
    "    with open(aopwiki_metadata_path, \"wb\") as file:\n",
    "        pickle.dump(aopwiki_metadata, file)\n",
    "else:\n",
    "    aopwiki_df = pd.read_pickle(aopwiki_path)\n",
    "    with open(aopwiki_metadata_path, \"rb\") as file:\n",
    "        aopwiki_metadata = pickle.load(file)"
   ]
  },
  {
   "cell_type": "code",
   "execution_count": null,
   "metadata": {},
   "outputs": [],
   "source": [
    "aopwiki_df.head(2)"
   ]
  },
  {
   "cell_type": "markdown",
   "metadata": {},
   "source": [
    "## 5. Compound annotation\n",
    "### 5.1. Compound annotation from OpenTargets"
   ]
  },
  {
   "cell_type": "code",
   "execution_count": null,
   "metadata": {},
   "outputs": [],
   "source": [
    "opentargets_gene_path = f\"{EXAMPLE_DIR}/opentargets_gene_cmpd.pkl\"\n",
    "opentargets_gene_metadata_path = f\"{EXAMPLE_DIR}/opentargets_gene_cmpd_metadata.pkl\"\n",
    "\n",
    "if not os.path.exists(opentargets_gene_path):\n",
    "    opentargets_compound_df, opentargets_compound_metadata = (\n",
    "        ann.opentargets.get_gene_compound_interactions(bridgedb_df=bridgedb_df)\n",
    "    )\n",
    "    opentargets_compound_df.to_pickle(opentargets_gene_path)\n",
    "    with open(opentargets_gene_metadata_path, \"wb\") as file:\n",
    "        pickle.dump(opentargets_compound_metadata, file)\n",
    "\n",
    "else:\n",
    "    opentargets_compound_df = pd.read_pickle(opentargets_gene_path)\n",
    "    with open(opentargets_gene_metadata_path, \"rb\") as file:\n",
    "        opentargets_compound_metadata = pickle.load(file)"
   ]
  },
  {
   "cell_type": "markdown",
   "metadata": {},
   "source": [
    "### 5.2. Screening results of compounds on proteins encoded by genes annotation by PubChem"
   ]
  },
  {
   "cell_type": "code",
   "execution_count": null,
   "metadata": {},
   "outputs": [],
   "source": [
    "pubchem_path = f\"{EXAMPLE_DIR}/pubchem.pkl\"\n",
    "pubchem_metadata_path = f\"{EXAMPLE_DIR}/pubchem_metadata.pkl\"\n",
    "\n",
    "if not os.path.exists(pubchem_path):\n",
    "    pubchem_assay_df, pubchem_assay_metadata = ann.pubchem.get_protein_compound_screened(\n",
    "        bridgedb_df=bridgedb_df\n",
    "    )\n",
    "    pubchem_assay_df.to_pickle(pubchem_path)\n",
    "    with open(pubchem_metadata_path, \"wb\") as file:\n",
    "        pickle.dump(pubchem_assay_metadata, file)\n",
    "\n",
    "else:\n",
    "    pubchem_assay_df = pd.read_pickle(pubchem_path)\n",
    "    with open(pubchem_metadata_path, \"rb\") as file:\n",
    "        pubchem_assay_metadata = pickle.load(file)"
   ]
  },
  {
   "cell_type": "code",
   "execution_count": null,
   "metadata": {},
   "outputs": [],
   "source": [
    "pubchem_assay_df.head(2)"
   ]
  },
  {
   "cell_type": "markdown",
   "metadata": {},
   "source": [
    "### 5.3 Transporter inhibitor annotation from MolMeDB"
   ]
  },
  {
   "cell_type": "code",
   "execution_count": null,
   "metadata": {},
   "outputs": [],
   "source": [
    "molmedb_path = f\"{EXAMPLE_DIR}/molmedb.pkl\"\n",
    "molmedb_metadata_path = f\"{EXAMPLE_DIR}/molmedb_metadata.pkl\"\n",
    "\n",
    "if not os.path.exists(molmedb_path):\n",
    "    inhibitor_df, inhibitor_metadata = ann.molmedb.get_gene_compound_inhibitor(\n",
    "        bridgedb_df=bridgedb_df\n",
    "    )\n",
    "    inhibitor_df.to_pickle(molmedb_path)\n",
    "    with open(molmedb_metadata_path, \"wb\") as file:\n",
    "        pickle.dump(inhibitor_metadata, file)\n",
    "else:\n",
    "    inhibitor_df = pd.read_pickle(molmedb_path)\n",
    "    with open(molmedb_metadata_path, \"rb\") as file:\n",
    "        inhibitor_metadata = pickle.load(file)"
   ]
  },
  {
   "cell_type": "markdown",
   "metadata": {},
   "source": [
    "> **NOTE**: No output for this database."
   ]
  },
  {
   "cell_type": "markdown",
   "metadata": {},
   "source": [
    "## 6. Protein-Protein Interactions\n",
    "\n",
    "### 6.1. Protein-Protein Interactions from STRING"
   ]
  },
  {
   "cell_type": "code",
   "execution_count": null,
   "metadata": {},
   "outputs": [],
   "source": [
    "string_path = f\"{EXAMPLE_DIR}/string.pkl\"\n",
    "string_metadata_path = f\"{EXAMPLE_DIR}/string_metadata.pkl\"\n",
    "\n",
    "if not os.path.exists(string_path):\n",
    "    ppi_df, ppi_metadata = ann.stringdb.get_ppi(bridgedb_df=bridgedb_df)\n",
    "    ppi_df.to_pickle(string_path)\n",
    "    with open(string_metadata_path, \"wb\") as file:\n",
    "        pickle.dump(ppi_metadata, file)\n",
    "else:\n",
    "    ppi_df = pd.read_pickle(string_path)\n",
    "    with open(string_metadata_path, \"rb\") as file:\n",
    "        ppi_metadata = pickle.load(file)"
   ]
  },
  {
   "cell_type": "markdown",
   "metadata": {},
   "source": [
    "> **NOTE:** - No interactions between the genes found"
   ]
  },
  {
   "cell_type": "markdown",
   "metadata": {},
   "source": [
    "## 7. Graph generation \n",
    "\n",
    "### 7.1. Combine all data and metadata"
   ]
  },
  {
   "cell_type": "code",
   "execution_count": null,
   "metadata": {},
   "outputs": [],
   "source": [
    "combined_df_path = f\"{EXAMPLE_DIR}/combined_df.pkl\"\n",
    "disease_compound_df_path = f\"{EXAMPLE_DIR}/disease_compound_df.pkl\"\n",
    "\n",
    "if not os.path.exists(combined_df_path):\n",
    "    combined_df = combine_sources(\n",
    "        bridgedb_df,\n",
    "        [\n",
    "            bgee_df,\n",
    "            disgenet_df,\n",
    "            minerva_df,\n",
    "            wikipathways_df,\n",
    "            wikipathways_molecular_df,\n",
    "            opentargets_reactome_df,\n",
    "            opentargets_go_df,\n",
    "            aopwiki_df,\n",
    "            opentargets_compound_df,\n",
    "            pubchem_assay_df,\n",
    "            inhibitor_df,\n",
    "            ppi_df,\n",
    "        ],\n",
    "    )\n",
    "    combined_df.to_pickle(combined_df_path)\n",
    "    opentargets_df.to_pickle(disease_compound_df_path)\n",
    "\n",
    "else:\n",
    "    combined_df = pd.read_pickle(combined_df_path)\n",
    "    opentargets_df = pd.read_pickle(disease_compound_df_path)"
   ]
  },
  {
   "cell_type": "code",
   "execution_count": null,
   "metadata": {},
   "outputs": [],
   "source": [
    "combined_metadata = create_or_append_to_metadata(\n",
    "    bridgedb_metadata,\n",
    "    [\n",
    "        bgee_metadata,\n",
    "        disgenet_metadata,\n",
    "        opentargets_metadata,\n",
    "        opentargets_compound_metadata,\n",
    "        inhibitor_metadata,\n",
    "        pubchem_assay_metadata,\n",
    "        ppi_metadata,\n",
    "        wikipathways_metadata,\n",
    "        minerva_metadata,\n",
    "        opentargets_reactome_metadata,\n",
    "        opentargets_go_metadata,\n",
    "        aopwiki_metadata,\n",
    "        wikipathways_molecular_metadata,\n",
    "    ],\n",
    ")"
   ]
  },
  {
   "cell_type": "code",
   "execution_count": null,
   "metadata": {},
   "outputs": [],
   "source": [
    "combined_df.head()"
   ]
  },
  {
   "cell_type": "markdown",
   "metadata": {},
   "source": [
    "### 7.2. Create a graph from the annotated dataframe"
   ]
  },
  {
   "cell_type": "code",
   "execution_count": null,
   "metadata": {},
   "outputs": [],
   "source": [
    "pygraph = save_graph(\n",
    "    combined_df=combined_df,\n",
    "    combined_metadata=combined_metadata,\n",
    "    disease_compound=opentargets_df,\n",
    "    graph_name=\"gene_to_graph\",\n",
    "    graph_dir=EXAMPLE_DIR,\n",
    ")"
   ]
  },
  {
   "cell_type": "code",
   "execution_count": null,
   "metadata": {},
   "outputs": [],
   "source": [
    "# Check the node types in the graph\n",
    "\n",
    "node_types = set()\n",
    "for node, node_data in pygraph.nodes(data=True):\n",
    "    node_types.add(node_data[Cons.LABEL])\n",
    "\n",
    "print(node_types)"
   ]
  },
  {
   "cell_type": "markdown",
   "metadata": {},
   "source": [
    "### 7.3. Neo4j\n",
    "\n",
    "Make sure you have the desktop version open and have a user login and password. \n",
    "\n",
    "If you receive the error: `AuthError: {code: Neo.ClientError.Security.Unauthorized} {message: The client is unauthorized due to authentication failure.}`, please make sure you change disable authentication in the config file (dbms.security.auth_enabled=false). See [here](https://stackoverflow.com/questions/53687901/neo4j-cant-log-in-neo-clienterror-security-unauthorized-the-client-is-unauth)"
   ]
  },
  {
   "cell_type": "code",
   "execution_count": null,
   "metadata": {},
   "outputs": [],
   "source": [
    "from pyBiodatafuse.graph import neo4j\n",
    "\n",
    "neo4j.load_graph(\n",
    "    pygraph, uri=\"bolt://localhost:7687\", username=\"test\", password=\"password\"\n",
    ")  # change username and password"
   ]
  },
  {
   "cell_type": "markdown",
   "metadata": {},
   "source": [
    "### 7.4. Cytoscape\n",
    "Make sure that the Cytoscape is open."
   ]
  },
  {
   "cell_type": "code",
   "execution_count": null,
   "metadata": {},
   "outputs": [],
   "source": [
    "import logging\n",
    "\n",
    "import py4cytoscape as p4c\n",
    "\n",
    "from pyBiodatafuse.graph import cytoscape\n",
    "\n",
    "# Disable all logging for py4cytoscape\n",
    "logging.disable(logging.CRITICAL)  # Disable all logging\n",
    "cytoscape.load_graph(pygraph, network_name=\"Gene-Graph example\")  # Load the graph into Cytoscape"
   ]
  },
  {
   "cell_type": "code",
   "execution_count": null,
   "metadata": {},
   "outputs": [],
   "source": [
    "p4c.notebook_export_show_image()"
   ]
  },
  {
   "cell_type": "markdown",
   "metadata": {},
   "source": [
    "### 7.5. RDF"
   ]
  },
  {
   "cell_type": "code",
   "execution_count": null,
   "metadata": {},
   "outputs": [],
   "source": [
    "# Instantiate a BDFGraph\n",
    "bdf = BDFGraph(\n",
    "    base_uri=\"https://biodatafuse.org/example/\",\n",
    "    version_iri=\"https://biodatafuse.org/example/test.owl\",\n",
    "    orcid=\"https://orcid.org/0000-0002-4166-7093\",\n",
    "    author=\"Javier Millan Acosta\",\n",
    ")\n",
    "\n",
    "bdf.generate_rdf(combined_df, combined_metadata)  # Generate the RDF from the (meta)data"
   ]
  },
  {
   "cell_type": "code",
   "execution_count": null,
   "metadata": {},
   "outputs": [],
   "source": [
    "bdf.serialize(\n",
    "    os.path.join(\n",
    "        base_dir,\n",
    "        \"data\",\n",
    "        \"gene_to_graph_workflow\",\n",
    "        \"BDF_example_graph.ttl\",\n",
    "    ),\n",
    "    format=\"ttl\",\n",
    ")"
   ]
  },
  {
   "cell_type": "markdown",
   "metadata": {},
   "source": [
    "##### 7.5.1. Generate prefixes SHACL\n",
    "\n",
    "SHACL graphs defining namespaces and prefixes can be loaded into SPARQL endpoints to avoid having to declare prefixes in the query."
   ]
  },
  {
   "cell_type": "code",
   "execution_count": null,
   "metadata": {},
   "outputs": [],
   "source": [
    "# Use without parameters (defaults, does not save file)\n",
    "bdf.shacl_prefixes()\n",
    "# or Use with parameters\n",
    "bdf.shacl_prefixes(\n",
    "    path=os.path.join(\n",
    "        base_dir,\n",
    "        \"examples\",\n",
    "        \"data\",\n",
    "        \"gene_to_graph_workflow\",\n",
    "        \"gene_to_graph_workflow\",\n",
    "        \"BDF_prefixes.ttl\",\n",
    "    ),\n",
    "    namespaces=None,  # Optional, add more namespaces with a dictionary of {prefix:namespace,}\n",
    ")"
   ]
  },
  {
   "cell_type": "markdown",
   "metadata": {},
   "source": [
    "##### 7.5.2. Use [`shexer`](https://github.com/DaniFdezAlvarez/shexer/) to retrieve the RDF shapes\n",
    "\n",
    "The `shexer` library is used to retrieve the shapes of the graph in SHACL (https://www.w3.org/TR/shacl/) and ShEx (https://shex.io/shex-semantics/).\n",
    "\n",
    "- **SHACL**"
   ]
  },
  {
   "cell_type": "code",
   "execution_count": null,
   "metadata": {},
   "outputs": [],
   "source": [
    "# Use without parameters (defaults)\n",
    "# bdf.shacl()\n",
    "\n",
    "# Or use with parameters\n",
    "bdf.shacl(\n",
    "    path=os.path.join(\n",
    "        base_dir,\n",
    "        \"data\",\n",
    "        \"gene_to_graph_workflow\",\n",
    "        \"BDF_example_shacl.ttl\",\n",
    "    ),  # Set a path for TTL serialization\n",
    "    threshold=0.001,\n",
    "    uml_figure_path=os.path.join(\n",
    "        base_dir,\n",
    "        \"data\",\n",
    "        \"gene_to_graph_workflow\",\n",
    "        \"BDF_example_shacl.png\",\n",
    "    ),  # Set a path for diagram\n",
    ")\n",
    "\n",
    "# Display the UML figure\n",
    "display(\n",
    "    Image(\n",
    "        os.path.join(\n",
    "            base_dir,\n",
    "            \"data\",\n",
    "            \"gene_to_graph_workflow\",\n",
    "            \"BDF_example_shacl.png\",\n",
    "        )\n",
    "    )\n",
    ")"
   ]
  },
  {
   "cell_type": "markdown",
   "metadata": {},
   "source": [
    "- **ShEx**"
   ]
  },
  {
   "cell_type": "code",
   "execution_count": null,
   "metadata": {},
   "outputs": [],
   "source": [
    "# Use without parameters (defaults)\n",
    "# bdf.shex()\n",
    "\n",
    "# Or use with parameters\n",
    "bdf.shex(\n",
    "    path=os.path.join(\n",
    "        base_dir,\n",
    "        \"data\",\n",
    "        \"gene_to_graph_workflow\",\n",
    "        \"BDF_example_shex.ttl\",\n",
    "    ),  # Set a path for TTL serialization\n",
    "    threshold=0.001,\n",
    "    uml_figure_path=os.path.join(\n",
    "        base_dir,\n",
    "        \"data\",\n",
    "        \"gene_to_graph_workflow\",\n",
    "        \"BDF_example_shex.png\",\n",
    "    ),  # Set a path for diagram\n",
    ")\n",
    "\n",
    "# Display the UML figure\n",
    "display(\n",
    "    Image(\n",
    "        os.path.join(\n",
    "            base_dir,\n",
    "            \"data\",\n",
    "            \"gene_to_graph_workflow\",\n",
    "            \"BDF_example_shex.png\",\n",
    "        )\n",
    "    )\n",
    ")"
   ]
  },
  {
   "cell_type": "markdown",
   "metadata": {},
   "source": [
    "##### 7.5.3 Set up a GraphDB instance\n",
    "- Download the latest version of GraphDB from https://graphdb.ontotext.com//\n",
    "- Run from a direct access or terminal\n",
    "- Open the GraphDB Workbench in your web browser by navigating to `http://localhost:7200`\n",
    "\n",
    "The `GraphDBManager` allows you to perform simple operations on the your GraphDB location, such as creating a new repository, deleting a repository, importing RDF data into a repository, querying the loaded graphs and retrieving visualizations. For more advanced operations, you can use the GraphDB Workbench or the GraphDB API."
   ]
  },
  {
   "cell_type": "markdown",
   "metadata": {},
   "source": [
    "- Create a new repository"
   ]
  },
  {
   "cell_type": "code",
   "execution_count": null,
   "metadata": {},
   "outputs": [],
   "source": [
    "# GraphDB configuration\n",
    "base_url = \"http://localhost:7200\"\n",
    "repository_name = \"gene_to_graph_workflow\"\n",
    "username = \"admin\"\n",
    "password = \"root\"\n",
    "\n",
    "print(\"Creating repository...\")\n",
    "GraphDBManager.create_repository(base_url, repository_name, username, password)\n",
    "\n",
    "print(\"Listing repositories...\")\n",
    "repositories = GraphDBManager.list_repositories(base_url, username, password)\n",
    "print(\"Repositories:\", repositories)"
   ]
  },
  {
   "cell_type": "markdown",
   "metadata": {},
   "source": [
    "- Load the RDF data into the repository"
   ]
  },
  {
   "cell_type": "code",
   "execution_count": null,
   "metadata": {},
   "outputs": [],
   "source": [
    "print(\"Uploading RDF graph to GraphDB...\")\n",
    "GraphDBManager.upload_to_graphdb(\n",
    "    base_url, repository_name, username, password, bdf, file_format=\"turtle\"\n",
    ")\n",
    "print(\"Counting triples in the repository...\")\n",
    "triple_count = GraphDBManager.count_triples(base_url, repository_name, username, password)\n",
    "print(f\"Triple count: {str(triple_count)}\")"
   ]
  },
  {
   "cell_type": "markdown",
   "metadata": {},
   "source": [
    "- Load the prefixes SHACL graph into the repository"
   ]
  },
  {
   "cell_type": "code",
   "execution_count": null,
   "metadata": {},
   "outputs": [],
   "source": [
    "print(\"Uploading Prefixes SHACL graph to GraphDB...\")\n",
    "GraphDBManager.upload_to_graphdb(\n",
    "    base_url,\n",
    "    repository_name,\n",
    "    username,\n",
    "    password,\n",
    "    bdf.shacl_prefixes(),\n",
    ")\n",
    "print(\"Counting triples in the repository...\")\n",
    "triple_count = GraphDBManager.count_triples(base_url, repository_name, username, password)\n",
    "print(f\"Triple count: {str(triple_count)}\")"
   ]
  },
  {
   "cell_type": "markdown",
   "metadata": {},
   "source": [
    "- Delete the repository"
   ]
  },
  {
   "cell_type": "code",
   "execution_count": null,
   "metadata": {},
   "outputs": [],
   "source": [
    "print(\"Deleting repository...\")\n",
    "repositories = GraphDBManager.list_repositories(base_url, username, password)\n",
    "print(\"Repositories:\", repositories)\n",
    "GraphDBManager.delete_repository(base_url, repository_name, username, password)\n",
    "print(\"Listing repositories...\")\n",
    "repositories = GraphDBManager.list_repositories(base_url, username, password)\n",
    "print(\"Repositories:\", repositories)"
   ]
  },
  {
   "cell_type": "code",
   "execution_count": null,
   "metadata": {},
   "outputs": [],
   "source": []
  }
 ],
 "metadata": {
  "kernelspec": {
   "display_name": "pybiodatafuse",
   "language": "python",
   "name": "python3"
  },
  "language_info": {
   "codemirror_mode": {
    "name": "ipython",
    "version": 3
   },
   "file_extension": ".py",
   "mimetype": "text/x-python",
   "name": "python",
   "nbconvert_exporter": "python",
   "pygments_lexer": "ipython3",
   "version": "3.10.16"
  }
 },
 "nbformat": 4,
 "nbformat_minor": 4
}
