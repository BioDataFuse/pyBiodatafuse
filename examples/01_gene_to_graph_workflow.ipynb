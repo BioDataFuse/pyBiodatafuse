{
 "cells": [
  {
   "cell_type": "markdown",
   "metadata": {},
   "source": [
    "# Gene-to-graph workflow\n",
    "\n",
    "This notebook showcases the steps to generate the BioDataFuse data and graph serializations from a list of genes.\n"
   ]
  },
  {
   "cell_type": "code",
   "execution_count": 1,
   "metadata": {},
   "outputs": [
    {
     "name": "stderr",
     "output_type": "stream",
     "text": [
      "/opt/anaconda3/envs/pybiodatafuse/lib/python3.10/site-packages/tqdm/auto.py:21: TqdmWarning: IProgress not found. Please update jupyter and ipywidgets. See https://ipywidgets.readthedocs.io/en/stable/user_install.html\n",
      "  from .autonotebook import tqdm as notebook_tqdm\n"
     ]
    }
   ],
   "source": [
    "# Import modules\n",
    "import os\n",
    "import pickle\n",
    "\n",
    "import pandas as pd\n",
    "from IPython.display import Image, display\n",
    "\n",
    "from pyBiodatafuse import id_mapper\n",
    "from pyBiodatafuse.annotators import (\n",
    "    bgee,\n",
    "    disgenet,\n",
    "    minerva,\n",
    "    molmedb,\n",
    "    opentargets,\n",
    "    pubchem,\n",
    "    stringdb,\n",
    "    wikipathways,\n",
    ")\n",
    "from pyBiodatafuse.graph import generator\n",
    "from pyBiodatafuse.graph.rdf import BDFGraph\n",
    "from pyBiodatafuse.graph.saver import save_graph\n",
    "from pyBiodatafuse.utils import (\n",
    "    combine_sources,\n",
    "    create_harmonized_input_file,\n",
    "    create_or_append_to_metadata,\n",
    ")"
   ]
  },
  {
   "cell_type": "markdown",
   "metadata": {},
   "source": [
    "## 1. Entity resolution with BridgeDB\n",
    "\n",
    "The first step is to input the list of genes to query and retrieve their protein target and synonym identifiers using BridgeDB."
   ]
  },
  {
   "cell_type": "markdown",
   "metadata": {},
   "source": [
    "### 1.1. Load the input list and convert it to a dataframe"
   ]
  },
  {
   "cell_type": "code",
   "execution_count": 2,
   "metadata": {},
   "outputs": [
    {
     "data": {
      "text/html": [
       "<div>\n",
       "<style scoped>\n",
       "    .dataframe tbody tr th:only-of-type {\n",
       "        vertical-align: middle;\n",
       "    }\n",
       "\n",
       "    .dataframe tbody tr th {\n",
       "        vertical-align: top;\n",
       "    }\n",
       "\n",
       "    .dataframe thead th {\n",
       "        text-align: right;\n",
       "    }\n",
       "</style>\n",
       "<table border=\"1\" class=\"dataframe\">\n",
       "  <thead>\n",
       "    <tr style=\"text-align: right;\">\n",
       "      <th></th>\n",
       "      <th>identifier</th>\n",
       "    </tr>\n",
       "  </thead>\n",
       "  <tbody>\n",
       "    <tr>\n",
       "      <th>0</th>\n",
       "      <td>7350</td>\n",
       "    </tr>\n",
       "    <tr>\n",
       "      <th>1</th>\n",
       "      <td>6198</td>\n",
       "    </tr>\n",
       "    <tr>\n",
       "      <th>2</th>\n",
       "      <td>1499</td>\n",
       "    </tr>\n",
       "    <tr>\n",
       "      <th>3</th>\n",
       "      <td>6528</td>\n",
       "    </tr>\n",
       "    <tr>\n",
       "      <th>4</th>\n",
       "      <td>6714</td>\n",
       "    </tr>\n",
       "  </tbody>\n",
       "</table>\n",
       "</div>"
      ],
      "text/plain": [
       "  identifier\n",
       "0       7350\n",
       "1       6198\n",
       "2       1499\n",
       "3       6528\n",
       "4       6714"
      ]
     },
     "execution_count": 2,
     "metadata": {},
     "output_type": "execute_result"
    }
   ],
   "source": [
    "genes_of_interest = \"\"\"7350\n",
    "6198\n",
    "1499\n",
    "6528\n",
    "6714\n",
    "10000\n",
    "10891\n",
    "6194\n",
    "7068\n",
    "4193\n",
    "3709\n",
    "\"\"\"\n",
    "\n",
    "gene_list = genes_of_interest.split(\"\\n\")\n",
    "data_input = pd.DataFrame(gene_list, columns=[\"identifier\"])\n",
    "data_input.head()"
   ]
  },
  {
   "cell_type": "markdown",
   "metadata": {},
   "source": [
    "### 1.2. Query BridgeDB\n",
    "The results will be stored in the following directories:"
   ]
  },
  {
   "cell_type": "code",
   "execution_count": 3,
   "metadata": {},
   "outputs": [],
   "source": [
    "base_dir = os.path.abspath(os.getcwd())\n",
    "DATA_DIR = os.path.join(base_dir, \"data\")\n",
    "EXAMPLE_DIR = os.path.join(DATA_DIR, \"gene_to_graph_workflow\")\n",
    "os.makedirs(DATA_DIR, exist_ok=True)\n",
    "os.makedirs(EXAMPLE_DIR, exist_ok=True)"
   ]
  },
  {
   "cell_type": "code",
   "execution_count": 4,
   "metadata": {},
   "outputs": [],
   "source": [
    "pickle_path = f\"{EXAMPLE_DIR}/gene_list.pkl\"\n",
    "metadata_path = f\"{EXAMPLE_DIR}/gene_list_metadata.pkl\"\n",
    "\n",
    "if not os.path.exists(pickle_path):\n",
    "    bridgedb_df, bridgedb_metadata = id_mapper.bridgedb_xref(\n",
    "        identifiers=data_input,\n",
    "        input_species=\"Human\",\n",
    "        input_datasource=\"NCBI Gene\",\n",
    "        output_datasource=\"All\",\n",
    "    )\n",
    "    bridgedb_df.to_pickle(pickle_path)\n",
    "    with open(metadata_path, \"wb\") as file:\n",
    "        pickle.dump(bridgedb_metadata, file)\n",
    "else:\n",
    "    bridgedb_df = pd.read_pickle(pickle_path)\n",
    "    with open(metadata_path, \"rb\") as file:\n",
    "        bridgedb_metadata = pickle.load(file)"
   ]
  },
  {
   "cell_type": "code",
   "execution_count": 5,
   "metadata": {},
   "outputs": [
    {
     "name": "stdout",
     "output_type": "stream",
     "text": [
      "Number of genes with mapping in BridgeDb: 11\n"
     ]
    },
    {
     "data": {
      "text/html": [
       "<div>\n",
       "<style scoped>\n",
       "    .dataframe tbody tr th:only-of-type {\n",
       "        vertical-align: middle;\n",
       "    }\n",
       "\n",
       "    .dataframe tbody tr th {\n",
       "        vertical-align: top;\n",
       "    }\n",
       "\n",
       "    .dataframe thead th {\n",
       "        text-align: right;\n",
       "    }\n",
       "</style>\n",
       "<table border=\"1\" class=\"dataframe\">\n",
       "  <thead>\n",
       "    <tr style=\"text-align: right;\">\n",
       "      <th></th>\n",
       "      <th>identifier</th>\n",
       "      <th>identifier.source</th>\n",
       "      <th>target</th>\n",
       "      <th>target.source</th>\n",
       "    </tr>\n",
       "  </thead>\n",
       "  <tbody>\n",
       "    <tr>\n",
       "      <th>0</th>\n",
       "      <td>7350</td>\n",
       "      <td>Entrez Gene</td>\n",
       "      <td>2787089</td>\n",
       "      <td>Affy</td>\n",
       "    </tr>\n",
       "    <tr>\n",
       "      <th>1</th>\n",
       "      <td>7350</td>\n",
       "      <td>Entrez Gene</td>\n",
       "      <td>8102904</td>\n",
       "      <td>Affy</td>\n",
       "    </tr>\n",
       "    <tr>\n",
       "      <th>2</th>\n",
       "      <td>7350</td>\n",
       "      <td>Entrez Gene</td>\n",
       "      <td>2787088</td>\n",
       "      <td>Affy</td>\n",
       "    </tr>\n",
       "    <tr>\n",
       "      <th>3</th>\n",
       "      <td>7350</td>\n",
       "      <td>Entrez Gene</td>\n",
       "      <td>GO:0071398</td>\n",
       "      <td>Gene Ontology</td>\n",
       "    </tr>\n",
       "    <tr>\n",
       "      <th>4</th>\n",
       "      <td>7350</td>\n",
       "      <td>Entrez Gene</td>\n",
       "      <td>2787087</td>\n",
       "      <td>Affy</td>\n",
       "    </tr>\n",
       "  </tbody>\n",
       "</table>\n",
       "</div>"
      ],
      "text/plain": [
       "  identifier identifier.source      target  target.source\n",
       "0       7350       Entrez Gene     2787089           Affy\n",
       "1       7350       Entrez Gene     8102904           Affy\n",
       "2       7350       Entrez Gene     2787088           Affy\n",
       "3       7350       Entrez Gene  GO:0071398  Gene Ontology\n",
       "4       7350       Entrez Gene     2787087           Affy"
      ]
     },
     "execution_count": 5,
     "metadata": {},
     "output_type": "execute_result"
    }
   ],
   "source": [
    "print(\"Number of genes with mapping in BridgeDb:\", len(bridgedb_df[\"identifier\"].unique()))\n",
    "bridgedb_df.head()"
   ]
  },
  {
   "cell_type": "markdown",
   "metadata": {},
   "source": [
    "## 2. Gene expression\n",
    "### 2.1. Gene expression from Bgee"
   ]
  },
  {
   "cell_type": "code",
   "execution_count": 6,
   "metadata": {},
   "outputs": [],
   "source": [
    "bgee_path = f\"{EXAMPLE_DIR}/bgee.pkl\"\n",
    "bgee_metadata_path = f\"{EXAMPLE_DIR}/bgee_metadata.pkl\"\n",
    "\n",
    "if not os.path.exists(bgee_path):\n",
    "    bgee_df, bgee_metadata = bgee.get_gene_expression(bridgedb_df=bridgedb_df)\n",
    "    bgee_df.to_pickle(bgee_path)\n",
    "    with open(bgee_metadata_path, \"wb\") as file:\n",
    "        pickle.dump(bgee_metadata, file)\n",
    "else:\n",
    "    bgee_df = pd.read_pickle(bgee_path)\n",
    "    with open(bgee_metadata_path, \"rb\") as file:\n",
    "        bgee_metadata = pickle.load(file)"
   ]
  },
  {
   "cell_type": "code",
   "execution_count": 7,
   "metadata": {},
   "outputs": [
    {
     "data": {
      "text/html": [
       "<div>\n",
       "<style scoped>\n",
       "    .dataframe tbody tr th:only-of-type {\n",
       "        vertical-align: middle;\n",
       "    }\n",
       "\n",
       "    .dataframe tbody tr th {\n",
       "        vertical-align: top;\n",
       "    }\n",
       "\n",
       "    .dataframe thead th {\n",
       "        text-align: right;\n",
       "    }\n",
       "</style>\n",
       "<table border=\"1\" class=\"dataframe\">\n",
       "  <thead>\n",
       "    <tr style=\"text-align: right;\">\n",
       "      <th></th>\n",
       "      <th>identifier</th>\n",
       "      <th>identifier.source</th>\n",
       "      <th>target</th>\n",
       "      <th>target.source</th>\n",
       "      <th>Bgee_gene_expression_levels</th>\n",
       "    </tr>\n",
       "  </thead>\n",
       "  <tbody>\n",
       "    <tr>\n",
       "      <th>0</th>\n",
       "      <td>10000</td>\n",
       "      <td>Entrez Gene</td>\n",
       "      <td>ENSG00000117020</td>\n",
       "      <td>Ensembl</td>\n",
       "      <td>[{'anatomical_entity_id': 'UBERON:0000178', 'a...</td>\n",
       "    </tr>\n",
       "    <tr>\n",
       "      <th>1</th>\n",
       "      <td>10891</td>\n",
       "      <td>Entrez Gene</td>\n",
       "      <td>ENSG00000109819</td>\n",
       "      <td>Ensembl</td>\n",
       "      <td>[{'anatomical_entity_id': 'UBERON:0000178', 'a...</td>\n",
       "    </tr>\n",
       "  </tbody>\n",
       "</table>\n",
       "</div>"
      ],
      "text/plain": [
       "  identifier identifier.source           target target.source  \\\n",
       "0      10000       Entrez Gene  ENSG00000117020       Ensembl   \n",
       "1      10891       Entrez Gene  ENSG00000109819       Ensembl   \n",
       "\n",
       "                         Bgee_gene_expression_levels  \n",
       "0  [{'anatomical_entity_id': 'UBERON:0000178', 'a...  \n",
       "1  [{'anatomical_entity_id': 'UBERON:0000178', 'a...  "
      ]
     },
     "execution_count": 7,
     "metadata": {},
     "output_type": "execute_result"
    }
   ],
   "source": [
    "bgee_df.head(2)"
   ]
  },
  {
   "cell_type": "markdown",
   "metadata": {},
   "source": [
    "## 3. Disease annotation\n",
    "### 3.1. Gene to disease annotation with DisGeNET"
   ]
  },
  {
   "cell_type": "code",
   "execution_count": 8,
   "metadata": {},
   "outputs": [],
   "source": [
    "disgenet_path = f\"{EXAMPLE_DIR}/disgenet.pkl\"\n",
    "disgenet_metadata_path = f\"{EXAMPLE_DIR}/disgenet_metadata.pkl\"\n",
    "\n",
    "DISGENET_API_KEY = \"191dc560-6d91-43c0-ae9f-01655efdf6d5\"\n",
    "\n",
    "if not os.path.exists(disgenet_path):\n",
    "    disgenet_df, disgenet_metadata = disgenet.get_gene_disease(\n",
    "        api_key=DISGENET_API_KEY, bridgedb_df=bridgedb_df\n",
    "    )\n",
    "\n",
    "    disgenet_df.to_pickle(disgenet_path)\n",
    "    with open(disgenet_metadata_path, \"wb\") as file:\n",
    "        pickle.dump(disgenet_metadata, file)\n",
    "else:\n",
    "    disgenet_df = pd.read_pickle(disgenet_path)\n",
    "    with open(disgenet_metadata_path, \"rb\") as file:\n",
    "        disgenet_metadata = pickle.load(file)"
   ]
  },
  {
   "cell_type": "code",
   "execution_count": 9,
   "metadata": {},
   "outputs": [
    {
     "data": {
      "text/html": [
       "<div>\n",
       "<style scoped>\n",
       "    .dataframe tbody tr th:only-of-type {\n",
       "        vertical-align: middle;\n",
       "    }\n",
       "\n",
       "    .dataframe tbody tr th {\n",
       "        vertical-align: top;\n",
       "    }\n",
       "\n",
       "    .dataframe thead th {\n",
       "        text-align: right;\n",
       "    }\n",
       "</style>\n",
       "<table border=\"1\" class=\"dataframe\">\n",
       "  <thead>\n",
       "    <tr style=\"text-align: right;\">\n",
       "      <th></th>\n",
       "      <th>identifier</th>\n",
       "      <th>identifier.source</th>\n",
       "      <th>target</th>\n",
       "      <th>target.source</th>\n",
       "      <th>DISGENET_diseases</th>\n",
       "    </tr>\n",
       "  </thead>\n",
       "  <tbody>\n",
       "    <tr>\n",
       "      <th>0</th>\n",
       "      <td>10000</td>\n",
       "      <td>Entrez Gene</td>\n",
       "      <td>10000</td>\n",
       "      <td>NCBI Gene</td>\n",
       "      <td>[{'disease_name': 'melanoma', 'HPO': 'HPO:HP:0...</td>\n",
       "    </tr>\n",
       "    <tr>\n",
       "      <th>1</th>\n",
       "      <td>10891</td>\n",
       "      <td>Entrez Gene</td>\n",
       "      <td>10891</td>\n",
       "      <td>NCBI Gene</td>\n",
       "      <td>[{'disease_name': 'Diabetes Mellitus, Non-Insu...</td>\n",
       "    </tr>\n",
       "  </tbody>\n",
       "</table>\n",
       "</div>"
      ],
      "text/plain": [
       "  identifier identifier.source target target.source  \\\n",
       "0      10000       Entrez Gene  10000     NCBI Gene   \n",
       "1      10891       Entrez Gene  10891     NCBI Gene   \n",
       "\n",
       "                                   DISGENET_diseases  \n",
       "0  [{'disease_name': 'melanoma', 'HPO': 'HPO:HP:0...  \n",
       "1  [{'disease_name': 'Diabetes Mellitus, Non-Insu...  "
      ]
     },
     "execution_count": 9,
     "metadata": {},
     "output_type": "execute_result"
    }
   ],
   "source": [
    "disgenet_df.head(2)"
   ]
  },
  {
   "cell_type": "markdown",
   "metadata": {},
   "source": [
    "### 3.2. Disease to compound annotation from OpenTargets"
   ]
  },
  {
   "cell_type": "code",
   "execution_count": 10,
   "metadata": {},
   "outputs": [
    {
     "data": {
      "text/html": [
       "<div>\n",
       "<style scoped>\n",
       "    .dataframe tbody tr th:only-of-type {\n",
       "        vertical-align: middle;\n",
       "    }\n",
       "\n",
       "    .dataframe tbody tr th {\n",
       "        vertical-align: top;\n",
       "    }\n",
       "\n",
       "    .dataframe thead th {\n",
       "        text-align: right;\n",
       "    }\n",
       "</style>\n",
       "<table border=\"1\" class=\"dataframe\">\n",
       "  <thead>\n",
       "    <tr style=\"text-align: right;\">\n",
       "      <th></th>\n",
       "      <th>identifier</th>\n",
       "      <th>identifier.source</th>\n",
       "      <th>target</th>\n",
       "      <th>target.source</th>\n",
       "    </tr>\n",
       "  </thead>\n",
       "  <tbody>\n",
       "    <tr>\n",
       "      <th>0</th>\n",
       "      <td>UMLS_C0025202</td>\n",
       "      <td>UMLS</td>\n",
       "      <td>EFO_0000756</td>\n",
       "      <td>EFO</td>\n",
       "    </tr>\n",
       "    <tr>\n",
       "      <th>1</th>\n",
       "      <td>UMLS_C0376358</td>\n",
       "      <td>UMLS</td>\n",
       "      <td>EFO_0000673</td>\n",
       "      <td>EFO</td>\n",
       "    </tr>\n",
       "    <tr>\n",
       "      <th>2</th>\n",
       "      <td>UMLS_C0376358</td>\n",
       "      <td>UMLS</td>\n",
       "      <td>EFO_0001663</td>\n",
       "      <td>EFO</td>\n",
       "    </tr>\n",
       "    <tr>\n",
       "      <th>3</th>\n",
       "      <td>UMLS_C1621958</td>\n",
       "      <td>UMLS</td>\n",
       "      <td>EFO_0000519</td>\n",
       "      <td>EFO</td>\n",
       "    </tr>\n",
       "    <tr>\n",
       "      <th>4</th>\n",
       "      <td>UMLS_C0017636</td>\n",
       "      <td>UMLS</td>\n",
       "      <td>EFO_0000519</td>\n",
       "      <td>EFO</td>\n",
       "    </tr>\n",
       "  </tbody>\n",
       "</table>\n",
       "</div>"
      ],
      "text/plain": [
       "      identifier identifier.source       target target.source\n",
       "0  UMLS_C0025202              UMLS  EFO_0000756           EFO\n",
       "1  UMLS_C0376358              UMLS  EFO_0000673           EFO\n",
       "2  UMLS_C0376358              UMLS  EFO_0001663           EFO\n",
       "3  UMLS_C1621958              UMLS  EFO_0000519           EFO\n",
       "4  UMLS_C0017636              UMLS  EFO_0000519           EFO"
      ]
     },
     "execution_count": 10,
     "metadata": {},
     "output_type": "execute_result"
    }
   ],
   "source": [
    "# Prepare the input to use DISGENET output as seed for OpenTargets\n",
    "import pyBiodatafuse.constants as Cons\n",
    "\n",
    "disease_mapping_df = create_harmonized_input_file(\n",
    "    disgenet_df, Cons.DISGENET_DISEASE_COL, Cons.EFO, Cons.UMLS\n",
    ")\n",
    "disease_mapping_df.head()"
   ]
  },
  {
   "cell_type": "code",
   "execution_count": 11,
   "metadata": {},
   "outputs": [],
   "source": [
    "opentarget_path = f\"{EXAMPLE_DIR}/opentarget_cmpd.pkl\"\n",
    "opentarget_metadata_path = f\"{EXAMPLE_DIR}/opentarget_cmpd_metadata.pkl\"\n",
    "\n",
    "if not os.path.exists(opentarget_path):\n",
    "    opentargets_df, opentargets_metadata = opentargets.get_disease_compound_interactions(\n",
    "        disease_mapping_df\n",
    "    )\n",
    "    opentargets_df.to_pickle(opentarget_path)\n",
    "    with open(opentarget_metadata_path, \"wb\") as file:\n",
    "        pickle.dump(opentargets_metadata, file)\n",
    "else:\n",
    "    opentargets_df = pd.read_pickle(opentarget_path)\n",
    "    with open(opentarget_metadata_path, \"rb\") as file:\n",
    "        opentargets_metadata = pickle.load(file)"
   ]
  },
  {
   "cell_type": "markdown",
   "metadata": {},
   "source": [
    ">NOTE: No drugs for the diseases of interest found."
   ]
  },
  {
   "cell_type": "markdown",
   "metadata": {},
   "source": [
    "## 4. Pathways and Gene Ontology terms\n",
    "### 4.1. Pathways from MINERVA"
   ]
  },
  {
   "cell_type": "code",
   "execution_count": 12,
   "metadata": {},
   "outputs": [],
   "source": [
    "minerva_path = f\"{EXAMPLE_DIR}/minerva.pkl\"\n",
    "minerva_metadata_path = f\"{EXAMPLE_DIR}/minerva_metadata.pkl\"\n",
    "\n",
    "if not os.path.exists(minerva_path):\n",
    "    minerva_df, minerva_metadata = minerva.get_gene_pathways(\n",
    "        bridgedb_df, map_name=\"COVID19 Disease Map\"\n",
    "    )\n",
    "    minerva_df.to_pickle(minerva_path)\n",
    "    with open(minerva_metadata_path, \"wb\") as file:\n",
    "        pickle.dump(minerva_metadata, file)\n",
    "\n",
    "else:\n",
    "    minerva_df = pd.read_pickle(minerva_path)\n",
    "    with open(minerva_metadata_path, \"rb\") as file:\n",
    "        minerva_metadata = pickle.load(file)"
   ]
  },
  {
   "cell_type": "code",
   "execution_count": 13,
   "metadata": {},
   "outputs": [
    {
     "data": {
      "text/html": [
       "<div>\n",
       "<style scoped>\n",
       "    .dataframe tbody tr th:only-of-type {\n",
       "        vertical-align: middle;\n",
       "    }\n",
       "\n",
       "    .dataframe tbody tr th {\n",
       "        vertical-align: top;\n",
       "    }\n",
       "\n",
       "    .dataframe thead th {\n",
       "        text-align: right;\n",
       "    }\n",
       "</style>\n",
       "<table border=\"1\" class=\"dataframe\">\n",
       "  <thead>\n",
       "    <tr style=\"text-align: right;\">\n",
       "      <th></th>\n",
       "      <th>identifier</th>\n",
       "      <th>identifier.source</th>\n",
       "      <th>target</th>\n",
       "      <th>target.source</th>\n",
       "      <th>MINERVA_pathways</th>\n",
       "    </tr>\n",
       "  </thead>\n",
       "  <tbody>\n",
       "    <tr>\n",
       "      <th>0</th>\n",
       "      <td>10000</td>\n",
       "      <td>Entrez Gene</td>\n",
       "      <td>ENSG00000117020</td>\n",
       "      <td>Ensembl</td>\n",
       "      <td>[{'pathway_id': nan, 'pathway_label': nan, 'pa...</td>\n",
       "    </tr>\n",
       "    <tr>\n",
       "      <th>1</th>\n",
       "      <td>10891</td>\n",
       "      <td>Entrez Gene</td>\n",
       "      <td>ENSG00000109819</td>\n",
       "      <td>Ensembl</td>\n",
       "      <td>[{'pathway_id': nan, 'pathway_label': nan, 'pa...</td>\n",
       "    </tr>\n",
       "  </tbody>\n",
       "</table>\n",
       "</div>"
      ],
      "text/plain": [
       "  identifier identifier.source           target target.source  \\\n",
       "0      10000       Entrez Gene  ENSG00000117020       Ensembl   \n",
       "1      10891       Entrez Gene  ENSG00000109819       Ensembl   \n",
       "\n",
       "                                    MINERVA_pathways  \n",
       "0  [{'pathway_id': nan, 'pathway_label': nan, 'pa...  \n",
       "1  [{'pathway_id': nan, 'pathway_label': nan, 'pa...  "
      ]
     },
     "execution_count": 13,
     "metadata": {},
     "output_type": "execute_result"
    }
   ],
   "source": [
    "minerva_df.head(2)"
   ]
  },
  {
   "cell_type": "markdown",
   "metadata": {},
   "source": [
    "### 4.2. Pathways from WikiPathways"
   ]
  },
  {
   "cell_type": "code",
   "execution_count": 14,
   "metadata": {},
   "outputs": [],
   "source": [
    "wikipathways_path = f\"{EXAMPLE_DIR}/wikipathways.pkl\"\n",
    "wikipathways_metadata_path = f\"{EXAMPLE_DIR}/wikipathways_metadata.pkl\"\n",
    "\n",
    "if not os.path.exists(wikipathways_path):\n",
    "    wikipathways_df, wikipathways_metadata = wikipathways.get_gene_wikipathways(\n",
    "        bridgedb_df=bridgedb_df\n",
    "    )\n",
    "    wikipathways_df.to_pickle(wikipathways_path)\n",
    "    with open(wikipathways_metadata_path, \"wb\") as file:\n",
    "        pickle.dump(wikipathways_metadata, file)\n",
    "else:\n",
    "    wikipathways_df = pd.read_pickle(wikipathways_path)\n",
    "    with open(wikipathways_metadata_path, \"rb\") as file:\n",
    "        wikipathways_metadata = pickle.load(file)"
   ]
  },
  {
   "cell_type": "code",
   "execution_count": 15,
   "metadata": {},
   "outputs": [
    {
     "data": {
      "text/html": [
       "<div>\n",
       "<style scoped>\n",
       "    .dataframe tbody tr th:only-of-type {\n",
       "        vertical-align: middle;\n",
       "    }\n",
       "\n",
       "    .dataframe tbody tr th {\n",
       "        vertical-align: top;\n",
       "    }\n",
       "\n",
       "    .dataframe thead th {\n",
       "        text-align: right;\n",
       "    }\n",
       "</style>\n",
       "<table border=\"1\" class=\"dataframe\">\n",
       "  <thead>\n",
       "    <tr style=\"text-align: right;\">\n",
       "      <th></th>\n",
       "      <th>identifier</th>\n",
       "      <th>identifier.source</th>\n",
       "      <th>target</th>\n",
       "      <th>target.source</th>\n",
       "      <th>WikiPathways</th>\n",
       "    </tr>\n",
       "  </thead>\n",
       "  <tbody>\n",
       "    <tr>\n",
       "      <th>0</th>\n",
       "      <td>10000</td>\n",
       "      <td>Entrez Gene</td>\n",
       "      <td>10000</td>\n",
       "      <td>NCBI Gene</td>\n",
       "      <td>[{'pathway_id': 'WP:WP4746', 'pathway_label': ...</td>\n",
       "    </tr>\n",
       "    <tr>\n",
       "      <th>1</th>\n",
       "      <td>10891</td>\n",
       "      <td>Entrez Gene</td>\n",
       "      <td>10891</td>\n",
       "      <td>NCBI Gene</td>\n",
       "      <td>[{'pathway_id': 'WP:WP4746', 'pathway_label': ...</td>\n",
       "    </tr>\n",
       "  </tbody>\n",
       "</table>\n",
       "</div>"
      ],
      "text/plain": [
       "  identifier identifier.source target target.source  \\\n",
       "0      10000       Entrez Gene  10000     NCBI Gene   \n",
       "1      10891       Entrez Gene  10891     NCBI Gene   \n",
       "\n",
       "                                        WikiPathways  \n",
       "0  [{'pathway_id': 'WP:WP4746', 'pathway_label': ...  \n",
       "1  [{'pathway_id': 'WP:WP4746', 'pathway_label': ...  "
      ]
     },
     "execution_count": 15,
     "metadata": {},
     "output_type": "execute_result"
    }
   ],
   "source": [
    "wikipathways_df.head(2)"
   ]
  },
  {
   "cell_type": "markdown",
   "metadata": {},
   "source": [
    "### Alternatively, you can retrieve the molecular interactions for genes and metabolites from wikipathways:"
   ]
  },
  {
   "cell_type": "code",
   "execution_count": 16,
   "metadata": {},
   "outputs": [],
   "source": [
    "wikipathways_mol_path = f\"{EXAMPLE_DIR}/wikipathways_mol.pkl\"\n",
    "wikipathways_mol_metadata_path = f\"{EXAMPLE_DIR}/wikipathways_mol_metadata.pkl\"\n",
    "\n",
    "if not os.path.exists(wikipathways_mol_path):\n",
    "    wikipathways_mol_df, wikipathways_mol_metadata = wikipathways.get_gene_wikipathways(\n",
    "        bridgedb_df=bridgedb_df, query_interactions=True\n",
    "    )\n",
    "    wikipathways_mol_df.to_pickle(wikipathways_mol_path)\n",
    "    with open(wikipathways_mol_metadata_path, \"wb\") as file:\n",
    "        pickle.dump(wikipathways_mol_metadata, file)\n",
    "else:\n",
    "    wikipathways_mol_df = pd.read_pickle(wikipathways_mol_path)\n",
    "    with open(wikipathways_mol_metadata_path, \"rb\") as file:\n",
    "        wikipathways_mol_metadata = pickle.load(file)"
   ]
  },
  {
   "cell_type": "code",
   "execution_count": 17,
   "metadata": {},
   "outputs": [
    {
     "data": {
      "text/html": [
       "<div>\n",
       "<style scoped>\n",
       "    .dataframe tbody tr th:only-of-type {\n",
       "        vertical-align: middle;\n",
       "    }\n",
       "\n",
       "    .dataframe tbody tr th {\n",
       "        vertical-align: top;\n",
       "    }\n",
       "\n",
       "    .dataframe thead th {\n",
       "        text-align: right;\n",
       "    }\n",
       "</style>\n",
       "<table border=\"1\" class=\"dataframe\">\n",
       "  <thead>\n",
       "    <tr style=\"text-align: right;\">\n",
       "      <th></th>\n",
       "      <th>identifier</th>\n",
       "      <th>identifier.source</th>\n",
       "      <th>target</th>\n",
       "      <th>target.source</th>\n",
       "      <th>WikiPathways_molecular</th>\n",
       "    </tr>\n",
       "  </thead>\n",
       "  <tbody>\n",
       "    <tr>\n",
       "      <th>0</th>\n",
       "      <td>10000</td>\n",
       "      <td>Entrez Gene</td>\n",
       "      <td>10000</td>\n",
       "      <td>NCBI Gene</td>\n",
       "      <td>[{'pathway_id': 'WP:4746', 'pathway_label': 'T...</td>\n",
       "    </tr>\n",
       "    <tr>\n",
       "      <th>1</th>\n",
       "      <td>10891</td>\n",
       "      <td>Entrez Gene</td>\n",
       "      <td>10891</td>\n",
       "      <td>NCBI Gene</td>\n",
       "      <td>[{'pathway_id': 'WP:5294', 'pathway_label': 'S...</td>\n",
       "    </tr>\n",
       "  </tbody>\n",
       "</table>\n",
       "</div>"
      ],
      "text/plain": [
       "  identifier identifier.source target target.source  \\\n",
       "0      10000       Entrez Gene  10000     NCBI Gene   \n",
       "1      10891       Entrez Gene  10891     NCBI Gene   \n",
       "\n",
       "                              WikiPathways_molecular  \n",
       "0  [{'pathway_id': 'WP:4746', 'pathway_label': 'T...  \n",
       "1  [{'pathway_id': 'WP:5294', 'pathway_label': 'S...  "
      ]
     },
     "execution_count": 17,
     "metadata": {},
     "output_type": "execute_result"
    }
   ],
   "source": [
    "wikipathways_mol_df.head(2)"
   ]
  },
  {
   "cell_type": "markdown",
   "metadata": {},
   "source": [
    "### 4.3. Reactome pathways from OpenTargets"
   ]
  },
  {
   "cell_type": "code",
   "execution_count": 18,
   "metadata": {},
   "outputs": [],
   "source": [
    "opentargets_reactome_path = f\"{EXAMPLE_DIR}/opentargets_reactome.pkl\"\n",
    "opentargets_reactome_metadata_path = f\"{EXAMPLE_DIR}/opentargets_reactome_metadata.pkl\"\n",
    "\n",
    "\n",
    "if not os.path.exists(opentargets_reactome_path):\n",
    "    opentargets_reactome_df, opentargets_reactome_metadata = opentargets.get_gene_reactome_pathways(\n",
    "        bridgedb_df=bridgedb_df\n",
    "    )\n",
    "    opentargets_reactome_df.to_pickle(opentargets_reactome_path)\n",
    "    with open(opentargets_reactome_metadata_path, \"wb\") as file:\n",
    "        pickle.dump(opentargets_reactome_metadata, file)\n",
    "else:\n",
    "    opentargets_reactome_df = pd.read_pickle(opentargets_reactome_path)\n",
    "    with open(opentargets_reactome_metadata_path, \"rb\") as file:\n",
    "        opentargets_reactome_metadata = pickle.load(file)"
   ]
  },
  {
   "cell_type": "code",
   "execution_count": 19,
   "metadata": {},
   "outputs": [
    {
     "data": {
      "text/html": [
       "<div>\n",
       "<style scoped>\n",
       "    .dataframe tbody tr th:only-of-type {\n",
       "        vertical-align: middle;\n",
       "    }\n",
       "\n",
       "    .dataframe tbody tr th {\n",
       "        vertical-align: top;\n",
       "    }\n",
       "\n",
       "    .dataframe thead th {\n",
       "        text-align: right;\n",
       "    }\n",
       "</style>\n",
       "<table border=\"1\" class=\"dataframe\">\n",
       "  <thead>\n",
       "    <tr style=\"text-align: right;\">\n",
       "      <th></th>\n",
       "      <th>identifier</th>\n",
       "      <th>identifier.source</th>\n",
       "      <th>target</th>\n",
       "      <th>target.source</th>\n",
       "      <th>OpenTargets_reactome</th>\n",
       "    </tr>\n",
       "  </thead>\n",
       "  <tbody>\n",
       "    <tr>\n",
       "      <th>0</th>\n",
       "      <td>10000</td>\n",
       "      <td>Entrez Gene</td>\n",
       "      <td>ENSG00000117020</td>\n",
       "      <td>Ensembl</td>\n",
       "      <td>[{'pathway_label': 'FLT3 Signaling', 'pathway_...</td>\n",
       "    </tr>\n",
       "    <tr>\n",
       "      <th>1</th>\n",
       "      <td>10891</td>\n",
       "      <td>Entrez Gene</td>\n",
       "      <td>ENSG00000109819</td>\n",
       "      <td>Ensembl</td>\n",
       "      <td>[{'pathway_label': 'Transcriptional regulation...</td>\n",
       "    </tr>\n",
       "  </tbody>\n",
       "</table>\n",
       "</div>"
      ],
      "text/plain": [
       "  identifier identifier.source           target target.source  \\\n",
       "0      10000       Entrez Gene  ENSG00000117020       Ensembl   \n",
       "1      10891       Entrez Gene  ENSG00000109819       Ensembl   \n",
       "\n",
       "                                OpenTargets_reactome  \n",
       "0  [{'pathway_label': 'FLT3 Signaling', 'pathway_...  \n",
       "1  [{'pathway_label': 'Transcriptional regulation...  "
      ]
     },
     "execution_count": 19,
     "metadata": {},
     "output_type": "execute_result"
    }
   ],
   "source": [
    "opentargets_reactome_df.head(2)"
   ]
  },
  {
   "cell_type": "markdown",
   "metadata": {},
   "source": [
    "### 4.4. Gene Ontology from OpenTargets"
   ]
  },
  {
   "cell_type": "code",
   "execution_count": 20,
   "metadata": {},
   "outputs": [],
   "source": [
    "opentargets_go_path = f\"{EXAMPLE_DIR}/opentargets_go.pkl\"\n",
    "opentargets_go_metadata_path = f\"{EXAMPLE_DIR}/opentargets_go_metadata.pkl\"\n",
    "\n",
    "if not os.path.exists(opentargets_go_path):\n",
    "    opentargets_go_df, opentargets_go_metadata = opentargets.get_gene_go_process(\n",
    "        bridgedb_df=bridgedb_df\n",
    "    )\n",
    "    opentargets_go_df.to_pickle(opentargets_go_path)\n",
    "    with open(opentargets_go_metadata_path, \"wb\") as file:\n",
    "        pickle.dump(opentargets_go_metadata, file)\n",
    "else:\n",
    "    opentargets_go_df = pd.read_pickle(opentargets_go_path)\n",
    "    with open(opentargets_go_metadata_path, \"rb\") as file:\n",
    "        opentargets_go_metadata = pickle.load(file)"
   ]
  },
  {
   "cell_type": "code",
   "execution_count": 21,
   "metadata": {},
   "outputs": [
    {
     "data": {
      "text/html": [
       "<div>\n",
       "<style scoped>\n",
       "    .dataframe tbody tr th:only-of-type {\n",
       "        vertical-align: middle;\n",
       "    }\n",
       "\n",
       "    .dataframe tbody tr th {\n",
       "        vertical-align: top;\n",
       "    }\n",
       "\n",
       "    .dataframe thead th {\n",
       "        text-align: right;\n",
       "    }\n",
       "</style>\n",
       "<table border=\"1\" class=\"dataframe\">\n",
       "  <thead>\n",
       "    <tr style=\"text-align: right;\">\n",
       "      <th></th>\n",
       "      <th>identifier</th>\n",
       "      <th>identifier.source</th>\n",
       "      <th>target</th>\n",
       "      <th>target.source</th>\n",
       "      <th>OpenTargets_go</th>\n",
       "    </tr>\n",
       "  </thead>\n",
       "  <tbody>\n",
       "    <tr>\n",
       "      <th>0</th>\n",
       "      <td>10000</td>\n",
       "      <td>Entrez Gene</td>\n",
       "      <td>ENSG00000117020</td>\n",
       "      <td>Ensembl</td>\n",
       "      <td>[{'go_id': 'GO:0004711', 'go_name': 'ribosomal...</td>\n",
       "    </tr>\n",
       "    <tr>\n",
       "      <th>1</th>\n",
       "      <td>10891</td>\n",
       "      <td>Entrez Gene</td>\n",
       "      <td>ENSG00000109819</td>\n",
       "      <td>Ensembl</td>\n",
       "      <td>[{'go_id': 'GO:0022904', 'go_name': 'respirato...</td>\n",
       "    </tr>\n",
       "  </tbody>\n",
       "</table>\n",
       "</div>"
      ],
      "text/plain": [
       "  identifier identifier.source           target target.source  \\\n",
       "0      10000       Entrez Gene  ENSG00000117020       Ensembl   \n",
       "1      10891       Entrez Gene  ENSG00000109819       Ensembl   \n",
       "\n",
       "                                      OpenTargets_go  \n",
       "0  [{'go_id': 'GO:0004711', 'go_name': 'ribosomal...  \n",
       "1  [{'go_id': 'GO:0022904', 'go_name': 'respirato...  "
      ]
     },
     "execution_count": 21,
     "metadata": {},
     "output_type": "execute_result"
    }
   ],
   "source": [
    "opentargets_go_df.head(2)"
   ]
  },
  {
   "cell_type": "markdown",
   "metadata": {},
   "source": [
    "## 5. Compound annotation\n",
    "### 5.1. Compound annotation from OpenTargets"
   ]
  },
  {
   "cell_type": "code",
   "execution_count": 22,
   "metadata": {},
   "outputs": [],
   "source": [
    "opentargets_gene_path = f\"{EXAMPLE_DIR}/opentargets_gene_cmpd.pkl\"\n",
    "opentargets_gene_metadata_path = f\"{EXAMPLE_DIR}/opentargets_gene_cmpd_metadata.pkl\"\n",
    "\n",
    "if not os.path.exists(opentargets_gene_path):\n",
    "    opentargets_compound_df, opentargets_compound_metadata = (\n",
    "        opentargets.get_gene_compound_interactions(bridgedb_df=bridgedb_df)\n",
    "    )\n",
    "    opentargets_compound_df.to_pickle(opentargets_gene_path)\n",
    "    with open(opentargets_gene_metadata_path, \"wb\") as file:\n",
    "        pickle.dump(opentargets_compound_metadata, file)\n",
    "\n",
    "else:\n",
    "    opentargets_compound_df = pd.read_pickle(opentargets_gene_path)\n",
    "    with open(opentargets_gene_metadata_path, \"rb\") as file:\n",
    "        opentargets_compound_metadata = pickle.load(file)"
   ]
  },
  {
   "cell_type": "code",
   "execution_count": 23,
   "metadata": {},
   "outputs": [
    {
     "data": {
      "text/html": [
       "<div>\n",
       "<style scoped>\n",
       "    .dataframe tbody tr th:only-of-type {\n",
       "        vertical-align: middle;\n",
       "    }\n",
       "\n",
       "    .dataframe tbody tr th {\n",
       "        vertical-align: top;\n",
       "    }\n",
       "\n",
       "    .dataframe thead th {\n",
       "        text-align: right;\n",
       "    }\n",
       "</style>\n",
       "<table border=\"1\" class=\"dataframe\">\n",
       "  <thead>\n",
       "    <tr style=\"text-align: right;\">\n",
       "      <th></th>\n",
       "      <th>identifier</th>\n",
       "      <th>identifier.source</th>\n",
       "      <th>target</th>\n",
       "      <th>target.source</th>\n",
       "      <th>OpenTargets_gene_compounds</th>\n",
       "    </tr>\n",
       "  </thead>\n",
       "  <tbody>\n",
       "    <tr>\n",
       "      <th>0</th>\n",
       "      <td>10000</td>\n",
       "      <td>Entrez Gene</td>\n",
       "      <td>ENSG00000117020</td>\n",
       "      <td>Ensembl</td>\n",
       "      <td>[{'chembl_id': 'CHEMBL:CHEMBL2177390', 'drugba...</td>\n",
       "    </tr>\n",
       "    <tr>\n",
       "      <th>1</th>\n",
       "      <td>10891</td>\n",
       "      <td>Entrez Gene</td>\n",
       "      <td>ENSG00000109819</td>\n",
       "      <td>Ensembl</td>\n",
       "      <td>[{'chembl_id': nan, 'drugbank_id': nan, 'compo...</td>\n",
       "    </tr>\n",
       "  </tbody>\n",
       "</table>\n",
       "</div>"
      ],
      "text/plain": [
       "  identifier identifier.source           target target.source  \\\n",
       "0      10000       Entrez Gene  ENSG00000117020       Ensembl   \n",
       "1      10891       Entrez Gene  ENSG00000109819       Ensembl   \n",
       "\n",
       "                          OpenTargets_gene_compounds  \n",
       "0  [{'chembl_id': 'CHEMBL:CHEMBL2177390', 'drugba...  \n",
       "1  [{'chembl_id': nan, 'drugbank_id': nan, 'compo...  "
      ]
     },
     "execution_count": 23,
     "metadata": {},
     "output_type": "execute_result"
    }
   ],
   "source": [
    "opentargets_compound_df.head(2)"
   ]
  },
  {
   "cell_type": "markdown",
   "metadata": {},
   "source": [
    "### 5.2. Screening results of compounds on proteins encoded by genes annotation by PubChem"
   ]
  },
  {
   "cell_type": "code",
   "execution_count": 24,
   "metadata": {},
   "outputs": [],
   "source": [
    "pubchem_path = f\"{EXAMPLE_DIR}/pubchem.pkl\"\n",
    "pubchem_metadata_path = f\"{EXAMPLE_DIR}/pubchem_metadata.pkl\"\n",
    "\n",
    "if not os.path.exists(pubchem_path):\n",
    "    pubchem_assay_df, pubchem_assay_metadata = pubchem.get_protein_compound_screened(\n",
    "        bridgedb_df=bridgedb_df\n",
    "    )\n",
    "    pubchem_assay_df.to_pickle(pubchem_path)\n",
    "    with open(pubchem_metadata_path, \"wb\") as file:\n",
    "        pickle.dump(pubchem_assay_metadata, file)\n",
    "\n",
    "else:\n",
    "    pubchem_assay_df = pd.read_pickle(pubchem_path)\n",
    "    with open(pubchem_metadata_path, \"rb\") as file:\n",
    "        pubchem_assay_metadata = pickle.load(file)"
   ]
  },
  {
   "cell_type": "code",
   "execution_count": 25,
   "metadata": {},
   "outputs": [
    {
     "data": {
      "text/html": [
       "<div>\n",
       "<style scoped>\n",
       "    .dataframe tbody tr th:only-of-type {\n",
       "        vertical-align: middle;\n",
       "    }\n",
       "\n",
       "    .dataframe tbody tr th {\n",
       "        vertical-align: top;\n",
       "    }\n",
       "\n",
       "    .dataframe thead th {\n",
       "        text-align: right;\n",
       "    }\n",
       "</style>\n",
       "<table border=\"1\" class=\"dataframe\">\n",
       "  <thead>\n",
       "    <tr style=\"text-align: right;\">\n",
       "      <th></th>\n",
       "      <th>identifier</th>\n",
       "      <th>identifier.source</th>\n",
       "      <th>target</th>\n",
       "      <th>target.source</th>\n",
       "      <th>PubChem_assays</th>\n",
       "    </tr>\n",
       "  </thead>\n",
       "  <tbody>\n",
       "    <tr>\n",
       "      <th>0</th>\n",
       "      <td>10000</td>\n",
       "      <td>Entrez Gene</td>\n",
       "      <td>A0A5F9ZGY0</td>\n",
       "      <td>Uniprot-TrEMBL</td>\n",
       "      <td>[{'pubchem_assay_id': nan, 'assay_type': nan, ...</td>\n",
       "    </tr>\n",
       "    <tr>\n",
       "      <th>1</th>\n",
       "      <td>10000</td>\n",
       "      <td>Entrez Gene</td>\n",
       "      <td>A0A5F9ZGZ4</td>\n",
       "      <td>Uniprot-TrEMBL</td>\n",
       "      <td>[{'pubchem_assay_id': nan, 'assay_type': nan, ...</td>\n",
       "    </tr>\n",
       "  </tbody>\n",
       "</table>\n",
       "</div>"
      ],
      "text/plain": [
       "  identifier identifier.source      target   target.source  \\\n",
       "0      10000       Entrez Gene  A0A5F9ZGY0  Uniprot-TrEMBL   \n",
       "1      10000       Entrez Gene  A0A5F9ZGZ4  Uniprot-TrEMBL   \n",
       "\n",
       "                                      PubChem_assays  \n",
       "0  [{'pubchem_assay_id': nan, 'assay_type': nan, ...  \n",
       "1  [{'pubchem_assay_id': nan, 'assay_type': nan, ...  "
      ]
     },
     "execution_count": 25,
     "metadata": {},
     "output_type": "execute_result"
    }
   ],
   "source": [
    "pubchem_assay_df.head(2)"
   ]
  },
  {
   "cell_type": "markdown",
   "metadata": {},
   "source": [
    "## 6. Membrane transport annotations\n",
    "### 6.1 Transporter inhibitor annotation from MolMeDB"
   ]
  },
  {
   "cell_type": "code",
   "execution_count": 26,
   "metadata": {},
   "outputs": [],
   "source": [
    "molmedb_path = f\"{EXAMPLE_DIR}/molmedb_gene_cmpd.pkl\"\n",
    "molmedb_metadata_path = f\"{EXAMPLE_DIR}/molmedb_gene_cmpd_metadata.pkl\"\n",
    "\n",
    "if not os.path.exists(molmedb_path):\n",
    "    inhibitor_df, inhibitor_metadata = molmedb.get_gene_compound_inhibitor(bridgedb_df=bridgedb_df)\n",
    "    inhibitor_df.to_pickle(molmedb_path)\n",
    "    with open(molmedb_metadata_path, \"wb\") as file:\n",
    "        pickle.dump(inhibitor_metadata, file)\n",
    "else:\n",
    "    inhibitor_df = pd.read_pickle(molmedb_path)\n",
    "    with open(molmedb_metadata_path, \"rb\") as file:\n",
    "        inhibitor_metadata = pickle.load(file)"
   ]
  },
  {
   "cell_type": "markdown",
   "metadata": {},
   "source": [
    "> NOTE: No annotations found here"
   ]
  },
  {
   "cell_type": "markdown",
   "metadata": {},
   "source": [
    "## 7. Protein-Protein Interactions\n",
    "\n",
    "### 7.1. Protein-Protein Interactions from STRING"
   ]
  },
  {
   "cell_type": "code",
   "execution_count": 27,
   "metadata": {},
   "outputs": [],
   "source": [
    "string_path = f\"{EXAMPLE_DIR}/string.pkl\"\n",
    "string_metadata_path = f\"{EXAMPLE_DIR}/string_metadata.pkl\"\n",
    "\n",
    "if not os.path.exists(string_path):\n",
    "    ppi_df, ppi_metadata = stringdb.get_ppi(bridgedb_df=bridgedb_df)\n",
    "    ppi_df.to_pickle(string_path)\n",
    "    with open(string_metadata_path, \"wb\") as file:\n",
    "        pickle.dump(ppi_metadata, file)\n",
    "else:\n",
    "    ppi_df = pd.read_pickle(string_path)\n",
    "    with open(string_metadata_path, \"rb\") as file:\n",
    "        ppi_metadata = pickle.load(file)"
   ]
  },
  {
   "cell_type": "code",
   "execution_count": 28,
   "metadata": {},
   "outputs": [
    {
     "data": {
      "text/html": [
       "<div>\n",
       "<style scoped>\n",
       "    .dataframe tbody tr th:only-of-type {\n",
       "        vertical-align: middle;\n",
       "    }\n",
       "\n",
       "    .dataframe tbody tr th {\n",
       "        vertical-align: top;\n",
       "    }\n",
       "\n",
       "    .dataframe thead th {\n",
       "        text-align: right;\n",
       "    }\n",
       "</style>\n",
       "<table border=\"1\" class=\"dataframe\">\n",
       "  <thead>\n",
       "    <tr style=\"text-align: right;\">\n",
       "      <th></th>\n",
       "    </tr>\n",
       "  </thead>\n",
       "  <tbody>\n",
       "  </tbody>\n",
       "</table>\n",
       "</div>"
      ],
      "text/plain": [
       "Empty DataFrame\n",
       "Columns: []\n",
       "Index: []"
      ]
     },
     "execution_count": 28,
     "metadata": {},
     "output_type": "execute_result"
    }
   ],
   "source": [
    "ppi_df.head(2)"
   ]
  },
  {
   "cell_type": "markdown",
   "metadata": {},
   "source": [
    "> NOTE: No interactions found here"
   ]
  },
  {
   "cell_type": "markdown",
   "metadata": {},
   "source": [
    "## 8. Graph generation \n",
    "\n",
    "### 8.1. Combine all data and metadata"
   ]
  },
  {
   "cell_type": "code",
   "execution_count": 29,
   "metadata": {},
   "outputs": [],
   "source": [
    "combined_df = combine_sources(\n",
    "    bridgedb_df,\n",
    "    [\n",
    "        bgee_df,\n",
    "        disgenet_df,\n",
    "        minerva_df,\n",
    "        wikipathways_df,\n",
    "        opentargets_reactome_df,\n",
    "        opentargets_go_df,\n",
    "        opentargets_compound_df,\n",
    "        inhibitor_df,\n",
    "        pubchem_assay_df,\n",
    "        ppi_df,\n",
    "        wikipathways_mol_df,\n",
    "    ],\n",
    ")\n",
    "combined_df.to_pickle(f\"{EXAMPLE_DIR}/combined_df.pkl\")"
   ]
  },
  {
   "cell_type": "code",
   "execution_count": 30,
   "metadata": {},
   "outputs": [
    {
     "data": {
      "text/html": [
       "<div>\n",
       "<style scoped>\n",
       "    .dataframe tbody tr th:only-of-type {\n",
       "        vertical-align: middle;\n",
       "    }\n",
       "\n",
       "    .dataframe tbody tr th {\n",
       "        vertical-align: top;\n",
       "    }\n",
       "\n",
       "    .dataframe thead th {\n",
       "        text-align: right;\n",
       "    }\n",
       "</style>\n",
       "<table border=\"1\" class=\"dataframe\">\n",
       "  <thead>\n",
       "    <tr style=\"text-align: right;\">\n",
       "      <th></th>\n",
       "      <th>identifier</th>\n",
       "      <th>identifier.source</th>\n",
       "      <th>target</th>\n",
       "      <th>target.source</th>\n",
       "      <th>Bgee_gene_expression_levels</th>\n",
       "      <th>DISGENET_diseases</th>\n",
       "      <th>MINERVA_pathways</th>\n",
       "      <th>WikiPathways</th>\n",
       "      <th>OpenTargets_reactome</th>\n",
       "      <th>OpenTargets_go</th>\n",
       "      <th>OpenTargets_gene_compounds</th>\n",
       "      <th>PubChem_assays</th>\n",
       "      <th>WikiPathways_molecular</th>\n",
       "    </tr>\n",
       "  </thead>\n",
       "  <tbody>\n",
       "    <tr>\n",
       "      <th>0</th>\n",
       "      <td>7350</td>\n",
       "      <td>Entrez Gene</td>\n",
       "      <td>ENSG00000109424</td>\n",
       "      <td>Ensembl</td>\n",
       "      <td>[{'anatomical_entity_id': 'UBERON:0000955', 'a...</td>\n",
       "      <td>[{'disease_name': 'Obesity', 'HPO': 'HPO:HP:00...</td>\n",
       "      <td>[{'pathway_id': nan, 'pathway_label': nan, 'pa...</td>\n",
       "      <td>[{'pathway_id': 'WP:WP4746', 'pathway_label': ...</td>\n",
       "      <td>[{'pathway_label': 'Mitochondrial Uncoupling',...</td>\n",
       "      <td>[{'go_id': 'GO:1990542', 'go_name': 'mitochond...</td>\n",
       "      <td>[{'chembl_id': nan, 'drugbank_id': nan, 'compo...</td>\n",
       "      <td>[{'pubchem_assay_id': nan, 'assay_type': nan, ...</td>\n",
       "      <td>[{'pathway_id': 'WP:4746', 'pathway_label': 'T...</td>\n",
       "    </tr>\n",
       "    <tr>\n",
       "      <th>1</th>\n",
       "      <td>6198</td>\n",
       "      <td>Entrez Gene</td>\n",
       "      <td>ENSG00000108443</td>\n",
       "      <td>Ensembl</td>\n",
       "      <td>[{'anatomical_entity_id': 'UBERON:0000178', 'a...</td>\n",
       "      <td>[{'disease_name': 'Colorectal Carcinoma', 'HPO...</td>\n",
       "      <td>[{'pathway_id': 'MINERVA:939', 'pathway_label'...</td>\n",
       "      <td>[{'pathway_id': 'WP:WP4746', 'pathway_label': ...</td>\n",
       "      <td>[{'pathway_label': 'mTORC1-mediated signalling...</td>\n",
       "      <td>[{'go_id': 'GO:0043201', 'go_name': 'response ...</td>\n",
       "      <td>[{'chembl_id': 'CHEMBL:CHEMBL3545076', 'drugba...</td>\n",
       "      <td>[{'pubchem_assay_id': nan, 'assay_type': nan, ...</td>\n",
       "      <td>[{'pathway_id': 'WP:4936', 'pathway_label': 'P...</td>\n",
       "    </tr>\n",
       "  </tbody>\n",
       "</table>\n",
       "</div>"
      ],
      "text/plain": [
       "  identifier identifier.source           target target.source  \\\n",
       "0       7350       Entrez Gene  ENSG00000109424       Ensembl   \n",
       "1       6198       Entrez Gene  ENSG00000108443       Ensembl   \n",
       "\n",
       "                         Bgee_gene_expression_levels  \\\n",
       "0  [{'anatomical_entity_id': 'UBERON:0000955', 'a...   \n",
       "1  [{'anatomical_entity_id': 'UBERON:0000178', 'a...   \n",
       "\n",
       "                                   DISGENET_diseases  \\\n",
       "0  [{'disease_name': 'Obesity', 'HPO': 'HPO:HP:00...   \n",
       "1  [{'disease_name': 'Colorectal Carcinoma', 'HPO...   \n",
       "\n",
       "                                    MINERVA_pathways  \\\n",
       "0  [{'pathway_id': nan, 'pathway_label': nan, 'pa...   \n",
       "1  [{'pathway_id': 'MINERVA:939', 'pathway_label'...   \n",
       "\n",
       "                                        WikiPathways  \\\n",
       "0  [{'pathway_id': 'WP:WP4746', 'pathway_label': ...   \n",
       "1  [{'pathway_id': 'WP:WP4746', 'pathway_label': ...   \n",
       "\n",
       "                                OpenTargets_reactome  \\\n",
       "0  [{'pathway_label': 'Mitochondrial Uncoupling',...   \n",
       "1  [{'pathway_label': 'mTORC1-mediated signalling...   \n",
       "\n",
       "                                      OpenTargets_go  \\\n",
       "0  [{'go_id': 'GO:1990542', 'go_name': 'mitochond...   \n",
       "1  [{'go_id': 'GO:0043201', 'go_name': 'response ...   \n",
       "\n",
       "                          OpenTargets_gene_compounds  \\\n",
       "0  [{'chembl_id': nan, 'drugbank_id': nan, 'compo...   \n",
       "1  [{'chembl_id': 'CHEMBL:CHEMBL3545076', 'drugba...   \n",
       "\n",
       "                                      PubChem_assays  \\\n",
       "0  [{'pubchem_assay_id': nan, 'assay_type': nan, ...   \n",
       "1  [{'pubchem_assay_id': nan, 'assay_type': nan, ...   \n",
       "\n",
       "                              WikiPathways_molecular  \n",
       "0  [{'pathway_id': 'WP:4746', 'pathway_label': 'T...  \n",
       "1  [{'pathway_id': 'WP:4936', 'pathway_label': 'P...  "
      ]
     },
     "execution_count": 30,
     "metadata": {},
     "output_type": "execute_result"
    }
   ],
   "source": [
    "combined_df.head(2)"
   ]
  },
  {
   "cell_type": "markdown",
   "metadata": {},
   "source": [
    "The following code chunk shuffles the DisGeNET-queried data before serializing the graphs and displaying them, as it is not open access."
   ]
  },
  {
   "cell_type": "code",
   "execution_count": 31,
   "metadata": {},
   "outputs": [],
   "source": [
    "# Shuffling the rows\n",
    "import numpy as np\n",
    "\n",
    "combined_df[\"DISGENET_diseases\"] = combined_df[\"DISGENET_diseases\"].apply(np.random.permutation)"
   ]
  },
  {
   "cell_type": "code",
   "execution_count": 32,
   "metadata": {},
   "outputs": [],
   "source": [
    "combined_metadata = create_or_append_to_metadata(\n",
    "    bridgedb_metadata,\n",
    "    [\n",
    "        bgee_metadata,\n",
    "        disgenet_metadata,\n",
    "        opentargets_metadata,\n",
    "        opentargets_compound_metadata,\n",
    "        inhibitor_metadata,\n",
    "        pubchem_assay_metadata,\n",
    "        ppi_metadata,\n",
    "        wikipathways_metadata,\n",
    "        minerva_metadata,\n",
    "        opentargets_reactome_metadata,\n",
    "        opentargets_go_metadata,\n",
    "        wikipathways_mol_metadata,\n",
    "    ],\n",
    ")"
   ]
  },
  {
   "cell_type": "markdown",
   "metadata": {},
   "source": [
    "### 8.2. Create a graph from the annotated dataframe"
   ]
  },
  {
   "cell_type": "code",
   "execution_count": 33,
   "metadata": {},
   "outputs": [
    {
     "name": "stderr",
     "output_type": "stream",
     "text": [
      "Combined DataFrame saved in /Users/yojana/Documents/GitHub/pyBiodatafuse/examples/data/gene_to_graph_workflow/examples_df.pkl\n",
      "Metadata saved in /Users/yojana/Documents/GitHub/pyBiodatafuse/examples/data/gene_to_graph_workflow/examples_metadata.pkl\n",
      "Building graph: 100%|██████████| 78/78 [00:00<00:00, 138.04it/s]\n",
      "Graph is built successfully\n",
      "Graph saved in /Users/yojana/Documents/GitHub/pyBiodatafuse/examples/data/gene_to_graph_workflow/examples_graph.pkl and /Users/yojana/Documents/GitHub/pyBiodatafuse/examples/data/gene_to_graph_workflow/examples_graph.gml\n",
      "Graph saved in /Users/yojana/Documents/GitHub/pyBiodatafuse/examples/data/gene_to_graph_workflow/examples_graph.edgelist\n"
     ]
    }
   ],
   "source": [
    "pygraph = save_graph(\n",
    "    combined_df=combined_df,\n",
    "    combined_metadata=combined_metadata,\n",
    "    disease_compound=opentargets_df,\n",
    "    graph_name=\"examples\",\n",
    "    graph_dir=EXAMPLE_DIR,\n",
    ")"
   ]
  },
  {
   "cell_type": "markdown",
   "metadata": {},
   "source": [
    "#### 8.3. Cytoscape\n",
    "Make sure that the Cytoscape is open."
   ]
  },
  {
   "cell_type": "code",
   "execution_count": null,
   "metadata": {},
   "outputs": [],
   "source": [
    "from pyBiodatafuse.graph import cytoscape\n",
    "\n",
    "cytoscape.load_graph(\n",
    "    pygraph,\n",
    "    network_name=\"Gene to Graph Workflow\",\n",
    ")"
   ]
  },
  {
   "cell_type": "code",
   "execution_count": null,
   "metadata": {
    "vscode": {
     "languageId": "shellscript"
    }
   },
   "outputs": [],
   "source": [
    "import py4cytoscape as p4c\n",
    "\n",
    "p4c.notebook_export_show_image()"
   ]
  }
 ],
 "metadata": {
  "kernelspec": {
   "display_name": "pybiodatafuse",
   "language": "python",
   "name": "python3"
  },
  "language_info": {
   "codemirror_mode": {
    "name": "ipython",
    "version": 3
   },
   "file_extension": ".py",
   "mimetype": "text/x-python",
   "name": "python",
   "nbconvert_exporter": "python",
   "pygments_lexer": "ipython3",
   "version": "3.10.16"
  }
 },
 "nbformat": 4,
 "nbformat_minor": 4
}
