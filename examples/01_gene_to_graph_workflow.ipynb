{
 "cells": [
  {
   "cell_type": "markdown",
   "metadata": {},
   "source": [
    "# Gene-to-graph workflow\n",
    "\n",
    "This notebook showcases the steps to generate the BioDataFuse data and graph serializations from a list of genes.\n"
   ]
  },
  {
   "cell_type": "code",
   "execution_count": 1,
   "metadata": {},
   "outputs": [
    {
     "name": "stdout",
     "output_type": "stream",
     "text": [
      "Current directory: /home/javi/pyBiodatafuse-1\n"
     ]
    }
   ],
   "source": [
    "# Setting up the working directory\n",
    "import os\n",
    "import time\n",
    "\n",
    "start_time = time.time()\n",
    "current_dir = os.getcwd()\n",
    "\n",
    "os.chdir(os.path.join(f\"{current_dir}\", \"..\"))\n",
    "\n",
    "# Set the current working directory\n",
    "current_dir = os.getcwd()\n",
    "print(\"Current directory:\", current_dir)"
   ]
  },
  {
   "cell_type": "code",
   "execution_count": 2,
   "metadata": {},
   "outputs": [],
   "source": [
    "# Import modules\n",
    "import pickle\n",
    "\n",
    "import pandas as pd\n",
    "from IPython.display import Image, display\n",
    "\n",
    "from pyBiodatafuse import id_mapper\n",
    "from pyBiodatafuse.annotators import (\n",
    "    bgee,\n",
    "    disgenet,\n",
    "    minerva,\n",
    "    molmedb,\n",
    "    opentargets,\n",
    "    pubchem,\n",
    "    stringdb,\n",
    "    wikipathways,\n",
    ")\n",
    "from pyBiodatafuse.constants import DISGENET_DISEASE_COL\n",
    "from pyBiodatafuse.graph import generator\n",
    "from pyBiodatafuse.graph.rdf import BDFGraph\n",
    "from pyBiodatafuse.utils import (\n",
    "    combine_sources,\n",
    "    create_harmonized_input_file,\n",
    "    create_or_append_to_metadata,\n",
    ")"
   ]
  },
  {
   "cell_type": "markdown",
   "metadata": {},
   "source": [
    "## 1. Entity resolution with BridgeDB\n",
    "\n",
    "The first step is to input the list of genes to query and retrieve their protein target and synonym identifiers using BridgeDB."
   ]
  },
  {
   "cell_type": "markdown",
   "metadata": {},
   "source": [
    "### 1.1. Load the input list and convert it to a dataframe"
   ]
  },
  {
   "cell_type": "code",
   "execution_count": 3,
   "metadata": {},
   "outputs": [
    {
     "data": {
      "text/html": [
       "<div>\n",
       "<style scoped>\n",
       "    .dataframe tbody tr th:only-of-type {\n",
       "        vertical-align: middle;\n",
       "    }\n",
       "\n",
       "    .dataframe tbody tr th {\n",
       "        vertical-align: top;\n",
       "    }\n",
       "\n",
       "    .dataframe thead th {\n",
       "        text-align: right;\n",
       "    }\n",
       "</style>\n",
       "<table border=\"1\" class=\"dataframe\">\n",
       "  <thead>\n",
       "    <tr style=\"text-align: right;\">\n",
       "      <th></th>\n",
       "      <th>identifier</th>\n",
       "    </tr>\n",
       "  </thead>\n",
       "  <tbody>\n",
       "    <tr>\n",
       "      <th>0</th>\n",
       "      <td>SETD1A</td>\n",
       "    </tr>\n",
       "    <tr>\n",
       "      <th>1</th>\n",
       "      <td>CUL1</td>\n",
       "    </tr>\n",
       "    <tr>\n",
       "      <th>2</th>\n",
       "      <td>XPO7</td>\n",
       "    </tr>\n",
       "    <tr>\n",
       "      <th>3</th>\n",
       "      <td>GRIA3</td>\n",
       "    </tr>\n",
       "    <tr>\n",
       "      <th>4</th>\n",
       "      <td>GRIN2A</td>\n",
       "    </tr>\n",
       "  </tbody>\n",
       "</table>\n",
       "</div>"
      ],
      "text/plain": [
       "  identifier\n",
       "0     SETD1A\n",
       "1       CUL1\n",
       "2       XPO7\n",
       "3      GRIA3\n",
       "4     GRIN2A"
      ]
     },
     "execution_count": 3,
     "metadata": {},
     "output_type": "execute_result"
    }
   ],
   "source": [
    "genes_of_interest = \"\"\"SETD1A\n",
    "CUL1\n",
    "XPO7\n",
    "GRIA3\n",
    "GRIN2A\n",
    "RB1CC1\n",
    "\"\"\"\n",
    "\n",
    "gene_list = genes_of_interest.split(\"\\n\")\n",
    "data_input = pd.DataFrame(gene_list, columns=[\"identifier\"])\n",
    "data_input.head()"
   ]
  },
  {
   "cell_type": "markdown",
   "metadata": {},
   "source": [
    "### 1.2. Query BridgeDB\n",
    "The results will be stored in the following directories:"
   ]
  },
  {
   "cell_type": "code",
   "execution_count": 4,
   "metadata": {},
   "outputs": [],
   "source": [
    "os.makedirs(os.path.join(\"examples\", \"data\"), exist_ok=True)  # TODO paths\n",
    "os.makedirs(os.path.join(\"examples\", \"data\", \"gene_to_graph_workflow\"), exist_ok=True)"
   ]
  },
  {
   "cell_type": "code",
   "execution_count": 5,
   "metadata": {},
   "outputs": [],
   "source": [
    "base_dir = os.path.abspath(os.getcwd())  # Ensures an absolute path\n",
    "pickle_path = os.path.join(base_dir, \"examples\", \"data\", \"example_gene_list.pkl\")\n",
    "metadata_path = os.path.join(base_dir, \"examples\", \"data\", \"example_gene_list_metadata.pkl\")\n",
    "\n",
    "if not os.path.exists(pickle_path):\n",
    "    bridgedb_df, bridgedb_metadata = id_mapper.bridgedb_xref(\n",
    "        identifiers=data_input,\n",
    "        input_species=\"Human\",\n",
    "        input_datasource=\"HGNC\",\n",
    "        output_datasource=\"All\",\n",
    "    )\n",
    "    bridgedb_df.to_pickle(pickle_path)\n",
    "    with open(metadata_path, \"wb\") as file:\n",
    "        pickle.dump(bridgedb_metadata, file)\n",
    "else:\n",
    "    bridgedb_df = pd.read_pickle(pickle_path)\n",
    "    with open(metadata_path, \"rb\") as file:\n",
    "        bridgedb_metadata = pickle.load(file)"
   ]
  },
  {
   "cell_type": "code",
   "execution_count": 6,
   "metadata": {},
   "outputs": [
    {
     "name": "stdout",
     "output_type": "stream",
     "text": [
      "Number of genes with mapping in BridgeDb: 6\n"
     ]
    },
    {
     "data": {
      "text/html": [
       "<div>\n",
       "<style scoped>\n",
       "    .dataframe tbody tr th:only-of-type {\n",
       "        vertical-align: middle;\n",
       "    }\n",
       "\n",
       "    .dataframe tbody tr th {\n",
       "        vertical-align: top;\n",
       "    }\n",
       "\n",
       "    .dataframe thead th {\n",
       "        text-align: right;\n",
       "    }\n",
       "</style>\n",
       "<table border=\"1\" class=\"dataframe\">\n",
       "  <thead>\n",
       "    <tr style=\"text-align: right;\">\n",
       "      <th></th>\n",
       "      <th>identifier</th>\n",
       "      <th>identifier.source</th>\n",
       "      <th>target</th>\n",
       "      <th>target.source</th>\n",
       "    </tr>\n",
       "  </thead>\n",
       "  <tbody>\n",
       "    <tr>\n",
       "      <th>0</th>\n",
       "      <td>SETD1A</td>\n",
       "      <td>HGNC</td>\n",
       "      <td>C9J2Z9</td>\n",
       "      <td>Uniprot-TrEMBL</td>\n",
       "    </tr>\n",
       "    <tr>\n",
       "      <th>1</th>\n",
       "      <td>SETD1A</td>\n",
       "      <td>HGNC</td>\n",
       "      <td>ENSG00000099381</td>\n",
       "      <td>Ensembl</td>\n",
       "    </tr>\n",
       "    <tr>\n",
       "      <th>2</th>\n",
       "      <td>SETD1A</td>\n",
       "      <td>HGNC</td>\n",
       "      <td>HGNC:29010</td>\n",
       "      <td>HGNC Accession Number</td>\n",
       "    </tr>\n",
       "    <tr>\n",
       "      <th>3</th>\n",
       "      <td>SETD1A</td>\n",
       "      <td>HGNC</td>\n",
       "      <td>SETD1A</td>\n",
       "      <td>HGNC</td>\n",
       "    </tr>\n",
       "    <tr>\n",
       "      <th>4</th>\n",
       "      <td>SETD1A</td>\n",
       "      <td>HGNC</td>\n",
       "      <td>9739</td>\n",
       "      <td>NCBI Gene</td>\n",
       "    </tr>\n",
       "  </tbody>\n",
       "</table>\n",
       "</div>"
      ],
      "text/plain": [
       "  identifier identifier.source           target          target.source\n",
       "0     SETD1A              HGNC           C9J2Z9         Uniprot-TrEMBL\n",
       "1     SETD1A              HGNC  ENSG00000099381                Ensembl\n",
       "2     SETD1A              HGNC       HGNC:29010  HGNC Accession Number\n",
       "3     SETD1A              HGNC           SETD1A                   HGNC\n",
       "4     SETD1A              HGNC             9739              NCBI Gene"
      ]
     },
     "execution_count": 6,
     "metadata": {},
     "output_type": "execute_result"
    }
   ],
   "source": [
    "print(\"Number of genes with mapping in BridgeDb:\", len(bridgedb_df[\"identifier\"].unique()))\n",
    "bridgedb_df.head()"
   ]
  },
  {
   "cell_type": "markdown",
   "metadata": {},
   "source": [
    "## 2. Gene expression\n",
    "### 2.1. Gene expression from Bgee"
   ]
  },
  {
   "cell_type": "code",
   "execution_count": 7,
   "metadata": {},
   "outputs": [],
   "source": [
    "bgee_path = os.path.join(base_dir, \"examples\", \"data\", \"example_bgee.pkl\")\n",
    "bgee_metadata_path = os.path.join(base_dir, \"examples\", \"data\", \"example_bgee_metadata.pkl\")\n",
    "\n",
    "if not os.path.exists(bgee_path):\n",
    "    bgee_df, bgee_metadata = bgee.get_gene_expression(bridgedb_df=bridgedb_df)\n",
    "    bgee_df.to_pickle(bgee_path)\n",
    "    with open(bgee_metadata_path, \"wb\") as file:\n",
    "        pickle.dump(bgee_metadata, file)\n",
    "else:\n",
    "    bgee_df = pd.read_pickle(bgee_path)\n",
    "    with open(bgee_metadata_path, \"rb\") as file:\n",
    "        bgee_metadata = pickle.load(file)"
   ]
  },
  {
   "cell_type": "markdown",
   "metadata": {},
   "source": [
    "## 3. Disease annotation\n",
    "### 3.1. Gene to disease annotation with DisGeNET"
   ]
  },
  {
   "cell_type": "code",
   "execution_count": 8,
   "metadata": {},
   "outputs": [],
   "source": [
    "#import dotenv\n",
    "\n",
    "#disgenet_api_key = dotenv.dotenv_values(\".env\")[\"DISGENET_API_KEY\"]"
   ]
  },
  {
   "cell_type": "code",
   "execution_count": 9,
   "metadata": {},
   "outputs": [
    {
     "ename": "NameError",
     "evalue": "name 'disgenet_api_key' is not defined",
     "output_type": "error",
     "traceback": [
      "\u001b[0;31m---------------------------------------------------------------------------\u001b[0m",
      "\u001b[0;31mNameError\u001b[0m                                 Traceback (most recent call last)",
      "\u001b[0;32m/tmp/ipykernel_1389686/1013543562.py\u001b[0m in \u001b[0;36m<module>\u001b[0;34m\u001b[0m\n\u001b[1;32m      5\u001b[0m \u001b[0;32mif\u001b[0m \u001b[0;32mnot\u001b[0m \u001b[0mos\u001b[0m\u001b[0;34m.\u001b[0m\u001b[0mpath\u001b[0m\u001b[0;34m.\u001b[0m\u001b[0mexists\u001b[0m\u001b[0;34m(\u001b[0m\u001b[0mdisgenet_path\u001b[0m\u001b[0;34m)\u001b[0m\u001b[0;34m:\u001b[0m\u001b[0;34m\u001b[0m\u001b[0;34m\u001b[0m\u001b[0m\n\u001b[1;32m      6\u001b[0m     disgenet_df, disgenet_metadata = disgenet.get_gene_disease(\n\u001b[0;32m----> 7\u001b[0;31m         \u001b[0mapi_key\u001b[0m\u001b[0;34m=\u001b[0m\u001b[0mdisgenet_api_key\u001b[0m\u001b[0;34m,\u001b[0m \u001b[0mbridgedb_df\u001b[0m\u001b[0;34m=\u001b[0m\u001b[0mbridgedb_df\u001b[0m\u001b[0;34m\u001b[0m\u001b[0;34m\u001b[0m\u001b[0m\n\u001b[0m\u001b[1;32m      8\u001b[0m     )\n\u001b[1;32m      9\u001b[0m \u001b[0;34m\u001b[0m\u001b[0m\n",
      "\u001b[0;31mNameError\u001b[0m: name 'disgenet_api_key' is not defined"
     ]
    }
   ],
   "source": [
    "disgenet_path = os.path.join(base_dir, \"examples\", \"data\", \"example_disgenet.pkl\")\n",
    "disgenet_metadata_path = os.path.join(base_dir, \"examples\", \"data\", \"example_disgenet_metadata.pkl\")\n",
    "\n",
    "\n",
    "if not os.path.exists(disgenet_path):\n",
    "    disgenet_df, disgenet_metadata = disgenet.get_gene_disease(\n",
    "        api_key=disgenet_api_key, bridgedb_df=bridgedb_df\n",
    "    )\n",
    "\n",
    "    disgenet_df.to_pickle(disgenet_path)\n",
    "    with open(disgenet_metadata_path, \"wb\") as file:\n",
    "        pickle.dump(disgenet_metadata, file)\n",
    "else:\n",
    "    disgenet_df = pd.read_pickle(disgenet_path)\n",
    "    with open(disgenet_metadata_path, \"rb\") as file:\n",
    "        disgenet_metadata = pickle.load(file)"
   ]
  },
  {
   "cell_type": "markdown",
   "metadata": {},
   "source": [
    "### 3.2. Disease to compound annotation from OpenTargets"
   ]
  },
  {
   "cell_type": "code",
   "execution_count": null,
   "metadata": {},
   "outputs": [],
   "source": [
    "# Prepare the input to use DISGENET output as seed for OpenTargets\n",
    "disease_mapping_df = create_harmonized_input_file(disgenet_df, DISGENET_DISEASE_COL, \"EFO\", \"UMLS\")\n",
    "disease_mapping_df.head()"
   ]
  },
  {
   "cell_type": "code",
   "execution_count": null,
   "metadata": {},
   "outputs": [],
   "source": [
    "opentarget_path = os.path.join(base_dir, \"examples\", \"data\", \"example_opentarget_cmpd.pkl\")\n",
    "opentarget_metadata_path = os.path.join(\n",
    "    base_dir, \"examples\", \"data\", \"example_opentarget_cmpd_metadata.pkl\"\n",
    ")\n",
    "\n",
    "\n",
    "if not os.path.exists(opentarget_path):\n",
    "    opentargets_df, opentargets_metadata = opentargets.get_disease_compound_interactions(\n",
    "        disease_mapping_df\n",
    "    )\n",
    "    opentargets_df.to_pickle(opentarget_path)\n",
    "    with open(opentarget_metadata_path, \"wb\") as file:\n",
    "        pickle.dump(opentargets_metadata, file)\n",
    "else:\n",
    "    opentargets_df = pd.read_pickle(opentarget_path)\n",
    "    with open(opentarget_metadata_path, \"rb\") as file:\n",
    "        opentargets_metadata = pickle.load(file)"
   ]
  },
  {
   "cell_type": "markdown",
   "metadata": {},
   "source": [
    "## 4. Pathways and Gene Ontology terms\n",
    "### 4.1. Pathways from MINERVA"
   ]
  },
  {
   "cell_type": "code",
   "execution_count": 10,
   "metadata": {},
   "outputs": [],
   "source": [
    "minerva_path = os.path.join(base_dir, \"examples\", \"data\", \"example_minerva.pkl\")\n",
    "minerva_metadata_path = os.path.join(base_dir, \"examples\", \"data\", \"example_minerva_metadata.pkl\")\n",
    "\n",
    "\n",
    "if not os.path.exists(minerva_path):\n",
    "    minerva_df, minerva_metadata = minerva.get_gene_minerva_pathways(\n",
    "        bridgedb_df, map_name=\"COVID19 Disease Map\"\n",
    "    )\n",
    "    minerva_df.to_pickle(minerva_path)\n",
    "    with open(minerva_metadata_path, \"wb\") as file:\n",
    "        pickle.dump(minerva_metadata, file)\n",
    "\n",
    "else:\n",
    "    minerva_df = pd.read_pickle(minerva_path)\n",
    "    with open(minerva_metadata_path, \"rb\") as file:\n",
    "        minerva_metadata = pickle.load(file)"
   ]
  },
  {
   "cell_type": "markdown",
   "metadata": {},
   "source": [
    "### 4.2. Pathways from WikiPathways"
   ]
  },
  {
   "cell_type": "code",
   "execution_count": 11,
   "metadata": {},
   "outputs": [],
   "source": [
    "wikipathways_path = os.path.join(base_dir, \"examples\", \"data\", \"example_wikipathway.pkl\")\n",
    "wikipathways_metadata_path = os.path.join(\n",
    "    base_dir, \"examples\", \"data\", \"example_wikipathway_metadata.pkl\"\n",
    ")\n",
    "\n",
    "\n",
    "if not os.path.exists(wikipathways_path):\n",
    "    wikipathways_df, wikipathways_metadata = wikipathways.get_gene_wikipathways(\n",
    "        bridgedb_df=bridgedb_df\n",
    "    )\n",
    "    wikipathways_df.to_pickle(wikipathways_path)\n",
    "    with open(wikipathways_metadata_path, \"wb\") as file:\n",
    "        pickle.dump(wikipathways_metadata, file)\n",
    "\n",
    "else:\n",
    "    wikipathways_df = pd.read_pickle(wikipathways_path)\n",
    "    with open(wikipathways_metadata_path, \"rb\") as file:\n",
    "        wikipathways_metadata = pickle.load(file)"
   ]
  },
  {
   "cell_type": "markdown",
   "metadata": {},
   "source": [
    "### 4.3. Reactome pathways from OpenTargets"
   ]
  },
  {
   "cell_type": "code",
   "execution_count": 12,
   "metadata": {},
   "outputs": [],
   "source": [
    "opentargets_reactome_path = os.path.join(base_dir, \"examples\", \"data\", \"example_ot_reactome.pkl\")\n",
    "opentargets_reactome_metadata_path = os.path.join(\n",
    "    base_dir, \"examples\", \"data\", \"example_ot_reactome_metadata.pkl\"\n",
    ")\n",
    "\n",
    "\n",
    "if not os.path.exists(opentargets_reactome_path):\n",
    "    opentargets_reactome_df, opentargets_reactome_metadata = opentargets.get_gene_reactome_pathways(\n",
    "        bridgedb_df=bridgedb_df\n",
    "    )\n",
    "    opentargets_reactome_df.to_pickle(opentargets_reactome_path)\n",
    "    with open(opentargets_reactome_metadata_path, \"wb\") as file:\n",
    "        pickle.dump(opentargets_reactome_metadata, file)\n",
    "else:\n",
    "    opentargets_reactome_df = pd.read_pickle(opentargets_reactome_path)\n",
    "    with open(opentargets_reactome_metadata_path, \"rb\") as file:\n",
    "        opentargets_reactome_metadata = pickle.load(file)"
   ]
  },
  {
   "cell_type": "markdown",
   "metadata": {},
   "source": [
    "### 4.4. Gene Ontology from OpenTargets"
   ]
  },
  {
   "cell_type": "code",
   "execution_count": 13,
   "metadata": {},
   "outputs": [],
   "source": [
    "opentargets_go_path = os.path.join(base_dir, \"examples\", \"data\", \"example_ot_go.pkl\")\n",
    "opentargets_go_metadata_path = os.path.join(\n",
    "    base_dir, \"examples\", \"data\", \"example_ot_go_metadata.pkl\"\n",
    ")\n",
    "\n",
    "\n",
    "if not os.path.exists(opentargets_go_path):\n",
    "    opentargets_go_df, opentargets_go_metadata = opentargets.get_gene_go_process(\n",
    "        bridgedb_df=bridgedb_df\n",
    "    )\n",
    "    opentargets_go_df.to_pickle(opentargets_go_path)\n",
    "    with open(opentargets_go_metadata_path, \"wb\") as file:\n",
    "        pickle.dump(opentargets_go_metadata, file)\n",
    "else:\n",
    "    opentargets_go_df = pd.read_pickle(opentargets_go_path)\n",
    "    with open(opentargets_go_metadata_path, \"rb\") as file:\n",
    "        opentargets_go_metadata = pickle.load(file)"
   ]
  },
  {
   "cell_type": "markdown",
   "metadata": {},
   "source": [
    "## 5. Compound annotation\n",
    "### 5.1. Compound annotation from OpenTargets"
   ]
  },
  {
   "cell_type": "code",
   "execution_count": 14,
   "metadata": {},
   "outputs": [],
   "source": [
    "opentargets_gene_path = os.path.join(base_dir, \"examples\", \"data\", \"example_ot_gene_cmpd.pkl\")\n",
    "opentargets_gene_metadata_path = os.path.join(\n",
    "    base_dir, \"examples\", \"data\", \"example_ot_gene_cmpd_metadata.pkl\"\n",
    ")\n",
    "\n",
    "\n",
    "if not os.path.exists(opentargets_gene_path):\n",
    "    opentargets_compound_df, opentargets_compound_metadata = (\n",
    "        opentargets.get_gene_compound_interactions(bridgedb_df=bridgedb_df)\n",
    "    )\n",
    "    opentargets_compound_df.to_pickle(opentargets_gene_path)\n",
    "    with open(opentargets_gene_metadata_path, \"wb\") as file:\n",
    "        pickle.dump(opentargets_compound_metadata, file)\n",
    "\n",
    "else:\n",
    "    opentargets_compound_df = pd.read_pickle(opentargets_gene_path)\n",
    "    with open(opentargets_gene_metadata_path, \"rb\") as file:\n",
    "        opentargets_compound_metadata = pickle.load(file)"
   ]
  },
  {
   "cell_type": "markdown",
   "metadata": {},
   "source": [
    "### 5.2. Screening results of compounds on proteins encoded by genes annotation by PubChem"
   ]
  },
  {
   "cell_type": "code",
   "execution_count": 15,
   "metadata": {},
   "outputs": [],
   "source": [
    "pubchem_path = os.path.join(base_dir, \"examples\", \"data\", \"example_pubchem.pkl\")\n",
    "pubchem_metadata_path = os.path.join(base_dir, \"examples\", \"data\", \"example_pubchem_metadata.pkl\")\n",
    "\n",
    "if not os.path.exists(pubchem_path):\n",
    "    pubchem_assay_df, pubchem_assay_metadata = pubchem.get_protein_compound_screened(\n",
    "        bridgedb_df=bridgedb_df\n",
    "    )\n",
    "    pubchem_assay_df.to_pickle(pubchem_path)\n",
    "    with open(pubchem_metadata_path, \"wb\") as file:\n",
    "        pickle.dump(pubchem_assay_metadata, file)\n",
    "\n",
    "else:\n",
    "    pubchem_assay_df = pd.read_pickle(pubchem_path)\n",
    "    with open(pubchem_metadata_path, \"rb\") as file:\n",
    "        pubchem_assay_metadata = pickle.load(file)"
   ]
  },
  {
   "cell_type": "markdown",
   "metadata": {},
   "source": [
    "## 6. Membrane transport annotations\n",
    "### 6.1 Transporter inhibitor annotation from MolMeDB"
   ]
  },
  {
   "cell_type": "code",
   "execution_count": 16,
   "metadata": {},
   "outputs": [
    {
     "data": {
      "text/html": [
       "<div>\n",
       "<style scoped>\n",
       "    .dataframe tbody tr th:only-of-type {\n",
       "        vertical-align: middle;\n",
       "    }\n",
       "\n",
       "    .dataframe tbody tr th {\n",
       "        vertical-align: top;\n",
       "    }\n",
       "\n",
       "    .dataframe thead th {\n",
       "        text-align: right;\n",
       "    }\n",
       "</style>\n",
       "<table border=\"1\" class=\"dataframe\">\n",
       "  <thead>\n",
       "    <tr style=\"text-align: right;\">\n",
       "      <th></th>\n",
       "    </tr>\n",
       "  </thead>\n",
       "  <tbody>\n",
       "  </tbody>\n",
       "</table>\n",
       "</div>"
      ],
      "text/plain": [
       "Empty DataFrame\n",
       "Columns: []\n",
       "Index: []"
      ]
     },
     "execution_count": 16,
     "metadata": {},
     "output_type": "execute_result"
    }
   ],
   "source": [
    "molmedb_path = os.path.join(base_dir, \"examples\", \"data\", \"example_molmedb_gene_cmpd.pkl\")\n",
    "molmedb_metadata_path = os.path.join(\n",
    "    base_dir, \"examples\", \"data\", \"example_molmedb_gene_cmpd_metadata.pkl\"\n",
    ")\n",
    "\n",
    "if not os.path.exists(molmedb_path):\n",
    "    inhibitor_df, inhibitor_metadata = molmedb.get_gene_compound_inhibitor(bridgedb_df=bridgedb_df)\n",
    "    inhibitor_df.to_pickle(molmedb_path)\n",
    "    with open(molmedb_metadata_path, \"wb\") as file:\n",
    "        pickle.dump(inhibitor_metadata, file)\n",
    "else:\n",
    "    inhibitor_df = pd.read_pickle(molmedb_path)\n",
    "    with open(molmedb_metadata_path, \"rb\") as file:\n",
    "        inhibitor_metadata = pickle.load(file)\n",
    "inhibitor_df.head(1)"
   ]
  },
  {
   "cell_type": "markdown",
   "metadata": {},
   "source": [
    "## 7. Protein-Protein Interactions\n",
    "\n",
    "### 7.1. Protein-Protein Interactions from STRING"
   ]
  },
  {
   "cell_type": "code",
   "execution_count": 17,
   "metadata": {},
   "outputs": [
    {
     "name": "stdout",
     "output_type": "stream",
     "text": [
      "https://rest.uniprot.org/idmapping/status/d90457d58f5d9a81ea99c81843983ed09a233596\n",
      "{'ENSP00000481554': 'P42263', 'ENSP00000332549': 'Q12879'}\n"
     ]
    }
   ],
   "source": [
    "!rm examples/data/example_string*\n",
    "string_path = os.path.join(base_dir, \"examples\", \"data\", \"example_string.pkl\")\n",
    "string_metadata_path = os.path.join(base_dir, \"examples\", \"data\", \"example_string_metadata.pkl\")\n",
    "\n",
    "if not os.path.exists(string_path):\n",
    "    ppi_df, ppi_metadata = stringdb.get_ppi(bridgedb_df=bridgedb_df)\n",
    "    ppi_df.to_pickle(string_path)\n",
    "    with open(string_metadata_path, \"wb\") as file:\n",
    "        pickle.dump(ppi_metadata, file)\n",
    "else:\n",
    "    ppi_df = pd.read_pickle(string_path)\n",
    "    with open(string_metadata_path, \"rb\") as file:\n",
    "        ppi_metadata = pickle.load(file)"
   ]
  },
  {
   "cell_type": "code",
   "execution_count": 18,
   "metadata": {},
   "outputs": [
    {
     "data": {
      "text/plain": [
       "[{'stringdb_link_to': 'GRIN2A',\n",
       "  'Ensembl': 'ENSP00000332549',\n",
       "  'score': 0.886,\n",
       "  'Ensembl_link': 'ENSP00000481554',\n",
       "  'Uniprot-TrEMBL': 'Q12879',\n",
       "  'Uniprot-TrEMBL_link': 'P42263'}]"
      ]
     },
     "execution_count": 18,
     "metadata": {},
     "output_type": "execute_result"
    }
   ],
   "source": [
    "ppi_df.StringDB_ppi[3]"
   ]
  },
  {
   "cell_type": "markdown",
   "metadata": {},
   "source": [
    "## 8. Graph generation \n",
    "\n",
    "### 8.1. Combine all data and metadata"
   ]
  },
  {
   "cell_type": "code",
   "execution_count": 19,
   "metadata": {},
   "outputs": [],
   "source": [
    "combined_df = combine_sources(\n",
    "    bridgedb_df,\n",
    "    [\n",
    "        bgee_df,\n",
    "        #disgenet_df,\n",
    "        minerva_df,\n",
    "        wikipathways_df,\n",
    "        opentargets_reactome_df,\n",
    "        opentargets_go_df,\n",
    "        opentargets_compound_df,\n",
    "        inhibitor_df,\n",
    "        pubchem_assay_df,\n",
    "        ppi_df,\n",
    "    ],\n",
    ")"
   ]
  },
  {
   "cell_type": "code",
   "execution_count": 20,
   "metadata": {},
   "outputs": [],
   "source": [
    "combined_df.to_pickle(os.path.join(base_dir, \"examples\", \"data\", \"combined_df.pkl\"))"
   ]
  },
  {
   "cell_type": "markdown",
   "metadata": {},
   "source": [
    "The following code chunk shuffles the DisGeNET-queried data before serializing the graphs and displaying them, as it is not open access."
   ]
  },
  {
   "cell_type": "code",
   "execution_count": 21,
   "metadata": {},
   "outputs": [
    {
     "ename": "KeyError",
     "evalue": "'DISGENET_diseases'",
     "output_type": "error",
     "traceback": [
      "\u001b[0;31m---------------------------------------------------------------------------\u001b[0m",
      "\u001b[0;31mKeyError\u001b[0m                                  Traceback (most recent call last)",
      "\u001b[0;32m~/.local/lib/python3.10/site-packages/pandas/core/indexes/base.py\u001b[0m in \u001b[0;36mget_loc\u001b[0;34m(self, key)\u001b[0m\n\u001b[1;32m   3652\u001b[0m         \u001b[0;32mtry\u001b[0m\u001b[0;34m:\u001b[0m\u001b[0;34m\u001b[0m\u001b[0;34m\u001b[0m\u001b[0m\n\u001b[0;32m-> 3653\u001b[0;31m             \u001b[0;32mreturn\u001b[0m \u001b[0mself\u001b[0m\u001b[0;34m.\u001b[0m\u001b[0m_engine\u001b[0m\u001b[0;34m.\u001b[0m\u001b[0mget_loc\u001b[0m\u001b[0;34m(\u001b[0m\u001b[0mcasted_key\u001b[0m\u001b[0;34m)\u001b[0m\u001b[0;34m\u001b[0m\u001b[0;34m\u001b[0m\u001b[0m\n\u001b[0m\u001b[1;32m   3654\u001b[0m         \u001b[0;32mexcept\u001b[0m \u001b[0mKeyError\u001b[0m \u001b[0;32mas\u001b[0m \u001b[0merr\u001b[0m\u001b[0;34m:\u001b[0m\u001b[0;34m\u001b[0m\u001b[0;34m\u001b[0m\u001b[0m\n",
      "\u001b[0;32m~/.local/lib/python3.10/site-packages/pandas/_libs/index.pyx\u001b[0m in \u001b[0;36mpandas._libs.index.IndexEngine.get_loc\u001b[0;34m()\u001b[0m\n",
      "\u001b[0;32m~/.local/lib/python3.10/site-packages/pandas/_libs/index.pyx\u001b[0m in \u001b[0;36mpandas._libs.index.IndexEngine.get_loc\u001b[0;34m()\u001b[0m\n",
      "\u001b[0;32mpandas/_libs/hashtable_class_helper.pxi\u001b[0m in \u001b[0;36mpandas._libs.hashtable.PyObjectHashTable.get_item\u001b[0;34m()\u001b[0m\n",
      "\u001b[0;32mpandas/_libs/hashtable_class_helper.pxi\u001b[0m in \u001b[0;36mpandas._libs.hashtable.PyObjectHashTable.get_item\u001b[0;34m()\u001b[0m\n",
      "\u001b[0;31mKeyError\u001b[0m: 'DISGENET_diseases'",
      "\nThe above exception was the direct cause of the following exception:\n",
      "\u001b[0;31mKeyError\u001b[0m                                  Traceback (most recent call last)",
      "\u001b[0;32m/tmp/ipykernel_1389686/48978855.py\u001b[0m in \u001b[0;36m<module>\u001b[0;34m\u001b[0m\n\u001b[1;32m      2\u001b[0m \u001b[0;32mimport\u001b[0m \u001b[0mnumpy\u001b[0m \u001b[0;32mas\u001b[0m \u001b[0mnp\u001b[0m\u001b[0;34m\u001b[0m\u001b[0;34m\u001b[0m\u001b[0m\n\u001b[1;32m      3\u001b[0m \u001b[0;34m\u001b[0m\u001b[0m\n\u001b[0;32m----> 4\u001b[0;31m \u001b[0mcombined_df\u001b[0m\u001b[0;34m[\u001b[0m\u001b[0;34m\"DISGENET_diseases\"\u001b[0m\u001b[0;34m]\u001b[0m \u001b[0;34m=\u001b[0m \u001b[0mcombined_df\u001b[0m\u001b[0;34m[\u001b[0m\u001b[0;34m\"DISGENET_diseases\"\u001b[0m\u001b[0;34m]\u001b[0m\u001b[0;34m.\u001b[0m\u001b[0mapply\u001b[0m\u001b[0;34m(\u001b[0m\u001b[0mnp\u001b[0m\u001b[0;34m.\u001b[0m\u001b[0mrandom\u001b[0m\u001b[0;34m.\u001b[0m\u001b[0mpermutation\u001b[0m\u001b[0;34m)\u001b[0m\u001b[0;34m\u001b[0m\u001b[0;34m\u001b[0m\u001b[0m\n\u001b[0m",
      "\u001b[0;32m~/.local/lib/python3.10/site-packages/pandas/core/frame.py\u001b[0m in \u001b[0;36m__getitem__\u001b[0;34m(self, key)\u001b[0m\n\u001b[1;32m   3759\u001b[0m             \u001b[0;32mif\u001b[0m \u001b[0mself\u001b[0m\u001b[0;34m.\u001b[0m\u001b[0mcolumns\u001b[0m\u001b[0;34m.\u001b[0m\u001b[0mnlevels\u001b[0m \u001b[0;34m>\u001b[0m \u001b[0;36m1\u001b[0m\u001b[0;34m:\u001b[0m\u001b[0;34m\u001b[0m\u001b[0;34m\u001b[0m\u001b[0m\n\u001b[1;32m   3760\u001b[0m                 \u001b[0;32mreturn\u001b[0m \u001b[0mself\u001b[0m\u001b[0;34m.\u001b[0m\u001b[0m_getitem_multilevel\u001b[0m\u001b[0;34m(\u001b[0m\u001b[0mkey\u001b[0m\u001b[0;34m)\u001b[0m\u001b[0;34m\u001b[0m\u001b[0;34m\u001b[0m\u001b[0m\n\u001b[0;32m-> 3761\u001b[0;31m             \u001b[0mindexer\u001b[0m \u001b[0;34m=\u001b[0m \u001b[0mself\u001b[0m\u001b[0;34m.\u001b[0m\u001b[0mcolumns\u001b[0m\u001b[0;34m.\u001b[0m\u001b[0mget_loc\u001b[0m\u001b[0;34m(\u001b[0m\u001b[0mkey\u001b[0m\u001b[0;34m)\u001b[0m\u001b[0;34m\u001b[0m\u001b[0;34m\u001b[0m\u001b[0m\n\u001b[0m\u001b[1;32m   3762\u001b[0m             \u001b[0;32mif\u001b[0m \u001b[0mis_integer\u001b[0m\u001b[0;34m(\u001b[0m\u001b[0mindexer\u001b[0m\u001b[0;34m)\u001b[0m\u001b[0;34m:\u001b[0m\u001b[0;34m\u001b[0m\u001b[0;34m\u001b[0m\u001b[0m\n\u001b[1;32m   3763\u001b[0m                 \u001b[0mindexer\u001b[0m \u001b[0;34m=\u001b[0m \u001b[0;34m[\u001b[0m\u001b[0mindexer\u001b[0m\u001b[0;34m]\u001b[0m\u001b[0;34m\u001b[0m\u001b[0;34m\u001b[0m\u001b[0m\n",
      "\u001b[0;32m~/.local/lib/python3.10/site-packages/pandas/core/indexes/base.py\u001b[0m in \u001b[0;36mget_loc\u001b[0;34m(self, key)\u001b[0m\n\u001b[1;32m   3653\u001b[0m             \u001b[0;32mreturn\u001b[0m \u001b[0mself\u001b[0m\u001b[0;34m.\u001b[0m\u001b[0m_engine\u001b[0m\u001b[0;34m.\u001b[0m\u001b[0mget_loc\u001b[0m\u001b[0;34m(\u001b[0m\u001b[0mcasted_key\u001b[0m\u001b[0;34m)\u001b[0m\u001b[0;34m\u001b[0m\u001b[0;34m\u001b[0m\u001b[0m\n\u001b[1;32m   3654\u001b[0m         \u001b[0;32mexcept\u001b[0m \u001b[0mKeyError\u001b[0m \u001b[0;32mas\u001b[0m \u001b[0merr\u001b[0m\u001b[0;34m:\u001b[0m\u001b[0;34m\u001b[0m\u001b[0;34m\u001b[0m\u001b[0m\n\u001b[0;32m-> 3655\u001b[0;31m             \u001b[0;32mraise\u001b[0m \u001b[0mKeyError\u001b[0m\u001b[0;34m(\u001b[0m\u001b[0mkey\u001b[0m\u001b[0;34m)\u001b[0m \u001b[0;32mfrom\u001b[0m \u001b[0merr\u001b[0m\u001b[0;34m\u001b[0m\u001b[0;34m\u001b[0m\u001b[0m\n\u001b[0m\u001b[1;32m   3656\u001b[0m         \u001b[0;32mexcept\u001b[0m \u001b[0mTypeError\u001b[0m\u001b[0;34m:\u001b[0m\u001b[0;34m\u001b[0m\u001b[0;34m\u001b[0m\u001b[0m\n\u001b[1;32m   3657\u001b[0m             \u001b[0;31m# If we have a listlike key, _check_indexing_error will raise\u001b[0m\u001b[0;34m\u001b[0m\u001b[0;34m\u001b[0m\u001b[0m\n",
      "\u001b[0;31mKeyError\u001b[0m: 'DISGENET_diseases'"
     ]
    }
   ],
   "source": [
    "# Shuffling the rows\n",
    "import numpy as np\n",
    "\n",
    "combined_df[\"DISGENET_diseases\"] = combined_df[\"DISGENET_diseases\"].apply(np.random.permutation)"
   ]
  },
  {
   "cell_type": "code",
   "execution_count": 25,
   "metadata": {},
   "outputs": [],
   "source": [
    "combined_metadata = create_or_append_to_metadata(\n",
    "    bridgedb_metadata,\n",
    "    [\n",
    "        bgee_metadata,\n",
    "        #disgenet_metadata,\n",
    "        #opentargets_metadata,\n",
    "        opentargets_compound_metadata,\n",
    "        inhibitor_metadata,\n",
    "        pubchem_assay_metadata,\n",
    "        ppi_metadata,\n",
    "        wikipathways_metadata,\n",
    "        minerva_metadata,\n",
    "        opentargets_reactome_metadata,\n",
    "        opentargets_go_metadata,\n",
    "    ],\n",
    ")"
   ]
  },
  {
   "cell_type": "markdown",
   "metadata": {},
   "source": [
    "We export the combined (meta) data in pickle format:"
   ]
  },
  {
   "cell_type": "code",
   "execution_count": 26,
   "metadata": {},
   "outputs": [],
   "source": [
    "combined_df.to_pickle(os.path.join(base_dir, \"examples\", \"data\", \"example_df_shuffled.pkl\"))\n",
    "with open(\"example_metadata.pkl\", \"wb\") as out:\n",
    "    pickle.dump(combined_metadata, out)"
   ]
  },
  {
   "cell_type": "markdown",
   "metadata": {},
   "source": [
    "### 8.2. Create a graph from the annotated dataframe"
   ]
  },
  {
   "cell_type": "code",
   "execution_count": 27,
   "metadata": {},
   "outputs": [
    {
     "ename": "NameError",
     "evalue": "name 'opentargets_df' is not defined",
     "output_type": "error",
     "traceback": [
      "\u001b[0;31m---------------------------------------------------------------------------\u001b[0m",
      "\u001b[0;31mNameError\u001b[0m                                 Traceback (most recent call last)",
      "\u001b[0;32m/tmp/ipykernel_1389686/1272627319.py\u001b[0m in \u001b[0;36m<module>\u001b[0;34m\u001b[0m\n\u001b[1;32m      2\u001b[0m     \u001b[0mcombined_df\u001b[0m\u001b[0;34m=\u001b[0m\u001b[0mcombined_df\u001b[0m\u001b[0;34m,\u001b[0m\u001b[0;34m\u001b[0m\u001b[0;34m\u001b[0m\u001b[0m\n\u001b[1;32m      3\u001b[0m     \u001b[0mcombined_metadata\u001b[0m\u001b[0;34m=\u001b[0m\u001b[0mcombined_metadata\u001b[0m\u001b[0;34m,\u001b[0m\u001b[0;34m\u001b[0m\u001b[0;34m\u001b[0m\u001b[0m\n\u001b[0;32m----> 4\u001b[0;31m     \u001b[0mdisease_compound\u001b[0m\u001b[0;34m=\u001b[0m\u001b[0mopentargets_df\u001b[0m\u001b[0;34m,\u001b[0m\u001b[0;34m\u001b[0m\u001b[0;34m\u001b[0m\u001b[0m\n\u001b[0m\u001b[1;32m      5\u001b[0m     \u001b[0mgraph_name\u001b[0m\u001b[0;34m=\u001b[0m\u001b[0;34m\"examples\"\u001b[0m\u001b[0;34m,\u001b[0m\u001b[0;34m\u001b[0m\u001b[0;34m\u001b[0m\u001b[0m\n\u001b[1;32m      6\u001b[0m     \u001b[0mgraph_dir\u001b[0m\u001b[0;34m=\u001b[0m\u001b[0;34m\"./data\"\u001b[0m\u001b[0;34m,\u001b[0m\u001b[0;34m\u001b[0m\u001b[0;34m\u001b[0m\u001b[0m\n",
      "\u001b[0;31mNameError\u001b[0m: name 'opentargets_df' is not defined"
     ]
    }
   ],
   "source": [
    "pygraph = generator.save_graph(\n",
    "    combined_df=combined_df,\n",
    "    combined_metadata=combined_metadata,\n",
    "    disease_compound=opentargets_df,\n",
    "    graph_name=\"examples\",\n",
    "    graph_dir=\"./data\",\n",
    ")"
   ]
  },
  {
   "cell_type": "markdown",
   "metadata": {},
   "source": [
    "#### 8.3. Cytoscape\n",
    "Make sure that the Cytoscape is open."
   ]
  },
  {
   "cell_type": "code",
   "execution_count": 26,
   "metadata": {},
   "outputs": [],
   "source": [
    "# from pyBiodatafuse.graph import cytoscape\n",
    "\n",
    "# cytoscape.load_graph(pygraph, network_name=\"Test network\")"
   ]
  },
  {
   "cell_type": "markdown",
   "metadata": {},
   "source": [
    "#### 8.4. Neo4j"
   ]
  },
  {
   "cell_type": "code",
   "execution_count": 27,
   "metadata": {},
   "outputs": [],
   "source": [
    "from pyBiodatafuse.graph import neo4j\n",
    "\n",
    "neo4j.save_graph_to_graphml(pygraph, \"networkx_graph_test.graphml\")"
   ]
  },
  {
   "cell_type": "markdown",
   "metadata": {},
   "source": [
    "##### Steps to load the graph in Neo4j"
   ]
  },
  {
   "cell_type": "markdown",
   "metadata": {},
   "source": [
    "- Add `.graphml` file in **import** subfolder of the DBMS folder\n",
    "- Install apoc plugin\n",
    "- Create `apoc.conf` file:\n",
    "    ```\n",
    "    apoc.trigger.enabled=true\n",
    "    apoc.import.file.enabled=true\n",
    "    apoc.export.file.enabled=true\n",
    "    apoc.import.file.use_neo4j_config=true\n",
    "    ```\n",
    "- Add `apoc.conf` file to **conf** subfolder of the DBMS folder\n",
    "- Open Neo4j Browser\n",
    "- (Optionl, only run if you have imported a graph  before) Remove all the nodes before importing `.graphml` file\n",
    "\n",
    "    ```MATCH (n) DETACH DELETE n```\n",
    "\n",
    "- Import `.graphml` file\n",
    "\n",
    "    ```call apoc.import.graphml('file:///networkx_graph_test.graphml',{readLabels:TRUE})```\n",
    "\n",
    "- Add indexes after importing the graph for improving the performance of queries\n",
    "\n",
    "    ```\n",
    "    create index Gene for (n:Gene) on (n.node_type)\n",
    "    create index Pathway for (n:Pathway) on (n.node_type)\n",
    "    create index `Biological Process` for (n:`Biological Process`) on (n.node_type)\n",
    "    create index `Molecular Function` for (n:`Molecular Function`) on (n.node_type)\n",
    "    create index `Cellular Component` for (n:`Cellular Component`) on (n.node_type)\n",
    "    create index Disease for (n:Disease) on (n.node_type)\n",
    "    create index Compound for (n:Compound) on (n.node_type)\n",
    "    create index `Side Effect` for (n:`Side Effect`) on (n.node_type)\n",
    "    ```\n",
    "    \n",
    "\n",
    "- Count the number of each node type\n",
    "    - total (```MATCH (n) RETURN count(n)```) \n",
    "        - Gene (```MATCH (n:Gene) RETURN count(n)```)\n",
    "        - Pathway (```MATCH (n:Pathway) RETURN count(n)```)\n",
    "            - WikiPathways (```MATCH (n:Pathway {source: \"WikiPathways\"}) RETURN count(n)```) \n",
    "            - OpenTargets, Reactome (```MATCH (n:Pathway {source: \"OpenTargets\"}) RETURN count(n)```) \n",
    "            - MINERVA (```MATCH (n:Pathway {source: \"MINERVA\"}) RETURN count(n)```) \n",
    "        - Biological Process (```MATCH (n:`Biological Process`) RETURN count(n)```) \n",
    "        - Molecular Function (```MATCH (n:`Molecular Function`) RETURN count(n)```) \n",
    "        - Cellular Component (```MATCH (n:`Cellular Component`) RETURN count(n)```) \n",
    "        - Disease (```MATCH (n:Disease) RETURN count(n)```) \n",
    "        - Compound (```MATCH (n:Compound) RETURN count(n)```)\n",
    "        - Side Effect (```MATCH (n:`Side Effect`) RETURN count(n)```) \n",
    "- Count the number of each edge type\n",
    "    - total (```MATCH ()-[r]->() RETURN count(r)```) \n",
    "        - interacts_with (```MATCH ()-[r:interacts_with]->() RETURN count(r)```) \n",
    "        - part_of (```MATCH ()-[r:part_of]->() RETURN count(r)```) \n",
    "            - WikiPathways (```MATCH ()-[r:part_of {source: \"WikiPathways\"}]->() RETURN count(r)```) \n",
    "            - OpenTargets, Reactome (```MATCH ()-[r:part_of {source: \"OpenTargets\"}]->() RETURN count(r)```) \n",
    "            - MINERVA (```MATCH ()-[r:part_of {source: \"MINERVA\"}]->() RETURN count(r)```) \n",
    "        - activates (```MATCH ()-[r:activates]->() RETURN count(r)```) \n",
    "        - treats (```MATCH ()-[r:treats]->() RETURN count(r)```) \n",
    "        - has_side_effect (```MATCH ()-[r:has_side_effect]->() RETURN count(r)```) \n",
    "        - inhibits (```MATCH ()-[r:inhibits]->() RETURN count(r)```) = 71\n",
    "        - associated_with (```MATCH ()-[r:associated_with]->() RETURN count(r)```) \n",
    "\n",
    "- Export the graph as a `.csv` file\n",
    "\n",
    "    ```call apoc.export.csv.all(\"networkx_graph_test.csv\",{})```"
   ]
  },
  {
   "cell_type": "markdown",
   "metadata": {},
   "source": [
    "#### 8.5. RDF"
   ]
  },
  {
   "cell_type": "code",
   "execution_count": 28,
   "metadata": {},
   "outputs": [
    {
     "name": "stderr",
     "output_type": "stream",
     "text": [
      "Building RDF graph: 100%|██████████| 6/6 [00:00<00:00, 35.24it/s]"
     ]
    },
    {
     "name": "stdout",
     "output_type": "stream",
     "text": [
      "Link P42263\n",
      "Prot Q12879\n",
      "Link Q12879\n",
      "Prot P42263\n"
     ]
    },
    {
     "name": "stderr",
     "output_type": "stream",
     "text": [
      "\n"
     ]
    }
   ],
   "source": [
    "# Instantiate a BDFGraph\n",
    "bdf = BDFGraph(\n",
    "    base_uri=\"https://biodatafuse.org/example/\",\n",
    "    version_iri=\"https://biodatafuse.org/example/test.owl\",\n",
    "    orcid=\"https://orcid.org/0000-0002-4166-7093\",\n",
    "    author=\"Javier Millan Acosta\",\n",
    ")\n",
    "\n",
    "bdf.generate_rdf(combined_df, combined_metadata)  # Generate the RDF from the (meta)data"
   ]
  },
  {
   "cell_type": "code",
   "execution_count": 29,
   "metadata": {},
   "outputs": [
    {
     "data": {
      "text/plain": [
       "<Graph identifier=N1670b8571a364a559bfb679241cfc3a3 (<class 'pyBiodatafuse.graph.rdf.rdf.BDFGraph'>)>"
      ]
     },
     "execution_count": 29,
     "metadata": {},
     "output_type": "execute_result"
    }
   ],
   "source": [
    "bdf.serialize(\n",
    "    os.path.join(base_dir, \"examples\", \"data\", \"gene_to_graph_workflow\", \"BDF_example_graph.ttl\"),\n",
    "    format=\"ttl\",\n",
    ")"
   ]
  },
  {
   "cell_type": "code",
   "execution_count": 30,
   "metadata": {},
   "outputs": [
    {
     "data": {
      "text/plain": [
       "'/home/javi/pyBiodatafuse-1'"
      ]
     },
     "execution_count": 30,
     "metadata": {},
     "output_type": "execute_result"
    }
   ],
   "source": [
    "os.getcwd()"
   ]
  },
  {
   "cell_type": "code",
   "execution_count": 31,
   "metadata": {},
   "outputs": [
    {
     "data": {
      "text/html": [
       "<div>\n",
       "<style scoped>\n",
       "    .dataframe tbody tr th:only-of-type {\n",
       "        vertical-align: middle;\n",
       "    }\n",
       "\n",
       "    .dataframe tbody tr th {\n",
       "        vertical-align: top;\n",
       "    }\n",
       "\n",
       "    .dataframe thead th {\n",
       "        text-align: right;\n",
       "    }\n",
       "</style>\n",
       "<table border=\"1\" class=\"dataframe\">\n",
       "  <thead>\n",
       "    <tr style=\"text-align: right;\">\n",
       "      <th></th>\n",
       "      <th>identifier</th>\n",
       "      <th>identifier.source</th>\n",
       "      <th>target</th>\n",
       "      <th>target.source</th>\n",
       "    </tr>\n",
       "  </thead>\n",
       "  <tbody>\n",
       "    <tr>\n",
       "      <th>0</th>\n",
       "      <td>SETD1A</td>\n",
       "      <td>HGNC</td>\n",
       "      <td>C9J2Z9</td>\n",
       "      <td>Uniprot-TrEMBL</td>\n",
       "    </tr>\n",
       "    <tr>\n",
       "      <th>1</th>\n",
       "      <td>SETD1A</td>\n",
       "      <td>HGNC</td>\n",
       "      <td>ENSG00000099381</td>\n",
       "      <td>Ensembl</td>\n",
       "    </tr>\n",
       "    <tr>\n",
       "      <th>2</th>\n",
       "      <td>SETD1A</td>\n",
       "      <td>HGNC</td>\n",
       "      <td>HGNC:29010</td>\n",
       "      <td>HGNC Accession Number</td>\n",
       "    </tr>\n",
       "    <tr>\n",
       "      <th>3</th>\n",
       "      <td>SETD1A</td>\n",
       "      <td>HGNC</td>\n",
       "      <td>SETD1A</td>\n",
       "      <td>HGNC</td>\n",
       "    </tr>\n",
       "    <tr>\n",
       "      <th>4</th>\n",
       "      <td>SETD1A</td>\n",
       "      <td>HGNC</td>\n",
       "      <td>9739</td>\n",
       "      <td>NCBI Gene</td>\n",
       "    </tr>\n",
       "    <tr>\n",
       "      <th>...</th>\n",
       "      <td>...</td>\n",
       "      <td>...</td>\n",
       "      <td>...</td>\n",
       "      <td>...</td>\n",
       "    </tr>\n",
       "    <tr>\n",
       "      <th>57</th>\n",
       "      <td>RB1CC1</td>\n",
       "      <td>HGNC</td>\n",
       "      <td>E5RHX0</td>\n",
       "      <td>Uniprot-TrEMBL</td>\n",
       "    </tr>\n",
       "    <tr>\n",
       "      <th>58</th>\n",
       "      <td>RB1CC1</td>\n",
       "      <td>HGNC</td>\n",
       "      <td>E5RJC1</td>\n",
       "      <td>Uniprot-TrEMBL</td>\n",
       "    </tr>\n",
       "    <tr>\n",
       "      <th>59</th>\n",
       "      <td>RB1CC1</td>\n",
       "      <td>HGNC</td>\n",
       "      <td>9821</td>\n",
       "      <td>NCBI Gene</td>\n",
       "    </tr>\n",
       "    <tr>\n",
       "      <th>60</th>\n",
       "      <td>RB1CC1</td>\n",
       "      <td>HGNC</td>\n",
       "      <td>E5RH63</td>\n",
       "      <td>Uniprot-TrEMBL</td>\n",
       "    </tr>\n",
       "    <tr>\n",
       "      <th>61</th>\n",
       "      <td>RB1CC1</td>\n",
       "      <td>HGNC</td>\n",
       "      <td>HGNC:15574</td>\n",
       "      <td>HGNC Accession Number</td>\n",
       "    </tr>\n",
       "  </tbody>\n",
       "</table>\n",
       "<p>62 rows × 4 columns</p>\n",
       "</div>"
      ],
      "text/plain": [
       "   identifier identifier.source           target          target.source\n",
       "0      SETD1A              HGNC           C9J2Z9         Uniprot-TrEMBL\n",
       "1      SETD1A              HGNC  ENSG00000099381                Ensembl\n",
       "2      SETD1A              HGNC       HGNC:29010  HGNC Accession Number\n",
       "3      SETD1A              HGNC           SETD1A                   HGNC\n",
       "4      SETD1A              HGNC             9739              NCBI Gene\n",
       "..        ...               ...              ...                    ...\n",
       "57     RB1CC1              HGNC           E5RHX0         Uniprot-TrEMBL\n",
       "58     RB1CC1              HGNC           E5RJC1         Uniprot-TrEMBL\n",
       "59     RB1CC1              HGNC             9821              NCBI Gene\n",
       "60     RB1CC1              HGNC           E5RH63         Uniprot-TrEMBL\n",
       "61     RB1CC1              HGNC       HGNC:15574  HGNC Accession Number\n",
       "\n",
       "[62 rows x 4 columns]"
      ]
     },
     "execution_count": 31,
     "metadata": {},
     "output_type": "execute_result"
    }
   ],
   "source": [
    "bridgedb_df"
   ]
  },
  {
   "cell_type": "markdown",
   "metadata": {},
   "source": [
    "##### 8.5.1. Generate prefixes SHACL\n",
    "\n",
    "SHACL graphs defining namespaces and prefixes can be loaded into SPARQL endpoints to avoid having to declare prefixes in the query."
   ]
  },
  {
   "cell_type": "code",
   "execution_count": 32,
   "metadata": {},
   "outputs": [
    {
     "name": "stdout",
     "output_type": "stream",
     "text": [
      "@prefix sh: <http://www.w3.org/ns/shacl#> .\n",
      "@prefix xsd: <http://www.w3.org/2001/XMLSchema#> .\n",
      "\n",
      "[] sh:declare [ sh:namespace \"http://xmlns.com/foaf/0.1/\"^^xsd:anyURI ;\n",
      "            sh:prefix \"foaf\" ] .\n",
      "\n",
      "[] sh:declare [ sh:namespace \"https://identifiers.org/ensembl:\"^^xsd:anyURI ;\n",
      "            sh:prefix \"ensembl\" ] .\n",
      "\n",
      "[] sh:declare [ sh:namespace \"https://biodatafuse.org/example/life_cycle\"^^xsd:anyURI ;\n",
      "            sh:prefix \"life_cycle_base_node\" ] .\n",
      "\n",
      "[] sh:declare [ sh:namespace \"http://www.w3.org/2002/07/owl#\"^^xsd:anyURI ;\n",
      "            sh:prefix \"owl\" ] .\n",
      "\n",
      "[] sh:declare [ sh:namespace \"http://semanticscience.org/resource/\"^^xsd:anyURI ;\n",
      "            sh:prefix \"sio\" ] .\n",
      "\n",
      "[] sh:declare [ sh:namespace \"http://bio2rdf.org/hgnc:\"^^xsd:anyURI ;\n",
      "            sh:prefix \"hgnc\" ] .\n",
      "\n",
      "[] sh:declare [ sh:namespace \"https://biodatafuse.org/onto/bdf#\"^^xsd:anyURI ;\n",
      "            sh:prefix \"bdfo\" ] .\n",
      "\n",
      "[] sh:declare [ sh:namespace \"https://biodatafuse.org/example/experimental_process\"^^xsd:anyURI ;\n",
      "            sh:prefix \"experimental_process_node\" ] .\n",
      "\n",
      "[] sh:declare [ sh:namespace \"http://purl.obolibrary.org/obo/so#\"^^xsd:anyURI ;\n",
      "            sh:prefix \"so\" ] .\n",
      "\n",
      "[] sh:declare [ sh:namespace \"https://www.ncbi.nlm.nih.gov/medgen/\"^^xsd:anyURI ;\n",
      "            sh:prefix \"umls\" ] .\n",
      "\n",
      "[] sh:declare [ sh:namespace \"https://monarchinitiative.org/disease/\"^^xsd:anyURI ;\n",
      "            sh:prefix \"mondo\" ] .\n",
      "\n",
      "[] sh:declare [ sh:namespace \"http://www.w3.org/2000/01/rdf-schema#\"^^xsd:anyURI ;\n",
      "            sh:prefix \"rdfs\" ] .\n",
      "\n",
      "[] sh:declare [ sh:namespace \"https://biodatafuse.org/example/gene_symbol\"^^xsd:anyURI ;\n",
      "            sh:prefix \"gene_symbol_base_node\" ] .\n",
      "\n",
      "[] sh:declare [ sh:namespace \"http://www.w3.org/2001/XMLSchema#\"^^xsd:anyURI ;\n",
      "            sh:prefix \"xsd\" ] .\n",
      "\n",
      "[] sh:declare [ sh:namespace \"https://biodatafuse.org/example/gene\"^^xsd:anyURI ;\n",
      "            sh:prefix \"gene_base_node\" ] .\n",
      "\n",
      "[] sh:declare [ sh:namespace \"https://biodatafuse.org/example/source\"^^xsd:anyURI ;\n",
      "            sh:prefix \"source_base_node\" ] .\n",
      "\n",
      "[] sh:declare [ sh:namespace \"http://www.w3.org/1999/02/22-rdf-syntax-ns#\"^^xsd:anyURI ;\n",
      "            sh:prefix \"rdf\" ] .\n",
      "\n",
      "[] sh:declare [ sh:namespace \"https://biodatafuse.org/example/anatomical_entity\"^^xsd:anyURI ;\n",
      "            sh:prefix \"anatomical_entity_base_node\" ] .\n",
      "\n",
      "[] sh:declare [ sh:namespace \"http://www.w3.org/ns/dcat#\"^^xsd:anyURI ;\n",
      "            sh:prefix \"dcat\" ] .\n",
      "\n",
      "[] sh:declare [ sh:namespace \"http://purl.obolibrary.org/obo/\"^^xsd:anyURI ;\n",
      "            sh:prefix \"obo\" ] .\n",
      "\n",
      "[] sh:declare [ sh:namespace \"https://biodatafuse.org/example/gene_expression_value\"^^xsd:anyURI ;\n",
      "            sh:prefix \"gene_expression_value_base_node\" ] .\n",
      "\n",
      "[] sh:declare [ sh:namespace \"https://biodatafuse.org/example/datasource\"^^xsd:anyURI ;\n",
      "            sh:prefix \"data_source_base_node\" ] .\n",
      "\n",
      "[] sh:declare [ sh:namespace \"http://www.w3.org/2004/02/skos/core#\"^^xsd:anyURI ;\n",
      "            sh:prefix \"skos\" ] .\n",
      "\n",
      "[] sh:declare [ sh:namespace \"https://biodatafuse.org/example/gene_disease_association\"^^xsd:anyURI ;\n",
      "            sh:prefix \"gene_disease_association\" ] .\n",
      "\n",
      "[] sh:declare [ sh:namespace \"https://biodatafuse.org/example/score\"^^xsd:anyURI ;\n",
      "            sh:prefix \"score_base_node\" ] .\n",
      "\n",
      "[] sh:declare [ sh:namespace \"https://biodatafuse.org/\"^^xsd:anyURI ;\n",
      "            sh:prefix \"bdf\" ] .\n",
      "\n",
      "\n",
      "@prefix sh: <http://www.w3.org/ns/shacl#> .\n",
      "@prefix xsd: <http://www.w3.org/2001/XMLSchema#> .\n",
      "\n",
      "[] sh:declare [ sh:namespace \"http://purl.obolibrary.org/obo/\"^^xsd:anyURI ;\n",
      "            sh:prefix \"obo\" ] .\n",
      "\n",
      "[] sh:declare [ sh:namespace \"https://biodatafuse.org/onto/bdf#\"^^xsd:anyURI ;\n",
      "            sh:prefix \"bdfo\" ] .\n",
      "\n",
      "[] sh:declare [ sh:namespace \"https://identifiers.org/ensembl:\"^^xsd:anyURI ;\n",
      "            sh:prefix \"ensembl\" ] .\n",
      "\n",
      "[] sh:declare [ sh:namespace \"http://www.w3.org/1999/02/22-rdf-syntax-ns#\"^^xsd:anyURI ;\n",
      "            sh:prefix \"rdf\" ] .\n",
      "\n",
      "[] sh:declare [ sh:namespace \"https://biodatafuse.org/example/datasource\"^^xsd:anyURI ;\n",
      "            sh:prefix \"data_source_base_node\" ] .\n",
      "\n",
      "[] sh:declare [ sh:namespace \"https://www.ncbi.nlm.nih.gov/medgen/\"^^xsd:anyURI ;\n",
      "            sh:prefix \"umls\" ] .\n",
      "\n",
      "[] sh:declare [ sh:namespace \"https://monarchinitiative.org/disease/\"^^xsd:anyURI ;\n",
      "            sh:prefix \"mondo\" ] .\n",
      "\n",
      "[] sh:declare [ sh:namespace \"http://www.w3.org/2004/02/skos/core#\"^^xsd:anyURI ;\n",
      "            sh:prefix \"skos\" ] .\n",
      "\n",
      "[] sh:declare [ sh:namespace \"http://semanticscience.org/resource/\"^^xsd:anyURI ;\n",
      "            sh:prefix \"sio\" ] .\n",
      "\n",
      "[] sh:declare [ sh:namespace \"https://biodatafuse.org/example/gene_symbol\"^^xsd:anyURI ;\n",
      "            sh:prefix \"gene_symbol_base_node\" ] .\n",
      "\n",
      "[] sh:declare [ sh:namespace \"http://www.w3.org/2000/01/rdf-schema#\"^^xsd:anyURI ;\n",
      "            sh:prefix \"rdfs\" ] .\n",
      "\n",
      "[] sh:declare [ sh:namespace \"https://biodatafuse.org/example/source\"^^xsd:anyURI ;\n",
      "            sh:prefix \"source_base_node\" ] .\n",
      "\n",
      "[] sh:declare [ sh:namespace \"https://biodatafuse.org/example/gene_expression_value\"^^xsd:anyURI ;\n",
      "            sh:prefix \"gene_expression_value_base_node\" ] .\n",
      "\n",
      "[] sh:declare [ sh:namespace \"http://xmlns.com/foaf/0.1/\"^^xsd:anyURI ;\n",
      "            sh:prefix \"foaf\" ] .\n",
      "\n",
      "[] sh:declare [ sh:namespace \"http://www.w3.org/2001/XMLSchema#\"^^xsd:anyURI ;\n",
      "            sh:prefix \"xsd\" ] .\n",
      "\n",
      "[] sh:declare [ sh:namespace \"https://biodatafuse.org/example/gene\"^^xsd:anyURI ;\n",
      "            sh:prefix \"gene_base_node\" ] .\n",
      "\n",
      "[] sh:declare [ sh:namespace \"http://www.w3.org/ns/dcat#\"^^xsd:anyURI ;\n",
      "            sh:prefix \"dcat\" ] .\n",
      "\n",
      "[] sh:declare [ sh:namespace \"http://www.w3.org/2002/07/owl#\"^^xsd:anyURI ;\n",
      "            sh:prefix \"owl\" ] .\n",
      "\n",
      "[] sh:declare [ sh:namespace \"http://purl.obolibrary.org/obo/so#\"^^xsd:anyURI ;\n",
      "            sh:prefix \"so\" ] .\n",
      "\n",
      "[] sh:declare [ sh:namespace \"http://bio2rdf.org/hgnc:\"^^xsd:anyURI ;\n",
      "            sh:prefix \"hgnc\" ] .\n",
      "\n",
      "[] sh:declare [ sh:namespace \"https://biodatafuse.org/example/score\"^^xsd:anyURI ;\n",
      "            sh:prefix \"score_base_node\" ] .\n",
      "\n",
      "[] sh:declare [ sh:namespace \"https://biodatafuse.org/example/life_cycle\"^^xsd:anyURI ;\n",
      "            sh:prefix \"life_cycle_base_node\" ] .\n",
      "\n",
      "[] sh:declare [ sh:namespace \"https://biodatafuse.org/example/experimental_process\"^^xsd:anyURI ;\n",
      "            sh:prefix \"experimental_process_node\" ] .\n",
      "\n",
      "[] sh:declare [ sh:namespace \"https://biodatafuse.org/\"^^xsd:anyURI ;\n",
      "            sh:prefix \"bdf\" ] .\n",
      "\n",
      "[] sh:declare [ sh:namespace \"https://biodatafuse.org/example/gene_disease_association\"^^xsd:anyURI ;\n",
      "            sh:prefix \"gene_disease_association\" ] .\n",
      "\n",
      "[] sh:declare [ sh:namespace \"https://biodatafuse.org/example/anatomical_entity\"^^xsd:anyURI ;\n",
      "            sh:prefix \"anatomical_entity_base_node\" ] .\n",
      "\n",
      "\n"
     ]
    },
    {
     "data": {
      "text/plain": [
       "<Graph identifier=N5d993234ca794c3c9ae3740a6267dd4a (<class 'rdflib.graph.Graph'>)>"
      ]
     },
     "execution_count": 32,
     "metadata": {},
     "output_type": "execute_result"
    }
   ],
   "source": [
    "# Use without parameters (defaults, does not save file)\n",
    "bdf.shacl_prefixes()\n",
    "# or Use with parameters\n",
    "bdf.shacl_prefixes(\n",
    "    path=os.path.join(base_dir, \"examples\", \"data\", \"gene_to_graph_workflow\", \"BDF_prefixes.ttl\"),\n",
    "    namespaces=None,  # Optional, add more namespaces with a dictionary of {prefix:namespace,}\n",
    ")"
   ]
  },
  {
   "cell_type": "markdown",
   "metadata": {},
   "source": [
    "##### 8.5.2. Use [`shexer`](https://github.com/DaniFdezAlvarez/shexer/) to retrieve the RDF shapes\n",
    "\n",
    "The `shexer` library is used to retrieve the shapes of the graph in SHACL (https://www.w3.org/TR/shacl/) and ShEx (https://shex.io/shex-semantics/).\n",
    "\n",
    "- **SHACL**"
   ]
  },
  {
   "cell_type": "code",
   "execution_count": 33,
   "metadata": {},
   "outputs": [
    {
     "name": "stdout",
     "output_type": "stream",
     "text": [
      "@prefix : <http://weso.es/shapes/> .\n",
      "@prefix obo: <http://purl.obolibrary.org/obo/> .\n",
      "@prefix owl: <http://www.w3.org/2002/07/owl#> .\n",
      "@prefix rdf: <http://www.w3.org/1999/02/22-rdf-syntax-ns#> .\n",
      "@prefix rdfs: <http://www.w3.org/2000/01/rdf-schema#> .\n",
      "@prefix schema: <https://schema.org/> .\n",
      "@prefix sh: <http://www.w3.org/ns/shacl#> .\n",
      "@prefix sio: <http://semanticscience.org/resource/> .\n",
      "@prefix so: <http://purl.obolibrary.org/obo/so#> .\n",
      "@prefix xsd: <http://www.w3.org/2001/XMLSchema#> .\n",
      "\n",
      ":NCIT_C18469 a sh:NodeShape ;\n",
      "    sh:property [ a sh:PropertyShape ;\n",
      "            sh:in ( obo:NCIT_C18469 ) ;\n",
      "            sh:maxCount 1 ;\n",
      "            sh:minCount 1 ;\n",
      "            sh:path rdf:type ],\n",
      "        [ a sh:PropertyShape ;\n",
      "            sh:maxCount 1 ;\n",
      "            sh:minCount 1 ;\n",
      "            sh:node :NCIT_C25338 ;\n",
      "            sh:path sio:SIO_000216 ],\n",
      "        [ a sh:PropertyShape ;\n",
      "            sh:maxCount 2 ;\n",
      "            sh:minCount 2 ;\n",
      "            sh:node :NCIT_C17021 ;\n",
      "            sh:path sio:SIO_000028 ] ;\n",
      "    sh:targetClass obo:NCIT_C18469 .\n",
      "\n",
      ":NCIT_C43531 a sh:NodeShape ;\n",
      "    sh:property [ a sh:PropertyShape ;\n",
      "            sh:dataType xsd:string ;\n",
      "            sh:maxCount 1 ;\n",
      "            sh:minCount 1 ;\n",
      "            sh:path rdfs:label ],\n",
      "        [ a sh:PropertyShape ;\n",
      "            sh:in ( obo:NCIT_C43531 ) ;\n",
      "            sh:maxCount 1 ;\n",
      "            sh:minCount 1 ;\n",
      "            sh:path rdf:type ] ;\n",
      "    sh:targetClass obo:NCIT_C43531 .\n",
      "\n",
      ":PW_0000001 a sh:NodeShape ;\n",
      "    sh:property [ a sh:PropertyShape ;\n",
      "            sh:in ( obo:PW_0000001 ) ;\n",
      "            sh:maxCount 1 ;\n",
      "            sh:minCount 1 ;\n",
      "            sh:path rdf:type ],\n",
      "        [ a sh:PropertyShape ;\n",
      "            sh:dataType xsd:string ;\n",
      "            sh:maxCount 1 ;\n",
      "            sh:minCount 1 ;\n",
      "            sh:path rdfs:label ],\n",
      "        [ a sh:PropertyShape ;\n",
      "            sh:minCount 1 ;\n",
      "            sh:node :SIO_000750 ;\n",
      "            sh:path sio:SIO_000253 ],\n",
      "        [ a sh:PropertyShape ;\n",
      "            sh:minCount 1 ;\n",
      "            sh:node :NCIT_C16612 ;\n",
      "            sh:path sio:SIO_000028 ] ;\n",
      "    sh:targetClass obo:PW_0000001 .\n",
      "\n",
      ":WebAPI a sh:NodeShape ;\n",
      "    sh:property [ a sh:PropertyShape ;\n",
      "            sh:in ( schema:WebAPI ) ;\n",
      "            sh:maxCount 1 ;\n",
      "            sh:minCount 1 ;\n",
      "            sh:path rdf:type ] ;\n",
      "    sh:targetClass schema:WebAPI .\n",
      "\n",
      ":NCIT_C172573 a sh:NodeShape ;\n",
      "    sh:property [ a sh:PropertyShape ;\n",
      "            sh:dataType xsd:string ;\n",
      "            sh:maxCount 1 ;\n",
      "            sh:minCount 1 ;\n",
      "            sh:path rdfs:label ],\n",
      "        [ a sh:PropertyShape ;\n",
      "            sh:in ( obo:NCIT_C172573 ) ;\n",
      "            sh:maxCount 1 ;\n",
      "            sh:minCount 1 ;\n",
      "            sh:path rdf:type ],\n",
      "        [ a sh:PropertyShape ;\n",
      "            sh:maxCount 1 ;\n",
      "            sh:minCount 1 ;\n",
      "            sh:node :SIO_010038 ;\n",
      "            sh:path owl:sameAs ] ;\n",
      "    sh:targetClass obo:NCIT_C172573 .\n",
      "\n",
      ":NCIT_C25338 a sh:NodeShape ;\n",
      "    sh:property [ a sh:PropertyShape ;\n",
      "            sh:dataType xsd:double ;\n",
      "            sh:maxCount 1 ;\n",
      "            sh:minCount 1 ;\n",
      "            sh:path sio:SIO_000300 ],\n",
      "        [ a sh:PropertyShape ;\n",
      "            sh:in ( obo:NCIT_C25338 ) ;\n",
      "            sh:maxCount 1 ;\n",
      "            sh:minCount 1 ;\n",
      "            sh:path rdf:type ] ;\n",
      "    sh:targetClass obo:NCIT_C25338 .\n",
      "\n",
      ":SIO_000750 a sh:NodeShape ;\n",
      "    sh:property [ a sh:PropertyShape ;\n",
      "            sh:in ( sio:SIO_000750 ) ;\n",
      "            sh:maxCount 1 ;\n",
      "            sh:minCount 1 ;\n",
      "            sh:path rdf:type ],\n",
      "        [ a sh:PropertyShape ;\n",
      "            sh:dataType xsd:string ;\n",
      "            sh:maxCount 1 ;\n",
      "            sh:minCount 1 ;\n",
      "            sh:path rdfs:label ] ;\n",
      "    sh:targetClass sio:SIO_000750 .\n",
      "\n",
      ":SIO_001077 a sh:NodeShape ;\n",
      "    sh:property [ a sh:PropertyShape ;\n",
      "            sh:maxCount 1 ;\n",
      "            sh:minCount 1 ;\n",
      "            sh:node :SIO_001262 ;\n",
      "            sh:path sio:SIO_001403 ],\n",
      "        [ a sh:PropertyShape ;\n",
      "            sh:dataType xsd:double ;\n",
      "            sh:maxCount 1 ;\n",
      "            sh:minCount 1 ;\n",
      "            sh:path sio:SIO_000300 ],\n",
      "        [ a sh:PropertyShape ;\n",
      "            sh:maxCount 1 ;\n",
      "            sh:minCount 1 ;\n",
      "            sh:node :NCIT_C16612 ;\n",
      "            sh:path sio:SIO_000230 ],\n",
      "        [ a sh:PropertyShape ;\n",
      "            sh:in ( sio:SIO_001077 ) ;\n",
      "            sh:maxCount 1 ;\n",
      "            sh:minCount 1 ;\n",
      "            sh:path rdf:type ] ;\n",
      "    sh:targetClass sio:SIO_001077 .\n",
      "\n",
      ":SIO_001262 a sh:NodeShape ;\n",
      "    sh:property [ a sh:PropertyShape ;\n",
      "            sh:dataType xsd:string ;\n",
      "            sh:maxCount 1 ;\n",
      "            sh:minCount 1 ;\n",
      "            sh:path rdfs:label ],\n",
      "        [ a sh:PropertyShape ;\n",
      "            sh:in ( sio:SIO_001262 ) ;\n",
      "            sh:maxCount 1 ;\n",
      "            sh:minCount 1 ;\n",
      "            sh:path rdf:type ] ;\n",
      "    sh:targetClass sio:SIO_001262 .\n",
      "\n",
      ":SIO_010038 a sh:NodeShape ;\n",
      "    sh:property [ a sh:PropertyShape ;\n",
      "            sh:maxCount 1 ;\n",
      "            sh:minCount 1 ;\n",
      "            sh:node :NCIT_C172573 ;\n",
      "            sh:path owl:sameAs ],\n",
      "        [ a sh:PropertyShape ;\n",
      "            sh:in ( sio:SIO_010038 ) ;\n",
      "            sh:maxCount 1 ;\n",
      "            sh:minCount 1 ;\n",
      "            sh:path rdf:type ] ;\n",
      "    sh:targetClass sio:SIO_010038 .\n",
      "\n",
      ":NCIT_C16612 a sh:NodeShape ;\n",
      "    sh:property [ a sh:PropertyShape ;\n",
      "            sh:minCount 1 ;\n",
      "            sh:nodeKind sh:IRI ;\n",
      "            sh:path sio:SIO_000068 ],\n",
      "        [ a sh:PropertyShape ;\n",
      "            sh:dataType xsd:string ;\n",
      "            sh:maxCount 1 ;\n",
      "            sh:minCount 1 ;\n",
      "            sh:path rdfs:label ],\n",
      "        [ a sh:PropertyShape ;\n",
      "            sh:maxCount 1 ;\n",
      "            sh:node :NCIT_C17021 ;\n",
      "            sh:path so:translates_to ],\n",
      "        [ a sh:PropertyShape ;\n",
      "            sh:minCount 1 ;\n",
      "            sh:node :SIO_001077 ;\n",
      "            sh:path sio:SIO_000216 ],\n",
      "        [ a sh:PropertyShape ;\n",
      "            sh:in ( obo:NCIT_C16612 ) ;\n",
      "            sh:maxCount 1 ;\n",
      "            sh:minCount 1 ;\n",
      "            sh:path rdf:type ] ;\n",
      "    sh:targetClass obo:NCIT_C16612 .\n",
      "\n",
      ":NCIT_C17021 a sh:NodeShape ;\n",
      "    sh:property [ a sh:PropertyShape ;\n",
      "            sh:in ( obo:NCIT_C17021 ) ;\n",
      "            sh:maxCount 1 ;\n",
      "            sh:minCount 1 ;\n",
      "            sh:path rdf:type ],\n",
      "        [ a sh:PropertyShape ;\n",
      "            sh:maxCount 1 ;\n",
      "            sh:minCount 1 ;\n",
      "            sh:node :NCIT_C17021 ;\n",
      "            sh:path so:translation_of ],\n",
      "        [ a sh:PropertyShape ;\n",
      "            sh:maxCount 1 ;\n",
      "            sh:minCount 1 ;\n",
      "            sh:node :NCIT_C17021 ;\n",
      "            sh:path so:translates_to ] ;\n",
      "    sh:targetClass obo:NCIT_C17021 .\n",
      "\n",
      "\n"
     ]
    },
    {
     "data": {
      "image/png": "[encoded data removed]",
      "text/plain": [
       "<IPython.core.display.Image object>"
      ]
     },
     "metadata": {},
     "output_type": "display_data"
    }
   ],
   "source": [
    "# Use without parameters (defaults)\n",
    "# bdf.shacl()\n",
    "\n",
    "# Or use with parameters\n",
    "bdf.shacl(\n",
    "    path=os.path.join(\n",
    "        base_dir, \"examples\", \"data\", \"gene_to_graph_workflow\", \"BDF_example_shacl.ttl\"\n",
    "    ),  # Set a path for TTL serialization\n",
    "    threshold=0.001,\n",
    "    uml_figure_path=os.path.join(\n",
    "        base_dir, \"examples\", \"data\", \"gene_to_graph_workflow\", \"BDF_example_shacl.png\"\n",
    "    ),  # Set a path for diagram\n",
    ")\n",
    "\n",
    "# Display the UML figure\n",
    "display(\n",
    "    Image(\n",
    "        os.path.join(\n",
    "            base_dir, \"examples\", \"data\", \"gene_to_graph_workflow\", \"BDF_example_shacl.png\"\n",
    "        )\n",
    "    )\n",
    ")"
   ]
  },
  {
   "cell_type": "markdown",
   "metadata": {},
   "source": [
    "- **ShEx**"
   ]
  },
  {
   "cell_type": "code",
   "execution_count": 34,
   "metadata": {},
   "outputs": [
    {
     "name": "stdout",
     "output_type": "stream",
     "text": [
      "PREFIX rdf: <http://www.w3.org/1999/02/22-rdf-syntax-ns#>\n",
      "PREFIX ex: <http://example.org/>\n",
      "PREFIX weso-s: <http://weso.es/shapes/>\n",
      "PREFIX xsd: <http://www.w3.org/2001/XMLSchema#>\n",
      "PREFIX owl: <http://www.w3.org/2002/07/owl#>\n",
      "PREFIX obo: <http://purl.obolibrary.org/obo/>\n",
      "PREFIX so: <http://purl.obolibrary.org/obo/so#>\n",
      "PREFIX bdfo: <https://biodatafuse.org/onto/bdf#>\n",
      "PREFIX minerva: <https://minerva-net.lcsb.uni.lu/api/>\n",
      "PREFIX reactome: <https://reactome.org/content/detail/>\n",
      "PREFIX uniprot: <https://www.uniprot.org/uniprotkb/>\n",
      "PREFIX ensembl: <http://identifiers.org/ensembl#>\n",
      "PREFIX graph: <https://biodatafuse.org/example/>\n",
      "PREFIX brick: <https://brickschema.org/schema/Brick#>\n",
      "PREFIX csvw: <http://www.w3.org/ns/csvw#>\n",
      "PREFIX dc: <http://purl.org/dc/elements/1.1/>\n",
      "PREFIX dcat: <http://www.w3.org/ns/dcat#>\n",
      "PREFIX dcmitype: <http://purl.org/dc/dcmitype/>\n",
      "PREFIX dcterms: <http://purl.org/dc/terms/>\n",
      "PREFIX dcam: <http://purl.org/dc/dcam/>\n",
      "PREFIX doap: <http://usefulinc.com/ns/doap#>\n",
      "PREFIX foaf: <http://xmlns.com/foaf/0.1/>\n",
      "PREFIX geo: <http://www.opengis.net/ont/geosparql#>\n",
      "PREFIX odrl: <http://www.w3.org/ns/odrl/2/>\n",
      "PREFIX org: <http://www.w3.org/ns/org#>\n",
      "PREFIX prof: <http://www.w3.org/ns/dx/prof/>\n",
      "PREFIX prov: <http://www.w3.org/ns/prov#>\n",
      "PREFIX qb: <http://purl.org/linked-data/cube#>\n",
      "PREFIX schema: <https://schema.org/>\n",
      "PREFIX sh: <http://www.w3.org/ns/shacl#>\n",
      "PREFIX skos: <http://www.w3.org/2004/02/skos/core#>\n",
      "PREFIX sosa: <http://www.w3.org/ns/sosa/>\n",
      "PREFIX ssn: <http://www.w3.org/ns/ssn/>\n",
      "PREFIX time: <http://www.w3.org/2006/time#>\n",
      "PREFIX vann: <http://purl.org/vocab/vann/>\n",
      "PREFIX void: <http://rdfs.org/ns/void#>\n",
      "PREFIX wgs: <https://www.w3.org/2003/01/geo/wgs84_pos#>\n",
      "PREFIX rdfs: <http://www.w3.org/2000/01/rdf-schema#>\n",
      "PREFIX xml: <http://www.w3.org/XML/1998/namespace/>\n",
      "PREFIX gene_disease_association: <https://biodatafuse.org/example/gene_disease_association>\n",
      "PREFIX gene_base_node: <https://biodatafuse.org/example/gene>\n",
      "PREFIX gene_symbol_base_node: <https://biodatafuse.org/example/gene_symbol>\n",
      "PREFIX source_base_node: <https://biodatafuse.org/example/source>\n",
      "PREFIX data_source_base_node: <https://biodatafuse.org/example/datasource>\n",
      "PREFIX score_base_node: <https://biodatafuse.org/example/score>\n",
      "PREFIX experimental_process_node: <https://biodatafuse.org/example/experimental_process>\n",
      "PREFIX anatomical_entity_base_node: <https://biodatafuse.org/example/anatomical_entity>\n",
      "PREFIX life_cycle_base_node: <https://biodatafuse.org/example/life_cycle>\n",
      "PREFIX gene_expression_value_base_node: <https://biodatafuse.org/example/gene_expression_value>\n",
      "PREFIX sio: <http://semanticscience.org/resource/>\n",
      "PREFIX hgnc: <http://bio2rdf.org/hgnc:>\n",
      "PREFIX ensembl: <https://identifiers.org/ensembl:>\n",
      "PREFIX bdf: <https://biodatafuse.org/>\n",
      "PREFIX mondo: <https://monarchinitiative.org/disease/>\n",
      "PREFIX umls: <https://www.ncbi.nlm.nih.gov/medgen/>\n",
      "\n",
      "weso-s:NCIT_C172573\n",
      "{\n",
      "   rdf:type  [obo:NCIT_C172573]  ;                             # 100.0 %\n",
      "   rdfs:label  xsd:string  ;                                   # 100.0 %\n",
      "   owl:sameAs  @weso-s:SIO_010038                              # 100.0 %\n",
      "}\n",
      "\n",
      "\n",
      "weso-s:SIO_001077\n",
      "{\n",
      "   rdf:type  [sio:SIO_001077]  ;                               # 100.0 %\n",
      "   sio:SIO_000300  xsd:double  ;                               # 100.0 %\n",
      "   sio:SIO_001403  @weso-s:SIO_001262  ;                       # 100.0 %\n",
      "            # 100.0 % obj: @weso-s:NCIT_C43531. Cardinality: {1}\n",
      "   sio:SIO_000230  @weso-s:NCIT_C16612                         # 100.0 %\n",
      "}\n",
      "\n",
      "\n",
      "weso-s:PW_0000001\n",
      "{\n",
      "   rdf:type  [obo:PW_0000001]  ;                               # 100.0 %\n",
      "   sio:SIO_000253  @weso-s:SIO_000750  +;                      # 100.0 %\n",
      "            # 54.761904761904766 % obj: @weso-s:SIO_000750. Cardinality: {2}\n",
      "            # 45.23809523809524 % obj: @weso-s:SIO_000750. Cardinality: {1}\n",
      "   sio:SIO_000028  @weso-s:NCIT_C16612  +;                     # 100.0 %\n",
      "            # 89.28571428571429 % obj: @weso-s:NCIT_C16612. Cardinality: {1}\n",
      "            # 10.714285714285714 % obj: @weso-s:NCIT_C16612. Cardinality: {2}\n",
      "   rdfs:label  xsd:string                                      # 100.0 %\n",
      "}\n",
      "\n",
      "\n",
      "weso-s:SIO_001262\n",
      "{\n",
      "   rdf:type  [sio:SIO_001262]  ;                               # 100.0 %\n",
      "   rdfs:label  xsd:string                                      # 100.0 %\n",
      "}\n",
      "\n",
      "\n",
      "weso-s:NCIT_C18469\n",
      "{\n",
      "   rdf:type  [obo:NCIT_C18469]  ;                              # 100.0 %\n",
      "   sio:SIO_000216  @weso-s:NCIT_C25338  ;                      # 100.0 %\n",
      "   sio:SIO_000028  @weso-s:NCIT_C17021  {2}                    # 100.0 %\n",
      "}\n",
      "\n",
      "\n",
      "weso-s:SIO_010038\n",
      "{\n",
      "   rdf:type  [sio:SIO_010038]  ;                               # 100.0 %\n",
      "   owl:sameAs  @weso-s:NCIT_C172573                            # 100.0 %\n",
      "}\n",
      "\n",
      "\n",
      "weso-s:NCIT_C16612\n",
      "{\n",
      "   sio:SIO_000068  IRI  +;                                     # 100.0 %\n",
      "            # 16.666666666666664 % obj: IRI. Cardinality: {35}\n",
      "            # 16.666666666666664 % obj: IRI. Cardinality: {80}\n",
      "            # 16.666666666666664 % obj: IRI. Cardinality: {24}\n",
      "            # 16.666666666666664 % obj: IRI. Cardinality: {40}\n",
      "            # 16.666666666666664 % obj: IRI. Cardinality: {7}\n",
      "            # 16.666666666666664 % obj: IRI. Cardinality: {65}\n",
      "            # 83.33333333333334 % obj: @weso-s:PW_0000001. Cardinality: +\n",
      "   sio:SIO_000216  @weso-s:SIO_001077  +;                      # 100.0 %\n",
      "            # 66.66666666666666 % obj: @weso-s:SIO_001077. Cardinality: {17}\n",
      "            # 16.666666666666664 % obj: @weso-s:SIO_001077. Cardinality: {16}\n",
      "            # 16.666666666666664 % obj: @weso-s:SIO_001077. Cardinality: {15}\n",
      "   rdf:type  [obo:NCIT_C16612]  ;                              # 100.0 %\n",
      "   rdfs:label  xsd:string  ;                                   # 100.0 %\n",
      "   so:translates_to  @weso-s:NCIT_C17021  ?\n",
      "            # 33.33333333333333 % obj: @weso-s:NCIT_C17021. Cardinality: {1}\n",
      "}\n",
      "\n",
      "\n",
      "weso-s:NCIT_C17021\n",
      "{\n",
      "   rdf:type  [obo:NCIT_C17021]  ;                              # 100.0 %\n",
      "   so:translation_of  @weso-s:NCIT_C17021  ;                   # 100.0 %\n",
      "            # 100.0 % obj: @weso-s:NCIT_C16612. Cardinality: {1}\n",
      "   so:translates_to  @weso-s:NCIT_C17021                       # 100.0 %\n",
      "}\n",
      "\n",
      "\n",
      "weso-s:NCIT_C25338\n",
      "{\n",
      "   sio:SIO_000300  xsd:double  ;                               # 100.0 %\n",
      "   rdf:type  [obo:NCIT_C25338]                                 # 100.0 %\n",
      "}\n",
      "\n",
      "\n",
      "weso-s:NCIT_C43531\n",
      "{\n",
      "   rdfs:label  xsd:string  ;                                   # 100.0 %\n",
      "   rdf:type  [obo:NCIT_C43531]                                 # 100.0 %\n",
      "}\n",
      "\n",
      "\n",
      "weso-s:WebAPI\n",
      "{\n",
      "   rdf:type  [schema:WebAPI]                                   # 100.0 %\n",
      "}\n",
      "\n",
      "\n",
      "weso-s:SIO_000750\n",
      "{\n",
      "   rdf:type  [sio:SIO_000750]  ;                               # 100.0 %\n",
      "   rdfs:label  xsd:string                                      # 100.0 %\n",
      "}\n",
      "\n",
      "\n",
      "\n"
     ]
    },
    {
     "data": {
      "image/png": "[encoded data removed]",
      "text/plain": [
       "<IPython.core.display.Image object>"
      ]
     },
     "metadata": {},
     "output_type": "display_data"
    }
   ],
   "source": [
    "# Use without parameters (defaults)\n",
    "# bdf.shex()\n",
    "\n",
    "# Or use with parameters\n",
    "bdf.shex(\n",
    "    path=os.path.join(\n",
    "        base_dir, \"examples\", \"data\", \"gene_to_graph_workflow\", \"BDF_example_shex.ttl\"\n",
    "    ),  # Set a path for TTL serialization\n",
    "    threshold=0.001,\n",
    "    uml_figure_path=os.path.join(\n",
    "        base_dir, \"examples\", \"data\", \"gene_to_graph_workflow\", \"BDF_example_shex.png\"\n",
    "    ),  # Set a path for diagram\n",
    ")\n",
    "\n",
    "# Display the UML figure\n",
    "display(\n",
    "    Image(\n",
    "        os.path.join(base_dir, \"examples\", \"data\", \"gene_to_graph_workflow\", \"BDF_example_shex.png\")\n",
    "    )\n",
    ")"
   ]
  },
  {
   "cell_type": "markdown",
   "metadata": {},
   "source": [
    "Elapsed time for the workflow, if ran in block:"
   ]
  },
  {
   "cell_type": "code",
   "execution_count": 35,
   "metadata": {},
   "outputs": [
    {
     "name": "stdout",
     "output_type": "stream",
     "text": [
      "Elapsed Time: 0h 1m 4s 70ms\n"
     ]
    }
   ],
   "source": [
    "end_time = time.time()\n",
    "elapsed_time = end_time - start_time\n",
    "hours = elapsed_time // 3600\n",
    "minutes = (elapsed_time % 3600) // 60\n",
    "seconds = elapsed_time % 60\n",
    "milliseconds = (elapsed_time % 1) * 1000\n",
    "\n",
    "# Display elapsed time in h:m:s:ms\n",
    "print(f\"Elapsed Time: {int(hours)}h {int(minutes)}m {int(seconds)}s {int(milliseconds)}ms\")"
   ]
  },
  {
   "cell_type": "markdown",
   "metadata": {},
   "source": [
    "##### 8.5.3 Set up a virtuoso endpoint to query the RDF graph\n",
    "\n",
    "[This repository](https://github.com/jmillanacosta/fast-virtuoso) provides a quick way to set up a local Virtuoso endpoint using its docker image.\n",
    "\n",
    "Upload the prefixes (`bdf.shacl_prefixes(path=\"your/path\")`) and the BDF graph generated above (`bdf.serialize(\"your/path\", format=\"ttl\")`)."
   ]
  },
  {
   "cell_type": "code",
   "execution_count": 36,
   "metadata": {},
   "outputs": [],
   "source": [
    "# Define a function to send some sample SELECT queries and return the response in a pandas DataFrame\n",
    "import requests\n",
    "\n",
    "\n",
    "def send_sparql_query(query, endpoint=\"http://localhost:8899/sparql\", format=\"text/csv\"):\n",
    "    headers = {\"Accept\": format}\n",
    "    params = {\"query\": query}\n",
    "    response = requests.get(endpoint, headers=headers, params=params)\n",
    "\n",
    "    # Check if request was successful\n",
    "    if response.status_code == 200:\n",
    "        if format == \"text/csv\":\n",
    "            # Convert CSV response to pandas DataFrame\n",
    "            from io import StringIO\n",
    "\n",
    "            csv_data = StringIO(response.text)\n",
    "            return pd.read_csv(csv_data)\n",
    "        else:\n",
    "            return response.text  # For other formats if needed\n",
    "    else:\n",
    "        raise Exception(f\"Query failed with status code {response.status_code}: {response.text}\")"
   ]
  },
  {
   "cell_type": "code",
   "execution_count": 37,
   "metadata": {},
   "outputs": [],
   "source": [
    "from rdflib import RDF, RDFS, SH, Graph\n",
    "\n",
    "# Parse the query graph\n",
    "# Load the graph\n",
    "query_g = Graph()\n",
    "with open(\"examples/SPARQL/queries.ttl\", \"r\") as f:\n",
    "    query_g.parse(f, format=\"turtle\")\n",
    "\n",
    "# Extract queries and comments into a list of dictionaries\n",
    "queries_list = []\n",
    "for s in query_g.subjects(RDF.type, SH.SPARQLSelectExecutable):\n",
    "    query_text = query_g.value(s, SH.select)\n",
    "    comment = query_g.value(s, RDFS.comment)\n",
    "\n",
    "    if query_text and comment:\n",
    "        # Append a dictionary for each query and its comment\n",
    "        queries_list.append({\"comment\": comment.value, \"query\": query_text.value})"
   ]
  },
  {
   "cell_type": "code",
   "execution_count": 38,
   "metadata": {},
   "outputs": [
    {
     "name": "stdout",
     "output_type": "stream",
     "text": [
      "Retrieve details about each gene in the dataset, including the pathways it participates in, and the expression levels tied to it together with its associated anatomical entity and developmental stage. Return the text labels for all entities.\n",
      "\n",
      "PREFIX rdfs: <http://www.w3.org/2000/01/rdf-schema#>\n",
      "PREFIX sio: <http://semanticscience.org/resource/>\n",
      "PREFIX obo: <http://purl.obolibrary.org/obo/>\n",
      "\n",
      "SELECT ?gene ?geneLabel ?pathway ?pathwayLabel ?expressionMetric ?expressionValue ?anatomicalEntity ?anatomicalEntityLabel ?developmentalStage ?developmentalStageLabel\n",
      "WHERE {\n",
      "    ?gene a obo:NCIT_C16612 ;\n",
      "          sio:SIO_000068 ?pathway ;\n",
      "          sio:SIO_000216 ?expressionMetric ;\n",
      "          rdfs:label ?geneLabel .\n",
      "    ?anatomicalEntity rdfs:label ?anatomicalEntityLabel ;\n",
      "          a sio:SIO_001262 .\n",
      "    ?developmentalStage rdfs:label ?developmentalStageLabel ;\n",
      "          a obo:NCIT_C43531 .\n",
      "    ?expressionMetric sio:SIO_000300 ?expressionValue ;\n",
      "          sio:SIO_001403 ?anatomicalEntity ;\n",
      "          sio:SIO_001403 ?developmentalStage ;\n",
      "          a sio:SIO_001077 .\n",
      "\n",
      "    \n",
      "    ?pathway a obo:PW_0000001 ;\n",
      "          rdfs:label ?pathwayLabel .\n",
      "}\n"
     ]
    },
    {
     "data": {
      "text/html": [
       "<div>\n",
       "<style scoped>\n",
       "    .dataframe tbody tr th:only-of-type {\n",
       "        vertical-align: middle;\n",
       "    }\n",
       "\n",
       "    .dataframe tbody tr th {\n",
       "        vertical-align: top;\n",
       "    }\n",
       "\n",
       "    .dataframe thead th {\n",
       "        text-align: right;\n",
       "    }\n",
       "</style>\n",
       "<table border=\"1\" class=\"dataframe\">\n",
       "  <thead>\n",
       "    <tr style=\"text-align: right;\">\n",
       "      <th></th>\n",
       "      <th>gene</th>\n",
       "      <th>geneLabel</th>\n",
       "      <th>pathway</th>\n",
       "      <th>pathwayLabel</th>\n",
       "      <th>expressionMetric</th>\n",
       "      <th>expressionValue</th>\n",
       "      <th>anatomicalEntity</th>\n",
       "      <th>anatomicalEntityLabel</th>\n",
       "      <th>developmentalStage</th>\n",
       "      <th>developmentalStageLabel</th>\n",
       "    </tr>\n",
       "  </thead>\n",
       "  <tbody>\n",
       "  </tbody>\n",
       "</table>\n",
       "</div>"
      ],
      "text/plain": [
       "Empty DataFrame\n",
       "Columns: [gene, geneLabel, pathway, pathwayLabel, expressionMetric, expressionValue, anatomicalEntity, anatomicalEntityLabel, developmentalStage, developmentalStageLabel]\n",
       "Index: []"
      ]
     },
     "execution_count": 38,
     "metadata": {},
     "output_type": "execute_result"
    }
   ],
   "source": [
    "query_0 = send_sparql_query(queries_list[0][\"query\"])\n",
    "print(queries_list[0][\"comment\"])\n",
    "print(queries_list[0][\"query\"])\n",
    "query_0"
   ]
  },
  {
   "cell_type": "code",
   "execution_count": 39,
   "metadata": {},
   "outputs": [
    {
     "name": "stdout",
     "output_type": "stream",
     "text": [
      "\n",
      "PREFIX rdfs: <http://www.w3.org/2000/01/rdf-schema#>\n",
      "PREFIX sio: <http://semanticscience.org/resource/>\n",
      "PREFIX obo: <http://purl.obolibrary.org/obo/>\n",
      "\n",
      "SELECT ?gene ?geneLabel ?expressionValue ?anatomicalEntity ?entityLabel\n",
      "WHERE {\n",
      "    ?gene a obo:NCIT_C16612 ;\n",
      "          sio:SIO_000216 ?expressionMetric ;\n",
      "          rdfs:label ?geneLabel .\n",
      "\n",
      "          \n",
      "    ?expressionMetric a sio:SIO_001077 ;\n",
      "                      sio:SIO_001403 ?anatomicalEntity ;\n",
      "                      sio:SIO_000300 ?expressionValue ;\n",
      "                      sio:SIO_001403 obo:UBERON_0000104 .\n",
      "    ?anatomicalEntity a sio:SIO_001262 ;\n",
      "                      rdfs:label ?anatomicalEntityLabel .\n",
      "}\n",
      "ORDER BY DESC(?expressionValue)\n",
      "List genes linked to that have been found to be expressed in blood, along with their expression level values. Sort them in descending order according to their expression level values. Return all relevant labels.\n"
     ]
    },
    {
     "data": {
      "text/html": [
       "<div>\n",
       "<style scoped>\n",
       "    .dataframe tbody tr th:only-of-type {\n",
       "        vertical-align: middle;\n",
       "    }\n",
       "\n",
       "    .dataframe tbody tr th {\n",
       "        vertical-align: top;\n",
       "    }\n",
       "\n",
       "    .dataframe thead th {\n",
       "        text-align: right;\n",
       "    }\n",
       "</style>\n",
       "<table border=\"1\" class=\"dataframe\">\n",
       "  <thead>\n",
       "    <tr style=\"text-align: right;\">\n",
       "      <th></th>\n",
       "      <th>gene</th>\n",
       "      <th>geneLabel</th>\n",
       "      <th>expressionValue</th>\n",
       "      <th>anatomicalEntity</th>\n",
       "      <th>entityLabel</th>\n",
       "    </tr>\n",
       "  </thead>\n",
       "  <tbody>\n",
       "  </tbody>\n",
       "</table>\n",
       "</div>"
      ],
      "text/plain": [
       "Empty DataFrame\n",
       "Columns: [gene, geneLabel, expressionValue, anatomicalEntity, entityLabel]\n",
       "Index: []"
      ]
     },
     "execution_count": 39,
     "metadata": {},
     "output_type": "execute_result"
    }
   ],
   "source": [
    "query_3 = send_sparql_query(queries_list[3][\"query\"])\n",
    "print(queries_list[3][\"query\"])\n",
    "print(queries_list[3][\"comment\"])\n",
    "query_3"
   ]
  }
 ],
 "metadata": {
  "kernelspec": {
   "display_name": "Python 3",
   "language": "python",
   "name": "python3"
  },
  "language_info": {
   "codemirror_mode": {
    "name": "ipython",
    "version": 3
   },
   "file_extension": ".py",
   "mimetype": "text/x-python",
   "name": "python",
   "nbconvert_exporter": "python",
   "pygments_lexer": "ipython3",
   "version": "3.10.12"
  }
 },
 "nbformat": 4,
 "nbformat_minor": 4
}
