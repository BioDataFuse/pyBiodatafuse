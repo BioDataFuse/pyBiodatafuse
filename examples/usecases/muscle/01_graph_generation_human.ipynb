{
 "cells": [
  {
   "cell_type": "markdown",
   "metadata": {},
   "source": [
    "## Explore mitochondrial impairment in tumars "
   ]
  },
  {
   "cell_type": "markdown",
   "metadata": {},
   "source": [
    "**Aim**: in this notebook, you will see all the steps for collecting data and constructing a KG to explore mitochondrial impairment in tumer (both in human and mice)"
   ]
  },
  {
   "cell_type": "markdown",
   "metadata": {},
   "source": [
    "### Import required libraries"
   ]
  },
  {
   "cell_type": "code",
   "execution_count": null,
   "metadata": {},
   "outputs": [],
   "source": [
    "# Import modules\n",
    "import os\n",
    "import pickle\n",
    "\n",
    "import pandas as pd\n",
    "\n",
    "from pyBiodatafuse import id_mapper\n",
    "from pyBiodatafuse.annotators import (\n",
    "    tflink,\n",
    "    gprofiler,\n",
    "    mitocarta,\n",
    "    stringdb,\n",
    ")\n",
    "\n",
    "from pyBiodatafuse.constants import STRING_PPI_COL\n",
    "from pyBiodatafuse.graph import generator\n",
    "from pyBiodatafuse.utils import (\n",
    "    combine_sources,\n",
    "    create_harmonized_input_file,\n",
    "    create_or_append_to_metadata,\n",
    "    get_identifier_of_interest,\n",
    ")\n",
    "\n",
    "os.makedirs(\"data\", exist_ok=True)\n",
    "base_dir = os.path.abspath(os.getcwd())"
   ]
  },
  {
   "cell_type": "markdown",
   "metadata": {},
   "source": [
    "### Load the input files"
   ]
  },
  {
   "cell_type": "code",
   "execution_count": null,
   "metadata": {},
   "outputs": [],
   "source": [
    "# Read only specific columns and skip the first row\n",
    "all_genes = pd.read_excel(\"datasets/cachexia_vs_control_all_genes.xlsx\")\n",
    "all_genes.rename(\n",
    "    columns={\"Unnamed: 0\": \"identifier\", \"Unnamed: 1\": \"GENE_SYMBOL\"}, inplace=True\n",
    ")\n",
    "deg_data = all_genes[all_genes[\"padj\"] < 0.01]\n",
    "print(\"Number of genes:\", len(all_genes[\"identifier\"].unique()))\n",
    "deg_data.head(1)"
   ]
  },
  {
   "cell_type": "code",
   "execution_count": null,
   "metadata": {},
   "outputs": [],
   "source": [
    "deg_data[deg_data[\"identifier\"] == \"ENSG00000159713\"]  # does not exist in the deg table shared (internal check for this usecase)"
   ]
  },
  {
   "cell_type": "markdown",
   "metadata": {},
   "source": [
    "### Entity resolution with BridgeDB"
   ]
  },
  {
   "cell_type": "code",
   "execution_count": null,
   "metadata": {},
   "outputs": [],
   "source": [
    "pickle_path = os.path.join(base_dir, \"data/human/bridgedb_df.pkl\")\n",
    "metadata_path = os.path.join(base_dir, \"data/human/bridgedb_metadata.pkl\")\n",
    "\n",
    "if not os.path.exists(pickle_path):\n",
    "    bridgedb_df, bridgedb_metadata = id_mapper.bridgedb_xref(\n",
    "        identifiers=all_genes,\n",
    "        input_species=\"Human\",\n",
    "        input_datasource=\"Ensembl\",\n",
    "        output_datasource=\"All\",\n",
    "    )\n",
    "    bridgedb_df.to_pickle(pickle_path)\n",
    "    with open(metadata_path, \"wb\") as file:\n",
    "        pickle.dump(bridgedb_metadata, file)\n",
    "else:\n",
    "    bridgedb_df = pd.read_pickle(pickle_path)\n",
    "    with open(metadata_path, \"rb\") as file:\n",
    "        bridgedb_metadata = pickle.load(file)"
   ]
  },
  {
   "cell_type": "code",
   "execution_count": null,
   "metadata": {},
   "outputs": [],
   "source": [
    "print(\"Number of genes with mapping in BridgeDb:\", len(bridgedb_df[\"identifier\"].unique()))\n",
    "bridgedb_df.head(1)"
   ]
  },
  {
   "cell_type": "markdown",
   "metadata": {},
   "source": [
    "### TF-target interactions"
   ]
  },
  {
   "cell_type": "code",
   "execution_count": null,
   "metadata": {},
   "outputs": [],
   "source": [
    "tflink_path = os.path.join(base_dir, \"data/human/tflink.pkl\")\n",
    "tflink_metadata_path = os.path.join(base_dir, \"data/human/tflink_metadata.pkl\")\n",
    "\n",
    "if not os.path.exists(tflink_path):\n",
    "    tflink_df, tflink_metadata = tflink.get_tf_target(\n",
    "        bridgedb_df=bridgedb_df,\n",
    "        tf_file=\"TFLink_Homo_sapiens_interactions_All_simpleFormat_v1.0.tsv.gz\",\n",
    "        filename=\"data/human/tflink_human.tsv.gz\",\n",
    "        filter_deg=True,\n",
    "        padj_colname=\"padj\",\n",
    "        padj_filter=0.05\n",
    "    )\n",
    "    tflink_df.to_pickle(tflink_path)\n",
    "    with open(tflink_metadata_path, \"wb\") as file:\n",
    "        pickle.dump(tflink_metadata, file)\n",
    "else:\n",
    "    tflink_df = pd.read_pickle(tflink_path)\n",
    "    with open(tflink_metadata_path, \"rb\") as file:\n",
    "        tflink_metadata = pickle.load(file)\n",
    "\n",
    "tflink_df.head(2)"
   ]
  },
  {
   "cell_type": "code",
   "execution_count": null,
   "metadata": {},
   "outputs": [],
   "source": [
    "tflink_df[tflink_df['target']==\"1647\"]"
   ]
  },
  {
   "cell_type": "code",
   "execution_count": null,
   "metadata": {},
   "outputs": [],
   "source": [
    "tflink_metadata"
   ]
  },
  {
   "cell_type": "markdown",
   "metadata": {},
   "source": [
    "### Enrichment analysis using g:Profiler\n",
    "all the pathways and annotations are being added despite being significance."
   ]
  },
  {
   "cell_type": "code",
   "execution_count": null,
   "metadata": {},
   "outputs": [],
   "source": [
    "gprofiler_path = os.path.join(base_dir, \"data/human/gprofiler.pkl\")\n",
    "gprofiler_metadata_path = os.path.join(base_dir, \"data/human/gprofiler_metadata.pkl\")\n",
    "\n",
    "if not os.path.exists(gprofiler_path):\n",
    "    gprofiler_df, gprofiler_metadata = gprofiler.get_gene_enrichment(\n",
    "        bridgedb_df=bridgedb_df, species=\"hsapiens\", padj_colname=\"padj\", padj_filter=0.05)\n",
    "    gprofiler_df.to_pickle(gprofiler_path)\n",
    "    with open(gprofiler_metadata_path, \"wb\") as file:\n",
    "        pickle.dump(gprofiler_metadata, file)\n",
    "else:\n",
    "    gprofiler_df = pd.read_pickle(gprofiler_path)\n",
    "    with open(gprofiler_metadata_path, \"rb\") as file:\n",
    "        gprofiler_metadata = pickle.load(file)\n",
    "\n",
    "gprofiler_df.head(1)"
   ]
  },
  {
   "cell_type": "code",
   "execution_count": null,
   "metadata": {},
   "outputs": [],
   "source": [
    "gprofiler_df[gprofiler_df[\"g:Profiler_reac\"].notna()].head(1)"
   ]
  },
  {
   "cell_type": "markdown",
   "metadata": {},
   "source": [
    "### Add MitoCarta data"
   ]
  },
  {
   "cell_type": "code",
   "execution_count": null,
   "metadata": {},
   "outputs": [],
   "source": [
    "mitocarta_path = os.path.join(base_dir, \"data/human/mitocarta.pkl\")\n",
    "mitocarta_metadata_path = os.path.join(base_dir, \"data/human/mitocarta_metadata.pkl\")\n",
    "\n",
    "if not os.path.exists(mitocarta_path):\n",
    "    mitocarta_df, mitocarta_metadata = mitocarta.get_gene_mito_pathways(\n",
    "        bridgedb_df=bridgedb_df,\n",
    "        mitocarta_file=\"Human.MitoCarta3.0.xls\",\n",
    "        filename=\"data/human/mitocarta3.0_human.xls\",\n",
    "        species=\"hsapiens\",\n",
    "        sheet_name=\"A Human MitoCarta3.0\"\n",
    "    )\n",
    "    mitocarta_df.to_pickle(mitocarta_path)\n",
    "    with open(mitocarta_metadata_path, \"wb\") as file:\n",
    "        pickle.dump(mitocarta_metadata, file)\n",
    "else:\n",
    "    mitocarta_df = pd.read_pickle(mitocarta_path)\n",
    "    with open(mitocarta_metadata_path, \"rb\") as file:\n",
    "        mitocarta_metadata = pickle.load(file)\n",
    "\n",
    "mitocarta_df.head(1)"
   ]
  },
  {
   "cell_type": "code",
   "execution_count": null,
   "metadata": {},
   "outputs": [],
   "source": [
    "mitocarta_df[mitocarta_df[\"identifier\"] == \"ENSG00000005156\"][\"MitoCarta\"].to_dict()"
   ]
  },
  {
   "cell_type": "code",
   "execution_count": null,
   "metadata": {},
   "outputs": [],
   "source": [
    "mitocarta_df[mitocarta_df[\"identifier\"] == \"ENSG00000179091\"][\"MitoCarta\"].to_dict()"
   ]
  },
  {
   "cell_type": "code",
   "execution_count": null,
   "metadata": {},
   "outputs": [],
   "source": [
    "mitocarta_df[mitocarta_df[\"identifier\"] == \"ENSG00000167186\"][\"MitoCarta\"].to_dict()"
   ]
  },
  {
   "cell_type": "markdown",
   "metadata": {},
   "source": [
    "### Protein-Protein Interactions from STRING"
   ]
  },
  {
   "cell_type": "code",
   "execution_count": null,
   "metadata": {},
   "outputs": [],
   "source": [
    "string_path = os.path.join(base_dir, \"data/human/string.pkl\")\n",
    "string_metadata_path = os.path.join(base_dir, \"data/human/string_metadata.pkl\")\n",
    "\n",
    "if not os.path.exists(string_path):\n",
    "    ppi_df, ppi_metadata = stringdb.get_ppi(\n",
    "        bridgedb_df=bridgedb_df[bridgedb_df[\"padj_dea\"] <= 0.05]\n",
    "    )\n",
    "    # ppi_df.to_pickle(string_path)\n",
    "    with open(string_metadata_path, \"wb\") as file:\n",
    "        pickle.dump(ppi_metadata, file)\n",
    "else:\n",
    "    ppi_df = pd.read_pickle(string_path)\n",
    "    with open(string_metadata_path, \"rb\") as file:\n",
    "        ppi_metadata = pickle.load(file)\n",
    "\n",
    "ppi_df.head()"
   ]
  },
  {
   "cell_type": "code",
   "execution_count": null,
   "metadata": {},
   "outputs": [],
   "source": [
    "ppi_df[STRING_PPI_COL].to_dict()"
   ]
  },
  {
   "cell_type": "code",
   "execution_count": null,
   "metadata": {},
   "outputs": [],
   "source": [
    "ppi_df[STRING_PPI_COL].to_dict()"
   ]
  },
  {
   "cell_type": "markdown",
   "metadata": {},
   "source": [
    "## Graph generation \n",
    "\n",
    "### Combine all data and metadata"
   ]
  },
  {
   "cell_type": "code",
   "execution_count": null,
   "metadata": {},
   "outputs": [],
   "source": [
    "combined_df = combine_sources(\n",
    "    bridgedb_df,\n",
    "    [\n",
    "        tflink_df,\n",
    "        mitocarta_df,\n",
    "        gprofiler_df,\n",
    "        # ppi_df,\n",
    "    ],\n",
    ")"
   ]
  },
  {
   "cell_type": "code",
   "execution_count": null,
   "metadata": {},
   "outputs": [],
   "source": [
    "combined_df[combined_df[\"identifier\"] == \"ENSG00000167186\"]"
   ]
  },
  {
   "cell_type": "code",
   "execution_count": null,
   "metadata": {},
   "outputs": [],
   "source": [
    "combined_df_path = os.path.join(base_dir, \"data/human/combined_df.pkl\")\n",
    "\n",
    "if not os.path.exists(combined_df_path):\n",
    "    combined_df.to_pickle(\"data/human/combined_df.pkl\")\n",
    "else:\n",
    "    with open(combined_df_path, \"rb\") as f:\n",
    "        combined_df = pickle.load(f)\n",
    "\n",
    "combined_df.head()\n"
   ]
  },
  {
   "cell_type": "code",
   "execution_count": null,
   "metadata": {},
   "outputs": [],
   "source": [
    "combined_metadata = create_or_append_to_metadata(\n",
    "    bridgedb_metadata,\n",
    "    [\n",
    "        tflink_metadata,\n",
    "        mitocarta_metadata,\n",
    "        gprofiler_metadata,\n",
    "        # ppi_metadata,\n",
    "    ],\n",
    ")"
   ]
  },
  {
   "cell_type": "code",
   "execution_count": null,
   "metadata": {},
   "outputs": [],
   "source": [
    "combined_metadata"
   ]
  },
  {
   "cell_type": "code",
   "execution_count": null,
   "metadata": {},
   "outputs": [],
   "source": [
    "with open(\"data/human/combined_metadata.pkl\", \"wb\") as out:\n",
    "    pickle.dump(combined_metadata, out)"
   ]
  },
  {
   "cell_type": "markdown",
   "metadata": {},
   "source": [
    "### Create a graph from the annotated dataframe"
   ]
  },
  {
   "cell_type": "code",
   "execution_count": null,
   "metadata": {},
   "outputs": [],
   "source": [
    "combined_df.head(1)"
   ]
  },
  {
   "cell_type": "markdown",
   "metadata": {},
   "source": [
    "#### subseting the rows to contruct the graph based on the biological quetion"
   ]
  },
  {
   "cell_type": "code",
   "execution_count": null,
   "metadata": {},
   "outputs": [],
   "source": [
    "# Extract all 'NCBI.GeneID.TF' values into a single list\n",
    "ncbi_gene_ids = (\n",
    "    combined_df[\"its_tf\"]\n",
    "    .apply(lambda x: [d[\"NCBI.GeneID.TF\"] for d in x] if isinstance(x, list) else [])\n",
    "    .explode()\n",
    "    .dropna()\n",
    "    .unique()\n",
    "    .tolist()\n",
    ")\n",
    "\n",
    "len(ncbi_gene_ids)"
   ]
  },
  {
   "cell_type": "code",
   "execution_count": null,
   "metadata": {},
   "outputs": [],
   "source": [
    "combined_df_tf = combined_df[combined_df[\"target\"].isin(ncbi_gene_ids)]\n",
    "combined_df_sig = combined_df[combined_df[\"padj_dea\"] <= 0.05]\n",
    "combined_df_sig = combined_df_sig[~combined_df_sig[\"target\"].isin(ncbi_gene_ids)]\n",
    "combined_df_sig.shape"
   ]
  },
  {
   "cell_type": "code",
   "execution_count": null,
   "metadata": {},
   "outputs": [],
   "source": [
    "combined_df_tf_sig = pd.concat([combined_df_sig, combined_df_tf], axis=0, ignore_index=True)\n",
    "combined_df_tf_sig.shape"
   ]
  },
  {
   "cell_type": "code",
   "execution_count": null,
   "metadata": {},
   "outputs": [],
   "source": [
    "combined_df[combined_df[\"identifier\"] == \"ENSG00000108387\"][\"MitoCarta\"]"
   ]
  },
  {
   "cell_type": "code",
   "execution_count": null,
   "metadata": {},
   "outputs": [],
   "source": [
    "combined_df.loc[combined_df[\"identifier\"] == \"ENSG00000108387\", \"GENE_SYMBOL_dea\"]=\"SEPTIN4\"\n",
    "combined_df = combined_df[combined_df[\"identifier\"] != \"ENSG00000108387\"]"
   ]
  },
  {
   "cell_type": "code",
   "execution_count": null,
   "metadata": {},
   "outputs": [],
   "source": [
    "# Extract all targets for NFYA ('NCBI.GeneID.TF')\n",
    "ncbi_gene_ids_NFYA_targets = (\n",
    "    combined_df_tf_sig[combined_df_tf_sig[\"identifier\"] == \"ENSG00000001167\"][\"its_target\"]\n",
    "    .apply(lambda x: [d[\"NCBI.GeneID.Target\"] for d in x] if isinstance(x, list) else [])\n",
    "    .explode()\n",
    "    .dropna()\n",
    "    .unique()\n",
    "    .tolist()\n",
    ")\n",
    "\n",
    "len(ncbi_gene_ids_NFYA_targets)"
   ]
  },
  {
   "cell_type": "code",
   "execution_count": null,
   "metadata": {},
   "outputs": [],
   "source": [
    "pygraph = generator.save_graph(\n",
    "    combined_df=combined_df,\n",
    "    combined_metadata=combined_metadata,\n",
    "    graph_name=\"examples\",\n",
    "    graph_dir=\"./data/human\",\n",
    ")"
   ]
  },
  {
   "cell_type": "code",
   "execution_count": null,
   "metadata": {},
   "outputs": [],
   "source": [
    "print(pygraph)"
   ]
  },
  {
   "cell_type": "code",
   "execution_count": null,
   "metadata": {},
   "outputs": [],
   "source": [
    "from pyBiodatafuse.graph import neo4j\n",
    "\n",
    "neo4j.save_graph_to_graphml(pygraph, \"./data/human/networkx_human_graph.graphml\")"
   ]
  }
 ],
 "metadata": {
  "kernelspec": {
   "display_name": ".venv",
   "language": "python",
   "name": "python3"
  },
  "language_info": {
   "codemirror_mode": {
    "name": "ipython",
    "version": 3
   },
   "file_extension": ".py",
   "mimetype": "text/x-python",
   "name": "python",
   "nbconvert_exporter": "python",
   "pygments_lexer": "ipython3",
   "version": "3.9.13"
  }
 },
 "nbformat": 4,
 "nbformat_minor": 4
}
