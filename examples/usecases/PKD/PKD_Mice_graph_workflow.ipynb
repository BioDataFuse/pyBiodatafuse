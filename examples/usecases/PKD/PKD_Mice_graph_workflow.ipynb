{
 "cells": [
  {
   "cell_type": "markdown",
   "metadata": {},
   "source": [
    "# Example: Polysistice Kidney Disease use case"
   ]
  },
  {
   "cell_type": "code",
   "execution_count": 1,
   "metadata": {},
   "outputs": [
    {
     "name": "stderr",
     "output_type": "stream",
     "text": [
      "/opt/anaconda3/envs/pybiodatafuse/lib/python3.10/site-packages/tqdm/auto.py:21: TqdmWarning: IProgress not found. Please update jupyter and ipywidgets. See https://ipywidgets.readthedocs.io/en/stable/user_install.html\n",
      "  from .autonotebook import tqdm as notebook_tqdm\n"
     ]
    }
   ],
   "source": [
    "# Import modules\n",
    "import os\n",
    "import pickle\n",
    "\n",
    "import pandas as pd\n",
    "\n",
    "import pyBiodatafuse.annotators as ann\n",
    "import pyBiodatafuse.constants as Cons\n",
    "from pyBiodatafuse import human_homologs, id_mapper\n",
    "from pyBiodatafuse.graph import cytoscape, generator, neo4j\n",
    "from pyBiodatafuse.graph.rdf import BDFGraph\n",
    "\n",
    "# from pyBiodatafuse.graph.rdf.graphdb import GraphDBManager\n",
    "from pyBiodatafuse.utils import combine_sources, combine_with_homologs, create_harmonized_input_file"
   ]
  },
  {
   "cell_type": "markdown",
   "metadata": {},
   "source": [
    "# 1. Entity resolution using BridgeDB"
   ]
  },
  {
   "cell_type": "markdown",
   "metadata": {},
   "source": [
    "### 1.1. Load the input list and convert it to a dataframe\n",
    "Here we use the mice proteins from Ensembl as starting point"
   ]
  },
  {
   "cell_type": "code",
   "execution_count": 2,
   "metadata": {},
   "outputs": [],
   "source": [
    "base_dir = os.path.abspath(os.getcwd())  # Ensures an absolute path\n",
    "DATA_DIR = os.path.join(base_dir, \"data\")\n",
    "os.makedirs(DATA_DIR, exist_ok=True)"
   ]
  },
  {
   "cell_type": "code",
   "execution_count": 3,
   "metadata": {},
   "outputs": [
    {
     "data": {
      "text/plain": [
       "16"
      ]
     },
     "execution_count": 3,
     "metadata": {},
     "output_type": "execute_result"
    }
   ],
   "source": [
    "genes_of_interest = \"\"\"ENSMUSG00000026295\n",
    "ENSMUSG00000022877\n",
    "ENSMUSG00000020914\n",
    "ENSMUSG00000024747\n",
    "ENSMUSG00000032081\n",
    "ENSMUSG00000004035\n",
    "ENSMUSG00000072949\n",
    "ENSMUSG00000028970\n",
    "ENSMUSG00000028937\n",
    "ENSMUSG00000075044\n",
    "ENSMUSG00000067274\n",
    "ENSMUSG00000000001\n",
    "ENSMUSG00000030619\n",
    "ENSMUSG00000027490\n",
    "ENSMUSG00000022472\n",
    "ENSMUSG00000059552\"\"\"\n",
    "\n",
    "gene_list = genes_of_interest.split(\"\\n\")\n",
    "len(gene_list)"
   ]
  },
  {
   "cell_type": "code",
   "execution_count": 4,
   "metadata": {},
   "outputs": [
    {
     "data": {
      "text/html": [
       "<div>\n",
       "<style scoped>\n",
       "    .dataframe tbody tr th:only-of-type {\n",
       "        vertical-align: middle;\n",
       "    }\n",
       "\n",
       "    .dataframe tbody tr th {\n",
       "        vertical-align: top;\n",
       "    }\n",
       "\n",
       "    .dataframe thead th {\n",
       "        text-align: right;\n",
       "    }\n",
       "</style>\n",
       "<table border=\"1\" class=\"dataframe\">\n",
       "  <thead>\n",
       "    <tr style=\"text-align: right;\">\n",
       "      <th></th>\n",
       "      <th>identifier</th>\n",
       "    </tr>\n",
       "  </thead>\n",
       "  <tbody>\n",
       "    <tr>\n",
       "      <th>0</th>\n",
       "      <td>ENSMUSG00000026295</td>\n",
       "    </tr>\n",
       "    <tr>\n",
       "      <th>1</th>\n",
       "      <td>ENSMUSG00000022877</td>\n",
       "    </tr>\n",
       "    <tr>\n",
       "      <th>2</th>\n",
       "      <td>ENSMUSG00000020914</td>\n",
       "    </tr>\n",
       "    <tr>\n",
       "      <th>3</th>\n",
       "      <td>ENSMUSG00000024747</td>\n",
       "    </tr>\n",
       "    <tr>\n",
       "      <th>4</th>\n",
       "      <td>ENSMUSG00000032081</td>\n",
       "    </tr>\n",
       "  </tbody>\n",
       "</table>\n",
       "</div>"
      ],
      "text/plain": [
       "           identifier\n",
       "0  ENSMUSG00000026295\n",
       "1  ENSMUSG00000022877\n",
       "2  ENSMUSG00000020914\n",
       "3  ENSMUSG00000024747\n",
       "4  ENSMUSG00000032081"
      ]
     },
     "execution_count": 4,
     "metadata": {},
     "output_type": "execute_result"
    }
   ],
   "source": [
    "data_input = pd.DataFrame(gene_list, columns=[\"identifier\"])\n",
    "data_input.head()"
   ]
  },
  {
   "cell_type": "markdown",
   "metadata": {},
   "source": [
    "### 1.2. Query BridgeDB"
   ]
  },
  {
   "cell_type": "code",
   "execution_count": 5,
   "metadata": {},
   "outputs": [
    {
     "data": {
      "text/html": [
       "<div>\n",
       "<style scoped>\n",
       "    .dataframe tbody tr th:only-of-type {\n",
       "        vertical-align: middle;\n",
       "    }\n",
       "\n",
       "    .dataframe tbody tr th {\n",
       "        vertical-align: top;\n",
       "    }\n",
       "\n",
       "    .dataframe thead th {\n",
       "        text-align: right;\n",
       "    }\n",
       "</style>\n",
       "<table border=\"1\" class=\"dataframe\">\n",
       "  <thead>\n",
       "    <tr style=\"text-align: right;\">\n",
       "      <th></th>\n",
       "      <th>identifier</th>\n",
       "      <th>identifier.source</th>\n",
       "      <th>target</th>\n",
       "      <th>target.source</th>\n",
       "    </tr>\n",
       "  </thead>\n",
       "  <tbody>\n",
       "    <tr>\n",
       "      <th>0</th>\n",
       "      <td>ENSMUSG00000026295</td>\n",
       "      <td>Ensembl</td>\n",
       "      <td>4434677</td>\n",
       "      <td>Affy</td>\n",
       "    </tr>\n",
       "    <tr>\n",
       "      <th>1</th>\n",
       "      <td>ENSMUSG00000026295</td>\n",
       "      <td>Ensembl</td>\n",
       "      <td>Q8K1I3</td>\n",
       "      <td>Uniprot-TrEMBL</td>\n",
       "    </tr>\n",
       "    <tr>\n",
       "      <th>2</th>\n",
       "      <td>ENSMUSG00000026295</td>\n",
       "      <td>Ensembl</td>\n",
       "      <td>A_51_P166152</td>\n",
       "      <td>Agilent</td>\n",
       "    </tr>\n",
       "    <tr>\n",
       "      <th>3</th>\n",
       "      <td>ENSMUSG00000026295</td>\n",
       "      <td>Ensembl</td>\n",
       "      <td>5314352</td>\n",
       "      <td>Affy</td>\n",
       "    </tr>\n",
       "    <tr>\n",
       "      <th>4</th>\n",
       "      <td>ENSMUSG00000026295</td>\n",
       "      <td>Ensembl</td>\n",
       "      <td>4638627</td>\n",
       "      <td>Affy</td>\n",
       "    </tr>\n",
       "  </tbody>\n",
       "</table>\n",
       "</div>"
      ],
      "text/plain": [
       "           identifier identifier.source        target   target.source\n",
       "0  ENSMUSG00000026295           Ensembl       4434677            Affy\n",
       "1  ENSMUSG00000026295           Ensembl        Q8K1I3  Uniprot-TrEMBL\n",
       "2  ENSMUSG00000026295           Ensembl  A_51_P166152         Agilent\n",
       "3  ENSMUSG00000026295           Ensembl       5314352            Affy\n",
       "4  ENSMUSG00000026295           Ensembl       4638627            Affy"
      ]
     },
     "execution_count": 5,
     "metadata": {},
     "output_type": "execute_result"
    }
   ],
   "source": [
    "pickle_path = f\"{DATA_DIR}/PKD_gene_list.pkl\"\n",
    "metadata_path = f\"{DATA_DIR}/PKD_gene_list_metadata.pkl\"\n",
    "\n",
    "# Mouse usecase\n",
    "input_species = \"Mouse\"\n",
    "\n",
    "if not os.path.exists(pickle_path):\n",
    "    bridgedb_df, bridgedb_metadata = id_mapper.bridgedb_xref(\n",
    "        identifiers=data_input,\n",
    "        input_species=input_species,\n",
    "        input_datasource=\"Ensembl\",\n",
    "        output_datasource=\"All\",\n",
    "    )\n",
    "    bridgedb_df.to_pickle(pickle_path)\n",
    "    with open(metadata_path, \"wb\") as file:\n",
    "        pickle.dump(bridgedb_metadata, file)\n",
    "else:\n",
    "    bridgedb_df = pd.read_pickle(pickle_path)\n",
    "    with open(metadata_path, \"rb\") as file:\n",
    "        bridgedb_metadata = pickle.load(file)\n",
    "\n",
    "bridgedb_df.head()"
   ]
  },
  {
   "cell_type": "markdown",
   "metadata": {},
   "source": [
    "### 1.3 Homologs"
   ]
  },
  {
   "cell_type": "code",
   "execution_count": 6,
   "metadata": {},
   "outputs": [
    {
     "data": {
      "text/html": [
       "<div>\n",
       "<style scoped>\n",
       "    .dataframe tbody tr th:only-of-type {\n",
       "        vertical-align: middle;\n",
       "    }\n",
       "\n",
       "    .dataframe tbody tr th {\n",
       "        vertical-align: top;\n",
       "    }\n",
       "\n",
       "    .dataframe thead th {\n",
       "        text-align: right;\n",
       "    }\n",
       "</style>\n",
       "<table border=\"1\" class=\"dataframe\">\n",
       "  <thead>\n",
       "    <tr style=\"text-align: right;\">\n",
       "      <th></th>\n",
       "      <th>identifier</th>\n",
       "      <th>identifier.source</th>\n",
       "      <th>target</th>\n",
       "      <th>target.source</th>\n",
       "      <th>Ensembl_homologs</th>\n",
       "    </tr>\n",
       "  </thead>\n",
       "  <tbody>\n",
       "    <tr>\n",
       "      <th>0</th>\n",
       "      <td>ENSMUSG00000026295</td>\n",
       "      <td>Ensembl</td>\n",
       "      <td>ENSMUSG00000026295</td>\n",
       "      <td>Ensembl</td>\n",
       "      <td>[{'homolog': 'ENSG00000072080'}]</td>\n",
       "    </tr>\n",
       "    <tr>\n",
       "      <th>1</th>\n",
       "      <td>ENSMUSG00000022877</td>\n",
       "      <td>Ensembl</td>\n",
       "      <td>ENSMUSG00000022877</td>\n",
       "      <td>Ensembl</td>\n",
       "      <td>[{'homolog': 'ENSG00000113905'}]</td>\n",
       "    </tr>\n",
       "    <tr>\n",
       "      <th>2</th>\n",
       "      <td>ENSMUSG00000020914</td>\n",
       "      <td>Ensembl</td>\n",
       "      <td>ENSMUSG00000020914</td>\n",
       "      <td>Ensembl</td>\n",
       "      <td>[{'homolog': 'ENSG00000131747'}]</td>\n",
       "    </tr>\n",
       "    <tr>\n",
       "      <th>3</th>\n",
       "      <td>ENSMUSG00000024747</td>\n",
       "      <td>Ensembl</td>\n",
       "      <td>ENSMUSG00000024747</td>\n",
       "      <td>Ensembl</td>\n",
       "      <td>[{'homolog': 'ENSG00000165092'}]</td>\n",
       "    </tr>\n",
       "    <tr>\n",
       "      <th>4</th>\n",
       "      <td>ENSMUSG00000032081</td>\n",
       "      <td>Ensembl</td>\n",
       "      <td>ENSMUSG00000032081</td>\n",
       "      <td>Ensembl</td>\n",
       "      <td>[{'homolog': 'ENSG00000110245'}]</td>\n",
       "    </tr>\n",
       "  </tbody>\n",
       "</table>\n",
       "</div>"
      ],
      "text/plain": [
       "           identifier identifier.source              target target.source  \\\n",
       "0  ENSMUSG00000026295           Ensembl  ENSMUSG00000026295       Ensembl   \n",
       "1  ENSMUSG00000022877           Ensembl  ENSMUSG00000022877       Ensembl   \n",
       "2  ENSMUSG00000020914           Ensembl  ENSMUSG00000020914       Ensembl   \n",
       "3  ENSMUSG00000024747           Ensembl  ENSMUSG00000024747       Ensembl   \n",
       "4  ENSMUSG00000032081           Ensembl  ENSMUSG00000032081       Ensembl   \n",
       "\n",
       "                   Ensembl_homologs  \n",
       "0  [{'homolog': 'ENSG00000072080'}]  \n",
       "1  [{'homolog': 'ENSG00000113905'}]  \n",
       "2  [{'homolog': 'ENSG00000131747'}]  \n",
       "3  [{'homolog': 'ENSG00000165092'}]  \n",
       "4  [{'homolog': 'ENSG00000110245'}]  "
      ]
     },
     "execution_count": 6,
     "metadata": {},
     "output_type": "execute_result"
    }
   ],
   "source": [
    "pickle_path = f\"{DATA_DIR}/homologs.pkl\"\n",
    "\n",
    "if not os.path.exists(pickle_path):\n",
    "    ensembl_homologs_df, ensembl_metadata = human_homologs.get_homologs(bridgedb_df=bridgedb_df)\n",
    "    ensembl_homologs_df.to_pickle(pickle_path)\n",
    "else:\n",
    "    ensembl_homologs_df = pd.read_pickle(pickle_path)\n",
    "\n",
    "ensembl_homologs_df.head()"
   ]
  },
  {
   "cell_type": "code",
   "execution_count": 7,
   "metadata": {},
   "outputs": [
    {
     "data": {
      "text/plain": [
       "15"
      ]
     },
     "execution_count": 7,
     "metadata": {},
     "output_type": "execute_result"
    }
   ],
   "source": [
    "homologs = (\n",
    "    ensembl_homologs_df[Cons.ENSEMBL_HOMOLOG_COL]\n",
    "    .apply(\n",
    "        lambda x: (\n",
    "            x[0][\"homolog\"] if isinstance(x, list) and len(x) > 0 and \"homolog\" in x[0] else None\n",
    "        )\n",
    "    )\n",
    "    .dropna()\n",
    "    .tolist()\n",
    ")\n",
    "\n",
    "len(homologs)"
   ]
  },
  {
   "cell_type": "markdown",
   "metadata": {},
   "source": [
    "### 1.4 Query homologs"
   ]
  },
  {
   "cell_type": "code",
   "execution_count": 8,
   "metadata": {},
   "outputs": [
    {
     "data": {
      "text/html": [
       "<div>\n",
       "<style scoped>\n",
       "    .dataframe tbody tr th:only-of-type {\n",
       "        vertical-align: middle;\n",
       "    }\n",
       "\n",
       "    .dataframe tbody tr th {\n",
       "        vertical-align: top;\n",
       "    }\n",
       "\n",
       "    .dataframe thead th {\n",
       "        text-align: right;\n",
       "    }\n",
       "</style>\n",
       "<table border=\"1\" class=\"dataframe\">\n",
       "  <thead>\n",
       "    <tr style=\"text-align: right;\">\n",
       "      <th></th>\n",
       "      <th>identifier</th>\n",
       "      <th>identifier.source</th>\n",
       "      <th>target</th>\n",
       "      <th>target.source</th>\n",
       "    </tr>\n",
       "  </thead>\n",
       "  <tbody>\n",
       "    <tr>\n",
       "      <th>0</th>\n",
       "      <td>ENSG00000072080</td>\n",
       "      <td>Ensembl</td>\n",
       "      <td>XM_011511699</td>\n",
       "      <td>RefSeq</td>\n",
       "    </tr>\n",
       "    <tr>\n",
       "      <th>1</th>\n",
       "      <td>ENSG00000072080</td>\n",
       "      <td>Ensembl</td>\n",
       "      <td>XM_005246102</td>\n",
       "      <td>RefSeq</td>\n",
       "    </tr>\n",
       "    <tr>\n",
       "      <th>2</th>\n",
       "      <td>ENSG00000072080</td>\n",
       "      <td>Ensembl</td>\n",
       "      <td>C9J6K0</td>\n",
       "      <td>Uniprot-TrEMBL</td>\n",
       "    </tr>\n",
       "    <tr>\n",
       "      <th>3</th>\n",
       "      <td>ENSG00000072080</td>\n",
       "      <td>Ensembl</td>\n",
       "      <td>GO:0010951</td>\n",
       "      <td>Gene Ontology</td>\n",
       "    </tr>\n",
       "    <tr>\n",
       "      <th>4</th>\n",
       "      <td>ENSG00000072080</td>\n",
       "      <td>Ensembl</td>\n",
       "      <td>11729425_a_at</td>\n",
       "      <td>Affy</td>\n",
       "    </tr>\n",
       "  </tbody>\n",
       "</table>\n",
       "</div>"
      ],
      "text/plain": [
       "        identifier identifier.source         target   target.source\n",
       "0  ENSG00000072080           Ensembl   XM_011511699          RefSeq\n",
       "1  ENSG00000072080           Ensembl   XM_005246102          RefSeq\n",
       "2  ENSG00000072080           Ensembl         C9J6K0  Uniprot-TrEMBL\n",
       "3  ENSG00000072080           Ensembl     GO:0010951   Gene Ontology\n",
       "4  ENSG00000072080           Ensembl  11729425_a_at            Affy"
      ]
     },
     "execution_count": 8,
     "metadata": {},
     "output_type": "execute_result"
    }
   ],
   "source": [
    "pickle_path = f\"{DATA_DIR}/PKD_homolog_df.pkl\"\n",
    "metadata_path = f\"{DATA_DIR}/PKD_homolog_df_metadata.pkl\"\n",
    "\n",
    "input_species = \"Human\"\n",
    "data_input_hl = pd.DataFrame(homologs, columns=[\"identifier\"])\n",
    "\n",
    "if not os.path.exists(pickle_path):\n",
    "    bridgedb_df_hl, bridgedb_metadata_hl = id_mapper.bridgedb_xref(\n",
    "        identifiers=data_input_hl,\n",
    "        input_species=\"Human\",\n",
    "        input_datasource=\"Ensembl\",\n",
    "        output_datasource=\"All\",\n",
    "    )\n",
    "    bridgedb_df_hl.to_pickle(pickle_path)\n",
    "    with open(metadata_path, \"wb\") as file:\n",
    "        pickle.dump(bridgedb_metadata_hl, file)\n",
    "else:\n",
    "    bridgedb_df_hl = pd.read_pickle(pickle_path)\n",
    "    with open(metadata_path, \"rb\") as file:\n",
    "        bridgedb_metadata_hl = pickle.load(file)\n",
    "\n",
    "bridgedb_df_hl.head()"
   ]
  },
  {
   "cell_type": "markdown",
   "metadata": {},
   "source": [
    "# 2. Step-by-step graph generation\n",
    "\n",
    "The following annotators have been used:\n",
    "- DisGeNet\n",
    "- OpenTargets\n",
    "- PubChem\n",
    "- WikiPathways\n",
    "- "
   ]
  },
  {
   "cell_type": "markdown",
   "metadata": {},
   "source": [
    "### 2.1. Gene-Disease edges\n"
   ]
  },
  {
   "cell_type": "code",
   "execution_count": null,
   "metadata": {},
   "outputs": [],
   "source": [
    "load_dotenv(\"disgenet.env\")\n",
    "\n",
    "disgenet_api_key = os.getenv(\"DISGENET_API_KEY\")\n",
    "print(disgenet_api_key)"
   ]
  },
  {
   "cell_type": "code",
   "execution_count": null,
   "metadata": {},
   "outputs": [],
   "source": [
    "disgenet_df, disgenet_metadata = disgenet.get_gene_disease(\n",
    "    api_key=disgenet_api_key, bridgedb_df=bridgedb_df_hl\n",
    ")\n",
    "disgenet_df.head()"
   ]
  },
  {
   "cell_type": "code",
   "execution_count": null,
   "metadata": {},
   "outputs": [],
   "source": [
    "disgenet_df[DISGENET_DISEASE_COL][0]"
   ]
  },
  {
   "cell_type": "markdown",
   "metadata": {},
   "source": [
    "### 2.2 Disease-Compound edges"
   ]
  },
  {
   "cell_type": "code",
   "execution_count": null,
   "metadata": {},
   "outputs": [],
   "source": [
    "# Prepare the input to use DISGENET output as seed for OpenTargets\n",
    "disease_mapping_df = create_harmonized_input_file(disgenet_df, DISGENET_DISEASE_COL, \"EFO\", \"UMLS\")\n",
    "disease_mapping_df.head()"
   ]
  },
  {
   "cell_type": "code",
   "execution_count": null,
   "metadata": {},
   "outputs": [],
   "source": [
    "(\n",
    "    opentargets_disease_compound_df,\n",
    "    opentargets_disease_compound_metadata,\n",
    ") = opentargets.get_disease_compound_interactions(disease_mapping_df)\n",
    "opentargets_disease_compound_df.head()"
   ]
  },
  {
   "cell_type": "code",
   "execution_count": null,
   "metadata": {},
   "outputs": [],
   "source": [
    "opentargets_disease_compound_df[OPENTARGETS_DISEASE_COMPOUND_COL][0]"
   ]
  },
  {
   "cell_type": "markdown",
   "metadata": {},
   "source": [
    "### 2.3 Compound Annotation"
   ]
  },
  {
   "cell_type": "markdown",
   "metadata": {},
   "source": [
    "#### Compounds from OpenTargets"
   ]
  },
  {
   "cell_type": "code",
   "execution_count": null,
   "metadata": {},
   "outputs": [],
   "source": [
    "opentargets_compound_df, opentargets_compound_metadata = opentargets.get_gene_compound_interactions(\n",
    "    bridgedb_df=bridgedb_df_hl\n",
    ")\n",
    "opentargets_compound_df.head()"
   ]
  },
  {
   "cell_type": "code",
   "execution_count": null,
   "metadata": {},
   "outputs": [],
   "source": [
    "opentargets_compound_df[OPENTARGETS_GENE_COMPOUND_COL][0]"
   ]
  },
  {
   "cell_type": "markdown",
   "metadata": {},
   "source": [
    "#### Compounds from PubChem"
   ]
  },
  {
   "cell_type": "code",
   "execution_count": null,
   "metadata": {},
   "outputs": [],
   "source": [
    "pubchem_assay_df, pubchem_assay_metadata = pubchem.get_protein_compound_screened(\n",
    "    bridgedb_df=bridgedb_df_hl\n",
    ")"
   ]
  },
  {
   "cell_type": "markdown",
   "metadata": {},
   "source": [
    "### 2.4 Gene-Pathways edges"
   ]
  },
  {
   "cell_type": "markdown",
   "metadata": {},
   "source": [
    "#### Pathways from WikiPathways"
   ]
  },
  {
   "cell_type": "code",
   "execution_count": null,
   "metadata": {},
   "outputs": [],
   "source": [
    "wikipathways_df, wikipathways_metadata = wikipathways.get_gene_wikipathways(bridgedb_df=bridgedb_df)\n",
    "wikipathways_df.head()"
   ]
  },
  {
   "cell_type": "code",
   "execution_count": null,
   "metadata": {},
   "outputs": [],
   "source": [
    "wikipathways_df[WIKIPATHWAYS][0]"
   ]
  },
  {
   "cell_type": "markdown",
   "metadata": {},
   "source": [
    "#### Pathways from KEGG"
   ]
  },
  {
   "cell_type": "code",
   "execution_count": null,
   "metadata": {},
   "outputs": [],
   "source": [
    "compounds_of_interest = \"\"\"C01089\n",
    "C00020\n",
    "C02571\n",
    "C00212\n",
    "C00041\n",
    "C00152\n",
    "C00049\n",
    "C00719\n",
    "C00114\n",
    "C00158\n",
    "C00300\n",
    "C01026\n",
    "C00122\n",
    "C00031\n",
    "C00025\n",
    "C00064\n",
    "C00037\n",
    "C00135\n",
    "C00262\n",
    "C00130\n",
    "C00294\n",
    "C00407\n",
    "C00186\n",
    "C00123\n",
    "C00149\n",
    "C00073\n",
    "C00137\n",
    "C00003\n",
    "C00153\n",
    "C00079\n",
    "C00588\n",
    "C00346\n",
    "C04230\n",
    "C00245\n",
    "C00188\n",
    "C00082\n",
    "C00043\n",
    "C00105\n",
    "C00106\n",
    "C00299\n",
    "C00183\"\"\"\n",
    "\n",
    "metabolite_list = compounds_of_interest.split(\"\\n\")\n",
    "data_input = pd.DataFrame(metabolite_list, columns=[\"identifier\"])\n",
    "\n",
    "bridgdb_df_cmp, bridgdb_metadata = id_mapper.bridgedb_xref(\n",
    "    identifiers=data_input,\n",
    "    input_species=\"Mouse\",\n",
    "    input_datasource=\"KEGG Compound\",\n",
    "    output_datasource=\"All\",\n",
    ")\n",
    "bridgdb_df_cmp.head()"
   ]
  },
  {
   "cell_type": "code",
   "execution_count": null,
   "metadata": {},
   "outputs": [],
   "source": [
    "kegg_df, kegg_metadata = kegg.get_pathways(bridgedb_df)\n",
    "kegg_df.head()"
   ]
  },
  {
   "cell_type": "code",
   "execution_count": null,
   "metadata": {},
   "outputs": [],
   "source": [
    "kegg_df[\"KEGG_pathways\"][2]"
   ]
  },
  {
   "cell_type": "code",
   "execution_count": null,
   "metadata": {},
   "outputs": [],
   "source": [
    "kegg_compound_df = kegg.get_compounds(bridgdb_df_cmp)\n",
    "kegg_compound_df.head()"
   ]
  },
  {
   "cell_type": "code",
   "execution_count": null,
   "metadata": {},
   "outputs": [],
   "source": [
    "kegg_df.head()"
   ]
  },
  {
   "cell_type": "code",
   "execution_count": null,
   "metadata": {},
   "outputs": [],
   "source": [
    "kegg_compound_df[\"KEGG_compounds\"][0]"
   ]
  },
  {
   "cell_type": "code",
   "execution_count": 29,
   "metadata": {},
   "outputs": [],
   "source": [
    "# data_input_compounds = pd.DataFrame(kegg_identifiers, columns=[\"identifier\"])\n",
    "# data_input_compounds.head()\n",
    "\n",
    "# bridgdb_df, bridgdb_metadata = id_mapper.bridgedb_xref(\n",
    "#     identifiers=data_input_compounds,\n",
    "#     input_species=\"Mouse\",\n",
    "#     input_datasource=\"KEGG Compound\",\n",
    "#     output_datasource=\"PubChem Compound\",\n",
    "# )\n",
    "# bridgdb_df.head(25)"
   ]
  },
  {
   "cell_type": "code",
   "execution_count": null,
   "metadata": {},
   "outputs": [],
   "source": [
    "import requests\n",
    "\n",
    "chebi_id = \"15422\"\n",
    "\n",
    "url = f\"http://webservice.bridgedb.org/Human/xrefs/ChEBI/15422\"\n",
    "response = requests.get(url)\n",
    "\n",
    "if response.status_code == 200:\n",
    "    # Parse the response to extract metabolite name(s)\n",
    "    lines = response.text.splitlines()\n",
    "    print(lines)\n",
    "    names = [line.split(\"\\t\")[2] for line in lines if len(line.split(\"\\t\")) > 2]\n",
    "    print(names if names else \"No metabolite names found.\")\n",
    "else:\n",
    "    print(f\"Error: Unable to retrieve data (status code {response.status_code}).\")"
   ]
  },
  {
   "cell_type": "markdown",
   "metadata": {},
   "source": [
    "#### Reactome pathways from OpenTargets"
   ]
  },
  {
   "cell_type": "code",
   "execution_count": null,
   "metadata": {},
   "outputs": [],
   "source": [
    "opentargets_reactome_df, opentargets_reactome_metadata = opentargets.get_gene_reactome_pathways(\n",
    "    bridgedb_df=bridgedb_df_hl\n",
    ")\n",
    "opentargets_reactome_df.head()"
   ]
  },
  {
   "cell_type": "code",
   "execution_count": null,
   "metadata": {},
   "outputs": [],
   "source": [
    "opentargets_reactome_df[OPENTARGETS_REACTOME_COL][0]"
   ]
  },
  {
   "cell_type": "markdown",
   "metadata": {},
   "source": [
    "### 2.5 Gene Ontology from OpenTargets"
   ]
  },
  {
   "cell_type": "code",
   "execution_count": null,
   "metadata": {},
   "outputs": [],
   "source": [
    "opentargets_go_df, opentargets_go_metadata = opentargets.get_gene_go_process(\n",
    "    bridgedb_df=bridgedb_df_hl\n",
    ")\n",
    "opentargets_go_df.head()"
   ]
  },
  {
   "cell_type": "code",
   "execution_count": null,
   "metadata": {},
   "outputs": [],
   "source": [
    "opentargets_go_df[OPENTARGETS_GO_COL][0]"
   ]
  },
  {
   "cell_type": "markdown",
   "metadata": {},
   "source": [
    "### 2.6. Protein-Protein Interactions"
   ]
  },
  {
   "cell_type": "code",
   "execution_count": null,
   "metadata": {},
   "outputs": [],
   "source": [
    "input_species = \"Mouse\"\n",
    "ppi_df, ppi_metadata = stringdb.get_ppi(bridgedb_df=bridgedb_df, species=input_species)\n",
    "ppi_df.head()"
   ]
  },
  {
   "cell_type": "code",
   "execution_count": null,
   "metadata": {},
   "outputs": [],
   "source": [
    "ppi_df[STRING_PPI_COL][3]"
   ]
  },
  {
   "cell_type": "markdown",
   "metadata": {},
   "source": [
    "### Intact WIP"
   ]
  },
  {
   "cell_type": "code",
   "execution_count": null,
   "metadata": {},
   "outputs": [],
   "source": [
    "intact_df, intact_metadata = intact.get_interactions(bridgedb_df)\n",
    "intact_df.head()"
   ]
  },
  {
   "cell_type": "code",
   "execution_count": null,
   "metadata": {},
   "outputs": [],
   "source": [
    "intact_df[\"IntAct_interactions\"][0]"
   ]
  },
  {
   "cell_type": "code",
   "execution_count": null,
   "metadata": {},
   "outputs": [],
   "source": [
    "intact_compound_df, intact_compound_metadata = intact.get_compound_interactions(bridgedb_df)"
   ]
  },
  {
   "cell_type": "code",
   "execution_count": null,
   "metadata": {},
   "outputs": [],
   "source": [
    "intact_data = intact.get_compound_related_interactions()\n",
    "print(intact_data)"
   ]
  },
  {
   "cell_type": "markdown",
   "metadata": {},
   "source": [
    "### 2.7 Gene expression edges"
   ]
  },
  {
   "cell_type": "code",
   "execution_count": null,
   "metadata": {},
   "outputs": [],
   "source": [
    "bgee_df, bgee_metadata = bgee.get_gene_expression(bridgedb_df=bridgedb_df)\n",
    "bgee_df.head()"
   ]
  },
  {
   "cell_type": "code",
   "execution_count": null,
   "metadata": {},
   "outputs": [],
   "source": [
    "bgee_df[BGEE_GENE_EXPRESSION_LEVELS_COL][1]"
   ]
  },
  {
   "cell_type": "markdown",
   "metadata": {},
   "source": [
    "### 2.8 Transporter Inhibitors"
   ]
  },
  {
   "cell_type": "code",
   "execution_count": null,
   "metadata": {},
   "outputs": [],
   "source": [
    "inhibitor_df, inhibitor_metadata = molmedb.get_gene_compound_inhibitor(bridgedb_df=bridgedb_df_hl)\n",
    "inhibitor_df.head()"
   ]
  },
  {
   "cell_type": "markdown",
   "metadata": {},
   "source": [
    "# 3. Generating Graph"
   ]
  },
  {
   "cell_type": "markdown",
   "metadata": {},
   "source": [
    "### 3.1 Combing all the results into single dataframe"
   ]
  },
  {
   "cell_type": "code",
   "execution_count": null,
   "metadata": {},
   "outputs": [],
   "source": [
    "#        bgee_df,\n",
    "#        disgenet_df,\n",
    "#        minerva_df,\n",
    "#        opentargets_reactome_df,\n",
    "#        opentargets_go_df,\n",
    "#        opentargets_compound_df,\n",
    "#        inhibitor_df,\n",
    "#        kegg_df,\n",
    "#        wikipathways_df,\n",
    "#        ppi_df,\n",
    "#        ensembl_homologs_df,\n",
    "\n",
    "combined_df = combine_sources(\n",
    "    bridgedb_df,\n",
    "    [kegg_df, ppi_df, wikipathways_df, ensembl_homologs_df],\n",
    ")\n",
    "\n",
    "combined_df = combine_with_homologs(\n",
    "    combined_df,\n",
    "    [\n",
    "        opentargets_reactome_df,\n",
    "        opentargets_go_df,\n",
    "        opentargets_compound_df,\n",
    "        disgenet_df,\n",
    "    ],\n",
    ")\n",
    "\n",
    "\n",
    "combined_df.head(10)"
   ]
  },
  {
   "cell_type": "code",
   "execution_count": 21,
   "metadata": {},
   "outputs": [],
   "source": [
    "combined_df = combine_sources(\n",
    "    bridgedb_df,\n",
    "    [intact_df],\n",
    ")"
   ]
  },
  {
   "cell_type": "code",
   "execution_count": null,
   "metadata": {},
   "outputs": [],
   "source": [
    "combined_df.shape"
   ]
  },
  {
   "cell_type": "markdown",
   "metadata": {},
   "source": [
    "### 3.2 Exporting the database in pickle format"
   ]
  },
  {
   "cell_type": "code",
   "execution_count": null,
   "metadata": {},
   "outputs": [],
   "source": [
    "with open(\"combined_df.pkl\", \"wb\") as out:\n",
    "    pickle.dump(combined_df, out)\n",
    "# with open(\"opentargets_disease_compound_df.pkl\", \"wb\") as out:\n",
    "#     pickle.dump(opentargets_disease_compound_df, out)"
   ]
  },
  {
   "cell_type": "markdown",
   "metadata": {},
   "source": [
    "### 3.3 Creating a graph from the annotated dataframe"
   ]
  },
  {
   "cell_type": "code",
   "execution_count": null,
   "metadata": {},
   "outputs": [],
   "source": [
    "# combined_df = generator.load_dataframe_from_pickle(\"combined_df.pkl\")\n",
    "# opentargets_disease_compound_df = generator.load_dataframe_from_pickle(\n",
    "#     \"opentargets_disease_compound_df.pkl\"\n",
    "# )\n",
    "\n",
    "combined_df.head(15)"
   ]
  },
  {
   "cell_type": "code",
   "execution_count": null,
   "metadata": {},
   "outputs": [],
   "source": [
    "combined_df[\"KEGG_pathways\"][2]"
   ]
  },
  {
   "cell_type": "code",
   "execution_count": null,
   "metadata": {},
   "outputs": [],
   "source": [
    "opentargets_disease_compound_df.head()"
   ]
  },
  {
   "cell_type": "code",
   "execution_count": null,
   "metadata": {},
   "outputs": [],
   "source": [
    "pygraph = generator.build_networkx_graph(\n",
    "    combined_df,\n",
    "    disease_compound=opentargets_disease_compound_df,\n",
    "    pathway_compound=kegg_compound_df,\n",
    "    homolog_df_list=[\n",
    "        opentargets_reactome_df,\n",
    "        opentargets_compound_df,\n",
    "    ],\n",
    ")"
   ]
  },
  {
   "cell_type": "code",
   "execution_count": null,
   "metadata": {},
   "outputs": [],
   "source": [
    "pygraph = generator.build_networkx_graph(combined_df)"
   ]
  },
  {
   "cell_type": "code",
   "execution_count": null,
   "metadata": {},
   "outputs": [],
   "source": [
    "print(pygraph)"
   ]
  },
  {
   "cell_type": "markdown",
   "metadata": {},
   "source": [
    "### 3.4 Store the graph"
   ]
  },
  {
   "cell_type": "code",
   "execution_count": 40,
   "metadata": {},
   "outputs": [],
   "source": [
    "with open(\"networkx_graph_test.pkl\", \"wb\") as out:\n",
    "    pickle.dump(pygraph, out)"
   ]
  },
  {
   "cell_type": "code",
   "execution_count": null,
   "metadata": {},
   "outputs": [],
   "source": []
  },
  {
   "cell_type": "markdown",
   "metadata": {},
   "source": [
    "### 3.5 Visualize the graph"
   ]
  },
  {
   "cell_type": "code",
   "execution_count": 89,
   "metadata": {},
   "outputs": [],
   "source": [
    "# pos = nx.circular_layout(pygraph)\n",
    "\n",
    "# plt.figure(3, figsize=(30, 30))\n",
    "# nx.draw(pygraph, pos)\n",
    "# plt.show()"
   ]
  },
  {
   "cell_type": "markdown",
   "metadata": {},
   "source": [
    "# 4. Exporting Graph to external sources"
   ]
  },
  {
   "cell_type": "markdown",
   "metadata": {},
   "source": [
    "### 4.1 Cytoscape\n",
    "Make sure that the Cytoscape is open"
   ]
  },
  {
   "cell_type": "code",
   "execution_count": null,
   "metadata": {},
   "outputs": [],
   "source": [
    "from pyBiodatafuse.graph import cytoscape\n",
    "\n",
    "cytoscape.load_graph(pygraph, network_name=\"Test network\")"
   ]
  },
  {
   "cell_type": "markdown",
   "metadata": {},
   "source": [
    "### 4.2 Neo4j"
   ]
  },
  {
   "cell_type": "code",
   "execution_count": null,
   "metadata": {},
   "outputs": [],
   "source": [
    "from pyBiodatafuse.graph import neo4j\n",
    "\n",
    "neo4j.save_graph_to_graphml(pygraph, \"networkx_graph_usecase_with_homologs.graphml\")"
   ]
  },
  {
   "cell_type": "markdown",
   "metadata": {},
   "source": [
    "##### Steps to load the graph in Neo4j"
   ]
  },
  {
   "cell_type": "markdown",
   "metadata": {},
   "source": [
    "- Add `.graphml` file in **import** subfolder of the DBMS folder\n",
    "- Install apoc plugin\n",
    "- Create `apoc.conf` file:\n",
    "    ```\n",
    "    apoc.trigger.enabled=true\n",
    "    apoc.import.file.enabled=true\n",
    "    apoc.export.file.enabled=true\n",
    "    apoc.import.file.use_neo4j_config=true\n",
    "    ```\n",
    "- Add `apoc.conf` file to **conf** subfolder of the DBMS folder\n",
    "- Open Neo4j Browser\n",
    "- (Optionl, only run if you have imported a graph  before) Remove all the nodes before importing `.graphml` file\n",
    "\n",
    "    ```MATCH (n) DETACH DELETE n```\n",
    "\n",
    "- Import `.graphml` file\n",
    "\n",
    "    ```call apoc.import.graphml('file:///networkx_graph_test.graphml',{readLabels:TRUE})```\n",
    "\n",
    "- Add indexes after importing the graph for improving the performance of queries\n",
    "\n",
    "    ```\n",
    "    create index Gene for (n:Gene) on (n.node_type)\n",
    "    create index Pathway for (n:Pathway) on (n.node_type)\n",
    "    create index `Biological Process` for (n:`Biological Process`) on (n.node_type)\n",
    "    create index `Molecular Function` for (n:`Molecular Function`) on (n.node_type)\n",
    "    create index `Cellular Component` for (n:`Cellular Component`) on (n.node_type)\n",
    "    create index Disease for (n:Disease) on (n.node_type)\n",
    "    create index Compound for (n:Compound) on (n.node_type)\n",
    "    create index `Side Effect` for (n:`Side Effect`) on (n.node_type)\n",
    "    ```\n",
    "    \n",
    "\n",
    "- Count the number of each node type\n",
    "    - total (```MATCH (n) RETURN count(n)```) \n",
    "        - Gene (```MATCH (n:Gene) RETURN count(n)```)\n",
    "        - Pathway (```MATCH (n:Pathway) RETURN count(n)```)\n",
    "            - WikiPathways (```MATCH (n:Pathway {source: \"WikiPathways\"}) RETURN count(n)```) \n",
    "            - OpenTargets, Reactome (```MATCH (n:Pathway {source: \"OpenTargets\"}) RETURN count(n)```) \n",
    "            - MINERVA (```MATCH (n:Pathway {source: \"MINERVA\"}) RETURN count(n)```) \n",
    "        - Biological Process (```MATCH (n:`Biological Process`) RETURN count(n)```) \n",
    "        - Molecular Function (```MATCH (n:`Molecular Function`) RETURN count(n)```) \n",
    "        - Cellular Component (```MATCH (n:`Cellular Component`) RETURN count(n)```) \n",
    "        - Disease (```MATCH (n:Disease) RETURN count(n)```) \n",
    "        - Compound (```MATCH (n:Compound) RETURN count(n)```)\n",
    "        - Side Effect (```MATCH (n:`Side Effect`) RETURN count(n)```) \n",
    "- Count the number of each edge type\n",
    "    - total (```MATCH ()-[r]->() RETURN count(r)```) \n",
    "        - interacts_with (```MATCH ()-[r:interacts_with]->() RETURN count(r)```) \n",
    "        - part_of (```MATCH ()-[r:part_of]->() RETURN count(r)```) \n",
    "            - WikiPathways (```MATCH ()-[r:part_of {source: \"WikiPathways\"}]->() RETURN count(r)```) \n",
    "            - OpenTargets, Reactome (```MATCH ()-[r:part_of {source: \"OpenTargets\"}]->() RETURN count(r)```) \n",
    "            - MINERVA (```MATCH ()-[r:part_of {source: \"MINERVA\"}]->() RETURN count(r)```) \n",
    "        - activates (```MATCH ()-[r:activates]->() RETURN count(r)```) \n",
    "        - treats (```MATCH ()-[r:treats]->() RETURN count(r)```) \n",
    "        - has_side_effect (```MATCH ()-[r:has_side_effect]->() RETURN count(r)```) \n",
    "        - inhibits (```MATCH ()-[r:inhibits]->() RETURN count(r)```) = 71\n",
    "        - associated_with (```MATCH ()-[r:associated_with]->() RETURN count(r)```) \n",
    "\n",
    "- Export the graph as a `.csv` file\n",
    "\n",
    "    ```call apoc.export.csv.all(\"networkx_graph_test.csv\",{})```"
   ]
  }
 ],
 "metadata": {
  "kernelspec": {
   "display_name": "pybiodatafuse",
   "language": "python",
   "name": "python3"
  },
  "language_info": {
   "codemirror_mode": {
    "name": "ipython",
    "version": 3
   },
   "file_extension": ".py",
   "mimetype": "text/x-python",
   "name": "python",
   "nbconvert_exporter": "python",
   "pygments_lexer": "ipython3",
   "version": "3.10.16"
  }
 },
 "nbformat": 4,
 "nbformat_minor": 4
}
