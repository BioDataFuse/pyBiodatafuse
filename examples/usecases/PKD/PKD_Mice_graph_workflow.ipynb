{
 "cells": [
  {
   "cell_type": "markdown",
   "metadata": {},
   "source": [
    "# Example: Polycystic Kidney Disease use case"
   ]
  },
  {
   "cell_type": "code",
   "execution_count": 1,
   "metadata": {},
   "outputs": [],
   "source": [
    "# Import modules\n",
    "import os\n",
    "import pickle\n",
    "\n",
    "import pandas as pd\n",
    "from dotenv import load_dotenv\n",
    "\n",
    "from pyBiodatafuse import human_homologs, id_mapper\n",
    "from pyBiodatafuse.annotators import (\n",
    "    bgee,\n",
    "    disgenet,\n",
    "    kegg,\n",
    "    minerva,\n",
    "    molmedb,\n",
    "    opentargets,\n",
    "    pubchem,\n",
    "    stringdb,\n",
    "    wikipathways,\n",
    ")\n",
    "from pyBiodatafuse.constants import (\n",
    "    BGEE_GENE_EXPRESSION_LEVELS_COL,\n",
    "    DISGENET_DISEASE_COL,\n",
    "    ENSEMBL_HOMOLOG_COL,\n",
    "    KEGG_COL,\n",
    "    OPENTARGETS_DISEASE_COMPOUND_COL,\n",
    "    OPENTARGETS_GENE_COMPOUND_COL,\n",
    "    OPENTARGETS_GO_COL,\n",
    "    OPENTARGETS_REACTOME_COL,\n",
    "    STRING_PPI_COL,\n",
    "    WIKIPATHWAYS,\n",
    ")\n",
    "from pyBiodatafuse.graph import generator\n",
    "from pyBiodatafuse.utils import combine_sources, combine_with_homologs, create_harmonized_input_file"
   ]
  },
  {
   "cell_type": "markdown",
   "metadata": {},
   "source": [
    "# 1. Entity resolution using BridgeDB"
   ]
  },
  {
   "cell_type": "markdown",
   "metadata": {},
   "source": [
    "### 1.1. Load the input list and convert it to a dataframe\n",
    "\n",
    "Small set of mouse data used for debugging."
   ]
  },
  {
   "cell_type": "code",
   "execution_count": 2,
   "metadata": {},
   "outputs": [
    {
     "data": {
      "text/plain": [
       "10"
      ]
     },
     "execution_count": 2,
     "metadata": {},
     "output_type": "execute_result"
    }
   ],
   "source": [
    "# TEST Mice Ensembl\n",
    "genes_of_interest = \"\"\"ENSMUSG00000067274\n",
    "ENSMUSG00000000001\n",
    "ENSMUSG00000084349\n",
    "ENSMUSG00000025428\n",
    "ENSMUSG00000044533\"\"\"\n",
    "\n",
    "# TEST Mice use case =\n",
    "genes_of_interest = \"\"\"ENSMUSG00000026295\n",
    "ENSMUSG00000022877\n",
    "ENSMUSG00000020914\n",
    "ENSMUSG00000024747\n",
    "ENSMUSG00000032081\n",
    "ENSMUSG00000004035\n",
    "ENSMUSG00000072949\n",
    "ENSMUSG00000028970\n",
    "ENSMUSG00000028937\n",
    "ENSMUSG00000075044\"\"\"\n",
    "\n",
    "# TEST Rat Ensembl\n",
    "# genes_of_interest = \"\"\"ENSRNOG00060027926\n",
    "# ENSRNOG00055005387\n",
    "# ENSRNOG00060018596\n",
    "# ENSRNOG00060011358\n",
    "# ENSRNOG00055009275\n",
    "# \"\"\"\n",
    "\n",
    "# TEST Human HGNC\n",
    "# genes_of_interest = \"\"\"CHRNG\n",
    "# DMD\n",
    "# AHR\n",
    "# SCN4A\n",
    "# LC25A1\n",
    "# HTR3A\"\"\"\n",
    "\n",
    "# TEST Human Ensembl\n",
    "# genes_of_interest = \"\"\"ENSG00000072080\n",
    "# ENSG00000113905\n",
    "# ENSG00000131747\n",
    "# ENSG00000165092\n",
    "# ENSG00000110245\n",
    "# ENSG00000213366\n",
    "# ENSG00000184227\n",
    "# ENSG00000085563\n",
    "# ENSG00000097021\n",
    "# ENSG00000149742\"\"\"\n",
    "\n",
    "gene_list = genes_of_interest.split(\"\\n\")\n",
    "len(gene_list)"
   ]
  },
  {
   "cell_type": "markdown",
   "metadata": {},
   "source": [
    "Mouse use case"
   ]
  },
  {
   "cell_type": "code",
   "execution_count": 3,
   "metadata": {},
   "outputs": [],
   "source": [
    "# from pyBiodatafuse import data_loader, id_mapper\n",
    "\n",
    "# data_input = data_loader.create_df_from_dea(\"data/full_de_genes_treated_vs_untreated_plus_cpm_fc.csv\")\n",
    "# data_filtered = data_input[data_input['DE'].isin([1, -1])]\n",
    "# features_filtered = data_filtered['identifier']\n",
    "\n",
    "# gene_list = features_filtered.tolist()\n",
    "# print(len(gene_list))"
   ]
  },
  {
   "cell_type": "code",
   "execution_count": 4,
   "metadata": {},
   "outputs": [
    {
     "data": {
      "application/vnd.microsoft.datawrangler.viewer.v0+json": {
       "columns": [
        {
         "name": "index",
         "rawType": "int64",
         "type": "integer"
        },
        {
         "name": "identifier",
         "rawType": "object",
         "type": "string"
        }
       ],
       "conversionMethod": "pd.DataFrame",
       "ref": "d1706aec-e7ac-434e-aa74-09c10197ed22",
       "rows": [
        [
         "0",
         "ENSMUSG00000026295"
        ],
        [
         "1",
         "ENSMUSG00000022877"
        ],
        [
         "2",
         "ENSMUSG00000020914"
        ],
        [
         "3",
         "ENSMUSG00000024747"
        ],
        [
         "4",
         "ENSMUSG00000032081"
        ],
        [
         "5",
         "ENSMUSG00000004035"
        ],
        [
         "6",
         "ENSMUSG00000072949"
        ],
        [
         "7",
         "ENSMUSG00000028970"
        ],
        [
         "8",
         "ENSMUSG00000028937"
        ],
        [
         "9",
         "ENSMUSG00000075044"
        ]
       ],
       "shape": {
        "columns": 1,
        "rows": 10
       }
      },
      "text/html": [
       "<div>\n",
       "<style scoped>\n",
       "    .dataframe tbody tr th:only-of-type {\n",
       "        vertical-align: middle;\n",
       "    }\n",
       "\n",
       "    .dataframe tbody tr th {\n",
       "        vertical-align: top;\n",
       "    }\n",
       "\n",
       "    .dataframe thead th {\n",
       "        text-align: right;\n",
       "    }\n",
       "</style>\n",
       "<table border=\"1\" class=\"dataframe\">\n",
       "  <thead>\n",
       "    <tr style=\"text-align: right;\">\n",
       "      <th></th>\n",
       "      <th>identifier</th>\n",
       "    </tr>\n",
       "  </thead>\n",
       "  <tbody>\n",
       "    <tr>\n",
       "      <th>0</th>\n",
       "      <td>ENSMUSG00000026295</td>\n",
       "    </tr>\n",
       "    <tr>\n",
       "      <th>1</th>\n",
       "      <td>ENSMUSG00000022877</td>\n",
       "    </tr>\n",
       "    <tr>\n",
       "      <th>2</th>\n",
       "      <td>ENSMUSG00000020914</td>\n",
       "    </tr>\n",
       "    <tr>\n",
       "      <th>3</th>\n",
       "      <td>ENSMUSG00000024747</td>\n",
       "    </tr>\n",
       "    <tr>\n",
       "      <th>4</th>\n",
       "      <td>ENSMUSG00000032081</td>\n",
       "    </tr>\n",
       "    <tr>\n",
       "      <th>5</th>\n",
       "      <td>ENSMUSG00000004035</td>\n",
       "    </tr>\n",
       "    <tr>\n",
       "      <th>6</th>\n",
       "      <td>ENSMUSG00000072949</td>\n",
       "    </tr>\n",
       "    <tr>\n",
       "      <th>7</th>\n",
       "      <td>ENSMUSG00000028970</td>\n",
       "    </tr>\n",
       "    <tr>\n",
       "      <th>8</th>\n",
       "      <td>ENSMUSG00000028937</td>\n",
       "    </tr>\n",
       "    <tr>\n",
       "      <th>9</th>\n",
       "      <td>ENSMUSG00000075044</td>\n",
       "    </tr>\n",
       "  </tbody>\n",
       "</table>\n",
       "</div>"
      ],
      "text/plain": [
       "           identifier\n",
       "0  ENSMUSG00000026295\n",
       "1  ENSMUSG00000022877\n",
       "2  ENSMUSG00000020914\n",
       "3  ENSMUSG00000024747\n",
       "4  ENSMUSG00000032081\n",
       "5  ENSMUSG00000004035\n",
       "6  ENSMUSG00000072949\n",
       "7  ENSMUSG00000028970\n",
       "8  ENSMUSG00000028937\n",
       "9  ENSMUSG00000075044"
      ]
     },
     "execution_count": 4,
     "metadata": {},
     "output_type": "execute_result"
    }
   ],
   "source": [
    "data_input = pd.DataFrame(gene_list, columns=[\"identifier\"])\n",
    "data_input.head(20)"
   ]
  },
  {
   "cell_type": "markdown",
   "metadata": {},
   "source": []
  },
  {
   "cell_type": "code",
   "execution_count": 5,
   "metadata": {},
   "outputs": [
    {
     "name": "stdout",
     "output_type": "stream",
     "text": [
      "['ENSMUSG00000026295', 'ENSMUSG00000022877', 'ENSMUSG00000020914', 'ENSMUSG00000024747', 'ENSMUSG00000032081', 'ENSMUSG00000004035', 'ENSMUSG00000072949', 'ENSMUSG00000028970', 'ENSMUSG00000028937', 'ENSMUSG00000075044']\n"
     ]
    }
   ],
   "source": [
    "print(gene_list)"
   ]
  },
  {
   "cell_type": "markdown",
   "metadata": {},
   "source": [
    "### 1.2. Query BridgeDB"
   ]
  },
  {
   "cell_type": "code",
   "execution_count": 6,
   "metadata": {},
   "outputs": [
    {
     "data": {
      "application/vnd.microsoft.datawrangler.viewer.v0+json": {
       "columns": [
        {
         "name": "index",
         "rawType": "int64",
         "type": "integer"
        },
        {
         "name": "identifier",
         "rawType": "object",
         "type": "string"
        },
        {
         "name": "identifier.source",
         "rawType": "object",
         "type": "string"
        },
        {
         "name": "target",
         "rawType": "object",
         "type": "string"
        },
        {
         "name": "target.source",
         "rawType": "object",
         "type": "string"
        }
       ],
       "conversionMethod": "pd.DataFrame",
       "ref": "87161d66-882b-4651-94d2-4bf6dbdc2ffc",
       "rows": [
        [
         "0",
         "ENSMUSG00000026295",
         "Ensembl",
         "4434677",
         "Affy"
        ],
        [
         "1",
         "ENSMUSG00000026295",
         "Ensembl",
         "Q8K1I3",
         "Uniprot-TrEMBL"
        ],
        [
         "2",
         "ENSMUSG00000026295",
         "Ensembl",
         "A_51_P166152",
         "Agilent"
        ],
        [
         "3",
         "ENSMUSG00000026295",
         "Ensembl",
         "5314352",
         "Affy"
        ],
        [
         "4",
         "ENSMUSG00000026295",
         "Ensembl",
         "4638627",
         "Affy"
        ],
        [
         "5",
         "ENSMUSG00000026295",
         "Ensembl",
         "4315932",
         "Affy"
        ],
        [
         "6",
         "ENSMUSG00000026295",
         "Ensembl",
         "1418916_a_at",
         "Affy"
        ],
        [
         "7",
         "ENSMUSG00000026295",
         "Ensembl",
         "5031793",
         "Affy"
        ],
        [
         "8",
         "ENSMUSG00000026295",
         "Ensembl",
         "ENSMUSG00000026295",
         "Ensembl"
        ],
        [
         "9",
         "ENSMUSG00000026295",
         "Ensembl",
         "ILMN_2903540",
         "Illumina"
        ],
        [
         "10",
         "ENSMUSG00000026295",
         "Ensembl",
         "5593013",
         "Affy"
        ],
        [
         "11",
         "ENSMUSG00000026295",
         "Ensembl",
         "A0A087WSF3",
         "Uniprot-TrEMBL"
        ],
        [
         "12",
         "ENSMUSG00000026295",
         "Ensembl",
         "Q18267400",
         "Wikidata"
        ],
        [
         "13",
         "ENSMUSG00000026295",
         "Ensembl",
         "A_55_P2179676",
         "Agilent"
        ],
        [
         "14",
         "ENSMUSG00000026295",
         "Ensembl",
         "108106_at",
         "Affy"
        ],
        [
         "15",
         "ENSMUSG00000026295",
         "Ensembl",
         "MGI:1922646",
         "MGI"
        ],
        [
         "16",
         "ENSMUSG00000026295",
         "Ensembl",
         "NP_083545",
         "RefSeq"
        ],
        [
         "17",
         "ENSMUSG00000026295",
         "Ensembl",
         "17215539",
         "Affy"
        ],
        [
         "18",
         "ENSMUSG00000026295",
         "Ensembl",
         "75396",
         "WikiGenes"
        ],
        [
         "19",
         "ENSMUSG00000026295",
         "Ensembl",
         "GO:0065003",
         "Gene Ontology"
        ],
        [
         "20",
         "ENSMUSG00000026295",
         "Ensembl",
         "ILMN_1218376",
         "Illumina"
        ],
        [
         "21",
         "ENSMUSG00000026295",
         "Ensembl",
         "4393830",
         "Affy"
        ],
        [
         "22",
         "ENSMUSG00000026295",
         "Ensembl",
         "GO:0046849",
         "Gene Ontology"
        ],
        [
         "23",
         "ENSMUSG00000026295",
         "Ensembl",
         "H3BLP2",
         "Uniprot-TrEMBL"
        ],
        [
         "24",
         "ENSMUSG00000026295",
         "Ensembl",
         "5063626",
         "Affy"
        ]
       ],
       "shape": {
        "columns": 4,
        "rows": 25
       }
      },
      "text/html": [
       "<div>\n",
       "<style scoped>\n",
       "    .dataframe tbody tr th:only-of-type {\n",
       "        vertical-align: middle;\n",
       "    }\n",
       "\n",
       "    .dataframe tbody tr th {\n",
       "        vertical-align: top;\n",
       "    }\n",
       "\n",
       "    .dataframe thead th {\n",
       "        text-align: right;\n",
       "    }\n",
       "</style>\n",
       "<table border=\"1\" class=\"dataframe\">\n",
       "  <thead>\n",
       "    <tr style=\"text-align: right;\">\n",
       "      <th></th>\n",
       "      <th>identifier</th>\n",
       "      <th>identifier.source</th>\n",
       "      <th>target</th>\n",
       "      <th>target.source</th>\n",
       "    </tr>\n",
       "  </thead>\n",
       "  <tbody>\n",
       "    <tr>\n",
       "      <th>0</th>\n",
       "      <td>ENSMUSG00000026295</td>\n",
       "      <td>Ensembl</td>\n",
       "      <td>4434677</td>\n",
       "      <td>Affy</td>\n",
       "    </tr>\n",
       "    <tr>\n",
       "      <th>1</th>\n",
       "      <td>ENSMUSG00000026295</td>\n",
       "      <td>Ensembl</td>\n",
       "      <td>Q8K1I3</td>\n",
       "      <td>Uniprot-TrEMBL</td>\n",
       "    </tr>\n",
       "    <tr>\n",
       "      <th>2</th>\n",
       "      <td>ENSMUSG00000026295</td>\n",
       "      <td>Ensembl</td>\n",
       "      <td>A_51_P166152</td>\n",
       "      <td>Agilent</td>\n",
       "    </tr>\n",
       "    <tr>\n",
       "      <th>3</th>\n",
       "      <td>ENSMUSG00000026295</td>\n",
       "      <td>Ensembl</td>\n",
       "      <td>5314352</td>\n",
       "      <td>Affy</td>\n",
       "    </tr>\n",
       "    <tr>\n",
       "      <th>4</th>\n",
       "      <td>ENSMUSG00000026295</td>\n",
       "      <td>Ensembl</td>\n",
       "      <td>4638627</td>\n",
       "      <td>Affy</td>\n",
       "    </tr>\n",
       "    <tr>\n",
       "      <th>5</th>\n",
       "      <td>ENSMUSG00000026295</td>\n",
       "      <td>Ensembl</td>\n",
       "      <td>4315932</td>\n",
       "      <td>Affy</td>\n",
       "    </tr>\n",
       "    <tr>\n",
       "      <th>6</th>\n",
       "      <td>ENSMUSG00000026295</td>\n",
       "      <td>Ensembl</td>\n",
       "      <td>1418916_a_at</td>\n",
       "      <td>Affy</td>\n",
       "    </tr>\n",
       "    <tr>\n",
       "      <th>7</th>\n",
       "      <td>ENSMUSG00000026295</td>\n",
       "      <td>Ensembl</td>\n",
       "      <td>5031793</td>\n",
       "      <td>Affy</td>\n",
       "    </tr>\n",
       "    <tr>\n",
       "      <th>8</th>\n",
       "      <td>ENSMUSG00000026295</td>\n",
       "      <td>Ensembl</td>\n",
       "      <td>ENSMUSG00000026295</td>\n",
       "      <td>Ensembl</td>\n",
       "    </tr>\n",
       "    <tr>\n",
       "      <th>9</th>\n",
       "      <td>ENSMUSG00000026295</td>\n",
       "      <td>Ensembl</td>\n",
       "      <td>ILMN_2903540</td>\n",
       "      <td>Illumina</td>\n",
       "    </tr>\n",
       "    <tr>\n",
       "      <th>10</th>\n",
       "      <td>ENSMUSG00000026295</td>\n",
       "      <td>Ensembl</td>\n",
       "      <td>5593013</td>\n",
       "      <td>Affy</td>\n",
       "    </tr>\n",
       "    <tr>\n",
       "      <th>11</th>\n",
       "      <td>ENSMUSG00000026295</td>\n",
       "      <td>Ensembl</td>\n",
       "      <td>A0A087WSF3</td>\n",
       "      <td>Uniprot-TrEMBL</td>\n",
       "    </tr>\n",
       "    <tr>\n",
       "      <th>12</th>\n",
       "      <td>ENSMUSG00000026295</td>\n",
       "      <td>Ensembl</td>\n",
       "      <td>Q18267400</td>\n",
       "      <td>Wikidata</td>\n",
       "    </tr>\n",
       "    <tr>\n",
       "      <th>13</th>\n",
       "      <td>ENSMUSG00000026295</td>\n",
       "      <td>Ensembl</td>\n",
       "      <td>A_55_P2179676</td>\n",
       "      <td>Agilent</td>\n",
       "    </tr>\n",
       "    <tr>\n",
       "      <th>14</th>\n",
       "      <td>ENSMUSG00000026295</td>\n",
       "      <td>Ensembl</td>\n",
       "      <td>108106_at</td>\n",
       "      <td>Affy</td>\n",
       "    </tr>\n",
       "    <tr>\n",
       "      <th>15</th>\n",
       "      <td>ENSMUSG00000026295</td>\n",
       "      <td>Ensembl</td>\n",
       "      <td>MGI:1922646</td>\n",
       "      <td>MGI</td>\n",
       "    </tr>\n",
       "    <tr>\n",
       "      <th>16</th>\n",
       "      <td>ENSMUSG00000026295</td>\n",
       "      <td>Ensembl</td>\n",
       "      <td>NP_083545</td>\n",
       "      <td>RefSeq</td>\n",
       "    </tr>\n",
       "    <tr>\n",
       "      <th>17</th>\n",
       "      <td>ENSMUSG00000026295</td>\n",
       "      <td>Ensembl</td>\n",
       "      <td>17215539</td>\n",
       "      <td>Affy</td>\n",
       "    </tr>\n",
       "    <tr>\n",
       "      <th>18</th>\n",
       "      <td>ENSMUSG00000026295</td>\n",
       "      <td>Ensembl</td>\n",
       "      <td>75396</td>\n",
       "      <td>WikiGenes</td>\n",
       "    </tr>\n",
       "    <tr>\n",
       "      <th>19</th>\n",
       "      <td>ENSMUSG00000026295</td>\n",
       "      <td>Ensembl</td>\n",
       "      <td>GO:0065003</td>\n",
       "      <td>Gene Ontology</td>\n",
       "    </tr>\n",
       "    <tr>\n",
       "      <th>20</th>\n",
       "      <td>ENSMUSG00000026295</td>\n",
       "      <td>Ensembl</td>\n",
       "      <td>ILMN_1218376</td>\n",
       "      <td>Illumina</td>\n",
       "    </tr>\n",
       "    <tr>\n",
       "      <th>21</th>\n",
       "      <td>ENSMUSG00000026295</td>\n",
       "      <td>Ensembl</td>\n",
       "      <td>4393830</td>\n",
       "      <td>Affy</td>\n",
       "    </tr>\n",
       "    <tr>\n",
       "      <th>22</th>\n",
       "      <td>ENSMUSG00000026295</td>\n",
       "      <td>Ensembl</td>\n",
       "      <td>GO:0046849</td>\n",
       "      <td>Gene Ontology</td>\n",
       "    </tr>\n",
       "    <tr>\n",
       "      <th>23</th>\n",
       "      <td>ENSMUSG00000026295</td>\n",
       "      <td>Ensembl</td>\n",
       "      <td>H3BLP2</td>\n",
       "      <td>Uniprot-TrEMBL</td>\n",
       "    </tr>\n",
       "    <tr>\n",
       "      <th>24</th>\n",
       "      <td>ENSMUSG00000026295</td>\n",
       "      <td>Ensembl</td>\n",
       "      <td>5063626</td>\n",
       "      <td>Affy</td>\n",
       "    </tr>\n",
       "  </tbody>\n",
       "</table>\n",
       "</div>"
      ],
      "text/plain": [
       "            identifier identifier.source              target   target.source\n",
       "0   ENSMUSG00000026295           Ensembl             4434677            Affy\n",
       "1   ENSMUSG00000026295           Ensembl              Q8K1I3  Uniprot-TrEMBL\n",
       "2   ENSMUSG00000026295           Ensembl        A_51_P166152         Agilent\n",
       "3   ENSMUSG00000026295           Ensembl             5314352            Affy\n",
       "4   ENSMUSG00000026295           Ensembl             4638627            Affy\n",
       "5   ENSMUSG00000026295           Ensembl             4315932            Affy\n",
       "6   ENSMUSG00000026295           Ensembl        1418916_a_at            Affy\n",
       "7   ENSMUSG00000026295           Ensembl             5031793            Affy\n",
       "8   ENSMUSG00000026295           Ensembl  ENSMUSG00000026295         Ensembl\n",
       "9   ENSMUSG00000026295           Ensembl        ILMN_2903540        Illumina\n",
       "10  ENSMUSG00000026295           Ensembl             5593013            Affy\n",
       "11  ENSMUSG00000026295           Ensembl          A0A087WSF3  Uniprot-TrEMBL\n",
       "12  ENSMUSG00000026295           Ensembl           Q18267400        Wikidata\n",
       "13  ENSMUSG00000026295           Ensembl       A_55_P2179676         Agilent\n",
       "14  ENSMUSG00000026295           Ensembl           108106_at            Affy\n",
       "15  ENSMUSG00000026295           Ensembl         MGI:1922646             MGI\n",
       "16  ENSMUSG00000026295           Ensembl           NP_083545          RefSeq\n",
       "17  ENSMUSG00000026295           Ensembl            17215539            Affy\n",
       "18  ENSMUSG00000026295           Ensembl               75396       WikiGenes\n",
       "19  ENSMUSG00000026295           Ensembl          GO:0065003   Gene Ontology\n",
       "20  ENSMUSG00000026295           Ensembl        ILMN_1218376        Illumina\n",
       "21  ENSMUSG00000026295           Ensembl             4393830            Affy\n",
       "22  ENSMUSG00000026295           Ensembl          GO:0046849   Gene Ontology\n",
       "23  ENSMUSG00000026295           Ensembl              H3BLP2  Uniprot-TrEMBL\n",
       "24  ENSMUSG00000026295           Ensembl             5063626            Affy"
      ]
     },
     "execution_count": 6,
     "metadata": {},
     "output_type": "execute_result"
    }
   ],
   "source": [
    "# Mouse usecase\n",
    "input_species = \"Mouse\"\n",
    "\n",
    "bridgedb_df, bridgedb_metadata = id_mapper.bridgedb_xref(\n",
    "    identifiers=data_input,\n",
    "    input_species=input_species,\n",
    "    input_datasource=\"Ensembl\",\n",
    "    output_datasource=\"All\",\n",
    ")\n",
    "\n",
    "# TEST Human data\n",
    "# bridgedb_df, bridgedb_metadata = id_mapper.bridgedb_xref(\n",
    "#     identifiers=data_input,\n",
    "#     input_species=\"Human\",\n",
    "#     input_datasource=\"Ensembl\",\n",
    "#     output_datasource=\"All\",\n",
    "# )\n",
    "\n",
    "bridgedb_df.head(25)"
   ]
  },
  {
   "cell_type": "markdown",
   "metadata": {},
   "source": [
    "### 1.3 Homologs"
   ]
  },
  {
   "cell_type": "code",
   "execution_count": 7,
   "metadata": {},
   "outputs": [
    {
     "data": {
      "application/vnd.microsoft.datawrangler.viewer.v0+json": {
       "columns": [
        {
         "name": "index",
         "rawType": "int64",
         "type": "integer"
        },
        {
         "name": "identifier",
         "rawType": "object",
         "type": "string"
        },
        {
         "name": "identifier.source",
         "rawType": "object",
         "type": "string"
        },
        {
         "name": "target",
         "rawType": "object",
         "type": "string"
        },
        {
         "name": "target.source",
         "rawType": "object",
         "type": "string"
        },
        {
         "name": "Ensembl_homologs",
         "rawType": "object",
         "type": "unknown"
        }
       ],
       "conversionMethod": "pd.DataFrame",
       "ref": "757946b9-8ed9-40af-a3db-c3bd1a3e269a",
       "rows": [
        [
         "0",
         "ENSMUSG00000026295",
         "Ensembl",
         "ENSMUSG00000026295",
         "Ensembl",
         "[{'homolog': 'ENSG00000072080'}]"
        ],
        [
         "1",
         "ENSMUSG00000022877",
         "Ensembl",
         "ENSMUSG00000022877",
         "Ensembl",
         "[{'homolog': 'ENSG00000113905'}]"
        ],
        [
         "2",
         "ENSMUSG00000020914",
         "Ensembl",
         "ENSMUSG00000020914",
         "Ensembl",
         "[{'homolog': 'ENSG00000131747'}]"
        ],
        [
         "3",
         "ENSMUSG00000024747",
         "Ensembl",
         "ENSMUSG00000024747",
         "Ensembl",
         "[{'homolog': 'ENSG00000165092'}]"
        ],
        [
         "4",
         "ENSMUSG00000032081",
         "Ensembl",
         "ENSMUSG00000032081",
         "Ensembl",
         "[{'homolog': 'ENSG00000110245'}]"
        ]
       ],
       "shape": {
        "columns": 5,
        "rows": 5
       }
      },
      "text/html": [
       "<div>\n",
       "<style scoped>\n",
       "    .dataframe tbody tr th:only-of-type {\n",
       "        vertical-align: middle;\n",
       "    }\n",
       "\n",
       "    .dataframe tbody tr th {\n",
       "        vertical-align: top;\n",
       "    }\n",
       "\n",
       "    .dataframe thead th {\n",
       "        text-align: right;\n",
       "    }\n",
       "</style>\n",
       "<table border=\"1\" class=\"dataframe\">\n",
       "  <thead>\n",
       "    <tr style=\"text-align: right;\">\n",
       "      <th></th>\n",
       "      <th>identifier</th>\n",
       "      <th>identifier.source</th>\n",
       "      <th>target</th>\n",
       "      <th>target.source</th>\n",
       "      <th>Ensembl_homologs</th>\n",
       "    </tr>\n",
       "  </thead>\n",
       "  <tbody>\n",
       "    <tr>\n",
       "      <th>0</th>\n",
       "      <td>ENSMUSG00000026295</td>\n",
       "      <td>Ensembl</td>\n",
       "      <td>ENSMUSG00000026295</td>\n",
       "      <td>Ensembl</td>\n",
       "      <td>[{'homolog': 'ENSG00000072080'}]</td>\n",
       "    </tr>\n",
       "    <tr>\n",
       "      <th>1</th>\n",
       "      <td>ENSMUSG00000022877</td>\n",
       "      <td>Ensembl</td>\n",
       "      <td>ENSMUSG00000022877</td>\n",
       "      <td>Ensembl</td>\n",
       "      <td>[{'homolog': 'ENSG00000113905'}]</td>\n",
       "    </tr>\n",
       "    <tr>\n",
       "      <th>2</th>\n",
       "      <td>ENSMUSG00000020914</td>\n",
       "      <td>Ensembl</td>\n",
       "      <td>ENSMUSG00000020914</td>\n",
       "      <td>Ensembl</td>\n",
       "      <td>[{'homolog': 'ENSG00000131747'}]</td>\n",
       "    </tr>\n",
       "    <tr>\n",
       "      <th>3</th>\n",
       "      <td>ENSMUSG00000024747</td>\n",
       "      <td>Ensembl</td>\n",
       "      <td>ENSMUSG00000024747</td>\n",
       "      <td>Ensembl</td>\n",
       "      <td>[{'homolog': 'ENSG00000165092'}]</td>\n",
       "    </tr>\n",
       "    <tr>\n",
       "      <th>4</th>\n",
       "      <td>ENSMUSG00000032081</td>\n",
       "      <td>Ensembl</td>\n",
       "      <td>ENSMUSG00000032081</td>\n",
       "      <td>Ensembl</td>\n",
       "      <td>[{'homolog': 'ENSG00000110245'}]</td>\n",
       "    </tr>\n",
       "  </tbody>\n",
       "</table>\n",
       "</div>"
      ],
      "text/plain": [
       "           identifier identifier.source              target target.source  \\\n",
       "0  ENSMUSG00000026295           Ensembl  ENSMUSG00000026295       Ensembl   \n",
       "1  ENSMUSG00000022877           Ensembl  ENSMUSG00000022877       Ensembl   \n",
       "2  ENSMUSG00000020914           Ensembl  ENSMUSG00000020914       Ensembl   \n",
       "3  ENSMUSG00000024747           Ensembl  ENSMUSG00000024747       Ensembl   \n",
       "4  ENSMUSG00000032081           Ensembl  ENSMUSG00000032081       Ensembl   \n",
       "\n",
       "                   Ensembl_homologs  \n",
       "0  [{'homolog': 'ENSG00000072080'}]  \n",
       "1  [{'homolog': 'ENSG00000113905'}]  \n",
       "2  [{'homolog': 'ENSG00000131747'}]  \n",
       "3  [{'homolog': 'ENSG00000165092'}]  \n",
       "4  [{'homolog': 'ENSG00000110245'}]  "
      ]
     },
     "execution_count": 7,
     "metadata": {},
     "output_type": "execute_result"
    }
   ],
   "source": [
    "ensembl_homologs_df, ensembl_metadata = human_homologs.get_homologs(bridgedb_df=bridgedb_df)\n",
    "ensembl_homologs_df.head()"
   ]
  },
  {
   "cell_type": "code",
   "execution_count": 8,
   "metadata": {},
   "outputs": [
    {
     "data": {
      "application/vnd.microsoft.datawrangler.viewer.v0+json": {
       "columns": [
        {
         "name": "index",
         "rawType": "int64",
         "type": "integer"
        },
        {
         "name": "identifier",
         "rawType": "object",
         "type": "string"
        },
        {
         "name": "identifier.source",
         "rawType": "object",
         "type": "string"
        },
        {
         "name": "target",
         "rawType": "object",
         "type": "string"
        },
        {
         "name": "target.source",
         "rawType": "object",
         "type": "string"
        },
        {
         "name": "Ensembl_homologs",
         "rawType": "object",
         "type": "unknown"
        }
       ],
       "conversionMethod": "pd.DataFrame",
       "ref": "06828d29-25e6-40f8-a1c1-84b2d99b15f3",
       "rows": [
        [
         "0",
         "ENSMUSG00000026295",
         "Ensembl",
         "ENSMUSG00000026295",
         "Ensembl",
         "[{'homolog': 'ENSG00000072080'}]"
        ],
        [
         "1",
         "ENSMUSG00000022877",
         "Ensembl",
         "ENSMUSG00000022877",
         "Ensembl",
         "[{'homolog': 'ENSG00000113905'}]"
        ],
        [
         "2",
         "ENSMUSG00000020914",
         "Ensembl",
         "ENSMUSG00000020914",
         "Ensembl",
         "[{'homolog': 'ENSG00000131747'}]"
        ],
        [
         "3",
         "ENSMUSG00000024747",
         "Ensembl",
         "ENSMUSG00000024747",
         "Ensembl",
         "[{'homolog': 'ENSG00000165092'}]"
        ],
        [
         "4",
         "ENSMUSG00000032081",
         "Ensembl",
         "ENSMUSG00000032081",
         "Ensembl",
         "[{'homolog': 'ENSG00000110245'}]"
        ],
        [
         "5",
         "ENSMUSG00000004035",
         "Ensembl",
         "ENSMUSG00000004035",
         "Ensembl",
         "[{'homolog': 'ENSG00000213366'}]"
        ],
        [
         "6",
         "ENSMUSG00000072949",
         "Ensembl",
         "ENSMUSG00000072949",
         "Ensembl",
         "[{'homolog': 'ENSG00000184227'}]"
        ],
        [
         "7",
         "ENSMUSG00000028970",
         "Ensembl",
         "ENSMUSG00000028970",
         "Ensembl",
         "[{'homolog': 'ENSG00000085563'}]"
        ],
        [
         "8",
         "ENSMUSG00000028937",
         "Ensembl",
         "ENSMUSG00000028937",
         "Ensembl",
         "[{'homolog': 'ENSG00000097021'}]"
        ],
        [
         "9",
         "ENSMUSG00000075044",
         "Ensembl",
         "ENSMUSG00000075044",
         "Ensembl",
         "[{'homolog': 'ENSG00000149742'}]"
        ]
       ],
       "shape": {
        "columns": 5,
        "rows": 10
       }
      },
      "text/html": [
       "<div>\n",
       "<style scoped>\n",
       "    .dataframe tbody tr th:only-of-type {\n",
       "        vertical-align: middle;\n",
       "    }\n",
       "\n",
       "    .dataframe tbody tr th {\n",
       "        vertical-align: top;\n",
       "    }\n",
       "\n",
       "    .dataframe thead th {\n",
       "        text-align: right;\n",
       "    }\n",
       "</style>\n",
       "<table border=\"1\" class=\"dataframe\">\n",
       "  <thead>\n",
       "    <tr style=\"text-align: right;\">\n",
       "      <th></th>\n",
       "      <th>identifier</th>\n",
       "      <th>identifier.source</th>\n",
       "      <th>target</th>\n",
       "      <th>target.source</th>\n",
       "      <th>Ensembl_homologs</th>\n",
       "    </tr>\n",
       "  </thead>\n",
       "  <tbody>\n",
       "    <tr>\n",
       "      <th>0</th>\n",
       "      <td>ENSMUSG00000026295</td>\n",
       "      <td>Ensembl</td>\n",
       "      <td>ENSMUSG00000026295</td>\n",
       "      <td>Ensembl</td>\n",
       "      <td>[{'homolog': 'ENSG00000072080'}]</td>\n",
       "    </tr>\n",
       "    <tr>\n",
       "      <th>1</th>\n",
       "      <td>ENSMUSG00000022877</td>\n",
       "      <td>Ensembl</td>\n",
       "      <td>ENSMUSG00000022877</td>\n",
       "      <td>Ensembl</td>\n",
       "      <td>[{'homolog': 'ENSG00000113905'}]</td>\n",
       "    </tr>\n",
       "    <tr>\n",
       "      <th>2</th>\n",
       "      <td>ENSMUSG00000020914</td>\n",
       "      <td>Ensembl</td>\n",
       "      <td>ENSMUSG00000020914</td>\n",
       "      <td>Ensembl</td>\n",
       "      <td>[{'homolog': 'ENSG00000131747'}]</td>\n",
       "    </tr>\n",
       "    <tr>\n",
       "      <th>3</th>\n",
       "      <td>ENSMUSG00000024747</td>\n",
       "      <td>Ensembl</td>\n",
       "      <td>ENSMUSG00000024747</td>\n",
       "      <td>Ensembl</td>\n",
       "      <td>[{'homolog': 'ENSG00000165092'}]</td>\n",
       "    </tr>\n",
       "    <tr>\n",
       "      <th>4</th>\n",
       "      <td>ENSMUSG00000032081</td>\n",
       "      <td>Ensembl</td>\n",
       "      <td>ENSMUSG00000032081</td>\n",
       "      <td>Ensembl</td>\n",
       "      <td>[{'homolog': 'ENSG00000110245'}]</td>\n",
       "    </tr>\n",
       "    <tr>\n",
       "      <th>5</th>\n",
       "      <td>ENSMUSG00000004035</td>\n",
       "      <td>Ensembl</td>\n",
       "      <td>ENSMUSG00000004035</td>\n",
       "      <td>Ensembl</td>\n",
       "      <td>[{'homolog': 'ENSG00000213366'}]</td>\n",
       "    </tr>\n",
       "    <tr>\n",
       "      <th>6</th>\n",
       "      <td>ENSMUSG00000072949</td>\n",
       "      <td>Ensembl</td>\n",
       "      <td>ENSMUSG00000072949</td>\n",
       "      <td>Ensembl</td>\n",
       "      <td>[{'homolog': 'ENSG00000184227'}]</td>\n",
       "    </tr>\n",
       "    <tr>\n",
       "      <th>7</th>\n",
       "      <td>ENSMUSG00000028970</td>\n",
       "      <td>Ensembl</td>\n",
       "      <td>ENSMUSG00000028970</td>\n",
       "      <td>Ensembl</td>\n",
       "      <td>[{'homolog': 'ENSG00000085563'}]</td>\n",
       "    </tr>\n",
       "    <tr>\n",
       "      <th>8</th>\n",
       "      <td>ENSMUSG00000028937</td>\n",
       "      <td>Ensembl</td>\n",
       "      <td>ENSMUSG00000028937</td>\n",
       "      <td>Ensembl</td>\n",
       "      <td>[{'homolog': 'ENSG00000097021'}]</td>\n",
       "    </tr>\n",
       "    <tr>\n",
       "      <th>9</th>\n",
       "      <td>ENSMUSG00000075044</td>\n",
       "      <td>Ensembl</td>\n",
       "      <td>ENSMUSG00000075044</td>\n",
       "      <td>Ensembl</td>\n",
       "      <td>[{'homolog': 'ENSG00000149742'}]</td>\n",
       "    </tr>\n",
       "  </tbody>\n",
       "</table>\n",
       "</div>"
      ],
      "text/plain": [
       "           identifier identifier.source              target target.source  \\\n",
       "0  ENSMUSG00000026295           Ensembl  ENSMUSG00000026295       Ensembl   \n",
       "1  ENSMUSG00000022877           Ensembl  ENSMUSG00000022877       Ensembl   \n",
       "2  ENSMUSG00000020914           Ensembl  ENSMUSG00000020914       Ensembl   \n",
       "3  ENSMUSG00000024747           Ensembl  ENSMUSG00000024747       Ensembl   \n",
       "4  ENSMUSG00000032081           Ensembl  ENSMUSG00000032081       Ensembl   \n",
       "5  ENSMUSG00000004035           Ensembl  ENSMUSG00000004035       Ensembl   \n",
       "6  ENSMUSG00000072949           Ensembl  ENSMUSG00000072949       Ensembl   \n",
       "7  ENSMUSG00000028970           Ensembl  ENSMUSG00000028970       Ensembl   \n",
       "8  ENSMUSG00000028937           Ensembl  ENSMUSG00000028937       Ensembl   \n",
       "9  ENSMUSG00000075044           Ensembl  ENSMUSG00000075044       Ensembl   \n",
       "\n",
       "                   Ensembl_homologs  \n",
       "0  [{'homolog': 'ENSG00000072080'}]  \n",
       "1  [{'homolog': 'ENSG00000113905'}]  \n",
       "2  [{'homolog': 'ENSG00000131747'}]  \n",
       "3  [{'homolog': 'ENSG00000165092'}]  \n",
       "4  [{'homolog': 'ENSG00000110245'}]  \n",
       "5  [{'homolog': 'ENSG00000213366'}]  \n",
       "6  [{'homolog': 'ENSG00000184227'}]  \n",
       "7  [{'homolog': 'ENSG00000085563'}]  \n",
       "8  [{'homolog': 'ENSG00000097021'}]  \n",
       "9  [{'homolog': 'ENSG00000149742'}]  "
      ]
     },
     "execution_count": 8,
     "metadata": {},
     "output_type": "execute_result"
    }
   ],
   "source": [
    "ensembl_homologs_df.head(20)"
   ]
  },
  {
   "cell_type": "code",
   "execution_count": 9,
   "metadata": {},
   "outputs": [
    {
     "name": "stdout",
     "output_type": "stream",
     "text": [
      "['ENSG00000072080', 'ENSG00000113905', 'ENSG00000131747', 'ENSG00000165092', 'ENSG00000110245', 'ENSG00000213366', 'ENSG00000184227', 'ENSG00000085563', 'ENSG00000097021', 'ENSG00000149742']\n"
     ]
    }
   ],
   "source": [
    "homologs = (\n",
    "    ensembl_homologs_df[ENSEMBL_HOMOLOG_COL]\n",
    "    .apply(\n",
    "        lambda x: (\n",
    "            x[0][\"homolog\"] if isinstance(x, list) and len(x) > 0 and \"homolog\" in x[0] else None\n",
    "        )\n",
    "    )\n",
    "    .dropna()\n",
    "    .tolist()\n",
    ")\n",
    "\n",
    "print(homologs)"
   ]
  },
  {
   "cell_type": "markdown",
   "metadata": {},
   "source": [
    "### 1.4 Query homologs"
   ]
  },
  {
   "cell_type": "code",
   "execution_count": 10,
   "metadata": {},
   "outputs": [
    {
     "data": {
      "application/vnd.microsoft.datawrangler.viewer.v0+json": {
       "columns": [
        {
         "name": "index",
         "rawType": "int64",
         "type": "integer"
        },
        {
         "name": "identifier",
         "rawType": "object",
         "type": "string"
        },
        {
         "name": "identifier.source",
         "rawType": "object",
         "type": "string"
        },
        {
         "name": "target",
         "rawType": "object",
         "type": "string"
        },
        {
         "name": "target.source",
         "rawType": "object",
         "type": "string"
        }
       ],
       "conversionMethod": "pd.DataFrame",
       "ref": "4bb31f13-90c2-4bfc-bb3e-b6b728d0500b",
       "rows": [
        [
         "0",
         "ENSMUSG00000026295",
         "Ensembl",
         "4434677",
         "Affy"
        ],
        [
         "1",
         "ENSMUSG00000026295",
         "Ensembl",
         "Q8K1I3",
         "Uniprot-TrEMBL"
        ],
        [
         "2",
         "ENSMUSG00000026295",
         "Ensembl",
         "A_51_P166152",
         "Agilent"
        ],
        [
         "3",
         "ENSMUSG00000026295",
         "Ensembl",
         "5314352",
         "Affy"
        ],
        [
         "4",
         "ENSMUSG00000026295",
         "Ensembl",
         "4638627",
         "Affy"
        ],
        [
         "5",
         "ENSMUSG00000026295",
         "Ensembl",
         "4315932",
         "Affy"
        ],
        [
         "6",
         "ENSMUSG00000026295",
         "Ensembl",
         "1418916_a_at",
         "Affy"
        ],
        [
         "7",
         "ENSMUSG00000026295",
         "Ensembl",
         "5031793",
         "Affy"
        ],
        [
         "8",
         "ENSMUSG00000026295",
         "Ensembl",
         "ENSMUSG00000026295",
         "Ensembl"
        ],
        [
         "9",
         "ENSMUSG00000026295",
         "Ensembl",
         "ILMN_2903540",
         "Illumina"
        ],
        [
         "10",
         "ENSMUSG00000026295",
         "Ensembl",
         "5593013",
         "Affy"
        ],
        [
         "11",
         "ENSMUSG00000026295",
         "Ensembl",
         "A0A087WSF3",
         "Uniprot-TrEMBL"
        ],
        [
         "12",
         "ENSMUSG00000026295",
         "Ensembl",
         "Q18267400",
         "Wikidata"
        ],
        [
         "13",
         "ENSMUSG00000026295",
         "Ensembl",
         "A_55_P2179676",
         "Agilent"
        ],
        [
         "14",
         "ENSMUSG00000026295",
         "Ensembl",
         "108106_at",
         "Affy"
        ],
        [
         "15",
         "ENSMUSG00000026295",
         "Ensembl",
         "MGI:1922646",
         "MGI"
        ],
        [
         "16",
         "ENSMUSG00000026295",
         "Ensembl",
         "NP_083545",
         "RefSeq"
        ],
        [
         "17",
         "ENSMUSG00000026295",
         "Ensembl",
         "17215539",
         "Affy"
        ],
        [
         "18",
         "ENSMUSG00000026295",
         "Ensembl",
         "75396",
         "WikiGenes"
        ],
        [
         "19",
         "ENSMUSG00000026295",
         "Ensembl",
         "GO:0065003",
         "Gene Ontology"
        ],
        [
         "20",
         "ENSMUSG00000026295",
         "Ensembl",
         "ILMN_1218376",
         "Illumina"
        ],
        [
         "21",
         "ENSMUSG00000026295",
         "Ensembl",
         "4393830",
         "Affy"
        ],
        [
         "22",
         "ENSMUSG00000026295",
         "Ensembl",
         "GO:0046849",
         "Gene Ontology"
        ],
        [
         "23",
         "ENSMUSG00000026295",
         "Ensembl",
         "H3BLP2",
         "Uniprot-TrEMBL"
        ],
        [
         "24",
         "ENSMUSG00000026295",
         "Ensembl",
         "5063626",
         "Affy"
        ]
       ],
       "shape": {
        "columns": 4,
        "rows": 25
       }
      },
      "text/html": [
       "<div>\n",
       "<style scoped>\n",
       "    .dataframe tbody tr th:only-of-type {\n",
       "        vertical-align: middle;\n",
       "    }\n",
       "\n",
       "    .dataframe tbody tr th {\n",
       "        vertical-align: top;\n",
       "    }\n",
       "\n",
       "    .dataframe thead th {\n",
       "        text-align: right;\n",
       "    }\n",
       "</style>\n",
       "<table border=\"1\" class=\"dataframe\">\n",
       "  <thead>\n",
       "    <tr style=\"text-align: right;\">\n",
       "      <th></th>\n",
       "      <th>identifier</th>\n",
       "      <th>identifier.source</th>\n",
       "      <th>target</th>\n",
       "      <th>target.source</th>\n",
       "    </tr>\n",
       "  </thead>\n",
       "  <tbody>\n",
       "    <tr>\n",
       "      <th>0</th>\n",
       "      <td>ENSMUSG00000026295</td>\n",
       "      <td>Ensembl</td>\n",
       "      <td>4434677</td>\n",
       "      <td>Affy</td>\n",
       "    </tr>\n",
       "    <tr>\n",
       "      <th>1</th>\n",
       "      <td>ENSMUSG00000026295</td>\n",
       "      <td>Ensembl</td>\n",
       "      <td>Q8K1I3</td>\n",
       "      <td>Uniprot-TrEMBL</td>\n",
       "    </tr>\n",
       "    <tr>\n",
       "      <th>2</th>\n",
       "      <td>ENSMUSG00000026295</td>\n",
       "      <td>Ensembl</td>\n",
       "      <td>A_51_P166152</td>\n",
       "      <td>Agilent</td>\n",
       "    </tr>\n",
       "    <tr>\n",
       "      <th>3</th>\n",
       "      <td>ENSMUSG00000026295</td>\n",
       "      <td>Ensembl</td>\n",
       "      <td>5314352</td>\n",
       "      <td>Affy</td>\n",
       "    </tr>\n",
       "    <tr>\n",
       "      <th>4</th>\n",
       "      <td>ENSMUSG00000026295</td>\n",
       "      <td>Ensembl</td>\n",
       "      <td>4638627</td>\n",
       "      <td>Affy</td>\n",
       "    </tr>\n",
       "    <tr>\n",
       "      <th>5</th>\n",
       "      <td>ENSMUSG00000026295</td>\n",
       "      <td>Ensembl</td>\n",
       "      <td>4315932</td>\n",
       "      <td>Affy</td>\n",
       "    </tr>\n",
       "    <tr>\n",
       "      <th>6</th>\n",
       "      <td>ENSMUSG00000026295</td>\n",
       "      <td>Ensembl</td>\n",
       "      <td>1418916_a_at</td>\n",
       "      <td>Affy</td>\n",
       "    </tr>\n",
       "    <tr>\n",
       "      <th>7</th>\n",
       "      <td>ENSMUSG00000026295</td>\n",
       "      <td>Ensembl</td>\n",
       "      <td>5031793</td>\n",
       "      <td>Affy</td>\n",
       "    </tr>\n",
       "    <tr>\n",
       "      <th>8</th>\n",
       "      <td>ENSMUSG00000026295</td>\n",
       "      <td>Ensembl</td>\n",
       "      <td>ENSMUSG00000026295</td>\n",
       "      <td>Ensembl</td>\n",
       "    </tr>\n",
       "    <tr>\n",
       "      <th>9</th>\n",
       "      <td>ENSMUSG00000026295</td>\n",
       "      <td>Ensembl</td>\n",
       "      <td>ILMN_2903540</td>\n",
       "      <td>Illumina</td>\n",
       "    </tr>\n",
       "    <tr>\n",
       "      <th>10</th>\n",
       "      <td>ENSMUSG00000026295</td>\n",
       "      <td>Ensembl</td>\n",
       "      <td>5593013</td>\n",
       "      <td>Affy</td>\n",
       "    </tr>\n",
       "    <tr>\n",
       "      <th>11</th>\n",
       "      <td>ENSMUSG00000026295</td>\n",
       "      <td>Ensembl</td>\n",
       "      <td>A0A087WSF3</td>\n",
       "      <td>Uniprot-TrEMBL</td>\n",
       "    </tr>\n",
       "    <tr>\n",
       "      <th>12</th>\n",
       "      <td>ENSMUSG00000026295</td>\n",
       "      <td>Ensembl</td>\n",
       "      <td>Q18267400</td>\n",
       "      <td>Wikidata</td>\n",
       "    </tr>\n",
       "    <tr>\n",
       "      <th>13</th>\n",
       "      <td>ENSMUSG00000026295</td>\n",
       "      <td>Ensembl</td>\n",
       "      <td>A_55_P2179676</td>\n",
       "      <td>Agilent</td>\n",
       "    </tr>\n",
       "    <tr>\n",
       "      <th>14</th>\n",
       "      <td>ENSMUSG00000026295</td>\n",
       "      <td>Ensembl</td>\n",
       "      <td>108106_at</td>\n",
       "      <td>Affy</td>\n",
       "    </tr>\n",
       "    <tr>\n",
       "      <th>15</th>\n",
       "      <td>ENSMUSG00000026295</td>\n",
       "      <td>Ensembl</td>\n",
       "      <td>MGI:1922646</td>\n",
       "      <td>MGI</td>\n",
       "    </tr>\n",
       "    <tr>\n",
       "      <th>16</th>\n",
       "      <td>ENSMUSG00000026295</td>\n",
       "      <td>Ensembl</td>\n",
       "      <td>NP_083545</td>\n",
       "      <td>RefSeq</td>\n",
       "    </tr>\n",
       "    <tr>\n",
       "      <th>17</th>\n",
       "      <td>ENSMUSG00000026295</td>\n",
       "      <td>Ensembl</td>\n",
       "      <td>17215539</td>\n",
       "      <td>Affy</td>\n",
       "    </tr>\n",
       "    <tr>\n",
       "      <th>18</th>\n",
       "      <td>ENSMUSG00000026295</td>\n",
       "      <td>Ensembl</td>\n",
       "      <td>75396</td>\n",
       "      <td>WikiGenes</td>\n",
       "    </tr>\n",
       "    <tr>\n",
       "      <th>19</th>\n",
       "      <td>ENSMUSG00000026295</td>\n",
       "      <td>Ensembl</td>\n",
       "      <td>GO:0065003</td>\n",
       "      <td>Gene Ontology</td>\n",
       "    </tr>\n",
       "    <tr>\n",
       "      <th>20</th>\n",
       "      <td>ENSMUSG00000026295</td>\n",
       "      <td>Ensembl</td>\n",
       "      <td>ILMN_1218376</td>\n",
       "      <td>Illumina</td>\n",
       "    </tr>\n",
       "    <tr>\n",
       "      <th>21</th>\n",
       "      <td>ENSMUSG00000026295</td>\n",
       "      <td>Ensembl</td>\n",
       "      <td>4393830</td>\n",
       "      <td>Affy</td>\n",
       "    </tr>\n",
       "    <tr>\n",
       "      <th>22</th>\n",
       "      <td>ENSMUSG00000026295</td>\n",
       "      <td>Ensembl</td>\n",
       "      <td>GO:0046849</td>\n",
       "      <td>Gene Ontology</td>\n",
       "    </tr>\n",
       "    <tr>\n",
       "      <th>23</th>\n",
       "      <td>ENSMUSG00000026295</td>\n",
       "      <td>Ensembl</td>\n",
       "      <td>H3BLP2</td>\n",
       "      <td>Uniprot-TrEMBL</td>\n",
       "    </tr>\n",
       "    <tr>\n",
       "      <th>24</th>\n",
       "      <td>ENSMUSG00000026295</td>\n",
       "      <td>Ensembl</td>\n",
       "      <td>5063626</td>\n",
       "      <td>Affy</td>\n",
       "    </tr>\n",
       "  </tbody>\n",
       "</table>\n",
       "</div>"
      ],
      "text/plain": [
       "            identifier identifier.source              target   target.source\n",
       "0   ENSMUSG00000026295           Ensembl             4434677            Affy\n",
       "1   ENSMUSG00000026295           Ensembl              Q8K1I3  Uniprot-TrEMBL\n",
       "2   ENSMUSG00000026295           Ensembl        A_51_P166152         Agilent\n",
       "3   ENSMUSG00000026295           Ensembl             5314352            Affy\n",
       "4   ENSMUSG00000026295           Ensembl             4638627            Affy\n",
       "5   ENSMUSG00000026295           Ensembl             4315932            Affy\n",
       "6   ENSMUSG00000026295           Ensembl        1418916_a_at            Affy\n",
       "7   ENSMUSG00000026295           Ensembl             5031793            Affy\n",
       "8   ENSMUSG00000026295           Ensembl  ENSMUSG00000026295         Ensembl\n",
       "9   ENSMUSG00000026295           Ensembl        ILMN_2903540        Illumina\n",
       "10  ENSMUSG00000026295           Ensembl             5593013            Affy\n",
       "11  ENSMUSG00000026295           Ensembl          A0A087WSF3  Uniprot-TrEMBL\n",
       "12  ENSMUSG00000026295           Ensembl           Q18267400        Wikidata\n",
       "13  ENSMUSG00000026295           Ensembl       A_55_P2179676         Agilent\n",
       "14  ENSMUSG00000026295           Ensembl           108106_at            Affy\n",
       "15  ENSMUSG00000026295           Ensembl         MGI:1922646             MGI\n",
       "16  ENSMUSG00000026295           Ensembl           NP_083545          RefSeq\n",
       "17  ENSMUSG00000026295           Ensembl            17215539            Affy\n",
       "18  ENSMUSG00000026295           Ensembl               75396       WikiGenes\n",
       "19  ENSMUSG00000026295           Ensembl          GO:0065003   Gene Ontology\n",
       "20  ENSMUSG00000026295           Ensembl        ILMN_1218376        Illumina\n",
       "21  ENSMUSG00000026295           Ensembl             4393830            Affy\n",
       "22  ENSMUSG00000026295           Ensembl          GO:0046849   Gene Ontology\n",
       "23  ENSMUSG00000026295           Ensembl              H3BLP2  Uniprot-TrEMBL\n",
       "24  ENSMUSG00000026295           Ensembl             5063626            Affy"
      ]
     },
     "execution_count": 10,
     "metadata": {},
     "output_type": "execute_result"
    }
   ],
   "source": [
    "input_species = \"Human\"\n",
    "\n",
    "data_input_hl = pd.DataFrame(homologs, columns=[\"identifier\"])\n",
    "\n",
    "bridgedb_df_hl, bridgedb_metadata_hl = id_mapper.bridgedb_xref(\n",
    "    identifiers=data_input_hl,\n",
    "    input_species=\"Human\",\n",
    "    input_datasource=\"Ensembl\",\n",
    "    output_datasource=\"All\",\n",
    ")\n",
    "\n",
    "bridgedb_df.head(25)"
   ]
  },
  {
   "cell_type": "markdown",
   "metadata": {},
   "source": [
    "# 2. Step-by-step graph generation"
   ]
  },
  {
   "cell_type": "markdown",
   "metadata": {},
   "source": [
    "### 2.1. Gene-Disease edges\n"
   ]
  },
  {
   "cell_type": "code",
   "execution_count": 11,
   "metadata": {},
   "outputs": [],
   "source": [
    "load_dotenv(\"disgenet.env\")\n",
    "\n",
    "disgenet_api_key = os.getenv(\"DISGENET_API_KEY\")"
   ]
  },
  {
   "cell_type": "code",
   "execution_count": 12,
   "metadata": {},
   "outputs": [
    {
     "name": "stderr",
     "output_type": "stream",
     "text": [
      "Querying DisGeNET: 100%|██████████| 10/10 [00:05<00:00,  1.73it/s]\n"
     ]
    },
    {
     "data": {
      "application/vnd.microsoft.datawrangler.viewer.v0+json": {
       "columns": [
        {
         "name": "index",
         "rawType": "int64",
         "type": "integer"
        },
        {
         "name": "identifier",
         "rawType": "object",
         "type": "string"
        },
        {
         "name": "identifier.source",
         "rawType": "object",
         "type": "string"
        },
        {
         "name": "target",
         "rawType": "object",
         "type": "string"
        },
        {
         "name": "target.source",
         "rawType": "object",
         "type": "string"
        },
        {
         "name": "DISGENET_diseases",
         "rawType": "object",
         "type": "unknown"
        }
       ],
       "conversionMethod": "pd.DataFrame",
       "ref": "8a930f60-6f44-49e8-b816-e8f39b621e52",
       "rows": [
        [
         "0",
         "ENSG00000072080",
         "Ensembl",
         "6694",
         "NCBI Gene",
         "[{'disease_name': 'Retinal dystrophy', 'HPO': 'HPO:HP:0000556', 'NCI': 'NCI:C35625', 'OMIM': None, 'MONDO': 'MONDO:0019118', 'ORDO': 'ORDO:71862', 'EFO': None, 'DO': 'DOID:8501', 'MESH': 'MESH:D058499', 'UMLS': 'UMLS:C0854723', 'disease_type': 'disease', 'disease_umlscui': 'C0854723', 'score': 0.4, 'ei': nan, 'el': None}]"
        ],
        [
         "1",
         "ENSG00000085563",
         "Ensembl",
         "5243",
         "NCBI Gene",
         "[{'disease_name': 'Breast Neoplasms', 'HPO': 'HPO:HP:0100013', 'NCI': 'NCI:C2910', 'OMIM': None, 'MONDO': 'MONDO:0021100', 'ORDO': None, 'EFO': 'EFO:0003869', 'DO': 'DOID:1612, DOID:3459', 'MESH': 'MESH:D001943', 'UMLS': 'UMLS:C1458155', 'disease_type': 'disease', 'disease_umlscui': 'C1458155', 'score': 1.0, 'ei': 0.9439775910364145, 'el': None}, {'disease_name': 'Epilepsies', 'HPO': 'HPO:HP:0001250', 'NCI': 'NCI:C3020', 'OMIM': None, 'MONDO': 'MONDO:0005027', 'ORDO': None, 'EFO': 'EFO:0000474', 'DO': 'DOID:1826', 'MESH': 'MESH:D004827', 'UMLS': 'UMLS:C0014544', 'disease_type': 'disease', 'disease_umlscui': 'C0014544', 'score': 1.0, 'ei': 0.8907563025210085, 'el': None}, {'disease_name': 'Carcinoma, Non Small Cell Lung', 'HPO': 'HPO:HP:0030358', 'NCI': 'NCI:C2926', 'OMIM': 'MIM:211980', 'MONDO': 'MONDO:0005233', 'ORDO': None, 'EFO': 'EFO:0003060', 'DO': 'DOID:3908', 'MESH': 'MESH:D002289', 'UMLS': 'UMLS:C0007131', 'disease_type': 'disease', 'disease_umlscui': 'C0007131', 'score': 1.0, 'ei': 0.8468468468468469, 'el': None}, {'disease_name': 'Liver cell carcinoma', 'HPO': 'HPO:HP:0001402', 'NCI': 'NCI:C3099', 'OMIM': 'MIM:114550', 'MONDO': 'MONDO:0007256', 'ORDO': 'ORDO:88673', 'EFO': 'EFO:0000182, EFO:0000762, EFO:1000256', 'DO': 'DOID:3571, DOID:684', 'MESH': 'MESH:D006528', 'UMLS': 'UMLS:C2239176', 'disease_type': 'disease', 'disease_umlscui': 'C2239176', 'score': 1.0, 'ei': 0.9181818181818182, 'el': None}, {'disease_name': 'neurotoxicity', 'HPO': None, 'NCI': 'NCI:C27961', 'OMIM': None, 'MONDO': 'MONDO:0005527', 'ORDO': None, 'EFO': 'EFO:0005595, EFO:0011057', 'DO': 'DOID:3602', 'MESH': 'MESH:D020258', 'UMLS': 'UMLS:C0235032', 'disease_type': 'disease', 'disease_umlscui': 'C0235032', 'score': 0.9500000000000001, 'ei': 0.9130434782608695, 'el': None}, {'disease_name': 'Chronic myeloid leukemia', 'HPO': 'HPO:HP:0005506', 'NCI': 'NCI:C9128', 'OMIM': 'MIM:608232', 'MONDO': 'MONDO:0011996', 'ORDO': 'ORDO:521', 'EFO': 'EFO:0000339', 'DO': 'DOID:0081088, DOID:8552', 'MESH': 'MESH:D015464', 'UMLS': 'UMLS:C0279543', 'disease_type': 'disease', 'disease_umlscui': 'C0279543', 'score': 0.9, 'ei': 0.8608695652173913, 'el': None}, {'disease_name': 'HIV infection', 'HPO': None, 'NCI': 'NCI:C3108', 'OMIM': None, 'MONDO': 'MONDO:0005109', 'ORDO': None, 'EFO': 'EFO:0000764', 'DO': 'DOID:526, DOID:635', 'MESH': 'MESH:D015658', 'UMLS': 'UMLS:C0019693', 'disease_type': 'disease', 'disease_umlscui': 'C0019693', 'score': 0.9, 'ei': 0.96, 'el': None}, {'disease_name': 'CRC', 'HPO': None, 'NCI': 'NCI:C2955', 'OMIM': 'MIM:114500, MIM:516000, MIM:516004, MIM:516030, MIM:516040, MIM:172411, MIM:191170, MIM:516020', 'MONDO': 'MONDO:0005335, MONDO:0005575, MONDO:0024331', 'ORDO': None, 'EFO': 'EFO:0000365, EFO:0004142, EFO:1001951', 'DO': 'DOID:0080199, DOID:9256', 'MESH': 'MESH:D015179', 'UMLS': 'UMLS:C0009402', 'disease_type': 'disease', 'disease_umlscui': 'C0009402', 'score': 0.8500000000000001, 'ei': 0.8938053097345132, 'el': None}, {'disease_name': 'ALL', 'HPO': 'HPO:HP:0006721', 'NCI': 'NCI:C3167', 'OMIM': None, 'MONDO': 'MONDO:0004967', 'ORDO': 'ORDO:513', 'EFO': 'EFO:0000220, EFO:1001830', 'DO': 'DOID:9952', 'MESH': None, 'UMLS': 'UMLS:C0023449', 'disease_type': 'disease', 'disease_umlscui': 'C0023449', 'score': 0.8500000000000001, 'ei': 0.8021978021978022, 'el': None}, {'disease_name': 'Colorectal Neoplasm', 'HPO': 'HPO:HP:0100834', 'NCI': 'NCI:C2956', 'OMIM': None, 'MONDO': 'MONDO:0005335, MONDO:0005575', 'ORDO': None, 'EFO': 'EFO:0004142', 'DO': 'DOID:0080199, DOID:9256', 'MESH': 'MESH:D015179', 'UMLS': 'UMLS:C0009404', 'disease_type': 'disease', 'disease_umlscui': 'C0009404', 'score': 0.85, 'ei': 0.9230769230769231, 'el': None}, {'disease_name': 'Parkinson Disease', 'HPO': None, 'NCI': 'NCI:C26845', 'OMIM': 'MIM:516000', 'MONDO': 'MONDO:0011562, MONDO:0014796, MONDO:0005180, MONDO:0014231', 'ORDO': 'ORDO:319705', 'EFO': None, 'DO': 'DOID:0060891, DOID:0060895, DOID:0060896, DOID:14330', 'MESH': 'MESH:D010300', 'UMLS': 'UMLS:C0030567', 'disease_type': 'disease', 'disease_umlscui': 'C0030567', 'score': 0.85, 'ei': 0.8666666666666667, 'el': None}, {'disease_name': 'Schizophrenias', 'HPO': 'HPO:HP:0100753', 'NCI': 'NCI:C3362', 'OMIM': 'MIM:181500', 'MONDO': 'MONDO:0005090', 'ORDO': None, 'EFO': None, 'DO': 'DOID:5419', 'MESH': 'MESH:D012559', 'UMLS': 'UMLS:C0036341', 'disease_type': 'disease', 'disease_umlscui': 'C0036341', 'score': 0.85, 'ei': 1.0, 'el': None}, {'disease_name': 'Depressive neurosis', 'HPO': 'HPO:HP:0000716', 'NCI': None, 'OMIM': None, 'MONDO': 'MONDO:0001442, MONDO:0002050', 'ORDO': None, 'EFO': 'EFO:0004257, EFO:0008623, EFO:1002014', 'DO': 'DOID:1595, DOID:12139, DOID:4964', 'MESH': 'MESH:D003866', 'UMLS': 'UMLS:C0011581', 'disease_type': 'disease', 'disease_umlscui': 'C0011581', 'score': 0.85, 'ei': 0.8888888888888888, 'el': None}, {'disease_name': 'Depression', 'HPO': None, 'NCI': 'NCI:C2982', 'OMIM': None, 'MONDO': 'MONDO:0002050', 'ORDO': None, 'EFO': None, 'DO': 'DOID:1596, DOID:1470', 'MESH': 'MESH:D003863', 'UMLS': 'UMLS:C0011570', 'disease_type': 'disease', 'disease_umlscui': 'C0011570', 'score': 0.85, 'ei': 0.9565217391304348, 'el': None}, {'disease_name': 'Kidney Neoplasm', 'HPO': 'HPO:HP:0009726', 'NCI': 'NCI:C3150', 'OMIM': None, 'MONDO': 'MONDO:0002367, MONDO:0021163', 'ORDO': None, 'EFO': 'EFO:0003865', 'DO': 'DOID:263', 'MESH': 'MESH:D007680', 'UMLS': 'UMLS:C0022665', 'disease_type': 'disease', 'disease_umlscui': 'C0022665', 'score': 0.85, 'ei': 0.9285714285714286, 'el': None}, {'disease_name': 'Renal cell carcinoma', 'HPO': 'HPO:HP:0005584', 'NCI': 'NCI:C9385', 'OMIM': 'MIM:144700', 'MONDO': 'MONDO:0005549, MONDO:0005086', 'ORDO': 'ORDO:217071', 'EFO': 'EFO:0000349, EFO:0000681, EFO:0005708', 'DO': 'DOID:4450, DOID:4451, DOID:4464, DOID:4465, DOID:4467, DOID:4471, DOID:4473', 'MESH': 'MESH:D002292', 'UMLS': 'UMLS:C0007134', 'disease_type': 'disease', 'disease_umlscui': 'C0007134', 'score': 0.8, 'ei': 0.9545454545454546, 'el': None}, {'disease_name': 'Ulcerative colitis', 'HPO': 'HPO:HP:0100279', 'NCI': 'NCI:C2952', 'OMIM': 'MIM:266600', 'MONDO': 'MONDO:0005101', 'ORDO': None, 'EFO': 'EFO:0000729', 'DO': 'DOID:8577', 'MESH': 'MESH:D003093', 'UMLS': 'UMLS:C0009324', 'disease_type': 'disease', 'disease_umlscui': 'C0009324', 'score': 0.8, 'ei': 0.8205128205128205, 'el': None}, {'disease_name': 'Adult-Onset Diabetes Mellitus', 'HPO': 'HPO:HP:0005978', 'NCI': 'NCI:C26747', 'OMIM': 'MIM:125853, MIM:164731, MIM:601724, MIM:600509, MIM:138430, MIM:147545, MIM:138079, MIM:147670, MIM:167413, MIM:600281, MIM:189907', 'MONDO': 'MONDO:0005148', 'ORDO': None, 'EFO': None, 'DO': 'DOID:9352', 'MESH': 'MESH:D003924', 'UMLS': 'UMLS:C0011860', 'disease_type': 'disease', 'disease_umlscui': 'C0011860', 'score': 0.8, 'ei': 0.875, 'el': None}, {'disease_name': 'MAJOR DEPRESSIVE DISORDER', 'HPO': None, 'NCI': None, 'OMIM': 'MIM:608516', 'MONDO': 'MONDO:0002009', 'ORDO': None, 'EFO': 'EFO:1002014', 'DO': 'DOID:1595', 'MESH': 'MESH:D003865', 'UMLS': 'UMLS:C1269683', 'disease_type': 'disease', 'disease_umlscui': 'C1269683', 'score': 0.7999999999999999, 'ei': 0.8695652173913043, 'el': None}, {'disease_name': 'Esophageal Neoplasm', 'HPO': 'HPO:HP:0100751', 'NCI': 'NCI:C3028', 'OMIM': None, 'MONDO': 'MONDO:0007576, MONDO:0021355', 'ORDO': None, 'EFO': None, 'DO': 'DOID:5041', 'MESH': 'MESH:D004938', 'UMLS': 'UMLS:C0014859', 'disease_type': 'disease', 'disease_umlscui': 'C0014859', 'score': 0.7999999999999999, 'ei': 0.9090909090909091, 'el': None}, {'disease_name': 'Infection, Plasmodium', 'HPO': None, 'NCI': 'NCI:C34797', 'OMIM': None, 'MONDO': 'MONDO:0005136', 'ORDO': 'ORDO:673', 'EFO': 'EFO:0001068', 'DO': 'DOID:12365', 'MESH': 'MESH:D008288', 'UMLS': 'UMLS:C0024530', 'disease_type': 'disease', 'disease_umlscui': 'C0024530', 'score': 0.7999999999999999, 'ei': 1.0, 'el': None}, {'disease_name': 'Neuroblastoma', 'HPO': 'HPO:HP:0003006', 'NCI': 'NCI:C3270', 'OMIM': None, 'MONDO': 'MONDO:0005072', 'ORDO': 'ORDO:635', 'EFO': 'EFO:0000621', 'DO': 'DOID:769', 'MESH': 'MESH:D009447', 'UMLS': 'UMLS:C0027819', 'disease_type': 'disease', 'disease_umlscui': 'C0027819', 'score': 0.75, 'ei': 0.8421052631578947, 'el': None}, {'disease_name': 'Carcinoma', 'HPO': 'HPO:HP:0030731', 'NCI': 'NCI:C2916', 'OMIM': None, 'MONDO': 'MONDO:0004993', 'ORDO': None, 'EFO': 'EFO:0000313', 'DO': 'DOID:162, DOID:305, DOID:4015', 'MESH': 'MESH:D002277', 'UMLS': 'UMLS:C0007097', 'disease_type': 'disease', 'disease_umlscui': 'C0007097', 'score': 0.75, 'ei': 0.8888888888888888, 'el': None}, {'disease_name': 'Rheumatoid arthritis', 'HPO': 'HPO:HP:0001370', 'NCI': 'NCI:C2884', 'OMIM': 'MIM:180300, MIM:607218', 'MONDO': 'MONDO:0008383', 'ORDO': None, 'EFO': 'EFO:0000685', 'DO': 'DOID:7148', 'MESH': 'MESH:D001172', 'UMLS': 'UMLS:C0003873', 'disease_type': 'disease', 'disease_umlscui': 'C0003873', 'score': 0.75, 'ei': 0.8, 'el': None}, {'disease_name': 'Hematologic Neoplasm', 'HPO': 'HPO:HP:0004377, HPO:HP:0001909', 'NCI': 'NCI:C27134', 'OMIM': None, 'MONDO': 'MONDO:0002334, MONDO:0044881', 'ORDO': None, 'EFO': None, 'DO': 'DOID:2531', 'MESH': 'MESH:D019337', 'UMLS': 'UMLS:C0376545', 'disease_type': 'disease', 'disease_umlscui': 'C0376545', 'score': 0.75, 'ei': 1.0, 'el': None}, {'disease_name': 'Neutropenia', 'HPO': None, 'NCI': None, 'OMIM': None, 'MONDO': 'MONDO:0001475, MONDO:0001609, MONDO:0018542', 'ORDO': None, 'EFO': None, 'DO': 'DOID:0050590, DOID:1227, DOID:12987', 'MESH': 'MESH:D009503', 'UMLS': 'UMLS:C0027947', 'disease_type': 'disease', 'disease_umlscui': 'C0027947', 'score': 0.75, 'ei': 0.8461538461538461, 'el': None}, {'disease_name': 'Pain', 'HPO': 'HPO:HP:0012531', 'NCI': 'NCI:C3303, NCI:C25271', 'OMIM': None, 'MONDO': None, 'ORDO': None, 'EFO': 'EFO:0003843', 'DO': None, 'MESH': 'MESH:D010146', 'UMLS': 'UMLS:C0030193', 'disease_type': 'phenotype', 'disease_umlscui': 'C0030193', 'score': 0.75, 'ei': 0.9166666666666666, 'el': None}, {'disease_name': 'adenocarcinoma of large intestine (diagnosis)', 'HPO': 'HPO:HP:0040275', 'NCI': 'NCI:C5105', 'OMIM': None, 'MONDO': 'MONDO:0005008', 'ORDO': None, 'EFO': 'EFO:0000365', 'DO': 'DOID:0050861', 'MESH': None, 'UMLS': 'UMLS:C1319315', 'disease_type': 'disease', 'disease_umlscui': 'C1319315', 'score': 0.75, 'ei': 0.9090909090909091, 'el': None}, {'disease_name': 'Status Epilepticus', 'HPO': 'HPO:HP:0002133', 'NCI': 'NCI:C85079', 'OMIM': None, 'MONDO': 'MONDO:0002125', 'ORDO': None, 'EFO': 'EFO:0008526', 'DO': 'DOID:1824', 'MESH': 'MESH:D013226', 'UMLS': 'UMLS:C0038220', 'disease_type': 'disease', 'disease_umlscui': 'C0038220', 'score': 0.75, 'ei': 1.0, 'el': None}, {'disease_name': 'Abuse, Marihuana', 'HPO': None, 'NCI': None, 'OMIM': None, 'MONDO': 'MONDO:0005689', 'ORDO': None, 'EFO': 'EFO:0007191', 'DO': 'DOID:1849, DOID:9505', 'MESH': 'MESH:D002189', 'UMLS': 'UMLS:C0024809', 'disease_type': 'disease', 'disease_umlscui': 'C0024809', 'score': 0.75, 'ei': 1.0, 'el': None}, {'disease_name': 'Hyperlipemias', 'HPO': 'HPO:HP:0003077', 'NCI': 'NCI:C34707', 'OMIM': None, 'MONDO': 'MONDO:0001336, MONDO:0021187', 'ORDO': None, 'EFO': None, 'DO': 'DOID:1168', 'MESH': 'MESH:D006949', 'UMLS': 'UMLS:C0020473', 'disease_type': 'disease', 'disease_umlscui': 'C0020473', 'score': 0.75, 'ei': 1.0, 'el': None}, {'disease_name': 'Pain, Postoperative', 'HPO': None, 'NCI': 'NCI:C34887', 'OMIM': None, 'MONDO': None, 'ORDO': None, 'EFO': None, 'DO': None, 'MESH': 'MESH:D010149', 'UMLS': 'UMLS:C0030201', 'disease_type': 'phenotype', 'disease_umlscui': 'C0030201', 'score': 0.7000000000000001, 'ei': 0.7142857142857143, 'el': None}, {'disease_name': 'Psychosis', 'HPO': 'HPO:HP:0000709', 'NCI': 'NCI:C78576', 'OMIM': None, 'MONDO': 'MONDO:0005485', 'ORDO': None, 'EFO': 'EFO:0000677, EFO:0005407', 'DO': 'DOID:11328, DOID:5418', 'MESH': 'MESH:D011618', 'UMLS': 'UMLS:C0033975', 'disease_type': 'disease', 'disease_umlscui': 'C0033975', 'score': 0.7000000000000001, 'ei': 1.0, 'el': None}, {'disease_name': 'Tuberculosis, Pulmonary', 'HPO': 'HPO:HP:0032262', 'NCI': 'NCI:C26899', 'OMIM': None, 'MONDO': 'MONDO:0006052, MONDO:0957462', 'ORDO': 'ORDO:645814', 'EFO': 'EFO:1000049', 'DO': 'DOID:2957, DOID:9534', 'MESH': 'MESH:D014397', 'UMLS': 'UMLS:C0041327', 'disease_type': 'disease', 'disease_umlscui': 'C0041327', 'score': 0.7000000000000001, 'ei': 1.0, 'el': None}, {'disease_name': 'Depressions, Unipolar', 'HPO': None, 'NCI': 'NCI:C35094', 'OMIM': 'MIM:608516', 'MONDO': 'MONDO:0002009, MONDO:0002050, MONDO:0012048', 'ORDO': None, 'EFO': 'EFO:0004257, EFO:1002014', 'DO': 'DOID:1595, DOID:4964', 'MESH': 'MESH:D003866', 'UMLS': 'UMLS:C0041696', 'disease_type': 'disease', 'disease_umlscui': 'C0041696', 'score': 0.7, 'ei': 0.9090909090909091, 'el': None}, {'disease_name': 'Diffuse Histiocytic Lymphoma', 'HPO': None, 'NCI': 'NCI:C8851', 'OMIM': None, 'MONDO': 'MONDO:0018905', 'ORDO': 'ORDO:544', 'EFO': 'EFO:0000403, EFO:1000157, EFO:1000490', 'DO': 'DOID:0050745', 'MESH': 'MESH:D016403', 'UMLS': 'UMLS:C0079744', 'disease_type': 'disease', 'disease_umlscui': 'C0079744', 'score': 0.7, 'ei': 0.8571428571428571, 'el': None}, {'disease_name': 'Opioid dependence', 'HPO': 'HPO:HP:0033515', 'NCI': None, 'OMIM': None, 'MONDO': 'MONDO:0005530', 'ORDO': None, 'EFO': 'EFO:0005611', 'DO': 'DOID:11206, DOID:2559, DOID:9976', 'MESH': 'MESH:D009293', 'UMLS': 'UMLS:C0524662', 'disease_type': 'disease', 'disease_umlscui': 'C0524662', 'score': 0.7, 'ei': 0.8888888888888888, 'el': None}, {'disease_name': 'Peripheral neuropathy', 'HPO': 'HPO:HP:0009830', 'NCI': 'NCI:C119734', 'OMIM': None, 'MONDO': 'MONDO:0005244, MONDO:0003620', 'ORDO': None, 'EFO': 'EFO:0003100, EFO:0009387', 'DO': 'DOID:574', 'MESH': None, 'UMLS': 'UMLS:C0031117', 'disease_type': 'disease', 'disease_umlscui': 'C0031117', 'score': 0.65, 'ei': 0.875, 'el': None}, {'disease_name': 'Diseases, Nervous System', 'HPO': None, 'NCI': 'NCI:C26835', 'OMIM': None, 'MONDO': 'MONDO:0005071', 'ORDO': None, 'EFO': 'EFO:0000618', 'DO': 'DOID:0050635, DOID:863', 'MESH': 'MESH:D009422', 'UMLS': 'UMLS:C0027765', 'disease_type': 'disease', 'disease_umlscui': 'C0027765', 'score': 0.65, 'ei': 1.0, 'el': None}, {'disease_name': 'Nephropathy', 'HPO': 'HPO:HP:0000112', 'NCI': 'NCI:C3149, NCI:C34843', 'OMIM': None, 'MONDO': 'MONDO:0005240', 'ORDO': None, 'EFO': 'EFO:0003086', 'DO': 'DOID:1425, DOID:2921, DOID:557, DOID:10952, DOID:2527', 'MESH': 'MESH:D007674', 'UMLS': 'UMLS:C0022658', 'disease_type': 'disease', 'disease_umlscui': 'C0022658', 'score': 0.65, 'ei': 0.8, 'el': None}, {'disease_name': 'Mental Disorder', 'HPO': None, 'NCI': 'NCI:C2893', 'OMIM': None, 'MONDO': 'MONDO:0002025, MONDO:0005084', 'ORDO': None, 'EFO': 'EFO:0000677', 'DO': 'DOID:150', 'MESH': 'MESH:D001523', 'UMLS': 'UMLS:C0004936', 'disease_type': 'disease', 'disease_umlscui': 'C0004936', 'score': 0.65, 'ei': 1.0, 'el': None}, {'disease_name': 'Disease, Periodic', 'HPO': None, 'NCI': 'NCI:C84707', 'OMIM': 'MIM:249100, MIM:608107', 'MONDO': 'MONDO:0018088, MONDO:0009572', 'ORDO': 'ORDO:342', 'EFO': None, 'DO': 'DOID:0050452, DOID:2987', 'MESH': 'MESH:D010505', 'UMLS': 'UMLS:C0031069', 'disease_type': 'disease', 'disease_umlscui': 'C0031069', 'score': 0.65, 'ei': 1.0, 'el': None}, {'disease_name': 'Epithelioma', 'HPO': 'HPO:HP:0031492', 'NCI': 'NCI:C3709', 'OMIM': None, 'MONDO': 'MONDO:0005626, MONDO:0004993', 'ORDO': None, 'EFO': 'EFO:0000313, EFO:0006858', 'DO': 'DOID:305, DOID:4840', 'MESH': 'MESH:D009375', 'UMLS': 'UMLS:C1368683', 'disease_type': 'disease', 'disease_umlscui': 'C1368683', 'score': 0.65, 'ei': 1.0, 'el': None}, {'disease_name': 'Cardiomyopathy', 'HPO': 'HPO:HP:0001638', 'NCI': 'NCI:C34830', 'OMIM': None, 'MONDO': 'MONDO:0004994', 'ORDO': 'ORDO:167848', 'EFO': 'EFO:0000318', 'DO': 'DOID:0050700', 'MESH': 'MESH:D009202', 'UMLS': 'UMLS:C0878544', 'disease_type': 'disease', 'disease_umlscui': 'C0878544', 'score': 0.65, 'ei': 1.0, 'el': None}, {'disease_name': 'Defect, Congenital Heart', 'HPO': 'HPO:HP:0001627', 'NCI': 'NCI:C34666', 'OMIM': 'MIM:234750, MIM:140500', 'MONDO': 'MONDO:0005453, MONDO:0009327', 'ORDO': None, 'EFO': 'EFO:0005207', 'DO': 'DOID:1682', 'MESH': 'MESH:D006330', 'UMLS': 'UMLS:C0018798', 'disease_type': 'disease', 'disease_umlscui': 'C0018798', 'score': 0.65, 'ei': 1.0, 'el': None}, {'disease_name': 'Dependence, Cannabis', 'HPO': None, 'NCI': 'NCI:C34445', 'OMIM': None, 'MONDO': 'MONDO:0005689', 'ORDO': None, 'EFO': 'EFO:0007191', 'DO': 'DOID:1849, DOID:9505', 'MESH': 'MESH:D002189', 'UMLS': 'UMLS:C0006870', 'disease_type': 'disease', 'disease_umlscui': 'C0006870', 'score': 0.65, 'ei': 1.0, 'el': None}, {'disease_name': 'Behcet Syndrome', 'HPO': None, 'NCI': 'NCI:C34416', 'OMIM': 'MIM:109650', 'MONDO': 'MONDO:0007191', 'ORDO': 'ORDO:117', 'EFO': 'EFO:0003780', 'DO': 'DOID:13241', 'MESH': 'MESH:D001528', 'UMLS': 'UMLS:C0004943', 'disease_type': 'disease', 'disease_umlscui': 'C0004943', 'score': 0.65, 'ei': 1.0, 'el': None}, {'disease_name': 'Adrenal cortical carcinoma', 'HPO': 'HPO:HP:0006744', 'NCI': 'NCI:C9325', 'OMIM': None, 'MONDO': 'MONDO:0006639', 'ORDO': 'ORDO:1501', 'EFO': 'EFO:1000796', 'DO': 'DOID:3948', 'MESH': 'MESH:D018268', 'UMLS': 'UMLS:C0206686', 'disease_type': 'disease', 'disease_umlscui': 'C0206686', 'score': 0.6000000000000001, 'ei': 0.8, 'el': None}, {'disease_name': 'Acquired Immuno Deficiency Syndrome', 'HPO': None, 'NCI': 'NCI:C2851', 'OMIM': None, 'MONDO': 'MONDO:0012268, MONDO:0017769', 'ORDO': 'ORDO:310050', 'EFO': 'EFO:0000765', 'DO': 'DOID:526, DOID:635', 'MESH': 'MESH:D000163', 'UMLS': 'UMLS:C0001175', 'disease_type': 'disease', 'disease_umlscui': 'C0001175', 'score': 0.6000000000000001, 'ei': 1.0, 'el': None}, {'disease_name': 'SQUAMOUS CELL CARCINOMA, HEAD AND NECK', 'HPO': None, 'NCI': 'NCI:C34447', 'OMIM': 'MIM:275355, MIM:603612', 'MONDO': 'MONDO:0010150', 'ORDO': None, 'EFO': 'EFO:0000181', 'DO': 'DOID:2876, DOID:5515, DOID:5520', 'MESH': 'MESH:D000077195', 'UMLS': 'UMLS:C1168401', 'disease_type': 'disease', 'disease_umlscui': 'C1168401', 'score': 0.6000000000000001, 'ei': 0.6, 'el': None}, {'disease_name': 'Carcinomas, Infiltrating Duct', 'HPO': None, 'NCI': 'NCI:C4194', 'OMIM': 'MIM:603615', 'MONDO': 'MONDO:0005590, MONDO:0004953', 'ORDO': None, 'EFO': 'EFO:0000186, EFO:0006318', 'DO': 'DOID:3008', 'MESH': 'MESH:D018270', 'UMLS': 'UMLS:C1134719', 'disease_type': 'disease', 'disease_umlscui': 'C1134719', 'score': 0.6000000000000001, 'ei': 1.0, 'el': None}, {'disease_name': 'Cardiac Disease', 'HPO': None, 'NCI': 'NCI:C3079', 'OMIM': None, 'MONDO': 'MONDO:0005267', 'ORDO': None, 'EFO': 'EFO:0003777', 'DO': 'DOID:114, DOID:1287', 'MESH': 'MESH:D006331', 'UMLS': 'UMLS:C0018799', 'disease_type': 'disease', 'disease_umlscui': 'C0018799', 'score': 0.6000000000000001, 'ei': 1.0, 'el': None}, {'disease_name': 'Emesis', 'HPO': 'HPO:HP:0002013', 'NCI': 'NCI:C3442', 'OMIM': None, 'MONDO': None, 'ORDO': None, 'EFO': None, 'DO': None, 'MESH': 'MESH:D014839', 'UMLS': 'UMLS:C0042963', 'disease_type': 'phenotype', 'disease_umlscui': 'C0042963', 'score': 0.6000000000000001, 'ei': 1.0, 'el': None}, {'disease_name': 'Nausea', 'HPO': 'HPO:HP:0002018', 'NCI': 'NCI:C3258', 'OMIM': None, 'MONDO': None, 'ORDO': None, 'EFO': None, 'DO': None, 'MESH': 'MESH:D009325', 'UMLS': 'UMLS:C0027497', 'disease_type': 'phenotype', 'disease_umlscui': 'C0027497', 'score': 0.6000000000000001, 'ei': 1.0, 'el': None}, {'disease_name': 'AUTISM SPECTRUM DISORDER', 'HPO': 'HPO:HP:0000729', 'NCI': 'NCI:C88412', 'OMIM': 'MIM:209850', 'MONDO': 'MONDO:0005258', 'ORDO': None, 'EFO': 'EFO:0003756', 'DO': 'DOID:0060041, DOID:12849', 'MESH': 'MESH:D000067877', 'UMLS': 'UMLS:C1510586', 'disease_type': 'disease', 'disease_umlscui': 'C1510586', 'score': 0.6000000000000001, 'ei': 0.6666666666666666, 'el': None}, {'disease_name': 'Hypotension, Orthostatic', 'HPO': 'HPO:HP:0001278', 'NCI': 'NCI:C84970', 'OMIM': 'MIM:146500', 'MONDO': 'MONDO:0005469', 'ORDO': None, 'EFO': 'EFO:0005252', 'DO': 'DOID:0111154', 'MESH': 'MESH:D007024', 'UMLS': 'UMLS:C0020651', 'disease_type': 'disease', 'disease_umlscui': 'C0020651', 'score': 0.6000000000000001, 'ei': 0.5, 'el': None}, {'disease_name': 'Breast cancer (ductal)', 'HPO': None, 'NCI': 'NCI:C4017', 'OMIM': None, 'MONDO': 'MONDO:0005590, MONDO:0004953', 'ORDO': None, 'EFO': 'EFO:0000186, EFO:0006318', 'DO': 'DOID:3008', 'MESH': None, 'UMLS': 'UMLS:C1527349', 'disease_type': 'disease', 'disease_umlscui': 'C1527349', 'score': 0.6000000000000001, 'ei': 1.0, 'el': None}, {'disease_name': 'Heroin Dependence', 'HPO': 'HPO:HP:0033517', 'NCI': 'NCI:C34694', 'OMIM': None, 'MONDO': 'MONDO:0005367', 'ORDO': None, 'EFO': 'EFO:0004240', 'DO': 'DOID:9976', 'MESH': 'MESH:D006556', 'UMLS': 'UMLS:C0019337', 'disease_type': 'disease', 'disease_umlscui': 'C0019337', 'score': 0.6000000000000001, 'ei': 1.0, 'el': None}, {'disease_name': 'INFLAMMATORY BOWEL DISEASE 13', 'HPO': None, 'NCI': None, 'OMIM': 'MIM:612244', 'MONDO': 'MONDO:0012831', 'ORDO': None, 'EFO': 'EFO:0003767', 'DO': 'DOID:0110893', 'MESH': 'MESH:C567384', 'UMLS': 'UMLS:C2677101', 'disease_type': 'disease', 'disease_umlscui': 'C2677101', 'score': 0.55, 'ei': 1.0, 'el': None}, {'disease_name': 'Antisocial Personalities', 'HPO': None, 'NCI': 'NCI:C88413', 'OMIM': None, 'MONDO': 'MONDO:0001164', 'ORDO': None, 'EFO': None, 'DO': 'DOID:10939', 'MESH': 'MESH:D000987', 'UMLS': 'UMLS:C0003431', 'disease_type': 'disease', 'disease_umlscui': 'C0003431', 'score': 0.55, 'ei': 1.0, 'el': None}, {'disease_name': 'E coli Infection', 'HPO': 'HPO:HP:0002740', 'NCI': 'NCI:C34594', 'OMIM': None, 'MONDO': 'MONDO:0020920', 'ORDO': None, 'EFO': 'EFO:1001318', 'DO': None, 'MESH': 'MESH:D004927', 'UMLS': 'UMLS:C0014836', 'disease_type': 'disease', 'disease_umlscui': 'C0014836', 'score': 0.55, 'ei': 1.0, 'el': None}, {'disease_name': 'Hyperlipoproteinemia', 'HPO': 'HPO:HP:0010980', 'NCI': 'NCI:C34709', 'OMIM': None, 'MONDO': 'MONDO:0001336, MONDO:0037748', 'ORDO': None, 'EFO': None, 'DO': 'DOID:1168', 'MESH': 'MESH:D006951', 'UMLS': 'UMLS:C0020476', 'disease_type': 'disease', 'disease_umlscui': 'C0020476', 'score': 0.5, 'ei': 1.0, 'el': None}, {'disease_name': 'Generalized idiopathic epilepsy and epileptic syndromes', 'HPO': None, 'NCI': None, 'OMIM': 'MIM:600669', 'MONDO': 'MONDO:0005579', 'ORDO': None, 'EFO': 'EFO:0005917', 'DO': 'DOID:0060170, DOID:1827', 'MESH': 'MESH:C562694', 'UMLS': 'UMLS:C0270850', 'disease_type': 'disease', 'disease_umlscui': 'C0270850', 'score': 0.5, 'ei': 1.0, 'el': None}, {'disease_name': 'Precursor Lymphoblastic Leukemia/Lymphoma', 'HPO': None, 'NCI': 'NCI:C7055', 'OMIM': None, 'MONDO': 'MONDO:0003538, MONDO:0004967', 'ORDO': None, 'EFO': 'EFO:0000220, EFO:0009119', 'DO': 'DOID:9952', 'MESH': None, 'UMLS': 'UMLS:C1335469', 'disease_type': 'disease', 'disease_umlscui': 'C1335469', 'score': 0.5, 'ei': 1.0, 'el': None}, {'disease_name': 'Chemical and Drug Induced Liver Injury', 'HPO': None, 'NCI': None, 'OMIM': None, 'MONDO': 'MONDO:0005359', 'ORDO': None, 'EFO': 'EFO:0004228, EFO:0011052', 'DO': None, 'MESH': 'MESH:D056486', 'UMLS': 'UMLS:C4277682', 'disease_type': 'disease', 'disease_umlscui': 'C4277682', 'score': 0.45, 'ei': 1.0, 'el': None}, {'disease_name': 'Cryoglobulinemia', 'HPO': 'HPO:HP:0100778', 'NCI': 'NCI:C26736', 'OMIM': None, 'MONDO': 'MONDO:0005576', 'ORDO': None, 'EFO': 'EFO:0005846', 'DO': 'DOID:2917', 'MESH': 'MESH:D003449', 'UMLS': 'UMLS:C0010403', 'disease_type': 'disease', 'disease_umlscui': 'C0010403', 'score': 0.45, 'ei': 1.0, 'el': None}, {'disease_name': 'Chronic left-sided ulcerative colitis (disorder)', 'HPO': None, 'NCI': None, 'OMIM': None, 'MONDO': 'MONDO:0005101', 'ORDO': None, 'EFO': 'EFO:0000729', 'DO': 'DOID:8577', 'MESH': None, 'UMLS': 'UMLS:C0375359', 'disease_type': 'disease', 'disease_umlscui': 'C0375359', 'score': 0.45, 'ei': 1.0, 'el': None}, {'disease_name': 'Colitis, granulomatous', 'HPO': None, 'NCI': 'NCI:C35211, NCI:C37262', 'OMIM': None, 'MONDO': 'MONDO:0005532, MONDO:0005011', 'ORDO': None, 'EFO': 'EFO:0000384, EFO:0005622', 'DO': 'DOID:0060192, DOID:8778', 'MESH': 'MESH:D003424', 'UMLS': 'UMLS:C0156147', 'disease_type': 'disease', 'disease_umlscui': 'C0156147', 'score': 0.45, 'ei': 1.0, 'el': None}, {'disease_name': 'COLCHICINE RESISTANCE', 'HPO': None, 'NCI': None, 'OMIM': 'MIM:120080, MIM:171050', 'MONDO': None, 'ORDO': None, 'EFO': None, 'DO': None, 'MESH': None, 'UMLS': 'UMLS:C1861502', 'disease_type': 'disease', 'disease_umlscui': 'C1861502', 'score': 0.4, 'ei': 1.0, 'el': None}, {'disease_name': 'Symptomatic Parkinsonism', 'HPO': None, 'NCI': 'NCI:C34899', 'OMIM': None, 'MONDO': 'MONDO:0006966', 'ORDO': None, 'EFO': 'EFO:1001175', 'DO': 'DOID:13548', 'MESH': 'MESH:D010302', 'UMLS': 'UMLS:C0030569', 'disease_type': 'disease', 'disease_umlscui': 'C0030569', 'score': 0.4, 'ei': 1.0, 'el': None}, {'disease_name': 'Disease, Primary Myocardial', 'HPO': None, 'NCI': 'NCI:C53654', 'OMIM': None, 'MONDO': 'MONDO:0004994, MONDO:0005110', 'ORDO': 'ORDO:167848', 'EFO': 'EFO:0000318, EFO:0000767', 'DO': 'DOID:0050700', 'MESH': 'MESH:D009202', 'UMLS': 'UMLS:C0033141', 'disease_type': 'disease', 'disease_umlscui': 'C0033141', 'score': 0.4, 'ei': 1.0, 'el': None}, {'disease_name': 'Non-Neoplastic Peripheral Nervous System Disease', 'HPO': None, 'NCI': 'NCI:C27587', 'OMIM': None, 'MONDO': 'MONDO:0003620', 'ORDO': None, 'EFO': 'EFO:0009387', 'DO': 'DOID:574', 'MESH': None, 'UMLS': 'UMLS:C1335029', 'disease_type': 'disease', 'disease_umlscui': 'C1335029', 'score': 0.4, 'ei': 1.0, 'el': None}, {'disease_name': 'Dysentery', 'HPO': None, 'NCI': None, 'OMIM': None, 'MONDO': 'MONDO:0001517, MONDO:0001673', 'ORDO': None, 'EFO': 'EFO:1001869', 'DO': 'DOID:12384, DOID:13250', 'MESH': 'MESH:D004403', 'UMLS': 'UMLS:C0013369', 'disease_type': 'disease', 'disease_umlscui': 'C0013369', 'score': 0.4, 'ei': 1.0, 'el': None}, {'disease_name': 'Abuse, Cannabis', 'HPO': None, 'NCI': None, 'OMIM': None, 'MONDO': 'MONDO:0005689', 'ORDO': None, 'EFO': 'EFO:0007191', 'DO': 'DOID:1849, DOID:9505', 'MESH': 'MESH:D002189', 'UMLS': 'UMLS:C0006868', 'disease_type': 'disease', 'disease_umlscui': 'C0006868', 'score': 0.4, 'ei': 1.0, 'el': None}, {'disease_name': 'Damage, Reperfusion', 'HPO': None, 'NCI': 'NCI:C193389', 'OMIM': None, 'MONDO': 'MONDO:0005203', 'ORDO': None, 'EFO': 'EFO:0002687', 'DO': None, 'MESH': 'MESH:D015427', 'UMLS': 'UMLS:C0035126', 'disease_type': 'disease', 'disease_umlscui': 'C0035126', 'score': 0.4, 'ei': 1.0, 'el': None}, {'disease_name': 'Disease, Secondary Myocardial', 'HPO': None, 'NCI': None, 'OMIM': None, 'MONDO': 'MONDO:0004994', 'ORDO': 'ORDO:167848', 'EFO': 'EFO:0000318', 'DO': 'DOID:0050700', 'MESH': 'MESH:D009202', 'UMLS': 'UMLS:C0036529', 'disease_type': 'disease', 'disease_umlscui': 'C0036529', 'score': 0.4, 'ei': 1.0, 'el': None}, {'disease_name': 'Epithelioma, malignant', 'HPO': None, 'NCI': None, 'OMIM': None, 'MONDO': 'MONDO:0004993', 'ORDO': None, 'EFO': 'EFO:0000313', 'DO': 'DOID:305', 'MESH': None, 'UMLS': 'UMLS:C0553707', 'disease_type': 'disease', 'disease_umlscui': 'C0553707', 'score': 0.4, 'ei': 1.0, 'el': None}, {'disease_name': 'Chromosomal Translocations', 'HPO': None, 'NCI': 'NCI:C25756, NCI:C3420', 'OMIM': None, 'MONDO': None, 'ORDO': None, 'EFO': None, 'DO': None, 'MESH': 'MESH:D014178', 'UMLS': 'UMLS:C0040715', 'disease_type': 'phenotype', 'disease_umlscui': 'C0040715', 'score': 0.4, 'ei': 1.0, 'el': None}, {'disease_name': 'Aseptic necrosis talus', 'HPO': None, 'NCI': None, 'OMIM': None, 'MONDO': 'MONDO:0005380', 'ORDO': None, 'EFO': 'EFO:0004259', 'DO': 'DOID:10159', 'MESH': None, 'UMLS': 'UMLS:C0158451', 'disease_type': 'disease', 'disease_umlscui': 'C0158451', 'score': 0.4, 'ei': nan, 'el': None}, {'disease_name': 'Avascular necrosis of bone', 'HPO': 'HPO:HP:0010885', 'NCI': 'NCI:C34841', 'OMIM': None, 'MONDO': 'MONDO:0005380, MONDO:0018373', 'ORDO': 'ORDO:399164, ORDO:399158', 'EFO': 'EFO:0004259', 'DO': 'DOID:10159', 'MESH': 'MESH:D010020', 'UMLS': 'UMLS:C0027543', 'disease_type': 'disease', 'disease_umlscui': 'C0027543', 'score': 0.4, 'ei': nan, 'el': None}, {'disease_name': 'aseptic necrosis of humerus', 'HPO': None, 'NCI': 'NCI:C35517', 'OMIM': None, 'MONDO': 'MONDO:0005380', 'ORDO': None, 'EFO': 'EFO:0004259', 'DO': 'DOID:10159', 'MESH': None, 'UMLS': 'UMLS:C0745048', 'disease_type': 'disease', 'disease_umlscui': 'C0745048', 'score': 0.4, 'ei': nan, 'el': None}, {'disease_name': 'Asept necro femur condyl', 'HPO': None, 'NCI': None, 'OMIM': None, 'MONDO': 'MONDO:0005380', 'ORDO': None, 'EFO': 'EFO:0004259', 'DO': 'DOID:10159', 'MESH': None, 'UMLS': 'UMLS:C0158450', 'disease_type': 'disease', 'disease_umlscui': 'C0158450', 'score': 0.4, 'ei': nan, 'el': None}, {'disease_name': 'Other specified drug dependence', 'HPO': None, 'NCI': None, 'OMIM': None, 'MONDO': 'MONDO:0005303', 'ORDO': None, 'EFO': 'EFO:0003890', 'DO': 'DOID:9974', 'MESH': None, 'UMLS': 'UMLS:C0029792', 'disease_type': 'disease', 'disease_umlscui': 'C0029792', 'score': 0.4, 'ei': nan, 'el': None}, {'disease_name': 'Aseptic necrosis femur', 'HPO': None, 'NCI': 'NCI:C34404', 'OMIM': None, 'MONDO': 'MONDO:0005380', 'ORDO': None, 'EFO': 'EFO:0004259', 'DO': 'DOID:10159', 'MESH': None, 'UMLS': 'UMLS:C0003977', 'disease_type': 'disease', 'disease_umlscui': 'C0003977', 'score': 0.4, 'ei': nan, 'el': None}, {'disease_name': 'Osteonecroses', 'HPO': 'HPO:HP:0010885', 'NCI': 'NCI:C34880', 'OMIM': None, 'MONDO': 'MONDO:0005380', 'ORDO': 'ORDO:399158', 'EFO': 'EFO:0004259', 'DO': 'DOID:10159', 'MESH': 'MESH:D010020', 'UMLS': 'UMLS:C0029445', 'disease_type': 'phenotype', 'disease_umlscui': 'C0029445', 'score': 0.4, 'ei': nan, 'el': None}, {'disease_name': 'Atopic rhinitis', 'HPO': None, 'NCI': 'NCI:C34987', 'OMIM': None, 'MONDO': 'MONDO:0011786', 'ORDO': None, 'EFO': 'EFO:0005854', 'DO': 'DOID:4481', 'MESH': None, 'UMLS': 'UMLS:C0002103', 'disease_type': 'disease', 'disease_umlscui': 'C0002103', 'score': 0.4, 'ei': nan, 'el': None}, {'disease_name': 'juvenile osteochondrosis of upper extremity (diagnosis)', 'HPO': None, 'NCI': None, 'OMIM': None, 'MONDO': 'MONDO:0005380', 'ORDO': None, 'EFO': 'EFO:0004259', 'DO': 'DOID:10159', 'MESH': None, 'UMLS': 'UMLS:C0158442', 'disease_type': 'disease', 'disease_umlscui': 'C0158442', 'score': 0.4, 'ei': nan, 'el': None}, {'disease_name': 'Aseptic necrosis humerus', 'HPO': None, 'NCI': 'NCI:C35226', 'OMIM': None, 'MONDO': 'MONDO:0005380', 'ORDO': None, 'EFO': 'EFO:0004259', 'DO': 'DOID:10159', 'MESH': None, 'UMLS': 'UMLS:C0158449', 'disease_type': 'disease', 'disease_umlscui': 'C0158449', 'score': 0.4, 'ei': nan, 'el': None}, {'disease_name': 'Hereditary Breast and Ovarian Cancer Syndrome', 'HPO': None, 'NCI': 'NCI:C8493', 'OMIM': None, 'MONDO': 'MONDO:0003582', 'ORDO': 'ORDO:145', 'EFO': None, 'DO': 'DOID:5683', 'MESH': 'MESH:D061325', 'UMLS': 'UMLS:C0677776', 'disease_type': 'disease', 'disease_umlscui': 'C0677776', 'score': 0.4, 'ei': nan, 'el': None}]"
        ],
        [
         "2",
         "ENSG00000097021",
         "Ensembl",
         "11332",
         "NCBI Gene",
         "[{'disease_name': nan, 'HPO': nan, 'NCI': nan, 'OMIM': nan, 'MONDO': nan, 'ORDO': nan, 'EFO': nan, 'DO': nan, 'MESH': nan, 'UMLS': nan, 'disease_type': nan, 'disease_umlscui': nan, 'score': nan, 'ei': nan, 'el': nan}]"
        ],
        [
         "3",
         "ENSG00000110245",
         "Ensembl",
         "345",
         "NCBI Gene",
         "[{'disease_name': 'Coronary Disease', 'HPO': None, 'NCI': None, 'OMIM': None, 'MONDO': 'MONDO:0005010', 'ORDO': None, 'EFO': 'EFO:0001645', 'DO': 'DOID:3393', 'MESH': 'MESH:D003327', 'UMLS': 'UMLS:C0010068', 'disease_type': 'disease', 'disease_umlscui': 'C0010068', 'score': 0.9999999999999999, 'ei': 0.8653846153846154, 'el': None}, {'disease_name': 'Arterioscleroses, Coronary', 'HPO': 'HPO:HP:0001677', 'NCI': 'NCI:C35505', 'OMIM': None, 'MONDO': 'MONDO:0005010, MONDO:0021661', 'ORDO': None, 'EFO': 'EFO:0001645', 'DO': 'DOID:13739, DOID:3393', 'MESH': 'MESH:D003324', 'UMLS': 'UMLS:C0010054', 'disease_type': 'disease', 'disease_umlscui': 'C0010054', 'score': 0.8500000000000001, 'ei': 0.9047619047619048, 'el': None}, {'disease_name': 'Cardiovascular Disease', 'HPO': 'HPO:HP:0001626', 'NCI': 'NCI:C2931', 'OMIM': None, 'MONDO': 'MONDO:0004995', 'ORDO': None, 'EFO': 'EFO:0000319', 'DO': 'DOID:114, DOID:1287', 'MESH': 'MESH:D002318', 'UMLS': 'UMLS:C0007222', 'disease_type': 'disease', 'disease_umlscui': 'C0007222', 'score': 0.85, 'ei': 0.9701492537313433, 'el': None}, {'disease_name': 'Diabetes Mellitus, Insulin-Dependent', 'HPO': 'HPO:HP:0100651', 'NCI': 'NCI:C2986', 'OMIM': 'MIM:222100', 'MONDO': 'MONDO:0010862, MONDO:0010863, MONDO:0010864, MONDO:0010950, MONDO:0011016, MONDO:0011033, MONDO:0011068, MONDO:0011123, MONDO:0011167, MONDO:0011168, MONDO:0011302, MONDO:0011572, MONDO:0012422, MONDO:0005147, MONDO:0007454, MONDO:0012919, MONDO:0012920, MONDO:0012921, MONDO:0012961, MONDO:0013078, MONDO:0010861', 'ORDO': 'ORDO:243377', 'EFO': None, 'DO': 'DOID:0110741, DOID:0110742, DOID:0110743, DOID:0110744, DOID:0110745, DOID:0110746, DOID:0110747, DOID:0110749, DOID:0110750, DOID:0110751, DOID:0110752, DOID:0110753, DOID:0110754, DOID:0110755, DOID:0110756, DOID:0110757, DOID:0110758, DOID:0110759, DOID:0110760, DOID:0110761, DOID:9744', 'MESH': 'MESH:D003922', 'UMLS': 'UMLS:C0011854', 'disease_type': 'disease', 'disease_umlscui': 'C0011854', 'score': 0.8, 'ei': 1.0, 'el': None}, {'disease_name': 'Disease, Ischemic Heart', 'HPO': None, 'NCI': 'NCI:C50625', 'OMIM': None, 'MONDO': 'MONDO:0005010, MONDO:0024644', 'ORDO': None, 'EFO': 'EFO:0001645, EFO:1001375', 'DO': 'DOID:3393', 'MESH': 'MESH:D017202', 'UMLS': 'UMLS:C0151744', 'disease_type': 'disease', 'disease_umlscui': 'C0151744', 'score': 0.75, 'ei': 1.0, 'el': None}, {'disease_name': 'Glucose Intolerance', 'HPO': 'HPO:HP:0001952', 'NCI': 'NCI:C34646', 'OMIM': None, 'MONDO': 'MONDO:0001076', 'ORDO': None, 'EFO': None, 'DO': 'DOID:11716, DOID:10603', 'MESH': 'MESH:D018149', 'UMLS': 'UMLS:C0271650', 'disease_type': 'disease', 'disease_umlscui': 'C0271650', 'score': 0.75, 'ei': 0.6666666666666666, 'el': None}, {'disease_name': 'HALP2', 'HPO': None, 'NCI': None, 'OMIM': 'MIM:614028, MIM:107720', 'MONDO': 'MONDO:0013534', 'ORDO': None, 'EFO': None, 'DO': 'DOID:0111370', 'MESH': 'MESH:C566270', 'UMLS': 'UMLS:C3151467', 'disease_type': 'disease', 'disease_umlscui': 'C3151467', 'score': 0.7, 'ei': 1.0, 'el': None}, {'disease_name': 'Liver cell carcinoma', 'HPO': 'HPO:HP:0001402', 'NCI': 'NCI:C3099', 'OMIM': 'MIM:114550', 'MONDO': 'MONDO:0007256', 'ORDO': 'ORDO:88673', 'EFO': 'EFO:0000182, EFO:0000762, EFO:1000256', 'DO': 'DOID:3571, DOID:684', 'MESH': 'MESH:D006528', 'UMLS': 'UMLS:C2239176', 'disease_type': 'disease', 'disease_umlscui': 'C2239176', 'score': 0.7, 'ei': 0.8, 'el': None}, {'disease_name': 'Combined Hyperlipidemia, Familial', 'HPO': 'HPO:HP:0008158', 'NCI': 'NCI:C35637', 'OMIM': 'MIM:144250', 'MONDO': 'MONDO:0007759', 'ORDO': None, 'EFO': None, 'DO': 'DOID:13809', 'MESH': 'MESH:D006950', 'UMLS': 'UMLS:C0020474', 'disease_type': 'disease', 'disease_umlscui': 'C0020474', 'score': 0.65, 'ei': 1.0, 'el': None}, {'disease_name': 'Kidney Failure, Chronic', 'HPO': None, 'NCI': 'NCI:C9438', 'OMIM': None, 'MONDO': 'MONDO:0004375, MONDO:0005300, MONDO:0024327', 'ORDO': None, 'EFO': 'EFO:0003884, EFO:0009909', 'DO': 'DOID:783, DOID:784', 'MESH': 'MESH:D007676', 'UMLS': 'UMLS:C0022661', 'disease_type': 'disease', 'disease_umlscui': 'C0022661', 'score': 0.65, 'ei': 1.0, 'el': None}, {'disease_name': 'Lung Neoplasm', 'HPO': 'HPO:HP:0100526', 'NCI': 'NCI:C3200', 'OMIM': None, 'MONDO': 'MONDO:0002732, MONDO:0021117', 'ORDO': None, 'EFO': None, 'DO': 'DOID:3683', 'MESH': 'MESH:D008175', 'UMLS': 'UMLS:C0024121', 'disease_type': 'disease', 'disease_umlscui': 'C0024121', 'score': 0.65, 'ei': 1.0, 'el': None}, {'disease_name': 'Hyperlipoproteinemia', 'HPO': 'HPO:HP:0010980', 'NCI': 'NCI:C34709', 'OMIM': None, 'MONDO': 'MONDO:0001336, MONDO:0037748', 'ORDO': None, 'EFO': None, 'DO': 'DOID:1168', 'MESH': 'MESH:D006951', 'UMLS': 'UMLS:C0020476', 'disease_type': 'disease', 'disease_umlscui': 'C0020476', 'score': 0.6, 'ei': 1.0, 'el': None}, {'disease_name': 'Hyperlipoproteinemia Type III', 'HPO': None, 'NCI': 'NCI:C34710', 'OMIM': 'MIM:617347', 'MONDO': 'MONDO:0018473', 'ORDO': 'ORDO:412', 'EFO': 'EFO:0001645', 'DO': 'DOID:3145', 'MESH': 'MESH:D006952', 'UMLS': 'UMLS:C0020479', 'disease_type': 'disease', 'disease_umlscui': 'C0020479', 'score': 0.55, 'ei': 1.0, 'el': None}, {'disease_name': 'Chronic ischemic heart disease', 'HPO': None, 'NCI': None, 'OMIM': None, 'MONDO': 'MONDO:0005010', 'ORDO': None, 'EFO': 'EFO:0001645', 'DO': 'DOID:3393', 'MESH': None, 'UMLS': 'UMLS:C0264694', 'disease_type': 'disease', 'disease_umlscui': 'C0264694', 'score': 0.5, 'ei': 1.0, 'el': None}, {'disease_name': 'Essential Hypercholesterolemia', 'HPO': None, 'NCI': 'NCI:C34704', 'OMIM': None, 'MONDO': 'MONDO:0005439', 'ORDO': None, 'EFO': 'EFO:0004911', 'DO': 'DOID:13810', 'MESH': 'MESH:D006938', 'UMLS': 'UMLS:C0020445', 'disease_type': 'disease', 'disease_umlscui': 'C0020445', 'score': 0.5, 'ei': 1.0, 'el': None}, {'disease_name': 'Disorders, Organic Mental', 'HPO': None, 'NCI': 'NCI:C34870', 'OMIM': None, 'MONDO': 'MONDO:0002039', 'ORDO': None, 'EFO': None, 'DO': 'DOID:1561', 'MESH': 'MESH:D019965', 'UMLS': 'UMLS:C0029227', 'disease_type': 'disease', 'disease_umlscui': 'C0029227', 'score': 0.45, 'ei': 1.0, 'el': None}, {'disease_name': 'Celiac Disease', 'HPO': 'HPO:HP:0002608', 'NCI': 'NCI:C26714', 'OMIM': None, 'MONDO': 'MONDO:0005130', 'ORDO': 'ORDO:555', 'EFO': 'EFO:0001060, EFO:0009266', 'DO': 'DOID:10608', 'MESH': 'MESH:D002446', 'UMLS': 'UMLS:C0007570', 'disease_type': 'disease', 'disease_umlscui': 'C0007570', 'score': 0.4, 'ei': 1.0, 'el': None}, {'disease_name': 'Drug Eruptions', 'HPO': None, 'NCI': 'NCI:C114280', 'OMIM': None, 'MONDO': None, 'ORDO': None, 'EFO': None, 'DO': None, 'MESH': 'MESH:D003875', 'UMLS': 'UMLS:C0011609', 'disease_type': 'phenotype', 'disease_umlscui': 'C0011609', 'score': 0.4, 'ei': 1.0, 'el': None}, {'disease_name': 'MYOCARDIAL INFARCTION, SUSCEPTIBILITY TO', 'HPO': None, 'NCI': None, 'OMIM': 'MIM:608446, MIM:150571, MIM:153440, MIM:173470, MIM:602601, MIM:106180, MIM:606857, MIM:602855, MIM:601176, MIM:611082, MIM:133430', 'MONDO': 'MONDO:0012039', 'ORDO': None, 'EFO': 'EFO:0000612', 'DO': None, 'MESH': None, 'UMLS': 'UMLS:C1832662', 'disease_type': 'phenotype', 'disease_umlscui': 'C1832662', 'score': 0.4, 'ei': nan, 'el': None}]"
        ],
        [
         "4",
         "ENSG00000113905",
         "Ensembl",
         "3273",
         "NCBI Gene",
         "[{'disease_name': 'Breast Neoplasms', 'HPO': 'HPO:HP:0100013', 'NCI': 'NCI:C2910', 'OMIM': None, 'MONDO': 'MONDO:0021100', 'ORDO': None, 'EFO': 'EFO:0003869', 'DO': 'DOID:1612, DOID:3459', 'MESH': 'MESH:D001943', 'UMLS': 'UMLS:C1458155', 'disease_type': 'disease', 'disease_umlscui': 'C1458155', 'score': 0.7999999999999999, 'ei': 1.0, 'el': None}, {'disease_name': 'THROMBOPHILIA DUE TO HISTIDINE-RICH GLYCOPROTEIN DEFICIENCY', 'HPO': None, 'NCI': None, 'OMIM': 'MIM:613116, MIM:142640', 'MONDO': 'MONDO:0013143', 'ORDO': 'ORDO:217467', 'EFO': None, 'DO': 'DOID:0111903', 'MESH': 'MESH:C567737', 'UMLS': 'UMLS:C2751090', 'disease_type': 'disease', 'disease_umlscui': 'C2751090', 'score': 0.7, 'ei': 1.0, 'el': 'Moderate'}, {'disease_name': 'Thromboses', 'HPO': None, 'NCI': 'NCI:C26891', 'OMIM': None, 'MONDO': 'MONDO:0000831', 'ORDO': None, 'EFO': None, 'DO': 'DOID:0060903', 'MESH': 'MESH:D013927', 'UMLS': 'UMLS:C0040053', 'disease_type': 'phenotype', 'disease_umlscui': 'C0040053', 'score': 0.7, 'ei': 1.0, 'el': None}, {'disease_name': 'thrombus', 'HPO': None, 'NCI': None, 'OMIM': None, 'MONDO': 'MONDO:0000831', 'ORDO': None, 'EFO': None, 'DO': 'DOID:0060903', 'MESH': 'MESH:D013927', 'UMLS': 'UMLS:C0087086', 'disease_type': 'phenotype', 'disease_umlscui': 'C0087086', 'score': 0.6, 'ei': 1.0, 'el': None}, {'disease_name': 'Atherothrombosis', 'HPO': None, 'NCI': None, 'OMIM': None, 'MONDO': 'MONDO:0000831', 'ORDO': None, 'EFO': None, 'DO': 'DOID:0060903', 'MESH': 'MESH:D013927', 'UMLS': 'UMLS:C1963943', 'disease_type': 'phenotype', 'disease_umlscui': 'C1963943', 'score': 0.45, 'ei': 1.0, 'el': None}, {'disease_name': 'Hereditary thrombophilia due to congenital histidine-rich (poly-L) glycoprotein deficiency (disorder)', 'HPO': None, 'NCI': None, 'OMIM': None, 'MONDO': 'MONDO:0013143', 'ORDO': 'ORDO:217467', 'EFO': None, 'DO': None, 'MESH': None, 'UMLS': 'UMLS:C5190887', 'disease_type': 'disease', 'disease_umlscui': 'C5190887', 'score': 0.4, 'ei': 1.0, 'el': None}]"
        ]
       ],
       "shape": {
        "columns": 5,
        "rows": 5
       }
      },
      "text/html": [
       "<div>\n",
       "<style scoped>\n",
       "    .dataframe tbody tr th:only-of-type {\n",
       "        vertical-align: middle;\n",
       "    }\n",
       "\n",
       "    .dataframe tbody tr th {\n",
       "        vertical-align: top;\n",
       "    }\n",
       "\n",
       "    .dataframe thead th {\n",
       "        text-align: right;\n",
       "    }\n",
       "</style>\n",
       "<table border=\"1\" class=\"dataframe\">\n",
       "  <thead>\n",
       "    <tr style=\"text-align: right;\">\n",
       "      <th></th>\n",
       "      <th>identifier</th>\n",
       "      <th>identifier.source</th>\n",
       "      <th>target</th>\n",
       "      <th>target.source</th>\n",
       "      <th>DISGENET_diseases</th>\n",
       "    </tr>\n",
       "  </thead>\n",
       "  <tbody>\n",
       "    <tr>\n",
       "      <th>0</th>\n",
       "      <td>ENSG00000072080</td>\n",
       "      <td>Ensembl</td>\n",
       "      <td>6694</td>\n",
       "      <td>NCBI Gene</td>\n",
       "      <td>[{'disease_name': 'Retinal dystrophy', 'HPO': ...</td>\n",
       "    </tr>\n",
       "    <tr>\n",
       "      <th>1</th>\n",
       "      <td>ENSG00000085563</td>\n",
       "      <td>Ensembl</td>\n",
       "      <td>5243</td>\n",
       "      <td>NCBI Gene</td>\n",
       "      <td>[{'disease_name': 'Breast Neoplasms', 'HPO': '...</td>\n",
       "    </tr>\n",
       "    <tr>\n",
       "      <th>2</th>\n",
       "      <td>ENSG00000097021</td>\n",
       "      <td>Ensembl</td>\n",
       "      <td>11332</td>\n",
       "      <td>NCBI Gene</td>\n",
       "      <td>[{'disease_name': nan, 'HPO': nan, 'NCI': nan,...</td>\n",
       "    </tr>\n",
       "    <tr>\n",
       "      <th>3</th>\n",
       "      <td>ENSG00000110245</td>\n",
       "      <td>Ensembl</td>\n",
       "      <td>345</td>\n",
       "      <td>NCBI Gene</td>\n",
       "      <td>[{'disease_name': 'Coronary Disease', 'HPO': N...</td>\n",
       "    </tr>\n",
       "    <tr>\n",
       "      <th>4</th>\n",
       "      <td>ENSG00000113905</td>\n",
       "      <td>Ensembl</td>\n",
       "      <td>3273</td>\n",
       "      <td>NCBI Gene</td>\n",
       "      <td>[{'disease_name': 'Breast Neoplasms', 'HPO': '...</td>\n",
       "    </tr>\n",
       "  </tbody>\n",
       "</table>\n",
       "</div>"
      ],
      "text/plain": [
       "        identifier identifier.source target target.source  \\\n",
       "0  ENSG00000072080           Ensembl   6694     NCBI Gene   \n",
       "1  ENSG00000085563           Ensembl   5243     NCBI Gene   \n",
       "2  ENSG00000097021           Ensembl  11332     NCBI Gene   \n",
       "3  ENSG00000110245           Ensembl    345     NCBI Gene   \n",
       "4  ENSG00000113905           Ensembl   3273     NCBI Gene   \n",
       "\n",
       "                                   DISGENET_diseases  \n",
       "0  [{'disease_name': 'Retinal dystrophy', 'HPO': ...  \n",
       "1  [{'disease_name': 'Breast Neoplasms', 'HPO': '...  \n",
       "2  [{'disease_name': nan, 'HPO': nan, 'NCI': nan,...  \n",
       "3  [{'disease_name': 'Coronary Disease', 'HPO': N...  \n",
       "4  [{'disease_name': 'Breast Neoplasms', 'HPO': '...  "
      ]
     },
     "execution_count": 12,
     "metadata": {},
     "output_type": "execute_result"
    }
   ],
   "source": [
    "disgenet_df, disgenet_metadata = disgenet.get_gene_disease(\n",
    "    api_key=disgenet_api_key, bridgedb_df=bridgedb_df_hl\n",
    ")\n",
    "disgenet_df.head()"
   ]
  },
  {
   "cell_type": "markdown",
   "metadata": {},
   "source": [
    "### 2.2 Disease-Compound edges"
   ]
  },
  {
   "cell_type": "code",
   "execution_count": 13,
   "metadata": {},
   "outputs": [
    {
     "data": {
      "application/vnd.microsoft.datawrangler.viewer.v0+json": {
       "columns": [
        {
         "name": "index",
         "rawType": "int64",
         "type": "integer"
        },
        {
         "name": "identifier",
         "rawType": "object",
         "type": "string"
        },
        {
         "name": "identifier.source",
         "rawType": "object",
         "type": "string"
        },
        {
         "name": "target",
         "rawType": "object",
         "type": "string"
        },
        {
         "name": "target.source",
         "rawType": "object",
         "type": "string"
        }
       ],
       "conversionMethod": "pd.DataFrame",
       "ref": "9e64e88c-de11-4fc0-bce6-ed30e0476a9c",
       "rows": [
        [
         "0",
         "UMLS_C1458155",
         "UMLS",
         "EFO_0003869",
         "EFO"
        ],
        [
         "1",
         "UMLS_C0014544",
         "UMLS",
         "EFO_0000474",
         "EFO"
        ],
        [
         "2",
         "UMLS_C0007131",
         "UMLS",
         "EFO_0003060",
         "EFO"
        ],
        [
         "3",
         "UMLS_C2239176",
         "UMLS",
         "EFO_0000182",
         "EFO"
        ],
        [
         "4",
         "UMLS_C2239176",
         "UMLS",
         "EFO_0000762",
         "EFO"
        ]
       ],
       "shape": {
        "columns": 4,
        "rows": 5
       }
      },
      "text/html": [
       "<div>\n",
       "<style scoped>\n",
       "    .dataframe tbody tr th:only-of-type {\n",
       "        vertical-align: middle;\n",
       "    }\n",
       "\n",
       "    .dataframe tbody tr th {\n",
       "        vertical-align: top;\n",
       "    }\n",
       "\n",
       "    .dataframe thead th {\n",
       "        text-align: right;\n",
       "    }\n",
       "</style>\n",
       "<table border=\"1\" class=\"dataframe\">\n",
       "  <thead>\n",
       "    <tr style=\"text-align: right;\">\n",
       "      <th></th>\n",
       "      <th>identifier</th>\n",
       "      <th>identifier.source</th>\n",
       "      <th>target</th>\n",
       "      <th>target.source</th>\n",
       "    </tr>\n",
       "  </thead>\n",
       "  <tbody>\n",
       "    <tr>\n",
       "      <th>0</th>\n",
       "      <td>UMLS_C1458155</td>\n",
       "      <td>UMLS</td>\n",
       "      <td>EFO_0003869</td>\n",
       "      <td>EFO</td>\n",
       "    </tr>\n",
       "    <tr>\n",
       "      <th>1</th>\n",
       "      <td>UMLS_C0014544</td>\n",
       "      <td>UMLS</td>\n",
       "      <td>EFO_0000474</td>\n",
       "      <td>EFO</td>\n",
       "    </tr>\n",
       "    <tr>\n",
       "      <th>2</th>\n",
       "      <td>UMLS_C0007131</td>\n",
       "      <td>UMLS</td>\n",
       "      <td>EFO_0003060</td>\n",
       "      <td>EFO</td>\n",
       "    </tr>\n",
       "    <tr>\n",
       "      <th>3</th>\n",
       "      <td>UMLS_C2239176</td>\n",
       "      <td>UMLS</td>\n",
       "      <td>EFO_0000182</td>\n",
       "      <td>EFO</td>\n",
       "    </tr>\n",
       "    <tr>\n",
       "      <th>4</th>\n",
       "      <td>UMLS_C2239176</td>\n",
       "      <td>UMLS</td>\n",
       "      <td>EFO_0000762</td>\n",
       "      <td>EFO</td>\n",
       "    </tr>\n",
       "  </tbody>\n",
       "</table>\n",
       "</div>"
      ],
      "text/plain": [
       "      identifier identifier.source       target target.source\n",
       "0  UMLS_C1458155              UMLS  EFO_0003869           EFO\n",
       "1  UMLS_C0014544              UMLS  EFO_0000474           EFO\n",
       "2  UMLS_C0007131              UMLS  EFO_0003060           EFO\n",
       "3  UMLS_C2239176              UMLS  EFO_0000182           EFO\n",
       "4  UMLS_C2239176              UMLS  EFO_0000762           EFO"
      ]
     },
     "execution_count": 13,
     "metadata": {},
     "output_type": "execute_result"
    }
   ],
   "source": [
    "# Prepare the input to use DISGENET output as seed for OpenTargets\n",
    "disease_mapping_df = create_harmonized_input_file(disgenet_df, DISGENET_DISEASE_COL, \"EFO\", \"UMLS\")\n",
    "disease_mapping_df.head()"
   ]
  },
  {
   "cell_type": "code",
   "execution_count": 15,
   "metadata": {},
   "outputs": [
    {
     "name": "stderr",
     "output_type": "stream",
     "text": [
      "Processing diseases-drug interactions: 100%|██████████| 133/133 [00:03<00:00, 38.39it/s]\n",
      "Mapping PubChem: 100%|██████████| 1039/1039 [03:45<00:00,  4.62it/s]\n",
      "/home/javi/pyBiodatafuse-3/src/pyBiodatafuse/annotators/opentargets.py:1133: UserWarning: Not all values in column 'adverse_effect' have the correct type '<class 'list'>'.\n",
      "  check_columns_against_constants(\n"
     ]
    },
    {
     "data": {
      "application/vnd.microsoft.datawrangler.viewer.v0+json": {
       "columns": [
        {
         "name": "index",
         "rawType": "int64",
         "type": "integer"
        },
        {
         "name": "identifier",
         "rawType": "object",
         "type": "string"
        },
        {
         "name": "identifier.source",
         "rawType": "object",
         "type": "string"
        },
        {
         "name": "target",
         "rawType": "object",
         "type": "string"
        },
        {
         "name": "target.source",
         "rawType": "object",
         "type": "string"
        },
        {
         "name": "OpenTargets_disease_compounds",
         "rawType": "object",
         "type": "unknown"
        }
       ],
       "conversionMethod": "pd.DataFrame",
       "ref": "ea92ef6c-1526-490e-ac3e-a5ba24f0c69c",
       "rows": [
        [
         "0",
         "UMLS_C0001175",
         "UMLS",
         "EFO_0000765",
         "EFO",
         "[{'chembl_id': 'CHEMBL:CHEMBL704', 'drugbank_id': 'DrugBank:DB00244', 'compound_cid': 'pubchem.compound:4075', 'compound_name': 'MESALAMINE', 'clincal_trial_phase': 4.0, 'is_approved': True, 'relation': 'treats', 'adverse_effect_count': 37.0, 'adverse_effect': [{'name': 'colitis ulcerative'}, {'name': 'haematochezia'}, {'name': 'colitis'}, {'name': 'frequent bowel movements'}, {'name': \"crohn's disease\"}, {'name': 'myocarditis'}, {'name': 'macular degeneration'}, {'name': 'condition aggravated'}, {'name': 'abdominal pain'}, {'name': 'diarrhoea haemorrhagic'}, {'name': 'pancreatitis'}, {'name': 'weight decreased'}, {'name': 'pyrexia'}, {'name': 'pancreatitis acute'}, {'name': 'pericarditis'}, {'name': 'tubulointerstitial nephritis'}, {'name': 'diarrhoea'}, {'name': 'drug intolerance'}, {'name': 'rectal haemorrhage'}, {'name': 'vitamin d deficiency'}, {'name': 'impaired quality of life'}, {'name': 'mucous stools'}, {'name': 'drug hypersensitivity'}, {'name': 'product residue present'}, {'name': 'therapeutic product effect decreased'}]}, {'chembl_id': 'CHEMBL:CHEMBL2108184', 'drugbank_id': None, 'compound_cid': None, 'compound_name': 'CROFELEMER', 'clincal_trial_phase': 4.0, 'is_approved': True, 'relation': 'treats', 'adverse_effect_count': 0.0, 'adverse_effect': {}}, {'chembl_id': 'CHEMBL:CHEMBL163', 'drugbank_id': 'DrugBank:DB00503', 'compound_cid': 'pubchem.compound:392622', 'compound_name': 'RITONAVIR', 'clincal_trial_phase': 4.0, 'is_approved': True, 'relation': 'treats', 'adverse_effect_count': 27.0, 'adverse_effect': [{'name': 'virologic failure'}, {'name': 'lipodystrophy acquired'}, {'name': 'abortion spontaneous'}, {'name': 'premature baby'}, {'name': 'drug interaction'}, {'name': 'hyperbilirubinaemia'}, {'name': \"cushing's syndrome\"}, {'name': 'stillbirth'}, {'name': 'mitochondrial toxicity'}, {'name': 'live birth'}, {'name': 'immune reconstitution syndrome'}, {'name': 'abortion induced'}, {'name': 'premature delivery'}, {'name': 'jaundice'}, {'name': 'immune reconstitution inflammatory syndrome'}, {'name': 'drug resistance'}, {'name': 'blood bilirubin increased'}, {'name': 'progressive external ophthalmoplegia'}, {'name': 'hypertriglyceridaemia'}, {'name': 'renal colic'}, {'name': 'low birth weight baby'}, {'name': 'viral load increased'}, {'name': 'renal tubular disorder'}, {'name': 'foetal death'}, {'name': 'viral mutation identified'}]}, {'chembl_id': 'CHEMBL:CHEMBL691', 'drugbank_id': 'DrugBank:DB00977', 'compound_cid': 'pubchem.compound:5991', 'compound_name': 'ETHINYL ESTRADIOL', 'clincal_trial_phase': 4.0, 'is_approved': True, 'relation': 'treats', 'adverse_effect_count': 56.0, 'adverse_effect': [{'name': 'pulmonary embolism'}, {'name': 'metrorrhagia'}, {'name': 'unintended pregnancy'}, {'name': 'deep vein thrombosis'}, {'name': 'pregnancy with contraceptive device'}, {'name': 'menorrhagia'}, {'name': 'abnormal withdrawal bleeding'}, {'name': 'vulvovaginal discomfort'}, {'name': 'vaginal haemorrhage'}, {'name': 'vaginal discharge'}, {'name': 'medical device site discomfort'}, {'name': 'intentional medical device removal by patient'}, {'name': 'dysmenorrhoea'}, {'name': 'hypercoagulation'}, {'name': 'menstruation delayed'}, {'name': 'menstruation irregular'}, {'name': 'migraine'}, {'name': 'withdrawal bleed'}, {'name': 'abortion induced'}, {'name': 'incorrect product administration duration'}, {'name': 'pulmonary infarction'}, {'name': 'intracranial venous sinus thrombosis'}, {'name': 'vena cava filter insertion'}, {'name': 'product shape issue'}, {'name': 'menstrual disorder'}]}, {'chembl_id': 'CHEMBL:CHEMBL1520', 'drugbank_id': 'DrugBank:DB00862', 'compound_cid': 'pubchem.compound:135400189', 'compound_name': 'VARDENAFIL', 'clincal_trial_phase': 4.0, 'is_approved': True, 'relation': 'treats', 'adverse_effect_count': 44.0, 'adverse_effect': [{'name': 'erectile dysfunction'}, {'name': 'drug use for unknown indication'}, {'name': 'erection increased'}, {'name': 'flushing'}, {'name': 'nasal congestion'}, {'name': 'headache'}, {'name': 'visual disturbance'}, {'name': 'optic ischaemic neuropathy'}, {'name': 'cyanopsia'}, {'name': 'penis disorder'}, {'name': 'blindness unilateral'}, {'name': 'priapism'}, {'name': 'blindness transient'}, {'name': 'vision blurred'}, {'name': 'deafness unilateral'}, {'name': 'anorgasmia'}, {'name': 'ejaculation disorder'}, {'name': 'spontaneous penile erection'}, {'name': 'penile pain'}, {'name': 'fatigue'}, {'name': 'visual field defect'}, {'name': 'ejaculation failure'}, {'name': 'chromatopsia'}, {'name': 'visual acuity reduced'}, {'name': 'tinnitus'}]}, {'chembl_id': 'CHEMBL:CHEMBL1201187', 'drugbank_id': 'DrugBank:DB04835', 'compound_cid': 'pubchem.compound:3002977', 'compound_name': 'MARAVIROC', 'clincal_trial_phase': 4.0, 'is_approved': True, 'relation': 'treats', 'adverse_effect_count': 39.0, 'adverse_effect': [{'name': 'virologic failure'}, {'name': 'viral mutation identified'}, {'name': \"hodgkin's disease\"}, {'name': 'viral load increased'}, {'name': 'drug resistance'}, {'name': 'lipodystrophy acquired'}, {'name': 'pathogen resistance'}, {'name': 'csf test abnormal'}, {'name': 'hyperbilirubinaemia'}, {'name': 'blood hiv rna increased'}, {'name': 'generalised anxiety disorder'}, {'name': 'enanthema'}, {'name': 'anogenital dysplasia'}, {'name': 'live birth'}, {'name': 'anal cancer'}, {'name': 'congenital renal disorder'}, {'name': 'kidney enlargement'}, {'name': 'lung squamous cell carcinoma stage unspecified'}, {'name': 'seborrhoeic dermatitis'}, {'name': 'social avoidant behaviour'}, {'name': \"kaposi's sarcoma\"}, {'name': 'congenital vesicoureteric reflux'}, {'name': 'congenital ureteric anomaly'}, {'name': 'pain'}, {'name': 'rash generalised'}]}, {'chembl_id': 'CHEMBL:CHEMBL1389', 'drugbank_id': 'DrugBank:DB00367', 'compound_cid': 'pubchem.compound:13109', 'compound_name': 'LEVONORGESTREL', 'clincal_trial_phase': 4.0, 'is_approved': True, 'relation': 'treats', 'adverse_effect_count': 62.0, 'adverse_effect': [{'name': 'intra-uterine contraceptive device expelled'}, {'name': 'genital haemorrhage'}, {'name': 'uterine perforation'}, {'name': 'pregnancy with contraceptive device'}, {'name': 'abdominal pain lower'}, {'name': 'procedural pain'}, {'name': 'vaginal haemorrhage'}, {'name': 'iucd complication'}, {'name': 'pelvic pain'}, {'name': 'injury'}, {'name': 'uterine rupture'}, {'name': 'menorrhagia'}, {'name': 'amenorrhoea'}, {'name': 'device use issue'}, {'name': 'post procedural discomfort'}, {'name': 'medical device pain'}, {'name': 'iud migration'}, {'name': 'emotional distress'}, {'name': 'dyspareunia'}, {'name': 'abdominal pain'}, {'name': 'post procedural haemorrhage'}, {'name': 'ovarian cyst'}, {'name': 'vaginal discharge'}, {'name': 'penile pain'}, {'name': 'diarrhoea'}]}, {'chembl_id': 'CHEMBL:CHEMBL1201139', 'drugbank_id': 'DrugBank:DB00351', 'compound_cid': 'pubchem.compound:11683', 'compound_name': 'MEGESTROL ACETATE', 'clincal_trial_phase': 4.0, 'is_approved': True, 'relation': 'treats', 'adverse_effect_count': 41.0, 'adverse_effect': [{'name': \"dementia alzheimer's type\"}, {'name': 'deep vein thrombosis'}, {'name': 'adrenal insufficiency'}, {'name': 'pulmonary embolism'}, {'name': 'meningioma'}, {'name': 'malignant neoplasm progression'}, {'name': 'breast cancer metastatic'}, {'name': 'metastases to liver'}, {'name': 'blood cortisol decreased'}, {'name': 'failure to thrive'}, {'name': 'blood chloride decreased'}, {'name': 'oestrogen receptor assay positive'}, {'name': 'androgen deficiency'}, {'name': 'pik3ca-activated mutation'}, {'name': 'blood testosterone decreased'}, {'name': 'listless'}, {'name': 'monocyte count decreased'}, {'name': 'invasive lobular breast carcinoma'}, {'name': 'secondary adrenocortical insufficiency'}, {'name': 'metastases to lung'}, {'name': \"addison's disease\"}, {'name': 'haematocrit'}, {'name': 'ovarian cancer metastatic'}, {'name': 'hypogonadism'}, {'name': 'blood glucose increased'}]}]"
        ],
        [
         "1",
         "UMLS_C0002103",
         "UMLS",
         "EFO_0005854",
         "EFO",
         "[{'chembl_id': 'CHEMBL:CHEMBL1201353', 'drugbank_id': 'DrugBank:DB13679', 'compound_cid': 'pubchem.compound:33036', 'compound_name': 'DEXCHLORPHENIRAMINE', 'clincal_trial_phase': 4.0, 'is_approved': True, 'relation': 'treats', 'adverse_effect_count': 20.0, 'adverse_effect': [{'name': 'aminoaciduria'}, {'name': 'urticaria'}, {'name': 'type i hypersensitivity'}, {'name': 'angioedema'}, {'name': 'erythema'}, {'name': 'proteinuria'}, {'name': 'serum sickness'}, {'name': 'hypersensitivity'}, {'name': 'chronic spontaneous urticaria'}, {'name': 'necrotising retinitis'}, {'name': 'hypotension'}, {'name': 'respiratory tract infection'}, {'name': 'cardiac failure'}, {'name': 'tinnitus'}, {'name': 'metabolic acidosis'}, {'name': 'infusion related reaction'}, {'name': 'bradycardia'}, {'name': 'oxygen saturation decreased'}, {'name': 'depressed level of consciousness'}, {'name': 'thrombophlebitis'}]}, {'chembl_id': 'CHEMBL:CHEMBL639', 'drugbank_id': 'DrugBank:DB00972', 'compound_cid': 'pubchem.compound:2267', 'compound_name': 'AZELASTINE', 'clincal_trial_phase': 4.0, 'is_approved': True, 'relation': 'treats', 'adverse_effect_count': 18.0, 'adverse_effect': [{'name': 'treatment failure'}, {'name': 'oesophageal ulcer'}, {'name': 'oesophageal injury'}, {'name': 'merycism'}, {'name': 'fatigue'}, {'name': 'nasal discomfort'}, {'name': 'vernal keratoconjunctivitis'}, {'name': 'oesophageal disorder'}, {'name': 'noninfective conjunctivitis'}, {'name': 'cor pulmonale chronic'}, {'name': 'regurgitation'}, {'name': 'dyspnoea'}, {'name': 'pulmonary function test decreased'}, {'name': 'pyrexia'}, {'name': 'vomiting'}, {'name': 'infusion site irritation'}, {'name': 'hepatic cytolysis'}, {'name': 'laryngotracheo bronchitis'}]}, {'chembl_id': 'CHEMBL:CHEMBL1200750', 'drugbank_id': None, 'compound_cid': 'pubchem.compound:6014', 'compound_name': 'PROMETHAZINE HYDROCHLORIDE', 'clincal_trial_phase': 4.0, 'is_approved': True, 'relation': 'treats', 'adverse_effect_count': 78.0, 'adverse_effect': [{'name': 'drug hypersensitivity'}, {'name': 'suicide attempt'}, {'name': 'temperature regulation disorder'}, {'name': 'somnolence'}, {'name': 'toxicity to various agents'}, {'name': 'serotonin syndrome'}, {'name': 'food allergy'}, {'name': 'rheumatoid arthritis'}, {'name': 'agitation'}, {'name': 'macular degeneration'}, {'name': 'coeliac disease'}, {'name': 'hyperhidrosis'}, {'name': 'immunodeficiency'}, {'name': 'electric shock'}, {'name': 'anticholinergic syndrome'}, {'name': 'bursitis'}, {'name': 'confusional state'}, {'name': 'gangrene'}, {'name': 'tachycardia'}, {'name': 'neuroleptic malignant syndrome'}, {'name': 'electrocardiogram qt prolonged'}, {'name': 'post-traumatic stress disorder'}, {'name': 'mydriasis'}, {'name': 'intervertebral discitis'}, {'name': 'akathisia'}]}, {'chembl_id': 'CHEMBL:CHEMBL1200791', 'drugbank_id': None, 'compound_cid': 'pubchem.compound:66259', 'compound_name': 'OXYMETAZOLINE HYDROCHLORIDE', 'clincal_trial_phase': 4.0, 'is_approved': True, 'relation': 'treats', 'adverse_effect_count': 40.0, 'adverse_effect': [{'name': 'mydriasis'}, {'name': 'eye irritation'}, {'name': 'vision blurred'}, {'name': 'ocular hyperaemia'}, {'name': 'swelling of eyelid'}, {'name': 'dry eye'}, {'name': 'prescription drug used without a prescription'}, {'name': 'lacrimation increased'}, {'name': 'cerebral vasoconstriction'}, {'name': 'ductus arteriosus stenosis foetal'}, {'name': 'eye pain'}, {'name': 'abnormal sensation in eye'}, {'name': 'anosmia'}, {'name': 'eye pruritus'}, {'name': 'application site erythema'}, {'name': 'asthenopia'}, {'name': 'foreign body sensation in eyes'}, {'name': 'eyelid irritation'}, {'name': 'blepharospasm'}, {'name': 'eyelid function disorder'}, {'name': 'application site pain'}, {'name': 'headache'}, {'name': 'photophobia'}, {'name': 'tricuspid valve incompetence'}, {'name': 'nasal discomfort'}]}, {'chembl_id': 'CHEMBL:CHEMBL864', 'drugbank_id': 'DrugBank:DB00748', 'compound_cid': 'pubchem.compound:2564', 'compound_name': 'CARBINOXAMINE', 'clincal_trial_phase': 4.0, 'is_approved': True, 'relation': 'treats', 'adverse_effect_count': 0.0, 'adverse_effect': {}}, {'chembl_id': 'CHEMBL:CHEMBL679', 'drugbank_id': 'DrugBank:DB00668', 'compound_cid': 'pubchem.compound:5816', 'compound_name': 'EPINEPHRINE', 'clincal_trial_phase': 4.0, 'is_approved': True, 'relation': 'treats', 'adverse_effect_count': 68.0, 'adverse_effect': [{'name': 'stress cardiomyopathy'}, {'name': 'drug hypersensitivity'}, {'name': 'lagophthalmos'}, {'name': 'injection site pallor'}, {'name': 'needle issue'}, {'name': 'hypotension'}, {'name': 'cardiac arrest'}, {'name': 'arteriospasm coronary'}, {'name': 'anaphylactic reaction'}, {'name': 'cardiogenic shock'}, {'name': 'toxic anterior segment syndrome'}, {'name': 'injury associated with device'}, {'name': 'ventricular tachycardia'}, {'name': 'kounis syndrome'}, {'name': 'myopathy toxic'}, {'name': 'myocardial ischaemia'}, {'name': 'electrocardiogram st segment elevation'}, {'name': 'tachycardia'}, {'name': 'bradycardia'}, {'name': 'expired drug administered'}, {'name': 'sinus tachycardia'}, {'name': 'electrocardiogram st segment depression'}, {'name': 'heart rate increased'}, {'name': 'pulseless electrical activity'}, {'name': 'left ventricle outflow tract obstruction'}]}, {'chembl_id': 'CHEMBL:CHEMBL312448', 'drugbank_id': 'DrugBank:DB06694', 'compound_cid': 'pubchem.compound:5709', 'compound_name': 'XYLOMETAZOLINE', 'clincal_trial_phase': 4.0, 'is_approved': True, 'relation': 'treats', 'adverse_effect_count': 12.0, 'adverse_effect': [{'name': 'reversible cerebral vasoconstriction syndrome'}, {'name': 'thunderclap headache'}, {'name': 'rebound nasal congestion'}, {'name': 'subarachnoid haemorrhage'}, {'name': 'congenital ovarian anomaly'}, {'name': 'nasal turbinate hypertrophy'}, {'name': 'oligohydramnios'}, {'name': 'nasal mucosal disorder'}, {'name': 'allergy to animal'}, {'name': 'cerebral artery stenosis'}, {'name': 'nasal septum deviation'}, {'name': 'accessory kidney'}]}, {'chembl_id': 'CHEMBL:CHEMBL650', 'drugbank_id': 'DrugBank:DB00959', 'compound_cid': 'pubchem.compound:6741', 'compound_name': 'METHYLPREDNISOLONE', 'clincal_trial_phase': 4.0, 'is_approved': True, 'relation': 'treats', 'adverse_effect_count': 23.0, 'adverse_effect': [{'name': 'cytomegalovirus infection'}, {'name': 'transplant rejection'}, {'name': 'polyomavirus-associated nephropathy'}, {'name': 'pneumocystis jirovecii pneumonia'}, {'name': 'kidney transplant rejection'}, {'name': 'posterior reversible encephalopathy syndrome'}, {'name': 'lymphocyte count decreased'}, {'name': 'cytomegalovirus viraemia'}, {'name': 'steroid diabetes'}, {'name': 'bk virus infection'}, {'name': 'post transplant lymphoproliferative disorder'}, {'name': 'epstein-barr virus infection'}, {'name': \"kaposi's sarcoma\"}, {'name': 'red blood cells urine positive'}, {'name': 'urine abnormality'}, {'name': 'cytomegalovirus infection reactivation'}, {'name': 'graft versus host disease'}, {'name': 'bronchopulmonary aspergillosis'}, {'name': 'hyperglycaemia'}, {'name': 'nocardiosis'}, {'name': 'cushingoid'}, {'name': 'diabetes mellitus'}, {'name': 'mucormycosis'}]}, {'chembl_id': 'CHEMBL:CHEMBL1504', 'drugbank_id': None, 'compound_cid': 'pubchem.compound:6436', 'compound_name': 'TRIAMCINOLONE ACETONIDE', 'clincal_trial_phase': 4.0, 'is_approved': True, 'relation': 'treats', 'adverse_effect_count': 69.0, 'adverse_effect': [{'name': \"cushing's syndrome\"}, {'name': 'endophthalmitis'}, {'name': 'non-infectious endophthalmitis'}, {'name': 'adrenal insufficiency'}, {'name': 'injection site atrophy'}, {'name': 'macular degeneration'}, {'name': 'intraocular pressure increased'}, {'name': 'ocular hypertension'}, {'name': 'skin atrophy'}, {'name': 'visual acuity reduced'}, {'name': 'eye infection toxoplasmal'}, {'name': 'human antichimeric antibody positive'}, {'name': 'cytomegalovirus chorioretinitis'}, {'name': 'wheelchair user'}, {'name': 'joint destruction'}, {'name': 'body height below normal'}, {'name': 'retinal artery occlusion'}, {'name': 'eye inflammation'}, {'name': 'polyarthritis'}, {'name': 'maculopathy'}, {'name': 'obesity'}, {'name': 'adrenal suppression'}, {'name': 'necrotising retinitis'}, {'name': 'hypothalamic pituitary adrenal axis suppression'}, {'name': 'glaucoma'}]}, {'chembl_id': 'CHEMBL:CHEMBL1189432', 'drugbank_id': 'DrugBank:DB00768', 'compound_cid': 'pubchem.compound:5281071', 'compound_name': 'OLOPATADINE', 'clincal_trial_phase': 4.0, 'is_approved': True, 'relation': 'treats', 'adverse_effect_count': 2.0, 'adverse_effect': [{'name': 'treatment failure'}, {'name': 'hypersensitivity'}]}, {'chembl_id': 'CHEMBL:CHEMBL1200681', 'drugbank_id': None, 'compound_cid': 'pubchem.compound:23663996', 'compound_name': 'MONTELUKAST SODIUM', 'clincal_trial_phase': 4.0, 'is_approved': True, 'relation': 'treats', 'adverse_effect_count': 73.0, 'adverse_effect': [{'name': 'asthma'}, {'name': 'wheezing'}, {'name': 'allergic granulomatous angiitis'}, {'name': 'obstructive airways disorder'}, {'name': 'therapeutic product effect incomplete'}, {'name': 'suicidal ideation'}, {'name': 'blood count abnormal'}, {'name': 'sleep disorder due to a general medical condition'}, {'name': 'dyspnoea'}, {'name': 'aggression'}, {'name': 'nightmare'}, {'name': 'loss of personal independence in daily activities'}, {'name': 'abnormal behaviour'}, {'name': 'cough'}, {'name': 'sleep terror'}, {'name': 'productive cough'}, {'name': 'eosinophilic granulomatosis with polyangiitis'}, {'name': 'depression'}, {'name': 'anxiety'}, {'name': 'sputum discoloured'}, {'name': 'chest discomfort'}, {'name': 'nasal polyps'}, {'name': 'anger'}, {'name': 'temperature regulation disorder'}, {'name': 'food allergy'}]}, {'chembl_id': 'CHEMBL:CHEMBL761', 'drugbank_id': 'DrugBank:DB06711', 'compound_cid': 'pubchem.compound:4436', 'compound_name': 'NAPHAZOLINE', 'clincal_trial_phase': 4.0, 'is_approved': True, 'relation': 'treats', 'adverse_effect_count': 1.0, 'adverse_effect': [{'name': 'bradycardia'}]}, {'chembl_id': 'CHEMBL:CHEMBL3188034', 'drugbank_id': None, 'compound_cid': 'pubchem.compound:5284472', 'compound_name': 'TRIPROLIDINE HYDROCHLORIDE', 'clincal_trial_phase': 4.0, 'is_approved': True, 'relation': 'treats', 'adverse_effect_count': 79.0, 'adverse_effect': [{'name': 'drug hypersensitivity'}, {'name': 'anosmia'}, {'name': 'salpingo-oophorectomy unilateral'}, {'name': 'epistaxis'}, {'name': 'sinusitis fungal'}, {'name': 'sputum increased'}, {'name': 'nasal polyps'}, {'name': 'muscle spasticity'}, {'name': 'chronic sinusitis'}, {'name': 'female genital tract fistula'}, {'name': 'asthma'}, {'name': 'respiratory symptom'}, {'name': 'sinusitis'}, {'name': 'diastolic dysfunction'}, {'name': 'emphysema'}, {'name': 'embolism venous'}, {'name': 'exercise test abnormal'}, {'name': 'ageusia'}, {'name': 'hysterectomy'}, {'name': 'nasal discomfort'}, {'name': 'pharmaceutical product complaint'}, {'name': 'sleep apnoea syndrome'}, {'name': 'iron deficiency anaemia'}, {'name': 'antiphospholipid antibodies'}, {'name': 'cough'}]}, {'chembl_id': 'CHEMBL:CHEMBL2', 'drugbank_id': 'DrugBank:DB00457', 'compound_cid': 'pubchem.compound:4893', 'compound_name': 'PRAZOSIN', 'clincal_trial_phase': 4.0, 'is_approved': True, 'relation': 'treats', 'adverse_effect_count': 56.0, 'adverse_effect': [{'name': 'hypotension'}, {'name': 'atrioventricular block first degree'}, {'name': 'sinus bradycardia'}, {'name': 'priapism'}, {'name': 'acute respiratory distress syndrome'}, {'name': 'aspiration'}, {'name': 'vasoplegia syndrome'}, {'name': 'cardiac hypertrophy'}, {'name': 'norepinephrine increased'}, {'name': 'hypertrichosis'}, {'name': 'hyperlactacidaemia'}, {'name': 'metabolic acidosis'}, {'name': 'electrocardiogram qt prolonged'}, {'name': 'circulatory collapse'}, {'name': 'low birth weight baby'}, {'name': 'shock'}, {'name': 'depressed level of consciousness'}, {'name': 'electrocardiogram qrs complex shortened'}, {'name': 'premature baby'}, {'name': 'unresponsive to stimuli'}, {'name': 'cardiogenic shock'}, {'name': 'coma scale abnormal'}, {'name': 'toxicity to various agents'}, {'name': 'syncope'}, {'name': 'serotonin syndrome'}]}, {'chembl_id': 'CHEMBL:CHEMBL211456', 'drugbank_id': 'DrugBank:DB01364', 'compound_cid': 'pubchem.compound:9294', 'compound_name': 'EPHEDRINE', 'clincal_trial_phase': 4.0, 'is_approved': True, 'relation': 'treats', 'adverse_effect_count': 21.0, 'adverse_effect': [{'name': 'confusion postoperative'}, {'name': 'mental status changes postoperative'}, {'name': 'metal poisoning'}, {'name': 'metabolic alkalosis'}, {'name': 'oliguria'}, {'name': 'parkinsonism'}, {'name': 'drug abuse'}, {'name': 'renal failure acute'}, {'name': 'unevaluable event'}, {'name': 'embolic stroke'}, {'name': 'apraxia'}, {'name': 'hypotension'}, {'name': 'tachycardia foetal'}, {'name': 'phaeochromocytoma'}, {'name': 'nicotine dependence'}, {'name': 'premature baby'}, {'name': 'premature delivery'}, {'name': 'stress cardiomyopathy'}, {'name': 'haematuria'}, {'name': 'thyroid disorder'}, {'name': 'blood zinc increased'}]}, {'chembl_id': 'CHEMBL:CHEMBL811', 'drugbank_id': 'DrugBank:DB00835', 'compound_cid': 'pubchem.compound:6834', 'compound_name': 'BROMPHENIRAMINE', 'clincal_trial_phase': 4.0, 'is_approved': True, 'relation': 'treats', 'adverse_effect_count': 4.0, 'adverse_effect': [{'name': 'drug hypersensitivity'}, {'name': 'vertigo'}, {'name': 'hypotension'}, {'name': 'fall'}]}, {'chembl_id': 'CHEMBL:CHEMBL762', 'drugbank_id': 'DrugBank:DB00935', 'compound_cid': 'pubchem.compound:4636', 'compound_name': 'OXYMETAZOLINE', 'clincal_trial_phase': 4.0, 'is_approved': True, 'relation': 'treats', 'adverse_effect_count': 5.0, 'adverse_effect': [{'name': 'ductus arteriosus stenosis foetal'}, {'name': 'cerebral vasoconstriction'}, {'name': 'tricuspid valve incompetence'}, {'name': 'pupils unequal'}, {'name': 'mydriasis'}]}, {'chembl_id': 'CHEMBL:CHEMBL1200974', 'drugbank_id': None, 'compound_cid': 'pubchem.compound:5282409', 'compound_name': 'CARBINOXAMINE MALEATE', 'clincal_trial_phase': 4.0, 'is_approved': True, 'relation': 'treats', 'adverse_effect_count': 0.0, 'adverse_effect': {}}, {'chembl_id': 'CHEMBL:CHEMBL1706', 'drugbank_id': None, 'compound_cid': 'pubchem.compound:4436', 'compound_name': 'NAPHAZOLINE HYDROCHLORIDE', 'clincal_trial_phase': 4.0, 'is_approved': True, 'relation': 'treats', 'adverse_effect_count': 6.0, 'adverse_effect': [{'name': 'eye irritation'}, {'name': 'mydriasis'}, {'name': 'chemical burns of eye'}, {'name': 'ocular hyperaemia'}, {'name': 'eye pain'}, {'name': 'cerebral vasoconstriction'}]}, {'chembl_id': 'CHEMBL:CHEMBL1201191', 'drugbank_id': 'DrugBank:DB06282', 'compound_cid': 'pubchem.compound:1549000', 'compound_name': 'LEVOCETIRIZINE', 'clincal_trial_phase': 4.0, 'is_approved': True, 'relation': 'treats', 'adverse_effect_count': 25.0, 'adverse_effect': [{'name': 'drug-induced liver injury'}, {'name': 'febrile convulsion'}, {'name': 'alopecia areata'}, {'name': 'dermatitis contact'}, {'name': 'allergic reaction to excipient'}, {'name': 'urticaria'}, {'name': 'somnolence'}, {'name': 'angioedema'}, {'name': 'erythema multiforme'}, {'name': 'fixed eruption'}, {'name': 'face oedema'}, {'name': 'loss of consciousness'}, {'name': 'dermatitis bullous'}, {'name': 'congenital inguinal hernia'}, {'name': 'hypogammaglobulinaemia'}, {'name': 'anaphylactic shock'}, {'name': 'swelling face'}, {'name': 'eosinophilia'}, {'name': 'altered state of consciousness'}, {'name': 'bronchopulmonary dysplasia'}, {'name': 'anaphylactic reaction'}, {'name': 'haemorrhage subcutaneous'}, {'name': 'arrhythmia'}, {'name': 'eye oedema'}, {'name': 'neonatal infection'}]}]"
        ],
        [
         "2",
         "UMLS_C0003873",
         "UMLS",
         "EFO_0000685",
         "EFO",
         "[{'chembl_id': 'CHEMBL:CHEMBL2103743', 'drugbank_id': None, 'compound_cid': 'pubchem.compound:10174505', 'compound_name': 'TOFACITINIB CITRATE', 'clincal_trial_phase': 4.0, 'is_approved': True, 'relation': 'treats', 'adverse_effect_count': 59.0, 'adverse_effect': [{'name': 'rheumatoid arthritis'}, {'name': 'synovitis'}, {'name': 'joint swelling'}, {'name': 'arthralgia'}, {'name': 'hand deformity'}, {'name': 'pain'}, {'name': 'musculoskeletal stiffness'}, {'name': 'condition aggravated'}, {'name': 'anti-cyclic citrullinated peptide antibody positive'}, {'name': 'pemphigus'}, {'name': 'arthropathy'}, {'name': 'drug intolerance'}, {'name': 'glossodynia'}, {'name': 'abdominal discomfort'}, {'name': 'swelling'}, {'name': 'wound'}, {'name': 'alopecia'}, {'name': 'systemic lupus erythematosus'}, {'name': 'peripheral swelling'}, {'name': 'pericarditis'}, {'name': 'treatment failure'}, {'name': 'therapeutic product effect decreased'}, {'name': 'rheumatoid factor positive'}, {'name': 'discomfort'}, {'name': 'hepatic enzyme increased'}]}, {'chembl_id': 'CHEMBL:CHEMBL34259', 'drugbank_id': 'DrugBank:DB00563', 'compound_cid': 'pubchem.compound:126941', 'compound_name': 'METHOTREXATE', 'clincal_trial_phase': 4.0, 'is_approved': True, 'relation': 'treats', 'adverse_effect_count': 44.0, 'adverse_effect': [{'name': 'rheumatoid arthritis'}, {'name': 'drug intolerance'}, {'name': 'treatment failure'}, {'name': 'synovitis'}, {'name': 'joint swelling'}, {'name': 'pemphigus'}, {'name': 'alopecia'}, {'name': 'therapeutic product effect decreased'}, {'name': 'hand deformity'}, {'name': 'systemic lupus erythematosus'}, {'name': 'drug hypersensitivity'}, {'name': 'arthropathy'}, {'name': 'arthralgia'}, {'name': 'abdominal discomfort'}, {'name': 'glossodynia'}, {'name': 'pain'}, {'name': 'musculoskeletal stiffness'}, {'name': 'swelling'}, {'name': 'anti-cyclic citrullinated peptide antibody positive'}, {'name': 'hepatic enzyme increased'}, {'name': 'therapeutic product effect incomplete'}, {'name': 'rheumatoid factor positive'}, {'name': 'infection'}, {'name': 'c-reactive protein abnormal'}, {'name': 'loss of personal independence in daily activities'}]}, {'chembl_id': 'CHEMBL:CHEMBL1201831', 'drugbank_id': None, 'compound_cid': None, 'compound_name': 'CERTOLIZUMAB PEGOL', 'clincal_trial_phase': 4.0, 'is_approved': True, 'relation': 'treats', 'adverse_effect_count': 67.0, 'adverse_effect': [{'name': 'rheumatoid arthritis'}, {'name': 'pemphigus'}, {'name': 'systemic lupus erythematosus'}, {'name': 'glossodynia'}, {'name': 'hand deformity'}, {'name': 'synovitis'}, {'name': 'joint swelling'}, {'name': 'alopecia'}, {'name': 'anti-cyclic citrullinated peptide antibody positive'}, {'name': 'abdominal discomfort'}, {'name': 'pain'}, {'name': 'drug intolerance'}, {'name': 'swelling'}, {'name': 'arthropathy'}, {'name': 'therapeutic product effect decreased'}, {'name': 'wound'}, {'name': 'treatment failure'}, {'name': 'rheumatoid factor positive'}, {'name': 'pericarditis'}, {'name': 'discomfort'}, {'name': 'rash'}, {'name': 'hypersensitivity'}, {'name': 'lower respiratory tract infection'}, {'name': 'muscle injury'}, {'name': 'duodenal ulcer perforation'}]}, {'chembl_id': 'CHEMBL:CHEMBL221959', 'drugbank_id': 'DrugBank:DB08895', 'compound_cid': 'pubchem.compound:9926791', 'compound_name': 'TOFACITINIB', 'clincal_trial_phase': 4.0, 'is_approved': True, 'relation': 'treats', 'adverse_effect_count': 64.0, 'adverse_effect': [{'name': 'synovitis'}, {'name': 'rheumatoid arthritis'}, {'name': 'joint swelling'}, {'name': 'arthralgia'}, {'name': 'pain'}, {'name': 'musculoskeletal stiffness'}, {'name': 'hand deformity'}, {'name': 'condition aggravated'}, {'name': 'anti-cyclic citrullinated peptide antibody positive'}, {'name': 'arthropathy'}, {'name': 'pemphigus'}, {'name': 'drug intolerance'}, {'name': 'abdominal discomfort'}, {'name': 'swelling'}, {'name': 'glossodynia'}, {'name': 'peripheral swelling'}, {'name': 'wound'}, {'name': 'alopecia'}, {'name': 'therapeutic product effect decreased'}, {'name': 'systemic lupus erythematosus'}, {'name': 'treatment failure'}, {'name': 'pericarditis'}, {'name': 'rheumatoid factor positive'}, {'name': 'hepatic enzyme increased'}, {'name': 'discomfort'}]}, {'chembl_id': 'CHEMBL:CHEMBL79', 'drugbank_id': 'DrugBank:DB00281', 'compound_cid': 'pubchem.compound:3676', 'compound_name': 'LIDOCAINE', 'clincal_trial_phase': 4.0, 'is_approved': True, 'relation': 'treats', 'adverse_effect_count': 28.0, 'adverse_effect': [{'name': 'methaemoglobinaemia'}, {'name': 'local anaesthetic systemic toxicity'}, {'name': 'anaphylactic shock'}, {'name': 'anaesthetic complication'}, {'name': 'cardiac arrest'}, {'name': 'toxicity to various agents'}, {'name': 'lagophthalmos'}, {'name': 'anaphylactic reaction'}, {'name': 'drug hypersensitivity'}, {'name': 'hypotension'}, {'name': 'bradycardia'}, {'name': 'toxic anterior segment syndrome'}, {'name': 'generalised tonic-clonic seizure'}, {'name': \"horner's syndrome\"}, {'name': 'unresponsive to stimuli'}, {'name': 'myopathy toxic'}, {'name': 'diarrhoea'}, {'name': 'ventricular tachycardia'}, {'name': 'pulseless electrical activity'}, {'name': 'neurotoxicity'}, {'name': 'tachycardia'}, {'name': 'convulsion'}, {'name': 'circulatory collapse'}, {'name': 'ophthalmoplegia'}, {'name': 'stress cardiomyopathy'}]}, {'chembl_id': 'CHEMBL:CHEMBL1201833', 'drugbank_id': None, 'compound_cid': None, 'compound_name': 'GOLIMUMAB', 'clincal_trial_phase': 4.0, 'is_approved': True, 'relation': 'treats', 'adverse_effect_count': 81.0, 'adverse_effect': [{'name': 'rheumatoid arthritis'}, {'name': 'pemphigus'}, {'name': 'glossodynia'}, {'name': 'systemic lupus erythematosus'}, {'name': 'hand deformity'}, {'name': 'drug intolerance'}, {'name': 'joint swelling'}, {'name': 'swelling'}, {'name': 'alopecia'}, {'name': 'therapeutic product effect decreased'}, {'name': 'treatment failure'}, {'name': 'arthropathy'}, {'name': 'anti-cyclic citrullinated peptide antibody positive'}, {'name': 'synovitis'}, {'name': 'abdominal discomfort'}, {'name': 'wound'}, {'name': 'pain'}, {'name': 'lower respiratory tract infection'}, {'name': 'discomfort'}, {'name': 'pericarditis'}, {'name': 'rheumatoid factor positive'}, {'name': 'arthralgia'}, {'name': 'hypersensitivity'}, {'name': 'rash'}, {'name': 'muscle injury'}]}, {'chembl_id': 'CHEMBL:CHEMBL112', 'drugbank_id': 'DrugBank:DB00316', 'compound_cid': 'pubchem.compound:1983', 'compound_name': 'ACETAMINOPHEN', 'clincal_trial_phase': 4.0, 'is_approved': True, 'relation': 'treats', 'adverse_effect_count': 55.0, 'adverse_effect': [{'name': 'toxicity to various agents'}, {'name': 'acute hepatic failure'}, {'name': 'suicide attempt'}, {'name': 'hepatocellular injury'}, {'name': 'anti-cyclic citrullinated peptide antibody positive'}, {'name': 'poisoning deliberate'}, {'name': 'muscle injury'}, {'name': 'metabolic acidosis'}, {'name': 'hand deformity'}, {'name': 'pemphigus'}, {'name': 'liver injury'}, {'name': 'hepatic enzyme increased'}, {'name': 'coma'}, {'name': 'folliculitis'}, {'name': 'vomiting'}, {'name': 'lower respiratory tract infection'}, {'name': 'glossodynia'}, {'name': 'cholestasis'}, {'name': 'sleep disorder due to general medical condition, insomnia type'}, {'name': 'irritable bowel syndrome'}, {'name': 'pericarditis'}, {'name': 'duodenal ulcer perforation'}, {'name': 'joint swelling'}, {'name': 'synovitis'}, {'name': 'helicobacter infection'}]}, {'chembl_id': 'CHEMBL:CHEMBL421', 'drugbank_id': 'DrugBank:DB00795', 'compound_cid': 'pubchem.compound:5339', 'compound_name': 'SULFASALAZINE', 'clincal_trial_phase': 4.0, 'is_approved': True, 'relation': 'treats', 'adverse_effect_count': 161.0, 'adverse_effect': [{'name': 'rheumatoid arthritis'}, {'name': 'drug intolerance'}, {'name': 'joint swelling'}, {'name': 'synovitis'}, {'name': 'pemphigus'}, {'name': 'treatment failure'}, {'name': 'systemic lupus erythematosus'}, {'name': 'hand deformity'}, {'name': 'glossodynia'}, {'name': 'arthropathy'}, {'name': 'alopecia'}, {'name': 'pain'}, {'name': 'abdominal discomfort'}, {'name': 'therapeutic product effect decreased'}, {'name': 'anti-cyclic citrullinated peptide antibody positive'}, {'name': 'swelling'}, {'name': 'wound'}, {'name': 'arthralgia'}, {'name': 'drug hypersensitivity'}, {'name': 'loss of personal independence in daily activities'}, {'name': 'condition aggravated'}, {'name': 'rash'}, {'name': 'musculoskeletal stiffness'}, {'name': 'rheumatoid factor positive'}, {'name': 'discomfort'}]}, {'chembl_id': 'CHEMBL:CHEMBL514800', 'drugbank_id': 'DrugBank:DB05676', 'compound_cid': 'pubchem.compound:11561674', 'compound_name': 'APREMILAST', 'clincal_trial_phase': 4.0, 'is_approved': True, 'relation': 'treats', 'adverse_effect_count': 14.0, 'adverse_effect': [{'name': 'psoriasis'}, {'name': 'diarrhoea'}, {'name': 'nausea'}, {'name': 'headache'}, {'name': 'psoriatic arthropathy'}, {'name': 'abdominal discomfort'}, {'name': 'depression'}, {'name': 'weight decreased'}, {'name': 'therapy non-responder'}, {'name': 'product dose omission issue'}, {'name': 'abdominal pain upper'}, {'name': 'gastric disorder'}, {'name': 'frequent bowel movements'}, {'name': 'dyspnoea'}]}, {'chembl_id': 'CHEMBL:CHEMBL3622821', 'drugbank_id': 'DrugBank:DB15091', 'compound_cid': 'pubchem.compound:58557659', 'compound_name': 'UPADACITINIB', 'clincal_trial_phase': 4.0, 'is_approved': True, 'relation': 'treats', 'adverse_effect_count': 11.0, 'adverse_effect': [{'name': 'therapy interrupted'}, {'name': 'covid-19'}, {'name': 'illness'}, {'name': 'urinary tract infection'}, {'name': 'herpes zoster'}, {'name': 'sinusitis'}, {'name': 'rheumatoid arthritis'}, {'name': 'localised infection'}, {'name': 'infection'}, {'name': 'sars-cov-2 test positive'}, {'name': 'antibiotic therapy'}]}, {'chembl_id': 'CHEMBL:CHEMBL1201572', 'drugbank_id': None, 'compound_cid': None, 'compound_name': 'ETANERCEPT', 'clincal_trial_phase': 4.0, 'is_approved': True, 'relation': 'treats', 'adverse_effect_count': 27.0, 'adverse_effect': [{'name': 'injection site erythema'}, {'name': 'injection site pain'}, {'name': 'rheumatoid arthritis'}, {'name': 'injection site pruritus'}, {'name': 'injection site swelling'}, {'name': 'injection site reaction'}, {'name': 'arthralgia'}, {'name': 'joint swelling'}, {'name': 'injection site bruising'}, {'name': 'injection site warmth'}, {'name': 'psoriasis'}, {'name': 'pain'}, {'name': 'nasopharyngitis'}, {'name': 'pain in extremity'}, {'name': 'sinusitis'}, {'name': 'synovitis'}, {'name': 'injection site haemorrhage'}, {'name': 'injection site rash'}, {'name': 'treatment failure'}, {'name': 'arthropathy'}, {'name': 'musculoskeletal stiffness'}, {'name': 'mobility decreased'}, {'name': 'injection site urticaria'}, {'name': 'drug intolerance'}, {'name': 'pemphigus'}]}, {'chembl_id': 'CHEMBL:CHEMBL131', 'drugbank_id': 'DrugBank:DB00860', 'compound_cid': 'pubchem.compound:5755', 'compound_name': 'PREDNISOLONE', 'clincal_trial_phase': 4.0, 'is_approved': True, 'relation': 'treats', 'adverse_effect_count': 11.0, 'adverse_effect': [{'name': 'cytomegalovirus infection'}, {'name': 'pneumocystis jirovecii pneumonia'}, {'name': 'transplant rejection'}, {'name': 'febrile neutropenia'}, {'name': 'polyomavirus-associated nephropathy'}, {'name': 'post transplant lymphoproliferative disorder'}, {'name': 'nocardiosis'}, {'name': 'epstein-barr virus infection'}, {'name': 'cytomegalovirus viraemia'}, {'name': 'hepatitis e'}, {'name': 'bk virus infection'}]}, {'chembl_id': 'CHEMBL:CHEMBL1201581', 'drugbank_id': None, 'compound_cid': None, 'compound_name': 'INFLIXIMAB', 'clincal_trial_phase': 4.0, 'is_approved': True, 'relation': 'treats', 'adverse_effect_count': 48.0, 'adverse_effect': [{'name': 'infusion related reaction'}, {'name': 'rheumatoid arthritis'}, {'name': 'condition aggravated'}, {'name': 'systemic lupus erythematosus'}, {'name': \"crohn's disease\"}, {'name': 'pemphigus'}, {'name': 'blood pressure fluctuation'}, {'name': 'synovitis'}, {'name': 'drug intolerance'}, {'name': 'joint swelling'}, {'name': 'glossodynia'}, {'name': 'hand deformity'}, {'name': 'arthralgia'}, {'name': 'alopecia'}, {'name': 'treatment failure'}, {'name': 'arthropathy'}, {'name': 'anti-cyclic citrullinated peptide antibody positive'}, {'name': 'therapeutic product effect decreased'}, {'name': 'colitis ulcerative'}, {'name': 'lupus-like syndrome'}, {'name': 'abdominal discomfort'}, {'name': 'wound'}, {'name': 'pain'}, {'name': 'rheumatoid factor positive'}, {'name': 'pericarditis'}]}, {'chembl_id': 'CHEMBL:CHEMBL1201580', 'drugbank_id': None, 'compound_cid': None, 'compound_name': 'ADALIMUMAB', 'clincal_trial_phase': 4.0, 'is_approved': True, 'relation': 'treats', 'adverse_effect_count': 29.0, 'adverse_effect': [{'name': 'rheumatoid arthritis'}, {'name': 'synovitis'}, {'name': \"crohn's disease\"}, {'name': 'drug intolerance'}, {'name': 'joint swelling'}, {'name': 'systemic lupus erythematosus'}, {'name': 'pemphigus'}, {'name': 'therapeutic product effect decreased'}, {'name': 'arthropathy'}, {'name': 'treatment failure'}, {'name': 'hand deformity'}, {'name': 'arthralgia'}, {'name': 'pain'}, {'name': 'alopecia'}, {'name': 'glossodynia'}, {'name': 'anti-cyclic citrullinated peptide antibody positive'}, {'name': 'rheumatoid factor positive'}, {'name': 'abdominal discomfort'}, {'name': 'swelling'}, {'name': 'psoriasis'}, {'name': 'c-reactive protein abnormal'}, {'name': 'loss of personal independence in daily activities'}, {'name': 'wound'}, {'name': 'therapeutic product effect incomplete'}, {'name': 'infection'}]}, {'chembl_id': 'CHEMBL:CHEMBL3301607', 'drugbank_id': 'DrugBank:DB14845', 'compound_cid': 'pubchem.compound:49831257', 'compound_name': 'FILGOTINIB', 'clincal_trial_phase': 4.0, 'is_approved': True, 'relation': 'treats', 'adverse_effect_count': 29.0, 'adverse_effect': [{'name': 'rhesus antigen positive'}, {'name': 'blood immunoglobulin m decreased'}, {'name': 'blood albumin increased'}, {'name': 'immunoglobulins decreased'}, {'name': 'mean cell haemoglobin increased'}, {'name': 'blood immunoglobulin g decreased'}, {'name': 'red cell distribution width increased'}, {'name': 'protein urine present'}, {'name': 'dyslipidaemia'}, {'name': 'vitamin d decreased'}, {'name': 'osteopenia'}, {'name': 'glomerular filtration rate decreased'}, {'name': 'creatinine renal clearance decreased'}, {'name': 'blood potassium increased'}, {'name': 'haematocrit decreased'}, {'name': 'systemic lupus erythematosus'}, {'name': 'drug dependence'}, {'name': 'synovitis'}, {'name': 'atrial fibrillation'}, {'name': 'herpes zoster'}, {'name': 'blood creatinine increased'}, {'name': 'white blood cell count decreased'}, {'name': 'urinary tract infection'}, {'name': 'acute respiratory failure'}, {'name': 'covid-19 pneumonia'}]}, {'chembl_id': 'CHEMBL:CHEMBL521', 'drugbank_id': 'DrugBank:DB01050', 'compound_cid': 'pubchem.compound:3672', 'compound_name': 'IBUPROFEN', 'clincal_trial_phase': 4.0, 'is_approved': True, 'relation': 'treats', 'adverse_effect_count': 56.0, 'adverse_effect': [{'name': 'drug hypersensitivity'}, {'name': 'suicide attempt'}, {'name': 'toxicity to various agents'}, {'name': 'muscle injury'}, {'name': 'angioedema'}, {'name': 'anti-cyclic citrullinated peptide antibody positive'}, {'name': 'acute hepatic failure'}, {'name': 'duodenal ulcer perforation'}, {'name': 'folliculitis'}, {'name': 'metabolic acidosis'}, {'name': 'hand deformity'}, {'name': 'pemphigus'}, {'name': 'acute kidney injury'}, {'name': 'synovitis'}, {'name': 'irritable bowel syndrome'}, {'name': 'sleep disorder due to general medical condition, insomnia type'}, {'name': 'lower respiratory tract infection'}, {'name': 'joint swelling'}, {'name': 'glossodynia'}, {'name': 'pericarditis'}, {'name': 'helicobacter infection'}, {'name': 'hypersensitivity'}, {'name': 'therapeutic product effect decreased'}, {'name': 'haematemesis'}, {'name': 'swelling'}]}, {'chembl_id': 'CHEMBL:CHEMBL1200804', 'drugbank_id': None, 'compound_cid': 'pubchem.compound:23667642', 'compound_name': 'DICLOFENAC POTASSIUM', 'clincal_trial_phase': 4.0, 'is_approved': True, 'relation': 'treats', 'adverse_effect_count': 95.0, 'adverse_effect': [{'name': 'deafness transitory'}, {'name': 'rheumatoid arthritis'}, {'name': 'pharyngitis'}, {'name': 'abdominal discomfort'}, {'name': 'arthropathy'}, {'name': 'ear infection'}, {'name': 'gastrointestinal pain'}, {'name': 'synovitis'}, {'name': 'functional gastrointestinal disorder'}, {'name': 'hypophagia'}, {'name': 'pain'}, {'name': 'feeding disorder'}, {'name': 'deafness'}, {'name': 'helicobacter infection'}, {'name': 'swelling'}, {'name': 'rash'}, {'name': 'musculoskeletal disorder'}, {'name': 'treatment failure'}, {'name': 'hepatic enzyme increased'}, {'name': 'discomfort'}, {'name': 'rheumatoid factor positive'}, {'name': 'systemic lupus erythematosus'}, {'name': 'wound'}, {'name': 'decreased appetite'}, {'name': 'pemphigus'}]}]"
        ],
        [
         "3",
         "UMLS_C0003977",
         "UMLS",
         "EFO_0004259",
         "EFO",
         "[{'chembl_id': 'CHEMBL:CHEMBL1200733', 'drugbank_id': 'DrugBank:DB01189', 'compound_cid': 'pubchem.compound:42113', 'compound_name': 'DESFLURANE', 'clincal_trial_phase': 4.0, 'is_approved': True, 'relation': 'treats', 'adverse_effect_count': 89.0, 'adverse_effect': [{'name': 'hyperthermia malignant'}, {'name': 'post procedural complication'}, {'name': 'bradycardia'}, {'name': 'unwanted awareness during anaesthesia'}, {'name': 'cardiac arrest'}, {'name': 'anaphylactic shock'}, {'name': 'neuromuscular block prolonged'}, {'name': 'seizure like phenomena'}, {'name': 'delayed recovery from anaesthesia'}, {'name': 'bronchospasm'}, {'name': 'laryngospasm'}, {'name': 'anticholinergic syndrome'}, {'name': 'congenital anomaly'}, {'name': 'procedural vomiting'}, {'name': 'hypoventilation'}, {'name': 'end-tidal co2 increased'}, {'name': 'circulatory collapse'}, {'name': 'procedural nausea'}, {'name': 'oliguria'}, {'name': 'laryngeal stenosis'}, {'name': 'premature recovery from anaesthesia'}, {'name': 'extrasystoles'}, {'name': 'respiratory acidosis'}, {'name': 'tracheal injury'}, {'name': 'ventricular tachycardia'}]}, {'chembl_id': 'CHEMBL:CHEMBL628', 'drugbank_id': 'DrugBank:DB00806', 'compound_cid': 'pubchem.compound:4740', 'compound_name': 'PENTOXIFYLLINE', 'clincal_trial_phase': 4.0, 'is_approved': True, 'relation': 'treats', 'adverse_effect_count': 103.0, 'adverse_effect': [{'name': 'body tinea'}, {'name': 'glucose tolerance impaired'}, {'name': 'impaired quality of life'}, {'name': 'infection susceptibility increased'}, {'name': 'inhibitory drug interaction'}, {'name': 'purpura'}, {'name': 'cellulitis'}, {'name': 'peripheral ischaemia'}, {'name': 'pneumonia mycoplasmal'}, {'name': 'impaired work ability'}, {'name': 'pseudomonas infection'}, {'name': 'bone density decreased'}, {'name': 'poor quality sleep'}, {'name': 'klebsiella infection'}, {'name': 'extremity necrosis'}, {'name': 'deafness bilateral'}, {'name': 'pleural mass'}, {'name': 'peripheral artery occlusion'}, {'name': 'oral herpes'}, {'name': 'infantile apnoea'}, {'name': 'sepsis'}, {'name': \"cushing's syndrome\"}, {'name': 'hyperlipidaemia'}, {'name': 'radiotherapy to brain'}, {'name': 'bradycardia neonatal'}]}, {'chembl_id': 'CHEMBL:CHEMBL79', 'drugbank_id': 'DrugBank:DB00281', 'compound_cid': 'pubchem.compound:3676', 'compound_name': 'LIDOCAINE', 'clincal_trial_phase': 4.0, 'is_approved': True, 'relation': 'treats', 'adverse_effect_count': 28.0, 'adverse_effect': [{'name': 'methaemoglobinaemia'}, {'name': 'local anaesthetic systemic toxicity'}, {'name': 'anaphylactic shock'}, {'name': 'anaesthetic complication'}, {'name': 'cardiac arrest'}, {'name': 'toxicity to various agents'}, {'name': 'lagophthalmos'}, {'name': 'anaphylactic reaction'}, {'name': 'drug hypersensitivity'}, {'name': 'hypotension'}, {'name': 'bradycardia'}, {'name': 'toxic anterior segment syndrome'}, {'name': 'generalised tonic-clonic seizure'}, {'name': \"horner's syndrome\"}, {'name': 'unresponsive to stimuli'}, {'name': 'myopathy toxic'}, {'name': 'diarrhoea'}, {'name': 'ventricular tachycardia'}, {'name': 'pulseless electrical activity'}, {'name': 'neurotoxicity'}, {'name': 'tachycardia'}, {'name': 'convulsion'}, {'name': 'circulatory collapse'}, {'name': 'ophthalmoplegia'}, {'name': 'stress cardiomyopathy'}]}, {'chembl_id': 'CHEMBL:CHEMBL112', 'drugbank_id': 'DrugBank:DB00316', 'compound_cid': 'pubchem.compound:1983', 'compound_name': 'ACETAMINOPHEN', 'clincal_trial_phase': 4.0, 'is_approved': True, 'relation': 'treats', 'adverse_effect_count': 55.0, 'adverse_effect': [{'name': 'toxicity to various agents'}, {'name': 'acute hepatic failure'}, {'name': 'suicide attempt'}, {'name': 'hepatocellular injury'}, {'name': 'anti-cyclic citrullinated peptide antibody positive'}, {'name': 'poisoning deliberate'}, {'name': 'muscle injury'}, {'name': 'metabolic acidosis'}, {'name': 'hand deformity'}, {'name': 'pemphigus'}, {'name': 'liver injury'}, {'name': 'hepatic enzyme increased'}, {'name': 'coma'}, {'name': 'folliculitis'}, {'name': 'vomiting'}, {'name': 'lower respiratory tract infection'}, {'name': 'glossodynia'}, {'name': 'cholestasis'}, {'name': 'sleep disorder due to general medical condition, insomnia type'}, {'name': 'irritable bowel syndrome'}, {'name': 'pericarditis'}, {'name': 'duodenal ulcer perforation'}, {'name': 'joint swelling'}, {'name': 'synovitis'}, {'name': 'helicobacter infection'}]}, {'chembl_id': 'CHEMBL:CHEMBL1200694', 'drugbank_id': 'DrugBank:DB01236', 'compound_cid': 'pubchem.compound:5206', 'compound_name': 'SEVOFLURANE', 'clincal_trial_phase': 4.0, 'is_approved': True, 'relation': 'treats', 'adverse_effect_count': 81.0, 'adverse_effect': [{'name': 'anaesthetic complication neurological'}, {'name': 'unwanted awareness during anaesthesia'}, {'name': 'anaesthetic complication'}, {'name': 'hyperthermia malignant'}, {'name': 'cardiac arrest'}, {'name': 'delayed recovery from anaesthesia'}, {'name': 'low birth weight baby'}, {'name': 'hypotension'}, {'name': 'bradycardia'}, {'name': 'hyperthermia'}, {'name': 'anaphylactic shock'}, {'name': 'ventricular fibrillation'}, {'name': 'hepatorenal failure'}, {'name': 'oxygen saturation decreased'}, {'name': 'negative pressure pulmonary oedema'}, {'name': 'product tampering'}, {'name': 'ventricular tachycardia'}, {'name': 'bronchospasm'}, {'name': 'laryngospasm'}, {'name': 'tachycardia'}, {'name': 'fatigue'}, {'name': 'electroencephalogram abnormal'}, {'name': 'pco2 increased'}, {'name': 'hypercapnia'}, {'name': 'torsade de pointes'}]}, {'chembl_id': 'CHEMBL:CHEMBL526', 'drugbank_id': 'DrugBank:DB00818', 'compound_cid': 'pubchem.compound:4943', 'compound_name': 'PROPOFOL', 'clincal_trial_phase': 4.0, 'is_approved': True, 'relation': 'treats', 'adverse_effect_count': 54.0, 'adverse_effect': [{'name': 'anaphylactic shock'}, {'name': 'propofol infusion syndrome'}, {'name': 'hypotension'}, {'name': 'bronchospasm'}, {'name': 'anaphylactic reaction'}, {'name': 'hyperthermia malignant'}, {'name': 'cardiac arrest'}, {'name': 'delayed recovery from anaesthesia'}, {'name': 'oxygen saturation decreased'}, {'name': 'rhabdomyolysis'}, {'name': 'circulatory collapse'}, {'name': 'bradycardia'}, {'name': 'respiratory depression'}, {'name': 'post procedural complication'}, {'name': 'tachycardia'}, {'name': 'stress cardiomyopathy'}, {'name': 'diarrhoea'}, {'name': 'fatigue'}, {'name': 'haemodynamic instability'}, {'name': 'product contamination microbial'}, {'name': 'status epilepticus'}, {'name': 'ventricular fibrillation'}, {'name': 'anaesthetic complication'}, {'name': 'pulseless electrical activity'}, {'name': 'hypertriglyceridaemia'}]}, {'chembl_id': 'CHEMBL:CHEMBL1201219', 'drugbank_id': 'DrugBank:DB01339', 'compound_cid': 'pubchem.compound:39765', 'compound_name': 'VECURONIUM', 'clincal_trial_phase': 4.0, 'is_approved': True, 'relation': 'treats', 'adverse_effect_count': 27.0, 'adverse_effect': [{'name': 'feeding intolerance'}, {'name': 'hyperthermia malignant'}, {'name': 'post procedural complication'}, {'name': 'carcinoid crisis'}, {'name': 'bradycardia foetal'}, {'name': 'neuromuscular block prolonged'}, {'name': 'therapeutic product cross-reactivity'}, {'name': 'anaphylactic reaction'}, {'name': 'paralysis'}, {'name': 'vasoplegia syndrome'}, {'name': 'hypotension'}, {'name': 'cardiac arrest'}, {'name': 'wound infection'}, {'name': 'atelectasis'}, {'name': 'neonatal hypoxia'}, {'name': 'negative pressure pulmonary oedema'}, {'name': 'urinary retention'}, {'name': 'non-cardiogenic pulmonary oedema'}, {'name': 'product packaging confusion'}, {'name': 'premature baby'}, {'name': 'haemodynamic instability'}, {'name': 'nonreassuring foetal heart rate pattern'}, {'name': 'bradyarrhythmia'}, {'name': 'intervertebral discitis'}, {'name': 'drug resistance'}]}]"
        ],
        [
         "4",
         "UMLS_C0004936",
         "UMLS",
         "EFO_0000677",
         "EFO",
         "[{'chembl_id': 'CHEMBL:CHEMBL4105630', 'drugbank_id': 'DrugBank:DB15490', 'compound_cid': 'pubchem.compound:86294073', 'compound_name': 'ZURANOLONE', 'clincal_trial_phase': 4.0, 'is_approved': True, 'relation': 'treats', 'adverse_effect_count': 0.0, 'adverse_effect': {}}, {'chembl_id': 'CHEMBL:CHEMBL526', 'drugbank_id': 'DrugBank:DB00818', 'compound_cid': 'pubchem.compound:4943', 'compound_name': 'PROPOFOL', 'clincal_trial_phase': 4.0, 'is_approved': True, 'relation': 'treats', 'adverse_effect_count': 54.0, 'adverse_effect': [{'name': 'anaphylactic shock'}, {'name': 'propofol infusion syndrome'}, {'name': 'hypotension'}, {'name': 'bronchospasm'}, {'name': 'anaphylactic reaction'}, {'name': 'hyperthermia malignant'}, {'name': 'cardiac arrest'}, {'name': 'delayed recovery from anaesthesia'}, {'name': 'oxygen saturation decreased'}, {'name': 'rhabdomyolysis'}, {'name': 'circulatory collapse'}, {'name': 'bradycardia'}, {'name': 'respiratory depression'}, {'name': 'post procedural complication'}, {'name': 'tachycardia'}, {'name': 'stress cardiomyopathy'}, {'name': 'diarrhoea'}, {'name': 'fatigue'}, {'name': 'haemodynamic instability'}, {'name': 'product contamination microbial'}, {'name': 'status epilepticus'}, {'name': 'ventricular fibrillation'}, {'name': 'anaesthetic complication'}, {'name': 'pulseless electrical activity'}, {'name': 'hypertriglyceridaemia'}]}, {'chembl_id': 'CHEMBL:CHEMBL395091', 'drugbank_id': 'DrugBank:DB11823', 'compound_cid': 'pubchem.compound:182137', 'compound_name': 'ESKETAMINE', 'clincal_trial_phase': 4.0, 'is_approved': True, 'relation': 'treats', 'adverse_effect_count': 6.0, 'adverse_effect': [{'name': 'suicide attempt'}, {'name': 'suicidal ideation'}, {'name': 'depression'}, {'name': 'serotonin syndrome'}, {'name': 'dissociation'}, {'name': 'major depression'}]}, {'chembl_id': 'CHEMBL:CHEMBL1113', 'drugbank_id': 'DrugBank:DB00543', 'compound_cid': 'pubchem.compound:2170', 'compound_name': 'AMOXAPINE', 'clincal_trial_phase': 4.0, 'is_approved': True, 'relation': 'treats', 'adverse_effect_count': 28.0, 'adverse_effect': [{'name': 'coma'}, {'name': 'toxicity to various agents'}, {'name': 'hypoxia'}, {'name': 'somnolence'}, {'name': 'clonic convulsion'}, {'name': 'shock'}, {'name': 'suicide attempt'}, {'name': 'acute respiratory distress syndrome'}, {'name': 'tachypnoea'}, {'name': 'circulatory collapse'}, {'name': 'neuroleptic malignant syndrome'}, {'name': 'alanine aminotransferase increased'}, {'name': 'hyperglycaemic hyperosmolar nonketotic syndrome'}, {'name': 'cardiovascular insufficiency'}, {'name': 'ventricular fibrillation'}, {'name': 'parkinsonism'}, {'name': 'supraventricular tachycardia'}, {'name': 'erythema multiforme'}, {'name': 'aspartate aminotransferase increased'}, {'name': 'acute febrile neutrophilic dermatosis'}, {'name': 'blood caffeine increased'}, {'name': 'sinus tachycardia'}, {'name': 'blood lactate dehydrogenase increased'}, {'name': 'electrocardiogram qt prolonged'}, {'name': 'ventouse extraction'}]}, {'chembl_id': 'CHEMBL:CHEMBL1699', 'drugbank_id': None, 'compound_cid': 'pubchem.compound:181458', 'compound_name': 'MEMANTINE HYDROCHLORIDE', 'clincal_trial_phase': 4.0, 'is_approved': True, 'relation': 'treats', 'adverse_effect_count': 17.0, 'adverse_effect': [{'name': 'confusional state'}, {'name': 'agitation'}, {'name': 'aggression'}, {'name': 'fall'}, {'name': 'abnormal behaviour'}, {'name': 'myoclonus'}, {'name': 'somnolence'}, {'name': 'hallucination'}, {'name': \"dementia alzheimer's type\"}, {'name': 'convulsion'}, {'name': 'delirium'}, {'name': 'dementia'}, {'name': 'bradycardia'}, {'name': 'hallucination, visual'}, {'name': 'loss of consciousness'}, {'name': 'sedation'}, {'name': 'condition aggravated'}]}, {'chembl_id': 'CHEMBL:CHEMBL1201293', 'drugbank_id': 'DrugBank:DB00659', 'compound_cid': 'pubchem.compound:71158', 'compound_name': 'ACAMPROSATE', 'clincal_trial_phase': 4.0, 'is_approved': True, 'relation': 'treats', 'adverse_effect_count': 16.0, 'adverse_effect': [{'name': 'hypoventilation'}, {'name': 'cardiovascular disorder'}, {'name': 'ventricular fibrillation'}, {'name': 'electrocardiogram qt prolonged'}, {'name': 'hyperhidrosis'}, {'name': 'catatonia'}, {'name': 'neglect of personal appearance'}, {'name': 'delirium'}, {'name': 'malaise'}, {'name': 'hepatitis toxic'}, {'name': 'deafness neurosensory'}, {'name': 'alcoholism'}, {'name': 'bladder dilatation'}, {'name': 'pemphigoid'}, {'name': 'miosis'}, {'name': 'asthenia'}]}, {'chembl_id': 'CHEMBL:CHEMBL2068724', 'drugbank_id': None, 'compound_cid': 'pubchem.compound:155434', 'compound_name': 'ACAMPROSATE CALCIUM', 'clincal_trial_phase': 4.0, 'is_approved': True, 'relation': 'treats', 'adverse_effect_count': 35.0, 'adverse_effect': [{'name': 'foetal alcohol syndrome'}, {'name': 'drug screen false positive'}, {'name': 'psychomotor skills impaired'}, {'name': 'hypertrophic cardiomyopathy'}, {'name': 'drug abuse'}, {'name': 'anorgasmia'}, {'name': 'self injurious behaviour'}, {'name': 'drug screen positive'}, {'name': 'deep vein thrombosis'}, {'name': 'amnesia'}, {'name': 'delirium tremens'}, {'name': 'pulmonary eosinophilia'}, {'name': 'flight of ideas'}, {'name': 'alcoholism'}, {'name': 'ammonia increased'}, {'name': 'imprisonment'}, {'name': 'grand mal convulsion'}, {'name': 'negativism'}, {'name': 'alcohol withdrawal syndrome'}, {'name': 'depressed level of consciousness'}, {'name': 'cytolytic hepatitis'}, {'name': 'urinary retention'}, {'name': 'electrolyte substitution therapy'}, {'name': 'somnolence'}, {'name': 'suicide attempt'}]}, {'chembl_id': 'CHEMBL:CHEMBL580', 'drugbank_id': 'DrugBank:DB00186', 'compound_cid': 'pubchem.compound:3958', 'compound_name': 'LORAZEPAM', 'clincal_trial_phase': 4.0, 'is_approved': True, 'relation': 'treats', 'adverse_effect_count': 39.0, 'adverse_effect': [{'name': 'drug abuse'}, {'name': 'sopor'}, {'name': 'somnolence'}, {'name': 'suicide attempt'}, {'name': 'coma'}, {'name': 'delirium'}, {'name': 'agitation'}, {'name': 'confusional state'}, {'name': 'pneumonia aspiration'}, {'name': 'sedation'}, {'name': 'bradyphrenia'}, {'name': 'toxicity to various agents'}, {'name': 'fall'}, {'name': 'drug dependence'}, {'name': 'catatonia'}, {'name': 'neuroleptic malignant syndrome'}, {'name': 'depressed level of consciousness'}, {'name': 'tachycardia'}, {'name': 'respiratory depression'}, {'name': 'drug withdrawal syndrome'}, {'name': 'loss of consciousness'}, {'name': 'dysarthria'}, {'name': 'aggression'}, {'name': 'disorientation'}, {'name': 'speech disorder'}]}, {'chembl_id': 'CHEMBL:CHEMBL1200826', 'drugbank_id': 'DrugBank:DB14509', 'compound_cid': 'pubchem.compound:11125', 'compound_name': 'LITHIUM CARBONATE', 'clincal_trial_phase': 4.0, 'is_approved': True, 'relation': 'treats', 'adverse_effect_count': 91.0, 'adverse_effect': [{'name': 'toxicity to various agents'}, {'name': 'therapeutic agent toxicity'}, {'name': 'nephrogenic diabetes insipidus'}, {'name': 'tremor'}, {'name': 'therapeutic product effect variable'}, {'name': 'hyperparathyroidism'}, {'name': 'neuroleptic malignant syndrome'}, {'name': 'disinhibition'}, {'name': 'obsessive-compulsive disorder'}, {'name': 'suicide attempt'}, {'name': 'akathisia'}, {'name': 'euphoric mood'}, {'name': 'drug interaction'}, {'name': 'confusional state'}, {'name': 'ataxia'}, {'name': 'increased appetite'}, {'name': 'mania'}, {'name': 'mental status changes'}, {'name': 'dysarthria'}, {'name': 'weight increased'}, {'name': 'diabetes insipidus'}, {'name': 'neurotoxicity'}, {'name': 'parkinsonism'}, {'name': 'renal failure acute'}, {'name': 'disorientation'}]}, {'chembl_id': 'CHEMBL:CHEMBL1068', 'drugbank_id': 'DrugBank:DB00776', 'compound_cid': 'pubchem.compound:34312', 'compound_name': 'OXCARBAZEPINE', 'clincal_trial_phase': 4.0, 'is_approved': True, 'relation': 'treats', 'adverse_effect_count': 22.0, 'adverse_effect': [{'name': 'hyponatraemia'}, {'name': 'convulsion'}, {'name': 'seizure'}, {'name': 'epilepsy'}, {'name': 'abortion spontaneous'}, {'name': 'somnolence'}, {'name': 'stevens-johnson syndrome'}, {'name': 'diplopia'}, {'name': 'blood sodium decreased'}, {'name': 'petit mal epilepsy'}, {'name': 'multiple-drug resistance'}, {'name': 'ataxia'}, {'name': 'status epilepticus'}, {'name': 'nystagmus'}, {'name': 'aggression'}, {'name': 'drug interaction'}, {'name': 'grand mal convulsion'}, {'name': 'myoclonic epilepsy'}, {'name': 'partial seizures'}, {'name': 'generalised tonic-clonic seizure'}, {'name': 'drug reaction with eosinophilia and systemic symptoms'}, {'name': 'hypochloraemia'}]}, {'chembl_id': 'CHEMBL:CHEMBL1112', 'drugbank_id': 'DrugBank:DB01238', 'compound_cid': 'pubchem.compound:60795', 'compound_name': 'ARIPIPRAZOLE', 'clincal_trial_phase': 4.0, 'is_approved': True, 'relation': 'treats', 'adverse_effect_count': 38.0, 'adverse_effect': [{'name': 'akathisia'}, {'name': 'tardive dyskinesia'}, {'name': 'dystonia'}, {'name': 'extrapyramidal disorder'}, {'name': 'neuroleptic malignant syndrome'}, {'name': 'psychotic disorder'}, {'name': 'weight increased'}, {'name': 'sedation'}, {'name': 'schizophrenia'}, {'name': 'suicide attempt'}, {'name': 'dyskinesia'}, {'name': 'parkinsonism'}, {'name': 'blood prolactin abnormal'}, {'name': 'delusion'}, {'name': 'anosognosia'}, {'name': 'gambling disorder'}, {'name': 'sexual dysfunction'}, {'name': 'mania'}, {'name': 'disturbance in social behaviour'}, {'name': 'hallucination, auditory'}, {'name': 'suicidal ideation'}, {'name': 'restlessness'}, {'name': 'metabolic disorder'}, {'name': 'aggression'}, {'name': 'tremor'}]}, {'chembl_id': 'CHEMBL:CHEMBL661', 'drugbank_id': 'DrugBank:DB00404', 'compound_cid': 'pubchem.compound:2118', 'compound_name': 'ALPRAZOLAM', 'clincal_trial_phase': 4.0, 'is_approved': True, 'relation': 'treats', 'adverse_effect_count': 35.0, 'adverse_effect': [{'name': 'drug abuse'}, {'name': 'sopor'}, {'name': 'suicide attempt'}, {'name': 'coma'}, {'name': 'toxicity to various agents'}, {'name': 'somnolence'}, {'name': 'poisoning deliberate'}, {'name': 'drug dependence'}, {'name': 'bradyphrenia'}, {'name': 'confusional state'}, {'name': 'prescription form tampering'}, {'name': 'drug use disorder'}, {'name': 'withdrawal syndrome'}, {'name': 'substance abuse'}, {'name': 'depressed level of consciousness'}, {'name': 'miosis'}, {'name': 'agitation'}, {'name': 'mydriasis'}, {'name': 'poisoning'}, {'name': 'altered state of consciousness'}, {'name': 'bradypnoea'}, {'name': 'pneumonia aspiration'}, {'name': 'loss of consciousness'}, {'name': 'hypotension'}, {'name': 'anxiety'}]}, {'chembl_id': 'CHEMBL:CHEMBL2', 'drugbank_id': 'DrugBank:DB00457', 'compound_cid': 'pubchem.compound:4893', 'compound_name': 'PRAZOSIN', 'clincal_trial_phase': 4.0, 'is_approved': True, 'relation': 'treats', 'adverse_effect_count': 56.0, 'adverse_effect': [{'name': 'hypotension'}, {'name': 'atrioventricular block first degree'}, {'name': 'sinus bradycardia'}, {'name': 'priapism'}, {'name': 'acute respiratory distress syndrome'}, {'name': 'aspiration'}, {'name': 'vasoplegia syndrome'}, {'name': 'cardiac hypertrophy'}, {'name': 'norepinephrine increased'}, {'name': 'hypertrichosis'}, {'name': 'hyperlactacidaemia'}, {'name': 'metabolic acidosis'}, {'name': 'electrocardiogram qt prolonged'}, {'name': 'circulatory collapse'}, {'name': 'low birth weight baby'}, {'name': 'shock'}, {'name': 'depressed level of consciousness'}, {'name': 'electrocardiogram qrs complex shortened'}, {'name': 'premature baby'}, {'name': 'unresponsive to stimuli'}, {'name': 'cardiogenic shock'}, {'name': 'coma scale abnormal'}, {'name': 'toxicity to various agents'}, {'name': 'syncope'}, {'name': 'serotonin syndrome'}]}, {'chembl_id': 'CHEMBL:CHEMBL490', 'drugbank_id': 'DrugBank:DB00715', 'compound_cid': 'pubchem.compound:43815', 'compound_name': 'PAROXETINE', 'clincal_trial_phase': 4.0, 'is_approved': True, 'relation': 'treats', 'adverse_effect_count': 65.0, 'adverse_effect': [{'name': 'atrial septal defect'}, {'name': 'drug withdrawal syndrome'}, {'name': 'ventricular septal defect'}, {'name': 'patent ductus arteriosus'}, {'name': 'serotonin syndrome'}, {'name': 'suicide attempt'}, {'name': 'cardiac murmur'}, {'name': 'suicidal ideation'}, {'name': 'drug abuse'}, {'name': 'anxiety'}, {'name': 'heart disease congenital'}, {'name': 'aggression'}, {'name': 'agitation'}, {'name': 'congenital anomaly'}, {'name': 'hyponatraemia'}, {'name': 'pulmonary valve stenosis'}, {'name': 'multiple congenital abnormalities'}, {'name': 'tremor'}, {'name': 'sopor'}, {'name': 'confusional state'}, {'name': 'irritability'}, {'name': 'talipes'}, {'name': 'coarctation of the aorta'}, {'name': 'depression'}, {'name': 'somnolence'}]}, {'chembl_id': 'CHEMBL:CHEMBL1201156', 'drugbank_id': None, 'compound_cid': 'pubchem.compound:441358', 'compound_name': 'NORTRIPTYLINE HYDROCHLORIDE', 'clincal_trial_phase': 4.0, 'is_approved': True, 'relation': 'treats', 'adverse_effect_count': 72.0, 'adverse_effect': [{'name': 'pneumonia aspiration'}, {'name': 'coma'}, {'name': 'gastrooesophageal reflux disease'}, {'name': 'somnolence'}, {'name': 'temperature regulation disorder'}, {'name': 'drug hypersensitivity'}, {'name': 'suicidal ideation'}, {'name': 'food allergy'}, {'name': 'coeliac disease'}, {'name': 'immunodeficiency'}, {'name': 'bursitis'}, {'name': 'presbyacusis'}, {'name': 'pleural thickening'}, {'name': 'blood magnesium increased'}, {'name': 'fluid retention'}, {'name': 'pleural fibrosis'}, {'name': 'deafness neurosensory'}, {'name': 'rash erythematous'}, {'name': 'rheumatoid arthritis'}, {'name': 'hypersensitivity'}, {'name': 'upper respiratory tract infection'}, {'name': 'hepatic enzyme increased'}, {'name': 'bone cyst'}, {'name': 'brugada syndrome'}, {'name': 'hyperhidrosis'}]}, {'chembl_id': 'CHEMBL:CHEMBL56564', 'drugbank_id': 'DrugBank:DB11699', 'compound_cid': 'pubchem.compound:656665', 'compound_name': 'TROPISETRON', 'clincal_trial_phase': 4.0, 'is_approved': True, 'relation': 'treats', 'adverse_effect_count': 11.0, 'adverse_effect': [{'name': 'tongue neoplasm malignant stage unspecified'}, {'name': 'hysterectomy'}, {'name': 'toxic epidermal necrolysis'}, {'name': 'pyrexia'}, {'name': 'petechiae'}, {'name': 'stevens-johnson syndrome'}, {'name': 'rash macular'}, {'name': 'blister'}, {'name': 'bladder tamponade'}, {'name': 'bone marrow failure'}, {'name': 'erythema'}]}, {'chembl_id': 'CHEMBL:CHEMBL207538', 'drugbank_id': 'DrugBank:DB11859', 'compound_cid': 'pubchem.compound:92786', 'compound_name': 'BREXANOLONE', 'clincal_trial_phase': 4.0, 'is_approved': True, 'relation': 'treats', 'adverse_effect_count': 4.0, 'adverse_effect': [{'name': 'anxiety'}, {'name': 'perinatal depression'}, {'name': 'feeling guilty'}, {'name': 'infusion site pain'}]}, {'chembl_id': 'CHEMBL:CHEMBL81', 'drugbank_id': 'DrugBank:DB00481', 'compound_cid': 'pubchem.compound:5035', 'compound_name': 'RALOXIFENE', 'clincal_trial_phase': 4.0, 'is_approved': True, 'relation': 'treats', 'adverse_effect_count': 31.0, 'adverse_effect': [{'name': 'breast cancer'}, {'name': 'endometrial cancer'}, {'name': 'deep vein thrombosis'}, {'name': 'pulmonary embolism'}, {'name': 'bone density decreased'}, {'name': 'retinal vein thrombosis'}, {'name': 'fracture'}, {'name': 'hip fracture'}, {'name': 'breast cancer female'}, {'name': 'spinal compression fracture'}, {'name': 'retinal vein occlusion'}, {'name': 'thoracic vertebral fracture'}, {'name': 'spinal fracture'}, {'name': 'body height decreased'}, {'name': 'breast cancer in situ'}, {'name': 'lumbar vertebral fracture'}, {'name': 'cerebral infarction'}, {'name': 'pelvic fracture'}, {'name': 'muscle cramp'}, {'name': 'femur fracture'}, {'name': 'uterine cancer'}, {'name': 'oestrogen receptor assay positive'}, {'name': 'endometrial cancer stage i'}, {'name': 'compression fracture'}, {'name': 'transient ischaemic attack'}]}, {'chembl_id': 'CHEMBL:CHEMBL71', 'drugbank_id': 'DrugBank:DB00477', 'compound_cid': 'pubchem.compound:2726', 'compound_name': 'CHLORPROMAZINE', 'clincal_trial_phase': 4.0, 'is_approved': True, 'relation': 'treats', 'adverse_effect_count': 89.0, 'adverse_effect': [{'name': 'neuroleptic malignant syndrome'}, {'name': 'catatonia'}, {'name': 'sedation'}, {'name': 'aggression'}, {'name': 'decreased eye contact'}, {'name': 'oppositional defiant disorder'}, {'name': 'emotional poverty'}, {'name': \"sydenham's chorea\"}, {'name': 'suicide attempt'}, {'name': 'sopor'}, {'name': 'parkinsonism'}, {'name': 'psychomotor hyperactivity'}, {'name': 'coma'}, {'name': 'homicidal ideation'}, {'name': 'foetal disorder'}, {'name': 'drug withdrawal syndrome neonatal'}, {'name': 'drug abuse'}, {'name': 'agitation'}, {'name': 'tardive dyskinesia'}, {'name': 'electrocardiogram qt prolonged'}, {'name': 'dyskinesia'}, {'name': 'bruxism'}, {'name': 'extrapyramidal disorder'}, {'name': 'premature baby'}, {'name': 'somnolence'}]}]"
        ]
       ],
       "shape": {
        "columns": 5,
        "rows": 5
       }
      },
      "text/html": [
       "<div>\n",
       "<style scoped>\n",
       "    .dataframe tbody tr th:only-of-type {\n",
       "        vertical-align: middle;\n",
       "    }\n",
       "\n",
       "    .dataframe tbody tr th {\n",
       "        vertical-align: top;\n",
       "    }\n",
       "\n",
       "    .dataframe thead th {\n",
       "        text-align: right;\n",
       "    }\n",
       "</style>\n",
       "<table border=\"1\" class=\"dataframe\">\n",
       "  <thead>\n",
       "    <tr style=\"text-align: right;\">\n",
       "      <th></th>\n",
       "      <th>identifier</th>\n",
       "      <th>identifier.source</th>\n",
       "      <th>target</th>\n",
       "      <th>target.source</th>\n",
       "      <th>OpenTargets_disease_compounds</th>\n",
       "    </tr>\n",
       "  </thead>\n",
       "  <tbody>\n",
       "    <tr>\n",
       "      <th>0</th>\n",
       "      <td>UMLS_C0001175</td>\n",
       "      <td>UMLS</td>\n",
       "      <td>EFO_0000765</td>\n",
       "      <td>EFO</td>\n",
       "      <td>[{'chembl_id': 'CHEMBL:CHEMBL704', 'drugbank_i...</td>\n",
       "    </tr>\n",
       "    <tr>\n",
       "      <th>1</th>\n",
       "      <td>UMLS_C0002103</td>\n",
       "      <td>UMLS</td>\n",
       "      <td>EFO_0005854</td>\n",
       "      <td>EFO</td>\n",
       "      <td>[{'chembl_id': 'CHEMBL:CHEMBL1201353', 'drugba...</td>\n",
       "    </tr>\n",
       "    <tr>\n",
       "      <th>2</th>\n",
       "      <td>UMLS_C0003873</td>\n",
       "      <td>UMLS</td>\n",
       "      <td>EFO_0000685</td>\n",
       "      <td>EFO</td>\n",
       "      <td>[{'chembl_id': 'CHEMBL:CHEMBL2103743', 'drugba...</td>\n",
       "    </tr>\n",
       "    <tr>\n",
       "      <th>3</th>\n",
       "      <td>UMLS_C0003977</td>\n",
       "      <td>UMLS</td>\n",
       "      <td>EFO_0004259</td>\n",
       "      <td>EFO</td>\n",
       "      <td>[{'chembl_id': 'CHEMBL:CHEMBL1200733', 'drugba...</td>\n",
       "    </tr>\n",
       "    <tr>\n",
       "      <th>4</th>\n",
       "      <td>UMLS_C0004936</td>\n",
       "      <td>UMLS</td>\n",
       "      <td>EFO_0000677</td>\n",
       "      <td>EFO</td>\n",
       "      <td>[{'chembl_id': 'CHEMBL:CHEMBL4105630', 'drugba...</td>\n",
       "    </tr>\n",
       "  </tbody>\n",
       "</table>\n",
       "</div>"
      ],
      "text/plain": [
       "      identifier identifier.source       target target.source  \\\n",
       "0  UMLS_C0001175              UMLS  EFO_0000765           EFO   \n",
       "1  UMLS_C0002103              UMLS  EFO_0005854           EFO   \n",
       "2  UMLS_C0003873              UMLS  EFO_0000685           EFO   \n",
       "3  UMLS_C0003977              UMLS  EFO_0004259           EFO   \n",
       "4  UMLS_C0004936              UMLS  EFO_0000677           EFO   \n",
       "\n",
       "                       OpenTargets_disease_compounds  \n",
       "0  [{'chembl_id': 'CHEMBL:CHEMBL704', 'drugbank_i...  \n",
       "1  [{'chembl_id': 'CHEMBL:CHEMBL1201353', 'drugba...  \n",
       "2  [{'chembl_id': 'CHEMBL:CHEMBL2103743', 'drugba...  \n",
       "3  [{'chembl_id': 'CHEMBL:CHEMBL1200733', 'drugba...  \n",
       "4  [{'chembl_id': 'CHEMBL:CHEMBL4105630', 'drugba...  "
      ]
     },
     "execution_count": 15,
     "metadata": {},
     "output_type": "execute_result"
    }
   ],
   "source": [
    "(\n",
    "    opentargets_disease_compound_df,\n",
    "    opentargets_disease_compound_metadata,\n",
    ") = opentargets.get_disease_compound_interactions(disease_mapping_df)\n",
    "opentargets_disease_compound_df.head()"
   ]
  },
  {
   "cell_type": "code",
   "execution_count": 16,
   "metadata": {},
   "outputs": [
    {
     "data": {
      "text/plain": [
       "[{'chembl_id': 'CHEMBL:CHEMBL704',\n",
       "  'drugbank_id': 'DrugBank:DB00244',\n",
       "  'compound_cid': 'pubchem.compound:4075',\n",
       "  'compound_name': 'MESALAMINE',\n",
       "  'clincal_trial_phase': 4.0,\n",
       "  'is_approved': True,\n",
       "  'relation': 'treats',\n",
       "  'adverse_effect_count': 37.0,\n",
       "  'adverse_effect': [{'name': 'colitis ulcerative'},\n",
       "   {'name': 'haematochezia'},\n",
       "   {'name': 'colitis'},\n",
       "   {'name': 'frequent bowel movements'},\n",
       "   {'name': \"crohn's disease\"},\n",
       "   {'name': 'myocarditis'},\n",
       "   {'name': 'macular degeneration'},\n",
       "   {'name': 'condition aggravated'},\n",
       "   {'name': 'abdominal pain'},\n",
       "   {'name': 'diarrhoea haemorrhagic'},\n",
       "   {'name': 'pancreatitis'},\n",
       "   {'name': 'weight decreased'},\n",
       "   {'name': 'pyrexia'},\n",
       "   {'name': 'pancreatitis acute'},\n",
       "   {'name': 'pericarditis'},\n",
       "   {'name': 'tubulointerstitial nephritis'},\n",
       "   {'name': 'diarrhoea'},\n",
       "   {'name': 'drug intolerance'},\n",
       "   {'name': 'rectal haemorrhage'},\n",
       "   {'name': 'vitamin d deficiency'},\n",
       "   {'name': 'impaired quality of life'},\n",
       "   {'name': 'mucous stools'},\n",
       "   {'name': 'drug hypersensitivity'},\n",
       "   {'name': 'product residue present'},\n",
       "   {'name': 'therapeutic product effect decreased'}]},\n",
       " {'chembl_id': 'CHEMBL:CHEMBL2108184',\n",
       "  'drugbank_id': None,\n",
       "  'compound_cid': None,\n",
       "  'compound_name': 'CROFELEMER',\n",
       "  'clincal_trial_phase': 4.0,\n",
       "  'is_approved': True,\n",
       "  'relation': 'treats',\n",
       "  'adverse_effect_count': 0.0,\n",
       "  'adverse_effect': {}},\n",
       " {'chembl_id': 'CHEMBL:CHEMBL163',\n",
       "  'drugbank_id': 'DrugBank:DB00503',\n",
       "  'compound_cid': 'pubchem.compound:392622',\n",
       "  'compound_name': 'RITONAVIR',\n",
       "  'clincal_trial_phase': 4.0,\n",
       "  'is_approved': True,\n",
       "  'relation': 'treats',\n",
       "  'adverse_effect_count': 27.0,\n",
       "  'adverse_effect': [{'name': 'virologic failure'},\n",
       "   {'name': 'lipodystrophy acquired'},\n",
       "   {'name': 'abortion spontaneous'},\n",
       "   {'name': 'premature baby'},\n",
       "   {'name': 'drug interaction'},\n",
       "   {'name': 'hyperbilirubinaemia'},\n",
       "   {'name': \"cushing's syndrome\"},\n",
       "   {'name': 'stillbirth'},\n",
       "   {'name': 'mitochondrial toxicity'},\n",
       "   {'name': 'live birth'},\n",
       "   {'name': 'immune reconstitution syndrome'},\n",
       "   {'name': 'abortion induced'},\n",
       "   {'name': 'premature delivery'},\n",
       "   {'name': 'jaundice'},\n",
       "   {'name': 'immune reconstitution inflammatory syndrome'},\n",
       "   {'name': 'drug resistance'},\n",
       "   {'name': 'blood bilirubin increased'},\n",
       "   {'name': 'progressive external ophthalmoplegia'},\n",
       "   {'name': 'hypertriglyceridaemia'},\n",
       "   {'name': 'renal colic'},\n",
       "   {'name': 'low birth weight baby'},\n",
       "   {'name': 'viral load increased'},\n",
       "   {'name': 'renal tubular disorder'},\n",
       "   {'name': 'foetal death'},\n",
       "   {'name': 'viral mutation identified'}]},\n",
       " {'chembl_id': 'CHEMBL:CHEMBL691',\n",
       "  'drugbank_id': 'DrugBank:DB00977',\n",
       "  'compound_cid': 'pubchem.compound:5991',\n",
       "  'compound_name': 'ETHINYL ESTRADIOL',\n",
       "  'clincal_trial_phase': 4.0,\n",
       "  'is_approved': True,\n",
       "  'relation': 'treats',\n",
       "  'adverse_effect_count': 56.0,\n",
       "  'adverse_effect': [{'name': 'pulmonary embolism'},\n",
       "   {'name': 'metrorrhagia'},\n",
       "   {'name': 'unintended pregnancy'},\n",
       "   {'name': 'deep vein thrombosis'},\n",
       "   {'name': 'pregnancy with contraceptive device'},\n",
       "   {'name': 'menorrhagia'},\n",
       "   {'name': 'abnormal withdrawal bleeding'},\n",
       "   {'name': 'vulvovaginal discomfort'},\n",
       "   {'name': 'vaginal haemorrhage'},\n",
       "   {'name': 'vaginal discharge'},\n",
       "   {'name': 'medical device site discomfort'},\n",
       "   {'name': 'intentional medical device removal by patient'},\n",
       "   {'name': 'dysmenorrhoea'},\n",
       "   {'name': 'hypercoagulation'},\n",
       "   {'name': 'menstruation delayed'},\n",
       "   {'name': 'menstruation irregular'},\n",
       "   {'name': 'migraine'},\n",
       "   {'name': 'withdrawal bleed'},\n",
       "   {'name': 'abortion induced'},\n",
       "   {'name': 'incorrect product administration duration'},\n",
       "   {'name': 'pulmonary infarction'},\n",
       "   {'name': 'intracranial venous sinus thrombosis'},\n",
       "   {'name': 'vena cava filter insertion'},\n",
       "   {'name': 'product shape issue'},\n",
       "   {'name': 'menstrual disorder'}]},\n",
       " {'chembl_id': 'CHEMBL:CHEMBL1520',\n",
       "  'drugbank_id': 'DrugBank:DB00862',\n",
       "  'compound_cid': 'pubchem.compound:135400189',\n",
       "  'compound_name': 'VARDENAFIL',\n",
       "  'clincal_trial_phase': 4.0,\n",
       "  'is_approved': True,\n",
       "  'relation': 'treats',\n",
       "  'adverse_effect_count': 44.0,\n",
       "  'adverse_effect': [{'name': 'erectile dysfunction'},\n",
       "   {'name': 'drug use for unknown indication'},\n",
       "   {'name': 'erection increased'},\n",
       "   {'name': 'flushing'},\n",
       "   {'name': 'nasal congestion'},\n",
       "   {'name': 'headache'},\n",
       "   {'name': 'visual disturbance'},\n",
       "   {'name': 'optic ischaemic neuropathy'},\n",
       "   {'name': 'cyanopsia'},\n",
       "   {'name': 'penis disorder'},\n",
       "   {'name': 'blindness unilateral'},\n",
       "   {'name': 'priapism'},\n",
       "   {'name': 'blindness transient'},\n",
       "   {'name': 'vision blurred'},\n",
       "   {'name': 'deafness unilateral'},\n",
       "   {'name': 'anorgasmia'},\n",
       "   {'name': 'ejaculation disorder'},\n",
       "   {'name': 'spontaneous penile erection'},\n",
       "   {'name': 'penile pain'},\n",
       "   {'name': 'fatigue'},\n",
       "   {'name': 'visual field defect'},\n",
       "   {'name': 'ejaculation failure'},\n",
       "   {'name': 'chromatopsia'},\n",
       "   {'name': 'visual acuity reduced'},\n",
       "   {'name': 'tinnitus'}]},\n",
       " {'chembl_id': 'CHEMBL:CHEMBL1201187',\n",
       "  'drugbank_id': 'DrugBank:DB04835',\n",
       "  'compound_cid': 'pubchem.compound:3002977',\n",
       "  'compound_name': 'MARAVIROC',\n",
       "  'clincal_trial_phase': 4.0,\n",
       "  'is_approved': True,\n",
       "  'relation': 'treats',\n",
       "  'adverse_effect_count': 39.0,\n",
       "  'adverse_effect': [{'name': 'virologic failure'},\n",
       "   {'name': 'viral mutation identified'},\n",
       "   {'name': \"hodgkin's disease\"},\n",
       "   {'name': 'viral load increased'},\n",
       "   {'name': 'drug resistance'},\n",
       "   {'name': 'lipodystrophy acquired'},\n",
       "   {'name': 'pathogen resistance'},\n",
       "   {'name': 'csf test abnormal'},\n",
       "   {'name': 'hyperbilirubinaemia'},\n",
       "   {'name': 'blood hiv rna increased'},\n",
       "   {'name': 'generalised anxiety disorder'},\n",
       "   {'name': 'enanthema'},\n",
       "   {'name': 'anogenital dysplasia'},\n",
       "   {'name': 'live birth'},\n",
       "   {'name': 'anal cancer'},\n",
       "   {'name': 'congenital renal disorder'},\n",
       "   {'name': 'kidney enlargement'},\n",
       "   {'name': 'lung squamous cell carcinoma stage unspecified'},\n",
       "   {'name': 'seborrhoeic dermatitis'},\n",
       "   {'name': 'social avoidant behaviour'},\n",
       "   {'name': \"kaposi's sarcoma\"},\n",
       "   {'name': 'congenital vesicoureteric reflux'},\n",
       "   {'name': 'congenital ureteric anomaly'},\n",
       "   {'name': 'pain'},\n",
       "   {'name': 'rash generalised'}]},\n",
       " {'chembl_id': 'CHEMBL:CHEMBL1389',\n",
       "  'drugbank_id': 'DrugBank:DB00367',\n",
       "  'compound_cid': 'pubchem.compound:13109',\n",
       "  'compound_name': 'LEVONORGESTREL',\n",
       "  'clincal_trial_phase': 4.0,\n",
       "  'is_approved': True,\n",
       "  'relation': 'treats',\n",
       "  'adverse_effect_count': 62.0,\n",
       "  'adverse_effect': [{'name': 'intra-uterine contraceptive device expelled'},\n",
       "   {'name': 'genital haemorrhage'},\n",
       "   {'name': 'uterine perforation'},\n",
       "   {'name': 'pregnancy with contraceptive device'},\n",
       "   {'name': 'abdominal pain lower'},\n",
       "   {'name': 'procedural pain'},\n",
       "   {'name': 'vaginal haemorrhage'},\n",
       "   {'name': 'iucd complication'},\n",
       "   {'name': 'pelvic pain'},\n",
       "   {'name': 'injury'},\n",
       "   {'name': 'uterine rupture'},\n",
       "   {'name': 'menorrhagia'},\n",
       "   {'name': 'amenorrhoea'},\n",
       "   {'name': 'device use issue'},\n",
       "   {'name': 'post procedural discomfort'},\n",
       "   {'name': 'medical device pain'},\n",
       "   {'name': 'iud migration'},\n",
       "   {'name': 'emotional distress'},\n",
       "   {'name': 'dyspareunia'},\n",
       "   {'name': 'abdominal pain'},\n",
       "   {'name': 'post procedural haemorrhage'},\n",
       "   {'name': 'ovarian cyst'},\n",
       "   {'name': 'vaginal discharge'},\n",
       "   {'name': 'penile pain'},\n",
       "   {'name': 'diarrhoea'}]},\n",
       " {'chembl_id': 'CHEMBL:CHEMBL1201139',\n",
       "  'drugbank_id': 'DrugBank:DB00351',\n",
       "  'compound_cid': 'pubchem.compound:11683',\n",
       "  'compound_name': 'MEGESTROL ACETATE',\n",
       "  'clincal_trial_phase': 4.0,\n",
       "  'is_approved': True,\n",
       "  'relation': 'treats',\n",
       "  'adverse_effect_count': 41.0,\n",
       "  'adverse_effect': [{'name': \"dementia alzheimer's type\"},\n",
       "   {'name': 'deep vein thrombosis'},\n",
       "   {'name': 'adrenal insufficiency'},\n",
       "   {'name': 'pulmonary embolism'},\n",
       "   {'name': 'meningioma'},\n",
       "   {'name': 'malignant neoplasm progression'},\n",
       "   {'name': 'breast cancer metastatic'},\n",
       "   {'name': 'metastases to liver'},\n",
       "   {'name': 'blood cortisol decreased'},\n",
       "   {'name': 'failure to thrive'},\n",
       "   {'name': 'blood chloride decreased'},\n",
       "   {'name': 'oestrogen receptor assay positive'},\n",
       "   {'name': 'androgen deficiency'},\n",
       "   {'name': 'pik3ca-activated mutation'},\n",
       "   {'name': 'blood testosterone decreased'},\n",
       "   {'name': 'listless'},\n",
       "   {'name': 'monocyte count decreased'},\n",
       "   {'name': 'invasive lobular breast carcinoma'},\n",
       "   {'name': 'secondary adrenocortical insufficiency'},\n",
       "   {'name': 'metastases to lung'},\n",
       "   {'name': \"addison's disease\"},\n",
       "   {'name': 'haematocrit'},\n",
       "   {'name': 'ovarian cancer metastatic'},\n",
       "   {'name': 'hypogonadism'},\n",
       "   {'name': 'blood glucose increased'}]}]"
      ]
     },
     "execution_count": 16,
     "metadata": {},
     "output_type": "execute_result"
    }
   ],
   "source": [
    "opentargets_disease_compound_df[OPENTARGETS_DISEASE_COMPOUND_COL][0]"
   ]
  },
  {
   "cell_type": "markdown",
   "metadata": {},
   "source": [
    "### 2.3 Compound Annotation"
   ]
  },
  {
   "cell_type": "markdown",
   "metadata": {},
   "source": [
    "#### Compounds from OpenTargets"
   ]
  },
  {
   "cell_type": "code",
   "execution_count": 17,
   "metadata": {},
   "outputs": [
    {
     "name": "stderr",
     "output_type": "stream",
     "text": [
      "Processing gene-drug interactions: 100%|██████████| 10/10 [00:00<00:00, 76.32it/s]\n",
      "Mapping PubChem: 100%|██████████| 14/14 [00:05<00:00,  2.59it/s]\n",
      "/home/javi/pyBiodatafuse-3/src/pyBiodatafuse/annotators/opentargets.py:607: UserWarning: Not all values in column 'adverse_effect_count' have the correct type '<class 'int'>'.\n",
      "  check_columns_against_constants(\n"
     ]
    },
    {
     "data": {
      "application/vnd.microsoft.datawrangler.viewer.v0+json": {
       "columns": [
        {
         "name": "index",
         "rawType": "int64",
         "type": "integer"
        },
        {
         "name": "identifier",
         "rawType": "object",
         "type": "string"
        },
        {
         "name": "identifier.source",
         "rawType": "object",
         "type": "string"
        },
        {
         "name": "target",
         "rawType": "object",
         "type": "string"
        },
        {
         "name": "target.source",
         "rawType": "object",
         "type": "string"
        },
        {
         "name": "OpenTargets_gene_compounds",
         "rawType": "object",
         "type": "unknown"
        }
       ],
       "conversionMethod": "pd.DataFrame",
       "ref": "e504ad4c-2c3f-4145-9693-5d196fbd2e4d",
       "rows": [
        [
         "0",
         "ENSG00000072080",
         "Ensembl",
         "ENSG00000072080",
         "Ensembl",
         "[{'chembl_id': nan, 'drugbank_id': nan, 'compound_cid': nan, 'compound_name': nan, 'clincal_trial_phase': nan, 'is_approved': nan, 'relation': nan, 'adverse_effect_count': nan, 'adverse_effect': nan}]"
        ],
        [
         "1",
         "ENSG00000085563",
         "Ensembl",
         "ENSG00000085563",
         "Ensembl",
         "[{'chembl_id': 'CHEMBL:CHEMBL1086218', 'drugbank_id': 'DrugBank:DB11869', 'compound_cid': 'pubchem.compound:5281884', 'compound_name': 'VALSPODAR', 'clincal_trial_phase': 3.0, 'is_approved': False, 'relation': 'activates', 'adverse_effect_count': 0.0, 'adverse_effect': nan}, {'chembl_id': 'CHEMBL:CHEMBL444172', 'drugbank_id': 'DrugBank:DB06191', 'compound_cid': 'pubchem.compound:3036703', 'compound_name': 'ZOSUQUIDAR', 'clincal_trial_phase': 3.0, 'is_approved': False, 'relation': 'activates', 'adverse_effect_count': 0.0, 'adverse_effect': nan}, {'chembl_id': 'CHEMBL:CHEMBL348475', 'drugbank_id': 'DrugBank:DB06240', 'compound_cid': 'pubchem.compound:148201', 'compound_name': 'TARIQUIDAR', 'clincal_trial_phase': 3.0, 'is_approved': False, 'relation': 'activates', 'adverse_effect_count': 2.0, 'adverse_effect': [{'name': 'breast cancer female'}, {'name': 'malignant neoplasm progression'}]}, {'chembl_id': 'CHEMBL:CHEMBL4594298', 'drugbank_id': None, 'compound_cid': 'pubchem.compound:11399764', 'compound_name': 'ENCEQUIDAR', 'clincal_trial_phase': 3.0, 'is_approved': False, 'relation': 'activates', 'adverse_effect_count': 0.0, 'adverse_effect': nan}]"
        ],
        [
         "2",
         "ENSG00000097021",
         "Ensembl",
         "ENSG00000097021",
         "Ensembl",
         "[{'chembl_id': nan, 'drugbank_id': nan, 'compound_cid': nan, 'compound_name': nan, 'clincal_trial_phase': nan, 'is_approved': nan, 'relation': nan, 'adverse_effect_count': nan, 'adverse_effect': nan}]"
        ],
        [
         "3",
         "ENSG00000110245",
         "Ensembl",
         "ENSG00000110245",
         "Ensembl",
         "[{'chembl_id': 'CHEMBL:CHEMBL3544989', 'drugbank_id': None, 'compound_cid': None, 'compound_name': 'VOLANESORSEN SODIUM', 'clincal_trial_phase': 4.0, 'is_approved': True, 'relation': 'activates', 'adverse_effect_count': 0.0, 'adverse_effect': nan}, {'chembl_id': 'CHEMBL:CHEMBL3544994', 'drugbank_id': None, 'compound_cid': None, 'compound_name': 'VOLANESORSEN', 'clincal_trial_phase': 4.0, 'is_approved': True, 'relation': 'activates', 'adverse_effect_count': 0.0, 'adverse_effect': nan}, {'chembl_id': 'CHEMBL:CHEMBL4650438', 'drugbank_id': None, 'compound_cid': None, 'compound_name': 'OLEZARSEN', 'clincal_trial_phase': 3.0, 'is_approved': False, 'relation': 'activates', 'adverse_effect_count': 0.0, 'adverse_effect': nan}]"
        ],
        [
         "4",
         "ENSG00000113905",
         "Ensembl",
         "ENSG00000113905",
         "Ensembl",
         "[{'chembl_id': nan, 'drugbank_id': nan, 'compound_cid': nan, 'compound_name': nan, 'clincal_trial_phase': nan, 'is_approved': nan, 'relation': nan, 'adverse_effect_count': nan, 'adverse_effect': nan}]"
        ]
       ],
       "shape": {
        "columns": 5,
        "rows": 5
       }
      },
      "text/html": [
       "<div>\n",
       "<style scoped>\n",
       "    .dataframe tbody tr th:only-of-type {\n",
       "        vertical-align: middle;\n",
       "    }\n",
       "\n",
       "    .dataframe tbody tr th {\n",
       "        vertical-align: top;\n",
       "    }\n",
       "\n",
       "    .dataframe thead th {\n",
       "        text-align: right;\n",
       "    }\n",
       "</style>\n",
       "<table border=\"1\" class=\"dataframe\">\n",
       "  <thead>\n",
       "    <tr style=\"text-align: right;\">\n",
       "      <th></th>\n",
       "      <th>identifier</th>\n",
       "      <th>identifier.source</th>\n",
       "      <th>target</th>\n",
       "      <th>target.source</th>\n",
       "      <th>OpenTargets_gene_compounds</th>\n",
       "    </tr>\n",
       "  </thead>\n",
       "  <tbody>\n",
       "    <tr>\n",
       "      <th>0</th>\n",
       "      <td>ENSG00000072080</td>\n",
       "      <td>Ensembl</td>\n",
       "      <td>ENSG00000072080</td>\n",
       "      <td>Ensembl</td>\n",
       "      <td>[{'chembl_id': nan, 'drugbank_id': nan, 'compo...</td>\n",
       "    </tr>\n",
       "    <tr>\n",
       "      <th>1</th>\n",
       "      <td>ENSG00000085563</td>\n",
       "      <td>Ensembl</td>\n",
       "      <td>ENSG00000085563</td>\n",
       "      <td>Ensembl</td>\n",
       "      <td>[{'chembl_id': 'CHEMBL:CHEMBL1086218', 'drugba...</td>\n",
       "    </tr>\n",
       "    <tr>\n",
       "      <th>2</th>\n",
       "      <td>ENSG00000097021</td>\n",
       "      <td>Ensembl</td>\n",
       "      <td>ENSG00000097021</td>\n",
       "      <td>Ensembl</td>\n",
       "      <td>[{'chembl_id': nan, 'drugbank_id': nan, 'compo...</td>\n",
       "    </tr>\n",
       "    <tr>\n",
       "      <th>3</th>\n",
       "      <td>ENSG00000110245</td>\n",
       "      <td>Ensembl</td>\n",
       "      <td>ENSG00000110245</td>\n",
       "      <td>Ensembl</td>\n",
       "      <td>[{'chembl_id': 'CHEMBL:CHEMBL3544989', 'drugba...</td>\n",
       "    </tr>\n",
       "    <tr>\n",
       "      <th>4</th>\n",
       "      <td>ENSG00000113905</td>\n",
       "      <td>Ensembl</td>\n",
       "      <td>ENSG00000113905</td>\n",
       "      <td>Ensembl</td>\n",
       "      <td>[{'chembl_id': nan, 'drugbank_id': nan, 'compo...</td>\n",
       "    </tr>\n",
       "  </tbody>\n",
       "</table>\n",
       "</div>"
      ],
      "text/plain": [
       "        identifier identifier.source           target target.source  \\\n",
       "0  ENSG00000072080           Ensembl  ENSG00000072080       Ensembl   \n",
       "1  ENSG00000085563           Ensembl  ENSG00000085563       Ensembl   \n",
       "2  ENSG00000097021           Ensembl  ENSG00000097021       Ensembl   \n",
       "3  ENSG00000110245           Ensembl  ENSG00000110245       Ensembl   \n",
       "4  ENSG00000113905           Ensembl  ENSG00000113905       Ensembl   \n",
       "\n",
       "                          OpenTargets_gene_compounds  \n",
       "0  [{'chembl_id': nan, 'drugbank_id': nan, 'compo...  \n",
       "1  [{'chembl_id': 'CHEMBL:CHEMBL1086218', 'drugba...  \n",
       "2  [{'chembl_id': nan, 'drugbank_id': nan, 'compo...  \n",
       "3  [{'chembl_id': 'CHEMBL:CHEMBL3544989', 'drugba...  \n",
       "4  [{'chembl_id': nan, 'drugbank_id': nan, 'compo...  "
      ]
     },
     "execution_count": 17,
     "metadata": {},
     "output_type": "execute_result"
    }
   ],
   "source": [
    "opentargets_compound_df, opentargets_compound_metadata = opentargets.get_gene_compound_interactions(\n",
    "    bridgedb_df=bridgedb_df_hl\n",
    ")\n",
    "opentargets_compound_df.head()"
   ]
  },
  {
   "cell_type": "code",
   "execution_count": 18,
   "metadata": {},
   "outputs": [
    {
     "data": {
      "text/plain": [
       "[{'chembl_id': nan,\n",
       "  'drugbank_id': nan,\n",
       "  'compound_cid': nan,\n",
       "  'compound_name': nan,\n",
       "  'clincal_trial_phase': nan,\n",
       "  'is_approved': nan,\n",
       "  'relation': nan,\n",
       "  'adverse_effect_count': nan,\n",
       "  'adverse_effect': nan}]"
      ]
     },
     "execution_count": 18,
     "metadata": {},
     "output_type": "execute_result"
    }
   ],
   "source": [
    "opentargets_compound_df[OPENTARGETS_GENE_COMPOUND_COL][0]"
   ]
  },
  {
   "cell_type": "markdown",
   "metadata": {},
   "source": [
    "#### Compounds from PubChem"
   ]
  },
  {
   "cell_type": "code",
   "execution_count": 19,
   "metadata": {},
   "outputs": [
    {
     "name": "stderr",
     "output_type": "stream",
     "text": [
      "Querying PubChem: 100%|██████████| 2/2 [00:00<00:00,  6.36it/s]\n",
      "/tmp/ipykernel_438775/2311319464.py:1: UserWarning: There is no annotation for your input list in PubChem.\n",
      "  pubchem_assay_df, pubchem_assay_metadata = pubchem.get_protein_compound_screened(\n"
     ]
    }
   ],
   "source": [
    "pubchem_assay_df, pubchem_assay_metadata = pubchem.get_protein_compound_screened(\n",
    "    bridgedb_df=bridgedb_df_hl\n",
    ")"
   ]
  },
  {
   "cell_type": "markdown",
   "metadata": {},
   "source": [
    "### 2.4 Gene-Pathways edges"
   ]
  },
  {
   "cell_type": "markdown",
   "metadata": {},
   "source": [
    "#### Pathways from WikiPathways"
   ]
  },
  {
   "cell_type": "code",
   "execution_count": 20,
   "metadata": {},
   "outputs": [
    {
     "name": "stderr",
     "output_type": "stream",
     "text": [
      "Querying WikiPathways: 100%|██████████| 1/1 [00:24<00:00, 24.59s/it]\n"
     ]
    },
    {
     "data": {
      "application/vnd.microsoft.datawrangler.viewer.v0+json": {
       "columns": [
        {
         "name": "index",
         "rawType": "int64",
         "type": "integer"
        },
        {
         "name": "identifier",
         "rawType": "object",
         "type": "string"
        },
        {
         "name": "identifier.source",
         "rawType": "object",
         "type": "string"
        },
        {
         "name": "target",
         "rawType": "object",
         "type": "string"
        },
        {
         "name": "target.source",
         "rawType": "object",
         "type": "string"
        },
        {
         "name": "WikiPathways",
         "rawType": "object",
         "type": "unknown"
        }
       ],
       "conversionMethod": "pd.DataFrame",
       "ref": "aff5ffca-f5f1-4e4d-bc98-660fbe5d719e",
       "rows": [
        [
         "0",
         "ENSMUSG00000004035",
         "Ensembl",
         "68312",
         "NCBI Gene",
         "[{'pathway_id': 'WP:WP4466', 'pathway_label': 'Oxidative stress and redox pathway', 'pathway_gene_count': 92.0}, {'pathway_id': 'WP:WP1251', 'pathway_label': 'Metapathway biotransformation', 'pathway_gene_count': 143.0}, {'pathway_id': 'WP:WP164', 'pathway_label': 'Glutathione metabolism', 'pathway_gene_count': 19.0}]"
        ],
        [
         "1",
         "ENSMUSG00000020914",
         "Ensembl",
         "21973",
         "NCBI Gene",
         "[{'pathway_id': nan, 'pathway_label': nan, 'pathway_gene_count': nan}]"
        ],
        [
         "2",
         "ENSMUSG00000022877",
         "Ensembl",
         "94175",
         "NCBI Gene",
         "[{'pathway_id': nan, 'pathway_label': nan, 'pathway_gene_count': nan}]"
        ],
        [
         "3",
         "ENSMUSG00000024747",
         "Ensembl",
         "26358",
         "NCBI Gene",
         "[{'pathway_id': nan, 'pathway_label': nan, 'pathway_gene_count': nan}]"
        ],
        [
         "4",
         "ENSMUSG00000026295",
         "Ensembl",
         "75396",
         "NCBI Gene",
         "[{'pathway_id': nan, 'pathway_label': nan, 'pathway_gene_count': nan}]"
        ]
       ],
       "shape": {
        "columns": 5,
        "rows": 5
       }
      },
      "text/html": [
       "<div>\n",
       "<style scoped>\n",
       "    .dataframe tbody tr th:only-of-type {\n",
       "        vertical-align: middle;\n",
       "    }\n",
       "\n",
       "    .dataframe tbody tr th {\n",
       "        vertical-align: top;\n",
       "    }\n",
       "\n",
       "    .dataframe thead th {\n",
       "        text-align: right;\n",
       "    }\n",
       "</style>\n",
       "<table border=\"1\" class=\"dataframe\">\n",
       "  <thead>\n",
       "    <tr style=\"text-align: right;\">\n",
       "      <th></th>\n",
       "      <th>identifier</th>\n",
       "      <th>identifier.source</th>\n",
       "      <th>target</th>\n",
       "      <th>target.source</th>\n",
       "      <th>WikiPathways</th>\n",
       "    </tr>\n",
       "  </thead>\n",
       "  <tbody>\n",
       "    <tr>\n",
       "      <th>0</th>\n",
       "      <td>ENSMUSG00000004035</td>\n",
       "      <td>Ensembl</td>\n",
       "      <td>68312</td>\n",
       "      <td>NCBI Gene</td>\n",
       "      <td>[{'pathway_id': 'WP:WP4466', 'pathway_label': ...</td>\n",
       "    </tr>\n",
       "    <tr>\n",
       "      <th>1</th>\n",
       "      <td>ENSMUSG00000020914</td>\n",
       "      <td>Ensembl</td>\n",
       "      <td>21973</td>\n",
       "      <td>NCBI Gene</td>\n",
       "      <td>[{'pathway_id': nan, 'pathway_label': nan, 'pa...</td>\n",
       "    </tr>\n",
       "    <tr>\n",
       "      <th>2</th>\n",
       "      <td>ENSMUSG00000022877</td>\n",
       "      <td>Ensembl</td>\n",
       "      <td>94175</td>\n",
       "      <td>NCBI Gene</td>\n",
       "      <td>[{'pathway_id': nan, 'pathway_label': nan, 'pa...</td>\n",
       "    </tr>\n",
       "    <tr>\n",
       "      <th>3</th>\n",
       "      <td>ENSMUSG00000024747</td>\n",
       "      <td>Ensembl</td>\n",
       "      <td>26358</td>\n",
       "      <td>NCBI Gene</td>\n",
       "      <td>[{'pathway_id': nan, 'pathway_label': nan, 'pa...</td>\n",
       "    </tr>\n",
       "    <tr>\n",
       "      <th>4</th>\n",
       "      <td>ENSMUSG00000026295</td>\n",
       "      <td>Ensembl</td>\n",
       "      <td>75396</td>\n",
       "      <td>NCBI Gene</td>\n",
       "      <td>[{'pathway_id': nan, 'pathway_label': nan, 'pa...</td>\n",
       "    </tr>\n",
       "  </tbody>\n",
       "</table>\n",
       "</div>"
      ],
      "text/plain": [
       "           identifier identifier.source target target.source  \\\n",
       "0  ENSMUSG00000004035           Ensembl  68312     NCBI Gene   \n",
       "1  ENSMUSG00000020914           Ensembl  21973     NCBI Gene   \n",
       "2  ENSMUSG00000022877           Ensembl  94175     NCBI Gene   \n",
       "3  ENSMUSG00000024747           Ensembl  26358     NCBI Gene   \n",
       "4  ENSMUSG00000026295           Ensembl  75396     NCBI Gene   \n",
       "\n",
       "                                        WikiPathways  \n",
       "0  [{'pathway_id': 'WP:WP4466', 'pathway_label': ...  \n",
       "1  [{'pathway_id': nan, 'pathway_label': nan, 'pa...  \n",
       "2  [{'pathway_id': nan, 'pathway_label': nan, 'pa...  \n",
       "3  [{'pathway_id': nan, 'pathway_label': nan, 'pa...  \n",
       "4  [{'pathway_id': nan, 'pathway_label': nan, 'pa...  "
      ]
     },
     "execution_count": 20,
     "metadata": {},
     "output_type": "execute_result"
    }
   ],
   "source": [
    "wikipathways_df, wikipathways_metadata = wikipathways.get_gene_wikipathways(bridgedb_df=bridgedb_df)\n",
    "wikipathways_df.head()"
   ]
  },
  {
   "cell_type": "code",
   "execution_count": 21,
   "metadata": {},
   "outputs": [
    {
     "data": {
      "text/plain": [
       "[{'pathway_id': 'WP:WP4466',\n",
       "  'pathway_label': 'Oxidative stress and redox pathway',\n",
       "  'pathway_gene_count': 92.0},\n",
       " {'pathway_id': 'WP:WP1251',\n",
       "  'pathway_label': 'Metapathway biotransformation',\n",
       "  'pathway_gene_count': 143.0},\n",
       " {'pathway_id': 'WP:WP164',\n",
       "  'pathway_label': 'Glutathione metabolism',\n",
       "  'pathway_gene_count': 19.0}]"
      ]
     },
     "execution_count": 21,
     "metadata": {},
     "output_type": "execute_result"
    }
   ],
   "source": [
    "wikipathways_df[WIKIPATHWAYS][0]"
   ]
  },
  {
   "cell_type": "markdown",
   "metadata": {},
   "source": [
    "#### Pathways from KEGG"
   ]
  },
  {
   "cell_type": "code",
   "execution_count": 22,
   "metadata": {},
   "outputs": [
    {
     "data": {
      "application/vnd.microsoft.datawrangler.viewer.v0+json": {
       "columns": [
        {
         "name": "index",
         "rawType": "int64",
         "type": "integer"
        },
        {
         "name": "identifier",
         "rawType": "object",
         "type": "string"
        },
        {
         "name": "identifier.source",
         "rawType": "object",
         "type": "string"
        },
        {
         "name": "target",
         "rawType": "object",
         "type": "string"
        },
        {
         "name": "target.source",
         "rawType": "object",
         "type": "string"
        },
        {
         "name": "KEGG_pathways",
         "rawType": "object",
         "type": "unknown"
        }
       ],
       "conversionMethod": "pd.DataFrame",
       "ref": "0682c34d-e978-4e1e-a861-b33cd3fa3a5f",
       "rows": [
        [
         "0",
         "ENSMUSG00000026295",
         "Ensembl",
         "75396",
         "NCBI Gene",
         "[{'pathway_id': nan, 'pathway_label': nan, 'gene_count': nan, 'compounds': [{'KEGG_identifier': None, 'name': None}]}]"
        ],
        [
         "1",
         "ENSMUSG00000022877",
         "Ensembl",
         "94175",
         "NCBI Gene",
         "[{'pathway_id': nan, 'pathway_label': nan, 'gene_count': nan, 'compounds': [{'KEGG_identifier': None, 'name': None}]}]"
        ],
        [
         "2",
         "ENSMUSG00000020914",
         "Ensembl",
         "21973",
         "NCBI Gene",
         "[{'pathway_id': 'path:mmu01524', 'pathway_label': 'Platinum drug resistance - Mus musculus (house mouse)', 'gene_count': 0, 'compounds': [{'KEGG_identifier': None}]}, {'gene_count': 0, 'compounds': [{'KEGG_identifier': None}]}]"
        ],
        [
         "3",
         "ENSMUSG00000024747",
         "Ensembl",
         "26358",
         "NCBI Gene",
         "[{'pathway_id': 'path:mmu00830', 'pathway_label': 'Retinol metabolism - Mus musculus (house mouse)', 'gene_count': 101, 'compounds': [{'KEGG_identifier': 'C00376'}, {'KEGG_identifier': 'C00473'}, {'KEGG_identifier': 'C00777'}, {'KEGG_identifier': 'C00778'}, {'KEGG_identifier': 'C00899'}, {'KEGG_identifier': 'C02075'}, {'KEGG_identifier': 'C02094'}, {'KEGG_identifier': 'C02110'}, {'KEGG_identifier': 'C02588'}, {'KEGG_identifier': 'C03455'}, {'KEGG_identifier': 'C05914'}, {'KEGG_identifier': 'C05915'}, {'KEGG_identifier': 'C05916'}, {'KEGG_identifier': 'C05917'}, {'KEGG_identifier': 'C11061'}, {'KEGG_identifier': 'C15492'}, {'KEGG_identifier': 'C15493'}, {'KEGG_identifier': 'C16677'}, {'KEGG_identifier': 'C16678'}, {'KEGG_identifier': 'C16679'}, {'KEGG_identifier': 'C16680'}, {'KEGG_identifier': 'C16681'}, {'KEGG_identifier': 'C16682'}, {'KEGG_identifier': 'C16683'}, {'KEGG_identifier': 'C21797'}]}, {'pathway_id': 'path:mmu01100', 'pathway_label': 'Metabolic pathways - Mus musculus (house mouse)', 'gene_count': 0, 'compounds': [{'KEGG_identifier': None}]}, {'gene_count': 0, 'compounds': [{'KEGG_identifier': None}]}]"
        ],
        [
         "4",
         "ENSMUSG00000032081",
         "Ensembl",
         "11814",
         "NCBI Gene",
         "[{'pathway_id': 'path:mmu03320', 'pathway_label': 'PPAR signaling pathway - Mus musculus (house mouse)', 'gene_count': 88, 'compounds': [{'KEGG_identifier': 'C02165'}, {'KEGG_identifier': 'C14762'}, {'KEGG_identifier': 'C14767'}, {'KEGG_identifier': 'C14776'}, {'KEGG_identifier': 'C15493'}]}, {'pathway_id': 'path:mmu04979', 'pathway_label': 'Cholesterol metabolism - Mus musculus (house mouse)', 'gene_count': 49, 'compounds': [{'KEGG_identifier': 'C00162'}, {'KEGG_identifier': 'C00187'}, {'KEGG_identifier': 'C00422'}, {'KEGG_identifier': 'C00865'}, {'KEGG_identifier': 'C01921'}, {'KEGG_identifier': 'C02530'}, {'KEGG_identifier': 'C05122'}, {'KEGG_identifier': 'C05465'}, {'KEGG_identifier': 'C05466'}, {'KEGG_identifier': 'C15610'}]}, {'gene_count': 0, 'compounds': [{'KEGG_identifier': None}]}]"
        ]
       ],
       "shape": {
        "columns": 5,
        "rows": 5
       }
      },
      "text/html": [
       "<div>\n",
       "<style scoped>\n",
       "    .dataframe tbody tr th:only-of-type {\n",
       "        vertical-align: middle;\n",
       "    }\n",
       "\n",
       "    .dataframe tbody tr th {\n",
       "        vertical-align: top;\n",
       "    }\n",
       "\n",
       "    .dataframe thead th {\n",
       "        text-align: right;\n",
       "    }\n",
       "</style>\n",
       "<table border=\"1\" class=\"dataframe\">\n",
       "  <thead>\n",
       "    <tr style=\"text-align: right;\">\n",
       "      <th></th>\n",
       "      <th>identifier</th>\n",
       "      <th>identifier.source</th>\n",
       "      <th>target</th>\n",
       "      <th>target.source</th>\n",
       "      <th>KEGG_pathways</th>\n",
       "    </tr>\n",
       "  </thead>\n",
       "  <tbody>\n",
       "    <tr>\n",
       "      <th>0</th>\n",
       "      <td>ENSMUSG00000026295</td>\n",
       "      <td>Ensembl</td>\n",
       "      <td>75396</td>\n",
       "      <td>NCBI Gene</td>\n",
       "      <td>[{'pathway_id': nan, 'pathway_label': nan, 'ge...</td>\n",
       "    </tr>\n",
       "    <tr>\n",
       "      <th>1</th>\n",
       "      <td>ENSMUSG00000022877</td>\n",
       "      <td>Ensembl</td>\n",
       "      <td>94175</td>\n",
       "      <td>NCBI Gene</td>\n",
       "      <td>[{'pathway_id': nan, 'pathway_label': nan, 'ge...</td>\n",
       "    </tr>\n",
       "    <tr>\n",
       "      <th>2</th>\n",
       "      <td>ENSMUSG00000020914</td>\n",
       "      <td>Ensembl</td>\n",
       "      <td>21973</td>\n",
       "      <td>NCBI Gene</td>\n",
       "      <td>[{'pathway_id': 'path:mmu01524', 'pathway_labe...</td>\n",
       "    </tr>\n",
       "    <tr>\n",
       "      <th>3</th>\n",
       "      <td>ENSMUSG00000024747</td>\n",
       "      <td>Ensembl</td>\n",
       "      <td>26358</td>\n",
       "      <td>NCBI Gene</td>\n",
       "      <td>[{'pathway_id': 'path:mmu00830', 'pathway_labe...</td>\n",
       "    </tr>\n",
       "    <tr>\n",
       "      <th>4</th>\n",
       "      <td>ENSMUSG00000032081</td>\n",
       "      <td>Ensembl</td>\n",
       "      <td>11814</td>\n",
       "      <td>NCBI Gene</td>\n",
       "      <td>[{'pathway_id': 'path:mmu03320', 'pathway_labe...</td>\n",
       "    </tr>\n",
       "  </tbody>\n",
       "</table>\n",
       "</div>"
      ],
      "text/plain": [
       "           identifier identifier.source target target.source  \\\n",
       "0  ENSMUSG00000026295           Ensembl  75396     NCBI Gene   \n",
       "1  ENSMUSG00000022877           Ensembl  94175     NCBI Gene   \n",
       "2  ENSMUSG00000020914           Ensembl  21973     NCBI Gene   \n",
       "3  ENSMUSG00000024747           Ensembl  26358     NCBI Gene   \n",
       "4  ENSMUSG00000032081           Ensembl  11814     NCBI Gene   \n",
       "\n",
       "                                       KEGG_pathways  \n",
       "0  [{'pathway_id': nan, 'pathway_label': nan, 'ge...  \n",
       "1  [{'pathway_id': nan, 'pathway_label': nan, 'ge...  \n",
       "2  [{'pathway_id': 'path:mmu01524', 'pathway_labe...  \n",
       "3  [{'pathway_id': 'path:mmu00830', 'pathway_labe...  \n",
       "4  [{'pathway_id': 'path:mmu03320', 'pathway_labe...  "
      ]
     },
     "execution_count": 22,
     "metadata": {},
     "output_type": "execute_result"
    }
   ],
   "source": [
    "kegg_df, kegg_metadata = kegg.get_pathways(bridgedb_df)\n",
    "kegg_df.head()"
   ]
  },
  {
   "cell_type": "code",
   "execution_count": 23,
   "metadata": {},
   "outputs": [
    {
     "data": {
      "text/plain": [
       "{'pathway_id': 'path:mmu00830',\n",
       " 'pathway_label': 'Retinol metabolism - Mus musculus (house mouse)',\n",
       " 'gene_count': 101,\n",
       " 'compounds': [{'KEGG_identifier': 'C00376'},\n",
       "  {'KEGG_identifier': 'C00473'},\n",
       "  {'KEGG_identifier': 'C00777'},\n",
       "  {'KEGG_identifier': 'C00778'},\n",
       "  {'KEGG_identifier': 'C00899'},\n",
       "  {'KEGG_identifier': 'C02075'},\n",
       "  {'KEGG_identifier': 'C02094'},\n",
       "  {'KEGG_identifier': 'C02110'},\n",
       "  {'KEGG_identifier': 'C02588'},\n",
       "  {'KEGG_identifier': 'C03455'},\n",
       "  {'KEGG_identifier': 'C05914'},\n",
       "  {'KEGG_identifier': 'C05915'},\n",
       "  {'KEGG_identifier': 'C05916'},\n",
       "  {'KEGG_identifier': 'C05917'},\n",
       "  {'KEGG_identifier': 'C11061'},\n",
       "  {'KEGG_identifier': 'C15492'},\n",
       "  {'KEGG_identifier': 'C15493'},\n",
       "  {'KEGG_identifier': 'C16677'},\n",
       "  {'KEGG_identifier': 'C16678'},\n",
       "  {'KEGG_identifier': 'C16679'},\n",
       "  {'KEGG_identifier': 'C16680'},\n",
       "  {'KEGG_identifier': 'C16681'},\n",
       "  {'KEGG_identifier': 'C16682'},\n",
       "  {'KEGG_identifier': 'C16683'},\n",
       "  {'KEGG_identifier': 'C21797'}]}"
      ]
     },
     "execution_count": 23,
     "metadata": {},
     "output_type": "execute_result"
    }
   ],
   "source": [
    "kegg_df[KEGG_COL][3][0]"
   ]
  },
  {
   "cell_type": "markdown",
   "metadata": {},
   "source": [
    "#### Reactome pathways from OpenTargets"
   ]
  },
  {
   "cell_type": "code",
   "execution_count": 24,
   "metadata": {},
   "outputs": [
    {
     "name": "stderr",
     "output_type": "stream",
     "text": [
      "Processing gene-pathway interactions: 100%|██████████| 10/10 [00:00<00:00, 410.61it/s]\n"
     ]
    },
    {
     "data": {
      "application/vnd.microsoft.datawrangler.viewer.v0+json": {
       "columns": [
        {
         "name": "index",
         "rawType": "int64",
         "type": "integer"
        },
        {
         "name": "identifier",
         "rawType": "object",
         "type": "string"
        },
        {
         "name": "identifier.source",
         "rawType": "object",
         "type": "string"
        },
        {
         "name": "target",
         "rawType": "object",
         "type": "string"
        },
        {
         "name": "target.source",
         "rawType": "object",
         "type": "string"
        },
        {
         "name": "OpenTargets_reactome",
         "rawType": "object",
         "type": "unknown"
        }
       ],
       "conversionMethod": "pd.DataFrame",
       "ref": "3763466e-16ab-4960-b4b2-9e46f01e7711",
       "rows": [
        [
         "0",
         "ENSG00000072080",
         "Ensembl",
         "ENSG00000072080",
         "Ensembl",
         "[{'pathway_label': 'Platelet degranulation ', 'pathway_id': 'Reactome:R-HSA-114608'}, {'pathway_label': 'Regulation of Insulin-like Growth Factor (IGF) transport and uptake by Insulin-like Growth Factor Binding Proteins (IGFBPs)', 'pathway_id': 'Reactome:R-HSA-381426'}, {'pathway_label': 'Post-translational protein phosphorylation', 'pathway_id': 'Reactome:R-HSA-8957275'}]"
        ],
        [
         "1",
         "ENSG00000085563",
         "Ensembl",
         "ENSG00000085563",
         "Ensembl",
         "[{'pathway_label': 'Abacavir transmembrane transport', 'pathway_id': 'Reactome:R-HSA-2161517'}, {'pathway_label': 'Prednisone ADME', 'pathway_id': 'Reactome:R-HSA-9757110'}, {'pathway_label': 'ABC-family proteins mediated transport', 'pathway_id': 'Reactome:R-HSA-382556'}, {'pathway_label': 'Atorvastatin ADME', 'pathway_id': 'Reactome:R-HSA-9754706'}]"
        ],
        [
         "2",
         "ENSG00000097021",
         "Ensembl",
         "ENSG00000097021",
         "Ensembl",
         "[{'pathway_label': 'Mitochondrial Fatty Acid Beta-Oxidation', 'pathway_id': 'Reactome:R-HSA-77289'}]"
        ],
        [
         "3",
         "ENSG00000110245",
         "Ensembl",
         "ENSG00000110245",
         "Ensembl",
         "[{'pathway_label': 'Retinoid metabolism and transport', 'pathway_id': 'Reactome:R-HSA-975634'}, {'pathway_label': 'Chylomicron assembly', 'pathway_id': 'Reactome:R-HSA-8963888'}, {'pathway_label': 'HDL remodeling', 'pathway_id': 'Reactome:R-HSA-8964058'}, {'pathway_label': 'Chylomicron remodeling', 'pathway_id': 'Reactome:R-HSA-8963901'}]"
        ],
        [
         "4",
         "ENSG00000113905",
         "Ensembl",
         "ENSG00000113905",
         "Ensembl",
         "[{'pathway_label': 'Platelet degranulation ', 'pathway_id': 'Reactome:R-HSA-114608'}, {'pathway_label': 'Dissolution of Fibrin Clot', 'pathway_id': 'Reactome:R-HSA-75205'}]"
        ]
       ],
       "shape": {
        "columns": 5,
        "rows": 5
       }
      },
      "text/html": [
       "<div>\n",
       "<style scoped>\n",
       "    .dataframe tbody tr th:only-of-type {\n",
       "        vertical-align: middle;\n",
       "    }\n",
       "\n",
       "    .dataframe tbody tr th {\n",
       "        vertical-align: top;\n",
       "    }\n",
       "\n",
       "    .dataframe thead th {\n",
       "        text-align: right;\n",
       "    }\n",
       "</style>\n",
       "<table border=\"1\" class=\"dataframe\">\n",
       "  <thead>\n",
       "    <tr style=\"text-align: right;\">\n",
       "      <th></th>\n",
       "      <th>identifier</th>\n",
       "      <th>identifier.source</th>\n",
       "      <th>target</th>\n",
       "      <th>target.source</th>\n",
       "      <th>OpenTargets_reactome</th>\n",
       "    </tr>\n",
       "  </thead>\n",
       "  <tbody>\n",
       "    <tr>\n",
       "      <th>0</th>\n",
       "      <td>ENSG00000072080</td>\n",
       "      <td>Ensembl</td>\n",
       "      <td>ENSG00000072080</td>\n",
       "      <td>Ensembl</td>\n",
       "      <td>[{'pathway_label': 'Platelet degranulation ', ...</td>\n",
       "    </tr>\n",
       "    <tr>\n",
       "      <th>1</th>\n",
       "      <td>ENSG00000085563</td>\n",
       "      <td>Ensembl</td>\n",
       "      <td>ENSG00000085563</td>\n",
       "      <td>Ensembl</td>\n",
       "      <td>[{'pathway_label': 'Abacavir transmembrane tra...</td>\n",
       "    </tr>\n",
       "    <tr>\n",
       "      <th>2</th>\n",
       "      <td>ENSG00000097021</td>\n",
       "      <td>Ensembl</td>\n",
       "      <td>ENSG00000097021</td>\n",
       "      <td>Ensembl</td>\n",
       "      <td>[{'pathway_label': 'Mitochondrial Fatty Acid B...</td>\n",
       "    </tr>\n",
       "    <tr>\n",
       "      <th>3</th>\n",
       "      <td>ENSG00000110245</td>\n",
       "      <td>Ensembl</td>\n",
       "      <td>ENSG00000110245</td>\n",
       "      <td>Ensembl</td>\n",
       "      <td>[{'pathway_label': 'Retinoid metabolism and tr...</td>\n",
       "    </tr>\n",
       "    <tr>\n",
       "      <th>4</th>\n",
       "      <td>ENSG00000113905</td>\n",
       "      <td>Ensembl</td>\n",
       "      <td>ENSG00000113905</td>\n",
       "      <td>Ensembl</td>\n",
       "      <td>[{'pathway_label': 'Platelet degranulation ', ...</td>\n",
       "    </tr>\n",
       "  </tbody>\n",
       "</table>\n",
       "</div>"
      ],
      "text/plain": [
       "        identifier identifier.source           target target.source  \\\n",
       "0  ENSG00000072080           Ensembl  ENSG00000072080       Ensembl   \n",
       "1  ENSG00000085563           Ensembl  ENSG00000085563       Ensembl   \n",
       "2  ENSG00000097021           Ensembl  ENSG00000097021       Ensembl   \n",
       "3  ENSG00000110245           Ensembl  ENSG00000110245       Ensembl   \n",
       "4  ENSG00000113905           Ensembl  ENSG00000113905       Ensembl   \n",
       "\n",
       "                                OpenTargets_reactome  \n",
       "0  [{'pathway_label': 'Platelet degranulation ', ...  \n",
       "1  [{'pathway_label': 'Abacavir transmembrane tra...  \n",
       "2  [{'pathway_label': 'Mitochondrial Fatty Acid B...  \n",
       "3  [{'pathway_label': 'Retinoid metabolism and tr...  \n",
       "4  [{'pathway_label': 'Platelet degranulation ', ...  "
      ]
     },
     "execution_count": 24,
     "metadata": {},
     "output_type": "execute_result"
    }
   ],
   "source": [
    "opentargets_reactome_df, opentargets_reactome_metadata = opentargets.get_gene_reactome_pathways(\n",
    "    bridgedb_df=bridgedb_df_hl\n",
    ")\n",
    "opentargets_reactome_df.head()"
   ]
  },
  {
   "cell_type": "code",
   "execution_count": 25,
   "metadata": {},
   "outputs": [
    {
     "data": {
      "text/plain": [
       "[{'pathway_label': 'Platelet degranulation ',\n",
       "  'pathway_id': 'Reactome:R-HSA-114608'},\n",
       " {'pathway_label': 'Regulation of Insulin-like Growth Factor (IGF) transport and uptake by Insulin-like Growth Factor Binding Proteins (IGFBPs)',\n",
       "  'pathway_id': 'Reactome:R-HSA-381426'},\n",
       " {'pathway_label': 'Post-translational protein phosphorylation',\n",
       "  'pathway_id': 'Reactome:R-HSA-8957275'}]"
      ]
     },
     "execution_count": 25,
     "metadata": {},
     "output_type": "execute_result"
    }
   ],
   "source": [
    "opentargets_reactome_df[OPENTARGETS_REACTOME_COL][0]"
   ]
  },
  {
   "cell_type": "markdown",
   "metadata": {},
   "source": [
    "### 2.5 Gene Ontology from OpenTargets"
   ]
  },
  {
   "cell_type": "code",
   "execution_count": 26,
   "metadata": {},
   "outputs": [
    {
     "name": "stderr",
     "output_type": "stream",
     "text": [
      "Processing gene annotation: 100%|██████████| 10/10 [00:00<00:00, 275.63it/s]\n"
     ]
    },
    {
     "data": {
      "application/vnd.microsoft.datawrangler.viewer.v0+json": {
       "columns": [
        {
         "name": "index",
         "rawType": "int64",
         "type": "integer"
        },
        {
         "name": "identifier",
         "rawType": "object",
         "type": "string"
        },
        {
         "name": "identifier.source",
         "rawType": "object",
         "type": "string"
        },
        {
         "name": "target",
         "rawType": "object",
         "type": "string"
        },
        {
         "name": "target.source",
         "rawType": "object",
         "type": "string"
        },
        {
         "name": "OpenTargets_go",
         "rawType": "object",
         "type": "unknown"
        }
       ],
       "conversionMethod": "pd.DataFrame",
       "ref": "b920a7ea-5928-40a4-abac-2d4d68e6e0b0",
       "rows": [
        [
         "0",
         "ENSG00000072080",
         "Ensembl",
         "ENSG00000072080",
         "Ensembl",
         "[{'go_id': 'GO:0005788', 'go_name': 'endoplasmic reticulum lumen', 'go_type': 'C'}, {'go_id': 'GO:0031089', 'go_name': 'platelet dense granule lumen', 'go_type': 'C'}, {'go_id': 'GO:0004866', 'go_name': 'endopeptidase inhibitor activity', 'go_type': 'F'}, {'go_id': 'GO:0046849', 'go_name': 'bone remodeling', 'go_type': 'P'}, {'go_id': 'GO:0062023', 'go_name': 'collagen-containing extracellular matrix', 'go_type': 'C'}, {'go_id': 'GO:0005576', 'go_name': 'extracellular region', 'go_type': 'C'}, {'go_id': 'GO:0001501', 'go_name': 'skeletal system development', 'go_type': 'P'}]"
        ],
        [
         "1",
         "ENSG00000085563",
         "Ensembl",
         "ENSG00000085563",
         "Ensembl",
         "[{'go_id': 'GO:0008559', 'go_name': 'ABC-type xenobiotic transporter activity', 'go_type': 'F'}, {'go_id': 'GO:0140115', 'go_name': 'export across plasma membrane', 'go_type': 'P'}, {'go_id': 'GO:0042626', 'go_name': 'ATPase-coupled transmembrane transporter activity', 'go_type': 'F'}, {'go_id': 'GO:0070633', 'go_name': 'transepithelial transport', 'go_type': 'P'}, {'go_id': 'GO:1990961', 'go_name': 'xenobiotic detoxification by transmembrane export across the plasma membrane', 'go_type': 'P'}, {'go_id': 'GO:0042910', 'go_name': 'xenobiotic transmembrane transporter activity', 'go_type': 'F'}, {'go_id': 'GO:0005515', 'go_name': 'protein binding', 'go_type': 'F'}, {'go_id': 'GO:0055085', 'go_name': 'transmembrane transport', 'go_type': 'P'}, {'go_id': 'GO:0016324', 'go_name': 'apical plasma membrane', 'go_type': 'C'}, {'go_id': 'GO:2001225', 'go_name': 'regulation of chloride transport', 'go_type': 'P'}, {'go_id': 'GO:0005886', 'go_name': 'plasma membrane', 'go_type': 'C'}, {'go_id': 'GO:0006805', 'go_name': 'xenobiotic metabolic process', 'go_type': 'P'}, {'go_id': 'GO:1905039', 'go_name': 'carboxylic acid transmembrane transport', 'go_type': 'P'}, {'go_id': 'GO:0070062', 'go_name': 'extracellular exosome', 'go_type': 'C'}, {'go_id': 'GO:0090554', 'go_name': 'phosphatidylcholine floppase activity', 'go_type': 'F'}, {'go_id': 'GO:0015562', 'go_name': 'efflux transmembrane transporter activity', 'go_type': 'F'}, {'go_id': 'GO:1990962', 'go_name': 'xenobiotic transport across blood-brain barrier', 'go_type': 'P'}, {'go_id': 'GO:0098591', 'go_name': 'external side of apical plasma membrane', 'go_type': 'C'}, {'go_id': 'GO:0072089', 'go_name': 'stem cell proliferation', 'go_type': 'P'}, {'go_id': 'GO:0045332', 'go_name': 'phospholipid translocation', 'go_type': 'P'}, {'go_id': 'GO:0046865', 'go_name': 'terpenoid transport', 'go_type': 'P'}, {'go_id': 'GO:0046943', 'go_name': 'carboxylic acid transmembrane transporter activity', 'go_type': 'F'}, {'go_id': 'GO:0005737', 'go_name': 'cytoplasm', 'go_type': 'C'}, {'go_id': 'GO:0140328', 'go_name': 'floppase activity', 'go_type': 'F'}, {'go_id': 'GO:0031625', 'go_name': 'ubiquitin protein ligase binding', 'go_type': 'F'}, {'go_id': 'GO:0090555', 'go_name': 'phosphatidylethanolamine flippase activity', 'go_type': 'F'}, {'go_id': 'GO:0016887', 'go_name': 'ATP hydrolysis activity', 'go_type': 'F'}, {'go_id': 'GO:0099038', 'go_name': 'ceramide floppase activity', 'go_type': 'F'}, {'go_id': 'GO:0099040', 'go_name': 'ceramide translocation', 'go_type': 'P'}, {'go_id': 'GO:0150104', 'go_name': 'transport across blood-brain barrier', 'go_type': 'P'}, {'go_id': 'GO:0009410', 'go_name': 'response to xenobiotic stimulus', 'go_type': 'P'}, {'go_id': 'GO:0005524', 'go_name': 'ATP binding', 'go_type': 'F'}, {'go_id': 'GO:0022857', 'go_name': 'transmembrane transporter activity', 'go_type': 'F'}, {'go_id': 'GO:0000086', 'go_name': 'G2/M transition of mitotic cell cycle', 'go_type': 'P'}, {'go_id': 'GO:0016020', 'go_name': 'membrane', 'go_type': 'C'}, {'go_id': 'GO:0009986', 'go_name': 'cell surface', 'go_type': 'C'}]"
        ],
        [
         "2",
         "ENSG00000097021",
         "Ensembl",
         "ENSG00000097021",
         "Ensembl",
         "[{'go_id': 'GO:0070062', 'go_name': 'extracellular exosome', 'go_type': 'C'}, {'go_id': 'GO:0005515', 'go_name': 'protein binding', 'go_type': 'F'}, {'go_id': 'GO:0042803', 'go_name': 'protein homodimerization activity', 'go_type': 'F'}, {'go_id': 'GO:0005737', 'go_name': 'cytoplasm', 'go_type': 'C'}, {'go_id': 'GO:0052816', 'go_name': 'long-chain fatty acyl-CoA hydrolase activity', 'go_type': 'F'}, {'go_id': 'GO:0036042', 'go_name': 'long-chain fatty acyl-CoA binding', 'go_type': 'F'}, {'go_id': 'GO:0005654', 'go_name': 'nucleoplasm', 'go_type': 'C'}, {'go_id': 'GO:0036116', 'go_name': 'long-chain fatty-acyl-CoA catabolic process', 'go_type': 'P'}, {'go_id': 'GO:0006637', 'go_name': 'acyl-CoA metabolic process', 'go_type': 'P'}, {'go_id': 'GO:0015937', 'go_name': 'coenzyme A biosynthetic process', 'go_type': 'P'}, {'go_id': 'GO:0000062', 'go_name': 'fatty-acyl-CoA binding', 'go_type': 'F'}, {'go_id': 'GO:0009062', 'go_name': 'fatty acid catabolic process', 'go_type': 'P'}, {'go_id': 'GO:0005829', 'go_name': 'cytosol', 'go_type': 'C'}, {'go_id': 'GO:1900535', 'go_name': 'palmitic acid biosynthetic process', 'go_type': 'P'}, {'go_id': 'GO:0005739', 'go_name': 'mitochondrion', 'go_type': 'C'}, {'go_id': 'GO:0051792', 'go_name': 'medium-chain fatty acid biosynthetic process', 'go_type': 'P'}, {'go_id': 'GO:0052689', 'go_name': 'carboxylic ester hydrolase activity', 'go_type': 'F'}, {'go_id': 'GO:0036114', 'go_name': 'medium-chain fatty-acyl-CoA catabolic process', 'go_type': 'P'}]"
        ],
        [
         "3",
         "ENSG00000110245",
         "Ensembl",
         "ENSG00000110245",
         "Ensembl",
         "[{'go_id': 'GO:0005543', 'go_name': 'phospholipid binding', 'go_type': 'F'}, {'go_id': 'GO:0043691', 'go_name': 'reverse cholesterol transport', 'go_type': 'P'}, {'go_id': 'GO:0007186', 'go_name': 'G protein-coupled receptor signaling pathway', 'go_type': 'P'}, {'go_id': 'GO:0070653', 'go_name': 'high-density lipoprotein particle receptor binding', 'go_type': 'F'}, {'go_id': 'GO:0034366', 'go_name': 'spherical high-density lipoprotein particle', 'go_type': 'C'}, {'go_id': 'GO:0055102', 'go_name': 'lipase inhibitor activity', 'go_type': 'F'}, {'go_id': 'GO:0034379', 'go_name': 'very-low-density lipoprotein particle assembly', 'go_type': 'P'}, {'go_id': 'GO:0032489', 'go_name': 'regulation of Cdc42 protein signal transduction', 'go_type': 'P'}, {'go_id': 'GO:0010897', 'go_name': 'negative regulation of triglyceride catabolic process', 'go_type': 'P'}, {'go_id': 'GO:0051005', 'go_name': 'negative regulation of lipoprotein lipase activity', 'go_type': 'P'}, {'go_id': 'GO:0005769', 'go_name': 'early endosome', 'go_type': 'C'}, {'go_id': 'GO:0042627', 'go_name': 'chylomicron', 'go_type': 'C'}, {'go_id': 'GO:0030234', 'go_name': 'enzyme regulator activity', 'go_type': 'F'}, {'go_id': 'GO:0045833', 'go_name': 'negative regulation of lipid metabolic process', 'go_type': 'P'}, {'go_id': 'GO:0070328', 'go_name': 'triglyceride homeostasis', 'go_type': 'P'}, {'go_id': 'GO:0005615', 'go_name': 'extracellular space', 'go_type': 'C'}, {'go_id': 'GO:0034363', 'go_name': 'intermediate-density lipoprotein particle', 'go_type': 'C'}, {'go_id': 'GO:0050995', 'go_name': 'negative regulation of lipid catabolic process', 'go_type': 'P'}, {'go_id': 'GO:0034361', 'go_name': 'very-low-density lipoprotein particle', 'go_type': 'C'}, {'go_id': 'GO:0005576', 'go_name': 'extracellular region', 'go_type': 'C'}, {'go_id': 'GO:0010916', 'go_name': 'negative regulation of very-low-density lipoprotein particle clearance', 'go_type': 'P'}, {'go_id': 'GO:0060621', 'go_name': 'negative regulation of cholesterol import', 'go_type': 'P'}, {'go_id': 'GO:0034382', 'go_name': 'chylomicron remnant clearance', 'go_type': 'P'}, {'go_id': 'GO:0010989', 'go_name': 'negative regulation of low-density lipoprotein particle clearance', 'go_type': 'P'}, {'go_id': 'GO:0042157', 'go_name': 'lipoprotein metabolic process', 'go_type': 'P'}, {'go_id': 'GO:0062023', 'go_name': 'collagen-containing extracellular matrix', 'go_type': 'C'}, {'go_id': 'GO:0010987', 'go_name': 'negative regulation of high-density lipoprotein particle clearance', 'go_type': 'P'}, {'go_id': 'GO:0045717', 'go_name': 'negative regulation of fatty acid biosynthetic process', 'go_type': 'P'}, {'go_id': 'GO:0005515', 'go_name': 'protein binding', 'go_type': 'F'}, {'go_id': 'GO:0010903', 'go_name': 'negative regulation of very-low-density lipoprotein particle remodeling', 'go_type': 'P'}, {'go_id': 'GO:0019433', 'go_name': 'triglyceride catabolic process', 'go_type': 'P'}, {'go_id': 'GO:0070062', 'go_name': 'extracellular exosome', 'go_type': 'C'}, {'go_id': 'GO:0033700', 'go_name': 'phospholipid efflux', 'go_type': 'P'}, {'go_id': 'GO:0034375', 'go_name': 'high-density lipoprotein particle remodeling', 'go_type': 'P'}, {'go_id': 'GO:0042632', 'go_name': 'cholesterol homeostasis', 'go_type': 'P'}, {'go_id': 'GO:0033344', 'go_name': 'cholesterol efflux', 'go_type': 'P'}, {'go_id': 'GO:0015485', 'go_name': 'cholesterol binding', 'go_type': 'F'}, {'go_id': 'GO:0048261', 'go_name': 'negative regulation of receptor-mediated endocytosis', 'go_type': 'P'}, {'go_id': 'GO:0006641', 'go_name': 'triglyceride metabolic process', 'go_type': 'P'}]"
        ],
        [
         "4",
         "ENSG00000113905",
         "Ensembl",
         "ENSG00000113905",
         "Ensembl",
         "[{'go_id': 'GO:0005576', 'go_name': 'extracellular region', 'go_type': 'C'}, {'go_id': 'GO:2000504', 'go_name': 'positive regulation of blood vessel remodeling', 'go_type': 'P'}, {'go_id': 'GO:0043395', 'go_name': 'heparan sulfate proteoglycan binding', 'go_type': 'F'}, {'go_id': 'GO:0010468', 'go_name': 'regulation of gene expression', 'go_type': 'P'}, {'go_id': 'GO:0051918', 'go_name': 'negative regulation of fibrinolysis', 'go_type': 'P'}, {'go_id': 'GO:0002839', 'go_name': 'positive regulation of immune response to tumor cell', 'go_type': 'P'}, {'go_id': 'GO:0016525', 'go_name': 'negative regulation of angiogenesis', 'go_type': 'P'}, {'go_id': 'GO:0005515', 'go_name': 'protein binding', 'go_type': 'F'}, {'go_id': 'GO:1900747', 'go_name': 'negative regulation of vascular endothelial growth factor signaling pathway', 'go_type': 'P'}, {'go_id': 'GO:0033629', 'go_name': 'negative regulation of cell adhesion mediated by integrin', 'go_type': 'P'}, {'go_id': 'GO:0010543', 'go_name': 'regulation of platelet activation', 'go_type': 'P'}, {'go_id': 'GO:0051838', 'go_name': 'cytolysis by host of symbiont cells', 'go_type': 'P'}, {'go_id': 'GO:0008201', 'go_name': 'heparin binding', 'go_type': 'F'}, {'go_id': 'GO:0043537', 'go_name': 'negative regulation of blood vessel endothelial cell migration', 'go_type': 'P'}, {'go_id': 'GO:0030308', 'go_name': 'negative regulation of cell growth', 'go_type': 'P'}, {'go_id': 'GO:0020037', 'go_name': 'heme binding', 'go_type': 'F'}, {'go_id': 'GO:0010593', 'go_name': 'negative regulation of lamellipodium assembly', 'go_type': 'P'}, {'go_id': 'GO:2001027', 'go_name': 'negative regulation of endothelial cell chemotaxis', 'go_type': 'P'}, {'go_id': 'GO:0046872', 'go_name': 'metal ion binding', 'go_type': 'F'}, {'go_id': 'GO:0030168', 'go_name': 'platelet activation', 'go_type': 'P'}, {'go_id': 'GO:0004869', 'go_name': 'cysteine-type endopeptidase inhibitor activity', 'go_type': 'F'}, {'go_id': 'GO:0008270', 'go_name': 'zinc ion binding', 'go_type': 'F'}, {'go_id': 'GO:0043065', 'go_name': 'positive regulation of apoptotic process', 'go_type': 'P'}, {'go_id': 'GO:0008285', 'go_name': 'negative regulation of cell population proliferation', 'go_type': 'P'}, {'go_id': 'GO:0009986', 'go_name': 'cell surface', 'go_type': 'C'}, {'go_id': 'GO:0005102', 'go_name': 'signaling receptor binding', 'go_type': 'F'}, {'go_id': 'GO:0042730', 'go_name': 'fibrinolysis', 'go_type': 'P'}, {'go_id': 'GO:0050832', 'go_name': 'defense response to fungus', 'go_type': 'P'}, {'go_id': 'GO:0050730', 'go_name': 'regulation of peptidyl-tyrosine phosphorylation', 'go_type': 'P'}, {'go_id': 'GO:0005886', 'go_name': 'plasma membrane', 'go_type': 'C'}, {'go_id': 'GO:0070062', 'go_name': 'extracellular exosome', 'go_type': 'C'}, {'go_id': 'GO:0043254', 'go_name': 'regulation of protein-containing complex assembly', 'go_type': 'P'}, {'go_id': 'GO:0062023', 'go_name': 'collagen-containing extracellular matrix', 'go_type': 'C'}, {'go_id': 'GO:0001525', 'go_name': 'angiogenesis', 'go_type': 'P'}, {'go_id': 'GO:0072562', 'go_name': 'blood microparticle', 'go_type': 'C'}, {'go_id': 'GO:0061844', 'go_name': 'antimicrobial humoral immune response mediated by antimicrobial peptide', 'go_type': 'P'}, {'go_id': 'GO:0032956', 'go_name': 'regulation of actin cytoskeleton organization', 'go_type': 'P'}, {'go_id': 'GO:0030193', 'go_name': 'regulation of blood coagulation', 'go_type': 'P'}, {'go_id': 'GO:0051894', 'go_name': 'positive regulation of focal adhesion assembly', 'go_type': 'P'}, {'go_id': 'GO:0007162', 'go_name': 'negative regulation of cell adhesion', 'go_type': 'P'}, {'go_id': 'GO:0004867', 'go_name': 'serine-type endopeptidase inhibitor activity', 'go_type': 'F'}, {'go_id': 'GO:0019865', 'go_name': 'immunoglobulin binding', 'go_type': 'F'}, {'go_id': 'GO:0006935', 'go_name': 'chemotaxis', 'go_type': 'P'}, {'go_id': 'GO:0031093', 'go_name': 'platelet alpha granule lumen', 'go_type': 'C'}]"
        ]
       ],
       "shape": {
        "columns": 5,
        "rows": 5
       }
      },
      "text/html": [
       "<div>\n",
       "<style scoped>\n",
       "    .dataframe tbody tr th:only-of-type {\n",
       "        vertical-align: middle;\n",
       "    }\n",
       "\n",
       "    .dataframe tbody tr th {\n",
       "        vertical-align: top;\n",
       "    }\n",
       "\n",
       "    .dataframe thead th {\n",
       "        text-align: right;\n",
       "    }\n",
       "</style>\n",
       "<table border=\"1\" class=\"dataframe\">\n",
       "  <thead>\n",
       "    <tr style=\"text-align: right;\">\n",
       "      <th></th>\n",
       "      <th>identifier</th>\n",
       "      <th>identifier.source</th>\n",
       "      <th>target</th>\n",
       "      <th>target.source</th>\n",
       "      <th>OpenTargets_go</th>\n",
       "    </tr>\n",
       "  </thead>\n",
       "  <tbody>\n",
       "    <tr>\n",
       "      <th>0</th>\n",
       "      <td>ENSG00000072080</td>\n",
       "      <td>Ensembl</td>\n",
       "      <td>ENSG00000072080</td>\n",
       "      <td>Ensembl</td>\n",
       "      <td>[{'go_id': 'GO:0005788', 'go_name': 'endoplasm...</td>\n",
       "    </tr>\n",
       "    <tr>\n",
       "      <th>1</th>\n",
       "      <td>ENSG00000085563</td>\n",
       "      <td>Ensembl</td>\n",
       "      <td>ENSG00000085563</td>\n",
       "      <td>Ensembl</td>\n",
       "      <td>[{'go_id': 'GO:0008559', 'go_name': 'ABC-type ...</td>\n",
       "    </tr>\n",
       "    <tr>\n",
       "      <th>2</th>\n",
       "      <td>ENSG00000097021</td>\n",
       "      <td>Ensembl</td>\n",
       "      <td>ENSG00000097021</td>\n",
       "      <td>Ensembl</td>\n",
       "      <td>[{'go_id': 'GO:0070062', 'go_name': 'extracell...</td>\n",
       "    </tr>\n",
       "    <tr>\n",
       "      <th>3</th>\n",
       "      <td>ENSG00000110245</td>\n",
       "      <td>Ensembl</td>\n",
       "      <td>ENSG00000110245</td>\n",
       "      <td>Ensembl</td>\n",
       "      <td>[{'go_id': 'GO:0005543', 'go_name': 'phospholi...</td>\n",
       "    </tr>\n",
       "    <tr>\n",
       "      <th>4</th>\n",
       "      <td>ENSG00000113905</td>\n",
       "      <td>Ensembl</td>\n",
       "      <td>ENSG00000113905</td>\n",
       "      <td>Ensembl</td>\n",
       "      <td>[{'go_id': 'GO:0005576', 'go_name': 'extracell...</td>\n",
       "    </tr>\n",
       "  </tbody>\n",
       "</table>\n",
       "</div>"
      ],
      "text/plain": [
       "        identifier identifier.source           target target.source  \\\n",
       "0  ENSG00000072080           Ensembl  ENSG00000072080       Ensembl   \n",
       "1  ENSG00000085563           Ensembl  ENSG00000085563       Ensembl   \n",
       "2  ENSG00000097021           Ensembl  ENSG00000097021       Ensembl   \n",
       "3  ENSG00000110245           Ensembl  ENSG00000110245       Ensembl   \n",
       "4  ENSG00000113905           Ensembl  ENSG00000113905       Ensembl   \n",
       "\n",
       "                                      OpenTargets_go  \n",
       "0  [{'go_id': 'GO:0005788', 'go_name': 'endoplasm...  \n",
       "1  [{'go_id': 'GO:0008559', 'go_name': 'ABC-type ...  \n",
       "2  [{'go_id': 'GO:0070062', 'go_name': 'extracell...  \n",
       "3  [{'go_id': 'GO:0005543', 'go_name': 'phospholi...  \n",
       "4  [{'go_id': 'GO:0005576', 'go_name': 'extracell...  "
      ]
     },
     "execution_count": 26,
     "metadata": {},
     "output_type": "execute_result"
    }
   ],
   "source": [
    "opentargets_go_df, opentargets_go_metadata = opentargets.get_gene_go_process(\n",
    "    bridgedb_df=bridgedb_df_hl\n",
    ")\n",
    "opentargets_go_df.head()"
   ]
  },
  {
   "cell_type": "code",
   "execution_count": 27,
   "metadata": {},
   "outputs": [
    {
     "data": {
      "text/plain": [
       "[{'go_id': 'GO:0005788',\n",
       "  'go_name': 'endoplasmic reticulum lumen',\n",
       "  'go_type': 'C'},\n",
       " {'go_id': 'GO:0031089',\n",
       "  'go_name': 'platelet dense granule lumen',\n",
       "  'go_type': 'C'},\n",
       " {'go_id': 'GO:0004866',\n",
       "  'go_name': 'endopeptidase inhibitor activity',\n",
       "  'go_type': 'F'},\n",
       " {'go_id': 'GO:0046849', 'go_name': 'bone remodeling', 'go_type': 'P'},\n",
       " {'go_id': 'GO:0062023',\n",
       "  'go_name': 'collagen-containing extracellular matrix',\n",
       "  'go_type': 'C'},\n",
       " {'go_id': 'GO:0005576', 'go_name': 'extracellular region', 'go_type': 'C'},\n",
       " {'go_id': 'GO:0001501',\n",
       "  'go_name': 'skeletal system development',\n",
       "  'go_type': 'P'}]"
      ]
     },
     "execution_count": 27,
     "metadata": {},
     "output_type": "execute_result"
    }
   ],
   "source": [
    "opentargets_go_df[OPENTARGETS_GO_COL][0]"
   ]
  },
  {
   "cell_type": "markdown",
   "metadata": {},
   "source": [
    "### 2.6. Protein-Protein Interactions"
   ]
  },
  {
   "cell_type": "code",
   "execution_count": 28,
   "metadata": {},
   "outputs": [
    {
     "data": {
      "application/vnd.microsoft.datawrangler.viewer.v0+json": {
       "columns": [
        {
         "name": "index",
         "rawType": "int64",
         "type": "integer"
        },
        {
         "name": "identifier",
         "rawType": "object",
         "type": "string"
        },
        {
         "name": "identifier.source",
         "rawType": "object",
         "type": "string"
        },
        {
         "name": "target",
         "rawType": "object",
         "type": "string"
        },
        {
         "name": "target.source",
         "rawType": "object",
         "type": "string"
        },
        {
         "name": "StringDB_ppi",
         "rawType": "object",
         "type": "unknown"
        }
       ],
       "conversionMethod": "pd.DataFrame",
       "ref": "6d3335ed-e2ad-4c14-99a8-b1e717624dd7",
       "rows": [
        [
         "0",
         "ENSMUSG00000026295",
         "Ensembl",
         "ENSMUSG00000026295",
         "Ensembl",
         "[{'stringdb_link_to': nan, 'Ensembl': nan, 'score': nan, 'Uniprot-TrEMBL': None, 'Uniprot-TrEMBL_link': None}]"
        ],
        [
         "1",
         "ENSMUSG00000022877",
         "Ensembl",
         "ENSMUSG00000022877",
         "Ensembl",
         "[{'stringdb_link_to': nan, 'Ensembl': nan, 'score': nan, 'Uniprot-TrEMBL': None, 'Uniprot-TrEMBL_link': None}]"
        ],
        [
         "2",
         "ENSMUSG00000020914",
         "Ensembl",
         "ENSMUSG00000020914",
         "Ensembl",
         "[{'stringdb_link_to': nan, 'Ensembl': nan, 'score': nan, 'Uniprot-TrEMBL': None, 'Uniprot-TrEMBL_link': None}]"
        ],
        [
         "3",
         "ENSMUSG00000024747",
         "Ensembl",
         "ENSMUSG00000024747",
         "Ensembl",
         "[{'stringdb_link_to': nan, 'Ensembl': nan, 'score': nan, 'Uniprot-TrEMBL': None, 'Uniprot-TrEMBL_link': None}]"
        ],
        [
         "4",
         "ENSMUSG00000032081",
         "Ensembl",
         "ENSMUSG00000032081",
         "Ensembl",
         "[{'stringdb_link_to': nan, 'Ensembl': nan, 'score': nan, 'Uniprot-TrEMBL': None, 'Uniprot-TrEMBL_link': None}]"
        ]
       ],
       "shape": {
        "columns": 5,
        "rows": 5
       }
      },
      "text/html": [
       "<div>\n",
       "<style scoped>\n",
       "    .dataframe tbody tr th:only-of-type {\n",
       "        vertical-align: middle;\n",
       "    }\n",
       "\n",
       "    .dataframe tbody tr th {\n",
       "        vertical-align: top;\n",
       "    }\n",
       "\n",
       "    .dataframe thead th {\n",
       "        text-align: right;\n",
       "    }\n",
       "</style>\n",
       "<table border=\"1\" class=\"dataframe\">\n",
       "  <thead>\n",
       "    <tr style=\"text-align: right;\">\n",
       "      <th></th>\n",
       "      <th>identifier</th>\n",
       "      <th>identifier.source</th>\n",
       "      <th>target</th>\n",
       "      <th>target.source</th>\n",
       "      <th>StringDB_ppi</th>\n",
       "    </tr>\n",
       "  </thead>\n",
       "  <tbody>\n",
       "    <tr>\n",
       "      <th>0</th>\n",
       "      <td>ENSMUSG00000026295</td>\n",
       "      <td>Ensembl</td>\n",
       "      <td>ENSMUSG00000026295</td>\n",
       "      <td>Ensembl</td>\n",
       "      <td>[{'stringdb_link_to': nan, 'Ensembl': nan, 'sc...</td>\n",
       "    </tr>\n",
       "    <tr>\n",
       "      <th>1</th>\n",
       "      <td>ENSMUSG00000022877</td>\n",
       "      <td>Ensembl</td>\n",
       "      <td>ENSMUSG00000022877</td>\n",
       "      <td>Ensembl</td>\n",
       "      <td>[{'stringdb_link_to': nan, 'Ensembl': nan, 'sc...</td>\n",
       "    </tr>\n",
       "    <tr>\n",
       "      <th>2</th>\n",
       "      <td>ENSMUSG00000020914</td>\n",
       "      <td>Ensembl</td>\n",
       "      <td>ENSMUSG00000020914</td>\n",
       "      <td>Ensembl</td>\n",
       "      <td>[{'stringdb_link_to': nan, 'Ensembl': nan, 'sc...</td>\n",
       "    </tr>\n",
       "    <tr>\n",
       "      <th>3</th>\n",
       "      <td>ENSMUSG00000024747</td>\n",
       "      <td>Ensembl</td>\n",
       "      <td>ENSMUSG00000024747</td>\n",
       "      <td>Ensembl</td>\n",
       "      <td>[{'stringdb_link_to': nan, 'Ensembl': nan, 'sc...</td>\n",
       "    </tr>\n",
       "    <tr>\n",
       "      <th>4</th>\n",
       "      <td>ENSMUSG00000032081</td>\n",
       "      <td>Ensembl</td>\n",
       "      <td>ENSMUSG00000032081</td>\n",
       "      <td>Ensembl</td>\n",
       "      <td>[{'stringdb_link_to': nan, 'Ensembl': nan, 'sc...</td>\n",
       "    </tr>\n",
       "  </tbody>\n",
       "</table>\n",
       "</div>"
      ],
      "text/plain": [
       "           identifier identifier.source              target target.source  \\\n",
       "0  ENSMUSG00000026295           Ensembl  ENSMUSG00000026295       Ensembl   \n",
       "1  ENSMUSG00000022877           Ensembl  ENSMUSG00000022877       Ensembl   \n",
       "2  ENSMUSG00000020914           Ensembl  ENSMUSG00000020914       Ensembl   \n",
       "3  ENSMUSG00000024747           Ensembl  ENSMUSG00000024747       Ensembl   \n",
       "4  ENSMUSG00000032081           Ensembl  ENSMUSG00000032081       Ensembl   \n",
       "\n",
       "                                        StringDB_ppi  \n",
       "0  [{'stringdb_link_to': nan, 'Ensembl': nan, 'sc...  \n",
       "1  [{'stringdb_link_to': nan, 'Ensembl': nan, 'sc...  \n",
       "2  [{'stringdb_link_to': nan, 'Ensembl': nan, 'sc...  \n",
       "3  [{'stringdb_link_to': nan, 'Ensembl': nan, 'sc...  \n",
       "4  [{'stringdb_link_to': nan, 'Ensembl': nan, 'sc...  "
      ]
     },
     "execution_count": 28,
     "metadata": {},
     "output_type": "execute_result"
    }
   ],
   "source": [
    "input_species = \"Mouse\"\n",
    "ppi_df, ppi_metadata = stringdb.get_ppi(bridgedb_df=bridgedb_df, species=input_species)\n",
    "ppi_df.head()"
   ]
  },
  {
   "cell_type": "code",
   "execution_count": 29,
   "metadata": {},
   "outputs": [
    {
     "data": {
      "text/plain": [
       "[{'stringdb_link_to': nan,\n",
       "  'Ensembl': nan,\n",
       "  'score': nan,\n",
       "  'Uniprot-TrEMBL': None,\n",
       "  'Uniprot-TrEMBL_link': None}]"
      ]
     },
     "execution_count": 29,
     "metadata": {},
     "output_type": "execute_result"
    }
   ],
   "source": [
    "ppi_df[STRING_PPI_COL][3]"
   ]
  },
  {
   "cell_type": "markdown",
   "metadata": {},
   "source": [
    "### 2.7 Gene expression edges"
   ]
  },
  {
   "cell_type": "code",
   "execution_count": 30,
   "metadata": {},
   "outputs": [
    {
     "data": {
      "application/vnd.microsoft.datawrangler.viewer.v0+json": {
       "columns": [
        {
         "name": "index",
         "rawType": "int64",
         "type": "integer"
        },
        {
         "name": "identifier",
         "rawType": "object",
         "type": "string"
        },
        {
         "name": "identifier.source",
         "rawType": "object",
         "type": "string"
        },
        {
         "name": "target",
         "rawType": "object",
         "type": "string"
        },
        {
         "name": "target.source",
         "rawType": "object",
         "type": "string"
        },
        {
         "name": "Bgee_gene_expression_levels",
         "rawType": "object",
         "type": "unknown"
        }
       ],
       "conversionMethod": "pd.DataFrame",
       "ref": "9daa1bd5-bbab-4eca-8232-709b74cbc47d",
       "rows": [
        [
         "0",
         "ENSMUSG00000004035",
         "Ensembl",
         "ENSMUSG00000004035",
         "Ensembl",
         "[{'anatomical_entity_id': 'UBERON_0000955', 'anatomical_entity_name': 'brain', 'expression_level': 73.56190999999998, 'confidence_level_id': 'CIO_0000029', 'confidence_level_name': 'high confidence level', 'developmental_stage_id': 'UBERON_0000104', 'developmental_stage_name': 'life cycle'}, {'anatomical_entity_id': 'UBERON_0004535', 'anatomical_entity_name': 'cardiovascular system', 'expression_level': 78.7967, 'confidence_level_id': 'CIO_0000029', 'confidence_level_name': 'high confidence level', 'developmental_stage_id': 'UBERON_0000104', 'developmental_stage_name': 'life cycle'}, {'anatomical_entity_id': 'UBERON_0001007', 'anatomical_entity_name': 'digestive system', 'expression_level': 79.79304, 'confidence_level_id': 'CIO_0000029', 'confidence_level_name': 'high confidence level', 'developmental_stage_id': 'UBERON_0000104', 'developmental_stage_name': 'life cycle'}, {'anatomical_entity_id': 'UBERON_0000948', 'anatomical_entity_name': 'heart', 'expression_level': 81.27626999999998, 'confidence_level_id': 'CIO_0000029', 'confidence_level_name': 'high confidence level', 'developmental_stage_id': 'UBERON_0000104', 'developmental_stage_name': 'life cycle'}, {'anatomical_entity_id': 'UBERON_0005057', 'anatomical_entity_name': 'immune organ', 'expression_level': 49.65039, 'confidence_level_id': 'CIO_0000029', 'confidence_level_name': 'high confidence level', 'developmental_stage_id': 'UBERON_0000104', 'developmental_stage_name': 'life cycle'}, {'anatomical_entity_id': 'UBERON_0002113', 'anatomical_entity_name': 'kidney', 'expression_level': 67.17682, 'confidence_level_id': 'CIO_0000029', 'confidence_level_name': 'high confidence level', 'developmental_stage_id': 'UBERON_0000104', 'developmental_stage_name': 'life cycle'}, {'anatomical_entity_id': 'UBERON_0002107', 'anatomical_entity_name': 'liver', 'expression_level': 90.2128, 'confidence_level_id': 'CIO_0000029', 'confidence_level_name': 'high confidence level', 'developmental_stage_id': 'UBERON_0000104', 'developmental_stage_name': 'life cycle'}, {'anatomical_entity_id': 'UBERON_0002048', 'anatomical_entity_name': 'lung', 'expression_level': 56.81078, 'confidence_level_id': 'CIO_0000029', 'confidence_level_name': 'high confidence level', 'developmental_stage_id': 'UBERON_0000104', 'developmental_stage_name': 'life cycle'}, {'anatomical_entity_id': 'UBERON_0001016', 'anatomical_entity_name': 'nervous system', 'expression_level': 73.20754999999998, 'confidence_level_id': 'CIO_0000029', 'confidence_level_name': 'high confidence level', 'developmental_stage_id': 'UBERON_0000104', 'developmental_stage_name': 'life cycle'}, {'anatomical_entity_id': 'UBERON_0001264', 'anatomical_entity_name': 'pancreas', 'expression_level': 73.34838999999998, 'confidence_level_id': 'CIO_0000029', 'confidence_level_name': 'high confidence level', 'developmental_stage_id': 'UBERON_0000104', 'developmental_stage_name': 'life cycle'}, {'anatomical_entity_id': 'UBERON_0001987', 'anatomical_entity_name': 'placenta', 'expression_level': 44.10263, 'confidence_level_id': 'CIO_0000030', 'confidence_level_name': 'medium confidence level', 'developmental_stage_id': 'UBERON_0000104', 'developmental_stage_name': 'life cycle'}, {'anatomical_entity_id': 'UBERON_0000990', 'anatomical_entity_name': 'reproductive system', 'expression_level': 76.16747999999998, 'confidence_level_id': 'CIO_0000029', 'confidence_level_name': 'high confidence level', 'developmental_stage_id': 'UBERON_0000104', 'developmental_stage_name': 'life cycle'}, {'anatomical_entity_id': 'UBERON_0001004', 'anatomical_entity_name': 'respiratory system', 'expression_level': 57.32117, 'confidence_level_id': 'CIO_0000029', 'confidence_level_name': 'high confidence level', 'developmental_stage_id': 'UBERON_0000104', 'developmental_stage_name': 'life cycle'}, {'anatomical_entity_id': 'UBERON_0001434', 'anatomical_entity_name': 'skeletal system', 'expression_level': 53.40314, 'confidence_level_id': 'CIO_0000030', 'confidence_level_name': 'medium confidence level', 'developmental_stage_id': 'UBERON_0000104', 'developmental_stage_name': 'life cycle'}]"
        ],
        [
         "1",
         "ENSMUSG00000020914",
         "Ensembl",
         "ENSMUSG00000020914",
         "Ensembl",
         "[{'anatomical_entity_id': 'UBERON_0000178', 'anatomical_entity_name': 'blood', 'expression_level': 65.57567, 'confidence_level_id': 'CIO_0000029', 'confidence_level_name': 'high confidence level', 'developmental_stage_id': 'UBERON_0000104', 'developmental_stage_name': 'life cycle'}, {'anatomical_entity_id': 'UBERON_0002371', 'anatomical_entity_name': 'bone marrow', 'expression_level': 91.47872, 'confidence_level_id': 'CIO_0000029', 'confidence_level_name': 'high confidence level', 'developmental_stage_id': 'UBERON_0000104', 'developmental_stage_name': 'life cycle'}, {'anatomical_entity_id': 'UBERON_0000955', 'anatomical_entity_name': 'brain', 'expression_level': 51.9632, 'confidence_level_id': 'CIO_0000029', 'confidence_level_name': 'high confidence level', 'developmental_stage_id': 'UBERON_0000104', 'developmental_stage_name': 'life cycle'}, {'anatomical_entity_id': 'UBERON_0000310', 'anatomical_entity_name': 'breast', 'expression_level': 62.75862, 'confidence_level_id': 'CIO_0000029', 'confidence_level_name': 'high confidence level', 'developmental_stage_id': 'UBERON_0000104', 'developmental_stage_name': 'life cycle'}, {'anatomical_entity_id': 'UBERON_0004535', 'anatomical_entity_name': 'cardiovascular system', 'expression_level': 66.01689, 'confidence_level_id': 'CIO_0000029', 'confidence_level_name': 'high confidence level', 'developmental_stage_id': 'UBERON_0000104', 'developmental_stage_name': 'life cycle'}, {'anatomical_entity_id': 'UBERON_0001007', 'anatomical_entity_name': 'digestive system', 'expression_level': 71.05956, 'confidence_level_id': 'CIO_0000029', 'confidence_level_name': 'high confidence level', 'developmental_stage_id': 'UBERON_0000104', 'developmental_stage_name': 'life cycle'}, {'anatomical_entity_id': 'UBERON_0000948', 'anatomical_entity_name': 'heart', 'expression_level': 67.01166, 'confidence_level_id': 'CIO_0000029', 'confidence_level_name': 'high confidence level', 'developmental_stage_id': 'UBERON_0000104', 'developmental_stage_name': 'life cycle'}, {'anatomical_entity_id': 'UBERON_0005057', 'anatomical_entity_name': 'immune organ', 'expression_level': 92.7083, 'confidence_level_id': 'CIO_0000029', 'confidence_level_name': 'high confidence level', 'developmental_stage_id': 'UBERON_0000104', 'developmental_stage_name': 'life cycle'}, {'anatomical_entity_id': 'UBERON_0002113', 'anatomical_entity_name': 'kidney', 'expression_level': 64.07998, 'confidence_level_id': 'CIO_0000029', 'confidence_level_name': 'high confidence level', 'developmental_stage_id': 'UBERON_0000104', 'developmental_stage_name': 'life cycle'}, {'anatomical_entity_id': 'UBERON_0002107', 'anatomical_entity_name': 'liver', 'expression_level': 58.87955, 'confidence_level_id': 'CIO_0000029', 'confidence_level_name': 'high confidence level', 'developmental_stage_id': 'UBERON_0000104', 'developmental_stage_name': 'life cycle'}, {'anatomical_entity_id': 'UBERON_0002048', 'anatomical_entity_name': 'lung', 'expression_level': 64.47449, 'confidence_level_id': 'CIO_0000029', 'confidence_level_name': 'high confidence level', 'developmental_stage_id': 'UBERON_0000104', 'developmental_stage_name': 'life cycle'}, {'anatomical_entity_id': 'UBERON_0001016', 'anatomical_entity_name': 'nervous system', 'expression_level': 52.96487, 'confidence_level_id': 'CIO_0000029', 'confidence_level_name': 'high confidence level', 'developmental_stage_id': 'UBERON_0000104', 'developmental_stage_name': 'life cycle'}, {'anatomical_entity_id': 'UBERON_0001264', 'anatomical_entity_name': 'pancreas', 'expression_level': 73.19363, 'confidence_level_id': 'CIO_0000029', 'confidence_level_name': 'high confidence level', 'developmental_stage_id': 'UBERON_0000104', 'developmental_stage_name': 'life cycle'}, {'anatomical_entity_id': 'UBERON_0001987', 'anatomical_entity_name': 'placenta', 'expression_level': 78.10403999999998, 'confidence_level_id': 'CIO_0000029', 'confidence_level_name': 'high confidence level', 'developmental_stage_id': 'UBERON_0000104', 'developmental_stage_name': 'life cycle'}, {'anatomical_entity_id': 'UBERON_0000990', 'anatomical_entity_name': 'reproductive system', 'expression_level': 87.43052, 'confidence_level_id': 'CIO_0000029', 'confidence_level_name': 'high confidence level', 'developmental_stage_id': 'UBERON_0000104', 'developmental_stage_name': 'life cycle'}, {'anatomical_entity_id': 'UBERON_0001004', 'anatomical_entity_name': 'respiratory system', 'expression_level': 64.08245, 'confidence_level_id': 'CIO_0000029', 'confidence_level_name': 'high confidence level', 'developmental_stage_id': 'UBERON_0000104', 'developmental_stage_name': 'life cycle'}, {'anatomical_entity_id': 'UBERON_0001434', 'anatomical_entity_name': 'skeletal system', 'expression_level': 84.99200999999998, 'confidence_level_id': 'CIO_0000029', 'confidence_level_name': 'high confidence level', 'developmental_stage_id': 'UBERON_0000104', 'developmental_stage_name': 'life cycle'}]"
        ],
        [
         "2",
         "ENSMUSG00000022877",
         "Ensembl",
         "ENSMUSG00000022877",
         "Ensembl",
         "[{'anatomical_entity_id': 'UBERON_0000955', 'anatomical_entity_name': 'brain', 'expression_level': 40.7377, 'confidence_level_id': 'CIO_0000029', 'confidence_level_name': 'high confidence level', 'developmental_stage_id': 'UBERON_0000104', 'developmental_stage_name': 'life cycle'}, {'anatomical_entity_id': 'UBERON_0004535', 'anatomical_entity_name': 'cardiovascular system', 'expression_level': 43.96171, 'confidence_level_id': 'CIO_0000030', 'confidence_level_name': 'medium confidence level', 'developmental_stage_id': 'UBERON_0000104', 'developmental_stage_name': 'life cycle'}, {'anatomical_entity_id': 'UBERON_0001007', 'anatomical_entity_name': 'digestive system', 'expression_level': 75.40685999999998, 'confidence_level_id': 'CIO_0000029', 'confidence_level_name': 'high confidence level', 'developmental_stage_id': 'UBERON_0000104', 'developmental_stage_name': 'life cycle'}, {'anatomical_entity_id': 'UBERON_0000948', 'anatomical_entity_name': 'heart', 'expression_level': 44.42853, 'confidence_level_id': 'CIO_0000029', 'confidence_level_name': 'high confidence level', 'developmental_stage_id': 'UBERON_0000104', 'developmental_stage_name': 'life cycle'}, {'anatomical_entity_id': 'UBERON_0005057', 'anatomical_entity_name': 'immune organ', 'expression_level': 42.58013, 'confidence_level_id': 'CIO_0000029', 'confidence_level_name': 'high confidence level', 'developmental_stage_id': 'UBERON_0000104', 'developmental_stage_name': 'life cycle'}, {'anatomical_entity_id': 'UBERON_0002113', 'anatomical_entity_name': 'kidney', 'expression_level': 57.5852, 'confidence_level_id': 'CIO_0000029', 'confidence_level_name': 'high confidence level', 'developmental_stage_id': 'UBERON_0000104', 'developmental_stage_name': 'life cycle'}, {'anatomical_entity_id': 'UBERON_0002107', 'anatomical_entity_name': 'liver', 'expression_level': 94.74651, 'confidence_level_id': 'CIO_0000029', 'confidence_level_name': 'high confidence level', 'developmental_stage_id': 'UBERON_0000104', 'developmental_stage_name': 'life cycle'}, {'anatomical_entity_id': 'UBERON_0001016', 'anatomical_entity_name': 'nervous system', 'expression_level': 41.06824, 'confidence_level_id': 'CIO_0000029', 'confidence_level_name': 'high confidence level', 'developmental_stage_id': 'UBERON_0000104', 'developmental_stage_name': 'life cycle'}, {'anatomical_entity_id': 'UBERON_0001264', 'anatomical_entity_name': 'pancreas', 'expression_level': 50.1414, 'confidence_level_id': 'CIO_0000029', 'confidence_level_name': 'high confidence level', 'developmental_stage_id': 'UBERON_0000104', 'developmental_stage_name': 'life cycle'}, {'anatomical_entity_id': 'UBERON_0001004', 'anatomical_entity_name': 'respiratory system', 'expression_level': 45.12154, 'confidence_level_id': 'CIO_0000030', 'confidence_level_name': 'medium confidence level', 'developmental_stage_id': 'UBERON_0000104', 'developmental_stage_name': 'life cycle'}]"
        ],
        [
         "3",
         "ENSMUSG00000024747",
         "Ensembl",
         "ENSMUSG00000024747",
         "Ensembl",
         "[{'anatomical_entity_id': 'UBERON_0000178', 'anatomical_entity_name': 'blood', 'expression_level': 47.48278, 'confidence_level_id': 'CIO_0000030', 'confidence_level_name': 'medium confidence level', 'developmental_stage_id': 'UBERON_0000104', 'developmental_stage_name': 'life cycle'}, {'anatomical_entity_id': 'UBERON_0002371', 'anatomical_entity_name': 'bone marrow', 'expression_level': 71.9108, 'confidence_level_id': 'CIO_0000029', 'confidence_level_name': 'high confidence level', 'developmental_stage_id': 'UBERON_0000104', 'developmental_stage_name': 'life cycle'}, {'anatomical_entity_id': 'UBERON_0000955', 'anatomical_entity_name': 'brain', 'expression_level': 45.54072, 'confidence_level_id': 'CIO_0000030', 'confidence_level_name': 'medium confidence level', 'developmental_stage_id': 'UBERON_0000104', 'developmental_stage_name': 'life cycle'}, {'anatomical_entity_id': 'UBERON_0000310', 'anatomical_entity_name': 'breast', 'expression_level': 81.50331, 'confidence_level_id': 'CIO_0000029', 'confidence_level_name': 'high confidence level', 'developmental_stage_id': 'UBERON_0000104', 'developmental_stage_name': 'life cycle'}, {'anatomical_entity_id': 'UBERON_0004535', 'anatomical_entity_name': 'cardiovascular system', 'expression_level': 54.35829, 'confidence_level_id': 'CIO_0000029', 'confidence_level_name': 'high confidence level', 'developmental_stage_id': 'UBERON_0000104', 'developmental_stage_name': 'life cycle'}, {'anatomical_entity_id': 'UBERON_0001007', 'anatomical_entity_name': 'digestive system', 'expression_level': 84.77262, 'confidence_level_id': 'CIO_0000029', 'confidence_level_name': 'high confidence level', 'developmental_stage_id': 'UBERON_0000104', 'developmental_stage_name': 'life cycle'}, {'anatomical_entity_id': 'UBERON_0000948', 'anatomical_entity_name': 'heart', 'expression_level': 50.98186, 'confidence_level_id': 'CIO_0000029', 'confidence_level_name': 'high confidence level', 'developmental_stage_id': 'UBERON_0000104', 'developmental_stage_name': 'life cycle'}, {'anatomical_entity_id': 'UBERON_0005057', 'anatomical_entity_name': 'immune organ', 'expression_level': 60.2917, 'confidence_level_id': 'CIO_0000029', 'confidence_level_name': 'high confidence level', 'developmental_stage_id': 'UBERON_0000104', 'developmental_stage_name': 'life cycle'}, {'anatomical_entity_id': 'UBERON_0002113', 'anatomical_entity_name': 'kidney', 'expression_level': 75.70588999999998, 'confidence_level_id': 'CIO_0000029', 'confidence_level_name': 'high confidence level', 'developmental_stage_id': 'UBERON_0000104', 'developmental_stage_name': 'life cycle'}, {'anatomical_entity_id': 'UBERON_0002107', 'anatomical_entity_name': 'liver', 'expression_level': 91.20688, 'confidence_level_id': 'CIO_0000029', 'confidence_level_name': 'high confidence level', 'developmental_stage_id': 'UBERON_0000104', 'developmental_stage_name': 'life cycle'}, {'anatomical_entity_id': 'UBERON_0002048', 'anatomical_entity_name': 'lung', 'expression_level': 96.35259, 'confidence_level_id': 'CIO_0000029', 'confidence_level_name': 'high confidence level', 'developmental_stage_id': 'UBERON_0000104', 'developmental_stage_name': 'life cycle'}, {'anatomical_entity_id': 'UBERON_0001016', 'anatomical_entity_name': 'nervous system', 'expression_level': 46.86064, 'confidence_level_id': 'CIO_0000030', 'confidence_level_name': 'medium confidence level', 'developmental_stage_id': 'UBERON_0000104', 'developmental_stage_name': 'life cycle'}, {'anatomical_entity_id': 'UBERON_0001264', 'anatomical_entity_name': 'pancreas', 'expression_level': 73.52171, 'confidence_level_id': 'CIO_0000029', 'confidence_level_name': 'high confidence level', 'developmental_stage_id': 'UBERON_0000104', 'developmental_stage_name': 'life cycle'}, {'anatomical_entity_id': 'UBERON_0000990', 'anatomical_entity_name': 'reproductive system', 'expression_level': 69.64988, 'confidence_level_id': 'CIO_0000029', 'confidence_level_name': 'high confidence level', 'developmental_stage_id': 'UBERON_0000104', 'developmental_stage_name': 'life cycle'}, {'anatomical_entity_id': 'UBERON_0001004', 'anatomical_entity_name': 'respiratory system', 'expression_level': 94.01699, 'confidence_level_id': 'CIO_0000029', 'confidence_level_name': 'high confidence level', 'developmental_stage_id': 'UBERON_0000104', 'developmental_stage_name': 'life cycle'}, {'anatomical_entity_id': 'UBERON_0001434', 'anatomical_entity_name': 'skeletal system', 'expression_level': 64.20356, 'confidence_level_id': 'CIO_0000029', 'confidence_level_name': 'high confidence level', 'developmental_stage_id': 'UBERON_0000104', 'developmental_stage_name': 'life cycle'}]"
        ],
        [
         "4",
         "ENSMUSG00000026295",
         "Ensembl",
         "ENSMUSG00000026295",
         "Ensembl",
         "[{'anatomical_entity_id': 'UBERON_0002371', 'anatomical_entity_name': 'bone marrow', 'expression_level': 43.10964, 'confidence_level_id': 'CIO_0000030', 'confidence_level_name': 'medium confidence level', 'developmental_stage_id': 'UBERON_0000104', 'developmental_stage_name': 'life cycle'}, {'anatomical_entity_id': 'UBERON_0000955', 'anatomical_entity_name': 'brain', 'expression_level': 39.62081, 'confidence_level_id': 'CIO_0000029', 'confidence_level_name': 'high confidence level', 'developmental_stage_id': 'UBERON_0000104', 'developmental_stage_name': 'life cycle'}, {'anatomical_entity_id': 'UBERON_0004535', 'anatomical_entity_name': 'cardiovascular system', 'expression_level': 40.86364, 'confidence_level_id': 'CIO_0000029', 'confidence_level_name': 'high confidence level', 'developmental_stage_id': 'UBERON_0000104', 'developmental_stage_name': 'life cycle'}, {'anatomical_entity_id': 'UBERON_0001007', 'anatomical_entity_name': 'digestive system', 'expression_level': 77.15213, 'confidence_level_id': 'CIO_0000029', 'confidence_level_name': 'high confidence level', 'developmental_stage_id': 'UBERON_0000104', 'developmental_stage_name': 'life cycle'}, {'anatomical_entity_id': 'UBERON_0000948', 'anatomical_entity_name': 'heart', 'expression_level': 41.04063, 'confidence_level_id': 'CIO_0000029', 'confidence_level_name': 'high confidence level', 'developmental_stage_id': 'UBERON_0000104', 'developmental_stage_name': 'life cycle'}, {'anatomical_entity_id': 'UBERON_0002113', 'anatomical_entity_name': 'kidney', 'expression_level': 86.81797, 'confidence_level_id': 'CIO_0000029', 'confidence_level_name': 'high confidence level', 'developmental_stage_id': 'UBERON_0000104', 'developmental_stage_name': 'life cycle'}, {'anatomical_entity_id': 'UBERON_0002107', 'anatomical_entity_name': 'liver', 'expression_level': 96.00181, 'confidence_level_id': 'CIO_0000029', 'confidence_level_name': 'high confidence level', 'developmental_stage_id': 'UBERON_0000104', 'developmental_stage_name': 'life cycle'}, {'anatomical_entity_id': 'UBERON_0002048', 'anatomical_entity_name': 'lung', 'expression_level': 40.4634, 'confidence_level_id': 'CIO_0000029', 'confidence_level_name': 'high confidence level', 'developmental_stage_id': 'UBERON_0000104', 'developmental_stage_name': 'life cycle'}, {'anatomical_entity_id': 'UBERON_0001016', 'anatomical_entity_name': 'nervous system', 'expression_level': 39.80427, 'confidence_level_id': 'CIO_0000029', 'confidence_level_name': 'high confidence level', 'developmental_stage_id': 'UBERON_0000104', 'developmental_stage_name': 'life cycle'}, {'anatomical_entity_id': 'UBERON_0001264', 'anatomical_entity_name': 'pancreas', 'expression_level': 47.03001, 'confidence_level_id': 'CIO_0000029', 'confidence_level_name': 'high confidence level', 'developmental_stage_id': 'UBERON_0000104', 'developmental_stage_name': 'life cycle'}, {'anatomical_entity_id': 'UBERON_0001987', 'anatomical_entity_name': 'placenta', 'expression_level': 59.23548, 'confidence_level_id': 'CIO_0000029', 'confidence_level_name': 'high confidence level', 'developmental_stage_id': 'UBERON_0000104', 'developmental_stage_name': 'life cycle'}, {'anatomical_entity_id': 'UBERON_0000990', 'anatomical_entity_name': 'reproductive system', 'expression_level': 42.10805, 'confidence_level_id': 'CIO_0000029', 'confidence_level_name': 'high confidence level', 'developmental_stage_id': 'UBERON_0000104', 'developmental_stage_name': 'life cycle'}, {'anatomical_entity_id': 'UBERON_0001004', 'anatomical_entity_name': 'respiratory system', 'expression_level': 40.55764, 'confidence_level_id': 'CIO_0000029', 'confidence_level_name': 'high confidence level', 'developmental_stage_id': 'UBERON_0000104', 'developmental_stage_name': 'life cycle'}, {'anatomical_entity_id': 'UBERON_0001434', 'anatomical_entity_name': 'skeletal system', 'expression_level': 43.27284, 'confidence_level_id': 'CIO_0000030', 'confidence_level_name': 'medium confidence level', 'developmental_stage_id': 'UBERON_0000104', 'developmental_stage_name': 'life cycle'}]"
        ]
       ],
       "shape": {
        "columns": 5,
        "rows": 5
       }
      },
      "text/html": [
       "<div>\n",
       "<style scoped>\n",
       "    .dataframe tbody tr th:only-of-type {\n",
       "        vertical-align: middle;\n",
       "    }\n",
       "\n",
       "    .dataframe tbody tr th {\n",
       "        vertical-align: top;\n",
       "    }\n",
       "\n",
       "    .dataframe thead th {\n",
       "        text-align: right;\n",
       "    }\n",
       "</style>\n",
       "<table border=\"1\" class=\"dataframe\">\n",
       "  <thead>\n",
       "    <tr style=\"text-align: right;\">\n",
       "      <th></th>\n",
       "      <th>identifier</th>\n",
       "      <th>identifier.source</th>\n",
       "      <th>target</th>\n",
       "      <th>target.source</th>\n",
       "      <th>Bgee_gene_expression_levels</th>\n",
       "    </tr>\n",
       "  </thead>\n",
       "  <tbody>\n",
       "    <tr>\n",
       "      <th>0</th>\n",
       "      <td>ENSMUSG00000004035</td>\n",
       "      <td>Ensembl</td>\n",
       "      <td>ENSMUSG00000004035</td>\n",
       "      <td>Ensembl</td>\n",
       "      <td>[{'anatomical_entity_id': 'UBERON_0000955', 'a...</td>\n",
       "    </tr>\n",
       "    <tr>\n",
       "      <th>1</th>\n",
       "      <td>ENSMUSG00000020914</td>\n",
       "      <td>Ensembl</td>\n",
       "      <td>ENSMUSG00000020914</td>\n",
       "      <td>Ensembl</td>\n",
       "      <td>[{'anatomical_entity_id': 'UBERON_0000178', 'a...</td>\n",
       "    </tr>\n",
       "    <tr>\n",
       "      <th>2</th>\n",
       "      <td>ENSMUSG00000022877</td>\n",
       "      <td>Ensembl</td>\n",
       "      <td>ENSMUSG00000022877</td>\n",
       "      <td>Ensembl</td>\n",
       "      <td>[{'anatomical_entity_id': 'UBERON_0000955', 'a...</td>\n",
       "    </tr>\n",
       "    <tr>\n",
       "      <th>3</th>\n",
       "      <td>ENSMUSG00000024747</td>\n",
       "      <td>Ensembl</td>\n",
       "      <td>ENSMUSG00000024747</td>\n",
       "      <td>Ensembl</td>\n",
       "      <td>[{'anatomical_entity_id': 'UBERON_0000178', 'a...</td>\n",
       "    </tr>\n",
       "    <tr>\n",
       "      <th>4</th>\n",
       "      <td>ENSMUSG00000026295</td>\n",
       "      <td>Ensembl</td>\n",
       "      <td>ENSMUSG00000026295</td>\n",
       "      <td>Ensembl</td>\n",
       "      <td>[{'anatomical_entity_id': 'UBERON_0002371', 'a...</td>\n",
       "    </tr>\n",
       "  </tbody>\n",
       "</table>\n",
       "</div>"
      ],
      "text/plain": [
       "           identifier identifier.source              target target.source  \\\n",
       "0  ENSMUSG00000004035           Ensembl  ENSMUSG00000004035       Ensembl   \n",
       "1  ENSMUSG00000020914           Ensembl  ENSMUSG00000020914       Ensembl   \n",
       "2  ENSMUSG00000022877           Ensembl  ENSMUSG00000022877       Ensembl   \n",
       "3  ENSMUSG00000024747           Ensembl  ENSMUSG00000024747       Ensembl   \n",
       "4  ENSMUSG00000026295           Ensembl  ENSMUSG00000026295       Ensembl   \n",
       "\n",
       "                         Bgee_gene_expression_levels  \n",
       "0  [{'anatomical_entity_id': 'UBERON_0000955', 'a...  \n",
       "1  [{'anatomical_entity_id': 'UBERON_0000178', 'a...  \n",
       "2  [{'anatomical_entity_id': 'UBERON_0000955', 'a...  \n",
       "3  [{'anatomical_entity_id': 'UBERON_0000178', 'a...  \n",
       "4  [{'anatomical_entity_id': 'UBERON_0002371', 'a...  "
      ]
     },
     "execution_count": 30,
     "metadata": {},
     "output_type": "execute_result"
    }
   ],
   "source": [
    "bgee_df, bgee_metadata = bgee.get_gene_expression(bridgedb_df=bridgedb_df)\n",
    "bgee_df.head()"
   ]
  },
  {
   "cell_type": "code",
   "execution_count": 31,
   "metadata": {},
   "outputs": [
    {
     "data": {
      "text/plain": [
       "[{'anatomical_entity_id': 'UBERON_0000178',\n",
       "  'anatomical_entity_name': 'blood',\n",
       "  'expression_level': 65.57567,\n",
       "  'confidence_level_id': 'CIO_0000029',\n",
       "  'confidence_level_name': 'high confidence level',\n",
       "  'developmental_stage_id': 'UBERON_0000104',\n",
       "  'developmental_stage_name': 'life cycle'},\n",
       " {'anatomical_entity_id': 'UBERON_0002371',\n",
       "  'anatomical_entity_name': 'bone marrow',\n",
       "  'expression_level': 91.47872,\n",
       "  'confidence_level_id': 'CIO_0000029',\n",
       "  'confidence_level_name': 'high confidence level',\n",
       "  'developmental_stage_id': 'UBERON_0000104',\n",
       "  'developmental_stage_name': 'life cycle'},\n",
       " {'anatomical_entity_id': 'UBERON_0000955',\n",
       "  'anatomical_entity_name': 'brain',\n",
       "  'expression_level': 51.9632,\n",
       "  'confidence_level_id': 'CIO_0000029',\n",
       "  'confidence_level_name': 'high confidence level',\n",
       "  'developmental_stage_id': 'UBERON_0000104',\n",
       "  'developmental_stage_name': 'life cycle'},\n",
       " {'anatomical_entity_id': 'UBERON_0000310',\n",
       "  'anatomical_entity_name': 'breast',\n",
       "  'expression_level': 62.75862,\n",
       "  'confidence_level_id': 'CIO_0000029',\n",
       "  'confidence_level_name': 'high confidence level',\n",
       "  'developmental_stage_id': 'UBERON_0000104',\n",
       "  'developmental_stage_name': 'life cycle'},\n",
       " {'anatomical_entity_id': 'UBERON_0004535',\n",
       "  'anatomical_entity_name': 'cardiovascular system',\n",
       "  'expression_level': 66.01689,\n",
       "  'confidence_level_id': 'CIO_0000029',\n",
       "  'confidence_level_name': 'high confidence level',\n",
       "  'developmental_stage_id': 'UBERON_0000104',\n",
       "  'developmental_stage_name': 'life cycle'},\n",
       " {'anatomical_entity_id': 'UBERON_0001007',\n",
       "  'anatomical_entity_name': 'digestive system',\n",
       "  'expression_level': 71.05956,\n",
       "  'confidence_level_id': 'CIO_0000029',\n",
       "  'confidence_level_name': 'high confidence level',\n",
       "  'developmental_stage_id': 'UBERON_0000104',\n",
       "  'developmental_stage_name': 'life cycle'},\n",
       " {'anatomical_entity_id': 'UBERON_0000948',\n",
       "  'anatomical_entity_name': 'heart',\n",
       "  'expression_level': 67.01166,\n",
       "  'confidence_level_id': 'CIO_0000029',\n",
       "  'confidence_level_name': 'high confidence level',\n",
       "  'developmental_stage_id': 'UBERON_0000104',\n",
       "  'developmental_stage_name': 'life cycle'},\n",
       " {'anatomical_entity_id': 'UBERON_0005057',\n",
       "  'anatomical_entity_name': 'immune organ',\n",
       "  'expression_level': 92.7083,\n",
       "  'confidence_level_id': 'CIO_0000029',\n",
       "  'confidence_level_name': 'high confidence level',\n",
       "  'developmental_stage_id': 'UBERON_0000104',\n",
       "  'developmental_stage_name': 'life cycle'},\n",
       " {'anatomical_entity_id': 'UBERON_0002113',\n",
       "  'anatomical_entity_name': 'kidney',\n",
       "  'expression_level': 64.07998,\n",
       "  'confidence_level_id': 'CIO_0000029',\n",
       "  'confidence_level_name': 'high confidence level',\n",
       "  'developmental_stage_id': 'UBERON_0000104',\n",
       "  'developmental_stage_name': 'life cycle'},\n",
       " {'anatomical_entity_id': 'UBERON_0002107',\n",
       "  'anatomical_entity_name': 'liver',\n",
       "  'expression_level': 58.87955,\n",
       "  'confidence_level_id': 'CIO_0000029',\n",
       "  'confidence_level_name': 'high confidence level',\n",
       "  'developmental_stage_id': 'UBERON_0000104',\n",
       "  'developmental_stage_name': 'life cycle'},\n",
       " {'anatomical_entity_id': 'UBERON_0002048',\n",
       "  'anatomical_entity_name': 'lung',\n",
       "  'expression_level': 64.47449,\n",
       "  'confidence_level_id': 'CIO_0000029',\n",
       "  'confidence_level_name': 'high confidence level',\n",
       "  'developmental_stage_id': 'UBERON_0000104',\n",
       "  'developmental_stage_name': 'life cycle'},\n",
       " {'anatomical_entity_id': 'UBERON_0001016',\n",
       "  'anatomical_entity_name': 'nervous system',\n",
       "  'expression_level': 52.96487,\n",
       "  'confidence_level_id': 'CIO_0000029',\n",
       "  'confidence_level_name': 'high confidence level',\n",
       "  'developmental_stage_id': 'UBERON_0000104',\n",
       "  'developmental_stage_name': 'life cycle'},\n",
       " {'anatomical_entity_id': 'UBERON_0001264',\n",
       "  'anatomical_entity_name': 'pancreas',\n",
       "  'expression_level': 73.19363,\n",
       "  'confidence_level_id': 'CIO_0000029',\n",
       "  'confidence_level_name': 'high confidence level',\n",
       "  'developmental_stage_id': 'UBERON_0000104',\n",
       "  'developmental_stage_name': 'life cycle'},\n",
       " {'anatomical_entity_id': 'UBERON_0001987',\n",
       "  'anatomical_entity_name': 'placenta',\n",
       "  'expression_level': 78.10403999999998,\n",
       "  'confidence_level_id': 'CIO_0000029',\n",
       "  'confidence_level_name': 'high confidence level',\n",
       "  'developmental_stage_id': 'UBERON_0000104',\n",
       "  'developmental_stage_name': 'life cycle'},\n",
       " {'anatomical_entity_id': 'UBERON_0000990',\n",
       "  'anatomical_entity_name': 'reproductive system',\n",
       "  'expression_level': 87.43052,\n",
       "  'confidence_level_id': 'CIO_0000029',\n",
       "  'confidence_level_name': 'high confidence level',\n",
       "  'developmental_stage_id': 'UBERON_0000104',\n",
       "  'developmental_stage_name': 'life cycle'},\n",
       " {'anatomical_entity_id': 'UBERON_0001004',\n",
       "  'anatomical_entity_name': 'respiratory system',\n",
       "  'expression_level': 64.08245,\n",
       "  'confidence_level_id': 'CIO_0000029',\n",
       "  'confidence_level_name': 'high confidence level',\n",
       "  'developmental_stage_id': 'UBERON_0000104',\n",
       "  'developmental_stage_name': 'life cycle'},\n",
       " {'anatomical_entity_id': 'UBERON_0001434',\n",
       "  'anatomical_entity_name': 'skeletal system',\n",
       "  'expression_level': 84.99200999999998,\n",
       "  'confidence_level_id': 'CIO_0000029',\n",
       "  'confidence_level_name': 'high confidence level',\n",
       "  'developmental_stage_id': 'UBERON_0000104',\n",
       "  'developmental_stage_name': 'life cycle'}]"
      ]
     },
     "execution_count": 31,
     "metadata": {},
     "output_type": "execute_result"
    }
   ],
   "source": [
    "bgee_df[BGEE_GENE_EXPRESSION_LEVELS_COL][1]"
   ]
  },
  {
   "cell_type": "markdown",
   "metadata": {},
   "source": [
    "### 2.8 Transporter Inhibitors"
   ]
  },
  {
   "cell_type": "code",
   "execution_count": 32,
   "metadata": {},
   "outputs": [
    {
     "data": {
      "application/vnd.microsoft.datawrangler.viewer.v0+json": {
       "columns": [
        {
         "name": "index",
         "rawType": "int64",
         "type": "integer"
        }
       ],
       "conversionMethod": "pd.DataFrame",
       "ref": "d72b2ca7-61c3-4129-97d3-2e80d0625741",
       "rows": [],
       "shape": {
        "columns": 0,
        "rows": 0
       }
      },
      "text/html": [
       "<div>\n",
       "<style scoped>\n",
       "    .dataframe tbody tr th:only-of-type {\n",
       "        vertical-align: middle;\n",
       "    }\n",
       "\n",
       "    .dataframe tbody tr th {\n",
       "        vertical-align: top;\n",
       "    }\n",
       "\n",
       "    .dataframe thead th {\n",
       "        text-align: right;\n",
       "    }\n",
       "</style>\n",
       "<table border=\"1\" class=\"dataframe\">\n",
       "  <thead>\n",
       "    <tr style=\"text-align: right;\">\n",
       "      <th></th>\n",
       "    </tr>\n",
       "  </thead>\n",
       "  <tbody>\n",
       "  </tbody>\n",
       "</table>\n",
       "</div>"
      ],
      "text/plain": [
       "Empty DataFrame\n",
       "Columns: []\n",
       "Index: []"
      ]
     },
     "execution_count": 32,
     "metadata": {},
     "output_type": "execute_result"
    }
   ],
   "source": [
    "inhibitor_df, inhibitor_metadata = molmedb.get_gene_compound_inhibitor(bridgedb_df=bridgedb_df_hl)\n",
    "inhibitor_df.head()"
   ]
  },
  {
   "cell_type": "markdown",
   "metadata": {},
   "source": [
    "# 3. Generating Graph"
   ]
  },
  {
   "cell_type": "markdown",
   "metadata": {},
   "source": [
    "### 3.1 Combing all the results into single dataframe"
   ]
  },
  {
   "cell_type": "code",
   "execution_count": 33,
   "metadata": {},
   "outputs": [
    {
     "data": {
      "application/vnd.microsoft.datawrangler.viewer.v0+json": {
       "columns": [
        {
         "name": "index",
         "rawType": "int64",
         "type": "integer"
        },
        {
         "name": "identifier",
         "rawType": "object",
         "type": "string"
        },
        {
         "name": "identifier.source",
         "rawType": "object",
         "type": "string"
        },
        {
         "name": "target",
         "rawType": "object",
         "type": "string"
        },
        {
         "name": "target.source",
         "rawType": "object",
         "type": "string"
        },
        {
         "name": "WikiPathways",
         "rawType": "object",
         "type": "unknown"
        },
        {
         "name": "StringDB_ppi",
         "rawType": "object",
         "type": "unknown"
        },
        {
         "name": "Ensembl_homologs",
         "rawType": "object",
         "type": "unknown"
        },
        {
         "name": "KEGG_pathways",
         "rawType": "object",
         "type": "unknown"
        },
        {
         "name": "homolog",
         "rawType": "object",
         "type": "string"
        },
        {
         "name": "OpenTargets_reactome",
         "rawType": "object",
         "type": "unknown"
        },
        {
         "name": "OpenTargets_go",
         "rawType": "object",
         "type": "unknown"
        },
        {
         "name": "OpenTargets_gene_compounds",
         "rawType": "object",
         "type": "unknown"
        },
        {
         "name": "DISGENET_diseases",
         "rawType": "object",
         "type": "unknown"
        }
       ],
       "conversionMethod": "pd.DataFrame",
       "ref": "81cf637e-1478-4a3e-a230-cc68a46ba9a6",
       "rows": [
        [
         "0",
         "ENSMUSG00000026295",
         "Ensembl",
         "ENSMUSG00000026295",
         "Ensembl",
         "[{'pathway_id': nan, 'pathway_label': nan, 'pathway_gene_count': nan}]",
         "[{'stringdb_link_to': nan, 'Ensembl': nan, 'score': nan, 'Uniprot-TrEMBL': None, 'Uniprot-TrEMBL_link': None}]",
         "[{'homolog': 'ENSG00000072080'}]",
         "[{'pathway_id': nan, 'pathway_label': nan, 'gene_count': nan, 'compounds': [{'KEGG_identifier': None, 'name': None}]}]",
         "ENSG00000072080",
         "[{'pathway_label': 'Platelet degranulation ', 'pathway_id': 'Reactome:R-HSA-114608'}, {'pathway_label': 'Regulation of Insulin-like Growth Factor (IGF) transport and uptake by Insulin-like Growth Factor Binding Proteins (IGFBPs)', 'pathway_id': 'Reactome:R-HSA-381426'}, {'pathway_label': 'Post-translational protein phosphorylation', 'pathway_id': 'Reactome:R-HSA-8957275'}]",
         "[{'go_id': 'GO:0005788', 'go_name': 'endoplasmic reticulum lumen', 'go_type': 'C'}, {'go_id': 'GO:0031089', 'go_name': 'platelet dense granule lumen', 'go_type': 'C'}, {'go_id': 'GO:0004866', 'go_name': 'endopeptidase inhibitor activity', 'go_type': 'F'}, {'go_id': 'GO:0046849', 'go_name': 'bone remodeling', 'go_type': 'P'}, {'go_id': 'GO:0062023', 'go_name': 'collagen-containing extracellular matrix', 'go_type': 'C'}, {'go_id': 'GO:0005576', 'go_name': 'extracellular region', 'go_type': 'C'}, {'go_id': 'GO:0001501', 'go_name': 'skeletal system development', 'go_type': 'P'}]",
         "[{'chembl_id': nan, 'drugbank_id': nan, 'compound_cid': nan, 'compound_name': nan, 'clincal_trial_phase': nan, 'is_approved': nan, 'relation': nan, 'adverse_effect_count': nan, 'adverse_effect': nan}]",
         "[{'disease_name': 'Retinal dystrophy', 'HPO': 'HPO:HP:0000556', 'NCI': 'NCI:C35625', 'OMIM': None, 'MONDO': 'MONDO:0019118', 'ORDO': 'ORDO:71862', 'EFO': None, 'DO': 'DOID:8501', 'MESH': 'MESH:D058499', 'UMLS': 'UMLS:C0854723', 'disease_type': 'disease', 'disease_umlscui': 'C0854723', 'score': 0.4, 'ei': nan, 'el': None}]"
        ],
        [
         "1",
         "ENSMUSG00000022877",
         "Ensembl",
         "ENSMUSG00000022877",
         "Ensembl",
         "[{'pathway_id': nan, 'pathway_label': nan, 'pathway_gene_count': nan}]",
         "[{'stringdb_link_to': nan, 'Ensembl': nan, 'score': nan, 'Uniprot-TrEMBL': None, 'Uniprot-TrEMBL_link': None}]",
         "[{'homolog': 'ENSG00000113905'}]",
         "[{'pathway_id': nan, 'pathway_label': nan, 'gene_count': nan, 'compounds': [{'KEGG_identifier': None, 'name': None}]}]",
         "ENSG00000113905",
         "[{'pathway_label': 'Platelet degranulation ', 'pathway_id': 'Reactome:R-HSA-114608'}, {'pathway_label': 'Dissolution of Fibrin Clot', 'pathway_id': 'Reactome:R-HSA-75205'}]",
         "[{'go_id': 'GO:0005576', 'go_name': 'extracellular region', 'go_type': 'C'}, {'go_id': 'GO:2000504', 'go_name': 'positive regulation of blood vessel remodeling', 'go_type': 'P'}, {'go_id': 'GO:0043395', 'go_name': 'heparan sulfate proteoglycan binding', 'go_type': 'F'}, {'go_id': 'GO:0010468', 'go_name': 'regulation of gene expression', 'go_type': 'P'}, {'go_id': 'GO:0051918', 'go_name': 'negative regulation of fibrinolysis', 'go_type': 'P'}, {'go_id': 'GO:0002839', 'go_name': 'positive regulation of immune response to tumor cell', 'go_type': 'P'}, {'go_id': 'GO:0016525', 'go_name': 'negative regulation of angiogenesis', 'go_type': 'P'}, {'go_id': 'GO:0005515', 'go_name': 'protein binding', 'go_type': 'F'}, {'go_id': 'GO:1900747', 'go_name': 'negative regulation of vascular endothelial growth factor signaling pathway', 'go_type': 'P'}, {'go_id': 'GO:0033629', 'go_name': 'negative regulation of cell adhesion mediated by integrin', 'go_type': 'P'}, {'go_id': 'GO:0010543', 'go_name': 'regulation of platelet activation', 'go_type': 'P'}, {'go_id': 'GO:0051838', 'go_name': 'cytolysis by host of symbiont cells', 'go_type': 'P'}, {'go_id': 'GO:0008201', 'go_name': 'heparin binding', 'go_type': 'F'}, {'go_id': 'GO:0043537', 'go_name': 'negative regulation of blood vessel endothelial cell migration', 'go_type': 'P'}, {'go_id': 'GO:0030308', 'go_name': 'negative regulation of cell growth', 'go_type': 'P'}, {'go_id': 'GO:0020037', 'go_name': 'heme binding', 'go_type': 'F'}, {'go_id': 'GO:0010593', 'go_name': 'negative regulation of lamellipodium assembly', 'go_type': 'P'}, {'go_id': 'GO:2001027', 'go_name': 'negative regulation of endothelial cell chemotaxis', 'go_type': 'P'}, {'go_id': 'GO:0046872', 'go_name': 'metal ion binding', 'go_type': 'F'}, {'go_id': 'GO:0030168', 'go_name': 'platelet activation', 'go_type': 'P'}, {'go_id': 'GO:0004869', 'go_name': 'cysteine-type endopeptidase inhibitor activity', 'go_type': 'F'}, {'go_id': 'GO:0008270', 'go_name': 'zinc ion binding', 'go_type': 'F'}, {'go_id': 'GO:0043065', 'go_name': 'positive regulation of apoptotic process', 'go_type': 'P'}, {'go_id': 'GO:0008285', 'go_name': 'negative regulation of cell population proliferation', 'go_type': 'P'}, {'go_id': 'GO:0009986', 'go_name': 'cell surface', 'go_type': 'C'}, {'go_id': 'GO:0005102', 'go_name': 'signaling receptor binding', 'go_type': 'F'}, {'go_id': 'GO:0042730', 'go_name': 'fibrinolysis', 'go_type': 'P'}, {'go_id': 'GO:0050832', 'go_name': 'defense response to fungus', 'go_type': 'P'}, {'go_id': 'GO:0050730', 'go_name': 'regulation of peptidyl-tyrosine phosphorylation', 'go_type': 'P'}, {'go_id': 'GO:0005886', 'go_name': 'plasma membrane', 'go_type': 'C'}, {'go_id': 'GO:0070062', 'go_name': 'extracellular exosome', 'go_type': 'C'}, {'go_id': 'GO:0043254', 'go_name': 'regulation of protein-containing complex assembly', 'go_type': 'P'}, {'go_id': 'GO:0062023', 'go_name': 'collagen-containing extracellular matrix', 'go_type': 'C'}, {'go_id': 'GO:0001525', 'go_name': 'angiogenesis', 'go_type': 'P'}, {'go_id': 'GO:0072562', 'go_name': 'blood microparticle', 'go_type': 'C'}, {'go_id': 'GO:0061844', 'go_name': 'antimicrobial humoral immune response mediated by antimicrobial peptide', 'go_type': 'P'}, {'go_id': 'GO:0032956', 'go_name': 'regulation of actin cytoskeleton organization', 'go_type': 'P'}, {'go_id': 'GO:0030193', 'go_name': 'regulation of blood coagulation', 'go_type': 'P'}, {'go_id': 'GO:0051894', 'go_name': 'positive regulation of focal adhesion assembly', 'go_type': 'P'}, {'go_id': 'GO:0007162', 'go_name': 'negative regulation of cell adhesion', 'go_type': 'P'}, {'go_id': 'GO:0004867', 'go_name': 'serine-type endopeptidase inhibitor activity', 'go_type': 'F'}, {'go_id': 'GO:0019865', 'go_name': 'immunoglobulin binding', 'go_type': 'F'}, {'go_id': 'GO:0006935', 'go_name': 'chemotaxis', 'go_type': 'P'}, {'go_id': 'GO:0031093', 'go_name': 'platelet alpha granule lumen', 'go_type': 'C'}]",
         "[{'chembl_id': nan, 'drugbank_id': nan, 'compound_cid': nan, 'compound_name': nan, 'clincal_trial_phase': nan, 'is_approved': nan, 'relation': nan, 'adverse_effect_count': nan, 'adverse_effect': nan}]",
         "[{'disease_name': 'Breast Neoplasms', 'HPO': 'HPO:HP:0100013', 'NCI': 'NCI:C2910', 'OMIM': None, 'MONDO': 'MONDO:0021100', 'ORDO': None, 'EFO': 'EFO:0003869', 'DO': 'DOID:1612, DOID:3459', 'MESH': 'MESH:D001943', 'UMLS': 'UMLS:C1458155', 'disease_type': 'disease', 'disease_umlscui': 'C1458155', 'score': 0.7999999999999999, 'ei': 1.0, 'el': None}, {'disease_name': 'THROMBOPHILIA DUE TO HISTIDINE-RICH GLYCOPROTEIN DEFICIENCY', 'HPO': None, 'NCI': None, 'OMIM': 'MIM:613116, MIM:142640', 'MONDO': 'MONDO:0013143', 'ORDO': 'ORDO:217467', 'EFO': None, 'DO': 'DOID:0111903', 'MESH': 'MESH:C567737', 'UMLS': 'UMLS:C2751090', 'disease_type': 'disease', 'disease_umlscui': 'C2751090', 'score': 0.7, 'ei': 1.0, 'el': 'Moderate'}, {'disease_name': 'Thromboses', 'HPO': None, 'NCI': 'NCI:C26891', 'OMIM': None, 'MONDO': 'MONDO:0000831', 'ORDO': None, 'EFO': None, 'DO': 'DOID:0060903', 'MESH': 'MESH:D013927', 'UMLS': 'UMLS:C0040053', 'disease_type': 'phenotype', 'disease_umlscui': 'C0040053', 'score': 0.7, 'ei': 1.0, 'el': None}, {'disease_name': 'thrombus', 'HPO': None, 'NCI': None, 'OMIM': None, 'MONDO': 'MONDO:0000831', 'ORDO': None, 'EFO': None, 'DO': 'DOID:0060903', 'MESH': 'MESH:D013927', 'UMLS': 'UMLS:C0087086', 'disease_type': 'phenotype', 'disease_umlscui': 'C0087086', 'score': 0.6, 'ei': 1.0, 'el': None}, {'disease_name': 'Atherothrombosis', 'HPO': None, 'NCI': None, 'OMIM': None, 'MONDO': 'MONDO:0000831', 'ORDO': None, 'EFO': None, 'DO': 'DOID:0060903', 'MESH': 'MESH:D013927', 'UMLS': 'UMLS:C1963943', 'disease_type': 'phenotype', 'disease_umlscui': 'C1963943', 'score': 0.45, 'ei': 1.0, 'el': None}, {'disease_name': 'Hereditary thrombophilia due to congenital histidine-rich (poly-L) glycoprotein deficiency (disorder)', 'HPO': None, 'NCI': None, 'OMIM': None, 'MONDO': 'MONDO:0013143', 'ORDO': 'ORDO:217467', 'EFO': None, 'DO': None, 'MESH': None, 'UMLS': 'UMLS:C5190887', 'disease_type': 'disease', 'disease_umlscui': 'C5190887', 'score': 0.4, 'ei': 1.0, 'el': None}]"
        ],
        [
         "2",
         "ENSMUSG00000020914",
         "Ensembl",
         "ENSMUSG00000020914",
         "Ensembl",
         "[{'pathway_id': nan, 'pathway_label': nan, 'pathway_gene_count': nan}]",
         "[{'stringdb_link_to': nan, 'Ensembl': nan, 'score': nan, 'Uniprot-TrEMBL': None, 'Uniprot-TrEMBL_link': None}]",
         "[{'homolog': 'ENSG00000131747'}]",
         "[{'pathway_id': 'path:mmu01524', 'pathway_label': 'Platinum drug resistance - Mus musculus (house mouse)', 'gene_count': 0, 'compounds': [{'KEGG_identifier': None}]}, {'gene_count': 0, 'compounds': [{'KEGG_identifier': None}]}]",
         "ENSG00000131747",
         "[{'pathway_label': 'SUMOylation of DNA replication proteins', 'pathway_id': 'Reactome:R-HSA-4615885'}, {'pathway_label': 'Transcription of E2F targets under negative control by DREAM complex', 'pathway_id': 'Reactome:R-HSA-1362277'}]",
         "[{'go_id': 'GO:0046982', 'go_name': 'protein heterodimerization activity', 'go_type': 'F'}, {'go_id': 'GO:0042803', 'go_name': 'protein homodimerization activity', 'go_type': 'F'}, {'go_id': 'GO:1990904', 'go_name': 'ribonucleoprotein complex', 'go_type': 'C'}, {'go_id': 'GO:0005730', 'go_name': 'nucleolus', 'go_type': 'C'}, {'go_id': 'GO:0003677', 'go_name': 'DNA binding', 'go_type': 'F'}, {'go_id': 'GO:0009330', 'go_name': 'DNA topoisomerase type II (double strand cut, ATP-hydrolyzing) complex', 'go_type': 'C'}, {'go_id': 'GO:0005515', 'go_name': 'protein binding', 'go_type': 'F'}, {'go_id': 'GO:0008301', 'go_name': 'DNA binding, bending', 'go_type': 'F'}, {'go_id': 'GO:0005654', 'go_name': 'nucleoplasm', 'go_type': 'C'}, {'go_id': 'GO:0000775', 'go_name': 'chromosome, centromeric region', 'go_type': 'C'}, {'go_id': 'GO:0003918', 'go_name': 'DNA topoisomerase type II (double strand cut, ATP-hydrolyzing) activity', 'go_type': 'F'}, {'go_id': 'GO:0042752', 'go_name': 'regulation of circadian rhythm', 'go_type': 'P'}, {'go_id': 'GO:0005634', 'go_name': 'nucleus', 'go_type': 'C'}, {'go_id': 'GO:0043065', 'go_name': 'positive regulation of apoptotic process', 'go_type': 'P'}, {'go_id': 'GO:0005080', 'go_name': 'protein kinase C binding', 'go_type': 'F'}, {'go_id': 'GO:0005524', 'go_name': 'ATP binding', 'go_type': 'F'}, {'go_id': 'GO:0003723', 'go_name': 'RNA binding', 'go_type': 'F'}, {'go_id': 'GO:0008094', 'go_name': 'ATP-dependent activity, acting on DNA', 'go_type': 'F'}, {'go_id': 'GO:0000712', 'go_name': 'resolution of meiotic recombination intermediates', 'go_type': 'P'}, {'go_id': 'GO:0000228', 'go_name': 'nuclear chromosome', 'go_type': 'C'}, {'go_id': 'GO:0040016', 'go_name': 'embryonic cleavage', 'go_type': 'P'}, {'go_id': 'GO:0003682', 'go_name': 'chromatin binding', 'go_type': 'F'}, {'go_id': 'GO:0032991', 'go_name': 'protein-containing complex', 'go_type': 'C'}, {'go_id': 'GO:0030263', 'go_name': 'apoptotic chromosome condensation', 'go_type': 'P'}, {'go_id': 'GO:0007143', 'go_name': 'female meiotic nuclear division', 'go_type': 'P'}, {'go_id': 'GO:0006265', 'go_name': 'DNA topological change', 'go_type': 'P'}, {'go_id': 'GO:0007059', 'go_name': 'chromosome segregation', 'go_type': 'P'}, {'go_id': 'GO:1905463', 'go_name': 'negative regulation of DNA duplex unwinding', 'go_type': 'P'}, {'go_id': 'GO:0000793', 'go_name': 'condensed chromosome', 'go_type': 'C'}, {'go_id': 'GO:0005737', 'go_name': 'cytoplasm', 'go_type': 'C'}, {'go_id': 'GO:0048511', 'go_name': 'rhythmic process', 'go_type': 'P'}, {'go_id': 'GO:0000287', 'go_name': 'magnesium ion binding', 'go_type': 'F'}, {'go_id': 'GO:0006266', 'go_name': 'DNA ligation', 'go_type': 'P'}, {'go_id': 'GO:0045870', 'go_name': 'positive regulation of single stranded viral RNA replication via double stranded DNA intermediate', 'go_type': 'P'}, {'go_id': 'GO:0043130', 'go_name': 'ubiquitin binding', 'go_type': 'F'}, {'go_id': 'GO:0002244', 'go_name': 'hematopoietic progenitor cell differentiation', 'go_type': 'P'}, {'go_id': 'GO:0006974', 'go_name': 'DNA damage response', 'go_type': 'P'}, {'go_id': 'GO:0045944', 'go_name': 'positive regulation of transcription by RNA polymerase II', 'go_type': 'P'}, {'go_id': 'GO:0005814', 'go_name': 'centriole', 'go_type': 'C'}, {'go_id': 'GO:0001673', 'go_name': 'male germ cell nucleus', 'go_type': 'C'}, {'go_id': 'GO:0000819', 'go_name': 'sister chromatid segregation', 'go_type': 'P'}]",
         "[{'chembl_id': 'CHEMBL:CHEMBL44657', 'drugbank_id': 'DrugBank:DB00773', 'compound_cid': 'pubchem.compound:36462', 'compound_name': 'ETOPOSIDE', 'clincal_trial_phase': 4.0, 'is_approved': True, 'relation': 'activates', 'adverse_effect_count': 27.0, 'adverse_effect': [{'name': 'febrile neutropenia'}, {'name': 'neutropenia'}, {'name': 'mucosal inflammation'}, {'name': 'pancytopenia'}, {'name': 'thrombocytopenia'}, {'name': 'bone marrow failure'}, {'name': 'myelodysplastic syndrome'}, {'name': 'acute myeloid leukaemia'}, {'name': 'haematotoxicity'}, {'name': 'venoocclusive liver disease'}, {'name': 'sepsis'}, {'name': 'tumour lysis syndrome'}, {'name': 'leukopenia'}, {'name': 'myelosuppression'}, {'name': 'neutropenic sepsis'}, {'name': 'malignant neoplasm progression'}, {'name': 'disease progression'}, {'name': 'second primary malignancy'}, {'name': 'anaemia'}, {'name': 'ovarian failure'}, {'name': 'posterior reversible encephalopathy syndrome'}, {'name': 'pyrexia'}, {'name': 'diffuse large b-cell lymphoma recurrent'}, {'name': 'nephropathy toxic'}, {'name': 'disease recurrence'}]}, {'chembl_id': 'CHEMBL:CHEMBL1117', 'drugbank_id': 'DrugBank:DB01177', 'compound_cid': 'pubchem.compound:42890', 'compound_name': 'IDARUBICIN', 'clincal_trial_phase': 4.0, 'is_approved': True, 'relation': 'activates', 'adverse_effect_count': 88.0, 'adverse_effect': [{'name': 'febrile neutropenia'}, {'name': 'neutropenia'}, {'name': 'mucosal inflammation'}, {'name': 'fusarium infection'}, {'name': 'myelodysplastic syndrome transformation'}, {'name': 'acute promyelocytic leukaemia differentiation syndrome'}, {'name': 'bronchopulmonary aspergillosis'}, {'name': 'acute myeloid leukaemia'}, {'name': 'thrombocytopenia'}, {'name': 'bone marrow failure'}, {'name': 'myelodysplastic syndrome'}, {'name': 'sepsis'}, {'name': 'septic shock'}, {'name': 'neutropenic colitis'}, {'name': 'febrile bone marrow aplasia'}, {'name': 'mucormycosis'}, {'name': 'leukaemia recurrent'}, {'name': 'neutropenic sepsis'}, {'name': 'pancytopenia'}, {'name': 'acute myeloid leukaemia recurrent'}, {'name': 'acute lymphocytic leukaemia recurrent'}, {'name': 'lower respiratory tract infection fungal'}, {'name': 'fungal infection'}, {'name': 'pneumonia fungal'}, {'name': 'hyperbilirubinaemia'}]}, {'chembl_id': 'CHEMBL:CHEMBL53463', 'drugbank_id': 'DrugBank:DB00997', 'compound_cid': 'pubchem.compound:31703', 'compound_name': 'DOXORUBICIN', 'clincal_trial_phase': 4.0, 'is_approved': True, 'relation': 'activates', 'adverse_effect_count': 29.0, 'adverse_effect': [{'name': 'febrile neutropenia'}, {'name': 'neutropenia'}, {'name': 'mucosal inflammation'}, {'name': 'cardiotoxicity'}, {'name': 'haematotoxicity'}, {'name': 'diffuse large b-cell lymphoma recurrent'}, {'name': 'thrombocytopenia'}, {'name': 'disease progression'}, {'name': 'pancytopenia'}, {'name': 'myelodysplastic syndrome'}, {'name': 'bone marrow failure'}, {'name': 'leukopenia'}, {'name': 'anaemia'}, {'name': 'acute myeloid leukaemia'}, {'name': 'pneumocystis jirovecii pneumonia'}, {'name': 'diffuse large b-cell lymphoma'}, {'name': 'malignant neoplasm progression'}, {'name': 'febrile bone marrow aplasia'}, {'name': 'cardiomyopathy'}, {'name': 'tumour lysis syndrome'}, {'name': 'ejection fraction decreased'}, {'name': 'neutropenic sepsis'}, {'name': 'interstitial lung disease'}, {'name': 'pyrexia'}, {'name': 'neuropathy peripheral'}]}, {'chembl_id': 'CHEMBL:CHEMBL359744', 'drugbank_id': None, 'compound_cid': 'pubchem.compound:443939', 'compound_name': 'DOXORUBICIN HYDROCHLORIDE', 'clincal_trial_phase': 4.0, 'is_approved': True, 'relation': 'activates', 'adverse_effect_count': 27.0, 'adverse_effect': [{'name': 'febrile neutropenia'}, {'name': 'neutropenia'}, {'name': 'mucosal inflammation'}, {'name': 'cardiotoxicity'}, {'name': 'thrombocytopenia'}, {'name': 'haematotoxicity'}, {'name': 'acute myeloid leukaemia'}, {'name': 'diffuse large b-cell lymphoma recurrent'}, {'name': 'myelodysplastic syndrome'}, {'name': 'pancytopenia'}, {'name': 'disease progression'}, {'name': 'anaemia'}, {'name': 'leukopenia'}, {'name': 'febrile bone marrow aplasia'}, {'name': 'bone marrow failure'}, {'name': 'second primary malignancy'}, {'name': 'interstitial lung disease'}, {'name': 'cardiomyopathy'}, {'name': 'pyrexia'}, {'name': 'neutropenic sepsis'}, {'name': 'pneumocystis jirovecii pneumonia'}, {'name': 'palmar-plantar erythrodysaesthesia syndrome'}, {'name': 'ejection fraction decreased'}, {'name': 'malignant neoplasm progression'}, {'name': 'tumour lysis syndrome'}]}, {'chembl_id': 'CHEMBL:CHEMBL178', 'drugbank_id': 'DrugBank:DB00694', 'compound_cid': 'pubchem.compound:30323', 'compound_name': 'DAUNORUBICIN', 'clincal_trial_phase': 4.0, 'is_approved': True, 'relation': 'activates', 'adverse_effect_count': 44.0, 'adverse_effect': [{'name': 'febrile neutropenia'}, {'name': 'hypofibrinogenaemia'}, {'name': 'posterior reversible encephalopathy syndrome'}, {'name': 'sepsis'}, {'name': 'bone marrow failure'}, {'name': 'febrile bone marrow aplasia'}, {'name': 'neutropenia'}, {'name': 'haematotoxicity'}, {'name': 'hyperbilirubinaemia'}, {'name': 'hypertriglyceridaemia'}, {'name': 'multiple-drug resistance'}, {'name': 'colitis'}, {'name': 'cerebral venous thrombosis'}, {'name': 'mucormycosis'}, {'name': 'septic shock'}, {'name': 'tumour lysis syndrome'}, {'name': 'aspergillus infection'}, {'name': 'osteonecrosis'}, {'name': 'mucosal inflammation'}, {'name': 'neutropenic colitis'}, {'name': 'bronchopulmonary aspergillosis'}, {'name': 'pyrexia'}, {'name': 'bacteraemia'}, {'name': 'acute lymphocytic leukaemia recurrent'}, {'name': 'aplasia'}]}, {'chembl_id': 'CHEMBL:CHEMBL452231', 'drugbank_id': 'DrugBank:DB00444', 'compound_cid': 'pubchem.compound:452548', 'compound_name': 'TENIPOSIDE', 'clincal_trial_phase': 4.0, 'is_approved': True, 'relation': 'activates', 'adverse_effect_count': 8.0, 'adverse_effect': [{'name': 'neurotoxicity'}, {'name': 'tumour lysis syndrome'}, {'name': 'bone marrow transplant'}, {'name': 'muscular weakness'}, {'name': 'peripheral nerve palsy'}, {'name': 'acute myeloid leukaemia'}, {'name': 'myeloid leukaemia'}, {'name': 'sepsis'}]}, {'chembl_id': 'CHEMBL:CHEMBL1200976', 'drugbank_id': None, 'compound_cid': 'pubchem.compound:636362', 'compound_name': 'IDARUBICIN HYDROCHLORIDE', 'clincal_trial_phase': 4.0, 'is_approved': True, 'relation': 'activates', 'adverse_effect_count': 65.0, 'adverse_effect': [{'name': 'febrile neutropenia'}, {'name': 'acute myeloid leukaemia'}, {'name': 'neutropenic colitis'}, {'name': 'bone marrow failure'}, {'name': 'second primary malignancy'}, {'name': 'pancytopenia'}, {'name': 'cytogenetic abnormality'}, {'name': 'febrile bone marrow aplasia'}, {'name': 'hepatotoxicity'}, {'name': 'myelodysplastic syndrome'}, {'name': 'bronchopulmonary aspergillosis'}, {'name': 'aplasia'}, {'name': 'hyperbilirubinaemia'}, {'name': 'sepsis'}, {'name': 'myelodysplastic syndrome transformation'}, {'name': 'neutropenia'}, {'name': 'stem cell transplant'}, {'name': 'mucosal inflammation'}, {'name': 'thrombocytopenia'}, {'name': 'fungal infection'}, {'name': 'neoplasm recurrence'}, {'name': 'venoocclusive liver disease'}, {'name': 'pleural effusion'}, {'name': 'septic shock'}, {'name': 'necrotising ulcerative gingivostomatitis'}]}]",
         "[{'disease_name': 'Breast Neoplasms', 'HPO': 'HPO:HP:0100013', 'NCI': 'NCI:C2910', 'OMIM': None, 'MONDO': 'MONDO:0021100', 'ORDO': None, 'EFO': 'EFO:0003869', 'DO': 'DOID:1612, DOID:3459', 'MESH': 'MESH:D001943', 'UMLS': 'UMLS:C1458155', 'disease_type': 'disease', 'disease_umlscui': 'C1458155', 'score': 0.9500000000000001, 'ei': 0.8529411764705882, 'el': None}, {'disease_name': 'Neoplasm, Prostatic', 'HPO': 'HPO:HP:0100787', 'NCI': 'NCI:C3343', 'OMIM': None, 'MONDO': 'MONDO:0008315, MONDO:0021259', 'ORDO': None, 'EFO': None, 'DO': 'DOID:10283', 'MESH': 'MESH:D011471', 'UMLS': 'UMLS:C0033578', 'disease_type': 'disease', 'disease_umlscui': 'C0033578', 'score': 0.8, 'ei': 0.9444444444444444, 'el': None}, {'disease_name': 'Liver cell carcinoma', 'HPO': 'HPO:HP:0001402', 'NCI': 'NCI:C3099', 'OMIM': 'MIM:114550', 'MONDO': 'MONDO:0007256', 'ORDO': 'ORDO:88673', 'EFO': 'EFO:0000182, EFO:0000762, EFO:1000256', 'DO': 'DOID:3571, DOID:684', 'MESH': 'MESH:D006528', 'UMLS': 'UMLS:C2239176', 'disease_type': 'disease', 'disease_umlscui': 'C2239176', 'score': 0.75, 'ei': 0.9714285714285714, 'el': None}, {'disease_name': 'Lung adenocarcinoma', 'HPO': 'HPO:HP:0030078', 'NCI': 'NCI:C3512', 'OMIM': 'MIM:211980', 'MONDO': 'MONDO:0005061', 'ORDO': None, 'EFO': 'EFO:0000571, EFO:0005288', 'DO': 'DOID:3910', 'MESH': 'MESH:D000077192', 'UMLS': 'UMLS:C0152013', 'disease_type': 'disease', 'disease_umlscui': 'C0152013', 'score': 0.75, 'ei': 1.0, 'el': None}, {'disease_name': 'Leukemias', 'HPO': 'HPO:HP:0001909', 'NCI': 'NCI:C3161', 'OMIM': None, 'MONDO': 'MONDO:0005059', 'ORDO': None, 'EFO': 'EFO:0000565', 'DO': 'DOID:1240', 'MESH': 'MESH:D007938', 'UMLS': 'UMLS:C0023418', 'disease_type': 'disease', 'disease_umlscui': 'C0023418', 'score': 0.6000000000000001, 'ei': 1.0, 'el': None}, {'disease_name': 'Gliomas', 'HPO': 'HPO:HP:0009733', 'NCI': 'NCI:C3059', 'OMIM': None, 'MONDO': 'MONDO:0021042, MONDO:0100342', 'ORDO': 'ORDO:182067', 'EFO': 'EFO:0005543', 'DO': 'DOID:3070, DOID:5076', 'MESH': 'MESH:D005910', 'UMLS': 'UMLS:C0017638', 'disease_type': 'disease', 'disease_umlscui': 'C0017638', 'score': 0.6000000000000001, 'ei': 1.0, 'el': None}, {'disease_name': 'Liver Neoplasm', 'HPO': 'HPO:HP:0002896', 'NCI': None, 'OMIM': None, 'MONDO': 'MONDO:0002691', 'ORDO': None, 'EFO': 'EFO:1001513', 'DO': 'DOID:3571, DOID:684', 'MESH': 'MESH:D008113', 'UMLS': 'UMLS:C0023903', 'disease_type': 'disease', 'disease_umlscui': 'C0023903', 'score': 0.6000000000000001, 'ei': 1.0, 'el': None}, {'disease_name': 'Adrenal cortical carcinoma', 'HPO': 'HPO:HP:0006744', 'NCI': 'NCI:C9325', 'OMIM': None, 'MONDO': 'MONDO:0006639', 'ORDO': 'ORDO:1501', 'EFO': 'EFO:1000796', 'DO': 'DOID:3948', 'MESH': 'MESH:D018268', 'UMLS': 'UMLS:C0206686', 'disease_type': 'disease', 'disease_umlscui': 'C0206686', 'score': 0.6000000000000001, 'ei': 1.0, 'el': None}, {'disease_name': 'Sepsis', 'HPO': None, 'NCI': None, 'OMIM': None, 'MONDO': 'MONDO:0005229', 'ORDO': None, 'EFO': 'EFO:0003033', 'DO': 'DOID:0040085', 'MESH': 'MESH:D018805', 'UMLS': 'UMLS:C0243026', 'disease_type': 'disease', 'disease_umlscui': 'C0243026', 'score': 0.5, 'ei': 1.0, 'el': None}, {'disease_name': 'Non-Small Cell Adenocarcinoma', 'HPO': None, 'NCI': 'NCI:C27745', 'OMIM': None, 'MONDO': 'MONDO:0005061', 'ORDO': None, 'EFO': 'EFO:0000571, EFO:0005288', 'DO': 'DOID:3910', 'MESH': None, 'UMLS': 'UMLS:C1335060', 'disease_type': 'disease', 'disease_umlscui': 'C1335060', 'score': 0.4, 'ei': 1.0, 'el': None}, {'disease_name': 'Adenoid cystic carcinoma', 'HPO': None, 'NCI': 'NCI:C2970', 'OMIM': None, 'MONDO': 'MONDO:0003175, MONDO:0004971', 'ORDO': None, 'EFO': 'EFO:0000231', 'DO': 'DOID:0080202, DOID:4866', 'MESH': 'MESH:D003528', 'UMLS': 'UMLS:C0010606', 'disease_type': 'disease', 'disease_umlscui': 'C0010606', 'score': 0.4, 'ei': 1.0, 'el': None}, {'disease_name': 'Glioma, malignant', 'HPO': None, 'NCI': 'NCI:C4822', 'OMIM': None, 'MONDO': 'MONDO:0021042, MONDO:0100342', 'ORDO': 'ORDO:182067', 'EFO': 'EFO:0005543', 'DO': 'DOID:3070, DOID:5076', 'MESH': 'MESH:D005910', 'UMLS': 'UMLS:C0555198', 'disease_type': 'disease', 'disease_umlscui': 'C0555198', 'score': 0.4, 'ei': 1.0, 'el': None}, {'disease_name': 'Ovary Syndrome, Polycystic', 'HPO': 'HPO:HP:0000147', 'NCI': 'NCI:C26862', 'OMIM': 'MIM:184700', 'MONDO': 'MONDO:0008487', 'ORDO': 'ORDO:3185', 'EFO': 'EFO:0000660', 'DO': 'DOID:11612', 'MESH': 'MESH:D011085', 'UMLS': 'UMLS:C0032460', 'disease_type': 'disease', 'disease_umlscui': 'C0032460', 'score': 0.4, 'ei': 1.0, 'el': None}, {'disease_name': 'Gland Neoplasm, Salivary', 'HPO': 'HPO:HP:0100684', 'NCI': 'NCI:C3361', 'OMIM': None, 'MONDO': 'MONDO:0004669, MONDO:0021357', 'ORDO': None, 'EFO': 'EFO:0003826, EFO:1000384', 'DO': None, 'MESH': 'MESH:D012468', 'UMLS': 'UMLS:C0036095', 'disease_type': 'disease', 'disease_umlscui': 'C0036095', 'score': 0.4, 'ei': 1.0, 'el': None}, {'disease_name': 'DNA TOPOISOMERASE II, RESISTANCE TO INHIBITION OF, BY AMSACRINE', 'HPO': None, 'NCI': None, 'OMIM': 'MIM:126430', 'MONDO': None, 'ORDO': None, 'EFO': None, 'DO': None, 'MESH': None, 'UMLS': 'UMLS:C4016021', 'disease_type': 'phenotype', 'disease_umlscui': 'C4016021', 'score': 0.4, 'ei': 1.0, 'el': None}]"
        ],
        [
         "3",
         "ENSMUSG00000024747",
         "Ensembl",
         "ENSMUSG00000024747",
         "Ensembl",
         "[{'pathway_id': nan, 'pathway_label': nan, 'pathway_gene_count': nan}]",
         "[{'stringdb_link_to': nan, 'Ensembl': nan, 'score': nan, 'Uniprot-TrEMBL': None, 'Uniprot-TrEMBL_link': None}]",
         "[{'homolog': 'ENSG00000165092'}]",
         "[{'pathway_id': 'path:mmu00830', 'pathway_label': 'Retinol metabolism - Mus musculus (house mouse)', 'gene_count': 101, 'compounds': [{'KEGG_identifier': 'C00376'}, {'KEGG_identifier': 'C00473'}, {'KEGG_identifier': 'C00777'}, {'KEGG_identifier': 'C00778'}, {'KEGG_identifier': 'C00899'}, {'KEGG_identifier': 'C02075'}, {'KEGG_identifier': 'C02094'}, {'KEGG_identifier': 'C02110'}, {'KEGG_identifier': 'C02588'}, {'KEGG_identifier': 'C03455'}, {'KEGG_identifier': 'C05914'}, {'KEGG_identifier': 'C05915'}, {'KEGG_identifier': 'C05916'}, {'KEGG_identifier': 'C05917'}, {'KEGG_identifier': 'C11061'}, {'KEGG_identifier': 'C15492'}, {'KEGG_identifier': 'C15493'}, {'KEGG_identifier': 'C16677'}, {'KEGG_identifier': 'C16678'}, {'KEGG_identifier': 'C16679'}, {'KEGG_identifier': 'C16680'}, {'KEGG_identifier': 'C16681'}, {'KEGG_identifier': 'C16682'}, {'KEGG_identifier': 'C16683'}, {'KEGG_identifier': 'C21797'}]}, {'pathway_id': 'path:mmu01100', 'pathway_label': 'Metabolic pathways - Mus musculus (house mouse)', 'gene_count': 0, 'compounds': [{'KEGG_identifier': None}]}, {'gene_count': 0, 'compounds': [{'KEGG_identifier': None}]}]",
         "ENSG00000165092",
         "[{'pathway_label': 'Fructose catabolism', 'pathway_id': 'Reactome:R-HSA-70350'}, {'pathway_label': 'RA biosynthesis pathway', 'pathway_id': 'Reactome:R-HSA-5365859'}, {'pathway_label': 'Ethanol oxidation', 'pathway_id': 'Reactome:R-HSA-71384'}]",
         "[{'go_id': 'GO:0051287', 'go_name': 'NAD binding', 'go_type': 'F'}, {'go_id': 'GO:0004029', 'go_name': 'aldehyde dehydrogenase (NAD+) activity', 'go_type': 'F'}, {'go_id': 'GO:0120163', 'go_name': 'negative regulation of cold-induced thermogenesis', 'go_type': 'P'}, {'go_id': 'GO:0006081', 'go_name': 'cellular aldehyde metabolic process', 'go_type': 'P'}, {'go_id': 'GO:0106373', 'go_name': '3-deoxyglucosone dehydrogenase activity', 'go_type': 'F'}, {'go_id': 'GO:0019145', 'go_name': 'aminobutyraldehyde dehydrogenase (NAD+) activity', 'go_type': 'F'}, {'go_id': 'GO:0001758', 'go_name': 'retinal dehydrogenase activity', 'go_type': 'F'}, {'go_id': 'GO:0036438', 'go_name': 'maintenance of lens transparency', 'go_type': 'P'}, {'go_id': 'GO:0070062', 'go_name': 'extracellular exosome', 'go_type': 'C'}, {'go_id': 'GO:0005737', 'go_name': 'cytoplasm', 'go_type': 'C'}, {'go_id': 'GO:0005515', 'go_name': 'protein binding', 'go_type': 'F'}, {'go_id': 'GO:0005829', 'go_name': 'cytosol', 'go_type': 'C'}, {'go_id': 'GO:0005096', 'go_name': 'GTPase activator activity', 'go_type': 'F'}, {'go_id': 'GO:0001523', 'go_name': 'retinoid metabolic process', 'go_type': 'P'}, {'go_id': 'GO:0030424', 'go_name': 'axon', 'go_type': 'C'}, {'go_id': 'GO:0005497', 'go_name': 'androgen binding', 'go_type': 'F'}, {'go_id': 'GO:0018479', 'go_name': 'benzaldehyde dehydrogenase (NAD+) activity', 'go_type': 'F'}, {'go_id': 'GO:0042572', 'go_name': 'retinol metabolic process', 'go_type': 'P'}, {'go_id': 'GO:0045202', 'go_name': 'synapse', 'go_type': 'C'}, {'go_id': 'GO:0110095', 'go_name': 'cellular detoxification of aldehyde', 'go_type': 'P'}, {'go_id': 'GO:0009449', 'go_name': 'gamma-aminobutyric acid biosynthetic process', 'go_type': 'P'}, {'go_id': 'GO:0030392', 'go_name': 'fructosamine catabolic process', 'go_type': 'P'}]",
         "[{'chembl_id': nan, 'drugbank_id': nan, 'compound_cid': nan, 'compound_name': nan, 'clincal_trial_phase': nan, 'is_approved': nan, 'relation': nan, 'adverse_effect_count': nan, 'adverse_effect': nan}]",
         "[{'disease_name': 'Melanoma', 'HPO': 'HPO:HP:0002861', 'NCI': 'NCI:C3224', 'OMIM': None, 'MONDO': 'MONDO:0005105', 'ORDO': None, 'EFO': 'EFO:0000756', 'DO': 'DOID:1909, DOID:8923', 'MESH': 'MESH:D008545', 'UMLS': 'UMLS:C0025202', 'disease_type': 'disease', 'disease_umlscui': 'C0025202', 'score': 0.65, 'ei': 1.0, 'el': None}, {'disease_name': 'Schizophrenias', 'HPO': 'HPO:HP:0100753', 'NCI': 'NCI:C3362', 'OMIM': 'MIM:181500', 'MONDO': 'MONDO:0005090', 'ORDO': None, 'EFO': None, 'DO': 'DOID:5419', 'MESH': 'MESH:D012559', 'UMLS': 'UMLS:C0036341', 'disease_type': 'disease', 'disease_umlscui': 'C0036341', 'score': 0.65, 'ei': 0.6666666666666666, 'el': None}, {'disease_name': 'Alcoholism', 'HPO': 'HPO:HP:0030955', 'NCI': 'NCI:C93040', 'OMIM': 'MIM:103780', 'MONDO': 'MONDO:0002046, MONDO:0007079', 'ORDO': None, 'EFO': None, 'DO': 'DOID:0050741, DOID:1574', 'MESH': 'MESH:D000437', 'UMLS': 'UMLS:C0001973', 'disease_type': 'disease', 'disease_umlscui': 'C0001973', 'score': 0.6000000000000001, 'ei': 1.0, 'el': None}, {'disease_name': 'Diseases, Liver', 'HPO': 'HPO:HP:0001392, HPO:HP:0001410', 'NCI': 'NCI:C3196', 'OMIM': None, 'MONDO': 'MONDO:0005154', 'ORDO': None, 'EFO': 'EFO:0001421', 'DO': 'DOID:0060262, DOID:409', 'MESH': 'MESH:D008107', 'UMLS': 'UMLS:C0023895', 'disease_type': 'disease', 'disease_umlscui': 'C0023895', 'score': 0.55, 'ei': 0.0, 'el': None}, {'disease_name': 'Renal cell carcinoma', 'HPO': 'HPO:HP:0005584', 'NCI': 'NCI:C9385', 'OMIM': 'MIM:144700', 'MONDO': 'MONDO:0005549, MONDO:0005086', 'ORDO': 'ORDO:217071', 'EFO': 'EFO:0000349, EFO:0000681, EFO:0005708', 'DO': 'DOID:4450, DOID:4451, DOID:4464, DOID:4465, DOID:4467, DOID:4471, DOID:4473', 'MESH': 'MESH:D002292', 'UMLS': 'UMLS:C0007134', 'disease_type': 'disease', 'disease_umlscui': 'C0007134', 'score': 0.5, 'ei': 1.0, 'el': None}, {'disease_name': 'nonalcoholic steatohepatitis (diagnosis)', 'HPO': None, 'NCI': 'NCI:C84445', 'OMIM': None, 'MONDO': 'MONDO:0013209, MONDO:0007027', 'ORDO': None, 'EFO': 'EFO:0003095, EFO:1001249', 'DO': 'DOID:0080208', 'MESH': 'MESH:D065626', 'UMLS': 'UMLS:C3241937', 'disease_type': 'disease', 'disease_umlscui': 'C3241937', 'score': 0.5, 'ei': 1.0, 'el': None}, {'disease_name': 'Abuse, Alcohol', 'HPO': None, 'NCI': 'NCI:C20701', 'OMIM': None, 'MONDO': 'MONDO:0002046', 'ORDO': None, 'EFO': None, 'DO': 'DOID:1574', 'MESH': 'MESH:D000437', 'UMLS': 'UMLS:C0085762', 'disease_type': 'disease', 'disease_umlscui': 'C0085762', 'score': 0.5, 'ei': 1.0, 'el': None}, {'disease_name': 'Alcoholic Intoxication', 'HPO': None, 'NCI': 'NCI:C34367', 'OMIM': None, 'MONDO': None, 'ORDO': None, 'EFO': None, 'DO': None, 'MESH': 'MESH:D000435', 'UMLS': 'UMLS:C0001969', 'disease_type': 'disease', 'disease_umlscui': 'C0001969', 'score': 0.5, 'ei': 1.0, 'el': None}, {'disease_name': 'Parkinsonism', 'HPO': 'HPO:HP:0001300', 'NCI': 'NCI:C116922', 'OMIM': None, 'MONDO': 'MONDO:0021095', 'ORDO': None, 'EFO': None, 'DO': None, 'MESH': 'MESH:D020734', 'UMLS': 'UMLS:C0242422', 'disease_type': 'disease', 'disease_umlscui': 'C0242422', 'score': 0.4, 'ei': 1.0, 'el': None}, {'disease_name': 'AUTISM SPECTRUM DISORDER', 'HPO': 'HPO:HP:0000729', 'NCI': 'NCI:C88412', 'OMIM': 'MIM:209850', 'MONDO': 'MONDO:0005258', 'ORDO': None, 'EFO': 'EFO:0003756', 'DO': 'DOID:0060041, DOID:12849', 'MESH': 'MESH:D000067877', 'UMLS': 'UMLS:C1510586', 'disease_type': 'disease', 'disease_umlscui': 'C1510586', 'score': 0.4, 'ei': 1.0, 'el': None}, {'disease_name': 'NAFLD - Nonalcoholic Fatty Liver Disease', 'HPO': None, 'NCI': 'NCI:C84444', 'OMIM': None, 'MONDO': 'MONDO:0013209', 'ORDO': None, 'EFO': 'EFO:0003095, EFO:1001248', 'DO': 'DOID:0080208', 'MESH': 'MESH:D065626', 'UMLS': 'UMLS:C0400966', 'disease_type': 'disease', 'disease_umlscui': 'C0400966', 'score': 0.4, 'ei': 1.0, 'el': None}, {'disease_name': 'Creutzfeldt Jakob Disease', 'HPO': None, 'NCI': 'NCI:C26802', 'OMIM': 'MIM:123400, MIM:176640', 'MONDO': 'MONDO:0005357, MONDO:0007403', 'ORDO': 'ORDO:204, ORDO:282166', 'EFO': 'EFO:0004226, EFO:1001233', 'DO': 'DOID:11949', 'MESH': 'MESH:D007562', 'UMLS': 'UMLS:C0022336', 'disease_type': 'disease', 'disease_umlscui': 'C0022336', 'score': 0.4, 'ei': 1.0, 'el': None}]"
        ],
        [
         "4",
         "ENSMUSG00000032081",
         "Ensembl",
         "ENSMUSG00000032081",
         "Ensembl",
         "[{'pathway_id': 'WP:WP1', 'pathway_label': 'Statin pathway', 'pathway_gene_count': 20.0}, {'pathway_id': 'WP:WP2316', 'pathway_label': 'PPAR signaling pathway', 'pathway_gene_count': 85.0}]",
         "[{'stringdb_link_to': nan, 'Ensembl': nan, 'score': nan, 'Uniprot-TrEMBL': None, 'Uniprot-TrEMBL_link': None}]",
         "[{'homolog': 'ENSG00000110245'}]",
         "[{'pathway_id': 'path:mmu03320', 'pathway_label': 'PPAR signaling pathway - Mus musculus (house mouse)', 'gene_count': 88, 'compounds': [{'KEGG_identifier': 'C02165'}, {'KEGG_identifier': 'C14762'}, {'KEGG_identifier': 'C14767'}, {'KEGG_identifier': 'C14776'}, {'KEGG_identifier': 'C15493'}]}, {'pathway_id': 'path:mmu04979', 'pathway_label': 'Cholesterol metabolism - Mus musculus (house mouse)', 'gene_count': 49, 'compounds': [{'KEGG_identifier': 'C00162'}, {'KEGG_identifier': 'C00187'}, {'KEGG_identifier': 'C00422'}, {'KEGG_identifier': 'C00865'}, {'KEGG_identifier': 'C01921'}, {'KEGG_identifier': 'C02530'}, {'KEGG_identifier': 'C05122'}, {'KEGG_identifier': 'C05465'}, {'KEGG_identifier': 'C05466'}, {'KEGG_identifier': 'C15610'}]}, {'gene_count': 0, 'compounds': [{'KEGG_identifier': None}]}]",
         "ENSG00000110245",
         "[{'pathway_label': 'Retinoid metabolism and transport', 'pathway_id': 'Reactome:R-HSA-975634'}, {'pathway_label': 'Chylomicron assembly', 'pathway_id': 'Reactome:R-HSA-8963888'}, {'pathway_label': 'HDL remodeling', 'pathway_id': 'Reactome:R-HSA-8964058'}, {'pathway_label': 'Chylomicron remodeling', 'pathway_id': 'Reactome:R-HSA-8963901'}]",
         "[{'go_id': 'GO:0005543', 'go_name': 'phospholipid binding', 'go_type': 'F'}, {'go_id': 'GO:0043691', 'go_name': 'reverse cholesterol transport', 'go_type': 'P'}, {'go_id': 'GO:0007186', 'go_name': 'G protein-coupled receptor signaling pathway', 'go_type': 'P'}, {'go_id': 'GO:0070653', 'go_name': 'high-density lipoprotein particle receptor binding', 'go_type': 'F'}, {'go_id': 'GO:0034366', 'go_name': 'spherical high-density lipoprotein particle', 'go_type': 'C'}, {'go_id': 'GO:0055102', 'go_name': 'lipase inhibitor activity', 'go_type': 'F'}, {'go_id': 'GO:0034379', 'go_name': 'very-low-density lipoprotein particle assembly', 'go_type': 'P'}, {'go_id': 'GO:0032489', 'go_name': 'regulation of Cdc42 protein signal transduction', 'go_type': 'P'}, {'go_id': 'GO:0010897', 'go_name': 'negative regulation of triglyceride catabolic process', 'go_type': 'P'}, {'go_id': 'GO:0051005', 'go_name': 'negative regulation of lipoprotein lipase activity', 'go_type': 'P'}, {'go_id': 'GO:0005769', 'go_name': 'early endosome', 'go_type': 'C'}, {'go_id': 'GO:0042627', 'go_name': 'chylomicron', 'go_type': 'C'}, {'go_id': 'GO:0030234', 'go_name': 'enzyme regulator activity', 'go_type': 'F'}, {'go_id': 'GO:0045833', 'go_name': 'negative regulation of lipid metabolic process', 'go_type': 'P'}, {'go_id': 'GO:0070328', 'go_name': 'triglyceride homeostasis', 'go_type': 'P'}, {'go_id': 'GO:0005615', 'go_name': 'extracellular space', 'go_type': 'C'}, {'go_id': 'GO:0034363', 'go_name': 'intermediate-density lipoprotein particle', 'go_type': 'C'}, {'go_id': 'GO:0050995', 'go_name': 'negative regulation of lipid catabolic process', 'go_type': 'P'}, {'go_id': 'GO:0034361', 'go_name': 'very-low-density lipoprotein particle', 'go_type': 'C'}, {'go_id': 'GO:0005576', 'go_name': 'extracellular region', 'go_type': 'C'}, {'go_id': 'GO:0010916', 'go_name': 'negative regulation of very-low-density lipoprotein particle clearance', 'go_type': 'P'}, {'go_id': 'GO:0060621', 'go_name': 'negative regulation of cholesterol import', 'go_type': 'P'}, {'go_id': 'GO:0034382', 'go_name': 'chylomicron remnant clearance', 'go_type': 'P'}, {'go_id': 'GO:0010989', 'go_name': 'negative regulation of low-density lipoprotein particle clearance', 'go_type': 'P'}, {'go_id': 'GO:0042157', 'go_name': 'lipoprotein metabolic process', 'go_type': 'P'}, {'go_id': 'GO:0062023', 'go_name': 'collagen-containing extracellular matrix', 'go_type': 'C'}, {'go_id': 'GO:0010987', 'go_name': 'negative regulation of high-density lipoprotein particle clearance', 'go_type': 'P'}, {'go_id': 'GO:0045717', 'go_name': 'negative regulation of fatty acid biosynthetic process', 'go_type': 'P'}, {'go_id': 'GO:0005515', 'go_name': 'protein binding', 'go_type': 'F'}, {'go_id': 'GO:0010903', 'go_name': 'negative regulation of very-low-density lipoprotein particle remodeling', 'go_type': 'P'}, {'go_id': 'GO:0019433', 'go_name': 'triglyceride catabolic process', 'go_type': 'P'}, {'go_id': 'GO:0070062', 'go_name': 'extracellular exosome', 'go_type': 'C'}, {'go_id': 'GO:0033700', 'go_name': 'phospholipid efflux', 'go_type': 'P'}, {'go_id': 'GO:0034375', 'go_name': 'high-density lipoprotein particle remodeling', 'go_type': 'P'}, {'go_id': 'GO:0042632', 'go_name': 'cholesterol homeostasis', 'go_type': 'P'}, {'go_id': 'GO:0033344', 'go_name': 'cholesterol efflux', 'go_type': 'P'}, {'go_id': 'GO:0015485', 'go_name': 'cholesterol binding', 'go_type': 'F'}, {'go_id': 'GO:0048261', 'go_name': 'negative regulation of receptor-mediated endocytosis', 'go_type': 'P'}, {'go_id': 'GO:0006641', 'go_name': 'triglyceride metabolic process', 'go_type': 'P'}]",
         "[{'chembl_id': 'CHEMBL:CHEMBL3544989', 'drugbank_id': None, 'compound_cid': None, 'compound_name': 'VOLANESORSEN SODIUM', 'clincal_trial_phase': 4.0, 'is_approved': True, 'relation': 'activates', 'adverse_effect_count': 0.0, 'adverse_effect': nan}, {'chembl_id': 'CHEMBL:CHEMBL3544994', 'drugbank_id': None, 'compound_cid': None, 'compound_name': 'VOLANESORSEN', 'clincal_trial_phase': 4.0, 'is_approved': True, 'relation': 'activates', 'adverse_effect_count': 0.0, 'adverse_effect': nan}, {'chembl_id': 'CHEMBL:CHEMBL4650438', 'drugbank_id': None, 'compound_cid': None, 'compound_name': 'OLEZARSEN', 'clincal_trial_phase': 3.0, 'is_approved': False, 'relation': 'activates', 'adverse_effect_count': 0.0, 'adverse_effect': nan}]",
         "[{'disease_name': 'Coronary Disease', 'HPO': None, 'NCI': None, 'OMIM': None, 'MONDO': 'MONDO:0005010', 'ORDO': None, 'EFO': 'EFO:0001645', 'DO': 'DOID:3393', 'MESH': 'MESH:D003327', 'UMLS': 'UMLS:C0010068', 'disease_type': 'disease', 'disease_umlscui': 'C0010068', 'score': 0.9999999999999999, 'ei': 0.8653846153846154, 'el': None}, {'disease_name': 'Arterioscleroses, Coronary', 'HPO': 'HPO:HP:0001677', 'NCI': 'NCI:C35505', 'OMIM': None, 'MONDO': 'MONDO:0005010, MONDO:0021661', 'ORDO': None, 'EFO': 'EFO:0001645', 'DO': 'DOID:13739, DOID:3393', 'MESH': 'MESH:D003324', 'UMLS': 'UMLS:C0010054', 'disease_type': 'disease', 'disease_umlscui': 'C0010054', 'score': 0.8500000000000001, 'ei': 0.9047619047619048, 'el': None}, {'disease_name': 'Cardiovascular Disease', 'HPO': 'HPO:HP:0001626', 'NCI': 'NCI:C2931', 'OMIM': None, 'MONDO': 'MONDO:0004995', 'ORDO': None, 'EFO': 'EFO:0000319', 'DO': 'DOID:114, DOID:1287', 'MESH': 'MESH:D002318', 'UMLS': 'UMLS:C0007222', 'disease_type': 'disease', 'disease_umlscui': 'C0007222', 'score': 0.85, 'ei': 0.9701492537313433, 'el': None}, {'disease_name': 'Diabetes Mellitus, Insulin-Dependent', 'HPO': 'HPO:HP:0100651', 'NCI': 'NCI:C2986', 'OMIM': 'MIM:222100', 'MONDO': 'MONDO:0010862, MONDO:0010863, MONDO:0010864, MONDO:0010950, MONDO:0011016, MONDO:0011033, MONDO:0011068, MONDO:0011123, MONDO:0011167, MONDO:0011168, MONDO:0011302, MONDO:0011572, MONDO:0012422, MONDO:0005147, MONDO:0007454, MONDO:0012919, MONDO:0012920, MONDO:0012921, MONDO:0012961, MONDO:0013078, MONDO:0010861', 'ORDO': 'ORDO:243377', 'EFO': None, 'DO': 'DOID:0110741, DOID:0110742, DOID:0110743, DOID:0110744, DOID:0110745, DOID:0110746, DOID:0110747, DOID:0110749, DOID:0110750, DOID:0110751, DOID:0110752, DOID:0110753, DOID:0110754, DOID:0110755, DOID:0110756, DOID:0110757, DOID:0110758, DOID:0110759, DOID:0110760, DOID:0110761, DOID:9744', 'MESH': 'MESH:D003922', 'UMLS': 'UMLS:C0011854', 'disease_type': 'disease', 'disease_umlscui': 'C0011854', 'score': 0.8, 'ei': 1.0, 'el': None}, {'disease_name': 'Disease, Ischemic Heart', 'HPO': None, 'NCI': 'NCI:C50625', 'OMIM': None, 'MONDO': 'MONDO:0005010, MONDO:0024644', 'ORDO': None, 'EFO': 'EFO:0001645, EFO:1001375', 'DO': 'DOID:3393', 'MESH': 'MESH:D017202', 'UMLS': 'UMLS:C0151744', 'disease_type': 'disease', 'disease_umlscui': 'C0151744', 'score': 0.75, 'ei': 1.0, 'el': None}, {'disease_name': 'Glucose Intolerance', 'HPO': 'HPO:HP:0001952', 'NCI': 'NCI:C34646', 'OMIM': None, 'MONDO': 'MONDO:0001076', 'ORDO': None, 'EFO': None, 'DO': 'DOID:11716, DOID:10603', 'MESH': 'MESH:D018149', 'UMLS': 'UMLS:C0271650', 'disease_type': 'disease', 'disease_umlscui': 'C0271650', 'score': 0.75, 'ei': 0.6666666666666666, 'el': None}, {'disease_name': 'HALP2', 'HPO': None, 'NCI': None, 'OMIM': 'MIM:614028, MIM:107720', 'MONDO': 'MONDO:0013534', 'ORDO': None, 'EFO': None, 'DO': 'DOID:0111370', 'MESH': 'MESH:C566270', 'UMLS': 'UMLS:C3151467', 'disease_type': 'disease', 'disease_umlscui': 'C3151467', 'score': 0.7, 'ei': 1.0, 'el': None}, {'disease_name': 'Liver cell carcinoma', 'HPO': 'HPO:HP:0001402', 'NCI': 'NCI:C3099', 'OMIM': 'MIM:114550', 'MONDO': 'MONDO:0007256', 'ORDO': 'ORDO:88673', 'EFO': 'EFO:0000182, EFO:0000762, EFO:1000256', 'DO': 'DOID:3571, DOID:684', 'MESH': 'MESH:D006528', 'UMLS': 'UMLS:C2239176', 'disease_type': 'disease', 'disease_umlscui': 'C2239176', 'score': 0.7, 'ei': 0.8, 'el': None}, {'disease_name': 'Combined Hyperlipidemia, Familial', 'HPO': 'HPO:HP:0008158', 'NCI': 'NCI:C35637', 'OMIM': 'MIM:144250', 'MONDO': 'MONDO:0007759', 'ORDO': None, 'EFO': None, 'DO': 'DOID:13809', 'MESH': 'MESH:D006950', 'UMLS': 'UMLS:C0020474', 'disease_type': 'disease', 'disease_umlscui': 'C0020474', 'score': 0.65, 'ei': 1.0, 'el': None}, {'disease_name': 'Kidney Failure, Chronic', 'HPO': None, 'NCI': 'NCI:C9438', 'OMIM': None, 'MONDO': 'MONDO:0004375, MONDO:0005300, MONDO:0024327', 'ORDO': None, 'EFO': 'EFO:0003884, EFO:0009909', 'DO': 'DOID:783, DOID:784', 'MESH': 'MESH:D007676', 'UMLS': 'UMLS:C0022661', 'disease_type': 'disease', 'disease_umlscui': 'C0022661', 'score': 0.65, 'ei': 1.0, 'el': None}, {'disease_name': 'Lung Neoplasm', 'HPO': 'HPO:HP:0100526', 'NCI': 'NCI:C3200', 'OMIM': None, 'MONDO': 'MONDO:0002732, MONDO:0021117', 'ORDO': None, 'EFO': None, 'DO': 'DOID:3683', 'MESH': 'MESH:D008175', 'UMLS': 'UMLS:C0024121', 'disease_type': 'disease', 'disease_umlscui': 'C0024121', 'score': 0.65, 'ei': 1.0, 'el': None}, {'disease_name': 'Hyperlipoproteinemia', 'HPO': 'HPO:HP:0010980', 'NCI': 'NCI:C34709', 'OMIM': None, 'MONDO': 'MONDO:0001336, MONDO:0037748', 'ORDO': None, 'EFO': None, 'DO': 'DOID:1168', 'MESH': 'MESH:D006951', 'UMLS': 'UMLS:C0020476', 'disease_type': 'disease', 'disease_umlscui': 'C0020476', 'score': 0.6, 'ei': 1.0, 'el': None}, {'disease_name': 'Hyperlipoproteinemia Type III', 'HPO': None, 'NCI': 'NCI:C34710', 'OMIM': 'MIM:617347', 'MONDO': 'MONDO:0018473', 'ORDO': 'ORDO:412', 'EFO': 'EFO:0001645', 'DO': 'DOID:3145', 'MESH': 'MESH:D006952', 'UMLS': 'UMLS:C0020479', 'disease_type': 'disease', 'disease_umlscui': 'C0020479', 'score': 0.55, 'ei': 1.0, 'el': None}, {'disease_name': 'Chronic ischemic heart disease', 'HPO': None, 'NCI': None, 'OMIM': None, 'MONDO': 'MONDO:0005010', 'ORDO': None, 'EFO': 'EFO:0001645', 'DO': 'DOID:3393', 'MESH': None, 'UMLS': 'UMLS:C0264694', 'disease_type': 'disease', 'disease_umlscui': 'C0264694', 'score': 0.5, 'ei': 1.0, 'el': None}, {'disease_name': 'Essential Hypercholesterolemia', 'HPO': None, 'NCI': 'NCI:C34704', 'OMIM': None, 'MONDO': 'MONDO:0005439', 'ORDO': None, 'EFO': 'EFO:0004911', 'DO': 'DOID:13810', 'MESH': 'MESH:D006938', 'UMLS': 'UMLS:C0020445', 'disease_type': 'disease', 'disease_umlscui': 'C0020445', 'score': 0.5, 'ei': 1.0, 'el': None}, {'disease_name': 'Disorders, Organic Mental', 'HPO': None, 'NCI': 'NCI:C34870', 'OMIM': None, 'MONDO': 'MONDO:0002039', 'ORDO': None, 'EFO': None, 'DO': 'DOID:1561', 'MESH': 'MESH:D019965', 'UMLS': 'UMLS:C0029227', 'disease_type': 'disease', 'disease_umlscui': 'C0029227', 'score': 0.45, 'ei': 1.0, 'el': None}, {'disease_name': 'Celiac Disease', 'HPO': 'HPO:HP:0002608', 'NCI': 'NCI:C26714', 'OMIM': None, 'MONDO': 'MONDO:0005130', 'ORDO': 'ORDO:555', 'EFO': 'EFO:0001060, EFO:0009266', 'DO': 'DOID:10608', 'MESH': 'MESH:D002446', 'UMLS': 'UMLS:C0007570', 'disease_type': 'disease', 'disease_umlscui': 'C0007570', 'score': 0.4, 'ei': 1.0, 'el': None}, {'disease_name': 'Drug Eruptions', 'HPO': None, 'NCI': 'NCI:C114280', 'OMIM': None, 'MONDO': None, 'ORDO': None, 'EFO': None, 'DO': None, 'MESH': 'MESH:D003875', 'UMLS': 'UMLS:C0011609', 'disease_type': 'phenotype', 'disease_umlscui': 'C0011609', 'score': 0.4, 'ei': 1.0, 'el': None}, {'disease_name': 'MYOCARDIAL INFARCTION, SUSCEPTIBILITY TO', 'HPO': None, 'NCI': None, 'OMIM': 'MIM:608446, MIM:150571, MIM:153440, MIM:173470, MIM:602601, MIM:106180, MIM:606857, MIM:602855, MIM:601176, MIM:611082, MIM:133430', 'MONDO': 'MONDO:0012039', 'ORDO': None, 'EFO': 'EFO:0000612', 'DO': None, 'MESH': None, 'UMLS': 'UMLS:C1832662', 'disease_type': 'phenotype', 'disease_umlscui': 'C1832662', 'score': 0.4, 'ei': nan, 'el': None}]"
        ],
        [
         "5",
         "ENSMUSG00000004035",
         "Ensembl",
         "ENSMUSG00000004035",
         "Ensembl",
         "[{'pathway_id': 'WP:WP4466', 'pathway_label': 'Oxidative stress and redox pathway', 'pathway_gene_count': 92.0}, {'pathway_id': 'WP:WP1251', 'pathway_label': 'Metapathway biotransformation', 'pathway_gene_count': 143.0}, {'pathway_id': 'WP:WP164', 'pathway_label': 'Glutathione metabolism', 'pathway_gene_count': 19.0}]",
         "[{'stringdb_link_to': nan, 'Ensembl': nan, 'score': nan, 'Uniprot-TrEMBL': None, 'Uniprot-TrEMBL_link': None}]",
         "[{'homolog': 'ENSG00000213366'}]",
         "[{'pathway_id': 'path:mmu00480', 'pathway_label': 'Glutathione metabolism - Mus musculus (house mouse)', 'gene_count': 72, 'compounds': [{'KEGG_identifier': 'C00005'}, {'KEGG_identifier': 'C00006'}, {'KEGG_identifier': 'C00024'}, {'KEGG_identifier': 'C00025'}, {'KEGG_identifier': 'C00037'}, {'KEGG_identifier': 'C00051'}, {'KEGG_identifier': 'C00072'}, {'KEGG_identifier': 'C00077'}, {'KEGG_identifier': 'C00097'}, {'KEGG_identifier': 'C00127'}, {'KEGG_identifier': 'C00134'}, {'KEGG_identifier': 'C00151'}, {'KEGG_identifier': 'C00315'}, {'KEGG_identifier': 'C00669'}, {'KEGG_identifier': 'C00750'}, {'KEGG_identifier': 'C01322'}, {'KEGG_identifier': 'C01419'}, {'KEGG_identifier': 'C01672'}, {'KEGG_identifier': 'C01879'}, {'KEGG_identifier': 'C02090'}, {'KEGG_identifier': 'C02320'}, {'KEGG_identifier': 'C03170'}, {'KEGG_identifier': 'C03646'}, {'KEGG_identifier': 'C03740'}, {'KEGG_identifier': 'C05422'}, {'KEGG_identifier': 'C05726'}, {'KEGG_identifier': 'C05727'}, {'KEGG_identifier': 'C05729'}, {'KEGG_identifier': 'C05730'}, {'KEGG_identifier': 'C16562'}, {'KEGG_identifier': 'C16563'}, {'KEGG_identifier': 'C16564'}, {'KEGG_identifier': 'C16565'}, {'KEGG_identifier': 'C16566'}, {'KEGG_identifier': 'C16567'}, {'KEGG_identifier': 'C16568'}, {'KEGG_identifier': 'C16663'}, {'KEGG_identifier': 'C16664'}]}, {'pathway_id': 'path:mmu00980', 'pathway_label': 'Metabolism of xenobiotics by cytochrome P450 - Mus musculus (house mouse)', 'gene_count': 75, 'compounds': [{'KEGG_identifier': 'C00745'}, {'KEGG_identifier': 'C00829'}, {'KEGG_identifier': 'C02617'}, {'KEGG_identifier': 'C03012'}, {'KEGG_identifier': 'C06205'}, {'KEGG_identifier': 'C06755'}, {'KEGG_identifier': 'C06790'}, {'KEGG_identifier': 'C06800'}, {'KEGG_identifier': 'C06899'}, {'KEGG_identifier': 'C07490'}, {'KEGG_identifier': 'C07535'}, {'KEGG_identifier': 'C11036'}, {'KEGG_identifier': 'C11088'}, {'KEGG_identifier': 'C11148'}, {'KEGG_identifier': 'C11149'}, {'KEGG_identifier': 'C11150'}, {'KEGG_identifier': 'C11278'}, {'KEGG_identifier': 'C11713'}, {'KEGG_identifier': 'C11714'}, {'KEGG_identifier': 'C14039'}, {'KEGG_identifier': 'C14040'}, {'KEGG_identifier': 'C14453'}, {'KEGG_identifier': 'C14556'}, {'KEGG_identifier': 'C14783'}, {'KEGG_identifier': 'C14784'}, {'KEGG_identifier': 'C14785'}, {'KEGG_identifier': 'C14786'}, {'KEGG_identifier': 'C14787'}, {'KEGG_identifier': 'C14788'}, {'KEGG_identifier': 'C14789'}, {'KEGG_identifier': 'C14790'}, {'KEGG_identifier': 'C14791'}, {'KEGG_identifier': 'C14792'}, {'KEGG_identifier': 'C14793'}, {'KEGG_identifier': 'C14796'}, {'KEGG_identifier': 'C14797'}, {'KEGG_identifier': 'C14798'}, {'KEGG_identifier': 'C14799'}, {'KEGG_identifier': 'C14800'}, {'KEGG_identifier': 'C14801'}, {'KEGG_identifier': 'C14802'}, {'KEGG_identifier': 'C14803'}, {'KEGG_identifier': 'C14804'}, {'KEGG_identifier': 'C14805'}, {'KEGG_identifier': 'C14806'}, {'KEGG_identifier': 'C14839'}, {'KEGG_identifier': 'C14840'}, {'KEGG_identifier': 'C14841'}, {'KEGG_identifier': 'C14842'}, {'KEGG_identifier': 'C14843'}, {'KEGG_identifier': 'C14844'}, {'KEGG_identifier': 'C14845'}, {'KEGG_identifier': 'C14846'}, {'KEGG_identifier': 'C14847'}, {'KEGG_identifier': 'C14848'}, {'KEGG_identifier': 'C14849'}, {'KEGG_identifier': 'C14850'}, {'KEGG_identifier': 'C14851'}, {'KEGG_identifier': 'C14852'}, {'KEGG_identifier': 'C14853'}, {'KEGG_identifier': 'C14854'}, {'KEGG_identifier': 'C14855'}, {'KEGG_identifier': 'C14856'}, {'KEGG_identifier': 'C14857'}, {'KEGG_identifier': 'C14858'}, {'KEGG_identifier': 'C14859'}, {'KEGG_identifier': 'C14860'}, {'KEGG_identifier': 'C14861'}, {'KEGG_identifier': 'C14862'}, {'KEGG_identifier': 'C14863'}, {'KEGG_identifier': 'C14864'}, {'KEGG_identifier': 'C14865'}, {'KEGG_identifier': 'C14866'}, {'KEGG_identifier': 'C14867'}, {'KEGG_identifier': 'C14868'}, {'KEGG_identifier': 'C14869'}, {'KEGG_identifier': 'C14870'}, {'KEGG_identifier': 'C14871'}, {'KEGG_identifier': 'C14872'}, {'KEGG_identifier': 'C14873'}, {'KEGG_identifier': 'C14874'}, {'KEGG_identifier': 'C14875'}, {'KEGG_identifier': 'C14876'}, {'KEGG_identifier': 'C14877'}, {'KEGG_identifier': 'C16453'}, {'KEGG_identifier': 'C16756'}, {'KEGG_identifier': 'C19488'}, {'KEGG_identifier': 'C19489'}, {'KEGG_identifier': 'C19490'}, {'KEGG_identifier': 'C19559'}, {'KEGG_identifier': 'C19561'}, {'KEGG_identifier': 'C19562'}, {'KEGG_identifier': 'C19563'}, {'KEGG_identifier': 'C19564'}, {'KEGG_identifier': 'C19565'}, {'KEGG_identifier': 'C19566'}, {'KEGG_identifier': 'C19567'}, {'KEGG_identifier': 'C19568'}, {'KEGG_identifier': 'C19569'}, {'KEGG_identifier': 'C19574'}, {'KEGG_identifier': 'C19577'}, {'KEGG_identifier': 'C19578'}, {'KEGG_identifier': 'C19579'}, {'KEGG_identifier': 'C19580'}, {'KEGG_identifier': 'C19581'}, {'KEGG_identifier': 'C19582'}, {'KEGG_identifier': 'C19585'}, {'KEGG_identifier': 'C19586'}, {'KEGG_identifier': 'C19588'}, {'KEGG_identifier': 'C19589'}, {'KEGG_identifier': 'C19590'}, {'KEGG_identifier': 'C19591'}, {'KEGG_identifier': 'C19592'}, {'KEGG_identifier': 'C19594'}, {'KEGG_identifier': 'C19595'}, {'KEGG_identifier': 'C19602'}, {'KEGG_identifier': 'C19603'}, {'KEGG_identifier': 'C19604'}, {'KEGG_identifier': 'C19605'}, {'KEGG_identifier': 'C19606'}, {'KEGG_identifier': 'C19607'}]}, {'pathway_id': 'path:mmu00982', 'pathway_label': 'Drug metabolism - cytochrome P450 - Mus musculus (house mouse)', 'gene_count': 71, 'compounds': [{'KEGG_identifier': 'C01471'}, {'KEGG_identifier': 'C01516'}, {'KEGG_identifier': 'C05011'}, {'KEGG_identifier': 'C06174'}, {'KEGG_identifier': 'C06754'}, {'KEGG_identifier': 'C06868'}, {'KEGG_identifier': 'C07047'}, {'KEGG_identifier': 'C07073'}, {'KEGG_identifier': 'C07108'}, {'KEGG_identifier': 'C07163'}, {'KEGG_identifier': 'C07185'}, {'KEGG_identifier': 'C07492'}, {'KEGG_identifier': 'C07493'}, {'KEGG_identifier': 'C07495'}, {'KEGG_identifier': 'C07496'}, {'KEGG_identifier': 'C07501'}, {'KEGG_identifier': 'C07572'}, {'KEGG_identifier': 'C07643'}, {'KEGG_identifier': 'C07644'}, {'KEGG_identifier': 'C07645'}, {'KEGG_identifier': 'C07646'}, {'KEGG_identifier': 'C07647'}, {'KEGG_identifier': 'C07888'}, {'KEGG_identifier': 'C08012'}, {'KEGG_identifier': 'C11004'}, {'KEGG_identifier': 'C11583'}, {'KEGG_identifier': 'C11785'}, {'KEGG_identifier': 'C16544'}, {'KEGG_identifier': 'C16545'}, {'KEGG_identifier': 'C16546'}, {'KEGG_identifier': 'C16547'}, {'KEGG_identifier': 'C16548'}, {'KEGG_identifier': 'C16549'}, {'KEGG_identifier': 'C16550'}, {'KEGG_identifier': 'C16551'}, {'KEGG_identifier': 'C16552'}, {'KEGG_identifier': 'C16553'}, {'KEGG_identifier': 'C16554'}, {'KEGG_identifier': 'C16555'}, {'KEGG_identifier': 'C16556'}, {'KEGG_identifier': 'C16557'}, {'KEGG_identifier': 'C16558'}, {'KEGG_identifier': 'C16559'}, {'KEGG_identifier': 'C16560'}, {'KEGG_identifier': 'C16561'}, {'KEGG_identifier': 'C16569'}, {'KEGG_identifier': 'C16570'}, {'KEGG_identifier': 'C16571'}, {'KEGG_identifier': 'C16572'}, {'KEGG_identifier': 'C16576'}, {'KEGG_identifier': 'C16577'}, {'KEGG_identifier': 'C16578'}, {'KEGG_identifier': 'C16582'}, {'KEGG_identifier': 'C16584'}, {'KEGG_identifier': 'C16586'}, {'KEGG_identifier': 'C16587'}, {'KEGG_identifier': 'C16591'}, {'KEGG_identifier': 'C16592'}, {'KEGG_identifier': 'C16595'}, {'KEGG_identifier': 'C16596'}, {'KEGG_identifier': 'C16601'}, {'KEGG_identifier': 'C16602'}, {'KEGG_identifier': 'C16603'}, {'KEGG_identifier': 'C16604'}, {'KEGG_identifier': 'C16605'}, {'KEGG_identifier': 'C16606'}, {'KEGG_identifier': 'C16607'}, {'KEGG_identifier': 'C16608'}, {'KEGG_identifier': 'C16609'}, {'KEGG_identifier': 'C16610'}, {'KEGG_identifier': 'C16612'}, {'KEGG_identifier': 'C16643'}, {'KEGG_identifier': 'C16648'}, {'KEGG_identifier': 'C16649'}, {'KEGG_identifier': 'C16650'}, {'KEGG_identifier': 'C16651'}, {'KEGG_identifier': 'C16652'}, {'KEGG_identifier': 'C16653'}, {'KEGG_identifier': 'C16654'}, {'KEGG_identifier': 'C16655'}, {'KEGG_identifier': 'C16656'}, {'KEGG_identifier': 'C16657'}, {'KEGG_identifier': 'C16658'}, {'KEGG_identifier': 'C16659'}, {'KEGG_identifier': 'C16660'}, {'KEGG_identifier': 'C16661'}, {'KEGG_identifier': 'C16662'}]}, {'pathway_id': 'path:mmu00983', 'pathway_label': 'Drug metabolism - other enzymes - Mus musculus (house mouse)', 'gene_count': 94, 'compounds': [{'KEGG_identifier': 'C00003'}, {'KEGG_identifier': 'C00006'}, {'KEGG_identifier': 'C02320'}, {'KEGG_identifier': 'C02380'}, {'KEGG_identifier': 'C04242'}, {'KEGG_identifier': 'C04646'}, {'KEGG_identifier': 'C05361'}, {'KEGG_identifier': 'C06108'}, {'KEGG_identifier': 'C06837'}, {'KEGG_identifier': 'C07054'}, {'KEGG_identifier': 'C07446'}, {'KEGG_identifier': 'C07447'}, {'KEGG_identifier': 'C07585'}, {'KEGG_identifier': 'C07648'}, {'KEGG_identifier': 'C07649'}, {'KEGG_identifier': 'C11173'}, {'KEGG_identifier': 'C11376'}, {'KEGG_identifier': 'C11736'}, {'KEGG_identifier': 'C12650'}, {'KEGG_identifier': 'C12673'}, {'KEGG_identifier': 'C12739'}, {'KEGG_identifier': 'C13252'}, {'KEGG_identifier': 'C16542'}, {'KEGG_identifier': 'C16543'}, {'KEGG_identifier': 'C16613'}, {'KEGG_identifier': 'C16614'}, {'KEGG_identifier': 'C16615'}, {'KEGG_identifier': 'C16616'}, {'KEGG_identifier': 'C16617'}, {'KEGG_identifier': 'C16618'}, {'KEGG_identifier': 'C16619'}, {'KEGG_identifier': 'C16620'}, {'KEGG_identifier': 'C16621'}, {'KEGG_identifier': 'C16622'}, {'KEGG_identifier': 'C16623'}, {'KEGG_identifier': 'C16624'}, {'KEGG_identifier': 'C16625'}, {'KEGG_identifier': 'C16630'}, {'KEGG_identifier': 'C16631'}, {'KEGG_identifier': 'C16632'}, {'KEGG_identifier': 'C16633'}, {'KEGG_identifier': 'C16634'}, {'KEGG_identifier': 'C16635'}, {'KEGG_identifier': 'C16641'}, {'KEGG_identifier': 'C21748'}, {'KEGG_identifier': 'C21749'}, {'KEGG_identifier': 'C21750'}, {'KEGG_identifier': 'C21751'}, {'KEGG_identifier': 'C21754'}, {'KEGG_identifier': 'C21758'}, {'KEGG_identifier': 'C21759'}, {'KEGG_identifier': 'C21760'}]}, {'pathway_id': 'path:mmu01100', 'pathway_label': 'Metabolic pathways - Mus musculus (house mouse)', 'gene_count': 0, 'compounds': [{'KEGG_identifier': None}]}, {'pathway_id': 'path:mmu01524', 'pathway_label': 'Platinum drug resistance - Mus musculus (house mouse)', 'gene_count': 0, 'compounds': [{'KEGG_identifier': None}]}, {'pathway_id': 'path:mmu05200', 'pathway_label': 'Pathways in cancer - Mus musculus (house mouse)', 'gene_count': 547, 'compounds': [{'KEGG_identifier': 'C00027'}, {'KEGG_identifier': 'C00039'}, {'KEGG_identifier': 'C00076'}, {'KEGG_identifier': 'C00122'}, {'KEGG_identifier': 'C00149'}, {'KEGG_identifier': 'C00165'}, {'KEGG_identifier': 'C00187'}, {'KEGG_identifier': 'C00280'}, {'KEGG_identifier': 'C00410'}, {'KEGG_identifier': 'C00416'}, {'KEGG_identifier': 'C00533'}, {'KEGG_identifier': 'C00535'}, {'KEGG_identifier': 'C00575'}, {'KEGG_identifier': 'C00584'}, {'KEGG_identifier': 'C00681'}, {'KEGG_identifier': 'C00704'}, {'KEGG_identifier': 'C00735'}, {'KEGG_identifier': 'C00762'}, {'KEGG_identifier': 'C00777'}, {'KEGG_identifier': 'C00951'}, {'KEGG_identifier': 'C01227'}, {'KEGG_identifier': 'C01245'}, {'KEGG_identifier': 'C01471'}, {'KEGG_identifier': 'C03917'}, {'KEGG_identifier': 'C05981'}, {'KEGG_identifier': 'C07653'}, {'KEGG_identifier': 'C15493'}, {'KEGG_identifier': 'C16038'}, {'KEGG_identifier': 'C16844'}, {'KEGG_identifier': 'C21641'}, {'KEGG_identifier': 'C21642'}]}, {'pathway_id': 'path:mmu05204', 'pathway_label': 'Chemical carcinogenesis - DNA adducts - Mus musculus (house mouse)', 'gene_count': 89, 'compounds': [{'KEGG_identifier': 'C00027'}, {'KEGG_identifier': 'C03012'}, {'KEGG_identifier': 'C03621'}, {'KEGG_identifier': 'C03622'}, {'KEGG_identifier': 'C06268'}, {'KEGG_identifier': 'C06547'}, {'KEGG_identifier': 'C06548'}, {'KEGG_identifier': 'C06752'}, {'KEGG_identifier': 'C06754'}, {'KEGG_identifier': 'C06793'}, {'KEGG_identifier': 'C06800'}, {'KEGG_identifier': 'C07122'}, {'KEGG_identifier': 'C07535'}, {'KEGG_identifier': 'C07641'}, {'KEGG_identifier': 'C10998'}, {'KEGG_identifier': 'C14556'}, {'KEGG_identifier': 'C14704'}, {'KEGG_identifier': 'C14783'}, {'KEGG_identifier': 'C14849'}, {'KEGG_identifier': 'C14850'}, {'KEGG_identifier': 'C14851'}, {'KEGG_identifier': 'C14852'}, {'KEGG_identifier': 'C14853'}, {'KEGG_identifier': 'C14854'}, {'KEGG_identifier': 'C14855'}, {'KEGG_identifier': 'C14856'}, {'KEGG_identifier': 'C14874'}, {'KEGG_identifier': 'C16038'}, {'KEGG_identifier': 'C16453'}, {'KEGG_identifier': 'C16844'}, {'KEGG_identifier': 'C19164'}, {'KEGG_identifier': 'C19180'}, {'KEGG_identifier': 'C19255'}, {'KEGG_identifier': 'C19488'}, {'KEGG_identifier': 'C19489'}, {'KEGG_identifier': 'C19490'}, {'KEGG_identifier': 'C19525'}, {'KEGG_identifier': 'C19559'}, {'KEGG_identifier': 'C19561'}, {'KEGG_identifier': 'C19562'}, {'KEGG_identifier': 'C19563'}, {'KEGG_identifier': 'C19564'}, {'KEGG_identifier': 'C19565'}, {'KEGG_identifier': 'C19566'}, {'KEGG_identifier': 'C19567'}, {'KEGG_identifier': 'C19568'}, {'KEGG_identifier': 'C19569'}, {'KEGG_identifier': 'C19574'}, {'KEGG_identifier': 'C19577'}, {'KEGG_identifier': 'C19578'}, {'KEGG_identifier': 'C19579'}, {'KEGG_identifier': 'C19580'}, {'KEGG_identifier': 'C19581'}, {'KEGG_identifier': 'C19582'}, {'KEGG_identifier': 'C19586'}, {'KEGG_identifier': 'C19602'}, {'KEGG_identifier': 'C19603'}, {'KEGG_identifier': 'C19605'}, {'KEGG_identifier': 'C19606'}, {'KEGG_identifier': 'C20280'}, {'KEGG_identifier': 'C20281'}, {'KEGG_identifier': 'C20282'}, {'KEGG_identifier': 'C20283'}, {'KEGG_identifier': 'C20284'}, {'KEGG_identifier': 'C20285'}, {'KEGG_identifier': 'C20286'}, {'KEGG_identifier': 'C20287'}, {'KEGG_identifier': 'C20288'}, {'KEGG_identifier': 'C20289'}, {'KEGG_identifier': 'C20290'}, {'KEGG_identifier': 'C20291'}, {'KEGG_identifier': 'C20293'}, {'KEGG_identifier': 'C20301'}, {'KEGG_identifier': 'C20302'}, {'KEGG_identifier': 'C20303'}, {'KEGG_identifier': 'C20304'}, {'KEGG_identifier': 'C20305'}, {'KEGG_identifier': 'C20306'}]}, {'pathway_id': 'path:mmu05207', 'pathway_label': 'Chemical carcinogenesis - receptor activation - Mus musculus (house mouse)', 'gene_count': 227, 'compounds': [{'KEGG_identifier': 'C00076'}, {'KEGG_identifier': 'C00410'}, {'KEGG_identifier': 'C00547'}, {'KEGG_identifier': 'C00575'}, {'KEGG_identifier': 'C00745'}, {'KEGG_identifier': 'C00780'}, {'KEGG_identifier': 'C00788'}, {'KEGG_identifier': 'C00951'}, {'KEGG_identifier': 'C03690'}, {'KEGG_identifier': 'C04623'}, {'KEGG_identifier': 'C05981'}, {'KEGG_identifier': 'C06697'}, {'KEGG_identifier': 'C06790'}, {'KEGG_identifier': 'C06916'}, {'KEGG_identifier': 'C07020'}, {'KEGG_identifier': 'C07434'}, {'KEGG_identifier': 'C07535'}, {'KEGG_identifier': 'C07557'}, {'KEGG_identifier': 'C08150'}, {'KEGG_identifier': 'C11042'}, {'KEGG_identifier': 'C11150'}, {'KEGG_identifier': 'C11371'}, {'KEGG_identifier': 'C11906'}, {'KEGG_identifier': 'C13624'}, {'KEGG_identifier': 'C14240'}, {'KEGG_identifier': 'C14573'}, {'KEGG_identifier': 'C15995'}, {'KEGG_identifier': 'C16452'}, {'KEGG_identifier': 'C16453'}]}, {'pathway_id': 'path:mmu05208', 'pathway_label': 'Chemical carcinogenesis - reactive oxygen species - Mus musculus (house mouse)', 'gene_count': 228, 'compounds': [{'KEGG_identifier': 'C00001'}, {'KEGG_identifier': 'C00003'}, {'KEGG_identifier': 'C00005'}, {'KEGG_identifier': 'C00006'}, {'KEGG_identifier': 'C00007'}, {'KEGG_identifier': 'C00019'}, {'KEGG_identifier': 'C00021'}, {'KEGG_identifier': 'C00023'}, {'KEGG_identifier': 'C00027'}, {'KEGG_identifier': 'C00051'}, {'KEGG_identifier': 'C00070'}, {'KEGG_identifier': 'C00084'}, {'KEGG_identifier': 'C00127'}, {'KEGG_identifier': 'C00146'}, {'KEGG_identifier': 'C00291'}, {'KEGG_identifier': 'C00469'}, {'KEGG_identifier': 'C00472'}, {'KEGG_identifier': 'C00530'}, {'KEGG_identifier': 'C00704'}, {'KEGG_identifier': 'C00951'}, {'KEGG_identifier': 'C01407'}, {'KEGG_identifier': 'C01413'}, {'KEGG_identifier': 'C01782'}, {'KEGG_identifier': 'C02389'}, {'KEGG_identifier': 'C02575'}, {'KEGG_identifier': 'C02814'}, {'KEGG_identifier': 'C03434'}, {'KEGG_identifier': 'C03622'}, {'KEGG_identifier': 'C04623'}, {'KEGG_identifier': 'C05301'}, {'KEGG_identifier': 'C05309'}, {'KEGG_identifier': 'C05981'}, {'KEGG_identifier': 'C06268'}, {'KEGG_identifier': 'C06269'}, {'KEGG_identifier': 'C06696'}, {'KEGG_identifier': 'C07294'}, {'KEGG_identifier': 'C07295'}, {'KEGG_identifier': 'C07308'}, {'KEGG_identifier': 'C07535'}, {'KEGG_identifier': 'C07557'}, {'KEGG_identifier': 'C10998'}, {'KEGG_identifier': 'C14209'}, {'KEGG_identifier': 'C14850'}, {'KEGG_identifier': 'C14852'}, {'KEGG_identifier': 'C16038'}, {'KEGG_identifier': 'C16453'}, {'KEGG_identifier': 'C16844'}, {'KEGG_identifier': 'C18205'}, {'KEGG_identifier': 'C18933'}, {'KEGG_identifier': 'C19171'}, {'KEGG_identifier': 'C20300'}, {'KEGG_identifier': 'C20316'}, {'KEGG_identifier': 'C20319'}, {'KEGG_identifier': 'C22355'}, {'KEGG_identifier': 'C22356'}, {'KEGG_identifier': 'C22357'}, {'KEGG_identifier': 'C22381'}]}, {'gene_count': 0, 'compounds': [{'KEGG_identifier': None}]}, {'pathway_id': 'path:mmu05225', 'pathway_label': 'Hepatocellular carcinoma - Mus musculus (house mouse)', 'gene_count': 174, 'compounds': [{'KEGG_identifier': 'C00027'}, {'KEGG_identifier': 'C00039'}, {'KEGG_identifier': 'C00076'}, {'KEGG_identifier': 'C00165'}, {'KEGG_identifier': 'C00533'}, {'KEGG_identifier': 'C00704'}, {'KEGG_identifier': 'C01245'}, {'KEGG_identifier': 'C01471'}, {'KEGG_identifier': 'C05981'}, {'KEGG_identifier': 'C06793'}, {'KEGG_identifier': 'C06800'}, {'KEGG_identifier': 'C16844'}, {'KEGG_identifier': 'C21641'}, {'KEGG_identifier': 'C21642'}]}, {'pathway_id': 'path:mmu05418', 'pathway_label': 'Fluid shear stress and atherosclerosis - Mus musculus (house mouse)', 'gene_count': 147, 'compounds': [{'KEGG_identifier': 'C00076'}, {'KEGG_identifier': 'C00272'}, {'KEGG_identifier': 'C00518'}, {'KEGG_identifier': 'C00533'}, {'KEGG_identifier': 'C00607'}, {'KEGG_identifier': 'C00704'}, {'KEGG_identifier': 'C00925'}, {'KEGG_identifier': 'C16845'}]}, {'gene_count': 0, 'compounds': [{'KEGG_identifier': None}]}]",
         "ENSG00000213366",
         "[{'pathway_label': 'Glutathione conjugation', 'pathway_id': 'Reactome:R-HSA-156590'}]",
         "[{'go_id': 'GO:0043295', 'go_name': 'glutathione binding', 'go_type': 'F'}, {'go_id': 'GO:0014809', 'go_name': 'regulation of skeletal muscle contraction by regulation of release of sequestered calcium ion', 'go_type': 'P'}, {'go_id': 'GO:0005515', 'go_name': 'protein binding', 'go_type': 'F'}, {'go_id': 'GO:0016529', 'go_name': 'sarcoplasmic reticulum', 'go_type': 'C'}, {'go_id': 'GO:0051122', 'go_name': 'hepoxilin biosynthetic process', 'go_type': 'P'}, {'go_id': 'GO:0018916', 'go_name': 'nitrobenzene metabolic process', 'go_type': 'P'}, {'go_id': 'GO:0070458', 'go_name': 'cellular detoxification of nitrogen compound', 'go_type': 'P'}, {'go_id': 'GO:0004602', 'go_name': 'glutathione peroxidase activity', 'go_type': 'F'}, {'go_id': 'GO:0006749', 'go_name': 'glutathione metabolic process', 'go_type': 'P'}, {'go_id': 'GO:0060315', 'go_name': 'negative regulation of ryanodine-sensitive calcium-release channel activity', 'go_type': 'P'}, {'go_id': 'GO:0005102', 'go_name': 'signaling receptor binding', 'go_type': 'F'}, {'go_id': 'GO:0042178', 'go_name': 'xenobiotic catabolic process', 'go_type': 'P'}, {'go_id': 'GO:0043651', 'go_name': 'linoleic acid metabolic process', 'go_type': 'P'}, {'go_id': 'GO:0019899', 'go_name': 'enzyme binding', 'go_type': 'F'}, {'go_id': 'GO:0055119', 'go_name': 'relaxation of cardiac muscle', 'go_type': 'P'}, {'go_id': 'GO:0042803', 'go_name': 'protein homodimerization activity', 'go_type': 'F'}, {'go_id': 'GO:0005829', 'go_name': 'cytosol', 'go_type': 'C'}, {'go_id': 'GO:0004364', 'go_name': 'glutathione transferase activity', 'go_type': 'F'}, {'go_id': 'GO:0070062', 'go_name': 'extracellular exosome', 'go_type': 'C'}, {'go_id': 'GO:0005737', 'go_name': 'cytoplasm', 'go_type': 'C'}, {'go_id': 'GO:0045171', 'go_name': 'intercellular bridge', 'go_type': 'C'}, {'go_id': 'GO:0010881', 'go_name': 'regulation of cardiac muscle contraction by regulation of the release of sequestered calcium ion', 'go_type': 'P'}, {'go_id': 'GO:0060316', 'go_name': 'positive regulation of ryanodine-sensitive calcium-release channel activity', 'go_type': 'P'}, {'go_id': 'GO:0071313', 'go_name': 'cellular response to caffeine', 'go_type': 'P'}, {'go_id': 'GO:0005504', 'go_name': 'fatty acid binding', 'go_type': 'F'}, {'go_id': 'GO:0010880', 'go_name': 'regulation of release of sequestered calcium ion into cytosol by sarcoplasmic reticulum', 'go_type': 'P'}, {'go_id': 'GO:0098869', 'go_name': 'cellular oxidant detoxification', 'go_type': 'P'}]",
         "[{'chembl_id': nan, 'drugbank_id': nan, 'compound_cid': nan, 'compound_name': nan, 'clincal_trial_phase': nan, 'is_approved': nan, 'relation': nan, 'adverse_effect_count': nan, 'adverse_effect': nan}]",
         "[{'disease_name': 'Carcinoma, Non Small Cell Lung', 'HPO': 'HPO:HP:0030358', 'NCI': 'NCI:C2926', 'OMIM': 'MIM:211980', 'MONDO': 'MONDO:0005233', 'ORDO': None, 'EFO': 'EFO:0003060', 'DO': 'DOID:3908', 'MESH': 'MESH:D002289', 'UMLS': 'UMLS:C0007131', 'disease_type': 'disease', 'disease_umlscui': 'C0007131', 'score': 0.65, 'ei': 1.0, 'el': None}, {'disease_name': 'Schizophrenias', 'HPO': 'HPO:HP:0100753', 'NCI': 'NCI:C3362', 'OMIM': 'MIM:181500', 'MONDO': 'MONDO:0005090', 'ORDO': None, 'EFO': None, 'DO': 'DOID:5419', 'MESH': 'MESH:D012559', 'UMLS': 'UMLS:C0036341', 'disease_type': 'disease', 'disease_umlscui': 'C0036341', 'score': 0.6000000000000001, 'ei': 0.8, 'el': None}, {'disease_name': 'Acute kidney injury', 'HPO': 'HPO:HP:0001919', 'NCI': None, 'OMIM': None, 'MONDO': 'MONDO:0002492', 'ORDO': None, 'EFO': None, 'DO': 'DOID:3021', 'MESH': 'MESH:D058186', 'UMLS': 'UMLS:C2609414', 'disease_type': 'disease', 'disease_umlscui': 'C2609414', 'score': 0.4, 'ei': 1.0, 'el': None}, {'disease_name': 'Down Syndrome', 'HPO': None, 'NCI': 'NCI:C2993', 'OMIM': 'MIM:190685', 'MONDO': 'MONDO:0008608', 'ORDO': 'ORDO:870', 'EFO': 'EFO:0001064', 'DO': 'DOID:14250', 'MESH': 'MESH:D004314', 'UMLS': 'UMLS:C0013080', 'disease_type': 'disease', 'disease_umlscui': 'C0013080', 'score': 0.4, 'ei': 1.0, 'el': None}, {'disease_name': 'Chemical and Drug Induced Liver Injury', 'HPO': None, 'NCI': None, 'OMIM': None, 'MONDO': 'MONDO:0005359', 'ORDO': None, 'EFO': 'EFO:0004228, EFO:0011052', 'DO': None, 'MESH': 'MESH:D056486', 'UMLS': 'UMLS:C4277682', 'disease_type': 'disease', 'disease_umlscui': 'C4277682', 'score': 0.4, 'ei': 1.0, 'el': None}, {'disease_name': 'Kidney Failure, Acute', 'HPO': 'HPO:HP:0001919', 'NCI': 'NCI:C26808', 'OMIM': None, 'MONDO': 'MONDO:0002492', 'ORDO': None, 'EFO': None, 'DO': 'DOID:3021', 'MESH': 'MESH:D058186', 'UMLS': 'UMLS:C0022660', 'disease_type': 'disease', 'disease_umlscui': 'C0022660', 'score': 0.4, 'ei': 1.0, 'el': None}, {'disease_name': 'Disease, Ischemic Heart', 'HPO': None, 'NCI': 'NCI:C50625', 'OMIM': None, 'MONDO': 'MONDO:0005010, MONDO:0024644', 'ORDO': None, 'EFO': 'EFO:0001645, EFO:1001375', 'DO': 'DOID:3393', 'MESH': 'MESH:D017202', 'UMLS': 'UMLS:C0151744', 'disease_type': 'disease', 'disease_umlscui': 'C0151744', 'score': 0.4, 'ei': 1.0, 'el': None}, {'disease_name': 'Degenerative disease of nervous system, unspecified', 'HPO': 'HPO:HP:0002180', 'NCI': 'NCI:C195952', 'OMIM': None, 'MONDO': 'MONDO:0005559', 'ORDO': None, 'EFO': 'EFO:0005772', 'DO': 'DOID:1289', 'MESH': 'MESH:D019636', 'UMLS': 'UMLS:C0524851', 'disease_type': 'disease', 'disease_umlscui': 'C0524851', 'score': 0.4, 'ei': 1.0, 'el': None}, {'disease_name': 'acute renal insufficiency (diagnosis)', 'HPO': None, 'NCI': None, 'OMIM': None, 'MONDO': 'MONDO:0002492', 'ORDO': None, 'EFO': None, 'DO': 'DOID:3021', 'MESH': 'MESH:D058186', 'UMLS': 'UMLS:C1565662', 'disease_type': 'disease', 'disease_umlscui': 'C1565662', 'score': 0.4, 'ei': 1.0, 'el': None}, {'disease_name': 'degenerative disorders', 'HPO': None, 'NCI': 'NCI:C27090', 'OMIM': None, 'MONDO': 'MONDO:0005559', 'ORDO': None, 'EFO': 'EFO:0005772', 'DO': 'DOID:1289', 'MESH': None, 'UMLS': 'UMLS:C1285162', 'disease_type': 'disease', 'disease_umlscui': 'C1285162', 'score': 0.4, 'ei': 1.0, 'el': None}]"
        ],
        [
         "6",
         "ENSMUSG00000072949",
         "Ensembl",
         "ENSMUSG00000072949",
         "Ensembl",
         "[{'pathway_id': 'WP:WP4346', 'pathway_label': 'Cholesterol metabolism with Bloch and Kandutsch-Russell pathways', 'pathway_gene_count': 43.0}, {'pathway_id': 'WP:WP4350', 'pathway_label': 'Omega-3 / omega-6 fatty acid synthesis', 'pathway_gene_count': 14.0}, {'pathway_id': 'WP:WP4351', 'pathway_label': 'Omega-9 fatty acid synthesis', 'pathway_gene_count': 14.0}]",
         "[{'stringdb_link_to': nan, 'Ensembl': nan, 'score': nan, 'Uniprot-TrEMBL': None, 'Uniprot-TrEMBL_link': None}]",
         "[{'homolog': 'ENSG00000184227'}]",
         "[{'pathway_id': 'path:mmu00062', 'pathway_label': 'Fatty acid elongation - Mus musculus (house mouse)', 'gene_count': 28, 'compounds': [{'KEGG_identifier': 'C00024'}, {'KEGG_identifier': 'C00040'}, {'KEGG_identifier': 'C00083'}, {'KEGG_identifier': 'C00136'}, {'KEGG_identifier': 'C00154'}, {'KEGG_identifier': 'C00162'}, {'KEGG_identifier': 'C00249'}, {'KEGG_identifier': 'C00264'}, {'KEGG_identifier': 'C00605'}, {'KEGG_identifier': 'C00638'}, {'KEGG_identifier': 'C00640'}, {'KEGG_identifier': 'C00658'}, {'KEGG_identifier': 'C01832'}, {'KEGG_identifier': 'C01944'}, {'KEGG_identifier': 'C02593'}, {'KEGG_identifier': 'C02843'}, {'KEGG_identifier': 'C03221'}, {'KEGG_identifier': 'C05258'}, {'KEGG_identifier': 'C05259'}, {'KEGG_identifier': 'C05260'}, {'KEGG_identifier': 'C05261'}, {'KEGG_identifier': 'C05262'}, {'KEGG_identifier': 'C05263'}, {'KEGG_identifier': 'C05264'}, {'KEGG_identifier': 'C05265'}, {'KEGG_identifier': 'C05266'}, {'KEGG_identifier': 'C05267'}, {'KEGG_identifier': 'C05268'}, {'KEGG_identifier': 'C05269'}, {'KEGG_identifier': 'C05270'}, {'KEGG_identifier': 'C05271'}, {'KEGG_identifier': 'C05272'}, {'KEGG_identifier': 'C05273'}, {'KEGG_identifier': 'C05274'}, {'KEGG_identifier': 'C05275'}, {'KEGG_identifier': 'C05276'}, {'KEGG_identifier': 'C20876'}, {'KEGG_identifier': 'C20877'}, {'KEGG_identifier': 'C20878'}, {'KEGG_identifier': 'C20879'}]}, {'pathway_id': 'path:mmu01040', 'pathway_label': 'Biosynthesis of unsaturated fatty acids - Mus musculus (house mouse)', 'gene_count': 33, 'compounds': [{'KEGG_identifier': 'C00154'}, {'KEGG_identifier': 'C00219'}, {'KEGG_identifier': 'C00249'}, {'KEGG_identifier': 'C00412'}, {'KEGG_identifier': 'C00510'}, {'KEGG_identifier': 'C00712'}, {'KEGG_identifier': 'C01203'}, {'KEGG_identifier': 'C01530'}, {'KEGG_identifier': 'C01595'}, {'KEGG_identifier': 'C02041'}, {'KEGG_identifier': 'C02050'}, {'KEGG_identifier': 'C02249'}, {'KEGG_identifier': 'C03035'}, {'KEGG_identifier': 'C03242'}, {'KEGG_identifier': 'C03595'}, {'KEGG_identifier': 'C04088'}, {'KEGG_identifier': 'C05764'}, {'KEGG_identifier': 'C06425'}, {'KEGG_identifier': 'C06426'}, {'KEGG_identifier': 'C06427'}, {'KEGG_identifier': 'C06428'}, {'KEGG_identifier': 'C06429'}, {'KEGG_identifier': 'C08281'}, {'KEGG_identifier': 'C08316'}, {'KEGG_identifier': 'C08320'}, {'KEGG_identifier': 'C08323'}, {'KEGG_identifier': 'C16160'}, {'KEGG_identifier': 'C16161'}, {'KEGG_identifier': 'C16162'}, {'KEGG_identifier': 'C16163'}, {'KEGG_identifier': 'C16164'}, {'KEGG_identifier': 'C16165'}, {'KEGG_identifier': 'C16166'}, {'KEGG_identifier': 'C16167'}, {'KEGG_identifier': 'C16168'}, {'KEGG_identifier': 'C16169'}, {'KEGG_identifier': 'C16170'}, {'KEGG_identifier': 'C16171'}, {'KEGG_identifier': 'C16172'}, {'KEGG_identifier': 'C16173'}, {'KEGG_identifier': 'C16179'}, {'KEGG_identifier': 'C16180'}, {'KEGG_identifier': 'C16513'}, {'KEGG_identifier': 'C16522'}, {'KEGG_identifier': 'C16525'}, {'KEGG_identifier': 'C16526'}, {'KEGG_identifier': 'C16527'}, {'KEGG_identifier': 'C16528'}, {'KEGG_identifier': 'C16529'}, {'KEGG_identifier': 'C16530'}, {'KEGG_identifier': 'C16531'}, {'KEGG_identifier': 'C16532'}, {'KEGG_identifier': 'C16533'}, {'KEGG_identifier': 'C16645'}, {'KEGG_identifier': 'C17279'}, {'KEGG_identifier': 'C21072'}, {'KEGG_identifier': 'C21932'}, {'KEGG_identifier': 'C21934'}, {'KEGG_identifier': 'C21935'}, {'KEGG_identifier': 'C21937'}, {'KEGG_identifier': 'C21939'}, {'KEGG_identifier': 'C21941'}, {'KEGG_identifier': 'C21943'}, {'KEGG_identifier': 'C21945'}, {'KEGG_identifier': 'C21947'}, {'KEGG_identifier': 'C21949'}, {'KEGG_identifier': 'C21951'}, {'KEGG_identifier': 'C21953'}, {'KEGG_identifier': 'C21959'}, {'KEGG_identifier': 'C21961'}, {'KEGG_identifier': 'C21963'}, {'KEGG_identifier': 'C21965'}, {'KEGG_identifier': 'C21967'}, {'KEGG_identifier': 'C21981'}]}, {'pathway_id': 'path:mmu01100', 'pathway_label': 'Metabolic pathways - Mus musculus (house mouse)', 'gene_count': 0, 'compounds': [{'KEGG_identifier': None}]}, {'pathway_id': 'path:mmu04913', 'pathway_label': 'Ovarian steroidogenesis - Mus musculus (house mouse)', 'gene_count': 63, 'compounds': [{'KEGG_identifier': 'C00187'}, {'KEGG_identifier': 'C00219'}, {'KEGG_identifier': 'C00280'}, {'KEGG_identifier': 'C00410'}, {'KEGG_identifier': 'C00468'}, {'KEGG_identifier': 'C00535'}, {'KEGG_identifier': 'C00575'}, {'KEGG_identifier': 'C00639'}, {'KEGG_identifier': 'C00951'}, {'KEGG_identifier': 'C01176'}, {'KEGG_identifier': 'C01227'}, {'KEGG_identifier': 'C01953'}, {'KEGG_identifier': 'C02249'}, {'KEGG_identifier': 'C02530'}, {'KEGG_identifier': 'C04295'}, {'KEGG_identifier': 'C05138'}, {'KEGG_identifier': 'C05301'}, {'KEGG_identifier': 'C05356'}, {'KEGG_identifier': 'C05966'}, {'KEGG_identifier': 'C14209'}, {'KEGG_identifier': 'C14768'}, {'KEGG_identifier': 'C14769'}, {'KEGG_identifier': 'C14770'}, {'KEGG_identifier': 'C14777'}]}, {'gene_count': 0, 'compounds': [{'KEGG_identifier': None}]}]",
         "ENSG00000184227",
         "[{'pathway_label': 'Mitochondrial Fatty Acid Beta-Oxidation', 'pathway_id': 'Reactome:R-HSA-77289'}]",
         "[{'go_id': 'GO:0052689', 'go_name': 'carboxylic ester hydrolase activity', 'go_type': 'F'}, {'go_id': 'GO:0005515', 'go_name': 'protein binding', 'go_type': 'F'}, {'go_id': 'GO:0047617', 'go_name': 'fatty acyl-CoA hydrolase activity', 'go_type': 'F'}, {'go_id': 'GO:0006631', 'go_name': 'fatty acid metabolic process', 'go_type': 'P'}, {'go_id': 'GO:0005829', 'go_name': 'cytosol', 'go_type': 'C'}, {'go_id': 'GO:0006637', 'go_name': 'acyl-CoA metabolic process', 'go_type': 'P'}, {'go_id': 'GO:0001676', 'go_name': 'long-chain fatty acid metabolic process', 'go_type': 'P'}, {'go_id': 'GO:0000038', 'go_name': 'very long-chain fatty acid metabolic process', 'go_type': 'P'}, {'go_id': 'GO:0005739', 'go_name': 'mitochondrion', 'go_type': 'C'}]",
         "[{'chembl_id': nan, 'drugbank_id': nan, 'compound_cid': nan, 'compound_name': nan, 'clincal_trial_phase': nan, 'is_approved': nan, 'relation': nan, 'adverse_effect_count': nan, 'adverse_effect': nan}]",
         "[{'disease_name': 'Hepatomegaly', 'HPO': 'HPO:HP:0002240', 'NCI': 'NCI:C3100', 'OMIM': None, 'MONDO': None, 'ORDO': None, 'EFO': None, 'DO': None, 'MESH': 'MESH:D006529', 'UMLS': 'UMLS:C0019209', 'disease_type': 'phenotype', 'disease_umlscui': 'C0019209', 'score': 0.4, 'ei': 1.0, 'el': None}, {'disease_name': 'Liver Neoplasm', 'HPO': 'HPO:HP:0002896', 'NCI': None, 'OMIM': None, 'MONDO': 'MONDO:0002691', 'ORDO': None, 'EFO': 'EFO:1001513', 'DO': 'DOID:3571, DOID:684', 'MESH': 'MESH:D008113', 'UMLS': 'UMLS:C0023903', 'disease_type': 'disease', 'disease_umlscui': 'C0023903', 'score': 0.4, 'ei': 1.0, 'el': None}, {'disease_name': 'Hypotonia, generalized', 'HPO': 'HPO:HP:0001290', 'NCI': None, 'OMIM': None, 'MONDO': None, 'ORDO': None, 'EFO': None, 'DO': None, 'MESH': None, 'UMLS': 'UMLS:C1858120', 'disease_type': 'phenotype', 'disease_umlscui': 'C1858120', 'score': 0.4, 'ei': nan, 'el': None}]"
        ],
        [
         "7",
         "ENSMUSG00000028970",
         "Ensembl",
         "ENSMUSG00000028970",
         "Ensembl",
         "[{'pathway_id': nan, 'pathway_label': nan, 'pathway_gene_count': nan}]",
         "[{'stringdb_link_to': nan, 'Ensembl': nan, 'score': nan, 'Uniprot-TrEMBL': None, 'Uniprot-TrEMBL_link': None}]",
         "[{'homolog': 'ENSG00000085563'}]",
         "[{'pathway_id': 'path:mmu02010', 'pathway_label': 'ABC transporters - Mus musculus (house mouse)', 'gene_count': 51, 'compounds': [{'KEGG_identifier': 'C00009'}, {'KEGG_identifier': 'C00025'}, {'KEGG_identifier': 'C00031'}, {'KEGG_identifier': 'C00032'}, {'KEGG_identifier': 'C00034'}, {'KEGG_identifier': 'C00037'}, {'KEGG_identifier': 'C00038'}, {'KEGG_identifier': 'C00041'}, {'KEGG_identifier': 'C00047'}, {'KEGG_identifier': 'C00049'}, {'KEGG_identifier': 'C00051'}, {'KEGG_identifier': 'C00059'}, {'KEGG_identifier': 'C00062'}, {'KEGG_identifier': 'C00064'}, {'KEGG_identifier': 'C00065'}, {'KEGG_identifier': 'C00070'}, {'KEGG_identifier': 'C00077'}, {'KEGG_identifier': 'C00079'}, {'KEGG_identifier': 'C00086'}, {'KEGG_identifier': 'C00088'}, {'KEGG_identifier': 'C00089'}, {'KEGG_identifier': 'C00093'}, {'KEGG_identifier': 'C00095'}, {'KEGG_identifier': 'C00098'}, {'KEGG_identifier': 'C00107'}, {'KEGG_identifier': 'C00114'}, {'KEGG_identifier': 'C00116'}, {'KEGG_identifier': 'C00120'}, {'KEGG_identifier': 'C00121'}, {'KEGG_identifier': 'C00123'}, {'KEGG_identifier': 'C00134'}, {'KEGG_identifier': 'C00135'}, {'KEGG_identifier': 'C00137'}, {'KEGG_identifier': 'C00140'}, {'KEGG_identifier': 'C00148'}, {'KEGG_identifier': 'C00151'}, {'KEGG_identifier': 'C00159'}, {'KEGG_identifier': 'C00175'}, {'KEGG_identifier': 'C00181'}, {'KEGG_identifier': 'C00183'}, {'KEGG_identifier': 'C00185'}, {'KEGG_identifier': 'C00188'}, {'KEGG_identifier': 'C00208'}, {'KEGG_identifier': 'C00212'}, {'KEGG_identifier': 'C00243'}, {'KEGG_identifier': 'C00244'}, {'KEGG_identifier': 'C00245'}, {'KEGG_identifier': 'C00255'}, {'KEGG_identifier': 'C00259'}, {'KEGG_identifier': 'C00288'}, {'KEGG_identifier': 'C00291'}, {'KEGG_identifier': 'C00294'}, {'KEGG_identifier': 'C00299'}, {'KEGG_identifier': 'C00315'}, {'KEGG_identifier': 'C00320'}, {'KEGG_identifier': 'C00330'}, {'KEGG_identifier': 'C00333'}, {'KEGG_identifier': 'C00338'}, {'KEGG_identifier': 'C00378'}, {'KEGG_identifier': 'C00379'}, {'KEGG_identifier': 'C00387'}, {'KEGG_identifier': 'C00392'}, {'KEGG_identifier': 'C00407'}, {'KEGG_identifier': 'C00430'}, {'KEGG_identifier': 'C00470'}, {'KEGG_identifier': 'C00475'}, {'KEGG_identifier': 'C00487'}, {'KEGG_identifier': 'C00491'}, {'KEGG_identifier': 'C00492'}, {'KEGG_identifier': 'C00503'}, {'KEGG_identifier': 'C00526'}, {'KEGG_identifier': 'C00559'}, {'KEGG_identifier': 'C00719'}, {'KEGG_identifier': 'C00794'}, {'KEGG_identifier': 'C00855'}, {'KEGG_identifier': 'C00865'}, {'KEGG_identifier': 'C00881'}, {'KEGG_identifier': 'C00919'}, {'KEGG_identifier': 'C00973'}, {'KEGG_identifier': 'C01083'}, {'KEGG_identifier': 'C01153'}, {'KEGG_identifier': 'C01157'}, {'KEGG_identifier': 'C01177'}, {'KEGG_identifier': 'C01181'}, {'KEGG_identifier': 'C01279'}, {'KEGG_identifier': 'C01330'}, {'KEGG_identifier': 'C01417'}, {'KEGG_identifier': 'C01487'}, {'KEGG_identifier': 'C01606'}, {'KEGG_identifier': 'C01630'}, {'KEGG_identifier': 'C01667'}, {'KEGG_identifier': 'C01674'}, {'KEGG_identifier': 'C01682'}, {'KEGG_identifier': 'C01684'}, {'KEGG_identifier': 'C01762'}, {'KEGG_identifier': 'C01834'}, {'KEGG_identifier': 'C01835'}, {'KEGG_identifier': 'C01935'}, {'KEGG_identifier': 'C01946'}, {'KEGG_identifier': 'C02160'}, {'KEGG_identifier': 'C02273'}, {'KEGG_identifier': 'C03557'}, {'KEGG_identifier': 'C03611'}, {'KEGG_identifier': 'C03619'}, {'KEGG_identifier': 'C04114'}, {'KEGG_identifier': 'C04137'}, {'KEGG_identifier': 'C05349'}, {'KEGG_identifier': 'C05402'}, {'KEGG_identifier': 'C05512'}, {'KEGG_identifier': 'C05776'}, {'KEGG_identifier': 'C06227'}, {'KEGG_identifier': 'C06229'}, {'KEGG_identifier': 'C06230'}, {'KEGG_identifier': 'C06232'}, {'KEGG_identifier': 'C06687'}, {'KEGG_identifier': 'C06705'}, {'KEGG_identifier': 'C06706'}, {'KEGG_identifier': 'C06707'}, {'KEGG_identifier': 'C06767'}, {'KEGG_identifier': 'C07662'}, {'KEGG_identifier': 'C07663'}, {'KEGG_identifier': 'C11612'}, {'KEGG_identifier': 'C13768'}, {'KEGG_identifier': 'C14818'}, {'KEGG_identifier': 'C14819'}, {'KEGG_identifier': 'C15521'}, {'KEGG_identifier': 'C15719'}, {'KEGG_identifier': 'C16421'}, {'KEGG_identifier': 'C16692'}, {'KEGG_identifier': 'C19609'}, {'KEGG_identifier': 'C19872'}, {'KEGG_identifier': 'C20570'}, {'KEGG_identifier': 'C20571'}, {'KEGG_identifier': 'C20572'}, {'KEGG_identifier': 'C20573'}, {'KEGG_identifier': 'C20679'}, {'KEGG_identifier': 'C21066'}, {'KEGG_identifier': 'C22040'}]}, {'pathway_id': 'path:mmu04976', 'pathway_label': 'Bile secretion - Mus musculus (house mouse)', 'gene_count': 100, 'compounds': [{'KEGG_identifier': 'C00001'}, {'KEGG_identifier': 'C00011'}, {'KEGG_identifier': 'C00024'}, {'KEGG_identifier': 'C00026'}, {'KEGG_identifier': 'C00031'}, {'KEGG_identifier': 'C00051'}, {'KEGG_identifier': 'C00080'}, {'KEGG_identifier': 'C00114'}, {'KEGG_identifier': 'C00187'}, {'KEGG_identifier': 'C00238'}, {'KEGG_identifier': 'C00288'}, {'KEGG_identifier': 'C00315'}, {'KEGG_identifier': 'C00318'}, {'KEGG_identifier': 'C00366'}, {'KEGG_identifier': 'C00486'}, {'KEGG_identifier': 'C00504'}, {'KEGG_identifier': 'C00575'}, {'KEGG_identifier': 'C00584'}, {'KEGG_identifier': 'C00639'}, {'KEGG_identifier': 'C00695'}, {'KEGG_identifier': 'C00698'}, {'KEGG_identifier': 'C00735'}, {'KEGG_identifier': 'C00750'}, {'KEGG_identifier': 'C00780'}, {'KEGG_identifier': 'C00805'}, {'KEGG_identifier': 'C00865'}, {'KEGG_identifier': 'C00942'}, {'KEGG_identifier': 'C01330'}, {'KEGG_identifier': 'C01353'}, {'KEGG_identifier': 'C01405'}, {'KEGG_identifier': 'C01443'}, {'KEGG_identifier': 'C01576'}, {'KEGG_identifier': 'C01829'}, {'KEGG_identifier': 'C01844'}, {'KEGG_identifier': 'C01921'}, {'KEGG_identifier': 'C01937'}, {'KEGG_identifier': 'C01996'}, {'KEGG_identifier': 'C02165'}, {'KEGG_identifier': 'C4'}, {'KEGG_identifier': 'C4'}, {'KEGG_identifier': 'C02380'}, {'KEGG_identifier': 'C02465'}, {'KEGG_identifier': 'C02528'}, {'KEGG_identifier': 'C02530'}, {'KEGG_identifier': 'C02538'}, {'KEGG_identifier': 'C02918'}, {'KEGG_identifier': 'C03033'}, {'KEGG_identifier': 'C03642'}, {'KEGG_identifier': 'C03758'}, {'KEGG_identifier': 'C03990'}, {'KEGG_identifier': 'C04483'}, {'KEGG_identifier': 'C04555'}, {'KEGG_identifier': 'C05122'}, {'KEGG_identifier': 'C05371'}, {'KEGG_identifier': 'C05465'}, {'KEGG_identifier': 'C05466'}, {'KEGG_identifier': 'C05503'}, {'KEGG_identifier': 'C05551'}, {'KEGG_identifier': 'C05963'}, {'KEGG_identifier': 'C06526'}, {'KEGG_identifier': 'C06570'}, {'KEGG_identifier': 'C06688'}, {'KEGG_identifier': 'C06804'}, {'KEGG_identifier': 'C06810'}, {'KEGG_identifier': 'C06880'}, {'KEGG_identifier': 'C06890'}, {'KEGG_identifier': 'C06956'}, {'KEGG_identifier': 'C06999'}, {'KEGG_identifier': 'C07014'}, {'KEGG_identifier': 'C07051'}, {'KEGG_identifier': 'C07065'}, {'KEGG_identifier': 'C07151'}, {'KEGG_identifier': 'C07184'}, {'KEGG_identifier': 'C07185'}, {'KEGG_identifier': 'C07201'}, {'KEGG_identifier': 'C07207'}, {'KEGG_identifier': 'C07210'}, {'KEGG_identifier': 'C07240'}, {'KEGG_identifier': 'C07394'}, {'KEGG_identifier': 'C07512'}, {'KEGG_identifier': 'C07649'}, {'KEGG_identifier': 'C07660'}, {'KEGG_identifier': 'C07966'}, {'KEGG_identifier': 'C08357'}, {'KEGG_identifier': 'C08439'}, {'KEGG_identifier': 'C09955'}, {'KEGG_identifier': 'C11158'}, {'KEGG_identifier': 'C11231'}, {'KEGG_identifier': 'C11245'}, {'KEGG_identifier': 'C11277'}, {'KEGG_identifier': 'C11310'}, {'KEGG_identifier': 'C11363'}, {'KEGG_identifier': 'C11587'}, {'KEGG_identifier': 'C11754'}, {'KEGG_identifier': 'C12560'}, {'KEGG_identifier': 'C16114'}, {'KEGG_identifier': 'C16578'}, {'KEGG_identifier': 'C16643'}]}, {'pathway_id': 'path:mmu05206', 'pathway_label': 'MicroRNAs in cancer - Mus musculus (house mouse)', 'gene_count': 302, 'compounds': [{'KEGG_identifier': None}]}, {'pathway_id': 'path:mmu05226', 'pathway_label': 'Gastric cancer - Mus musculus (house mouse)', 'gene_count': 149, 'compounds': [{'KEGG_identifier': 'C00039'}, {'KEGG_identifier': 'C00777'}, {'KEGG_identifier': 'C05981'}, {'KEGG_identifier': 'C15493'}]}, {'gene_count': 0, 'compounds': [{'KEGG_identifier': None}]}]",
         "ENSG00000085563",
         "[{'pathway_label': 'Abacavir transmembrane transport', 'pathway_id': 'Reactome:R-HSA-2161517'}, {'pathway_label': 'Prednisone ADME', 'pathway_id': 'Reactome:R-HSA-9757110'}, {'pathway_label': 'ABC-family proteins mediated transport', 'pathway_id': 'Reactome:R-HSA-382556'}, {'pathway_label': 'Atorvastatin ADME', 'pathway_id': 'Reactome:R-HSA-9754706'}]",
         "[{'go_id': 'GO:0008559', 'go_name': 'ABC-type xenobiotic transporter activity', 'go_type': 'F'}, {'go_id': 'GO:0140115', 'go_name': 'export across plasma membrane', 'go_type': 'P'}, {'go_id': 'GO:0042626', 'go_name': 'ATPase-coupled transmembrane transporter activity', 'go_type': 'F'}, {'go_id': 'GO:0070633', 'go_name': 'transepithelial transport', 'go_type': 'P'}, {'go_id': 'GO:1990961', 'go_name': 'xenobiotic detoxification by transmembrane export across the plasma membrane', 'go_type': 'P'}, {'go_id': 'GO:0042910', 'go_name': 'xenobiotic transmembrane transporter activity', 'go_type': 'F'}, {'go_id': 'GO:0005515', 'go_name': 'protein binding', 'go_type': 'F'}, {'go_id': 'GO:0055085', 'go_name': 'transmembrane transport', 'go_type': 'P'}, {'go_id': 'GO:0016324', 'go_name': 'apical plasma membrane', 'go_type': 'C'}, {'go_id': 'GO:2001225', 'go_name': 'regulation of chloride transport', 'go_type': 'P'}, {'go_id': 'GO:0005886', 'go_name': 'plasma membrane', 'go_type': 'C'}, {'go_id': 'GO:0006805', 'go_name': 'xenobiotic metabolic process', 'go_type': 'P'}, {'go_id': 'GO:1905039', 'go_name': 'carboxylic acid transmembrane transport', 'go_type': 'P'}, {'go_id': 'GO:0070062', 'go_name': 'extracellular exosome', 'go_type': 'C'}, {'go_id': 'GO:0090554', 'go_name': 'phosphatidylcholine floppase activity', 'go_type': 'F'}, {'go_id': 'GO:0015562', 'go_name': 'efflux transmembrane transporter activity', 'go_type': 'F'}, {'go_id': 'GO:1990962', 'go_name': 'xenobiotic transport across blood-brain barrier', 'go_type': 'P'}, {'go_id': 'GO:0098591', 'go_name': 'external side of apical plasma membrane', 'go_type': 'C'}, {'go_id': 'GO:0072089', 'go_name': 'stem cell proliferation', 'go_type': 'P'}, {'go_id': 'GO:0045332', 'go_name': 'phospholipid translocation', 'go_type': 'P'}, {'go_id': 'GO:0046865', 'go_name': 'terpenoid transport', 'go_type': 'P'}, {'go_id': 'GO:0046943', 'go_name': 'carboxylic acid transmembrane transporter activity', 'go_type': 'F'}, {'go_id': 'GO:0005737', 'go_name': 'cytoplasm', 'go_type': 'C'}, {'go_id': 'GO:0140328', 'go_name': 'floppase activity', 'go_type': 'F'}, {'go_id': 'GO:0031625', 'go_name': 'ubiquitin protein ligase binding', 'go_type': 'F'}, {'go_id': 'GO:0090555', 'go_name': 'phosphatidylethanolamine flippase activity', 'go_type': 'F'}, {'go_id': 'GO:0016887', 'go_name': 'ATP hydrolysis activity', 'go_type': 'F'}, {'go_id': 'GO:0099038', 'go_name': 'ceramide floppase activity', 'go_type': 'F'}, {'go_id': 'GO:0099040', 'go_name': 'ceramide translocation', 'go_type': 'P'}, {'go_id': 'GO:0150104', 'go_name': 'transport across blood-brain barrier', 'go_type': 'P'}, {'go_id': 'GO:0009410', 'go_name': 'response to xenobiotic stimulus', 'go_type': 'P'}, {'go_id': 'GO:0005524', 'go_name': 'ATP binding', 'go_type': 'F'}, {'go_id': 'GO:0022857', 'go_name': 'transmembrane transporter activity', 'go_type': 'F'}, {'go_id': 'GO:0000086', 'go_name': 'G2/M transition of mitotic cell cycle', 'go_type': 'P'}, {'go_id': 'GO:0016020', 'go_name': 'membrane', 'go_type': 'C'}, {'go_id': 'GO:0009986', 'go_name': 'cell surface', 'go_type': 'C'}]",
         "[{'chembl_id': 'CHEMBL:CHEMBL1086218', 'drugbank_id': 'DrugBank:DB11869', 'compound_cid': 'pubchem.compound:5281884', 'compound_name': 'VALSPODAR', 'clincal_trial_phase': 3.0, 'is_approved': False, 'relation': 'activates', 'adverse_effect_count': 0.0, 'adverse_effect': nan}, {'chembl_id': 'CHEMBL:CHEMBL444172', 'drugbank_id': 'DrugBank:DB06191', 'compound_cid': 'pubchem.compound:3036703', 'compound_name': 'ZOSUQUIDAR', 'clincal_trial_phase': 3.0, 'is_approved': False, 'relation': 'activates', 'adverse_effect_count': 0.0, 'adverse_effect': nan}, {'chembl_id': 'CHEMBL:CHEMBL348475', 'drugbank_id': 'DrugBank:DB06240', 'compound_cid': 'pubchem.compound:148201', 'compound_name': 'TARIQUIDAR', 'clincal_trial_phase': 3.0, 'is_approved': False, 'relation': 'activates', 'adverse_effect_count': 2.0, 'adverse_effect': [{'name': 'breast cancer female'}, {'name': 'malignant neoplasm progression'}]}, {'chembl_id': 'CHEMBL:CHEMBL4594298', 'drugbank_id': None, 'compound_cid': 'pubchem.compound:11399764', 'compound_name': 'ENCEQUIDAR', 'clincal_trial_phase': 3.0, 'is_approved': False, 'relation': 'activates', 'adverse_effect_count': 0.0, 'adverse_effect': nan}]",
         "[{'disease_name': 'Breast Neoplasms', 'HPO': 'HPO:HP:0100013', 'NCI': 'NCI:C2910', 'OMIM': None, 'MONDO': 'MONDO:0021100', 'ORDO': None, 'EFO': 'EFO:0003869', 'DO': 'DOID:1612, DOID:3459', 'MESH': 'MESH:D001943', 'UMLS': 'UMLS:C1458155', 'disease_type': 'disease', 'disease_umlscui': 'C1458155', 'score': 1.0, 'ei': 0.9439775910364145, 'el': None}, {'disease_name': 'Epilepsies', 'HPO': 'HPO:HP:0001250', 'NCI': 'NCI:C3020', 'OMIM': None, 'MONDO': 'MONDO:0005027', 'ORDO': None, 'EFO': 'EFO:0000474', 'DO': 'DOID:1826', 'MESH': 'MESH:D004827', 'UMLS': 'UMLS:C0014544', 'disease_type': 'disease', 'disease_umlscui': 'C0014544', 'score': 1.0, 'ei': 0.8907563025210085, 'el': None}, {'disease_name': 'Carcinoma, Non Small Cell Lung', 'HPO': 'HPO:HP:0030358', 'NCI': 'NCI:C2926', 'OMIM': 'MIM:211980', 'MONDO': 'MONDO:0005233', 'ORDO': None, 'EFO': 'EFO:0003060', 'DO': 'DOID:3908', 'MESH': 'MESH:D002289', 'UMLS': 'UMLS:C0007131', 'disease_type': 'disease', 'disease_umlscui': 'C0007131', 'score': 1.0, 'ei': 0.8468468468468469, 'el': None}, {'disease_name': 'Liver cell carcinoma', 'HPO': 'HPO:HP:0001402', 'NCI': 'NCI:C3099', 'OMIM': 'MIM:114550', 'MONDO': 'MONDO:0007256', 'ORDO': 'ORDO:88673', 'EFO': 'EFO:0000182, EFO:0000762, EFO:1000256', 'DO': 'DOID:3571, DOID:684', 'MESH': 'MESH:D006528', 'UMLS': 'UMLS:C2239176', 'disease_type': 'disease', 'disease_umlscui': 'C2239176', 'score': 1.0, 'ei': 0.9181818181818182, 'el': None}, {'disease_name': 'neurotoxicity', 'HPO': None, 'NCI': 'NCI:C27961', 'OMIM': None, 'MONDO': 'MONDO:0005527', 'ORDO': None, 'EFO': 'EFO:0005595, EFO:0011057', 'DO': 'DOID:3602', 'MESH': 'MESH:D020258', 'UMLS': 'UMLS:C0235032', 'disease_type': 'disease', 'disease_umlscui': 'C0235032', 'score': 0.9500000000000001, 'ei': 0.9130434782608695, 'el': None}, {'disease_name': 'Chronic myeloid leukemia', 'HPO': 'HPO:HP:0005506', 'NCI': 'NCI:C9128', 'OMIM': 'MIM:608232', 'MONDO': 'MONDO:0011996', 'ORDO': 'ORDO:521', 'EFO': 'EFO:0000339', 'DO': 'DOID:0081088, DOID:8552', 'MESH': 'MESH:D015464', 'UMLS': 'UMLS:C0279543', 'disease_type': 'disease', 'disease_umlscui': 'C0279543', 'score': 0.9, 'ei': 0.8608695652173913, 'el': None}, {'disease_name': 'HIV infection', 'HPO': None, 'NCI': 'NCI:C3108', 'OMIM': None, 'MONDO': 'MONDO:0005109', 'ORDO': None, 'EFO': 'EFO:0000764', 'DO': 'DOID:526, DOID:635', 'MESH': 'MESH:D015658', 'UMLS': 'UMLS:C0019693', 'disease_type': 'disease', 'disease_umlscui': 'C0019693', 'score': 0.9, 'ei': 0.96, 'el': None}, {'disease_name': 'CRC', 'HPO': None, 'NCI': 'NCI:C2955', 'OMIM': 'MIM:114500, MIM:516000, MIM:516004, MIM:516030, MIM:516040, MIM:172411, MIM:191170, MIM:516020', 'MONDO': 'MONDO:0005335, MONDO:0005575, MONDO:0024331', 'ORDO': None, 'EFO': 'EFO:0000365, EFO:0004142, EFO:1001951', 'DO': 'DOID:0080199, DOID:9256', 'MESH': 'MESH:D015179', 'UMLS': 'UMLS:C0009402', 'disease_type': 'disease', 'disease_umlscui': 'C0009402', 'score': 0.8500000000000001, 'ei': 0.8938053097345132, 'el': None}, {'disease_name': 'ALL', 'HPO': 'HPO:HP:0006721', 'NCI': 'NCI:C3167', 'OMIM': None, 'MONDO': 'MONDO:0004967', 'ORDO': 'ORDO:513', 'EFO': 'EFO:0000220, EFO:1001830', 'DO': 'DOID:9952', 'MESH': None, 'UMLS': 'UMLS:C0023449', 'disease_type': 'disease', 'disease_umlscui': 'C0023449', 'score': 0.8500000000000001, 'ei': 0.8021978021978022, 'el': None}, {'disease_name': 'Colorectal Neoplasm', 'HPO': 'HPO:HP:0100834', 'NCI': 'NCI:C2956', 'OMIM': None, 'MONDO': 'MONDO:0005335, MONDO:0005575', 'ORDO': None, 'EFO': 'EFO:0004142', 'DO': 'DOID:0080199, DOID:9256', 'MESH': 'MESH:D015179', 'UMLS': 'UMLS:C0009404', 'disease_type': 'disease', 'disease_umlscui': 'C0009404', 'score': 0.85, 'ei': 0.9230769230769231, 'el': None}, {'disease_name': 'Parkinson Disease', 'HPO': None, 'NCI': 'NCI:C26845', 'OMIM': 'MIM:516000', 'MONDO': 'MONDO:0011562, MONDO:0014796, MONDO:0005180, MONDO:0014231', 'ORDO': 'ORDO:319705', 'EFO': None, 'DO': 'DOID:0060891, DOID:0060895, DOID:0060896, DOID:14330', 'MESH': 'MESH:D010300', 'UMLS': 'UMLS:C0030567', 'disease_type': 'disease', 'disease_umlscui': 'C0030567', 'score': 0.85, 'ei': 0.8666666666666667, 'el': None}, {'disease_name': 'Schizophrenias', 'HPO': 'HPO:HP:0100753', 'NCI': 'NCI:C3362', 'OMIM': 'MIM:181500', 'MONDO': 'MONDO:0005090', 'ORDO': None, 'EFO': None, 'DO': 'DOID:5419', 'MESH': 'MESH:D012559', 'UMLS': 'UMLS:C0036341', 'disease_type': 'disease', 'disease_umlscui': 'C0036341', 'score': 0.85, 'ei': 1.0, 'el': None}, {'disease_name': 'Depressive neurosis', 'HPO': 'HPO:HP:0000716', 'NCI': None, 'OMIM': None, 'MONDO': 'MONDO:0001442, MONDO:0002050', 'ORDO': None, 'EFO': 'EFO:0004257, EFO:0008623, EFO:1002014', 'DO': 'DOID:1595, DOID:12139, DOID:4964', 'MESH': 'MESH:D003866', 'UMLS': 'UMLS:C0011581', 'disease_type': 'disease', 'disease_umlscui': 'C0011581', 'score': 0.85, 'ei': 0.8888888888888888, 'el': None}, {'disease_name': 'Depression', 'HPO': None, 'NCI': 'NCI:C2982', 'OMIM': None, 'MONDO': 'MONDO:0002050', 'ORDO': None, 'EFO': None, 'DO': 'DOID:1596, DOID:1470', 'MESH': 'MESH:D003863', 'UMLS': 'UMLS:C0011570', 'disease_type': 'disease', 'disease_umlscui': 'C0011570', 'score': 0.85, 'ei': 0.9565217391304348, 'el': None}, {'disease_name': 'Kidney Neoplasm', 'HPO': 'HPO:HP:0009726', 'NCI': 'NCI:C3150', 'OMIM': None, 'MONDO': 'MONDO:0002367, MONDO:0021163', 'ORDO': None, 'EFO': 'EFO:0003865', 'DO': 'DOID:263', 'MESH': 'MESH:D007680', 'UMLS': 'UMLS:C0022665', 'disease_type': 'disease', 'disease_umlscui': 'C0022665', 'score': 0.85, 'ei': 0.9285714285714286, 'el': None}, {'disease_name': 'Renal cell carcinoma', 'HPO': 'HPO:HP:0005584', 'NCI': 'NCI:C9385', 'OMIM': 'MIM:144700', 'MONDO': 'MONDO:0005549, MONDO:0005086', 'ORDO': 'ORDO:217071', 'EFO': 'EFO:0000349, EFO:0000681, EFO:0005708', 'DO': 'DOID:4450, DOID:4451, DOID:4464, DOID:4465, DOID:4467, DOID:4471, DOID:4473', 'MESH': 'MESH:D002292', 'UMLS': 'UMLS:C0007134', 'disease_type': 'disease', 'disease_umlscui': 'C0007134', 'score': 0.8, 'ei': 0.9545454545454546, 'el': None}, {'disease_name': 'Ulcerative colitis', 'HPO': 'HPO:HP:0100279', 'NCI': 'NCI:C2952', 'OMIM': 'MIM:266600', 'MONDO': 'MONDO:0005101', 'ORDO': None, 'EFO': 'EFO:0000729', 'DO': 'DOID:8577', 'MESH': 'MESH:D003093', 'UMLS': 'UMLS:C0009324', 'disease_type': 'disease', 'disease_umlscui': 'C0009324', 'score': 0.8, 'ei': 0.8205128205128205, 'el': None}, {'disease_name': 'Adult-Onset Diabetes Mellitus', 'HPO': 'HPO:HP:0005978', 'NCI': 'NCI:C26747', 'OMIM': 'MIM:125853, MIM:164731, MIM:601724, MIM:600509, MIM:138430, MIM:147545, MIM:138079, MIM:147670, MIM:167413, MIM:600281, MIM:189907', 'MONDO': 'MONDO:0005148', 'ORDO': None, 'EFO': None, 'DO': 'DOID:9352', 'MESH': 'MESH:D003924', 'UMLS': 'UMLS:C0011860', 'disease_type': 'disease', 'disease_umlscui': 'C0011860', 'score': 0.8, 'ei': 0.875, 'el': None}, {'disease_name': 'MAJOR DEPRESSIVE DISORDER', 'HPO': None, 'NCI': None, 'OMIM': 'MIM:608516', 'MONDO': 'MONDO:0002009', 'ORDO': None, 'EFO': 'EFO:1002014', 'DO': 'DOID:1595', 'MESH': 'MESH:D003865', 'UMLS': 'UMLS:C1269683', 'disease_type': 'disease', 'disease_umlscui': 'C1269683', 'score': 0.7999999999999999, 'ei': 0.8695652173913043, 'el': None}, {'disease_name': 'Esophageal Neoplasm', 'HPO': 'HPO:HP:0100751', 'NCI': 'NCI:C3028', 'OMIM': None, 'MONDO': 'MONDO:0007576, MONDO:0021355', 'ORDO': None, 'EFO': None, 'DO': 'DOID:5041', 'MESH': 'MESH:D004938', 'UMLS': 'UMLS:C0014859', 'disease_type': 'disease', 'disease_umlscui': 'C0014859', 'score': 0.7999999999999999, 'ei': 0.9090909090909091, 'el': None}, {'disease_name': 'Infection, Plasmodium', 'HPO': None, 'NCI': 'NCI:C34797', 'OMIM': None, 'MONDO': 'MONDO:0005136', 'ORDO': 'ORDO:673', 'EFO': 'EFO:0001068', 'DO': 'DOID:12365', 'MESH': 'MESH:D008288', 'UMLS': 'UMLS:C0024530', 'disease_type': 'disease', 'disease_umlscui': 'C0024530', 'score': 0.7999999999999999, 'ei': 1.0, 'el': None}, {'disease_name': 'Neuroblastoma', 'HPO': 'HPO:HP:0003006', 'NCI': 'NCI:C3270', 'OMIM': None, 'MONDO': 'MONDO:0005072', 'ORDO': 'ORDO:635', 'EFO': 'EFO:0000621', 'DO': 'DOID:769', 'MESH': 'MESH:D009447', 'UMLS': 'UMLS:C0027819', 'disease_type': 'disease', 'disease_umlscui': 'C0027819', 'score': 0.75, 'ei': 0.8421052631578947, 'el': None}, {'disease_name': 'Carcinoma', 'HPO': 'HPO:HP:0030731', 'NCI': 'NCI:C2916', 'OMIM': None, 'MONDO': 'MONDO:0004993', 'ORDO': None, 'EFO': 'EFO:0000313', 'DO': 'DOID:162, DOID:305, DOID:4015', 'MESH': 'MESH:D002277', 'UMLS': 'UMLS:C0007097', 'disease_type': 'disease', 'disease_umlscui': 'C0007097', 'score': 0.75, 'ei': 0.8888888888888888, 'el': None}, {'disease_name': 'Rheumatoid arthritis', 'HPO': 'HPO:HP:0001370', 'NCI': 'NCI:C2884', 'OMIM': 'MIM:180300, MIM:607218', 'MONDO': 'MONDO:0008383', 'ORDO': None, 'EFO': 'EFO:0000685', 'DO': 'DOID:7148', 'MESH': 'MESH:D001172', 'UMLS': 'UMLS:C0003873', 'disease_type': 'disease', 'disease_umlscui': 'C0003873', 'score': 0.75, 'ei': 0.8, 'el': None}, {'disease_name': 'Hematologic Neoplasm', 'HPO': 'HPO:HP:0004377, HPO:HP:0001909', 'NCI': 'NCI:C27134', 'OMIM': None, 'MONDO': 'MONDO:0002334, MONDO:0044881', 'ORDO': None, 'EFO': None, 'DO': 'DOID:2531', 'MESH': 'MESH:D019337', 'UMLS': 'UMLS:C0376545', 'disease_type': 'disease', 'disease_umlscui': 'C0376545', 'score': 0.75, 'ei': 1.0, 'el': None}, {'disease_name': 'Neutropenia', 'HPO': None, 'NCI': None, 'OMIM': None, 'MONDO': 'MONDO:0001475, MONDO:0001609, MONDO:0018542', 'ORDO': None, 'EFO': None, 'DO': 'DOID:0050590, DOID:1227, DOID:12987', 'MESH': 'MESH:D009503', 'UMLS': 'UMLS:C0027947', 'disease_type': 'disease', 'disease_umlscui': 'C0027947', 'score': 0.75, 'ei': 0.8461538461538461, 'el': None}, {'disease_name': 'Pain', 'HPO': 'HPO:HP:0012531', 'NCI': 'NCI:C3303, NCI:C25271', 'OMIM': None, 'MONDO': None, 'ORDO': None, 'EFO': 'EFO:0003843', 'DO': None, 'MESH': 'MESH:D010146', 'UMLS': 'UMLS:C0030193', 'disease_type': 'phenotype', 'disease_umlscui': 'C0030193', 'score': 0.75, 'ei': 0.9166666666666666, 'el': None}, {'disease_name': 'adenocarcinoma of large intestine (diagnosis)', 'HPO': 'HPO:HP:0040275', 'NCI': 'NCI:C5105', 'OMIM': None, 'MONDO': 'MONDO:0005008', 'ORDO': None, 'EFO': 'EFO:0000365', 'DO': 'DOID:0050861', 'MESH': None, 'UMLS': 'UMLS:C1319315', 'disease_type': 'disease', 'disease_umlscui': 'C1319315', 'score': 0.75, 'ei': 0.9090909090909091, 'el': None}, {'disease_name': 'Status Epilepticus', 'HPO': 'HPO:HP:0002133', 'NCI': 'NCI:C85079', 'OMIM': None, 'MONDO': 'MONDO:0002125', 'ORDO': None, 'EFO': 'EFO:0008526', 'DO': 'DOID:1824', 'MESH': 'MESH:D013226', 'UMLS': 'UMLS:C0038220', 'disease_type': 'disease', 'disease_umlscui': 'C0038220', 'score': 0.75, 'ei': 1.0, 'el': None}, {'disease_name': 'Abuse, Marihuana', 'HPO': None, 'NCI': None, 'OMIM': None, 'MONDO': 'MONDO:0005689', 'ORDO': None, 'EFO': 'EFO:0007191', 'DO': 'DOID:1849, DOID:9505', 'MESH': 'MESH:D002189', 'UMLS': 'UMLS:C0024809', 'disease_type': 'disease', 'disease_umlscui': 'C0024809', 'score': 0.75, 'ei': 1.0, 'el': None}, {'disease_name': 'Hyperlipemias', 'HPO': 'HPO:HP:0003077', 'NCI': 'NCI:C34707', 'OMIM': None, 'MONDO': 'MONDO:0001336, MONDO:0021187', 'ORDO': None, 'EFO': None, 'DO': 'DOID:1168', 'MESH': 'MESH:D006949', 'UMLS': 'UMLS:C0020473', 'disease_type': 'disease', 'disease_umlscui': 'C0020473', 'score': 0.75, 'ei': 1.0, 'el': None}, {'disease_name': 'Pain, Postoperative', 'HPO': None, 'NCI': 'NCI:C34887', 'OMIM': None, 'MONDO': None, 'ORDO': None, 'EFO': None, 'DO': None, 'MESH': 'MESH:D010149', 'UMLS': 'UMLS:C0030201', 'disease_type': 'phenotype', 'disease_umlscui': 'C0030201', 'score': 0.7000000000000001, 'ei': 0.7142857142857143, 'el': None}, {'disease_name': 'Psychosis', 'HPO': 'HPO:HP:0000709', 'NCI': 'NCI:C78576', 'OMIM': None, 'MONDO': 'MONDO:0005485', 'ORDO': None, 'EFO': 'EFO:0000677, EFO:0005407', 'DO': 'DOID:11328, DOID:5418', 'MESH': 'MESH:D011618', 'UMLS': 'UMLS:C0033975', 'disease_type': 'disease', 'disease_umlscui': 'C0033975', 'score': 0.7000000000000001, 'ei': 1.0, 'el': None}, {'disease_name': 'Tuberculosis, Pulmonary', 'HPO': 'HPO:HP:0032262', 'NCI': 'NCI:C26899', 'OMIM': None, 'MONDO': 'MONDO:0006052, MONDO:0957462', 'ORDO': 'ORDO:645814', 'EFO': 'EFO:1000049', 'DO': 'DOID:2957, DOID:9534', 'MESH': 'MESH:D014397', 'UMLS': 'UMLS:C0041327', 'disease_type': 'disease', 'disease_umlscui': 'C0041327', 'score': 0.7000000000000001, 'ei': 1.0, 'el': None}, {'disease_name': 'Depressions, Unipolar', 'HPO': None, 'NCI': 'NCI:C35094', 'OMIM': 'MIM:608516', 'MONDO': 'MONDO:0002009, MONDO:0002050, MONDO:0012048', 'ORDO': None, 'EFO': 'EFO:0004257, EFO:1002014', 'DO': 'DOID:1595, DOID:4964', 'MESH': 'MESH:D003866', 'UMLS': 'UMLS:C0041696', 'disease_type': 'disease', 'disease_umlscui': 'C0041696', 'score': 0.7, 'ei': 0.9090909090909091, 'el': None}, {'disease_name': 'Diffuse Histiocytic Lymphoma', 'HPO': None, 'NCI': 'NCI:C8851', 'OMIM': None, 'MONDO': 'MONDO:0018905', 'ORDO': 'ORDO:544', 'EFO': 'EFO:0000403, EFO:1000157, EFO:1000490', 'DO': 'DOID:0050745', 'MESH': 'MESH:D016403', 'UMLS': 'UMLS:C0079744', 'disease_type': 'disease', 'disease_umlscui': 'C0079744', 'score': 0.7, 'ei': 0.8571428571428571, 'el': None}, {'disease_name': 'Opioid dependence', 'HPO': 'HPO:HP:0033515', 'NCI': None, 'OMIM': None, 'MONDO': 'MONDO:0005530', 'ORDO': None, 'EFO': 'EFO:0005611', 'DO': 'DOID:11206, DOID:2559, DOID:9976', 'MESH': 'MESH:D009293', 'UMLS': 'UMLS:C0524662', 'disease_type': 'disease', 'disease_umlscui': 'C0524662', 'score': 0.7, 'ei': 0.8888888888888888, 'el': None}, {'disease_name': 'Peripheral neuropathy', 'HPO': 'HPO:HP:0009830', 'NCI': 'NCI:C119734', 'OMIM': None, 'MONDO': 'MONDO:0005244, MONDO:0003620', 'ORDO': None, 'EFO': 'EFO:0003100, EFO:0009387', 'DO': 'DOID:574', 'MESH': None, 'UMLS': 'UMLS:C0031117', 'disease_type': 'disease', 'disease_umlscui': 'C0031117', 'score': 0.65, 'ei': 0.875, 'el': None}, {'disease_name': 'Diseases, Nervous System', 'HPO': None, 'NCI': 'NCI:C26835', 'OMIM': None, 'MONDO': 'MONDO:0005071', 'ORDO': None, 'EFO': 'EFO:0000618', 'DO': 'DOID:0050635, DOID:863', 'MESH': 'MESH:D009422', 'UMLS': 'UMLS:C0027765', 'disease_type': 'disease', 'disease_umlscui': 'C0027765', 'score': 0.65, 'ei': 1.0, 'el': None}, {'disease_name': 'Nephropathy', 'HPO': 'HPO:HP:0000112', 'NCI': 'NCI:C3149, NCI:C34843', 'OMIM': None, 'MONDO': 'MONDO:0005240', 'ORDO': None, 'EFO': 'EFO:0003086', 'DO': 'DOID:1425, DOID:2921, DOID:557, DOID:10952, DOID:2527', 'MESH': 'MESH:D007674', 'UMLS': 'UMLS:C0022658', 'disease_type': 'disease', 'disease_umlscui': 'C0022658', 'score': 0.65, 'ei': 0.8, 'el': None}, {'disease_name': 'Mental Disorder', 'HPO': None, 'NCI': 'NCI:C2893', 'OMIM': None, 'MONDO': 'MONDO:0002025, MONDO:0005084', 'ORDO': None, 'EFO': 'EFO:0000677', 'DO': 'DOID:150', 'MESH': 'MESH:D001523', 'UMLS': 'UMLS:C0004936', 'disease_type': 'disease', 'disease_umlscui': 'C0004936', 'score': 0.65, 'ei': 1.0, 'el': None}, {'disease_name': 'Disease, Periodic', 'HPO': None, 'NCI': 'NCI:C84707', 'OMIM': 'MIM:249100, MIM:608107', 'MONDO': 'MONDO:0018088, MONDO:0009572', 'ORDO': 'ORDO:342', 'EFO': None, 'DO': 'DOID:0050452, DOID:2987', 'MESH': 'MESH:D010505', 'UMLS': 'UMLS:C0031069', 'disease_type': 'disease', 'disease_umlscui': 'C0031069', 'score': 0.65, 'ei': 1.0, 'el': None}, {'disease_name': 'Epithelioma', 'HPO': 'HPO:HP:0031492', 'NCI': 'NCI:C3709', 'OMIM': None, 'MONDO': 'MONDO:0005626, MONDO:0004993', 'ORDO': None, 'EFO': 'EFO:0000313, EFO:0006858', 'DO': 'DOID:305, DOID:4840', 'MESH': 'MESH:D009375', 'UMLS': 'UMLS:C1368683', 'disease_type': 'disease', 'disease_umlscui': 'C1368683', 'score': 0.65, 'ei': 1.0, 'el': None}, {'disease_name': 'Cardiomyopathy', 'HPO': 'HPO:HP:0001638', 'NCI': 'NCI:C34830', 'OMIM': None, 'MONDO': 'MONDO:0004994', 'ORDO': 'ORDO:167848', 'EFO': 'EFO:0000318', 'DO': 'DOID:0050700', 'MESH': 'MESH:D009202', 'UMLS': 'UMLS:C0878544', 'disease_type': 'disease', 'disease_umlscui': 'C0878544', 'score': 0.65, 'ei': 1.0, 'el': None}, {'disease_name': 'Defect, Congenital Heart', 'HPO': 'HPO:HP:0001627', 'NCI': 'NCI:C34666', 'OMIM': 'MIM:234750, MIM:140500', 'MONDO': 'MONDO:0005453, MONDO:0009327', 'ORDO': None, 'EFO': 'EFO:0005207', 'DO': 'DOID:1682', 'MESH': 'MESH:D006330', 'UMLS': 'UMLS:C0018798', 'disease_type': 'disease', 'disease_umlscui': 'C0018798', 'score': 0.65, 'ei': 1.0, 'el': None}, {'disease_name': 'Dependence, Cannabis', 'HPO': None, 'NCI': 'NCI:C34445', 'OMIM': None, 'MONDO': 'MONDO:0005689', 'ORDO': None, 'EFO': 'EFO:0007191', 'DO': 'DOID:1849, DOID:9505', 'MESH': 'MESH:D002189', 'UMLS': 'UMLS:C0006870', 'disease_type': 'disease', 'disease_umlscui': 'C0006870', 'score': 0.65, 'ei': 1.0, 'el': None}, {'disease_name': 'Behcet Syndrome', 'HPO': None, 'NCI': 'NCI:C34416', 'OMIM': 'MIM:109650', 'MONDO': 'MONDO:0007191', 'ORDO': 'ORDO:117', 'EFO': 'EFO:0003780', 'DO': 'DOID:13241', 'MESH': 'MESH:D001528', 'UMLS': 'UMLS:C0004943', 'disease_type': 'disease', 'disease_umlscui': 'C0004943', 'score': 0.65, 'ei': 1.0, 'el': None}, {'disease_name': 'Adrenal cortical carcinoma', 'HPO': 'HPO:HP:0006744', 'NCI': 'NCI:C9325', 'OMIM': None, 'MONDO': 'MONDO:0006639', 'ORDO': 'ORDO:1501', 'EFO': 'EFO:1000796', 'DO': 'DOID:3948', 'MESH': 'MESH:D018268', 'UMLS': 'UMLS:C0206686', 'disease_type': 'disease', 'disease_umlscui': 'C0206686', 'score': 0.6000000000000001, 'ei': 0.8, 'el': None}, {'disease_name': 'Acquired Immuno Deficiency Syndrome', 'HPO': None, 'NCI': 'NCI:C2851', 'OMIM': None, 'MONDO': 'MONDO:0012268, MONDO:0017769', 'ORDO': 'ORDO:310050', 'EFO': 'EFO:0000765', 'DO': 'DOID:526, DOID:635', 'MESH': 'MESH:D000163', 'UMLS': 'UMLS:C0001175', 'disease_type': 'disease', 'disease_umlscui': 'C0001175', 'score': 0.6000000000000001, 'ei': 1.0, 'el': None}, {'disease_name': 'SQUAMOUS CELL CARCINOMA, HEAD AND NECK', 'HPO': None, 'NCI': 'NCI:C34447', 'OMIM': 'MIM:275355, MIM:603612', 'MONDO': 'MONDO:0010150', 'ORDO': None, 'EFO': 'EFO:0000181', 'DO': 'DOID:2876, DOID:5515, DOID:5520', 'MESH': 'MESH:D000077195', 'UMLS': 'UMLS:C1168401', 'disease_type': 'disease', 'disease_umlscui': 'C1168401', 'score': 0.6000000000000001, 'ei': 0.6, 'el': None}, {'disease_name': 'Carcinomas, Infiltrating Duct', 'HPO': None, 'NCI': 'NCI:C4194', 'OMIM': 'MIM:603615', 'MONDO': 'MONDO:0005590, MONDO:0004953', 'ORDO': None, 'EFO': 'EFO:0000186, EFO:0006318', 'DO': 'DOID:3008', 'MESH': 'MESH:D018270', 'UMLS': 'UMLS:C1134719', 'disease_type': 'disease', 'disease_umlscui': 'C1134719', 'score': 0.6000000000000001, 'ei': 1.0, 'el': None}, {'disease_name': 'Cardiac Disease', 'HPO': None, 'NCI': 'NCI:C3079', 'OMIM': None, 'MONDO': 'MONDO:0005267', 'ORDO': None, 'EFO': 'EFO:0003777', 'DO': 'DOID:114, DOID:1287', 'MESH': 'MESH:D006331', 'UMLS': 'UMLS:C0018799', 'disease_type': 'disease', 'disease_umlscui': 'C0018799', 'score': 0.6000000000000001, 'ei': 1.0, 'el': None}, {'disease_name': 'Emesis', 'HPO': 'HPO:HP:0002013', 'NCI': 'NCI:C3442', 'OMIM': None, 'MONDO': None, 'ORDO': None, 'EFO': None, 'DO': None, 'MESH': 'MESH:D014839', 'UMLS': 'UMLS:C0042963', 'disease_type': 'phenotype', 'disease_umlscui': 'C0042963', 'score': 0.6000000000000001, 'ei': 1.0, 'el': None}, {'disease_name': 'Nausea', 'HPO': 'HPO:HP:0002018', 'NCI': 'NCI:C3258', 'OMIM': None, 'MONDO': None, 'ORDO': None, 'EFO': None, 'DO': None, 'MESH': 'MESH:D009325', 'UMLS': 'UMLS:C0027497', 'disease_type': 'phenotype', 'disease_umlscui': 'C0027497', 'score': 0.6000000000000001, 'ei': 1.0, 'el': None}, {'disease_name': 'AUTISM SPECTRUM DISORDER', 'HPO': 'HPO:HP:0000729', 'NCI': 'NCI:C88412', 'OMIM': 'MIM:209850', 'MONDO': 'MONDO:0005258', 'ORDO': None, 'EFO': 'EFO:0003756', 'DO': 'DOID:0060041, DOID:12849', 'MESH': 'MESH:D000067877', 'UMLS': 'UMLS:C1510586', 'disease_type': 'disease', 'disease_umlscui': 'C1510586', 'score': 0.6000000000000001, 'ei': 0.6666666666666666, 'el': None}, {'disease_name': 'Hypotension, Orthostatic', 'HPO': 'HPO:HP:0001278', 'NCI': 'NCI:C84970', 'OMIM': 'MIM:146500', 'MONDO': 'MONDO:0005469', 'ORDO': None, 'EFO': 'EFO:0005252', 'DO': 'DOID:0111154', 'MESH': 'MESH:D007024', 'UMLS': 'UMLS:C0020651', 'disease_type': 'disease', 'disease_umlscui': 'C0020651', 'score': 0.6000000000000001, 'ei': 0.5, 'el': None}, {'disease_name': 'Breast cancer (ductal)', 'HPO': None, 'NCI': 'NCI:C4017', 'OMIM': None, 'MONDO': 'MONDO:0005590, MONDO:0004953', 'ORDO': None, 'EFO': 'EFO:0000186, EFO:0006318', 'DO': 'DOID:3008', 'MESH': None, 'UMLS': 'UMLS:C1527349', 'disease_type': 'disease', 'disease_umlscui': 'C1527349', 'score': 0.6000000000000001, 'ei': 1.0, 'el': None}, {'disease_name': 'Heroin Dependence', 'HPO': 'HPO:HP:0033517', 'NCI': 'NCI:C34694', 'OMIM': None, 'MONDO': 'MONDO:0005367', 'ORDO': None, 'EFO': 'EFO:0004240', 'DO': 'DOID:9976', 'MESH': 'MESH:D006556', 'UMLS': 'UMLS:C0019337', 'disease_type': 'disease', 'disease_umlscui': 'C0019337', 'score': 0.6000000000000001, 'ei': 1.0, 'el': None}, {'disease_name': 'INFLAMMATORY BOWEL DISEASE 13', 'HPO': None, 'NCI': None, 'OMIM': 'MIM:612244', 'MONDO': 'MONDO:0012831', 'ORDO': None, 'EFO': 'EFO:0003767', 'DO': 'DOID:0110893', 'MESH': 'MESH:C567384', 'UMLS': 'UMLS:C2677101', 'disease_type': 'disease', 'disease_umlscui': 'C2677101', 'score': 0.55, 'ei': 1.0, 'el': None}, {'disease_name': 'Antisocial Personalities', 'HPO': None, 'NCI': 'NCI:C88413', 'OMIM': None, 'MONDO': 'MONDO:0001164', 'ORDO': None, 'EFO': None, 'DO': 'DOID:10939', 'MESH': 'MESH:D000987', 'UMLS': 'UMLS:C0003431', 'disease_type': 'disease', 'disease_umlscui': 'C0003431', 'score': 0.55, 'ei': 1.0, 'el': None}, {'disease_name': 'E coli Infection', 'HPO': 'HPO:HP:0002740', 'NCI': 'NCI:C34594', 'OMIM': None, 'MONDO': 'MONDO:0020920', 'ORDO': None, 'EFO': 'EFO:1001318', 'DO': None, 'MESH': 'MESH:D004927', 'UMLS': 'UMLS:C0014836', 'disease_type': 'disease', 'disease_umlscui': 'C0014836', 'score': 0.55, 'ei': 1.0, 'el': None}, {'disease_name': 'Hyperlipoproteinemia', 'HPO': 'HPO:HP:0010980', 'NCI': 'NCI:C34709', 'OMIM': None, 'MONDO': 'MONDO:0001336, MONDO:0037748', 'ORDO': None, 'EFO': None, 'DO': 'DOID:1168', 'MESH': 'MESH:D006951', 'UMLS': 'UMLS:C0020476', 'disease_type': 'disease', 'disease_umlscui': 'C0020476', 'score': 0.5, 'ei': 1.0, 'el': None}, {'disease_name': 'Generalized idiopathic epilepsy and epileptic syndromes', 'HPO': None, 'NCI': None, 'OMIM': 'MIM:600669', 'MONDO': 'MONDO:0005579', 'ORDO': None, 'EFO': 'EFO:0005917', 'DO': 'DOID:0060170, DOID:1827', 'MESH': 'MESH:C562694', 'UMLS': 'UMLS:C0270850', 'disease_type': 'disease', 'disease_umlscui': 'C0270850', 'score': 0.5, 'ei': 1.0, 'el': None}, {'disease_name': 'Precursor Lymphoblastic Leukemia/Lymphoma', 'HPO': None, 'NCI': 'NCI:C7055', 'OMIM': None, 'MONDO': 'MONDO:0003538, MONDO:0004967', 'ORDO': None, 'EFO': 'EFO:0000220, EFO:0009119', 'DO': 'DOID:9952', 'MESH': None, 'UMLS': 'UMLS:C1335469', 'disease_type': 'disease', 'disease_umlscui': 'C1335469', 'score': 0.5, 'ei': 1.0, 'el': None}, {'disease_name': 'Chemical and Drug Induced Liver Injury', 'HPO': None, 'NCI': None, 'OMIM': None, 'MONDO': 'MONDO:0005359', 'ORDO': None, 'EFO': 'EFO:0004228, EFO:0011052', 'DO': None, 'MESH': 'MESH:D056486', 'UMLS': 'UMLS:C4277682', 'disease_type': 'disease', 'disease_umlscui': 'C4277682', 'score': 0.45, 'ei': 1.0, 'el': None}, {'disease_name': 'Cryoglobulinemia', 'HPO': 'HPO:HP:0100778', 'NCI': 'NCI:C26736', 'OMIM': None, 'MONDO': 'MONDO:0005576', 'ORDO': None, 'EFO': 'EFO:0005846', 'DO': 'DOID:2917', 'MESH': 'MESH:D003449', 'UMLS': 'UMLS:C0010403', 'disease_type': 'disease', 'disease_umlscui': 'C0010403', 'score': 0.45, 'ei': 1.0, 'el': None}, {'disease_name': 'Chronic left-sided ulcerative colitis (disorder)', 'HPO': None, 'NCI': None, 'OMIM': None, 'MONDO': 'MONDO:0005101', 'ORDO': None, 'EFO': 'EFO:0000729', 'DO': 'DOID:8577', 'MESH': None, 'UMLS': 'UMLS:C0375359', 'disease_type': 'disease', 'disease_umlscui': 'C0375359', 'score': 0.45, 'ei': 1.0, 'el': None}, {'disease_name': 'Colitis, granulomatous', 'HPO': None, 'NCI': 'NCI:C35211, NCI:C37262', 'OMIM': None, 'MONDO': 'MONDO:0005532, MONDO:0005011', 'ORDO': None, 'EFO': 'EFO:0000384, EFO:0005622', 'DO': 'DOID:0060192, DOID:8778', 'MESH': 'MESH:D003424', 'UMLS': 'UMLS:C0156147', 'disease_type': 'disease', 'disease_umlscui': 'C0156147', 'score': 0.45, 'ei': 1.0, 'el': None}, {'disease_name': 'COLCHICINE RESISTANCE', 'HPO': None, 'NCI': None, 'OMIM': 'MIM:120080, MIM:171050', 'MONDO': None, 'ORDO': None, 'EFO': None, 'DO': None, 'MESH': None, 'UMLS': 'UMLS:C1861502', 'disease_type': 'disease', 'disease_umlscui': 'C1861502', 'score': 0.4, 'ei': 1.0, 'el': None}, {'disease_name': 'Symptomatic Parkinsonism', 'HPO': None, 'NCI': 'NCI:C34899', 'OMIM': None, 'MONDO': 'MONDO:0006966', 'ORDO': None, 'EFO': 'EFO:1001175', 'DO': 'DOID:13548', 'MESH': 'MESH:D010302', 'UMLS': 'UMLS:C0030569', 'disease_type': 'disease', 'disease_umlscui': 'C0030569', 'score': 0.4, 'ei': 1.0, 'el': None}, {'disease_name': 'Disease, Primary Myocardial', 'HPO': None, 'NCI': 'NCI:C53654', 'OMIM': None, 'MONDO': 'MONDO:0004994, MONDO:0005110', 'ORDO': 'ORDO:167848', 'EFO': 'EFO:0000318, EFO:0000767', 'DO': 'DOID:0050700', 'MESH': 'MESH:D009202', 'UMLS': 'UMLS:C0033141', 'disease_type': 'disease', 'disease_umlscui': 'C0033141', 'score': 0.4, 'ei': 1.0, 'el': None}, {'disease_name': 'Non-Neoplastic Peripheral Nervous System Disease', 'HPO': None, 'NCI': 'NCI:C27587', 'OMIM': None, 'MONDO': 'MONDO:0003620', 'ORDO': None, 'EFO': 'EFO:0009387', 'DO': 'DOID:574', 'MESH': None, 'UMLS': 'UMLS:C1335029', 'disease_type': 'disease', 'disease_umlscui': 'C1335029', 'score': 0.4, 'ei': 1.0, 'el': None}, {'disease_name': 'Dysentery', 'HPO': None, 'NCI': None, 'OMIM': None, 'MONDO': 'MONDO:0001517, MONDO:0001673', 'ORDO': None, 'EFO': 'EFO:1001869', 'DO': 'DOID:12384, DOID:13250', 'MESH': 'MESH:D004403', 'UMLS': 'UMLS:C0013369', 'disease_type': 'disease', 'disease_umlscui': 'C0013369', 'score': 0.4, 'ei': 1.0, 'el': None}, {'disease_name': 'Abuse, Cannabis', 'HPO': None, 'NCI': None, 'OMIM': None, 'MONDO': 'MONDO:0005689', 'ORDO': None, 'EFO': 'EFO:0007191', 'DO': 'DOID:1849, DOID:9505', 'MESH': 'MESH:D002189', 'UMLS': 'UMLS:C0006868', 'disease_type': 'disease', 'disease_umlscui': 'C0006868', 'score': 0.4, 'ei': 1.0, 'el': None}, {'disease_name': 'Damage, Reperfusion', 'HPO': None, 'NCI': 'NCI:C193389', 'OMIM': None, 'MONDO': 'MONDO:0005203', 'ORDO': None, 'EFO': 'EFO:0002687', 'DO': None, 'MESH': 'MESH:D015427', 'UMLS': 'UMLS:C0035126', 'disease_type': 'disease', 'disease_umlscui': 'C0035126', 'score': 0.4, 'ei': 1.0, 'el': None}, {'disease_name': 'Disease, Secondary Myocardial', 'HPO': None, 'NCI': None, 'OMIM': None, 'MONDO': 'MONDO:0004994', 'ORDO': 'ORDO:167848', 'EFO': 'EFO:0000318', 'DO': 'DOID:0050700', 'MESH': 'MESH:D009202', 'UMLS': 'UMLS:C0036529', 'disease_type': 'disease', 'disease_umlscui': 'C0036529', 'score': 0.4, 'ei': 1.0, 'el': None}, {'disease_name': 'Epithelioma, malignant', 'HPO': None, 'NCI': None, 'OMIM': None, 'MONDO': 'MONDO:0004993', 'ORDO': None, 'EFO': 'EFO:0000313', 'DO': 'DOID:305', 'MESH': None, 'UMLS': 'UMLS:C0553707', 'disease_type': 'disease', 'disease_umlscui': 'C0553707', 'score': 0.4, 'ei': 1.0, 'el': None}, {'disease_name': 'Chromosomal Translocations', 'HPO': None, 'NCI': 'NCI:C25756, NCI:C3420', 'OMIM': None, 'MONDO': None, 'ORDO': None, 'EFO': None, 'DO': None, 'MESH': 'MESH:D014178', 'UMLS': 'UMLS:C0040715', 'disease_type': 'phenotype', 'disease_umlscui': 'C0040715', 'score': 0.4, 'ei': 1.0, 'el': None}, {'disease_name': 'Aseptic necrosis talus', 'HPO': None, 'NCI': None, 'OMIM': None, 'MONDO': 'MONDO:0005380', 'ORDO': None, 'EFO': 'EFO:0004259', 'DO': 'DOID:10159', 'MESH': None, 'UMLS': 'UMLS:C0158451', 'disease_type': 'disease', 'disease_umlscui': 'C0158451', 'score': 0.4, 'ei': nan, 'el': None}, {'disease_name': 'Avascular necrosis of bone', 'HPO': 'HPO:HP:0010885', 'NCI': 'NCI:C34841', 'OMIM': None, 'MONDO': 'MONDO:0005380, MONDO:0018373', 'ORDO': 'ORDO:399164, ORDO:399158', 'EFO': 'EFO:0004259', 'DO': 'DOID:10159', 'MESH': 'MESH:D010020', 'UMLS': 'UMLS:C0027543', 'disease_type': 'disease', 'disease_umlscui': 'C0027543', 'score': 0.4, 'ei': nan, 'el': None}, {'disease_name': 'aseptic necrosis of humerus', 'HPO': None, 'NCI': 'NCI:C35517', 'OMIM': None, 'MONDO': 'MONDO:0005380', 'ORDO': None, 'EFO': 'EFO:0004259', 'DO': 'DOID:10159', 'MESH': None, 'UMLS': 'UMLS:C0745048', 'disease_type': 'disease', 'disease_umlscui': 'C0745048', 'score': 0.4, 'ei': nan, 'el': None}, {'disease_name': 'Asept necro femur condyl', 'HPO': None, 'NCI': None, 'OMIM': None, 'MONDO': 'MONDO:0005380', 'ORDO': None, 'EFO': 'EFO:0004259', 'DO': 'DOID:10159', 'MESH': None, 'UMLS': 'UMLS:C0158450', 'disease_type': 'disease', 'disease_umlscui': 'C0158450', 'score': 0.4, 'ei': nan, 'el': None}, {'disease_name': 'Other specified drug dependence', 'HPO': None, 'NCI': None, 'OMIM': None, 'MONDO': 'MONDO:0005303', 'ORDO': None, 'EFO': 'EFO:0003890', 'DO': 'DOID:9974', 'MESH': None, 'UMLS': 'UMLS:C0029792', 'disease_type': 'disease', 'disease_umlscui': 'C0029792', 'score': 0.4, 'ei': nan, 'el': None}, {'disease_name': 'Aseptic necrosis femur', 'HPO': None, 'NCI': 'NCI:C34404', 'OMIM': None, 'MONDO': 'MONDO:0005380', 'ORDO': None, 'EFO': 'EFO:0004259', 'DO': 'DOID:10159', 'MESH': None, 'UMLS': 'UMLS:C0003977', 'disease_type': 'disease', 'disease_umlscui': 'C0003977', 'score': 0.4, 'ei': nan, 'el': None}, {'disease_name': 'Osteonecroses', 'HPO': 'HPO:HP:0010885', 'NCI': 'NCI:C34880', 'OMIM': None, 'MONDO': 'MONDO:0005380', 'ORDO': 'ORDO:399158', 'EFO': 'EFO:0004259', 'DO': 'DOID:10159', 'MESH': 'MESH:D010020', 'UMLS': 'UMLS:C0029445', 'disease_type': 'phenotype', 'disease_umlscui': 'C0029445', 'score': 0.4, 'ei': nan, 'el': None}, {'disease_name': 'Atopic rhinitis', 'HPO': None, 'NCI': 'NCI:C34987', 'OMIM': None, 'MONDO': 'MONDO:0011786', 'ORDO': None, 'EFO': 'EFO:0005854', 'DO': 'DOID:4481', 'MESH': None, 'UMLS': 'UMLS:C0002103', 'disease_type': 'disease', 'disease_umlscui': 'C0002103', 'score': 0.4, 'ei': nan, 'el': None}, {'disease_name': 'juvenile osteochondrosis of upper extremity (diagnosis)', 'HPO': None, 'NCI': None, 'OMIM': None, 'MONDO': 'MONDO:0005380', 'ORDO': None, 'EFO': 'EFO:0004259', 'DO': 'DOID:10159', 'MESH': None, 'UMLS': 'UMLS:C0158442', 'disease_type': 'disease', 'disease_umlscui': 'C0158442', 'score': 0.4, 'ei': nan, 'el': None}, {'disease_name': 'Aseptic necrosis humerus', 'HPO': None, 'NCI': 'NCI:C35226', 'OMIM': None, 'MONDO': 'MONDO:0005380', 'ORDO': None, 'EFO': 'EFO:0004259', 'DO': 'DOID:10159', 'MESH': None, 'UMLS': 'UMLS:C0158449', 'disease_type': 'disease', 'disease_umlscui': 'C0158449', 'score': 0.4, 'ei': nan, 'el': None}, {'disease_name': 'Hereditary Breast and Ovarian Cancer Syndrome', 'HPO': None, 'NCI': 'NCI:C8493', 'OMIM': None, 'MONDO': 'MONDO:0003582', 'ORDO': 'ORDO:145', 'EFO': None, 'DO': 'DOID:5683', 'MESH': 'MESH:D061325', 'UMLS': 'UMLS:C0677776', 'disease_type': 'disease', 'disease_umlscui': 'C0677776', 'score': 0.4, 'ei': nan, 'el': None}]"
        ],
        [
         "8",
         "ENSMUSG00000028937",
         "Ensembl",
         "ENSMUSG00000028937",
         "Ensembl",
         "[{'pathway_id': nan, 'pathway_label': nan, 'pathway_gene_count': nan}]",
         "[{'stringdb_link_to': nan, 'Ensembl': nan, 'score': nan, 'Uniprot-TrEMBL': None, 'Uniprot-TrEMBL_link': None}]",
         "[{'homolog': 'ENSG00000097021'}]",
         "[{'pathway_id': 'path:mmu00062', 'pathway_label': 'Fatty acid elongation - Mus musculus (house mouse)', 'gene_count': 28, 'compounds': [{'KEGG_identifier': 'C00024'}, {'KEGG_identifier': 'C00040'}, {'KEGG_identifier': 'C00083'}, {'KEGG_identifier': 'C00136'}, {'KEGG_identifier': 'C00154'}, {'KEGG_identifier': 'C00162'}, {'KEGG_identifier': 'C00249'}, {'KEGG_identifier': 'C00264'}, {'KEGG_identifier': 'C00605'}, {'KEGG_identifier': 'C00638'}, {'KEGG_identifier': 'C00640'}, {'KEGG_identifier': 'C00658'}, {'KEGG_identifier': 'C01832'}, {'KEGG_identifier': 'C01944'}, {'KEGG_identifier': 'C02593'}, {'KEGG_identifier': 'C02843'}, {'KEGG_identifier': 'C03221'}, {'KEGG_identifier': 'C05258'}, {'KEGG_identifier': 'C05259'}, {'KEGG_identifier': 'C05260'}, {'KEGG_identifier': 'C05261'}, {'KEGG_identifier': 'C05262'}, {'KEGG_identifier': 'C05263'}, {'KEGG_identifier': 'C05264'}, {'KEGG_identifier': 'C05265'}, {'KEGG_identifier': 'C05266'}, {'KEGG_identifier': 'C05267'}, {'KEGG_identifier': 'C05268'}, {'KEGG_identifier': 'C05269'}, {'KEGG_identifier': 'C05270'}, {'KEGG_identifier': 'C05271'}, {'KEGG_identifier': 'C05272'}, {'KEGG_identifier': 'C05273'}, {'KEGG_identifier': 'C05274'}, {'KEGG_identifier': 'C05275'}, {'KEGG_identifier': 'C05276'}, {'KEGG_identifier': 'C20876'}, {'KEGG_identifier': 'C20877'}, {'KEGG_identifier': 'C20878'}, {'KEGG_identifier': 'C20879'}]}, {'pathway_id': 'path:mmu01040', 'pathway_label': 'Biosynthesis of unsaturated fatty acids - Mus musculus (house mouse)', 'gene_count': 33, 'compounds': [{'KEGG_identifier': 'C00154'}, {'KEGG_identifier': 'C00219'}, {'KEGG_identifier': 'C00249'}, {'KEGG_identifier': 'C00412'}, {'KEGG_identifier': 'C00510'}, {'KEGG_identifier': 'C00712'}, {'KEGG_identifier': 'C01203'}, {'KEGG_identifier': 'C01530'}, {'KEGG_identifier': 'C01595'}, {'KEGG_identifier': 'C02041'}, {'KEGG_identifier': 'C02050'}, {'KEGG_identifier': 'C02249'}, {'KEGG_identifier': 'C03035'}, {'KEGG_identifier': 'C03242'}, {'KEGG_identifier': 'C03595'}, {'KEGG_identifier': 'C04088'}, {'KEGG_identifier': 'C05764'}, {'KEGG_identifier': 'C06425'}, {'KEGG_identifier': 'C06426'}, {'KEGG_identifier': 'C06427'}, {'KEGG_identifier': 'C06428'}, {'KEGG_identifier': 'C06429'}, {'KEGG_identifier': 'C08281'}, {'KEGG_identifier': 'C08316'}, {'KEGG_identifier': 'C08320'}, {'KEGG_identifier': 'C08323'}, {'KEGG_identifier': 'C16160'}, {'KEGG_identifier': 'C16161'}, {'KEGG_identifier': 'C16162'}, {'KEGG_identifier': 'C16163'}, {'KEGG_identifier': 'C16164'}, {'KEGG_identifier': 'C16165'}, {'KEGG_identifier': 'C16166'}, {'KEGG_identifier': 'C16167'}, {'KEGG_identifier': 'C16168'}, {'KEGG_identifier': 'C16169'}, {'KEGG_identifier': 'C16170'}, {'KEGG_identifier': 'C16171'}, {'KEGG_identifier': 'C16172'}, {'KEGG_identifier': 'C16173'}, {'KEGG_identifier': 'C16179'}, {'KEGG_identifier': 'C16180'}, {'KEGG_identifier': 'C16513'}, {'KEGG_identifier': 'C16522'}, {'KEGG_identifier': 'C16525'}, {'KEGG_identifier': 'C16526'}, {'KEGG_identifier': 'C16527'}, {'KEGG_identifier': 'C16528'}, {'KEGG_identifier': 'C16529'}, {'KEGG_identifier': 'C16530'}, {'KEGG_identifier': 'C16531'}, {'KEGG_identifier': 'C16532'}, {'KEGG_identifier': 'C16533'}, {'KEGG_identifier': 'C16645'}, {'KEGG_identifier': 'C17279'}, {'KEGG_identifier': 'C21072'}, {'KEGG_identifier': 'C21932'}, {'KEGG_identifier': 'C21934'}, {'KEGG_identifier': 'C21935'}, {'KEGG_identifier': 'C21937'}, {'KEGG_identifier': 'C21939'}, {'KEGG_identifier': 'C21941'}, {'KEGG_identifier': 'C21943'}, {'KEGG_identifier': 'C21945'}, {'KEGG_identifier': 'C21947'}, {'KEGG_identifier': 'C21949'}, {'KEGG_identifier': 'C21951'}, {'KEGG_identifier': 'C21953'}, {'KEGG_identifier': 'C21959'}, {'KEGG_identifier': 'C21961'}, {'KEGG_identifier': 'C21963'}, {'KEGG_identifier': 'C21965'}, {'KEGG_identifier': 'C21967'}, {'KEGG_identifier': 'C21981'}]}, {'pathway_id': 'path:mmu01100', 'pathway_label': 'Metabolic pathways - Mus musculus (house mouse)', 'gene_count': 0, 'compounds': [{'KEGG_identifier': None}]}, {'gene_count': 0, 'compounds': [{'KEGG_identifier': None}]}]",
         "ENSG00000097021",
         "[{'pathway_label': 'Mitochondrial Fatty Acid Beta-Oxidation', 'pathway_id': 'Reactome:R-HSA-77289'}]",
         "[{'go_id': 'GO:0070062', 'go_name': 'extracellular exosome', 'go_type': 'C'}, {'go_id': 'GO:0005515', 'go_name': 'protein binding', 'go_type': 'F'}, {'go_id': 'GO:0042803', 'go_name': 'protein homodimerization activity', 'go_type': 'F'}, {'go_id': 'GO:0005737', 'go_name': 'cytoplasm', 'go_type': 'C'}, {'go_id': 'GO:0052816', 'go_name': 'long-chain fatty acyl-CoA hydrolase activity', 'go_type': 'F'}, {'go_id': 'GO:0036042', 'go_name': 'long-chain fatty acyl-CoA binding', 'go_type': 'F'}, {'go_id': 'GO:0005654', 'go_name': 'nucleoplasm', 'go_type': 'C'}, {'go_id': 'GO:0036116', 'go_name': 'long-chain fatty-acyl-CoA catabolic process', 'go_type': 'P'}, {'go_id': 'GO:0006637', 'go_name': 'acyl-CoA metabolic process', 'go_type': 'P'}, {'go_id': 'GO:0015937', 'go_name': 'coenzyme A biosynthetic process', 'go_type': 'P'}, {'go_id': 'GO:0000062', 'go_name': 'fatty-acyl-CoA binding', 'go_type': 'F'}, {'go_id': 'GO:0009062', 'go_name': 'fatty acid catabolic process', 'go_type': 'P'}, {'go_id': 'GO:0005829', 'go_name': 'cytosol', 'go_type': 'C'}, {'go_id': 'GO:1900535', 'go_name': 'palmitic acid biosynthetic process', 'go_type': 'P'}, {'go_id': 'GO:0005739', 'go_name': 'mitochondrion', 'go_type': 'C'}, {'go_id': 'GO:0051792', 'go_name': 'medium-chain fatty acid biosynthetic process', 'go_type': 'P'}, {'go_id': 'GO:0052689', 'go_name': 'carboxylic ester hydrolase activity', 'go_type': 'F'}, {'go_id': 'GO:0036114', 'go_name': 'medium-chain fatty-acyl-CoA catabolic process', 'go_type': 'P'}]",
         "[{'chembl_id': nan, 'drugbank_id': nan, 'compound_cid': nan, 'compound_name': nan, 'clincal_trial_phase': nan, 'is_approved': nan, 'relation': nan, 'adverse_effect_count': nan, 'adverse_effect': nan}]",
         "[{'disease_name': nan, 'HPO': nan, 'NCI': nan, 'OMIM': nan, 'MONDO': nan, 'ORDO': nan, 'EFO': nan, 'DO': nan, 'MESH': nan, 'UMLS': nan, 'disease_type': nan, 'disease_umlscui': nan, 'score': nan, 'ei': nan, 'el': nan}]"
        ],
        [
         "9",
         "ENSMUSG00000075044",
         "Ensembl",
         "ENSMUSG00000075044",
         "Ensembl",
         "[{'pathway_id': nan, 'pathway_label': nan, 'pathway_gene_count': nan}]",
         "[{'stringdb_link_to': nan, 'Ensembl': nan, 'score': nan, 'Uniprot-TrEMBL': None, 'Uniprot-TrEMBL_link': None}]",
         "[{'homolog': 'ENSG00000149742'}]",
         "[{'pathway_id': nan, 'pathway_label': nan, 'gene_count': nan, 'compounds': [{'KEGG_identifier': None, 'name': None}]}]",
         "ENSG00000149742",
         "[{'pathway_label': nan, 'pathway_id': nan}]",
         "[{'go_id': 'GO:0015711', 'go_name': 'organic anion transport', 'go_type': 'P'}, {'go_id': 'GO:0043252', 'go_name': 'sodium-independent organic anion transport', 'go_type': 'P'}, {'go_id': 'GO:0015636', 'go_name': 'short-chain fatty acid transmembrane transporter activity', 'go_type': 'F'}, {'go_id': 'GO:0009914', 'go_name': 'hormone transport', 'go_type': 'P'}, {'go_id': 'GO:0016323', 'go_name': 'basolateral plasma membrane', 'go_type': 'C'}, {'go_id': 'GO:0015347', 'go_name': 'sodium-independent organic anion transmembrane transporter activity', 'go_type': 'F'}, {'go_id': 'GO:0015913', 'go_name': 'short-chain fatty acid transmembrane transport', 'go_type': 'P'}, {'go_id': 'GO:0008514', 'go_name': 'organic anion transmembrane transporter activity', 'go_type': 'F'}]",
         "[{'chembl_id': nan, 'drugbank_id': nan, 'compound_cid': nan, 'compound_name': nan, 'clincal_trial_phase': nan, 'is_approved': nan, 'relation': nan, 'adverse_effect_count': nan, 'adverse_effect': nan}]",
         "[{'disease_name': 'Constitutional Mismatch Repair Deficiency Syndrome', 'HPO': None, 'NCI': 'NCI:C130202', 'OMIM': None, 'MONDO': 'MONDO:0031219, MONDO:0010159', 'ORDO': 'ORDO:252202', 'EFO': None, 'DO': None, 'MESH': None, 'UMLS': 'UMLS:C4321324', 'disease_type': 'disease', 'disease_umlscui': 'C4321324', 'score': 0.45, 'ei': 1.0, 'el': None}, {'disease_name': 'Lynch Syndrome', 'HPO': None, 'NCI': 'NCI:C8494', 'OMIM': None, 'MONDO': 'MONDO:0005835', 'ORDO': 'ORDO:144', 'EFO': None, 'DO': 'DOID:3883', 'MESH': 'MESH:D003123', 'UMLS': 'UMLS:C4552100', 'disease_type': 'disease', 'disease_umlscui': 'C4552100', 'score': 0.45, 'ei': 1.0, 'el': None}, {'disease_name': 'BTPS1', 'HPO': None, 'NCI': None, 'OMIM': 'MIM:276300, MIM:120436', 'MONDO': 'MONDO:0031219, MONDO:0010159', 'ORDO': None, 'EFO': None, 'DO': 'DOID:0112182', 'MESH': 'MESH:C536928', 'UMLS': 'UMLS:C5399763', 'disease_type': 'disease', 'disease_umlscui': 'C5399763', 'score': 0.45, 'ei': 1.0, 'el': None}, {'disease_name': 'Colorectal Neoplasms, Hereditary Nonpolyposis', 'HPO': None, 'NCI': None, 'OMIM': None, 'MONDO': 'MONDO:0005835', 'ORDO': 'ORDO:144', 'EFO': None, 'DO': 'DOID:3883', 'MESH': 'MESH:D003123', 'UMLS': 'UMLS:C0009405', 'disease_type': 'disease', 'disease_umlscui': 'C0009405', 'score': 0.45, 'ei': 1.0, 'el': None}, {'disease_name': 'CRC', 'HPO': None, 'NCI': 'NCI:C2955', 'OMIM': 'MIM:114500, MIM:516000, MIM:516004, MIM:516030, MIM:516040, MIM:172411, MIM:191170, MIM:516020', 'MONDO': 'MONDO:0005335, MONDO:0005575, MONDO:0024331', 'ORDO': None, 'EFO': 'EFO:0000365, EFO:0004142, EFO:1001951', 'DO': 'DOID:0080199, DOID:9256', 'MESH': 'MESH:D015179', 'UMLS': 'UMLS:C0009402', 'disease_type': 'disease', 'disease_umlscui': 'C0009402', 'score': 0.4, 'ei': nan, 'el': None}, {'disease_name': 'Cancer, Breast', 'HPO': None, 'NCI': 'NCI:C9335', 'OMIM': 'MIM:114480', 'MONDO': 'MONDO:0007254, MONDO:0021100, MONDO:0016419', 'ORDO': None, 'EFO': 'EFO:0000305, EFO:0003869', 'DO': 'DOID:1612, DOID:3459', 'MESH': 'MESH:D001943', 'UMLS': 'UMLS:C0006142', 'disease_type': 'disease', 'disease_umlscui': 'C0006142', 'score': 0.4, 'ei': nan, 'el': None}]"
        ]
       ],
       "shape": {
        "columns": 13,
        "rows": 10
       }
      },
      "text/html": [
       "<div>\n",
       "<style scoped>\n",
       "    .dataframe tbody tr th:only-of-type {\n",
       "        vertical-align: middle;\n",
       "    }\n",
       "\n",
       "    .dataframe tbody tr th {\n",
       "        vertical-align: top;\n",
       "    }\n",
       "\n",
       "    .dataframe thead th {\n",
       "        text-align: right;\n",
       "    }\n",
       "</style>\n",
       "<table border=\"1\" class=\"dataframe\">\n",
       "  <thead>\n",
       "    <tr style=\"text-align: right;\">\n",
       "      <th></th>\n",
       "      <th>identifier</th>\n",
       "      <th>identifier.source</th>\n",
       "      <th>target</th>\n",
       "      <th>target.source</th>\n",
       "      <th>WikiPathways</th>\n",
       "      <th>StringDB_ppi</th>\n",
       "      <th>Ensembl_homologs</th>\n",
       "      <th>KEGG_pathways</th>\n",
       "      <th>homolog</th>\n",
       "      <th>OpenTargets_reactome</th>\n",
       "      <th>OpenTargets_go</th>\n",
       "      <th>OpenTargets_gene_compounds</th>\n",
       "      <th>DISGENET_diseases</th>\n",
       "    </tr>\n",
       "  </thead>\n",
       "  <tbody>\n",
       "    <tr>\n",
       "      <th>0</th>\n",
       "      <td>ENSMUSG00000026295</td>\n",
       "      <td>Ensembl</td>\n",
       "      <td>ENSMUSG00000026295</td>\n",
       "      <td>Ensembl</td>\n",
       "      <td>[{'pathway_id': nan, 'pathway_label': nan, 'pa...</td>\n",
       "      <td>[{'stringdb_link_to': nan, 'Ensembl': nan, 'sc...</td>\n",
       "      <td>[{'homolog': 'ENSG00000072080'}]</td>\n",
       "      <td>[{'pathway_id': nan, 'pathway_label': nan, 'ge...</td>\n",
       "      <td>ENSG00000072080</td>\n",
       "      <td>[{'pathway_label': 'Platelet degranulation ', ...</td>\n",
       "      <td>[{'go_id': 'GO:0005788', 'go_name': 'endoplasm...</td>\n",
       "      <td>[{'chembl_id': nan, 'drugbank_id': nan, 'compo...</td>\n",
       "      <td>[{'disease_name': 'Retinal dystrophy', 'HPO': ...</td>\n",
       "    </tr>\n",
       "    <tr>\n",
       "      <th>1</th>\n",
       "      <td>ENSMUSG00000022877</td>\n",
       "      <td>Ensembl</td>\n",
       "      <td>ENSMUSG00000022877</td>\n",
       "      <td>Ensembl</td>\n",
       "      <td>[{'pathway_id': nan, 'pathway_label': nan, 'pa...</td>\n",
       "      <td>[{'stringdb_link_to': nan, 'Ensembl': nan, 'sc...</td>\n",
       "      <td>[{'homolog': 'ENSG00000113905'}]</td>\n",
       "      <td>[{'pathway_id': nan, 'pathway_label': nan, 'ge...</td>\n",
       "      <td>ENSG00000113905</td>\n",
       "      <td>[{'pathway_label': 'Platelet degranulation ', ...</td>\n",
       "      <td>[{'go_id': 'GO:0005576', 'go_name': 'extracell...</td>\n",
       "      <td>[{'chembl_id': nan, 'drugbank_id': nan, 'compo...</td>\n",
       "      <td>[{'disease_name': 'Breast Neoplasms', 'HPO': '...</td>\n",
       "    </tr>\n",
       "    <tr>\n",
       "      <th>2</th>\n",
       "      <td>ENSMUSG00000020914</td>\n",
       "      <td>Ensembl</td>\n",
       "      <td>ENSMUSG00000020914</td>\n",
       "      <td>Ensembl</td>\n",
       "      <td>[{'pathway_id': nan, 'pathway_label': nan, 'pa...</td>\n",
       "      <td>[{'stringdb_link_to': nan, 'Ensembl': nan, 'sc...</td>\n",
       "      <td>[{'homolog': 'ENSG00000131747'}]</td>\n",
       "      <td>[{'pathway_id': 'path:mmu01524', 'pathway_labe...</td>\n",
       "      <td>ENSG00000131747</td>\n",
       "      <td>[{'pathway_label': 'SUMOylation of DNA replica...</td>\n",
       "      <td>[{'go_id': 'GO:0046982', 'go_name': 'protein h...</td>\n",
       "      <td>[{'chembl_id': 'CHEMBL:CHEMBL44657', 'drugbank...</td>\n",
       "      <td>[{'disease_name': 'Breast Neoplasms', 'HPO': '...</td>\n",
       "    </tr>\n",
       "    <tr>\n",
       "      <th>3</th>\n",
       "      <td>ENSMUSG00000024747</td>\n",
       "      <td>Ensembl</td>\n",
       "      <td>ENSMUSG00000024747</td>\n",
       "      <td>Ensembl</td>\n",
       "      <td>[{'pathway_id': nan, 'pathway_label': nan, 'pa...</td>\n",
       "      <td>[{'stringdb_link_to': nan, 'Ensembl': nan, 'sc...</td>\n",
       "      <td>[{'homolog': 'ENSG00000165092'}]</td>\n",
       "      <td>[{'pathway_id': 'path:mmu00830', 'pathway_labe...</td>\n",
       "      <td>ENSG00000165092</td>\n",
       "      <td>[{'pathway_label': 'Fructose catabolism', 'pat...</td>\n",
       "      <td>[{'go_id': 'GO:0051287', 'go_name': 'NAD bindi...</td>\n",
       "      <td>[{'chembl_id': nan, 'drugbank_id': nan, 'compo...</td>\n",
       "      <td>[{'disease_name': 'Melanoma', 'HPO': 'HPO:HP:0...</td>\n",
       "    </tr>\n",
       "    <tr>\n",
       "      <th>4</th>\n",
       "      <td>ENSMUSG00000032081</td>\n",
       "      <td>Ensembl</td>\n",
       "      <td>ENSMUSG00000032081</td>\n",
       "      <td>Ensembl</td>\n",
       "      <td>[{'pathway_id': 'WP:WP1', 'pathway_label': 'St...</td>\n",
       "      <td>[{'stringdb_link_to': nan, 'Ensembl': nan, 'sc...</td>\n",
       "      <td>[{'homolog': 'ENSG00000110245'}]</td>\n",
       "      <td>[{'pathway_id': 'path:mmu03320', 'pathway_labe...</td>\n",
       "      <td>ENSG00000110245</td>\n",
       "      <td>[{'pathway_label': 'Retinoid metabolism and tr...</td>\n",
       "      <td>[{'go_id': 'GO:0005543', 'go_name': 'phospholi...</td>\n",
       "      <td>[{'chembl_id': 'CHEMBL:CHEMBL3544989', 'drugba...</td>\n",
       "      <td>[{'disease_name': 'Coronary Disease', 'HPO': N...</td>\n",
       "    </tr>\n",
       "    <tr>\n",
       "      <th>5</th>\n",
       "      <td>ENSMUSG00000004035</td>\n",
       "      <td>Ensembl</td>\n",
       "      <td>ENSMUSG00000004035</td>\n",
       "      <td>Ensembl</td>\n",
       "      <td>[{'pathway_id': 'WP:WP4466', 'pathway_label': ...</td>\n",
       "      <td>[{'stringdb_link_to': nan, 'Ensembl': nan, 'sc...</td>\n",
       "      <td>[{'homolog': 'ENSG00000213366'}]</td>\n",
       "      <td>[{'pathway_id': 'path:mmu00480', 'pathway_labe...</td>\n",
       "      <td>ENSG00000213366</td>\n",
       "      <td>[{'pathway_label': 'Glutathione conjugation', ...</td>\n",
       "      <td>[{'go_id': 'GO:0043295', 'go_name': 'glutathio...</td>\n",
       "      <td>[{'chembl_id': nan, 'drugbank_id': nan, 'compo...</td>\n",
       "      <td>[{'disease_name': 'Carcinoma, Non Small Cell L...</td>\n",
       "    </tr>\n",
       "    <tr>\n",
       "      <th>6</th>\n",
       "      <td>ENSMUSG00000072949</td>\n",
       "      <td>Ensembl</td>\n",
       "      <td>ENSMUSG00000072949</td>\n",
       "      <td>Ensembl</td>\n",
       "      <td>[{'pathway_id': 'WP:WP4346', 'pathway_label': ...</td>\n",
       "      <td>[{'stringdb_link_to': nan, 'Ensembl': nan, 'sc...</td>\n",
       "      <td>[{'homolog': 'ENSG00000184227'}]</td>\n",
       "      <td>[{'pathway_id': 'path:mmu00062', 'pathway_labe...</td>\n",
       "      <td>ENSG00000184227</td>\n",
       "      <td>[{'pathway_label': 'Mitochondrial Fatty Acid B...</td>\n",
       "      <td>[{'go_id': 'GO:0052689', 'go_name': 'carboxyli...</td>\n",
       "      <td>[{'chembl_id': nan, 'drugbank_id': nan, 'compo...</td>\n",
       "      <td>[{'disease_name': 'Hepatomegaly', 'HPO': 'HPO:...</td>\n",
       "    </tr>\n",
       "    <tr>\n",
       "      <th>7</th>\n",
       "      <td>ENSMUSG00000028970</td>\n",
       "      <td>Ensembl</td>\n",
       "      <td>ENSMUSG00000028970</td>\n",
       "      <td>Ensembl</td>\n",
       "      <td>[{'pathway_id': nan, 'pathway_label': nan, 'pa...</td>\n",
       "      <td>[{'stringdb_link_to': nan, 'Ensembl': nan, 'sc...</td>\n",
       "      <td>[{'homolog': 'ENSG00000085563'}]</td>\n",
       "      <td>[{'pathway_id': 'path:mmu02010', 'pathway_labe...</td>\n",
       "      <td>ENSG00000085563</td>\n",
       "      <td>[{'pathway_label': 'Abacavir transmembrane tra...</td>\n",
       "      <td>[{'go_id': 'GO:0008559', 'go_name': 'ABC-type ...</td>\n",
       "      <td>[{'chembl_id': 'CHEMBL:CHEMBL1086218', 'drugba...</td>\n",
       "      <td>[{'disease_name': 'Breast Neoplasms', 'HPO': '...</td>\n",
       "    </tr>\n",
       "    <tr>\n",
       "      <th>8</th>\n",
       "      <td>ENSMUSG00000028937</td>\n",
       "      <td>Ensembl</td>\n",
       "      <td>ENSMUSG00000028937</td>\n",
       "      <td>Ensembl</td>\n",
       "      <td>[{'pathway_id': nan, 'pathway_label': nan, 'pa...</td>\n",
       "      <td>[{'stringdb_link_to': nan, 'Ensembl': nan, 'sc...</td>\n",
       "      <td>[{'homolog': 'ENSG00000097021'}]</td>\n",
       "      <td>[{'pathway_id': 'path:mmu00062', 'pathway_labe...</td>\n",
       "      <td>ENSG00000097021</td>\n",
       "      <td>[{'pathway_label': 'Mitochondrial Fatty Acid B...</td>\n",
       "      <td>[{'go_id': 'GO:0070062', 'go_name': 'extracell...</td>\n",
       "      <td>[{'chembl_id': nan, 'drugbank_id': nan, 'compo...</td>\n",
       "      <td>[{'disease_name': nan, 'HPO': nan, 'NCI': nan,...</td>\n",
       "    </tr>\n",
       "    <tr>\n",
       "      <th>9</th>\n",
       "      <td>ENSMUSG00000075044</td>\n",
       "      <td>Ensembl</td>\n",
       "      <td>ENSMUSG00000075044</td>\n",
       "      <td>Ensembl</td>\n",
       "      <td>[{'pathway_id': nan, 'pathway_label': nan, 'pa...</td>\n",
       "      <td>[{'stringdb_link_to': nan, 'Ensembl': nan, 'sc...</td>\n",
       "      <td>[{'homolog': 'ENSG00000149742'}]</td>\n",
       "      <td>[{'pathway_id': nan, 'pathway_label': nan, 'ge...</td>\n",
       "      <td>ENSG00000149742</td>\n",
       "      <td>[{'pathway_label': nan, 'pathway_id': nan}]</td>\n",
       "      <td>[{'go_id': 'GO:0015711', 'go_name': 'organic a...</td>\n",
       "      <td>[{'chembl_id': nan, 'drugbank_id': nan, 'compo...</td>\n",
       "      <td>[{'disease_name': 'Constitutional Mismatch Rep...</td>\n",
       "    </tr>\n",
       "  </tbody>\n",
       "</table>\n",
       "</div>"
      ],
      "text/plain": [
       "           identifier identifier.source              target target.source  \\\n",
       "0  ENSMUSG00000026295           Ensembl  ENSMUSG00000026295       Ensembl   \n",
       "1  ENSMUSG00000022877           Ensembl  ENSMUSG00000022877       Ensembl   \n",
       "2  ENSMUSG00000020914           Ensembl  ENSMUSG00000020914       Ensembl   \n",
       "3  ENSMUSG00000024747           Ensembl  ENSMUSG00000024747       Ensembl   \n",
       "4  ENSMUSG00000032081           Ensembl  ENSMUSG00000032081       Ensembl   \n",
       "5  ENSMUSG00000004035           Ensembl  ENSMUSG00000004035       Ensembl   \n",
       "6  ENSMUSG00000072949           Ensembl  ENSMUSG00000072949       Ensembl   \n",
       "7  ENSMUSG00000028970           Ensembl  ENSMUSG00000028970       Ensembl   \n",
       "8  ENSMUSG00000028937           Ensembl  ENSMUSG00000028937       Ensembl   \n",
       "9  ENSMUSG00000075044           Ensembl  ENSMUSG00000075044       Ensembl   \n",
       "\n",
       "                                        WikiPathways  \\\n",
       "0  [{'pathway_id': nan, 'pathway_label': nan, 'pa...   \n",
       "1  [{'pathway_id': nan, 'pathway_label': nan, 'pa...   \n",
       "2  [{'pathway_id': nan, 'pathway_label': nan, 'pa...   \n",
       "3  [{'pathway_id': nan, 'pathway_label': nan, 'pa...   \n",
       "4  [{'pathway_id': 'WP:WP1', 'pathway_label': 'St...   \n",
       "5  [{'pathway_id': 'WP:WP4466', 'pathway_label': ...   \n",
       "6  [{'pathway_id': 'WP:WP4346', 'pathway_label': ...   \n",
       "7  [{'pathway_id': nan, 'pathway_label': nan, 'pa...   \n",
       "8  [{'pathway_id': nan, 'pathway_label': nan, 'pa...   \n",
       "9  [{'pathway_id': nan, 'pathway_label': nan, 'pa...   \n",
       "\n",
       "                                        StringDB_ppi  \\\n",
       "0  [{'stringdb_link_to': nan, 'Ensembl': nan, 'sc...   \n",
       "1  [{'stringdb_link_to': nan, 'Ensembl': nan, 'sc...   \n",
       "2  [{'stringdb_link_to': nan, 'Ensembl': nan, 'sc...   \n",
       "3  [{'stringdb_link_to': nan, 'Ensembl': nan, 'sc...   \n",
       "4  [{'stringdb_link_to': nan, 'Ensembl': nan, 'sc...   \n",
       "5  [{'stringdb_link_to': nan, 'Ensembl': nan, 'sc...   \n",
       "6  [{'stringdb_link_to': nan, 'Ensembl': nan, 'sc...   \n",
       "7  [{'stringdb_link_to': nan, 'Ensembl': nan, 'sc...   \n",
       "8  [{'stringdb_link_to': nan, 'Ensembl': nan, 'sc...   \n",
       "9  [{'stringdb_link_to': nan, 'Ensembl': nan, 'sc...   \n",
       "\n",
       "                   Ensembl_homologs  \\\n",
       "0  [{'homolog': 'ENSG00000072080'}]   \n",
       "1  [{'homolog': 'ENSG00000113905'}]   \n",
       "2  [{'homolog': 'ENSG00000131747'}]   \n",
       "3  [{'homolog': 'ENSG00000165092'}]   \n",
       "4  [{'homolog': 'ENSG00000110245'}]   \n",
       "5  [{'homolog': 'ENSG00000213366'}]   \n",
       "6  [{'homolog': 'ENSG00000184227'}]   \n",
       "7  [{'homolog': 'ENSG00000085563'}]   \n",
       "8  [{'homolog': 'ENSG00000097021'}]   \n",
       "9  [{'homolog': 'ENSG00000149742'}]   \n",
       "\n",
       "                                       KEGG_pathways          homolog  \\\n",
       "0  [{'pathway_id': nan, 'pathway_label': nan, 'ge...  ENSG00000072080   \n",
       "1  [{'pathway_id': nan, 'pathway_label': nan, 'ge...  ENSG00000113905   \n",
       "2  [{'pathway_id': 'path:mmu01524', 'pathway_labe...  ENSG00000131747   \n",
       "3  [{'pathway_id': 'path:mmu00830', 'pathway_labe...  ENSG00000165092   \n",
       "4  [{'pathway_id': 'path:mmu03320', 'pathway_labe...  ENSG00000110245   \n",
       "5  [{'pathway_id': 'path:mmu00480', 'pathway_labe...  ENSG00000213366   \n",
       "6  [{'pathway_id': 'path:mmu00062', 'pathway_labe...  ENSG00000184227   \n",
       "7  [{'pathway_id': 'path:mmu02010', 'pathway_labe...  ENSG00000085563   \n",
       "8  [{'pathway_id': 'path:mmu00062', 'pathway_labe...  ENSG00000097021   \n",
       "9  [{'pathway_id': nan, 'pathway_label': nan, 'ge...  ENSG00000149742   \n",
       "\n",
       "                                OpenTargets_reactome  \\\n",
       "0  [{'pathway_label': 'Platelet degranulation ', ...   \n",
       "1  [{'pathway_label': 'Platelet degranulation ', ...   \n",
       "2  [{'pathway_label': 'SUMOylation of DNA replica...   \n",
       "3  [{'pathway_label': 'Fructose catabolism', 'pat...   \n",
       "4  [{'pathway_label': 'Retinoid metabolism and tr...   \n",
       "5  [{'pathway_label': 'Glutathione conjugation', ...   \n",
       "6  [{'pathway_label': 'Mitochondrial Fatty Acid B...   \n",
       "7  [{'pathway_label': 'Abacavir transmembrane tra...   \n",
       "8  [{'pathway_label': 'Mitochondrial Fatty Acid B...   \n",
       "9        [{'pathway_label': nan, 'pathway_id': nan}]   \n",
       "\n",
       "                                      OpenTargets_go  \\\n",
       "0  [{'go_id': 'GO:0005788', 'go_name': 'endoplasm...   \n",
       "1  [{'go_id': 'GO:0005576', 'go_name': 'extracell...   \n",
       "2  [{'go_id': 'GO:0046982', 'go_name': 'protein h...   \n",
       "3  [{'go_id': 'GO:0051287', 'go_name': 'NAD bindi...   \n",
       "4  [{'go_id': 'GO:0005543', 'go_name': 'phospholi...   \n",
       "5  [{'go_id': 'GO:0043295', 'go_name': 'glutathio...   \n",
       "6  [{'go_id': 'GO:0052689', 'go_name': 'carboxyli...   \n",
       "7  [{'go_id': 'GO:0008559', 'go_name': 'ABC-type ...   \n",
       "8  [{'go_id': 'GO:0070062', 'go_name': 'extracell...   \n",
       "9  [{'go_id': 'GO:0015711', 'go_name': 'organic a...   \n",
       "\n",
       "                          OpenTargets_gene_compounds  \\\n",
       "0  [{'chembl_id': nan, 'drugbank_id': nan, 'compo...   \n",
       "1  [{'chembl_id': nan, 'drugbank_id': nan, 'compo...   \n",
       "2  [{'chembl_id': 'CHEMBL:CHEMBL44657', 'drugbank...   \n",
       "3  [{'chembl_id': nan, 'drugbank_id': nan, 'compo...   \n",
       "4  [{'chembl_id': 'CHEMBL:CHEMBL3544989', 'drugba...   \n",
       "5  [{'chembl_id': nan, 'drugbank_id': nan, 'compo...   \n",
       "6  [{'chembl_id': nan, 'drugbank_id': nan, 'compo...   \n",
       "7  [{'chembl_id': 'CHEMBL:CHEMBL1086218', 'drugba...   \n",
       "8  [{'chembl_id': nan, 'drugbank_id': nan, 'compo...   \n",
       "9  [{'chembl_id': nan, 'drugbank_id': nan, 'compo...   \n",
       "\n",
       "                                   DISGENET_diseases  \n",
       "0  [{'disease_name': 'Retinal dystrophy', 'HPO': ...  \n",
       "1  [{'disease_name': 'Breast Neoplasms', 'HPO': '...  \n",
       "2  [{'disease_name': 'Breast Neoplasms', 'HPO': '...  \n",
       "3  [{'disease_name': 'Melanoma', 'HPO': 'HPO:HP:0...  \n",
       "4  [{'disease_name': 'Coronary Disease', 'HPO': N...  \n",
       "5  [{'disease_name': 'Carcinoma, Non Small Cell L...  \n",
       "6  [{'disease_name': 'Hepatomegaly', 'HPO': 'HPO:...  \n",
       "7  [{'disease_name': 'Breast Neoplasms', 'HPO': '...  \n",
       "8  [{'disease_name': nan, 'HPO': nan, 'NCI': nan,...  \n",
       "9  [{'disease_name': 'Constitutional Mismatch Rep...  "
      ]
     },
     "execution_count": 33,
     "metadata": {},
     "output_type": "execute_result"
    }
   ],
   "source": [
    "#        bgee_df,\n",
    "#        disgenet_df,\n",
    "#        minerva_df,\n",
    "#        opentargets_reactome_df,\n",
    "#        opentargets_go_df,\n",
    "#        opentargets_compound_df,\n",
    "#        inhibitor_df,\n",
    "#        kegg_df,\n",
    "\n",
    "combined_df = combine_sources(\n",
    "    bridgedb_df,\n",
    "    [wikipathways_df, ppi_df, ensembl_homologs_df, kegg_df],\n",
    ")\n",
    "\n",
    "combined_df = combine_with_homologs(\n",
    "    combined_df,\n",
    "    [\n",
    "        opentargets_reactome_df,\n",
    "        opentargets_go_df,\n",
    "        opentargets_compound_df,\n",
    "        disgenet_df,\n",
    "        inhibitor_df,\n",
    "    ],\n",
    ")\n",
    "\n",
    "\n",
    "combined_df.head(10)"
   ]
  },
  {
   "cell_type": "code",
   "execution_count": 34,
   "metadata": {},
   "outputs": [
    {
     "data": {
      "text/plain": [
       "(10, 13)"
      ]
     },
     "execution_count": 34,
     "metadata": {},
     "output_type": "execute_result"
    }
   ],
   "source": [
    "combined_df.shape"
   ]
  },
  {
   "cell_type": "markdown",
   "metadata": {},
   "source": [
    "### 3.2 Exporting the database in pickle format"
   ]
  },
  {
   "cell_type": "code",
   "execution_count": 35,
   "metadata": {},
   "outputs": [],
   "source": [
    "with open(\"combined_df.pkl\", \"wb\") as out:\n",
    "    pickle.dump(combined_df, out)\n",
    "# with open(\"opentargets_disease_compound_df.pkl\", \"wb\") as out:\n",
    "#     pickle.dump(opentargets_disease_compound_df, out)"
   ]
  },
  {
   "cell_type": "markdown",
   "metadata": {},
   "source": [
    "### 3.3 Creating a graph from the annotated dataframe"
   ]
  },
  {
   "cell_type": "code",
   "execution_count": 36,
   "metadata": {},
   "outputs": [
    {
     "data": {
      "application/vnd.microsoft.datawrangler.viewer.v0+json": {
       "columns": [
        {
         "name": "index",
         "rawType": "int64",
         "type": "integer"
        },
        {
         "name": "identifier",
         "rawType": "object",
         "type": "string"
        },
        {
         "name": "identifier.source",
         "rawType": "object",
         "type": "string"
        },
        {
         "name": "target",
         "rawType": "object",
         "type": "string"
        },
        {
         "name": "target.source",
         "rawType": "object",
         "type": "string"
        },
        {
         "name": "WikiPathways",
         "rawType": "object",
         "type": "unknown"
        },
        {
         "name": "StringDB_ppi",
         "rawType": "object",
         "type": "unknown"
        },
        {
         "name": "Ensembl_homologs",
         "rawType": "object",
         "type": "unknown"
        },
        {
         "name": "KEGG_pathways",
         "rawType": "object",
         "type": "unknown"
        },
        {
         "name": "homolog",
         "rawType": "object",
         "type": "string"
        },
        {
         "name": "OpenTargets_reactome",
         "rawType": "object",
         "type": "unknown"
        },
        {
         "name": "OpenTargets_go",
         "rawType": "object",
         "type": "unknown"
        },
        {
         "name": "OpenTargets_gene_compounds",
         "rawType": "object",
         "type": "unknown"
        },
        {
         "name": "DISGENET_diseases",
         "rawType": "object",
         "type": "unknown"
        }
       ],
       "conversionMethod": "pd.DataFrame",
       "ref": "f9cdefb9-1c90-4cc1-a188-5e837ee11a9c",
       "rows": [
        [
         "0",
         "ENSMUSG00000026295",
         "Ensembl",
         "ENSMUSG00000026295",
         "Ensembl",
         "[{'pathway_id': nan, 'pathway_label': nan, 'pathway_gene_count': nan}]",
         "[{'stringdb_link_to': nan, 'Ensembl': nan, 'score': nan, 'Uniprot-TrEMBL': None, 'Uniprot-TrEMBL_link': None}]",
         "[{'homolog': 'ENSG00000072080'}]",
         "[{'pathway_id': nan, 'pathway_label': nan, 'gene_count': nan, 'compounds': [{'KEGG_identifier': None, 'name': None}]}]",
         "ENSG00000072080",
         "[{'pathway_label': 'Platelet degranulation ', 'pathway_id': 'Reactome:R-HSA-114608'}, {'pathway_label': 'Regulation of Insulin-like Growth Factor (IGF) transport and uptake by Insulin-like Growth Factor Binding Proteins (IGFBPs)', 'pathway_id': 'Reactome:R-HSA-381426'}, {'pathway_label': 'Post-translational protein phosphorylation', 'pathway_id': 'Reactome:R-HSA-8957275'}]",
         "[{'go_id': 'GO:0005788', 'go_name': 'endoplasmic reticulum lumen', 'go_type': 'C'}, {'go_id': 'GO:0031089', 'go_name': 'platelet dense granule lumen', 'go_type': 'C'}, {'go_id': 'GO:0004866', 'go_name': 'endopeptidase inhibitor activity', 'go_type': 'F'}, {'go_id': 'GO:0046849', 'go_name': 'bone remodeling', 'go_type': 'P'}, {'go_id': 'GO:0062023', 'go_name': 'collagen-containing extracellular matrix', 'go_type': 'C'}, {'go_id': 'GO:0005576', 'go_name': 'extracellular region', 'go_type': 'C'}, {'go_id': 'GO:0001501', 'go_name': 'skeletal system development', 'go_type': 'P'}]",
         "[{'chembl_id': nan, 'drugbank_id': nan, 'compound_cid': nan, 'compound_name': nan, 'clincal_trial_phase': nan, 'is_approved': nan, 'relation': nan, 'adverse_effect_count': nan, 'adverse_effect': nan}]",
         "[{'disease_name': 'Retinal dystrophy', 'HPO': 'HPO:HP:0000556', 'NCI': 'NCI:C35625', 'OMIM': None, 'MONDO': 'MONDO:0019118', 'ORDO': 'ORDO:71862', 'EFO': None, 'DO': 'DOID:8501', 'MESH': 'MESH:D058499', 'UMLS': 'UMLS:C0854723', 'disease_type': 'disease', 'disease_umlscui': 'C0854723', 'score': 0.4, 'ei': nan, 'el': None}]"
        ],
        [
         "1",
         "ENSMUSG00000022877",
         "Ensembl",
         "ENSMUSG00000022877",
         "Ensembl",
         "[{'pathway_id': nan, 'pathway_label': nan, 'pathway_gene_count': nan}]",
         "[{'stringdb_link_to': nan, 'Ensembl': nan, 'score': nan, 'Uniprot-TrEMBL': None, 'Uniprot-TrEMBL_link': None}]",
         "[{'homolog': 'ENSG00000113905'}]",
         "[{'pathway_id': nan, 'pathway_label': nan, 'gene_count': nan, 'compounds': [{'KEGG_identifier': None, 'name': None}]}]",
         "ENSG00000113905",
         "[{'pathway_label': 'Platelet degranulation ', 'pathway_id': 'Reactome:R-HSA-114608'}, {'pathway_label': 'Dissolution of Fibrin Clot', 'pathway_id': 'Reactome:R-HSA-75205'}]",
         "[{'go_id': 'GO:0005576', 'go_name': 'extracellular region', 'go_type': 'C'}, {'go_id': 'GO:2000504', 'go_name': 'positive regulation of blood vessel remodeling', 'go_type': 'P'}, {'go_id': 'GO:0043395', 'go_name': 'heparan sulfate proteoglycan binding', 'go_type': 'F'}, {'go_id': 'GO:0010468', 'go_name': 'regulation of gene expression', 'go_type': 'P'}, {'go_id': 'GO:0051918', 'go_name': 'negative regulation of fibrinolysis', 'go_type': 'P'}, {'go_id': 'GO:0002839', 'go_name': 'positive regulation of immune response to tumor cell', 'go_type': 'P'}, {'go_id': 'GO:0016525', 'go_name': 'negative regulation of angiogenesis', 'go_type': 'P'}, {'go_id': 'GO:0005515', 'go_name': 'protein binding', 'go_type': 'F'}, {'go_id': 'GO:1900747', 'go_name': 'negative regulation of vascular endothelial growth factor signaling pathway', 'go_type': 'P'}, {'go_id': 'GO:0033629', 'go_name': 'negative regulation of cell adhesion mediated by integrin', 'go_type': 'P'}, {'go_id': 'GO:0010543', 'go_name': 'regulation of platelet activation', 'go_type': 'P'}, {'go_id': 'GO:0051838', 'go_name': 'cytolysis by host of symbiont cells', 'go_type': 'P'}, {'go_id': 'GO:0008201', 'go_name': 'heparin binding', 'go_type': 'F'}, {'go_id': 'GO:0043537', 'go_name': 'negative regulation of blood vessel endothelial cell migration', 'go_type': 'P'}, {'go_id': 'GO:0030308', 'go_name': 'negative regulation of cell growth', 'go_type': 'P'}, {'go_id': 'GO:0020037', 'go_name': 'heme binding', 'go_type': 'F'}, {'go_id': 'GO:0010593', 'go_name': 'negative regulation of lamellipodium assembly', 'go_type': 'P'}, {'go_id': 'GO:2001027', 'go_name': 'negative regulation of endothelial cell chemotaxis', 'go_type': 'P'}, {'go_id': 'GO:0046872', 'go_name': 'metal ion binding', 'go_type': 'F'}, {'go_id': 'GO:0030168', 'go_name': 'platelet activation', 'go_type': 'P'}, {'go_id': 'GO:0004869', 'go_name': 'cysteine-type endopeptidase inhibitor activity', 'go_type': 'F'}, {'go_id': 'GO:0008270', 'go_name': 'zinc ion binding', 'go_type': 'F'}, {'go_id': 'GO:0043065', 'go_name': 'positive regulation of apoptotic process', 'go_type': 'P'}, {'go_id': 'GO:0008285', 'go_name': 'negative regulation of cell population proliferation', 'go_type': 'P'}, {'go_id': 'GO:0009986', 'go_name': 'cell surface', 'go_type': 'C'}, {'go_id': 'GO:0005102', 'go_name': 'signaling receptor binding', 'go_type': 'F'}, {'go_id': 'GO:0042730', 'go_name': 'fibrinolysis', 'go_type': 'P'}, {'go_id': 'GO:0050832', 'go_name': 'defense response to fungus', 'go_type': 'P'}, {'go_id': 'GO:0050730', 'go_name': 'regulation of peptidyl-tyrosine phosphorylation', 'go_type': 'P'}, {'go_id': 'GO:0005886', 'go_name': 'plasma membrane', 'go_type': 'C'}, {'go_id': 'GO:0070062', 'go_name': 'extracellular exosome', 'go_type': 'C'}, {'go_id': 'GO:0043254', 'go_name': 'regulation of protein-containing complex assembly', 'go_type': 'P'}, {'go_id': 'GO:0062023', 'go_name': 'collagen-containing extracellular matrix', 'go_type': 'C'}, {'go_id': 'GO:0001525', 'go_name': 'angiogenesis', 'go_type': 'P'}, {'go_id': 'GO:0072562', 'go_name': 'blood microparticle', 'go_type': 'C'}, {'go_id': 'GO:0061844', 'go_name': 'antimicrobial humoral immune response mediated by antimicrobial peptide', 'go_type': 'P'}, {'go_id': 'GO:0032956', 'go_name': 'regulation of actin cytoskeleton organization', 'go_type': 'P'}, {'go_id': 'GO:0030193', 'go_name': 'regulation of blood coagulation', 'go_type': 'P'}, {'go_id': 'GO:0051894', 'go_name': 'positive regulation of focal adhesion assembly', 'go_type': 'P'}, {'go_id': 'GO:0007162', 'go_name': 'negative regulation of cell adhesion', 'go_type': 'P'}, {'go_id': 'GO:0004867', 'go_name': 'serine-type endopeptidase inhibitor activity', 'go_type': 'F'}, {'go_id': 'GO:0019865', 'go_name': 'immunoglobulin binding', 'go_type': 'F'}, {'go_id': 'GO:0006935', 'go_name': 'chemotaxis', 'go_type': 'P'}, {'go_id': 'GO:0031093', 'go_name': 'platelet alpha granule lumen', 'go_type': 'C'}]",
         "[{'chembl_id': nan, 'drugbank_id': nan, 'compound_cid': nan, 'compound_name': nan, 'clincal_trial_phase': nan, 'is_approved': nan, 'relation': nan, 'adverse_effect_count': nan, 'adverse_effect': nan}]",
         "[{'disease_name': 'Breast Neoplasms', 'HPO': 'HPO:HP:0100013', 'NCI': 'NCI:C2910', 'OMIM': None, 'MONDO': 'MONDO:0021100', 'ORDO': None, 'EFO': 'EFO:0003869', 'DO': 'DOID:1612, DOID:3459', 'MESH': 'MESH:D001943', 'UMLS': 'UMLS:C1458155', 'disease_type': 'disease', 'disease_umlscui': 'C1458155', 'score': 0.7999999999999999, 'ei': 1.0, 'el': None}, {'disease_name': 'THROMBOPHILIA DUE TO HISTIDINE-RICH GLYCOPROTEIN DEFICIENCY', 'HPO': None, 'NCI': None, 'OMIM': 'MIM:613116, MIM:142640', 'MONDO': 'MONDO:0013143', 'ORDO': 'ORDO:217467', 'EFO': None, 'DO': 'DOID:0111903', 'MESH': 'MESH:C567737', 'UMLS': 'UMLS:C2751090', 'disease_type': 'disease', 'disease_umlscui': 'C2751090', 'score': 0.7, 'ei': 1.0, 'el': 'Moderate'}, {'disease_name': 'Thromboses', 'HPO': None, 'NCI': 'NCI:C26891', 'OMIM': None, 'MONDO': 'MONDO:0000831', 'ORDO': None, 'EFO': None, 'DO': 'DOID:0060903', 'MESH': 'MESH:D013927', 'UMLS': 'UMLS:C0040053', 'disease_type': 'phenotype', 'disease_umlscui': 'C0040053', 'score': 0.7, 'ei': 1.0, 'el': None}, {'disease_name': 'thrombus', 'HPO': None, 'NCI': None, 'OMIM': None, 'MONDO': 'MONDO:0000831', 'ORDO': None, 'EFO': None, 'DO': 'DOID:0060903', 'MESH': 'MESH:D013927', 'UMLS': 'UMLS:C0087086', 'disease_type': 'phenotype', 'disease_umlscui': 'C0087086', 'score': 0.6, 'ei': 1.0, 'el': None}, {'disease_name': 'Atherothrombosis', 'HPO': None, 'NCI': None, 'OMIM': None, 'MONDO': 'MONDO:0000831', 'ORDO': None, 'EFO': None, 'DO': 'DOID:0060903', 'MESH': 'MESH:D013927', 'UMLS': 'UMLS:C1963943', 'disease_type': 'phenotype', 'disease_umlscui': 'C1963943', 'score': 0.45, 'ei': 1.0, 'el': None}, {'disease_name': 'Hereditary thrombophilia due to congenital histidine-rich (poly-L) glycoprotein deficiency (disorder)', 'HPO': None, 'NCI': None, 'OMIM': None, 'MONDO': 'MONDO:0013143', 'ORDO': 'ORDO:217467', 'EFO': None, 'DO': None, 'MESH': None, 'UMLS': 'UMLS:C5190887', 'disease_type': 'disease', 'disease_umlscui': 'C5190887', 'score': 0.4, 'ei': 1.0, 'el': None}]"
        ],
        [
         "2",
         "ENSMUSG00000020914",
         "Ensembl",
         "ENSMUSG00000020914",
         "Ensembl",
         "[{'pathway_id': nan, 'pathway_label': nan, 'pathway_gene_count': nan}]",
         "[{'stringdb_link_to': nan, 'Ensembl': nan, 'score': nan, 'Uniprot-TrEMBL': None, 'Uniprot-TrEMBL_link': None}]",
         "[{'homolog': 'ENSG00000131747'}]",
         "[{'pathway_id': 'path:mmu01524', 'pathway_label': 'Platinum drug resistance - Mus musculus (house mouse)', 'gene_count': 0, 'compounds': [{'KEGG_identifier': None}]}, {'gene_count': 0, 'compounds': [{'KEGG_identifier': None}]}]",
         "ENSG00000131747",
         "[{'pathway_label': 'SUMOylation of DNA replication proteins', 'pathway_id': 'Reactome:R-HSA-4615885'}, {'pathway_label': 'Transcription of E2F targets under negative control by DREAM complex', 'pathway_id': 'Reactome:R-HSA-1362277'}]",
         "[{'go_id': 'GO:0046982', 'go_name': 'protein heterodimerization activity', 'go_type': 'F'}, {'go_id': 'GO:0042803', 'go_name': 'protein homodimerization activity', 'go_type': 'F'}, {'go_id': 'GO:1990904', 'go_name': 'ribonucleoprotein complex', 'go_type': 'C'}, {'go_id': 'GO:0005730', 'go_name': 'nucleolus', 'go_type': 'C'}, {'go_id': 'GO:0003677', 'go_name': 'DNA binding', 'go_type': 'F'}, {'go_id': 'GO:0009330', 'go_name': 'DNA topoisomerase type II (double strand cut, ATP-hydrolyzing) complex', 'go_type': 'C'}, {'go_id': 'GO:0005515', 'go_name': 'protein binding', 'go_type': 'F'}, {'go_id': 'GO:0008301', 'go_name': 'DNA binding, bending', 'go_type': 'F'}, {'go_id': 'GO:0005654', 'go_name': 'nucleoplasm', 'go_type': 'C'}, {'go_id': 'GO:0000775', 'go_name': 'chromosome, centromeric region', 'go_type': 'C'}, {'go_id': 'GO:0003918', 'go_name': 'DNA topoisomerase type II (double strand cut, ATP-hydrolyzing) activity', 'go_type': 'F'}, {'go_id': 'GO:0042752', 'go_name': 'regulation of circadian rhythm', 'go_type': 'P'}, {'go_id': 'GO:0005634', 'go_name': 'nucleus', 'go_type': 'C'}, {'go_id': 'GO:0043065', 'go_name': 'positive regulation of apoptotic process', 'go_type': 'P'}, {'go_id': 'GO:0005080', 'go_name': 'protein kinase C binding', 'go_type': 'F'}, {'go_id': 'GO:0005524', 'go_name': 'ATP binding', 'go_type': 'F'}, {'go_id': 'GO:0003723', 'go_name': 'RNA binding', 'go_type': 'F'}, {'go_id': 'GO:0008094', 'go_name': 'ATP-dependent activity, acting on DNA', 'go_type': 'F'}, {'go_id': 'GO:0000712', 'go_name': 'resolution of meiotic recombination intermediates', 'go_type': 'P'}, {'go_id': 'GO:0000228', 'go_name': 'nuclear chromosome', 'go_type': 'C'}, {'go_id': 'GO:0040016', 'go_name': 'embryonic cleavage', 'go_type': 'P'}, {'go_id': 'GO:0003682', 'go_name': 'chromatin binding', 'go_type': 'F'}, {'go_id': 'GO:0032991', 'go_name': 'protein-containing complex', 'go_type': 'C'}, {'go_id': 'GO:0030263', 'go_name': 'apoptotic chromosome condensation', 'go_type': 'P'}, {'go_id': 'GO:0007143', 'go_name': 'female meiotic nuclear division', 'go_type': 'P'}, {'go_id': 'GO:0006265', 'go_name': 'DNA topological change', 'go_type': 'P'}, {'go_id': 'GO:0007059', 'go_name': 'chromosome segregation', 'go_type': 'P'}, {'go_id': 'GO:1905463', 'go_name': 'negative regulation of DNA duplex unwinding', 'go_type': 'P'}, {'go_id': 'GO:0000793', 'go_name': 'condensed chromosome', 'go_type': 'C'}, {'go_id': 'GO:0005737', 'go_name': 'cytoplasm', 'go_type': 'C'}, {'go_id': 'GO:0048511', 'go_name': 'rhythmic process', 'go_type': 'P'}, {'go_id': 'GO:0000287', 'go_name': 'magnesium ion binding', 'go_type': 'F'}, {'go_id': 'GO:0006266', 'go_name': 'DNA ligation', 'go_type': 'P'}, {'go_id': 'GO:0045870', 'go_name': 'positive regulation of single stranded viral RNA replication via double stranded DNA intermediate', 'go_type': 'P'}, {'go_id': 'GO:0043130', 'go_name': 'ubiquitin binding', 'go_type': 'F'}, {'go_id': 'GO:0002244', 'go_name': 'hematopoietic progenitor cell differentiation', 'go_type': 'P'}, {'go_id': 'GO:0006974', 'go_name': 'DNA damage response', 'go_type': 'P'}, {'go_id': 'GO:0045944', 'go_name': 'positive regulation of transcription by RNA polymerase II', 'go_type': 'P'}, {'go_id': 'GO:0005814', 'go_name': 'centriole', 'go_type': 'C'}, {'go_id': 'GO:0001673', 'go_name': 'male germ cell nucleus', 'go_type': 'C'}, {'go_id': 'GO:0000819', 'go_name': 'sister chromatid segregation', 'go_type': 'P'}]",
         "[{'chembl_id': 'CHEMBL:CHEMBL44657', 'drugbank_id': 'DrugBank:DB00773', 'compound_cid': 'pubchem.compound:36462', 'compound_name': 'ETOPOSIDE', 'clincal_trial_phase': 4.0, 'is_approved': True, 'relation': 'activates', 'adverse_effect_count': 27.0, 'adverse_effect': [{'name': 'febrile neutropenia'}, {'name': 'neutropenia'}, {'name': 'mucosal inflammation'}, {'name': 'pancytopenia'}, {'name': 'thrombocytopenia'}, {'name': 'bone marrow failure'}, {'name': 'myelodysplastic syndrome'}, {'name': 'acute myeloid leukaemia'}, {'name': 'haematotoxicity'}, {'name': 'venoocclusive liver disease'}, {'name': 'sepsis'}, {'name': 'tumour lysis syndrome'}, {'name': 'leukopenia'}, {'name': 'myelosuppression'}, {'name': 'neutropenic sepsis'}, {'name': 'malignant neoplasm progression'}, {'name': 'disease progression'}, {'name': 'second primary malignancy'}, {'name': 'anaemia'}, {'name': 'ovarian failure'}, {'name': 'posterior reversible encephalopathy syndrome'}, {'name': 'pyrexia'}, {'name': 'diffuse large b-cell lymphoma recurrent'}, {'name': 'nephropathy toxic'}, {'name': 'disease recurrence'}]}, {'chembl_id': 'CHEMBL:CHEMBL1117', 'drugbank_id': 'DrugBank:DB01177', 'compound_cid': 'pubchem.compound:42890', 'compound_name': 'IDARUBICIN', 'clincal_trial_phase': 4.0, 'is_approved': True, 'relation': 'activates', 'adverse_effect_count': 88.0, 'adverse_effect': [{'name': 'febrile neutropenia'}, {'name': 'neutropenia'}, {'name': 'mucosal inflammation'}, {'name': 'fusarium infection'}, {'name': 'myelodysplastic syndrome transformation'}, {'name': 'acute promyelocytic leukaemia differentiation syndrome'}, {'name': 'bronchopulmonary aspergillosis'}, {'name': 'acute myeloid leukaemia'}, {'name': 'thrombocytopenia'}, {'name': 'bone marrow failure'}, {'name': 'myelodysplastic syndrome'}, {'name': 'sepsis'}, {'name': 'septic shock'}, {'name': 'neutropenic colitis'}, {'name': 'febrile bone marrow aplasia'}, {'name': 'mucormycosis'}, {'name': 'leukaemia recurrent'}, {'name': 'neutropenic sepsis'}, {'name': 'pancytopenia'}, {'name': 'acute myeloid leukaemia recurrent'}, {'name': 'acute lymphocytic leukaemia recurrent'}, {'name': 'lower respiratory tract infection fungal'}, {'name': 'fungal infection'}, {'name': 'pneumonia fungal'}, {'name': 'hyperbilirubinaemia'}]}, {'chembl_id': 'CHEMBL:CHEMBL53463', 'drugbank_id': 'DrugBank:DB00997', 'compound_cid': 'pubchem.compound:31703', 'compound_name': 'DOXORUBICIN', 'clincal_trial_phase': 4.0, 'is_approved': True, 'relation': 'activates', 'adverse_effect_count': 29.0, 'adverse_effect': [{'name': 'febrile neutropenia'}, {'name': 'neutropenia'}, {'name': 'mucosal inflammation'}, {'name': 'cardiotoxicity'}, {'name': 'haematotoxicity'}, {'name': 'diffuse large b-cell lymphoma recurrent'}, {'name': 'thrombocytopenia'}, {'name': 'disease progression'}, {'name': 'pancytopenia'}, {'name': 'myelodysplastic syndrome'}, {'name': 'bone marrow failure'}, {'name': 'leukopenia'}, {'name': 'anaemia'}, {'name': 'acute myeloid leukaemia'}, {'name': 'pneumocystis jirovecii pneumonia'}, {'name': 'diffuse large b-cell lymphoma'}, {'name': 'malignant neoplasm progression'}, {'name': 'febrile bone marrow aplasia'}, {'name': 'cardiomyopathy'}, {'name': 'tumour lysis syndrome'}, {'name': 'ejection fraction decreased'}, {'name': 'neutropenic sepsis'}, {'name': 'interstitial lung disease'}, {'name': 'pyrexia'}, {'name': 'neuropathy peripheral'}]}, {'chembl_id': 'CHEMBL:CHEMBL359744', 'drugbank_id': None, 'compound_cid': 'pubchem.compound:443939', 'compound_name': 'DOXORUBICIN HYDROCHLORIDE', 'clincal_trial_phase': 4.0, 'is_approved': True, 'relation': 'activates', 'adverse_effect_count': 27.0, 'adverse_effect': [{'name': 'febrile neutropenia'}, {'name': 'neutropenia'}, {'name': 'mucosal inflammation'}, {'name': 'cardiotoxicity'}, {'name': 'thrombocytopenia'}, {'name': 'haematotoxicity'}, {'name': 'acute myeloid leukaemia'}, {'name': 'diffuse large b-cell lymphoma recurrent'}, {'name': 'myelodysplastic syndrome'}, {'name': 'pancytopenia'}, {'name': 'disease progression'}, {'name': 'anaemia'}, {'name': 'leukopenia'}, {'name': 'febrile bone marrow aplasia'}, {'name': 'bone marrow failure'}, {'name': 'second primary malignancy'}, {'name': 'interstitial lung disease'}, {'name': 'cardiomyopathy'}, {'name': 'pyrexia'}, {'name': 'neutropenic sepsis'}, {'name': 'pneumocystis jirovecii pneumonia'}, {'name': 'palmar-plantar erythrodysaesthesia syndrome'}, {'name': 'ejection fraction decreased'}, {'name': 'malignant neoplasm progression'}, {'name': 'tumour lysis syndrome'}]}, {'chembl_id': 'CHEMBL:CHEMBL178', 'drugbank_id': 'DrugBank:DB00694', 'compound_cid': 'pubchem.compound:30323', 'compound_name': 'DAUNORUBICIN', 'clincal_trial_phase': 4.0, 'is_approved': True, 'relation': 'activates', 'adverse_effect_count': 44.0, 'adverse_effect': [{'name': 'febrile neutropenia'}, {'name': 'hypofibrinogenaemia'}, {'name': 'posterior reversible encephalopathy syndrome'}, {'name': 'sepsis'}, {'name': 'bone marrow failure'}, {'name': 'febrile bone marrow aplasia'}, {'name': 'neutropenia'}, {'name': 'haematotoxicity'}, {'name': 'hyperbilirubinaemia'}, {'name': 'hypertriglyceridaemia'}, {'name': 'multiple-drug resistance'}, {'name': 'colitis'}, {'name': 'cerebral venous thrombosis'}, {'name': 'mucormycosis'}, {'name': 'septic shock'}, {'name': 'tumour lysis syndrome'}, {'name': 'aspergillus infection'}, {'name': 'osteonecrosis'}, {'name': 'mucosal inflammation'}, {'name': 'neutropenic colitis'}, {'name': 'bronchopulmonary aspergillosis'}, {'name': 'pyrexia'}, {'name': 'bacteraemia'}, {'name': 'acute lymphocytic leukaemia recurrent'}, {'name': 'aplasia'}]}, {'chembl_id': 'CHEMBL:CHEMBL452231', 'drugbank_id': 'DrugBank:DB00444', 'compound_cid': 'pubchem.compound:452548', 'compound_name': 'TENIPOSIDE', 'clincal_trial_phase': 4.0, 'is_approved': True, 'relation': 'activates', 'adverse_effect_count': 8.0, 'adverse_effect': [{'name': 'neurotoxicity'}, {'name': 'tumour lysis syndrome'}, {'name': 'bone marrow transplant'}, {'name': 'muscular weakness'}, {'name': 'peripheral nerve palsy'}, {'name': 'acute myeloid leukaemia'}, {'name': 'myeloid leukaemia'}, {'name': 'sepsis'}]}, {'chembl_id': 'CHEMBL:CHEMBL1200976', 'drugbank_id': None, 'compound_cid': 'pubchem.compound:636362', 'compound_name': 'IDARUBICIN HYDROCHLORIDE', 'clincal_trial_phase': 4.0, 'is_approved': True, 'relation': 'activates', 'adverse_effect_count': 65.0, 'adverse_effect': [{'name': 'febrile neutropenia'}, {'name': 'acute myeloid leukaemia'}, {'name': 'neutropenic colitis'}, {'name': 'bone marrow failure'}, {'name': 'second primary malignancy'}, {'name': 'pancytopenia'}, {'name': 'cytogenetic abnormality'}, {'name': 'febrile bone marrow aplasia'}, {'name': 'hepatotoxicity'}, {'name': 'myelodysplastic syndrome'}, {'name': 'bronchopulmonary aspergillosis'}, {'name': 'aplasia'}, {'name': 'hyperbilirubinaemia'}, {'name': 'sepsis'}, {'name': 'myelodysplastic syndrome transformation'}, {'name': 'neutropenia'}, {'name': 'stem cell transplant'}, {'name': 'mucosal inflammation'}, {'name': 'thrombocytopenia'}, {'name': 'fungal infection'}, {'name': 'neoplasm recurrence'}, {'name': 'venoocclusive liver disease'}, {'name': 'pleural effusion'}, {'name': 'septic shock'}, {'name': 'necrotising ulcerative gingivostomatitis'}]}]",
         "[{'disease_name': 'Breast Neoplasms', 'HPO': 'HPO:HP:0100013', 'NCI': 'NCI:C2910', 'OMIM': None, 'MONDO': 'MONDO:0021100', 'ORDO': None, 'EFO': 'EFO:0003869', 'DO': 'DOID:1612, DOID:3459', 'MESH': 'MESH:D001943', 'UMLS': 'UMLS:C1458155', 'disease_type': 'disease', 'disease_umlscui': 'C1458155', 'score': 0.9500000000000001, 'ei': 0.8529411764705882, 'el': None}, {'disease_name': 'Neoplasm, Prostatic', 'HPO': 'HPO:HP:0100787', 'NCI': 'NCI:C3343', 'OMIM': None, 'MONDO': 'MONDO:0008315, MONDO:0021259', 'ORDO': None, 'EFO': None, 'DO': 'DOID:10283', 'MESH': 'MESH:D011471', 'UMLS': 'UMLS:C0033578', 'disease_type': 'disease', 'disease_umlscui': 'C0033578', 'score': 0.8, 'ei': 0.9444444444444444, 'el': None}, {'disease_name': 'Liver cell carcinoma', 'HPO': 'HPO:HP:0001402', 'NCI': 'NCI:C3099', 'OMIM': 'MIM:114550', 'MONDO': 'MONDO:0007256', 'ORDO': 'ORDO:88673', 'EFO': 'EFO:0000182, EFO:0000762, EFO:1000256', 'DO': 'DOID:3571, DOID:684', 'MESH': 'MESH:D006528', 'UMLS': 'UMLS:C2239176', 'disease_type': 'disease', 'disease_umlscui': 'C2239176', 'score': 0.75, 'ei': 0.9714285714285714, 'el': None}, {'disease_name': 'Lung adenocarcinoma', 'HPO': 'HPO:HP:0030078', 'NCI': 'NCI:C3512', 'OMIM': 'MIM:211980', 'MONDO': 'MONDO:0005061', 'ORDO': None, 'EFO': 'EFO:0000571, EFO:0005288', 'DO': 'DOID:3910', 'MESH': 'MESH:D000077192', 'UMLS': 'UMLS:C0152013', 'disease_type': 'disease', 'disease_umlscui': 'C0152013', 'score': 0.75, 'ei': 1.0, 'el': None}, {'disease_name': 'Leukemias', 'HPO': 'HPO:HP:0001909', 'NCI': 'NCI:C3161', 'OMIM': None, 'MONDO': 'MONDO:0005059', 'ORDO': None, 'EFO': 'EFO:0000565', 'DO': 'DOID:1240', 'MESH': 'MESH:D007938', 'UMLS': 'UMLS:C0023418', 'disease_type': 'disease', 'disease_umlscui': 'C0023418', 'score': 0.6000000000000001, 'ei': 1.0, 'el': None}, {'disease_name': 'Gliomas', 'HPO': 'HPO:HP:0009733', 'NCI': 'NCI:C3059', 'OMIM': None, 'MONDO': 'MONDO:0021042, MONDO:0100342', 'ORDO': 'ORDO:182067', 'EFO': 'EFO:0005543', 'DO': 'DOID:3070, DOID:5076', 'MESH': 'MESH:D005910', 'UMLS': 'UMLS:C0017638', 'disease_type': 'disease', 'disease_umlscui': 'C0017638', 'score': 0.6000000000000001, 'ei': 1.0, 'el': None}, {'disease_name': 'Liver Neoplasm', 'HPO': 'HPO:HP:0002896', 'NCI': None, 'OMIM': None, 'MONDO': 'MONDO:0002691', 'ORDO': None, 'EFO': 'EFO:1001513', 'DO': 'DOID:3571, DOID:684', 'MESH': 'MESH:D008113', 'UMLS': 'UMLS:C0023903', 'disease_type': 'disease', 'disease_umlscui': 'C0023903', 'score': 0.6000000000000001, 'ei': 1.0, 'el': None}, {'disease_name': 'Adrenal cortical carcinoma', 'HPO': 'HPO:HP:0006744', 'NCI': 'NCI:C9325', 'OMIM': None, 'MONDO': 'MONDO:0006639', 'ORDO': 'ORDO:1501', 'EFO': 'EFO:1000796', 'DO': 'DOID:3948', 'MESH': 'MESH:D018268', 'UMLS': 'UMLS:C0206686', 'disease_type': 'disease', 'disease_umlscui': 'C0206686', 'score': 0.6000000000000001, 'ei': 1.0, 'el': None}, {'disease_name': 'Sepsis', 'HPO': None, 'NCI': None, 'OMIM': None, 'MONDO': 'MONDO:0005229', 'ORDO': None, 'EFO': 'EFO:0003033', 'DO': 'DOID:0040085', 'MESH': 'MESH:D018805', 'UMLS': 'UMLS:C0243026', 'disease_type': 'disease', 'disease_umlscui': 'C0243026', 'score': 0.5, 'ei': 1.0, 'el': None}, {'disease_name': 'Non-Small Cell Adenocarcinoma', 'HPO': None, 'NCI': 'NCI:C27745', 'OMIM': None, 'MONDO': 'MONDO:0005061', 'ORDO': None, 'EFO': 'EFO:0000571, EFO:0005288', 'DO': 'DOID:3910', 'MESH': None, 'UMLS': 'UMLS:C1335060', 'disease_type': 'disease', 'disease_umlscui': 'C1335060', 'score': 0.4, 'ei': 1.0, 'el': None}, {'disease_name': 'Adenoid cystic carcinoma', 'HPO': None, 'NCI': 'NCI:C2970', 'OMIM': None, 'MONDO': 'MONDO:0003175, MONDO:0004971', 'ORDO': None, 'EFO': 'EFO:0000231', 'DO': 'DOID:0080202, DOID:4866', 'MESH': 'MESH:D003528', 'UMLS': 'UMLS:C0010606', 'disease_type': 'disease', 'disease_umlscui': 'C0010606', 'score': 0.4, 'ei': 1.0, 'el': None}, {'disease_name': 'Glioma, malignant', 'HPO': None, 'NCI': 'NCI:C4822', 'OMIM': None, 'MONDO': 'MONDO:0021042, MONDO:0100342', 'ORDO': 'ORDO:182067', 'EFO': 'EFO:0005543', 'DO': 'DOID:3070, DOID:5076', 'MESH': 'MESH:D005910', 'UMLS': 'UMLS:C0555198', 'disease_type': 'disease', 'disease_umlscui': 'C0555198', 'score': 0.4, 'ei': 1.0, 'el': None}, {'disease_name': 'Ovary Syndrome, Polycystic', 'HPO': 'HPO:HP:0000147', 'NCI': 'NCI:C26862', 'OMIM': 'MIM:184700', 'MONDO': 'MONDO:0008487', 'ORDO': 'ORDO:3185', 'EFO': 'EFO:0000660', 'DO': 'DOID:11612', 'MESH': 'MESH:D011085', 'UMLS': 'UMLS:C0032460', 'disease_type': 'disease', 'disease_umlscui': 'C0032460', 'score': 0.4, 'ei': 1.0, 'el': None}, {'disease_name': 'Gland Neoplasm, Salivary', 'HPO': 'HPO:HP:0100684', 'NCI': 'NCI:C3361', 'OMIM': None, 'MONDO': 'MONDO:0004669, MONDO:0021357', 'ORDO': None, 'EFO': 'EFO:0003826, EFO:1000384', 'DO': None, 'MESH': 'MESH:D012468', 'UMLS': 'UMLS:C0036095', 'disease_type': 'disease', 'disease_umlscui': 'C0036095', 'score': 0.4, 'ei': 1.0, 'el': None}, {'disease_name': 'DNA TOPOISOMERASE II, RESISTANCE TO INHIBITION OF, BY AMSACRINE', 'HPO': None, 'NCI': None, 'OMIM': 'MIM:126430', 'MONDO': None, 'ORDO': None, 'EFO': None, 'DO': None, 'MESH': None, 'UMLS': 'UMLS:C4016021', 'disease_type': 'phenotype', 'disease_umlscui': 'C4016021', 'score': 0.4, 'ei': 1.0, 'el': None}]"
        ],
        [
         "3",
         "ENSMUSG00000024747",
         "Ensembl",
         "ENSMUSG00000024747",
         "Ensembl",
         "[{'pathway_id': nan, 'pathway_label': nan, 'pathway_gene_count': nan}]",
         "[{'stringdb_link_to': nan, 'Ensembl': nan, 'score': nan, 'Uniprot-TrEMBL': None, 'Uniprot-TrEMBL_link': None}]",
         "[{'homolog': 'ENSG00000165092'}]",
         "[{'pathway_id': 'path:mmu00830', 'pathway_label': 'Retinol metabolism - Mus musculus (house mouse)', 'gene_count': 101, 'compounds': [{'KEGG_identifier': 'C00376'}, {'KEGG_identifier': 'C00473'}, {'KEGG_identifier': 'C00777'}, {'KEGG_identifier': 'C00778'}, {'KEGG_identifier': 'C00899'}, {'KEGG_identifier': 'C02075'}, {'KEGG_identifier': 'C02094'}, {'KEGG_identifier': 'C02110'}, {'KEGG_identifier': 'C02588'}, {'KEGG_identifier': 'C03455'}, {'KEGG_identifier': 'C05914'}, {'KEGG_identifier': 'C05915'}, {'KEGG_identifier': 'C05916'}, {'KEGG_identifier': 'C05917'}, {'KEGG_identifier': 'C11061'}, {'KEGG_identifier': 'C15492'}, {'KEGG_identifier': 'C15493'}, {'KEGG_identifier': 'C16677'}, {'KEGG_identifier': 'C16678'}, {'KEGG_identifier': 'C16679'}, {'KEGG_identifier': 'C16680'}, {'KEGG_identifier': 'C16681'}, {'KEGG_identifier': 'C16682'}, {'KEGG_identifier': 'C16683'}, {'KEGG_identifier': 'C21797'}]}, {'pathway_id': 'path:mmu01100', 'pathway_label': 'Metabolic pathways - Mus musculus (house mouse)', 'gene_count': 0, 'compounds': [{'KEGG_identifier': None}]}, {'gene_count': 0, 'compounds': [{'KEGG_identifier': None}]}]",
         "ENSG00000165092",
         "[{'pathway_label': 'Fructose catabolism', 'pathway_id': 'Reactome:R-HSA-70350'}, {'pathway_label': 'RA biosynthesis pathway', 'pathway_id': 'Reactome:R-HSA-5365859'}, {'pathway_label': 'Ethanol oxidation', 'pathway_id': 'Reactome:R-HSA-71384'}]",
         "[{'go_id': 'GO:0051287', 'go_name': 'NAD binding', 'go_type': 'F'}, {'go_id': 'GO:0004029', 'go_name': 'aldehyde dehydrogenase (NAD+) activity', 'go_type': 'F'}, {'go_id': 'GO:0120163', 'go_name': 'negative regulation of cold-induced thermogenesis', 'go_type': 'P'}, {'go_id': 'GO:0006081', 'go_name': 'cellular aldehyde metabolic process', 'go_type': 'P'}, {'go_id': 'GO:0106373', 'go_name': '3-deoxyglucosone dehydrogenase activity', 'go_type': 'F'}, {'go_id': 'GO:0019145', 'go_name': 'aminobutyraldehyde dehydrogenase (NAD+) activity', 'go_type': 'F'}, {'go_id': 'GO:0001758', 'go_name': 'retinal dehydrogenase activity', 'go_type': 'F'}, {'go_id': 'GO:0036438', 'go_name': 'maintenance of lens transparency', 'go_type': 'P'}, {'go_id': 'GO:0070062', 'go_name': 'extracellular exosome', 'go_type': 'C'}, {'go_id': 'GO:0005737', 'go_name': 'cytoplasm', 'go_type': 'C'}, {'go_id': 'GO:0005515', 'go_name': 'protein binding', 'go_type': 'F'}, {'go_id': 'GO:0005829', 'go_name': 'cytosol', 'go_type': 'C'}, {'go_id': 'GO:0005096', 'go_name': 'GTPase activator activity', 'go_type': 'F'}, {'go_id': 'GO:0001523', 'go_name': 'retinoid metabolic process', 'go_type': 'P'}, {'go_id': 'GO:0030424', 'go_name': 'axon', 'go_type': 'C'}, {'go_id': 'GO:0005497', 'go_name': 'androgen binding', 'go_type': 'F'}, {'go_id': 'GO:0018479', 'go_name': 'benzaldehyde dehydrogenase (NAD+) activity', 'go_type': 'F'}, {'go_id': 'GO:0042572', 'go_name': 'retinol metabolic process', 'go_type': 'P'}, {'go_id': 'GO:0045202', 'go_name': 'synapse', 'go_type': 'C'}, {'go_id': 'GO:0110095', 'go_name': 'cellular detoxification of aldehyde', 'go_type': 'P'}, {'go_id': 'GO:0009449', 'go_name': 'gamma-aminobutyric acid biosynthetic process', 'go_type': 'P'}, {'go_id': 'GO:0030392', 'go_name': 'fructosamine catabolic process', 'go_type': 'P'}]",
         "[{'chembl_id': nan, 'drugbank_id': nan, 'compound_cid': nan, 'compound_name': nan, 'clincal_trial_phase': nan, 'is_approved': nan, 'relation': nan, 'adverse_effect_count': nan, 'adverse_effect': nan}]",
         "[{'disease_name': 'Melanoma', 'HPO': 'HPO:HP:0002861', 'NCI': 'NCI:C3224', 'OMIM': None, 'MONDO': 'MONDO:0005105', 'ORDO': None, 'EFO': 'EFO:0000756', 'DO': 'DOID:1909, DOID:8923', 'MESH': 'MESH:D008545', 'UMLS': 'UMLS:C0025202', 'disease_type': 'disease', 'disease_umlscui': 'C0025202', 'score': 0.65, 'ei': 1.0, 'el': None}, {'disease_name': 'Schizophrenias', 'HPO': 'HPO:HP:0100753', 'NCI': 'NCI:C3362', 'OMIM': 'MIM:181500', 'MONDO': 'MONDO:0005090', 'ORDO': None, 'EFO': None, 'DO': 'DOID:5419', 'MESH': 'MESH:D012559', 'UMLS': 'UMLS:C0036341', 'disease_type': 'disease', 'disease_umlscui': 'C0036341', 'score': 0.65, 'ei': 0.6666666666666666, 'el': None}, {'disease_name': 'Alcoholism', 'HPO': 'HPO:HP:0030955', 'NCI': 'NCI:C93040', 'OMIM': 'MIM:103780', 'MONDO': 'MONDO:0002046, MONDO:0007079', 'ORDO': None, 'EFO': None, 'DO': 'DOID:0050741, DOID:1574', 'MESH': 'MESH:D000437', 'UMLS': 'UMLS:C0001973', 'disease_type': 'disease', 'disease_umlscui': 'C0001973', 'score': 0.6000000000000001, 'ei': 1.0, 'el': None}, {'disease_name': 'Diseases, Liver', 'HPO': 'HPO:HP:0001392, HPO:HP:0001410', 'NCI': 'NCI:C3196', 'OMIM': None, 'MONDO': 'MONDO:0005154', 'ORDO': None, 'EFO': 'EFO:0001421', 'DO': 'DOID:0060262, DOID:409', 'MESH': 'MESH:D008107', 'UMLS': 'UMLS:C0023895', 'disease_type': 'disease', 'disease_umlscui': 'C0023895', 'score': 0.55, 'ei': 0.0, 'el': None}, {'disease_name': 'Renal cell carcinoma', 'HPO': 'HPO:HP:0005584', 'NCI': 'NCI:C9385', 'OMIM': 'MIM:144700', 'MONDO': 'MONDO:0005549, MONDO:0005086', 'ORDO': 'ORDO:217071', 'EFO': 'EFO:0000349, EFO:0000681, EFO:0005708', 'DO': 'DOID:4450, DOID:4451, DOID:4464, DOID:4465, DOID:4467, DOID:4471, DOID:4473', 'MESH': 'MESH:D002292', 'UMLS': 'UMLS:C0007134', 'disease_type': 'disease', 'disease_umlscui': 'C0007134', 'score': 0.5, 'ei': 1.0, 'el': None}, {'disease_name': 'nonalcoholic steatohepatitis (diagnosis)', 'HPO': None, 'NCI': 'NCI:C84445', 'OMIM': None, 'MONDO': 'MONDO:0013209, MONDO:0007027', 'ORDO': None, 'EFO': 'EFO:0003095, EFO:1001249', 'DO': 'DOID:0080208', 'MESH': 'MESH:D065626', 'UMLS': 'UMLS:C3241937', 'disease_type': 'disease', 'disease_umlscui': 'C3241937', 'score': 0.5, 'ei': 1.0, 'el': None}, {'disease_name': 'Abuse, Alcohol', 'HPO': None, 'NCI': 'NCI:C20701', 'OMIM': None, 'MONDO': 'MONDO:0002046', 'ORDO': None, 'EFO': None, 'DO': 'DOID:1574', 'MESH': 'MESH:D000437', 'UMLS': 'UMLS:C0085762', 'disease_type': 'disease', 'disease_umlscui': 'C0085762', 'score': 0.5, 'ei': 1.0, 'el': None}, {'disease_name': 'Alcoholic Intoxication', 'HPO': None, 'NCI': 'NCI:C34367', 'OMIM': None, 'MONDO': None, 'ORDO': None, 'EFO': None, 'DO': None, 'MESH': 'MESH:D000435', 'UMLS': 'UMLS:C0001969', 'disease_type': 'disease', 'disease_umlscui': 'C0001969', 'score': 0.5, 'ei': 1.0, 'el': None}, {'disease_name': 'Parkinsonism', 'HPO': 'HPO:HP:0001300', 'NCI': 'NCI:C116922', 'OMIM': None, 'MONDO': 'MONDO:0021095', 'ORDO': None, 'EFO': None, 'DO': None, 'MESH': 'MESH:D020734', 'UMLS': 'UMLS:C0242422', 'disease_type': 'disease', 'disease_umlscui': 'C0242422', 'score': 0.4, 'ei': 1.0, 'el': None}, {'disease_name': 'AUTISM SPECTRUM DISORDER', 'HPO': 'HPO:HP:0000729', 'NCI': 'NCI:C88412', 'OMIM': 'MIM:209850', 'MONDO': 'MONDO:0005258', 'ORDO': None, 'EFO': 'EFO:0003756', 'DO': 'DOID:0060041, DOID:12849', 'MESH': 'MESH:D000067877', 'UMLS': 'UMLS:C1510586', 'disease_type': 'disease', 'disease_umlscui': 'C1510586', 'score': 0.4, 'ei': 1.0, 'el': None}, {'disease_name': 'NAFLD - Nonalcoholic Fatty Liver Disease', 'HPO': None, 'NCI': 'NCI:C84444', 'OMIM': None, 'MONDO': 'MONDO:0013209', 'ORDO': None, 'EFO': 'EFO:0003095, EFO:1001248', 'DO': 'DOID:0080208', 'MESH': 'MESH:D065626', 'UMLS': 'UMLS:C0400966', 'disease_type': 'disease', 'disease_umlscui': 'C0400966', 'score': 0.4, 'ei': 1.0, 'el': None}, {'disease_name': 'Creutzfeldt Jakob Disease', 'HPO': None, 'NCI': 'NCI:C26802', 'OMIM': 'MIM:123400, MIM:176640', 'MONDO': 'MONDO:0005357, MONDO:0007403', 'ORDO': 'ORDO:204, ORDO:282166', 'EFO': 'EFO:0004226, EFO:1001233', 'DO': 'DOID:11949', 'MESH': 'MESH:D007562', 'UMLS': 'UMLS:C0022336', 'disease_type': 'disease', 'disease_umlscui': 'C0022336', 'score': 0.4, 'ei': 1.0, 'el': None}]"
        ],
        [
         "4",
         "ENSMUSG00000032081",
         "Ensembl",
         "ENSMUSG00000032081",
         "Ensembl",
         "[{'pathway_id': 'WP:WP1', 'pathway_label': 'Statin pathway', 'pathway_gene_count': 20.0}, {'pathway_id': 'WP:WP2316', 'pathway_label': 'PPAR signaling pathway', 'pathway_gene_count': 85.0}]",
         "[{'stringdb_link_to': nan, 'Ensembl': nan, 'score': nan, 'Uniprot-TrEMBL': None, 'Uniprot-TrEMBL_link': None}]",
         "[{'homolog': 'ENSG00000110245'}]",
         "[{'pathway_id': 'path:mmu03320', 'pathway_label': 'PPAR signaling pathway - Mus musculus (house mouse)', 'gene_count': 88, 'compounds': [{'KEGG_identifier': 'C02165'}, {'KEGG_identifier': 'C14762'}, {'KEGG_identifier': 'C14767'}, {'KEGG_identifier': 'C14776'}, {'KEGG_identifier': 'C15493'}]}, {'pathway_id': 'path:mmu04979', 'pathway_label': 'Cholesterol metabolism - Mus musculus (house mouse)', 'gene_count': 49, 'compounds': [{'KEGG_identifier': 'C00162'}, {'KEGG_identifier': 'C00187'}, {'KEGG_identifier': 'C00422'}, {'KEGG_identifier': 'C00865'}, {'KEGG_identifier': 'C01921'}, {'KEGG_identifier': 'C02530'}, {'KEGG_identifier': 'C05122'}, {'KEGG_identifier': 'C05465'}, {'KEGG_identifier': 'C05466'}, {'KEGG_identifier': 'C15610'}]}, {'gene_count': 0, 'compounds': [{'KEGG_identifier': None}]}]",
         "ENSG00000110245",
         "[{'pathway_label': 'Retinoid metabolism and transport', 'pathway_id': 'Reactome:R-HSA-975634'}, {'pathway_label': 'Chylomicron assembly', 'pathway_id': 'Reactome:R-HSA-8963888'}, {'pathway_label': 'HDL remodeling', 'pathway_id': 'Reactome:R-HSA-8964058'}, {'pathway_label': 'Chylomicron remodeling', 'pathway_id': 'Reactome:R-HSA-8963901'}]",
         "[{'go_id': 'GO:0005543', 'go_name': 'phospholipid binding', 'go_type': 'F'}, {'go_id': 'GO:0043691', 'go_name': 'reverse cholesterol transport', 'go_type': 'P'}, {'go_id': 'GO:0007186', 'go_name': 'G protein-coupled receptor signaling pathway', 'go_type': 'P'}, {'go_id': 'GO:0070653', 'go_name': 'high-density lipoprotein particle receptor binding', 'go_type': 'F'}, {'go_id': 'GO:0034366', 'go_name': 'spherical high-density lipoprotein particle', 'go_type': 'C'}, {'go_id': 'GO:0055102', 'go_name': 'lipase inhibitor activity', 'go_type': 'F'}, {'go_id': 'GO:0034379', 'go_name': 'very-low-density lipoprotein particle assembly', 'go_type': 'P'}, {'go_id': 'GO:0032489', 'go_name': 'regulation of Cdc42 protein signal transduction', 'go_type': 'P'}, {'go_id': 'GO:0010897', 'go_name': 'negative regulation of triglyceride catabolic process', 'go_type': 'P'}, {'go_id': 'GO:0051005', 'go_name': 'negative regulation of lipoprotein lipase activity', 'go_type': 'P'}, {'go_id': 'GO:0005769', 'go_name': 'early endosome', 'go_type': 'C'}, {'go_id': 'GO:0042627', 'go_name': 'chylomicron', 'go_type': 'C'}, {'go_id': 'GO:0030234', 'go_name': 'enzyme regulator activity', 'go_type': 'F'}, {'go_id': 'GO:0045833', 'go_name': 'negative regulation of lipid metabolic process', 'go_type': 'P'}, {'go_id': 'GO:0070328', 'go_name': 'triglyceride homeostasis', 'go_type': 'P'}, {'go_id': 'GO:0005615', 'go_name': 'extracellular space', 'go_type': 'C'}, {'go_id': 'GO:0034363', 'go_name': 'intermediate-density lipoprotein particle', 'go_type': 'C'}, {'go_id': 'GO:0050995', 'go_name': 'negative regulation of lipid catabolic process', 'go_type': 'P'}, {'go_id': 'GO:0034361', 'go_name': 'very-low-density lipoprotein particle', 'go_type': 'C'}, {'go_id': 'GO:0005576', 'go_name': 'extracellular region', 'go_type': 'C'}, {'go_id': 'GO:0010916', 'go_name': 'negative regulation of very-low-density lipoprotein particle clearance', 'go_type': 'P'}, {'go_id': 'GO:0060621', 'go_name': 'negative regulation of cholesterol import', 'go_type': 'P'}, {'go_id': 'GO:0034382', 'go_name': 'chylomicron remnant clearance', 'go_type': 'P'}, {'go_id': 'GO:0010989', 'go_name': 'negative regulation of low-density lipoprotein particle clearance', 'go_type': 'P'}, {'go_id': 'GO:0042157', 'go_name': 'lipoprotein metabolic process', 'go_type': 'P'}, {'go_id': 'GO:0062023', 'go_name': 'collagen-containing extracellular matrix', 'go_type': 'C'}, {'go_id': 'GO:0010987', 'go_name': 'negative regulation of high-density lipoprotein particle clearance', 'go_type': 'P'}, {'go_id': 'GO:0045717', 'go_name': 'negative regulation of fatty acid biosynthetic process', 'go_type': 'P'}, {'go_id': 'GO:0005515', 'go_name': 'protein binding', 'go_type': 'F'}, {'go_id': 'GO:0010903', 'go_name': 'negative regulation of very-low-density lipoprotein particle remodeling', 'go_type': 'P'}, {'go_id': 'GO:0019433', 'go_name': 'triglyceride catabolic process', 'go_type': 'P'}, {'go_id': 'GO:0070062', 'go_name': 'extracellular exosome', 'go_type': 'C'}, {'go_id': 'GO:0033700', 'go_name': 'phospholipid efflux', 'go_type': 'P'}, {'go_id': 'GO:0034375', 'go_name': 'high-density lipoprotein particle remodeling', 'go_type': 'P'}, {'go_id': 'GO:0042632', 'go_name': 'cholesterol homeostasis', 'go_type': 'P'}, {'go_id': 'GO:0033344', 'go_name': 'cholesterol efflux', 'go_type': 'P'}, {'go_id': 'GO:0015485', 'go_name': 'cholesterol binding', 'go_type': 'F'}, {'go_id': 'GO:0048261', 'go_name': 'negative regulation of receptor-mediated endocytosis', 'go_type': 'P'}, {'go_id': 'GO:0006641', 'go_name': 'triglyceride metabolic process', 'go_type': 'P'}]",
         "[{'chembl_id': 'CHEMBL:CHEMBL3544989', 'drugbank_id': None, 'compound_cid': None, 'compound_name': 'VOLANESORSEN SODIUM', 'clincal_trial_phase': 4.0, 'is_approved': True, 'relation': 'activates', 'adverse_effect_count': 0.0, 'adverse_effect': nan}, {'chembl_id': 'CHEMBL:CHEMBL3544994', 'drugbank_id': None, 'compound_cid': None, 'compound_name': 'VOLANESORSEN', 'clincal_trial_phase': 4.0, 'is_approved': True, 'relation': 'activates', 'adverse_effect_count': 0.0, 'adverse_effect': nan}, {'chembl_id': 'CHEMBL:CHEMBL4650438', 'drugbank_id': None, 'compound_cid': None, 'compound_name': 'OLEZARSEN', 'clincal_trial_phase': 3.0, 'is_approved': False, 'relation': 'activates', 'adverse_effect_count': 0.0, 'adverse_effect': nan}]",
         "[{'disease_name': 'Coronary Disease', 'HPO': None, 'NCI': None, 'OMIM': None, 'MONDO': 'MONDO:0005010', 'ORDO': None, 'EFO': 'EFO:0001645', 'DO': 'DOID:3393', 'MESH': 'MESH:D003327', 'UMLS': 'UMLS:C0010068', 'disease_type': 'disease', 'disease_umlscui': 'C0010068', 'score': 0.9999999999999999, 'ei': 0.8653846153846154, 'el': None}, {'disease_name': 'Arterioscleroses, Coronary', 'HPO': 'HPO:HP:0001677', 'NCI': 'NCI:C35505', 'OMIM': None, 'MONDO': 'MONDO:0005010, MONDO:0021661', 'ORDO': None, 'EFO': 'EFO:0001645', 'DO': 'DOID:13739, DOID:3393', 'MESH': 'MESH:D003324', 'UMLS': 'UMLS:C0010054', 'disease_type': 'disease', 'disease_umlscui': 'C0010054', 'score': 0.8500000000000001, 'ei': 0.9047619047619048, 'el': None}, {'disease_name': 'Cardiovascular Disease', 'HPO': 'HPO:HP:0001626', 'NCI': 'NCI:C2931', 'OMIM': None, 'MONDO': 'MONDO:0004995', 'ORDO': None, 'EFO': 'EFO:0000319', 'DO': 'DOID:114, DOID:1287', 'MESH': 'MESH:D002318', 'UMLS': 'UMLS:C0007222', 'disease_type': 'disease', 'disease_umlscui': 'C0007222', 'score': 0.85, 'ei': 0.9701492537313433, 'el': None}, {'disease_name': 'Diabetes Mellitus, Insulin-Dependent', 'HPO': 'HPO:HP:0100651', 'NCI': 'NCI:C2986', 'OMIM': 'MIM:222100', 'MONDO': 'MONDO:0010862, MONDO:0010863, MONDO:0010864, MONDO:0010950, MONDO:0011016, MONDO:0011033, MONDO:0011068, MONDO:0011123, MONDO:0011167, MONDO:0011168, MONDO:0011302, MONDO:0011572, MONDO:0012422, MONDO:0005147, MONDO:0007454, MONDO:0012919, MONDO:0012920, MONDO:0012921, MONDO:0012961, MONDO:0013078, MONDO:0010861', 'ORDO': 'ORDO:243377', 'EFO': None, 'DO': 'DOID:0110741, DOID:0110742, DOID:0110743, DOID:0110744, DOID:0110745, DOID:0110746, DOID:0110747, DOID:0110749, DOID:0110750, DOID:0110751, DOID:0110752, DOID:0110753, DOID:0110754, DOID:0110755, DOID:0110756, DOID:0110757, DOID:0110758, DOID:0110759, DOID:0110760, DOID:0110761, DOID:9744', 'MESH': 'MESH:D003922', 'UMLS': 'UMLS:C0011854', 'disease_type': 'disease', 'disease_umlscui': 'C0011854', 'score': 0.8, 'ei': 1.0, 'el': None}, {'disease_name': 'Disease, Ischemic Heart', 'HPO': None, 'NCI': 'NCI:C50625', 'OMIM': None, 'MONDO': 'MONDO:0005010, MONDO:0024644', 'ORDO': None, 'EFO': 'EFO:0001645, EFO:1001375', 'DO': 'DOID:3393', 'MESH': 'MESH:D017202', 'UMLS': 'UMLS:C0151744', 'disease_type': 'disease', 'disease_umlscui': 'C0151744', 'score': 0.75, 'ei': 1.0, 'el': None}, {'disease_name': 'Glucose Intolerance', 'HPO': 'HPO:HP:0001952', 'NCI': 'NCI:C34646', 'OMIM': None, 'MONDO': 'MONDO:0001076', 'ORDO': None, 'EFO': None, 'DO': 'DOID:11716, DOID:10603', 'MESH': 'MESH:D018149', 'UMLS': 'UMLS:C0271650', 'disease_type': 'disease', 'disease_umlscui': 'C0271650', 'score': 0.75, 'ei': 0.6666666666666666, 'el': None}, {'disease_name': 'HALP2', 'HPO': None, 'NCI': None, 'OMIM': 'MIM:614028, MIM:107720', 'MONDO': 'MONDO:0013534', 'ORDO': None, 'EFO': None, 'DO': 'DOID:0111370', 'MESH': 'MESH:C566270', 'UMLS': 'UMLS:C3151467', 'disease_type': 'disease', 'disease_umlscui': 'C3151467', 'score': 0.7, 'ei': 1.0, 'el': None}, {'disease_name': 'Liver cell carcinoma', 'HPO': 'HPO:HP:0001402', 'NCI': 'NCI:C3099', 'OMIM': 'MIM:114550', 'MONDO': 'MONDO:0007256', 'ORDO': 'ORDO:88673', 'EFO': 'EFO:0000182, EFO:0000762, EFO:1000256', 'DO': 'DOID:3571, DOID:684', 'MESH': 'MESH:D006528', 'UMLS': 'UMLS:C2239176', 'disease_type': 'disease', 'disease_umlscui': 'C2239176', 'score': 0.7, 'ei': 0.8, 'el': None}, {'disease_name': 'Combined Hyperlipidemia, Familial', 'HPO': 'HPO:HP:0008158', 'NCI': 'NCI:C35637', 'OMIM': 'MIM:144250', 'MONDO': 'MONDO:0007759', 'ORDO': None, 'EFO': None, 'DO': 'DOID:13809', 'MESH': 'MESH:D006950', 'UMLS': 'UMLS:C0020474', 'disease_type': 'disease', 'disease_umlscui': 'C0020474', 'score': 0.65, 'ei': 1.0, 'el': None}, {'disease_name': 'Kidney Failure, Chronic', 'HPO': None, 'NCI': 'NCI:C9438', 'OMIM': None, 'MONDO': 'MONDO:0004375, MONDO:0005300, MONDO:0024327', 'ORDO': None, 'EFO': 'EFO:0003884, EFO:0009909', 'DO': 'DOID:783, DOID:784', 'MESH': 'MESH:D007676', 'UMLS': 'UMLS:C0022661', 'disease_type': 'disease', 'disease_umlscui': 'C0022661', 'score': 0.65, 'ei': 1.0, 'el': None}, {'disease_name': 'Lung Neoplasm', 'HPO': 'HPO:HP:0100526', 'NCI': 'NCI:C3200', 'OMIM': None, 'MONDO': 'MONDO:0002732, MONDO:0021117', 'ORDO': None, 'EFO': None, 'DO': 'DOID:3683', 'MESH': 'MESH:D008175', 'UMLS': 'UMLS:C0024121', 'disease_type': 'disease', 'disease_umlscui': 'C0024121', 'score': 0.65, 'ei': 1.0, 'el': None}, {'disease_name': 'Hyperlipoproteinemia', 'HPO': 'HPO:HP:0010980', 'NCI': 'NCI:C34709', 'OMIM': None, 'MONDO': 'MONDO:0001336, MONDO:0037748', 'ORDO': None, 'EFO': None, 'DO': 'DOID:1168', 'MESH': 'MESH:D006951', 'UMLS': 'UMLS:C0020476', 'disease_type': 'disease', 'disease_umlscui': 'C0020476', 'score': 0.6, 'ei': 1.0, 'el': None}, {'disease_name': 'Hyperlipoproteinemia Type III', 'HPO': None, 'NCI': 'NCI:C34710', 'OMIM': 'MIM:617347', 'MONDO': 'MONDO:0018473', 'ORDO': 'ORDO:412', 'EFO': 'EFO:0001645', 'DO': 'DOID:3145', 'MESH': 'MESH:D006952', 'UMLS': 'UMLS:C0020479', 'disease_type': 'disease', 'disease_umlscui': 'C0020479', 'score': 0.55, 'ei': 1.0, 'el': None}, {'disease_name': 'Chronic ischemic heart disease', 'HPO': None, 'NCI': None, 'OMIM': None, 'MONDO': 'MONDO:0005010', 'ORDO': None, 'EFO': 'EFO:0001645', 'DO': 'DOID:3393', 'MESH': None, 'UMLS': 'UMLS:C0264694', 'disease_type': 'disease', 'disease_umlscui': 'C0264694', 'score': 0.5, 'ei': 1.0, 'el': None}, {'disease_name': 'Essential Hypercholesterolemia', 'HPO': None, 'NCI': 'NCI:C34704', 'OMIM': None, 'MONDO': 'MONDO:0005439', 'ORDO': None, 'EFO': 'EFO:0004911', 'DO': 'DOID:13810', 'MESH': 'MESH:D006938', 'UMLS': 'UMLS:C0020445', 'disease_type': 'disease', 'disease_umlscui': 'C0020445', 'score': 0.5, 'ei': 1.0, 'el': None}, {'disease_name': 'Disorders, Organic Mental', 'HPO': None, 'NCI': 'NCI:C34870', 'OMIM': None, 'MONDO': 'MONDO:0002039', 'ORDO': None, 'EFO': None, 'DO': 'DOID:1561', 'MESH': 'MESH:D019965', 'UMLS': 'UMLS:C0029227', 'disease_type': 'disease', 'disease_umlscui': 'C0029227', 'score': 0.45, 'ei': 1.0, 'el': None}, {'disease_name': 'Celiac Disease', 'HPO': 'HPO:HP:0002608', 'NCI': 'NCI:C26714', 'OMIM': None, 'MONDO': 'MONDO:0005130', 'ORDO': 'ORDO:555', 'EFO': 'EFO:0001060, EFO:0009266', 'DO': 'DOID:10608', 'MESH': 'MESH:D002446', 'UMLS': 'UMLS:C0007570', 'disease_type': 'disease', 'disease_umlscui': 'C0007570', 'score': 0.4, 'ei': 1.0, 'el': None}, {'disease_name': 'Drug Eruptions', 'HPO': None, 'NCI': 'NCI:C114280', 'OMIM': None, 'MONDO': None, 'ORDO': None, 'EFO': None, 'DO': None, 'MESH': 'MESH:D003875', 'UMLS': 'UMLS:C0011609', 'disease_type': 'phenotype', 'disease_umlscui': 'C0011609', 'score': 0.4, 'ei': 1.0, 'el': None}, {'disease_name': 'MYOCARDIAL INFARCTION, SUSCEPTIBILITY TO', 'HPO': None, 'NCI': None, 'OMIM': 'MIM:608446, MIM:150571, MIM:153440, MIM:173470, MIM:602601, MIM:106180, MIM:606857, MIM:602855, MIM:601176, MIM:611082, MIM:133430', 'MONDO': 'MONDO:0012039', 'ORDO': None, 'EFO': 'EFO:0000612', 'DO': None, 'MESH': None, 'UMLS': 'UMLS:C1832662', 'disease_type': 'phenotype', 'disease_umlscui': 'C1832662', 'score': 0.4, 'ei': nan, 'el': None}]"
        ],
        [
         "5",
         "ENSMUSG00000004035",
         "Ensembl",
         "ENSMUSG00000004035",
         "Ensembl",
         "[{'pathway_id': 'WP:WP4466', 'pathway_label': 'Oxidative stress and redox pathway', 'pathway_gene_count': 92.0}, {'pathway_id': 'WP:WP1251', 'pathway_label': 'Metapathway biotransformation', 'pathway_gene_count': 143.0}, {'pathway_id': 'WP:WP164', 'pathway_label': 'Glutathione metabolism', 'pathway_gene_count': 19.0}]",
         "[{'stringdb_link_to': nan, 'Ensembl': nan, 'score': nan, 'Uniprot-TrEMBL': None, 'Uniprot-TrEMBL_link': None}]",
         "[{'homolog': 'ENSG00000213366'}]",
         "[{'pathway_id': 'path:mmu00480', 'pathway_label': 'Glutathione metabolism - Mus musculus (house mouse)', 'gene_count': 72, 'compounds': [{'KEGG_identifier': 'C00005'}, {'KEGG_identifier': 'C00006'}, {'KEGG_identifier': 'C00024'}, {'KEGG_identifier': 'C00025'}, {'KEGG_identifier': 'C00037'}, {'KEGG_identifier': 'C00051'}, {'KEGG_identifier': 'C00072'}, {'KEGG_identifier': 'C00077'}, {'KEGG_identifier': 'C00097'}, {'KEGG_identifier': 'C00127'}, {'KEGG_identifier': 'C00134'}, {'KEGG_identifier': 'C00151'}, {'KEGG_identifier': 'C00315'}, {'KEGG_identifier': 'C00669'}, {'KEGG_identifier': 'C00750'}, {'KEGG_identifier': 'C01322'}, {'KEGG_identifier': 'C01419'}, {'KEGG_identifier': 'C01672'}, {'KEGG_identifier': 'C01879'}, {'KEGG_identifier': 'C02090'}, {'KEGG_identifier': 'C02320'}, {'KEGG_identifier': 'C03170'}, {'KEGG_identifier': 'C03646'}, {'KEGG_identifier': 'C03740'}, {'KEGG_identifier': 'C05422'}, {'KEGG_identifier': 'C05726'}, {'KEGG_identifier': 'C05727'}, {'KEGG_identifier': 'C05729'}, {'KEGG_identifier': 'C05730'}, {'KEGG_identifier': 'C16562'}, {'KEGG_identifier': 'C16563'}, {'KEGG_identifier': 'C16564'}, {'KEGG_identifier': 'C16565'}, {'KEGG_identifier': 'C16566'}, {'KEGG_identifier': 'C16567'}, {'KEGG_identifier': 'C16568'}, {'KEGG_identifier': 'C16663'}, {'KEGG_identifier': 'C16664'}]}, {'pathway_id': 'path:mmu00980', 'pathway_label': 'Metabolism of xenobiotics by cytochrome P450 - Mus musculus (house mouse)', 'gene_count': 75, 'compounds': [{'KEGG_identifier': 'C00745'}, {'KEGG_identifier': 'C00829'}, {'KEGG_identifier': 'C02617'}, {'KEGG_identifier': 'C03012'}, {'KEGG_identifier': 'C06205'}, {'KEGG_identifier': 'C06755'}, {'KEGG_identifier': 'C06790'}, {'KEGG_identifier': 'C06800'}, {'KEGG_identifier': 'C06899'}, {'KEGG_identifier': 'C07490'}, {'KEGG_identifier': 'C07535'}, {'KEGG_identifier': 'C11036'}, {'KEGG_identifier': 'C11088'}, {'KEGG_identifier': 'C11148'}, {'KEGG_identifier': 'C11149'}, {'KEGG_identifier': 'C11150'}, {'KEGG_identifier': 'C11278'}, {'KEGG_identifier': 'C11713'}, {'KEGG_identifier': 'C11714'}, {'KEGG_identifier': 'C14039'}, {'KEGG_identifier': 'C14040'}, {'KEGG_identifier': 'C14453'}, {'KEGG_identifier': 'C14556'}, {'KEGG_identifier': 'C14783'}, {'KEGG_identifier': 'C14784'}, {'KEGG_identifier': 'C14785'}, {'KEGG_identifier': 'C14786'}, {'KEGG_identifier': 'C14787'}, {'KEGG_identifier': 'C14788'}, {'KEGG_identifier': 'C14789'}, {'KEGG_identifier': 'C14790'}, {'KEGG_identifier': 'C14791'}, {'KEGG_identifier': 'C14792'}, {'KEGG_identifier': 'C14793'}, {'KEGG_identifier': 'C14796'}, {'KEGG_identifier': 'C14797'}, {'KEGG_identifier': 'C14798'}, {'KEGG_identifier': 'C14799'}, {'KEGG_identifier': 'C14800'}, {'KEGG_identifier': 'C14801'}, {'KEGG_identifier': 'C14802'}, {'KEGG_identifier': 'C14803'}, {'KEGG_identifier': 'C14804'}, {'KEGG_identifier': 'C14805'}, {'KEGG_identifier': 'C14806'}, {'KEGG_identifier': 'C14839'}, {'KEGG_identifier': 'C14840'}, {'KEGG_identifier': 'C14841'}, {'KEGG_identifier': 'C14842'}, {'KEGG_identifier': 'C14843'}, {'KEGG_identifier': 'C14844'}, {'KEGG_identifier': 'C14845'}, {'KEGG_identifier': 'C14846'}, {'KEGG_identifier': 'C14847'}, {'KEGG_identifier': 'C14848'}, {'KEGG_identifier': 'C14849'}, {'KEGG_identifier': 'C14850'}, {'KEGG_identifier': 'C14851'}, {'KEGG_identifier': 'C14852'}, {'KEGG_identifier': 'C14853'}, {'KEGG_identifier': 'C14854'}, {'KEGG_identifier': 'C14855'}, {'KEGG_identifier': 'C14856'}, {'KEGG_identifier': 'C14857'}, {'KEGG_identifier': 'C14858'}, {'KEGG_identifier': 'C14859'}, {'KEGG_identifier': 'C14860'}, {'KEGG_identifier': 'C14861'}, {'KEGG_identifier': 'C14862'}, {'KEGG_identifier': 'C14863'}, {'KEGG_identifier': 'C14864'}, {'KEGG_identifier': 'C14865'}, {'KEGG_identifier': 'C14866'}, {'KEGG_identifier': 'C14867'}, {'KEGG_identifier': 'C14868'}, {'KEGG_identifier': 'C14869'}, {'KEGG_identifier': 'C14870'}, {'KEGG_identifier': 'C14871'}, {'KEGG_identifier': 'C14872'}, {'KEGG_identifier': 'C14873'}, {'KEGG_identifier': 'C14874'}, {'KEGG_identifier': 'C14875'}, {'KEGG_identifier': 'C14876'}, {'KEGG_identifier': 'C14877'}, {'KEGG_identifier': 'C16453'}, {'KEGG_identifier': 'C16756'}, {'KEGG_identifier': 'C19488'}, {'KEGG_identifier': 'C19489'}, {'KEGG_identifier': 'C19490'}, {'KEGG_identifier': 'C19559'}, {'KEGG_identifier': 'C19561'}, {'KEGG_identifier': 'C19562'}, {'KEGG_identifier': 'C19563'}, {'KEGG_identifier': 'C19564'}, {'KEGG_identifier': 'C19565'}, {'KEGG_identifier': 'C19566'}, {'KEGG_identifier': 'C19567'}, {'KEGG_identifier': 'C19568'}, {'KEGG_identifier': 'C19569'}, {'KEGG_identifier': 'C19574'}, {'KEGG_identifier': 'C19577'}, {'KEGG_identifier': 'C19578'}, {'KEGG_identifier': 'C19579'}, {'KEGG_identifier': 'C19580'}, {'KEGG_identifier': 'C19581'}, {'KEGG_identifier': 'C19582'}, {'KEGG_identifier': 'C19585'}, {'KEGG_identifier': 'C19586'}, {'KEGG_identifier': 'C19588'}, {'KEGG_identifier': 'C19589'}, {'KEGG_identifier': 'C19590'}, {'KEGG_identifier': 'C19591'}, {'KEGG_identifier': 'C19592'}, {'KEGG_identifier': 'C19594'}, {'KEGG_identifier': 'C19595'}, {'KEGG_identifier': 'C19602'}, {'KEGG_identifier': 'C19603'}, {'KEGG_identifier': 'C19604'}, {'KEGG_identifier': 'C19605'}, {'KEGG_identifier': 'C19606'}, {'KEGG_identifier': 'C19607'}]}, {'pathway_id': 'path:mmu00982', 'pathway_label': 'Drug metabolism - cytochrome P450 - Mus musculus (house mouse)', 'gene_count': 71, 'compounds': [{'KEGG_identifier': 'C01471'}, {'KEGG_identifier': 'C01516'}, {'KEGG_identifier': 'C05011'}, {'KEGG_identifier': 'C06174'}, {'KEGG_identifier': 'C06754'}, {'KEGG_identifier': 'C06868'}, {'KEGG_identifier': 'C07047'}, {'KEGG_identifier': 'C07073'}, {'KEGG_identifier': 'C07108'}, {'KEGG_identifier': 'C07163'}, {'KEGG_identifier': 'C07185'}, {'KEGG_identifier': 'C07492'}, {'KEGG_identifier': 'C07493'}, {'KEGG_identifier': 'C07495'}, {'KEGG_identifier': 'C07496'}, {'KEGG_identifier': 'C07501'}, {'KEGG_identifier': 'C07572'}, {'KEGG_identifier': 'C07643'}, {'KEGG_identifier': 'C07644'}, {'KEGG_identifier': 'C07645'}, {'KEGG_identifier': 'C07646'}, {'KEGG_identifier': 'C07647'}, {'KEGG_identifier': 'C07888'}, {'KEGG_identifier': 'C08012'}, {'KEGG_identifier': 'C11004'}, {'KEGG_identifier': 'C11583'}, {'KEGG_identifier': 'C11785'}, {'KEGG_identifier': 'C16544'}, {'KEGG_identifier': 'C16545'}, {'KEGG_identifier': 'C16546'}, {'KEGG_identifier': 'C16547'}, {'KEGG_identifier': 'C16548'}, {'KEGG_identifier': 'C16549'}, {'KEGG_identifier': 'C16550'}, {'KEGG_identifier': 'C16551'}, {'KEGG_identifier': 'C16552'}, {'KEGG_identifier': 'C16553'}, {'KEGG_identifier': 'C16554'}, {'KEGG_identifier': 'C16555'}, {'KEGG_identifier': 'C16556'}, {'KEGG_identifier': 'C16557'}, {'KEGG_identifier': 'C16558'}, {'KEGG_identifier': 'C16559'}, {'KEGG_identifier': 'C16560'}, {'KEGG_identifier': 'C16561'}, {'KEGG_identifier': 'C16569'}, {'KEGG_identifier': 'C16570'}, {'KEGG_identifier': 'C16571'}, {'KEGG_identifier': 'C16572'}, {'KEGG_identifier': 'C16576'}, {'KEGG_identifier': 'C16577'}, {'KEGG_identifier': 'C16578'}, {'KEGG_identifier': 'C16582'}, {'KEGG_identifier': 'C16584'}, {'KEGG_identifier': 'C16586'}, {'KEGG_identifier': 'C16587'}, {'KEGG_identifier': 'C16591'}, {'KEGG_identifier': 'C16592'}, {'KEGG_identifier': 'C16595'}, {'KEGG_identifier': 'C16596'}, {'KEGG_identifier': 'C16601'}, {'KEGG_identifier': 'C16602'}, {'KEGG_identifier': 'C16603'}, {'KEGG_identifier': 'C16604'}, {'KEGG_identifier': 'C16605'}, {'KEGG_identifier': 'C16606'}, {'KEGG_identifier': 'C16607'}, {'KEGG_identifier': 'C16608'}, {'KEGG_identifier': 'C16609'}, {'KEGG_identifier': 'C16610'}, {'KEGG_identifier': 'C16612'}, {'KEGG_identifier': 'C16643'}, {'KEGG_identifier': 'C16648'}, {'KEGG_identifier': 'C16649'}, {'KEGG_identifier': 'C16650'}, {'KEGG_identifier': 'C16651'}, {'KEGG_identifier': 'C16652'}, {'KEGG_identifier': 'C16653'}, {'KEGG_identifier': 'C16654'}, {'KEGG_identifier': 'C16655'}, {'KEGG_identifier': 'C16656'}, {'KEGG_identifier': 'C16657'}, {'KEGG_identifier': 'C16658'}, {'KEGG_identifier': 'C16659'}, {'KEGG_identifier': 'C16660'}, {'KEGG_identifier': 'C16661'}, {'KEGG_identifier': 'C16662'}]}, {'pathway_id': 'path:mmu00983', 'pathway_label': 'Drug metabolism - other enzymes - Mus musculus (house mouse)', 'gene_count': 94, 'compounds': [{'KEGG_identifier': 'C00003'}, {'KEGG_identifier': 'C00006'}, {'KEGG_identifier': 'C02320'}, {'KEGG_identifier': 'C02380'}, {'KEGG_identifier': 'C04242'}, {'KEGG_identifier': 'C04646'}, {'KEGG_identifier': 'C05361'}, {'KEGG_identifier': 'C06108'}, {'KEGG_identifier': 'C06837'}, {'KEGG_identifier': 'C07054'}, {'KEGG_identifier': 'C07446'}, {'KEGG_identifier': 'C07447'}, {'KEGG_identifier': 'C07585'}, {'KEGG_identifier': 'C07648'}, {'KEGG_identifier': 'C07649'}, {'KEGG_identifier': 'C11173'}, {'KEGG_identifier': 'C11376'}, {'KEGG_identifier': 'C11736'}, {'KEGG_identifier': 'C12650'}, {'KEGG_identifier': 'C12673'}, {'KEGG_identifier': 'C12739'}, {'KEGG_identifier': 'C13252'}, {'KEGG_identifier': 'C16542'}, {'KEGG_identifier': 'C16543'}, {'KEGG_identifier': 'C16613'}, {'KEGG_identifier': 'C16614'}, {'KEGG_identifier': 'C16615'}, {'KEGG_identifier': 'C16616'}, {'KEGG_identifier': 'C16617'}, {'KEGG_identifier': 'C16618'}, {'KEGG_identifier': 'C16619'}, {'KEGG_identifier': 'C16620'}, {'KEGG_identifier': 'C16621'}, {'KEGG_identifier': 'C16622'}, {'KEGG_identifier': 'C16623'}, {'KEGG_identifier': 'C16624'}, {'KEGG_identifier': 'C16625'}, {'KEGG_identifier': 'C16630'}, {'KEGG_identifier': 'C16631'}, {'KEGG_identifier': 'C16632'}, {'KEGG_identifier': 'C16633'}, {'KEGG_identifier': 'C16634'}, {'KEGG_identifier': 'C16635'}, {'KEGG_identifier': 'C16641'}, {'KEGG_identifier': 'C21748'}, {'KEGG_identifier': 'C21749'}, {'KEGG_identifier': 'C21750'}, {'KEGG_identifier': 'C21751'}, {'KEGG_identifier': 'C21754'}, {'KEGG_identifier': 'C21758'}, {'KEGG_identifier': 'C21759'}, {'KEGG_identifier': 'C21760'}]}, {'pathway_id': 'path:mmu01100', 'pathway_label': 'Metabolic pathways - Mus musculus (house mouse)', 'gene_count': 0, 'compounds': [{'KEGG_identifier': None}]}, {'pathway_id': 'path:mmu01524', 'pathway_label': 'Platinum drug resistance - Mus musculus (house mouse)', 'gene_count': 0, 'compounds': [{'KEGG_identifier': None}]}, {'pathway_id': 'path:mmu05200', 'pathway_label': 'Pathways in cancer - Mus musculus (house mouse)', 'gene_count': 547, 'compounds': [{'KEGG_identifier': 'C00027'}, {'KEGG_identifier': 'C00039'}, {'KEGG_identifier': 'C00076'}, {'KEGG_identifier': 'C00122'}, {'KEGG_identifier': 'C00149'}, {'KEGG_identifier': 'C00165'}, {'KEGG_identifier': 'C00187'}, {'KEGG_identifier': 'C00280'}, {'KEGG_identifier': 'C00410'}, {'KEGG_identifier': 'C00416'}, {'KEGG_identifier': 'C00533'}, {'KEGG_identifier': 'C00535'}, {'KEGG_identifier': 'C00575'}, {'KEGG_identifier': 'C00584'}, {'KEGG_identifier': 'C00681'}, {'KEGG_identifier': 'C00704'}, {'KEGG_identifier': 'C00735'}, {'KEGG_identifier': 'C00762'}, {'KEGG_identifier': 'C00777'}, {'KEGG_identifier': 'C00951'}, {'KEGG_identifier': 'C01227'}, {'KEGG_identifier': 'C01245'}, {'KEGG_identifier': 'C01471'}, {'KEGG_identifier': 'C03917'}, {'KEGG_identifier': 'C05981'}, {'KEGG_identifier': 'C07653'}, {'KEGG_identifier': 'C15493'}, {'KEGG_identifier': 'C16038'}, {'KEGG_identifier': 'C16844'}, {'KEGG_identifier': 'C21641'}, {'KEGG_identifier': 'C21642'}]}, {'pathway_id': 'path:mmu05204', 'pathway_label': 'Chemical carcinogenesis - DNA adducts - Mus musculus (house mouse)', 'gene_count': 89, 'compounds': [{'KEGG_identifier': 'C00027'}, {'KEGG_identifier': 'C03012'}, {'KEGG_identifier': 'C03621'}, {'KEGG_identifier': 'C03622'}, {'KEGG_identifier': 'C06268'}, {'KEGG_identifier': 'C06547'}, {'KEGG_identifier': 'C06548'}, {'KEGG_identifier': 'C06752'}, {'KEGG_identifier': 'C06754'}, {'KEGG_identifier': 'C06793'}, {'KEGG_identifier': 'C06800'}, {'KEGG_identifier': 'C07122'}, {'KEGG_identifier': 'C07535'}, {'KEGG_identifier': 'C07641'}, {'KEGG_identifier': 'C10998'}, {'KEGG_identifier': 'C14556'}, {'KEGG_identifier': 'C14704'}, {'KEGG_identifier': 'C14783'}, {'KEGG_identifier': 'C14849'}, {'KEGG_identifier': 'C14850'}, {'KEGG_identifier': 'C14851'}, {'KEGG_identifier': 'C14852'}, {'KEGG_identifier': 'C14853'}, {'KEGG_identifier': 'C14854'}, {'KEGG_identifier': 'C14855'}, {'KEGG_identifier': 'C14856'}, {'KEGG_identifier': 'C14874'}, {'KEGG_identifier': 'C16038'}, {'KEGG_identifier': 'C16453'}, {'KEGG_identifier': 'C16844'}, {'KEGG_identifier': 'C19164'}, {'KEGG_identifier': 'C19180'}, {'KEGG_identifier': 'C19255'}, {'KEGG_identifier': 'C19488'}, {'KEGG_identifier': 'C19489'}, {'KEGG_identifier': 'C19490'}, {'KEGG_identifier': 'C19525'}, {'KEGG_identifier': 'C19559'}, {'KEGG_identifier': 'C19561'}, {'KEGG_identifier': 'C19562'}, {'KEGG_identifier': 'C19563'}, {'KEGG_identifier': 'C19564'}, {'KEGG_identifier': 'C19565'}, {'KEGG_identifier': 'C19566'}, {'KEGG_identifier': 'C19567'}, {'KEGG_identifier': 'C19568'}, {'KEGG_identifier': 'C19569'}, {'KEGG_identifier': 'C19574'}, {'KEGG_identifier': 'C19577'}, {'KEGG_identifier': 'C19578'}, {'KEGG_identifier': 'C19579'}, {'KEGG_identifier': 'C19580'}, {'KEGG_identifier': 'C19581'}, {'KEGG_identifier': 'C19582'}, {'KEGG_identifier': 'C19586'}, {'KEGG_identifier': 'C19602'}, {'KEGG_identifier': 'C19603'}, {'KEGG_identifier': 'C19605'}, {'KEGG_identifier': 'C19606'}, {'KEGG_identifier': 'C20280'}, {'KEGG_identifier': 'C20281'}, {'KEGG_identifier': 'C20282'}, {'KEGG_identifier': 'C20283'}, {'KEGG_identifier': 'C20284'}, {'KEGG_identifier': 'C20285'}, {'KEGG_identifier': 'C20286'}, {'KEGG_identifier': 'C20287'}, {'KEGG_identifier': 'C20288'}, {'KEGG_identifier': 'C20289'}, {'KEGG_identifier': 'C20290'}, {'KEGG_identifier': 'C20291'}, {'KEGG_identifier': 'C20293'}, {'KEGG_identifier': 'C20301'}, {'KEGG_identifier': 'C20302'}, {'KEGG_identifier': 'C20303'}, {'KEGG_identifier': 'C20304'}, {'KEGG_identifier': 'C20305'}, {'KEGG_identifier': 'C20306'}]}, {'pathway_id': 'path:mmu05207', 'pathway_label': 'Chemical carcinogenesis - receptor activation - Mus musculus (house mouse)', 'gene_count': 227, 'compounds': [{'KEGG_identifier': 'C00076'}, {'KEGG_identifier': 'C00410'}, {'KEGG_identifier': 'C00547'}, {'KEGG_identifier': 'C00575'}, {'KEGG_identifier': 'C00745'}, {'KEGG_identifier': 'C00780'}, {'KEGG_identifier': 'C00788'}, {'KEGG_identifier': 'C00951'}, {'KEGG_identifier': 'C03690'}, {'KEGG_identifier': 'C04623'}, {'KEGG_identifier': 'C05981'}, {'KEGG_identifier': 'C06697'}, {'KEGG_identifier': 'C06790'}, {'KEGG_identifier': 'C06916'}, {'KEGG_identifier': 'C07020'}, {'KEGG_identifier': 'C07434'}, {'KEGG_identifier': 'C07535'}, {'KEGG_identifier': 'C07557'}, {'KEGG_identifier': 'C08150'}, {'KEGG_identifier': 'C11042'}, {'KEGG_identifier': 'C11150'}, {'KEGG_identifier': 'C11371'}, {'KEGG_identifier': 'C11906'}, {'KEGG_identifier': 'C13624'}, {'KEGG_identifier': 'C14240'}, {'KEGG_identifier': 'C14573'}, {'KEGG_identifier': 'C15995'}, {'KEGG_identifier': 'C16452'}, {'KEGG_identifier': 'C16453'}]}, {'pathway_id': 'path:mmu05208', 'pathway_label': 'Chemical carcinogenesis - reactive oxygen species - Mus musculus (house mouse)', 'gene_count': 228, 'compounds': [{'KEGG_identifier': 'C00001'}, {'KEGG_identifier': 'C00003'}, {'KEGG_identifier': 'C00005'}, {'KEGG_identifier': 'C00006'}, {'KEGG_identifier': 'C00007'}, {'KEGG_identifier': 'C00019'}, {'KEGG_identifier': 'C00021'}, {'KEGG_identifier': 'C00023'}, {'KEGG_identifier': 'C00027'}, {'KEGG_identifier': 'C00051'}, {'KEGG_identifier': 'C00070'}, {'KEGG_identifier': 'C00084'}, {'KEGG_identifier': 'C00127'}, {'KEGG_identifier': 'C00146'}, {'KEGG_identifier': 'C00291'}, {'KEGG_identifier': 'C00469'}, {'KEGG_identifier': 'C00472'}, {'KEGG_identifier': 'C00530'}, {'KEGG_identifier': 'C00704'}, {'KEGG_identifier': 'C00951'}, {'KEGG_identifier': 'C01407'}, {'KEGG_identifier': 'C01413'}, {'KEGG_identifier': 'C01782'}, {'KEGG_identifier': 'C02389'}, {'KEGG_identifier': 'C02575'}, {'KEGG_identifier': 'C02814'}, {'KEGG_identifier': 'C03434'}, {'KEGG_identifier': 'C03622'}, {'KEGG_identifier': 'C04623'}, {'KEGG_identifier': 'C05301'}, {'KEGG_identifier': 'C05309'}, {'KEGG_identifier': 'C05981'}, {'KEGG_identifier': 'C06268'}, {'KEGG_identifier': 'C06269'}, {'KEGG_identifier': 'C06696'}, {'KEGG_identifier': 'C07294'}, {'KEGG_identifier': 'C07295'}, {'KEGG_identifier': 'C07308'}, {'KEGG_identifier': 'C07535'}, {'KEGG_identifier': 'C07557'}, {'KEGG_identifier': 'C10998'}, {'KEGG_identifier': 'C14209'}, {'KEGG_identifier': 'C14850'}, {'KEGG_identifier': 'C14852'}, {'KEGG_identifier': 'C16038'}, {'KEGG_identifier': 'C16453'}, {'KEGG_identifier': 'C16844'}, {'KEGG_identifier': 'C18205'}, {'KEGG_identifier': 'C18933'}, {'KEGG_identifier': 'C19171'}, {'KEGG_identifier': 'C20300'}, {'KEGG_identifier': 'C20316'}, {'KEGG_identifier': 'C20319'}, {'KEGG_identifier': 'C22355'}, {'KEGG_identifier': 'C22356'}, {'KEGG_identifier': 'C22357'}, {'KEGG_identifier': 'C22381'}]}, {'gene_count': 0, 'compounds': [{'KEGG_identifier': None}]}, {'pathway_id': 'path:mmu05225', 'pathway_label': 'Hepatocellular carcinoma - Mus musculus (house mouse)', 'gene_count': 174, 'compounds': [{'KEGG_identifier': 'C00027'}, {'KEGG_identifier': 'C00039'}, {'KEGG_identifier': 'C00076'}, {'KEGG_identifier': 'C00165'}, {'KEGG_identifier': 'C00533'}, {'KEGG_identifier': 'C00704'}, {'KEGG_identifier': 'C01245'}, {'KEGG_identifier': 'C01471'}, {'KEGG_identifier': 'C05981'}, {'KEGG_identifier': 'C06793'}, {'KEGG_identifier': 'C06800'}, {'KEGG_identifier': 'C16844'}, {'KEGG_identifier': 'C21641'}, {'KEGG_identifier': 'C21642'}]}, {'pathway_id': 'path:mmu05418', 'pathway_label': 'Fluid shear stress and atherosclerosis - Mus musculus (house mouse)', 'gene_count': 147, 'compounds': [{'KEGG_identifier': 'C00076'}, {'KEGG_identifier': 'C00272'}, {'KEGG_identifier': 'C00518'}, {'KEGG_identifier': 'C00533'}, {'KEGG_identifier': 'C00607'}, {'KEGG_identifier': 'C00704'}, {'KEGG_identifier': 'C00925'}, {'KEGG_identifier': 'C16845'}]}, {'gene_count': 0, 'compounds': [{'KEGG_identifier': None}]}]",
         "ENSG00000213366",
         "[{'pathway_label': 'Glutathione conjugation', 'pathway_id': 'Reactome:R-HSA-156590'}]",
         "[{'go_id': 'GO:0043295', 'go_name': 'glutathione binding', 'go_type': 'F'}, {'go_id': 'GO:0014809', 'go_name': 'regulation of skeletal muscle contraction by regulation of release of sequestered calcium ion', 'go_type': 'P'}, {'go_id': 'GO:0005515', 'go_name': 'protein binding', 'go_type': 'F'}, {'go_id': 'GO:0016529', 'go_name': 'sarcoplasmic reticulum', 'go_type': 'C'}, {'go_id': 'GO:0051122', 'go_name': 'hepoxilin biosynthetic process', 'go_type': 'P'}, {'go_id': 'GO:0018916', 'go_name': 'nitrobenzene metabolic process', 'go_type': 'P'}, {'go_id': 'GO:0070458', 'go_name': 'cellular detoxification of nitrogen compound', 'go_type': 'P'}, {'go_id': 'GO:0004602', 'go_name': 'glutathione peroxidase activity', 'go_type': 'F'}, {'go_id': 'GO:0006749', 'go_name': 'glutathione metabolic process', 'go_type': 'P'}, {'go_id': 'GO:0060315', 'go_name': 'negative regulation of ryanodine-sensitive calcium-release channel activity', 'go_type': 'P'}, {'go_id': 'GO:0005102', 'go_name': 'signaling receptor binding', 'go_type': 'F'}, {'go_id': 'GO:0042178', 'go_name': 'xenobiotic catabolic process', 'go_type': 'P'}, {'go_id': 'GO:0043651', 'go_name': 'linoleic acid metabolic process', 'go_type': 'P'}, {'go_id': 'GO:0019899', 'go_name': 'enzyme binding', 'go_type': 'F'}, {'go_id': 'GO:0055119', 'go_name': 'relaxation of cardiac muscle', 'go_type': 'P'}, {'go_id': 'GO:0042803', 'go_name': 'protein homodimerization activity', 'go_type': 'F'}, {'go_id': 'GO:0005829', 'go_name': 'cytosol', 'go_type': 'C'}, {'go_id': 'GO:0004364', 'go_name': 'glutathione transferase activity', 'go_type': 'F'}, {'go_id': 'GO:0070062', 'go_name': 'extracellular exosome', 'go_type': 'C'}, {'go_id': 'GO:0005737', 'go_name': 'cytoplasm', 'go_type': 'C'}, {'go_id': 'GO:0045171', 'go_name': 'intercellular bridge', 'go_type': 'C'}, {'go_id': 'GO:0010881', 'go_name': 'regulation of cardiac muscle contraction by regulation of the release of sequestered calcium ion', 'go_type': 'P'}, {'go_id': 'GO:0060316', 'go_name': 'positive regulation of ryanodine-sensitive calcium-release channel activity', 'go_type': 'P'}, {'go_id': 'GO:0071313', 'go_name': 'cellular response to caffeine', 'go_type': 'P'}, {'go_id': 'GO:0005504', 'go_name': 'fatty acid binding', 'go_type': 'F'}, {'go_id': 'GO:0010880', 'go_name': 'regulation of release of sequestered calcium ion into cytosol by sarcoplasmic reticulum', 'go_type': 'P'}, {'go_id': 'GO:0098869', 'go_name': 'cellular oxidant detoxification', 'go_type': 'P'}]",
         "[{'chembl_id': nan, 'drugbank_id': nan, 'compound_cid': nan, 'compound_name': nan, 'clincal_trial_phase': nan, 'is_approved': nan, 'relation': nan, 'adverse_effect_count': nan, 'adverse_effect': nan}]",
         "[{'disease_name': 'Carcinoma, Non Small Cell Lung', 'HPO': 'HPO:HP:0030358', 'NCI': 'NCI:C2926', 'OMIM': 'MIM:211980', 'MONDO': 'MONDO:0005233', 'ORDO': None, 'EFO': 'EFO:0003060', 'DO': 'DOID:3908', 'MESH': 'MESH:D002289', 'UMLS': 'UMLS:C0007131', 'disease_type': 'disease', 'disease_umlscui': 'C0007131', 'score': 0.65, 'ei': 1.0, 'el': None}, {'disease_name': 'Schizophrenias', 'HPO': 'HPO:HP:0100753', 'NCI': 'NCI:C3362', 'OMIM': 'MIM:181500', 'MONDO': 'MONDO:0005090', 'ORDO': None, 'EFO': None, 'DO': 'DOID:5419', 'MESH': 'MESH:D012559', 'UMLS': 'UMLS:C0036341', 'disease_type': 'disease', 'disease_umlscui': 'C0036341', 'score': 0.6000000000000001, 'ei': 0.8, 'el': None}, {'disease_name': 'Acute kidney injury', 'HPO': 'HPO:HP:0001919', 'NCI': None, 'OMIM': None, 'MONDO': 'MONDO:0002492', 'ORDO': None, 'EFO': None, 'DO': 'DOID:3021', 'MESH': 'MESH:D058186', 'UMLS': 'UMLS:C2609414', 'disease_type': 'disease', 'disease_umlscui': 'C2609414', 'score': 0.4, 'ei': 1.0, 'el': None}, {'disease_name': 'Down Syndrome', 'HPO': None, 'NCI': 'NCI:C2993', 'OMIM': 'MIM:190685', 'MONDO': 'MONDO:0008608', 'ORDO': 'ORDO:870', 'EFO': 'EFO:0001064', 'DO': 'DOID:14250', 'MESH': 'MESH:D004314', 'UMLS': 'UMLS:C0013080', 'disease_type': 'disease', 'disease_umlscui': 'C0013080', 'score': 0.4, 'ei': 1.0, 'el': None}, {'disease_name': 'Chemical and Drug Induced Liver Injury', 'HPO': None, 'NCI': None, 'OMIM': None, 'MONDO': 'MONDO:0005359', 'ORDO': None, 'EFO': 'EFO:0004228, EFO:0011052', 'DO': None, 'MESH': 'MESH:D056486', 'UMLS': 'UMLS:C4277682', 'disease_type': 'disease', 'disease_umlscui': 'C4277682', 'score': 0.4, 'ei': 1.0, 'el': None}, {'disease_name': 'Kidney Failure, Acute', 'HPO': 'HPO:HP:0001919', 'NCI': 'NCI:C26808', 'OMIM': None, 'MONDO': 'MONDO:0002492', 'ORDO': None, 'EFO': None, 'DO': 'DOID:3021', 'MESH': 'MESH:D058186', 'UMLS': 'UMLS:C0022660', 'disease_type': 'disease', 'disease_umlscui': 'C0022660', 'score': 0.4, 'ei': 1.0, 'el': None}, {'disease_name': 'Disease, Ischemic Heart', 'HPO': None, 'NCI': 'NCI:C50625', 'OMIM': None, 'MONDO': 'MONDO:0005010, MONDO:0024644', 'ORDO': None, 'EFO': 'EFO:0001645, EFO:1001375', 'DO': 'DOID:3393', 'MESH': 'MESH:D017202', 'UMLS': 'UMLS:C0151744', 'disease_type': 'disease', 'disease_umlscui': 'C0151744', 'score': 0.4, 'ei': 1.0, 'el': None}, {'disease_name': 'Degenerative disease of nervous system, unspecified', 'HPO': 'HPO:HP:0002180', 'NCI': 'NCI:C195952', 'OMIM': None, 'MONDO': 'MONDO:0005559', 'ORDO': None, 'EFO': 'EFO:0005772', 'DO': 'DOID:1289', 'MESH': 'MESH:D019636', 'UMLS': 'UMLS:C0524851', 'disease_type': 'disease', 'disease_umlscui': 'C0524851', 'score': 0.4, 'ei': 1.0, 'el': None}, {'disease_name': 'acute renal insufficiency (diagnosis)', 'HPO': None, 'NCI': None, 'OMIM': None, 'MONDO': 'MONDO:0002492', 'ORDO': None, 'EFO': None, 'DO': 'DOID:3021', 'MESH': 'MESH:D058186', 'UMLS': 'UMLS:C1565662', 'disease_type': 'disease', 'disease_umlscui': 'C1565662', 'score': 0.4, 'ei': 1.0, 'el': None}, {'disease_name': 'degenerative disorders', 'HPO': None, 'NCI': 'NCI:C27090', 'OMIM': None, 'MONDO': 'MONDO:0005559', 'ORDO': None, 'EFO': 'EFO:0005772', 'DO': 'DOID:1289', 'MESH': None, 'UMLS': 'UMLS:C1285162', 'disease_type': 'disease', 'disease_umlscui': 'C1285162', 'score': 0.4, 'ei': 1.0, 'el': None}]"
        ],
        [
         "6",
         "ENSMUSG00000072949",
         "Ensembl",
         "ENSMUSG00000072949",
         "Ensembl",
         "[{'pathway_id': 'WP:WP4346', 'pathway_label': 'Cholesterol metabolism with Bloch and Kandutsch-Russell pathways', 'pathway_gene_count': 43.0}, {'pathway_id': 'WP:WP4350', 'pathway_label': 'Omega-3 / omega-6 fatty acid synthesis', 'pathway_gene_count': 14.0}, {'pathway_id': 'WP:WP4351', 'pathway_label': 'Omega-9 fatty acid synthesis', 'pathway_gene_count': 14.0}]",
         "[{'stringdb_link_to': nan, 'Ensembl': nan, 'score': nan, 'Uniprot-TrEMBL': None, 'Uniprot-TrEMBL_link': None}]",
         "[{'homolog': 'ENSG00000184227'}]",
         "[{'pathway_id': 'path:mmu00062', 'pathway_label': 'Fatty acid elongation - Mus musculus (house mouse)', 'gene_count': 28, 'compounds': [{'KEGG_identifier': 'C00024'}, {'KEGG_identifier': 'C00040'}, {'KEGG_identifier': 'C00083'}, {'KEGG_identifier': 'C00136'}, {'KEGG_identifier': 'C00154'}, {'KEGG_identifier': 'C00162'}, {'KEGG_identifier': 'C00249'}, {'KEGG_identifier': 'C00264'}, {'KEGG_identifier': 'C00605'}, {'KEGG_identifier': 'C00638'}, {'KEGG_identifier': 'C00640'}, {'KEGG_identifier': 'C00658'}, {'KEGG_identifier': 'C01832'}, {'KEGG_identifier': 'C01944'}, {'KEGG_identifier': 'C02593'}, {'KEGG_identifier': 'C02843'}, {'KEGG_identifier': 'C03221'}, {'KEGG_identifier': 'C05258'}, {'KEGG_identifier': 'C05259'}, {'KEGG_identifier': 'C05260'}, {'KEGG_identifier': 'C05261'}, {'KEGG_identifier': 'C05262'}, {'KEGG_identifier': 'C05263'}, {'KEGG_identifier': 'C05264'}, {'KEGG_identifier': 'C05265'}, {'KEGG_identifier': 'C05266'}, {'KEGG_identifier': 'C05267'}, {'KEGG_identifier': 'C05268'}, {'KEGG_identifier': 'C05269'}, {'KEGG_identifier': 'C05270'}, {'KEGG_identifier': 'C05271'}, {'KEGG_identifier': 'C05272'}, {'KEGG_identifier': 'C05273'}, {'KEGG_identifier': 'C05274'}, {'KEGG_identifier': 'C05275'}, {'KEGG_identifier': 'C05276'}, {'KEGG_identifier': 'C20876'}, {'KEGG_identifier': 'C20877'}, {'KEGG_identifier': 'C20878'}, {'KEGG_identifier': 'C20879'}]}, {'pathway_id': 'path:mmu01040', 'pathway_label': 'Biosynthesis of unsaturated fatty acids - Mus musculus (house mouse)', 'gene_count': 33, 'compounds': [{'KEGG_identifier': 'C00154'}, {'KEGG_identifier': 'C00219'}, {'KEGG_identifier': 'C00249'}, {'KEGG_identifier': 'C00412'}, {'KEGG_identifier': 'C00510'}, {'KEGG_identifier': 'C00712'}, {'KEGG_identifier': 'C01203'}, {'KEGG_identifier': 'C01530'}, {'KEGG_identifier': 'C01595'}, {'KEGG_identifier': 'C02041'}, {'KEGG_identifier': 'C02050'}, {'KEGG_identifier': 'C02249'}, {'KEGG_identifier': 'C03035'}, {'KEGG_identifier': 'C03242'}, {'KEGG_identifier': 'C03595'}, {'KEGG_identifier': 'C04088'}, {'KEGG_identifier': 'C05764'}, {'KEGG_identifier': 'C06425'}, {'KEGG_identifier': 'C06426'}, {'KEGG_identifier': 'C06427'}, {'KEGG_identifier': 'C06428'}, {'KEGG_identifier': 'C06429'}, {'KEGG_identifier': 'C08281'}, {'KEGG_identifier': 'C08316'}, {'KEGG_identifier': 'C08320'}, {'KEGG_identifier': 'C08323'}, {'KEGG_identifier': 'C16160'}, {'KEGG_identifier': 'C16161'}, {'KEGG_identifier': 'C16162'}, {'KEGG_identifier': 'C16163'}, {'KEGG_identifier': 'C16164'}, {'KEGG_identifier': 'C16165'}, {'KEGG_identifier': 'C16166'}, {'KEGG_identifier': 'C16167'}, {'KEGG_identifier': 'C16168'}, {'KEGG_identifier': 'C16169'}, {'KEGG_identifier': 'C16170'}, {'KEGG_identifier': 'C16171'}, {'KEGG_identifier': 'C16172'}, {'KEGG_identifier': 'C16173'}, {'KEGG_identifier': 'C16179'}, {'KEGG_identifier': 'C16180'}, {'KEGG_identifier': 'C16513'}, {'KEGG_identifier': 'C16522'}, {'KEGG_identifier': 'C16525'}, {'KEGG_identifier': 'C16526'}, {'KEGG_identifier': 'C16527'}, {'KEGG_identifier': 'C16528'}, {'KEGG_identifier': 'C16529'}, {'KEGG_identifier': 'C16530'}, {'KEGG_identifier': 'C16531'}, {'KEGG_identifier': 'C16532'}, {'KEGG_identifier': 'C16533'}, {'KEGG_identifier': 'C16645'}, {'KEGG_identifier': 'C17279'}, {'KEGG_identifier': 'C21072'}, {'KEGG_identifier': 'C21932'}, {'KEGG_identifier': 'C21934'}, {'KEGG_identifier': 'C21935'}, {'KEGG_identifier': 'C21937'}, {'KEGG_identifier': 'C21939'}, {'KEGG_identifier': 'C21941'}, {'KEGG_identifier': 'C21943'}, {'KEGG_identifier': 'C21945'}, {'KEGG_identifier': 'C21947'}, {'KEGG_identifier': 'C21949'}, {'KEGG_identifier': 'C21951'}, {'KEGG_identifier': 'C21953'}, {'KEGG_identifier': 'C21959'}, {'KEGG_identifier': 'C21961'}, {'KEGG_identifier': 'C21963'}, {'KEGG_identifier': 'C21965'}, {'KEGG_identifier': 'C21967'}, {'KEGG_identifier': 'C21981'}]}, {'pathway_id': 'path:mmu01100', 'pathway_label': 'Metabolic pathways - Mus musculus (house mouse)', 'gene_count': 0, 'compounds': [{'KEGG_identifier': None}]}, {'pathway_id': 'path:mmu04913', 'pathway_label': 'Ovarian steroidogenesis - Mus musculus (house mouse)', 'gene_count': 63, 'compounds': [{'KEGG_identifier': 'C00187'}, {'KEGG_identifier': 'C00219'}, {'KEGG_identifier': 'C00280'}, {'KEGG_identifier': 'C00410'}, {'KEGG_identifier': 'C00468'}, {'KEGG_identifier': 'C00535'}, {'KEGG_identifier': 'C00575'}, {'KEGG_identifier': 'C00639'}, {'KEGG_identifier': 'C00951'}, {'KEGG_identifier': 'C01176'}, {'KEGG_identifier': 'C01227'}, {'KEGG_identifier': 'C01953'}, {'KEGG_identifier': 'C02249'}, {'KEGG_identifier': 'C02530'}, {'KEGG_identifier': 'C04295'}, {'KEGG_identifier': 'C05138'}, {'KEGG_identifier': 'C05301'}, {'KEGG_identifier': 'C05356'}, {'KEGG_identifier': 'C05966'}, {'KEGG_identifier': 'C14209'}, {'KEGG_identifier': 'C14768'}, {'KEGG_identifier': 'C14769'}, {'KEGG_identifier': 'C14770'}, {'KEGG_identifier': 'C14777'}]}, {'gene_count': 0, 'compounds': [{'KEGG_identifier': None}]}]",
         "ENSG00000184227",
         "[{'pathway_label': 'Mitochondrial Fatty Acid Beta-Oxidation', 'pathway_id': 'Reactome:R-HSA-77289'}]",
         "[{'go_id': 'GO:0052689', 'go_name': 'carboxylic ester hydrolase activity', 'go_type': 'F'}, {'go_id': 'GO:0005515', 'go_name': 'protein binding', 'go_type': 'F'}, {'go_id': 'GO:0047617', 'go_name': 'fatty acyl-CoA hydrolase activity', 'go_type': 'F'}, {'go_id': 'GO:0006631', 'go_name': 'fatty acid metabolic process', 'go_type': 'P'}, {'go_id': 'GO:0005829', 'go_name': 'cytosol', 'go_type': 'C'}, {'go_id': 'GO:0006637', 'go_name': 'acyl-CoA metabolic process', 'go_type': 'P'}, {'go_id': 'GO:0001676', 'go_name': 'long-chain fatty acid metabolic process', 'go_type': 'P'}, {'go_id': 'GO:0000038', 'go_name': 'very long-chain fatty acid metabolic process', 'go_type': 'P'}, {'go_id': 'GO:0005739', 'go_name': 'mitochondrion', 'go_type': 'C'}]",
         "[{'chembl_id': nan, 'drugbank_id': nan, 'compound_cid': nan, 'compound_name': nan, 'clincal_trial_phase': nan, 'is_approved': nan, 'relation': nan, 'adverse_effect_count': nan, 'adverse_effect': nan}]",
         "[{'disease_name': 'Hepatomegaly', 'HPO': 'HPO:HP:0002240', 'NCI': 'NCI:C3100', 'OMIM': None, 'MONDO': None, 'ORDO': None, 'EFO': None, 'DO': None, 'MESH': 'MESH:D006529', 'UMLS': 'UMLS:C0019209', 'disease_type': 'phenotype', 'disease_umlscui': 'C0019209', 'score': 0.4, 'ei': 1.0, 'el': None}, {'disease_name': 'Liver Neoplasm', 'HPO': 'HPO:HP:0002896', 'NCI': None, 'OMIM': None, 'MONDO': 'MONDO:0002691', 'ORDO': None, 'EFO': 'EFO:1001513', 'DO': 'DOID:3571, DOID:684', 'MESH': 'MESH:D008113', 'UMLS': 'UMLS:C0023903', 'disease_type': 'disease', 'disease_umlscui': 'C0023903', 'score': 0.4, 'ei': 1.0, 'el': None}, {'disease_name': 'Hypotonia, generalized', 'HPO': 'HPO:HP:0001290', 'NCI': None, 'OMIM': None, 'MONDO': None, 'ORDO': None, 'EFO': None, 'DO': None, 'MESH': None, 'UMLS': 'UMLS:C1858120', 'disease_type': 'phenotype', 'disease_umlscui': 'C1858120', 'score': 0.4, 'ei': nan, 'el': None}]"
        ],
        [
         "7",
         "ENSMUSG00000028970",
         "Ensembl",
         "ENSMUSG00000028970",
         "Ensembl",
         "[{'pathway_id': nan, 'pathway_label': nan, 'pathway_gene_count': nan}]",
         "[{'stringdb_link_to': nan, 'Ensembl': nan, 'score': nan, 'Uniprot-TrEMBL': None, 'Uniprot-TrEMBL_link': None}]",
         "[{'homolog': 'ENSG00000085563'}]",
         "[{'pathway_id': 'path:mmu02010', 'pathway_label': 'ABC transporters - Mus musculus (house mouse)', 'gene_count': 51, 'compounds': [{'KEGG_identifier': 'C00009'}, {'KEGG_identifier': 'C00025'}, {'KEGG_identifier': 'C00031'}, {'KEGG_identifier': 'C00032'}, {'KEGG_identifier': 'C00034'}, {'KEGG_identifier': 'C00037'}, {'KEGG_identifier': 'C00038'}, {'KEGG_identifier': 'C00041'}, {'KEGG_identifier': 'C00047'}, {'KEGG_identifier': 'C00049'}, {'KEGG_identifier': 'C00051'}, {'KEGG_identifier': 'C00059'}, {'KEGG_identifier': 'C00062'}, {'KEGG_identifier': 'C00064'}, {'KEGG_identifier': 'C00065'}, {'KEGG_identifier': 'C00070'}, {'KEGG_identifier': 'C00077'}, {'KEGG_identifier': 'C00079'}, {'KEGG_identifier': 'C00086'}, {'KEGG_identifier': 'C00088'}, {'KEGG_identifier': 'C00089'}, {'KEGG_identifier': 'C00093'}, {'KEGG_identifier': 'C00095'}, {'KEGG_identifier': 'C00098'}, {'KEGG_identifier': 'C00107'}, {'KEGG_identifier': 'C00114'}, {'KEGG_identifier': 'C00116'}, {'KEGG_identifier': 'C00120'}, {'KEGG_identifier': 'C00121'}, {'KEGG_identifier': 'C00123'}, {'KEGG_identifier': 'C00134'}, {'KEGG_identifier': 'C00135'}, {'KEGG_identifier': 'C00137'}, {'KEGG_identifier': 'C00140'}, {'KEGG_identifier': 'C00148'}, {'KEGG_identifier': 'C00151'}, {'KEGG_identifier': 'C00159'}, {'KEGG_identifier': 'C00175'}, {'KEGG_identifier': 'C00181'}, {'KEGG_identifier': 'C00183'}, {'KEGG_identifier': 'C00185'}, {'KEGG_identifier': 'C00188'}, {'KEGG_identifier': 'C00208'}, {'KEGG_identifier': 'C00212'}, {'KEGG_identifier': 'C00243'}, {'KEGG_identifier': 'C00244'}, {'KEGG_identifier': 'C00245'}, {'KEGG_identifier': 'C00255'}, {'KEGG_identifier': 'C00259'}, {'KEGG_identifier': 'C00288'}, {'KEGG_identifier': 'C00291'}, {'KEGG_identifier': 'C00294'}, {'KEGG_identifier': 'C00299'}, {'KEGG_identifier': 'C00315'}, {'KEGG_identifier': 'C00320'}, {'KEGG_identifier': 'C00330'}, {'KEGG_identifier': 'C00333'}, {'KEGG_identifier': 'C00338'}, {'KEGG_identifier': 'C00378'}, {'KEGG_identifier': 'C00379'}, {'KEGG_identifier': 'C00387'}, {'KEGG_identifier': 'C00392'}, {'KEGG_identifier': 'C00407'}, {'KEGG_identifier': 'C00430'}, {'KEGG_identifier': 'C00470'}, {'KEGG_identifier': 'C00475'}, {'KEGG_identifier': 'C00487'}, {'KEGG_identifier': 'C00491'}, {'KEGG_identifier': 'C00492'}, {'KEGG_identifier': 'C00503'}, {'KEGG_identifier': 'C00526'}, {'KEGG_identifier': 'C00559'}, {'KEGG_identifier': 'C00719'}, {'KEGG_identifier': 'C00794'}, {'KEGG_identifier': 'C00855'}, {'KEGG_identifier': 'C00865'}, {'KEGG_identifier': 'C00881'}, {'KEGG_identifier': 'C00919'}, {'KEGG_identifier': 'C00973'}, {'KEGG_identifier': 'C01083'}, {'KEGG_identifier': 'C01153'}, {'KEGG_identifier': 'C01157'}, {'KEGG_identifier': 'C01177'}, {'KEGG_identifier': 'C01181'}, {'KEGG_identifier': 'C01279'}, {'KEGG_identifier': 'C01330'}, {'KEGG_identifier': 'C01417'}, {'KEGG_identifier': 'C01487'}, {'KEGG_identifier': 'C01606'}, {'KEGG_identifier': 'C01630'}, {'KEGG_identifier': 'C01667'}, {'KEGG_identifier': 'C01674'}, {'KEGG_identifier': 'C01682'}, {'KEGG_identifier': 'C01684'}, {'KEGG_identifier': 'C01762'}, {'KEGG_identifier': 'C01834'}, {'KEGG_identifier': 'C01835'}, {'KEGG_identifier': 'C01935'}, {'KEGG_identifier': 'C01946'}, {'KEGG_identifier': 'C02160'}, {'KEGG_identifier': 'C02273'}, {'KEGG_identifier': 'C03557'}, {'KEGG_identifier': 'C03611'}, {'KEGG_identifier': 'C03619'}, {'KEGG_identifier': 'C04114'}, {'KEGG_identifier': 'C04137'}, {'KEGG_identifier': 'C05349'}, {'KEGG_identifier': 'C05402'}, {'KEGG_identifier': 'C05512'}, {'KEGG_identifier': 'C05776'}, {'KEGG_identifier': 'C06227'}, {'KEGG_identifier': 'C06229'}, {'KEGG_identifier': 'C06230'}, {'KEGG_identifier': 'C06232'}, {'KEGG_identifier': 'C06687'}, {'KEGG_identifier': 'C06705'}, {'KEGG_identifier': 'C06706'}, {'KEGG_identifier': 'C06707'}, {'KEGG_identifier': 'C06767'}, {'KEGG_identifier': 'C07662'}, {'KEGG_identifier': 'C07663'}, {'KEGG_identifier': 'C11612'}, {'KEGG_identifier': 'C13768'}, {'KEGG_identifier': 'C14818'}, {'KEGG_identifier': 'C14819'}, {'KEGG_identifier': 'C15521'}, {'KEGG_identifier': 'C15719'}, {'KEGG_identifier': 'C16421'}, {'KEGG_identifier': 'C16692'}, {'KEGG_identifier': 'C19609'}, {'KEGG_identifier': 'C19872'}, {'KEGG_identifier': 'C20570'}, {'KEGG_identifier': 'C20571'}, {'KEGG_identifier': 'C20572'}, {'KEGG_identifier': 'C20573'}, {'KEGG_identifier': 'C20679'}, {'KEGG_identifier': 'C21066'}, {'KEGG_identifier': 'C22040'}]}, {'pathway_id': 'path:mmu04976', 'pathway_label': 'Bile secretion - Mus musculus (house mouse)', 'gene_count': 100, 'compounds': [{'KEGG_identifier': 'C00001'}, {'KEGG_identifier': 'C00011'}, {'KEGG_identifier': 'C00024'}, {'KEGG_identifier': 'C00026'}, {'KEGG_identifier': 'C00031'}, {'KEGG_identifier': 'C00051'}, {'KEGG_identifier': 'C00080'}, {'KEGG_identifier': 'C00114'}, {'KEGG_identifier': 'C00187'}, {'KEGG_identifier': 'C00238'}, {'KEGG_identifier': 'C00288'}, {'KEGG_identifier': 'C00315'}, {'KEGG_identifier': 'C00318'}, {'KEGG_identifier': 'C00366'}, {'KEGG_identifier': 'C00486'}, {'KEGG_identifier': 'C00504'}, {'KEGG_identifier': 'C00575'}, {'KEGG_identifier': 'C00584'}, {'KEGG_identifier': 'C00639'}, {'KEGG_identifier': 'C00695'}, {'KEGG_identifier': 'C00698'}, {'KEGG_identifier': 'C00735'}, {'KEGG_identifier': 'C00750'}, {'KEGG_identifier': 'C00780'}, {'KEGG_identifier': 'C00805'}, {'KEGG_identifier': 'C00865'}, {'KEGG_identifier': 'C00942'}, {'KEGG_identifier': 'C01330'}, {'KEGG_identifier': 'C01353'}, {'KEGG_identifier': 'C01405'}, {'KEGG_identifier': 'C01443'}, {'KEGG_identifier': 'C01576'}, {'KEGG_identifier': 'C01829'}, {'KEGG_identifier': 'C01844'}, {'KEGG_identifier': 'C01921'}, {'KEGG_identifier': 'C01937'}, {'KEGG_identifier': 'C01996'}, {'KEGG_identifier': 'C02165'}, {'KEGG_identifier': 'C4'}, {'KEGG_identifier': 'C4'}, {'KEGG_identifier': 'C02380'}, {'KEGG_identifier': 'C02465'}, {'KEGG_identifier': 'C02528'}, {'KEGG_identifier': 'C02530'}, {'KEGG_identifier': 'C02538'}, {'KEGG_identifier': 'C02918'}, {'KEGG_identifier': 'C03033'}, {'KEGG_identifier': 'C03642'}, {'KEGG_identifier': 'C03758'}, {'KEGG_identifier': 'C03990'}, {'KEGG_identifier': 'C04483'}, {'KEGG_identifier': 'C04555'}, {'KEGG_identifier': 'C05122'}, {'KEGG_identifier': 'C05371'}, {'KEGG_identifier': 'C05465'}, {'KEGG_identifier': 'C05466'}, {'KEGG_identifier': 'C05503'}, {'KEGG_identifier': 'C05551'}, {'KEGG_identifier': 'C05963'}, {'KEGG_identifier': 'C06526'}, {'KEGG_identifier': 'C06570'}, {'KEGG_identifier': 'C06688'}, {'KEGG_identifier': 'C06804'}, {'KEGG_identifier': 'C06810'}, {'KEGG_identifier': 'C06880'}, {'KEGG_identifier': 'C06890'}, {'KEGG_identifier': 'C06956'}, {'KEGG_identifier': 'C06999'}, {'KEGG_identifier': 'C07014'}, {'KEGG_identifier': 'C07051'}, {'KEGG_identifier': 'C07065'}, {'KEGG_identifier': 'C07151'}, {'KEGG_identifier': 'C07184'}, {'KEGG_identifier': 'C07185'}, {'KEGG_identifier': 'C07201'}, {'KEGG_identifier': 'C07207'}, {'KEGG_identifier': 'C07210'}, {'KEGG_identifier': 'C07240'}, {'KEGG_identifier': 'C07394'}, {'KEGG_identifier': 'C07512'}, {'KEGG_identifier': 'C07649'}, {'KEGG_identifier': 'C07660'}, {'KEGG_identifier': 'C07966'}, {'KEGG_identifier': 'C08357'}, {'KEGG_identifier': 'C08439'}, {'KEGG_identifier': 'C09955'}, {'KEGG_identifier': 'C11158'}, {'KEGG_identifier': 'C11231'}, {'KEGG_identifier': 'C11245'}, {'KEGG_identifier': 'C11277'}, {'KEGG_identifier': 'C11310'}, {'KEGG_identifier': 'C11363'}, {'KEGG_identifier': 'C11587'}, {'KEGG_identifier': 'C11754'}, {'KEGG_identifier': 'C12560'}, {'KEGG_identifier': 'C16114'}, {'KEGG_identifier': 'C16578'}, {'KEGG_identifier': 'C16643'}]}, {'pathway_id': 'path:mmu05206', 'pathway_label': 'MicroRNAs in cancer - Mus musculus (house mouse)', 'gene_count': 302, 'compounds': [{'KEGG_identifier': None}]}, {'pathway_id': 'path:mmu05226', 'pathway_label': 'Gastric cancer - Mus musculus (house mouse)', 'gene_count': 149, 'compounds': [{'KEGG_identifier': 'C00039'}, {'KEGG_identifier': 'C00777'}, {'KEGG_identifier': 'C05981'}, {'KEGG_identifier': 'C15493'}]}, {'gene_count': 0, 'compounds': [{'KEGG_identifier': None}]}]",
         "ENSG00000085563",
         "[{'pathway_label': 'Abacavir transmembrane transport', 'pathway_id': 'Reactome:R-HSA-2161517'}, {'pathway_label': 'Prednisone ADME', 'pathway_id': 'Reactome:R-HSA-9757110'}, {'pathway_label': 'ABC-family proteins mediated transport', 'pathway_id': 'Reactome:R-HSA-382556'}, {'pathway_label': 'Atorvastatin ADME', 'pathway_id': 'Reactome:R-HSA-9754706'}]",
         "[{'go_id': 'GO:0008559', 'go_name': 'ABC-type xenobiotic transporter activity', 'go_type': 'F'}, {'go_id': 'GO:0140115', 'go_name': 'export across plasma membrane', 'go_type': 'P'}, {'go_id': 'GO:0042626', 'go_name': 'ATPase-coupled transmembrane transporter activity', 'go_type': 'F'}, {'go_id': 'GO:0070633', 'go_name': 'transepithelial transport', 'go_type': 'P'}, {'go_id': 'GO:1990961', 'go_name': 'xenobiotic detoxification by transmembrane export across the plasma membrane', 'go_type': 'P'}, {'go_id': 'GO:0042910', 'go_name': 'xenobiotic transmembrane transporter activity', 'go_type': 'F'}, {'go_id': 'GO:0005515', 'go_name': 'protein binding', 'go_type': 'F'}, {'go_id': 'GO:0055085', 'go_name': 'transmembrane transport', 'go_type': 'P'}, {'go_id': 'GO:0016324', 'go_name': 'apical plasma membrane', 'go_type': 'C'}, {'go_id': 'GO:2001225', 'go_name': 'regulation of chloride transport', 'go_type': 'P'}, {'go_id': 'GO:0005886', 'go_name': 'plasma membrane', 'go_type': 'C'}, {'go_id': 'GO:0006805', 'go_name': 'xenobiotic metabolic process', 'go_type': 'P'}, {'go_id': 'GO:1905039', 'go_name': 'carboxylic acid transmembrane transport', 'go_type': 'P'}, {'go_id': 'GO:0070062', 'go_name': 'extracellular exosome', 'go_type': 'C'}, {'go_id': 'GO:0090554', 'go_name': 'phosphatidylcholine floppase activity', 'go_type': 'F'}, {'go_id': 'GO:0015562', 'go_name': 'efflux transmembrane transporter activity', 'go_type': 'F'}, {'go_id': 'GO:1990962', 'go_name': 'xenobiotic transport across blood-brain barrier', 'go_type': 'P'}, {'go_id': 'GO:0098591', 'go_name': 'external side of apical plasma membrane', 'go_type': 'C'}, {'go_id': 'GO:0072089', 'go_name': 'stem cell proliferation', 'go_type': 'P'}, {'go_id': 'GO:0045332', 'go_name': 'phospholipid translocation', 'go_type': 'P'}, {'go_id': 'GO:0046865', 'go_name': 'terpenoid transport', 'go_type': 'P'}, {'go_id': 'GO:0046943', 'go_name': 'carboxylic acid transmembrane transporter activity', 'go_type': 'F'}, {'go_id': 'GO:0005737', 'go_name': 'cytoplasm', 'go_type': 'C'}, {'go_id': 'GO:0140328', 'go_name': 'floppase activity', 'go_type': 'F'}, {'go_id': 'GO:0031625', 'go_name': 'ubiquitin protein ligase binding', 'go_type': 'F'}, {'go_id': 'GO:0090555', 'go_name': 'phosphatidylethanolamine flippase activity', 'go_type': 'F'}, {'go_id': 'GO:0016887', 'go_name': 'ATP hydrolysis activity', 'go_type': 'F'}, {'go_id': 'GO:0099038', 'go_name': 'ceramide floppase activity', 'go_type': 'F'}, {'go_id': 'GO:0099040', 'go_name': 'ceramide translocation', 'go_type': 'P'}, {'go_id': 'GO:0150104', 'go_name': 'transport across blood-brain barrier', 'go_type': 'P'}, {'go_id': 'GO:0009410', 'go_name': 'response to xenobiotic stimulus', 'go_type': 'P'}, {'go_id': 'GO:0005524', 'go_name': 'ATP binding', 'go_type': 'F'}, {'go_id': 'GO:0022857', 'go_name': 'transmembrane transporter activity', 'go_type': 'F'}, {'go_id': 'GO:0000086', 'go_name': 'G2/M transition of mitotic cell cycle', 'go_type': 'P'}, {'go_id': 'GO:0016020', 'go_name': 'membrane', 'go_type': 'C'}, {'go_id': 'GO:0009986', 'go_name': 'cell surface', 'go_type': 'C'}]",
         "[{'chembl_id': 'CHEMBL:CHEMBL1086218', 'drugbank_id': 'DrugBank:DB11869', 'compound_cid': 'pubchem.compound:5281884', 'compound_name': 'VALSPODAR', 'clincal_trial_phase': 3.0, 'is_approved': False, 'relation': 'activates', 'adverse_effect_count': 0.0, 'adverse_effect': nan}, {'chembl_id': 'CHEMBL:CHEMBL444172', 'drugbank_id': 'DrugBank:DB06191', 'compound_cid': 'pubchem.compound:3036703', 'compound_name': 'ZOSUQUIDAR', 'clincal_trial_phase': 3.0, 'is_approved': False, 'relation': 'activates', 'adverse_effect_count': 0.0, 'adverse_effect': nan}, {'chembl_id': 'CHEMBL:CHEMBL348475', 'drugbank_id': 'DrugBank:DB06240', 'compound_cid': 'pubchem.compound:148201', 'compound_name': 'TARIQUIDAR', 'clincal_trial_phase': 3.0, 'is_approved': False, 'relation': 'activates', 'adverse_effect_count': 2.0, 'adverse_effect': [{'name': 'breast cancer female'}, {'name': 'malignant neoplasm progression'}]}, {'chembl_id': 'CHEMBL:CHEMBL4594298', 'drugbank_id': None, 'compound_cid': 'pubchem.compound:11399764', 'compound_name': 'ENCEQUIDAR', 'clincal_trial_phase': 3.0, 'is_approved': False, 'relation': 'activates', 'adverse_effect_count': 0.0, 'adverse_effect': nan}]",
         "[{'disease_name': 'Breast Neoplasms', 'HPO': 'HPO:HP:0100013', 'NCI': 'NCI:C2910', 'OMIM': None, 'MONDO': 'MONDO:0021100', 'ORDO': None, 'EFO': 'EFO:0003869', 'DO': 'DOID:1612, DOID:3459', 'MESH': 'MESH:D001943', 'UMLS': 'UMLS:C1458155', 'disease_type': 'disease', 'disease_umlscui': 'C1458155', 'score': 1.0, 'ei': 0.9439775910364145, 'el': None}, {'disease_name': 'Epilepsies', 'HPO': 'HPO:HP:0001250', 'NCI': 'NCI:C3020', 'OMIM': None, 'MONDO': 'MONDO:0005027', 'ORDO': None, 'EFO': 'EFO:0000474', 'DO': 'DOID:1826', 'MESH': 'MESH:D004827', 'UMLS': 'UMLS:C0014544', 'disease_type': 'disease', 'disease_umlscui': 'C0014544', 'score': 1.0, 'ei': 0.8907563025210085, 'el': None}, {'disease_name': 'Carcinoma, Non Small Cell Lung', 'HPO': 'HPO:HP:0030358', 'NCI': 'NCI:C2926', 'OMIM': 'MIM:211980', 'MONDO': 'MONDO:0005233', 'ORDO': None, 'EFO': 'EFO:0003060', 'DO': 'DOID:3908', 'MESH': 'MESH:D002289', 'UMLS': 'UMLS:C0007131', 'disease_type': 'disease', 'disease_umlscui': 'C0007131', 'score': 1.0, 'ei': 0.8468468468468469, 'el': None}, {'disease_name': 'Liver cell carcinoma', 'HPO': 'HPO:HP:0001402', 'NCI': 'NCI:C3099', 'OMIM': 'MIM:114550', 'MONDO': 'MONDO:0007256', 'ORDO': 'ORDO:88673', 'EFO': 'EFO:0000182, EFO:0000762, EFO:1000256', 'DO': 'DOID:3571, DOID:684', 'MESH': 'MESH:D006528', 'UMLS': 'UMLS:C2239176', 'disease_type': 'disease', 'disease_umlscui': 'C2239176', 'score': 1.0, 'ei': 0.9181818181818182, 'el': None}, {'disease_name': 'neurotoxicity', 'HPO': None, 'NCI': 'NCI:C27961', 'OMIM': None, 'MONDO': 'MONDO:0005527', 'ORDO': None, 'EFO': 'EFO:0005595, EFO:0011057', 'DO': 'DOID:3602', 'MESH': 'MESH:D020258', 'UMLS': 'UMLS:C0235032', 'disease_type': 'disease', 'disease_umlscui': 'C0235032', 'score': 0.9500000000000001, 'ei': 0.9130434782608695, 'el': None}, {'disease_name': 'Chronic myeloid leukemia', 'HPO': 'HPO:HP:0005506', 'NCI': 'NCI:C9128', 'OMIM': 'MIM:608232', 'MONDO': 'MONDO:0011996', 'ORDO': 'ORDO:521', 'EFO': 'EFO:0000339', 'DO': 'DOID:0081088, DOID:8552', 'MESH': 'MESH:D015464', 'UMLS': 'UMLS:C0279543', 'disease_type': 'disease', 'disease_umlscui': 'C0279543', 'score': 0.9, 'ei': 0.8608695652173913, 'el': None}, {'disease_name': 'HIV infection', 'HPO': None, 'NCI': 'NCI:C3108', 'OMIM': None, 'MONDO': 'MONDO:0005109', 'ORDO': None, 'EFO': 'EFO:0000764', 'DO': 'DOID:526, DOID:635', 'MESH': 'MESH:D015658', 'UMLS': 'UMLS:C0019693', 'disease_type': 'disease', 'disease_umlscui': 'C0019693', 'score': 0.9, 'ei': 0.96, 'el': None}, {'disease_name': 'CRC', 'HPO': None, 'NCI': 'NCI:C2955', 'OMIM': 'MIM:114500, MIM:516000, MIM:516004, MIM:516030, MIM:516040, MIM:172411, MIM:191170, MIM:516020', 'MONDO': 'MONDO:0005335, MONDO:0005575, MONDO:0024331', 'ORDO': None, 'EFO': 'EFO:0000365, EFO:0004142, EFO:1001951', 'DO': 'DOID:0080199, DOID:9256', 'MESH': 'MESH:D015179', 'UMLS': 'UMLS:C0009402', 'disease_type': 'disease', 'disease_umlscui': 'C0009402', 'score': 0.8500000000000001, 'ei': 0.8938053097345132, 'el': None}, {'disease_name': 'ALL', 'HPO': 'HPO:HP:0006721', 'NCI': 'NCI:C3167', 'OMIM': None, 'MONDO': 'MONDO:0004967', 'ORDO': 'ORDO:513', 'EFO': 'EFO:0000220, EFO:1001830', 'DO': 'DOID:9952', 'MESH': None, 'UMLS': 'UMLS:C0023449', 'disease_type': 'disease', 'disease_umlscui': 'C0023449', 'score': 0.8500000000000001, 'ei': 0.8021978021978022, 'el': None}, {'disease_name': 'Colorectal Neoplasm', 'HPO': 'HPO:HP:0100834', 'NCI': 'NCI:C2956', 'OMIM': None, 'MONDO': 'MONDO:0005335, MONDO:0005575', 'ORDO': None, 'EFO': 'EFO:0004142', 'DO': 'DOID:0080199, DOID:9256', 'MESH': 'MESH:D015179', 'UMLS': 'UMLS:C0009404', 'disease_type': 'disease', 'disease_umlscui': 'C0009404', 'score': 0.85, 'ei': 0.9230769230769231, 'el': None}, {'disease_name': 'Parkinson Disease', 'HPO': None, 'NCI': 'NCI:C26845', 'OMIM': 'MIM:516000', 'MONDO': 'MONDO:0011562, MONDO:0014796, MONDO:0005180, MONDO:0014231', 'ORDO': 'ORDO:319705', 'EFO': None, 'DO': 'DOID:0060891, DOID:0060895, DOID:0060896, DOID:14330', 'MESH': 'MESH:D010300', 'UMLS': 'UMLS:C0030567', 'disease_type': 'disease', 'disease_umlscui': 'C0030567', 'score': 0.85, 'ei': 0.8666666666666667, 'el': None}, {'disease_name': 'Schizophrenias', 'HPO': 'HPO:HP:0100753', 'NCI': 'NCI:C3362', 'OMIM': 'MIM:181500', 'MONDO': 'MONDO:0005090', 'ORDO': None, 'EFO': None, 'DO': 'DOID:5419', 'MESH': 'MESH:D012559', 'UMLS': 'UMLS:C0036341', 'disease_type': 'disease', 'disease_umlscui': 'C0036341', 'score': 0.85, 'ei': 1.0, 'el': None}, {'disease_name': 'Depressive neurosis', 'HPO': 'HPO:HP:0000716', 'NCI': None, 'OMIM': None, 'MONDO': 'MONDO:0001442, MONDO:0002050', 'ORDO': None, 'EFO': 'EFO:0004257, EFO:0008623, EFO:1002014', 'DO': 'DOID:1595, DOID:12139, DOID:4964', 'MESH': 'MESH:D003866', 'UMLS': 'UMLS:C0011581', 'disease_type': 'disease', 'disease_umlscui': 'C0011581', 'score': 0.85, 'ei': 0.8888888888888888, 'el': None}, {'disease_name': 'Depression', 'HPO': None, 'NCI': 'NCI:C2982', 'OMIM': None, 'MONDO': 'MONDO:0002050', 'ORDO': None, 'EFO': None, 'DO': 'DOID:1596, DOID:1470', 'MESH': 'MESH:D003863', 'UMLS': 'UMLS:C0011570', 'disease_type': 'disease', 'disease_umlscui': 'C0011570', 'score': 0.85, 'ei': 0.9565217391304348, 'el': None}, {'disease_name': 'Kidney Neoplasm', 'HPO': 'HPO:HP:0009726', 'NCI': 'NCI:C3150', 'OMIM': None, 'MONDO': 'MONDO:0002367, MONDO:0021163', 'ORDO': None, 'EFO': 'EFO:0003865', 'DO': 'DOID:263', 'MESH': 'MESH:D007680', 'UMLS': 'UMLS:C0022665', 'disease_type': 'disease', 'disease_umlscui': 'C0022665', 'score': 0.85, 'ei': 0.9285714285714286, 'el': None}, {'disease_name': 'Renal cell carcinoma', 'HPO': 'HPO:HP:0005584', 'NCI': 'NCI:C9385', 'OMIM': 'MIM:144700', 'MONDO': 'MONDO:0005549, MONDO:0005086', 'ORDO': 'ORDO:217071', 'EFO': 'EFO:0000349, EFO:0000681, EFO:0005708', 'DO': 'DOID:4450, DOID:4451, DOID:4464, DOID:4465, DOID:4467, DOID:4471, DOID:4473', 'MESH': 'MESH:D002292', 'UMLS': 'UMLS:C0007134', 'disease_type': 'disease', 'disease_umlscui': 'C0007134', 'score': 0.8, 'ei': 0.9545454545454546, 'el': None}, {'disease_name': 'Ulcerative colitis', 'HPO': 'HPO:HP:0100279', 'NCI': 'NCI:C2952', 'OMIM': 'MIM:266600', 'MONDO': 'MONDO:0005101', 'ORDO': None, 'EFO': 'EFO:0000729', 'DO': 'DOID:8577', 'MESH': 'MESH:D003093', 'UMLS': 'UMLS:C0009324', 'disease_type': 'disease', 'disease_umlscui': 'C0009324', 'score': 0.8, 'ei': 0.8205128205128205, 'el': None}, {'disease_name': 'Adult-Onset Diabetes Mellitus', 'HPO': 'HPO:HP:0005978', 'NCI': 'NCI:C26747', 'OMIM': 'MIM:125853, MIM:164731, MIM:601724, MIM:600509, MIM:138430, MIM:147545, MIM:138079, MIM:147670, MIM:167413, MIM:600281, MIM:189907', 'MONDO': 'MONDO:0005148', 'ORDO': None, 'EFO': None, 'DO': 'DOID:9352', 'MESH': 'MESH:D003924', 'UMLS': 'UMLS:C0011860', 'disease_type': 'disease', 'disease_umlscui': 'C0011860', 'score': 0.8, 'ei': 0.875, 'el': None}, {'disease_name': 'MAJOR DEPRESSIVE DISORDER', 'HPO': None, 'NCI': None, 'OMIM': 'MIM:608516', 'MONDO': 'MONDO:0002009', 'ORDO': None, 'EFO': 'EFO:1002014', 'DO': 'DOID:1595', 'MESH': 'MESH:D003865', 'UMLS': 'UMLS:C1269683', 'disease_type': 'disease', 'disease_umlscui': 'C1269683', 'score': 0.7999999999999999, 'ei': 0.8695652173913043, 'el': None}, {'disease_name': 'Esophageal Neoplasm', 'HPO': 'HPO:HP:0100751', 'NCI': 'NCI:C3028', 'OMIM': None, 'MONDO': 'MONDO:0007576, MONDO:0021355', 'ORDO': None, 'EFO': None, 'DO': 'DOID:5041', 'MESH': 'MESH:D004938', 'UMLS': 'UMLS:C0014859', 'disease_type': 'disease', 'disease_umlscui': 'C0014859', 'score': 0.7999999999999999, 'ei': 0.9090909090909091, 'el': None}, {'disease_name': 'Infection, Plasmodium', 'HPO': None, 'NCI': 'NCI:C34797', 'OMIM': None, 'MONDO': 'MONDO:0005136', 'ORDO': 'ORDO:673', 'EFO': 'EFO:0001068', 'DO': 'DOID:12365', 'MESH': 'MESH:D008288', 'UMLS': 'UMLS:C0024530', 'disease_type': 'disease', 'disease_umlscui': 'C0024530', 'score': 0.7999999999999999, 'ei': 1.0, 'el': None}, {'disease_name': 'Neuroblastoma', 'HPO': 'HPO:HP:0003006', 'NCI': 'NCI:C3270', 'OMIM': None, 'MONDO': 'MONDO:0005072', 'ORDO': 'ORDO:635', 'EFO': 'EFO:0000621', 'DO': 'DOID:769', 'MESH': 'MESH:D009447', 'UMLS': 'UMLS:C0027819', 'disease_type': 'disease', 'disease_umlscui': 'C0027819', 'score': 0.75, 'ei': 0.8421052631578947, 'el': None}, {'disease_name': 'Carcinoma', 'HPO': 'HPO:HP:0030731', 'NCI': 'NCI:C2916', 'OMIM': None, 'MONDO': 'MONDO:0004993', 'ORDO': None, 'EFO': 'EFO:0000313', 'DO': 'DOID:162, DOID:305, DOID:4015', 'MESH': 'MESH:D002277', 'UMLS': 'UMLS:C0007097', 'disease_type': 'disease', 'disease_umlscui': 'C0007097', 'score': 0.75, 'ei': 0.8888888888888888, 'el': None}, {'disease_name': 'Rheumatoid arthritis', 'HPO': 'HPO:HP:0001370', 'NCI': 'NCI:C2884', 'OMIM': 'MIM:180300, MIM:607218', 'MONDO': 'MONDO:0008383', 'ORDO': None, 'EFO': 'EFO:0000685', 'DO': 'DOID:7148', 'MESH': 'MESH:D001172', 'UMLS': 'UMLS:C0003873', 'disease_type': 'disease', 'disease_umlscui': 'C0003873', 'score': 0.75, 'ei': 0.8, 'el': None}, {'disease_name': 'Hematologic Neoplasm', 'HPO': 'HPO:HP:0004377, HPO:HP:0001909', 'NCI': 'NCI:C27134', 'OMIM': None, 'MONDO': 'MONDO:0002334, MONDO:0044881', 'ORDO': None, 'EFO': None, 'DO': 'DOID:2531', 'MESH': 'MESH:D019337', 'UMLS': 'UMLS:C0376545', 'disease_type': 'disease', 'disease_umlscui': 'C0376545', 'score': 0.75, 'ei': 1.0, 'el': None}, {'disease_name': 'Neutropenia', 'HPO': None, 'NCI': None, 'OMIM': None, 'MONDO': 'MONDO:0001475, MONDO:0001609, MONDO:0018542', 'ORDO': None, 'EFO': None, 'DO': 'DOID:0050590, DOID:1227, DOID:12987', 'MESH': 'MESH:D009503', 'UMLS': 'UMLS:C0027947', 'disease_type': 'disease', 'disease_umlscui': 'C0027947', 'score': 0.75, 'ei': 0.8461538461538461, 'el': None}, {'disease_name': 'Pain', 'HPO': 'HPO:HP:0012531', 'NCI': 'NCI:C3303, NCI:C25271', 'OMIM': None, 'MONDO': None, 'ORDO': None, 'EFO': 'EFO:0003843', 'DO': None, 'MESH': 'MESH:D010146', 'UMLS': 'UMLS:C0030193', 'disease_type': 'phenotype', 'disease_umlscui': 'C0030193', 'score': 0.75, 'ei': 0.9166666666666666, 'el': None}, {'disease_name': 'adenocarcinoma of large intestine (diagnosis)', 'HPO': 'HPO:HP:0040275', 'NCI': 'NCI:C5105', 'OMIM': None, 'MONDO': 'MONDO:0005008', 'ORDO': None, 'EFO': 'EFO:0000365', 'DO': 'DOID:0050861', 'MESH': None, 'UMLS': 'UMLS:C1319315', 'disease_type': 'disease', 'disease_umlscui': 'C1319315', 'score': 0.75, 'ei': 0.9090909090909091, 'el': None}, {'disease_name': 'Status Epilepticus', 'HPO': 'HPO:HP:0002133', 'NCI': 'NCI:C85079', 'OMIM': None, 'MONDO': 'MONDO:0002125', 'ORDO': None, 'EFO': 'EFO:0008526', 'DO': 'DOID:1824', 'MESH': 'MESH:D013226', 'UMLS': 'UMLS:C0038220', 'disease_type': 'disease', 'disease_umlscui': 'C0038220', 'score': 0.75, 'ei': 1.0, 'el': None}, {'disease_name': 'Abuse, Marihuana', 'HPO': None, 'NCI': None, 'OMIM': None, 'MONDO': 'MONDO:0005689', 'ORDO': None, 'EFO': 'EFO:0007191', 'DO': 'DOID:1849, DOID:9505', 'MESH': 'MESH:D002189', 'UMLS': 'UMLS:C0024809', 'disease_type': 'disease', 'disease_umlscui': 'C0024809', 'score': 0.75, 'ei': 1.0, 'el': None}, {'disease_name': 'Hyperlipemias', 'HPO': 'HPO:HP:0003077', 'NCI': 'NCI:C34707', 'OMIM': None, 'MONDO': 'MONDO:0001336, MONDO:0021187', 'ORDO': None, 'EFO': None, 'DO': 'DOID:1168', 'MESH': 'MESH:D006949', 'UMLS': 'UMLS:C0020473', 'disease_type': 'disease', 'disease_umlscui': 'C0020473', 'score': 0.75, 'ei': 1.0, 'el': None}, {'disease_name': 'Pain, Postoperative', 'HPO': None, 'NCI': 'NCI:C34887', 'OMIM': None, 'MONDO': None, 'ORDO': None, 'EFO': None, 'DO': None, 'MESH': 'MESH:D010149', 'UMLS': 'UMLS:C0030201', 'disease_type': 'phenotype', 'disease_umlscui': 'C0030201', 'score': 0.7000000000000001, 'ei': 0.7142857142857143, 'el': None}, {'disease_name': 'Psychosis', 'HPO': 'HPO:HP:0000709', 'NCI': 'NCI:C78576', 'OMIM': None, 'MONDO': 'MONDO:0005485', 'ORDO': None, 'EFO': 'EFO:0000677, EFO:0005407', 'DO': 'DOID:11328, DOID:5418', 'MESH': 'MESH:D011618', 'UMLS': 'UMLS:C0033975', 'disease_type': 'disease', 'disease_umlscui': 'C0033975', 'score': 0.7000000000000001, 'ei': 1.0, 'el': None}, {'disease_name': 'Tuberculosis, Pulmonary', 'HPO': 'HPO:HP:0032262', 'NCI': 'NCI:C26899', 'OMIM': None, 'MONDO': 'MONDO:0006052, MONDO:0957462', 'ORDO': 'ORDO:645814', 'EFO': 'EFO:1000049', 'DO': 'DOID:2957, DOID:9534', 'MESH': 'MESH:D014397', 'UMLS': 'UMLS:C0041327', 'disease_type': 'disease', 'disease_umlscui': 'C0041327', 'score': 0.7000000000000001, 'ei': 1.0, 'el': None}, {'disease_name': 'Depressions, Unipolar', 'HPO': None, 'NCI': 'NCI:C35094', 'OMIM': 'MIM:608516', 'MONDO': 'MONDO:0002009, MONDO:0002050, MONDO:0012048', 'ORDO': None, 'EFO': 'EFO:0004257, EFO:1002014', 'DO': 'DOID:1595, DOID:4964', 'MESH': 'MESH:D003866', 'UMLS': 'UMLS:C0041696', 'disease_type': 'disease', 'disease_umlscui': 'C0041696', 'score': 0.7, 'ei': 0.9090909090909091, 'el': None}, {'disease_name': 'Diffuse Histiocytic Lymphoma', 'HPO': None, 'NCI': 'NCI:C8851', 'OMIM': None, 'MONDO': 'MONDO:0018905', 'ORDO': 'ORDO:544', 'EFO': 'EFO:0000403, EFO:1000157, EFO:1000490', 'DO': 'DOID:0050745', 'MESH': 'MESH:D016403', 'UMLS': 'UMLS:C0079744', 'disease_type': 'disease', 'disease_umlscui': 'C0079744', 'score': 0.7, 'ei': 0.8571428571428571, 'el': None}, {'disease_name': 'Opioid dependence', 'HPO': 'HPO:HP:0033515', 'NCI': None, 'OMIM': None, 'MONDO': 'MONDO:0005530', 'ORDO': None, 'EFO': 'EFO:0005611', 'DO': 'DOID:11206, DOID:2559, DOID:9976', 'MESH': 'MESH:D009293', 'UMLS': 'UMLS:C0524662', 'disease_type': 'disease', 'disease_umlscui': 'C0524662', 'score': 0.7, 'ei': 0.8888888888888888, 'el': None}, {'disease_name': 'Peripheral neuropathy', 'HPO': 'HPO:HP:0009830', 'NCI': 'NCI:C119734', 'OMIM': None, 'MONDO': 'MONDO:0005244, MONDO:0003620', 'ORDO': None, 'EFO': 'EFO:0003100, EFO:0009387', 'DO': 'DOID:574', 'MESH': None, 'UMLS': 'UMLS:C0031117', 'disease_type': 'disease', 'disease_umlscui': 'C0031117', 'score': 0.65, 'ei': 0.875, 'el': None}, {'disease_name': 'Diseases, Nervous System', 'HPO': None, 'NCI': 'NCI:C26835', 'OMIM': None, 'MONDO': 'MONDO:0005071', 'ORDO': None, 'EFO': 'EFO:0000618', 'DO': 'DOID:0050635, DOID:863', 'MESH': 'MESH:D009422', 'UMLS': 'UMLS:C0027765', 'disease_type': 'disease', 'disease_umlscui': 'C0027765', 'score': 0.65, 'ei': 1.0, 'el': None}, {'disease_name': 'Nephropathy', 'HPO': 'HPO:HP:0000112', 'NCI': 'NCI:C3149, NCI:C34843', 'OMIM': None, 'MONDO': 'MONDO:0005240', 'ORDO': None, 'EFO': 'EFO:0003086', 'DO': 'DOID:1425, DOID:2921, DOID:557, DOID:10952, DOID:2527', 'MESH': 'MESH:D007674', 'UMLS': 'UMLS:C0022658', 'disease_type': 'disease', 'disease_umlscui': 'C0022658', 'score': 0.65, 'ei': 0.8, 'el': None}, {'disease_name': 'Mental Disorder', 'HPO': None, 'NCI': 'NCI:C2893', 'OMIM': None, 'MONDO': 'MONDO:0002025, MONDO:0005084', 'ORDO': None, 'EFO': 'EFO:0000677', 'DO': 'DOID:150', 'MESH': 'MESH:D001523', 'UMLS': 'UMLS:C0004936', 'disease_type': 'disease', 'disease_umlscui': 'C0004936', 'score': 0.65, 'ei': 1.0, 'el': None}, {'disease_name': 'Disease, Periodic', 'HPO': None, 'NCI': 'NCI:C84707', 'OMIM': 'MIM:249100, MIM:608107', 'MONDO': 'MONDO:0018088, MONDO:0009572', 'ORDO': 'ORDO:342', 'EFO': None, 'DO': 'DOID:0050452, DOID:2987', 'MESH': 'MESH:D010505', 'UMLS': 'UMLS:C0031069', 'disease_type': 'disease', 'disease_umlscui': 'C0031069', 'score': 0.65, 'ei': 1.0, 'el': None}, {'disease_name': 'Epithelioma', 'HPO': 'HPO:HP:0031492', 'NCI': 'NCI:C3709', 'OMIM': None, 'MONDO': 'MONDO:0005626, MONDO:0004993', 'ORDO': None, 'EFO': 'EFO:0000313, EFO:0006858', 'DO': 'DOID:305, DOID:4840', 'MESH': 'MESH:D009375', 'UMLS': 'UMLS:C1368683', 'disease_type': 'disease', 'disease_umlscui': 'C1368683', 'score': 0.65, 'ei': 1.0, 'el': None}, {'disease_name': 'Cardiomyopathy', 'HPO': 'HPO:HP:0001638', 'NCI': 'NCI:C34830', 'OMIM': None, 'MONDO': 'MONDO:0004994', 'ORDO': 'ORDO:167848', 'EFO': 'EFO:0000318', 'DO': 'DOID:0050700', 'MESH': 'MESH:D009202', 'UMLS': 'UMLS:C0878544', 'disease_type': 'disease', 'disease_umlscui': 'C0878544', 'score': 0.65, 'ei': 1.0, 'el': None}, {'disease_name': 'Defect, Congenital Heart', 'HPO': 'HPO:HP:0001627', 'NCI': 'NCI:C34666', 'OMIM': 'MIM:234750, MIM:140500', 'MONDO': 'MONDO:0005453, MONDO:0009327', 'ORDO': None, 'EFO': 'EFO:0005207', 'DO': 'DOID:1682', 'MESH': 'MESH:D006330', 'UMLS': 'UMLS:C0018798', 'disease_type': 'disease', 'disease_umlscui': 'C0018798', 'score': 0.65, 'ei': 1.0, 'el': None}, {'disease_name': 'Dependence, Cannabis', 'HPO': None, 'NCI': 'NCI:C34445', 'OMIM': None, 'MONDO': 'MONDO:0005689', 'ORDO': None, 'EFO': 'EFO:0007191', 'DO': 'DOID:1849, DOID:9505', 'MESH': 'MESH:D002189', 'UMLS': 'UMLS:C0006870', 'disease_type': 'disease', 'disease_umlscui': 'C0006870', 'score': 0.65, 'ei': 1.0, 'el': None}, {'disease_name': 'Behcet Syndrome', 'HPO': None, 'NCI': 'NCI:C34416', 'OMIM': 'MIM:109650', 'MONDO': 'MONDO:0007191', 'ORDO': 'ORDO:117', 'EFO': 'EFO:0003780', 'DO': 'DOID:13241', 'MESH': 'MESH:D001528', 'UMLS': 'UMLS:C0004943', 'disease_type': 'disease', 'disease_umlscui': 'C0004943', 'score': 0.65, 'ei': 1.0, 'el': None}, {'disease_name': 'Adrenal cortical carcinoma', 'HPO': 'HPO:HP:0006744', 'NCI': 'NCI:C9325', 'OMIM': None, 'MONDO': 'MONDO:0006639', 'ORDO': 'ORDO:1501', 'EFO': 'EFO:1000796', 'DO': 'DOID:3948', 'MESH': 'MESH:D018268', 'UMLS': 'UMLS:C0206686', 'disease_type': 'disease', 'disease_umlscui': 'C0206686', 'score': 0.6000000000000001, 'ei': 0.8, 'el': None}, {'disease_name': 'Acquired Immuno Deficiency Syndrome', 'HPO': None, 'NCI': 'NCI:C2851', 'OMIM': None, 'MONDO': 'MONDO:0012268, MONDO:0017769', 'ORDO': 'ORDO:310050', 'EFO': 'EFO:0000765', 'DO': 'DOID:526, DOID:635', 'MESH': 'MESH:D000163', 'UMLS': 'UMLS:C0001175', 'disease_type': 'disease', 'disease_umlscui': 'C0001175', 'score': 0.6000000000000001, 'ei': 1.0, 'el': None}, {'disease_name': 'SQUAMOUS CELL CARCINOMA, HEAD AND NECK', 'HPO': None, 'NCI': 'NCI:C34447', 'OMIM': 'MIM:275355, MIM:603612', 'MONDO': 'MONDO:0010150', 'ORDO': None, 'EFO': 'EFO:0000181', 'DO': 'DOID:2876, DOID:5515, DOID:5520', 'MESH': 'MESH:D000077195', 'UMLS': 'UMLS:C1168401', 'disease_type': 'disease', 'disease_umlscui': 'C1168401', 'score': 0.6000000000000001, 'ei': 0.6, 'el': None}, {'disease_name': 'Carcinomas, Infiltrating Duct', 'HPO': None, 'NCI': 'NCI:C4194', 'OMIM': 'MIM:603615', 'MONDO': 'MONDO:0005590, MONDO:0004953', 'ORDO': None, 'EFO': 'EFO:0000186, EFO:0006318', 'DO': 'DOID:3008', 'MESH': 'MESH:D018270', 'UMLS': 'UMLS:C1134719', 'disease_type': 'disease', 'disease_umlscui': 'C1134719', 'score': 0.6000000000000001, 'ei': 1.0, 'el': None}, {'disease_name': 'Cardiac Disease', 'HPO': None, 'NCI': 'NCI:C3079', 'OMIM': None, 'MONDO': 'MONDO:0005267', 'ORDO': None, 'EFO': 'EFO:0003777', 'DO': 'DOID:114, DOID:1287', 'MESH': 'MESH:D006331', 'UMLS': 'UMLS:C0018799', 'disease_type': 'disease', 'disease_umlscui': 'C0018799', 'score': 0.6000000000000001, 'ei': 1.0, 'el': None}, {'disease_name': 'Emesis', 'HPO': 'HPO:HP:0002013', 'NCI': 'NCI:C3442', 'OMIM': None, 'MONDO': None, 'ORDO': None, 'EFO': None, 'DO': None, 'MESH': 'MESH:D014839', 'UMLS': 'UMLS:C0042963', 'disease_type': 'phenotype', 'disease_umlscui': 'C0042963', 'score': 0.6000000000000001, 'ei': 1.0, 'el': None}, {'disease_name': 'Nausea', 'HPO': 'HPO:HP:0002018', 'NCI': 'NCI:C3258', 'OMIM': None, 'MONDO': None, 'ORDO': None, 'EFO': None, 'DO': None, 'MESH': 'MESH:D009325', 'UMLS': 'UMLS:C0027497', 'disease_type': 'phenotype', 'disease_umlscui': 'C0027497', 'score': 0.6000000000000001, 'ei': 1.0, 'el': None}, {'disease_name': 'AUTISM SPECTRUM DISORDER', 'HPO': 'HPO:HP:0000729', 'NCI': 'NCI:C88412', 'OMIM': 'MIM:209850', 'MONDO': 'MONDO:0005258', 'ORDO': None, 'EFO': 'EFO:0003756', 'DO': 'DOID:0060041, DOID:12849', 'MESH': 'MESH:D000067877', 'UMLS': 'UMLS:C1510586', 'disease_type': 'disease', 'disease_umlscui': 'C1510586', 'score': 0.6000000000000001, 'ei': 0.6666666666666666, 'el': None}, {'disease_name': 'Hypotension, Orthostatic', 'HPO': 'HPO:HP:0001278', 'NCI': 'NCI:C84970', 'OMIM': 'MIM:146500', 'MONDO': 'MONDO:0005469', 'ORDO': None, 'EFO': 'EFO:0005252', 'DO': 'DOID:0111154', 'MESH': 'MESH:D007024', 'UMLS': 'UMLS:C0020651', 'disease_type': 'disease', 'disease_umlscui': 'C0020651', 'score': 0.6000000000000001, 'ei': 0.5, 'el': None}, {'disease_name': 'Breast cancer (ductal)', 'HPO': None, 'NCI': 'NCI:C4017', 'OMIM': None, 'MONDO': 'MONDO:0005590, MONDO:0004953', 'ORDO': None, 'EFO': 'EFO:0000186, EFO:0006318', 'DO': 'DOID:3008', 'MESH': None, 'UMLS': 'UMLS:C1527349', 'disease_type': 'disease', 'disease_umlscui': 'C1527349', 'score': 0.6000000000000001, 'ei': 1.0, 'el': None}, {'disease_name': 'Heroin Dependence', 'HPO': 'HPO:HP:0033517', 'NCI': 'NCI:C34694', 'OMIM': None, 'MONDO': 'MONDO:0005367', 'ORDO': None, 'EFO': 'EFO:0004240', 'DO': 'DOID:9976', 'MESH': 'MESH:D006556', 'UMLS': 'UMLS:C0019337', 'disease_type': 'disease', 'disease_umlscui': 'C0019337', 'score': 0.6000000000000001, 'ei': 1.0, 'el': None}, {'disease_name': 'INFLAMMATORY BOWEL DISEASE 13', 'HPO': None, 'NCI': None, 'OMIM': 'MIM:612244', 'MONDO': 'MONDO:0012831', 'ORDO': None, 'EFO': 'EFO:0003767', 'DO': 'DOID:0110893', 'MESH': 'MESH:C567384', 'UMLS': 'UMLS:C2677101', 'disease_type': 'disease', 'disease_umlscui': 'C2677101', 'score': 0.55, 'ei': 1.0, 'el': None}, {'disease_name': 'Antisocial Personalities', 'HPO': None, 'NCI': 'NCI:C88413', 'OMIM': None, 'MONDO': 'MONDO:0001164', 'ORDO': None, 'EFO': None, 'DO': 'DOID:10939', 'MESH': 'MESH:D000987', 'UMLS': 'UMLS:C0003431', 'disease_type': 'disease', 'disease_umlscui': 'C0003431', 'score': 0.55, 'ei': 1.0, 'el': None}, {'disease_name': 'E coli Infection', 'HPO': 'HPO:HP:0002740', 'NCI': 'NCI:C34594', 'OMIM': None, 'MONDO': 'MONDO:0020920', 'ORDO': None, 'EFO': 'EFO:1001318', 'DO': None, 'MESH': 'MESH:D004927', 'UMLS': 'UMLS:C0014836', 'disease_type': 'disease', 'disease_umlscui': 'C0014836', 'score': 0.55, 'ei': 1.0, 'el': None}, {'disease_name': 'Hyperlipoproteinemia', 'HPO': 'HPO:HP:0010980', 'NCI': 'NCI:C34709', 'OMIM': None, 'MONDO': 'MONDO:0001336, MONDO:0037748', 'ORDO': None, 'EFO': None, 'DO': 'DOID:1168', 'MESH': 'MESH:D006951', 'UMLS': 'UMLS:C0020476', 'disease_type': 'disease', 'disease_umlscui': 'C0020476', 'score': 0.5, 'ei': 1.0, 'el': None}, {'disease_name': 'Generalized idiopathic epilepsy and epileptic syndromes', 'HPO': None, 'NCI': None, 'OMIM': 'MIM:600669', 'MONDO': 'MONDO:0005579', 'ORDO': None, 'EFO': 'EFO:0005917', 'DO': 'DOID:0060170, DOID:1827', 'MESH': 'MESH:C562694', 'UMLS': 'UMLS:C0270850', 'disease_type': 'disease', 'disease_umlscui': 'C0270850', 'score': 0.5, 'ei': 1.0, 'el': None}, {'disease_name': 'Precursor Lymphoblastic Leukemia/Lymphoma', 'HPO': None, 'NCI': 'NCI:C7055', 'OMIM': None, 'MONDO': 'MONDO:0003538, MONDO:0004967', 'ORDO': None, 'EFO': 'EFO:0000220, EFO:0009119', 'DO': 'DOID:9952', 'MESH': None, 'UMLS': 'UMLS:C1335469', 'disease_type': 'disease', 'disease_umlscui': 'C1335469', 'score': 0.5, 'ei': 1.0, 'el': None}, {'disease_name': 'Chemical and Drug Induced Liver Injury', 'HPO': None, 'NCI': None, 'OMIM': None, 'MONDO': 'MONDO:0005359', 'ORDO': None, 'EFO': 'EFO:0004228, EFO:0011052', 'DO': None, 'MESH': 'MESH:D056486', 'UMLS': 'UMLS:C4277682', 'disease_type': 'disease', 'disease_umlscui': 'C4277682', 'score': 0.45, 'ei': 1.0, 'el': None}, {'disease_name': 'Cryoglobulinemia', 'HPO': 'HPO:HP:0100778', 'NCI': 'NCI:C26736', 'OMIM': None, 'MONDO': 'MONDO:0005576', 'ORDO': None, 'EFO': 'EFO:0005846', 'DO': 'DOID:2917', 'MESH': 'MESH:D003449', 'UMLS': 'UMLS:C0010403', 'disease_type': 'disease', 'disease_umlscui': 'C0010403', 'score': 0.45, 'ei': 1.0, 'el': None}, {'disease_name': 'Chronic left-sided ulcerative colitis (disorder)', 'HPO': None, 'NCI': None, 'OMIM': None, 'MONDO': 'MONDO:0005101', 'ORDO': None, 'EFO': 'EFO:0000729', 'DO': 'DOID:8577', 'MESH': None, 'UMLS': 'UMLS:C0375359', 'disease_type': 'disease', 'disease_umlscui': 'C0375359', 'score': 0.45, 'ei': 1.0, 'el': None}, {'disease_name': 'Colitis, granulomatous', 'HPO': None, 'NCI': 'NCI:C35211, NCI:C37262', 'OMIM': None, 'MONDO': 'MONDO:0005532, MONDO:0005011', 'ORDO': None, 'EFO': 'EFO:0000384, EFO:0005622', 'DO': 'DOID:0060192, DOID:8778', 'MESH': 'MESH:D003424', 'UMLS': 'UMLS:C0156147', 'disease_type': 'disease', 'disease_umlscui': 'C0156147', 'score': 0.45, 'ei': 1.0, 'el': None}, {'disease_name': 'COLCHICINE RESISTANCE', 'HPO': None, 'NCI': None, 'OMIM': 'MIM:120080, MIM:171050', 'MONDO': None, 'ORDO': None, 'EFO': None, 'DO': None, 'MESH': None, 'UMLS': 'UMLS:C1861502', 'disease_type': 'disease', 'disease_umlscui': 'C1861502', 'score': 0.4, 'ei': 1.0, 'el': None}, {'disease_name': 'Symptomatic Parkinsonism', 'HPO': None, 'NCI': 'NCI:C34899', 'OMIM': None, 'MONDO': 'MONDO:0006966', 'ORDO': None, 'EFO': 'EFO:1001175', 'DO': 'DOID:13548', 'MESH': 'MESH:D010302', 'UMLS': 'UMLS:C0030569', 'disease_type': 'disease', 'disease_umlscui': 'C0030569', 'score': 0.4, 'ei': 1.0, 'el': None}, {'disease_name': 'Disease, Primary Myocardial', 'HPO': None, 'NCI': 'NCI:C53654', 'OMIM': None, 'MONDO': 'MONDO:0004994, MONDO:0005110', 'ORDO': 'ORDO:167848', 'EFO': 'EFO:0000318, EFO:0000767', 'DO': 'DOID:0050700', 'MESH': 'MESH:D009202', 'UMLS': 'UMLS:C0033141', 'disease_type': 'disease', 'disease_umlscui': 'C0033141', 'score': 0.4, 'ei': 1.0, 'el': None}, {'disease_name': 'Non-Neoplastic Peripheral Nervous System Disease', 'HPO': None, 'NCI': 'NCI:C27587', 'OMIM': None, 'MONDO': 'MONDO:0003620', 'ORDO': None, 'EFO': 'EFO:0009387', 'DO': 'DOID:574', 'MESH': None, 'UMLS': 'UMLS:C1335029', 'disease_type': 'disease', 'disease_umlscui': 'C1335029', 'score': 0.4, 'ei': 1.0, 'el': None}, {'disease_name': 'Dysentery', 'HPO': None, 'NCI': None, 'OMIM': None, 'MONDO': 'MONDO:0001517, MONDO:0001673', 'ORDO': None, 'EFO': 'EFO:1001869', 'DO': 'DOID:12384, DOID:13250', 'MESH': 'MESH:D004403', 'UMLS': 'UMLS:C0013369', 'disease_type': 'disease', 'disease_umlscui': 'C0013369', 'score': 0.4, 'ei': 1.0, 'el': None}, {'disease_name': 'Abuse, Cannabis', 'HPO': None, 'NCI': None, 'OMIM': None, 'MONDO': 'MONDO:0005689', 'ORDO': None, 'EFO': 'EFO:0007191', 'DO': 'DOID:1849, DOID:9505', 'MESH': 'MESH:D002189', 'UMLS': 'UMLS:C0006868', 'disease_type': 'disease', 'disease_umlscui': 'C0006868', 'score': 0.4, 'ei': 1.0, 'el': None}, {'disease_name': 'Damage, Reperfusion', 'HPO': None, 'NCI': 'NCI:C193389', 'OMIM': None, 'MONDO': 'MONDO:0005203', 'ORDO': None, 'EFO': 'EFO:0002687', 'DO': None, 'MESH': 'MESH:D015427', 'UMLS': 'UMLS:C0035126', 'disease_type': 'disease', 'disease_umlscui': 'C0035126', 'score': 0.4, 'ei': 1.0, 'el': None}, {'disease_name': 'Disease, Secondary Myocardial', 'HPO': None, 'NCI': None, 'OMIM': None, 'MONDO': 'MONDO:0004994', 'ORDO': 'ORDO:167848', 'EFO': 'EFO:0000318', 'DO': 'DOID:0050700', 'MESH': 'MESH:D009202', 'UMLS': 'UMLS:C0036529', 'disease_type': 'disease', 'disease_umlscui': 'C0036529', 'score': 0.4, 'ei': 1.0, 'el': None}, {'disease_name': 'Epithelioma, malignant', 'HPO': None, 'NCI': None, 'OMIM': None, 'MONDO': 'MONDO:0004993', 'ORDO': None, 'EFO': 'EFO:0000313', 'DO': 'DOID:305', 'MESH': None, 'UMLS': 'UMLS:C0553707', 'disease_type': 'disease', 'disease_umlscui': 'C0553707', 'score': 0.4, 'ei': 1.0, 'el': None}, {'disease_name': 'Chromosomal Translocations', 'HPO': None, 'NCI': 'NCI:C25756, NCI:C3420', 'OMIM': None, 'MONDO': None, 'ORDO': None, 'EFO': None, 'DO': None, 'MESH': 'MESH:D014178', 'UMLS': 'UMLS:C0040715', 'disease_type': 'phenotype', 'disease_umlscui': 'C0040715', 'score': 0.4, 'ei': 1.0, 'el': None}, {'disease_name': 'Aseptic necrosis talus', 'HPO': None, 'NCI': None, 'OMIM': None, 'MONDO': 'MONDO:0005380', 'ORDO': None, 'EFO': 'EFO:0004259', 'DO': 'DOID:10159', 'MESH': None, 'UMLS': 'UMLS:C0158451', 'disease_type': 'disease', 'disease_umlscui': 'C0158451', 'score': 0.4, 'ei': nan, 'el': None}, {'disease_name': 'Avascular necrosis of bone', 'HPO': 'HPO:HP:0010885', 'NCI': 'NCI:C34841', 'OMIM': None, 'MONDO': 'MONDO:0005380, MONDO:0018373', 'ORDO': 'ORDO:399164, ORDO:399158', 'EFO': 'EFO:0004259', 'DO': 'DOID:10159', 'MESH': 'MESH:D010020', 'UMLS': 'UMLS:C0027543', 'disease_type': 'disease', 'disease_umlscui': 'C0027543', 'score': 0.4, 'ei': nan, 'el': None}, {'disease_name': 'aseptic necrosis of humerus', 'HPO': None, 'NCI': 'NCI:C35517', 'OMIM': None, 'MONDO': 'MONDO:0005380', 'ORDO': None, 'EFO': 'EFO:0004259', 'DO': 'DOID:10159', 'MESH': None, 'UMLS': 'UMLS:C0745048', 'disease_type': 'disease', 'disease_umlscui': 'C0745048', 'score': 0.4, 'ei': nan, 'el': None}, {'disease_name': 'Asept necro femur condyl', 'HPO': None, 'NCI': None, 'OMIM': None, 'MONDO': 'MONDO:0005380', 'ORDO': None, 'EFO': 'EFO:0004259', 'DO': 'DOID:10159', 'MESH': None, 'UMLS': 'UMLS:C0158450', 'disease_type': 'disease', 'disease_umlscui': 'C0158450', 'score': 0.4, 'ei': nan, 'el': None}, {'disease_name': 'Other specified drug dependence', 'HPO': None, 'NCI': None, 'OMIM': None, 'MONDO': 'MONDO:0005303', 'ORDO': None, 'EFO': 'EFO:0003890', 'DO': 'DOID:9974', 'MESH': None, 'UMLS': 'UMLS:C0029792', 'disease_type': 'disease', 'disease_umlscui': 'C0029792', 'score': 0.4, 'ei': nan, 'el': None}, {'disease_name': 'Aseptic necrosis femur', 'HPO': None, 'NCI': 'NCI:C34404', 'OMIM': None, 'MONDO': 'MONDO:0005380', 'ORDO': None, 'EFO': 'EFO:0004259', 'DO': 'DOID:10159', 'MESH': None, 'UMLS': 'UMLS:C0003977', 'disease_type': 'disease', 'disease_umlscui': 'C0003977', 'score': 0.4, 'ei': nan, 'el': None}, {'disease_name': 'Osteonecroses', 'HPO': 'HPO:HP:0010885', 'NCI': 'NCI:C34880', 'OMIM': None, 'MONDO': 'MONDO:0005380', 'ORDO': 'ORDO:399158', 'EFO': 'EFO:0004259', 'DO': 'DOID:10159', 'MESH': 'MESH:D010020', 'UMLS': 'UMLS:C0029445', 'disease_type': 'phenotype', 'disease_umlscui': 'C0029445', 'score': 0.4, 'ei': nan, 'el': None}, {'disease_name': 'Atopic rhinitis', 'HPO': None, 'NCI': 'NCI:C34987', 'OMIM': None, 'MONDO': 'MONDO:0011786', 'ORDO': None, 'EFO': 'EFO:0005854', 'DO': 'DOID:4481', 'MESH': None, 'UMLS': 'UMLS:C0002103', 'disease_type': 'disease', 'disease_umlscui': 'C0002103', 'score': 0.4, 'ei': nan, 'el': None}, {'disease_name': 'juvenile osteochondrosis of upper extremity (diagnosis)', 'HPO': None, 'NCI': None, 'OMIM': None, 'MONDO': 'MONDO:0005380', 'ORDO': None, 'EFO': 'EFO:0004259', 'DO': 'DOID:10159', 'MESH': None, 'UMLS': 'UMLS:C0158442', 'disease_type': 'disease', 'disease_umlscui': 'C0158442', 'score': 0.4, 'ei': nan, 'el': None}, {'disease_name': 'Aseptic necrosis humerus', 'HPO': None, 'NCI': 'NCI:C35226', 'OMIM': None, 'MONDO': 'MONDO:0005380', 'ORDO': None, 'EFO': 'EFO:0004259', 'DO': 'DOID:10159', 'MESH': None, 'UMLS': 'UMLS:C0158449', 'disease_type': 'disease', 'disease_umlscui': 'C0158449', 'score': 0.4, 'ei': nan, 'el': None}, {'disease_name': 'Hereditary Breast and Ovarian Cancer Syndrome', 'HPO': None, 'NCI': 'NCI:C8493', 'OMIM': None, 'MONDO': 'MONDO:0003582', 'ORDO': 'ORDO:145', 'EFO': None, 'DO': 'DOID:5683', 'MESH': 'MESH:D061325', 'UMLS': 'UMLS:C0677776', 'disease_type': 'disease', 'disease_umlscui': 'C0677776', 'score': 0.4, 'ei': nan, 'el': None}]"
        ],
        [
         "8",
         "ENSMUSG00000028937",
         "Ensembl",
         "ENSMUSG00000028937",
         "Ensembl",
         "[{'pathway_id': nan, 'pathway_label': nan, 'pathway_gene_count': nan}]",
         "[{'stringdb_link_to': nan, 'Ensembl': nan, 'score': nan, 'Uniprot-TrEMBL': None, 'Uniprot-TrEMBL_link': None}]",
         "[{'homolog': 'ENSG00000097021'}]",
         "[{'pathway_id': 'path:mmu00062', 'pathway_label': 'Fatty acid elongation - Mus musculus (house mouse)', 'gene_count': 28, 'compounds': [{'KEGG_identifier': 'C00024'}, {'KEGG_identifier': 'C00040'}, {'KEGG_identifier': 'C00083'}, {'KEGG_identifier': 'C00136'}, {'KEGG_identifier': 'C00154'}, {'KEGG_identifier': 'C00162'}, {'KEGG_identifier': 'C00249'}, {'KEGG_identifier': 'C00264'}, {'KEGG_identifier': 'C00605'}, {'KEGG_identifier': 'C00638'}, {'KEGG_identifier': 'C00640'}, {'KEGG_identifier': 'C00658'}, {'KEGG_identifier': 'C01832'}, {'KEGG_identifier': 'C01944'}, {'KEGG_identifier': 'C02593'}, {'KEGG_identifier': 'C02843'}, {'KEGG_identifier': 'C03221'}, {'KEGG_identifier': 'C05258'}, {'KEGG_identifier': 'C05259'}, {'KEGG_identifier': 'C05260'}, {'KEGG_identifier': 'C05261'}, {'KEGG_identifier': 'C05262'}, {'KEGG_identifier': 'C05263'}, {'KEGG_identifier': 'C05264'}, {'KEGG_identifier': 'C05265'}, {'KEGG_identifier': 'C05266'}, {'KEGG_identifier': 'C05267'}, {'KEGG_identifier': 'C05268'}, {'KEGG_identifier': 'C05269'}, {'KEGG_identifier': 'C05270'}, {'KEGG_identifier': 'C05271'}, {'KEGG_identifier': 'C05272'}, {'KEGG_identifier': 'C05273'}, {'KEGG_identifier': 'C05274'}, {'KEGG_identifier': 'C05275'}, {'KEGG_identifier': 'C05276'}, {'KEGG_identifier': 'C20876'}, {'KEGG_identifier': 'C20877'}, {'KEGG_identifier': 'C20878'}, {'KEGG_identifier': 'C20879'}]}, {'pathway_id': 'path:mmu01040', 'pathway_label': 'Biosynthesis of unsaturated fatty acids - Mus musculus (house mouse)', 'gene_count': 33, 'compounds': [{'KEGG_identifier': 'C00154'}, {'KEGG_identifier': 'C00219'}, {'KEGG_identifier': 'C00249'}, {'KEGG_identifier': 'C00412'}, {'KEGG_identifier': 'C00510'}, {'KEGG_identifier': 'C00712'}, {'KEGG_identifier': 'C01203'}, {'KEGG_identifier': 'C01530'}, {'KEGG_identifier': 'C01595'}, {'KEGG_identifier': 'C02041'}, {'KEGG_identifier': 'C02050'}, {'KEGG_identifier': 'C02249'}, {'KEGG_identifier': 'C03035'}, {'KEGG_identifier': 'C03242'}, {'KEGG_identifier': 'C03595'}, {'KEGG_identifier': 'C04088'}, {'KEGG_identifier': 'C05764'}, {'KEGG_identifier': 'C06425'}, {'KEGG_identifier': 'C06426'}, {'KEGG_identifier': 'C06427'}, {'KEGG_identifier': 'C06428'}, {'KEGG_identifier': 'C06429'}, {'KEGG_identifier': 'C08281'}, {'KEGG_identifier': 'C08316'}, {'KEGG_identifier': 'C08320'}, {'KEGG_identifier': 'C08323'}, {'KEGG_identifier': 'C16160'}, {'KEGG_identifier': 'C16161'}, {'KEGG_identifier': 'C16162'}, {'KEGG_identifier': 'C16163'}, {'KEGG_identifier': 'C16164'}, {'KEGG_identifier': 'C16165'}, {'KEGG_identifier': 'C16166'}, {'KEGG_identifier': 'C16167'}, {'KEGG_identifier': 'C16168'}, {'KEGG_identifier': 'C16169'}, {'KEGG_identifier': 'C16170'}, {'KEGG_identifier': 'C16171'}, {'KEGG_identifier': 'C16172'}, {'KEGG_identifier': 'C16173'}, {'KEGG_identifier': 'C16179'}, {'KEGG_identifier': 'C16180'}, {'KEGG_identifier': 'C16513'}, {'KEGG_identifier': 'C16522'}, {'KEGG_identifier': 'C16525'}, {'KEGG_identifier': 'C16526'}, {'KEGG_identifier': 'C16527'}, {'KEGG_identifier': 'C16528'}, {'KEGG_identifier': 'C16529'}, {'KEGG_identifier': 'C16530'}, {'KEGG_identifier': 'C16531'}, {'KEGG_identifier': 'C16532'}, {'KEGG_identifier': 'C16533'}, {'KEGG_identifier': 'C16645'}, {'KEGG_identifier': 'C17279'}, {'KEGG_identifier': 'C21072'}, {'KEGG_identifier': 'C21932'}, {'KEGG_identifier': 'C21934'}, {'KEGG_identifier': 'C21935'}, {'KEGG_identifier': 'C21937'}, {'KEGG_identifier': 'C21939'}, {'KEGG_identifier': 'C21941'}, {'KEGG_identifier': 'C21943'}, {'KEGG_identifier': 'C21945'}, {'KEGG_identifier': 'C21947'}, {'KEGG_identifier': 'C21949'}, {'KEGG_identifier': 'C21951'}, {'KEGG_identifier': 'C21953'}, {'KEGG_identifier': 'C21959'}, {'KEGG_identifier': 'C21961'}, {'KEGG_identifier': 'C21963'}, {'KEGG_identifier': 'C21965'}, {'KEGG_identifier': 'C21967'}, {'KEGG_identifier': 'C21981'}]}, {'pathway_id': 'path:mmu01100', 'pathway_label': 'Metabolic pathways - Mus musculus (house mouse)', 'gene_count': 0, 'compounds': [{'KEGG_identifier': None}]}, {'gene_count': 0, 'compounds': [{'KEGG_identifier': None}]}]",
         "ENSG00000097021",
         "[{'pathway_label': 'Mitochondrial Fatty Acid Beta-Oxidation', 'pathway_id': 'Reactome:R-HSA-77289'}]",
         "[{'go_id': 'GO:0070062', 'go_name': 'extracellular exosome', 'go_type': 'C'}, {'go_id': 'GO:0005515', 'go_name': 'protein binding', 'go_type': 'F'}, {'go_id': 'GO:0042803', 'go_name': 'protein homodimerization activity', 'go_type': 'F'}, {'go_id': 'GO:0005737', 'go_name': 'cytoplasm', 'go_type': 'C'}, {'go_id': 'GO:0052816', 'go_name': 'long-chain fatty acyl-CoA hydrolase activity', 'go_type': 'F'}, {'go_id': 'GO:0036042', 'go_name': 'long-chain fatty acyl-CoA binding', 'go_type': 'F'}, {'go_id': 'GO:0005654', 'go_name': 'nucleoplasm', 'go_type': 'C'}, {'go_id': 'GO:0036116', 'go_name': 'long-chain fatty-acyl-CoA catabolic process', 'go_type': 'P'}, {'go_id': 'GO:0006637', 'go_name': 'acyl-CoA metabolic process', 'go_type': 'P'}, {'go_id': 'GO:0015937', 'go_name': 'coenzyme A biosynthetic process', 'go_type': 'P'}, {'go_id': 'GO:0000062', 'go_name': 'fatty-acyl-CoA binding', 'go_type': 'F'}, {'go_id': 'GO:0009062', 'go_name': 'fatty acid catabolic process', 'go_type': 'P'}, {'go_id': 'GO:0005829', 'go_name': 'cytosol', 'go_type': 'C'}, {'go_id': 'GO:1900535', 'go_name': 'palmitic acid biosynthetic process', 'go_type': 'P'}, {'go_id': 'GO:0005739', 'go_name': 'mitochondrion', 'go_type': 'C'}, {'go_id': 'GO:0051792', 'go_name': 'medium-chain fatty acid biosynthetic process', 'go_type': 'P'}, {'go_id': 'GO:0052689', 'go_name': 'carboxylic ester hydrolase activity', 'go_type': 'F'}, {'go_id': 'GO:0036114', 'go_name': 'medium-chain fatty-acyl-CoA catabolic process', 'go_type': 'P'}]",
         "[{'chembl_id': nan, 'drugbank_id': nan, 'compound_cid': nan, 'compound_name': nan, 'clincal_trial_phase': nan, 'is_approved': nan, 'relation': nan, 'adverse_effect_count': nan, 'adverse_effect': nan}]",
         "[{'disease_name': nan, 'HPO': nan, 'NCI': nan, 'OMIM': nan, 'MONDO': nan, 'ORDO': nan, 'EFO': nan, 'DO': nan, 'MESH': nan, 'UMLS': nan, 'disease_type': nan, 'disease_umlscui': nan, 'score': nan, 'ei': nan, 'el': nan}]"
        ],
        [
         "9",
         "ENSMUSG00000075044",
         "Ensembl",
         "ENSMUSG00000075044",
         "Ensembl",
         "[{'pathway_id': nan, 'pathway_label': nan, 'pathway_gene_count': nan}]",
         "[{'stringdb_link_to': nan, 'Ensembl': nan, 'score': nan, 'Uniprot-TrEMBL': None, 'Uniprot-TrEMBL_link': None}]",
         "[{'homolog': 'ENSG00000149742'}]",
         "[{'pathway_id': nan, 'pathway_label': nan, 'gene_count': nan, 'compounds': [{'KEGG_identifier': None, 'name': None}]}]",
         "ENSG00000149742",
         "[{'pathway_label': nan, 'pathway_id': nan}]",
         "[{'go_id': 'GO:0015711', 'go_name': 'organic anion transport', 'go_type': 'P'}, {'go_id': 'GO:0043252', 'go_name': 'sodium-independent organic anion transport', 'go_type': 'P'}, {'go_id': 'GO:0015636', 'go_name': 'short-chain fatty acid transmembrane transporter activity', 'go_type': 'F'}, {'go_id': 'GO:0009914', 'go_name': 'hormone transport', 'go_type': 'P'}, {'go_id': 'GO:0016323', 'go_name': 'basolateral plasma membrane', 'go_type': 'C'}, {'go_id': 'GO:0015347', 'go_name': 'sodium-independent organic anion transmembrane transporter activity', 'go_type': 'F'}, {'go_id': 'GO:0015913', 'go_name': 'short-chain fatty acid transmembrane transport', 'go_type': 'P'}, {'go_id': 'GO:0008514', 'go_name': 'organic anion transmembrane transporter activity', 'go_type': 'F'}]",
         "[{'chembl_id': nan, 'drugbank_id': nan, 'compound_cid': nan, 'compound_name': nan, 'clincal_trial_phase': nan, 'is_approved': nan, 'relation': nan, 'adverse_effect_count': nan, 'adverse_effect': nan}]",
         "[{'disease_name': 'Constitutional Mismatch Repair Deficiency Syndrome', 'HPO': None, 'NCI': 'NCI:C130202', 'OMIM': None, 'MONDO': 'MONDO:0031219, MONDO:0010159', 'ORDO': 'ORDO:252202', 'EFO': None, 'DO': None, 'MESH': None, 'UMLS': 'UMLS:C4321324', 'disease_type': 'disease', 'disease_umlscui': 'C4321324', 'score': 0.45, 'ei': 1.0, 'el': None}, {'disease_name': 'Lynch Syndrome', 'HPO': None, 'NCI': 'NCI:C8494', 'OMIM': None, 'MONDO': 'MONDO:0005835', 'ORDO': 'ORDO:144', 'EFO': None, 'DO': 'DOID:3883', 'MESH': 'MESH:D003123', 'UMLS': 'UMLS:C4552100', 'disease_type': 'disease', 'disease_umlscui': 'C4552100', 'score': 0.45, 'ei': 1.0, 'el': None}, {'disease_name': 'BTPS1', 'HPO': None, 'NCI': None, 'OMIM': 'MIM:276300, MIM:120436', 'MONDO': 'MONDO:0031219, MONDO:0010159', 'ORDO': None, 'EFO': None, 'DO': 'DOID:0112182', 'MESH': 'MESH:C536928', 'UMLS': 'UMLS:C5399763', 'disease_type': 'disease', 'disease_umlscui': 'C5399763', 'score': 0.45, 'ei': 1.0, 'el': None}, {'disease_name': 'Colorectal Neoplasms, Hereditary Nonpolyposis', 'HPO': None, 'NCI': None, 'OMIM': None, 'MONDO': 'MONDO:0005835', 'ORDO': 'ORDO:144', 'EFO': None, 'DO': 'DOID:3883', 'MESH': 'MESH:D003123', 'UMLS': 'UMLS:C0009405', 'disease_type': 'disease', 'disease_umlscui': 'C0009405', 'score': 0.45, 'ei': 1.0, 'el': None}, {'disease_name': 'CRC', 'HPO': None, 'NCI': 'NCI:C2955', 'OMIM': 'MIM:114500, MIM:516000, MIM:516004, MIM:516030, MIM:516040, MIM:172411, MIM:191170, MIM:516020', 'MONDO': 'MONDO:0005335, MONDO:0005575, MONDO:0024331', 'ORDO': None, 'EFO': 'EFO:0000365, EFO:0004142, EFO:1001951', 'DO': 'DOID:0080199, DOID:9256', 'MESH': 'MESH:D015179', 'UMLS': 'UMLS:C0009402', 'disease_type': 'disease', 'disease_umlscui': 'C0009402', 'score': 0.4, 'ei': nan, 'el': None}, {'disease_name': 'Cancer, Breast', 'HPO': None, 'NCI': 'NCI:C9335', 'OMIM': 'MIM:114480', 'MONDO': 'MONDO:0007254, MONDO:0021100, MONDO:0016419', 'ORDO': None, 'EFO': 'EFO:0000305, EFO:0003869', 'DO': 'DOID:1612, DOID:3459', 'MESH': 'MESH:D001943', 'UMLS': 'UMLS:C0006142', 'disease_type': 'disease', 'disease_umlscui': 'C0006142', 'score': 0.4, 'ei': nan, 'el': None}]"
        ]
       ],
       "shape": {
        "columns": 13,
        "rows": 10
       }
      },
      "text/html": [
       "<div>\n",
       "<style scoped>\n",
       "    .dataframe tbody tr th:only-of-type {\n",
       "        vertical-align: middle;\n",
       "    }\n",
       "\n",
       "    .dataframe tbody tr th {\n",
       "        vertical-align: top;\n",
       "    }\n",
       "\n",
       "    .dataframe thead th {\n",
       "        text-align: right;\n",
       "    }\n",
       "</style>\n",
       "<table border=\"1\" class=\"dataframe\">\n",
       "  <thead>\n",
       "    <tr style=\"text-align: right;\">\n",
       "      <th></th>\n",
       "      <th>identifier</th>\n",
       "      <th>identifier.source</th>\n",
       "      <th>target</th>\n",
       "      <th>target.source</th>\n",
       "      <th>WikiPathways</th>\n",
       "      <th>StringDB_ppi</th>\n",
       "      <th>Ensembl_homologs</th>\n",
       "      <th>KEGG_pathways</th>\n",
       "      <th>homolog</th>\n",
       "      <th>OpenTargets_reactome</th>\n",
       "      <th>OpenTargets_go</th>\n",
       "      <th>OpenTargets_gene_compounds</th>\n",
       "      <th>DISGENET_diseases</th>\n",
       "    </tr>\n",
       "  </thead>\n",
       "  <tbody>\n",
       "    <tr>\n",
       "      <th>0</th>\n",
       "      <td>ENSMUSG00000026295</td>\n",
       "      <td>Ensembl</td>\n",
       "      <td>ENSMUSG00000026295</td>\n",
       "      <td>Ensembl</td>\n",
       "      <td>[{'pathway_id': nan, 'pathway_label': nan, 'pa...</td>\n",
       "      <td>[{'stringdb_link_to': nan, 'Ensembl': nan, 'sc...</td>\n",
       "      <td>[{'homolog': 'ENSG00000072080'}]</td>\n",
       "      <td>[{'pathway_id': nan, 'pathway_label': nan, 'ge...</td>\n",
       "      <td>ENSG00000072080</td>\n",
       "      <td>[{'pathway_label': 'Platelet degranulation ', ...</td>\n",
       "      <td>[{'go_id': 'GO:0005788', 'go_name': 'endoplasm...</td>\n",
       "      <td>[{'chembl_id': nan, 'drugbank_id': nan, 'compo...</td>\n",
       "      <td>[{'disease_name': 'Retinal dystrophy', 'HPO': ...</td>\n",
       "    </tr>\n",
       "    <tr>\n",
       "      <th>1</th>\n",
       "      <td>ENSMUSG00000022877</td>\n",
       "      <td>Ensembl</td>\n",
       "      <td>ENSMUSG00000022877</td>\n",
       "      <td>Ensembl</td>\n",
       "      <td>[{'pathway_id': nan, 'pathway_label': nan, 'pa...</td>\n",
       "      <td>[{'stringdb_link_to': nan, 'Ensembl': nan, 'sc...</td>\n",
       "      <td>[{'homolog': 'ENSG00000113905'}]</td>\n",
       "      <td>[{'pathway_id': nan, 'pathway_label': nan, 'ge...</td>\n",
       "      <td>ENSG00000113905</td>\n",
       "      <td>[{'pathway_label': 'Platelet degranulation ', ...</td>\n",
       "      <td>[{'go_id': 'GO:0005576', 'go_name': 'extracell...</td>\n",
       "      <td>[{'chembl_id': nan, 'drugbank_id': nan, 'compo...</td>\n",
       "      <td>[{'disease_name': 'Breast Neoplasms', 'HPO': '...</td>\n",
       "    </tr>\n",
       "    <tr>\n",
       "      <th>2</th>\n",
       "      <td>ENSMUSG00000020914</td>\n",
       "      <td>Ensembl</td>\n",
       "      <td>ENSMUSG00000020914</td>\n",
       "      <td>Ensembl</td>\n",
       "      <td>[{'pathway_id': nan, 'pathway_label': nan, 'pa...</td>\n",
       "      <td>[{'stringdb_link_to': nan, 'Ensembl': nan, 'sc...</td>\n",
       "      <td>[{'homolog': 'ENSG00000131747'}]</td>\n",
       "      <td>[{'pathway_id': 'path:mmu01524', 'pathway_labe...</td>\n",
       "      <td>ENSG00000131747</td>\n",
       "      <td>[{'pathway_label': 'SUMOylation of DNA replica...</td>\n",
       "      <td>[{'go_id': 'GO:0046982', 'go_name': 'protein h...</td>\n",
       "      <td>[{'chembl_id': 'CHEMBL:CHEMBL44657', 'drugbank...</td>\n",
       "      <td>[{'disease_name': 'Breast Neoplasms', 'HPO': '...</td>\n",
       "    </tr>\n",
       "    <tr>\n",
       "      <th>3</th>\n",
       "      <td>ENSMUSG00000024747</td>\n",
       "      <td>Ensembl</td>\n",
       "      <td>ENSMUSG00000024747</td>\n",
       "      <td>Ensembl</td>\n",
       "      <td>[{'pathway_id': nan, 'pathway_label': nan, 'pa...</td>\n",
       "      <td>[{'stringdb_link_to': nan, 'Ensembl': nan, 'sc...</td>\n",
       "      <td>[{'homolog': 'ENSG00000165092'}]</td>\n",
       "      <td>[{'pathway_id': 'path:mmu00830', 'pathway_labe...</td>\n",
       "      <td>ENSG00000165092</td>\n",
       "      <td>[{'pathway_label': 'Fructose catabolism', 'pat...</td>\n",
       "      <td>[{'go_id': 'GO:0051287', 'go_name': 'NAD bindi...</td>\n",
       "      <td>[{'chembl_id': nan, 'drugbank_id': nan, 'compo...</td>\n",
       "      <td>[{'disease_name': 'Melanoma', 'HPO': 'HPO:HP:0...</td>\n",
       "    </tr>\n",
       "    <tr>\n",
       "      <th>4</th>\n",
       "      <td>ENSMUSG00000032081</td>\n",
       "      <td>Ensembl</td>\n",
       "      <td>ENSMUSG00000032081</td>\n",
       "      <td>Ensembl</td>\n",
       "      <td>[{'pathway_id': 'WP:WP1', 'pathway_label': 'St...</td>\n",
       "      <td>[{'stringdb_link_to': nan, 'Ensembl': nan, 'sc...</td>\n",
       "      <td>[{'homolog': 'ENSG00000110245'}]</td>\n",
       "      <td>[{'pathway_id': 'path:mmu03320', 'pathway_labe...</td>\n",
       "      <td>ENSG00000110245</td>\n",
       "      <td>[{'pathway_label': 'Retinoid metabolism and tr...</td>\n",
       "      <td>[{'go_id': 'GO:0005543', 'go_name': 'phospholi...</td>\n",
       "      <td>[{'chembl_id': 'CHEMBL:CHEMBL3544989', 'drugba...</td>\n",
       "      <td>[{'disease_name': 'Coronary Disease', 'HPO': N...</td>\n",
       "    </tr>\n",
       "    <tr>\n",
       "      <th>5</th>\n",
       "      <td>ENSMUSG00000004035</td>\n",
       "      <td>Ensembl</td>\n",
       "      <td>ENSMUSG00000004035</td>\n",
       "      <td>Ensembl</td>\n",
       "      <td>[{'pathway_id': 'WP:WP4466', 'pathway_label': ...</td>\n",
       "      <td>[{'stringdb_link_to': nan, 'Ensembl': nan, 'sc...</td>\n",
       "      <td>[{'homolog': 'ENSG00000213366'}]</td>\n",
       "      <td>[{'pathway_id': 'path:mmu00480', 'pathway_labe...</td>\n",
       "      <td>ENSG00000213366</td>\n",
       "      <td>[{'pathway_label': 'Glutathione conjugation', ...</td>\n",
       "      <td>[{'go_id': 'GO:0043295', 'go_name': 'glutathio...</td>\n",
       "      <td>[{'chembl_id': nan, 'drugbank_id': nan, 'compo...</td>\n",
       "      <td>[{'disease_name': 'Carcinoma, Non Small Cell L...</td>\n",
       "    </tr>\n",
       "    <tr>\n",
       "      <th>6</th>\n",
       "      <td>ENSMUSG00000072949</td>\n",
       "      <td>Ensembl</td>\n",
       "      <td>ENSMUSG00000072949</td>\n",
       "      <td>Ensembl</td>\n",
       "      <td>[{'pathway_id': 'WP:WP4346', 'pathway_label': ...</td>\n",
       "      <td>[{'stringdb_link_to': nan, 'Ensembl': nan, 'sc...</td>\n",
       "      <td>[{'homolog': 'ENSG00000184227'}]</td>\n",
       "      <td>[{'pathway_id': 'path:mmu00062', 'pathway_labe...</td>\n",
       "      <td>ENSG00000184227</td>\n",
       "      <td>[{'pathway_label': 'Mitochondrial Fatty Acid B...</td>\n",
       "      <td>[{'go_id': 'GO:0052689', 'go_name': 'carboxyli...</td>\n",
       "      <td>[{'chembl_id': nan, 'drugbank_id': nan, 'compo...</td>\n",
       "      <td>[{'disease_name': 'Hepatomegaly', 'HPO': 'HPO:...</td>\n",
       "    </tr>\n",
       "    <tr>\n",
       "      <th>7</th>\n",
       "      <td>ENSMUSG00000028970</td>\n",
       "      <td>Ensembl</td>\n",
       "      <td>ENSMUSG00000028970</td>\n",
       "      <td>Ensembl</td>\n",
       "      <td>[{'pathway_id': nan, 'pathway_label': nan, 'pa...</td>\n",
       "      <td>[{'stringdb_link_to': nan, 'Ensembl': nan, 'sc...</td>\n",
       "      <td>[{'homolog': 'ENSG00000085563'}]</td>\n",
       "      <td>[{'pathway_id': 'path:mmu02010', 'pathway_labe...</td>\n",
       "      <td>ENSG00000085563</td>\n",
       "      <td>[{'pathway_label': 'Abacavir transmembrane tra...</td>\n",
       "      <td>[{'go_id': 'GO:0008559', 'go_name': 'ABC-type ...</td>\n",
       "      <td>[{'chembl_id': 'CHEMBL:CHEMBL1086218', 'drugba...</td>\n",
       "      <td>[{'disease_name': 'Breast Neoplasms', 'HPO': '...</td>\n",
       "    </tr>\n",
       "    <tr>\n",
       "      <th>8</th>\n",
       "      <td>ENSMUSG00000028937</td>\n",
       "      <td>Ensembl</td>\n",
       "      <td>ENSMUSG00000028937</td>\n",
       "      <td>Ensembl</td>\n",
       "      <td>[{'pathway_id': nan, 'pathway_label': nan, 'pa...</td>\n",
       "      <td>[{'stringdb_link_to': nan, 'Ensembl': nan, 'sc...</td>\n",
       "      <td>[{'homolog': 'ENSG00000097021'}]</td>\n",
       "      <td>[{'pathway_id': 'path:mmu00062', 'pathway_labe...</td>\n",
       "      <td>ENSG00000097021</td>\n",
       "      <td>[{'pathway_label': 'Mitochondrial Fatty Acid B...</td>\n",
       "      <td>[{'go_id': 'GO:0070062', 'go_name': 'extracell...</td>\n",
       "      <td>[{'chembl_id': nan, 'drugbank_id': nan, 'compo...</td>\n",
       "      <td>[{'disease_name': nan, 'HPO': nan, 'NCI': nan,...</td>\n",
       "    </tr>\n",
       "    <tr>\n",
       "      <th>9</th>\n",
       "      <td>ENSMUSG00000075044</td>\n",
       "      <td>Ensembl</td>\n",
       "      <td>ENSMUSG00000075044</td>\n",
       "      <td>Ensembl</td>\n",
       "      <td>[{'pathway_id': nan, 'pathway_label': nan, 'pa...</td>\n",
       "      <td>[{'stringdb_link_to': nan, 'Ensembl': nan, 'sc...</td>\n",
       "      <td>[{'homolog': 'ENSG00000149742'}]</td>\n",
       "      <td>[{'pathway_id': nan, 'pathway_label': nan, 'ge...</td>\n",
       "      <td>ENSG00000149742</td>\n",
       "      <td>[{'pathway_label': nan, 'pathway_id': nan}]</td>\n",
       "      <td>[{'go_id': 'GO:0015711', 'go_name': 'organic a...</td>\n",
       "      <td>[{'chembl_id': nan, 'drugbank_id': nan, 'compo...</td>\n",
       "      <td>[{'disease_name': 'Constitutional Mismatch Rep...</td>\n",
       "    </tr>\n",
       "  </tbody>\n",
       "</table>\n",
       "</div>"
      ],
      "text/plain": [
       "           identifier identifier.source              target target.source  \\\n",
       "0  ENSMUSG00000026295           Ensembl  ENSMUSG00000026295       Ensembl   \n",
       "1  ENSMUSG00000022877           Ensembl  ENSMUSG00000022877       Ensembl   \n",
       "2  ENSMUSG00000020914           Ensembl  ENSMUSG00000020914       Ensembl   \n",
       "3  ENSMUSG00000024747           Ensembl  ENSMUSG00000024747       Ensembl   \n",
       "4  ENSMUSG00000032081           Ensembl  ENSMUSG00000032081       Ensembl   \n",
       "5  ENSMUSG00000004035           Ensembl  ENSMUSG00000004035       Ensembl   \n",
       "6  ENSMUSG00000072949           Ensembl  ENSMUSG00000072949       Ensembl   \n",
       "7  ENSMUSG00000028970           Ensembl  ENSMUSG00000028970       Ensembl   \n",
       "8  ENSMUSG00000028937           Ensembl  ENSMUSG00000028937       Ensembl   \n",
       "9  ENSMUSG00000075044           Ensembl  ENSMUSG00000075044       Ensembl   \n",
       "\n",
       "                                        WikiPathways  \\\n",
       "0  [{'pathway_id': nan, 'pathway_label': nan, 'pa...   \n",
       "1  [{'pathway_id': nan, 'pathway_label': nan, 'pa...   \n",
       "2  [{'pathway_id': nan, 'pathway_label': nan, 'pa...   \n",
       "3  [{'pathway_id': nan, 'pathway_label': nan, 'pa...   \n",
       "4  [{'pathway_id': 'WP:WP1', 'pathway_label': 'St...   \n",
       "5  [{'pathway_id': 'WP:WP4466', 'pathway_label': ...   \n",
       "6  [{'pathway_id': 'WP:WP4346', 'pathway_label': ...   \n",
       "7  [{'pathway_id': nan, 'pathway_label': nan, 'pa...   \n",
       "8  [{'pathway_id': nan, 'pathway_label': nan, 'pa...   \n",
       "9  [{'pathway_id': nan, 'pathway_label': nan, 'pa...   \n",
       "\n",
       "                                        StringDB_ppi  \\\n",
       "0  [{'stringdb_link_to': nan, 'Ensembl': nan, 'sc...   \n",
       "1  [{'stringdb_link_to': nan, 'Ensembl': nan, 'sc...   \n",
       "2  [{'stringdb_link_to': nan, 'Ensembl': nan, 'sc...   \n",
       "3  [{'stringdb_link_to': nan, 'Ensembl': nan, 'sc...   \n",
       "4  [{'stringdb_link_to': nan, 'Ensembl': nan, 'sc...   \n",
       "5  [{'stringdb_link_to': nan, 'Ensembl': nan, 'sc...   \n",
       "6  [{'stringdb_link_to': nan, 'Ensembl': nan, 'sc...   \n",
       "7  [{'stringdb_link_to': nan, 'Ensembl': nan, 'sc...   \n",
       "8  [{'stringdb_link_to': nan, 'Ensembl': nan, 'sc...   \n",
       "9  [{'stringdb_link_to': nan, 'Ensembl': nan, 'sc...   \n",
       "\n",
       "                   Ensembl_homologs  \\\n",
       "0  [{'homolog': 'ENSG00000072080'}]   \n",
       "1  [{'homolog': 'ENSG00000113905'}]   \n",
       "2  [{'homolog': 'ENSG00000131747'}]   \n",
       "3  [{'homolog': 'ENSG00000165092'}]   \n",
       "4  [{'homolog': 'ENSG00000110245'}]   \n",
       "5  [{'homolog': 'ENSG00000213366'}]   \n",
       "6  [{'homolog': 'ENSG00000184227'}]   \n",
       "7  [{'homolog': 'ENSG00000085563'}]   \n",
       "8  [{'homolog': 'ENSG00000097021'}]   \n",
       "9  [{'homolog': 'ENSG00000149742'}]   \n",
       "\n",
       "                                       KEGG_pathways          homolog  \\\n",
       "0  [{'pathway_id': nan, 'pathway_label': nan, 'ge...  ENSG00000072080   \n",
       "1  [{'pathway_id': nan, 'pathway_label': nan, 'ge...  ENSG00000113905   \n",
       "2  [{'pathway_id': 'path:mmu01524', 'pathway_labe...  ENSG00000131747   \n",
       "3  [{'pathway_id': 'path:mmu00830', 'pathway_labe...  ENSG00000165092   \n",
       "4  [{'pathway_id': 'path:mmu03320', 'pathway_labe...  ENSG00000110245   \n",
       "5  [{'pathway_id': 'path:mmu00480', 'pathway_labe...  ENSG00000213366   \n",
       "6  [{'pathway_id': 'path:mmu00062', 'pathway_labe...  ENSG00000184227   \n",
       "7  [{'pathway_id': 'path:mmu02010', 'pathway_labe...  ENSG00000085563   \n",
       "8  [{'pathway_id': 'path:mmu00062', 'pathway_labe...  ENSG00000097021   \n",
       "9  [{'pathway_id': nan, 'pathway_label': nan, 'ge...  ENSG00000149742   \n",
       "\n",
       "                                OpenTargets_reactome  \\\n",
       "0  [{'pathway_label': 'Platelet degranulation ', ...   \n",
       "1  [{'pathway_label': 'Platelet degranulation ', ...   \n",
       "2  [{'pathway_label': 'SUMOylation of DNA replica...   \n",
       "3  [{'pathway_label': 'Fructose catabolism', 'pat...   \n",
       "4  [{'pathway_label': 'Retinoid metabolism and tr...   \n",
       "5  [{'pathway_label': 'Glutathione conjugation', ...   \n",
       "6  [{'pathway_label': 'Mitochondrial Fatty Acid B...   \n",
       "7  [{'pathway_label': 'Abacavir transmembrane tra...   \n",
       "8  [{'pathway_label': 'Mitochondrial Fatty Acid B...   \n",
       "9        [{'pathway_label': nan, 'pathway_id': nan}]   \n",
       "\n",
       "                                      OpenTargets_go  \\\n",
       "0  [{'go_id': 'GO:0005788', 'go_name': 'endoplasm...   \n",
       "1  [{'go_id': 'GO:0005576', 'go_name': 'extracell...   \n",
       "2  [{'go_id': 'GO:0046982', 'go_name': 'protein h...   \n",
       "3  [{'go_id': 'GO:0051287', 'go_name': 'NAD bindi...   \n",
       "4  [{'go_id': 'GO:0005543', 'go_name': 'phospholi...   \n",
       "5  [{'go_id': 'GO:0043295', 'go_name': 'glutathio...   \n",
       "6  [{'go_id': 'GO:0052689', 'go_name': 'carboxyli...   \n",
       "7  [{'go_id': 'GO:0008559', 'go_name': 'ABC-type ...   \n",
       "8  [{'go_id': 'GO:0070062', 'go_name': 'extracell...   \n",
       "9  [{'go_id': 'GO:0015711', 'go_name': 'organic a...   \n",
       "\n",
       "                          OpenTargets_gene_compounds  \\\n",
       "0  [{'chembl_id': nan, 'drugbank_id': nan, 'compo...   \n",
       "1  [{'chembl_id': nan, 'drugbank_id': nan, 'compo...   \n",
       "2  [{'chembl_id': 'CHEMBL:CHEMBL44657', 'drugbank...   \n",
       "3  [{'chembl_id': nan, 'drugbank_id': nan, 'compo...   \n",
       "4  [{'chembl_id': 'CHEMBL:CHEMBL3544989', 'drugba...   \n",
       "5  [{'chembl_id': nan, 'drugbank_id': nan, 'compo...   \n",
       "6  [{'chembl_id': nan, 'drugbank_id': nan, 'compo...   \n",
       "7  [{'chembl_id': 'CHEMBL:CHEMBL1086218', 'drugba...   \n",
       "8  [{'chembl_id': nan, 'drugbank_id': nan, 'compo...   \n",
       "9  [{'chembl_id': nan, 'drugbank_id': nan, 'compo...   \n",
       "\n",
       "                                   DISGENET_diseases  \n",
       "0  [{'disease_name': 'Retinal dystrophy', 'HPO': ...  \n",
       "1  [{'disease_name': 'Breast Neoplasms', 'HPO': '...  \n",
       "2  [{'disease_name': 'Breast Neoplasms', 'HPO': '...  \n",
       "3  [{'disease_name': 'Melanoma', 'HPO': 'HPO:HP:0...  \n",
       "4  [{'disease_name': 'Coronary Disease', 'HPO': N...  \n",
       "5  [{'disease_name': 'Carcinoma, Non Small Cell L...  \n",
       "6  [{'disease_name': 'Hepatomegaly', 'HPO': 'HPO:...  \n",
       "7  [{'disease_name': 'Breast Neoplasms', 'HPO': '...  \n",
       "8  [{'disease_name': nan, 'HPO': nan, 'NCI': nan,...  \n",
       "9  [{'disease_name': 'Constitutional Mismatch Rep...  "
      ]
     },
     "execution_count": 36,
     "metadata": {},
     "output_type": "execute_result"
    }
   ],
   "source": [
    "# combined_df = generator.load_dataframe_from_pickle(\"combined_df.pkl\")\n",
    "# opentargets_disease_compound_df = generator.load_dataframe_from_pickle(\n",
    "#     \"opentargets_disease_compound_df.pkl\"\n",
    "# )\n",
    "\n",
    "combined_df.head(15)"
   ]
  },
  {
   "cell_type": "code",
   "execution_count": 37,
   "metadata": {},
   "outputs": [
    {
     "data": {
      "text/plain": [
       "[{'pathway_id': 'path:mmu01524',\n",
       "  'pathway_label': 'Platinum drug resistance - Mus musculus (house mouse)',\n",
       "  'gene_count': 0,\n",
       "  'compounds': [{'KEGG_identifier': None}]},\n",
       " {'gene_count': 0, 'compounds': [{'KEGG_identifier': None}]}]"
      ]
     },
     "execution_count": 37,
     "metadata": {},
     "output_type": "execute_result"
    }
   ],
   "source": [
    "combined_df[\"KEGG_pathways\"][2]"
   ]
  },
  {
   "cell_type": "code",
   "execution_count": 38,
   "metadata": {},
   "outputs": [
    {
     "data": {
      "application/vnd.microsoft.datawrangler.viewer.v0+json": {
       "columns": [
        {
         "name": "index",
         "rawType": "int64",
         "type": "integer"
        },
        {
         "name": "identifier",
         "rawType": "object",
         "type": "string"
        },
        {
         "name": "identifier.source",
         "rawType": "object",
         "type": "string"
        },
        {
         "name": "target",
         "rawType": "object",
         "type": "string"
        },
        {
         "name": "target.source",
         "rawType": "object",
         "type": "string"
        },
        {
         "name": "OpenTargets_disease_compounds",
         "rawType": "object",
         "type": "unknown"
        }
       ],
       "conversionMethod": "pd.DataFrame",
       "ref": "ba9920ae-400a-433e-9326-4b4e7db028f7",
       "rows": [
        [
         "0",
         "UMLS_C0001175",
         "UMLS",
         "EFO_0000765",
         "EFO",
         "[{'chembl_id': 'CHEMBL:CHEMBL704', 'drugbank_id': 'DrugBank:DB00244', 'compound_cid': 'pubchem.compound:4075', 'compound_name': 'MESALAMINE', 'clincal_trial_phase': 4.0, 'is_approved': True, 'relation': 'treats', 'adverse_effect_count': 37.0, 'adverse_effect': [{'name': 'colitis ulcerative'}, {'name': 'haematochezia'}, {'name': 'colitis'}, {'name': 'frequent bowel movements'}, {'name': \"crohn's disease\"}, {'name': 'myocarditis'}, {'name': 'macular degeneration'}, {'name': 'condition aggravated'}, {'name': 'abdominal pain'}, {'name': 'diarrhoea haemorrhagic'}, {'name': 'pancreatitis'}, {'name': 'weight decreased'}, {'name': 'pyrexia'}, {'name': 'pancreatitis acute'}, {'name': 'pericarditis'}, {'name': 'tubulointerstitial nephritis'}, {'name': 'diarrhoea'}, {'name': 'drug intolerance'}, {'name': 'rectal haemorrhage'}, {'name': 'vitamin d deficiency'}, {'name': 'impaired quality of life'}, {'name': 'mucous stools'}, {'name': 'drug hypersensitivity'}, {'name': 'product residue present'}, {'name': 'therapeutic product effect decreased'}]}, {'chembl_id': 'CHEMBL:CHEMBL2108184', 'drugbank_id': None, 'compound_cid': None, 'compound_name': 'CROFELEMER', 'clincal_trial_phase': 4.0, 'is_approved': True, 'relation': 'treats', 'adverse_effect_count': 0.0, 'adverse_effect': {}}, {'chembl_id': 'CHEMBL:CHEMBL163', 'drugbank_id': 'DrugBank:DB00503', 'compound_cid': 'pubchem.compound:392622', 'compound_name': 'RITONAVIR', 'clincal_trial_phase': 4.0, 'is_approved': True, 'relation': 'treats', 'adverse_effect_count': 27.0, 'adverse_effect': [{'name': 'virologic failure'}, {'name': 'lipodystrophy acquired'}, {'name': 'abortion spontaneous'}, {'name': 'premature baby'}, {'name': 'drug interaction'}, {'name': 'hyperbilirubinaemia'}, {'name': \"cushing's syndrome\"}, {'name': 'stillbirth'}, {'name': 'mitochondrial toxicity'}, {'name': 'live birth'}, {'name': 'immune reconstitution syndrome'}, {'name': 'abortion induced'}, {'name': 'premature delivery'}, {'name': 'jaundice'}, {'name': 'immune reconstitution inflammatory syndrome'}, {'name': 'drug resistance'}, {'name': 'blood bilirubin increased'}, {'name': 'progressive external ophthalmoplegia'}, {'name': 'hypertriglyceridaemia'}, {'name': 'renal colic'}, {'name': 'low birth weight baby'}, {'name': 'viral load increased'}, {'name': 'renal tubular disorder'}, {'name': 'foetal death'}, {'name': 'viral mutation identified'}]}, {'chembl_id': 'CHEMBL:CHEMBL691', 'drugbank_id': 'DrugBank:DB00977', 'compound_cid': 'pubchem.compound:5991', 'compound_name': 'ETHINYL ESTRADIOL', 'clincal_trial_phase': 4.0, 'is_approved': True, 'relation': 'treats', 'adverse_effect_count': 56.0, 'adverse_effect': [{'name': 'pulmonary embolism'}, {'name': 'metrorrhagia'}, {'name': 'unintended pregnancy'}, {'name': 'deep vein thrombosis'}, {'name': 'pregnancy with contraceptive device'}, {'name': 'menorrhagia'}, {'name': 'abnormal withdrawal bleeding'}, {'name': 'vulvovaginal discomfort'}, {'name': 'vaginal haemorrhage'}, {'name': 'vaginal discharge'}, {'name': 'medical device site discomfort'}, {'name': 'intentional medical device removal by patient'}, {'name': 'dysmenorrhoea'}, {'name': 'hypercoagulation'}, {'name': 'menstruation delayed'}, {'name': 'menstruation irregular'}, {'name': 'migraine'}, {'name': 'withdrawal bleed'}, {'name': 'abortion induced'}, {'name': 'incorrect product administration duration'}, {'name': 'pulmonary infarction'}, {'name': 'intracranial venous sinus thrombosis'}, {'name': 'vena cava filter insertion'}, {'name': 'product shape issue'}, {'name': 'menstrual disorder'}]}, {'chembl_id': 'CHEMBL:CHEMBL1520', 'drugbank_id': 'DrugBank:DB00862', 'compound_cid': 'pubchem.compound:135400189', 'compound_name': 'VARDENAFIL', 'clincal_trial_phase': 4.0, 'is_approved': True, 'relation': 'treats', 'adverse_effect_count': 44.0, 'adverse_effect': [{'name': 'erectile dysfunction'}, {'name': 'drug use for unknown indication'}, {'name': 'erection increased'}, {'name': 'flushing'}, {'name': 'nasal congestion'}, {'name': 'headache'}, {'name': 'visual disturbance'}, {'name': 'optic ischaemic neuropathy'}, {'name': 'cyanopsia'}, {'name': 'penis disorder'}, {'name': 'blindness unilateral'}, {'name': 'priapism'}, {'name': 'blindness transient'}, {'name': 'vision blurred'}, {'name': 'deafness unilateral'}, {'name': 'anorgasmia'}, {'name': 'ejaculation disorder'}, {'name': 'spontaneous penile erection'}, {'name': 'penile pain'}, {'name': 'fatigue'}, {'name': 'visual field defect'}, {'name': 'ejaculation failure'}, {'name': 'chromatopsia'}, {'name': 'visual acuity reduced'}, {'name': 'tinnitus'}]}, {'chembl_id': 'CHEMBL:CHEMBL1201187', 'drugbank_id': 'DrugBank:DB04835', 'compound_cid': 'pubchem.compound:3002977', 'compound_name': 'MARAVIROC', 'clincal_trial_phase': 4.0, 'is_approved': True, 'relation': 'treats', 'adverse_effect_count': 39.0, 'adverse_effect': [{'name': 'virologic failure'}, {'name': 'viral mutation identified'}, {'name': \"hodgkin's disease\"}, {'name': 'viral load increased'}, {'name': 'drug resistance'}, {'name': 'lipodystrophy acquired'}, {'name': 'pathogen resistance'}, {'name': 'csf test abnormal'}, {'name': 'hyperbilirubinaemia'}, {'name': 'blood hiv rna increased'}, {'name': 'generalised anxiety disorder'}, {'name': 'enanthema'}, {'name': 'anogenital dysplasia'}, {'name': 'live birth'}, {'name': 'anal cancer'}, {'name': 'congenital renal disorder'}, {'name': 'kidney enlargement'}, {'name': 'lung squamous cell carcinoma stage unspecified'}, {'name': 'seborrhoeic dermatitis'}, {'name': 'social avoidant behaviour'}, {'name': \"kaposi's sarcoma\"}, {'name': 'congenital vesicoureteric reflux'}, {'name': 'congenital ureteric anomaly'}, {'name': 'pain'}, {'name': 'rash generalised'}]}, {'chembl_id': 'CHEMBL:CHEMBL1389', 'drugbank_id': 'DrugBank:DB00367', 'compound_cid': 'pubchem.compound:13109', 'compound_name': 'LEVONORGESTREL', 'clincal_trial_phase': 4.0, 'is_approved': True, 'relation': 'treats', 'adverse_effect_count': 62.0, 'adverse_effect': [{'name': 'intra-uterine contraceptive device expelled'}, {'name': 'genital haemorrhage'}, {'name': 'uterine perforation'}, {'name': 'pregnancy with contraceptive device'}, {'name': 'abdominal pain lower'}, {'name': 'procedural pain'}, {'name': 'vaginal haemorrhage'}, {'name': 'iucd complication'}, {'name': 'pelvic pain'}, {'name': 'injury'}, {'name': 'uterine rupture'}, {'name': 'menorrhagia'}, {'name': 'amenorrhoea'}, {'name': 'device use issue'}, {'name': 'post procedural discomfort'}, {'name': 'medical device pain'}, {'name': 'iud migration'}, {'name': 'emotional distress'}, {'name': 'dyspareunia'}, {'name': 'abdominal pain'}, {'name': 'post procedural haemorrhage'}, {'name': 'ovarian cyst'}, {'name': 'vaginal discharge'}, {'name': 'penile pain'}, {'name': 'diarrhoea'}]}, {'chembl_id': 'CHEMBL:CHEMBL1201139', 'drugbank_id': 'DrugBank:DB00351', 'compound_cid': 'pubchem.compound:11683', 'compound_name': 'MEGESTROL ACETATE', 'clincal_trial_phase': 4.0, 'is_approved': True, 'relation': 'treats', 'adverse_effect_count': 41.0, 'adverse_effect': [{'name': \"dementia alzheimer's type\"}, {'name': 'deep vein thrombosis'}, {'name': 'adrenal insufficiency'}, {'name': 'pulmonary embolism'}, {'name': 'meningioma'}, {'name': 'malignant neoplasm progression'}, {'name': 'breast cancer metastatic'}, {'name': 'metastases to liver'}, {'name': 'blood cortisol decreased'}, {'name': 'failure to thrive'}, {'name': 'blood chloride decreased'}, {'name': 'oestrogen receptor assay positive'}, {'name': 'androgen deficiency'}, {'name': 'pik3ca-activated mutation'}, {'name': 'blood testosterone decreased'}, {'name': 'listless'}, {'name': 'monocyte count decreased'}, {'name': 'invasive lobular breast carcinoma'}, {'name': 'secondary adrenocortical insufficiency'}, {'name': 'metastases to lung'}, {'name': \"addison's disease\"}, {'name': 'haematocrit'}, {'name': 'ovarian cancer metastatic'}, {'name': 'hypogonadism'}, {'name': 'blood glucose increased'}]}]"
        ],
        [
         "1",
         "UMLS_C0002103",
         "UMLS",
         "EFO_0005854",
         "EFO",
         "[{'chembl_id': 'CHEMBL:CHEMBL1201353', 'drugbank_id': 'DrugBank:DB13679', 'compound_cid': 'pubchem.compound:33036', 'compound_name': 'DEXCHLORPHENIRAMINE', 'clincal_trial_phase': 4.0, 'is_approved': True, 'relation': 'treats', 'adverse_effect_count': 20.0, 'adverse_effect': [{'name': 'aminoaciduria'}, {'name': 'urticaria'}, {'name': 'type i hypersensitivity'}, {'name': 'angioedema'}, {'name': 'erythema'}, {'name': 'proteinuria'}, {'name': 'serum sickness'}, {'name': 'hypersensitivity'}, {'name': 'chronic spontaneous urticaria'}, {'name': 'necrotising retinitis'}, {'name': 'hypotension'}, {'name': 'respiratory tract infection'}, {'name': 'cardiac failure'}, {'name': 'tinnitus'}, {'name': 'metabolic acidosis'}, {'name': 'infusion related reaction'}, {'name': 'bradycardia'}, {'name': 'oxygen saturation decreased'}, {'name': 'depressed level of consciousness'}, {'name': 'thrombophlebitis'}]}, {'chembl_id': 'CHEMBL:CHEMBL639', 'drugbank_id': 'DrugBank:DB00972', 'compound_cid': 'pubchem.compound:2267', 'compound_name': 'AZELASTINE', 'clincal_trial_phase': 4.0, 'is_approved': True, 'relation': 'treats', 'adverse_effect_count': 18.0, 'adverse_effect': [{'name': 'treatment failure'}, {'name': 'oesophageal ulcer'}, {'name': 'oesophageal injury'}, {'name': 'merycism'}, {'name': 'fatigue'}, {'name': 'nasal discomfort'}, {'name': 'vernal keratoconjunctivitis'}, {'name': 'oesophageal disorder'}, {'name': 'noninfective conjunctivitis'}, {'name': 'cor pulmonale chronic'}, {'name': 'regurgitation'}, {'name': 'dyspnoea'}, {'name': 'pulmonary function test decreased'}, {'name': 'pyrexia'}, {'name': 'vomiting'}, {'name': 'infusion site irritation'}, {'name': 'hepatic cytolysis'}, {'name': 'laryngotracheo bronchitis'}]}, {'chembl_id': 'CHEMBL:CHEMBL1200750', 'drugbank_id': None, 'compound_cid': 'pubchem.compound:6014', 'compound_name': 'PROMETHAZINE HYDROCHLORIDE', 'clincal_trial_phase': 4.0, 'is_approved': True, 'relation': 'treats', 'adverse_effect_count': 78.0, 'adverse_effect': [{'name': 'drug hypersensitivity'}, {'name': 'suicide attempt'}, {'name': 'temperature regulation disorder'}, {'name': 'somnolence'}, {'name': 'toxicity to various agents'}, {'name': 'serotonin syndrome'}, {'name': 'food allergy'}, {'name': 'rheumatoid arthritis'}, {'name': 'agitation'}, {'name': 'macular degeneration'}, {'name': 'coeliac disease'}, {'name': 'hyperhidrosis'}, {'name': 'immunodeficiency'}, {'name': 'electric shock'}, {'name': 'anticholinergic syndrome'}, {'name': 'bursitis'}, {'name': 'confusional state'}, {'name': 'gangrene'}, {'name': 'tachycardia'}, {'name': 'neuroleptic malignant syndrome'}, {'name': 'electrocardiogram qt prolonged'}, {'name': 'post-traumatic stress disorder'}, {'name': 'mydriasis'}, {'name': 'intervertebral discitis'}, {'name': 'akathisia'}]}, {'chembl_id': 'CHEMBL:CHEMBL1200791', 'drugbank_id': None, 'compound_cid': 'pubchem.compound:66259', 'compound_name': 'OXYMETAZOLINE HYDROCHLORIDE', 'clincal_trial_phase': 4.0, 'is_approved': True, 'relation': 'treats', 'adverse_effect_count': 40.0, 'adverse_effect': [{'name': 'mydriasis'}, {'name': 'eye irritation'}, {'name': 'vision blurred'}, {'name': 'ocular hyperaemia'}, {'name': 'swelling of eyelid'}, {'name': 'dry eye'}, {'name': 'prescription drug used without a prescription'}, {'name': 'lacrimation increased'}, {'name': 'cerebral vasoconstriction'}, {'name': 'ductus arteriosus stenosis foetal'}, {'name': 'eye pain'}, {'name': 'abnormal sensation in eye'}, {'name': 'anosmia'}, {'name': 'eye pruritus'}, {'name': 'application site erythema'}, {'name': 'asthenopia'}, {'name': 'foreign body sensation in eyes'}, {'name': 'eyelid irritation'}, {'name': 'blepharospasm'}, {'name': 'eyelid function disorder'}, {'name': 'application site pain'}, {'name': 'headache'}, {'name': 'photophobia'}, {'name': 'tricuspid valve incompetence'}, {'name': 'nasal discomfort'}]}, {'chembl_id': 'CHEMBL:CHEMBL864', 'drugbank_id': 'DrugBank:DB00748', 'compound_cid': 'pubchem.compound:2564', 'compound_name': 'CARBINOXAMINE', 'clincal_trial_phase': 4.0, 'is_approved': True, 'relation': 'treats', 'adverse_effect_count': 0.0, 'adverse_effect': {}}, {'chembl_id': 'CHEMBL:CHEMBL679', 'drugbank_id': 'DrugBank:DB00668', 'compound_cid': 'pubchem.compound:5816', 'compound_name': 'EPINEPHRINE', 'clincal_trial_phase': 4.0, 'is_approved': True, 'relation': 'treats', 'adverse_effect_count': 68.0, 'adverse_effect': [{'name': 'stress cardiomyopathy'}, {'name': 'drug hypersensitivity'}, {'name': 'lagophthalmos'}, {'name': 'injection site pallor'}, {'name': 'needle issue'}, {'name': 'hypotension'}, {'name': 'cardiac arrest'}, {'name': 'arteriospasm coronary'}, {'name': 'anaphylactic reaction'}, {'name': 'cardiogenic shock'}, {'name': 'toxic anterior segment syndrome'}, {'name': 'injury associated with device'}, {'name': 'ventricular tachycardia'}, {'name': 'kounis syndrome'}, {'name': 'myopathy toxic'}, {'name': 'myocardial ischaemia'}, {'name': 'electrocardiogram st segment elevation'}, {'name': 'tachycardia'}, {'name': 'bradycardia'}, {'name': 'expired drug administered'}, {'name': 'sinus tachycardia'}, {'name': 'electrocardiogram st segment depression'}, {'name': 'heart rate increased'}, {'name': 'pulseless electrical activity'}, {'name': 'left ventricle outflow tract obstruction'}]}, {'chembl_id': 'CHEMBL:CHEMBL312448', 'drugbank_id': 'DrugBank:DB06694', 'compound_cid': 'pubchem.compound:5709', 'compound_name': 'XYLOMETAZOLINE', 'clincal_trial_phase': 4.0, 'is_approved': True, 'relation': 'treats', 'adverse_effect_count': 12.0, 'adverse_effect': [{'name': 'reversible cerebral vasoconstriction syndrome'}, {'name': 'thunderclap headache'}, {'name': 'rebound nasal congestion'}, {'name': 'subarachnoid haemorrhage'}, {'name': 'congenital ovarian anomaly'}, {'name': 'nasal turbinate hypertrophy'}, {'name': 'oligohydramnios'}, {'name': 'nasal mucosal disorder'}, {'name': 'allergy to animal'}, {'name': 'cerebral artery stenosis'}, {'name': 'nasal septum deviation'}, {'name': 'accessory kidney'}]}, {'chembl_id': 'CHEMBL:CHEMBL650', 'drugbank_id': 'DrugBank:DB00959', 'compound_cid': 'pubchem.compound:6741', 'compound_name': 'METHYLPREDNISOLONE', 'clincal_trial_phase': 4.0, 'is_approved': True, 'relation': 'treats', 'adverse_effect_count': 23.0, 'adverse_effect': [{'name': 'cytomegalovirus infection'}, {'name': 'transplant rejection'}, {'name': 'polyomavirus-associated nephropathy'}, {'name': 'pneumocystis jirovecii pneumonia'}, {'name': 'kidney transplant rejection'}, {'name': 'posterior reversible encephalopathy syndrome'}, {'name': 'lymphocyte count decreased'}, {'name': 'cytomegalovirus viraemia'}, {'name': 'steroid diabetes'}, {'name': 'bk virus infection'}, {'name': 'post transplant lymphoproliferative disorder'}, {'name': 'epstein-barr virus infection'}, {'name': \"kaposi's sarcoma\"}, {'name': 'red blood cells urine positive'}, {'name': 'urine abnormality'}, {'name': 'cytomegalovirus infection reactivation'}, {'name': 'graft versus host disease'}, {'name': 'bronchopulmonary aspergillosis'}, {'name': 'hyperglycaemia'}, {'name': 'nocardiosis'}, {'name': 'cushingoid'}, {'name': 'diabetes mellitus'}, {'name': 'mucormycosis'}]}, {'chembl_id': 'CHEMBL:CHEMBL1504', 'drugbank_id': None, 'compound_cid': 'pubchem.compound:6436', 'compound_name': 'TRIAMCINOLONE ACETONIDE', 'clincal_trial_phase': 4.0, 'is_approved': True, 'relation': 'treats', 'adverse_effect_count': 69.0, 'adverse_effect': [{'name': \"cushing's syndrome\"}, {'name': 'endophthalmitis'}, {'name': 'non-infectious endophthalmitis'}, {'name': 'adrenal insufficiency'}, {'name': 'injection site atrophy'}, {'name': 'macular degeneration'}, {'name': 'intraocular pressure increased'}, {'name': 'ocular hypertension'}, {'name': 'skin atrophy'}, {'name': 'visual acuity reduced'}, {'name': 'eye infection toxoplasmal'}, {'name': 'human antichimeric antibody positive'}, {'name': 'cytomegalovirus chorioretinitis'}, {'name': 'wheelchair user'}, {'name': 'joint destruction'}, {'name': 'body height below normal'}, {'name': 'retinal artery occlusion'}, {'name': 'eye inflammation'}, {'name': 'polyarthritis'}, {'name': 'maculopathy'}, {'name': 'obesity'}, {'name': 'adrenal suppression'}, {'name': 'necrotising retinitis'}, {'name': 'hypothalamic pituitary adrenal axis suppression'}, {'name': 'glaucoma'}]}, {'chembl_id': 'CHEMBL:CHEMBL1189432', 'drugbank_id': 'DrugBank:DB00768', 'compound_cid': 'pubchem.compound:5281071', 'compound_name': 'OLOPATADINE', 'clincal_trial_phase': 4.0, 'is_approved': True, 'relation': 'treats', 'adverse_effect_count': 2.0, 'adverse_effect': [{'name': 'treatment failure'}, {'name': 'hypersensitivity'}]}, {'chembl_id': 'CHEMBL:CHEMBL1200681', 'drugbank_id': None, 'compound_cid': 'pubchem.compound:23663996', 'compound_name': 'MONTELUKAST SODIUM', 'clincal_trial_phase': 4.0, 'is_approved': True, 'relation': 'treats', 'adverse_effect_count': 73.0, 'adverse_effect': [{'name': 'asthma'}, {'name': 'wheezing'}, {'name': 'allergic granulomatous angiitis'}, {'name': 'obstructive airways disorder'}, {'name': 'therapeutic product effect incomplete'}, {'name': 'suicidal ideation'}, {'name': 'blood count abnormal'}, {'name': 'sleep disorder due to a general medical condition'}, {'name': 'dyspnoea'}, {'name': 'aggression'}, {'name': 'nightmare'}, {'name': 'loss of personal independence in daily activities'}, {'name': 'abnormal behaviour'}, {'name': 'cough'}, {'name': 'sleep terror'}, {'name': 'productive cough'}, {'name': 'eosinophilic granulomatosis with polyangiitis'}, {'name': 'depression'}, {'name': 'anxiety'}, {'name': 'sputum discoloured'}, {'name': 'chest discomfort'}, {'name': 'nasal polyps'}, {'name': 'anger'}, {'name': 'temperature regulation disorder'}, {'name': 'food allergy'}]}, {'chembl_id': 'CHEMBL:CHEMBL761', 'drugbank_id': 'DrugBank:DB06711', 'compound_cid': 'pubchem.compound:4436', 'compound_name': 'NAPHAZOLINE', 'clincal_trial_phase': 4.0, 'is_approved': True, 'relation': 'treats', 'adverse_effect_count': 1.0, 'adverse_effect': [{'name': 'bradycardia'}]}, {'chembl_id': 'CHEMBL:CHEMBL3188034', 'drugbank_id': None, 'compound_cid': 'pubchem.compound:5284472', 'compound_name': 'TRIPROLIDINE HYDROCHLORIDE', 'clincal_trial_phase': 4.0, 'is_approved': True, 'relation': 'treats', 'adverse_effect_count': 79.0, 'adverse_effect': [{'name': 'drug hypersensitivity'}, {'name': 'anosmia'}, {'name': 'salpingo-oophorectomy unilateral'}, {'name': 'epistaxis'}, {'name': 'sinusitis fungal'}, {'name': 'sputum increased'}, {'name': 'nasal polyps'}, {'name': 'muscle spasticity'}, {'name': 'chronic sinusitis'}, {'name': 'female genital tract fistula'}, {'name': 'asthma'}, {'name': 'respiratory symptom'}, {'name': 'sinusitis'}, {'name': 'diastolic dysfunction'}, {'name': 'emphysema'}, {'name': 'embolism venous'}, {'name': 'exercise test abnormal'}, {'name': 'ageusia'}, {'name': 'hysterectomy'}, {'name': 'nasal discomfort'}, {'name': 'pharmaceutical product complaint'}, {'name': 'sleep apnoea syndrome'}, {'name': 'iron deficiency anaemia'}, {'name': 'antiphospholipid antibodies'}, {'name': 'cough'}]}, {'chembl_id': 'CHEMBL:CHEMBL2', 'drugbank_id': 'DrugBank:DB00457', 'compound_cid': 'pubchem.compound:4893', 'compound_name': 'PRAZOSIN', 'clincal_trial_phase': 4.0, 'is_approved': True, 'relation': 'treats', 'adverse_effect_count': 56.0, 'adverse_effect': [{'name': 'hypotension'}, {'name': 'atrioventricular block first degree'}, {'name': 'sinus bradycardia'}, {'name': 'priapism'}, {'name': 'acute respiratory distress syndrome'}, {'name': 'aspiration'}, {'name': 'vasoplegia syndrome'}, {'name': 'cardiac hypertrophy'}, {'name': 'norepinephrine increased'}, {'name': 'hypertrichosis'}, {'name': 'hyperlactacidaemia'}, {'name': 'metabolic acidosis'}, {'name': 'electrocardiogram qt prolonged'}, {'name': 'circulatory collapse'}, {'name': 'low birth weight baby'}, {'name': 'shock'}, {'name': 'depressed level of consciousness'}, {'name': 'electrocardiogram qrs complex shortened'}, {'name': 'premature baby'}, {'name': 'unresponsive to stimuli'}, {'name': 'cardiogenic shock'}, {'name': 'coma scale abnormal'}, {'name': 'toxicity to various agents'}, {'name': 'syncope'}, {'name': 'serotonin syndrome'}]}, {'chembl_id': 'CHEMBL:CHEMBL211456', 'drugbank_id': 'DrugBank:DB01364', 'compound_cid': 'pubchem.compound:9294', 'compound_name': 'EPHEDRINE', 'clincal_trial_phase': 4.0, 'is_approved': True, 'relation': 'treats', 'adverse_effect_count': 21.0, 'adverse_effect': [{'name': 'confusion postoperative'}, {'name': 'mental status changes postoperative'}, {'name': 'metal poisoning'}, {'name': 'metabolic alkalosis'}, {'name': 'oliguria'}, {'name': 'parkinsonism'}, {'name': 'drug abuse'}, {'name': 'renal failure acute'}, {'name': 'unevaluable event'}, {'name': 'embolic stroke'}, {'name': 'apraxia'}, {'name': 'hypotension'}, {'name': 'tachycardia foetal'}, {'name': 'phaeochromocytoma'}, {'name': 'nicotine dependence'}, {'name': 'premature baby'}, {'name': 'premature delivery'}, {'name': 'stress cardiomyopathy'}, {'name': 'haematuria'}, {'name': 'thyroid disorder'}, {'name': 'blood zinc increased'}]}, {'chembl_id': 'CHEMBL:CHEMBL811', 'drugbank_id': 'DrugBank:DB00835', 'compound_cid': 'pubchem.compound:6834', 'compound_name': 'BROMPHENIRAMINE', 'clincal_trial_phase': 4.0, 'is_approved': True, 'relation': 'treats', 'adverse_effect_count': 4.0, 'adverse_effect': [{'name': 'drug hypersensitivity'}, {'name': 'vertigo'}, {'name': 'hypotension'}, {'name': 'fall'}]}, {'chembl_id': 'CHEMBL:CHEMBL762', 'drugbank_id': 'DrugBank:DB00935', 'compound_cid': 'pubchem.compound:4636', 'compound_name': 'OXYMETAZOLINE', 'clincal_trial_phase': 4.0, 'is_approved': True, 'relation': 'treats', 'adverse_effect_count': 5.0, 'adverse_effect': [{'name': 'ductus arteriosus stenosis foetal'}, {'name': 'cerebral vasoconstriction'}, {'name': 'tricuspid valve incompetence'}, {'name': 'pupils unequal'}, {'name': 'mydriasis'}]}, {'chembl_id': 'CHEMBL:CHEMBL1200974', 'drugbank_id': None, 'compound_cid': 'pubchem.compound:5282409', 'compound_name': 'CARBINOXAMINE MALEATE', 'clincal_trial_phase': 4.0, 'is_approved': True, 'relation': 'treats', 'adverse_effect_count': 0.0, 'adverse_effect': {}}, {'chembl_id': 'CHEMBL:CHEMBL1706', 'drugbank_id': None, 'compound_cid': 'pubchem.compound:4436', 'compound_name': 'NAPHAZOLINE HYDROCHLORIDE', 'clincal_trial_phase': 4.0, 'is_approved': True, 'relation': 'treats', 'adverse_effect_count': 6.0, 'adverse_effect': [{'name': 'eye irritation'}, {'name': 'mydriasis'}, {'name': 'chemical burns of eye'}, {'name': 'ocular hyperaemia'}, {'name': 'eye pain'}, {'name': 'cerebral vasoconstriction'}]}, {'chembl_id': 'CHEMBL:CHEMBL1201191', 'drugbank_id': 'DrugBank:DB06282', 'compound_cid': 'pubchem.compound:1549000', 'compound_name': 'LEVOCETIRIZINE', 'clincal_trial_phase': 4.0, 'is_approved': True, 'relation': 'treats', 'adverse_effect_count': 25.0, 'adverse_effect': [{'name': 'drug-induced liver injury'}, {'name': 'febrile convulsion'}, {'name': 'alopecia areata'}, {'name': 'dermatitis contact'}, {'name': 'allergic reaction to excipient'}, {'name': 'urticaria'}, {'name': 'somnolence'}, {'name': 'angioedema'}, {'name': 'erythema multiforme'}, {'name': 'fixed eruption'}, {'name': 'face oedema'}, {'name': 'loss of consciousness'}, {'name': 'dermatitis bullous'}, {'name': 'congenital inguinal hernia'}, {'name': 'hypogammaglobulinaemia'}, {'name': 'anaphylactic shock'}, {'name': 'swelling face'}, {'name': 'eosinophilia'}, {'name': 'altered state of consciousness'}, {'name': 'bronchopulmonary dysplasia'}, {'name': 'anaphylactic reaction'}, {'name': 'haemorrhage subcutaneous'}, {'name': 'arrhythmia'}, {'name': 'eye oedema'}, {'name': 'neonatal infection'}]}]"
        ],
        [
         "2",
         "UMLS_C0003873",
         "UMLS",
         "EFO_0000685",
         "EFO",
         "[{'chembl_id': 'CHEMBL:CHEMBL2103743', 'drugbank_id': None, 'compound_cid': 'pubchem.compound:10174505', 'compound_name': 'TOFACITINIB CITRATE', 'clincal_trial_phase': 4.0, 'is_approved': True, 'relation': 'treats', 'adverse_effect_count': 59.0, 'adverse_effect': [{'name': 'rheumatoid arthritis'}, {'name': 'synovitis'}, {'name': 'joint swelling'}, {'name': 'arthralgia'}, {'name': 'hand deformity'}, {'name': 'pain'}, {'name': 'musculoskeletal stiffness'}, {'name': 'condition aggravated'}, {'name': 'anti-cyclic citrullinated peptide antibody positive'}, {'name': 'pemphigus'}, {'name': 'arthropathy'}, {'name': 'drug intolerance'}, {'name': 'glossodynia'}, {'name': 'abdominal discomfort'}, {'name': 'swelling'}, {'name': 'wound'}, {'name': 'alopecia'}, {'name': 'systemic lupus erythematosus'}, {'name': 'peripheral swelling'}, {'name': 'pericarditis'}, {'name': 'treatment failure'}, {'name': 'therapeutic product effect decreased'}, {'name': 'rheumatoid factor positive'}, {'name': 'discomfort'}, {'name': 'hepatic enzyme increased'}]}, {'chembl_id': 'CHEMBL:CHEMBL34259', 'drugbank_id': 'DrugBank:DB00563', 'compound_cid': 'pubchem.compound:126941', 'compound_name': 'METHOTREXATE', 'clincal_trial_phase': 4.0, 'is_approved': True, 'relation': 'treats', 'adverse_effect_count': 44.0, 'adverse_effect': [{'name': 'rheumatoid arthritis'}, {'name': 'drug intolerance'}, {'name': 'treatment failure'}, {'name': 'synovitis'}, {'name': 'joint swelling'}, {'name': 'pemphigus'}, {'name': 'alopecia'}, {'name': 'therapeutic product effect decreased'}, {'name': 'hand deformity'}, {'name': 'systemic lupus erythematosus'}, {'name': 'drug hypersensitivity'}, {'name': 'arthropathy'}, {'name': 'arthralgia'}, {'name': 'abdominal discomfort'}, {'name': 'glossodynia'}, {'name': 'pain'}, {'name': 'musculoskeletal stiffness'}, {'name': 'swelling'}, {'name': 'anti-cyclic citrullinated peptide antibody positive'}, {'name': 'hepatic enzyme increased'}, {'name': 'therapeutic product effect incomplete'}, {'name': 'rheumatoid factor positive'}, {'name': 'infection'}, {'name': 'c-reactive protein abnormal'}, {'name': 'loss of personal independence in daily activities'}]}, {'chembl_id': 'CHEMBL:CHEMBL1201831', 'drugbank_id': None, 'compound_cid': None, 'compound_name': 'CERTOLIZUMAB PEGOL', 'clincal_trial_phase': 4.0, 'is_approved': True, 'relation': 'treats', 'adverse_effect_count': 67.0, 'adverse_effect': [{'name': 'rheumatoid arthritis'}, {'name': 'pemphigus'}, {'name': 'systemic lupus erythematosus'}, {'name': 'glossodynia'}, {'name': 'hand deformity'}, {'name': 'synovitis'}, {'name': 'joint swelling'}, {'name': 'alopecia'}, {'name': 'anti-cyclic citrullinated peptide antibody positive'}, {'name': 'abdominal discomfort'}, {'name': 'pain'}, {'name': 'drug intolerance'}, {'name': 'swelling'}, {'name': 'arthropathy'}, {'name': 'therapeutic product effect decreased'}, {'name': 'wound'}, {'name': 'treatment failure'}, {'name': 'rheumatoid factor positive'}, {'name': 'pericarditis'}, {'name': 'discomfort'}, {'name': 'rash'}, {'name': 'hypersensitivity'}, {'name': 'lower respiratory tract infection'}, {'name': 'muscle injury'}, {'name': 'duodenal ulcer perforation'}]}, {'chembl_id': 'CHEMBL:CHEMBL221959', 'drugbank_id': 'DrugBank:DB08895', 'compound_cid': 'pubchem.compound:9926791', 'compound_name': 'TOFACITINIB', 'clincal_trial_phase': 4.0, 'is_approved': True, 'relation': 'treats', 'adverse_effect_count': 64.0, 'adverse_effect': [{'name': 'synovitis'}, {'name': 'rheumatoid arthritis'}, {'name': 'joint swelling'}, {'name': 'arthralgia'}, {'name': 'pain'}, {'name': 'musculoskeletal stiffness'}, {'name': 'hand deformity'}, {'name': 'condition aggravated'}, {'name': 'anti-cyclic citrullinated peptide antibody positive'}, {'name': 'arthropathy'}, {'name': 'pemphigus'}, {'name': 'drug intolerance'}, {'name': 'abdominal discomfort'}, {'name': 'swelling'}, {'name': 'glossodynia'}, {'name': 'peripheral swelling'}, {'name': 'wound'}, {'name': 'alopecia'}, {'name': 'therapeutic product effect decreased'}, {'name': 'systemic lupus erythematosus'}, {'name': 'treatment failure'}, {'name': 'pericarditis'}, {'name': 'rheumatoid factor positive'}, {'name': 'hepatic enzyme increased'}, {'name': 'discomfort'}]}, {'chembl_id': 'CHEMBL:CHEMBL79', 'drugbank_id': 'DrugBank:DB00281', 'compound_cid': 'pubchem.compound:3676', 'compound_name': 'LIDOCAINE', 'clincal_trial_phase': 4.0, 'is_approved': True, 'relation': 'treats', 'adverse_effect_count': 28.0, 'adverse_effect': [{'name': 'methaemoglobinaemia'}, {'name': 'local anaesthetic systemic toxicity'}, {'name': 'anaphylactic shock'}, {'name': 'anaesthetic complication'}, {'name': 'cardiac arrest'}, {'name': 'toxicity to various agents'}, {'name': 'lagophthalmos'}, {'name': 'anaphylactic reaction'}, {'name': 'drug hypersensitivity'}, {'name': 'hypotension'}, {'name': 'bradycardia'}, {'name': 'toxic anterior segment syndrome'}, {'name': 'generalised tonic-clonic seizure'}, {'name': \"horner's syndrome\"}, {'name': 'unresponsive to stimuli'}, {'name': 'myopathy toxic'}, {'name': 'diarrhoea'}, {'name': 'ventricular tachycardia'}, {'name': 'pulseless electrical activity'}, {'name': 'neurotoxicity'}, {'name': 'tachycardia'}, {'name': 'convulsion'}, {'name': 'circulatory collapse'}, {'name': 'ophthalmoplegia'}, {'name': 'stress cardiomyopathy'}]}, {'chembl_id': 'CHEMBL:CHEMBL1201833', 'drugbank_id': None, 'compound_cid': None, 'compound_name': 'GOLIMUMAB', 'clincal_trial_phase': 4.0, 'is_approved': True, 'relation': 'treats', 'adverse_effect_count': 81.0, 'adverse_effect': [{'name': 'rheumatoid arthritis'}, {'name': 'pemphigus'}, {'name': 'glossodynia'}, {'name': 'systemic lupus erythematosus'}, {'name': 'hand deformity'}, {'name': 'drug intolerance'}, {'name': 'joint swelling'}, {'name': 'swelling'}, {'name': 'alopecia'}, {'name': 'therapeutic product effect decreased'}, {'name': 'treatment failure'}, {'name': 'arthropathy'}, {'name': 'anti-cyclic citrullinated peptide antibody positive'}, {'name': 'synovitis'}, {'name': 'abdominal discomfort'}, {'name': 'wound'}, {'name': 'pain'}, {'name': 'lower respiratory tract infection'}, {'name': 'discomfort'}, {'name': 'pericarditis'}, {'name': 'rheumatoid factor positive'}, {'name': 'arthralgia'}, {'name': 'hypersensitivity'}, {'name': 'rash'}, {'name': 'muscle injury'}]}, {'chembl_id': 'CHEMBL:CHEMBL112', 'drugbank_id': 'DrugBank:DB00316', 'compound_cid': 'pubchem.compound:1983', 'compound_name': 'ACETAMINOPHEN', 'clincal_trial_phase': 4.0, 'is_approved': True, 'relation': 'treats', 'adverse_effect_count': 55.0, 'adverse_effect': [{'name': 'toxicity to various agents'}, {'name': 'acute hepatic failure'}, {'name': 'suicide attempt'}, {'name': 'hepatocellular injury'}, {'name': 'anti-cyclic citrullinated peptide antibody positive'}, {'name': 'poisoning deliberate'}, {'name': 'muscle injury'}, {'name': 'metabolic acidosis'}, {'name': 'hand deformity'}, {'name': 'pemphigus'}, {'name': 'liver injury'}, {'name': 'hepatic enzyme increased'}, {'name': 'coma'}, {'name': 'folliculitis'}, {'name': 'vomiting'}, {'name': 'lower respiratory tract infection'}, {'name': 'glossodynia'}, {'name': 'cholestasis'}, {'name': 'sleep disorder due to general medical condition, insomnia type'}, {'name': 'irritable bowel syndrome'}, {'name': 'pericarditis'}, {'name': 'duodenal ulcer perforation'}, {'name': 'joint swelling'}, {'name': 'synovitis'}, {'name': 'helicobacter infection'}]}, {'chembl_id': 'CHEMBL:CHEMBL421', 'drugbank_id': 'DrugBank:DB00795', 'compound_cid': 'pubchem.compound:5339', 'compound_name': 'SULFASALAZINE', 'clincal_trial_phase': 4.0, 'is_approved': True, 'relation': 'treats', 'adverse_effect_count': 161.0, 'adverse_effect': [{'name': 'rheumatoid arthritis'}, {'name': 'drug intolerance'}, {'name': 'joint swelling'}, {'name': 'synovitis'}, {'name': 'pemphigus'}, {'name': 'treatment failure'}, {'name': 'systemic lupus erythematosus'}, {'name': 'hand deformity'}, {'name': 'glossodynia'}, {'name': 'arthropathy'}, {'name': 'alopecia'}, {'name': 'pain'}, {'name': 'abdominal discomfort'}, {'name': 'therapeutic product effect decreased'}, {'name': 'anti-cyclic citrullinated peptide antibody positive'}, {'name': 'swelling'}, {'name': 'wound'}, {'name': 'arthralgia'}, {'name': 'drug hypersensitivity'}, {'name': 'loss of personal independence in daily activities'}, {'name': 'condition aggravated'}, {'name': 'rash'}, {'name': 'musculoskeletal stiffness'}, {'name': 'rheumatoid factor positive'}, {'name': 'discomfort'}]}, {'chembl_id': 'CHEMBL:CHEMBL514800', 'drugbank_id': 'DrugBank:DB05676', 'compound_cid': 'pubchem.compound:11561674', 'compound_name': 'APREMILAST', 'clincal_trial_phase': 4.0, 'is_approved': True, 'relation': 'treats', 'adverse_effect_count': 14.0, 'adverse_effect': [{'name': 'psoriasis'}, {'name': 'diarrhoea'}, {'name': 'nausea'}, {'name': 'headache'}, {'name': 'psoriatic arthropathy'}, {'name': 'abdominal discomfort'}, {'name': 'depression'}, {'name': 'weight decreased'}, {'name': 'therapy non-responder'}, {'name': 'product dose omission issue'}, {'name': 'abdominal pain upper'}, {'name': 'gastric disorder'}, {'name': 'frequent bowel movements'}, {'name': 'dyspnoea'}]}, {'chembl_id': 'CHEMBL:CHEMBL3622821', 'drugbank_id': 'DrugBank:DB15091', 'compound_cid': 'pubchem.compound:58557659', 'compound_name': 'UPADACITINIB', 'clincal_trial_phase': 4.0, 'is_approved': True, 'relation': 'treats', 'adverse_effect_count': 11.0, 'adverse_effect': [{'name': 'therapy interrupted'}, {'name': 'covid-19'}, {'name': 'illness'}, {'name': 'urinary tract infection'}, {'name': 'herpes zoster'}, {'name': 'sinusitis'}, {'name': 'rheumatoid arthritis'}, {'name': 'localised infection'}, {'name': 'infection'}, {'name': 'sars-cov-2 test positive'}, {'name': 'antibiotic therapy'}]}, {'chembl_id': 'CHEMBL:CHEMBL1201572', 'drugbank_id': None, 'compound_cid': None, 'compound_name': 'ETANERCEPT', 'clincal_trial_phase': 4.0, 'is_approved': True, 'relation': 'treats', 'adverse_effect_count': 27.0, 'adverse_effect': [{'name': 'injection site erythema'}, {'name': 'injection site pain'}, {'name': 'rheumatoid arthritis'}, {'name': 'injection site pruritus'}, {'name': 'injection site swelling'}, {'name': 'injection site reaction'}, {'name': 'arthralgia'}, {'name': 'joint swelling'}, {'name': 'injection site bruising'}, {'name': 'injection site warmth'}, {'name': 'psoriasis'}, {'name': 'pain'}, {'name': 'nasopharyngitis'}, {'name': 'pain in extremity'}, {'name': 'sinusitis'}, {'name': 'synovitis'}, {'name': 'injection site haemorrhage'}, {'name': 'injection site rash'}, {'name': 'treatment failure'}, {'name': 'arthropathy'}, {'name': 'musculoskeletal stiffness'}, {'name': 'mobility decreased'}, {'name': 'injection site urticaria'}, {'name': 'drug intolerance'}, {'name': 'pemphigus'}]}, {'chembl_id': 'CHEMBL:CHEMBL131', 'drugbank_id': 'DrugBank:DB00860', 'compound_cid': 'pubchem.compound:5755', 'compound_name': 'PREDNISOLONE', 'clincal_trial_phase': 4.0, 'is_approved': True, 'relation': 'treats', 'adverse_effect_count': 11.0, 'adverse_effect': [{'name': 'cytomegalovirus infection'}, {'name': 'pneumocystis jirovecii pneumonia'}, {'name': 'transplant rejection'}, {'name': 'febrile neutropenia'}, {'name': 'polyomavirus-associated nephropathy'}, {'name': 'post transplant lymphoproliferative disorder'}, {'name': 'nocardiosis'}, {'name': 'epstein-barr virus infection'}, {'name': 'cytomegalovirus viraemia'}, {'name': 'hepatitis e'}, {'name': 'bk virus infection'}]}, {'chembl_id': 'CHEMBL:CHEMBL1201581', 'drugbank_id': None, 'compound_cid': None, 'compound_name': 'INFLIXIMAB', 'clincal_trial_phase': 4.0, 'is_approved': True, 'relation': 'treats', 'adverse_effect_count': 48.0, 'adverse_effect': [{'name': 'infusion related reaction'}, {'name': 'rheumatoid arthritis'}, {'name': 'condition aggravated'}, {'name': 'systemic lupus erythematosus'}, {'name': \"crohn's disease\"}, {'name': 'pemphigus'}, {'name': 'blood pressure fluctuation'}, {'name': 'synovitis'}, {'name': 'drug intolerance'}, {'name': 'joint swelling'}, {'name': 'glossodynia'}, {'name': 'hand deformity'}, {'name': 'arthralgia'}, {'name': 'alopecia'}, {'name': 'treatment failure'}, {'name': 'arthropathy'}, {'name': 'anti-cyclic citrullinated peptide antibody positive'}, {'name': 'therapeutic product effect decreased'}, {'name': 'colitis ulcerative'}, {'name': 'lupus-like syndrome'}, {'name': 'abdominal discomfort'}, {'name': 'wound'}, {'name': 'pain'}, {'name': 'rheumatoid factor positive'}, {'name': 'pericarditis'}]}, {'chembl_id': 'CHEMBL:CHEMBL1201580', 'drugbank_id': None, 'compound_cid': None, 'compound_name': 'ADALIMUMAB', 'clincal_trial_phase': 4.0, 'is_approved': True, 'relation': 'treats', 'adverse_effect_count': 29.0, 'adverse_effect': [{'name': 'rheumatoid arthritis'}, {'name': 'synovitis'}, {'name': \"crohn's disease\"}, {'name': 'drug intolerance'}, {'name': 'joint swelling'}, {'name': 'systemic lupus erythematosus'}, {'name': 'pemphigus'}, {'name': 'therapeutic product effect decreased'}, {'name': 'arthropathy'}, {'name': 'treatment failure'}, {'name': 'hand deformity'}, {'name': 'arthralgia'}, {'name': 'pain'}, {'name': 'alopecia'}, {'name': 'glossodynia'}, {'name': 'anti-cyclic citrullinated peptide antibody positive'}, {'name': 'rheumatoid factor positive'}, {'name': 'abdominal discomfort'}, {'name': 'swelling'}, {'name': 'psoriasis'}, {'name': 'c-reactive protein abnormal'}, {'name': 'loss of personal independence in daily activities'}, {'name': 'wound'}, {'name': 'therapeutic product effect incomplete'}, {'name': 'infection'}]}, {'chembl_id': 'CHEMBL:CHEMBL3301607', 'drugbank_id': 'DrugBank:DB14845', 'compound_cid': 'pubchem.compound:49831257', 'compound_name': 'FILGOTINIB', 'clincal_trial_phase': 4.0, 'is_approved': True, 'relation': 'treats', 'adverse_effect_count': 29.0, 'adverse_effect': [{'name': 'rhesus antigen positive'}, {'name': 'blood immunoglobulin m decreased'}, {'name': 'blood albumin increased'}, {'name': 'immunoglobulins decreased'}, {'name': 'mean cell haemoglobin increased'}, {'name': 'blood immunoglobulin g decreased'}, {'name': 'red cell distribution width increased'}, {'name': 'protein urine present'}, {'name': 'dyslipidaemia'}, {'name': 'vitamin d decreased'}, {'name': 'osteopenia'}, {'name': 'glomerular filtration rate decreased'}, {'name': 'creatinine renal clearance decreased'}, {'name': 'blood potassium increased'}, {'name': 'haematocrit decreased'}, {'name': 'systemic lupus erythematosus'}, {'name': 'drug dependence'}, {'name': 'synovitis'}, {'name': 'atrial fibrillation'}, {'name': 'herpes zoster'}, {'name': 'blood creatinine increased'}, {'name': 'white blood cell count decreased'}, {'name': 'urinary tract infection'}, {'name': 'acute respiratory failure'}, {'name': 'covid-19 pneumonia'}]}, {'chembl_id': 'CHEMBL:CHEMBL521', 'drugbank_id': 'DrugBank:DB01050', 'compound_cid': 'pubchem.compound:3672', 'compound_name': 'IBUPROFEN', 'clincal_trial_phase': 4.0, 'is_approved': True, 'relation': 'treats', 'adverse_effect_count': 56.0, 'adverse_effect': [{'name': 'drug hypersensitivity'}, {'name': 'suicide attempt'}, {'name': 'toxicity to various agents'}, {'name': 'muscle injury'}, {'name': 'angioedema'}, {'name': 'anti-cyclic citrullinated peptide antibody positive'}, {'name': 'acute hepatic failure'}, {'name': 'duodenal ulcer perforation'}, {'name': 'folliculitis'}, {'name': 'metabolic acidosis'}, {'name': 'hand deformity'}, {'name': 'pemphigus'}, {'name': 'acute kidney injury'}, {'name': 'synovitis'}, {'name': 'irritable bowel syndrome'}, {'name': 'sleep disorder due to general medical condition, insomnia type'}, {'name': 'lower respiratory tract infection'}, {'name': 'joint swelling'}, {'name': 'glossodynia'}, {'name': 'pericarditis'}, {'name': 'helicobacter infection'}, {'name': 'hypersensitivity'}, {'name': 'therapeutic product effect decreased'}, {'name': 'haematemesis'}, {'name': 'swelling'}]}, {'chembl_id': 'CHEMBL:CHEMBL1200804', 'drugbank_id': None, 'compound_cid': 'pubchem.compound:23667642', 'compound_name': 'DICLOFENAC POTASSIUM', 'clincal_trial_phase': 4.0, 'is_approved': True, 'relation': 'treats', 'adverse_effect_count': 95.0, 'adverse_effect': [{'name': 'deafness transitory'}, {'name': 'rheumatoid arthritis'}, {'name': 'pharyngitis'}, {'name': 'abdominal discomfort'}, {'name': 'arthropathy'}, {'name': 'ear infection'}, {'name': 'gastrointestinal pain'}, {'name': 'synovitis'}, {'name': 'functional gastrointestinal disorder'}, {'name': 'hypophagia'}, {'name': 'pain'}, {'name': 'feeding disorder'}, {'name': 'deafness'}, {'name': 'helicobacter infection'}, {'name': 'swelling'}, {'name': 'rash'}, {'name': 'musculoskeletal disorder'}, {'name': 'treatment failure'}, {'name': 'hepatic enzyme increased'}, {'name': 'discomfort'}, {'name': 'rheumatoid factor positive'}, {'name': 'systemic lupus erythematosus'}, {'name': 'wound'}, {'name': 'decreased appetite'}, {'name': 'pemphigus'}]}]"
        ],
        [
         "3",
         "UMLS_C0003977",
         "UMLS",
         "EFO_0004259",
         "EFO",
         "[{'chembl_id': 'CHEMBL:CHEMBL1200733', 'drugbank_id': 'DrugBank:DB01189', 'compound_cid': 'pubchem.compound:42113', 'compound_name': 'DESFLURANE', 'clincal_trial_phase': 4.0, 'is_approved': True, 'relation': 'treats', 'adverse_effect_count': 89.0, 'adverse_effect': [{'name': 'hyperthermia malignant'}, {'name': 'post procedural complication'}, {'name': 'bradycardia'}, {'name': 'unwanted awareness during anaesthesia'}, {'name': 'cardiac arrest'}, {'name': 'anaphylactic shock'}, {'name': 'neuromuscular block prolonged'}, {'name': 'seizure like phenomena'}, {'name': 'delayed recovery from anaesthesia'}, {'name': 'bronchospasm'}, {'name': 'laryngospasm'}, {'name': 'anticholinergic syndrome'}, {'name': 'congenital anomaly'}, {'name': 'procedural vomiting'}, {'name': 'hypoventilation'}, {'name': 'end-tidal co2 increased'}, {'name': 'circulatory collapse'}, {'name': 'procedural nausea'}, {'name': 'oliguria'}, {'name': 'laryngeal stenosis'}, {'name': 'premature recovery from anaesthesia'}, {'name': 'extrasystoles'}, {'name': 'respiratory acidosis'}, {'name': 'tracheal injury'}, {'name': 'ventricular tachycardia'}]}, {'chembl_id': 'CHEMBL:CHEMBL628', 'drugbank_id': 'DrugBank:DB00806', 'compound_cid': 'pubchem.compound:4740', 'compound_name': 'PENTOXIFYLLINE', 'clincal_trial_phase': 4.0, 'is_approved': True, 'relation': 'treats', 'adverse_effect_count': 103.0, 'adverse_effect': [{'name': 'body tinea'}, {'name': 'glucose tolerance impaired'}, {'name': 'impaired quality of life'}, {'name': 'infection susceptibility increased'}, {'name': 'inhibitory drug interaction'}, {'name': 'purpura'}, {'name': 'cellulitis'}, {'name': 'peripheral ischaemia'}, {'name': 'pneumonia mycoplasmal'}, {'name': 'impaired work ability'}, {'name': 'pseudomonas infection'}, {'name': 'bone density decreased'}, {'name': 'poor quality sleep'}, {'name': 'klebsiella infection'}, {'name': 'extremity necrosis'}, {'name': 'deafness bilateral'}, {'name': 'pleural mass'}, {'name': 'peripheral artery occlusion'}, {'name': 'oral herpes'}, {'name': 'infantile apnoea'}, {'name': 'sepsis'}, {'name': \"cushing's syndrome\"}, {'name': 'hyperlipidaemia'}, {'name': 'radiotherapy to brain'}, {'name': 'bradycardia neonatal'}]}, {'chembl_id': 'CHEMBL:CHEMBL79', 'drugbank_id': 'DrugBank:DB00281', 'compound_cid': 'pubchem.compound:3676', 'compound_name': 'LIDOCAINE', 'clincal_trial_phase': 4.0, 'is_approved': True, 'relation': 'treats', 'adverse_effect_count': 28.0, 'adverse_effect': [{'name': 'methaemoglobinaemia'}, {'name': 'local anaesthetic systemic toxicity'}, {'name': 'anaphylactic shock'}, {'name': 'anaesthetic complication'}, {'name': 'cardiac arrest'}, {'name': 'toxicity to various agents'}, {'name': 'lagophthalmos'}, {'name': 'anaphylactic reaction'}, {'name': 'drug hypersensitivity'}, {'name': 'hypotension'}, {'name': 'bradycardia'}, {'name': 'toxic anterior segment syndrome'}, {'name': 'generalised tonic-clonic seizure'}, {'name': \"horner's syndrome\"}, {'name': 'unresponsive to stimuli'}, {'name': 'myopathy toxic'}, {'name': 'diarrhoea'}, {'name': 'ventricular tachycardia'}, {'name': 'pulseless electrical activity'}, {'name': 'neurotoxicity'}, {'name': 'tachycardia'}, {'name': 'convulsion'}, {'name': 'circulatory collapse'}, {'name': 'ophthalmoplegia'}, {'name': 'stress cardiomyopathy'}]}, {'chembl_id': 'CHEMBL:CHEMBL112', 'drugbank_id': 'DrugBank:DB00316', 'compound_cid': 'pubchem.compound:1983', 'compound_name': 'ACETAMINOPHEN', 'clincal_trial_phase': 4.0, 'is_approved': True, 'relation': 'treats', 'adverse_effect_count': 55.0, 'adverse_effect': [{'name': 'toxicity to various agents'}, {'name': 'acute hepatic failure'}, {'name': 'suicide attempt'}, {'name': 'hepatocellular injury'}, {'name': 'anti-cyclic citrullinated peptide antibody positive'}, {'name': 'poisoning deliberate'}, {'name': 'muscle injury'}, {'name': 'metabolic acidosis'}, {'name': 'hand deformity'}, {'name': 'pemphigus'}, {'name': 'liver injury'}, {'name': 'hepatic enzyme increased'}, {'name': 'coma'}, {'name': 'folliculitis'}, {'name': 'vomiting'}, {'name': 'lower respiratory tract infection'}, {'name': 'glossodynia'}, {'name': 'cholestasis'}, {'name': 'sleep disorder due to general medical condition, insomnia type'}, {'name': 'irritable bowel syndrome'}, {'name': 'pericarditis'}, {'name': 'duodenal ulcer perforation'}, {'name': 'joint swelling'}, {'name': 'synovitis'}, {'name': 'helicobacter infection'}]}, {'chembl_id': 'CHEMBL:CHEMBL1200694', 'drugbank_id': 'DrugBank:DB01236', 'compound_cid': 'pubchem.compound:5206', 'compound_name': 'SEVOFLURANE', 'clincal_trial_phase': 4.0, 'is_approved': True, 'relation': 'treats', 'adverse_effect_count': 81.0, 'adverse_effect': [{'name': 'anaesthetic complication neurological'}, {'name': 'unwanted awareness during anaesthesia'}, {'name': 'anaesthetic complication'}, {'name': 'hyperthermia malignant'}, {'name': 'cardiac arrest'}, {'name': 'delayed recovery from anaesthesia'}, {'name': 'low birth weight baby'}, {'name': 'hypotension'}, {'name': 'bradycardia'}, {'name': 'hyperthermia'}, {'name': 'anaphylactic shock'}, {'name': 'ventricular fibrillation'}, {'name': 'hepatorenal failure'}, {'name': 'oxygen saturation decreased'}, {'name': 'negative pressure pulmonary oedema'}, {'name': 'product tampering'}, {'name': 'ventricular tachycardia'}, {'name': 'bronchospasm'}, {'name': 'laryngospasm'}, {'name': 'tachycardia'}, {'name': 'fatigue'}, {'name': 'electroencephalogram abnormal'}, {'name': 'pco2 increased'}, {'name': 'hypercapnia'}, {'name': 'torsade de pointes'}]}, {'chembl_id': 'CHEMBL:CHEMBL526', 'drugbank_id': 'DrugBank:DB00818', 'compound_cid': 'pubchem.compound:4943', 'compound_name': 'PROPOFOL', 'clincal_trial_phase': 4.0, 'is_approved': True, 'relation': 'treats', 'adverse_effect_count': 54.0, 'adverse_effect': [{'name': 'anaphylactic shock'}, {'name': 'propofol infusion syndrome'}, {'name': 'hypotension'}, {'name': 'bronchospasm'}, {'name': 'anaphylactic reaction'}, {'name': 'hyperthermia malignant'}, {'name': 'cardiac arrest'}, {'name': 'delayed recovery from anaesthesia'}, {'name': 'oxygen saturation decreased'}, {'name': 'rhabdomyolysis'}, {'name': 'circulatory collapse'}, {'name': 'bradycardia'}, {'name': 'respiratory depression'}, {'name': 'post procedural complication'}, {'name': 'tachycardia'}, {'name': 'stress cardiomyopathy'}, {'name': 'diarrhoea'}, {'name': 'fatigue'}, {'name': 'haemodynamic instability'}, {'name': 'product contamination microbial'}, {'name': 'status epilepticus'}, {'name': 'ventricular fibrillation'}, {'name': 'anaesthetic complication'}, {'name': 'pulseless electrical activity'}, {'name': 'hypertriglyceridaemia'}]}, {'chembl_id': 'CHEMBL:CHEMBL1201219', 'drugbank_id': 'DrugBank:DB01339', 'compound_cid': 'pubchem.compound:39765', 'compound_name': 'VECURONIUM', 'clincal_trial_phase': 4.0, 'is_approved': True, 'relation': 'treats', 'adverse_effect_count': 27.0, 'adverse_effect': [{'name': 'feeding intolerance'}, {'name': 'hyperthermia malignant'}, {'name': 'post procedural complication'}, {'name': 'carcinoid crisis'}, {'name': 'bradycardia foetal'}, {'name': 'neuromuscular block prolonged'}, {'name': 'therapeutic product cross-reactivity'}, {'name': 'anaphylactic reaction'}, {'name': 'paralysis'}, {'name': 'vasoplegia syndrome'}, {'name': 'hypotension'}, {'name': 'cardiac arrest'}, {'name': 'wound infection'}, {'name': 'atelectasis'}, {'name': 'neonatal hypoxia'}, {'name': 'negative pressure pulmonary oedema'}, {'name': 'urinary retention'}, {'name': 'non-cardiogenic pulmonary oedema'}, {'name': 'product packaging confusion'}, {'name': 'premature baby'}, {'name': 'haemodynamic instability'}, {'name': 'nonreassuring foetal heart rate pattern'}, {'name': 'bradyarrhythmia'}, {'name': 'intervertebral discitis'}, {'name': 'drug resistance'}]}]"
        ],
        [
         "4",
         "UMLS_C0004936",
         "UMLS",
         "EFO_0000677",
         "EFO",
         "[{'chembl_id': 'CHEMBL:CHEMBL4105630', 'drugbank_id': 'DrugBank:DB15490', 'compound_cid': 'pubchem.compound:86294073', 'compound_name': 'ZURANOLONE', 'clincal_trial_phase': 4.0, 'is_approved': True, 'relation': 'treats', 'adverse_effect_count': 0.0, 'adverse_effect': {}}, {'chembl_id': 'CHEMBL:CHEMBL526', 'drugbank_id': 'DrugBank:DB00818', 'compound_cid': 'pubchem.compound:4943', 'compound_name': 'PROPOFOL', 'clincal_trial_phase': 4.0, 'is_approved': True, 'relation': 'treats', 'adverse_effect_count': 54.0, 'adverse_effect': [{'name': 'anaphylactic shock'}, {'name': 'propofol infusion syndrome'}, {'name': 'hypotension'}, {'name': 'bronchospasm'}, {'name': 'anaphylactic reaction'}, {'name': 'hyperthermia malignant'}, {'name': 'cardiac arrest'}, {'name': 'delayed recovery from anaesthesia'}, {'name': 'oxygen saturation decreased'}, {'name': 'rhabdomyolysis'}, {'name': 'circulatory collapse'}, {'name': 'bradycardia'}, {'name': 'respiratory depression'}, {'name': 'post procedural complication'}, {'name': 'tachycardia'}, {'name': 'stress cardiomyopathy'}, {'name': 'diarrhoea'}, {'name': 'fatigue'}, {'name': 'haemodynamic instability'}, {'name': 'product contamination microbial'}, {'name': 'status epilepticus'}, {'name': 'ventricular fibrillation'}, {'name': 'anaesthetic complication'}, {'name': 'pulseless electrical activity'}, {'name': 'hypertriglyceridaemia'}]}, {'chembl_id': 'CHEMBL:CHEMBL395091', 'drugbank_id': 'DrugBank:DB11823', 'compound_cid': 'pubchem.compound:182137', 'compound_name': 'ESKETAMINE', 'clincal_trial_phase': 4.0, 'is_approved': True, 'relation': 'treats', 'adverse_effect_count': 6.0, 'adverse_effect': [{'name': 'suicide attempt'}, {'name': 'suicidal ideation'}, {'name': 'depression'}, {'name': 'serotonin syndrome'}, {'name': 'dissociation'}, {'name': 'major depression'}]}, {'chembl_id': 'CHEMBL:CHEMBL1113', 'drugbank_id': 'DrugBank:DB00543', 'compound_cid': 'pubchem.compound:2170', 'compound_name': 'AMOXAPINE', 'clincal_trial_phase': 4.0, 'is_approved': True, 'relation': 'treats', 'adverse_effect_count': 28.0, 'adverse_effect': [{'name': 'coma'}, {'name': 'toxicity to various agents'}, {'name': 'hypoxia'}, {'name': 'somnolence'}, {'name': 'clonic convulsion'}, {'name': 'shock'}, {'name': 'suicide attempt'}, {'name': 'acute respiratory distress syndrome'}, {'name': 'tachypnoea'}, {'name': 'circulatory collapse'}, {'name': 'neuroleptic malignant syndrome'}, {'name': 'alanine aminotransferase increased'}, {'name': 'hyperglycaemic hyperosmolar nonketotic syndrome'}, {'name': 'cardiovascular insufficiency'}, {'name': 'ventricular fibrillation'}, {'name': 'parkinsonism'}, {'name': 'supraventricular tachycardia'}, {'name': 'erythema multiforme'}, {'name': 'aspartate aminotransferase increased'}, {'name': 'acute febrile neutrophilic dermatosis'}, {'name': 'blood caffeine increased'}, {'name': 'sinus tachycardia'}, {'name': 'blood lactate dehydrogenase increased'}, {'name': 'electrocardiogram qt prolonged'}, {'name': 'ventouse extraction'}]}, {'chembl_id': 'CHEMBL:CHEMBL1699', 'drugbank_id': None, 'compound_cid': 'pubchem.compound:181458', 'compound_name': 'MEMANTINE HYDROCHLORIDE', 'clincal_trial_phase': 4.0, 'is_approved': True, 'relation': 'treats', 'adverse_effect_count': 17.0, 'adverse_effect': [{'name': 'confusional state'}, {'name': 'agitation'}, {'name': 'aggression'}, {'name': 'fall'}, {'name': 'abnormal behaviour'}, {'name': 'myoclonus'}, {'name': 'somnolence'}, {'name': 'hallucination'}, {'name': \"dementia alzheimer's type\"}, {'name': 'convulsion'}, {'name': 'delirium'}, {'name': 'dementia'}, {'name': 'bradycardia'}, {'name': 'hallucination, visual'}, {'name': 'loss of consciousness'}, {'name': 'sedation'}, {'name': 'condition aggravated'}]}, {'chembl_id': 'CHEMBL:CHEMBL1201293', 'drugbank_id': 'DrugBank:DB00659', 'compound_cid': 'pubchem.compound:71158', 'compound_name': 'ACAMPROSATE', 'clincal_trial_phase': 4.0, 'is_approved': True, 'relation': 'treats', 'adverse_effect_count': 16.0, 'adverse_effect': [{'name': 'hypoventilation'}, {'name': 'cardiovascular disorder'}, {'name': 'ventricular fibrillation'}, {'name': 'electrocardiogram qt prolonged'}, {'name': 'hyperhidrosis'}, {'name': 'catatonia'}, {'name': 'neglect of personal appearance'}, {'name': 'delirium'}, {'name': 'malaise'}, {'name': 'hepatitis toxic'}, {'name': 'deafness neurosensory'}, {'name': 'alcoholism'}, {'name': 'bladder dilatation'}, {'name': 'pemphigoid'}, {'name': 'miosis'}, {'name': 'asthenia'}]}, {'chembl_id': 'CHEMBL:CHEMBL2068724', 'drugbank_id': None, 'compound_cid': 'pubchem.compound:155434', 'compound_name': 'ACAMPROSATE CALCIUM', 'clincal_trial_phase': 4.0, 'is_approved': True, 'relation': 'treats', 'adverse_effect_count': 35.0, 'adverse_effect': [{'name': 'foetal alcohol syndrome'}, {'name': 'drug screen false positive'}, {'name': 'psychomotor skills impaired'}, {'name': 'hypertrophic cardiomyopathy'}, {'name': 'drug abuse'}, {'name': 'anorgasmia'}, {'name': 'self injurious behaviour'}, {'name': 'drug screen positive'}, {'name': 'deep vein thrombosis'}, {'name': 'amnesia'}, {'name': 'delirium tremens'}, {'name': 'pulmonary eosinophilia'}, {'name': 'flight of ideas'}, {'name': 'alcoholism'}, {'name': 'ammonia increased'}, {'name': 'imprisonment'}, {'name': 'grand mal convulsion'}, {'name': 'negativism'}, {'name': 'alcohol withdrawal syndrome'}, {'name': 'depressed level of consciousness'}, {'name': 'cytolytic hepatitis'}, {'name': 'urinary retention'}, {'name': 'electrolyte substitution therapy'}, {'name': 'somnolence'}, {'name': 'suicide attempt'}]}, {'chembl_id': 'CHEMBL:CHEMBL580', 'drugbank_id': 'DrugBank:DB00186', 'compound_cid': 'pubchem.compound:3958', 'compound_name': 'LORAZEPAM', 'clincal_trial_phase': 4.0, 'is_approved': True, 'relation': 'treats', 'adverse_effect_count': 39.0, 'adverse_effect': [{'name': 'drug abuse'}, {'name': 'sopor'}, {'name': 'somnolence'}, {'name': 'suicide attempt'}, {'name': 'coma'}, {'name': 'delirium'}, {'name': 'agitation'}, {'name': 'confusional state'}, {'name': 'pneumonia aspiration'}, {'name': 'sedation'}, {'name': 'bradyphrenia'}, {'name': 'toxicity to various agents'}, {'name': 'fall'}, {'name': 'drug dependence'}, {'name': 'catatonia'}, {'name': 'neuroleptic malignant syndrome'}, {'name': 'depressed level of consciousness'}, {'name': 'tachycardia'}, {'name': 'respiratory depression'}, {'name': 'drug withdrawal syndrome'}, {'name': 'loss of consciousness'}, {'name': 'dysarthria'}, {'name': 'aggression'}, {'name': 'disorientation'}, {'name': 'speech disorder'}]}, {'chembl_id': 'CHEMBL:CHEMBL1200826', 'drugbank_id': 'DrugBank:DB14509', 'compound_cid': 'pubchem.compound:11125', 'compound_name': 'LITHIUM CARBONATE', 'clincal_trial_phase': 4.0, 'is_approved': True, 'relation': 'treats', 'adverse_effect_count': 91.0, 'adverse_effect': [{'name': 'toxicity to various agents'}, {'name': 'therapeutic agent toxicity'}, {'name': 'nephrogenic diabetes insipidus'}, {'name': 'tremor'}, {'name': 'therapeutic product effect variable'}, {'name': 'hyperparathyroidism'}, {'name': 'neuroleptic malignant syndrome'}, {'name': 'disinhibition'}, {'name': 'obsessive-compulsive disorder'}, {'name': 'suicide attempt'}, {'name': 'akathisia'}, {'name': 'euphoric mood'}, {'name': 'drug interaction'}, {'name': 'confusional state'}, {'name': 'ataxia'}, {'name': 'increased appetite'}, {'name': 'mania'}, {'name': 'mental status changes'}, {'name': 'dysarthria'}, {'name': 'weight increased'}, {'name': 'diabetes insipidus'}, {'name': 'neurotoxicity'}, {'name': 'parkinsonism'}, {'name': 'renal failure acute'}, {'name': 'disorientation'}]}, {'chembl_id': 'CHEMBL:CHEMBL1068', 'drugbank_id': 'DrugBank:DB00776', 'compound_cid': 'pubchem.compound:34312', 'compound_name': 'OXCARBAZEPINE', 'clincal_trial_phase': 4.0, 'is_approved': True, 'relation': 'treats', 'adverse_effect_count': 22.0, 'adverse_effect': [{'name': 'hyponatraemia'}, {'name': 'convulsion'}, {'name': 'seizure'}, {'name': 'epilepsy'}, {'name': 'abortion spontaneous'}, {'name': 'somnolence'}, {'name': 'stevens-johnson syndrome'}, {'name': 'diplopia'}, {'name': 'blood sodium decreased'}, {'name': 'petit mal epilepsy'}, {'name': 'multiple-drug resistance'}, {'name': 'ataxia'}, {'name': 'status epilepticus'}, {'name': 'nystagmus'}, {'name': 'aggression'}, {'name': 'drug interaction'}, {'name': 'grand mal convulsion'}, {'name': 'myoclonic epilepsy'}, {'name': 'partial seizures'}, {'name': 'generalised tonic-clonic seizure'}, {'name': 'drug reaction with eosinophilia and systemic symptoms'}, {'name': 'hypochloraemia'}]}, {'chembl_id': 'CHEMBL:CHEMBL1112', 'drugbank_id': 'DrugBank:DB01238', 'compound_cid': 'pubchem.compound:60795', 'compound_name': 'ARIPIPRAZOLE', 'clincal_trial_phase': 4.0, 'is_approved': True, 'relation': 'treats', 'adverse_effect_count': 38.0, 'adverse_effect': [{'name': 'akathisia'}, {'name': 'tardive dyskinesia'}, {'name': 'dystonia'}, {'name': 'extrapyramidal disorder'}, {'name': 'neuroleptic malignant syndrome'}, {'name': 'psychotic disorder'}, {'name': 'weight increased'}, {'name': 'sedation'}, {'name': 'schizophrenia'}, {'name': 'suicide attempt'}, {'name': 'dyskinesia'}, {'name': 'parkinsonism'}, {'name': 'blood prolactin abnormal'}, {'name': 'delusion'}, {'name': 'anosognosia'}, {'name': 'gambling disorder'}, {'name': 'sexual dysfunction'}, {'name': 'mania'}, {'name': 'disturbance in social behaviour'}, {'name': 'hallucination, auditory'}, {'name': 'suicidal ideation'}, {'name': 'restlessness'}, {'name': 'metabolic disorder'}, {'name': 'aggression'}, {'name': 'tremor'}]}, {'chembl_id': 'CHEMBL:CHEMBL661', 'drugbank_id': 'DrugBank:DB00404', 'compound_cid': 'pubchem.compound:2118', 'compound_name': 'ALPRAZOLAM', 'clincal_trial_phase': 4.0, 'is_approved': True, 'relation': 'treats', 'adverse_effect_count': 35.0, 'adverse_effect': [{'name': 'drug abuse'}, {'name': 'sopor'}, {'name': 'suicide attempt'}, {'name': 'coma'}, {'name': 'toxicity to various agents'}, {'name': 'somnolence'}, {'name': 'poisoning deliberate'}, {'name': 'drug dependence'}, {'name': 'bradyphrenia'}, {'name': 'confusional state'}, {'name': 'prescription form tampering'}, {'name': 'drug use disorder'}, {'name': 'withdrawal syndrome'}, {'name': 'substance abuse'}, {'name': 'depressed level of consciousness'}, {'name': 'miosis'}, {'name': 'agitation'}, {'name': 'mydriasis'}, {'name': 'poisoning'}, {'name': 'altered state of consciousness'}, {'name': 'bradypnoea'}, {'name': 'pneumonia aspiration'}, {'name': 'loss of consciousness'}, {'name': 'hypotension'}, {'name': 'anxiety'}]}, {'chembl_id': 'CHEMBL:CHEMBL2', 'drugbank_id': 'DrugBank:DB00457', 'compound_cid': 'pubchem.compound:4893', 'compound_name': 'PRAZOSIN', 'clincal_trial_phase': 4.0, 'is_approved': True, 'relation': 'treats', 'adverse_effect_count': 56.0, 'adverse_effect': [{'name': 'hypotension'}, {'name': 'atrioventricular block first degree'}, {'name': 'sinus bradycardia'}, {'name': 'priapism'}, {'name': 'acute respiratory distress syndrome'}, {'name': 'aspiration'}, {'name': 'vasoplegia syndrome'}, {'name': 'cardiac hypertrophy'}, {'name': 'norepinephrine increased'}, {'name': 'hypertrichosis'}, {'name': 'hyperlactacidaemia'}, {'name': 'metabolic acidosis'}, {'name': 'electrocardiogram qt prolonged'}, {'name': 'circulatory collapse'}, {'name': 'low birth weight baby'}, {'name': 'shock'}, {'name': 'depressed level of consciousness'}, {'name': 'electrocardiogram qrs complex shortened'}, {'name': 'premature baby'}, {'name': 'unresponsive to stimuli'}, {'name': 'cardiogenic shock'}, {'name': 'coma scale abnormal'}, {'name': 'toxicity to various agents'}, {'name': 'syncope'}, {'name': 'serotonin syndrome'}]}, {'chembl_id': 'CHEMBL:CHEMBL490', 'drugbank_id': 'DrugBank:DB00715', 'compound_cid': 'pubchem.compound:43815', 'compound_name': 'PAROXETINE', 'clincal_trial_phase': 4.0, 'is_approved': True, 'relation': 'treats', 'adverse_effect_count': 65.0, 'adverse_effect': [{'name': 'atrial septal defect'}, {'name': 'drug withdrawal syndrome'}, {'name': 'ventricular septal defect'}, {'name': 'patent ductus arteriosus'}, {'name': 'serotonin syndrome'}, {'name': 'suicide attempt'}, {'name': 'cardiac murmur'}, {'name': 'suicidal ideation'}, {'name': 'drug abuse'}, {'name': 'anxiety'}, {'name': 'heart disease congenital'}, {'name': 'aggression'}, {'name': 'agitation'}, {'name': 'congenital anomaly'}, {'name': 'hyponatraemia'}, {'name': 'pulmonary valve stenosis'}, {'name': 'multiple congenital abnormalities'}, {'name': 'tremor'}, {'name': 'sopor'}, {'name': 'confusional state'}, {'name': 'irritability'}, {'name': 'talipes'}, {'name': 'coarctation of the aorta'}, {'name': 'depression'}, {'name': 'somnolence'}]}, {'chembl_id': 'CHEMBL:CHEMBL1201156', 'drugbank_id': None, 'compound_cid': 'pubchem.compound:441358', 'compound_name': 'NORTRIPTYLINE HYDROCHLORIDE', 'clincal_trial_phase': 4.0, 'is_approved': True, 'relation': 'treats', 'adverse_effect_count': 72.0, 'adverse_effect': [{'name': 'pneumonia aspiration'}, {'name': 'coma'}, {'name': 'gastrooesophageal reflux disease'}, {'name': 'somnolence'}, {'name': 'temperature regulation disorder'}, {'name': 'drug hypersensitivity'}, {'name': 'suicidal ideation'}, {'name': 'food allergy'}, {'name': 'coeliac disease'}, {'name': 'immunodeficiency'}, {'name': 'bursitis'}, {'name': 'presbyacusis'}, {'name': 'pleural thickening'}, {'name': 'blood magnesium increased'}, {'name': 'fluid retention'}, {'name': 'pleural fibrosis'}, {'name': 'deafness neurosensory'}, {'name': 'rash erythematous'}, {'name': 'rheumatoid arthritis'}, {'name': 'hypersensitivity'}, {'name': 'upper respiratory tract infection'}, {'name': 'hepatic enzyme increased'}, {'name': 'bone cyst'}, {'name': 'brugada syndrome'}, {'name': 'hyperhidrosis'}]}, {'chembl_id': 'CHEMBL:CHEMBL56564', 'drugbank_id': 'DrugBank:DB11699', 'compound_cid': 'pubchem.compound:656665', 'compound_name': 'TROPISETRON', 'clincal_trial_phase': 4.0, 'is_approved': True, 'relation': 'treats', 'adverse_effect_count': 11.0, 'adverse_effect': [{'name': 'tongue neoplasm malignant stage unspecified'}, {'name': 'hysterectomy'}, {'name': 'toxic epidermal necrolysis'}, {'name': 'pyrexia'}, {'name': 'petechiae'}, {'name': 'stevens-johnson syndrome'}, {'name': 'rash macular'}, {'name': 'blister'}, {'name': 'bladder tamponade'}, {'name': 'bone marrow failure'}, {'name': 'erythema'}]}, {'chembl_id': 'CHEMBL:CHEMBL207538', 'drugbank_id': 'DrugBank:DB11859', 'compound_cid': 'pubchem.compound:92786', 'compound_name': 'BREXANOLONE', 'clincal_trial_phase': 4.0, 'is_approved': True, 'relation': 'treats', 'adverse_effect_count': 4.0, 'adverse_effect': [{'name': 'anxiety'}, {'name': 'perinatal depression'}, {'name': 'feeling guilty'}, {'name': 'infusion site pain'}]}, {'chembl_id': 'CHEMBL:CHEMBL81', 'drugbank_id': 'DrugBank:DB00481', 'compound_cid': 'pubchem.compound:5035', 'compound_name': 'RALOXIFENE', 'clincal_trial_phase': 4.0, 'is_approved': True, 'relation': 'treats', 'adverse_effect_count': 31.0, 'adverse_effect': [{'name': 'breast cancer'}, {'name': 'endometrial cancer'}, {'name': 'deep vein thrombosis'}, {'name': 'pulmonary embolism'}, {'name': 'bone density decreased'}, {'name': 'retinal vein thrombosis'}, {'name': 'fracture'}, {'name': 'hip fracture'}, {'name': 'breast cancer female'}, {'name': 'spinal compression fracture'}, {'name': 'retinal vein occlusion'}, {'name': 'thoracic vertebral fracture'}, {'name': 'spinal fracture'}, {'name': 'body height decreased'}, {'name': 'breast cancer in situ'}, {'name': 'lumbar vertebral fracture'}, {'name': 'cerebral infarction'}, {'name': 'pelvic fracture'}, {'name': 'muscle cramp'}, {'name': 'femur fracture'}, {'name': 'uterine cancer'}, {'name': 'oestrogen receptor assay positive'}, {'name': 'endometrial cancer stage i'}, {'name': 'compression fracture'}, {'name': 'transient ischaemic attack'}]}, {'chembl_id': 'CHEMBL:CHEMBL71', 'drugbank_id': 'DrugBank:DB00477', 'compound_cid': 'pubchem.compound:2726', 'compound_name': 'CHLORPROMAZINE', 'clincal_trial_phase': 4.0, 'is_approved': True, 'relation': 'treats', 'adverse_effect_count': 89.0, 'adverse_effect': [{'name': 'neuroleptic malignant syndrome'}, {'name': 'catatonia'}, {'name': 'sedation'}, {'name': 'aggression'}, {'name': 'decreased eye contact'}, {'name': 'oppositional defiant disorder'}, {'name': 'emotional poverty'}, {'name': \"sydenham's chorea\"}, {'name': 'suicide attempt'}, {'name': 'sopor'}, {'name': 'parkinsonism'}, {'name': 'psychomotor hyperactivity'}, {'name': 'coma'}, {'name': 'homicidal ideation'}, {'name': 'foetal disorder'}, {'name': 'drug withdrawal syndrome neonatal'}, {'name': 'drug abuse'}, {'name': 'agitation'}, {'name': 'tardive dyskinesia'}, {'name': 'electrocardiogram qt prolonged'}, {'name': 'dyskinesia'}, {'name': 'bruxism'}, {'name': 'extrapyramidal disorder'}, {'name': 'premature baby'}, {'name': 'somnolence'}]}]"
        ]
       ],
       "shape": {
        "columns": 5,
        "rows": 5
       }
      },
      "text/html": [
       "<div>\n",
       "<style scoped>\n",
       "    .dataframe tbody tr th:only-of-type {\n",
       "        vertical-align: middle;\n",
       "    }\n",
       "\n",
       "    .dataframe tbody tr th {\n",
       "        vertical-align: top;\n",
       "    }\n",
       "\n",
       "    .dataframe thead th {\n",
       "        text-align: right;\n",
       "    }\n",
       "</style>\n",
       "<table border=\"1\" class=\"dataframe\">\n",
       "  <thead>\n",
       "    <tr style=\"text-align: right;\">\n",
       "      <th></th>\n",
       "      <th>identifier</th>\n",
       "      <th>identifier.source</th>\n",
       "      <th>target</th>\n",
       "      <th>target.source</th>\n",
       "      <th>OpenTargets_disease_compounds</th>\n",
       "    </tr>\n",
       "  </thead>\n",
       "  <tbody>\n",
       "    <tr>\n",
       "      <th>0</th>\n",
       "      <td>UMLS_C0001175</td>\n",
       "      <td>UMLS</td>\n",
       "      <td>EFO_0000765</td>\n",
       "      <td>EFO</td>\n",
       "      <td>[{'chembl_id': 'CHEMBL:CHEMBL704', 'drugbank_i...</td>\n",
       "    </tr>\n",
       "    <tr>\n",
       "      <th>1</th>\n",
       "      <td>UMLS_C0002103</td>\n",
       "      <td>UMLS</td>\n",
       "      <td>EFO_0005854</td>\n",
       "      <td>EFO</td>\n",
       "      <td>[{'chembl_id': 'CHEMBL:CHEMBL1201353', 'drugba...</td>\n",
       "    </tr>\n",
       "    <tr>\n",
       "      <th>2</th>\n",
       "      <td>UMLS_C0003873</td>\n",
       "      <td>UMLS</td>\n",
       "      <td>EFO_0000685</td>\n",
       "      <td>EFO</td>\n",
       "      <td>[{'chembl_id': 'CHEMBL:CHEMBL2103743', 'drugba...</td>\n",
       "    </tr>\n",
       "    <tr>\n",
       "      <th>3</th>\n",
       "      <td>UMLS_C0003977</td>\n",
       "      <td>UMLS</td>\n",
       "      <td>EFO_0004259</td>\n",
       "      <td>EFO</td>\n",
       "      <td>[{'chembl_id': 'CHEMBL:CHEMBL1200733', 'drugba...</td>\n",
       "    </tr>\n",
       "    <tr>\n",
       "      <th>4</th>\n",
       "      <td>UMLS_C0004936</td>\n",
       "      <td>UMLS</td>\n",
       "      <td>EFO_0000677</td>\n",
       "      <td>EFO</td>\n",
       "      <td>[{'chembl_id': 'CHEMBL:CHEMBL4105630', 'drugba...</td>\n",
       "    </tr>\n",
       "  </tbody>\n",
       "</table>\n",
       "</div>"
      ],
      "text/plain": [
       "      identifier identifier.source       target target.source  \\\n",
       "0  UMLS_C0001175              UMLS  EFO_0000765           EFO   \n",
       "1  UMLS_C0002103              UMLS  EFO_0005854           EFO   \n",
       "2  UMLS_C0003873              UMLS  EFO_0000685           EFO   \n",
       "3  UMLS_C0003977              UMLS  EFO_0004259           EFO   \n",
       "4  UMLS_C0004936              UMLS  EFO_0000677           EFO   \n",
       "\n",
       "                       OpenTargets_disease_compounds  \n",
       "0  [{'chembl_id': 'CHEMBL:CHEMBL704', 'drugbank_i...  \n",
       "1  [{'chembl_id': 'CHEMBL:CHEMBL1201353', 'drugba...  \n",
       "2  [{'chembl_id': 'CHEMBL:CHEMBL2103743', 'drugba...  \n",
       "3  [{'chembl_id': 'CHEMBL:CHEMBL1200733', 'drugba...  \n",
       "4  [{'chembl_id': 'CHEMBL:CHEMBL4105630', 'drugba...  "
      ]
     },
     "execution_count": 38,
     "metadata": {},
     "output_type": "execute_result"
    }
   ],
   "source": [
    "opentargets_disease_compound_df.head()"
   ]
  },
  {
   "cell_type": "code",
   "execution_count": 39,
   "metadata": {},
   "outputs": [
    {
     "name": "stderr",
     "output_type": "stream",
     "text": [
      "Building graph: 100%|██████████| 10/10 [00:00<00:00, 1280.39it/s]\n",
      "100%|██████████| 10/10 [00:00<00:00, 1787.70it/s]\n"
     ]
    }
   ],
   "source": [
    "pygraph = generator.build_networkx_graph(\n",
    "    combined_df, homolog_df_list=[opentargets_compound_df, disgenet_df]\n",
    ")"
   ]
  },
  {
   "cell_type": "code",
   "execution_count": 40,
   "metadata": {},
   "outputs": [
    {
     "name": "stdout",
     "output_type": "stream",
     "text": [
      "MultiDiGraph with 446 nodes and 493 edges\n"
     ]
    }
   ],
   "source": [
    "print(pygraph)"
   ]
  },
  {
   "cell_type": "markdown",
   "metadata": {},
   "source": [
    "### 3.4 Store the graph"
   ]
  },
  {
   "cell_type": "code",
   "execution_count": 41,
   "metadata": {},
   "outputs": [],
   "source": [
    "with open(\"networkx_graph_test.pkl\", \"wb\") as out:\n",
    "    pickle.dump(pygraph, out)"
   ]
  },
  {
   "cell_type": "markdown",
   "metadata": {},
   "source": [
    "### 3.5 Visualize the graph"
   ]
  },
  {
   "cell_type": "code",
   "execution_count": null,
   "metadata": {},
   "outputs": [],
   "source": [
    "# pos = nx.circular_layout(pygraph)\n",
    "\n",
    "# plt.figure(3, figsize=(30, 30))\n",
    "# nx.draw(pygraph, pos)\n",
    "# plt.show()"
   ]
  },
  {
   "cell_type": "markdown",
   "metadata": {},
   "source": [
    "# 4. Exporting Graph to external sources"
   ]
  },
  {
   "cell_type": "markdown",
   "metadata": {},
   "source": [
    "### 4.1 Cytoscape\n",
    "Make sure that the Cytoscape is open"
   ]
  },
  {
   "cell_type": "code",
   "execution_count": 43,
   "metadata": {},
   "outputs": [
    {
     "name": "stdout",
     "output_type": "stream",
     "text": [
      "Applying default style...\n",
      "Applying preferred layout\n"
     ]
    }
   ],
   "source": [
    "from pyBiodatafuse.graph import cytoscape\n",
    "\n",
    "cytoscape.load_graph(pygraph, network_name=\"Test network\")"
   ]
  },
  {
   "cell_type": "markdown",
   "metadata": {},
   "source": [
    "### 4.2 Neo4j"
   ]
  },
  {
   "cell_type": "code",
   "execution_count": 44,
   "metadata": {},
   "outputs": [],
   "source": [
    "from pyBiodatafuse.graph import neo4j\n",
    "\n",
    "neo4j.save_graph_to_graphml(pygraph, \"networkx_graph_usecase.graphml\")"
   ]
  },
  {
   "cell_type": "markdown",
   "metadata": {},
   "source": [
    "##### Steps to load the graph in Neo4j"
   ]
  },
  {
   "cell_type": "markdown",
   "metadata": {},
   "source": [
    "- Add `.graphml` file in **import** subfolder of the DBMS folder\n",
    "- Install apoc plugin\n",
    "- Create `apoc.conf` file:\n",
    "    ```\n",
    "    apoc.trigger.enabled=true\n",
    "    apoc.import.file.enabled=true\n",
    "    apoc.export.file.enabled=true\n",
    "    apoc.import.file.use_neo4j_config=true\n",
    "    ```\n",
    "- Add `apoc.conf` file to **conf** subfolder of the DBMS folder\n",
    "- Open Neo4j Browser\n",
    "- (Optionl, only run if you have imported a graph  before) Remove all the nodes before importing `.graphml` file\n",
    "\n",
    "    ```MATCH (n) DETACH DELETE n```\n",
    "\n",
    "- Import `.graphml` file\n",
    "\n",
    "    ```call apoc.import.graphml('file:///networkx_graph_test.graphml',{readLabels:TRUE})```\n",
    "\n",
    "- Add indexes after importing the graph for improving the performance of queries\n",
    "\n",
    "    ```\n",
    "    create index Gene for (n:Gene) on (n.node_type)\n",
    "    create index Pathway for (n:Pathway) on (n.node_type)\n",
    "    create index `Biological Process` for (n:`Biological Process`) on (n.node_type)\n",
    "    create index `Molecular Function` for (n:`Molecular Function`) on (n.node_type)\n",
    "    create index `Cellular Component` for (n:`Cellular Component`) on (n.node_type)\n",
    "    create index Disease for (n:Disease) on (n.node_type)\n",
    "    create index Compound for (n:Compound) on (n.node_type)\n",
    "    create index `Side Effect` for (n:`Side Effect`) on (n.node_type)\n",
    "    ```\n",
    "    \n",
    "\n",
    "- Count the number of each node type\n",
    "    - total (```MATCH (n) RETURN count(n)```) \n",
    "        - Gene (```MATCH (n:Gene) RETURN count(n)```)\n",
    "        - Pathway (```MATCH (n:Pathway) RETURN count(n)```)\n",
    "            - WikiPathways (```MATCH (n:Pathway {source: \"WikiPathways\"}) RETURN count(n)```) \n",
    "            - OpenTargets, Reactome (```MATCH (n:Pathway {source: \"OpenTargets\"}) RETURN count(n)```) \n",
    "            - MINERVA (```MATCH (n:Pathway {source: \"MINERVA\"}) RETURN count(n)```) \n",
    "        - Biological Process (```MATCH (n:`Biological Process`) RETURN count(n)```) \n",
    "        - Molecular Function (```MATCH (n:`Molecular Function`) RETURN count(n)```) \n",
    "        - Cellular Component (```MATCH (n:`Cellular Component`) RETURN count(n)```) \n",
    "        - Disease (```MATCH (n:Disease) RETURN count(n)```) \n",
    "        - Compound (```MATCH (n:Compound) RETURN count(n)```)\n",
    "        - Side Effect (```MATCH (n:`Side Effect`) RETURN count(n)```) \n",
    "- Count the number of each edge type\n",
    "    - total (```MATCH ()-[r]->() RETURN count(r)```) \n",
    "        - interacts_with (```MATCH ()-[r:interacts_with]->() RETURN count(r)```) \n",
    "        - part_of (```MATCH ()-[r:part_of]->() RETURN count(r)```) \n",
    "            - WikiPathways (```MATCH ()-[r:part_of {source: \"WikiPathways\"}]->() RETURN count(r)```) \n",
    "            - OpenTargets, Reactome (```MATCH ()-[r:part_of {source: \"OpenTargets\"}]->() RETURN count(r)```) \n",
    "            - MINERVA (```MATCH ()-[r:part_of {source: \"MINERVA\"}]->() RETURN count(r)```) \n",
    "        - activates (```MATCH ()-[r:activates]->() RETURN count(r)```) \n",
    "        - treats (```MATCH ()-[r:treats]->() RETURN count(r)```) \n",
    "        - has_side_effect (```MATCH ()-[r:has_side_effect]->() RETURN count(r)```) \n",
    "        - inhibits (```MATCH ()-[r:inhibits]->() RETURN count(r)```) = 71\n",
    "        - associated_with (```MATCH ()-[r:associated_with]->() RETURN count(r)```) \n",
    "\n",
    "- Export the graph as a `.csv` file\n",
    "\n",
    "    ```call apoc.export.csv.all(\"networkx_graph_test.csv\",{})```"
   ]
  }
 ],
 "metadata": {
  "kernelspec": {
   "display_name": ".venv",
   "language": "python",
   "name": "python3"
  },
  "language_info": {
   "codemirror_mode": {
    "name": "ipython",
    "version": 3
   },
   "file_extension": ".py",
   "mimetype": "text/x-python",
   "name": "python",
   "nbconvert_exporter": "python",
   "pygments_lexer": "ipython3",
   "version": "3.11.11"
  }
 },
 "nbformat": 4,
 "nbformat_minor": 4
}
