{
 "cells": [
  {
   "cell_type": "markdown",
   "metadata": {},
   "source": [
    "# Example: Polysistice Kidney Disease use case"
   ]
  },
  {
   "cell_type": "code",
   "execution_count": 3,
   "metadata": {},
   "outputs": [
    {
     "name": "stdout",
     "output_type": "stream",
     "text": [
      "['', '/home/javi/.local/lib/python3.11/site-packages', '/home/javi/pyBiodatafuse-2/examples/usecases/PKD', '/usr/lib/python311.zip', '/usr/lib/python3.11', '/usr/lib/python3.11/lib-dynload', '/home/javi/pyBiodatafuse-2/.venv/lib/python3.11/site-packages', '/home/javi/pyBiodatafuse-2/src']\n"
     ]
    }
   ],
   "source": [
    "# Setting up the working directory\n",
    "import os\n",
    "import sys\n",
    "\n",
    "src_path = os.path.abspath(os.path.join(\"..\", \"..\", \"..\", \"src\"))\n",
    "if src_path not in sys.path:\n",
    "    sys.path.append(src_path)\n",
    "\n",
    "print(sys.path)  # Verify the correct src path is included"
   ]
  },
  {
   "cell_type": "code",
   "execution_count": null,
   "metadata": {},
   "outputs": [],
   "source": [
    "# Import modules\n",
    "import pickle\n",
    "\n",
    "import pandas as pd\n",
    "from dotenv import load_dotenv\n",
    "\n",
    "from pyBiodatafuse import id_mapper\n",
    "from pyBiodatafuse import human_homologs\n",
    "from pyBiodatafuse.annotators import (\n",
    "    bgee,\n",
    "    disgenet,\n",
    "    kegg,\n",
    "    newkegg,\n",
    "    molmedb,\n",
    "    opentargets,\n",
    "    pubchem,\n",
    "    stringdb,\n",
    "    wikipathways,\n",
    ")\n",
    "from pyBiodatafuse.constants import (\n",
    "    BGEE_GENE_EXPRESSION_LEVELS_COL,\n",
    "    DISGENET_DISEASE_COL,\n",
    "    ENSEMBL_HOMOLOG_COL,\n",
    "    KEGG_COL,\n",
    "    OPENTARGETS_DISEASE_COMPOUND_COL,\n",
    "    OPENTARGETS_GENE_COMPOUND_COL,\n",
    "    OPENTARGETS_GO_COL,\n",
    "    OPENTARGETS_REACTOME_COL,\n",
    "    STRING_PPI_COL,\n",
    "    WIKIPATHWAYS,\n",
    ")\n",
    "from pyBiodatafuse.graph import generator\n",
    "from pyBiodatafuse.utils import combine_sources, create_harmonized_input_file, combine_with_homologs"
   ]
  },
  {
   "cell_type": "markdown",
   "metadata": {},
   "source": [
    "# 1. Entity resolution using BridgeDB"
   ]
  },
  {
   "cell_type": "markdown",
   "metadata": {},
   "source": [
    "### 1.1. Load the input list and convert it to a dataframe\n",
    "\n",
    "Small set of mouse data used for debugging."
   ]
  },
  {
   "cell_type": "code",
   "execution_count": 5,
   "metadata": {},
   "outputs": [
    {
     "data": {
      "text/plain": [
       "10"
      ]
     },
     "execution_count": 5,
     "metadata": {},
     "output_type": "execute_result"
    }
   ],
   "source": [
    "# TEST Mice Ensembl\n",
    "genes_of_interest = \"\"\"ENSMUSG00000067274\n",
    "ENSMUSG00000000001\n",
    "ENSMUSG00000084349\n",
    "ENSMUSG00000025428\n",
    "ENSMUSG00000044533\"\"\"\n",
    "\n",
    "# TEST Mice use case = \n",
    "genes_of_interest = \"\"\"ENSMUSG00000026295\n",
    "ENSMUSG00000022877\n",
    "ENSMUSG00000020914\n",
    "ENSMUSG00000024747\n",
    "ENSMUSG00000032081\n",
    "ENSMUSG00000004035\n",
    "ENSMUSG00000072949\n",
    "ENSMUSG00000028970\n",
    "ENSMUSG00000028937\n",
    "ENSMUSG00000075044\"\"\"\n",
    "\n",
    "# TEST Rat Ensembl\n",
    "# genes_of_interest = \"\"\"ENSRNOG00060027926\n",
    "# ENSRNOG00055005387\n",
    "# ENSRNOG00060018596\n",
    "# ENSRNOG00060011358\n",
    "# ENSRNOG00055009275 \n",
    "# \"\"\"\n",
    "\n",
    "# TEST Human HGNC\n",
    "# genes_of_interest = \"\"\"CHRNG\n",
    "# DMD\n",
    "# AHR\n",
    "# SCN4A\n",
    "# LC25A1\n",
    "# HTR3A\"\"\"\n",
    "\n",
    "# TEST Human Ensembl\n",
    "# genes_of_interest = \"\"\"ENSG00000072080\n",
    "# ENSG00000113905\n",
    "# ENSG00000131747\n",
    "# ENSG00000165092\n",
    "# ENSG00000110245\n",
    "# ENSG00000213366\n",
    "# ENSG00000184227\n",
    "# ENSG00000085563\n",
    "# ENSG00000097021\n",
    "# ENSG00000149742\"\"\"\n",
    "\n",
    "gene_list = genes_of_interest.split(\"\\n\")\n",
    "len(gene_list)"
   ]
  },
  {
   "cell_type": "markdown",
   "metadata": {},
   "source": [
    "Mouse use case"
   ]
  },
  {
   "cell_type": "code",
   "execution_count": null,
   "metadata": {},
   "outputs": [],
   "source": [
    "# from pyBiodatafuse import data_loader, id_mapper\n",
    "\n",
    "# data_input = data_loader.create_df_from_dea(\"data/full_de_genes_treated_vs_untreated_plus_cpm_fc.csv\")\n",
    "# data_filtered = data_input[data_input['DE'].isin([1, -1])]\n",
    "# features_filtered = data_filtered['identifier']\n",
    "\n",
    "# gene_list = features_filtered.tolist()\n",
    "# print(len(gene_list))"
   ]
  },
  {
   "cell_type": "code",
   "execution_count": 6,
   "metadata": {},
   "outputs": [
    {
     "data": {
      "application/vnd.microsoft.datawrangler.viewer.v0+json": {
       "columns": [
        {
         "name": "index",
         "rawType": "int64",
         "type": "integer"
        },
        {
         "name": "identifier",
         "rawType": "object",
         "type": "string"
        }
       ],
       "conversionMethod": "pd.DataFrame",
       "ref": "9618ccb5-8e73-40cb-a5f7-06bfb1733383",
       "rows": [
        [
         "0",
         "ENSMUSG00000026295"
        ],
        [
         "1",
         "ENSMUSG00000022877"
        ],
        [
         "2",
         "ENSMUSG00000020914"
        ],
        [
         "3",
         "ENSMUSG00000024747"
        ],
        [
         "4",
         "ENSMUSG00000032081"
        ],
        [
         "5",
         "ENSMUSG00000004035"
        ],
        [
         "6",
         "ENSMUSG00000072949"
        ],
        [
         "7",
         "ENSMUSG00000028970"
        ],
        [
         "8",
         "ENSMUSG00000028937"
        ],
        [
         "9",
         "ENSMUSG00000075044"
        ]
       ],
       "shape": {
        "columns": 1,
        "rows": 10
       }
      },
      "text/html": [
       "<div>\n",
       "<style scoped>\n",
       "    .dataframe tbody tr th:only-of-type {\n",
       "        vertical-align: middle;\n",
       "    }\n",
       "\n",
       "    .dataframe tbody tr th {\n",
       "        vertical-align: top;\n",
       "    }\n",
       "\n",
       "    .dataframe thead th {\n",
       "        text-align: right;\n",
       "    }\n",
       "</style>\n",
       "<table border=\"1\" class=\"dataframe\">\n",
       "  <thead>\n",
       "    <tr style=\"text-align: right;\">\n",
       "      <th></th>\n",
       "      <th>identifier</th>\n",
       "    </tr>\n",
       "  </thead>\n",
       "  <tbody>\n",
       "    <tr>\n",
       "      <th>0</th>\n",
       "      <td>ENSMUSG00000026295</td>\n",
       "    </tr>\n",
       "    <tr>\n",
       "      <th>1</th>\n",
       "      <td>ENSMUSG00000022877</td>\n",
       "    </tr>\n",
       "    <tr>\n",
       "      <th>2</th>\n",
       "      <td>ENSMUSG00000020914</td>\n",
       "    </tr>\n",
       "    <tr>\n",
       "      <th>3</th>\n",
       "      <td>ENSMUSG00000024747</td>\n",
       "    </tr>\n",
       "    <tr>\n",
       "      <th>4</th>\n",
       "      <td>ENSMUSG00000032081</td>\n",
       "    </tr>\n",
       "    <tr>\n",
       "      <th>5</th>\n",
       "      <td>ENSMUSG00000004035</td>\n",
       "    </tr>\n",
       "    <tr>\n",
       "      <th>6</th>\n",
       "      <td>ENSMUSG00000072949</td>\n",
       "    </tr>\n",
       "    <tr>\n",
       "      <th>7</th>\n",
       "      <td>ENSMUSG00000028970</td>\n",
       "    </tr>\n",
       "    <tr>\n",
       "      <th>8</th>\n",
       "      <td>ENSMUSG00000028937</td>\n",
       "    </tr>\n",
       "    <tr>\n",
       "      <th>9</th>\n",
       "      <td>ENSMUSG00000075044</td>\n",
       "    </tr>\n",
       "  </tbody>\n",
       "</table>\n",
       "</div>"
      ],
      "text/plain": [
       "           identifier\n",
       "0  ENSMUSG00000026295\n",
       "1  ENSMUSG00000022877\n",
       "2  ENSMUSG00000020914\n",
       "3  ENSMUSG00000024747\n",
       "4  ENSMUSG00000032081\n",
       "5  ENSMUSG00000004035\n",
       "6  ENSMUSG00000072949\n",
       "7  ENSMUSG00000028970\n",
       "8  ENSMUSG00000028937\n",
       "9  ENSMUSG00000075044"
      ]
     },
     "execution_count": 6,
     "metadata": {},
     "output_type": "execute_result"
    }
   ],
   "source": [
    "data_input = pd.DataFrame(gene_list, columns=[\"identifier\"])\n",
    "data_input.head(20)"
   ]
  },
  {
   "cell_type": "markdown",
   "metadata": {},
   "source": []
  },
  {
   "cell_type": "code",
   "execution_count": null,
   "metadata": {},
   "outputs": [],
   "source": [
    "print(gene_list)"
   ]
  },
  {
   "cell_type": "markdown",
   "metadata": {},
   "source": [
    "### 1.2. Query BridgeDB"
   ]
  },
  {
   "cell_type": "code",
   "execution_count": 7,
   "metadata": {},
   "outputs": [
    {
     "data": {
      "application/vnd.microsoft.datawrangler.viewer.v0+json": {
       "columns": [
        {
         "name": "index",
         "rawType": "int64",
         "type": "integer"
        },
        {
         "name": "identifier",
         "rawType": "object",
         "type": "string"
        },
        {
         "name": "identifier.source",
         "rawType": "object",
         "type": "string"
        },
        {
         "name": "target",
         "rawType": "object",
         "type": "string"
        },
        {
         "name": "target.source",
         "rawType": "object",
         "type": "string"
        }
       ],
       "conversionMethod": "pd.DataFrame",
       "ref": "56c0709f-3301-4a32-89b9-6cd82cb2c70e",
       "rows": [
        [
         "0",
         "ENSMUSG00000026295",
         "Ensembl",
         "Q8K1I3",
         "Uniprot-TrEMBL"
        ],
        [
         "1",
         "ENSMUSG00000026295",
         "Ensembl",
         "ENSMUSG00000026295",
         "Ensembl"
        ],
        [
         "2",
         "ENSMUSG00000026295",
         "Ensembl",
         "A0A087WSF3",
         "Uniprot-TrEMBL"
        ],
        [
         "3",
         "ENSMUSG00000026295",
         "Ensembl",
         "H3BLP2",
         "Uniprot-TrEMBL"
        ],
        [
         "4",
         "ENSMUSG00000026295",
         "Ensembl",
         "75396",
         "NCBI Gene"
        ],
        [
         "5",
         "ENSMUSG00000022877",
         "Ensembl",
         "ENSMUSG00000022877",
         "Ensembl"
        ],
        [
         "6",
         "ENSMUSG00000022877",
         "Ensembl",
         "94175",
         "NCBI Gene"
        ],
        [
         "7",
         "ENSMUSG00000022877",
         "Ensembl",
         "A0A0R4J039",
         "Uniprot-TrEMBL"
        ],
        [
         "8",
         "ENSMUSG00000022877",
         "Ensembl",
         "A0A338P6H8",
         "Uniprot-TrEMBL"
        ],
        [
         "9",
         "ENSMUSG00000020914",
         "Ensembl",
         "ENSMUSG00000020914",
         "Ensembl"
        ],
        [
         "10",
         "ENSMUSG00000020914",
         "Ensembl",
         "Q01320",
         "Uniprot-TrEMBL"
        ],
        [
         "11",
         "ENSMUSG00000020914",
         "Ensembl",
         "21973",
         "NCBI Gene"
        ],
        [
         "12",
         "ENSMUSG00000024747",
         "Ensembl",
         "ENSMUSG00000024747",
         "Ensembl"
        ],
        [
         "13",
         "ENSMUSG00000024747",
         "Ensembl",
         "26358",
         "NCBI Gene"
        ],
        [
         "14",
         "ENSMUSG00000024747",
         "Ensembl",
         "O35945",
         "Uniprot-TrEMBL"
        ],
        [
         "15",
         "ENSMUSG00000024747",
         "Ensembl",
         "B2RTL5",
         "Uniprot-TrEMBL"
        ],
        [
         "16",
         "ENSMUSG00000032081",
         "Ensembl",
         "11814",
         "NCBI Gene"
        ],
        [
         "17",
         "ENSMUSG00000032081",
         "Ensembl",
         "D3YXN8",
         "Uniprot-TrEMBL"
        ],
        [
         "18",
         "ENSMUSG00000032081",
         "Ensembl",
         "E9QP56",
         "Uniprot-TrEMBL"
        ],
        [
         "19",
         "ENSMUSG00000032081",
         "Ensembl",
         "A0A0R4J1N3",
         "Uniprot-TrEMBL"
        ],
        [
         "20",
         "ENSMUSG00000032081",
         "Ensembl",
         "ENSMUSG00000032081",
         "Ensembl"
        ],
        [
         "21",
         "ENSMUSG00000004035",
         "Ensembl",
         "68312",
         "NCBI Gene"
        ],
        [
         "22",
         "ENSMUSG00000004035",
         "Ensembl",
         "D3YVP5",
         "Uniprot-TrEMBL"
        ],
        [
         "23",
         "ENSMUSG00000004035",
         "Ensembl",
         "D3YVP6",
         "Uniprot-TrEMBL"
        ],
        [
         "24",
         "ENSMUSG00000004035",
         "Ensembl",
         "D3YZ29",
         "Uniprot-TrEMBL"
        ]
       ],
       "shape": {
        "columns": 4,
        "rows": 25
       }
      },
      "text/html": [
       "<div>\n",
       "<style scoped>\n",
       "    .dataframe tbody tr th:only-of-type {\n",
       "        vertical-align: middle;\n",
       "    }\n",
       "\n",
       "    .dataframe tbody tr th {\n",
       "        vertical-align: top;\n",
       "    }\n",
       "\n",
       "    .dataframe thead th {\n",
       "        text-align: right;\n",
       "    }\n",
       "</style>\n",
       "<table border=\"1\" class=\"dataframe\">\n",
       "  <thead>\n",
       "    <tr style=\"text-align: right;\">\n",
       "      <th></th>\n",
       "      <th>identifier</th>\n",
       "      <th>identifier.source</th>\n",
       "      <th>target</th>\n",
       "      <th>target.source</th>\n",
       "    </tr>\n",
       "  </thead>\n",
       "  <tbody>\n",
       "    <tr>\n",
       "      <th>0</th>\n",
       "      <td>ENSMUSG00000026295</td>\n",
       "      <td>Ensembl</td>\n",
       "      <td>Q8K1I3</td>\n",
       "      <td>Uniprot-TrEMBL</td>\n",
       "    </tr>\n",
       "    <tr>\n",
       "      <th>1</th>\n",
       "      <td>ENSMUSG00000026295</td>\n",
       "      <td>Ensembl</td>\n",
       "      <td>ENSMUSG00000026295</td>\n",
       "      <td>Ensembl</td>\n",
       "    </tr>\n",
       "    <tr>\n",
       "      <th>2</th>\n",
       "      <td>ENSMUSG00000026295</td>\n",
       "      <td>Ensembl</td>\n",
       "      <td>A0A087WSF3</td>\n",
       "      <td>Uniprot-TrEMBL</td>\n",
       "    </tr>\n",
       "    <tr>\n",
       "      <th>3</th>\n",
       "      <td>ENSMUSG00000026295</td>\n",
       "      <td>Ensembl</td>\n",
       "      <td>H3BLP2</td>\n",
       "      <td>Uniprot-TrEMBL</td>\n",
       "    </tr>\n",
       "    <tr>\n",
       "      <th>4</th>\n",
       "      <td>ENSMUSG00000026295</td>\n",
       "      <td>Ensembl</td>\n",
       "      <td>75396</td>\n",
       "      <td>NCBI Gene</td>\n",
       "    </tr>\n",
       "    <tr>\n",
       "      <th>5</th>\n",
       "      <td>ENSMUSG00000022877</td>\n",
       "      <td>Ensembl</td>\n",
       "      <td>ENSMUSG00000022877</td>\n",
       "      <td>Ensembl</td>\n",
       "    </tr>\n",
       "    <tr>\n",
       "      <th>6</th>\n",
       "      <td>ENSMUSG00000022877</td>\n",
       "      <td>Ensembl</td>\n",
       "      <td>94175</td>\n",
       "      <td>NCBI Gene</td>\n",
       "    </tr>\n",
       "    <tr>\n",
       "      <th>7</th>\n",
       "      <td>ENSMUSG00000022877</td>\n",
       "      <td>Ensembl</td>\n",
       "      <td>A0A0R4J039</td>\n",
       "      <td>Uniprot-TrEMBL</td>\n",
       "    </tr>\n",
       "    <tr>\n",
       "      <th>8</th>\n",
       "      <td>ENSMUSG00000022877</td>\n",
       "      <td>Ensembl</td>\n",
       "      <td>A0A338P6H8</td>\n",
       "      <td>Uniprot-TrEMBL</td>\n",
       "    </tr>\n",
       "    <tr>\n",
       "      <th>9</th>\n",
       "      <td>ENSMUSG00000020914</td>\n",
       "      <td>Ensembl</td>\n",
       "      <td>ENSMUSG00000020914</td>\n",
       "      <td>Ensembl</td>\n",
       "    </tr>\n",
       "    <tr>\n",
       "      <th>10</th>\n",
       "      <td>ENSMUSG00000020914</td>\n",
       "      <td>Ensembl</td>\n",
       "      <td>Q01320</td>\n",
       "      <td>Uniprot-TrEMBL</td>\n",
       "    </tr>\n",
       "    <tr>\n",
       "      <th>11</th>\n",
       "      <td>ENSMUSG00000020914</td>\n",
       "      <td>Ensembl</td>\n",
       "      <td>21973</td>\n",
       "      <td>NCBI Gene</td>\n",
       "    </tr>\n",
       "    <tr>\n",
       "      <th>12</th>\n",
       "      <td>ENSMUSG00000024747</td>\n",
       "      <td>Ensembl</td>\n",
       "      <td>ENSMUSG00000024747</td>\n",
       "      <td>Ensembl</td>\n",
       "    </tr>\n",
       "    <tr>\n",
       "      <th>13</th>\n",
       "      <td>ENSMUSG00000024747</td>\n",
       "      <td>Ensembl</td>\n",
       "      <td>26358</td>\n",
       "      <td>NCBI Gene</td>\n",
       "    </tr>\n",
       "    <tr>\n",
       "      <th>14</th>\n",
       "      <td>ENSMUSG00000024747</td>\n",
       "      <td>Ensembl</td>\n",
       "      <td>O35945</td>\n",
       "      <td>Uniprot-TrEMBL</td>\n",
       "    </tr>\n",
       "    <tr>\n",
       "      <th>15</th>\n",
       "      <td>ENSMUSG00000024747</td>\n",
       "      <td>Ensembl</td>\n",
       "      <td>B2RTL5</td>\n",
       "      <td>Uniprot-TrEMBL</td>\n",
       "    </tr>\n",
       "    <tr>\n",
       "      <th>16</th>\n",
       "      <td>ENSMUSG00000032081</td>\n",
       "      <td>Ensembl</td>\n",
       "      <td>11814</td>\n",
       "      <td>NCBI Gene</td>\n",
       "    </tr>\n",
       "    <tr>\n",
       "      <th>17</th>\n",
       "      <td>ENSMUSG00000032081</td>\n",
       "      <td>Ensembl</td>\n",
       "      <td>D3YXN8</td>\n",
       "      <td>Uniprot-TrEMBL</td>\n",
       "    </tr>\n",
       "    <tr>\n",
       "      <th>18</th>\n",
       "      <td>ENSMUSG00000032081</td>\n",
       "      <td>Ensembl</td>\n",
       "      <td>E9QP56</td>\n",
       "      <td>Uniprot-TrEMBL</td>\n",
       "    </tr>\n",
       "    <tr>\n",
       "      <th>19</th>\n",
       "      <td>ENSMUSG00000032081</td>\n",
       "      <td>Ensembl</td>\n",
       "      <td>A0A0R4J1N3</td>\n",
       "      <td>Uniprot-TrEMBL</td>\n",
       "    </tr>\n",
       "    <tr>\n",
       "      <th>20</th>\n",
       "      <td>ENSMUSG00000032081</td>\n",
       "      <td>Ensembl</td>\n",
       "      <td>ENSMUSG00000032081</td>\n",
       "      <td>Ensembl</td>\n",
       "    </tr>\n",
       "    <tr>\n",
       "      <th>21</th>\n",
       "      <td>ENSMUSG00000004035</td>\n",
       "      <td>Ensembl</td>\n",
       "      <td>68312</td>\n",
       "      <td>NCBI Gene</td>\n",
       "    </tr>\n",
       "    <tr>\n",
       "      <th>22</th>\n",
       "      <td>ENSMUSG00000004035</td>\n",
       "      <td>Ensembl</td>\n",
       "      <td>D3YVP5</td>\n",
       "      <td>Uniprot-TrEMBL</td>\n",
       "    </tr>\n",
       "    <tr>\n",
       "      <th>23</th>\n",
       "      <td>ENSMUSG00000004035</td>\n",
       "      <td>Ensembl</td>\n",
       "      <td>D3YVP6</td>\n",
       "      <td>Uniprot-TrEMBL</td>\n",
       "    </tr>\n",
       "    <tr>\n",
       "      <th>24</th>\n",
       "      <td>ENSMUSG00000004035</td>\n",
       "      <td>Ensembl</td>\n",
       "      <td>D3YZ29</td>\n",
       "      <td>Uniprot-TrEMBL</td>\n",
       "    </tr>\n",
       "  </tbody>\n",
       "</table>\n",
       "</div>"
      ],
      "text/plain": [
       "            identifier identifier.source              target   target.source\n",
       "0   ENSMUSG00000026295           Ensembl              Q8K1I3  Uniprot-TrEMBL\n",
       "1   ENSMUSG00000026295           Ensembl  ENSMUSG00000026295         Ensembl\n",
       "2   ENSMUSG00000026295           Ensembl          A0A087WSF3  Uniprot-TrEMBL\n",
       "3   ENSMUSG00000026295           Ensembl              H3BLP2  Uniprot-TrEMBL\n",
       "4   ENSMUSG00000026295           Ensembl               75396       NCBI Gene\n",
       "5   ENSMUSG00000022877           Ensembl  ENSMUSG00000022877         Ensembl\n",
       "6   ENSMUSG00000022877           Ensembl               94175       NCBI Gene\n",
       "7   ENSMUSG00000022877           Ensembl          A0A0R4J039  Uniprot-TrEMBL\n",
       "8   ENSMUSG00000022877           Ensembl          A0A338P6H8  Uniprot-TrEMBL\n",
       "9   ENSMUSG00000020914           Ensembl  ENSMUSG00000020914         Ensembl\n",
       "10  ENSMUSG00000020914           Ensembl              Q01320  Uniprot-TrEMBL\n",
       "11  ENSMUSG00000020914           Ensembl               21973       NCBI Gene\n",
       "12  ENSMUSG00000024747           Ensembl  ENSMUSG00000024747         Ensembl\n",
       "13  ENSMUSG00000024747           Ensembl               26358       NCBI Gene\n",
       "14  ENSMUSG00000024747           Ensembl              O35945  Uniprot-TrEMBL\n",
       "15  ENSMUSG00000024747           Ensembl              B2RTL5  Uniprot-TrEMBL\n",
       "16  ENSMUSG00000032081           Ensembl               11814       NCBI Gene\n",
       "17  ENSMUSG00000032081           Ensembl              D3YXN8  Uniprot-TrEMBL\n",
       "18  ENSMUSG00000032081           Ensembl              E9QP56  Uniprot-TrEMBL\n",
       "19  ENSMUSG00000032081           Ensembl          A0A0R4J1N3  Uniprot-TrEMBL\n",
       "20  ENSMUSG00000032081           Ensembl  ENSMUSG00000032081         Ensembl\n",
       "21  ENSMUSG00000004035           Ensembl               68312       NCBI Gene\n",
       "22  ENSMUSG00000004035           Ensembl              D3YVP5  Uniprot-TrEMBL\n",
       "23  ENSMUSG00000004035           Ensembl              D3YVP6  Uniprot-TrEMBL\n",
       "24  ENSMUSG00000004035           Ensembl              D3YZ29  Uniprot-TrEMBL"
      ]
     },
     "execution_count": 7,
     "metadata": {},
     "output_type": "execute_result"
    }
   ],
   "source": [
    "# Mouse usecase\n",
    "input_species=\"Mouse\"\n",
    "\n",
    "bridgedb_df, bridgedb_metadata = id_mapper.bridgedb_xref(\n",
    "   identifiers=data_input,\n",
    "    input_species=input_species,\n",
    "    input_datasource=\"Ensembl\",\n",
    "    output_datasource=\"All\",\n",
    ")\n",
    "\n",
    "# TEST Human data\n",
    "# bridgedb_df, bridgedb_metadata = id_mapper.bridgedb_xref(\n",
    "#     identifiers=data_input,\n",
    "#     input_species=\"Human\",\n",
    "#     input_datasource=\"Ensembl\",\n",
    "#     output_datasource=\"All\",\n",
    "# )\n",
    "\n",
    "bridgedb_df.head(25)"
   ]
  },
  {
   "cell_type": "markdown",
   "metadata": {},
   "source": [
    "### 1.3 Homologs"
   ]
  },
  {
   "cell_type": "code",
   "execution_count": 8,
   "metadata": {},
   "outputs": [
    {
     "data": {
      "application/vnd.microsoft.datawrangler.viewer.v0+json": {
       "columns": [
        {
         "name": "index",
         "rawType": "int64",
         "type": "integer"
        },
        {
         "name": "identifier",
         "rawType": "object",
         "type": "string"
        },
        {
         "name": "identifier.source",
         "rawType": "object",
         "type": "string"
        },
        {
         "name": "target",
         "rawType": "object",
         "type": "string"
        },
        {
         "name": "target.source",
         "rawType": "object",
         "type": "string"
        },
        {
         "name": "Ensembl_homologs",
         "rawType": "object",
         "type": "unknown"
        }
       ],
       "conversionMethod": "pd.DataFrame",
       "ref": "dec19d54-7afe-4d46-9bd8-cf52eb85b4d5",
       "rows": [
        [
         "0",
         "ENSMUSG00000026295",
         "Ensembl",
         "ENSMUSG00000026295",
         "Ensembl",
         "[{'homolog': 'ENSG00000072080'}]"
        ],
        [
         "1",
         "ENSMUSG00000022877",
         "Ensembl",
         "ENSMUSG00000022877",
         "Ensembl",
         "[{'homolog': 'ENSG00000113905'}]"
        ],
        [
         "2",
         "ENSMUSG00000020914",
         "Ensembl",
         "ENSMUSG00000020914",
         "Ensembl",
         "[{'homolog': 'ENSG00000131747'}]"
        ],
        [
         "3",
         "ENSMUSG00000024747",
         "Ensembl",
         "ENSMUSG00000024747",
         "Ensembl",
         "[{'homolog': 'ENSG00000165092'}]"
        ],
        [
         "4",
         "ENSMUSG00000032081",
         "Ensembl",
         "ENSMUSG00000032081",
         "Ensembl",
         "[{'homolog': 'ENSG00000110245'}]"
        ]
       ],
       "shape": {
        "columns": 5,
        "rows": 5
       }
      },
      "text/html": [
       "<div>\n",
       "<style scoped>\n",
       "    .dataframe tbody tr th:only-of-type {\n",
       "        vertical-align: middle;\n",
       "    }\n",
       "\n",
       "    .dataframe tbody tr th {\n",
       "        vertical-align: top;\n",
       "    }\n",
       "\n",
       "    .dataframe thead th {\n",
       "        text-align: right;\n",
       "    }\n",
       "</style>\n",
       "<table border=\"1\" class=\"dataframe\">\n",
       "  <thead>\n",
       "    <tr style=\"text-align: right;\">\n",
       "      <th></th>\n",
       "      <th>identifier</th>\n",
       "      <th>identifier.source</th>\n",
       "      <th>target</th>\n",
       "      <th>target.source</th>\n",
       "      <th>Ensembl_homologs</th>\n",
       "    </tr>\n",
       "  </thead>\n",
       "  <tbody>\n",
       "    <tr>\n",
       "      <th>0</th>\n",
       "      <td>ENSMUSG00000026295</td>\n",
       "      <td>Ensembl</td>\n",
       "      <td>ENSMUSG00000026295</td>\n",
       "      <td>Ensembl</td>\n",
       "      <td>[{'homolog': 'ENSG00000072080'}]</td>\n",
       "    </tr>\n",
       "    <tr>\n",
       "      <th>1</th>\n",
       "      <td>ENSMUSG00000022877</td>\n",
       "      <td>Ensembl</td>\n",
       "      <td>ENSMUSG00000022877</td>\n",
       "      <td>Ensembl</td>\n",
       "      <td>[{'homolog': 'ENSG00000113905'}]</td>\n",
       "    </tr>\n",
       "    <tr>\n",
       "      <th>2</th>\n",
       "      <td>ENSMUSG00000020914</td>\n",
       "      <td>Ensembl</td>\n",
       "      <td>ENSMUSG00000020914</td>\n",
       "      <td>Ensembl</td>\n",
       "      <td>[{'homolog': 'ENSG00000131747'}]</td>\n",
       "    </tr>\n",
       "    <tr>\n",
       "      <th>3</th>\n",
       "      <td>ENSMUSG00000024747</td>\n",
       "      <td>Ensembl</td>\n",
       "      <td>ENSMUSG00000024747</td>\n",
       "      <td>Ensembl</td>\n",
       "      <td>[{'homolog': 'ENSG00000165092'}]</td>\n",
       "    </tr>\n",
       "    <tr>\n",
       "      <th>4</th>\n",
       "      <td>ENSMUSG00000032081</td>\n",
       "      <td>Ensembl</td>\n",
       "      <td>ENSMUSG00000032081</td>\n",
       "      <td>Ensembl</td>\n",
       "      <td>[{'homolog': 'ENSG00000110245'}]</td>\n",
       "    </tr>\n",
       "  </tbody>\n",
       "</table>\n",
       "</div>"
      ],
      "text/plain": [
       "           identifier identifier.source              target target.source  \\\n",
       "0  ENSMUSG00000026295           Ensembl  ENSMUSG00000026295       Ensembl   \n",
       "1  ENSMUSG00000022877           Ensembl  ENSMUSG00000022877       Ensembl   \n",
       "2  ENSMUSG00000020914           Ensembl  ENSMUSG00000020914       Ensembl   \n",
       "3  ENSMUSG00000024747           Ensembl  ENSMUSG00000024747       Ensembl   \n",
       "4  ENSMUSG00000032081           Ensembl  ENSMUSG00000032081       Ensembl   \n",
       "\n",
       "                   Ensembl_homologs  \n",
       "0  [{'homolog': 'ENSG00000072080'}]  \n",
       "1  [{'homolog': 'ENSG00000113905'}]  \n",
       "2  [{'homolog': 'ENSG00000131747'}]  \n",
       "3  [{'homolog': 'ENSG00000165092'}]  \n",
       "4  [{'homolog': 'ENSG00000110245'}]  "
      ]
     },
     "execution_count": 8,
     "metadata": {},
     "output_type": "execute_result"
    }
   ],
   "source": [
    "ensembl_homologs_df, ensembl_metadata = human_homologs.get_homologs(bridgedb_df=bridgedb_df)\n",
    "ensembl_homologs_df.head()\n"
   ]
  },
  {
   "cell_type": "code",
   "execution_count": 9,
   "metadata": {},
   "outputs": [
    {
     "data": {
      "application/vnd.microsoft.datawrangler.viewer.v0+json": {
       "columns": [
        {
         "name": "index",
         "rawType": "int64",
         "type": "integer"
        },
        {
         "name": "identifier",
         "rawType": "object",
         "type": "string"
        },
        {
         "name": "identifier.source",
         "rawType": "object",
         "type": "string"
        },
        {
         "name": "target",
         "rawType": "object",
         "type": "string"
        },
        {
         "name": "target.source",
         "rawType": "object",
         "type": "string"
        },
        {
         "name": "Ensembl_homologs",
         "rawType": "object",
         "type": "unknown"
        }
       ],
       "conversionMethod": "pd.DataFrame",
       "ref": "2860227d-5cf6-40f2-8736-0c48c0cde8d9",
       "rows": [
        [
         "0",
         "ENSMUSG00000026295",
         "Ensembl",
         "ENSMUSG00000026295",
         "Ensembl",
         "[{'homolog': 'ENSG00000072080'}]"
        ],
        [
         "1",
         "ENSMUSG00000022877",
         "Ensembl",
         "ENSMUSG00000022877",
         "Ensembl",
         "[{'homolog': 'ENSG00000113905'}]"
        ],
        [
         "2",
         "ENSMUSG00000020914",
         "Ensembl",
         "ENSMUSG00000020914",
         "Ensembl",
         "[{'homolog': 'ENSG00000131747'}]"
        ],
        [
         "3",
         "ENSMUSG00000024747",
         "Ensembl",
         "ENSMUSG00000024747",
         "Ensembl",
         "[{'homolog': 'ENSG00000165092'}]"
        ],
        [
         "4",
         "ENSMUSG00000032081",
         "Ensembl",
         "ENSMUSG00000032081",
         "Ensembl",
         "[{'homolog': 'ENSG00000110245'}]"
        ],
        [
         "5",
         "ENSMUSG00000004035",
         "Ensembl",
         "ENSMUSG00000004035",
         "Ensembl",
         "[{'homolog': 'ENSG00000213366'}]"
        ],
        [
         "6",
         "ENSMUSG00000072949",
         "Ensembl",
         "ENSMUSG00000072949",
         "Ensembl",
         "[{'homolog': 'ENSG00000184227'}]"
        ],
        [
         "7",
         "ENSMUSG00000028970",
         "Ensembl",
         "ENSMUSG00000028970",
         "Ensembl",
         "[{'homolog': 'ENSG00000085563'}]"
        ],
        [
         "8",
         "ENSMUSG00000028937",
         "Ensembl",
         "ENSMUSG00000028937",
         "Ensembl",
         "[{'homolog': 'ENSG00000097021'}]"
        ],
        [
         "9",
         "ENSMUSG00000075044",
         "Ensembl",
         "ENSMUSG00000075044",
         "Ensembl",
         "[{'homolog': 'ENSG00000149742'}]"
        ]
       ],
       "shape": {
        "columns": 5,
        "rows": 10
       }
      },
      "text/html": [
       "<div>\n",
       "<style scoped>\n",
       "    .dataframe tbody tr th:only-of-type {\n",
       "        vertical-align: middle;\n",
       "    }\n",
       "\n",
       "    .dataframe tbody tr th {\n",
       "        vertical-align: top;\n",
       "    }\n",
       "\n",
       "    .dataframe thead th {\n",
       "        text-align: right;\n",
       "    }\n",
       "</style>\n",
       "<table border=\"1\" class=\"dataframe\">\n",
       "  <thead>\n",
       "    <tr style=\"text-align: right;\">\n",
       "      <th></th>\n",
       "      <th>identifier</th>\n",
       "      <th>identifier.source</th>\n",
       "      <th>target</th>\n",
       "      <th>target.source</th>\n",
       "      <th>Ensembl_homologs</th>\n",
       "    </tr>\n",
       "  </thead>\n",
       "  <tbody>\n",
       "    <tr>\n",
       "      <th>0</th>\n",
       "      <td>ENSMUSG00000026295</td>\n",
       "      <td>Ensembl</td>\n",
       "      <td>ENSMUSG00000026295</td>\n",
       "      <td>Ensembl</td>\n",
       "      <td>[{'homolog': 'ENSG00000072080'}]</td>\n",
       "    </tr>\n",
       "    <tr>\n",
       "      <th>1</th>\n",
       "      <td>ENSMUSG00000022877</td>\n",
       "      <td>Ensembl</td>\n",
       "      <td>ENSMUSG00000022877</td>\n",
       "      <td>Ensembl</td>\n",
       "      <td>[{'homolog': 'ENSG00000113905'}]</td>\n",
       "    </tr>\n",
       "    <tr>\n",
       "      <th>2</th>\n",
       "      <td>ENSMUSG00000020914</td>\n",
       "      <td>Ensembl</td>\n",
       "      <td>ENSMUSG00000020914</td>\n",
       "      <td>Ensembl</td>\n",
       "      <td>[{'homolog': 'ENSG00000131747'}]</td>\n",
       "    </tr>\n",
       "    <tr>\n",
       "      <th>3</th>\n",
       "      <td>ENSMUSG00000024747</td>\n",
       "      <td>Ensembl</td>\n",
       "      <td>ENSMUSG00000024747</td>\n",
       "      <td>Ensembl</td>\n",
       "      <td>[{'homolog': 'ENSG00000165092'}]</td>\n",
       "    </tr>\n",
       "    <tr>\n",
       "      <th>4</th>\n",
       "      <td>ENSMUSG00000032081</td>\n",
       "      <td>Ensembl</td>\n",
       "      <td>ENSMUSG00000032081</td>\n",
       "      <td>Ensembl</td>\n",
       "      <td>[{'homolog': 'ENSG00000110245'}]</td>\n",
       "    </tr>\n",
       "    <tr>\n",
       "      <th>5</th>\n",
       "      <td>ENSMUSG00000004035</td>\n",
       "      <td>Ensembl</td>\n",
       "      <td>ENSMUSG00000004035</td>\n",
       "      <td>Ensembl</td>\n",
       "      <td>[{'homolog': 'ENSG00000213366'}]</td>\n",
       "    </tr>\n",
       "    <tr>\n",
       "      <th>6</th>\n",
       "      <td>ENSMUSG00000072949</td>\n",
       "      <td>Ensembl</td>\n",
       "      <td>ENSMUSG00000072949</td>\n",
       "      <td>Ensembl</td>\n",
       "      <td>[{'homolog': 'ENSG00000184227'}]</td>\n",
       "    </tr>\n",
       "    <tr>\n",
       "      <th>7</th>\n",
       "      <td>ENSMUSG00000028970</td>\n",
       "      <td>Ensembl</td>\n",
       "      <td>ENSMUSG00000028970</td>\n",
       "      <td>Ensembl</td>\n",
       "      <td>[{'homolog': 'ENSG00000085563'}]</td>\n",
       "    </tr>\n",
       "    <tr>\n",
       "      <th>8</th>\n",
       "      <td>ENSMUSG00000028937</td>\n",
       "      <td>Ensembl</td>\n",
       "      <td>ENSMUSG00000028937</td>\n",
       "      <td>Ensembl</td>\n",
       "      <td>[{'homolog': 'ENSG00000097021'}]</td>\n",
       "    </tr>\n",
       "    <tr>\n",
       "      <th>9</th>\n",
       "      <td>ENSMUSG00000075044</td>\n",
       "      <td>Ensembl</td>\n",
       "      <td>ENSMUSG00000075044</td>\n",
       "      <td>Ensembl</td>\n",
       "      <td>[{'homolog': 'ENSG00000149742'}]</td>\n",
       "    </tr>\n",
       "  </tbody>\n",
       "</table>\n",
       "</div>"
      ],
      "text/plain": [
       "           identifier identifier.source              target target.source  \\\n",
       "0  ENSMUSG00000026295           Ensembl  ENSMUSG00000026295       Ensembl   \n",
       "1  ENSMUSG00000022877           Ensembl  ENSMUSG00000022877       Ensembl   \n",
       "2  ENSMUSG00000020914           Ensembl  ENSMUSG00000020914       Ensembl   \n",
       "3  ENSMUSG00000024747           Ensembl  ENSMUSG00000024747       Ensembl   \n",
       "4  ENSMUSG00000032081           Ensembl  ENSMUSG00000032081       Ensembl   \n",
       "5  ENSMUSG00000004035           Ensembl  ENSMUSG00000004035       Ensembl   \n",
       "6  ENSMUSG00000072949           Ensembl  ENSMUSG00000072949       Ensembl   \n",
       "7  ENSMUSG00000028970           Ensembl  ENSMUSG00000028970       Ensembl   \n",
       "8  ENSMUSG00000028937           Ensembl  ENSMUSG00000028937       Ensembl   \n",
       "9  ENSMUSG00000075044           Ensembl  ENSMUSG00000075044       Ensembl   \n",
       "\n",
       "                   Ensembl_homologs  \n",
       "0  [{'homolog': 'ENSG00000072080'}]  \n",
       "1  [{'homolog': 'ENSG00000113905'}]  \n",
       "2  [{'homolog': 'ENSG00000131747'}]  \n",
       "3  [{'homolog': 'ENSG00000165092'}]  \n",
       "4  [{'homolog': 'ENSG00000110245'}]  \n",
       "5  [{'homolog': 'ENSG00000213366'}]  \n",
       "6  [{'homolog': 'ENSG00000184227'}]  \n",
       "7  [{'homolog': 'ENSG00000085563'}]  \n",
       "8  [{'homolog': 'ENSG00000097021'}]  \n",
       "9  [{'homolog': 'ENSG00000149742'}]  "
      ]
     },
     "execution_count": 9,
     "metadata": {},
     "output_type": "execute_result"
    }
   ],
   "source": [
    "ensembl_homologs_df.head(20)"
   ]
  },
  {
   "cell_type": "code",
   "execution_count": 10,
   "metadata": {},
   "outputs": [
    {
     "name": "stdout",
     "output_type": "stream",
     "text": [
      "['ENSG00000072080', 'ENSG00000113905', 'ENSG00000131747', 'ENSG00000165092', 'ENSG00000110245', 'ENSG00000213366', 'ENSG00000184227', 'ENSG00000085563', 'ENSG00000097021', 'ENSG00000149742']\n"
     ]
    }
   ],
   "source": [
    "homologs = ensembl_homologs_df[ENSEMBL_HOMOLOG_COL].apply(\n",
    "    lambda x: x[0]['homolog'] if isinstance(x, list) and len(x) > 0 and 'homolog' in x[0] else None\n",
    ").dropna().tolist()\n",
    "\n",
    "print(homologs)"
   ]
  },
  {
   "cell_type": "markdown",
   "metadata": {},
   "source": [
    "### 1.4 Query homologs"
   ]
  },
  {
   "cell_type": "code",
   "execution_count": 11,
   "metadata": {},
   "outputs": [
    {
     "data": {
      "application/vnd.microsoft.datawrangler.viewer.v0+json": {
       "columns": [
        {
         "name": "index",
         "rawType": "int64",
         "type": "integer"
        },
        {
         "name": "identifier",
         "rawType": "object",
         "type": "string"
        },
        {
         "name": "identifier.source",
         "rawType": "object",
         "type": "string"
        },
        {
         "name": "target",
         "rawType": "object",
         "type": "string"
        },
        {
         "name": "target.source",
         "rawType": "object",
         "type": "string"
        }
       ],
       "conversionMethod": "pd.DataFrame",
       "ref": "51f21501-6604-4c32-811d-271e8a61f4d5",
       "rows": [
        [
         "0",
         "ENSMUSG00000026295",
         "Ensembl",
         "Q8K1I3",
         "Uniprot-TrEMBL"
        ],
        [
         "1",
         "ENSMUSG00000026295",
         "Ensembl",
         "ENSMUSG00000026295",
         "Ensembl"
        ],
        [
         "2",
         "ENSMUSG00000026295",
         "Ensembl",
         "A0A087WSF3",
         "Uniprot-TrEMBL"
        ],
        [
         "3",
         "ENSMUSG00000026295",
         "Ensembl",
         "H3BLP2",
         "Uniprot-TrEMBL"
        ],
        [
         "4",
         "ENSMUSG00000026295",
         "Ensembl",
         "75396",
         "NCBI Gene"
        ],
        [
         "5",
         "ENSMUSG00000022877",
         "Ensembl",
         "ENSMUSG00000022877",
         "Ensembl"
        ],
        [
         "6",
         "ENSMUSG00000022877",
         "Ensembl",
         "94175",
         "NCBI Gene"
        ],
        [
         "7",
         "ENSMUSG00000022877",
         "Ensembl",
         "A0A0R4J039",
         "Uniprot-TrEMBL"
        ],
        [
         "8",
         "ENSMUSG00000022877",
         "Ensembl",
         "A0A338P6H8",
         "Uniprot-TrEMBL"
        ],
        [
         "9",
         "ENSMUSG00000020914",
         "Ensembl",
         "ENSMUSG00000020914",
         "Ensembl"
        ],
        [
         "10",
         "ENSMUSG00000020914",
         "Ensembl",
         "Q01320",
         "Uniprot-TrEMBL"
        ],
        [
         "11",
         "ENSMUSG00000020914",
         "Ensembl",
         "21973",
         "NCBI Gene"
        ],
        [
         "12",
         "ENSMUSG00000024747",
         "Ensembl",
         "ENSMUSG00000024747",
         "Ensembl"
        ],
        [
         "13",
         "ENSMUSG00000024747",
         "Ensembl",
         "26358",
         "NCBI Gene"
        ],
        [
         "14",
         "ENSMUSG00000024747",
         "Ensembl",
         "O35945",
         "Uniprot-TrEMBL"
        ],
        [
         "15",
         "ENSMUSG00000024747",
         "Ensembl",
         "B2RTL5",
         "Uniprot-TrEMBL"
        ],
        [
         "16",
         "ENSMUSG00000032081",
         "Ensembl",
         "11814",
         "NCBI Gene"
        ],
        [
         "17",
         "ENSMUSG00000032081",
         "Ensembl",
         "D3YXN8",
         "Uniprot-TrEMBL"
        ],
        [
         "18",
         "ENSMUSG00000032081",
         "Ensembl",
         "E9QP56",
         "Uniprot-TrEMBL"
        ],
        [
         "19",
         "ENSMUSG00000032081",
         "Ensembl",
         "A0A0R4J1N3",
         "Uniprot-TrEMBL"
        ],
        [
         "20",
         "ENSMUSG00000032081",
         "Ensembl",
         "ENSMUSG00000032081",
         "Ensembl"
        ],
        [
         "21",
         "ENSMUSG00000004035",
         "Ensembl",
         "68312",
         "NCBI Gene"
        ],
        [
         "22",
         "ENSMUSG00000004035",
         "Ensembl",
         "D3YVP5",
         "Uniprot-TrEMBL"
        ],
        [
         "23",
         "ENSMUSG00000004035",
         "Ensembl",
         "D3YVP6",
         "Uniprot-TrEMBL"
        ],
        [
         "24",
         "ENSMUSG00000004035",
         "Ensembl",
         "D3YZ29",
         "Uniprot-TrEMBL"
        ]
       ],
       "shape": {
        "columns": 4,
        "rows": 25
       }
      },
      "text/html": [
       "<div>\n",
       "<style scoped>\n",
       "    .dataframe tbody tr th:only-of-type {\n",
       "        vertical-align: middle;\n",
       "    }\n",
       "\n",
       "    .dataframe tbody tr th {\n",
       "        vertical-align: top;\n",
       "    }\n",
       "\n",
       "    .dataframe thead th {\n",
       "        text-align: right;\n",
       "    }\n",
       "</style>\n",
       "<table border=\"1\" class=\"dataframe\">\n",
       "  <thead>\n",
       "    <tr style=\"text-align: right;\">\n",
       "      <th></th>\n",
       "      <th>identifier</th>\n",
       "      <th>identifier.source</th>\n",
       "      <th>target</th>\n",
       "      <th>target.source</th>\n",
       "    </tr>\n",
       "  </thead>\n",
       "  <tbody>\n",
       "    <tr>\n",
       "      <th>0</th>\n",
       "      <td>ENSMUSG00000026295</td>\n",
       "      <td>Ensembl</td>\n",
       "      <td>Q8K1I3</td>\n",
       "      <td>Uniprot-TrEMBL</td>\n",
       "    </tr>\n",
       "    <tr>\n",
       "      <th>1</th>\n",
       "      <td>ENSMUSG00000026295</td>\n",
       "      <td>Ensembl</td>\n",
       "      <td>ENSMUSG00000026295</td>\n",
       "      <td>Ensembl</td>\n",
       "    </tr>\n",
       "    <tr>\n",
       "      <th>2</th>\n",
       "      <td>ENSMUSG00000026295</td>\n",
       "      <td>Ensembl</td>\n",
       "      <td>A0A087WSF3</td>\n",
       "      <td>Uniprot-TrEMBL</td>\n",
       "    </tr>\n",
       "    <tr>\n",
       "      <th>3</th>\n",
       "      <td>ENSMUSG00000026295</td>\n",
       "      <td>Ensembl</td>\n",
       "      <td>H3BLP2</td>\n",
       "      <td>Uniprot-TrEMBL</td>\n",
       "    </tr>\n",
       "    <tr>\n",
       "      <th>4</th>\n",
       "      <td>ENSMUSG00000026295</td>\n",
       "      <td>Ensembl</td>\n",
       "      <td>75396</td>\n",
       "      <td>NCBI Gene</td>\n",
       "    </tr>\n",
       "    <tr>\n",
       "      <th>5</th>\n",
       "      <td>ENSMUSG00000022877</td>\n",
       "      <td>Ensembl</td>\n",
       "      <td>ENSMUSG00000022877</td>\n",
       "      <td>Ensembl</td>\n",
       "    </tr>\n",
       "    <tr>\n",
       "      <th>6</th>\n",
       "      <td>ENSMUSG00000022877</td>\n",
       "      <td>Ensembl</td>\n",
       "      <td>94175</td>\n",
       "      <td>NCBI Gene</td>\n",
       "    </tr>\n",
       "    <tr>\n",
       "      <th>7</th>\n",
       "      <td>ENSMUSG00000022877</td>\n",
       "      <td>Ensembl</td>\n",
       "      <td>A0A0R4J039</td>\n",
       "      <td>Uniprot-TrEMBL</td>\n",
       "    </tr>\n",
       "    <tr>\n",
       "      <th>8</th>\n",
       "      <td>ENSMUSG00000022877</td>\n",
       "      <td>Ensembl</td>\n",
       "      <td>A0A338P6H8</td>\n",
       "      <td>Uniprot-TrEMBL</td>\n",
       "    </tr>\n",
       "    <tr>\n",
       "      <th>9</th>\n",
       "      <td>ENSMUSG00000020914</td>\n",
       "      <td>Ensembl</td>\n",
       "      <td>ENSMUSG00000020914</td>\n",
       "      <td>Ensembl</td>\n",
       "    </tr>\n",
       "    <tr>\n",
       "      <th>10</th>\n",
       "      <td>ENSMUSG00000020914</td>\n",
       "      <td>Ensembl</td>\n",
       "      <td>Q01320</td>\n",
       "      <td>Uniprot-TrEMBL</td>\n",
       "    </tr>\n",
       "    <tr>\n",
       "      <th>11</th>\n",
       "      <td>ENSMUSG00000020914</td>\n",
       "      <td>Ensembl</td>\n",
       "      <td>21973</td>\n",
       "      <td>NCBI Gene</td>\n",
       "    </tr>\n",
       "    <tr>\n",
       "      <th>12</th>\n",
       "      <td>ENSMUSG00000024747</td>\n",
       "      <td>Ensembl</td>\n",
       "      <td>ENSMUSG00000024747</td>\n",
       "      <td>Ensembl</td>\n",
       "    </tr>\n",
       "    <tr>\n",
       "      <th>13</th>\n",
       "      <td>ENSMUSG00000024747</td>\n",
       "      <td>Ensembl</td>\n",
       "      <td>26358</td>\n",
       "      <td>NCBI Gene</td>\n",
       "    </tr>\n",
       "    <tr>\n",
       "      <th>14</th>\n",
       "      <td>ENSMUSG00000024747</td>\n",
       "      <td>Ensembl</td>\n",
       "      <td>O35945</td>\n",
       "      <td>Uniprot-TrEMBL</td>\n",
       "    </tr>\n",
       "    <tr>\n",
       "      <th>15</th>\n",
       "      <td>ENSMUSG00000024747</td>\n",
       "      <td>Ensembl</td>\n",
       "      <td>B2RTL5</td>\n",
       "      <td>Uniprot-TrEMBL</td>\n",
       "    </tr>\n",
       "    <tr>\n",
       "      <th>16</th>\n",
       "      <td>ENSMUSG00000032081</td>\n",
       "      <td>Ensembl</td>\n",
       "      <td>11814</td>\n",
       "      <td>NCBI Gene</td>\n",
       "    </tr>\n",
       "    <tr>\n",
       "      <th>17</th>\n",
       "      <td>ENSMUSG00000032081</td>\n",
       "      <td>Ensembl</td>\n",
       "      <td>D3YXN8</td>\n",
       "      <td>Uniprot-TrEMBL</td>\n",
       "    </tr>\n",
       "    <tr>\n",
       "      <th>18</th>\n",
       "      <td>ENSMUSG00000032081</td>\n",
       "      <td>Ensembl</td>\n",
       "      <td>E9QP56</td>\n",
       "      <td>Uniprot-TrEMBL</td>\n",
       "    </tr>\n",
       "    <tr>\n",
       "      <th>19</th>\n",
       "      <td>ENSMUSG00000032081</td>\n",
       "      <td>Ensembl</td>\n",
       "      <td>A0A0R4J1N3</td>\n",
       "      <td>Uniprot-TrEMBL</td>\n",
       "    </tr>\n",
       "    <tr>\n",
       "      <th>20</th>\n",
       "      <td>ENSMUSG00000032081</td>\n",
       "      <td>Ensembl</td>\n",
       "      <td>ENSMUSG00000032081</td>\n",
       "      <td>Ensembl</td>\n",
       "    </tr>\n",
       "    <tr>\n",
       "      <th>21</th>\n",
       "      <td>ENSMUSG00000004035</td>\n",
       "      <td>Ensembl</td>\n",
       "      <td>68312</td>\n",
       "      <td>NCBI Gene</td>\n",
       "    </tr>\n",
       "    <tr>\n",
       "      <th>22</th>\n",
       "      <td>ENSMUSG00000004035</td>\n",
       "      <td>Ensembl</td>\n",
       "      <td>D3YVP5</td>\n",
       "      <td>Uniprot-TrEMBL</td>\n",
       "    </tr>\n",
       "    <tr>\n",
       "      <th>23</th>\n",
       "      <td>ENSMUSG00000004035</td>\n",
       "      <td>Ensembl</td>\n",
       "      <td>D3YVP6</td>\n",
       "      <td>Uniprot-TrEMBL</td>\n",
       "    </tr>\n",
       "    <tr>\n",
       "      <th>24</th>\n",
       "      <td>ENSMUSG00000004035</td>\n",
       "      <td>Ensembl</td>\n",
       "      <td>D3YZ29</td>\n",
       "      <td>Uniprot-TrEMBL</td>\n",
       "    </tr>\n",
       "  </tbody>\n",
       "</table>\n",
       "</div>"
      ],
      "text/plain": [
       "            identifier identifier.source              target   target.source\n",
       "0   ENSMUSG00000026295           Ensembl              Q8K1I3  Uniprot-TrEMBL\n",
       "1   ENSMUSG00000026295           Ensembl  ENSMUSG00000026295         Ensembl\n",
       "2   ENSMUSG00000026295           Ensembl          A0A087WSF3  Uniprot-TrEMBL\n",
       "3   ENSMUSG00000026295           Ensembl              H3BLP2  Uniprot-TrEMBL\n",
       "4   ENSMUSG00000026295           Ensembl               75396       NCBI Gene\n",
       "5   ENSMUSG00000022877           Ensembl  ENSMUSG00000022877         Ensembl\n",
       "6   ENSMUSG00000022877           Ensembl               94175       NCBI Gene\n",
       "7   ENSMUSG00000022877           Ensembl          A0A0R4J039  Uniprot-TrEMBL\n",
       "8   ENSMUSG00000022877           Ensembl          A0A338P6H8  Uniprot-TrEMBL\n",
       "9   ENSMUSG00000020914           Ensembl  ENSMUSG00000020914         Ensembl\n",
       "10  ENSMUSG00000020914           Ensembl              Q01320  Uniprot-TrEMBL\n",
       "11  ENSMUSG00000020914           Ensembl               21973       NCBI Gene\n",
       "12  ENSMUSG00000024747           Ensembl  ENSMUSG00000024747         Ensembl\n",
       "13  ENSMUSG00000024747           Ensembl               26358       NCBI Gene\n",
       "14  ENSMUSG00000024747           Ensembl              O35945  Uniprot-TrEMBL\n",
       "15  ENSMUSG00000024747           Ensembl              B2RTL5  Uniprot-TrEMBL\n",
       "16  ENSMUSG00000032081           Ensembl               11814       NCBI Gene\n",
       "17  ENSMUSG00000032081           Ensembl              D3YXN8  Uniprot-TrEMBL\n",
       "18  ENSMUSG00000032081           Ensembl              E9QP56  Uniprot-TrEMBL\n",
       "19  ENSMUSG00000032081           Ensembl          A0A0R4J1N3  Uniprot-TrEMBL\n",
       "20  ENSMUSG00000032081           Ensembl  ENSMUSG00000032081         Ensembl\n",
       "21  ENSMUSG00000004035           Ensembl               68312       NCBI Gene\n",
       "22  ENSMUSG00000004035           Ensembl              D3YVP5  Uniprot-TrEMBL\n",
       "23  ENSMUSG00000004035           Ensembl              D3YVP6  Uniprot-TrEMBL\n",
       "24  ENSMUSG00000004035           Ensembl              D3YZ29  Uniprot-TrEMBL"
      ]
     },
     "execution_count": 11,
     "metadata": {},
     "output_type": "execute_result"
    }
   ],
   "source": [
    "input_species=\"Human\"\n",
    "\n",
    "data_input_hl = pd.DataFrame(homologs, columns=[\"identifier\"])\n",
    "\n",
    "bridgedb_df_hl, bridgedb_metadata_hl = id_mapper.bridgedb_xref(\n",
    "    identifiers=data_input_hl,\n",
    "    input_species=\"Human\",\n",
    "    input_datasource=\"Ensembl\",\n",
    "    output_datasource=\"All\",\n",
    ")\n",
    "\n",
    "bridgedb_df.head(25)"
   ]
  },
  {
   "cell_type": "markdown",
   "metadata": {},
   "source": [
    "# 2. Step-by-step graph generation"
   ]
  },
  {
   "cell_type": "markdown",
   "metadata": {},
   "source": [
    "### 2.1. Gene-Disease edges\n"
   ]
  },
  {
   "cell_type": "code",
   "execution_count": null,
   "metadata": {},
   "outputs": [],
   "source": [
    "load_dotenv('disgenet.env')\n",
    "disgenet_api_key = os.getenv(\"DISGENET_API_KEY\")\n"
   ]
  },
  {
   "cell_type": "code",
   "execution_count": null,
   "metadata": {},
   "outputs": [],
   "source": [
    "disgenet_df, disgenet_metadata = disgenet.get_gene_disease(\n",
    "    api_key=disgenet_api_key, bridgedb_df=bridgedb_df_hl\n",
    ")\n",
    "disgenet_df.head()"
   ]
  },
  {
   "cell_type": "code",
   "execution_count": null,
   "metadata": {},
   "outputs": [],
   "source": [
    "disgenet_df[DISGENET_DISEASE_COL][0]"
   ]
  },
  {
   "cell_type": "markdown",
   "metadata": {},
   "source": [
    "### 2.2 Disease-Compound edges"
   ]
  },
  {
   "cell_type": "code",
   "execution_count": null,
   "metadata": {},
   "outputs": [],
   "source": [
    "# Prepare the input to use DISGENET output as seed for OpenTargets\n",
    "disease_mapping_df = create_harmonized_input_file(disgenet_df, DISGENET_DISEASE_COL, \"EFO\", \"UMLS\")\n",
    "disease_mapping_df.head()"
   ]
  },
  {
   "cell_type": "code",
   "execution_count": null,
   "metadata": {},
   "outputs": [],
   "source": [
    "(\n",
    "    opentargets_disease_compound_df,\n",
    "    opentargets_disease_compound_metadata,\n",
    ") = opentargets.get_disease_compound_interactions(disease_mapping_df)\n",
    "opentargets_disease_compound_df.head()"
   ]
  },
  {
   "cell_type": "code",
   "execution_count": null,
   "metadata": {},
   "outputs": [],
   "source": [
    "opentargets_disease_compound_df[OPENTARGETS_DISEASE_COMPOUND_COL][0]"
   ]
  },
  {
   "cell_type": "markdown",
   "metadata": {},
   "source": [
    "### 2.3 Compound Annotation"
   ]
  },
  {
   "cell_type": "markdown",
   "metadata": {},
   "source": [
    "#### Compounds from OpenTargets"
   ]
  },
  {
   "cell_type": "code",
   "execution_count": null,
   "metadata": {},
   "outputs": [],
   "source": [
    "opentargets_compound_df, opentargets_compound_metadata = opentargets.get_gene_compound_interactions(\n",
    "    bridgedb_df=bridgedb_df_hl\n",
    ")\n",
    "opentargets_compound_df.head()"
   ]
  },
  {
   "cell_type": "code",
   "execution_count": null,
   "metadata": {},
   "outputs": [],
   "source": [
    "opentargets_compound_df[OPENTARGETS_GENE_COMPOUND_COL][1]"
   ]
  },
  {
   "cell_type": "markdown",
   "metadata": {},
   "source": [
    "#### Compounds from PubChem"
   ]
  },
  {
   "cell_type": "code",
   "execution_count": null,
   "metadata": {},
   "outputs": [],
   "source": [
    "pubchem_assay_df, pubchem_assay_metadata = pubchem.get_protein_compound_screened(\n",
    "        bridgedb_df=bridgedb_df_hl\n",
    "    )"
   ]
  },
  {
   "cell_type": "markdown",
   "metadata": {},
   "source": [
    "### 2.4 Gene-Pathways edges"
   ]
  },
  {
   "cell_type": "markdown",
   "metadata": {},
   "source": [
    "#### Pathways from WikiPathways"
   ]
  },
  {
   "cell_type": "code",
   "execution_count": null,
   "metadata": {},
   "outputs": [],
   "source": [
    "wikipathways_df, wikipathways_metadata = wikipathways.get_gene_wikipathways(bridgedb_df=bridgedb_df)\n",
    "wikipathways_df.head()"
   ]
  },
  {
   "cell_type": "code",
   "execution_count": null,
   "metadata": {},
   "outputs": [],
   "source": [
    "wikipathways_df[WIKIPATHWAYS][0]"
   ]
  },
  {
   "cell_type": "markdown",
   "metadata": {},
   "source": [
    "#### Pathways from KEGG"
   ]
  },
  {
   "cell_type": "code",
   "execution_count": 12,
   "metadata": {},
   "outputs": [
    {
     "data": {
      "application/vnd.microsoft.datawrangler.viewer.v0+json": {
       "columns": [
        {
         "name": "index",
         "rawType": "int64",
         "type": "integer"
        },
        {
         "name": "identifier",
         "rawType": "object",
         "type": "string"
        },
        {
         "name": "identifier.source",
         "rawType": "object",
         "type": "string"
        },
        {
         "name": "target",
         "rawType": "object",
         "type": "string"
        },
        {
         "name": "target.source",
         "rawType": "object",
         "type": "string"
        },
        {
         "name": "KEGG_pathways",
         "rawType": "object",
         "type": "unknown"
        }
       ],
       "conversionMethod": "pd.DataFrame",
       "ref": "c248450a-cf05-42ed-b1c3-ed4f1219a2e1",
       "rows": [
        [
         "0",
         "ENSMUSG00000026295",
         "Ensembl",
         "75396",
         "NCBI Gene",
         "[{'pathway_id': nan, 'pathway_label': nan, 'gene_count': nan, 'compounds': [{'KEGG_identifier': None, 'name': None}]}]"
        ],
        [
         "1",
         "ENSMUSG00000022877",
         "Ensembl",
         "94175",
         "NCBI Gene",
         "[{'pathway_id': nan, 'pathway_label': nan, 'gene_count': nan, 'compounds': [{'KEGG_identifier': None, 'name': None}]}]"
        ],
        [
         "2",
         "ENSMUSG00000020914",
         "Ensembl",
         "21973",
         "NCBI Gene",
         "[{'pathway_id': 'mmu01524', 'pathway_label': 'Platinum drug resistance - Mus musculus (house mouse)', 'gene_count': 0, 'compounds': [{'KEGG_identifier': None}]}, {'gene_count': 0, 'compounds': [{'KEGG_identifier': None}]}]"
        ],
        [
         "3",
         "ENSMUSG00000024747",
         "Ensembl",
         "26358",
         "NCBI Gene",
         "[{'pathway_id': 'mmu00830', 'pathway_label': 'Retinol metabolism - Mus musculus (house mouse)', 'gene_count': 101, 'compounds': [{'KEGG_identifier': 'C00376'}, {'KEGG_identifier': 'C00473'}, {'KEGG_identifier': 'C00777'}, {'KEGG_identifier': 'C00778'}, {'KEGG_identifier': 'C00899'}, {'KEGG_identifier': 'C02075'}, {'KEGG_identifier': 'C02094'}, {'KEGG_identifier': 'C02110'}, {'KEGG_identifier': 'C02588'}, {'KEGG_identifier': 'C03455'}, {'KEGG_identifier': 'C05914'}, {'KEGG_identifier': 'C05915'}, {'KEGG_identifier': 'C05916'}, {'KEGG_identifier': 'C05917'}, {'KEGG_identifier': 'C11061'}, {'KEGG_identifier': 'C15492'}, {'KEGG_identifier': 'C15493'}, {'KEGG_identifier': 'C16677'}, {'KEGG_identifier': 'C16678'}, {'KEGG_identifier': 'C16679'}, {'KEGG_identifier': 'C16680'}, {'KEGG_identifier': 'C16681'}, {'KEGG_identifier': 'C16682'}, {'KEGG_identifier': 'C16683'}, {'KEGG_identifier': 'C21797'}]}, {'pathway_id': 'mmu01100', 'pathway_label': 'Metabolic pathways - Mus musculus (house mouse)', 'gene_count': 0, 'compounds': [{'KEGG_identifier': None}]}, {'gene_count': 0, 'compounds': [{'KEGG_identifier': None}]}]"
        ],
        [
         "4",
         "ENSMUSG00000032081",
         "Ensembl",
         "11814",
         "NCBI Gene",
         "[{'pathway_id': 'mmu03320', 'pathway_label': 'PPAR signaling pathway - Mus musculus (house mouse)', 'gene_count': 88, 'compounds': [{'KEGG_identifier': 'C02165'}, {'KEGG_identifier': 'C14762'}, {'KEGG_identifier': 'C14767'}, {'KEGG_identifier': 'C14776'}, {'KEGG_identifier': 'C15493'}]}, {'pathway_id': 'mmu04979', 'pathway_label': 'Cholesterol metabolism - Mus musculus (house mouse)', 'gene_count': 49, 'compounds': [{'KEGG_identifier': 'C00162'}, {'KEGG_identifier': 'C00187'}, {'KEGG_identifier': 'C00422'}, {'KEGG_identifier': 'C00865'}, {'KEGG_identifier': 'C01921'}, {'KEGG_identifier': 'C02530'}, {'KEGG_identifier': 'C05122'}, {'KEGG_identifier': 'C05465'}, {'KEGG_identifier': 'C05466'}, {'KEGG_identifier': 'C15610'}]}, {'gene_count': 0, 'compounds': [{'KEGG_identifier': None}]}]"
        ]
       ],
       "shape": {
        "columns": 5,
        "rows": 5
       }
      },
      "text/html": [
       "<div>\n",
       "<style scoped>\n",
       "    .dataframe tbody tr th:only-of-type {\n",
       "        vertical-align: middle;\n",
       "    }\n",
       "\n",
       "    .dataframe tbody tr th {\n",
       "        vertical-align: top;\n",
       "    }\n",
       "\n",
       "    .dataframe thead th {\n",
       "        text-align: right;\n",
       "    }\n",
       "</style>\n",
       "<table border=\"1\" class=\"dataframe\">\n",
       "  <thead>\n",
       "    <tr style=\"text-align: right;\">\n",
       "      <th></th>\n",
       "      <th>identifier</th>\n",
       "      <th>identifier.source</th>\n",
       "      <th>target</th>\n",
       "      <th>target.source</th>\n",
       "      <th>KEGG_pathways</th>\n",
       "    </tr>\n",
       "  </thead>\n",
       "  <tbody>\n",
       "    <tr>\n",
       "      <th>0</th>\n",
       "      <td>ENSMUSG00000026295</td>\n",
       "      <td>Ensembl</td>\n",
       "      <td>75396</td>\n",
       "      <td>NCBI Gene</td>\n",
       "      <td>[{'pathway_id': nan, 'pathway_label': nan, 'ge...</td>\n",
       "    </tr>\n",
       "    <tr>\n",
       "      <th>1</th>\n",
       "      <td>ENSMUSG00000022877</td>\n",
       "      <td>Ensembl</td>\n",
       "      <td>94175</td>\n",
       "      <td>NCBI Gene</td>\n",
       "      <td>[{'pathway_id': nan, 'pathway_label': nan, 'ge...</td>\n",
       "    </tr>\n",
       "    <tr>\n",
       "      <th>2</th>\n",
       "      <td>ENSMUSG00000020914</td>\n",
       "      <td>Ensembl</td>\n",
       "      <td>21973</td>\n",
       "      <td>NCBI Gene</td>\n",
       "      <td>[{'pathway_id': 'mmu01524', 'pathway_label': '...</td>\n",
       "    </tr>\n",
       "    <tr>\n",
       "      <th>3</th>\n",
       "      <td>ENSMUSG00000024747</td>\n",
       "      <td>Ensembl</td>\n",
       "      <td>26358</td>\n",
       "      <td>NCBI Gene</td>\n",
       "      <td>[{'pathway_id': 'mmu00830', 'pathway_label': '...</td>\n",
       "    </tr>\n",
       "    <tr>\n",
       "      <th>4</th>\n",
       "      <td>ENSMUSG00000032081</td>\n",
       "      <td>Ensembl</td>\n",
       "      <td>11814</td>\n",
       "      <td>NCBI Gene</td>\n",
       "      <td>[{'pathway_id': 'mmu03320', 'pathway_label': '...</td>\n",
       "    </tr>\n",
       "  </tbody>\n",
       "</table>\n",
       "</div>"
      ],
      "text/plain": [
       "           identifier identifier.source target target.source  \\\n",
       "0  ENSMUSG00000026295           Ensembl  75396     NCBI Gene   \n",
       "1  ENSMUSG00000022877           Ensembl  94175     NCBI Gene   \n",
       "2  ENSMUSG00000020914           Ensembl  21973     NCBI Gene   \n",
       "3  ENSMUSG00000024747           Ensembl  26358     NCBI Gene   \n",
       "4  ENSMUSG00000032081           Ensembl  11814     NCBI Gene   \n",
       "\n",
       "                                       KEGG_pathways  \n",
       "0  [{'pathway_id': nan, 'pathway_label': nan, 'ge...  \n",
       "1  [{'pathway_id': nan, 'pathway_label': nan, 'ge...  \n",
       "2  [{'pathway_id': 'mmu01524', 'pathway_label': '...  \n",
       "3  [{'pathway_id': 'mmu00830', 'pathway_label': '...  \n",
       "4  [{'pathway_id': 'mmu03320', 'pathway_label': '...  "
      ]
     },
     "execution_count": 12,
     "metadata": {},
     "output_type": "execute_result"
    }
   ],
   "source": [
    "kegg_df, kegg_metadata = kegg.get_pathways(bridgedb_df)\n",
    "kegg_df.head()"
   ]
  },
  {
   "cell_type": "code",
   "execution_count": 14,
   "metadata": {},
   "outputs": [
    {
     "data": {
      "text/plain": [
       "[{'pathway_id': 'mmu00830',\n",
       "  'pathway_label': 'Retinol metabolism - Mus musculus (house mouse)',\n",
       "  'gene_count': 101,\n",
       "  'compounds': [{'KEGG_identifier': 'C00376'},\n",
       "   {'KEGG_identifier': 'C00473'},\n",
       "   {'KEGG_identifier': 'C00777'},\n",
       "   {'KEGG_identifier': 'C00778'},\n",
       "   {'KEGG_identifier': 'C00899'},\n",
       "   {'KEGG_identifier': 'C02075'},\n",
       "   {'KEGG_identifier': 'C02094'},\n",
       "   {'KEGG_identifier': 'C02110'},\n",
       "   {'KEGG_identifier': 'C02588'},\n",
       "   {'KEGG_identifier': 'C03455'},\n",
       "   {'KEGG_identifier': 'C05914'},\n",
       "   {'KEGG_identifier': 'C05915'},\n",
       "   {'KEGG_identifier': 'C05916'},\n",
       "   {'KEGG_identifier': 'C05917'},\n",
       "   {'KEGG_identifier': 'C11061'},\n",
       "   {'KEGG_identifier': 'C15492'},\n",
       "   {'KEGG_identifier': 'C15493'},\n",
       "   {'KEGG_identifier': 'C16677'},\n",
       "   {'KEGG_identifier': 'C16678'},\n",
       "   {'KEGG_identifier': 'C16679'},\n",
       "   {'KEGG_identifier': 'C16680'},\n",
       "   {'KEGG_identifier': 'C16681'},\n",
       "   {'KEGG_identifier': 'C16682'},\n",
       "   {'KEGG_identifier': 'C16683'},\n",
       "   {'KEGG_identifier': 'C21797'}]},\n",
       " {'pathway_id': 'mmu01100',\n",
       "  'pathway_label': 'Metabolic pathways - Mus musculus (house mouse)',\n",
       "  'gene_count': 0,\n",
       "  'compounds': [{'KEGG_identifier': None}]},\n",
       " {'gene_count': 0, 'compounds': [{'KEGG_identifier': None}]}]"
      ]
     },
     "execution_count": 14,
     "metadata": {},
     "output_type": "execute_result"
    }
   ],
   "source": [
    "kegg_df[KEGG_COL][3]"
   ]
  },
  {
   "cell_type": "markdown",
   "metadata": {},
   "source": [
    "#### Reactome pathways from OpenTargets"
   ]
  },
  {
   "cell_type": "code",
   "execution_count": null,
   "metadata": {},
   "outputs": [],
   "source": [
    "opentargets_reactome_df, opentargets_reactome_metadata = opentargets.get_gene_reactome_pathways(\n",
    "    bridgedb_df=bridgedb_df_hl\n",
    ")\n",
    "opentargets_reactome_df.head()"
   ]
  },
  {
   "cell_type": "code",
   "execution_count": null,
   "metadata": {},
   "outputs": [],
   "source": [
    "opentargets_reactome_df[OPENTARGETS_REACTOME_COL][0]"
   ]
  },
  {
   "cell_type": "markdown",
   "metadata": {},
   "source": [
    "### 2.5 Gene Ontology from OpenTargets"
   ]
  },
  {
   "cell_type": "code",
   "execution_count": null,
   "metadata": {},
   "outputs": [],
   "source": [
    "opentargets_go_df, opentargets_go_metadata = opentargets.get_gene_go_process(\n",
    "    bridgedb_df=bridgedb_df_hl\n",
    ")\n",
    "opentargets_go_df.head()"
   ]
  },
  {
   "cell_type": "code",
   "execution_count": null,
   "metadata": {},
   "outputs": [],
   "source": [
    "opentargets_go_df[OPENTARGETS_GO_COL][0]"
   ]
  },
  {
   "cell_type": "markdown",
   "metadata": {},
   "source": [
    "### 2.6. Protein-Protein Interactions"
   ]
  },
  {
   "cell_type": "code",
   "execution_count": null,
   "metadata": {},
   "outputs": [],
   "source": [
    "input_species = \"Mouse\"\n",
    "ppi_df, ppi_metadata = stringdb.get_ppi(bridgedb_df=bridgedb_df, species=input_species)\n",
    "ppi_df.head()"
   ]
  },
  {
   "cell_type": "code",
   "execution_count": null,
   "metadata": {},
   "outputs": [],
   "source": [
    "ppi_df[STRING_PPI_COL][3]"
   ]
  },
  {
   "cell_type": "markdown",
   "metadata": {},
   "source": [
    "### 2.7 Gene expression edges"
   ]
  },
  {
   "cell_type": "code",
   "execution_count": null,
   "metadata": {},
   "outputs": [],
   "source": [
    "bgee_df, bgee_metadata = bgee.get_gene_expression(bridgedb_df=bridgedb_df)\n",
    "bgee_df.head()"
   ]
  },
  {
   "cell_type": "code",
   "execution_count": null,
   "metadata": {},
   "outputs": [],
   "source": [
    "bgee_df[BGEE_GENE_EXPRESSION_LEVELS_COL][1]"
   ]
  },
  {
   "cell_type": "markdown",
   "metadata": {},
   "source": [
    "### 2.8 Transporter Inhibitors"
   ]
  },
  {
   "cell_type": "code",
   "execution_count": null,
   "metadata": {},
   "outputs": [],
   "source": [
    "inhibitor_df, inhibitor_metadata = molmedb.get_gene_compound_inhibitor(bridgedb_df=bridgedb_df_hl)\n",
    "inhibitor_df.head()"
   ]
  },
  {
   "cell_type": "markdown",
   "metadata": {},
   "source": [
    "# 3. Generating Graph"
   ]
  },
  {
   "cell_type": "markdown",
   "metadata": {},
   "source": [
    "### 3.1 Combing all the results into single dataframe"
   ]
  },
  {
   "cell_type": "code",
   "execution_count": null,
   "metadata": {},
   "outputs": [],
   "source": [
    "#        bgee_df,\n",
    "#        disgenet_df,\n",
    "#        minerva_df,\n",
    "#        opentargets_reactome_df,\n",
    "#        opentargets_go_df,\n",
    "#        opentargets_compound_df,\n",
    "#        inhibitor_df,\n",
    "#        kegg_df,\n",
    "\n",
    "combined_df = combine_sources(\n",
    "    bridgedb_df,\n",
    "    [\n",
    "        wikipathways_df,\n",
    "        ppi_df,\n",
    "        ensembl_homologs_df,\n",
    "        kegg_df\n",
    "    ],\n",
    ")\n",
    "\n",
    "combined_df = combine_with_homologs(\n",
    "    combined_df,\n",
    "    [\n",
    "        opentargets_reactome_df,\n",
    "        opentargets_go_df,\n",
    "        opentargets_compound_df,\n",
    "        disgenet_df,\n",
    "        inhibitor_df\n",
    "    ],\n",
    ")\n",
    "\n",
    "\n",
    "\n",
    "combined_df.head(10)"
   ]
  },
  {
   "cell_type": "code",
   "execution_count": null,
   "metadata": {},
   "outputs": [],
   "source": [
    "combined_df.shape"
   ]
  },
  {
   "cell_type": "markdown",
   "metadata": {},
   "source": [
    "### 3.2 Exporting the database in pickle format"
   ]
  },
  {
   "cell_type": "code",
   "execution_count": null,
   "metadata": {},
   "outputs": [],
   "source": [
    "with open(\"combined_df.pkl\", \"wb\") as out:\n",
    "    pickle.dump(combined_df, out)\n",
    "# with open(\"opentargets_disease_compound_df.pkl\", \"wb\") as out:\n",
    "#     pickle.dump(opentargets_disease_compound_df, out)"
   ]
  },
  {
   "cell_type": "markdown",
   "metadata": {},
   "source": [
    "### 3.3 Creating a graph from the annotated dataframe"
   ]
  },
  {
   "cell_type": "code",
   "execution_count": null,
   "metadata": {},
   "outputs": [],
   "source": [
    "# combined_df = generator.load_dataframe_from_pickle(\"combined_df.pkl\")\n",
    "# opentargets_disease_compound_df = generator.load_dataframe_from_pickle(\n",
    "#     \"opentargets_disease_compound_df.pkl\"\n",
    "# )\n",
    "\n",
    "combined_df.head(15)"
   ]
  },
  {
   "cell_type": "code",
   "execution_count": null,
   "metadata": {},
   "outputs": [],
   "source": [
    "combined_df['KEGG_pathways'][2]"
   ]
  },
  {
   "cell_type": "code",
   "execution_count": null,
   "metadata": {},
   "outputs": [],
   "source": [
    "opentargets_disease_compound_df.head()"
   ]
  },
  {
   "cell_type": "code",
   "execution_count": null,
   "metadata": {},
   "outputs": [],
   "source": [
    "pygraph = generator.build_networkx_graph(combined_df, homolog_df_list = [opentargets_compound_df,\n",
    "        disgenet_df])"
   ]
  },
  {
   "cell_type": "code",
   "execution_count": null,
   "metadata": {},
   "outputs": [],
   "source": [
    "print(pygraph)"
   ]
  },
  {
   "cell_type": "markdown",
   "metadata": {},
   "source": [
    "### 3.4 Store the graph"
   ]
  },
  {
   "cell_type": "code",
   "execution_count": null,
   "metadata": {},
   "outputs": [],
   "source": [
    "with open(\"networkx_graph_test.pkl\", \"wb\") as out:\n",
    "    pickle.dump(pygraph, out)"
   ]
  },
  {
   "cell_type": "code",
   "execution_count": null,
   "metadata": {},
   "outputs": [],
   "source": []
  },
  {
   "cell_type": "markdown",
   "metadata": {},
   "source": [
    "### 3.5 Visualize the graph"
   ]
  },
  {
   "cell_type": "code",
   "execution_count": null,
   "metadata": {},
   "outputs": [],
   "source": [
    "# pos = nx.circular_layout(pygraph)\n",
    "\n",
    "# plt.figure(3, figsize=(30, 30))\n",
    "# nx.draw(pygraph, pos)\n",
    "# plt.show()"
   ]
  },
  {
   "cell_type": "markdown",
   "metadata": {},
   "source": [
    "# 4. Exporting Graph to external sources"
   ]
  },
  {
   "cell_type": "markdown",
   "metadata": {},
   "source": [
    "### 4.1 Cytoscape\n",
    "Make sure that the Cytoscape is open"
   ]
  },
  {
   "cell_type": "code",
   "execution_count": null,
   "metadata": {},
   "outputs": [],
   "source": [
    "from pyBiodatafuse.graph import cytoscape\n",
    "\n",
    "cytoscape.load_graph(pygraph, network_name=\"Test network\")"
   ]
  },
  {
   "cell_type": "markdown",
   "metadata": {},
   "source": [
    "### 4.2 Neo4j"
   ]
  },
  {
   "cell_type": "code",
   "execution_count": null,
   "metadata": {},
   "outputs": [],
   "source": [
    "from pyBiodatafuse.graph import neo4j\n",
    "\n",
    "neo4j.save_graph_to_graphml(pygraph, \"networkx_graph_usecase.graphml\")"
   ]
  },
  {
   "cell_type": "markdown",
   "metadata": {},
   "source": [
    "##### Steps to load the graph in Neo4j"
   ]
  },
  {
   "cell_type": "markdown",
   "metadata": {},
   "source": [
    "- Add `.graphml` file in **import** subfolder of the DBMS folder\n",
    "- Install apoc plugin\n",
    "- Create `apoc.conf` file:\n",
    "    ```\n",
    "    apoc.trigger.enabled=true\n",
    "    apoc.import.file.enabled=true\n",
    "    apoc.export.file.enabled=true\n",
    "    apoc.import.file.use_neo4j_config=true\n",
    "    ```\n",
    "- Add `apoc.conf` file to **conf** subfolder of the DBMS folder\n",
    "- Open Neo4j Browser\n",
    "- (Optionl, only run if you have imported a graph  before) Remove all the nodes before importing `.graphml` file\n",
    "\n",
    "    ```MATCH (n) DETACH DELETE n```\n",
    "\n",
    "- Import `.graphml` file\n",
    "\n",
    "    ```call apoc.import.graphml('file:///networkx_graph_test.graphml',{readLabels:TRUE})```\n",
    "\n",
    "- Add indexes after importing the graph for improving the performance of queries\n",
    "\n",
    "    ```\n",
    "    create index Gene for (n:Gene) on (n.node_type)\n",
    "    create index Pathway for (n:Pathway) on (n.node_type)\n",
    "    create index `Biological Process` for (n:`Biological Process`) on (n.node_type)\n",
    "    create index `Molecular Function` for (n:`Molecular Function`) on (n.node_type)\n",
    "    create index `Cellular Component` for (n:`Cellular Component`) on (n.node_type)\n",
    "    create index Disease for (n:Disease) on (n.node_type)\n",
    "    create index Compound for (n:Compound) on (n.node_type)\n",
    "    create index `Side Effect` for (n:`Side Effect`) on (n.node_type)\n",
    "    ```\n",
    "    \n",
    "\n",
    "- Count the number of each node type\n",
    "    - total (```MATCH (n) RETURN count(n)```) \n",
    "        - Gene (```MATCH (n:Gene) RETURN count(n)```)\n",
    "        - Pathway (```MATCH (n:Pathway) RETURN count(n)```)\n",
    "            - WikiPathways (```MATCH (n:Pathway {source: \"WikiPathways\"}) RETURN count(n)```) \n",
    "            - OpenTargets, Reactome (```MATCH (n:Pathway {source: \"OpenTargets\"}) RETURN count(n)```) \n",
    "            - MINERVA (```MATCH (n:Pathway {source: \"MINERVA\"}) RETURN count(n)```) \n",
    "        - Biological Process (```MATCH (n:`Biological Process`) RETURN count(n)```) \n",
    "        - Molecular Function (```MATCH (n:`Molecular Function`) RETURN count(n)```) \n",
    "        - Cellular Component (```MATCH (n:`Cellular Component`) RETURN count(n)```) \n",
    "        - Disease (```MATCH (n:Disease) RETURN count(n)```) \n",
    "        - Compound (```MATCH (n:Compound) RETURN count(n)```)\n",
    "        - Side Effect (```MATCH (n:`Side Effect`) RETURN count(n)```) \n",
    "- Count the number of each edge type\n",
    "    - total (```MATCH ()-[r]->() RETURN count(r)```) \n",
    "        - interacts_with (```MATCH ()-[r:interacts_with]->() RETURN count(r)```) \n",
    "        - part_of (```MATCH ()-[r:part_of]->() RETURN count(r)```) \n",
    "            - WikiPathways (```MATCH ()-[r:part_of {source: \"WikiPathways\"}]->() RETURN count(r)```) \n",
    "            - OpenTargets, Reactome (```MATCH ()-[r:part_of {source: \"OpenTargets\"}]->() RETURN count(r)```) \n",
    "            - MINERVA (```MATCH ()-[r:part_of {source: \"MINERVA\"}]->() RETURN count(r)```) \n",
    "        - activates (```MATCH ()-[r:activates]->() RETURN count(r)```) \n",
    "        - treats (```MATCH ()-[r:treats]->() RETURN count(r)```) \n",
    "        - has_side_effect (```MATCH ()-[r:has_side_effect]->() RETURN count(r)```) \n",
    "        - inhibits (```MATCH ()-[r:inhibits]->() RETURN count(r)```) = 71\n",
    "        - associated_with (```MATCH ()-[r:associated_with]->() RETURN count(r)```) \n",
    "\n",
    "- Export the graph as a `.csv` file\n",
    "\n",
    "    ```call apoc.export.csv.all(\"networkx_graph_test.csv\",{})```"
   ]
  }
 ],
 "metadata": {
  "kernelspec": {
   "display_name": ".venv",
   "language": "python",
   "name": "python3"
  },
  "language_info": {
   "codemirror_mode": {
    "name": "ipython",
    "version": 3
   },
   "file_extension": ".py",
   "mimetype": "text/x-python",
   "name": "python",
   "nbconvert_exporter": "python",
   "pygments_lexer": "ipython3",
   "version": "3.11.11"
  }
 },
 "nbformat": 4,
 "nbformat_minor": 4
}
