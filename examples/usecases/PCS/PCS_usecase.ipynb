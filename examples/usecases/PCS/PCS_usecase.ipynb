{
 "cells": [
  {
   "cell_type": "markdown",
   "metadata": {},
   "source": [
    "## Example: PCS use case\n",
    "\n",
    "This notebook shows all the steps to generate PCS KG and the downstream analysis."
   ]
  },
  {
   "cell_type": "markdown",
   "metadata": {},
   "source": [
    "#### Set up the environment"
   ]
  },
  {
   "cell_type": "code",
   "execution_count": 5,
   "metadata": {},
   "outputs": [],
   "source": [
    "import os\n",
    "\n",
    "os.chdir(os.path.abspath(os.path.join(os.getcwd(), \"src\")))"
   ]
  },
  {
   "cell_type": "code",
   "execution_count": 6,
   "metadata": {},
   "outputs": [],
   "source": [
    "# Import modules\n",
    "import pickle\n",
    "\n",
    "import matplotlib.pyplot as plt\n",
    "import networkx as nx\n",
    "import numpy as np\n",
    "import pandas as pd\n",
    "from dotenv import load_dotenv\n",
    "\n",
    "from pyBiodatafuse import id_mapper\n",
    "from pyBiodatafuse.annotators import disgenet, minerva, opentargets, stringdb, wikipathways\n",
    "from pyBiodatafuse.constants import (\n",
    "    DISGENET_DISEASE_COL,\n",
    "    MINERVA,\n",
    "    OPENTARGETS_DISEASE_COMPOUND_COL,\n",
    "    OPENTARGETS_GENE_COMPOUND_COL,\n",
    "    OPENTARGETS_GO_COL,\n",
    "    OPENTARGETS_REACTOME_COL,\n",
    "    STRING_PPI_COL,\n",
    "    WIKIPATHWAYS,\n",
    ")\n",
    "from pyBiodatafuse.graph import generator\n",
    "from pyBiodatafuse.utils import (\n",
    "    combine_sources,\n",
    "    create_harmonized_input_file,\n",
    "    create_or_append_to_metadata,\n",
    ")\n",
    "\n",
    "os.chdir(os.path.abspath(os.path.join(os.getcwd(), \"..\")))"
   ]
  },
  {
   "cell_type": "markdown",
   "metadata": {},
   "source": [
    "### Load the input list and convert it to a dataframe"
   ]
  },
  {
   "cell_type": "code",
   "execution_count": 7,
   "metadata": {},
   "outputs": [
    {
     "name": "stdout",
     "output_type": "stream",
     "text": [
      "Total number of genes: 2023\n"
     ]
    },
    {
     "data": {
      "text/html": [
       "<div>\n",
       "<style scoped>\n",
       "    .dataframe tbody tr th:only-of-type {\n",
       "        vertical-align: middle;\n",
       "    }\n",
       "\n",
       "    .dataframe tbody tr th {\n",
       "        vertical-align: top;\n",
       "    }\n",
       "\n",
       "    .dataframe thead th {\n",
       "        text-align: right;\n",
       "    }\n",
       "</style>\n",
       "<table border=\"1\" class=\"dataframe\">\n",
       "  <thead>\n",
       "    <tr style=\"text-align: right;\">\n",
       "      <th></th>\n",
       "      <th>identifier</th>\n",
       "    </tr>\n",
       "  </thead>\n",
       "  <tbody>\n",
       "    <tr>\n",
       "      <th>0</th>\n",
       "      <td>LOC729609</td>\n",
       "    </tr>\n",
       "    <tr>\n",
       "      <th>1</th>\n",
       "      <td>LOC105374060</td>\n",
       "    </tr>\n",
       "    <tr>\n",
       "      <th>2</th>\n",
       "      <td>DMP1</td>\n",
       "    </tr>\n",
       "    <tr>\n",
       "      <th>3</th>\n",
       "      <td>PNLIP</td>\n",
       "    </tr>\n",
       "    <tr>\n",
       "      <th>4</th>\n",
       "      <td>OR4N3P</td>\n",
       "    </tr>\n",
       "  </tbody>\n",
       "</table>\n",
       "</div>"
      ],
      "text/plain": [
       "     identifier\n",
       "0     LOC729609\n",
       "1  LOC105374060\n",
       "2          DMP1\n",
       "3         PNLIP\n",
       "4        OR4N3P"
      ]
     },
     "execution_count": 7,
     "metadata": {},
     "output_type": "execute_result"
    }
   ],
   "source": [
    "file_path = os.path.join(os.getcwd(), \"examples\", \"usecases\", \"PCS\", \"PCS_gene_list.csv\")\n",
    "data_input = pd.read_csv(file_path)\n",
    "print(\"Total number of genes:\", len(data_input.drop_duplicates()))\n",
    "data_input.head()"
   ]
  },
  {
   "cell_type": "markdown",
   "metadata": {},
   "source": [
    "### Entity resolution using BridgeDB"
   ]
  },
  {
   "cell_type": "code",
   "execution_count": 8,
   "metadata": {},
   "outputs": [
    {
     "name": "stdout",
     "output_type": "stream",
     "text": [
      "Number of genes with mapping in BridgeDb: 1667\n"
     ]
    },
    {
     "data": {
      "text/html": [
       "<div>\n",
       "<style scoped>\n",
       "    .dataframe tbody tr th:only-of-type {\n",
       "        vertical-align: middle;\n",
       "    }\n",
       "\n",
       "    .dataframe tbody tr th {\n",
       "        vertical-align: top;\n",
       "    }\n",
       "\n",
       "    .dataframe thead th {\n",
       "        text-align: right;\n",
       "    }\n",
       "</style>\n",
       "<table border=\"1\" class=\"dataframe\">\n",
       "  <thead>\n",
       "    <tr style=\"text-align: right;\">\n",
       "      <th></th>\n",
       "      <th>identifier</th>\n",
       "      <th>identifier.source</th>\n",
       "      <th>target</th>\n",
       "      <th>target.source</th>\n",
       "    </tr>\n",
       "  </thead>\n",
       "  <tbody>\n",
       "    <tr>\n",
       "      <th>0</th>\n",
       "      <td>DMP1</td>\n",
       "      <td>HGNC</td>\n",
       "      <td>Q13316</td>\n",
       "      <td>Uniprot-TrEMBL</td>\n",
       "    </tr>\n",
       "    <tr>\n",
       "      <th>1</th>\n",
       "      <td>DMP1</td>\n",
       "      <td>HGNC</td>\n",
       "      <td>HGNC:2932</td>\n",
       "      <td>HGNC Accession Number</td>\n",
       "    </tr>\n",
       "    <tr>\n",
       "      <th>2</th>\n",
       "      <td>DMP1</td>\n",
       "      <td>HGNC</td>\n",
       "      <td>DMP1</td>\n",
       "      <td>HGNC</td>\n",
       "    </tr>\n",
       "    <tr>\n",
       "      <th>3</th>\n",
       "      <td>DMP1</td>\n",
       "      <td>HGNC</td>\n",
       "      <td>ENSG00000152592</td>\n",
       "      <td>Ensembl</td>\n",
       "    </tr>\n",
       "    <tr>\n",
       "      <th>4</th>\n",
       "      <td>DMP1</td>\n",
       "      <td>HGNC</td>\n",
       "      <td>1758</td>\n",
       "      <td>NCBI Gene</td>\n",
       "    </tr>\n",
       "  </tbody>\n",
       "</table>\n",
       "</div>"
      ],
      "text/plain": [
       "  identifier identifier.source           target          target.source\n",
       "0       DMP1              HGNC           Q13316         Uniprot-TrEMBL\n",
       "1       DMP1              HGNC        HGNC:2932  HGNC Accession Number\n",
       "2       DMP1              HGNC             DMP1                   HGNC\n",
       "3       DMP1              HGNC  ENSG00000152592                Ensembl\n",
       "4       DMP1              HGNC             1758              NCBI Gene"
      ]
     },
     "execution_count": 8,
     "metadata": {},
     "output_type": "execute_result"
    }
   ],
   "source": [
    "bridgedb_df, bridgedb_metadata = id_mapper.bridgedb_xref(\n",
    "    identifiers=data_input,\n",
    "    input_species=\"Human\",\n",
    "    input_datasource=\"HGNC\",\n",
    "    output_datasource=\"All\",\n",
    ")\n",
    "bridgedb_df.to_pickle(os.path.join(os.getcwd(), \"examples\", \"usecases\", \"PCS\", \"bridgedb_df.pkl\"))\n",
    "with open(\n",
    "    os.path.join(os.getcwd(), \"examples\", \"usecases\", \"PCS\", \"bridgedb_metadata.pkl\"), \"wb\"\n",
    ") as file:\n",
    "    pickle.dump(bridgedb_metadata, file)\n",
    "with open(\n",
    "    os.path.join(os.getcwd(), \"examples\", \"usecases\", \"PCS\", \"bridgedb_df.pkl\"), \"rb\"\n",
    ") as file:\n",
    "    bridgedb_df = pickle.load(file)\n",
    "with open(\n",
    "    os.path.join(os.getcwd(), \"examples\", \"usecases\", \"PCS\", \"bridgedb_metadata.pkl\"), \"rb\"\n",
    ") as file:\n",
    "    bridgedb_metadata = pickle.load(file)\n",
    "\n",
    "print(\"Number of genes with mapping in BridgeDb:\", len(bridgedb_df[\"identifier\"].unique()))\n",
    "bridgedb_df.head()"
   ]
  },
  {
   "cell_type": "markdown",
   "metadata": {},
   "source": [
    "### Gene to Disease annotatation from DisGeNet\n"
   ]
  },
  {
   "cell_type": "markdown",
   "metadata": {},
   "source": [
    "**ADD your DISGENET API KEY in the main folder**\n",
    "\n",
    "  **1)** Create a ``.env`` file and add DISGENET_API_KEY to it:\n",
    "\n",
    "      DISGENET_API_KEY=\"your-API-key-value\"\n",
    "\n",
    "  **2)** Install *python-dotenv*:\n",
    "  \n",
    "      ```\n",
    "      pip install python-dotenv\n",
    "      ```"
   ]
  },
  {
   "cell_type": "code",
   "execution_count": 15,
   "metadata": {},
   "outputs": [
    {
     "name": "stdout",
     "output_type": "stream",
     "text": [
      "4864214e-2cd6-4efd-b2b4-7b6cf36fcf90\n"
     ]
    }
   ],
   "source": [
    "# Read the .env File\n",
    "load_dotenv()\n",
    "# Retrieve the key from the environment variable\n",
    "disgenet_api_key = os.getenv(\"DISGENET_API_KEY\")"
   ]
  },
  {
   "cell_type": "code",
   "execution_count": null,
   "metadata": {},
   "outputs": [
    {
     "name": "stderr",
     "output_type": "stream",
     "text": [
      "/usr/lib/python3/dist-packages/urllib3/connectionpool.py:1020: InsecureRequestWarning: Unverified HTTPS request is being made to host 'api.disgenet.com'. Adding certificate verification is strongly advised. See: https://urllib3.readthedocs.io/en/latest/advanced-usage.html#ssl-warnings\n",
      "  warnings.warn(\n"
     ]
    },
    {
     "name": "stdout",
     "output_type": "stream",
     "text": [
      "200\n"
     ]
    },
    {
     "name": "stderr",
     "output_type": "stream",
     "text": [
      "/usr/lib/python3/dist-packages/urllib3/connectionpool.py:1020: InsecureRequestWarning: Unverified HTTPS request is being made to host 'api.disgenet.com'. Adding certificate verification is strongly advised. See: https://urllib3.readthedocs.io/en/latest/advanced-usage.html#ssl-warnings\n",
      "  warnings.warn(\n"
     ]
    },
    {
     "name": "stdout",
     "output_type": "stream",
     "text": [
      "200\n"
     ]
    },
    {
     "name": "stderr",
     "output_type": "stream",
     "text": [
      "/usr/lib/python3/dist-packages/urllib3/connectionpool.py:1020: InsecureRequestWarning: Unverified HTTPS request is being made to host 'api.disgenet.com'. Adding certificate verification is strongly advised. See: https://urllib3.readthedocs.io/en/latest/advanced-usage.html#ssl-warnings\n",
      "  warnings.warn(\n"
     ]
    },
    {
     "name": "stdout",
     "output_type": "stream",
     "text": [
      "200\n"
     ]
    },
    {
     "name": "stderr",
     "output_type": "stream",
     "text": [
      "/usr/lib/python3/dist-packages/urllib3/connectionpool.py:1020: InsecureRequestWarning: Unverified HTTPS request is being made to host 'api.disgenet.com'. Adding certificate verification is strongly advised. See: https://urllib3.readthedocs.io/en/latest/advanced-usage.html#ssl-warnings\n",
      "  warnings.warn(\n"
     ]
    },
    {
     "name": "stdout",
     "output_type": "stream",
     "text": [
      "200\n"
     ]
    },
    {
     "name": "stderr",
     "output_type": "stream",
     "text": [
      "/usr/lib/python3/dist-packages/urllib3/connectionpool.py:1020: InsecureRequestWarning: Unverified HTTPS request is being made to host 'api.disgenet.com'. Adding certificate verification is strongly advised. See: https://urllib3.readthedocs.io/en/latest/advanced-usage.html#ssl-warnings\n",
      "  warnings.warn(\n"
     ]
    },
    {
     "name": "stdout",
     "output_type": "stream",
     "text": [
      "200\n"
     ]
    },
    {
     "name": "stderr",
     "output_type": "stream",
     "text": [
      "/usr/lib/python3/dist-packages/urllib3/connectionpool.py:1020: InsecureRequestWarning: Unverified HTTPS request is being made to host 'api.disgenet.com'. Adding certificate verification is strongly advised. See: https://urllib3.readthedocs.io/en/latest/advanced-usage.html#ssl-warnings\n",
      "  warnings.warn(\n"
     ]
    },
    {
     "name": "stdout",
     "output_type": "stream",
     "text": [
      "200\n"
     ]
    },
    {
     "name": "stderr",
     "output_type": "stream",
     "text": [
      "/usr/lib/python3/dist-packages/urllib3/connectionpool.py:1020: InsecureRequestWarning: Unverified HTTPS request is being made to host 'api.disgenet.com'. Adding certificate verification is strongly advised. See: https://urllib3.readthedocs.io/en/latest/advanced-usage.html#ssl-warnings\n",
      "  warnings.warn(\n"
     ]
    },
    {
     "name": "stdout",
     "output_type": "stream",
     "text": [
      "200\n"
     ]
    },
    {
     "name": "stderr",
     "output_type": "stream",
     "text": [
      "/usr/lib/python3/dist-packages/urllib3/connectionpool.py:1020: InsecureRequestWarning: Unverified HTTPS request is being made to host 'api.disgenet.com'. Adding certificate verification is strongly advised. See: https://urllib3.readthedocs.io/en/latest/advanced-usage.html#ssl-warnings\n",
      "  warnings.warn(\n"
     ]
    },
    {
     "name": "stdout",
     "output_type": "stream",
     "text": [
      "200\n"
     ]
    },
    {
     "name": "stderr",
     "output_type": "stream",
     "text": [
      "/usr/lib/python3/dist-packages/urllib3/connectionpool.py:1020: InsecureRequestWarning: Unverified HTTPS request is being made to host 'api.disgenet.com'. Adding certificate verification is strongly advised. See: https://urllib3.readthedocs.io/en/latest/advanced-usage.html#ssl-warnings\n",
      "  warnings.warn(\n"
     ]
    },
    {
     "name": "stdout",
     "output_type": "stream",
     "text": [
      "200\n"
     ]
    },
    {
     "name": "stderr",
     "output_type": "stream",
     "text": [
      "/usr/lib/python3/dist-packages/urllib3/connectionpool.py:1020: InsecureRequestWarning: Unverified HTTPS request is being made to host 'api.disgenet.com'. Adding certificate verification is strongly advised. See: https://urllib3.readthedocs.io/en/latest/advanced-usage.html#ssl-warnings\n",
      "  warnings.warn(\n"
     ]
    },
    {
     "name": "stdout",
     "output_type": "stream",
     "text": [
      "200\n"
     ]
    },
    {
     "name": "stderr",
     "output_type": "stream",
     "text": [
      "/usr/lib/python3/dist-packages/urllib3/connectionpool.py:1020: InsecureRequestWarning: Unverified HTTPS request is being made to host 'api.disgenet.com'. Adding certificate verification is strongly advised. See: https://urllib3.readthedocs.io/en/latest/advanced-usage.html#ssl-warnings\n",
      "  warnings.warn(\n"
     ]
    },
    {
     "name": "stdout",
     "output_type": "stream",
     "text": [
      "429\n"
     ]
    }
   ],
   "source": [
    "disgenet_df, disgenet_metadata = disgenet.get_gene_disease(\n",
    "    api_key=disgenet_api_key, bridgedb_df=bridgedb_df\n",
    ")\n",
    "disgenet_df.to_pickle(\n",
    "    os.path.join(os.getcwd(), \"examples\", \"usecases\", \"PCS\", \"datasources\", \"disgenet_df.pkl\")\n",
    ")\n",
    "with open(\n",
    "    os.path.join(\n",
    "        os.getcwd(), \"examples\", \"usecases\", \"PCS\", \"datasources\", \"disgenet_metadata.pkl\"\n",
    "    ),\n",
    "    \"wb\",\n",
    ") as file:\n",
    "    pickle.dump(disgenet_metadata, file)\n",
    "with open(\n",
    "    os.path.join(os.getcwd(), \"examples\", \"usecases\", \"PCS\", \"datasources\", \"disgenet_df.pkl\"), \"rb\"\n",
    ") as file:\n",
    "    disgenet_df = pickle.load(file)\n",
    "with open(\n",
    "    os.path.join(\n",
    "        os.getcwd(), \"examples\", \"usecases\", \"PCS\", \"datasources\", \"disgenet_metadata.pkl\"\n",
    "    ),\n",
    "    \"rb\",\n",
    ") as file:\n",
    "    disgenet_metadata = pickle.load(file)\n",
    "\n",
    "disgenet_df.head()"
   ]
  },
  {
   "cell_type": "code",
   "execution_count": 17,
   "metadata": {},
   "outputs": [
    {
     "ename": "KeyError",
     "evalue": "'DISGENET_diseases'",
     "output_type": "error",
     "traceback": [
      "\u001b[0;31m---------------------------------------------------------------------------\u001b[0m",
      "\u001b[0;31mKeyError\u001b[0m                                  Traceback (most recent call last)",
      "\u001b[0;32m/tmp/ipykernel_171726/1237049327.py\u001b[0m in \u001b[0;36m<module>\u001b[0;34m\u001b[0m\n\u001b[0;32m----> 1\u001b[0;31m \u001b[0mdisgenet_df\u001b[0m\u001b[0;34m[\u001b[0m\u001b[0mDISGENET_DISEASE_COL\u001b[0m\u001b[0;34m]\u001b[0m\u001b[0;34m[\u001b[0m\u001b[0;36m0\u001b[0m\u001b[0;34m]\u001b[0m\u001b[0;34m\u001b[0m\u001b[0;34m\u001b[0m\u001b[0m\n\u001b[0m",
      "\u001b[0;32m~/.local/lib/python3.10/site-packages/pandas/core/frame.py\u001b[0m in \u001b[0;36m__getitem__\u001b[0;34m(self, key)\u001b[0m\n\u001b[1;32m   3759\u001b[0m             \u001b[0;32mif\u001b[0m \u001b[0mself\u001b[0m\u001b[0;34m.\u001b[0m\u001b[0mcolumns\u001b[0m\u001b[0;34m.\u001b[0m\u001b[0mnlevels\u001b[0m \u001b[0;34m>\u001b[0m \u001b[0;36m1\u001b[0m\u001b[0;34m:\u001b[0m\u001b[0;34m\u001b[0m\u001b[0;34m\u001b[0m\u001b[0m\n\u001b[1;32m   3760\u001b[0m                 \u001b[0;32mreturn\u001b[0m \u001b[0mself\u001b[0m\u001b[0;34m.\u001b[0m\u001b[0m_getitem_multilevel\u001b[0m\u001b[0;34m(\u001b[0m\u001b[0mkey\u001b[0m\u001b[0;34m)\u001b[0m\u001b[0;34m\u001b[0m\u001b[0;34m\u001b[0m\u001b[0m\n\u001b[0;32m-> 3761\u001b[0;31m             \u001b[0mindexer\u001b[0m \u001b[0;34m=\u001b[0m \u001b[0mself\u001b[0m\u001b[0;34m.\u001b[0m\u001b[0mcolumns\u001b[0m\u001b[0;34m.\u001b[0m\u001b[0mget_loc\u001b[0m\u001b[0;34m(\u001b[0m\u001b[0mkey\u001b[0m\u001b[0;34m)\u001b[0m\u001b[0;34m\u001b[0m\u001b[0;34m\u001b[0m\u001b[0m\n\u001b[0m\u001b[1;32m   3762\u001b[0m             \u001b[0;32mif\u001b[0m \u001b[0mis_integer\u001b[0m\u001b[0;34m(\u001b[0m\u001b[0mindexer\u001b[0m\u001b[0;34m)\u001b[0m\u001b[0;34m:\u001b[0m\u001b[0;34m\u001b[0m\u001b[0;34m\u001b[0m\u001b[0m\n\u001b[1;32m   3763\u001b[0m                 \u001b[0mindexer\u001b[0m \u001b[0;34m=\u001b[0m \u001b[0;34m[\u001b[0m\u001b[0mindexer\u001b[0m\u001b[0;34m]\u001b[0m\u001b[0;34m\u001b[0m\u001b[0;34m\u001b[0m\u001b[0m\n",
      "\u001b[0;32m~/.local/lib/python3.10/site-packages/pandas/core/indexes/range.py\u001b[0m in \u001b[0;36mget_loc\u001b[0;34m(self, key)\u001b[0m\n\u001b[1;32m    347\u001b[0m                 \u001b[0;32mraise\u001b[0m \u001b[0mKeyError\u001b[0m\u001b[0;34m(\u001b[0m\u001b[0mkey\u001b[0m\u001b[0;34m)\u001b[0m \u001b[0;32mfrom\u001b[0m \u001b[0merr\u001b[0m\u001b[0;34m\u001b[0m\u001b[0;34m\u001b[0m\u001b[0m\n\u001b[1;32m    348\u001b[0m         \u001b[0;32mif\u001b[0m \u001b[0misinstance\u001b[0m\u001b[0;34m(\u001b[0m\u001b[0mkey\u001b[0m\u001b[0;34m,\u001b[0m \u001b[0mHashable\u001b[0m\u001b[0;34m)\u001b[0m\u001b[0;34m:\u001b[0m\u001b[0;34m\u001b[0m\u001b[0;34m\u001b[0m\u001b[0m\n\u001b[0;32m--> 349\u001b[0;31m             \u001b[0;32mraise\u001b[0m \u001b[0mKeyError\u001b[0m\u001b[0;34m(\u001b[0m\u001b[0mkey\u001b[0m\u001b[0;34m)\u001b[0m\u001b[0;34m\u001b[0m\u001b[0;34m\u001b[0m\u001b[0m\n\u001b[0m\u001b[1;32m    350\u001b[0m         \u001b[0mself\u001b[0m\u001b[0;34m.\u001b[0m\u001b[0m_check_indexing_error\u001b[0m\u001b[0;34m(\u001b[0m\u001b[0mkey\u001b[0m\u001b[0;34m)\u001b[0m\u001b[0;34m\u001b[0m\u001b[0;34m\u001b[0m\u001b[0m\n\u001b[1;32m    351\u001b[0m         \u001b[0;32mraise\u001b[0m \u001b[0mKeyError\u001b[0m\u001b[0;34m(\u001b[0m\u001b[0mkey\u001b[0m\u001b[0;34m)\u001b[0m\u001b[0;34m\u001b[0m\u001b[0;34m\u001b[0m\u001b[0m\n",
      "\u001b[0;31mKeyError\u001b[0m: 'DISGENET_diseases'"
     ]
    }
   ],
   "source": [
    "disgenet_df[DISGENET_DISEASE_COL][0]"
   ]
  },
  {
   "cell_type": "markdown",
   "metadata": {},
   "source": [
    "### Add literature-based data\n",
    "Genes found to be associated with Post-COVID-19"
   ]
  },
  {
   "cell_type": "code",
   "execution_count": null,
   "metadata": {},
   "outputs": [],
   "source": [
    "pcs_associated_genes = pd.read_excel(\n",
    "    os.path.join(os.getcwd(), \"examples\", \"usecases\", \"PCS\", \"pcs_associated_genes.xlsx\")\n",
    ")\n",
    "pcs_associated_genes.head()"
   ]
  },
  {
   "cell_type": "markdown",
   "metadata": {},
   "source": [
    "#### Define the literature based info"
   ]
  },
  {
   "cell_type": "code",
   "execution_count": null,
   "metadata": {},
   "outputs": [],
   "source": [
    "from pyBiodatafuse.constants import LITERATURE_DISEASE_COL, LITERATURE_DISEASE_OUTPUT_DICT\n",
    "\n",
    "literature_disease_attrs = LITERATURE_DISEASE_OUTPUT_DICT.copy()\n",
    "literature_disease_attrs[\"disease_name\"] = \"Post-COVID-19\"\n",
    "literature_disease_attrs[\"id\"] = \"C00000\"\n",
    "literature_disease_attrs[\"source\"] = \"PMID: 37675861\"\n",
    "\n",
    "\n",
    "def get_literature_based_info(gene):\n",
    "    if gene in pcs_associated_genes[\"Gene\"].values:\n",
    "        return [literature_disease_attrs]\n",
    "    else:\n",
    "        return [{\"disease_name\": np.nan, \"id\": np.nan, \"source\": np.nan}]\n",
    "\n",
    "\n",
    "disgenet_df[LITERATURE_DISEASE_COL] = disgenet_df[\"identifier\"].apply(get_literature_based_info)\n",
    "\n",
    "disgenet_df.head()"
   ]
  },
  {
   "cell_type": "code",
   "execution_count": null,
   "metadata": {},
   "outputs": [],
   "source": [
    "disgenet_df[disgenet_df[\"identifier\"] == \"DMP1\"][LITERATURE_DISEASE_COL]"
   ]
  },
  {
   "cell_type": "code",
   "execution_count": null,
   "metadata": {},
   "outputs": [],
   "source": [
    "print(pcs_associated_genes[\"Gene\"].isin(disgenet_df[\"identifier\"]).sum())"
   ]
  },
  {
   "cell_type": "markdown",
   "metadata": {},
   "source": [
    "### Disease to Compound annotation from OpenTargets"
   ]
  },
  {
   "cell_type": "markdown",
   "metadata": {},
   "source": [
    "##### Prepare the input to use DISGENET output as seed for OpenTargets\n"
   ]
  },
  {
   "cell_type": "code",
   "execution_count": null,
   "metadata": {},
   "outputs": [],
   "source": [
    "disease_mapping_df = create_harmonized_input_file(disgenet_df, DISGENET_DISEASE_COL, \"EFO\", \"UMLS\")\n",
    "disease_mapping_df.head()"
   ]
  },
  {
   "cell_type": "markdown",
   "metadata": {},
   "source": [
    "##### Disease to Compound annotation\n",
    "\n",
    "TODO: to run again."
   ]
  },
  {
   "cell_type": "code",
   "execution_count": null,
   "metadata": {},
   "outputs": [],
   "source": [
    "# (\n",
    "#     opentargets_disease_compound_df,\n",
    "#     opentargets_disease_compound_metadata,\n",
    "# ) = opentargets.get_disease_compound_interactions(disease_mapping_df)\n",
    "\n",
    "# opentargets_disease_compound_df.to_pickle(\n",
    "#     os.path.join(\n",
    "#         os.getcwd(),\n",
    "#         \"examples\",\n",
    "#         \"usecases\",\n",
    "#         \"PCS\",\n",
    "#         \"datasources\",\n",
    "#         \"opentargets_disease_compound_df.pkl\",\n",
    "#     )\n",
    "# )\n",
    "# with open(\n",
    "#     os.path.join(\n",
    "#         os.getcwd(),\n",
    "#         \"examples\",\n",
    "#         \"usecases\",\n",
    "#         \"PCS\",\n",
    "#         \"datasources\",\n",
    "#         \"opentargets_disease_compound_metadata.pkl\",\n",
    "#     ),\n",
    "#     \"wb\",\n",
    "# ) as file:\n",
    "#     pickle.dump(opentargets_disease_compound_metadata, file)\n",
    "\n",
    "with open(\n",
    "    os.path.join(\n",
    "        os.getcwd(),\n",
    "        \"examples\",\n",
    "        \"usecases\",\n",
    "        \"PCS\",\n",
    "        \"datasources\",\n",
    "        \"opentargets_disease_compound_df.pkl\",\n",
    "    ),\n",
    "    \"rb\",\n",
    ") as file:\n",
    "    opentargets_disease_compound_df = pickle.load(file)\n",
    "with open(\n",
    "    os.path.join(\n",
    "        os.getcwd(),\n",
    "        \"examples\",\n",
    "        \"usecases\",\n",
    "        \"PCS\",\n",
    "        \"datasources\",\n",
    "        \"opentargets_disease_compound_metadata.pkl\",\n",
    "    ),\n",
    "    \"rb\",\n",
    ") as file:\n",
    "    opentargets_disease_compound_metadata = pickle.load(file)\n",
    "opentargets_disease_compound_df.head()"
   ]
  },
  {
   "cell_type": "code",
   "execution_count": null,
   "metadata": {},
   "outputs": [],
   "source": [
    "opentargets_disease_compound_df[OPENTARGETS_DISEASE_COMPOUND_COL][0]"
   ]
  },
  {
   "cell_type": "markdown",
   "metadata": {},
   "source": [
    "### Gene to Compound annotation from OpenTarget"
   ]
  },
  {
   "cell_type": "code",
   "execution_count": null,
   "metadata": {},
   "outputs": [],
   "source": [
    "# opentargets_compound_df, opentargets_compound_metadata = opentargets.get_gene_compound_interactions(\n",
    "#     bridgedb_df=bridgedb_df\n",
    "# )\n",
    "\n",
    "# opentargets_compound_df.to_pickle(os.path.join(os.getcwd(), \"examples\", \"usecases\", \"PCS\", \"datasources\", \"opentargets_compound_df.pkl\"))\n",
    "# with open(os.path.join(os.getcwd(), \"examples\", \"usecases\", \"PCS\", \"datasources\", \"opentargets_compound_metadata.pkl\"), \"wb\") as file:\n",
    "#     pickle.dump(opentargets_compound_metadata, file)\n",
    "\n",
    "with open(\n",
    "    os.path.join(\n",
    "        os.getcwd(), \"examples\", \"usecases\", \"PCS\", \"datasources\", \"opentargets_compound_df.pkl\"\n",
    "    ),\n",
    "    \"rb\",\n",
    ") as file:\n",
    "    opentargets_compound_df = pickle.load(file)\n",
    "with open(\n",
    "    os.path.join(\n",
    "        os.getcwd(),\n",
    "        \"examples\",\n",
    "        \"usecases\",\n",
    "        \"PCS\",\n",
    "        \"datasources\",\n",
    "        \"opentargets_compound_metadata.pkl\",\n",
    "    ),\n",
    "    \"rb\",\n",
    ") as file:\n",
    "    opentargets_compound_metadata = pickle.load(file)\n",
    "\n",
    "opentargets_compound_df.head()"
   ]
  },
  {
   "cell_type": "code",
   "execution_count": null,
   "metadata": {},
   "outputs": [],
   "source": [
    "opentargets_compound_df[OPENTARGETS_GENE_COMPOUND_COL][3]"
   ]
  },
  {
   "cell_type": "markdown",
   "metadata": {},
   "source": [
    "### Gene to Pathway annotation from MINERVA"
   ]
  },
  {
   "cell_type": "code",
   "execution_count": null,
   "metadata": {},
   "outputs": [],
   "source": [
    "# minerva_df, minerva_metadata = minerva.get_gene_minerva_pathways(\n",
    "#     bridgedb_df, map_name=\"COVID19 Disease Map\"\n",
    "# )\n",
    "# minerva_df.to_pickle(os.path.join(os.getcwd(), \"examples\", \"usecases\", \"PCS\", \"datasources\", \"minerva_df.pkl\"))\n",
    "# with open(\n",
    "#     os.path.join(os.getcwd(), \"examples\", \"usecases\", \"PCS\", \"datasources\", \"minerva_metadata.pkl\"), \"wb\"\n",
    "# ) as file:\n",
    "#     pickle.dump(minerva_metadata, file)\n",
    "\n",
    "with open(\n",
    "    os.path.join(os.getcwd(), \"examples\", \"usecases\", \"PCS\", \"datasources\", \"minerva_df.pkl\"), \"rb\"\n",
    ") as file:\n",
    "    minerva_df = pickle.load(file)\n",
    "with open(\n",
    "    os.path.join(os.getcwd(), \"examples\", \"usecases\", \"PCS\", \"datasources\", \"minerva_metadata.pkl\"),\n",
    "    \"rb\",\n",
    ") as file:\n",
    "    minerva_metadata = pickle.load(file)\n",
    "minerva_df.head()"
   ]
  },
  {
   "cell_type": "code",
   "execution_count": null,
   "metadata": {},
   "outputs": [],
   "source": [
    "minerva_df[MINERVA][33]"
   ]
  },
  {
   "cell_type": "markdown",
   "metadata": {},
   "source": [
    "### Gene to Pathway annotation from WikiPathways"
   ]
  },
  {
   "cell_type": "code",
   "execution_count": null,
   "metadata": {},
   "outputs": [],
   "source": [
    "# wikipathways_df, wikipathways_metadata = wikipathways.get_gene_wikipathways(bridgedb_df=bridgedb_df)\n",
    "# wikipathways_df.to_pickle(\n",
    "#     os.path.join(os.getcwd(), \"examples\", \"usecases\", \"PCS\", \"datasources\", \"wikipathways_df.pkl\")\n",
    "# )\n",
    "# with open(\n",
    "#     os.path.join(os.getcwd(), \"examples\", \"usecases\", \"PCS\", \"datasources\", \"wikipathways_metadata.pkl\"), \"wb\"\n",
    "# ) as file:\n",
    "#     pickle.dump(wikipathways_metadata, file)\n",
    "\n",
    "with open(\n",
    "    os.path.join(os.getcwd(), \"examples\", \"usecases\", \"PCS\", \"datasources\", \"wikipathways_df.pkl\"),\n",
    "    \"rb\",\n",
    ") as file:\n",
    "    wikipathways_df = pickle.load(file)\n",
    "with open(\n",
    "    os.path.join(\n",
    "        os.getcwd(), \"examples\", \"usecases\", \"PCS\", \"datasources\", \"wikipathways_metadata.pkl\"\n",
    "    ),\n",
    "    \"rb\",\n",
    ") as file:\n",
    "    wikipathways_metadata = pickle.load(file)\n",
    "wikipathways_df.head()"
   ]
  },
  {
   "cell_type": "code",
   "execution_count": null,
   "metadata": {},
   "outputs": [],
   "source": [
    "wikipathways_df[WIKIPATHWAYS][3]"
   ]
  },
  {
   "cell_type": "markdown",
   "metadata": {},
   "source": [
    "### Gene to Reactome Pathway from OpenTargets"
   ]
  },
  {
   "cell_type": "code",
   "execution_count": null,
   "metadata": {},
   "outputs": [],
   "source": [
    "# opentargets_reactome_df, opentargets_reactome_metadata = opentargets.get_gene_reactome_pathways(\n",
    "#     bridgedb_df=bridgedb_df\n",
    "# )\n",
    "# opentargets_reactome_df.to_pickle(os.path.join(os.getcwd(), \"examples\", \"usecases\", \"PCS\", \"datasources\", \"opentargets_reactome_df.pkl\"))\n",
    "# with open(os.path.join(os.getcwd(), \"examples\", \"usecases\", \"PCS\", \"datasources\", \"opentargets_reactome_metadata.pkl\"), \"wb\") as file:\n",
    "#     pickle.dump(opentargets_reactome_metadata, file)\n",
    "\n",
    "with open(\n",
    "    os.path.join(\n",
    "        os.getcwd(), \"examples\", \"usecases\", \"PCS\", \"datasources\", \"opentargets_reactome_df.pkl\"\n",
    "    ),\n",
    "    \"rb\",\n",
    ") as file:\n",
    "    opentargets_reactome_df = pickle.load(file)\n",
    "with open(\n",
    "    os.path.join(\n",
    "        os.getcwd(),\n",
    "        \"examples\",\n",
    "        \"usecases\",\n",
    "        \"PCS\",\n",
    "        \"datasources\",\n",
    "        \"opentargets_reactome_metadata.pkl\",\n",
    "    ),\n",
    "    \"rb\",\n",
    ") as file:\n",
    "    opentargets_reactome_metadata = pickle.load(file)\n",
    "\n",
    "opentargets_reactome_df.head()"
   ]
  },
  {
   "cell_type": "code",
   "execution_count": null,
   "metadata": {},
   "outputs": [],
   "source": [
    "opentargets_reactome_df[OPENTARGETS_REACTOME_COL][2]"
   ]
  },
  {
   "cell_type": "markdown",
   "metadata": {},
   "source": [
    "### Gene Ontology annotation from OpenTargets"
   ]
  },
  {
   "cell_type": "code",
   "execution_count": null,
   "metadata": {},
   "outputs": [],
   "source": [
    "# opentargets_go_df, opentargets_go_metadata = opentargets.get_gene_go_process(bridgedb_df=bridgedb_df)\n",
    "# opentargets_go_df.to_pickle(os.path.join(os.getcwd(), \"examples\", \"usecases\", \"PCS\", \"datasources\", \"opentargets_go_df.pkl\"))\n",
    "# with open(os.path.join(os.getcwd(), \"examples\", \"usecases\", \"PCS\", \"datasources\", \"opentargets_go_metadata.pkl\"), \"wb\") as file:\n",
    "#     pickle.dump(opentargets_go_metadata, file)\n",
    "\n",
    "with open(\n",
    "    os.path.join(\n",
    "        os.getcwd(), \"examples\", \"usecases\", \"PCS\", \"datasources\", \"opentargets_go_df.pkl\"\n",
    "    ),\n",
    "    \"rb\",\n",
    ") as file:\n",
    "    opentargets_go_df = pickle.load(file)\n",
    "with open(\n",
    "    os.path.join(\n",
    "        os.getcwd(), \"examples\", \"usecases\", \"PCS\", \"datasources\", \"opentargets_go_metadata.pkl\"\n",
    "    ),\n",
    "    \"rb\",\n",
    ") as file:\n",
    "    opentargets_go_metadata = pickle.load(file)\n",
    "opentargets_go_df.head()"
   ]
  },
  {
   "cell_type": "code",
   "execution_count": null,
   "metadata": {},
   "outputs": [],
   "source": [
    "opentargets_go_df[OPENTARGETS_GO_COL][0]"
   ]
  },
  {
   "cell_type": "markdown",
   "metadata": {},
   "source": [
    "### Protein-Protein interaction from STRING"
   ]
  },
  {
   "cell_type": "code",
   "execution_count": null,
   "metadata": {},
   "outputs": [],
   "source": [
    "# string_ppi_df, string_ppi_metadata = stringdb.get_ppi(bridgedb_df=bridgedb_df)\n",
    "# string_ppi_df.to_pickle(os.path.join(os.getcwd(), \"examples\", \"usecases\", \"PCS\", \"datasources\", \"string_ppi_df.pkl\"))\n",
    "# with open(os.path.join(os.getcwd(), \"examples\", \"usecases\", \"PCS\", \"datasources\", \"string_ppi_metadata.pkl\"), \"wb\") as file:\n",
    "#     pickle.dump(string_ppi_metadata, file)\n",
    "\n",
    "with open(\n",
    "    os.path.join(os.getcwd(), \"examples\", \"usecases\", \"PCS\", \"datasources\", \"string_ppi_df.pkl\"),\n",
    "    \"rb\",\n",
    ") as file:\n",
    "    string_ppi_df = pickle.load(file)\n",
    "with open(\n",
    "    os.path.join(\n",
    "        os.getcwd(), \"examples\", \"usecases\", \"PCS\", \"datasources\", \"string_ppi_metadata.pkl\"\n",
    "    ),\n",
    "    \"rb\",\n",
    ") as file:\n",
    "    string_ppi_metadata = pickle.load(file)\n",
    "string_ppi_df.head()"
   ]
  },
  {
   "cell_type": "code",
   "execution_count": null,
   "metadata": {},
   "outputs": [],
   "source": [
    "string_ppi_df[STRING_PPI_COL][0]"
   ]
  },
  {
   "cell_type": "markdown",
   "metadata": {},
   "source": [
    "### Combing all the results into single dataframe"
   ]
  },
  {
   "cell_type": "code",
   "execution_count": 27,
   "metadata": {},
   "outputs": [],
   "source": [
    "combined_df = combine_sources(\n",
    "    bridgedb_df,\n",
    "    [\n",
    "        disgenet_df,\n",
    "        opentargets_compound_df,\n",
    "        minerva_df,\n",
    "        wikipathways_df,\n",
    "        opentargets_reactome_df,\n",
    "        opentargets_go_df,\n",
    "        string_ppi_df,\n",
    "    ],\n",
    ")\n",
    "combined_metadata = create_or_append_to_metadata(\n",
    "    bridgedb_metadata,\n",
    "    [\n",
    "        disgenet_metadata,\n",
    "        opentargets_disease_compound_metadata,\n",
    "        opentargets_compound_metadata,\n",
    "        minerva_metadata,\n",
    "        wikipathways_metadata,\n",
    "        opentargets_reactome_metadata,\n",
    "        opentargets_go_metadata,\n",
    "        string_ppi_metadata,\n",
    "    ],\n",
    ")"
   ]
  },
  {
   "cell_type": "code",
   "execution_count": null,
   "metadata": {},
   "outputs": [],
   "source": [
    "combined_df.head(4)"
   ]
  },
  {
   "cell_type": "code",
   "execution_count": null,
   "metadata": {},
   "outputs": [],
   "source": [
    "combined_df[LITERATURE_DISEASE_COL][0]"
   ]
  },
  {
   "cell_type": "code",
   "execution_count": null,
   "metadata": {},
   "outputs": [],
   "source": [
    "combined_metadata"
   ]
  },
  {
   "cell_type": "code",
   "execution_count": null,
   "metadata": {},
   "outputs": [],
   "source": [
    "combined_df.shape"
   ]
  },
  {
   "cell_type": "code",
   "execution_count": null,
   "metadata": {},
   "outputs": [],
   "source": [
    "combined_df.tail()"
   ]
  },
  {
   "cell_type": "markdown",
   "metadata": {},
   "source": [
    "##### Exporting the combined data in pickle format"
   ]
  },
  {
   "cell_type": "code",
   "execution_count": 33,
   "metadata": {},
   "outputs": [],
   "source": [
    "# with open(os.path.join(os.getcwd(), \"examples\", \"usecases\", \"PCS\", \"combined_df.pkl\"), \"wb\") as out:\n",
    "#     pickle.dump(combined_df, out)\n",
    "# with open(\n",
    "#     os.path.join(os.getcwd(), \"examples\", \"usecases\", \"PCS\", \"combined_metadata.pkl\"), \"wb\"\n",
    "# ) as file:\n",
    "#     pickle.dump(combined_metadata, file)"
   ]
  },
  {
   "cell_type": "markdown",
   "metadata": {},
   "source": [
    "### Creating a graph from the annotated data"
   ]
  },
  {
   "cell_type": "code",
   "execution_count": 34,
   "metadata": {},
   "outputs": [],
   "source": [
    "pygraph = generator.networkx_graph(combined_df, opentargets_disease_compound_df)\n",
    "with open(\n",
    "    os.path.join(os.getcwd(), \"examples\", \"usecases\", \"PCS\", \"pcs_networkx_graph.pkl\"), \"wb\"\n",
    ") as out:\n",
    "    pickle.dump(pygraph, out)\n",
    "\n",
    "# with open(\n",
    "#     os.path.join(os.getcwd(), \"examples\", \"usecases\", \"PCS\", \"pcs_networkx_graph.pkl\"),\n",
    "#     \"rb\",\n",
    "# ) as file:\n",
    "#     pygraph = pickle.load(file)"
   ]
  },
  {
   "cell_type": "markdown",
   "metadata": {},
   "source": [
    "### Visualize the graph"
   ]
  },
  {
   "cell_type": "code",
   "execution_count": 30,
   "metadata": {},
   "outputs": [],
   "source": [
    "# pos = nx.circular_layout(pygraph)\n",
    "\n",
    "# plt.figure(3, figsize=(30, 30))\n",
    "# nx.draw(pygraph, pos)\n",
    "# plt.show()"
   ]
  },
  {
   "cell_type": "markdown",
   "metadata": {},
   "source": [
    "#### Cytosacpe"
   ]
  },
  {
   "cell_type": "code",
   "execution_count": null,
   "metadata": {},
   "outputs": [],
   "source": [
    "from pyBiodatafuse.graph import cytoscape\n",
    "\n",
    "cytoscape.load_graph(pygraph, network_name=\"PCS network\")"
   ]
  },
  {
   "cell_type": "markdown",
   "metadata": {},
   "source": [
    "#### Neo4j"
   ]
  },
  {
   "cell_type": "code",
   "execution_count": 35,
   "metadata": {},
   "outputs": [],
   "source": [
    "from pyBiodatafuse.graph import neo4j\n",
    "\n",
    "neo4j.save_graph_to_graphml(\n",
    "    pygraph,\n",
    "    output_path=os.path.join(\n",
    "        os.getcwd(), \"examples\", \"usecases\", \"PCS\", \"pcs_networkx_graph.graphml\"\n",
    "    ),\n",
    ")"
   ]
  },
  {
   "cell_type": "markdown",
   "metadata": {},
   "source": [
    "#### RDF"
   ]
  },
  {
   "cell_type": "code",
   "execution_count": null,
   "metadata": {},
   "outputs": [],
   "source": [
    "from pyBiodatafuse.graph import rdf\n",
    "\n",
    "g = rdf.generate_rdf(\n",
    "    df=combined_df,\n",
    "    base_uri=\"https://biodatafuse.org/example/\",\n",
    "    version_iri=\"https://biodatafuse.org/usecases/PCS/PCS_usecase.owl\",\n",
    "    orcid=\"https://orcid.org/0000-0002-4166-7093\",\n",
    "    author=\"Javier Millan Acosta\",\n",
    "    metadata=combined_metadata,\n",
    ")\n",
    "\n",
    "output_path = os.path.join(os.getcwd(), \"examples\", \"usecases\", \"PCS\", \"pcs.rdf\")\n",
    "g.serialize(format=\"turtle\", destination=output_path)"
   ]
  },
  {
   "cell_type": "markdown",
   "metadata": {},
   "source": [
    "##### Steps to load the graph in Neo4j"
   ]
  },
  {
   "cell_type": "markdown",
   "metadata": {},
   "source": [
    "- Add `.graphml` file in **import** subfolder of the DBMS folder\n",
    "- Install apoc plugin\n",
    "- Create `apoc.conf` file:\n",
    "    ```\n",
    "    apoc.trigger.enabled=true\n",
    "    apoc.import.file.enabled=true\n",
    "    apoc.export.file.enabled=true\n",
    "    apoc.import.file.use_neo4j_config=true\n",
    "    ```\n",
    "- Add `apoc.conf` file to **conf** subfolder of the DBMS folder\n",
    "- Open Neo4j Browser\n",
    "- (Optionl, only run if you have imported a graph before) Remove all the nodes before importing `.graphml` file\n",
    "\n",
    "    ```\n",
    "    MATCH (n) DETACH DELETE n\n",
    "    ```\n",
    "\n",
    "- Import `.graphml` file\n",
    "\n",
    "    ```\n",
    "    call apoc.import.graphml('file:///pcs_networkx_graph.graphml',{readLabels:TRUE})\n",
    "    ```\n",
    "\n",
    "- Add indexes after importing the graph for improving the performance of queries\n",
    "\n",
    "    ```\n",
    "    create index Gene for (n:Gene) on (n.node_type)\n",
    "    create index Pathway for (n:Pathway) on (n.node_type)\n",
    "    create index `Biological Process` for (n:`Biological Process`) on (n.node_type)\n",
    "    create index `Molecular Function` for (n:`Molecular Function`) on (n.node_type)\n",
    "    create index `Cellular Component` for (n:`Cellular Component`) on (n.node_type)\n",
    "    create index Disease for (n:Disease) on (n.node_type)\n",
    "    create index Compound for (n:Compound) on (n.node_type)\n",
    "    create index `Side Effect` for (n:`Side Effect`) on (n.node_type)\n",
    "    ```\n",
    "\n",
    "- Count the number of each node type\n",
    "    - total (```MATCH (n) RETURN count(n)```) = 19860\n",
    "        - Gene (```MATCH (n:Gene) RETURN count(n)```) = 1667\n",
    "        - Pathway (```MATCH (n:Pathway) RETURN count(n)```) = 1847\n",
    "            - WikiPathways (```MATCH (n:Pathway {source: \"WikiPathways\"}) RETURN count(n)```) = 678\n",
    "            - OpenTargets, Reactome (```MATCH (n:Pathway {source: \"OpenTargets\"}) RETURN count(n)```) = 1154\n",
    "            - MINERVA (```MATCH (n:Pathway {source: \"MINERVA\"}) RETURN count(n)```) = 15\n",
    "        - Biological Process (```MATCH (n:`Biological Process`) RETURN count(n)```) = 4624\n",
    "        - Molecular Function (```MATCH (n:`Molecular Function`) RETURN count(n)```) = 1327\n",
    "        - Cellular Component (```MATCH (n:`Cellular Component`) RETURN count(n)```) = 736\n",
    "        - Disease (```MATCH (n:Disease) RETURN count(n)```) = 2914\n",
    "            - DISGENET (```MATCH (n:Disease {source: \"DISGENET\"}) RETURN count(n)```) = 2913\n",
    "            - Literature (```MATCH (n:Disease {source: \"PMID: 37675861\"}) RETURN count(n)```) = 1\n",
    "        - Compound (```MATCH (n:Compound) RETURN count(n)```) = 2244\n",
    "        - Side Effect (```MATCH (n:`Side Effect`) RETURN count(n)```) = 4501\n",
    "- Count the number of each edge type\n",
    "    - total (```MATCH ()-[r]->() RETURN count(r)```) = 101659\n",
    "        - interacts_with (```MATCH ()-[r:interacts_with]->() RETURN count(r)```) = 16844\n",
    "        - part_of (```MATCH ()-[r:part_of]->() RETURN count(r)```) = 30066 \n",
    "            - WikiPathways (```MATCH ()-[r:part_of {source: \"WikiPathways\"}]->() RETURN count(r)```) = 3174\n",
    "            - OpenTargets, Reactome (```MATCH ()-[r:part_of {source: \"OpenTargets\"}]->() RETURN count(r)```) = 26784\n",
    "            - MINERVA (```MATCH ()-[r:part_of {source: \"MINERVA\"}]->() RETURN count(r)```) = 108\n",
    "        - activates (```MATCH ()-[r:activates]->() RETURN count(r)```) = 499\n",
    "        - treats (```MATCH ()-[r:treats]->() RETURN count(r)```) = 8215\n",
    "        - has_side_effect (```MATCH ()-[r:has_side_effect]->() RETURN count(r)```) = 38328\n",
    "        - inhibits (```MATCH ()-[r:inhibits]->() RETURN count(r)```) = 71\n",
    "        - associated_with (```MATCH ()-[r:associated_with]->() RETURN count(r)```) = 7636\n",
    "            - Literature (```MATCH ()-[r:associated_with {source: \"DISGENET\"}]->() RETURN count(r)```) = 7607\n",
    "            - DISGENET (```MATCH ()-[r:associated_with{source: \"PMID: 37675861\"}]->() RETURN count(r)```) = 29\n",
    "\n",
    "- Export the graph as a `.csv` file\n",
    "\n",
    "    ```call apoc.export.csv.all(\"pcs_networkx_graph.csv\",{})```"
   ]
  },
  {
   "cell_type": "markdown",
   "metadata": {},
   "source": [
    "### Dreamwalk algoritm"
   ]
  },
  {
   "cell_type": "code",
   "execution_count": null,
   "metadata": {},
   "outputs": [],
   "source": [
    "import os\n",
    "\n",
    "new_path = os.path.join(os.getcwd(), \"DREAMwalk\")\n",
    "\n",
    "\n",
    "os.chdir(new_path)\n",
    "\n",
    "# Set the current working directory\n",
    "current_dir = os.getcwd()\n",
    "current_dir"
   ]
  },
  {
   "cell_type": "code",
   "execution_count": null,
   "metadata": {},
   "outputs": [],
   "source": [
    "import DREAMwalk.generate_dis_sim as dis_gen\n",
    "import DREAMwalk.generate_files as gen\n",
    "import pandas as pd\n",
    "from DREAMwalk.calculate_drug_scores import find_candidates\n",
    "from DREAMwalk.generate_embeddings import save_embedding_files\n",
    "from DREAMwalk.generate_similarity_net import save_sim_graph\n",
    "from DREAMwalk.predict_associations import predict_dda"
   ]
  },
  {
   "cell_type": "code",
   "execution_count": null,
   "metadata": {},
   "outputs": [],
   "source": [
    "# GENERSTE FILES\n",
    "kg_data = pd.read_csv(\"../pcs_networkx_graph.csv\")\n",
    "kg_data.head()"
   ]
  },
  {
   "cell_type": "code",
   "execution_count": null,
   "metadata": {},
   "outputs": [],
   "source": [
    "kg_data.columns"
   ]
  },
  {
   "cell_type": "code",
   "execution_count": null,
   "metadata": {},
   "outputs": [],
   "source": [
    "gen.generate_files(kg_data)"
   ]
  },
  {
   "cell_type": "code",
   "execution_count": null,
   "metadata": {},
   "outputs": [],
   "source": [
    "dis_gen.save_dis_sim(\"../pcs_networkx_graph.csv\", \"dis_sim.tsv\")"
   ]
  }
 ],
 "metadata": {
  "kernelspec": {
   "display_name": "Python 3",
   "language": "python",
   "name": "python3"
  },
  "language_info": {
   "codemirror_mode": {
    "name": "ipython",
    "version": 3
   },
   "file_extension": ".py",
   "mimetype": "text/x-python",
   "name": "python",
   "nbconvert_exporter": "python",
   "pygments_lexer": "ipython3",
   "version": "3.10.12"
  }
 },
 "nbformat": 4,
 "nbformat_minor": 4
}
