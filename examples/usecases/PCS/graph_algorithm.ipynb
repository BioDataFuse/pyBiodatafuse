{
 "cells": [
  {
   "cell_type": "markdown",
   "metadata": {
    "vscode": {
     "languageId": "html"
    }
   },
   "source": [
    "# Running the DREAMWalk algorithm"
   ]
  },
  {
   "cell_type": "code",
   "execution_count": null,
   "metadata": {},
   "outputs": [],
   "source": [
    "import os\n",
    "\n",
    "new_path = os.path.join(os.getcwd(), \"DREAMwalk\")\n",
    "\n",
    "\n",
    "os.chdir(new_path)\n",
    "\n",
    "# Set the current working directory\n",
    "current_dir = os.getcwd()\n",
    "current_dir"
   ]
  },
  {
   "cell_type": "code",
   "execution_count": null,
   "metadata": {},
   "outputs": [],
   "source": [
    "import DREAMwalk.generate_dis_sim as dis_gen\n",
    "import DREAMwalk.generate_files as gen\n",
    "import pandas as pd\n",
    "from DREAMwalk.calculate_drug_scores import find_candidates\n",
    "from DREAMwalk.generate_embeddings import save_embedding_files\n",
    "from DREAMwalk.generate_similarity_net import save_sim_graph\n",
    "from DREAMwalk.predict_associations import predict_dda"
   ]
  },
  {
   "cell_type": "code",
   "execution_count": null,
   "metadata": {},
   "outputs": [],
   "source": [
    "# GENERSTE FILES\n",
    "kg_data = pd.read_csv(\"../pcs_networkx_graph.csv\")\n",
    "kg_data.head()"
   ]
  },
  {
   "cell_type": "code",
   "execution_count": null,
   "metadata": {},
   "outputs": [],
   "source": [
    "gen.generate_files(kg_data)"
   ]
  },
  {
   "cell_type": "code",
   "execution_count": null,
   "metadata": {},
   "outputs": [],
   "source": [
    "dis_gen.save_dis_sim(\"../pcs_networkx_graph.csv\", \"dis_sim.tsv\")"
   ]
  }
 ],
 "metadata": {
  "kernelspec": {
   "display_name": "pybiodatafuse",
   "language": "python",
   "name": "pybiodatafuse"
  },
  "language_info": {
   "codemirror_mode": {
    "name": "ipython",
    "version": 3
   },
   "file_extension": ".py",
   "mimetype": "text/x-python",
   "name": "python",
   "nbconvert_exporter": "python",
   "pygments_lexer": "ipython3",
   "version": "3.9.17"
  }
 },
 "nbformat": 4,
 "nbformat_minor": 2
}
