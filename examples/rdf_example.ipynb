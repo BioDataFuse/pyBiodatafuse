{
 "cells": [
  {
   "cell_type": "markdown",
   "metadata": {},
   "source": [
    "# Example: RDF workflow\n",
    "\n",
    "This notebook demonstrates the usage of the [rdf.py](../src/pyBiodatafuse/graph/rdf.py) module."
   ]
  },
  {
   "cell_type": "code",
   "execution_count": 1,
   "metadata": {},
   "outputs": [
    {
     "name": "stderr",
     "output_type": "stream",
     "text": [
      "/usr/lib/python3/dist-packages/requests/__init__.py:87: RequestsDependencyWarning: urllib3 (1.26.5) or chardet (5.2.0) doesn't match a supported version!\n",
      "  warnings.warn(\"urllib3 ({}) or chardet ({}) doesn't match a supported \"\n",
      "/home/javi/.local/lib/python3.10/site-packages/tqdm/auto.py:21: TqdmWarning: IProgress not found. Please update jupyter and ipywidgets. See https://ipywidgets.readthedocs.io/en/stable/user_install.html\n",
      "  from .autonotebook import tqdm as notebook_tqdm\n"
     ]
    }
   ],
   "source": [
    "import os\n",
    "os.chdir(os.path.abspath(os.path.join(os.getcwd(), \"..\", \"src\")))\n",
    "import pandas as pd\n",
    "from pyBiodatafuse.graph import rdf\n"
   ]
  },
  {
   "cell_type": "markdown",
   "metadata": {},
   "source": [
    "### Load the sample property table"
   ]
  },
  {
   "cell_type": "code",
   "execution_count": 2,
   "metadata": {},
   "outputs": [
    {
     "data": {
      "text/html": [
       "<div>\n",
       "<style scoped>\n",
       "    .dataframe tbody tr th:only-of-type {\n",
       "        vertical-align: middle;\n",
       "    }\n",
       "\n",
       "    .dataframe tbody tr th {\n",
       "        vertical-align: top;\n",
       "    }\n",
       "\n",
       "    .dataframe thead th {\n",
       "        text-align: right;\n",
       "    }\n",
       "</style>\n",
       "<table border=\"1\" class=\"dataframe\">\n",
       "  <thead>\n",
       "    <tr style=\"text-align: right;\">\n",
       "      <th></th>\n",
       "      <th>identifier</th>\n",
       "      <th>identifier.source</th>\n",
       "      <th>target</th>\n",
       "      <th>target.source</th>\n",
       "      <th>DISGENET_diseases</th>\n",
       "      <th>literature_based_info</th>\n",
       "      <th>OpenTargets_gene_compounds</th>\n",
       "      <th>MINERVA</th>\n",
       "      <th>WikiPathways</th>\n",
       "      <th>OpenTargets_reactome</th>\n",
       "      <th>OpenTargets_go</th>\n",
       "      <th>StringDB_ppi</th>\n",
       "    </tr>\n",
       "  </thead>\n",
       "  <tbody>\n",
       "    <tr>\n",
       "      <th>0</th>\n",
       "      <td>DMP1</td>\n",
       "      <td>HGNC</td>\n",
       "      <td>ENSG00000152592</td>\n",
       "      <td>Ensembl</td>\n",
       "      <td>[{'disease_name': 'Hypophosphatemic Rickets', ...</td>\n",
       "      <td>[{'disease_name': 'Post-COVID-19', 'id': 'C000...</td>\n",
       "      <td>[{'chembl_id': nan, 'drugbank_id': nan, 'compo...</td>\n",
       "      <td>[{'pathway_id': nan, 'pathway_label': nan, 'pa...</td>\n",
       "      <td>[{'pathway_id': 'WP3971', 'pathway_label': 'OS...</td>\n",
       "      <td>[{'pathway_label': 'ECM proteoglycans', 'pathw...</td>\n",
       "      <td>[{'go_id': 'GO:0005788', 'go_name': 'endoplasm...</td>\n",
       "      <td>[{'stringdb_link_to': 'TNFRSF11B', 'Ensembl': ...</td>\n",
       "    </tr>\n",
       "    <tr>\n",
       "      <th>1</th>\n",
       "      <td>PNLIP</td>\n",
       "      <td>HGNC</td>\n",
       "      <td>ENSG00000175535</td>\n",
       "      <td>Ensembl</td>\n",
       "      <td>[{'disease_name': 'Pancreatic Lipase Deficienc...</td>\n",
       "      <td>[{'disease_name': nan, 'id': nan, 'source': nan}]</td>\n",
       "      <td>[{'chembl_id': 'CHEMBL175247', 'drugbank_id': ...</td>\n",
       "      <td>[{'pathway_id': nan, 'pathway_label': nan, 'pa...</td>\n",
       "      <td>[{'pathway_id': nan, 'pathway_label': nan, 'pa...</td>\n",
       "      <td>[{'pathway_label': 'Retinoid metabolism and tr...</td>\n",
       "      <td>[{'go_id': 'GO:0004806', 'go_name': 'triglycer...</td>\n",
       "      <td>[{'stringdb_link_to': 'LIPE', 'Ensembl': 'ENSP...</td>\n",
       "    </tr>\n",
       "    <tr>\n",
       "      <th>2</th>\n",
       "      <td>OR4N3P</td>\n",
       "      <td>HGNC</td>\n",
       "      <td>ENSG00000259435</td>\n",
       "      <td>Ensembl</td>\n",
       "      <td>[{'disease_name': nan, 'HPO': nan, 'NCI': nan,...</td>\n",
       "      <td>[{'disease_name': nan, 'id': nan, 'source': nan}]</td>\n",
       "      <td>[{'chembl_id': nan, 'drugbank_id': nan, 'compo...</td>\n",
       "      <td>[{'pathway_id': nan, 'pathway_label': nan, 'pa...</td>\n",
       "      <td>[{'pathway_id': nan, 'pathway_label': nan, 'pa...</td>\n",
       "      <td>[{'pathway_label': nan, 'pathway_id': nan}]</td>\n",
       "      <td>[{'go_id': nan, 'go_name': nan, 'go_type': nan}]</td>\n",
       "      <td>[{'stringdb_link_to': nan, 'Ensembl': nan, 'sc...</td>\n",
       "    </tr>\n",
       "  </tbody>\n",
       "</table>\n",
       "</div>"
      ],
      "text/plain": [
       "  identifier identifier.source           target target.source  \\\n",
       "0       DMP1              HGNC  ENSG00000152592       Ensembl   \n",
       "1      PNLIP              HGNC  ENSG00000175535       Ensembl   \n",
       "2     OR4N3P              HGNC  ENSG00000259435       Ensembl   \n",
       "\n",
       "                                   DISGENET_diseases  \\\n",
       "0  [{'disease_name': 'Hypophosphatemic Rickets', ...   \n",
       "1  [{'disease_name': 'Pancreatic Lipase Deficienc...   \n",
       "2  [{'disease_name': nan, 'HPO': nan, 'NCI': nan,...   \n",
       "\n",
       "                               literature_based_info  \\\n",
       "0  [{'disease_name': 'Post-COVID-19', 'id': 'C000...   \n",
       "1  [{'disease_name': nan, 'id': nan, 'source': nan}]   \n",
       "2  [{'disease_name': nan, 'id': nan, 'source': nan}]   \n",
       "\n",
       "                          OpenTargets_gene_compounds  \\\n",
       "0  [{'chembl_id': nan, 'drugbank_id': nan, 'compo...   \n",
       "1  [{'chembl_id': 'CHEMBL175247', 'drugbank_id': ...   \n",
       "2  [{'chembl_id': nan, 'drugbank_id': nan, 'compo...   \n",
       "\n",
       "                                             MINERVA  \\\n",
       "0  [{'pathway_id': nan, 'pathway_label': nan, 'pa...   \n",
       "1  [{'pathway_id': nan, 'pathway_label': nan, 'pa...   \n",
       "2  [{'pathway_id': nan, 'pathway_label': nan, 'pa...   \n",
       "\n",
       "                                        WikiPathways  \\\n",
       "0  [{'pathway_id': 'WP3971', 'pathway_label': 'OS...   \n",
       "1  [{'pathway_id': nan, 'pathway_label': nan, 'pa...   \n",
       "2  [{'pathway_id': nan, 'pathway_label': nan, 'pa...   \n",
       "\n",
       "                                OpenTargets_reactome  \\\n",
       "0  [{'pathway_label': 'ECM proteoglycans', 'pathw...   \n",
       "1  [{'pathway_label': 'Retinoid metabolism and tr...   \n",
       "2        [{'pathway_label': nan, 'pathway_id': nan}]   \n",
       "\n",
       "                                      OpenTargets_go  \\\n",
       "0  [{'go_id': 'GO:0005788', 'go_name': 'endoplasm...   \n",
       "1  [{'go_id': 'GO:0004806', 'go_name': 'triglycer...   \n",
       "2   [{'go_id': nan, 'go_name': nan, 'go_type': nan}]   \n",
       "\n",
       "                                        StringDB_ppi  \n",
       "0  [{'stringdb_link_to': 'TNFRSF11B', 'Ensembl': ...  \n",
       "1  [{'stringdb_link_to': 'LIPE', 'Ensembl': 'ENSP...  \n",
       "2  [{'stringdb_link_to': nan, 'Ensembl': nan, 'sc...  "
      ]
     },
     "execution_count": 2,
     "metadata": {},
     "output_type": "execute_result"
    }
   ],
   "source": [
    "data = pd.read_pickle(\"../combined_df_case.pkl\")\n",
    "metadata = pd.read_pickle(\"../combined_metadata_case.pkl\")\n",
    "data.head(3)"
   ]
  },
  {
   "cell_type": "code",
   "execution_count": 3,
   "metadata": {},
   "outputs": [
    {
     "name": "stdout",
     "output_type": "stream",
     "text": [
      "2421\n"
     ]
    },
    {
     "data": {
      "text/html": [
       "<div>\n",
       "<style scoped>\n",
       "    .dataframe tbody tr th:only-of-type {\n",
       "        vertical-align: middle;\n",
       "    }\n",
       "\n",
       "    .dataframe tbody tr th {\n",
       "        vertical-align: top;\n",
       "    }\n",
       "\n",
       "    .dataframe thead th {\n",
       "        text-align: right;\n",
       "    }\n",
       "</style>\n",
       "<table border=\"1\" class=\"dataframe\">\n",
       "  <thead>\n",
       "    <tr style=\"text-align: right;\">\n",
       "      <th></th>\n",
       "      <th>identifier</th>\n",
       "      <th>identifier.source</th>\n",
       "      <th>target</th>\n",
       "      <th>target.source</th>\n",
       "      <th>DISGENET_diseases</th>\n",
       "      <th>literature_based_info</th>\n",
       "      <th>OpenTargets_gene_compounds</th>\n",
       "      <th>MINERVA</th>\n",
       "      <th>WikiPathways</th>\n",
       "      <th>OpenTargets_reactome</th>\n",
       "      <th>OpenTargets_go</th>\n",
       "      <th>StringDB_ppi</th>\n",
       "    </tr>\n",
       "  </thead>\n",
       "  <tbody>\n",
       "    <tr>\n",
       "      <th>count</th>\n",
       "      <td>2421</td>\n",
       "      <td>2421</td>\n",
       "      <td>2421</td>\n",
       "      <td>2421</td>\n",
       "      <td>2329</td>\n",
       "      <td>2329</td>\n",
       "      <td>2421</td>\n",
       "      <td>2421</td>\n",
       "      <td>2329</td>\n",
       "      <td>2421</td>\n",
       "      <td>2421</td>\n",
       "      <td>2421</td>\n",
       "    </tr>\n",
       "    <tr>\n",
       "      <th>unique</th>\n",
       "      <td>1667</td>\n",
       "      <td>1</td>\n",
       "      <td>1675</td>\n",
       "      <td>1</td>\n",
       "      <td>1560</td>\n",
       "      <td>1566</td>\n",
       "      <td>1675</td>\n",
       "      <td>1596</td>\n",
       "      <td>1461</td>\n",
       "      <td>1447</td>\n",
       "      <td>1637</td>\n",
       "      <td>1667</td>\n",
       "    </tr>\n",
       "    <tr>\n",
       "      <th>top</th>\n",
       "      <td>TEKT4P2</td>\n",
       "      <td>HGNC</td>\n",
       "      <td>ENSG00000188681</td>\n",
       "      <td>Ensembl</td>\n",
       "      <td>[{'disease_name': nan, 'HPO': nan, 'NCI': nan,...</td>\n",
       "      <td>[{'disease_name': nan, 'id': nan, 'source': nan}]</td>\n",
       "      <td>[{'chembl_id': nan, 'drugbank_id': nan, 'compo...</td>\n",
       "      <td>[{'pathway_id': nan, 'pathway_label': nan, 'pa...</td>\n",
       "      <td>[{'pathway_id': nan, 'pathway_label': nan, 'pa...</td>\n",
       "      <td>[{'pathway_label': nan, 'pathway_id': nan}]</td>\n",
       "      <td>[{'go_id': nan, 'go_name': nan, 'go_type': nan}]</td>\n",
       "      <td>[{'stringdb_link_to': nan, 'Ensembl': nan, 'sc...</td>\n",
       "    </tr>\n",
       "    <tr>\n",
       "      <th>freq</th>\n",
       "      <td>256</td>\n",
       "      <td>2421</td>\n",
       "      <td>128</td>\n",
       "      <td>2421</td>\n",
       "      <td>128</td>\n",
       "      <td>128</td>\n",
       "      <td>128</td>\n",
       "      <td>128</td>\n",
       "      <td>128</td>\n",
       "      <td>128</td>\n",
       "      <td>128</td>\n",
       "      <td>128</td>\n",
       "    </tr>\n",
       "  </tbody>\n",
       "</table>\n",
       "</div>"
      ],
      "text/plain": [
       "       identifier identifier.source           target target.source  \\\n",
       "count        2421              2421             2421          2421   \n",
       "unique       1667                 1             1675             1   \n",
       "top       TEKT4P2              HGNC  ENSG00000188681       Ensembl   \n",
       "freq          256              2421              128          2421   \n",
       "\n",
       "                                        DISGENET_diseases  \\\n",
       "count                                                2329   \n",
       "unique                                               1560   \n",
       "top     [{'disease_name': nan, 'HPO': nan, 'NCI': nan,...   \n",
       "freq                                                  128   \n",
       "\n",
       "                                    literature_based_info  \\\n",
       "count                                                2329   \n",
       "unique                                               1566   \n",
       "top     [{'disease_name': nan, 'id': nan, 'source': nan}]   \n",
       "freq                                                  128   \n",
       "\n",
       "                               OpenTargets_gene_compounds  \\\n",
       "count                                                2421   \n",
       "unique                                               1675   \n",
       "top     [{'chembl_id': nan, 'drugbank_id': nan, 'compo...   \n",
       "freq                                                  128   \n",
       "\n",
       "                                                  MINERVA  \\\n",
       "count                                                2421   \n",
       "unique                                               1596   \n",
       "top     [{'pathway_id': nan, 'pathway_label': nan, 'pa...   \n",
       "freq                                                  128   \n",
       "\n",
       "                                             WikiPathways  \\\n",
       "count                                                2329   \n",
       "unique                                               1461   \n",
       "top     [{'pathway_id': nan, 'pathway_label': nan, 'pa...   \n",
       "freq                                                  128   \n",
       "\n",
       "                               OpenTargets_reactome  \\\n",
       "count                                          2421   \n",
       "unique                                         1447   \n",
       "top     [{'pathway_label': nan, 'pathway_id': nan}]   \n",
       "freq                                            128   \n",
       "\n",
       "                                          OpenTargets_go  \\\n",
       "count                                               2421   \n",
       "unique                                              1637   \n",
       "top     [{'go_id': nan, 'go_name': nan, 'go_type': nan}]   \n",
       "freq                                                 128   \n",
       "\n",
       "                                             StringDB_ppi  \n",
       "count                                                2421  \n",
       "unique                                               1667  \n",
       "top     [{'stringdb_link_to': nan, 'Ensembl': nan, 'sc...  \n",
       "freq                                                  128  "
      ]
     },
     "execution_count": 3,
     "metadata": {},
     "output_type": "execute_result"
    }
   ],
   "source": [
    "print(len(data))\n",
    "data.describe()"
   ]
  },
  {
   "cell_type": "markdown",
   "metadata": {},
   "source": [
    "### Generating RDF from table\n",
    "Rows with no data will be skipped:"
   ]
  },
  {
   "cell_type": "code",
   "execution_count": 4,
   "metadata": {},
   "outputs": [
    {
     "name": "stdout",
     "output_type": "stream",
     "text": [
      "Skipped row count: 0\n"
     ]
    }
   ],
   "source": [
    "nas = data[data[\"identifier\"].isna()]\n",
    "print(f\"Skipped row count: {len(nas)}\")\n",
    "if len(nas) > 0:\n",
    "    nas.sample(3)"
   ]
  },
  {
   "cell_type": "markdown",
   "metadata": {},
   "source": [
    "The function to generate an RDF `rdflib` graph (`generate_rdf()`) takes arguments:\n"
   ]
  },
  {
   "cell_type": "code",
   "execution_count": 5,
   "metadata": {},
   "outputs": [],
   "source": [
    "g = rdf.generate_rdf(df = data, \n",
    "                     base_uri = \"https://biodatafuse.org/example/\", \n",
    "                     version_iri = \"https://biodatafuse.org/example/test.owl\", \n",
    "                     orcid = \"https://orcid.org/0000-0002-4166-7093\", \n",
    "                     author=\"Javier Millan Acosta\", \n",
    "                     metadata = metadata)"
   ]
  },
  {
   "cell_type": "markdown",
   "metadata": {},
   "source": [
    "### Print out result"
   ]
  },
  {
   "cell_type": "code",
   "execution_count": 6,
   "metadata": {},
   "outputs": [
    {
     "data": {
      "text/plain": [
       "<Graph identifier=N414c96c148c04680805ab1e97a5994a9 (<class 'rdflib.graph.Graph'>)>"
      ]
     },
     "execution_count": 6,
     "metadata": {},
     "output_type": "execute_result"
    }
   ],
   "source": [
    "g.serialize(format=\"turtle\", destination='test.ttl')"
   ]
  },
  {
   "cell_type": "code",
   "execution_count": 7,
   "metadata": {},
   "outputs": [
    {
     "name": "stdout",
     "output_type": "stream",
     "text": [
      "@prefix chebi: <http://purl.obolibrary.org/obo/chebi/> .\n",
      "@prefix dc: <http://purl.org/dc/elements/1.1/> .\n",
      "@prefix dcterms: <http://purl.org/dc/terms/> .\n",
      "@prefix obo: <http://purl.obolibrary.org/obo/> .\n",
      "@prefix oboInOwl: <http://www.geneontology.org/formats/oboInOwl#> .\n",
      "@prefix owl: <http://www.w3.org/2002/07/owl#> .\n",
      "@prefix rdfs: <http://www.w3.org/2000/01/rdf-schema#> .\n",
      "@prefix schema: <https://schema.org/> .\n",
      "@prefix sio: <http://semanticscience.org/resource/> .\n",
      "@prefix skos: <http://www.w3.org/2004/02/skos/core#> .\n",
      "@prefix sssom: <https://w3id.org/sssom/> .\n",
      "@prefix xsd: <http://www.w3.org/2001/XMLSchema#> .\n",
      "\n",
      "<http://biodatafuse.org/base.owl> a owl:Ontology .\n",
      "\n",
      "<http://identifiers.org/ensembl/ENSG00000108448> a obo:NCIT_C16612 ;\n",
      "    rdfs:label \"TRIM16L\"^^xsd:string .\n",
      "\n",
      "<http://identifiers.org/ensembl/ENSG00000130612> a obo:NCIT_C16612 ;\n",
      "    rdfs:label \"CYP2G1P\"^^xsd:string .\n",
      "\n",
      "<http://identifiers.org/ensembl/ENSG00000135747> a obo:NCIT_C16612 ;\n",
      "    rdfs:label \"ZNF670-ZNF695\"^^xsd:string .\n",
      "\n",
      "<http://identifiers.org/ensembl/ENSG00000153363> a obo:NCIT_C16612 ;\n",
      "    rdfs:label \"LINC00467\"^^xsd:string .\n",
      "\n",
      "<http://identifiers.org/ensembl/ENSG00000154898> a obo:NCIT_C16612 ;\n",
      "    rdfs:label \"CCDC144CP\"^^xsd:string .\n",
      "\n",
      "<http://identifiers.org/ensembl/ENSG00000168405> a obo:NCIT_C16612 ;\n",
      "    rdfs:label \"CMAHP\"^^xsd:string .\n",
      "\n",
      "<http://identifiers.org/ensembl/ENSG00000175658> a obo:NCIT_C16612 ;\n",
      "    rdfs:label \"DRD5P2\"^^xsd:string .\n",
      "\n",
      "<http://identifiers.org/ensembl/ENSG00000176933> a obo:NCIT_C16612 ;\n",
      "    rdfs:label \"TOB2P1\"^^xsd:string .\n",
      "\n",
      "<http://identifiers.org/ensembl/ENSG00000179219> a obo:NCIT_C16612 ;\n",
      "    rdfs:label \"LINC00311\"^^xsd:string .\n",
      "\n",
      "<http://identifiers.org/ensembl/ENSG00000179420> a obo:NCIT_C16612 ;\n",
      "    rdfs:label \"OR6W1P\"^^xsd:string .\n",
      "\n",
      "<http://identifiers.org/ensembl/ENSG00000180747> a obo:NCIT_C16612 ;\n",
      "    rdfs:label \"SMG1P3\"^^xsd:string .\n",
      "\n",
      "<http://identifiers.org/ensembl/ENSG00000182165> a obo:NCIT_C16612 ;\n",
      "    rdfs:label \"TP53TG1\"^^xsd:string .\n",
      "\n",
      "<http://identifiers.org/ensembl/ENSG00000182257> a obo:NCIT_C16612 ;\n",
      "    rdfs:label \"PRR34\"^^xsd:string .\n",
      "\n",
      "<http://identifiers.org/ensembl/ENSG00000182814> a obo:NCIT_C16612 ;\n",
      "    rdfs:label \"FUNDC2P2\"^^xsd:string .\n",
      "\n",
      "<http://identifiers.org/ensembl/ENSG00000184106> a obo:NCIT_C16612 ;\n",
      "    rdfs:label \"TREML3P\"^^xsd:string .\n",
      "\n",
      "<http://identifiers.org/ensembl/ENSG00000186743> a obo:NCIT_C16612 ;\n",
      "    rdfs:label \"TPI1P3\"^^xsd:string .\n",
      "\n",
      "<http://identifiers.org/ensembl/ENSG00000187172> a obo:NCIT_C16612 ;\n",
      "    rdfs:label \"BAGE2\"^^xsd:string .\n",
      "\n",
      "<http://identifiers.org/ensembl/ENSG00000198526> a obo:NCIT_C16612 ;\n",
      "    rdfs:label \"PABPC1P2\"^^xsd:string .\n",
      "\n",
      "<http://identifiers.org/ensembl/ENSG00000203855> a obo:NCIT_C16612 ;\n"
     ]
    }
   ],
   "source": [
    "!head -70 test.ttl"
   ]
  }
 ],
 "metadata": {
  "kernelspec": {
   "display_name": "Python 3 (ipykernel)",
   "language": "python",
   "name": "python3"
  },
  "language_info": {
   "codemirror_mode": {
    "name": "ipython",
    "version": 3
   },
   "file_extension": ".py",
   "mimetype": "text/x-python",
   "name": "python",
   "nbconvert_exporter": "python",
   "pygments_lexer": "ipython3",
   "version": "3.10.12"
  }
 },
 "nbformat": 4,
 "nbformat_minor": 2
}
