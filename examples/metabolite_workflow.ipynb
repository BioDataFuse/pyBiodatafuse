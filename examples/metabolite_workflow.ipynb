{
 "cells": [
  {
   "cell_type": "markdown",
   "metadata": {},
   "source": [
    "# Example: Metabolite workflow\n",
    "\n",
    "This notebook provides insights on how to use the tool if you have list of metabolites.\n",
    "Our current data sources include:\n",
    "* MolMeDB"
   ]
  },
  {
   "cell_type": "code",
   "execution_count": 1,
   "metadata": {},
   "outputs": [],
   "source": [
    "# Import modules\n",
    "import pandas as pd\n",
    "\n",
    "from pyBiodatafuse import id_mapper\n",
    "from pyBiodatafuse.annotators import opentargets, molmedb\n",
    "from pyBiodatafuse.utils import combine_sources"
   ]
  },
  {
   "cell_type": "markdown",
   "metadata": {},
   "source": [
    "# Load list of metabolites/chemicals/compounds"
   ]
  },
  {
   "cell_type": "code",
   "execution_count": 2,
   "metadata": {},
   "outputs": [
    {
     "data": {
      "text/plain": [
       "1"
      ]
     },
     "execution_count": 2,
     "metadata": {},
     "output_type": "execute_result"
    }
   ],
   "source": [
    "# metabolites_of_interest = \"\"\"100208\n",
    "# 10040286\n",
    "# 10041551\n",
    "# 10025195\"\"\"\n",
    "# metabolites_of_interest = \"\"\"CHEMBL1201583\n",
    "# CHEMBL941\n",
    "# \"\"\"\n",
    "metabolites_of_interest = \"\"\"5291\"\"\"\n",
    "metabolite_list = metabolites_of_interest.split(\"\\n\")\n",
    "len(metabolite_list)"
   ]
  },
  {
   "cell_type": "code",
   "execution_count": 3,
   "metadata": {},
   "outputs": [
    {
     "data": {
      "text/html": [
       "<div>\n",
       "<style scoped>\n",
       "    .dataframe tbody tr th:only-of-type {\n",
       "        vertical-align: middle;\n",
       "    }\n",
       "\n",
       "    .dataframe tbody tr th {\n",
       "        vertical-align: top;\n",
       "    }\n",
       "\n",
       "    .dataframe thead th {\n",
       "        text-align: right;\n",
       "    }\n",
       "</style>\n",
       "<table border=\"1\" class=\"dataframe\">\n",
       "  <thead>\n",
       "    <tr style=\"text-align: right;\">\n",
       "      <th></th>\n",
       "      <th>identifier</th>\n",
       "    </tr>\n",
       "  </thead>\n",
       "  <tbody>\n",
       "    <tr>\n",
       "      <th>0</th>\n",
       "      <td>5291</td>\n",
       "    </tr>\n",
       "  </tbody>\n",
       "</table>\n",
       "</div>"
      ],
      "text/plain": [
       "  identifier\n",
       "0       5291"
      ]
     },
     "execution_count": 3,
     "metadata": {},
     "output_type": "execute_result"
    }
   ],
   "source": [
    "data_input = pd.DataFrame(metabolite_list, columns=[\"identifier\"])\n",
    "data_input.head()"
   ]
  },
  {
   "cell_type": "code",
   "execution_count": 4,
   "metadata": {},
   "outputs": [
    {
     "data": {
      "text/html": [
       "<div>\n",
       "<style scoped>\n",
       "    .dataframe tbody tr th:only-of-type {\n",
       "        vertical-align: middle;\n",
       "    }\n",
       "\n",
       "    .dataframe tbody tr th {\n",
       "        vertical-align: top;\n",
       "    }\n",
       "\n",
       "    .dataframe thead th {\n",
       "        text-align: right;\n",
       "    }\n",
       "</style>\n",
       "<table border=\"1\" class=\"dataframe\">\n",
       "  <thead>\n",
       "    <tr style=\"text-align: right;\">\n",
       "      <th></th>\n",
       "      <th>identifier</th>\n",
       "      <th>identifier.source</th>\n",
       "      <th>target</th>\n",
       "      <th>target.source</th>\n",
       "    </tr>\n",
       "  </thead>\n",
       "  <tbody>\n",
       "    <tr>\n",
       "      <th>0</th>\n",
       "      <td>5291</td>\n",
       "      <td>PubChem-compound</td>\n",
       "      <td>152459-95-5</td>\n",
       "      <td>CAS</td>\n",
       "    </tr>\n",
       "    <tr>\n",
       "      <th>1</th>\n",
       "      <td>5291</td>\n",
       "      <td>PubChem-compound</td>\n",
       "      <td>HMDB14757</td>\n",
       "      <td>HMDB</td>\n",
       "    </tr>\n",
       "    <tr>\n",
       "      <th>2</th>\n",
       "      <td>5291</td>\n",
       "      <td>PubChem-compound</td>\n",
       "      <td>45783</td>\n",
       "      <td>ChEBI</td>\n",
       "    </tr>\n",
       "    <tr>\n",
       "      <th>3</th>\n",
       "      <td>5291</td>\n",
       "      <td>PubChem-compound</td>\n",
       "      <td>KTUFNOKKBVMGRW-UHFFFAOYSA-N</td>\n",
       "      <td>InChIKey</td>\n",
       "    </tr>\n",
       "    <tr>\n",
       "      <th>4</th>\n",
       "      <td>5291</td>\n",
       "      <td>PubChem-compound</td>\n",
       "      <td>DTXSID3037125</td>\n",
       "      <td>NaN</td>\n",
       "    </tr>\n",
       "  </tbody>\n",
       "</table>\n",
       "</div>"
      ],
      "text/plain": [
       "  identifier identifier.source                       target target.source\n",
       "0       5291  PubChem-compound                  152459-95-5           CAS\n",
       "1       5291  PubChem-compound                    HMDB14757          HMDB\n",
       "2       5291  PubChem-compound                        45783         ChEBI\n",
       "3       5291  PubChem-compound  KTUFNOKKBVMGRW-UHFFFAOYSA-N      InChIKey\n",
       "4       5291  PubChem-compound                DTXSID3037125           NaN"
      ]
     },
     "execution_count": 4,
     "metadata": {},
     "output_type": "execute_result"
    }
   ],
   "source": [
    "bridgdb_df, bridgdb_metadata = id_mapper.bridgedb_xref(\n",
    "    identifiers=data_input,\n",
    "    input_species=\"Human\",\n",
    "    input_datasource=\"PubChem Compound\", #ChEMBL compound\n",
    "    output_datasource=\"All\",\n",
    ")\n",
    "bridgdb_df.head()"
   ]
  },
  {
   "cell_type": "markdown",
   "metadata": {},
   "source": [
    "### Diseases from OpenTarget"
   ]
  },
  {
   "cell_type": "code",
   "execution_count": 5,
   "metadata": {},
   "outputs": [
    {
     "data": {
      "text/html": [
       "<div>\n",
       "<style scoped>\n",
       "    .dataframe tbody tr th:only-of-type {\n",
       "        vertical-align: middle;\n",
       "    }\n",
       "\n",
       "    .dataframe tbody tr th {\n",
       "        vertical-align: top;\n",
       "    }\n",
       "\n",
       "    .dataframe thead th {\n",
       "        text-align: right;\n",
       "    }\n",
       "</style>\n",
       "<table border=\"1\" class=\"dataframe\">\n",
       "  <thead>\n",
       "    <tr style=\"text-align: right;\">\n",
       "      <th></th>\n",
       "      <th>identifier</th>\n",
       "      <th>identifier.source</th>\n",
       "      <th>target</th>\n",
       "      <th>target.source</th>\n",
       "      <th>OpenTargets_Diseases</th>\n",
       "    </tr>\n",
       "  </thead>\n",
       "  <tbody>\n",
       "    <tr>\n",
       "      <th>0</th>\n",
       "      <td>5291</td>\n",
       "      <td>PubChem-compound</td>\n",
       "      <td>5291</td>\n",
       "      <td>PubChem Compound</td>\n",
       "      <td>[{'disease_id': 'umls:C0009375', 'disease_name...</td>\n",
       "    </tr>\n",
       "  </tbody>\n",
       "</table>\n",
       "</div>"
      ],
      "text/plain": [
       "  identifier identifier.source target     target.source  \\\n",
       "0       5291  PubChem-compound   5291  PubChem Compound   \n",
       "\n",
       "                                OpenTargets_Diseases  \n",
       "0  [{'disease_id': 'umls:C0009375', 'disease_name...  "
      ]
     },
     "execution_count": 5,
     "metadata": {},
     "output_type": "execute_result"
    }
   ],
   "source": [
    "disease_df, opentargets_disease_metadata = opentargets.get_compound_disease_interactions(\n",
    "    bridgedb_df=bridgdb_df\n",
    ")\n",
    "disease_df.head()"
   ]
  },
  {
   "cell_type": "code",
   "execution_count": 6,
   "metadata": {},
   "outputs": [
    {
     "data": {
      "text/plain": [
       "{'datasource': 'Open Targets GraphQL & REST API Beta',\n",
       " 'metadata': {'source_version': {'apiVersion': {'x': '24',\n",
       "    'y': '1',\n",
       "    'z': '4'}},\n",
       "  'data_version': {'dataVersion': {'year': '24', 'month': '06'}}},\n",
       " 'query': {'size': 1,\n",
       "  'input_type': 'PubChem Compound',\n",
       "  'number_of_added_nodes': 105,\n",
       "  'number_of_added_edges': 127,\n",
       "  'time': '0:00:00.070738',\n",
       "  'date': '2024-08-07 13:57:22',\n",
       "  'url': 'https://api.platform.opentargets.org/api/v4/graphql'}}"
      ]
     },
     "execution_count": 6,
     "metadata": {},
     "output_type": "execute_result"
    }
   ],
   "source": [
    "opentargets_disease_metadata"
   ]
  },
  {
   "cell_type": "code",
   "execution_count": null,
   "metadata": {},
   "outputs": [],
   "source": []
  },
  {
   "cell_type": "code",
   "execution_count": null,
   "metadata": {},
   "outputs": [],
   "source": [
    "transporter_inhibited_df, transporter_inhibited_metadata = molmedb.get_compound_gene_inhibitor(\n",
    "    bridgedb_df=bridgdb_df\n",
    ")\n",
    "transporter_inhibited_df.head()"
   ]
  },
  {
   "cell_type": "code",
   "execution_count": null,
   "metadata": {},
   "outputs": [],
   "source": [
    "transporter_inhibited_df[\"MolMeDB_transporter_inhibited\"][0]"
   ]
  }
 ],
 "metadata": {
  "kernelspec": {
   "display_name": "Python 3 (ipykernel)",
   "language": "python",
   "name": "python3"
  },
  "language_info": {
   "codemirror_mode": {
    "name": "ipython",
    "version": 3
   },
   "file_extension": ".py",
   "mimetype": "text/x-python",
   "name": "python",
   "nbconvert_exporter": "python",
   "pygments_lexer": "ipython3",
   "version": "3.9.13"
  }
 },
 "nbformat": 4,
 "nbformat_minor": 2
}
