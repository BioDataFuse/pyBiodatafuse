{
 "cells": [
  {
   "cell_type": "markdown",
   "metadata": {},
   "source": [
    "# Example: Metabolite workflow\n",
    "\n",
    "This notebook provides insights on how to use the tool if you have list of metabolites.\n",
    "Our current data sources include:\n",
    "* MolMeDB"
   ]
  },
  {
   "cell_type": "code",
   "execution_count": 1,
   "metadata": {},
   "outputs": [],
   "source": [
    "# Import modules\n",
    "import pandas as pd\n",
    "\n",
    "from pyBiodatafuse import id_mapper\n",
    "from pyBiodatafuse.annotators import molmedb\n",
    "from pyBiodatafuse.utils import combine_sources"
   ]
  },
  {
   "cell_type": "markdown",
   "metadata": {},
   "source": [
    "# Load list of metabolites/chemicals/compounds"
   ]
  },
  {
   "cell_type": "code",
   "execution_count": 2,
   "metadata": {},
   "outputs": [
    {
     "data": {
      "text/plain": [
       "3"
      ]
     },
     "execution_count": 2,
     "metadata": {},
     "output_type": "execute_result"
    }
   ],
   "source": [
    "metabolites_of_interest = \"\"\"10041551\n",
    "10025195\n",
    "2153\"\"\"\n",
    "metabolite_list = metabolites_of_interest.split(\"\\n\")\n",
    "len(metabolite_list)"
   ]
  },
  {
   "cell_type": "code",
   "execution_count": 3,
   "metadata": {},
   "outputs": [
    {
     "data": {
      "text/plain": [
       "{'identifier': {0: '10041551', 1: '10025195', 2: '2153'}}"
      ]
     },
     "execution_count": 3,
     "metadata": {},
     "output_type": "execute_result"
    }
   ],
   "source": [
    "data_input = pd.DataFrame(metabolite_list, columns=[\"identifier\"])\n",
    "data_input.to_dict()"
   ]
  },
  {
   "cell_type": "code",
   "execution_count": 4,
   "metadata": {},
   "outputs": [
    {
     "data": {
      "text/plain": [
       "{'identifier': ['10041551', '10025195', '2153'],\n",
       " 'identifier.source': ['PubChem-compound',\n",
       "  'PubChem-compound',\n",
       "  'PubChem-compound'],\n",
       " 'target': ['OVVBIIBBRZVPAL-UHFFFAOYSA-N',\n",
       "  'LEJRLSZVESQKJK-UHFFFAOYSA-N',\n",
       "  'ZFXYFBGIUFBOJW-UHFFFAOYSA-N'],\n",
       " 'target.source': ['InChIKey', 'InChIKey', 'InChIKey']}"
      ]
     },
     "execution_count": 4,
     "metadata": {},
     "output_type": "execute_result"
    }
   ],
   "source": [
    "bridgdb_df, bridgdb_metadata = id_mapper.bridgedb_xref(\n",
    "    identifiers=data_input,\n",
    "    input_species=\"Human\",\n",
    "    input_datasource=\"PubChem Compound\",\n",
    "    output_datasource=\"All\",\n",
    ")\n",
    "bridgdb_df[bridgdb_df['target.source']=='InChIKey'].to_dict('list')"
   ]
  },
  {
   "cell_type": "code",
   "execution_count": 5,
   "metadata": {},
   "outputs": [
    {
     "data": {
      "text/html": [
       "<div>\n",
       "<style scoped>\n",
       "    .dataframe tbody tr th:only-of-type {\n",
       "        vertical-align: middle;\n",
       "    }\n",
       "\n",
       "    .dataframe tbody tr th {\n",
       "        vertical-align: top;\n",
       "    }\n",
       "\n",
       "    .dataframe thead th {\n",
       "        text-align: right;\n",
       "    }\n",
       "</style>\n",
       "<table border=\"1\" class=\"dataframe\">\n",
       "  <thead>\n",
       "    <tr style=\"text-align: right;\">\n",
       "      <th></th>\n",
       "      <th>identifier</th>\n",
       "      <th>identifier.source</th>\n",
       "      <th>target</th>\n",
       "      <th>target.source</th>\n",
       "      <th>transporter_inhibited</th>\n",
       "    </tr>\n",
       "  </thead>\n",
       "  <tbody>\n",
       "    <tr>\n",
       "      <th>0</th>\n",
       "      <td>10025195</td>\n",
       "      <td>PubChem-compound</td>\n",
       "      <td>LEJRLSZVESQKJK-UHFFFAOYSA-N</td>\n",
       "      <td>InChIKey</td>\n",
       "      <td>[{'uniprot_trembl_id': 'Q01959', 'hgcn_id': 'S...</td>\n",
       "    </tr>\n",
       "    <tr>\n",
       "      <th>1</th>\n",
       "      <td>10041551</td>\n",
       "      <td>PubChem-compound</td>\n",
       "      <td>OVVBIIBBRZVPAL-UHFFFAOYSA-N</td>\n",
       "      <td>InChIKey</td>\n",
       "      <td>[{'uniprot_trembl_id': 'P23975', 'hgcn_id': 'S...</td>\n",
       "    </tr>\n",
       "    <tr>\n",
       "      <th>2</th>\n",
       "      <td>2153</td>\n",
       "      <td>PubChem-compound</td>\n",
       "      <td>ZFXYFBGIUFBOJW-UHFFFAOYSA-N</td>\n",
       "      <td>InChIKey</td>\n",
       "      <td>[{'uniprot_trembl_id': nan, 'hgcn_id': nan, 's...</td>\n",
       "    </tr>\n",
       "  </tbody>\n",
       "</table>\n",
       "</div>"
      ],
      "text/plain": [
       "  identifier identifier.source                       target target.source  \\\n",
       "0   10025195  PubChem-compound  LEJRLSZVESQKJK-UHFFFAOYSA-N      InChIKey   \n",
       "1   10041551  PubChem-compound  OVVBIIBBRZVPAL-UHFFFAOYSA-N      InChIKey   \n",
       "2       2153  PubChem-compound  ZFXYFBGIUFBOJW-UHFFFAOYSA-N      InChIKey   \n",
       "\n",
       "                               transporter_inhibited  \n",
       "0  [{'uniprot_trembl_id': 'Q01959', 'hgcn_id': 'S...  \n",
       "1  [{'uniprot_trembl_id': 'P23975', 'hgcn_id': 'S...  \n",
       "2  [{'uniprot_trembl_id': nan, 'hgcn_id': nan, 's...  "
      ]
     },
     "execution_count": 5,
     "metadata": {},
     "output_type": "execute_result"
    }
   ],
   "source": [
    "transporter_inhibited_df, transporter_inhibited_metadata = molmedb.get_mol_gene_inhibitor(\n",
    "    bridgedb_df=bridgdb_df\n",
    ")\n",
    "transporter_inhibited_df"
   ]
  },
  {
   "cell_type": "code",
   "execution_count": 6,
   "metadata": {},
   "outputs": [
    {
     "data": {
      "text/plain": [
       "[{'uniprot_trembl_id': 'Q01959',\n",
       "  'hgcn_id': 'SLC6A3',\n",
       "  'source_doi': 'doi:10.1021/jm980066t',\n",
       "  'source_pmid': '9703474'}]"
      ]
     },
     "execution_count": 6,
     "metadata": {},
     "output_type": "execute_result"
    }
   ],
   "source": [
    "transporter_inhibited_df[\"transporter_inhibited\"][0]"
   ]
  },
  {
   "cell_type": "code",
   "execution_count": null,
   "metadata": {},
   "outputs": [],
   "source": []
  }
 ],
 "metadata": {
  "kernelspec": {
   "display_name": "Python 3 (ipykernel)",
   "language": "python",
   "name": "python3"
  },
  "language_info": {
   "codemirror_mode": {
    "name": "ipython",
    "version": 3
   },
   "file_extension": ".py",
   "mimetype": "text/x-python",
   "name": "python",
   "nbconvert_exporter": "python",
   "pygments_lexer": "ipython3",
   "version": "3.11.8"
  }
 },
 "nbformat": 4,
 "nbformat_minor": 4
}
