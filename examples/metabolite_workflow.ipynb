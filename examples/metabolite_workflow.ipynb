{
 "cells": [
  {
   "cell_type": "markdown",
   "metadata": {},
   "source": [
    "# Example: Metabolite workflow\n",
    "\n",
    "This notebook provides insights on how to use the tool if you have list of metabolites.\n",
    "Our current data sources include:\n",
    "* MolMeDB"
   ]
  },
  {
   "cell_type": "code",
   "execution_count": 1,
   "metadata": {},
   "outputs": [],
   "source": [
    "# Import modules\n",
    "import pandas as pd\n",
    "\n",
    "from pyBiodatafuse import id_mapper\n",
    "from pyBiodatafuse.annotators import molmedb\n",
    "from pyBiodatafuse.utils import combine_sources"
   ]
  },
  {
   "cell_type": "markdown",
   "metadata": {},
   "source": [
    "# Load list of metabolites/chemicals/compounds"
   ]
  },
  {
   "cell_type": "code",
   "execution_count": 2,
   "metadata": {},
   "outputs": [
    {
     "data": {
      "text/plain": [
       "4"
      ]
     },
     "execution_count": 2,
     "metadata": {},
     "output_type": "execute_result"
    }
   ],
   "source": [
    "metabolites_of_interest = \"\"\"100208\n",
    "10040286\n",
    "10041551\n",
    "10025195\"\"\"\n",
    "metabolite_list = metabolites_of_interest.split(\"\\n\")\n",
    "len(metabolite_list)"
   ]
  },
  {
   "cell_type": "code",
   "execution_count": 3,
   "metadata": {},
   "outputs": [
    {
     "data": {
      "text/html": [
       "<div>\n",
       "<style scoped>\n",
       "    .dataframe tbody tr th:only-of-type {\n",
       "        vertical-align: middle;\n",
       "    }\n",
       "\n",
       "    .dataframe tbody tr th {\n",
       "        vertical-align: top;\n",
       "    }\n",
       "\n",
       "    .dataframe thead th {\n",
       "        text-align: right;\n",
       "    }\n",
       "</style>\n",
       "<table border=\"1\" class=\"dataframe\">\n",
       "  <thead>\n",
       "    <tr style=\"text-align: right;\">\n",
       "      <th></th>\n",
       "      <th>identifier</th>\n",
       "    </tr>\n",
       "  </thead>\n",
       "  <tbody>\n",
       "    <tr>\n",
       "      <th>0</th>\n",
       "      <td>100208</td>\n",
       "    </tr>\n",
       "    <tr>\n",
       "      <th>1</th>\n",
       "      <td>10040286</td>\n",
       "    </tr>\n",
       "    <tr>\n",
       "      <th>2</th>\n",
       "      <td>10041551</td>\n",
       "    </tr>\n",
       "    <tr>\n",
       "      <th>3</th>\n",
       "      <td>10025195</td>\n",
       "    </tr>\n",
       "  </tbody>\n",
       "</table>\n",
       "</div>"
      ],
      "text/plain": [
       "  identifier\n",
       "0     100208\n",
       "1   10040286\n",
       "2   10041551\n",
       "3   10025195"
      ]
     },
     "execution_count": 3,
     "metadata": {},
     "output_type": "execute_result"
    }
   ],
   "source": [
    "data_input = pd.DataFrame(metabolite_list, columns=[\"identifier\"])\n",
    "data_input.head()"
   ]
  },
  {
   "cell_type": "code",
   "execution_count": 4,
   "metadata": {},
   "outputs": [
    {
     "data": {
      "text/html": [
       "<div>\n",
       "<style scoped>\n",
       "    .dataframe tbody tr th:only-of-type {\n",
       "        vertical-align: middle;\n",
       "    }\n",
       "\n",
       "    .dataframe tbody tr th {\n",
       "        vertical-align: top;\n",
       "    }\n",
       "\n",
       "    .dataframe thead th {\n",
       "        text-align: right;\n",
       "    }\n",
       "</style>\n",
       "<table border=\"1\" class=\"dataframe\">\n",
       "  <thead>\n",
       "    <tr style=\"text-align: right;\">\n",
       "      <th></th>\n",
       "      <th>identifier</th>\n",
       "      <th>identifier.source</th>\n",
       "      <th>target</th>\n",
       "      <th>target.source</th>\n",
       "    </tr>\n",
       "  </thead>\n",
       "  <tbody>\n",
       "    <tr>\n",
       "      <th>0</th>\n",
       "      <td>100208</td>\n",
       "      <td>PubChem-compound</td>\n",
       "      <td>90560</td>\n",
       "      <td>ChemSpider</td>\n",
       "    </tr>\n",
       "    <tr>\n",
       "      <th>1</th>\n",
       "      <td>100208</td>\n",
       "      <td>PubChem-compound</td>\n",
       "      <td>100208</td>\n",
       "      <td>PubChem Compound</td>\n",
       "    </tr>\n",
       "    <tr>\n",
       "      <th>2</th>\n",
       "      <td>100208</td>\n",
       "      <td>PubChem-compound</td>\n",
       "      <td>HMDB0244377</td>\n",
       "      <td>HMDB</td>\n",
       "    </tr>\n",
       "    <tr>\n",
       "      <th>3</th>\n",
       "      <td>100208</td>\n",
       "      <td>PubChem-compound</td>\n",
       "      <td>OFDNQWIFNXBECV-UHFFFAOYSA-N</td>\n",
       "      <td>InChIKey</td>\n",
       "    </tr>\n",
       "    <tr>\n",
       "      <th>4</th>\n",
       "      <td>100208</td>\n",
       "      <td>PubChem-compound</td>\n",
       "      <td>C11280</td>\n",
       "      <td>KEGG Compound</td>\n",
       "    </tr>\n",
       "  </tbody>\n",
       "</table>\n",
       "</div>"
      ],
      "text/plain": [
       "  identifier identifier.source                       target     target.source\n",
       "0     100208  PubChem-compound                        90560        ChemSpider\n",
       "1     100208  PubChem-compound                       100208  PubChem Compound\n",
       "2     100208  PubChem-compound                  HMDB0244377              HMDB\n",
       "3     100208  PubChem-compound  OFDNQWIFNXBECV-UHFFFAOYSA-N          InChIKey\n",
       "4     100208  PubChem-compound                       C11280     KEGG Compound"
      ]
     },
     "execution_count": 4,
     "metadata": {},
     "output_type": "execute_result"
    }
   ],
   "source": [
    "bridgdb_df, bridgdb_metadata = id_mapper.bridgedb_xref(\n",
    "    identifiers=data_input,\n",
    "    input_species=\"Human\",\n",
    "    input_datasource=\"PubChem Compound\",\n",
    "    output_datasource=\"All\",\n",
    ")\n",
    "bridgdb_df.head()"
   ]
  },
  {
   "cell_type": "code",
   "execution_count": 5,
   "metadata": {},
   "outputs": [
    {
     "data": {
      "text/html": [
       "<div>\n",
       "<style scoped>\n",
       "    .dataframe tbody tr th:only-of-type {\n",
       "        vertical-align: middle;\n",
       "    }\n",
       "\n",
       "    .dataframe tbody tr th {\n",
       "        vertical-align: top;\n",
       "    }\n",
       "\n",
       "    .dataframe thead th {\n",
       "        text-align: right;\n",
       "    }\n",
       "</style>\n",
       "<table border=\"1\" class=\"dataframe\">\n",
       "  <thead>\n",
       "    <tr style=\"text-align: right;\">\n",
       "      <th></th>\n",
       "      <th>identifier</th>\n",
       "      <th>identifier.source</th>\n",
       "      <th>target</th>\n",
       "      <th>target.source</th>\n",
       "      <th>MolMeDB_transporter_inhibited</th>\n",
       "    </tr>\n",
       "  </thead>\n",
       "  <tbody>\n",
       "    <tr>\n",
       "      <th>0</th>\n",
       "      <td>100208</td>\n",
       "      <td>PubChem-compound</td>\n",
       "      <td>OFDNQWIFNXBECV-UHFFFAOYSA-N</td>\n",
       "      <td>InChIKey</td>\n",
       "      <td>[{'uniprot_trembl_id': 'P08183', 'hgnc_symbol'...</td>\n",
       "    </tr>\n",
       "    <tr>\n",
       "      <th>1</th>\n",
       "      <td>10025195</td>\n",
       "      <td>PubChem-compound</td>\n",
       "      <td>LEJRLSZVESQKJK-UHFFFAOYSA-N</td>\n",
       "      <td>InChIKey</td>\n",
       "      <td>[{'uniprot_trembl_id': 'Q01959', 'hgnc_symbol'...</td>\n",
       "    </tr>\n",
       "    <tr>\n",
       "      <th>2</th>\n",
       "      <td>10040286</td>\n",
       "      <td>PubChem-compound</td>\n",
       "      <td>FYGREZKTJIXWIH-UHFFFAOYSA-N</td>\n",
       "      <td>InChIKey</td>\n",
       "      <td>[{'uniprot_trembl_id': 'Q01959', 'hgnc_symbol'...</td>\n",
       "    </tr>\n",
       "    <tr>\n",
       "      <th>3</th>\n",
       "      <td>10041551</td>\n",
       "      <td>PubChem-compound</td>\n",
       "      <td>OVVBIIBBRZVPAL-UHFFFAOYSA-N</td>\n",
       "      <td>InChIKey</td>\n",
       "      <td>[{'uniprot_trembl_id': 'P23975', 'hgnc_symbol'...</td>\n",
       "    </tr>\n",
       "  </tbody>\n",
       "</table>\n",
       "</div>"
      ],
      "text/plain": [
       "  identifier identifier.source                       target target.source  \\\n",
       "0     100208  PubChem-compound  OFDNQWIFNXBECV-UHFFFAOYSA-N      InChIKey   \n",
       "1   10025195  PubChem-compound  LEJRLSZVESQKJK-UHFFFAOYSA-N      InChIKey   \n",
       "2   10040286  PubChem-compound  FYGREZKTJIXWIH-UHFFFAOYSA-N      InChIKey   \n",
       "3   10041551  PubChem-compound  OVVBIIBBRZVPAL-UHFFFAOYSA-N      InChIKey   \n",
       "\n",
       "                       MolMeDB_transporter_inhibited  \n",
       "0  [{'uniprot_trembl_id': 'P08183', 'hgnc_symbol'...  \n",
       "1  [{'uniprot_trembl_id': 'Q01959', 'hgnc_symbol'...  \n",
       "2  [{'uniprot_trembl_id': 'Q01959', 'hgnc_symbol'...  \n",
       "3  [{'uniprot_trembl_id': 'P23975', 'hgnc_symbol'...  "
      ]
     },
     "execution_count": 5,
     "metadata": {},
     "output_type": "execute_result"
    }
   ],
   "source": [
    "transporter_inhibited_df, transporter_inhibited_metadata = molmedb.get_compound_gene_inhibitor(\n",
    "    bridgedb_df=bridgdb_df\n",
    ")\n",
    "transporter_inhibited_df.head()"
   ]
  },
  {
   "cell_type": "code",
   "execution_count": 6,
   "metadata": {},
   "outputs": [
    {
     "data": {
      "text/plain": [
       "[{'uniprot_trembl_id': 'P08183',\n",
       "  'hgnc_symbol': 'ABCB1',\n",
       "  'source_doi': 'doi:10.1074/jbc.271.6.3163',\n",
       "  'source_pmid': '8621716'}]"
      ]
     },
     "execution_count": 6,
     "metadata": {},
     "output_type": "execute_result"
    }
   ],
   "source": [
    "transporter_inhibited_df[\"MolMeDB_transporter_inhibited\"][0]"
   ]
  }
 ],
 "metadata": {
  "kernelspec": {
   "display_name": "Python 3 (ipykernel)",
   "language": "python",
   "name": "python3"
  },
  "language_info": {
   "codemirror_mode": {
    "name": "ipython",
    "version": 3
   },
   "file_extension": ".py",
   "mimetype": "text/x-python",
   "name": "python",
   "nbconvert_exporter": "python",
   "pygments_lexer": "ipython3",
   "version": "3.9.13"
  }
 },
 "nbformat": 4,
 "nbformat_minor": 2
}
