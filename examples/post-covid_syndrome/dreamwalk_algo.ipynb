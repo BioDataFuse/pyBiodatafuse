{
 "cells": [
  {
   "cell_type": "code",
   "execution_count": 1,
   "metadata": {},
   "outputs": [],
   "source": [
    "import pandas as pd\n",
    "from pyBiodatafuse import id_mapper\n",
    "from pyBiodatafuse.analyzer.DREAMwalk.generate_embeddings import save_embedding_files\n",
    "from pyBiodatafuse.analyzer.DREAMwalk.predict_associations import predict_dda\n",
    "from pyBiodatafuse.analyzer.DREAMwalk.generate_similarity_net import save_sim_graph\n",
    "\n",
    "from generate_files import generate_files"
   ]
  },
  {
   "cell_type": "markdown",
   "metadata": {},
   "source": [
    "# Load file"
   ]
  },
  {
   "cell_type": "code",
   "execution_count": 2,
   "metadata": {},
   "outputs": [
    {
     "data": {
      "text/html": [
       "<div>\n",
       "<style scoped>\n",
       "    .dataframe tbody tr th:only-of-type {\n",
       "        vertical-align: middle;\n",
       "    }\n",
       "\n",
       "    .dataframe tbody tr th {\n",
       "        vertical-align: top;\n",
       "    }\n",
       "\n",
       "    .dataframe thead th {\n",
       "        text-align: right;\n",
       "    }\n",
       "</style>\n",
       "<table border=\"1\" class=\"dataframe\">\n",
       "  <thead>\n",
       "    <tr style=\"text-align: right;\">\n",
       "      <th></th>\n",
       "      <th>identifier</th>\n",
       "    </tr>\n",
       "  </thead>\n",
       "  <tbody>\n",
       "    <tr>\n",
       "      <th>0</th>\n",
       "      <td>LOC729609</td>\n",
       "    </tr>\n",
       "    <tr>\n",
       "      <th>1</th>\n",
       "      <td>LOC105374060</td>\n",
       "    </tr>\n",
       "  </tbody>\n",
       "</table>\n",
       "</div>"
      ],
      "text/plain": [
       "     identifier\n",
       "0     LOC729609\n",
       "1  LOC105374060"
      ]
     },
     "execution_count": 2,
     "metadata": {},
     "output_type": "execute_result"
    }
   ],
   "source": [
    "gene_list = pd.read_csv(\"data/input_genes.csv\")\n",
    "gene_list.drop_duplicates(inplace=True)\n",
    "gene_list.head(2)"
   ]
  },
  {
   "cell_type": "code",
   "execution_count": 4,
   "metadata": {},
   "outputs": [
    {
     "data": {
      "text/html": [
       "<div>\n",
       "<style scoped>\n",
       "    .dataframe tbody tr th:only-of-type {\n",
       "        vertical-align: middle;\n",
       "    }\n",
       "\n",
       "    .dataframe tbody tr th {\n",
       "        vertical-align: top;\n",
       "    }\n",
       "\n",
       "    .dataframe thead th {\n",
       "        text-align: right;\n",
       "    }\n",
       "</style>\n",
       "<table border=\"1\" class=\"dataframe\">\n",
       "  <thead>\n",
       "    <tr style=\"text-align: right;\">\n",
       "      <th></th>\n",
       "      <th>identifier</th>\n",
       "      <th>identifier.source</th>\n",
       "      <th>target</th>\n",
       "      <th>target.source</th>\n",
       "    </tr>\n",
       "  </thead>\n",
       "  <tbody>\n",
       "    <tr>\n",
       "      <th>0</th>\n",
       "      <td>DMP1</td>\n",
       "      <td>HGNC</td>\n",
       "      <td>1758</td>\n",
       "      <td>NCBI Gene</td>\n",
       "    </tr>\n",
       "    <tr>\n",
       "      <th>1</th>\n",
       "      <td>PNLIP</td>\n",
       "      <td>HGNC</td>\n",
       "      <td>5406</td>\n",
       "      <td>NCBI Gene</td>\n",
       "    </tr>\n",
       "    <tr>\n",
       "      <th>2</th>\n",
       "      <td>OR4N3P</td>\n",
       "      <td>HGNC</td>\n",
       "      <td>390539</td>\n",
       "      <td>NCBI Gene</td>\n",
       "    </tr>\n",
       "    <tr>\n",
       "      <th>3</th>\n",
       "      <td>SLC6A14</td>\n",
       "      <td>HGNC</td>\n",
       "      <td>11254</td>\n",
       "      <td>NCBI Gene</td>\n",
       "    </tr>\n",
       "    <tr>\n",
       "      <th>4</th>\n",
       "      <td>DEFB105A</td>\n",
       "      <td>HGNC</td>\n",
       "      <td>124906747</td>\n",
       "      <td>NCBI Gene</td>\n",
       "    </tr>\n",
       "  </tbody>\n",
       "</table>\n",
       "</div>"
      ],
      "text/plain": [
       "  identifier identifier.source     target target.source\n",
       "0       DMP1              HGNC       1758     NCBI Gene\n",
       "1      PNLIP              HGNC       5406     NCBI Gene\n",
       "2     OR4N3P              HGNC     390539     NCBI Gene\n",
       "3    SLC6A14              HGNC      11254     NCBI Gene\n",
       "4   DEFB105A              HGNC  124906747     NCBI Gene"
      ]
     },
     "execution_count": 4,
     "metadata": {},
     "output_type": "execute_result"
    }
   ],
   "source": [
    "bridgdb_df, bridgdb_metadata = id_mapper.bridgedb_xref(\n",
    "    identifiers=gene_list,\n",
    "    input_species=\"Human\",\n",
    "    input_datasource=\"HGNC\",\n",
    "    output_datasource=[\"NCBI Gene\"],\n",
    ")\n",
    "bridgdb_df.head()"
   ]
  },
  {
   "cell_type": "code",
   "execution_count": 5,
   "metadata": {},
   "outputs": [
    {
     "data": {
      "text/plain": [
       "((2023, 1), (1594, 4))"
      ]
     },
     "execution_count": 5,
     "metadata": {},
     "output_type": "execute_result"
    }
   ],
   "source": [
    "gene_list.shape, bridgdb_df.shape"
   ]
  },
  {
   "cell_type": "markdown",
   "metadata": {},
   "source": [
    "# TODO: Here add code from the common pipeline"
   ]
  },
  {
   "cell_type": "code",
   "execution_count": 2,
   "metadata": {},
   "outputs": [
    {
     "data": {
      "text/html": [
       "<div>\n",
       "<style scoped>\n",
       "    .dataframe tbody tr th:only-of-type {\n",
       "        vertical-align: middle;\n",
       "    }\n",
       "\n",
       "    .dataframe tbody tr th {\n",
       "        vertical-align: top;\n",
       "    }\n",
       "\n",
       "    .dataframe thead th {\n",
       "        text-align: right;\n",
       "    }\n",
       "</style>\n",
       "<table border=\"1\" class=\"dataframe\">\n",
       "  <thead>\n",
       "    <tr style=\"text-align: right;\">\n",
       "      <th></th>\n",
       "      <th>_id</th>\n",
       "      <th>_labels</th>\n",
       "      <th>Ensembl</th>\n",
       "      <th>diseaseID</th>\n",
       "      <th>drugID</th>\n",
       "      <th>gene_count</th>\n",
       "      <th>id</th>\n",
       "      <th>name</th>\n",
       "      <th>ncbiID</th>\n",
       "      <th>source</th>\n",
       "      <th>subcellular_loc</th>\n",
       "      <th>_start</th>\n",
       "      <th>_end</th>\n",
       "      <th>_type</th>\n",
       "      <th>score</th>\n",
       "      <th>source.1</th>\n",
       "      <th>type</th>\n",
       "      <th>atcClassification</th>\n",
       "      <th>class</th>\n",
       "      <th>uniprotID</th>\n",
       "    </tr>\n",
       "  </thead>\n",
       "  <tbody>\n",
       "    <tr>\n",
       "      <th>0</th>\n",
       "      <td>13440.0</td>\n",
       "      <td>:Protein</td>\n",
       "      <td>ENSG00000166535</td>\n",
       "      <td>NaN</td>\n",
       "      <td>NaN</td>\n",
       "      <td>NaN</td>\n",
       "      <td>ENSG00000166535</td>\n",
       "      <td>A2ML1</td>\n",
       "      <td>144568.0</td>\n",
       "      <td>BridgeDB</td>\n",
       "      <td>NaN</td>\n",
       "      <td>NaN</td>\n",
       "      <td>NaN</td>\n",
       "      <td>NaN</td>\n",
       "      <td>NaN</td>\n",
       "      <td>NaN</td>\n",
       "      <td>NaN</td>\n",
       "      <td>NaN</td>\n",
       "      <td>NaN</td>\n",
       "      <td>NaN</td>\n",
       "    </tr>\n",
       "    <tr>\n",
       "      <th>1</th>\n",
       "      <td>13441.0</td>\n",
       "      <td>:Disease</td>\n",
       "      <td>NaN</td>\n",
       "      <td>C0028326</td>\n",
       "      <td>NaN</td>\n",
       "      <td>NaN</td>\n",
       "      <td>C0028326</td>\n",
       "      <td>Noonan Syndrome</td>\n",
       "      <td>NaN</td>\n",
       "      <td>DisGeNET</td>\n",
       "      <td>NaN</td>\n",
       "      <td>NaN</td>\n",
       "      <td>NaN</td>\n",
       "      <td>NaN</td>\n",
       "      <td>NaN</td>\n",
       "      <td>NaN</td>\n",
       "      <td>NaN</td>\n",
       "      <td>NaN</td>\n",
       "      <td>NaN</td>\n",
       "      <td>NaN</td>\n",
       "    </tr>\n",
       "  </tbody>\n",
       "</table>\n",
       "</div>"
      ],
      "text/plain": [
       "       _id   _labels          Ensembl diseaseID drugID  gene_count  \\\n",
       "0  13440.0  :Protein  ENSG00000166535       NaN    NaN         NaN   \n",
       "1  13441.0  :Disease              NaN  C0028326    NaN         NaN   \n",
       "\n",
       "                id             name    ncbiID    source  subcellular_loc  \\\n",
       "0  ENSG00000166535            A2ML1  144568.0  BridgeDB              NaN   \n",
       "1         C0028326  Noonan Syndrome       NaN  DisGeNET              NaN   \n",
       "\n",
       "   _start  _end _type  score source.1 type atcClassification  class  uniprotID  \n",
       "0     NaN   NaN   NaN    NaN      NaN  NaN               NaN    NaN        NaN  \n",
       "1     NaN   NaN   NaN    NaN      NaN  NaN               NaN    NaN        NaN  "
      ]
     },
     "execution_count": 2,
     "metadata": {},
     "output_type": "execute_result"
    }
   ],
   "source": [
    "kg_data = pd.read_csv(\"post-COVID_graph.csv\")\n",
    "kg_data.head(2)"
   ]
  },
  {
   "cell_type": "code",
   "execution_count": 3,
   "metadata": {},
   "outputs": [
    {
     "name": "stdout",
     "output_type": "stream",
     "text": [
      "Graph file is saved!\n",
      "Node types file is saved!\n",
      "Hierarchy file is saved!\n",
      "Drug-Disease association file is saved!\n",
      "Drug-Disease association file is saved!\n",
      "Drug-Disease association file is saved!\n",
      "Drug-Disease association file is saved!\n",
      "Drug-Disease association file is saved!\n",
      "Drug-Disease association file is saved!\n",
      "Drug-Disease association file is saved!\n",
      "Drug-Disease association file is saved!\n",
      "Drug-Disease association file is saved!\n",
      "Drug-Disease association file is saved!\n"
     ]
    }
   ],
   "source": [
    "generate_files(kg_data)"
   ]
  },
  {
   "cell_type": "code",
   "execution_count": null,
   "metadata": {},
   "outputs": [],
   "source": [
    "dis_gen.save_dis_sim(\"post-COVID_graph.csv\", \"dis_sim.csv\")"
   ]
  },
  {
   "cell_type": "code",
   "execution_count": null,
   "metadata": {},
   "outputs": [],
   "source": [
    "networkf = \"graph.txt\"\n",
    "hierf = \"hierarchy.csv\"\n",
    "simf = \"similarty_graph_drugs.tsv\"\n",
    "cutoff = 0.4"
   ]
  },
  {
   "cell_type": "code",
   "execution_count": null,
   "metadata": {},
   "outputs": [],
   "source": [
    "save_sim_graph(networkf=networkf, hierf=hierf, outputf=simf, cutoff=cutoff)"
   ]
  },
  {
   "cell_type": "code",
   "execution_count": null,
   "metadata": {},
   "outputs": [],
   "source": [
    "# create similarity graph merging disease and drugs\n",
    "dis_sim = pd.read_csv(\"dis_sim.tsv\", sep=\"\\t\", header=None)\n",
    "drug_sim = pd.read_csv(\"similarty_graph_drugs.tsv\", sep=\"\\t\", header=None)"
   ]
  },
  {
   "cell_type": "code",
   "execution_count": null,
   "metadata": {},
   "outputs": [],
   "source": [
    "similarty_graph = pd.concat([dis_sim, drug_sim], ignore_index=True)\n",
    "\n",
    "similarty_graph[4] = range(0, len(similarty_graph))\n",
    "similarty_graph.to_csv(\"similarty_graph.txt\", sep=\"\\t\", index=False, header=False)\n",
    "\n",
    "\n",
    "# Generate node embeddings by teleport-guided randomwalk\n",
    "\n",
    "nodetypef = \"nodetypes.tsv\"\n",
    "embeddingf = \"embedding_file.pkl\"\n",
    "simf = \"similarty_graph.txt\"\n",
    "\n",
    "save_embedding_files(\n",
    "    netf=networkf, sim_netf=hierf, outputf=embeddingf, nodetypef=nodetypef, tp_factor=0.3\n",
    ")\n",
    "\n",
    "\n",
    "# Predict drug-disease association\n",
    "\n",
    "pairf = \"dda_files/dda10.tsv\"\n",
    "modelf = \"results/clf10.pkl\"\n",
    "embeddingf = \"embedding_file.pkl\"\n",
    "\n",
    "predict_dda(embeddingf=embeddingf, pairf=pairf, modelf=modelf)\n",
    "\n",
    "# Calculate drug scores, run only this section to just check the results (running the algorithm is quite time consuming, especially the embedding file)\n",
    "model_folder = \"results\"\n",
    "query_disease = \"C0000000\"  # Post COVID 19 node ID\n",
    "kgfile = \"preprocessed_graph.csv\"\n",
    "find_candidates(kgfile, embeddingf, model_folder, query_disease, candidates_count=20)"
   ]
  }
 ],
 "metadata": {
  "kernelspec": {
   "display_name": "pybiodatafuse",
   "language": "python",
   "name": "pybiodatafuse"
  },
  "language_info": {
   "codemirror_mode": {
    "name": "ipython",
    "version": 3
   },
   "file_extension": ".py",
   "mimetype": "text/x-python",
   "name": "python",
   "nbconvert_exporter": "python",
   "pygments_lexer": "ipython3",
   "version": "3.9.17"
  }
 },
 "nbformat": 4,
 "nbformat_minor": 2
}
